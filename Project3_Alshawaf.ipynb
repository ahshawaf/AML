{
  "nbformat": 4,
  "nbformat_minor": 0,
  "metadata": {
    "colab": {
      "name": "Project3_Alshawaf.ipynb",
      "provenance": [],
      "collapsed_sections": [],
      "toc_visible": true,
      "authorship_tag": "ABX9TyPc1bBX/YTxopf72G5C6Gzx",
      "include_colab_link": true
    },
    "kernelspec": {
      "name": "python3",
      "display_name": "Python 3"
    }
  },
  "cells": [
    {
      "cell_type": "markdown",
      "metadata": {
        "id": "view-in-github",
        "colab_type": "text"
      },
      "source": [
        "<a href=\"https://colab.research.google.com/github/ahshawaf/AML/blob/project3/Project3_Alshawaf.ipynb\" target=\"_parent\"><img src=\"https://colab.research.google.com/assets/colab-badge.svg\" alt=\"Open In Colab\"/></a>"
      ]
    },
    {
      "cell_type": "markdown",
      "metadata": {
        "id": "8xWKs3XbgKAw",
        "colab_type": "text"
      },
      "source": [
        "Author: Ahmad Alshawaf\n",
        "<br>ID: aa726755</br>\n",
        "Course: Advanced Machine Learning - CSC 685\n",
        "<br>Project # 3</br>"
      ]
    },
    {
      "cell_type": "markdown",
      "metadata": {
        "id": "l-O8RNbegUae",
        "colab_type": "text"
      },
      "source": [
        "In this project,we are going to build Multiclass Classifiers, such SVM and KNN using data before and after normalization and preprosessing. To compare the result of accuracy, confusion matrix, precesion and recall and see which one is better than the others."
      ]
    },
    {
      "cell_type": "code",
      "metadata": {
        "id": "19lWglLR0wq2",
        "colab_type": "code",
        "colab": {}
      },
      "source": [
        "#from six.moves import cPickle"
      ],
      "execution_count": 0,
      "outputs": []
    },
    {
      "cell_type": "code",
      "metadata": {
        "id": "w-Iu0RgdiQ1l",
        "colab_type": "code",
        "colab": {}
      },
      "source": [
        "#def load_batch(fpath):\n",
        "#        with open(fpath, 'rb') as f:\n",
        "#            d = cPickle.load(f, encoding='bytes')  \n",
        "#        data = d[b'data']\n",
        "#        labels = d[b'labels']\n",
        "#        data = data.reshape(data.shape[0], 3, 32, 32)\n",
        "#        return data, labels"
      ],
      "execution_count": 0,
      "outputs": []
    },
    {
      "cell_type": "code",
      "metadata": {
        "id": "5yjxv7PviSKL",
        "colab_type": "code",
        "colab": {}
      },
      "source": [
        "#data, labels = unpickle('cifar-10-python.tar.gz')"
      ],
      "execution_count": 0,
      "outputs": []
    },
    {
      "cell_type": "code",
      "metadata": {
        "id": "oY6v1uwfBsse",
        "colab_type": "code",
        "colab": {}
      },
      "source": [
        "import matplotlib.pyplot as plt\n",
        "import keras\n",
        "import pandas as pd\n",
        "import seaborn as sns\n",
        "import numpy as np\n",
        "import time\n",
        "\n",
        "from sklearn.preprocessing import StandardScaler\n",
        "from sklearn.preprocessing import OneHotEncoder\n",
        "from sklearn import svm\n",
        "from sklearn.model_selection import cross_val_score\n",
        "from sklearn.model_selection import cross_val_predict\n",
        "from sklearn.model_selection import train_test_split\n",
        "from sklearn.model_selection import StratifiedKFold\n",
        "from sklearn.metrics import confusion_matrix\n",
        "from sklearn.metrics import classification_report\n",
        "from sklearn.metrics import precision_score\n",
        "from sklearn.metrics import recall_score\n",
        "from sklearn.metrics import precision_recall_curve\n",
        "from sklearn.metrics import roc_curve\n",
        "from sklearn.neighbors import KNeighborsClassifier\n",
        "\n",
        "\n",
        "%matplotlib inline"
      ],
      "execution_count": 0,
      "outputs": []
    },
    {
      "cell_type": "markdown",
      "metadata": {
        "id": "vAhDFHijrItz",
        "colab_type": "text"
      },
      "source": [
        "#Loading Data"
      ]
    },
    {
      "cell_type": "markdown",
      "metadata": {
        "id": "nMc4sp9z7QEB",
        "colab_type": "text"
      },
      "source": [
        "In this step, I loaded data from keras dataset using 'cifar10.load_data()'. This method return two tuples, training and testting tuples."
      ]
    },
    {
      "cell_type": "code",
      "metadata": {
        "id": "ufBRRMwhwV4y",
        "colab_type": "code",
        "colab": {}
      },
      "source": [
        "from keras.datasets import cifar10\n",
        "\n",
        "(x_train,y_train),(x_test,y_test)=cifar10.load_data()"
      ],
      "execution_count": 0,
      "outputs": []
    },
    {
      "cell_type": "markdown",
      "metadata": {
        "id": "lboM865m7x8n",
        "colab_type": "text"
      },
      "source": [
        "#Exploring Data"
      ]
    },
    {
      "cell_type": "markdown",
      "metadata": {
        "id": "tcsdkRHJ8VJF",
        "colab_type": "text"
      },
      "source": [
        "Here we are expolring data by looking at matrix of each set, which helps to prepross and reduce dimensionality. "
      ]
    },
    {
      "cell_type": "code",
      "metadata": {
        "id": "0E9gor4ww2tw",
        "colab_type": "code",
        "outputId": "d5fdadd2-3bbf-442b-f8d9-815a38978f69",
        "colab": {
          "base_uri": "https://localhost:8080/",
          "height": 34
        }
      },
      "source": [
        "x_train.shape"
      ],
      "execution_count": 135,
      "outputs": [
        {
          "output_type": "execute_result",
          "data": {
            "text/plain": [
              "(50000, 32, 32, 3)"
            ]
          },
          "metadata": {
            "tags": []
          },
          "execution_count": 135
        }
      ]
    },
    {
      "cell_type": "markdown",
      "metadata": {
        "id": "BTOrJFNb9PZA",
        "colab_type": "text"
      },
      "source": [
        "As in the above, the x_training set (predictors) has 50,000 rows and each row has 32x32x3, which is the last value (3) is the channel (red,green,blue)"
      ]
    },
    {
      "cell_type": "code",
      "metadata": {
        "id": "jo2KPgVUxAYz",
        "colab_type": "code",
        "outputId": "cd76bdab-2ddc-4051-93b5-66ee62e1f5d3",
        "colab": {
          "base_uri": "https://localhost:8080/",
          "height": 34
        }
      },
      "source": [
        "y_train.shape"
      ],
      "execution_count": 136,
      "outputs": [
        {
          "output_type": "execute_result",
          "data": {
            "text/plain": [
              "(50000, 1)"
            ]
          },
          "metadata": {
            "tags": []
          },
          "execution_count": 136
        }
      ]
    },
    {
      "cell_type": "markdown",
      "metadata": {
        "id": "luU8YhVr_uAn",
        "colab_type": "text"
      },
      "source": [
        "In the above, the y_train set (labels) has 50,000 rows and one column."
      ]
    },
    {
      "cell_type": "markdown",
      "metadata": {
        "id": "lupzm1zkAOJ5",
        "colab_type": "text"
      },
      "source": [
        "The same things, for the below tesing sets"
      ]
    },
    {
      "cell_type": "code",
      "metadata": {
        "id": "OM35A05DxD5g",
        "colab_type": "code",
        "outputId": "76b45b2e-307f-4ecb-e315-46b80b848779",
        "colab": {
          "base_uri": "https://localhost:8080/",
          "height": 34
        }
      },
      "source": [
        "x_test.shape"
      ],
      "execution_count": 137,
      "outputs": [
        {
          "output_type": "execute_result",
          "data": {
            "text/plain": [
              "(10000, 32, 32, 3)"
            ]
          },
          "metadata": {
            "tags": []
          },
          "execution_count": 137
        }
      ]
    },
    {
      "cell_type": "code",
      "metadata": {
        "id": "gEtLDAnuxHHc",
        "colab_type": "code",
        "outputId": "1fddfcf4-ca91-4555-8860-2796e384da63",
        "colab": {
          "base_uri": "https://localhost:8080/",
          "height": 34
        }
      },
      "source": [
        "y_test.shape"
      ],
      "execution_count": 138,
      "outputs": [
        {
          "output_type": "execute_result",
          "data": {
            "text/plain": [
              "(10000, 1)"
            ]
          },
          "metadata": {
            "tags": []
          },
          "execution_count": 138
        }
      ]
    },
    {
      "cell_type": "markdown",
      "metadata": {
        "id": "3pv4iSH2AV4E",
        "colab_type": "text"
      },
      "source": [
        "In the below, let disply the first item in the x_train and y_train set\n"
      ]
    },
    {
      "cell_type": "code",
      "metadata": {
        "id": "NZThvilBxMJO",
        "colab_type": "code",
        "outputId": "31641a99-2d5f-4f7d-a63a-7ad978d65b1f",
        "colab": {
          "base_uri": "https://localhost:8080/",
          "height": 879
        }
      },
      "source": [
        "x_train[0]"
      ],
      "execution_count": 139,
      "outputs": [
        {
          "output_type": "execute_result",
          "data": {
            "text/plain": [
              "array([[[ 59,  62,  63],\n",
              "        [ 43,  46,  45],\n",
              "        [ 50,  48,  43],\n",
              "        ...,\n",
              "        [158, 132, 108],\n",
              "        [152, 125, 102],\n",
              "        [148, 124, 103]],\n",
              "\n",
              "       [[ 16,  20,  20],\n",
              "        [  0,   0,   0],\n",
              "        [ 18,   8,   0],\n",
              "        ...,\n",
              "        [123,  88,  55],\n",
              "        [119,  83,  50],\n",
              "        [122,  87,  57]],\n",
              "\n",
              "       [[ 25,  24,  21],\n",
              "        [ 16,   7,   0],\n",
              "        [ 49,  27,   8],\n",
              "        ...,\n",
              "        [118,  84,  50],\n",
              "        [120,  84,  50],\n",
              "        [109,  73,  42]],\n",
              "\n",
              "       ...,\n",
              "\n",
              "       [[208, 170,  96],\n",
              "        [201, 153,  34],\n",
              "        [198, 161,  26],\n",
              "        ...,\n",
              "        [160, 133,  70],\n",
              "        [ 56,  31,   7],\n",
              "        [ 53,  34,  20]],\n",
              "\n",
              "       [[180, 139,  96],\n",
              "        [173, 123,  42],\n",
              "        [186, 144,  30],\n",
              "        ...,\n",
              "        [184, 148,  94],\n",
              "        [ 97,  62,  34],\n",
              "        [ 83,  53,  34]],\n",
              "\n",
              "       [[177, 144, 116],\n",
              "        [168, 129,  94],\n",
              "        [179, 142,  87],\n",
              "        ...,\n",
              "        [216, 184, 140],\n",
              "        [151, 118,  84],\n",
              "        [123,  92,  72]]], dtype=uint8)"
            ]
          },
          "metadata": {
            "tags": []
          },
          "execution_count": 139
        }
      ]
    },
    {
      "cell_type": "code",
      "metadata": {
        "id": "0qalJUIJ2xb1",
        "colab_type": "code",
        "outputId": "42a5aa8e-799c-4e12-fcdc-9466ef1ed3d8",
        "colab": {
          "base_uri": "https://localhost:8080/",
          "height": 34
        }
      },
      "source": [
        "y_train[0]"
      ],
      "execution_count": 140,
      "outputs": [
        {
          "output_type": "execute_result",
          "data": {
            "text/plain": [
              "array([6], dtype=uint8)"
            ]
          },
          "metadata": {
            "tags": []
          },
          "execution_count": 140
        }
      ]
    },
    {
      "cell_type": "code",
      "metadata": {
        "id": "-d_oV1na3WI3",
        "colab_type": "code",
        "outputId": "7a5262aa-47ee-4285-c1a3-d2ed5f4bb615",
        "colab": {
          "base_uri": "https://localhost:8080/",
          "height": 193
        }
      },
      "source": [
        "y_train[:10]"
      ],
      "execution_count": 141,
      "outputs": [
        {
          "output_type": "execute_result",
          "data": {
            "text/plain": [
              "array([[6],\n",
              "       [9],\n",
              "       [9],\n",
              "       [4],\n",
              "       [1],\n",
              "       [1],\n",
              "       [2],\n",
              "       [7],\n",
              "       [8],\n",
              "       [3]], dtype=uint8)"
            ]
          },
          "metadata": {
            "tags": []
          },
          "execution_count": 141
        }
      ]
    },
    {
      "cell_type": "code",
      "metadata": {
        "id": "WTv4I8Nn4uou",
        "colab_type": "code",
        "outputId": "4244c1c5-1541-4b10-e8aa-b1be71c74054",
        "colab": {
          "base_uri": "https://localhost:8080/",
          "height": 34
        }
      },
      "source": [
        "y_train[4]"
      ],
      "execution_count": 142,
      "outputs": [
        {
          "output_type": "execute_result",
          "data": {
            "text/plain": [
              "array([1], dtype=uint8)"
            ]
          },
          "metadata": {
            "tags": []
          },
          "execution_count": 142
        }
      ]
    },
    {
      "cell_type": "code",
      "metadata": {
        "id": "5Ncfaf4Txno5",
        "colab_type": "code",
        "outputId": "52ba9dc6-7b7a-4970-f6ba-789be700c7f1",
        "colab": {
          "base_uri": "https://localhost:8080/",
          "height": 34
        }
      },
      "source": [
        "y_test[0]"
      ],
      "execution_count": 143,
      "outputs": [
        {
          "output_type": "execute_result",
          "data": {
            "text/plain": [
              "array([3])"
            ]
          },
          "metadata": {
            "tags": []
          },
          "execution_count": 143
        }
      ]
    },
    {
      "cell_type": "code",
      "metadata": {
        "id": "t6zQPfXGDIWa",
        "colab_type": "code",
        "outputId": "9156ef33-d337-4a81-ea50-0280421d942b",
        "colab": {
          "base_uri": "https://localhost:8080/",
          "height": 34
        }
      },
      "source": [
        "y_test[0][0]"
      ],
      "execution_count": 144,
      "outputs": [
        {
          "output_type": "execute_result",
          "data": {
            "text/plain": [
              "3"
            ]
          },
          "metadata": {
            "tags": []
          },
          "execution_count": 144
        }
      ]
    },
    {
      "cell_type": "markdown",
      "metadata": {
        "id": "9wE1XPhdGn4X",
        "colab_type": "text"
      },
      "source": [
        "In the below, the label_classes is to be used to get the name of the class that result of of the y_train or test. For example, if the output of y_train is 3 so the class label (name) is 'cat."
      ]
    },
    {
      "cell_type": "code",
      "metadata": {
        "id": "zrslXC9GBchh",
        "colab_type": "code",
        "colab": {}
      },
      "source": [
        "label_classes=['airplane','automobile','bird','cat','deer','dog','frog','horse','ship','truck']"
      ],
      "execution_count": 0,
      "outputs": []
    },
    {
      "cell_type": "markdown",
      "metadata": {
        "id": "VE0wEQR1AuOm",
        "colab_type": "text"
      },
      "source": [
        "Here, We are showing the first 25 images in the x_train"
      ]
    },
    {
      "cell_type": "code",
      "metadata": {
        "id": "VWsvrJxHymgP",
        "colab_type": "code",
        "outputId": "fe6a3f21-04cd-42ec-bb06-5247287b6213",
        "colab": {
          "base_uri": "https://localhost:8080/",
          "height": 363
        }
      },
      "source": [
        "plt.figure(figsize=(5,6))\n",
        "for i in range(25):\n",
        "  plt.subplot(5,5,i+1)\n",
        "  plt.imshow(x_train[i])\n",
        "  plt.xlabel(label_classes[y_train[i][0]])\n",
        "  plt.grid(False)\n",
        "  plt.xticks([])\n",
        "  plt.yticks([])"
      ],
      "execution_count": 146,
      "outputs": [
        {
          "output_type": "display_data",
          "data": {
            "image/png": "[encoded data removed]",
            "text/plain": [
              "<Figure size 360x432 with 25 Axes>"
            ]
          },
          "metadata": {
            "tags": []
          }
        }
      ]
    },
    {
      "cell_type": "markdown",
      "metadata": {
        "id": "olXquRgumrWh",
        "colab_type": "text"
      },
      "source": [
        "#Normalizing and Preprossessing Data"
      ]
    },
    {
      "cell_type": "markdown",
      "metadata": {
        "id": "A1RMSgEBoDiW",
        "colab_type": "text"
      },
      "source": [
        "Reshaping data from 32x32x3 to 1x3072. So, the first 32x32=1024 pixels are for the 1st channel, the second 1024 pixles are for the 2nd channel and the third 1024 pixels are for the 3rd channel."
      ]
    },
    {
      "cell_type": "code",
      "metadata": {
        "id": "66dnQdyypxGI",
        "colab_type": "code",
        "outputId": "32a7a9e0-07df-4659-bd6d-95143f1a6671",
        "colab": {
          "base_uri": "https://localhost:8080/",
          "height": 34
        }
      },
      "source": [
        "image_size = 32*32*3\n",
        "image_size"
      ],
      "execution_count": 147,
      "outputs": [
        {
          "output_type": "execute_result",
          "data": {
            "text/plain": [
              "3072"
            ]
          },
          "metadata": {
            "tags": []
          },
          "execution_count": 147
        }
      ]
    },
    {
      "cell_type": "markdown",
      "metadata": {
        "id": "Zx5Xr8qYq5VM",
        "colab_type": "text"
      },
      "source": [
        "Reshape x_train set"
      ]
    },
    {
      "cell_type": "code",
      "metadata": {
        "id": "a92lKFgap2LS",
        "colab_type": "code",
        "outputId": "3677ed9d-272b-4fb4-ff40-e503d0b7a854",
        "colab": {
          "base_uri": "https://localhost:8080/",
          "height": 34
        }
      },
      "source": [
        "x_train = x_train.reshape(x_train.shape[0],image_size)\n",
        "x_train.shape"
      ],
      "execution_count": 148,
      "outputs": [
        {
          "output_type": "execute_result",
          "data": {
            "text/plain": [
              "(50000, 3072)"
            ]
          },
          "metadata": {
            "tags": []
          },
          "execution_count": 148
        }
      ]
    },
    {
      "cell_type": "code",
      "metadata": {
        "id": "MCQfI-5UqwLB",
        "colab_type": "code",
        "outputId": "66909932-fc59-45cb-b634-36954e4a9fc5",
        "colab": {
          "base_uri": "https://localhost:8080/",
          "height": 34
        }
      },
      "source": [
        "x_train[0]"
      ],
      "execution_count": 149,
      "outputs": [
        {
          "output_type": "execute_result",
          "data": {
            "text/plain": [
              "array([ 59,  62,  63, ..., 123,  92,  72], dtype=uint8)"
            ]
          },
          "metadata": {
            "tags": []
          },
          "execution_count": 149
        }
      ]
    },
    {
      "cell_type": "markdown",
      "metadata": {
        "id": "oiHkRu-Eq-EI",
        "colab_type": "text"
      },
      "source": [
        "Reshape x_test set"
      ]
    },
    {
      "cell_type": "code",
      "metadata": {
        "id": "VAOfluMZrDqZ",
        "colab_type": "code",
        "outputId": "772a9865-6325-471e-e0bb-ae86a3f921d9",
        "colab": {
          "base_uri": "https://localhost:8080/",
          "height": 34
        }
      },
      "source": [
        "x_test = x_test.reshape(x_test.shape[0],image_size)\n",
        "x_test.shape"
      ],
      "execution_count": 150,
      "outputs": [
        {
          "output_type": "execute_result",
          "data": {
            "text/plain": [
              "(10000, 3072)"
            ]
          },
          "metadata": {
            "tags": []
          },
          "execution_count": 150
        }
      ]
    },
    {
      "cell_type": "code",
      "metadata": {
        "id": "QzJxeNt2rMqG",
        "colab_type": "code",
        "outputId": "9c858200-3dc3-42db-c964-26e4693883ab",
        "colab": {
          "base_uri": "https://localhost:8080/",
          "height": 34
        }
      },
      "source": [
        "x_test[0]"
      ],
      "execution_count": 151,
      "outputs": [
        {
          "output_type": "execute_result",
          "data": {
            "text/plain": [
              "array([158, 112,  49, ...,  21,  67, 110], dtype=uint8)"
            ]
          },
          "metadata": {
            "tags": []
          },
          "execution_count": 151
        }
      ]
    },
    {
      "cell_type": "markdown",
      "metadata": {
        "id": "YgFxWvm5dEqg",
        "colab_type": "text"
      },
      "source": [
        "Make a copy to be used later"
      ]
    },
    {
      "cell_type": "code",
      "metadata": {
        "id": "3-jHfdCtDnwJ",
        "colab_type": "code",
        "colab": {}
      },
      "source": [
        "x_train_original = x_train\n",
        "y_train_original = y_train\n",
        "x_test_original = x_test\n",
        "y_test_original = y_test"
      ],
      "execution_count": 0,
      "outputs": []
    },
    {
      "cell_type": "markdown",
      "metadata": {
        "id": "qkf_myKirbMX",
        "colab_type": "text"
      },
      "source": [
        "encoding labels from normal digits to binary code to high preformance for machine learning. For example, 1 to 0100000000"
      ]
    },
    {
      "cell_type": "code",
      "metadata": {
        "id": "wPyFyRZ5smC5",
        "colab_type": "code",
        "colab": {}
      },
      "source": [
        "#number of category in dataset\n",
        "num_classes = 10"
      ],
      "execution_count": 0,
      "outputs": []
    },
    {
      "cell_type": "code",
      "metadata": {
        "id": "ZJsgYTE0sTzt",
        "colab_type": "code",
        "colab": {}
      },
      "source": [
        "onEncode=OneHotEncoder()\n",
        "y_train = onEncode.fit_transform(y_train)\n",
        "y_test = onEncode.transform(y_test)\n",
        "#y_train = keras.utils.to_categorical(y_train,num_classes)\n",
        "#y_test = keras.utils.to_categorical(y_test,num_classes)"
      ],
      "execution_count": 0,
      "outputs": []
    },
    {
      "cell_type": "code",
      "metadata": {
        "id": "EyQB8qHuUz5k",
        "colab_type": "code",
        "outputId": "04f24e8b-ea2c-4cce-c241-2ae06523223d",
        "colab": {
          "base_uri": "https://localhost:8080/",
          "height": 34
        }
      },
      "source": [
        "y_train.shape"
      ],
      "execution_count": 72,
      "outputs": [
        {
          "output_type": "execute_result",
          "data": {
            "text/plain": [
              "(50000, 10)"
            ]
          },
          "metadata": {
            "tags": []
          },
          "execution_count": 72
        }
      ]
    },
    {
      "cell_type": "code",
      "metadata": {
        "id": "vGqSbE-KU1XX",
        "colab_type": "code",
        "outputId": "83ef365d-29a6-405f-96df-491732e7cb1a",
        "colab": {
          "base_uri": "https://localhost:8080/",
          "height": 34
        }
      },
      "source": [
        "y_test.shape"
      ],
      "execution_count": 73,
      "outputs": [
        {
          "output_type": "execute_result",
          "data": {
            "text/plain": [
              "(10000, 10)"
            ]
          },
          "metadata": {
            "tags": []
          },
          "execution_count": 73
        }
      ]
    },
    {
      "cell_type": "markdown",
      "metadata": {
        "id": "VfS9lf5t5K2D",
        "colab_type": "text"
      },
      "source": [
        "In the below the y_train[0] before encoding was 6. After encoding is 0000001000. Also, for y_train[4] before encoding was 1. After encoding  is 0100000000"
      ]
    },
    {
      "cell_type": "code",
      "metadata": {
        "id": "GTmhrxNz2gl2",
        "colab_type": "code",
        "outputId": "cc08d631-f9f8-4a14-8363-beab557deb7c",
        "colab": {
          "base_uri": "https://localhost:8080/",
          "height": 34
        }
      },
      "source": [
        "y_train[0].toarray()"
      ],
      "execution_count": 74,
      "outputs": [
        {
          "output_type": "execute_result",
          "data": {
            "text/plain": [
              "array([[0., 0., 0., 0., 0., 0., 1., 0., 0., 0.]])"
            ]
          },
          "metadata": {
            "tags": []
          },
          "execution_count": 74
        }
      ]
    },
    {
      "cell_type": "code",
      "metadata": {
        "id": "brYlZwZA4yjN",
        "colab_type": "code",
        "outputId": "8a6de16a-a822-489d-e949-908c6f7b2dd5",
        "colab": {
          "base_uri": "https://localhost:8080/",
          "height": 34
        }
      },
      "source": [
        "y_train[4].toarray()"
      ],
      "execution_count": 75,
      "outputs": [
        {
          "output_type": "execute_result",
          "data": {
            "text/plain": [
              "array([[0., 1., 0., 0., 0., 0., 0., 0., 0., 0.]])"
            ]
          },
          "metadata": {
            "tags": []
          },
          "execution_count": 75
        }
      ]
    },
    {
      "cell_type": "code",
      "metadata": {
        "id": "QnM2VRqcCEZr",
        "colab_type": "code",
        "colab": {}
      },
      "source": [
        ""
      ],
      "execution_count": 0,
      "outputs": []
    },
    {
      "cell_type": "markdown",
      "metadata": {
        "id": "9wmvW_YE2Rl4",
        "colab_type": "text"
      },
      "source": [
        "Now, we need to scale data to be from -1 to 1. This will help to fast performance and high accuracy."
      ]
    },
    {
      "cell_type": "code",
      "metadata": {
        "id": "65QOkjMY3lv0",
        "colab_type": "code",
        "outputId": "00e6fa21-d2fa-44a1-aaaa-3b1c78280189",
        "colab": {
          "base_uri": "https://localhost:8080/",
          "height": 34
        }
      },
      "source": [
        "#Before Scaleing\n",
        "x_train[0]"
      ],
      "execution_count": 76,
      "outputs": [
        {
          "output_type": "execute_result",
          "data": {
            "text/plain": [
              "array([ 59,  62,  63, ..., 123,  92,  72], dtype=uint8)"
            ]
          },
          "metadata": {
            "tags": []
          },
          "execution_count": 76
        }
      ]
    },
    {
      "cell_type": "code",
      "metadata": {
        "id": "rpjsfinA31LD",
        "colab_type": "code",
        "outputId": "a522381c-1f87-4487-a54e-f05fac2bc906",
        "colab": {
          "base_uri": "https://localhost:8080/",
          "height": 34
        }
      },
      "source": [
        "#Before Scaleing\n",
        "x_test[0]"
      ],
      "execution_count": 77,
      "outputs": [
        {
          "output_type": "execute_result",
          "data": {
            "text/plain": [
              "array([158, 112,  49, ...,  21,  67, 110], dtype=uint8)"
            ]
          },
          "metadata": {
            "tags": []
          },
          "execution_count": 77
        }
      ]
    },
    {
      "cell_type": "code",
      "metadata": {
        "id": "zOvulfLA4Cw9",
        "colab_type": "code",
        "colab": {}
      },
      "source": [
        "#Do the Scaleing\n",
        "scl = StandardScaler()\n",
        "x_train = scl.fit_transform(x_train)\n",
        "x_test = scl.fit_transform(x_test)"
      ],
      "execution_count": 0,
      "outputs": []
    },
    {
      "cell_type": "code",
      "metadata": {
        "id": "wZ4gBaRm5cQE",
        "colab_type": "code",
        "outputId": "3417fc42-6aed-4af6-c4ca-438ac16aa1e2",
        "colab": {
          "base_uri": "https://localhost:8080/",
          "height": 52
        }
      },
      "source": [
        "#After Scaleing\n",
        "x_train[0]"
      ],
      "execution_count": 79,
      "outputs": [
        {
          "output_type": "execute_result",
          "data": {
            "text/plain": [
              "array([-0.97682401, -1.01575822, -0.86457067, ..., -0.05604997,\n",
              "       -0.54031962, -0.6414024 ])"
            ]
          },
          "metadata": {
            "tags": []
          },
          "execution_count": 79
        }
      ]
    },
    {
      "cell_type": "code",
      "metadata": {
        "id": "xODj1ZSY5muh",
        "colab_type": "code",
        "outputId": "b1d09314-de0a-4ce2-b2b9-548b77cc2c38",
        "colab": {
          "base_uri": "https://localhost:8080/",
          "height": 52
        }
      },
      "source": [
        "#After Scaleing\n",
        "x_test[0]"
      ],
      "execution_count": 80,
      "outputs": [
        {
          "output_type": "execute_result",
          "data": {
            "text/plain": [
              "array([ 0.37453661, -0.3308194 , -1.04617293, ..., -1.63392961,\n",
              "       -0.95137489, -0.08113244])"
            ]
          },
          "metadata": {
            "tags": []
          },
          "execution_count": 80
        }
      ]
    },
    {
      "cell_type": "markdown",
      "metadata": {
        "id": "-pp-eSQ86Amm",
        "colab_type": "text"
      },
      "source": [
        "#Reducing Dimensionality"
      ]
    },
    {
      "cell_type": "markdown",
      "metadata": {
        "id": "kYwjxFab6mel",
        "colab_type": "text"
      },
      "source": [
        "##PCA using Scikit-Learn\n",
        "\n",
        "we will use the Scikit_learn lib to apply PCA(Principal component analysis) for reducing the dimensiolity of MNIST data set"
      ]
    },
    {
      "cell_type": "markdown",
      "metadata": {
        "id": "bxsXE0Bq7BaV",
        "colab_type": "text"
      },
      "source": [
        "copy the x_train and x_test"
      ]
    },
    {
      "cell_type": "code",
      "metadata": {
        "id": "E7aBkS6162zZ",
        "colab_type": "code",
        "colab": {}
      },
      "source": [
        "pca_x_train = x_train\n",
        "pca_x_test = x_test"
      ],
      "execution_count": 0,
      "outputs": []
    },
    {
      "cell_type": "markdown",
      "metadata": {
        "id": "8zY-sNwC7Zqt",
        "colab_type": "text"
      },
      "source": [
        "Applying PCA, to reduce the mnist from 784 dimension to dimension that produce 95% varience ratio"
      ]
    },
    {
      "cell_type": "code",
      "metadata": {
        "id": "tmAwboTy7JEj",
        "colab_type": "code",
        "colab": {}
      },
      "source": [
        "from sklearn.decomposition import PCA\n",
        "\n",
        "#reduce the mnist from 784 dimension to dimension that produce 95% varience ratio\n",
        "pca_alg = PCA(n_components=0.95)\n",
        "#apply the model and apply the reduction on pca_x_train\n",
        "pca_x_train = pca_alg.fit_transform(pca_x_train)\n",
        "pca_x_test = pca_alg.transform(pca_x_test)"
      ],
      "execution_count": 0,
      "outputs": []
    },
    {
      "cell_type": "markdown",
      "metadata": {
        "id": "79v8I0xwJJPl",
        "colab_type": "text"
      },
      "source": [
        "Confirm the variance ratio"
      ]
    },
    {
      "cell_type": "code",
      "metadata": {
        "id": "nSm9f2UEIDrs",
        "colab_type": "code",
        "outputId": "5bb94565-0eed-4171-88c5-a0e20dbce288",
        "colab": {
          "base_uri": "https://localhost:8080/",
          "height": 34
        }
      },
      "source": [
        "pca_alg.explained_variance_ratio_.sum()"
      ],
      "execution_count": 83,
      "outputs": [
        {
          "output_type": "execute_result",
          "data": {
            "text/plain": [
              "0.9501531268225829"
            ]
          },
          "metadata": {
            "tags": []
          },
          "execution_count": 83
        }
      ]
    },
    {
      "cell_type": "markdown",
      "metadata": {
        "id": "WtFs8mHz83b6",
        "colab_type": "text"
      },
      "source": [
        "check the x_train and x_test after applying PCA"
      ]
    },
    {
      "cell_type": "code",
      "metadata": {
        "id": "pVKULNB09dEQ",
        "colab_type": "code",
        "outputId": "0698b7f9-a6e4-4c33-b8ed-de9bf7f19de9",
        "colab": {
          "base_uri": "https://localhost:8080/",
          "height": 34
        }
      },
      "source": [
        "pca_x_train.shape"
      ],
      "execution_count": 84,
      "outputs": [
        {
          "output_type": "execute_result",
          "data": {
            "text/plain": [
              "(50000, 221)"
            ]
          },
          "metadata": {
            "tags": []
          },
          "execution_count": 84
        }
      ]
    },
    {
      "cell_type": "code",
      "metadata": {
        "id": "AWXNDoUH9glc",
        "colab_type": "code",
        "outputId": "6f5e6a0d-7aa3-4921-c422-3f9963ca2a73",
        "colab": {
          "base_uri": "https://localhost:8080/",
          "height": 34
        }
      },
      "source": [
        "pca_x_test.shape"
      ],
      "execution_count": 85,
      "outputs": [
        {
          "output_type": "execute_result",
          "data": {
            "text/plain": [
              "(10000, 221)"
            ]
          },
          "metadata": {
            "tags": []
          },
          "execution_count": 85
        }
      ]
    },
    {
      "cell_type": "markdown",
      "metadata": {
        "id": "SNNf9nwk9k8F",
        "colab_type": "text"
      },
      "source": [
        "From the above, you notice the x_train and x_test dimension reduced from 1x3072 to 1x221"
      ]
    },
    {
      "cell_type": "markdown",
      "metadata": {
        "id": "LUoB7tnf_ljK",
        "colab_type": "text"
      },
      "source": [
        "##Applying t-SNE Model\n",
        "\n",
        "builing t-SNE to reduce the dimensiolity from 3072 to 221"
      ]
    },
    {
      "cell_type": "markdown",
      "metadata": {
        "id": "ylQpEaTGAGqP",
        "colab_type": "text"
      },
      "source": [
        "Copy the x_train and x_test"
      ]
    },
    {
      "cell_type": "markdown",
      "metadata": {
        "id": "ImPC4Qa-HRTf",
        "colab_type": "text"
      },
      "source": [
        "Because tsne requires long time to process  50,000 rows. So, I going to use 1,000 rows only"
      ]
    },
    {
      "cell_type": "code",
      "metadata": {
        "id": "eOahAuLPAIl3",
        "colab_type": "code",
        "colab": {}
      },
      "source": [
        "tsne_x_train = x_train[:1000]\n",
        "tsne_x_test = x_test[:1000]"
      ],
      "execution_count": 0,
      "outputs": []
    },
    {
      "cell_type": "code",
      "metadata": {
        "id": "wIwR6vJVJcSf",
        "colab_type": "code",
        "outputId": "27985eab-e3a4-4b9f-ea1f-0593fd8d4963",
        "colab": {
          "base_uri": "https://localhost:8080/",
          "height": 34
        }
      },
      "source": [
        "tsne_x_train.shape"
      ],
      "execution_count": 46,
      "outputs": [
        {
          "output_type": "execute_result",
          "data": {
            "text/plain": [
              "(1000, 3072)"
            ]
          },
          "metadata": {
            "tags": []
          },
          "execution_count": 46
        }
      ]
    },
    {
      "cell_type": "code",
      "metadata": {
        "id": "m7AGsqaXJfCD",
        "colab_type": "code",
        "outputId": "c11cc181-648e-4f67-f489-eb607aab6a8a",
        "colab": {
          "base_uri": "https://localhost:8080/",
          "height": 34
        }
      },
      "source": [
        "tsne_x_test.shape"
      ],
      "execution_count": 293,
      "outputs": [
        {
          "output_type": "execute_result",
          "data": {
            "text/plain": [
              "(1000, 3072)"
            ]
          },
          "metadata": {
            "tags": []
          },
          "execution_count": 293
        }
      ]
    },
    {
      "cell_type": "markdown",
      "metadata": {
        "id": "eN_5dqetAUL4",
        "colab_type": "text"
      },
      "source": [
        "Applying t-SNE Module"
      ]
    },
    {
      "cell_type": "code",
      "metadata": {
        "id": "5hDQaKoaAYSp",
        "colab_type": "code",
        "colab": {}
      },
      "source": [
        "from sklearn.manifold import TSNE\n",
        "#Build the tsne to reduce data to 2 dimension\n",
        "tsne_alg = TSNE(n_components=2,random_state=91,perplexity=15)\n",
        "#Apply the tsne model\n",
        "tsne_x_train_reduced = tsne_alg.fit_transform(tsne_x_train)\n",
        "tsne_x_test_reduced = tsne_alg.fit_transform(tsne_x_test)"
      ],
      "execution_count": 0,
      "outputs": []
    },
    {
      "cell_type": "markdown",
      "metadata": {
        "id": "iqba-YeNPbAq",
        "colab_type": "text"
      },
      "source": [
        "check the x_train and x_test after applying tsne"
      ]
    },
    {
      "cell_type": "code",
      "metadata": {
        "id": "dCKitIhWOwTC",
        "colab_type": "code",
        "outputId": "ec3afe8f-6f39-4abb-b573-80d20615c952",
        "colab": {
          "base_uri": "https://localhost:8080/",
          "height": 34
        }
      },
      "source": [
        "tsne_x_train_reduced.shape"
      ],
      "execution_count": 295,
      "outputs": [
        {
          "output_type": "execute_result",
          "data": {
            "text/plain": [
              "(1000, 2)"
            ]
          },
          "metadata": {
            "tags": []
          },
          "execution_count": 295
        }
      ]
    },
    {
      "cell_type": "code",
      "metadata": {
        "id": "nj5-3OaBO0F7",
        "colab_type": "code",
        "outputId": "fad5cdea-6c4e-4e8e-c5fd-c3b985e010d3",
        "colab": {
          "base_uri": "https://localhost:8080/",
          "height": 34
        }
      },
      "source": [
        "tsne_x_test_reduced.shape"
      ],
      "execution_count": 296,
      "outputs": [
        {
          "output_type": "execute_result",
          "data": {
            "text/plain": [
              "(1000, 2)"
            ]
          },
          "metadata": {
            "tags": []
          },
          "execution_count": 296
        }
      ]
    },
    {
      "cell_type": "markdown",
      "metadata": {
        "id": "8ZjeHI6IP__D",
        "colab_type": "text"
      },
      "source": [
        "In the below,a custom method to combine the training data with labels"
      ]
    },
    {
      "cell_type": "code",
      "metadata": {
        "id": "xK3u7zw3PlyK",
        "colab_type": "code",
        "colab": {}
      },
      "source": [
        "def compine(x,y):\n",
        "  x_y = np.vstack((x.T,y)).T\n",
        "  df = pd.DataFrame(data=x_y, columns=('col1','col2','label'))\n",
        "  return df"
      ],
      "execution_count": 0,
      "outputs": []
    },
    {
      "cell_type": "markdown",
      "metadata": {
        "id": "mZpqPE25QBIt",
        "colab_type": "text"
      },
      "source": [
        "In the below, a custom method to generate a scatter figure"
      ]
    },
    {
      "cell_type": "code",
      "metadata": {
        "id": "apEhp8WsP3To",
        "colab_type": "code",
        "colab": {}
      },
      "source": [
        "import matplotlib.patheffects as PathEffects\n",
        "\n",
        "def plot_digits(x,y,title):\n",
        "  tsne_pdf = compine(x,y)\n",
        "  sns.FacetGrid(tsne_pdf,hue='label',size = 6).map(plt.scatter,'col1','col2')\n",
        "  plt.legend(loc='best')\n",
        "  plt.title(title)\n",
        "  plt.show()"
      ],
      "execution_count": 0,
      "outputs": []
    },
    {
      "cell_type": "markdown",
      "metadata": {
        "id": "LpCi7GuyZ7XD",
        "colab_type": "text"
      },
      "source": [
        "t-SNE with perplexity=15"
      ]
    },
    {
      "cell_type": "code",
      "metadata": {
        "id": "Ab03xSKlRYYb",
        "colab_type": "code",
        "outputId": "f6a71938-9a71-4969-8bab-752bd85b559a",
        "colab": {
          "base_uri": "https://localhost:8080/",
          "height": 512
        }
      },
      "source": [
        "plot_digits(tsne_x_train_reduced,y_train_original[:1000,0],'t-SNE with perplexity=15')"
      ],
      "execution_count": 299,
      "outputs": [
        {
          "output_type": "stream",
          "text": [
            "/usr/local/lib/python3.6/dist-packages/seaborn/axisgrid.py:243: UserWarning: The `size` parameter has been renamed to `height`; please update your code.\n",
            "  warnings.warn(msg, UserWarning)\n"
          ],
          "name": "stderr"
        },
        {
          "output_type": "display_data",
          "data": {
            "image/png": "[encoded data removed]",
            "text/plain": [
              "<Figure size 432x432 with 1 Axes>"
            ]
          },
          "metadata": {
            "tags": []
          }
        }
      ]
    },
    {
      "cell_type": "markdown",
      "metadata": {
        "id": "CeON_FKrZrcQ",
        "colab_type": "text"
      },
      "source": [
        "Reapet tsne with preplexity = 25"
      ]
    },
    {
      "cell_type": "code",
      "metadata": {
        "id": "6qG_gzpbZrz8",
        "colab_type": "code",
        "colab": {}
      },
      "source": [
        "#Build the tsne to reduce data to 2 dimension\n",
        "tsne_alg = TSNE(n_components=2,random_state=91,perplexity=25)\n",
        "#Apply the tsne model\n",
        "tsne_x_train_reduced = tsne_alg.fit_transform(tsne_x_train)\n",
        "tsne_x_test_reduced = tsne_alg.fit_transform(tsne_x_test)"
      ],
      "execution_count": 0,
      "outputs": []
    },
    {
      "cell_type": "code",
      "metadata": {
        "id": "s77P0TebZvWt",
        "colab_type": "code",
        "outputId": "7ed0c564-5238-4bbd-d395-a64be83793a6",
        "colab": {
          "base_uri": "https://localhost:8080/",
          "height": 512
        }
      },
      "source": [
        "plot_digits(tsne_x_train_reduced,y_train_original[:1000,0],'Reapet tsne with preplexity = 25')"
      ],
      "execution_count": 301,
      "outputs": [
        {
          "output_type": "stream",
          "text": [
            "/usr/local/lib/python3.6/dist-packages/seaborn/axisgrid.py:243: UserWarning: The `size` parameter has been renamed to `height`; please update your code.\n",
            "  warnings.warn(msg, UserWarning)\n"
          ],
          "name": "stderr"
        },
        {
          "output_type": "display_data",
          "data": {
            "image/png": "[encoded data removed]",
            "text/plain": [
              "<Figure size 432x432 with 1 Axes>"
            ]
          },
          "metadata": {
            "tags": []
          }
        }
      ]
    },
    {
      "cell_type": "markdown",
      "metadata": {
        "id": "gRz0cNvwaXKF",
        "colab_type": "text"
      },
      "source": [
        "Reapet tsne with preplexity = 50"
      ]
    },
    {
      "cell_type": "code",
      "metadata": {
        "id": "T3V_X75Raav8",
        "colab_type": "code",
        "colab": {}
      },
      "source": [
        "#Build the tsne to reduce data to 2 dimension\n",
        "tsne_alg = TSNE(n_components=2,random_state=91,perplexity=50)\n",
        "#Apply the tsne model\n",
        "tsne_x_train_reduced = tsne_alg.fit_transform(tsne_x_train)\n",
        "tsne_x_test_reduced = tsne_alg.fit_transform(tsne_x_test)"
      ],
      "execution_count": 0,
      "outputs": []
    },
    {
      "cell_type": "code",
      "metadata": {
        "id": "TbKAtPsUac8F",
        "colab_type": "code",
        "outputId": "ef85581a-a181-4858-d662-fb1a3c87d41f",
        "colab": {
          "base_uri": "https://localhost:8080/",
          "height": 512
        }
      },
      "source": [
        "plot_digits(tsne_x_train_reduced,y_train_original[:1000,0],'Reapet tsne with preplexity = 50')"
      ],
      "execution_count": 303,
      "outputs": [
        {
          "output_type": "stream",
          "text": [
            "/usr/local/lib/python3.6/dist-packages/seaborn/axisgrid.py:243: UserWarning: The `size` parameter has been renamed to `height`; please update your code.\n",
            "  warnings.warn(msg, UserWarning)\n"
          ],
          "name": "stderr"
        },
        {
          "output_type": "display_data",
          "data": {
            "image/png": "[encoded data removed]",
            "text/plain": [
              "<Figure size 432x432 with 1 Axes>"
            ]
          },
          "metadata": {
            "tags": []
          }
        }
      ]
    },
    {
      "cell_type": "markdown",
      "metadata": {
        "id": "lAATaU8sVDhy",
        "colab_type": "text"
      },
      "source": [
        "#Building Multiclass Classifiers"
      ]
    },
    {
      "cell_type": "markdown",
      "metadata": {
        "id": "3mjMlsGlaORX",
        "colab_type": "text"
      },
      "source": [
        "I am going to use small size of the training data as Classifiers take long time to build the models. Then, I have to stratified data to get all cases with their corresponindg ratio in data"
      ]
    },
    {
      "cell_type": "code",
      "metadata": {
        "id": "z2hX5iJ1aNDc",
        "colab_type": "code",
        "colab": {}
      },
      "source": [
        "x_train_split_90_org,x_test_split_10_org,y_train_split_90_org,y_test_split_10_org = train_test_split(x_train_original,\n",
        "                                                                                                     y_train_original,test_size=0.10,\n",
        "                                                                                                     random_state=120)"
      ],
      "execution_count": 0,
      "outputs": []
    },
    {
      "cell_type": "markdown",
      "metadata": {
        "id": "zuAjY2--dud2",
        "colab_type": "text"
      },
      "source": [
        "Check the returns"
      ]
    },
    {
      "cell_type": "code",
      "metadata": {
        "id": "BJECIodTkfE3",
        "colab_type": "code",
        "outputId": "857478d9-ffdb-4be4-ca55-238772cbef2f",
        "colab": {
          "base_uri": "https://localhost:8080/",
          "height": 34
        }
      },
      "source": [
        "#check if all labels are there\n",
        "np.unique(y_train_split_90_org)"
      ],
      "execution_count": 87,
      "outputs": [
        {
          "output_type": "execute_result",
          "data": {
            "text/plain": [
              "array([0, 1, 2, 3, 4, 5, 6, 7, 8, 9], dtype=uint8)"
            ]
          },
          "metadata": {
            "tags": []
          },
          "execution_count": 87
        }
      ]
    },
    {
      "cell_type": "code",
      "metadata": {
        "id": "dfX9wJM1dyw9",
        "colab_type": "code",
        "outputId": "0f587f29-b1a8-44b3-b311-81bcd0160af9",
        "colab": {
          "base_uri": "https://localhost:8080/",
          "height": 34
        }
      },
      "source": [
        "x_train_split_90_org.shape"
      ],
      "execution_count": 306,
      "outputs": [
        {
          "output_type": "execute_result",
          "data": {
            "text/plain": [
              "(45000, 3072)"
            ]
          },
          "metadata": {
            "tags": []
          },
          "execution_count": 306
        }
      ]
    },
    {
      "cell_type": "code",
      "metadata": {
        "id": "7PrLMcOSd5g_",
        "colab_type": "code",
        "outputId": "b07c1445-54d3-4d89-d1d7-4e23679f8dce",
        "colab": {
          "base_uri": "https://localhost:8080/",
          "height": 34
        }
      },
      "source": [
        "y_train_split_90_org.shape"
      ],
      "execution_count": 307,
      "outputs": [
        {
          "output_type": "execute_result",
          "data": {
            "text/plain": [
              "(45000, 1)"
            ]
          },
          "metadata": {
            "tags": []
          },
          "execution_count": 307
        }
      ]
    },
    {
      "cell_type": "code",
      "metadata": {
        "id": "H67wDSWVd83q",
        "colab_type": "code",
        "outputId": "faed2813-389f-4013-8e83-5a0802907dee",
        "colab": {
          "base_uri": "https://localhost:8080/",
          "height": 34
        }
      },
      "source": [
        "x_test_split_10_org.shape"
      ],
      "execution_count": 308,
      "outputs": [
        {
          "output_type": "execute_result",
          "data": {
            "text/plain": [
              "(5000, 3072)"
            ]
          },
          "metadata": {
            "tags": []
          },
          "execution_count": 308
        }
      ]
    },
    {
      "cell_type": "code",
      "metadata": {
        "id": "N3G29DfkeAoB",
        "colab_type": "code",
        "outputId": "b57551b9-3d7d-4622-e669-487c703e81c8",
        "colab": {
          "base_uri": "https://localhost:8080/",
          "height": 34
        }
      },
      "source": [
        "y_test_split_10_org.shape"
      ],
      "execution_count": 309,
      "outputs": [
        {
          "output_type": "execute_result",
          "data": {
            "text/plain": [
              "(5000, 1)"
            ]
          },
          "metadata": {
            "tags": []
          },
          "execution_count": 309
        }
      ]
    },
    {
      "cell_type": "markdown",
      "metadata": {
        "id": "7xCxZ4F5eE06",
        "colab_type": "text"
      },
      "source": [
        "Do the split again on the x_test_split_10_org and y_test_split_10_org to get 70% for training and 30% for testing"
      ]
    },
    {
      "cell_type": "code",
      "metadata": {
        "id": "Pe_g9Em9ed6R",
        "colab_type": "code",
        "colab": {}
      },
      "source": [
        "x_train_org_small, x_test_org_small,y_train_org_small,y_test_org_small = train_test_split(x_test_split_10_org,y_test_split_10_org,test_size=0.30,\n",
        "                                                                                          random_state=120)"
      ],
      "execution_count": 0,
      "outputs": []
    },
    {
      "cell_type": "markdown",
      "metadata": {
        "id": "60I29L46fmF-",
        "colab_type": "text"
      },
      "source": [
        "check the returns"
      ]
    },
    {
      "cell_type": "code",
      "metadata": {
        "id": "1WexcZ0_kzKW",
        "colab_type": "code",
        "outputId": "3d430006-089c-42a2-c4be-04700f5e8e3b",
        "colab": {
          "base_uri": "https://localhost:8080/",
          "height": 34
        }
      },
      "source": [
        "#check if all labels are there\n",
        "np.unique(y_train_org_small)"
      ],
      "execution_count": 311,
      "outputs": [
        {
          "output_type": "execute_result",
          "data": {
            "text/plain": [
              "array([0, 1, 2, 3, 4, 5, 6, 7, 8, 9], dtype=uint8)"
            ]
          },
          "metadata": {
            "tags": []
          },
          "execution_count": 311
        }
      ]
    },
    {
      "cell_type": "code",
      "metadata": {
        "id": "PqKHbbyqfqQm",
        "colab_type": "code",
        "outputId": "c0e34103-4388-4e01-b14f-c744e9de8ab0",
        "colab": {
          "base_uri": "https://localhost:8080/",
          "height": 34
        }
      },
      "source": [
        "x_train_org_small.shape"
      ],
      "execution_count": 312,
      "outputs": [
        {
          "output_type": "execute_result",
          "data": {
            "text/plain": [
              "(3500, 3072)"
            ]
          },
          "metadata": {
            "tags": []
          },
          "execution_count": 312
        }
      ]
    },
    {
      "cell_type": "code",
      "metadata": {
        "id": "k5U3DLK3fuVX",
        "colab_type": "code",
        "outputId": "378f3fa5-e892-4575-f042-028e4cd4b4a7",
        "colab": {
          "base_uri": "https://localhost:8080/",
          "height": 34
        }
      },
      "source": [
        "y_train_org_small.shape"
      ],
      "execution_count": 313,
      "outputs": [
        {
          "output_type": "execute_result",
          "data": {
            "text/plain": [
              "(3500, 1)"
            ]
          },
          "metadata": {
            "tags": []
          },
          "execution_count": 313
        }
      ]
    },
    {
      "cell_type": "code",
      "metadata": {
        "id": "ujqCyV7Kfx4j",
        "colab_type": "code",
        "outputId": "3f49221f-e9cf-4d28-a466-d8113c1e84a8",
        "colab": {
          "base_uri": "https://localhost:8080/",
          "height": 34
        }
      },
      "source": [
        "x_test_org_small.shape"
      ],
      "execution_count": 314,
      "outputs": [
        {
          "output_type": "execute_result",
          "data": {
            "text/plain": [
              "(1500, 3072)"
            ]
          },
          "metadata": {
            "tags": []
          },
          "execution_count": 314
        }
      ]
    },
    {
      "cell_type": "code",
      "metadata": {
        "id": "cRaTl8fNf4tn",
        "colab_type": "code",
        "outputId": "9d61c453-d19b-4f7c-d98d-29e8169a1928",
        "colab": {
          "base_uri": "https://localhost:8080/",
          "height": 34
        }
      },
      "source": [
        "y_test_org_small.shape"
      ],
      "execution_count": 315,
      "outputs": [
        {
          "output_type": "execute_result",
          "data": {
            "text/plain": [
              "(1500, 1)"
            ]
          },
          "metadata": {
            "tags": []
          },
          "execution_count": 315
        }
      ]
    },
    {
      "cell_type": "code",
      "metadata": {
        "id": "Xn5lLg8cAx2l",
        "colab_type": "code",
        "colab": {}
      },
      "source": [
        "svm_skf_org=StratifiedKFold(n_splits=5,random_state=62,shuffle=True)\n",
        "\n",
        "for train_index, test_index in svm_skf_org.split(x_train_org_small,y_train_org_small):\n",
        "    x_train_temp = x_train_org_small[train_index]\n",
        "    y_train_temp = y_train_org_small[train_index]\n",
        "    x_test_temp = x_train_org_small[test_index]\n",
        "    y_test_temp = y_train_org_small[test_index]\n",
        "x_train_org_small = x_train_temp\n",
        "y_train_org_small = y_train_temp\n",
        "x_test_org_small = x_test_temp\n",
        "y_test_org_small = y_test_temp"
      ],
      "execution_count": 0,
      "outputs": []
    },
    {
      "cell_type": "markdown",
      "metadata": {
        "id": "GkTeGx6KNQiL",
        "colab_type": "text"
      },
      "source": [
        "check results"
      ]
    },
    {
      "cell_type": "code",
      "metadata": {
        "id": "lDeV7PTLQY9-",
        "colab_type": "code",
        "colab": {
          "base_uri": "https://localhost:8080/",
          "height": 34
        },
        "outputId": "8f3f32fb-5b30-4bb7-8e1e-465256db3976"
      },
      "source": [
        "x_train_org_small.shape"
      ],
      "execution_count": 334,
      "outputs": [
        {
          "output_type": "execute_result",
          "data": {
            "text/plain": [
              "(2800, 3072)"
            ]
          },
          "metadata": {
            "tags": []
          },
          "execution_count": 334
        }
      ]
    },
    {
      "cell_type": "code",
      "metadata": {
        "id": "mpv1-caYQcSh",
        "colab_type": "code",
        "colab": {
          "base_uri": "https://localhost:8080/",
          "height": 34
        },
        "outputId": "54afdb73-d99e-4c10-a136-4fac0a02b902"
      },
      "source": [
        "y_train_org_small.shape"
      ],
      "execution_count": 335,
      "outputs": [
        {
          "output_type": "execute_result",
          "data": {
            "text/plain": [
              "(2800, 1)"
            ]
          },
          "metadata": {
            "tags": []
          },
          "execution_count": 335
        }
      ]
    },
    {
      "cell_type": "code",
      "metadata": {
        "id": "_i_EQqA2Qfp0",
        "colab_type": "code",
        "colab": {
          "base_uri": "https://localhost:8080/",
          "height": 34
        },
        "outputId": "923b0bc6-825d-40b3-b4f1-c1a93d839cd2"
      },
      "source": [
        "x_test_org_small.shape"
      ],
      "execution_count": 336,
      "outputs": [
        {
          "output_type": "execute_result",
          "data": {
            "text/plain": [
              "(700, 3072)"
            ]
          },
          "metadata": {
            "tags": []
          },
          "execution_count": 336
        }
      ]
    },
    {
      "cell_type": "code",
      "metadata": {
        "id": "jKzyXUAeQiRH",
        "colab_type": "code",
        "colab": {
          "base_uri": "https://localhost:8080/",
          "height": 34
        },
        "outputId": "fd9a9b20-ebab-4197-80d5-887d75649a39"
      },
      "source": [
        "y_test_org_small.shape"
      ],
      "execution_count": 337,
      "outputs": [
        {
          "output_type": "execute_result",
          "data": {
            "text/plain": [
              "(700, 1)"
            ]
          },
          "metadata": {
            "tags": []
          },
          "execution_count": 337
        }
      ]
    },
    {
      "cell_type": "markdown",
      "metadata": {
        "id": "VcyIBiu6lpty",
        "colab_type": "text"
      },
      "source": [
        "Do the same thing for pca data"
      ]
    },
    {
      "cell_type": "code",
      "metadata": {
        "id": "EIglmRZLltey",
        "colab_type": "code",
        "colab": {}
      },
      "source": [
        "x_train_split_90,x_test_split_10,y_train_split_90,y_test_split_10 = train_test_split(pca_x_train,y_train,test_size=0.10,\n",
        "                                                                                                     random_state=250)"
      ],
      "execution_count": 0,
      "outputs": []
    },
    {
      "cell_type": "code",
      "metadata": {
        "id": "3i4z8oCCl8aJ",
        "colab_type": "code",
        "outputId": "29cb1126-bb80-4e79-81f2-ce9d9c02565d",
        "colab": {
          "base_uri": "https://localhost:8080/",
          "height": 34
        }
      },
      "source": [
        "x_train_split_90.shape"
      ],
      "execution_count": 339,
      "outputs": [
        {
          "output_type": "execute_result",
          "data": {
            "text/plain": [
              "(45000, 221)"
            ]
          },
          "metadata": {
            "tags": []
          },
          "execution_count": 339
        }
      ]
    },
    {
      "cell_type": "code",
      "metadata": {
        "id": "rAIDWrGCmKUt",
        "colab_type": "code",
        "outputId": "645b88ae-fbc0-4a36-a7e0-d7a8ebf1291a",
        "colab": {
          "base_uri": "https://localhost:8080/",
          "height": 34
        }
      },
      "source": [
        "y_train_split_90.shape"
      ],
      "execution_count": 340,
      "outputs": [
        {
          "output_type": "execute_result",
          "data": {
            "text/plain": [
              "(45000, 10)"
            ]
          },
          "metadata": {
            "tags": []
          },
          "execution_count": 340
        }
      ]
    },
    {
      "cell_type": "code",
      "metadata": {
        "id": "IcnZFr4rmQMt",
        "colab_type": "code",
        "outputId": "a9208846-9c6d-4f19-b084-59717f0dd9be",
        "colab": {
          "base_uri": "https://localhost:8080/",
          "height": 34
        }
      },
      "source": [
        "x_test_split_10.shape"
      ],
      "execution_count": 341,
      "outputs": [
        {
          "output_type": "execute_result",
          "data": {
            "text/plain": [
              "(5000, 221)"
            ]
          },
          "metadata": {
            "tags": []
          },
          "execution_count": 341
        }
      ]
    },
    {
      "cell_type": "code",
      "metadata": {
        "id": "QhuPIOBNmU8D",
        "colab_type": "code",
        "outputId": "33ba116e-e5c1-437a-d53c-8214c59e2326",
        "colab": {
          "base_uri": "https://localhost:8080/",
          "height": 34
        }
      },
      "source": [
        "y_test_split_10.shape"
      ],
      "execution_count": 342,
      "outputs": [
        {
          "output_type": "execute_result",
          "data": {
            "text/plain": [
              "(5000, 10)"
            ]
          },
          "metadata": {
            "tags": []
          },
          "execution_count": 342
        }
      ]
    },
    {
      "cell_type": "code",
      "metadata": {
        "id": "ZyaR6cu5mdGs",
        "colab_type": "code",
        "colab": {}
      },
      "source": [
        "x_train_small, x_test_small,y_train_small,y_test_small = train_test_split(x_test_split_10,y_test_split_10,test_size=0.30,\n",
        "                                                                                          random_state=250)"
      ],
      "execution_count": 0,
      "outputs": []
    },
    {
      "cell_type": "code",
      "metadata": {
        "id": "3o0mry8emksl",
        "colab_type": "code",
        "outputId": "74ef5b8c-4d8b-4742-c05b-3d42d562f76d",
        "colab": {
          "base_uri": "https://localhost:8080/",
          "height": 34
        }
      },
      "source": [
        "x_train_small.shape"
      ],
      "execution_count": 344,
      "outputs": [
        {
          "output_type": "execute_result",
          "data": {
            "text/plain": [
              "(3500, 221)"
            ]
          },
          "metadata": {
            "tags": []
          },
          "execution_count": 344
        }
      ]
    },
    {
      "cell_type": "code",
      "metadata": {
        "id": "jp5-_mb6mnXf",
        "colab_type": "code",
        "outputId": "13d8e457-0417-4c3b-d0d2-a59985e8bc97",
        "colab": {
          "base_uri": "https://localhost:8080/",
          "height": 34
        }
      },
      "source": [
        "y_train_small.shape"
      ],
      "execution_count": 345,
      "outputs": [
        {
          "output_type": "execute_result",
          "data": {
            "text/plain": [
              "(3500, 10)"
            ]
          },
          "metadata": {
            "tags": []
          },
          "execution_count": 345
        }
      ]
    },
    {
      "cell_type": "code",
      "metadata": {
        "id": "pQmWDiAhmsFr",
        "colab_type": "code",
        "outputId": "7e450108-283f-43ab-9c33-d5cbd3b52507",
        "colab": {
          "base_uri": "https://localhost:8080/",
          "height": 34
        }
      },
      "source": [
        "x_test_small.shape"
      ],
      "execution_count": 346,
      "outputs": [
        {
          "output_type": "execute_result",
          "data": {
            "text/plain": [
              "(1500, 221)"
            ]
          },
          "metadata": {
            "tags": []
          },
          "execution_count": 346
        }
      ]
    },
    {
      "cell_type": "code",
      "metadata": {
        "id": "U4K6iKc4mxoW",
        "colab_type": "code",
        "outputId": "29f28184-9aec-40d6-a2a4-4e0d69a6ff5f",
        "colab": {
          "base_uri": "https://localhost:8080/",
          "height": 34
        }
      },
      "source": [
        "y_test_small.shape"
      ],
      "execution_count": 347,
      "outputs": [
        {
          "output_type": "execute_result",
          "data": {
            "text/plain": [
              "(1500, 10)"
            ]
          },
          "metadata": {
            "tags": []
          },
          "execution_count": 347
        }
      ]
    },
    {
      "cell_type": "code",
      "metadata": {
        "id": "HXZXTUSOJZBY",
        "colab_type": "code",
        "colab": {}
      },
      "source": [
        "svm_skf_org=StratifiedKFold(n_splits=5,random_state=62,shuffle=True)\n",
        "#Here i inverse the y_train_small fron one hot encoded to its original values\n",
        "for train_index, test_index in svm_skf_org.split(x_train_small,onEncode.inverse_transform(y_train_small)):\n",
        "  x_train_temp = x_train_small[train_index]\n",
        "  y_train_temp = y_train_small[train_index]\n",
        "  x_test_temp = x_train_small[test_index]\n",
        "  y_test_temp = y_train_small[test_index]\n",
        "\n",
        "x_train_small = x_train_temp\n",
        "y_train_small = y_train_temp\n",
        "x_test_small = x_test_temp\n",
        "y_test_small = y_test_temp"
      ],
      "execution_count": 0,
      "outputs": []
    },
    {
      "cell_type": "markdown",
      "metadata": {
        "id": "PTuPR7V0RwOu",
        "colab_type": "text"
      },
      "source": [
        "check the results"
      ]
    },
    {
      "cell_type": "code",
      "metadata": {
        "id": "0j4FKc1fR1KL",
        "colab_type": "code",
        "colab": {
          "base_uri": "https://localhost:8080/",
          "height": 34
        },
        "outputId": "6688e8e1-514d-4698-af4e-3a93edfd2f72"
      },
      "source": [
        "x_train_small.shape"
      ],
      "execution_count": 93,
      "outputs": [
        {
          "output_type": "execute_result",
          "data": {
            "text/plain": [
              "(2800, 221)"
            ]
          },
          "metadata": {
            "tags": []
          },
          "execution_count": 93
        }
      ]
    },
    {
      "cell_type": "code",
      "metadata": {
        "id": "oOBapnl6R5lD",
        "colab_type": "code",
        "colab": {
          "base_uri": "https://localhost:8080/",
          "height": 34
        },
        "outputId": "0ea544e4-763c-4b54-f4e9-06d8bd4165bc"
      },
      "source": [
        "y_train_small.shape"
      ],
      "execution_count": 353,
      "outputs": [
        {
          "output_type": "execute_result",
          "data": {
            "text/plain": [
              "(2800, 10)"
            ]
          },
          "metadata": {
            "tags": []
          },
          "execution_count": 353
        }
      ]
    },
    {
      "cell_type": "code",
      "metadata": {
        "colab_type": "code",
        "outputId": "f38e2473-534b-4974-f14f-6eae9c267bea",
        "id": "gXHyMkobc1E5",
        "colab": {
          "base_uri": "https://localhost:8080/",
          "height": 34
        }
      },
      "source": [
        "x_test_small.shape"
      ],
      "execution_count": 0,
      "outputs": [
        {
          "output_type": "execute_result",
          "data": {
            "text/plain": [
              "(700, 221)"
            ]
          },
          "metadata": {
            "tags": []
          },
          "execution_count": 354
        }
      ]
    },
    {
      "cell_type": "markdown",
      "metadata": {
        "id": "O0u4mez5sV4l",
        "colab_type": "text"
      },
      "source": [
        "##SVM"
      ]
    },
    {
      "cell_type": "markdown",
      "metadata": {
        "id": "NicXZf27VYhO",
        "colab_type": "text"
      },
      "source": [
        "### SVM (Support-Vector Machines) using original data (before normalization)\n"
      ]
    },
    {
      "cell_type": "code",
      "metadata": {
        "id": "DTQYd_lbWGNV",
        "colab_type": "code",
        "outputId": "55e0b5ac-466c-4b1a-d1ee-1bfa6ae41a46",
        "colab": {
          "base_uri": "https://localhost:8080/",
          "height": 90
        }
      },
      "source": [
        "svm_model = svm.SVC(random_state=30)\n",
        "time1 = time.time()\n",
        "svm_model.fit(x_train_org_small,y_train_org_small)\n",
        "time2 = time.time()\n",
        "svm_original_time = time2 - time1\n",
        "print('SVM with original data takes {:.1f} seconds'.format(svm_original_time) )"
      ],
      "execution_count": 183,
      "outputs": [
        {
          "output_type": "stream",
          "text": [
            "/usr/local/lib/python3.6/dist-packages/sklearn/utils/validation.py:760: DataConversionWarning: A column-vector y was passed when a 1d array was expected. Please change the shape of y to (n_samples, ), for example using ravel().\n",
            "  y = column_or_1d(y, warn=True)\n"
          ],
          "name": "stderr"
        },
        {
          "output_type": "stream",
          "text": [
            "SVM with original data takes 54.4 seconds\n"
          ],
          "name": "stdout"
        }
      ]
    },
    {
      "cell_type": "markdown",
      "metadata": {
        "id": "zJXie98lszCy",
        "colab_type": "text"
      },
      "source": [
        "Get the score of the SVM model using original test data."
      ]
    },
    {
      "cell_type": "code",
      "metadata": {
        "id": "6_y43U1bXp4X",
        "colab_type": "code",
        "outputId": "ee66ce7f-93c7-490f-8552-573de24b923f",
        "colab": {
          "base_uri": "https://localhost:8080/",
          "height": 34
        }
      },
      "source": [
        "svm_acc_org=svm_model.score(x_test_org_small,y_test_org_small)\n",
        "svm_acc_org"
      ],
      "execution_count": 184,
      "outputs": [
        {
          "output_type": "execute_result",
          "data": {
            "text/plain": [
              "0.41285714285714287"
            ]
          },
          "metadata": {
            "tags": []
          },
          "execution_count": 184
        }
      ]
    },
    {
      "cell_type": "markdown",
      "metadata": {
        "id": "4o_A73ous-dR",
        "colab_type": "text"
      },
      "source": [
        "Because of the data is small, I used the cross validation with k-flod = 5"
      ]
    },
    {
      "cell_type": "code",
      "metadata": {
        "id": "AgHaJi7fYZbh",
        "colab_type": "code",
        "outputId": "df1f59a5-c83c-4b36-f2b7-a1b6bdf00c5c",
        "colab": {
          "base_uri": "https://localhost:8080/",
          "height": 230
        }
      },
      "source": [
        "cross_val_score(svm_model,x_test_org_small,y_test_org_small,cv=5,scoring='accuracy')"
      ],
      "execution_count": 362,
      "outputs": [
        {
          "output_type": "stream",
          "text": [
            "/usr/local/lib/python3.6/dist-packages/sklearn/utils/validation.py:760: DataConversionWarning: A column-vector y was passed when a 1d array was expected. Please change the shape of y to (n_samples, ), for example using ravel().\n",
            "  y = column_or_1d(y, warn=True)\n",
            "/usr/local/lib/python3.6/dist-packages/sklearn/utils/validation.py:760: DataConversionWarning: A column-vector y was passed when a 1d array was expected. Please change the shape of y to (n_samples, ), for example using ravel().\n",
            "  y = column_or_1d(y, warn=True)\n",
            "/usr/local/lib/python3.6/dist-packages/sklearn/utils/validation.py:760: DataConversionWarning: A column-vector y was passed when a 1d array was expected. Please change the shape of y to (n_samples, ), for example using ravel().\n",
            "  y = column_or_1d(y, warn=True)\n",
            "/usr/local/lib/python3.6/dist-packages/sklearn/utils/validation.py:760: DataConversionWarning: A column-vector y was passed when a 1d array was expected. Please change the shape of y to (n_samples, ), for example using ravel().\n",
            "  y = column_or_1d(y, warn=True)\n",
            "/usr/local/lib/python3.6/dist-packages/sklearn/utils/validation.py:760: DataConversionWarning: A column-vector y was passed when a 1d array was expected. Please change the shape of y to (n_samples, ), for example using ravel().\n",
            "  y = column_or_1d(y, warn=True)\n"
          ],
          "name": "stderr"
        },
        {
          "output_type": "execute_result",
          "data": {
            "text/plain": [
              "array([0.42142857, 0.36428571, 0.35      , 0.3       , 0.32142857])"
            ]
          },
          "metadata": {
            "tags": []
          },
          "execution_count": 362
        }
      ]
    },
    {
      "cell_type": "markdown",
      "metadata": {
        "id": "HIeNBzcCtReR",
        "colab_type": "text"
      },
      "source": [
        "Generating the confusion matrics for the original testing data\n",
        "\n",
        "\n"
      ]
    },
    {
      "cell_type": "code",
      "metadata": {
        "id": "gzPMtPlot9yS",
        "colab_type": "code",
        "colab": {}
      },
      "source": [
        "def plot_confusion_matrix(matrix,title):\n",
        "    fig = plt.figure(figsize=(8,8))\n",
        "    ax = fig.add_subplot(111)\n",
        "    cax = ax.matshow(matrix)\n",
        "    ax.set_title(title)\n",
        "    plt.axis([0,9,0,9])\n",
        "    fig.colorbar(cax)"
      ],
      "execution_count": 0,
      "outputs": []
    },
    {
      "cell_type": "code",
      "metadata": {
        "id": "VLpQ_biYa1gO",
        "colab_type": "code",
        "outputId": "73bc12cc-4d27-4f5a-89ca-a7cef053ce56",
        "colab": {
          "base_uri": "https://localhost:8080/",
          "height": 389
        }
      },
      "source": [
        "svm_pred_org = cross_val_predict(svm_model,x_test_org_small,y_test_org_small,cv=5)\n",
        "svm_conf_matrix=confusion_matrix(y_test_org_small,svm_pred_org)\n",
        "svm_conf_matrix"
      ],
      "execution_count": 185,
      "outputs": [
        {
          "output_type": "stream",
          "text": [
            "/usr/local/lib/python3.6/dist-packages/sklearn/utils/validation.py:760: DataConversionWarning: A column-vector y was passed when a 1d array was expected. Please change the shape of y to (n_samples, ), for example using ravel().\n",
            "  y = column_or_1d(y, warn=True)\n",
            "/usr/local/lib/python3.6/dist-packages/sklearn/utils/validation.py:760: DataConversionWarning: A column-vector y was passed when a 1d array was expected. Please change the shape of y to (n_samples, ), for example using ravel().\n",
            "  y = column_or_1d(y, warn=True)\n",
            "/usr/local/lib/python3.6/dist-packages/sklearn/utils/validation.py:760: DataConversionWarning: A column-vector y was passed when a 1d array was expected. Please change the shape of y to (n_samples, ), for example using ravel().\n",
            "  y = column_or_1d(y, warn=True)\n",
            "/usr/local/lib/python3.6/dist-packages/sklearn/utils/validation.py:760: DataConversionWarning: A column-vector y was passed when a 1d array was expected. Please change the shape of y to (n_samples, ), for example using ravel().\n",
            "  y = column_or_1d(y, warn=True)\n",
            "/usr/local/lib/python3.6/dist-packages/sklearn/utils/validation.py:760: DataConversionWarning: A column-vector y was passed when a 1d array was expected. Please change the shape of y to (n_samples, ), for example using ravel().\n",
            "  y = column_or_1d(y, warn=True)\n"
          ],
          "name": "stderr"
        },
        {
          "output_type": "execute_result",
          "data": {
            "text/plain": [
              "array([[34,  2,  0,  4,  4,  0,  4,  5, 14,  5],\n",
              "       [ 2, 26,  3,  3,  3,  3,  3,  3,  8, 16],\n",
              "       [13,  2,  9,  4, 15,  2, 13,  2,  3,  8],\n",
              "       [ 7,  4,  7, 10,  8, 12, 10,  5,  2,  4],\n",
              "       [ 9,  2,  2,  3, 27,  3, 13,  3,  0,  2],\n",
              "       [ 5,  3,  5, 10,  6, 22,  6,  4,  2,  2],\n",
              "       [ 0,  1, 10,  3, 12,  5, 31,  4,  0,  3],\n",
              "       [ 7,  5,  6,  4, 12,  3,  6, 16,  2, 15],\n",
              "       [11,  2,  3,  3,  0,  3,  2,  1, 35, 12],\n",
              "       [ 7,  9,  1,  3,  0,  1,  4,  4,  7, 36]])"
            ]
          },
          "metadata": {
            "tags": []
          },
          "execution_count": 185
        }
      ]
    },
    {
      "cell_type": "code",
      "metadata": {
        "id": "7IOtoLqevqK3",
        "colab_type": "code",
        "colab": {
          "base_uri": "https://localhost:8080/",
          "height": 472
        },
        "outputId": "030e2563-badc-4288-c4e2-b3b68339f8dc"
      },
      "source": [
        "plot_confusion_matrix(svm_conf_matrix,'confusion matrix for SVM using original data')"
      ],
      "execution_count": 365,
      "outputs": [
        {
          "output_type": "display_data",
          "data": {
            "image/png": "[encoded data removed]",
            "text/plain": [
              "<Figure size 576x576 with 2 Axes>"
            ]
          },
          "metadata": {
            "tags": []
          }
        }
      ]
    },
    {
      "cell_type": "markdown",
      "metadata": {
        "colab_type": "text",
        "id": "wiIKbm4dUGrO"
      },
      "source": [
        "from the above confusion matrix, we notice that low right prection"
      ]
    },
    {
      "cell_type": "markdown",
      "metadata": {
        "id": "27jeWHGYwqEa",
        "colab_type": "text"
      },
      "source": [
        "Now, get the precision and recall"
      ]
    },
    {
      "cell_type": "code",
      "metadata": {
        "id": "O-1r4mYwGcbh",
        "colab_type": "code",
        "colab": {
          "base_uri": "https://localhost:8080/",
          "height": 34
        },
        "outputId": "e674649c-c862-4ad6-c3c1-6e63bb4e88fa"
      },
      "source": [
        "svm_precision_org=precision_score(y_test_org_small,svm_pred_org,average='micro')\n",
        "svm_precision_org"
      ],
      "execution_count": 186,
      "outputs": [
        {
          "output_type": "execute_result",
          "data": {
            "text/plain": [
              "0.3514285714285714"
            ]
          },
          "metadata": {
            "tags": []
          },
          "execution_count": 186
        }
      ]
    },
    {
      "cell_type": "code",
      "metadata": {
        "id": "J3HLrKCkWYG0",
        "colab_type": "code",
        "colab": {
          "base_uri": "https://localhost:8080/",
          "height": 34
        },
        "outputId": "9a01bc19-a0cd-41be-86da-6bace97e6065"
      },
      "source": [
        "svm_recall_org=recall_score(y_test_org_small,svm_pred_org,average='micro')\n",
        "svm_recall_org"
      ],
      "execution_count": 187,
      "outputs": [
        {
          "output_type": "execute_result",
          "data": {
            "text/plain": [
              "0.3514285714285714"
            ]
          },
          "metadata": {
            "tags": []
          },
          "execution_count": 187
        }
      ]
    },
    {
      "cell_type": "markdown",
      "metadata": {
        "id": "c3waX04lw0rj",
        "colab_type": "text"
      },
      "source": [
        "Let genarate the precision and recall\n",
        "\n"
      ]
    },
    {
      "cell_type": "code",
      "metadata": {
        "id": "NDobh79HiDDH",
        "colab_type": "code",
        "colab": {}
      },
      "source": [
        "#Custom method to generate plot fig\n",
        "def plot_precision_vs_recall(precisions, recalls):\n",
        "    plt.plot(recalls, precisions, \"b-\", linewidth=2)\n",
        "    plt.xlabel(\"Recall\", fontsize=16)\n",
        "    plt.ylabel(\"Precision\", fontsize=16)\n",
        "    plt.axis([0, 1, 0, 1])\n",
        "    plt.grid(True) "
      ],
      "execution_count": 0,
      "outputs": []
    },
    {
      "cell_type": "code",
      "metadata": {
        "id": "l8ButzGMfJPv",
        "colab_type": "code",
        "colab": {
          "base_uri": "https://localhost:8080/",
          "height": 405
        },
        "outputId": "09519268-e4e7-4c05-9067-7c2278f06a3b"
      },
      "source": [
        "svm_prec_recall_pos=cross_val_predict(svm_model,x_test_org_small,y_test_org_small,method='predict_proba')"
      ],
      "execution_count": 419,
      "outputs": [
        {
          "output_type": "stream",
          "text": [
            "/usr/local/lib/python3.6/dist-packages/sklearn/utils/validation.py:760: DataConversionWarning: A column-vector y was passed when a 1d array was expected. Please change the shape of y to (n_samples, ), for example using ravel().\n",
            "  y = column_or_1d(y, warn=True)\n",
            "/usr/local/lib/python3.6/dist-packages/sklearn/model_selection/_validation.py:880: RuntimeWarning: Number of classes in training fold (10) does not match total number of classes (1). Results may not be appropriate for your use case. To fix this, use a cross-validation technique resulting in properly stratified folds\n",
            "  RuntimeWarning)\n"
          ],
          "name": "stderr"
        },
        {
          "output_type": "error",
          "ename": "IndexError",
          "evalue": "ignored",
          "traceback": [
            "\u001b[0;31m---------------------------------------------------------------------------\u001b[0m",
            "\u001b[0;31mIndexError\u001b[0m                                Traceback (most recent call last)",
            "\u001b[0;32m<ipython-input-419-28697d88b1b9>\u001b[0m in \u001b[0;36m<module>\u001b[0;34m()\u001b[0m\n\u001b[0;32m----> 1\u001b[0;31m \u001b[0msvm_prec_recall_pos\u001b[0m\u001b[0;34m=\u001b[0m\u001b[0mcross_val_predict\u001b[0m\u001b[0;34m(\u001b[0m\u001b[0msvm_model\u001b[0m\u001b[0;34m,\u001b[0m\u001b[0mx_test_org_small\u001b[0m\u001b[0;34m,\u001b[0m\u001b[0my_test_org_small\u001b[0m\u001b[0;34m,\u001b[0m\u001b[0mmethod\u001b[0m\u001b[0;34m=\u001b[0m\u001b[0;34m'predict_proba'\u001b[0m\u001b[0;34m)\u001b[0m\u001b[0;34m\u001b[0m\u001b[0;34m\u001b[0m\u001b[0m\n\u001b[0m",
            "\u001b[0;32m/usr/local/lib/python3.6/dist-packages/sklearn/model_selection/_validation.py\u001b[0m in \u001b[0;36mcross_val_predict\u001b[0;34m(estimator, X, y, groups, cv, n_jobs, verbose, fit_params, pre_dispatch, method)\u001b[0m\n\u001b[1;32m    753\u001b[0m     prediction_blocks = parallel(delayed(_fit_and_predict)(\n\u001b[1;32m    754\u001b[0m         clone(estimator), X, y, train, test, verbose, fit_params, method)\n\u001b[0;32m--> 755\u001b[0;31m         for train, test in cv.split(X, y, groups))\n\u001b[0m\u001b[1;32m    756\u001b[0m \u001b[0;34m\u001b[0m\u001b[0m\n\u001b[1;32m    757\u001b[0m     \u001b[0;31m# Concatenate the predictions\u001b[0m\u001b[0;34m\u001b[0m\u001b[0;34m\u001b[0m\u001b[0;34m\u001b[0m\u001b[0m\n",
            "\u001b[0;32m/usr/local/lib/python3.6/dist-packages/joblib/parallel.py\u001b[0m in \u001b[0;36m__call__\u001b[0;34m(self, iterable)\u001b[0m\n\u001b[1;32m   1002\u001b[0m             \u001b[0;31m# remaining jobs.\u001b[0m\u001b[0;34m\u001b[0m\u001b[0;34m\u001b[0m\u001b[0;34m\u001b[0m\u001b[0m\n\u001b[1;32m   1003\u001b[0m             \u001b[0mself\u001b[0m\u001b[0;34m.\u001b[0m\u001b[0m_iterating\u001b[0m \u001b[0;34m=\u001b[0m \u001b[0;32mFalse\u001b[0m\u001b[0;34m\u001b[0m\u001b[0;34m\u001b[0m\u001b[0m\n\u001b[0;32m-> 1004\u001b[0;31m             \u001b[0;32mif\u001b[0m \u001b[0mself\u001b[0m\u001b[0;34m.\u001b[0m\u001b[0mdispatch_one_batch\u001b[0m\u001b[0;34m(\u001b[0m\u001b[0miterator\u001b[0m\u001b[0;34m)\u001b[0m\u001b[0;34m:\u001b[0m\u001b[0;34m\u001b[0m\u001b[0;34m\u001b[0m\u001b[0m\n\u001b[0m\u001b[1;32m   1005\u001b[0m                 \u001b[0mself\u001b[0m\u001b[0;34m.\u001b[0m\u001b[0m_iterating\u001b[0m \u001b[0;34m=\u001b[0m \u001b[0mself\u001b[0m\u001b[0;34m.\u001b[0m\u001b[0m_original_iterator\u001b[0m \u001b[0;32mis\u001b[0m \u001b[0;32mnot\u001b[0m \u001b[0;32mNone\u001b[0m\u001b[0;34m\u001b[0m\u001b[0;34m\u001b[0m\u001b[0m\n\u001b[1;32m   1006\u001b[0m \u001b[0;34m\u001b[0m\u001b[0m\n",
            "\u001b[0;32m/usr/local/lib/python3.6/dist-packages/joblib/parallel.py\u001b[0m in \u001b[0;36mdispatch_one_batch\u001b[0;34m(self, iterator)\u001b[0m\n\u001b[1;32m    833\u001b[0m                 \u001b[0;32mreturn\u001b[0m \u001b[0;32mFalse\u001b[0m\u001b[0;34m\u001b[0m\u001b[0;34m\u001b[0m\u001b[0m\n\u001b[1;32m    834\u001b[0m             \u001b[0;32melse\u001b[0m\u001b[0;34m:\u001b[0m\u001b[0;34m\u001b[0m\u001b[0;34m\u001b[0m\u001b[0m\n\u001b[0;32m--> 835\u001b[0;31m                 \u001b[0mself\u001b[0m\u001b[0;34m.\u001b[0m\u001b[0m_dispatch\u001b[0m\u001b[0;34m(\u001b[0m\u001b[0mtasks\u001b[0m\u001b[0;34m)\u001b[0m\u001b[0;34m\u001b[0m\u001b[0;34m\u001b[0m\u001b[0m\n\u001b[0m\u001b[1;32m    836\u001b[0m                 \u001b[0;32mreturn\u001b[0m \u001b[0;32mTrue\u001b[0m\u001b[0;34m\u001b[0m\u001b[0;34m\u001b[0m\u001b[0m\n\u001b[1;32m    837\u001b[0m \u001b[0;34m\u001b[0m\u001b[0m\n",
            "\u001b[0;32m/usr/local/lib/python3.6/dist-packages/joblib/parallel.py\u001b[0m in \u001b[0;36m_dispatch\u001b[0;34m(self, batch)\u001b[0m\n\u001b[1;32m    752\u001b[0m         \u001b[0;32mwith\u001b[0m \u001b[0mself\u001b[0m\u001b[0;34m.\u001b[0m\u001b[0m_lock\u001b[0m\u001b[0;34m:\u001b[0m\u001b[0;34m\u001b[0m\u001b[0;34m\u001b[0m\u001b[0m\n\u001b[1;32m    753\u001b[0m             \u001b[0mjob_idx\u001b[0m \u001b[0;34m=\u001b[0m \u001b[0mlen\u001b[0m\u001b[0;34m(\u001b[0m\u001b[0mself\u001b[0m\u001b[0;34m.\u001b[0m\u001b[0m_jobs\u001b[0m\u001b[0;34m)\u001b[0m\u001b[0;34m\u001b[0m\u001b[0;34m\u001b[0m\u001b[0m\n\u001b[0;32m--> 754\u001b[0;31m             \u001b[0mjob\u001b[0m \u001b[0;34m=\u001b[0m \u001b[0mself\u001b[0m\u001b[0;34m.\u001b[0m\u001b[0m_backend\u001b[0m\u001b[0;34m.\u001b[0m\u001b[0mapply_async\u001b[0m\u001b[0;34m(\u001b[0m\u001b[0mbatch\u001b[0m\u001b[0;34m,\u001b[0m \u001b[0mcallback\u001b[0m\u001b[0;34m=\u001b[0m\u001b[0mcb\u001b[0m\u001b[0;34m)\u001b[0m\u001b[0;34m\u001b[0m\u001b[0;34m\u001b[0m\u001b[0m\n\u001b[0m\u001b[1;32m    755\u001b[0m             \u001b[0;31m# A job can complete so quickly than its callback is\u001b[0m\u001b[0;34m\u001b[0m\u001b[0;34m\u001b[0m\u001b[0;34m\u001b[0m\u001b[0m\n\u001b[1;32m    756\u001b[0m             \u001b[0;31m# called before we get here, causing self._jobs to\u001b[0m\u001b[0;34m\u001b[0m\u001b[0;34m\u001b[0m\u001b[0;34m\u001b[0m\u001b[0m\n",
            "\u001b[0;32m/usr/local/lib/python3.6/dist-packages/joblib/_parallel_backends.py\u001b[0m in \u001b[0;36mapply_async\u001b[0;34m(self, func, callback)\u001b[0m\n\u001b[1;32m    207\u001b[0m     \u001b[0;32mdef\u001b[0m \u001b[0mapply_async\u001b[0m\u001b[0;34m(\u001b[0m\u001b[0mself\u001b[0m\u001b[0;34m,\u001b[0m \u001b[0mfunc\u001b[0m\u001b[0;34m,\u001b[0m \u001b[0mcallback\u001b[0m\u001b[0;34m=\u001b[0m\u001b[0;32mNone\u001b[0m\u001b[0;34m)\u001b[0m\u001b[0;34m:\u001b[0m\u001b[0;34m\u001b[0m\u001b[0;34m\u001b[0m\u001b[0m\n\u001b[1;32m    208\u001b[0m         \u001b[0;34m\"\"\"Schedule a func to be run\"\"\"\u001b[0m\u001b[0;34m\u001b[0m\u001b[0;34m\u001b[0m\u001b[0m\n\u001b[0;32m--> 209\u001b[0;31m         \u001b[0mresult\u001b[0m \u001b[0;34m=\u001b[0m \u001b[0mImmediateResult\u001b[0m\u001b[0;34m(\u001b[0m\u001b[0mfunc\u001b[0m\u001b[0;34m)\u001b[0m\u001b[0;34m\u001b[0m\u001b[0;34m\u001b[0m\u001b[0m\n\u001b[0m\u001b[1;32m    210\u001b[0m         \u001b[0;32mif\u001b[0m \u001b[0mcallback\u001b[0m\u001b[0;34m:\u001b[0m\u001b[0;34m\u001b[0m\u001b[0;34m\u001b[0m\u001b[0m\n\u001b[1;32m    211\u001b[0m             \u001b[0mcallback\u001b[0m\u001b[0;34m(\u001b[0m\u001b[0mresult\u001b[0m\u001b[0;34m)\u001b[0m\u001b[0;34m\u001b[0m\u001b[0;34m\u001b[0m\u001b[0m\n",
            "\u001b[0;32m/usr/local/lib/python3.6/dist-packages/joblib/_parallel_backends.py\u001b[0m in \u001b[0;36m__init__\u001b[0;34m(self, batch)\u001b[0m\n\u001b[1;32m    588\u001b[0m         \u001b[0;31m# Don't delay the application, to avoid keeping the input\u001b[0m\u001b[0;34m\u001b[0m\u001b[0;34m\u001b[0m\u001b[0;34m\u001b[0m\u001b[0m\n\u001b[1;32m    589\u001b[0m         \u001b[0;31m# arguments in memory\u001b[0m\u001b[0;34m\u001b[0m\u001b[0;34m\u001b[0m\u001b[0;34m\u001b[0m\u001b[0m\n\u001b[0;32m--> 590\u001b[0;31m         \u001b[0mself\u001b[0m\u001b[0;34m.\u001b[0m\u001b[0mresults\u001b[0m \u001b[0;34m=\u001b[0m \u001b[0mbatch\u001b[0m\u001b[0;34m(\u001b[0m\u001b[0;34m)\u001b[0m\u001b[0;34m\u001b[0m\u001b[0;34m\u001b[0m\u001b[0m\n\u001b[0m\u001b[1;32m    591\u001b[0m \u001b[0;34m\u001b[0m\u001b[0m\n\u001b[1;32m    592\u001b[0m     \u001b[0;32mdef\u001b[0m \u001b[0mget\u001b[0m\u001b[0;34m(\u001b[0m\u001b[0mself\u001b[0m\u001b[0;34m)\u001b[0m\u001b[0;34m:\u001b[0m\u001b[0;34m\u001b[0m\u001b[0;34m\u001b[0m\u001b[0m\n",
            "\u001b[0;32m/usr/local/lib/python3.6/dist-packages/joblib/parallel.py\u001b[0m in \u001b[0;36m__call__\u001b[0;34m(self)\u001b[0m\n\u001b[1;32m    254\u001b[0m         \u001b[0;32mwith\u001b[0m \u001b[0mparallel_backend\u001b[0m\u001b[0;34m(\u001b[0m\u001b[0mself\u001b[0m\u001b[0;34m.\u001b[0m\u001b[0m_backend\u001b[0m\u001b[0;34m,\u001b[0m \u001b[0mn_jobs\u001b[0m\u001b[0;34m=\u001b[0m\u001b[0mself\u001b[0m\u001b[0;34m.\u001b[0m\u001b[0m_n_jobs\u001b[0m\u001b[0;34m)\u001b[0m\u001b[0;34m:\u001b[0m\u001b[0;34m\u001b[0m\u001b[0;34m\u001b[0m\u001b[0m\n\u001b[1;32m    255\u001b[0m             return [func(*args, **kwargs)\n\u001b[0;32m--> 256\u001b[0;31m                     for func, args, kwargs in self.items]\n\u001b[0m\u001b[1;32m    257\u001b[0m \u001b[0;34m\u001b[0m\u001b[0m\n\u001b[1;32m    258\u001b[0m     \u001b[0;32mdef\u001b[0m \u001b[0m__len__\u001b[0m\u001b[0;34m(\u001b[0m\u001b[0mself\u001b[0m\u001b[0;34m)\u001b[0m\u001b[0;34m:\u001b[0m\u001b[0;34m\u001b[0m\u001b[0;34m\u001b[0m\u001b[0m\n",
            "\u001b[0;32m/usr/local/lib/python3.6/dist-packages/joblib/parallel.py\u001b[0m in \u001b[0;36m<listcomp>\u001b[0;34m(.0)\u001b[0m\n\u001b[1;32m    254\u001b[0m         \u001b[0;32mwith\u001b[0m \u001b[0mparallel_backend\u001b[0m\u001b[0;34m(\u001b[0m\u001b[0mself\u001b[0m\u001b[0;34m.\u001b[0m\u001b[0m_backend\u001b[0m\u001b[0;34m,\u001b[0m \u001b[0mn_jobs\u001b[0m\u001b[0;34m=\u001b[0m\u001b[0mself\u001b[0m\u001b[0;34m.\u001b[0m\u001b[0m_n_jobs\u001b[0m\u001b[0;34m)\u001b[0m\u001b[0;34m:\u001b[0m\u001b[0;34m\u001b[0m\u001b[0;34m\u001b[0m\u001b[0m\n\u001b[1;32m    255\u001b[0m             return [func(*args, **kwargs)\n\u001b[0;32m--> 256\u001b[0;31m                     for func, args, kwargs in self.items]\n\u001b[0m\u001b[1;32m    257\u001b[0m \u001b[0;34m\u001b[0m\u001b[0m\n\u001b[1;32m    258\u001b[0m     \u001b[0;32mdef\u001b[0m \u001b[0m__len__\u001b[0m\u001b[0;34m(\u001b[0m\u001b[0mself\u001b[0m\u001b[0;34m)\u001b[0m\u001b[0;34m:\u001b[0m\u001b[0;34m\u001b[0m\u001b[0;34m\u001b[0m\u001b[0m\n",
            "\u001b[0;32m/usr/local/lib/python3.6/dist-packages/sklearn/model_selection/_validation.py\u001b[0m in \u001b[0;36m_fit_and_predict\u001b[0;34m(estimator, X, y, train, test, verbose, fit_params, method)\u001b[0m\n\u001b[1;32m    852\u001b[0m             \u001b[0mn_classes\u001b[0m \u001b[0;34m=\u001b[0m \u001b[0mlen\u001b[0m\u001b[0;34m(\u001b[0m\u001b[0mset\u001b[0m\u001b[0;34m(\u001b[0m\u001b[0my\u001b[0m\u001b[0;34m)\u001b[0m\u001b[0;34m)\u001b[0m \u001b[0;32mif\u001b[0m \u001b[0my\u001b[0m\u001b[0;34m.\u001b[0m\u001b[0mndim\u001b[0m \u001b[0;34m==\u001b[0m \u001b[0;36m1\u001b[0m \u001b[0;32melse\u001b[0m \u001b[0my\u001b[0m\u001b[0;34m.\u001b[0m\u001b[0mshape\u001b[0m\u001b[0;34m[\u001b[0m\u001b[0;36m1\u001b[0m\u001b[0;34m]\u001b[0m\u001b[0;34m\u001b[0m\u001b[0;34m\u001b[0m\u001b[0m\n\u001b[1;32m    853\u001b[0m             predictions = _enforce_prediction_order(\n\u001b[0;32m--> 854\u001b[0;31m                 estimator.classes_, predictions, n_classes, method)\n\u001b[0m\u001b[1;32m    855\u001b[0m     \u001b[0;32mreturn\u001b[0m \u001b[0mpredictions\u001b[0m\u001b[0;34m,\u001b[0m \u001b[0mtest\u001b[0m\u001b[0;34m\u001b[0m\u001b[0;34m\u001b[0m\u001b[0m\n\u001b[1;32m    856\u001b[0m \u001b[0;34m\u001b[0m\u001b[0m\n",
            "\u001b[0;32m/usr/local/lib/python3.6/dist-packages/sklearn/model_selection/_validation.py\u001b[0m in \u001b[0;36m_enforce_prediction_order\u001b[0;34m(classes, predictions, n_classes, method)\u001b[0m\n\u001b[1;32m    908\u001b[0m                                               \u001b[0mdefault_values\u001b[0m\u001b[0;34m[\u001b[0m\u001b[0mmethod\u001b[0m\u001b[0;34m]\u001b[0m\u001b[0;34m,\u001b[0m\u001b[0;34m\u001b[0m\u001b[0;34m\u001b[0m\u001b[0m\n\u001b[1;32m    909\u001b[0m                                               dtype=predictions.dtype)\n\u001b[0;32m--> 910\u001b[0;31m         \u001b[0mpredictions_for_all_classes\u001b[0m\u001b[0;34m[\u001b[0m\u001b[0;34m:\u001b[0m\u001b[0;34m,\u001b[0m \u001b[0mclasses\u001b[0m\u001b[0;34m]\u001b[0m \u001b[0;34m=\u001b[0m \u001b[0mpredictions\u001b[0m\u001b[0;34m\u001b[0m\u001b[0;34m\u001b[0m\u001b[0m\n\u001b[0m\u001b[1;32m    911\u001b[0m         \u001b[0mpredictions\u001b[0m \u001b[0;34m=\u001b[0m \u001b[0mpredictions_for_all_classes\u001b[0m\u001b[0;34m\u001b[0m\u001b[0;34m\u001b[0m\u001b[0m\n\u001b[1;32m    912\u001b[0m     \u001b[0;32mreturn\u001b[0m \u001b[0mpredictions\u001b[0m\u001b[0;34m\u001b[0m\u001b[0;34m\u001b[0m\u001b[0m\n",
            "\u001b[0;31mIndexError\u001b[0m: index 1 is out of bounds for axis 1 with size 1"
          ]
        }
      ]
    },
    {
      "cell_type": "markdown",
      "metadata": {
        "id": "N_Js3zkYeJo6",
        "colab_type": "text"
      },
      "source": [
        "I could not generate the precision and recal plot. It is always give me an error the above error"
      ]
    },
    {
      "cell_type": "code",
      "metadata": {
        "colab_type": "code",
        "id": "wjs5BUBIcu9C",
        "colab": {
          "base_uri": "https://localhost:8080/",
          "height": 370
        },
        "outputId": "2049cd81-12cc-4bad-a6db-a3541c93d181"
      },
      "source": [
        "\n",
        "from sklearn.metrics import precision_recall_curve\n",
        "\n",
        "precisions, recalls, thresholds = precision_recall_curve(x_test_org_small, y_test_org_small)\n"
      ],
      "execution_count": 417,
      "outputs": [
        {
          "output_type": "error",
          "ename": "ValueError",
          "evalue": "ignored",
          "traceback": [
            "\u001b[0;31m---------------------------------------------------------------------------\u001b[0m",
            "\u001b[0;31mValueError\u001b[0m                                Traceback (most recent call last)",
            "\u001b[0;32m<ipython-input-417-c3cfccf60a0b>\u001b[0m in \u001b[0;36m<module>\u001b[0;34m()\u001b[0m\n\u001b[1;32m      2\u001b[0m \u001b[0;32mfrom\u001b[0m \u001b[0msklearn\u001b[0m\u001b[0;34m.\u001b[0m\u001b[0mmetrics\u001b[0m \u001b[0;32mimport\u001b[0m \u001b[0mprecision_recall_curve\u001b[0m\u001b[0;34m\u001b[0m\u001b[0;34m\u001b[0m\u001b[0m\n\u001b[1;32m      3\u001b[0m \u001b[0;34m\u001b[0m\u001b[0m\n\u001b[0;32m----> 4\u001b[0;31m \u001b[0mprecisions\u001b[0m\u001b[0;34m,\u001b[0m \u001b[0mrecalls\u001b[0m\u001b[0;34m,\u001b[0m \u001b[0mthresholds\u001b[0m \u001b[0;34m=\u001b[0m \u001b[0mprecision_recall_curve\u001b[0m\u001b[0;34m(\u001b[0m\u001b[0mx_test_org_small\u001b[0m\u001b[0;34m,\u001b[0m \u001b[0my_test_org_small\u001b[0m\u001b[0;34m)\u001b[0m\u001b[0;34m\u001b[0m\u001b[0;34m\u001b[0m\u001b[0m\n\u001b[0m",
            "\u001b[0;32m/usr/local/lib/python3.6/dist-packages/sklearn/metrics/_ranking.py\u001b[0m in \u001b[0;36mprecision_recall_curve\u001b[0;34m(y_true, probas_pred, pos_label, sample_weight)\u001b[0m\n\u001b[1;32m    671\u001b[0m     fps, tps, thresholds = _binary_clf_curve(y_true, probas_pred,\n\u001b[1;32m    672\u001b[0m                                              \u001b[0mpos_label\u001b[0m\u001b[0;34m=\u001b[0m\u001b[0mpos_label\u001b[0m\u001b[0;34m,\u001b[0m\u001b[0;34m\u001b[0m\u001b[0;34m\u001b[0m\u001b[0m\n\u001b[0;32m--> 673\u001b[0;31m                                              sample_weight=sample_weight)\n\u001b[0m\u001b[1;32m    674\u001b[0m \u001b[0;34m\u001b[0m\u001b[0m\n\u001b[1;32m    675\u001b[0m     \u001b[0mprecision\u001b[0m \u001b[0;34m=\u001b[0m \u001b[0mtps\u001b[0m \u001b[0;34m/\u001b[0m \u001b[0;34m(\u001b[0m\u001b[0mtps\u001b[0m \u001b[0;34m+\u001b[0m \u001b[0mfps\u001b[0m\u001b[0;34m)\u001b[0m\u001b[0;34m\u001b[0m\u001b[0;34m\u001b[0m\u001b[0m\n",
            "\u001b[0;32m/usr/local/lib/python3.6/dist-packages/sklearn/metrics/_ranking.py\u001b[0m in \u001b[0;36m_binary_clf_curve\u001b[0;34m(y_true, y_score, pos_label, sample_weight)\u001b[0m\n\u001b[1;32m    534\u001b[0m     if not (y_type == \"binary\" or\n\u001b[1;32m    535\u001b[0m             (y_type == \"multiclass\" and pos_label is not None)):\n\u001b[0;32m--> 536\u001b[0;31m         \u001b[0;32mraise\u001b[0m \u001b[0mValueError\u001b[0m\u001b[0;34m(\u001b[0m\u001b[0;34m\"{0} format is not supported\"\u001b[0m\u001b[0;34m.\u001b[0m\u001b[0mformat\u001b[0m\u001b[0;34m(\u001b[0m\u001b[0my_type\u001b[0m\u001b[0;34m)\u001b[0m\u001b[0;34m)\u001b[0m\u001b[0;34m\u001b[0m\u001b[0;34m\u001b[0m\u001b[0m\n\u001b[0m\u001b[1;32m    537\u001b[0m \u001b[0;34m\u001b[0m\u001b[0m\n\u001b[1;32m    538\u001b[0m     \u001b[0mcheck_consistent_length\u001b[0m\u001b[0;34m(\u001b[0m\u001b[0my_true\u001b[0m\u001b[0;34m,\u001b[0m \u001b[0my_score\u001b[0m\u001b[0;34m,\u001b[0m \u001b[0msample_weight\u001b[0m\u001b[0;34m)\u001b[0m\u001b[0;34m\u001b[0m\u001b[0;34m\u001b[0m\u001b[0m\n",
            "\u001b[0;31mValueError\u001b[0m: multiclass-multioutput format is not supported"
          ]
        }
      ]
    },
    {
      "cell_type": "code",
      "metadata": {
        "id": "GRJPR293yYKW",
        "colab_type": "code",
        "colab": {
          "base_uri": "https://localhost:8080/",
          "height": 397
        },
        "outputId": "0c2e40f9-b528-4f6a-967a-d9cb66325680"
      },
      "source": [
        "plt.figure(figsize=(8, 6))\n",
        "plot_precision_vs_recall(precisions_org,recalls_org)\n",
        "plt.plot([0.4368, 0.4368], [0., 0.9], \"r:\")\n",
        "plt.plot([0.0, 0.4368], [0.9, 0.9], \"r:\")\n",
        "plt.plot([0.4368], [0.9], \"ro\")\n",
        "plt.show()"
      ],
      "execution_count": 725,
      "outputs": [
        {
          "output_type": "display_data",
          "data": {
            "image/png": "[encoded data removed]",
            "text/plain": [
              "<Figure size 576x432 with 1 Axes>"
            ]
          },
          "metadata": {
            "tags": []
          }
        }
      ]
    },
    {
      "cell_type": "code",
      "metadata": {
        "id": "SVrkB3Q7iYME",
        "colab_type": "code",
        "colab": {
          "base_uri": "https://localhost:8080/",
          "height": 238
        },
        "outputId": "c34b81a7-b17b-47f6-d289-9ec44b67c88a"
      },
      "source": [
        "recall_90_precision = recalls_org[np.argmax(precisions_org >= 0.30)]\n",
        "threshold_90_precision = thresholds_org[np.argmax(precisions_org >= 0.30)]\n",
        "\n",
        "\n",
        "plt.figure(figsize=(8, 4))                                                                  \n",
        "plot_precision_recall_vs_threshold(precisions_org, recalls_pca, thresholds_pca)\n",
        "plt.plot([threshold_90_precision, threshold_90_precision], [0., 0.9], \"r:\")                 \n",
        "plt.plot([-50000, threshold_90_precision], [0.9, 0.9], \"r:\")                                \n",
        "plt.plot([-50000, threshold_90_precision], [recall_90_precision, recall_90_precision], \"r:\")\n",
        "plt.plot([threshold_90_precision], [0.9], \"ro\")                                             \n",
        "plt.plot([threshold_90_precision], [recall_90_precision], \"ro\")                                                                      \n",
        "plt.show()"
      ],
      "execution_count": 420,
      "outputs": [
        {
          "output_type": "error",
          "ename": "NameError",
          "evalue": "ignored",
          "traceback": [
            "\u001b[0;31m---------------------------------------------------------------------------\u001b[0m",
            "\u001b[0;31mNameError\u001b[0m                                 Traceback (most recent call last)",
            "\u001b[0;32m<ipython-input-420-9556ea7c3b12>\u001b[0m in \u001b[0;36m<module>\u001b[0;34m()\u001b[0m\n\u001b[0;32m----> 1\u001b[0;31m \u001b[0mrecall_90_precision\u001b[0m \u001b[0;34m=\u001b[0m \u001b[0mrecalls_org\u001b[0m\u001b[0;34m[\u001b[0m\u001b[0mnp\u001b[0m\u001b[0;34m.\u001b[0m\u001b[0margmax\u001b[0m\u001b[0;34m(\u001b[0m\u001b[0mprecisions_org\u001b[0m \u001b[0;34m>=\u001b[0m \u001b[0;36m0.30\u001b[0m\u001b[0;34m)\u001b[0m\u001b[0;34m]\u001b[0m\u001b[0;34m\u001b[0m\u001b[0;34m\u001b[0m\u001b[0m\n\u001b[0m\u001b[1;32m      2\u001b[0m \u001b[0mthreshold_90_precision\u001b[0m \u001b[0;34m=\u001b[0m \u001b[0mthresholds_org\u001b[0m\u001b[0;34m[\u001b[0m\u001b[0mnp\u001b[0m\u001b[0;34m.\u001b[0m\u001b[0margmax\u001b[0m\u001b[0;34m(\u001b[0m\u001b[0mprecisions_org\u001b[0m \u001b[0;34m>=\u001b[0m \u001b[0;36m0.30\u001b[0m\u001b[0;34m)\u001b[0m\u001b[0;34m]\u001b[0m\u001b[0;34m\u001b[0m\u001b[0;34m\u001b[0m\u001b[0m\n\u001b[1;32m      3\u001b[0m \u001b[0;34m\u001b[0m\u001b[0m\n\u001b[1;32m      4\u001b[0m \u001b[0;34m\u001b[0m\u001b[0m\n\u001b[1;32m      5\u001b[0m \u001b[0mplt\u001b[0m\u001b[0;34m.\u001b[0m\u001b[0mfigure\u001b[0m\u001b[0;34m(\u001b[0m\u001b[0mfigsize\u001b[0m\u001b[0;34m=\u001b[0m\u001b[0;34m(\u001b[0m\u001b[0;36m8\u001b[0m\u001b[0;34m,\u001b[0m \u001b[0;36m4\u001b[0m\u001b[0;34m)\u001b[0m\u001b[0;34m)\u001b[0m\u001b[0;34m\u001b[0m\u001b[0;34m\u001b[0m\u001b[0m\n",
            "\u001b[0;31mNameError\u001b[0m: name 'recalls_org' is not defined"
          ]
        }
      ]
    },
    {
      "cell_type": "code",
      "metadata": {
        "id": "w13IWXdrgGsA",
        "colab_type": "code",
        "colab": {
          "base_uri": "https://localhost:8080/",
          "height": 202
        },
        "outputId": "a9683c84-7c11-4bf1-c4be-d0f56c3b4783"
      },
      "source": [
        "from sklearn.metrics import roc_curve\n",
        "\n",
        "fpr, tpr, thresholds = roc_curve(x_test_org_small, y_test_org_small,pos_label=svm_prec_recall_pos)"
      ],
      "execution_count": 424,
      "outputs": [
        {
          "output_type": "error",
          "ename": "NameError",
          "evalue": "ignored",
          "traceback": [
            "\u001b[0;31m---------------------------------------------------------------------------\u001b[0m",
            "\u001b[0;31mNameError\u001b[0m                                 Traceback (most recent call last)",
            "\u001b[0;32m<ipython-input-424-0a591c97a9ce>\u001b[0m in \u001b[0;36m<module>\u001b[0;34m()\u001b[0m\n\u001b[1;32m      1\u001b[0m \u001b[0;32mfrom\u001b[0m \u001b[0msklearn\u001b[0m\u001b[0;34m.\u001b[0m\u001b[0mmetrics\u001b[0m \u001b[0;32mimport\u001b[0m \u001b[0mroc_curve\u001b[0m\u001b[0;34m\u001b[0m\u001b[0;34m\u001b[0m\u001b[0m\n\u001b[1;32m      2\u001b[0m \u001b[0;34m\u001b[0m\u001b[0m\n\u001b[0;32m----> 3\u001b[0;31m \u001b[0mfpr\u001b[0m\u001b[0;34m,\u001b[0m \u001b[0mtpr\u001b[0m\u001b[0;34m,\u001b[0m \u001b[0mthresholds\u001b[0m \u001b[0;34m=\u001b[0m \u001b[0mroc_curve\u001b[0m\u001b[0;34m(\u001b[0m\u001b[0mx_test_org_small\u001b[0m\u001b[0;34m,\u001b[0m \u001b[0my_test_org_small\u001b[0m\u001b[0;34m,\u001b[0m\u001b[0mpos_label\u001b[0m\u001b[0;34m=\u001b[0m\u001b[0msvm_prec_recall_pos\u001b[0m\u001b[0;34m)\u001b[0m\u001b[0;34m\u001b[0m\u001b[0;34m\u001b[0m\u001b[0m\n\u001b[0m",
            "\u001b[0;31mNameError\u001b[0m: name 'svm_prec_recall_pos' is not defined"
          ]
        }
      ]
    },
    {
      "cell_type": "code",
      "metadata": {
        "id": "pgrrDmxWgR7J",
        "colab_type": "code",
        "colab": {
          "base_uri": "https://localhost:8080/",
          "height": 255
        },
        "outputId": "3321bbd5-a9c8-4b75-c678-7450cad10287"
      },
      "source": [
        "def plot_roc_curve(fpr, tpr, label=None):\n",
        "    plt.plot(fpr, tpr, linewidth=2, label=label)\n",
        "    plt.plot([0, 1], [0, 1], 'k--') # dashed diagonal\n",
        "    plt.axis([0, 1, 0, 1])                                    # Not shown in the book\n",
        "    plt.xlabel('False Positive Rate (Fall-Out)', fontsize=16) # Not shown\n",
        "    plt.ylabel('True Positive Rate (Recall)', fontsize=16)    # Not shown\n",
        "    plt.grid(True)                                            # Not shown\n",
        "\n",
        "plt.figure(figsize=(8, 6))                         # Not shown\n",
        "plot_roc_curve(fpr, tpr)\n",
        "plt.plot([4.837e-3, 4.837e-3], [0., 0.4368], \"r:\") # Not shown\n",
        "plt.plot([0.0, 4.837e-3], [0.4368, 0.4368], \"r:\")  # Not shown\n",
        "plt.plot([4.837e-3], [0.4368], \"ro\")               # Not shown\n",
        "save_fig(\"roc_curve_plot\")                         # Not shown\n",
        "plt.show()"
      ],
      "execution_count": 423,
      "outputs": [
        {
          "output_type": "error",
          "ename": "NameError",
          "evalue": "ignored",
          "traceback": [
            "\u001b[0;31m---------------------------------------------------------------------------\u001b[0m",
            "\u001b[0;31mNameError\u001b[0m                                 Traceback (most recent call last)",
            "\u001b[0;32m<ipython-input-423-a4b1d6a3d950>\u001b[0m in \u001b[0;36m<module>\u001b[0;34m()\u001b[0m\n\u001b[1;32m      8\u001b[0m \u001b[0;34m\u001b[0m\u001b[0m\n\u001b[1;32m      9\u001b[0m \u001b[0mplt\u001b[0m\u001b[0;34m.\u001b[0m\u001b[0mfigure\u001b[0m\u001b[0;34m(\u001b[0m\u001b[0mfigsize\u001b[0m\u001b[0;34m=\u001b[0m\u001b[0;34m(\u001b[0m\u001b[0;36m8\u001b[0m\u001b[0;34m,\u001b[0m \u001b[0;36m6\u001b[0m\u001b[0;34m)\u001b[0m\u001b[0;34m)\u001b[0m                         \u001b[0;31m# Not shown\u001b[0m\u001b[0;34m\u001b[0m\u001b[0;34m\u001b[0m\u001b[0m\n\u001b[0;32m---> 10\u001b[0;31m \u001b[0mplot_roc_curve\u001b[0m\u001b[0;34m(\u001b[0m\u001b[0mfpr\u001b[0m\u001b[0;34m,\u001b[0m \u001b[0mtpr\u001b[0m\u001b[0;34m)\u001b[0m\u001b[0;34m\u001b[0m\u001b[0;34m\u001b[0m\u001b[0m\n\u001b[0m\u001b[1;32m     11\u001b[0m \u001b[0mplt\u001b[0m\u001b[0;34m.\u001b[0m\u001b[0mplot\u001b[0m\u001b[0;34m(\u001b[0m\u001b[0;34m[\u001b[0m\u001b[0;36m4.837e-3\u001b[0m\u001b[0;34m,\u001b[0m \u001b[0;36m4.837e-3\u001b[0m\u001b[0;34m]\u001b[0m\u001b[0;34m,\u001b[0m \u001b[0;34m[\u001b[0m\u001b[0;36m0.\u001b[0m\u001b[0;34m,\u001b[0m \u001b[0;36m0.4368\u001b[0m\u001b[0;34m]\u001b[0m\u001b[0;34m,\u001b[0m \u001b[0;34m\"r:\"\u001b[0m\u001b[0;34m)\u001b[0m \u001b[0;31m# Not shown\u001b[0m\u001b[0;34m\u001b[0m\u001b[0;34m\u001b[0m\u001b[0m\n\u001b[1;32m     12\u001b[0m \u001b[0mplt\u001b[0m\u001b[0;34m.\u001b[0m\u001b[0mplot\u001b[0m\u001b[0;34m(\u001b[0m\u001b[0;34m[\u001b[0m\u001b[0;36m0.0\u001b[0m\u001b[0;34m,\u001b[0m \u001b[0;36m4.837e-3\u001b[0m\u001b[0;34m]\u001b[0m\u001b[0;34m,\u001b[0m \u001b[0;34m[\u001b[0m\u001b[0;36m0.4368\u001b[0m\u001b[0;34m,\u001b[0m \u001b[0;36m0.4368\u001b[0m\u001b[0;34m]\u001b[0m\u001b[0;34m,\u001b[0m \u001b[0;34m\"r:\"\u001b[0m\u001b[0;34m)\u001b[0m  \u001b[0;31m# Not shown\u001b[0m\u001b[0;34m\u001b[0m\u001b[0;34m\u001b[0m\u001b[0m\n",
            "\u001b[0;31mNameError\u001b[0m: name 'fpr' is not defined"
          ]
        },
        {
          "output_type": "display_data",
          "data": {
            "text/plain": [
              "<Figure size 576x432 with 0 Axes>"
            ]
          },
          "metadata": {
            "tags": []
          }
        }
      ]
    },
    {
      "cell_type": "code",
      "metadata": {
        "id": "hQ_0kb5vCFTA",
        "colab_type": "code",
        "colab": {
          "base_uri": "https://localhost:8080/",
          "height": 316
        },
        "outputId": "3a97b41a-f62f-4481-893f-35ae204f86a6"
      },
      "source": [
        "print(classification_report(y_test_org_small,svm_pred_org))"
      ],
      "execution_count": 425,
      "outputs": [
        {
          "output_type": "stream",
          "text": [
            "              precision    recall  f1-score   support\n",
            "\n",
            "           0       0.36      0.47      0.41        72\n",
            "           1       0.46      0.37      0.41        70\n",
            "           2       0.20      0.13      0.15        71\n",
            "           3       0.21      0.14      0.17        69\n",
            "           4       0.31      0.42      0.36        64\n",
            "           5       0.41      0.34      0.37        65\n",
            "           6       0.34      0.45      0.39        69\n",
            "           7       0.34      0.21      0.26        76\n",
            "           8       0.48      0.49      0.48        72\n",
            "           9       0.35      0.50      0.41        72\n",
            "\n",
            "    accuracy                           0.35       700\n",
            "   macro avg       0.35      0.35      0.34       700\n",
            "weighted avg       0.35      0.35      0.34       700\n",
            "\n"
          ],
          "name": "stdout"
        }
      ]
    },
    {
      "cell_type": "markdown",
      "metadata": {
        "id": "lrli1QLUnPvf",
        "colab_type": "text"
      },
      "source": [
        "###SVM (Support-Verctor Machines) using data after normalization"
      ]
    },
    {
      "cell_type": "code",
      "metadata": {
        "id": "NL4yMdxHsxZa",
        "colab_type": "code",
        "outputId": "3a580d25-bf47-436d-bbf3-b59844cc4792",
        "colab": {
          "base_uri": "https://localhost:8080/",
          "height": 140
        }
      },
      "source": [
        "y_train_small_reversed=onEncode.inverse_transform(y_train_small)\n",
        "y_train_small_reversed"
      ],
      "execution_count": 161,
      "outputs": [
        {
          "output_type": "execute_result",
          "data": {
            "text/plain": [
              "array([[2],\n",
              "       [5],\n",
              "       [3],\n",
              "       ...,\n",
              "       [3],\n",
              "       [7],\n",
              "       [9]], dtype=uint8)"
            ]
          },
          "metadata": {
            "tags": []
          },
          "execution_count": 161
        }
      ]
    },
    {
      "cell_type": "code",
      "metadata": {
        "id": "wx19fr2atNwq",
        "colab_type": "code",
        "colab": {}
      },
      "source": [
        "y_test_small_reversed = onEncode.inverse_transform(y_test_small)"
      ],
      "execution_count": 0,
      "outputs": []
    },
    {
      "cell_type": "code",
      "metadata": {
        "id": "D8rfdDN5nb3d",
        "colab_type": "code",
        "outputId": "b4befa25-0514-441d-8a73-27037b1f8a5c",
        "colab": {
          "base_uri": "https://localhost:8080/",
          "height": 72
        }
      },
      "source": [
        "\n",
        "svm_model = svm.SVC(random_state=123)\n",
        "time1 = time.time()\n",
        "svm_model.fit(x_train_small,y_train_small_reversed)\n",
        "time2 = time.time()\n",
        "svm_time = time2 - time1\n"
      ],
      "execution_count": 188,
      "outputs": [
        {
          "output_type": "stream",
          "text": [
            "/usr/local/lib/python3.6/dist-packages/sklearn/utils/validation.py:760: DataConversionWarning: A column-vector y was passed when a 1d array was expected. Please change the shape of y to (n_samples, ), for example using ravel().\n",
            "  y = column_or_1d(y, warn=True)\n"
          ],
          "name": "stderr"
        }
      ]
    },
    {
      "cell_type": "code",
      "metadata": {
        "id": "z15Y8f62QxWv",
        "colab_type": "code",
        "outputId": "d36ec7f7-876e-4762-8d73-328c5d62025a",
        "colab": {
          "base_uri": "https://localhost:8080/",
          "height": 34
        }
      },
      "source": [
        "print('SVM with PCA data takes {:.1f} seconds'.format(svm_original_time) )"
      ],
      "execution_count": 431,
      "outputs": [
        {
          "output_type": "stream",
          "text": [
            "SVM with PCA data takes 56.0 seconds\n"
          ],
          "name": "stdout"
        }
      ]
    },
    {
      "cell_type": "code",
      "metadata": {
        "id": "W4FqA0TFREbs",
        "colab_type": "code",
        "outputId": "17b4e3b6-09f4-424c-c337-aa7b44e3dd15",
        "colab": {
          "base_uri": "https://localhost:8080/",
          "height": 34
        }
      },
      "source": [
        "svm_acc_pca=svm_model.score(x_test_small,y_test_small_reversed)\n",
        "svm_acc_pca"
      ],
      "execution_count": 189,
      "outputs": [
        {
          "output_type": "execute_result",
          "data": {
            "text/plain": [
              "0.41"
            ]
          },
          "metadata": {
            "tags": []
          },
          "execution_count": 189
        }
      ]
    },
    {
      "cell_type": "code",
      "metadata": {
        "id": "q8zFzEcRwQSQ",
        "colab_type": "code",
        "outputId": "6e48ec59-1425-4578-9c80-99dff14a5fe4",
        "colab": {
          "base_uri": "https://localhost:8080/",
          "height": 230
        }
      },
      "source": [
        "cross_val_score(svm_model,x_test_small,y_test_small_reversed,cv=5)"
      ],
      "execution_count": 433,
      "outputs": [
        {
          "output_type": "stream",
          "text": [
            "/usr/local/lib/python3.6/dist-packages/sklearn/utils/validation.py:760: DataConversionWarning: A column-vector y was passed when a 1d array was expected. Please change the shape of y to (n_samples, ), for example using ravel().\n",
            "  y = column_or_1d(y, warn=True)\n",
            "/usr/local/lib/python3.6/dist-packages/sklearn/utils/validation.py:760: DataConversionWarning: A column-vector y was passed when a 1d array was expected. Please change the shape of y to (n_samples, ), for example using ravel().\n",
            "  y = column_or_1d(y, warn=True)\n",
            "/usr/local/lib/python3.6/dist-packages/sklearn/utils/validation.py:760: DataConversionWarning: A column-vector y was passed when a 1d array was expected. Please change the shape of y to (n_samples, ), for example using ravel().\n",
            "  y = column_or_1d(y, warn=True)\n",
            "/usr/local/lib/python3.6/dist-packages/sklearn/utils/validation.py:760: DataConversionWarning: A column-vector y was passed when a 1d array was expected. Please change the shape of y to (n_samples, ), for example using ravel().\n",
            "  y = column_or_1d(y, warn=True)\n",
            "/usr/local/lib/python3.6/dist-packages/sklearn/utils/validation.py:760: DataConversionWarning: A column-vector y was passed when a 1d array was expected. Please change the shape of y to (n_samples, ), for example using ravel().\n",
            "  y = column_or_1d(y, warn=True)\n"
          ],
          "name": "stderr"
        },
        {
          "output_type": "execute_result",
          "data": {
            "text/plain": [
              "array([0.30714286, 0.38571429, 0.32857143, 0.29285714, 0.32857143])"
            ]
          },
          "metadata": {
            "tags": []
          },
          "execution_count": 433
        }
      ]
    },
    {
      "cell_type": "code",
      "metadata": {
        "id": "mK811HkBwcBv",
        "colab_type": "code",
        "outputId": "9b47a26a-011a-4523-d19a-8abf751e96e0",
        "colab": {
          "base_uri": "https://localhost:8080/",
          "height": 178
        }
      },
      "source": [
        "svm_pred_pca = cross_val_predict(svm_model,x_test_small,y_test_small_reversed,cv=4)\n",
        "svm_conf_mat_pca = confusion_matrix(y_test_small_reversed,svm_pred_pca  )"
      ],
      "execution_count": 190,
      "outputs": [
        {
          "output_type": "stream",
          "text": [
            "/usr/local/lib/python3.6/dist-packages/sklearn/utils/validation.py:760: DataConversionWarning: A column-vector y was passed when a 1d array was expected. Please change the shape of y to (n_samples, ), for example using ravel().\n",
            "  y = column_or_1d(y, warn=True)\n",
            "/usr/local/lib/python3.6/dist-packages/sklearn/utils/validation.py:760: DataConversionWarning: A column-vector y was passed when a 1d array was expected. Please change the shape of y to (n_samples, ), for example using ravel().\n",
            "  y = column_or_1d(y, warn=True)\n",
            "/usr/local/lib/python3.6/dist-packages/sklearn/utils/validation.py:760: DataConversionWarning: A column-vector y was passed when a 1d array was expected. Please change the shape of y to (n_samples, ), for example using ravel().\n",
            "  y = column_or_1d(y, warn=True)\n",
            "/usr/local/lib/python3.6/dist-packages/sklearn/utils/validation.py:760: DataConversionWarning: A column-vector y was passed when a 1d array was expected. Please change the shape of y to (n_samples, ), for example using ravel().\n",
            "  y = column_or_1d(y, warn=True)\n"
          ],
          "name": "stderr"
        }
      ]
    },
    {
      "cell_type": "code",
      "metadata": {
        "id": "LpCvQDYPhTU_",
        "colab_type": "code",
        "colab": {
          "base_uri": "https://localhost:8080/",
          "height": 476
        },
        "outputId": "1ced9cfb-d45c-4982-9f6b-d38162af3144"
      },
      "source": [
        "plot_confusion_matrix(svm_conf_mat_pca,'Confusion matrix for SVM using PCA data')"
      ],
      "execution_count": 444,
      "outputs": [
        {
          "output_type": "display_data",
          "data": {
            "image/png": "[encoded data removed]",
            "text/plain": [
              "<Figure size 576x576 with 2 Axes>"
            ]
          },
          "metadata": {
            "tags": []
          }
        }
      ]
    },
    {
      "cell_type": "code",
      "metadata": {
        "id": "sk__oWneZOkH",
        "colab_type": "code",
        "colab": {
          "base_uri": "https://localhost:8080/",
          "height": 34
        },
        "outputId": "9239f560-60a7-410a-957d-0be8efa43021"
      },
      "source": [
        "svm_precision_pca=precision_score(y_test_small_reversed,svm_pred_pca,average='micro')\n",
        "svm_precision_pca"
      ],
      "execution_count": 191,
      "outputs": [
        {
          "output_type": "execute_result",
          "data": {
            "text/plain": [
              "0.3314285714285714"
            ]
          },
          "metadata": {
            "tags": []
          },
          "execution_count": 191
        }
      ]
    },
    {
      "cell_type": "code",
      "metadata": {
        "id": "jJaAjvRlZPZ9",
        "colab_type": "code",
        "colab": {
          "base_uri": "https://localhost:8080/",
          "height": 34
        },
        "outputId": "ce178112-a7d6-443d-91bf-bdf431cd3cb7"
      },
      "source": [
        "svm_recall_pca=recall_score(y_test_small_reversed,svm_pred_pca,average='micro')\n",
        "svm_recall_pca"
      ],
      "execution_count": 192,
      "outputs": [
        {
          "output_type": "execute_result",
          "data": {
            "text/plain": [
              "0.3314285714285714"
            ]
          },
          "metadata": {
            "tags": []
          },
          "execution_count": 192
        }
      ]
    },
    {
      "cell_type": "code",
      "metadata": {
        "id": "oRKS3ZUYd6k-",
        "colab_type": "code",
        "colab": {
          "base_uri": "https://localhost:8080/",
          "height": 314
        },
        "outputId": "d54115b4-ebc8-4e61-adc2-0b77633d3f68"
      },
      "source": [
        "precisions_pca,recalls_pca,thresholds_pca=precision_recall_curve(y_test_small_reversed,svm_pred_pca)"
      ],
      "execution_count": 438,
      "outputs": [
        {
          "output_type": "error",
          "ename": "ValueError",
          "evalue": "ignored",
          "traceback": [
            "\u001b[0;31m---------------------------------------------------------------------------\u001b[0m",
            "\u001b[0;31mValueError\u001b[0m                                Traceback (most recent call last)",
            "\u001b[0;32m<ipython-input-438-9750d7a2f7d0>\u001b[0m in \u001b[0;36m<module>\u001b[0;34m()\u001b[0m\n\u001b[0;32m----> 1\u001b[0;31m \u001b[0mprecisions_pca\u001b[0m\u001b[0;34m,\u001b[0m\u001b[0mrecalls_pca\u001b[0m\u001b[0;34m,\u001b[0m\u001b[0mthresholds_pca\u001b[0m\u001b[0;34m=\u001b[0m\u001b[0mprecision_recall_curve\u001b[0m\u001b[0;34m(\u001b[0m\u001b[0my_test_small_reversed\u001b[0m\u001b[0;34m,\u001b[0m\u001b[0msvm_pred_pca\u001b[0m\u001b[0;34m)\u001b[0m\u001b[0;34m\u001b[0m\u001b[0;34m\u001b[0m\u001b[0m\n\u001b[0m",
            "\u001b[0;32m/usr/local/lib/python3.6/dist-packages/sklearn/metrics/_ranking.py\u001b[0m in \u001b[0;36mprecision_recall_curve\u001b[0;34m(y_true, probas_pred, pos_label, sample_weight)\u001b[0m\n\u001b[1;32m    671\u001b[0m     fps, tps, thresholds = _binary_clf_curve(y_true, probas_pred,\n\u001b[1;32m    672\u001b[0m                                              \u001b[0mpos_label\u001b[0m\u001b[0;34m=\u001b[0m\u001b[0mpos_label\u001b[0m\u001b[0;34m,\u001b[0m\u001b[0;34m\u001b[0m\u001b[0;34m\u001b[0m\u001b[0m\n\u001b[0;32m--> 673\u001b[0;31m                                              sample_weight=sample_weight)\n\u001b[0m\u001b[1;32m    674\u001b[0m \u001b[0;34m\u001b[0m\u001b[0m\n\u001b[1;32m    675\u001b[0m     \u001b[0mprecision\u001b[0m \u001b[0;34m=\u001b[0m \u001b[0mtps\u001b[0m \u001b[0;34m/\u001b[0m \u001b[0;34m(\u001b[0m\u001b[0mtps\u001b[0m \u001b[0;34m+\u001b[0m \u001b[0mfps\u001b[0m\u001b[0;34m)\u001b[0m\u001b[0;34m\u001b[0m\u001b[0;34m\u001b[0m\u001b[0m\n",
            "\u001b[0;32m/usr/local/lib/python3.6/dist-packages/sklearn/metrics/_ranking.py\u001b[0m in \u001b[0;36m_binary_clf_curve\u001b[0;34m(y_true, y_score, pos_label, sample_weight)\u001b[0m\n\u001b[1;32m    534\u001b[0m     if not (y_type == \"binary\" or\n\u001b[1;32m    535\u001b[0m             (y_type == \"multiclass\" and pos_label is not None)):\n\u001b[0;32m--> 536\u001b[0;31m         \u001b[0;32mraise\u001b[0m \u001b[0mValueError\u001b[0m\u001b[0;34m(\u001b[0m\u001b[0;34m\"{0} format is not supported\"\u001b[0m\u001b[0;34m.\u001b[0m\u001b[0mformat\u001b[0m\u001b[0;34m(\u001b[0m\u001b[0my_type\u001b[0m\u001b[0;34m)\u001b[0m\u001b[0;34m)\u001b[0m\u001b[0;34m\u001b[0m\u001b[0;34m\u001b[0m\u001b[0m\n\u001b[0m\u001b[1;32m    537\u001b[0m \u001b[0;34m\u001b[0m\u001b[0m\n\u001b[1;32m    538\u001b[0m     \u001b[0mcheck_consistent_length\u001b[0m\u001b[0;34m(\u001b[0m\u001b[0my_true\u001b[0m\u001b[0;34m,\u001b[0m \u001b[0my_score\u001b[0m\u001b[0;34m,\u001b[0m \u001b[0msample_weight\u001b[0m\u001b[0;34m)\u001b[0m\u001b[0;34m\u001b[0m\u001b[0;34m\u001b[0m\u001b[0m\n",
            "\u001b[0;31mValueError\u001b[0m: multiclass format is not supported"
          ]
        }
      ]
    },
    {
      "cell_type": "code",
      "metadata": {
        "id": "5IdE5Wd5fIFr",
        "colab_type": "code",
        "colab": {
          "base_uri": "https://localhost:8080/",
          "height": 238
        },
        "outputId": "f1af17c1-680f-4e4c-b065-3bff1a42f910"
      },
      "source": [
        "recall_90_precision = recalls_pca[np.argmax(precisions_pca >= 0.90)]\n",
        "threshold_90_precision = thresholds_pca[np.argmax(precisions_pca >= 0.90)]\n",
        "\n",
        "\n",
        "plt.figure(figsize=(8, 4))                                                                  \n",
        "plot_precision_recall_vs_threshold(precisions_pca, recalls_pca, thresholds_pca)\n",
        "plt.plot([threshold_90_precision, threshold_90_precision], [0., 0.9], \"r:\")                 \n",
        "plt.plot([-50000, threshold_90_precision], [0.9, 0.9], \"r:\")                                \n",
        "plt.plot([-50000, threshold_90_precision], [recall_90_precision, recall_90_precision], \"r:\")\n",
        "plt.plot([threshold_90_precision], [0.9], \"ro\")                                             \n",
        "plt.plot([threshold_90_precision], [recall_90_precision], \"ro\")                                                                      \n",
        "plt.show()"
      ],
      "execution_count": 439,
      "outputs": [
        {
          "output_type": "error",
          "ename": "IndexError",
          "evalue": "ignored",
          "traceback": [
            "\u001b[0;31m---------------------------------------------------------------------------\u001b[0m",
            "\u001b[0;31mIndexError\u001b[0m                                Traceback (most recent call last)",
            "\u001b[0;32m<ipython-input-439-fa89cca11fb1>\u001b[0m in \u001b[0;36m<module>\u001b[0;34m()\u001b[0m\n\u001b[1;32m      1\u001b[0m \u001b[0mrecall_90_precision\u001b[0m \u001b[0;34m=\u001b[0m \u001b[0mrecalls_pca\u001b[0m\u001b[0;34m[\u001b[0m\u001b[0mnp\u001b[0m\u001b[0;34m.\u001b[0m\u001b[0margmax\u001b[0m\u001b[0;34m(\u001b[0m\u001b[0mprecisions_pca\u001b[0m \u001b[0;34m>=\u001b[0m \u001b[0;36m0.90\u001b[0m\u001b[0;34m)\u001b[0m\u001b[0;34m]\u001b[0m\u001b[0;34m\u001b[0m\u001b[0;34m\u001b[0m\u001b[0m\n\u001b[0;32m----> 2\u001b[0;31m \u001b[0mthreshold_90_precision\u001b[0m \u001b[0;34m=\u001b[0m \u001b[0mthresholds_pca\u001b[0m\u001b[0;34m[\u001b[0m\u001b[0mnp\u001b[0m\u001b[0;34m.\u001b[0m\u001b[0margmax\u001b[0m\u001b[0;34m(\u001b[0m\u001b[0mprecisions_pca\u001b[0m \u001b[0;34m>=\u001b[0m \u001b[0;36m0.90\u001b[0m\u001b[0;34m)\u001b[0m\u001b[0;34m]\u001b[0m\u001b[0;34m\u001b[0m\u001b[0;34m\u001b[0m\u001b[0m\n\u001b[0m\u001b[1;32m      3\u001b[0m \u001b[0;34m\u001b[0m\u001b[0m\n\u001b[1;32m      4\u001b[0m \u001b[0;34m\u001b[0m\u001b[0m\n\u001b[1;32m      5\u001b[0m \u001b[0mplt\u001b[0m\u001b[0;34m.\u001b[0m\u001b[0mfigure\u001b[0m\u001b[0;34m(\u001b[0m\u001b[0mfigsize\u001b[0m\u001b[0;34m=\u001b[0m\u001b[0;34m(\u001b[0m\u001b[0;36m8\u001b[0m\u001b[0;34m,\u001b[0m \u001b[0;36m4\u001b[0m\u001b[0;34m)\u001b[0m\u001b[0;34m)\u001b[0m\u001b[0;34m\u001b[0m\u001b[0;34m\u001b[0m\u001b[0m\n",
            "\u001b[0;31mIndexError\u001b[0m: index 1 is out of bounds for axis 0 with size 1"
          ]
        }
      ]
    },
    {
      "cell_type": "code",
      "metadata": {
        "id": "GGLXrmnpBxqn",
        "colab_type": "code",
        "colab": {
          "base_uri": "https://localhost:8080/",
          "height": 316
        },
        "outputId": "df0ea09b-bb56-4cce-8a72-486d59eeb88e"
      },
      "source": [
        "print(classification_report(y_test_small_reversed,svm_pred_pca))"
      ],
      "execution_count": 441,
      "outputs": [
        {
          "output_type": "stream",
          "text": [
            "              precision    recall  f1-score   support\n",
            "\n",
            "           0       0.36      0.38      0.37        74\n",
            "           1       0.36      0.43      0.39        70\n",
            "           2       0.24      0.17      0.20        70\n",
            "           3       0.22      0.12      0.16        65\n",
            "           4       0.28      0.37      0.32        73\n",
            "           5       0.31      0.25      0.27        65\n",
            "           6       0.30      0.44      0.35        71\n",
            "           7       0.21      0.07      0.11        71\n",
            "           8       0.43      0.51      0.46        69\n",
            "           9       0.44      0.56      0.49        72\n",
            "\n",
            "    accuracy                           0.33       700\n",
            "   macro avg       0.31      0.33      0.31       700\n",
            "weighted avg       0.31      0.33      0.31       700\n",
            "\n"
          ],
          "name": "stdout"
        }
      ]
    },
    {
      "cell_type": "markdown",
      "metadata": {
        "id": "SvS6yu1nZ-YX",
        "colab_type": "text"
      },
      "source": [
        "###SVM using original data vs data after normalization"
      ]
    },
    {
      "cell_type": "code",
      "metadata": {
        "id": "CReoTYxJw_f3",
        "colab_type": "code",
        "outputId": "847f00e1-fd49-4f7c-bae9-534e5f8d6081",
        "colab": {
          "base_uri": "https://localhost:8080/",
          "height": 281
        }
      },
      "source": [
        "fig, h=plt.subplots()\n",
        "h1=h.bar('Original',svm_original_time,label='Original')\n",
        "h2=h.bar('Normalized',svm_time,label='Normalized')\n",
        "h.set_title('SVM takes for orignal data vs normalized data for'+\n",
        "            ' data of size {}'.format(x_train_small.shape[0]))\n",
        "plt.legend(loc='best')\n",
        "plt.ylabel('sec')\n",
        "plt.show()"
      ],
      "execution_count": 445,
      "outputs": [
        {
          "output_type": "display_data",
          "data": {
            "image/png": "[encoded data removed]",
            "text/plain": [
              "<Figure size 432x288 with 1 Axes>"
            ]
          },
          "metadata": {
            "tags": []
          }
        }
      ]
    },
    {
      "cell_type": "code",
      "metadata": {
        "id": "bDgsHEwwaw3X",
        "colab_type": "code",
        "colab": {
          "base_uri": "https://localhost:8080/",
          "height": 281
        },
        "outputId": "e807b327-c9d7-4c93-e7e2-25aee3578029"
      },
      "source": [
        "fig, h=plt.subplots()\n",
        "h1=h.bar('Original',svm_acc_org*100,label='Original')\n",
        "h2=h.bar('Normalized',svm_acc_pca*100,label='Normalized')\n",
        "h.set_title('SVM Accurecy for orignal data vs normalized data for'+\n",
        "            ' data of size {}'.format(x_train_small.shape[0]))\n",
        "plt.legend(loc='best')\n",
        "plt.ylabel('%')\n",
        "plt.show()"
      ],
      "execution_count": 446,
      "outputs": [
        {
          "output_type": "display_data",
          "data": {
            "image/png": "[encoded data removed]",
            "text/plain": [
              "<Figure size 432x288 with 1 Axes>"
            ]
          },
          "metadata": {
            "tags": []
          }
        }
      ]
    },
    {
      "cell_type": "code",
      "metadata": {
        "id": "vkas0ojxbQPG",
        "colab_type": "code",
        "colab": {
          "base_uri": "https://localhost:8080/",
          "height": 281
        },
        "outputId": "772dd5be-3947-4e5b-df04-ab00254cbc9f"
      },
      "source": [
        "fig, h=plt.subplots()\n",
        "h1=h.bar('Original-Percision',svm_precision_org*100,label='Original-Percision')\n",
        "h2=h.bar('Normalized-Percision',svm_precision_pca*100,label='Normalized-Percision')\n",
        "h3=h.bar('Original-Recall',svm_recall_org*100,label='Original-Recall')\n",
        "h4=h.bar('Normalized-Recall',svm_recall_pca*100,label='Normalized-Recall')\n",
        "h.set_title('SVM Precision and Recall for orignal data vs normalized data for'+\n",
        "            ' data of size {}'.format(x_train_small.shape[0]))\n",
        "\n",
        "plt.legend(loc='center')\n",
        "plt.ylabel('%')\n",
        "plt.autoscale()\n",
        "\n",
        "plt.show()"
      ],
      "execution_count": 447,
      "outputs": [
        {
          "output_type": "display_data",
          "data": {
            "image/png": "[encoded data removed]",
            "text/plain": [
              "<Figure size 432x288 with 1 Axes>"
            ]
          },
          "metadata": {
            "tags": []
          }
        }
      ]
    },
    {
      "cell_type": "markdown",
      "metadata": {
        "id": "ZXg0quO_JX0t",
        "colab_type": "text"
      },
      "source": [
        "###Conclusion"
      ]
    },
    {
      "cell_type": "markdown",
      "metadata": {
        "id": "ixqgPYgzJhtu",
        "colab_type": "text"
      },
      "source": [
        "After building SVM model using original data (before normalization) and PCA data (after normalization). The accuracy, precision and recall for both data are almost same 41%, 35% and 32% . However, the PCA data has less features than original and gives us the same result.So, normalization makes building model faster"
      ]
    },
    {
      "cell_type": "markdown",
      "metadata": {
        "id": "H8YWh3VOK9nR",
        "colab_type": "text"
      },
      "source": [
        "##KNN classifier"
      ]
    },
    {
      "cell_type": "markdown",
      "metadata": {
        "id": "mOVhTxzzMTRC",
        "colab_type": "text"
      },
      "source": [
        "###KNN using original data"
      ]
    },
    {
      "cell_type": "markdown",
      "metadata": {
        "id": "vqWaUhOdMkAS",
        "colab_type": "text"
      },
      "source": [
        "here, I am going to build knn model using the original data small that we use in svm to quickly build the model"
      ]
    },
    {
      "cell_type": "code",
      "metadata": {
        "id": "-YIX2s-IMhZC",
        "colab_type": "code",
        "colab": {
          "base_uri": "https://localhost:8080/",
          "height": 90
        },
        "outputId": "8c3a97ff-241e-4978-9f5b-ca93bdbfe2a7"
      },
      "source": [
        "knn_model = KNeighborsClassifier(n_neighbors=6)\n",
        "time1= time.time()\n",
        "knn_model.fit(x_train_org_small,y_train_org_small)\n",
        "time2 = time.time()\n",
        "knn_time_org = time2-time1\n",
        "print('KNN with original data takes {:.1f} seconds'.format(knn_time_org))"
      ],
      "execution_count": 217,
      "outputs": [
        {
          "output_type": "stream",
          "text": [
            "/usr/local/lib/python3.6/dist-packages/ipykernel_launcher.py:3: DataConversionWarning: A column-vector y was passed when a 1d array was expected. Please change the shape of y to (n_samples, ), for example using ravel().\n",
            "  This is separate from the ipykernel package so we can avoid doing imports until\n"
          ],
          "name": "stderr"
        },
        {
          "output_type": "stream",
          "text": [
            "KNN with original data takes 1.2 seconds\n"
          ],
          "name": "stdout"
        }
      ]
    },
    {
      "cell_type": "markdown",
      "metadata": {
        "id": "ot0p7PdqP-Oo",
        "colab_type": "text"
      },
      "source": [
        "Get the accuracy of the KNN"
      ]
    },
    {
      "cell_type": "code",
      "metadata": {
        "id": "fCQ-ia7UPxag",
        "colab_type": "code",
        "colab": {
          "base_uri": "https://localhost:8080/",
          "height": 34
        },
        "outputId": "bb99ebd5-ae73-4de0-a143-21e127444300"
      },
      "source": [
        "knn_acc_org = knn_model.score(x_test_org_small,y_test_org_small)\n",
        "knn_acc_org"
      ],
      "execution_count": 115,
      "outputs": [
        {
          "output_type": "execute_result",
          "data": {
            "text/plain": [
              "0.2542857142857143"
            ]
          },
          "metadata": {
            "tags": []
          },
          "execution_count": 115
        }
      ]
    },
    {
      "cell_type": "code",
      "metadata": {
        "id": "V0FVAO9DhHoI",
        "colab_type": "code",
        "colab": {}
      },
      "source": [
        "cross_val_score(knn_model,x_test_org_small,y_test_org_small,cv=5,scoring='accuracy')"
      ],
      "execution_count": 0,
      "outputs": []
    },
    {
      "cell_type": "markdown",
      "metadata": {
        "id": "90B2s23_RTMt",
        "colab_type": "text"
      },
      "source": [
        "Genrate the confusion matrix"
      ]
    },
    {
      "cell_type": "code",
      "metadata": {
        "id": "vI_QRNy7QiHn",
        "colab_type": "code",
        "colab": {
          "base_uri": "https://localhost:8080/",
          "height": 459
        },
        "outputId": "52a1bfc2-5fb2-4b33-a060-9efd8dc57617"
      },
      "source": [
        "knn_pred_org=cross_val_predict(knn_model,x_test_org_small,y_test_org_small,cv=7)\n",
        "knn_confusion_matrix_org = confusion_matrix(y_test_org_small,knn_pred_org)\n",
        "knn_confusion_matrix_org"
      ],
      "execution_count": 116,
      "outputs": [
        {
          "output_type": "stream",
          "text": [
            "/usr/local/lib/python3.6/dist-packages/sklearn/model_selection/_validation.py:841: DataConversionWarning: A column-vector y was passed when a 1d array was expected. Please change the shape of y to (n_samples, ), for example using ravel().\n",
            "  estimator.fit(X_train, y_train, **fit_params)\n",
            "/usr/local/lib/python3.6/dist-packages/sklearn/model_selection/_validation.py:841: DataConversionWarning: A column-vector y was passed when a 1d array was expected. Please change the shape of y to (n_samples, ), for example using ravel().\n",
            "  estimator.fit(X_train, y_train, **fit_params)\n",
            "/usr/local/lib/python3.6/dist-packages/sklearn/model_selection/_validation.py:841: DataConversionWarning: A column-vector y was passed when a 1d array was expected. Please change the shape of y to (n_samples, ), for example using ravel().\n",
            "  estimator.fit(X_train, y_train, **fit_params)\n",
            "/usr/local/lib/python3.6/dist-packages/sklearn/model_selection/_validation.py:841: DataConversionWarning: A column-vector y was passed when a 1d array was expected. Please change the shape of y to (n_samples, ), for example using ravel().\n",
            "  estimator.fit(X_train, y_train, **fit_params)\n",
            "/usr/local/lib/python3.6/dist-packages/sklearn/model_selection/_validation.py:841: DataConversionWarning: A column-vector y was passed when a 1d array was expected. Please change the shape of y to (n_samples, ), for example using ravel().\n",
            "  estimator.fit(X_train, y_train, **fit_params)\n",
            "/usr/local/lib/python3.6/dist-packages/sklearn/model_selection/_validation.py:841: DataConversionWarning: A column-vector y was passed when a 1d array was expected. Please change the shape of y to (n_samples, ), for example using ravel().\n",
            "  estimator.fit(X_train, y_train, **fit_params)\n",
            "/usr/local/lib/python3.6/dist-packages/sklearn/model_selection/_validation.py:841: DataConversionWarning: A column-vector y was passed when a 1d array was expected. Please change the shape of y to (n_samples, ), for example using ravel().\n",
            "  estimator.fit(X_train, y_train, **fit_params)\n"
          ],
          "name": "stderr"
        },
        {
          "output_type": "execute_result",
          "data": {
            "text/plain": [
              "array([[35,  0, 12,  0,  7,  0,  2,  1, 15,  0],\n",
              "       [12,  1, 25,  1, 11,  2,  6,  1, 10,  1],\n",
              "       [16,  0, 20,  3, 16,  1,  8,  1,  5,  1],\n",
              "       [10,  0, 16,  7, 20,  5,  6,  1,  3,  1],\n",
              "       [12,  0, 17,  2, 17,  2,  4,  6,  4,  0],\n",
              "       [ 8,  1, 15,  6, 16,  9,  5,  1,  3,  1],\n",
              "       [ 8,  0, 22,  4, 22,  1, 10,  1,  1,  0],\n",
              "       [17,  0, 18,  3, 16,  3,  9,  4,  3,  3],\n",
              "       [26,  0,  9,  0,  3,  0,  1,  0, 31,  2],\n",
              "       [19,  0, 11,  6, 11,  1,  3,  4, 13,  4]])"
            ]
          },
          "metadata": {
            "tags": []
          },
          "execution_count": 116
        }
      ]
    },
    {
      "cell_type": "code",
      "metadata": {
        "id": "U-Ztgw-lRXk-",
        "colab_type": "code",
        "colab": {
          "base_uri": "https://localhost:8080/",
          "height": 476
        },
        "outputId": "9d7039b0-6ca4-41d5-9a42-01b07aea6c2f"
      },
      "source": [
        "plot_confusion_matrix(knn_confusion_matrix_org,'KNN confusion matrix using original data of size {}'.format(x_train_org_small.shape[0]))"
      ],
      "execution_count": 117,
      "outputs": [
        {
          "output_type": "display_data",
          "data": {
            "image/png": "[encoded data removed]",
            "text/plain": [
              "<Figure size 576x576 with 2 Axes>"
            ]
          },
          "metadata": {
            "tags": []
          }
        }
      ]
    },
    {
      "cell_type": "markdown",
      "metadata": {
        "id": "Q59yDaqaSAwJ",
        "colab_type": "text"
      },
      "source": [
        "Get the precision and recall"
      ]
    },
    {
      "cell_type": "code",
      "metadata": {
        "id": "G6asY5LmSFSq",
        "colab_type": "code",
        "colab": {
          "base_uri": "https://localhost:8080/",
          "height": 34
        },
        "outputId": "d95b9abc-ce6f-414a-b529-ead9358dae32"
      },
      "source": [
        "knn_prec_org = precision_score(y_test_org_small,knn_pred_org,average='micro')\n",
        "knn_prec_org"
      ],
      "execution_count": 118,
      "outputs": [
        {
          "output_type": "execute_result",
          "data": {
            "text/plain": [
              "0.19714285714285715"
            ]
          },
          "metadata": {
            "tags": []
          },
          "execution_count": 118
        }
      ]
    },
    {
      "cell_type": "code",
      "metadata": {
        "id": "1OOmjjY9SatF",
        "colab_type": "code",
        "colab": {
          "base_uri": "https://localhost:8080/",
          "height": 34
        },
        "outputId": "96ea2642-02ee-4679-d3b1-3f513a96a9fb"
      },
      "source": [
        "knn_recall_org = recall_score(y_test_org_small,knn_pred_org,average='micro')\n",
        "knn_recall_org"
      ],
      "execution_count": 121,
      "outputs": [
        {
          "output_type": "execute_result",
          "data": {
            "text/plain": [
              "0.19714285714285715"
            ]
          },
          "metadata": {
            "tags": []
          },
          "execution_count": 121
        }
      ]
    },
    {
      "cell_type": "markdown",
      "metadata": {
        "id": "dLczSAS0Mbj_",
        "colab_type": "text"
      },
      "source": [
        "###KNN using data after normalization"
      ]
    },
    {
      "cell_type": "markdown",
      "metadata": {
        "id": "xb8UJhWJTZyu",
        "colab_type": "text"
      },
      "source": [
        "here, to build the KNN I will use the data after normalization x_train_small and y_train_small"
      ]
    },
    {
      "cell_type": "code",
      "metadata": {
        "id": "tOBUI1TTTVcZ",
        "colab_type": "code",
        "colab": {
          "base_uri": "https://localhost:8080/",
          "height": 90
        },
        "outputId": "b48df6e3-a38a-4706-d1ec-fd2bffdaa414"
      },
      "source": [
        "knn_model = KNeighborsClassifier(n_neighbors=6)\n",
        "time1= time.time()\n",
        "knn_model.fit(x_train_small,y_train_small_reversed)\n",
        "time2 = time.time()\n",
        "knn_time_pca = time2-time1\n",
        "print('KNN with normalized data takes {:.1f} seconds'.format(knn_time_org))"
      ],
      "execution_count": 218,
      "outputs": [
        {
          "output_type": "stream",
          "text": [
            "KNN with normalized data takes 1.2 seconds\n"
          ],
          "name": "stdout"
        },
        {
          "output_type": "stream",
          "text": [
            "/usr/local/lib/python3.6/dist-packages/ipykernel_launcher.py:3: DataConversionWarning: A column-vector y was passed when a 1d array was expected. Please change the shape of y to (n_samples, ), for example using ravel().\n",
            "  This is separate from the ipykernel package so we can avoid doing imports until\n"
          ],
          "name": "stderr"
        }
      ]
    },
    {
      "cell_type": "markdown",
      "metadata": {
        "id": "fLMdRIqoT5nI",
        "colab_type": "text"
      },
      "source": [
        "Get the accuracy"
      ]
    },
    {
      "cell_type": "code",
      "metadata": {
        "id": "l6Hlc4TnV1k5",
        "colab_type": "code",
        "colab": {
          "base_uri": "https://localhost:8080/",
          "height": 34
        },
        "outputId": "6d3bbd4c-e827-441d-bf2f-a56dfaa97d16"
      },
      "source": [
        "knn_acc_pca = knn_model.score(x_test_small,y_test_small_reversed)\n",
        "knn_acc_pca"
      ],
      "execution_count": 174,
      "outputs": [
        {
          "output_type": "execute_result",
          "data": {
            "text/plain": [
              "0.29428571428571426"
            ]
          },
          "metadata": {
            "tags": []
          },
          "execution_count": 174
        }
      ]
    },
    {
      "cell_type": "code",
      "metadata": {
        "id": "qnIdRcV_hTHs",
        "colab_type": "code",
        "colab": {
          "base_uri": "https://localhost:8080/",
          "height": 230
        },
        "outputId": "c1f0ec53-5c0c-43b7-8438-998c2b31f99b"
      },
      "source": [
        "cross_val_score(knn_model,x_test_small,y_test_small_reversed,cv=5,scoring='accuracy')"
      ],
      "execution_count": 220,
      "outputs": [
        {
          "output_type": "stream",
          "text": [
            "/usr/local/lib/python3.6/dist-packages/sklearn/model_selection/_validation.py:515: DataConversionWarning: A column-vector y was passed when a 1d array was expected. Please change the shape of y to (n_samples, ), for example using ravel().\n",
            "  estimator.fit(X_train, y_train, **fit_params)\n",
            "/usr/local/lib/python3.6/dist-packages/sklearn/model_selection/_validation.py:515: DataConversionWarning: A column-vector y was passed when a 1d array was expected. Please change the shape of y to (n_samples, ), for example using ravel().\n",
            "  estimator.fit(X_train, y_train, **fit_params)\n",
            "/usr/local/lib/python3.6/dist-packages/sklearn/model_selection/_validation.py:515: DataConversionWarning: A column-vector y was passed when a 1d array was expected. Please change the shape of y to (n_samples, ), for example using ravel().\n",
            "  estimator.fit(X_train, y_train, **fit_params)\n",
            "/usr/local/lib/python3.6/dist-packages/sklearn/model_selection/_validation.py:515: DataConversionWarning: A column-vector y was passed when a 1d array was expected. Please change the shape of y to (n_samples, ), for example using ravel().\n",
            "  estimator.fit(X_train, y_train, **fit_params)\n",
            "/usr/local/lib/python3.6/dist-packages/sklearn/model_selection/_validation.py:515: DataConversionWarning: A column-vector y was passed when a 1d array was expected. Please change the shape of y to (n_samples, ), for example using ravel().\n",
            "  estimator.fit(X_train, y_train, **fit_params)\n"
          ],
          "name": "stderr"
        },
        {
          "output_type": "execute_result",
          "data": {
            "text/plain": [
              "array([0.27857143, 0.24285714, 0.21428571, 0.21428571, 0.22857143])"
            ]
          },
          "metadata": {
            "tags": []
          },
          "execution_count": 220
        }
      ]
    },
    {
      "cell_type": "code",
      "metadata": {
        "id": "5ohb30Z1Wirn",
        "colab_type": "code",
        "colab": {
          "base_uri": "https://localhost:8080/",
          "height": 459
        },
        "outputId": "4ee819e9-a8be-4e07-8c6c-900806423d39"
      },
      "source": [
        "knn_pred_pca=cross_val_predict(knn_model,x_test_small,y_test_small_reversed,cv=7)\n",
        "knn_confusion_matrix_pca = confusion_matrix(y_test_small_reversed,knn_pred_pca)\n",
        "knn_confusion_matrix_pca"
      ],
      "execution_count": 175,
      "outputs": [
        {
          "output_type": "stream",
          "text": [
            "/usr/local/lib/python3.6/dist-packages/sklearn/model_selection/_validation.py:841: DataConversionWarning: A column-vector y was passed when a 1d array was expected. Please change the shape of y to (n_samples, ), for example using ravel().\n",
            "  estimator.fit(X_train, y_train, **fit_params)\n",
            "/usr/local/lib/python3.6/dist-packages/sklearn/model_selection/_validation.py:841: DataConversionWarning: A column-vector y was passed when a 1d array was expected. Please change the shape of y to (n_samples, ), for example using ravel().\n",
            "  estimator.fit(X_train, y_train, **fit_params)\n",
            "/usr/local/lib/python3.6/dist-packages/sklearn/model_selection/_validation.py:841: DataConversionWarning: A column-vector y was passed when a 1d array was expected. Please change the shape of y to (n_samples, ), for example using ravel().\n",
            "  estimator.fit(X_train, y_train, **fit_params)\n",
            "/usr/local/lib/python3.6/dist-packages/sklearn/model_selection/_validation.py:841: DataConversionWarning: A column-vector y was passed when a 1d array was expected. Please change the shape of y to (n_samples, ), for example using ravel().\n",
            "  estimator.fit(X_train, y_train, **fit_params)\n",
            "/usr/local/lib/python3.6/dist-packages/sklearn/model_selection/_validation.py:841: DataConversionWarning: A column-vector y was passed when a 1d array was expected. Please change the shape of y to (n_samples, ), for example using ravel().\n",
            "  estimator.fit(X_train, y_train, **fit_params)\n",
            "/usr/local/lib/python3.6/dist-packages/sklearn/model_selection/_validation.py:841: DataConversionWarning: A column-vector y was passed when a 1d array was expected. Please change the shape of y to (n_samples, ), for example using ravel().\n",
            "  estimator.fit(X_train, y_train, **fit_params)\n",
            "/usr/local/lib/python3.6/dist-packages/sklearn/model_selection/_validation.py:841: DataConversionWarning: A column-vector y was passed when a 1d array was expected. Please change the shape of y to (n_samples, ), for example using ravel().\n",
            "  estimator.fit(X_train, y_train, **fit_params)\n"
          ],
          "name": "stderr"
        },
        {
          "output_type": "execute_result",
          "data": {
            "text/plain": [
              "array([[26,  0, 10,  0,  9,  2,  3,  0, 24,  0],\n",
              "       [20,  4, 10,  1, 12,  3,  7,  1,  8,  4],\n",
              "       [13,  2, 25,  3, 19,  1,  4,  1,  2,  0],\n",
              "       [ 6,  1, 17,  2, 22,  4,  8,  1,  4,  0],\n",
              "       [ 7,  0, 20,  1, 32,  1,  5,  1,  6,  0],\n",
              "       [ 3,  1, 18,  3, 19,  4, 11,  2,  3,  1],\n",
              "       [ 7,  0, 18,  1, 27,  2, 16,  0,  0,  0],\n",
              "       [ 8,  2, 18,  0, 26,  2,  6,  2,  7,  0],\n",
              "       [18,  0,  5,  1,  1,  1,  3,  0, 40,  0],\n",
              "       [11,  3,  5,  0, 12,  0,  4,  2, 28,  7]])"
            ]
          },
          "metadata": {
            "tags": []
          },
          "execution_count": 175
        }
      ]
    },
    {
      "cell_type": "code",
      "metadata": {
        "id": "Nv3P4WJGWwjP",
        "colab_type": "code",
        "colab": {
          "base_uri": "https://localhost:8080/",
          "height": 476
        },
        "outputId": "153211ec-718c-4c1f-faf5-f41c0094621d"
      },
      "source": [
        "plot_confusion_matrix(knn_confusion_matrix_pca,'KNN confusion matrix with normalized data of size {}'.format(x_train_small.shape[0]))"
      ],
      "execution_count": 176,
      "outputs": [
        {
          "output_type": "display_data",
          "data": {
            "image/png": "[encoded data removed]",
            "text/plain": [
              "<Figure size 576x576 with 2 Axes>"
            ]
          },
          "metadata": {
            "tags": []
          }
        }
      ]
    },
    {
      "cell_type": "markdown",
      "metadata": {
        "id": "nQN4fzmcWcl-",
        "colab_type": "text"
      },
      "source": [
        "Get the precision and recall"
      ]
    },
    {
      "cell_type": "code",
      "metadata": {
        "id": "gPIZq4SqWfJR",
        "colab_type": "code",
        "colab": {
          "base_uri": "https://localhost:8080/",
          "height": 34
        },
        "outputId": "3c5d40a6-4092-4f53-cfe0-1257085733d9"
      },
      "source": [
        "knn_prec_pca = precision_score(y_test_small_reversed,knn_pred_pca,average='micro')\n",
        "knn_prec_pca"
      ],
      "execution_count": 177,
      "outputs": [
        {
          "output_type": "execute_result",
          "data": {
            "text/plain": [
              "0.2257142857142857"
            ]
          },
          "metadata": {
            "tags": []
          },
          "execution_count": 177
        }
      ]
    },
    {
      "cell_type": "code",
      "metadata": {
        "id": "7M-2EdJLXNGm",
        "colab_type": "code",
        "colab": {
          "base_uri": "https://localhost:8080/",
          "height": 34
        },
        "outputId": "75f30032-cb75-45d1-bf6b-f97b3387b533"
      },
      "source": [
        "knn_recall_pca = recall_score(y_test_small_reversed,knn_pred_pca,average='micro')\n",
        "knn_recall_pca"
      ],
      "execution_count": 178,
      "outputs": [
        {
          "output_type": "execute_result",
          "data": {
            "text/plain": [
              "0.2257142857142857"
            ]
          },
          "metadata": {
            "tags": []
          },
          "execution_count": 178
        }
      ]
    },
    {
      "cell_type": "markdown",
      "metadata": {
        "id": "xpU-bhp1Xbx0",
        "colab_type": "text"
      },
      "source": [
        "###KNN using original data vs data after normalization"
      ]
    },
    {
      "cell_type": "code",
      "metadata": {
        "id": "EbEKpkDWXvIP",
        "colab_type": "code",
        "colab": {
          "base_uri": "https://localhost:8080/",
          "height": 281
        },
        "outputId": "5dce4448-9b6c-437e-d50e-150c4b4c47bb"
      },
      "source": [
        "fig, h=plt.subplots()\n",
        "h1=h.bar('Original',knn_time_org,label='Original')\n",
        "h2=h.bar('Normalized',knn_time_pca,label='Normalized')\n",
        "h.set_title('KNN takes for orignal data vs normalized data for'+\n",
        "            ' data of size {}'.format(x_train_org_small.shape[0]))\n",
        "plt.legend(loc='best')\n",
        "plt.ylabel('sec')\n",
        "plt.show()"
      ],
      "execution_count": 179,
      "outputs": [
        {
          "output_type": "display_data",
          "data": {
            "image/png": "[encoded data removed]",
            "text/plain": [
              "<Figure size 432x288 with 1 Axes>"
            ]
          },
          "metadata": {
            "tags": []
          }
        }
      ]
    },
    {
      "cell_type": "code",
      "metadata": {
        "id": "d80TMVuYX9mx",
        "colab_type": "code",
        "colab": {
          "base_uri": "https://localhost:8080/",
          "height": 281
        },
        "outputId": "7de3f1fd-69b0-4f17-acbd-2aa48961159a"
      },
      "source": [
        "fig, h=plt.subplots()\n",
        "h1=h.bar('Original',knn_acc_org*100,label='Original')\n",
        "h2=h.bar('Normalized',knn_acc_pca*100,label='Normalized')\n",
        "h.set_title('KNN Accurecy for orignal data vs normalized data for'+\n",
        "            ' data of size {}'.format(x_train_org_small.shape[0]))\n",
        "plt.legend(loc='best')\n",
        "plt.ylabel('%')\n",
        "plt.show()"
      ],
      "execution_count": 180,
      "outputs": [
        {
          "output_type": "display_data",
          "data": {
            "image/png": "[encoded data removed]",
            "text/plain": [
              "<Figure size 432x288 with 1 Axes>"
            ]
          },
          "metadata": {
            "tags": []
          }
        }
      ]
    },
    {
      "cell_type": "code",
      "metadata": {
        "id": "c-omdMcTYVGU",
        "colab_type": "code",
        "colab": {
          "base_uri": "https://localhost:8080/",
          "height": 281
        },
        "outputId": "494e8f10-173c-4a52-d5c9-76640eba9093"
      },
      "source": [
        "fig, h=plt.subplots()\n",
        "h1=h.bar('Original-Percision',knn_prec_org*100,label='Original-Percision')\n",
        "h2=h.bar('Normalized-Percision',knn_prec_pca*100,label='Normalized-Percision')\n",
        "h3=h.bar('Original-Recall',knn_recall_org*100,label='Original-Recall')\n",
        "h4=h.bar('Normalized-Recall',knn_recall_pca*100,label='Normalized-Recall')\n",
        "h.set_title('KNN Precision and Recall for orignal data vs normalized data for'+\n",
        "            ' data of size {}'.format(x_train_small.shape[0]))\n",
        "\n",
        "plt.legend(loc='center')\n",
        "plt.ylabel('%')\n",
        "plt.autoscale()\n",
        "\n",
        "plt.show()"
      ],
      "execution_count": 181,
      "outputs": [
        {
          "output_type": "display_data",
          "data": {
            "image/png": "[encoded data removed]",
            "text/plain": [
              "<Figure size 432x288 with 1 Axes>"
            ]
          },
          "metadata": {
            "tags": []
          }
        }
      ]
    },
    {
      "cell_type": "markdown",
      "metadata": {
        "id": "0tdeXUTLYlwN",
        "colab_type": "text"
      },
      "source": [
        "###Conclusion"
      ]
    },
    {
      "cell_type": "markdown",
      "metadata": {
        "id": "oDTlobNLYrHg",
        "colab_type": "text"
      },
      "source": [
        "From the comparison in KNN using original data vs normalized data, we notice that KNN takes almost same time to be build using both data. However, the normalized data produce a model that has high accuracy, precision and recall. So, normalization increase the accuracy, precision and recall."
      ]
    },
    {
      "cell_type": "markdown",
      "metadata": {
        "id": "AiTL-BoxZyFF",
        "colab_type": "text"
      },
      "source": [
        "###SVM vs KNN"
      ]
    },
    {
      "cell_type": "code",
      "metadata": {
        "id": "aAymEwJAZ3iJ",
        "colab_type": "code",
        "colab": {
          "base_uri": "https://localhost:8080/",
          "height": 281
        },
        "outputId": "53f865ef-972c-4f37-9beb-6411164fbf73"
      },
      "source": [
        "fig, h=plt.subplots()\n",
        "h1=h.bar('SVM-Original',svm_original_time,label='SVM-Original')\n",
        "h2=h.bar('SVM-Normalized',svm_time,label='SVM-Normalized')\n",
        "h3=h.bar('KNN-Original',knn_time_org,label='KNN-Original')\n",
        "h4=h.bar('KNN-Normalized',knn_time_pca,label='KNN-Normalized')\n",
        "h.set_title('SVM  vs KNN takes for orignal data vs normalized data for'+\n",
        "            ' data of size {}'.format(x_train_small.shape[0]))\n",
        "plt.legend(loc='best')\n",
        "plt.ylabel('sec')\n",
        "plt.show()"
      ],
      "execution_count": 194,
      "outputs": [
        {
          "output_type": "display_data",
          "data": {
            "image/png": "[encoded data removed]",
            "text/plain": [
              "<Figure size 432x288 with 1 Axes>"
            ]
          },
          "metadata": {
            "tags": []
          }
        }
      ]
    },
    {
      "cell_type": "code",
      "metadata": {
        "id": "TLx28sZta3kN",
        "colab_type": "code",
        "colab": {
          "base_uri": "https://localhost:8080/",
          "height": 281
        },
        "outputId": "b3e1b680-06b5-47c8-e23f-775a0fadc2f2"
      },
      "source": [
        "fig, h=plt.subplots()\n",
        "h1=h.bar('SVM-Original',svm_acc_org*100,label='SVM-Original')\n",
        "h2=h.bar('SVM-Normalized',svm_acc_pca*100,label='SVM-Normalized')\n",
        "h3=h.bar('KNN-Original',knn_acc_org*100,label='KNN-Original')\n",
        "h4=h.bar('KNN-Normalized',knn_acc_pca*100,label='KNN-Normalized')\n",
        "h.set_title('SVM  vs KNN Accurecy for orignal data vs normalized data for'+\n",
        "            ' data of size {}'.format(x_train_small.shape[0]))\n",
        "plt.ylabel('%')\n",
        "plt.show()"
      ],
      "execution_count": 197,
      "outputs": [
        {
          "output_type": "display_data",
          "data": {
            "image/png": "[encoded data removed]",
            "text/plain": [
              "<Figure size 432x288 with 1 Axes>"
            ]
          },
          "metadata": {
            "tags": []
          }
        }
      ]
    },
    {
      "cell_type": "code",
      "metadata": {
        "id": "dHGTUU0KbUxd",
        "colab_type": "code",
        "colab": {
          "base_uri": "https://localhost:8080/",
          "height": 373
        },
        "outputId": "af25b971-fcee-4331-f462-113d4753d2cc"
      },
      "source": [
        "fig, h=plt.subplots()\n",
        "h1=h.bar('SVM-Org-Percision',svm_precision_org*100,label='SVM-Org-Percision')\n",
        "h2=h.bar('SVM-Norm-Percision',svm_precision_pca*100,label='SVM-Norm-Percision')\n",
        "h3=h.bar('KNN-Org-Percision',knn_prec_org*100,label='KNN-Org-Percision')\n",
        "h4=h.bar('KNN-Norm-Percision',knn_prec_pca*100,label='KNN-Norm-Percision')\n",
        "\n",
        "h1=h.bar('SVM-Org-Recall',svm_recall_org*100,label='SVM-Org-Recall')\n",
        "h2=h.bar('SVM-Norm-Recall',svm_recall_pca*100,label='SVM-Norm-Recall')\n",
        "h3=h.bar('KNN-Org-Recall',knn_recall_org*100,label='KNN-Org-Recall')\n",
        "h4=h.bar('KNN-Norm-Recall',knn_recall_pca*100,label='KNN-Norm-Recall')\n",
        "\n",
        "h.set_title('SVM vs KNN Precision and Recall for orignal data vs normalized data for'+\n",
        "            ' data of size {}'.format(x_train_small.shape[0]))\n",
        "plt.ylabel('%')\n",
        "plt.xticks(rotation=90)\n",
        "plt.grid(True)\n",
        "plt.show()"
      ],
      "execution_count": 216,
      "outputs": [
        {
          "output_type": "display_data",
          "data": {
            "image/png": "[encoded data removed]",
            "text/plain": [
              "<Figure size 432x288 with 1 Axes>"
            ]
          },
          "metadata": {
            "tags": []
          }
        }
      ]
    },
    {
      "cell_type": "markdown",
      "metadata": {
        "id": "pmZHMei6eOLc",
        "colab_type": "text"
      },
      "source": [
        "#Summary"
      ]
    },
    {
      "cell_type": "markdown",
      "metadata": {
        "id": "vkrejqyceSd3",
        "colab_type": "text"
      },
      "source": [
        "At the end, we conclude that KNN is faster than SVM. However, the SVM has higher accuracy, precision and recall than KNN. Therefore, KNN is good if you are concentrating on the speed in building the model which is will be helpful to be used online. SVM is good to use with data that rarely changed as is low in building the model "
      ]
    },
    {
      "cell_type": "markdown",
      "metadata": {
        "id": "PtQCb8NdfsHb",
        "colab_type": "text"
      },
      "source": [
        "#Refrences\n",
        "\n",
        "http://www.cs.toronto.edu/~kriz/cifar.html\n",
        "\n",
        "https://nbviewer.jupyter.org/github/ageron/handson-ml2/blob/master/03_classification.ipynb\n",
        "\n",
        "https://www.tensorflow.org/api_docs/python/tf/keras/datasets/cifar10/load_data\n",
        "\n",
        "https://medium.com/@urvashilluniya/why-data-normalization-is-necessary-for-machine-learning-models-681b65a05029\n",
        "\n",
        "https://scikit-learn.org/stable/auto_examples/model_selection/plot_precision_recall.html\n",
        "\n",
        "https://scikit-learn.org/stable/modules/generated/sklearn.model_selection.StratifiedKFold.html"
      ]
    }
  ]
}