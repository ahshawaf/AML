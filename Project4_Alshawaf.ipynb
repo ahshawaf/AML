{
  "nbformat": 4,
  "nbformat_minor": 0,
  "metadata": {
    "colab": {
      "name": "Project4_Alshawaf.ipynb",
      "provenance": [],
      "collapsed_sections": [],
      "machine_shape": "hm",
      "authorship_tag": "ABX9TyMKQs5dFWWAuMIt74k6FQxf",
      "include_colab_link": true
    },
    "kernelspec": {
      "name": "python3",
      "display_name": "Python 3"
    },
    "accelerator": "TPU"
  },
  "cells": [
    {
      "cell_type": "markdown",
      "metadata": {
        "id": "view-in-github",
        "colab_type": "text"
      },
      "source": [
        "<a href=\"https://colab.research.google.com/github/ahshawaf/AML/blob/project4/Project4_Alshawaf.ipynb\" target=\"_parent\"><img src=\"https://colab.research.google.com/assets/colab-badge.svg\" alt=\"Open In Colab\"/></a>"
      ]
    },
    {
      "cell_type": "markdown",
      "metadata": {
        "id": "1qVzGJyjumSO",
        "colab_type": "text"
      },
      "source": [
        "Author: Ahmad Alshawaf\n",
        "<br>ID: aa726755</br>\n",
        "Course: Advanced Machine Learning - CSC 685\n",
        "<br>Project # 4</br>"
      ]
    },
    {
      "cell_type": "markdown",
      "metadata": {
        "id": "z1waK-7Cux-H",
        "colab_type": "text"
      },
      "source": [
        "In this project, the linear regression and non-linear regression will be used to identify which algorithem preforme better and high more accuracy. This will help to see the difference in how to apply them. Also, show the line curve chart for Mean Squared Error to see how the model perform with training and testing set."
      ]
    },
    {
      "cell_type": "code",
      "metadata": {
        "id": "W4dJ5zvLyNwe",
        "colab_type": "code",
        "colab": {}
      },
      "source": [
        "import pandas as pd\n",
        "import numpy as np\n",
        "import matplotlib.pyplot as plt\n",
        "from sklearn.impute import SimpleImputer\n",
        "from sklearn.preprocessing import StandardScaler\n",
        "from sklearn.preprocessing import LabelEncoder\n",
        "from sklearn.preprocessing import PolynomialFeatures\n",
        "from sklearn.model_selection import train_test_split\n",
        "from sklearn.linear_model import LinearRegression\n",
        "from sklearn.manifold import TSNE\n",
        "from sklearn.metrics import mean_squared_error\n",
        "from sklearn.model_selection import KFold\n",
        "from sklearn.pipeline import Pipeline\n",
        "from pandas.plotting import scatter_matrix\n",
        "\n",
        "%matplotlib inline"
      ],
      "execution_count": 0,
      "outputs": []
    },
    {
      "cell_type": "markdown",
      "metadata": {
        "id": "8PMYtKc_0w_f",
        "colab_type": "text"
      },
      "source": [
        "#Loading Data"
      ]
    },
    {
      "cell_type": "markdown",
      "metadata": {
        "id": "B3BdFa4c01gq",
        "colab_type": "text"
      },
      "source": [
        "I created the fetch method, which is a custom function to fetch the data using read_csv method of panadas library. It takes two arguments data_url, which is the url for the data website, and the data_file, which is the name of the file with the extension."
      ]
    },
    {
      "cell_type": "code",
      "metadata": {
        "id": "NEsN5HtHymbQ",
        "colab_type": "code",
        "colab": {}
      },
      "source": [
        "DATA_URL = 'https://archive.ics.uci.edu/ml/machine-learning-databases/00381/'\n",
        "DATA_FILE ='PRSA_data_2010.1.1-2014.12.31.csv'\n",
        "\n",
        "def fetch_data(data_url=DATA_URL,data_file=DATA_FILE):\n",
        "  df = pd.read_csv(data_url+'/'+data_file)\n",
        "  return df"
      ],
      "execution_count": 0,
      "outputs": []
    },
    {
      "cell_type": "code",
      "metadata": {
        "id": "w7MxLltA0CUb",
        "colab_type": "code",
        "colab": {}
      },
      "source": [
        "df = fetch_data()"
      ],
      "execution_count": 0,
      "outputs": []
    },
    {
      "cell_type": "markdown",
      "metadata": {
        "id": "8Oj2Tq3m4jLE",
        "colab_type": "text"
      },
      "source": [
        "#Exploring Data and Preprocessing"
      ]
    },
    {
      "cell_type": "markdown",
      "metadata": {
        "id": "s3UToU2t753g",
        "colab_type": "text"
      },
      "source": [
        "In this section, I am going to explor the data. This will help us to identify if there is a missing data and deal with it."
      ]
    },
    {
      "cell_type": "markdown",
      "metadata": {
        "id": "GG948ieC_fw1",
        "colab_type": "text"
      },
      "source": [
        "Show the number of records in the data"
      ]
    },
    {
      "cell_type": "code",
      "metadata": {
        "id": "Pa7JWBjZ_c_p",
        "colab_type": "code",
        "outputId": "4bdd2a65-f8ba-4e85-cd86-6b0300083c92",
        "colab": {
          "base_uri": "https://localhost:8080/",
          "height": 34
        }
      },
      "source": [
        "df_size=len(df)\n",
        "df_size"
      ],
      "execution_count": 4,
      "outputs": [
        {
          "output_type": "execute_result",
          "data": {
            "text/plain": [
              "43824"
            ]
          },
          "metadata": {
            "tags": []
          },
          "execution_count": 4
        }
      ]
    },
    {
      "cell_type": "markdown",
      "metadata": {
        "id": "AuH2uEo1-vSW",
        "colab_type": "text"
      },
      "source": [
        "Show the top 5 rows of the data"
      ]
    },
    {
      "cell_type": "code",
      "metadata": {
        "id": "rprHB1RE0K4_",
        "colab_type": "code",
        "outputId": "998279b6-ca7f-458c-c0d7-08f4f5f4687c",
        "colab": {
          "base_uri": "https://localhost:8080/",
          "height": 195
        }
      },
      "source": [
        "df.head()"
      ],
      "execution_count": 5,
      "outputs": [
        {
          "output_type": "execute_result",
          "data": {
            "text/html": [
              "<div>\n",
              "<style scoped>\n",
              "    .dataframe tbody tr th:only-of-type {\n",
              "        vertical-align: middle;\n",
              "    }\n",
              "\n",
              "    .dataframe tbody tr th {\n",
              "        vertical-align: top;\n",
              "    }\n",
              "\n",
              "    .dataframe thead th {\n",
              "        text-align: right;\n",
              "    }\n",
              "</style>\n",
              "<table border=\"1\" class=\"dataframe\">\n",
              "  <thead>\n",
              "    <tr style=\"text-align: right;\">\n",
              "      <th></th>\n",
              "      <th>No</th>\n",
              "      <th>year</th>\n",
              "      <th>month</th>\n",
              "      <th>day</th>\n",
              "      <th>hour</th>\n",
              "      <th>pm2.5</th>\n",
              "      <th>DEWP</th>\n",
              "      <th>TEMP</th>\n",
              "      <th>PRES</th>\n",
              "      <th>cbwd</th>\n",
              "      <th>Iws</th>\n",
              "      <th>Is</th>\n",
              "      <th>Ir</th>\n",
              "    </tr>\n",
              "  </thead>\n",
              "  <tbody>\n",
              "    <tr>\n",
              "      <th>0</th>\n",
              "      <td>1</td>\n",
              "      <td>2010</td>\n",
              "      <td>1</td>\n",
              "      <td>1</td>\n",
              "      <td>0</td>\n",
              "      <td>NaN</td>\n",
              "      <td>-21</td>\n",
              "      <td>-11.0</td>\n",
              "      <td>1021.0</td>\n",
              "      <td>NW</td>\n",
              "      <td>1.79</td>\n",
              "      <td>0</td>\n",
              "      <td>0</td>\n",
              "    </tr>\n",
              "    <tr>\n",
              "      <th>1</th>\n",
              "      <td>2</td>\n",
              "      <td>2010</td>\n",
              "      <td>1</td>\n",
              "      <td>1</td>\n",
              "      <td>1</td>\n",
              "      <td>NaN</td>\n",
              "      <td>-21</td>\n",
              "      <td>-12.0</td>\n",
              "      <td>1020.0</td>\n",
              "      <td>NW</td>\n",
              "      <td>4.92</td>\n",
              "      <td>0</td>\n",
              "      <td>0</td>\n",
              "    </tr>\n",
              "    <tr>\n",
              "      <th>2</th>\n",
              "      <td>3</td>\n",
              "      <td>2010</td>\n",
              "      <td>1</td>\n",
              "      <td>1</td>\n",
              "      <td>2</td>\n",
              "      <td>NaN</td>\n",
              "      <td>-21</td>\n",
              "      <td>-11.0</td>\n",
              "      <td>1019.0</td>\n",
              "      <td>NW</td>\n",
              "      <td>6.71</td>\n",
              "      <td>0</td>\n",
              "      <td>0</td>\n",
              "    </tr>\n",
              "    <tr>\n",
              "      <th>3</th>\n",
              "      <td>4</td>\n",
              "      <td>2010</td>\n",
              "      <td>1</td>\n",
              "      <td>1</td>\n",
              "      <td>3</td>\n",
              "      <td>NaN</td>\n",
              "      <td>-21</td>\n",
              "      <td>-14.0</td>\n",
              "      <td>1019.0</td>\n",
              "      <td>NW</td>\n",
              "      <td>9.84</td>\n",
              "      <td>0</td>\n",
              "      <td>0</td>\n",
              "    </tr>\n",
              "    <tr>\n",
              "      <th>4</th>\n",
              "      <td>5</td>\n",
              "      <td>2010</td>\n",
              "      <td>1</td>\n",
              "      <td>1</td>\n",
              "      <td>4</td>\n",
              "      <td>NaN</td>\n",
              "      <td>-20</td>\n",
              "      <td>-12.0</td>\n",
              "      <td>1018.0</td>\n",
              "      <td>NW</td>\n",
              "      <td>12.97</td>\n",
              "      <td>0</td>\n",
              "      <td>0</td>\n",
              "    </tr>\n",
              "  </tbody>\n",
              "</table>\n",
              "</div>"
            ],
            "text/plain": [
              "   No  year  month  day  hour  pm2.5  DEWP  TEMP    PRES cbwd    Iws  Is  Ir\n",
              "0   1  2010      1    1     0    NaN   -21 -11.0  1021.0   NW   1.79   0   0\n",
              "1   2  2010      1    1     1    NaN   -21 -12.0  1020.0   NW   4.92   0   0\n",
              "2   3  2010      1    1     2    NaN   -21 -11.0  1019.0   NW   6.71   0   0\n",
              "3   4  2010      1    1     3    NaN   -21 -14.0  1019.0   NW   9.84   0   0\n",
              "4   5  2010      1    1     4    NaN   -20 -12.0  1018.0   NW  12.97   0   0"
            ]
          },
          "metadata": {
            "tags": []
          },
          "execution_count": 5
        }
      ]
    },
    {
      "cell_type": "markdown",
      "metadata": {
        "id": "OSmiRQoy-3wt",
        "colab_type": "text"
      },
      "source": [
        "Show the type of each column in the data"
      ]
    },
    {
      "cell_type": "code",
      "metadata": {
        "id": "6IgWqakS-hs1",
        "colab_type": "code",
        "outputId": "617effca-a48e-48bc-f471-0afea6dfbba2",
        "colab": {
          "base_uri": "https://localhost:8080/",
          "height": 334
        }
      },
      "source": [
        "df.info()"
      ],
      "execution_count": 6,
      "outputs": [
        {
          "output_type": "stream",
          "text": [
            "<class 'pandas.core.frame.DataFrame'>\n",
            "RangeIndex: 43824 entries, 0 to 43823\n",
            "Data columns (total 13 columns):\n",
            "No       43824 non-null int64\n",
            "year     43824 non-null int64\n",
            "month    43824 non-null int64\n",
            "day      43824 non-null int64\n",
            "hour     43824 non-null int64\n",
            "pm2.5    41757 non-null float64\n",
            "DEWP     43824 non-null int64\n",
            "TEMP     43824 non-null float64\n",
            "PRES     43824 non-null float64\n",
            "cbwd     43824 non-null object\n",
            "Iws      43824 non-null float64\n",
            "Is       43824 non-null int64\n",
            "Ir       43824 non-null int64\n",
            "dtypes: float64(4), int64(8), object(1)\n",
            "memory usage: 4.3+ MB\n"
          ],
          "name": "stdout"
        }
      ]
    },
    {
      "cell_type": "markdown",
      "metadata": {
        "id": "UMt9lFHis-95",
        "colab_type": "text"
      },
      "source": [
        "##Label Encoding"
      ]
    },
    {
      "cell_type": "markdown",
      "metadata": {
        "id": "s7H3lRMLhOay",
        "colab_type": "text"
      },
      "source": [
        "From the 'df.info()', it shows that the attribute 'cbwd' is not numerical type. So, we have to convert it to numerical. \n",
        "\n",
        "Let see how many distict values in the attribute. Then, apply LabelEncoder."
      ]
    },
    {
      "cell_type": "code",
      "metadata": {
        "id": "zMEvqEcwcBIp",
        "colab_type": "code",
        "outputId": "2cf1e91b-d221-44e4-d725-2a089cdf60db",
        "colab": {
          "base_uri": "https://localhost:8080/",
          "height": 105
        }
      },
      "source": [
        "df['cbwd'].value_counts()"
      ],
      "execution_count": 7,
      "outputs": [
        {
          "output_type": "execute_result",
          "data": {
            "text/plain": [
              "SE    15290\n",
              "NW    14150\n",
              "cv     9387\n",
              "NE     4997\n",
              "Name: cbwd, dtype: int64"
            ]
          },
          "metadata": {
            "tags": []
          },
          "execution_count": 7
        }
      ]
    },
    {
      "cell_type": "code",
      "metadata": {
        "id": "kIO48i7IarUI",
        "colab_type": "code",
        "outputId": "7bb0ad57-e7fb-4593-b12b-0b9f3ce45139",
        "colab": {
          "base_uri": "https://localhost:8080/",
          "height": 34
        }
      },
      "source": [
        "encoder = LabelEncoder()\n",
        "df_cbwd_cat=encoder.fit_transform(df['cbwd'])\n",
        "df_cbwd_cat"
      ],
      "execution_count": 8,
      "outputs": [
        {
          "output_type": "execute_result",
          "data": {
            "text/plain": [
              "array([1, 1, 1, ..., 1, 1, 1])"
            ]
          },
          "metadata": {
            "tags": []
          },
          "execution_count": 8
        }
      ]
    },
    {
      "cell_type": "markdown",
      "metadata": {
        "id": "CCL93puXiKbx",
        "colab_type": "text"
      },
      "source": [
        "Replace the column values with the encoded values"
      ]
    },
    {
      "cell_type": "code",
      "metadata": {
        "id": "JWgOdRHee-J5",
        "colab_type": "code",
        "colab": {}
      },
      "source": [
        "df['cbwd']=df_cbwd_cat"
      ],
      "execution_count": 0,
      "outputs": []
    },
    {
      "cell_type": "markdown",
      "metadata": {
        "id": "IZeRbWcCiTIy",
        "colab_type": "text"
      },
      "source": [
        "Check the data after the encoding"
      ]
    },
    {
      "cell_type": "code",
      "metadata": {
        "id": "zE_p0IfTbRwU",
        "colab_type": "code",
        "outputId": "b0598276-ac6e-4118-ec9d-f6543882b6fe",
        "colab": {
          "base_uri": "https://localhost:8080/",
          "height": 334
        }
      },
      "source": [
        "df.info()"
      ],
      "execution_count": 10,
      "outputs": [
        {
          "output_type": "stream",
          "text": [
            "<class 'pandas.core.frame.DataFrame'>\n",
            "RangeIndex: 43824 entries, 0 to 43823\n",
            "Data columns (total 13 columns):\n",
            "No       43824 non-null int64\n",
            "year     43824 non-null int64\n",
            "month    43824 non-null int64\n",
            "day      43824 non-null int64\n",
            "hour     43824 non-null int64\n",
            "pm2.5    41757 non-null float64\n",
            "DEWP     43824 non-null int64\n",
            "TEMP     43824 non-null float64\n",
            "PRES     43824 non-null float64\n",
            "cbwd     43824 non-null int64\n",
            "Iws      43824 non-null float64\n",
            "Is       43824 non-null int64\n",
            "Ir       43824 non-null int64\n",
            "dtypes: float64(4), int64(9)\n",
            "memory usage: 4.3 MB\n"
          ],
          "name": "stdout"
        }
      ]
    },
    {
      "cell_type": "code",
      "metadata": {
        "id": "yEBfrfLgcoUl",
        "colab_type": "code",
        "outputId": "5f90fc26-5b25-4f09-9180-4d16af0bfb1d",
        "colab": {
          "base_uri": "https://localhost:8080/",
          "height": 195
        }
      },
      "source": [
        "df.head()"
      ],
      "execution_count": 11,
      "outputs": [
        {
          "output_type": "execute_result",
          "data": {
            "text/html": [
              "<div>\n",
              "<style scoped>\n",
              "    .dataframe tbody tr th:only-of-type {\n",
              "        vertical-align: middle;\n",
              "    }\n",
              "\n",
              "    .dataframe tbody tr th {\n",
              "        vertical-align: top;\n",
              "    }\n",
              "\n",
              "    .dataframe thead th {\n",
              "        text-align: right;\n",
              "    }\n",
              "</style>\n",
              "<table border=\"1\" class=\"dataframe\">\n",
              "  <thead>\n",
              "    <tr style=\"text-align: right;\">\n",
              "      <th></th>\n",
              "      <th>No</th>\n",
              "      <th>year</th>\n",
              "      <th>month</th>\n",
              "      <th>day</th>\n",
              "      <th>hour</th>\n",
              "      <th>pm2.5</th>\n",
              "      <th>DEWP</th>\n",
              "      <th>TEMP</th>\n",
              "      <th>PRES</th>\n",
              "      <th>cbwd</th>\n",
              "      <th>Iws</th>\n",
              "      <th>Is</th>\n",
              "      <th>Ir</th>\n",
              "    </tr>\n",
              "  </thead>\n",
              "  <tbody>\n",
              "    <tr>\n",
              "      <th>0</th>\n",
              "      <td>1</td>\n",
              "      <td>2010</td>\n",
              "      <td>1</td>\n",
              "      <td>1</td>\n",
              "      <td>0</td>\n",
              "      <td>NaN</td>\n",
              "      <td>-21</td>\n",
              "      <td>-11.0</td>\n",
              "      <td>1021.0</td>\n",
              "      <td>1</td>\n",
              "      <td>1.79</td>\n",
              "      <td>0</td>\n",
              "      <td>0</td>\n",
              "    </tr>\n",
              "    <tr>\n",
              "      <th>1</th>\n",
              "      <td>2</td>\n",
              "      <td>2010</td>\n",
              "      <td>1</td>\n",
              "      <td>1</td>\n",
              "      <td>1</td>\n",
              "      <td>NaN</td>\n",
              "      <td>-21</td>\n",
              "      <td>-12.0</td>\n",
              "      <td>1020.0</td>\n",
              "      <td>1</td>\n",
              "      <td>4.92</td>\n",
              "      <td>0</td>\n",
              "      <td>0</td>\n",
              "    </tr>\n",
              "    <tr>\n",
              "      <th>2</th>\n",
              "      <td>3</td>\n",
              "      <td>2010</td>\n",
              "      <td>1</td>\n",
              "      <td>1</td>\n",
              "      <td>2</td>\n",
              "      <td>NaN</td>\n",
              "      <td>-21</td>\n",
              "      <td>-11.0</td>\n",
              "      <td>1019.0</td>\n",
              "      <td>1</td>\n",
              "      <td>6.71</td>\n",
              "      <td>0</td>\n",
              "      <td>0</td>\n",
              "    </tr>\n",
              "    <tr>\n",
              "      <th>3</th>\n",
              "      <td>4</td>\n",
              "      <td>2010</td>\n",
              "      <td>1</td>\n",
              "      <td>1</td>\n",
              "      <td>3</td>\n",
              "      <td>NaN</td>\n",
              "      <td>-21</td>\n",
              "      <td>-14.0</td>\n",
              "      <td>1019.0</td>\n",
              "      <td>1</td>\n",
              "      <td>9.84</td>\n",
              "      <td>0</td>\n",
              "      <td>0</td>\n",
              "    </tr>\n",
              "    <tr>\n",
              "      <th>4</th>\n",
              "      <td>5</td>\n",
              "      <td>2010</td>\n",
              "      <td>1</td>\n",
              "      <td>1</td>\n",
              "      <td>4</td>\n",
              "      <td>NaN</td>\n",
              "      <td>-20</td>\n",
              "      <td>-12.0</td>\n",
              "      <td>1018.0</td>\n",
              "      <td>1</td>\n",
              "      <td>12.97</td>\n",
              "      <td>0</td>\n",
              "      <td>0</td>\n",
              "    </tr>\n",
              "  </tbody>\n",
              "</table>\n",
              "</div>"
            ],
            "text/plain": [
              "   No  year  month  day  hour  pm2.5  DEWP  TEMP    PRES  cbwd    Iws  Is  Ir\n",
              "0   1  2010      1    1     0    NaN   -21 -11.0  1021.0     1   1.79   0   0\n",
              "1   2  2010      1    1     1    NaN   -21 -12.0  1020.0     1   4.92   0   0\n",
              "2   3  2010      1    1     2    NaN   -21 -11.0  1019.0     1   6.71   0   0\n",
              "3   4  2010      1    1     3    NaN   -21 -14.0  1019.0     1   9.84   0   0\n",
              "4   5  2010      1    1     4    NaN   -20 -12.0  1018.0     1  12.97   0   0"
            ]
          },
          "metadata": {
            "tags": []
          },
          "execution_count": 11
        }
      ]
    },
    {
      "cell_type": "code",
      "metadata": {
        "id": "pbwXI0sTifnK",
        "colab_type": "code",
        "outputId": "398d0672-6c7f-48c5-89c9-aa8dfaa4f25b",
        "colab": {
          "base_uri": "https://localhost:8080/",
          "height": 105
        }
      },
      "source": [
        "df['cbwd'].value_counts()"
      ],
      "execution_count": 12,
      "outputs": [
        {
          "output_type": "execute_result",
          "data": {
            "text/plain": [
              "2    15290\n",
              "1    14150\n",
              "3     9387\n",
              "0     4997\n",
              "Name: cbwd, dtype: int64"
            ]
          },
          "metadata": {
            "tags": []
          },
          "execution_count": 12
        }
      ]
    },
    {
      "cell_type": "markdown",
      "metadata": {
        "id": "-uss57Dr_oxT",
        "colab_type": "text"
      },
      "source": [
        "Show the count of records in each column"
      ]
    },
    {
      "cell_type": "code",
      "metadata": {
        "id": "YLMN6AKx_AwW",
        "colab_type": "code",
        "outputId": "ddb6e9e9-5e76-4e35-fea0-b0c390556f37",
        "colab": {
          "base_uri": "https://localhost:8080/",
          "height": 284
        }
      },
      "source": [
        "df.describe()"
      ],
      "execution_count": 13,
      "outputs": [
        {
          "output_type": "execute_result",
          "data": {
            "text/html": [
              "<div>\n",
              "<style scoped>\n",
              "    .dataframe tbody tr th:only-of-type {\n",
              "        vertical-align: middle;\n",
              "    }\n",
              "\n",
              "    .dataframe tbody tr th {\n",
              "        vertical-align: top;\n",
              "    }\n",
              "\n",
              "    .dataframe thead th {\n",
              "        text-align: right;\n",
              "    }\n",
              "</style>\n",
              "<table border=\"1\" class=\"dataframe\">\n",
              "  <thead>\n",
              "    <tr style=\"text-align: right;\">\n",
              "      <th></th>\n",
              "      <th>No</th>\n",
              "      <th>year</th>\n",
              "      <th>month</th>\n",
              "      <th>day</th>\n",
              "      <th>hour</th>\n",
              "      <th>pm2.5</th>\n",
              "      <th>DEWP</th>\n",
              "      <th>TEMP</th>\n",
              "      <th>PRES</th>\n",
              "      <th>cbwd</th>\n",
              "      <th>Iws</th>\n",
              "      <th>Is</th>\n",
              "      <th>Ir</th>\n",
              "    </tr>\n",
              "  </thead>\n",
              "  <tbody>\n",
              "    <tr>\n",
              "      <th>count</th>\n",
              "      <td>43824.000000</td>\n",
              "      <td>43824.000000</td>\n",
              "      <td>43824.000000</td>\n",
              "      <td>43824.000000</td>\n",
              "      <td>43824.000000</td>\n",
              "      <td>41757.000000</td>\n",
              "      <td>43824.000000</td>\n",
              "      <td>43824.000000</td>\n",
              "      <td>43824.000000</td>\n",
              "      <td>43824.000000</td>\n",
              "      <td>43824.000000</td>\n",
              "      <td>43824.000000</td>\n",
              "      <td>43824.000000</td>\n",
              "    </tr>\n",
              "    <tr>\n",
              "      <th>mean</th>\n",
              "      <td>21912.500000</td>\n",
              "      <td>2012.000000</td>\n",
              "      <td>6.523549</td>\n",
              "      <td>15.727820</td>\n",
              "      <td>11.500000</td>\n",
              "      <td>98.613215</td>\n",
              "      <td>1.817246</td>\n",
              "      <td>12.448521</td>\n",
              "      <td>1016.447654</td>\n",
              "      <td>1.663267</td>\n",
              "      <td>23.889140</td>\n",
              "      <td>0.052734</td>\n",
              "      <td>0.194916</td>\n",
              "    </tr>\n",
              "    <tr>\n",
              "      <th>std</th>\n",
              "      <td>12651.043435</td>\n",
              "      <td>1.413842</td>\n",
              "      <td>3.448572</td>\n",
              "      <td>8.799425</td>\n",
              "      <td>6.922266</td>\n",
              "      <td>92.050387</td>\n",
              "      <td>14.433440</td>\n",
              "      <td>12.198613</td>\n",
              "      <td>10.268698</td>\n",
              "      <td>0.937981</td>\n",
              "      <td>50.010635</td>\n",
              "      <td>0.760375</td>\n",
              "      <td>1.415867</td>\n",
              "    </tr>\n",
              "    <tr>\n",
              "      <th>min</th>\n",
              "      <td>1.000000</td>\n",
              "      <td>2010.000000</td>\n",
              "      <td>1.000000</td>\n",
              "      <td>1.000000</td>\n",
              "      <td>0.000000</td>\n",
              "      <td>0.000000</td>\n",
              "      <td>-40.000000</td>\n",
              "      <td>-19.000000</td>\n",
              "      <td>991.000000</td>\n",
              "      <td>0.000000</td>\n",
              "      <td>0.450000</td>\n",
              "      <td>0.000000</td>\n",
              "      <td>0.000000</td>\n",
              "    </tr>\n",
              "    <tr>\n",
              "      <th>25%</th>\n",
              "      <td>10956.750000</td>\n",
              "      <td>2011.000000</td>\n",
              "      <td>4.000000</td>\n",
              "      <td>8.000000</td>\n",
              "      <td>5.750000</td>\n",
              "      <td>29.000000</td>\n",
              "      <td>-10.000000</td>\n",
              "      <td>2.000000</td>\n",
              "      <td>1008.000000</td>\n",
              "      <td>1.000000</td>\n",
              "      <td>1.790000</td>\n",
              "      <td>0.000000</td>\n",
              "      <td>0.000000</td>\n",
              "    </tr>\n",
              "    <tr>\n",
              "      <th>50%</th>\n",
              "      <td>21912.500000</td>\n",
              "      <td>2012.000000</td>\n",
              "      <td>7.000000</td>\n",
              "      <td>16.000000</td>\n",
              "      <td>11.500000</td>\n",
              "      <td>72.000000</td>\n",
              "      <td>2.000000</td>\n",
              "      <td>14.000000</td>\n",
              "      <td>1016.000000</td>\n",
              "      <td>2.000000</td>\n",
              "      <td>5.370000</td>\n",
              "      <td>0.000000</td>\n",
              "      <td>0.000000</td>\n",
              "    </tr>\n",
              "    <tr>\n",
              "      <th>75%</th>\n",
              "      <td>32868.250000</td>\n",
              "      <td>2013.000000</td>\n",
              "      <td>10.000000</td>\n",
              "      <td>23.000000</td>\n",
              "      <td>17.250000</td>\n",
              "      <td>137.000000</td>\n",
              "      <td>15.000000</td>\n",
              "      <td>23.000000</td>\n",
              "      <td>1025.000000</td>\n",
              "      <td>2.000000</td>\n",
              "      <td>21.910000</td>\n",
              "      <td>0.000000</td>\n",
              "      <td>0.000000</td>\n",
              "    </tr>\n",
              "    <tr>\n",
              "      <th>max</th>\n",
              "      <td>43824.000000</td>\n",
              "      <td>2014.000000</td>\n",
              "      <td>12.000000</td>\n",
              "      <td>31.000000</td>\n",
              "      <td>23.000000</td>\n",
              "      <td>994.000000</td>\n",
              "      <td>28.000000</td>\n",
              "      <td>42.000000</td>\n",
              "      <td>1046.000000</td>\n",
              "      <td>3.000000</td>\n",
              "      <td>585.600000</td>\n",
              "      <td>27.000000</td>\n",
              "      <td>36.000000</td>\n",
              "    </tr>\n",
              "  </tbody>\n",
              "</table>\n",
              "</div>"
            ],
            "text/plain": [
              "                 No          year  ...            Is            Ir\n",
              "count  43824.000000  43824.000000  ...  43824.000000  43824.000000\n",
              "mean   21912.500000   2012.000000  ...      0.052734      0.194916\n",
              "std    12651.043435      1.413842  ...      0.760375      1.415867\n",
              "min        1.000000   2010.000000  ...      0.000000      0.000000\n",
              "25%    10956.750000   2011.000000  ...      0.000000      0.000000\n",
              "50%    21912.500000   2012.000000  ...      0.000000      0.000000\n",
              "75%    32868.250000   2013.000000  ...      0.000000      0.000000\n",
              "max    43824.000000   2014.000000  ...     27.000000     36.000000\n",
              "\n",
              "[8 rows x 13 columns]"
            ]
          },
          "metadata": {
            "tags": []
          },
          "execution_count": 13
        }
      ]
    },
    {
      "cell_type": "code",
      "metadata": {
        "id": "oqbx24B4CAIs",
        "colab_type": "code",
        "outputId": "51a91f4e-3509-4fcf-b25b-1fd240770875",
        "colab": {
          "base_uri": "https://localhost:8080/",
          "height": 34
        }
      },
      "source": [
        "len(df)-df['pm2.5'].describe()['count']"
      ],
      "execution_count": 14,
      "outputs": [
        {
          "output_type": "execute_result",
          "data": {
            "text/plain": [
              "2067.0"
            ]
          },
          "metadata": {
            "tags": []
          },
          "execution_count": 14
        }
      ]
    },
    {
      "cell_type": "markdown",
      "metadata": {
        "id": "JBblQHAUtE3u",
        "colab_type": "text"
      },
      "source": [
        "##Dealing With Missing Data"
      ]
    },
    {
      "cell_type": "markdown",
      "metadata": {
        "id": "Uj88Rvfz_8HY",
        "colab_type": "text"
      },
      "source": [
        "From the above table, you can see there are 2067 missing records in 'pm2.5' feature. So, this missing data should be treated either by remove the column, or fill it with the average of the column. Because of pm2.5 is the label, using the average is the best way to deal with the missing data."
      ]
    },
    {
      "cell_type": "code",
      "metadata": {
        "id": "DVofk7hojZn1",
        "colab_type": "code",
        "outputId": "ebcde3b5-45e0-4cf1-a9c6-ecef730d326b",
        "colab": {
          "base_uri": "https://localhost:8080/",
          "height": 52
        }
      },
      "source": [
        "imp=SimpleImputer(strategy='mean')\n",
        "imp.fit(df)"
      ],
      "execution_count": 15,
      "outputs": [
        {
          "output_type": "execute_result",
          "data": {
            "text/plain": [
              "SimpleImputer(add_indicator=False, copy=True, fill_value=None,\n",
              "              missing_values=nan, strategy='mean', verbose=0)"
            ]
          },
          "metadata": {
            "tags": []
          },
          "execution_count": 15
        }
      ]
    },
    {
      "cell_type": "code",
      "metadata": {
        "id": "gWmFkWVfju_k",
        "colab_type": "code",
        "colab": {}
      },
      "source": [
        "df_imputed = imp.transform(df)\n",
        "df_tr=pd.DataFrame(df_imputed,columns=df.columns)"
      ],
      "execution_count": 0,
      "outputs": []
    },
    {
      "cell_type": "markdown",
      "metadata": {
        "id": "dgHZPLHXlHG2",
        "colab_type": "text"
      },
      "source": [
        "As below, you can see the missing data in 'pm2.5' has the mean value of the column."
      ]
    },
    {
      "cell_type": "code",
      "metadata": {
        "id": "BgvURNlslDwI",
        "colab_type": "code",
        "outputId": "c0f2eb5f-af2e-4cc6-9394-b5b68d65023b",
        "colab": {
          "base_uri": "https://localhost:8080/",
          "height": 195
        }
      },
      "source": [
        "df_tr.head()"
      ],
      "execution_count": 17,
      "outputs": [
        {
          "output_type": "execute_result",
          "data": {
            "text/html": [
              "<div>\n",
              "<style scoped>\n",
              "    .dataframe tbody tr th:only-of-type {\n",
              "        vertical-align: middle;\n",
              "    }\n",
              "\n",
              "    .dataframe tbody tr th {\n",
              "        vertical-align: top;\n",
              "    }\n",
              "\n",
              "    .dataframe thead th {\n",
              "        text-align: right;\n",
              "    }\n",
              "</style>\n",
              "<table border=\"1\" class=\"dataframe\">\n",
              "  <thead>\n",
              "    <tr style=\"text-align: right;\">\n",
              "      <th></th>\n",
              "      <th>No</th>\n",
              "      <th>year</th>\n",
              "      <th>month</th>\n",
              "      <th>day</th>\n",
              "      <th>hour</th>\n",
              "      <th>pm2.5</th>\n",
              "      <th>DEWP</th>\n",
              "      <th>TEMP</th>\n",
              "      <th>PRES</th>\n",
              "      <th>cbwd</th>\n",
              "      <th>Iws</th>\n",
              "      <th>Is</th>\n",
              "      <th>Ir</th>\n",
              "    </tr>\n",
              "  </thead>\n",
              "  <tbody>\n",
              "    <tr>\n",
              "      <th>0</th>\n",
              "      <td>1.0</td>\n",
              "      <td>2010.0</td>\n",
              "      <td>1.0</td>\n",
              "      <td>1.0</td>\n",
              "      <td>0.0</td>\n",
              "      <td>98.613215</td>\n",
              "      <td>-21.0</td>\n",
              "      <td>-11.0</td>\n",
              "      <td>1021.0</td>\n",
              "      <td>1.0</td>\n",
              "      <td>1.79</td>\n",
              "      <td>0.0</td>\n",
              "      <td>0.0</td>\n",
              "    </tr>\n",
              "    <tr>\n",
              "      <th>1</th>\n",
              "      <td>2.0</td>\n",
              "      <td>2010.0</td>\n",
              "      <td>1.0</td>\n",
              "      <td>1.0</td>\n",
              "      <td>1.0</td>\n",
              "      <td>98.613215</td>\n",
              "      <td>-21.0</td>\n",
              "      <td>-12.0</td>\n",
              "      <td>1020.0</td>\n",
              "      <td>1.0</td>\n",
              "      <td>4.92</td>\n",
              "      <td>0.0</td>\n",
              "      <td>0.0</td>\n",
              "    </tr>\n",
              "    <tr>\n",
              "      <th>2</th>\n",
              "      <td>3.0</td>\n",
              "      <td>2010.0</td>\n",
              "      <td>1.0</td>\n",
              "      <td>1.0</td>\n",
              "      <td>2.0</td>\n",
              "      <td>98.613215</td>\n",
              "      <td>-21.0</td>\n",
              "      <td>-11.0</td>\n",
              "      <td>1019.0</td>\n",
              "      <td>1.0</td>\n",
              "      <td>6.71</td>\n",
              "      <td>0.0</td>\n",
              "      <td>0.0</td>\n",
              "    </tr>\n",
              "    <tr>\n",
              "      <th>3</th>\n",
              "      <td>4.0</td>\n",
              "      <td>2010.0</td>\n",
              "      <td>1.0</td>\n",
              "      <td>1.0</td>\n",
              "      <td>3.0</td>\n",
              "      <td>98.613215</td>\n",
              "      <td>-21.0</td>\n",
              "      <td>-14.0</td>\n",
              "      <td>1019.0</td>\n",
              "      <td>1.0</td>\n",
              "      <td>9.84</td>\n",
              "      <td>0.0</td>\n",
              "      <td>0.0</td>\n",
              "    </tr>\n",
              "    <tr>\n",
              "      <th>4</th>\n",
              "      <td>5.0</td>\n",
              "      <td>2010.0</td>\n",
              "      <td>1.0</td>\n",
              "      <td>1.0</td>\n",
              "      <td>4.0</td>\n",
              "      <td>98.613215</td>\n",
              "      <td>-20.0</td>\n",
              "      <td>-12.0</td>\n",
              "      <td>1018.0</td>\n",
              "      <td>1.0</td>\n",
              "      <td>12.97</td>\n",
              "      <td>0.0</td>\n",
              "      <td>0.0</td>\n",
              "    </tr>\n",
              "  </tbody>\n",
              "</table>\n",
              "</div>"
            ],
            "text/plain": [
              "    No    year  month  day  hour  ...    PRES  cbwd    Iws   Is   Ir\n",
              "0  1.0  2010.0    1.0  1.0   0.0  ...  1021.0   1.0   1.79  0.0  0.0\n",
              "1  2.0  2010.0    1.0  1.0   1.0  ...  1020.0   1.0   4.92  0.0  0.0\n",
              "2  3.0  2010.0    1.0  1.0   2.0  ...  1019.0   1.0   6.71  0.0  0.0\n",
              "3  4.0  2010.0    1.0  1.0   3.0  ...  1019.0   1.0   9.84  0.0  0.0\n",
              "4  5.0  2010.0    1.0  1.0   4.0  ...  1018.0   1.0  12.97  0.0  0.0\n",
              "\n",
              "[5 rows x 13 columns]"
            ]
          },
          "metadata": {
            "tags": []
          },
          "execution_count": 17
        }
      ]
    },
    {
      "cell_type": "markdown",
      "metadata": {
        "id": "qEzQtC_ulmsf",
        "colab_type": "text"
      },
      "source": [
        "In the below describe table, it is show that there is no missing data after dealing with it."
      ]
    },
    {
      "cell_type": "code",
      "metadata": {
        "id": "Wbpp3NM5ljCr",
        "colab_type": "code",
        "outputId": "99d17ee0-1e5d-438e-accf-f6da22cf9584",
        "colab": {
          "base_uri": "https://localhost:8080/",
          "height": 284
        }
      },
      "source": [
        "df_tr.describe()"
      ],
      "execution_count": 18,
      "outputs": [
        {
          "output_type": "execute_result",
          "data": {
            "text/html": [
              "<div>\n",
              "<style scoped>\n",
              "    .dataframe tbody tr th:only-of-type {\n",
              "        vertical-align: middle;\n",
              "    }\n",
              "\n",
              "    .dataframe tbody tr th {\n",
              "        vertical-align: top;\n",
              "    }\n",
              "\n",
              "    .dataframe thead th {\n",
              "        text-align: right;\n",
              "    }\n",
              "</style>\n",
              "<table border=\"1\" class=\"dataframe\">\n",
              "  <thead>\n",
              "    <tr style=\"text-align: right;\">\n",
              "      <th></th>\n",
              "      <th>No</th>\n",
              "      <th>year</th>\n",
              "      <th>month</th>\n",
              "      <th>day</th>\n",
              "      <th>hour</th>\n",
              "      <th>pm2.5</th>\n",
              "      <th>DEWP</th>\n",
              "      <th>TEMP</th>\n",
              "      <th>PRES</th>\n",
              "      <th>cbwd</th>\n",
              "      <th>Iws</th>\n",
              "      <th>Is</th>\n",
              "      <th>Ir</th>\n",
              "    </tr>\n",
              "  </thead>\n",
              "  <tbody>\n",
              "    <tr>\n",
              "      <th>count</th>\n",
              "      <td>43824.000000</td>\n",
              "      <td>43824.000000</td>\n",
              "      <td>43824.000000</td>\n",
              "      <td>43824.000000</td>\n",
              "      <td>43824.000000</td>\n",
              "      <td>43824.000000</td>\n",
              "      <td>43824.000000</td>\n",
              "      <td>43824.000000</td>\n",
              "      <td>43824.000000</td>\n",
              "      <td>43824.000000</td>\n",
              "      <td>43824.000000</td>\n",
              "      <td>43824.000000</td>\n",
              "      <td>43824.000000</td>\n",
              "    </tr>\n",
              "    <tr>\n",
              "      <th>mean</th>\n",
              "      <td>21912.500000</td>\n",
              "      <td>2012.000000</td>\n",
              "      <td>6.523549</td>\n",
              "      <td>15.727820</td>\n",
              "      <td>11.500000</td>\n",
              "      <td>98.613215</td>\n",
              "      <td>1.817246</td>\n",
              "      <td>12.448521</td>\n",
              "      <td>1016.447654</td>\n",
              "      <td>1.663267</td>\n",
              "      <td>23.889140</td>\n",
              "      <td>0.052734</td>\n",
              "      <td>0.194916</td>\n",
              "    </tr>\n",
              "    <tr>\n",
              "      <th>std</th>\n",
              "      <td>12651.043435</td>\n",
              "      <td>1.413842</td>\n",
              "      <td>3.448572</td>\n",
              "      <td>8.799425</td>\n",
              "      <td>6.922266</td>\n",
              "      <td>89.853296</td>\n",
              "      <td>14.433440</td>\n",
              "      <td>12.198613</td>\n",
              "      <td>10.268698</td>\n",
              "      <td>0.937981</td>\n",
              "      <td>50.010635</td>\n",
              "      <td>0.760375</td>\n",
              "      <td>1.415867</td>\n",
              "    </tr>\n",
              "    <tr>\n",
              "      <th>min</th>\n",
              "      <td>1.000000</td>\n",
              "      <td>2010.000000</td>\n",
              "      <td>1.000000</td>\n",
              "      <td>1.000000</td>\n",
              "      <td>0.000000</td>\n",
              "      <td>0.000000</td>\n",
              "      <td>-40.000000</td>\n",
              "      <td>-19.000000</td>\n",
              "      <td>991.000000</td>\n",
              "      <td>0.000000</td>\n",
              "      <td>0.450000</td>\n",
              "      <td>0.000000</td>\n",
              "      <td>0.000000</td>\n",
              "    </tr>\n",
              "    <tr>\n",
              "      <th>25%</th>\n",
              "      <td>10956.750000</td>\n",
              "      <td>2011.000000</td>\n",
              "      <td>4.000000</td>\n",
              "      <td>8.000000</td>\n",
              "      <td>5.750000</td>\n",
              "      <td>31.000000</td>\n",
              "      <td>-10.000000</td>\n",
              "      <td>2.000000</td>\n",
              "      <td>1008.000000</td>\n",
              "      <td>1.000000</td>\n",
              "      <td>1.790000</td>\n",
              "      <td>0.000000</td>\n",
              "      <td>0.000000</td>\n",
              "    </tr>\n",
              "    <tr>\n",
              "      <th>50%</th>\n",
              "      <td>21912.500000</td>\n",
              "      <td>2012.000000</td>\n",
              "      <td>7.000000</td>\n",
              "      <td>16.000000</td>\n",
              "      <td>11.500000</td>\n",
              "      <td>77.000000</td>\n",
              "      <td>2.000000</td>\n",
              "      <td>14.000000</td>\n",
              "      <td>1016.000000</td>\n",
              "      <td>2.000000</td>\n",
              "      <td>5.370000</td>\n",
              "      <td>0.000000</td>\n",
              "      <td>0.000000</td>\n",
              "    </tr>\n",
              "    <tr>\n",
              "      <th>75%</th>\n",
              "      <td>32868.250000</td>\n",
              "      <td>2013.000000</td>\n",
              "      <td>10.000000</td>\n",
              "      <td>23.000000</td>\n",
              "      <td>17.250000</td>\n",
              "      <td>132.000000</td>\n",
              "      <td>15.000000</td>\n",
              "      <td>23.000000</td>\n",
              "      <td>1025.000000</td>\n",
              "      <td>2.000000</td>\n",
              "      <td>21.910000</td>\n",
              "      <td>0.000000</td>\n",
              "      <td>0.000000</td>\n",
              "    </tr>\n",
              "    <tr>\n",
              "      <th>max</th>\n",
              "      <td>43824.000000</td>\n",
              "      <td>2014.000000</td>\n",
              "      <td>12.000000</td>\n",
              "      <td>31.000000</td>\n",
              "      <td>23.000000</td>\n",
              "      <td>994.000000</td>\n",
              "      <td>28.000000</td>\n",
              "      <td>42.000000</td>\n",
              "      <td>1046.000000</td>\n",
              "      <td>3.000000</td>\n",
              "      <td>585.600000</td>\n",
              "      <td>27.000000</td>\n",
              "      <td>36.000000</td>\n",
              "    </tr>\n",
              "  </tbody>\n",
              "</table>\n",
              "</div>"
            ],
            "text/plain": [
              "                 No          year  ...            Is            Ir\n",
              "count  43824.000000  43824.000000  ...  43824.000000  43824.000000\n",
              "mean   21912.500000   2012.000000  ...      0.052734      0.194916\n",
              "std    12651.043435      1.413842  ...      0.760375      1.415867\n",
              "min        1.000000   2010.000000  ...      0.000000      0.000000\n",
              "25%    10956.750000   2011.000000  ...      0.000000      0.000000\n",
              "50%    21912.500000   2012.000000  ...      0.000000      0.000000\n",
              "75%    32868.250000   2013.000000  ...      0.000000      0.000000\n",
              "max    43824.000000   2014.000000  ...     27.000000     36.000000\n",
              "\n",
              "[8 rows x 13 columns]"
            ]
          },
          "metadata": {
            "tags": []
          },
          "execution_count": 18
        }
      ]
    },
    {
      "cell_type": "markdown",
      "metadata": {
        "id": "AbBKle2NtNYh",
        "colab_type": "text"
      },
      "source": [
        "##Finding Correlation"
      ]
    },
    {
      "cell_type": "markdown",
      "metadata": {
        "id": "MP8RrhFbUyLK",
        "colab_type": "text"
      },
      "source": [
        "Part of expoloring data is find the correlation between the attribute 'pm2.5', the label, and the others. "
      ]
    },
    {
      "cell_type": "code",
      "metadata": {
        "id": "NvMYby7hUj1n",
        "colab_type": "code",
        "outputId": "684a4561-9504-47f6-fe28-82e8ae48892a",
        "colab": {
          "base_uri": "https://localhost:8080/",
          "height": 263
        }
      },
      "source": [
        "corr_matrix = df_tr.corr()\n",
        "corr_matrix['pm2.5'].sort_values(ascending=False)"
      ],
      "execution_count": 19,
      "outputs": [
        {
          "output_type": "execute_result",
          "data": {
            "text/plain": [
              "pm2.5    1.000000\n",
              "cbwd     0.192408\n",
              "DEWP     0.167334\n",
              "day      0.080685\n",
              "Is       0.019263\n",
              "year    -0.014354\n",
              "No      -0.017294\n",
              "hour    -0.022573\n",
              "month   -0.023533\n",
              "PRES    -0.046298\n",
              "Ir      -0.050224\n",
              "TEMP    -0.088204\n",
              "Iws     -0.239969\n",
              "Name: pm2.5, dtype: float64"
            ]
          },
          "metadata": {
            "tags": []
          },
          "execution_count": 19
        }
      ]
    },
    {
      "cell_type": "markdown",
      "metadata": {
        "id": "rYmxMG7-m3n0",
        "colab_type": "text"
      },
      "source": [
        "From the correlation matrix, it shows that the are high correlation between 'pm2.5' and 'cbwd' and'DEWP'. Also a negative high correlation between 'pm2.5' and 'TEMP' and 'Iws' "
      ]
    },
    {
      "cell_type": "markdown",
      "metadata": {
        "id": "4m6jwWtAnjtp",
        "colab_type": "text"
      },
      "source": [
        "Display the correclotion in charts using scatter_matrix"
      ]
    },
    {
      "cell_type": "code",
      "metadata": {
        "id": "EoArI4MeXwBH",
        "colab_type": "code",
        "outputId": "2ade2b1f-3e19-4e7b-96ba-ae492de5022d",
        "colab": {
          "base_uri": "https://localhost:8080/",
          "height": 1000
        }
      },
      "source": [
        "attributes = ['pm2.5','cbwd','DEWP','TEMP','Iws']\n",
        "scatter_matrix(df_tr[attributes],figsize=(20,10))"
      ],
      "execution_count": 20,
      "outputs": [
        {
          "output_type": "execute_result",
          "data": {
            "text/plain": [
              "array([[<matplotlib.axes._subplots.AxesSubplot object at 0x7f6380b4f198>,\n",
              "        <matplotlib.axes._subplots.AxesSubplot object at 0x7f6380aa4358>,\n",
              "        <matplotlib.axes._subplots.AxesSubplot object at 0x7f6380ad5518>,\n",
              "        <matplotlib.axes._subplots.AxesSubplot object at 0x7f6380a86ac8>,\n",
              "        <matplotlib.axes._subplots.AxesSubplot object at 0x7f6380a450b8>],\n",
              "       [<matplotlib.axes._subplots.AxesSubplot object at 0x7f63809f4668>,\n",
              "        <matplotlib.axes._subplots.AxesSubplot object at 0x7f63809a3c18>,\n",
              "        <matplotlib.axes._subplots.AxesSubplot object at 0x7f6380960240>,\n",
              "        <matplotlib.axes._subplots.AxesSubplot object at 0x7f6380960278>,\n",
              "        <matplotlib.axes._subplots.AxesSubplot object at 0x7f6380942d68>],\n",
              "       [<matplotlib.axes._subplots.AxesSubplot object at 0x7f63808fe358>,\n",
              "        <matplotlib.axes._subplots.AxesSubplot object at 0x7f63808ad908>,\n",
              "        <matplotlib.axes._subplots.AxesSubplot object at 0x7f6380861eb8>,\n",
              "        <matplotlib.axes._subplots.AxesSubplot object at 0x7f638089e4a8>,\n",
              "        <matplotlib.axes._subplots.AxesSubplot object at 0x7f638084ca58>],\n",
              "       [<matplotlib.axes._subplots.AxesSubplot object at 0x7f638080c048>,\n",
              "        <matplotlib.axes._subplots.AxesSubplot object at 0x7f63807bd5f8>,\n",
              "        <matplotlib.axes._subplots.AxesSubplot object at 0x7f638076cba8>,\n",
              "        <matplotlib.axes._subplots.AxesSubplot object at 0x7f638072d198>,\n",
              "        <matplotlib.axes._subplots.AxesSubplot object at 0x7f638075c748>],\n",
              "       [<matplotlib.axes._subplots.AxesSubplot object at 0x7f638070bcf8>,\n",
              "        <matplotlib.axes._subplots.AxesSubplot object at 0x7f63806c72e8>,\n",
              "        <matplotlib.axes._subplots.AxesSubplot object at 0x7f638067a898>,\n",
              "        <matplotlib.axes._subplots.AxesSubplot object at 0x7f638062ce48>,\n",
              "        <matplotlib.axes._subplots.AxesSubplot object at 0x7f63805e8438>]],\n",
              "      dtype=object)"
            ]
          },
          "metadata": {
            "tags": []
          },
          "execution_count": 20
        },
        {
          "output_type": "display_data",
          "data": {
            "image/png": "[encoded data removed]",
            "text/plain": [
              "<Figure size 1440x720 with 25 Axes>"
            ]
          },
          "metadata": {
            "tags": []
          }
        }
      ]
    },
    {
      "cell_type": "markdown",
      "metadata": {
        "id": "YqQ9ay9gq7Rt",
        "colab_type": "text"
      },
      "source": [
        "Let see closer in the correlation between the 'pm2.5' and 'cbwd','DEWP','TEMP' and 'Iws'"
      ]
    },
    {
      "cell_type": "code",
      "metadata": {
        "id": "l2DhrKR7ocvn",
        "colab_type": "code",
        "outputId": "1ff117c5-a63a-4f87-f6b9-6b853302534f",
        "colab": {
          "base_uri": "https://localhost:8080/",
          "height": 297
        }
      },
      "source": [
        "df_tr.plot(kind='scatter',x='pm2.5',y='cbwd')"
      ],
      "execution_count": 21,
      "outputs": [
        {
          "output_type": "execute_result",
          "data": {
            "text/plain": [
              "<matplotlib.axes._subplots.AxesSubplot at 0x7f636a6303c8>"
            ]
          },
          "metadata": {
            "tags": []
          },
          "execution_count": 21
        },
        {
          "output_type": "display_data",
          "data": {
            "image/png": "[encoded data removed]",
            "text/plain": [
              "<Figure size 432x288 with 1 Axes>"
            ]
          },
          "metadata": {
            "tags": []
          }
        }
      ]
    },
    {
      "cell_type": "code",
      "metadata": {
        "id": "9LdBZIJLpAei",
        "colab_type": "code",
        "outputId": "11058f34-3b9b-41f8-bec5-cfb7591c4600",
        "colab": {
          "base_uri": "https://localhost:8080/",
          "height": 297
        }
      },
      "source": [
        "df_tr.plot(kind='scatter',x='pm2.5',y='DEWP')"
      ],
      "execution_count": 22,
      "outputs": [
        {
          "output_type": "execute_result",
          "data": {
            "text/plain": [
              "<matplotlib.axes._subplots.AxesSubplot at 0x7f6368dd2c50>"
            ]
          },
          "metadata": {
            "tags": []
          },
          "execution_count": 22
        },
        {
          "output_type": "display_data",
          "data": {
            "image/png": "[encoded data removed]",
            "text/plain": [
              "<Figure size 432x288 with 1 Axes>"
            ]
          },
          "metadata": {
            "tags": []
          }
        }
      ]
    },
    {
      "cell_type": "code",
      "metadata": {
        "id": "W7M7huAKpJIj",
        "colab_type": "code",
        "outputId": "c3839daf-59f9-4903-c174-52c0e9b92771",
        "colab": {
          "base_uri": "https://localhost:8080/",
          "height": 297
        }
      },
      "source": [
        "df_tr.plot(kind='scatter',x='pm2.5',y='TEMP')"
      ],
      "execution_count": 23,
      "outputs": [
        {
          "output_type": "execute_result",
          "data": {
            "text/plain": [
              "<matplotlib.axes._subplots.AxesSubplot at 0x7f6368d2c6d8>"
            ]
          },
          "metadata": {
            "tags": []
          },
          "execution_count": 23
        },
        {
          "output_type": "display_data",
          "data": {
            "image/png": "[encoded data removed]",
            "text/plain": [
              "<Figure size 432x288 with 1 Axes>"
            ]
          },
          "metadata": {
            "tags": []
          }
        }
      ]
    },
    {
      "cell_type": "code",
      "metadata": {
        "id": "btrz20BHoJcB",
        "colab_type": "code",
        "outputId": "d31488f2-5623-457a-e219-c8665a1b8dc6",
        "colab": {
          "base_uri": "https://localhost:8080/",
          "height": 297
        }
      },
      "source": [
        "df_tr.plot(kind='scatter',x='pm2.5',y='Iws')"
      ],
      "execution_count": 24,
      "outputs": [
        {
          "output_type": "execute_result",
          "data": {
            "text/plain": [
              "<matplotlib.axes._subplots.AxesSubplot at 0x7f6368d04b00>"
            ]
          },
          "metadata": {
            "tags": []
          },
          "execution_count": 24
        },
        {
          "output_type": "display_data",
          "data": {
            "image/png": "[encoded data removed]",
            "text/plain": [
              "<Figure size 432x288 with 1 Axes>"
            ]
          },
          "metadata": {
            "tags": []
          }
        }
      ]
    },
    {
      "cell_type": "markdown",
      "metadata": {
        "id": "5vc73pxnrf-u",
        "colab_type": "text"
      },
      "source": [
        "From the above, the most correlation is between 'pm2.5' and 'Iws' "
      ]
    },
    {
      "cell_type": "markdown",
      "metadata": {
        "id": "93NRTy31IxI2",
        "colab_type": "text"
      },
      "source": [
        "Now, let generate histogram chart for all numerical attirbutes to check if the data is needed to be scaled."
      ]
    },
    {
      "cell_type": "code",
      "metadata": {
        "id": "kzJMeof9FnHO",
        "colab_type": "code",
        "outputId": "42416137-8fd4-4c44-f8f2-42d8a93a122e",
        "colab": {
          "base_uri": "https://localhost:8080/",
          "height": 607
        }
      },
      "source": [
        "#Generate the historgrams\n",
        "df_tr.hist(figsize=(20,10))\n",
        "plt.show()"
      ],
      "execution_count": 25,
      "outputs": [
        {
          "output_type": "display_data",
          "data": {
            "image/png": "[encoded data removed]",
            "text/plain": [
              "<Figure size 1440x720 with 16 Axes>"
            ]
          },
          "metadata": {
            "tags": []
          }
        }
      ]
    },
    {
      "cell_type": "markdown",
      "metadata": {
        "id": "XRR1ab9yJcCL",
        "colab_type": "text"
      },
      "source": [
        "From the above charts, the data have to be scaled because each feature has different scal, which cuase slow learning and low accuracy. The scaling will be applied after splitting data to training and testing sets"
      ]
    },
    {
      "cell_type": "markdown",
      "metadata": {
        "id": "TTSktkf3qaq8",
        "colab_type": "text"
      },
      "source": [
        "#Split Data to Training and Testing Sets"
      ]
    },
    {
      "cell_type": "markdown",
      "metadata": {
        "id": "nOHBrctWsRRi",
        "colab_type": "text"
      },
      "source": [
        "In this section, the data will be splitted to 70% for training and 30% for testing. But first, the label column, 'pm2.5', need to be spearated from the other attributes."
      ]
    },
    {
      "cell_type": "markdown",
      "metadata": {
        "id": "RxwEOjJwuB__",
        "colab_type": "text"
      },
      "source": [
        "Now, let spearate the 'pm2.5' column"
      ]
    },
    {
      "cell_type": "code",
      "metadata": {
        "id": "J9zki6eCtUDJ",
        "colab_type": "code",
        "colab": {}
      },
      "source": [
        "x_data = df_tr.drop('pm2.5',axis=1)\n",
        "y_data = df_tr['pm2.5']"
      ],
      "execution_count": 0,
      "outputs": []
    },
    {
      "cell_type": "markdown",
      "metadata": {
        "id": "F9lHv-MCuLNj",
        "colab_type": "text"
      },
      "source": [
        "Check the data after the spearating"
      ]
    },
    {
      "cell_type": "code",
      "metadata": {
        "id": "sPRWMAI2tpVX",
        "colab_type": "code",
        "outputId": "2af62572-63fb-47b1-e97a-f7fb6865799b",
        "colab": {
          "base_uri": "https://localhost:8080/",
          "height": 34
        }
      },
      "source": [
        "x_data.shape"
      ],
      "execution_count": 27,
      "outputs": [
        {
          "output_type": "execute_result",
          "data": {
            "text/plain": [
              "(43824, 12)"
            ]
          },
          "metadata": {
            "tags": []
          },
          "execution_count": 27
        }
      ]
    },
    {
      "cell_type": "code",
      "metadata": {
        "id": "-0JGNZYIERXt",
        "colab_type": "code",
        "colab": {
          "base_uri": "https://localhost:8080/",
          "height": 195
        },
        "outputId": "9f1ac275-ff4b-49d1-dafd-efdb4a53b767"
      },
      "source": [
        "x_data.head()"
      ],
      "execution_count": 28,
      "outputs": [
        {
          "output_type": "execute_result",
          "data": {
            "text/html": [
              "<div>\n",
              "<style scoped>\n",
              "    .dataframe tbody tr th:only-of-type {\n",
              "        vertical-align: middle;\n",
              "    }\n",
              "\n",
              "    .dataframe tbody tr th {\n",
              "        vertical-align: top;\n",
              "    }\n",
              "\n",
              "    .dataframe thead th {\n",
              "        text-align: right;\n",
              "    }\n",
              "</style>\n",
              "<table border=\"1\" class=\"dataframe\">\n",
              "  <thead>\n",
              "    <tr style=\"text-align: right;\">\n",
              "      <th></th>\n",
              "      <th>No</th>\n",
              "      <th>year</th>\n",
              "      <th>month</th>\n",
              "      <th>day</th>\n",
              "      <th>hour</th>\n",
              "      <th>DEWP</th>\n",
              "      <th>TEMP</th>\n",
              "      <th>PRES</th>\n",
              "      <th>cbwd</th>\n",
              "      <th>Iws</th>\n",
              "      <th>Is</th>\n",
              "      <th>Ir</th>\n",
              "    </tr>\n",
              "  </thead>\n",
              "  <tbody>\n",
              "    <tr>\n",
              "      <th>0</th>\n",
              "      <td>1.0</td>\n",
              "      <td>2010.0</td>\n",
              "      <td>1.0</td>\n",
              "      <td>1.0</td>\n",
              "      <td>0.0</td>\n",
              "      <td>-21.0</td>\n",
              "      <td>-11.0</td>\n",
              "      <td>1021.0</td>\n",
              "      <td>1.0</td>\n",
              "      <td>1.79</td>\n",
              "      <td>0.0</td>\n",
              "      <td>0.0</td>\n",
              "    </tr>\n",
              "    <tr>\n",
              "      <th>1</th>\n",
              "      <td>2.0</td>\n",
              "      <td>2010.0</td>\n",
              "      <td>1.0</td>\n",
              "      <td>1.0</td>\n",
              "      <td>1.0</td>\n",
              "      <td>-21.0</td>\n",
              "      <td>-12.0</td>\n",
              "      <td>1020.0</td>\n",
              "      <td>1.0</td>\n",
              "      <td>4.92</td>\n",
              "      <td>0.0</td>\n",
              "      <td>0.0</td>\n",
              "    </tr>\n",
              "    <tr>\n",
              "      <th>2</th>\n",
              "      <td>3.0</td>\n",
              "      <td>2010.0</td>\n",
              "      <td>1.0</td>\n",
              "      <td>1.0</td>\n",
              "      <td>2.0</td>\n",
              "      <td>-21.0</td>\n",
              "      <td>-11.0</td>\n",
              "      <td>1019.0</td>\n",
              "      <td>1.0</td>\n",
              "      <td>6.71</td>\n",
              "      <td>0.0</td>\n",
              "      <td>0.0</td>\n",
              "    </tr>\n",
              "    <tr>\n",
              "      <th>3</th>\n",
              "      <td>4.0</td>\n",
              "      <td>2010.0</td>\n",
              "      <td>1.0</td>\n",
              "      <td>1.0</td>\n",
              "      <td>3.0</td>\n",
              "      <td>-21.0</td>\n",
              "      <td>-14.0</td>\n",
              "      <td>1019.0</td>\n",
              "      <td>1.0</td>\n",
              "      <td>9.84</td>\n",
              "      <td>0.0</td>\n",
              "      <td>0.0</td>\n",
              "    </tr>\n",
              "    <tr>\n",
              "      <th>4</th>\n",
              "      <td>5.0</td>\n",
              "      <td>2010.0</td>\n",
              "      <td>1.0</td>\n",
              "      <td>1.0</td>\n",
              "      <td>4.0</td>\n",
              "      <td>-20.0</td>\n",
              "      <td>-12.0</td>\n",
              "      <td>1018.0</td>\n",
              "      <td>1.0</td>\n",
              "      <td>12.97</td>\n",
              "      <td>0.0</td>\n",
              "      <td>0.0</td>\n",
              "    </tr>\n",
              "  </tbody>\n",
              "</table>\n",
              "</div>"
            ],
            "text/plain": [
              "    No    year  month  day  hour  DEWP  TEMP    PRES  cbwd    Iws   Is   Ir\n",
              "0  1.0  2010.0    1.0  1.0   0.0 -21.0 -11.0  1021.0   1.0   1.79  0.0  0.0\n",
              "1  2.0  2010.0    1.0  1.0   1.0 -21.0 -12.0  1020.0   1.0   4.92  0.0  0.0\n",
              "2  3.0  2010.0    1.0  1.0   2.0 -21.0 -11.0  1019.0   1.0   6.71  0.0  0.0\n",
              "3  4.0  2010.0    1.0  1.0   3.0 -21.0 -14.0  1019.0   1.0   9.84  0.0  0.0\n",
              "4  5.0  2010.0    1.0  1.0   4.0 -20.0 -12.0  1018.0   1.0  12.97  0.0  0.0"
            ]
          },
          "metadata": {
            "tags": []
          },
          "execution_count": 28
        }
      ]
    },
    {
      "cell_type": "code",
      "metadata": {
        "id": "aJ8NftcK3vjP",
        "colab_type": "code",
        "colab": {
          "base_uri": "https://localhost:8080/",
          "height": 34
        },
        "outputId": "0ab897cf-ed50-4b80-a9af-4c5fee381f83"
      },
      "source": [
        "y_data.shape"
      ],
      "execution_count": 29,
      "outputs": [
        {
          "output_type": "execute_result",
          "data": {
            "text/plain": [
              "(43824,)"
            ]
          },
          "metadata": {
            "tags": []
          },
          "execution_count": 29
        }
      ]
    },
    {
      "cell_type": "markdown",
      "metadata": {
        "id": "ic8iNovt4oTK",
        "colab_type": "text"
      },
      "source": [
        "As it is shown above, we need to reshape y_data from 43824 to 43824x1. This can be done by convert it to nparry type using the method ravel(). Then, the reshape method is used to genarate the data with the new shape."
      ]
    },
    {
      "cell_type": "code",
      "metadata": {
        "id": "vuVR3qy0BmX8",
        "colab_type": "code",
        "colab": {}
      },
      "source": [
        "y_data=y_data.ravel()"
      ],
      "execution_count": 0,
      "outputs": []
    },
    {
      "cell_type": "code",
      "metadata": {
        "id": "K1fqL0xlDHc3",
        "colab_type": "code",
        "colab": {}
      },
      "source": [
        "y_data=y_data.reshape(y_data.shape[0],1)"
      ],
      "execution_count": 0,
      "outputs": []
    },
    {
      "cell_type": "code",
      "metadata": {
        "id": "i1eVmHu-C_Xn",
        "colab_type": "code",
        "colab": {
          "base_uri": "https://localhost:8080/",
          "height": 34
        },
        "outputId": "78b381ab-ef7c-42c8-ba3b-9fe115318fd5"
      },
      "source": [
        "y_data.shape"
      ],
      "execution_count": 32,
      "outputs": [
        {
          "output_type": "execute_result",
          "data": {
            "text/plain": [
              "(43824, 1)"
            ]
          },
          "metadata": {
            "tags": []
          },
          "execution_count": 32
        }
      ]
    },
    {
      "cell_type": "markdown",
      "metadata": {
        "id": "i_1AQHQjszc2",
        "colab_type": "text"
      },
      "source": [
        "Then, let split the data to 70% training and 30% for testing. To do that, the train_test_split is used with passing the argumant x_data, y_data, test_size, which is the percentage of the testing set here is 0.30 for 30%, and random_state. The random_state could be any number. This is used to produce same set of training and testing set in every time the data is splitted"
      ]
    },
    {
      "cell_type": "code",
      "metadata": {
        "id": "A50M8knasoBb",
        "colab_type": "code",
        "colab": {}
      },
      "source": [
        "x_train,x_test,y_train,y_test=train_test_split(x_data,y_data,test_size=0.30, random_state=56)"
      ],
      "execution_count": 0,
      "outputs": []
    },
    {
      "cell_type": "markdown",
      "metadata": {
        "id": "JITa5I9Zx0dU",
        "colab_type": "text"
      },
      "source": [
        "check the sets"
      ]
    },
    {
      "cell_type": "code",
      "metadata": {
        "id": "KUFUa1R9yFgU",
        "colab_type": "code",
        "outputId": "d51e8339-2f9f-4f52-fa88-7b31212899af",
        "colab": {
          "base_uri": "https://localhost:8080/",
          "height": 34
        }
      },
      "source": [
        "x_train.shape"
      ],
      "execution_count": 34,
      "outputs": [
        {
          "output_type": "execute_result",
          "data": {
            "text/plain": [
              "(30676, 12)"
            ]
          },
          "metadata": {
            "tags": []
          },
          "execution_count": 34
        }
      ]
    },
    {
      "cell_type": "code",
      "metadata": {
        "id": "xuJWU2FcyJM4",
        "colab_type": "code",
        "outputId": "7481b1e8-56e5-42f8-b20b-d43d47e6f5a1",
        "colab": {
          "base_uri": "https://localhost:8080/",
          "height": 34
        }
      },
      "source": [
        "y_train.shape"
      ],
      "execution_count": 35,
      "outputs": [
        {
          "output_type": "execute_result",
          "data": {
            "text/plain": [
              "(30676, 1)"
            ]
          },
          "metadata": {
            "tags": []
          },
          "execution_count": 35
        }
      ]
    },
    {
      "cell_type": "code",
      "metadata": {
        "id": "Np6EICA1yNKO",
        "colab_type": "code",
        "outputId": "da09a8c1-8753-47f9-a521-e30e1167d03d",
        "colab": {
          "base_uri": "https://localhost:8080/",
          "height": 34
        }
      },
      "source": [
        "x_test.shape"
      ],
      "execution_count": 36,
      "outputs": [
        {
          "output_type": "execute_result",
          "data": {
            "text/plain": [
              "(13148, 12)"
            ]
          },
          "metadata": {
            "tags": []
          },
          "execution_count": 36
        }
      ]
    },
    {
      "cell_type": "code",
      "metadata": {
        "id": "xhjXdChWyQYS",
        "colab_type": "code",
        "outputId": "4011550c-34dc-498e-993c-a17b4267aba3",
        "colab": {
          "base_uri": "https://localhost:8080/",
          "height": 34
        }
      },
      "source": [
        "y_test.shape"
      ],
      "execution_count": 37,
      "outputs": [
        {
          "output_type": "execute_result",
          "data": {
            "text/plain": [
              "(13148, 1)"
            ]
          },
          "metadata": {
            "tags": []
          },
          "execution_count": 37
        }
      ]
    },
    {
      "cell_type": "markdown",
      "metadata": {
        "id": "uW54_yM7tV_F",
        "colab_type": "text"
      },
      "source": [
        "#Scaling\n"
      ]
    },
    {
      "cell_type": "markdown",
      "metadata": {
        "id": "aQwucx0RD7Ln",
        "colab_type": "text"
      },
      "source": [
        "After spliting data, we can apply a scaling to the data to have faster learning and highier accuracy\n",
        "\n"
      ]
    },
    {
      "cell_type": "code",
      "metadata": {
        "id": "mKuGWQ_-EOLW",
        "colab_type": "code",
        "colab": {}
      },
      "source": [
        "scl = StandardScaler()\n",
        "x_train_scaled=scl.fit_transform(x_train)\n",
        "x_test_scaled=scl.transform(x_test)"
      ],
      "execution_count": 0,
      "outputs": []
    },
    {
      "cell_type": "markdown",
      "metadata": {
        "id": "4uOHZTas0htI",
        "colab_type": "text"
      },
      "source": [
        "Check the data after scaling"
      ]
    },
    {
      "cell_type": "markdown",
      "metadata": {
        "id": "VPPcjCiWv21N",
        "colab_type": "text"
      },
      "source": [
        "Convert the result to DataFrame and display the 5 top rows. Dealing with DataFrame is more convenience to generate charts."
      ]
    },
    {
      "cell_type": "code",
      "metadata": {
        "id": "I2HCXiYk0l_9",
        "colab_type": "code",
        "outputId": "c7ff2852-aa12-443d-f7e8-6abec2c19424",
        "colab": {
          "base_uri": "https://localhost:8080/",
          "height": 195
        }
      },
      "source": [
        "x_train_scaled=pd.DataFrame(x_train_scaled,columns=x_train.columns)\n",
        "x_train_scaled.head()"
      ],
      "execution_count": 39,
      "outputs": [
        {
          "output_type": "execute_result",
          "data": {
            "text/html": [
              "<div>\n",
              "<style scoped>\n",
              "    .dataframe tbody tr th:only-of-type {\n",
              "        vertical-align: middle;\n",
              "    }\n",
              "\n",
              "    .dataframe tbody tr th {\n",
              "        vertical-align: top;\n",
              "    }\n",
              "\n",
              "    .dataframe thead th {\n",
              "        text-align: right;\n",
              "    }\n",
              "</style>\n",
              "<table border=\"1\" class=\"dataframe\">\n",
              "  <thead>\n",
              "    <tr style=\"text-align: right;\">\n",
              "      <th></th>\n",
              "      <th>No</th>\n",
              "      <th>year</th>\n",
              "      <th>month</th>\n",
              "      <th>day</th>\n",
              "      <th>hour</th>\n",
              "      <th>DEWP</th>\n",
              "      <th>TEMP</th>\n",
              "      <th>PRES</th>\n",
              "      <th>cbwd</th>\n",
              "      <th>Iws</th>\n",
              "      <th>Is</th>\n",
              "      <th>Ir</th>\n",
              "    </tr>\n",
              "  </thead>\n",
              "  <tbody>\n",
              "    <tr>\n",
              "      <th>0</th>\n",
              "      <td>1.386985</td>\n",
              "      <td>1.409220</td>\n",
              "      <td>0.133502</td>\n",
              "      <td>-1.105594</td>\n",
              "      <td>-0.508205</td>\n",
              "      <td>1.395263</td>\n",
              "      <td>1.023627</td>\n",
              "      <td>-1.018841</td>\n",
              "      <td>0.359844</td>\n",
              "      <td>0.327099</td>\n",
              "      <td>-0.067134</td>\n",
              "      <td>-0.139818</td>\n",
              "    </tr>\n",
              "    <tr>\n",
              "      <th>1</th>\n",
              "      <td>1.447040</td>\n",
              "      <td>1.409220</td>\n",
              "      <td>0.424342</td>\n",
              "      <td>-0.991862</td>\n",
              "      <td>-1.375850</td>\n",
              "      <td>1.187255</td>\n",
              "      <td>0.777288</td>\n",
              "      <td>-0.725939</td>\n",
              "      <td>1.427818</td>\n",
              "      <td>-0.456735</td>\n",
              "      <td>-0.067134</td>\n",
              "      <td>-0.139818</td>\n",
              "    </tr>\n",
              "    <tr>\n",
              "      <th>2</th>\n",
              "      <td>0.223795</td>\n",
              "      <td>-0.001080</td>\n",
              "      <td>1.006021</td>\n",
              "      <td>1.510231</td>\n",
              "      <td>-0.363598</td>\n",
              "      <td>0.147218</td>\n",
              "      <td>-0.208067</td>\n",
              "      <td>0.738572</td>\n",
              "      <td>1.427818</td>\n",
              "      <td>-0.439007</td>\n",
              "      <td>-0.067134</td>\n",
              "      <td>-0.139818</td>\n",
              "    </tr>\n",
              "    <tr>\n",
              "      <th>3</th>\n",
              "      <td>0.321207</td>\n",
              "      <td>-0.001080</td>\n",
              "      <td>1.587700</td>\n",
              "      <td>0.372916</td>\n",
              "      <td>1.371692</td>\n",
              "      <td>-0.892820</td>\n",
              "      <td>-1.768213</td>\n",
              "      <td>1.422010</td>\n",
              "      <td>-0.708130</td>\n",
              "      <td>-0.349767</td>\n",
              "      <td>-0.067134</td>\n",
              "      <td>-0.139818</td>\n",
              "    </tr>\n",
              "    <tr>\n",
              "      <th>4</th>\n",
              "      <td>-0.894709</td>\n",
              "      <td>-0.706231</td>\n",
              "      <td>-1.029856</td>\n",
              "      <td>0.259185</td>\n",
              "      <td>-1.520457</td>\n",
              "      <td>-0.546141</td>\n",
              "      <td>-0.454406</td>\n",
              "      <td>-0.335403</td>\n",
              "      <td>0.359844</td>\n",
              "      <td>-0.349767</td>\n",
              "      <td>-0.067134</td>\n",
              "      <td>-0.139818</td>\n",
              "    </tr>\n",
              "  </tbody>\n",
              "</table>\n",
              "</div>"
            ],
            "text/plain": [
              "         No      year     month  ...       Iws        Is        Ir\n",
              "0  1.386985  1.409220  0.133502  ...  0.327099 -0.067134 -0.139818\n",
              "1  1.447040  1.409220  0.424342  ... -0.456735 -0.067134 -0.139818\n",
              "2  0.223795 -0.001080  1.006021  ... -0.439007 -0.067134 -0.139818\n",
              "3  0.321207 -0.001080  1.587700  ... -0.349767 -0.067134 -0.139818\n",
              "4 -0.894709 -0.706231 -1.029856  ... -0.349767 -0.067134 -0.139818\n",
              "\n",
              "[5 rows x 12 columns]"
            ]
          },
          "metadata": {
            "tags": []
          },
          "execution_count": 39
        }
      ]
    },
    {
      "cell_type": "code",
      "metadata": {
        "id": "OkBu3qVM1G_r",
        "colab_type": "code",
        "outputId": "56dfcf77-f218-4061-b31b-45bd02ff0e09",
        "colab": {
          "base_uri": "https://localhost:8080/",
          "height": 195
        }
      },
      "source": [
        "x_test_scaled=pd.DataFrame(x_test_scaled,columns=x_test.columns)\n",
        "x_test_scaled.head()"
      ],
      "execution_count": 40,
      "outputs": [
        {
          "output_type": "execute_result",
          "data": {
            "text/html": [
              "<div>\n",
              "<style scoped>\n",
              "    .dataframe tbody tr th:only-of-type {\n",
              "        vertical-align: middle;\n",
              "    }\n",
              "\n",
              "    .dataframe tbody tr th {\n",
              "        vertical-align: top;\n",
              "    }\n",
              "\n",
              "    .dataframe thead th {\n",
              "        text-align: right;\n",
              "    }\n",
              "</style>\n",
              "<table border=\"1\" class=\"dataframe\">\n",
              "  <thead>\n",
              "    <tr style=\"text-align: right;\">\n",
              "      <th></th>\n",
              "      <th>No</th>\n",
              "      <th>year</th>\n",
              "      <th>month</th>\n",
              "      <th>day</th>\n",
              "      <th>hour</th>\n",
              "      <th>DEWP</th>\n",
              "      <th>TEMP</th>\n",
              "      <th>PRES</th>\n",
              "      <th>cbwd</th>\n",
              "      <th>Iws</th>\n",
              "      <th>Is</th>\n",
              "      <th>Ir</th>\n",
              "    </tr>\n",
              "  </thead>\n",
              "  <tbody>\n",
              "    <tr>\n",
              "      <th>0</th>\n",
              "      <td>-0.699964</td>\n",
              "      <td>-0.706231</td>\n",
              "      <td>-0.157337</td>\n",
              "      <td>1.510231</td>\n",
              "      <td>-1.665065</td>\n",
              "      <td>1.187255</td>\n",
              "      <td>0.941514</td>\n",
              "      <td>-1.214109</td>\n",
              "      <td>1.427818</td>\n",
              "      <td>-0.456735</td>\n",
              "      <td>-0.067134</td>\n",
              "      <td>-0.139818</td>\n",
              "    </tr>\n",
              "    <tr>\n",
              "      <th>1</th>\n",
              "      <td>1.252374</td>\n",
              "      <td>1.409220</td>\n",
              "      <td>-0.739016</td>\n",
              "      <td>1.169037</td>\n",
              "      <td>-1.086635</td>\n",
              "      <td>0.424561</td>\n",
              "      <td>-0.125954</td>\n",
              "      <td>0.250401</td>\n",
              "      <td>-0.708130</td>\n",
              "      <td>-0.216107</td>\n",
              "      <td>-0.067134</td>\n",
              "      <td>4.991498</td>\n",
              "    </tr>\n",
              "    <tr>\n",
              "      <th>2</th>\n",
              "      <td>-1.094735</td>\n",
              "      <td>-1.411381</td>\n",
              "      <td>1.587700</td>\n",
              "      <td>-1.560520</td>\n",
              "      <td>-0.652812</td>\n",
              "      <td>-1.100827</td>\n",
              "      <td>-0.454406</td>\n",
              "      <td>-0.140135</td>\n",
              "      <td>-0.708130</td>\n",
              "      <td>0.487053</td>\n",
              "      <td>-0.067134</td>\n",
              "      <td>-0.139818</td>\n",
              "    </tr>\n",
              "    <tr>\n",
              "      <th>3</th>\n",
              "      <td>1.186723</td>\n",
              "      <td>1.409220</td>\n",
              "      <td>-1.029856</td>\n",
              "      <td>0.714111</td>\n",
              "      <td>-0.074383</td>\n",
              "      <td>-1.378171</td>\n",
              "      <td>0.695175</td>\n",
              "      <td>0.152767</td>\n",
              "      <td>-0.708130</td>\n",
              "      <td>-0.358731</td>\n",
              "      <td>-0.067134</td>\n",
              "      <td>-0.139818</td>\n",
              "    </tr>\n",
              "    <tr>\n",
              "      <th>4</th>\n",
              "      <td>-0.569057</td>\n",
              "      <td>-0.706231</td>\n",
              "      <td>0.715181</td>\n",
              "      <td>-1.105594</td>\n",
              "      <td>-0.942027</td>\n",
              "      <td>0.979248</td>\n",
              "      <td>0.448837</td>\n",
              "      <td>-0.433037</td>\n",
              "      <td>1.427818</td>\n",
              "      <td>-0.403550</td>\n",
              "      <td>-0.067134</td>\n",
              "      <td>-0.139818</td>\n",
              "    </tr>\n",
              "  </tbody>\n",
              "</table>\n",
              "</div>"
            ],
            "text/plain": [
              "         No      year     month  ...       Iws        Is        Ir\n",
              "0 -0.699964 -0.706231 -0.157337  ... -0.456735 -0.067134 -0.139818\n",
              "1  1.252374  1.409220 -0.739016  ... -0.216107 -0.067134  4.991498\n",
              "2 -1.094735 -1.411381  1.587700  ...  0.487053 -0.067134 -0.139818\n",
              "3  1.186723  1.409220 -1.029856  ... -0.358731 -0.067134 -0.139818\n",
              "4 -0.569057 -0.706231  0.715181  ... -0.403550 -0.067134 -0.139818\n",
              "\n",
              "[5 rows x 12 columns]"
            ]
          },
          "metadata": {
            "tags": []
          },
          "execution_count": 40
        }
      ]
    },
    {
      "cell_type": "code",
      "metadata": {
        "id": "OvM0WA-kv_WO",
        "colab_type": "code",
        "outputId": "d25aec84-8841-4c37-a1aa-91a3a7753224",
        "colab": {
          "base_uri": "https://localhost:8080/",
          "height": 836
        }
      },
      "source": [
        "x_train_scaled.hist(figsize=(20,10))"
      ],
      "execution_count": 41,
      "outputs": [
        {
          "output_type": "execute_result",
          "data": {
            "text/plain": [
              "array([[<matplotlib.axes._subplots.AxesSubplot object at 0x7f636885abe0>,\n",
              "        <matplotlib.axes._subplots.AxesSubplot object at 0x7f63686e1cc0>,\n",
              "        <matplotlib.axes._subplots.AxesSubplot object at 0x7f63685c8208>],\n",
              "       [<matplotlib.axes._subplots.AxesSubplot object at 0x7f63685787b8>,\n",
              "        <matplotlib.axes._subplots.AxesSubplot object at 0x7f636852bd68>,\n",
              "        <matplotlib.axes._subplots.AxesSubplot object at 0x7f63684e7358>],\n",
              "       [<matplotlib.axes._subplots.AxesSubplot object at 0x7f6368515908>,\n",
              "        <matplotlib.axes._subplots.AxesSubplot object at 0x7f63684caef0>,\n",
              "        <matplotlib.axes._subplots.AxesSubplot object at 0x7f63684caf28>],\n",
              "       [<matplotlib.axes._subplots.AxesSubplot object at 0x7f6368437a58>,\n",
              "        <matplotlib.axes._subplots.AxesSubplot object at 0x7f63683f7048>,\n",
              "        <matplotlib.axes._subplots.AxesSubplot object at 0x7f6368a4eac8>]],\n",
              "      dtype=object)"
            ]
          },
          "metadata": {
            "tags": []
          },
          "execution_count": 41
        },
        {
          "output_type": "display_data",
          "data": {
            "image/png": "[encoded data removed]",
            "text/plain": [
              "<Figure size 1440x720 with 12 Axes>"
            ]
          },
          "metadata": {
            "tags": []
          }
        }
      ]
    },
    {
      "cell_type": "markdown",
      "metadata": {
        "id": "7Op1DthFwRsg",
        "colab_type": "text"
      },
      "source": [
        "Now as in shown above, the scale for all attributes is the same"
      ]
    },
    {
      "cell_type": "markdown",
      "metadata": {
        "id": "_jCzC5UA6L3b",
        "colab_type": "text"
      },
      "source": [
        "#Reduce Dimensionality"
      ]
    },
    {
      "cell_type": "markdown",
      "metadata": {
        "id": "MwdJF6WZ6RAd",
        "colab_type": "text"
      },
      "source": [
        "In this section, t-SNE is will be used to reduce the dimensionality of x_train and x_test from 12 dimension to one dimension for visulaization purpose."
      ]
    },
    {
      "cell_type": "code",
      "metadata": {
        "id": "dDfHpsrW6Itw",
        "colab_type": "code",
        "colab": {}
      },
      "source": [
        "tsne_mdl=TSNE(n_components=1,random_state=56)\n",
        "x_train_reduced=tsne_mdl.fit_transform(x_train_scaled,y_train)\n",
        "x_test_reduced= tsne_mdl.fit_transform(x_test_scaled,y_train)"
      ],
      "execution_count": 0,
      "outputs": []
    },
    {
      "cell_type": "code",
      "metadata": {
        "id": "SJluwqX58TZq",
        "colab_type": "code",
        "outputId": "6a539f9d-e6d6-4690-ff27-73c19bc5a63b",
        "colab": {
          "base_uri": "https://localhost:8080/",
          "height": 34
        }
      },
      "source": [
        "x_train_reduced.shape"
      ],
      "execution_count": 43,
      "outputs": [
        {
          "output_type": "execute_result",
          "data": {
            "text/plain": [
              "(30676, 1)"
            ]
          },
          "metadata": {
            "tags": []
          },
          "execution_count": 43
        }
      ]
    },
    {
      "cell_type": "code",
      "metadata": {
        "id": "_YO0fAoo817C",
        "colab_type": "code",
        "outputId": "91ead12f-2eea-43ec-cc5f-5ed939e787de",
        "colab": {
          "base_uri": "https://localhost:8080/",
          "height": 34
        }
      },
      "source": [
        "x_train_reduced[0]"
      ],
      "execution_count": 44,
      "outputs": [
        {
          "output_type": "execute_result",
          "data": {
            "text/plain": [
              "array([-97.86325], dtype=float32)"
            ]
          },
          "metadata": {
            "tags": []
          },
          "execution_count": 44
        }
      ]
    },
    {
      "cell_type": "markdown",
      "metadata": {
        "id": "s9u9j1cn-Vyy",
        "colab_type": "text"
      },
      "source": [
        "#Linear Regression"
      ]
    },
    {
      "cell_type": "markdown",
      "metadata": {
        "id": "FfXGqPCM_Pa1",
        "colab_type": "text"
      },
      "source": [
        "Now, let build the linear regression model using x_train_scaled,which is normalized, and y_train data\n"
      ]
    },
    {
      "cell_type": "code",
      "metadata": {
        "id": "Kk085DP8-VGn",
        "colab_type": "code",
        "outputId": "faa84caf-beb5-4c0a-8be5-29c9ec440645",
        "colab": {
          "base_uri": "https://localhost:8080/",
          "height": 34
        }
      },
      "source": [
        "linear_mdl=LinearRegression()\n",
        "linear_mdl.fit(x_train_scaled,y_train)"
      ],
      "execution_count": 98,
      "outputs": [
        {
          "output_type": "execute_result",
          "data": {
            "text/plain": [
              "LinearRegression(copy_X=True, fit_intercept=True, n_jobs=None, normalize=False)"
            ]
          },
          "metadata": {
            "tags": []
          },
          "execution_count": 98
        }
      ]
    },
    {
      "cell_type": "markdown",
      "metadata": {
        "id": "yUM-daf_Zapl",
        "colab_type": "text"
      },
      "source": [
        "After building the linear regression model, it will be tested and see the model accuracy."
      ]
    },
    {
      "cell_type": "code",
      "metadata": {
        "id": "wSHsFPNmA9py",
        "colab_type": "code",
        "outputId": "22effdba-f91e-4d31-e265-eb449b90c523",
        "colab": {
          "base_uri": "https://localhost:8080/",
          "height": 140
        }
      },
      "source": [
        "linear_prd=linear_mdl.predict(x_test_scaled)\n",
        "linear_prd"
      ],
      "execution_count": 99,
      "outputs": [
        {
          "output_type": "execute_result",
          "data": {
            "text/plain": [
              "array([[133.17541848],\n",
              "       [ 77.42828383],\n",
              "       [ 29.94644557],\n",
              "       ...,\n",
              "       [ 73.26760011],\n",
              "       [122.68649183],\n",
              "       [  3.89126388]])"
            ]
          },
          "metadata": {
            "tags": []
          },
          "execution_count": 99
        }
      ]
    },
    {
      "cell_type": "code",
      "metadata": {
        "id": "rjYcs7oMC69M",
        "colab_type": "code",
        "outputId": "794f4829-257c-40ab-d5ee-472a22bdcd0e",
        "colab": {
          "base_uri": "https://localhost:8080/",
          "height": 34
        }
      },
      "source": [
        "linear_score=linear_mdl.score(x_test_scaled,y_test)\n",
        "linear_score"
      ],
      "execution_count": 100,
      "outputs": [
        {
          "output_type": "execute_result",
          "data": {
            "text/plain": [
              "0.25748586850527244"
            ]
          },
          "metadata": {
            "tags": []
          },
          "execution_count": 100
        }
      ]
    },
    {
      "cell_type": "markdown",
      "metadata": {
        "id": "iw-qaSPyZWmf",
        "colab_type": "text"
      },
      "source": [
        "The accuracy of the model is 25% which is very low. That mean the linear regression dose not fit for the data."
      ]
    },
    {
      "cell_type": "markdown",
      "metadata": {
        "id": "lwGG4cszZTxq",
        "colab_type": "text"
      },
      "source": [
        "Let see the error value of mean squared error function."
      ]
    },
    {
      "cell_type": "code",
      "metadata": {
        "id": "JHHCSljMBKjI",
        "colab_type": "code",
        "outputId": "12bd9f55-ae75-4b8e-af1e-29b50f7df833",
        "colab": {
          "base_uri": "https://localhost:8080/",
          "height": 34
        }
      },
      "source": [
        "mean_squared_error(y_test,linear_prd)"
      ],
      "execution_count": 48,
      "outputs": [
        {
          "output_type": "execute_result",
          "data": {
            "text/plain": [
              "6083.26189645167"
            ]
          },
          "metadata": {
            "tags": []
          },
          "execution_count": 48
        }
      ]
    },
    {
      "cell_type": "markdown",
      "metadata": {
        "id": "JtArDxpGZPt_",
        "colab_type": "text"
      },
      "source": [
        "The error value is 6083, which is too high."
      ]
    },
    {
      "cell_type": "markdown",
      "metadata": {
        "id": "H30ILcf8ZLxn",
        "colab_type": "text"
      },
      "source": [
        "The below chart shows the actual values vs the predicted values. As it is shown, most of the predicted value are fitting in the specific part and not cover all cases."
      ]
    },
    {
      "cell_type": "code",
      "metadata": {
        "id": "L8h19ikC8IoW",
        "colab_type": "code",
        "outputId": "1ed8038d-7200-42a2-ec77-67011837dd64",
        "colab": {
          "base_uri": "https://localhost:8080/",
          "height": 282
        }
      },
      "source": [
        "plt.scatter(x_train_reduced,y_train,color='blue')\n",
        "plt.plot(x_test_reduced,linear_prd,color='red')"
      ],
      "execution_count": 49,
      "outputs": [
        {
          "output_type": "execute_result",
          "data": {
            "text/plain": [
              "[<matplotlib.lines.Line2D at 0x7f6368694518>]"
            ]
          },
          "metadata": {
            "tags": []
          },
          "execution_count": 49
        },
        {
          "output_type": "display_data",
          "data": {
            "image/png": "[encoded data removed]",
            "text/plain": [
              "<Figure size 432x288 with 1 Axes>"
            ]
          },
          "metadata": {
            "tags": []
          }
        }
      ]
    },
    {
      "cell_type": "markdown",
      "metadata": {
        "id": "UW-tKgxIZFK4",
        "colab_type": "text"
      },
      "source": [
        "Let see the intercept and the coefficient of the linear regression model."
      ]
    },
    {
      "cell_type": "code",
      "metadata": {
        "id": "fG-eSdtKBPth",
        "colab_type": "code",
        "outputId": "94146650-a784-4877-c90e-73bb3d848d85",
        "colab": {
          "base_uri": "https://localhost:8080/",
          "height": 105
        }
      },
      "source": [
        "linear_mdl.intercept_,linear_mdl.coef_"
      ],
      "execution_count": 50,
      "outputs": [
        {
          "output_type": "execute_result",
          "data": {
            "text/plain": [
              "(array([98.37306224]),\n",
              " array([[ 2.88302322e+03, -2.82451894e+03, -5.75839675e+02,\n",
              "         -4.16898391e+01,  7.79049608e+00,  6.30486438e+01,\n",
              "         -7.34337560e+01, -1.43607541e+01,  9.95539917e+00,\n",
              "         -9.96986608e+00, -2.12716015e+00, -9.46009335e+00]]))"
            ]
          },
          "metadata": {
            "tags": []
          },
          "execution_count": 50
        }
      ]
    },
    {
      "cell_type": "markdown",
      "metadata": {
        "id": "U8pzucL3ZCbR",
        "colab_type": "text"
      },
      "source": [
        "Stochastic Gradient Descent can be use to get the proper intercept and coefficient for the data."
      ]
    },
    {
      "cell_type": "code",
      "metadata": {
        "id": "uxm5uRHRGsrO",
        "colab_type": "code",
        "outputId": "09705097-d8bb-4783-aecf-8e410b318d81",
        "colab": {
          "base_uri": "https://localhost:8080/",
          "height": 178
        }
      },
      "source": [
        "from sklearn.linear_model import SGDRegressor\n",
        "sgd_reg=SGDRegressor(max_iter=1000,tol=0.003,eta0=0.1,random_state=56)\n",
        "sgd_reg.fit(x_train_scaled,y_train)"
      ],
      "execution_count": 51,
      "outputs": [
        {
          "output_type": "stream",
          "text": [
            "/usr/local/lib/python3.6/dist-packages/sklearn/utils/validation.py:760: DataConversionWarning: A column-vector y was passed when a 1d array was expected. Please change the shape of y to (n_samples, ), for example using ravel().\n",
            "  y = column_or_1d(y, warn=True)\n"
          ],
          "name": "stderr"
        },
        {
          "output_type": "execute_result",
          "data": {
            "text/plain": [
              "SGDRegressor(alpha=0.0001, average=False, early_stopping=False, epsilon=0.1,\n",
              "             eta0=0.1, fit_intercept=True, l1_ratio=0.15,\n",
              "             learning_rate='invscaling', loss='squared_loss', max_iter=1000,\n",
              "             n_iter_no_change=5, penalty='l2', power_t=0.25, random_state=56,\n",
              "             shuffle=True, tol=0.003, validation_fraction=0.1, verbose=0,\n",
              "             warm_start=False)"
            ]
          },
          "metadata": {
            "tags": []
          },
          "execution_count": 51
        }
      ]
    },
    {
      "cell_type": "code",
      "metadata": {
        "id": "gQ-dYDHaHfzh",
        "colab_type": "code",
        "outputId": "3b13830c-7a3e-4af6-bf8d-375a47e9de8e",
        "colab": {
          "base_uri": "https://localhost:8080/",
          "height": 87
        }
      },
      "source": [
        "sgd_reg.intercept_,sgd_reg.coef_"
      ],
      "execution_count": 52,
      "outputs": [
        {
          "output_type": "execute_result",
          "data": {
            "text/plain": [
              "(array([104.41666874]),\n",
              " array([  5.61008675,  -1.37022407,  -4.40301301,  10.26727283,\n",
              "         12.41251379,  66.24790862, -77.98539112,  -9.06936114,\n",
              "         -0.38328376, -15.75733646,  -7.44625422, -14.70631024]))"
            ]
          },
          "metadata": {
            "tags": []
          },
          "execution_count": 52
        }
      ]
    },
    {
      "cell_type": "markdown",
      "metadata": {
        "id": "LfZwV1ZRY_Ok",
        "colab_type": "text"
      },
      "source": [
        "As it is shown above, there is a difference between the linear regression intercept and coefficient than the stochastic gradient descent intercept and coefficient. So, the linear regression does not fit the data. For that let use the non-linear regression.\n",
        "Let evaluate the linear regression using k-fold to make sure of the accuracy. K-fold generates random index to cover all cases as their ration in the data.\n"
      ]
    },
    {
      "cell_type": "markdown",
      "metadata": {
        "id": "34Ew_ZSXYsYE",
        "colab_type": "text"
      },
      "source": [
        "##Evaluate Using k-fold"
      ]
    },
    {
      "cell_type": "markdown",
      "metadata": {
        "id": "C9XrdCANY5Jl",
        "colab_type": "text"
      },
      "source": [
        "Using KFold with number of splits is 5, which is the default."
      ]
    },
    {
      "cell_type": "code",
      "metadata": {
        "id": "0HlLJi4wISRr",
        "colab_type": "code",
        "outputId": "5d2dde57-f6d8-445b-8682-836be2ab448f",
        "colab": {
          "base_uri": "https://localhost:8080/",
          "height": 72
        }
      },
      "source": [
        "kfold=KFold(n_splits=5,random_state=56)"
      ],
      "execution_count": 53,
      "outputs": [
        {
          "output_type": "stream",
          "text": [
            "/usr/local/lib/python3.6/dist-packages/sklearn/model_selection/_split.py:296: FutureWarning: Setting a random_state has no effect since shuffle is False. This will raise an error in 0.24. You should leave random_state to its default (None), or set shuffle=True.\n",
            "  FutureWarning\n"
          ],
          "name": "stderr"
        }
      ]
    },
    {
      "cell_type": "code",
      "metadata": {
        "id": "QpzP1zksG1V5",
        "colab_type": "code",
        "colab": {}
      },
      "source": [
        "x_train_scaled=x_train_scaled.to_numpy()\n",
        "x_test_scaled=x_test_scaled.to_numpy()"
      ],
      "execution_count": 0,
      "outputs": []
    },
    {
      "cell_type": "code",
      "metadata": {
        "id": "aqWdtR2aH_Je",
        "colab_type": "code",
        "colab": {
          "base_uri": "https://localhost:8080/",
          "height": 34
        },
        "outputId": "c7a707b3-1bb8-48ee-dbf9-e1520900226e"
      },
      "source": [
        "x_train_scaled.shape"
      ],
      "execution_count": 55,
      "outputs": [
        {
          "output_type": "execute_result",
          "data": {
            "text/plain": [
              "(30676, 12)"
            ]
          },
          "metadata": {
            "tags": []
          },
          "execution_count": 55
        }
      ]
    },
    {
      "cell_type": "code",
      "metadata": {
        "id": "gWsQl_BVIBzV",
        "colab_type": "code",
        "colab": {
          "base_uri": "https://localhost:8080/",
          "height": 34
        },
        "outputId": "cc877552-62c8-43bf-a1f4-e7b5e24cae57"
      },
      "source": [
        "x_test_scaled.shape"
      ],
      "execution_count": 56,
      "outputs": [
        {
          "output_type": "execute_result",
          "data": {
            "text/plain": [
              "(13148, 12)"
            ]
          },
          "metadata": {
            "tags": []
          },
          "execution_count": 56
        }
      ]
    },
    {
      "cell_type": "markdown",
      "metadata": {
        "id": "J4-wlaqbYq4H",
        "colab_type": "text"
      },
      "source": [
        "Now, let generate data using the k-fold generated indexes."
      ]
    },
    {
      "cell_type": "code",
      "metadata": {
        "id": "KVSfezTGTcyk",
        "colab_type": "code",
        "colab": {}
      },
      "source": [
        "for train_index,test_index in kfold.split(x_train_scaled):\n",
        "  x_train_kfold=x_train_scaled[train_index]\n",
        "  y_train_kfold = y_train[train_index]\n",
        "  x_test_kfold=x_train_scaled[test_index]\n",
        "  y_test_kfold = y_train[test_index]"
      ],
      "execution_count": 0,
      "outputs": []
    },
    {
      "cell_type": "markdown",
      "metadata": {
        "id": "0gGcoEs3Yona",
        "colab_type": "text"
      },
      "source": [
        "Check the output."
      ]
    },
    {
      "cell_type": "code",
      "metadata": {
        "id": "bT2p-o-kUC1x",
        "colab_type": "code",
        "outputId": "f5c74ea9-2961-4347-9966-efebf33f469d",
        "colab": {
          "base_uri": "https://localhost:8080/",
          "height": 34
        }
      },
      "source": [
        "x_train_kfold.shape"
      ],
      "execution_count": 58,
      "outputs": [
        {
          "output_type": "execute_result",
          "data": {
            "text/plain": [
              "(24541, 12)"
            ]
          },
          "metadata": {
            "tags": []
          },
          "execution_count": 58
        }
      ]
    },
    {
      "cell_type": "code",
      "metadata": {
        "id": "tz44kW-3UGgp",
        "colab_type": "code",
        "outputId": "56c757ea-36b5-4a01-cd43-9749b8b66014",
        "colab": {
          "base_uri": "https://localhost:8080/",
          "height": 34
        }
      },
      "source": [
        "y_train_kfold.shape"
      ],
      "execution_count": 59,
      "outputs": [
        {
          "output_type": "execute_result",
          "data": {
            "text/plain": [
              "(24541, 1)"
            ]
          },
          "metadata": {
            "tags": []
          },
          "execution_count": 59
        }
      ]
    },
    {
      "cell_type": "code",
      "metadata": {
        "id": "4btLq13ZeGvL",
        "colab_type": "code",
        "outputId": "4852ff3a-180e-4775-9df7-d20b5e9adcdf",
        "colab": {
          "base_uri": "https://localhost:8080/",
          "height": 34
        }
      },
      "source": [
        "x_test_kfold.shape"
      ],
      "execution_count": 60,
      "outputs": [
        {
          "output_type": "execute_result",
          "data": {
            "text/plain": [
              "(6135, 12)"
            ]
          },
          "metadata": {
            "tags": []
          },
          "execution_count": 60
        }
      ]
    },
    {
      "cell_type": "code",
      "metadata": {
        "id": "isyCY6tOeJAW",
        "colab_type": "code",
        "outputId": "e10ad041-2ebe-486c-ecd2-bf8aec42d426",
        "colab": {
          "base_uri": "https://localhost:8080/",
          "height": 34
        }
      },
      "source": [
        "y_test_kfold.shape"
      ],
      "execution_count": 61,
      "outputs": [
        {
          "output_type": "execute_result",
          "data": {
            "text/plain": [
              "(6135, 1)"
            ]
          },
          "metadata": {
            "tags": []
          },
          "execution_count": 61
        }
      ]
    },
    {
      "cell_type": "markdown",
      "metadata": {
        "id": "1oGHNaduqhr-",
        "colab_type": "text"
      },
      "source": [
        "Evaluate using k-fold\n"
      ]
    },
    {
      "cell_type": "markdown",
      "metadata": {
        "id": "trY8xBVyYaI8",
        "colab_type": "text"
      },
      "source": [
        "Now, use the test set to test the linear regression model."
      ]
    },
    {
      "cell_type": "code",
      "metadata": {
        "id": "5hvOeahCUNn4",
        "colab_type": "code",
        "outputId": "33023bfa-b4e9-4f28-d3be-ea720e868127",
        "colab": {
          "base_uri": "https://localhost:8080/",
          "height": 140
        }
      },
      "source": [
        "linear_prd_kfold=linear_mdl.predict(x_test_kfold)\n",
        "linear_prd_kfold"
      ],
      "execution_count": 62,
      "outputs": [
        {
          "output_type": "execute_result",
          "data": {
            "text/plain": [
              "array([[ 93.00562267],\n",
              "       [ 97.87437615],\n",
              "       [104.54418387],\n",
              "       ...,\n",
              "       [109.06748734],\n",
              "       [142.78174022],\n",
              "       [116.73714871]])"
            ]
          },
          "metadata": {
            "tags": []
          },
          "execution_count": 62
        }
      ]
    },
    {
      "cell_type": "code",
      "metadata": {
        "id": "2K0SoLHgXEeF",
        "colab_type": "code",
        "outputId": "0555e3cd-3d27-493a-9dc0-d14e21d0a266",
        "colab": {
          "base_uri": "https://localhost:8080/",
          "height": 34
        }
      },
      "source": [
        "linear_score_kfold=linear_mdl.score(x_test_kfold,y_test_kfold)\n",
        "linear_score_kfold"
      ],
      "execution_count": 104,
      "outputs": [
        {
          "output_type": "execute_result",
          "data": {
            "text/plain": [
              "0.2510642577448706"
            ]
          },
          "metadata": {
            "tags": []
          },
          "execution_count": 104
        }
      ]
    },
    {
      "cell_type": "markdown",
      "metadata": {
        "id": "3imQDx9CYVBq",
        "colab_type": "text"
      },
      "source": [
        "The accuracy, as in the above, is 25%, which is still low. For that, Linear regression does not fit the data and non-linear regression would be better."
      ]
    },
    {
      "cell_type": "markdown",
      "metadata": {
        "id": "lLnDn5cQYSJc",
        "colab_type": "text"
      },
      "source": [
        "Let, generate a chart to show the relation between the mean squared error of the training data and testing data."
      ]
    },
    {
      "cell_type": "code",
      "metadata": {
        "id": "eJWxrEpAWhhs",
        "colab_type": "code",
        "colab": {}
      },
      "source": [
        "def plot_learning_curves(model,x,y):\n",
        "  x_train,x_test,y_train,y_test = train_test_split(x,y,test_size=0.2)\n",
        "  train_errors, test_errors = [], []\n",
        "  for m in range(1,len(x_train)):\n",
        "    model.fit(x_train[:m],y_train[:m])\n",
        "    y_train_prd = model.predict(x_train[:m])\n",
        "    y_test_prd = model.predict(x_test)\n",
        "    train_errors.append(mean_squared_error(y_train_prd,y_train[:m]))\n",
        "    test_errors.append(mean_squared_error(y_test_prd,y_test))\n",
        "  plt.plot(np.sqrt(train_errors),'r-+',linewidth=2,label='train')\n",
        "  plt.plot(np.sqrt(test_errors),'b-',linewidth=3,label='test')\n",
        "  plt.legend(loc='best')\n"
      ],
      "execution_count": 0,
      "outputs": []
    },
    {
      "cell_type": "code",
      "metadata": {
        "id": "eLEKlRckYWfJ",
        "colab_type": "code",
        "colab": {}
      },
      "source": [
        "linear_mdl = LinearRegression()"
      ],
      "execution_count": 0,
      "outputs": []
    },
    {
      "cell_type": "code",
      "metadata": {
        "id": "ZALfmQf6ZAJ7",
        "colab_type": "code",
        "colab": {
          "base_uri": "https://localhost:8080/",
          "height": 265
        },
        "outputId": "3cc792b9-43b5-4850-e2c7-c1a147151a48"
      },
      "source": [
        "plot_learning_curves(linear_mdl,x_train_scaled,y_train)"
      ],
      "execution_count": 121,
      "outputs": [
        {
          "output_type": "display_data",
          "data": {
            "image/png": "[encoded data removed]",
            "text/plain": [
              "<Figure size 432x288 with 1 Axes>"
            ]
          },
          "metadata": {
            "tags": []
          }
        }
      ]
    },
    {
      "cell_type": "markdown",
      "metadata": {
        "id": "wvh5SY24X06u",
        "colab_type": "text"
      },
      "source": [
        "From the chart above, the model at beginning starts at Zero for the training model. Then, the error increased while the training data size increasing until it reached value that cannot handle or fit the data and stay on this value even with more data. While, the model for testing data, start with high error value which means the model did not learn will from the data. As the size of testing data increases, the error value decrease. Until it reaches a point that could not be improved even with increasing in data size."
      ]
    },
    {
      "cell_type": "markdown",
      "metadata": {
        "id": "KfrGCzyPOIsz",
        "colab_type": "text"
      },
      "source": [
        "#Non-linear Regression"
      ]
    },
    {
      "cell_type": "markdown",
      "metadata": {
        "id": "tX5AHrHeXqGv",
        "colab_type": "text"
      },
      "source": [
        "##Build Non-linear Regression"
      ]
    },
    {
      "cell_type": "markdown",
      "metadata": {
        "id": "pyixNwBvXpQo",
        "colab_type": "text"
      },
      "source": [
        "In this section, Polynomial Features is used to generate non-linear regression. The polynomial features will be used to generate data with 6th degree. Then, provide the result to the linear regression. "
      ]
    },
    {
      "cell_type": "code",
      "metadata": {
        "id": "y5FZcNJ_O4pz",
        "colab_type": "code",
        "colab": {}
      },
      "source": [
        "poly_mdl=PolynomialFeatures(degree=6, include_bias=False)\n",
        "x_poly=poly_mdl.fit_transform(x_train_scaled)"
      ],
      "execution_count": 0,
      "outputs": []
    },
    {
      "cell_type": "code",
      "metadata": {
        "id": "Iy04ppZEVdTe",
        "colab_type": "code",
        "colab": {
          "base_uri": "https://localhost:8080/",
          "height": 34
        },
        "outputId": "7ea8f809-0097-4f64-da31-1f0aaf3e0a30"
      },
      "source": [
        "x_poly.shape"
      ],
      "execution_count": 108,
      "outputs": [
        {
          "output_type": "execute_result",
          "data": {
            "text/plain": [
              "(30676, 18563)"
            ]
          },
          "metadata": {
            "tags": []
          },
          "execution_count": 108
        }
      ]
    },
    {
      "cell_type": "code",
      "metadata": {
        "id": "wyirwDDwPVMI",
        "colab_type": "code",
        "colab": {
          "base_uri": "https://localhost:8080/",
          "height": 34
        },
        "outputId": "9cddd791-dfae-47cc-9bd1-c53011049153"
      },
      "source": [
        "Nonlinear_mdl = LinearRegression()\n",
        "Nonlinear_mdl.fit(x_poly,y_train)"
      ],
      "execution_count": 157,
      "outputs": [
        {
          "output_type": "execute_result",
          "data": {
            "text/plain": [
              "LinearRegression(copy_X=True, fit_intercept=True, n_jobs=None, normalize=False)"
            ]
          },
          "metadata": {
            "tags": []
          },
          "execution_count": 157
        }
      ]
    },
    {
      "cell_type": "code",
      "metadata": {
        "id": "AriCCdW5SjzA",
        "colab_type": "code",
        "colab": {
          "base_uri": "https://localhost:8080/",
          "height": 70
        },
        "outputId": "aa8c4cd8-6b14-4668-b9e6-fb66f7cfb075"
      },
      "source": [
        "Nonlinear_mdl.intercept_,Nonlinear_mdl.coef_"
      ],
      "execution_count": 158,
      "outputs": [
        {
          "output_type": "execute_result",
          "data": {
            "text/plain": [
              "(array([102526.97714506]),\n",
              " array([[1.09405502e+04, 1.73770589e+07, 7.90834802e+04, ...,\n",
              "         5.42776156e+02, 3.83288807e+05, 6.96584965e+00]]))"
            ]
          },
          "metadata": {
            "tags": []
          },
          "execution_count": 158
        }
      ]
    },
    {
      "cell_type": "markdown",
      "metadata": {
        "id": "lRTgc2gbXlyZ",
        "colab_type": "text"
      },
      "source": [
        "Now, transform the data to be used to testing to be in the same degree and shape of the model."
      ]
    },
    {
      "cell_type": "code",
      "metadata": {
        "id": "aORNXm6z5DIQ",
        "colab_type": "code",
        "colab": {}
      },
      "source": [
        "x_train_scaled_poly=poly_mdl.transform(x_train_scaled)"
      ],
      "execution_count": 0,
      "outputs": []
    },
    {
      "cell_type": "markdown",
      "metadata": {
        "id": "fUr5Wo9gXhvz",
        "colab_type": "text"
      },
      "source": [
        "Then, predict and generate the accuracy of the model."
      ]
    },
    {
      "cell_type": "code",
      "metadata": {
        "id": "qBa9lyXmR2pq",
        "colab_type": "code",
        "colab": {
          "base_uri": "https://localhost:8080/",
          "height": 140
        },
        "outputId": "a509a2bb-92db-4675-e816-40a9f55fc8d6"
      },
      "source": [
        "Nonlinear_prd=Nonlinear_mdl.predict(x_train_scaled_poly)\n",
        "Nonlinear_prd"
      ],
      "execution_count": 160,
      "outputs": [
        {
          "output_type": "execute_result",
          "data": {
            "text/plain": [
              "array([[192.25534895],\n",
              "       [ 61.30124355],\n",
              "       [ 56.44064979],\n",
              "       ...,\n",
              "       [128.43707333],\n",
              "       [ 52.27333332],\n",
              "       [161.35710341]])"
            ]
          },
          "metadata": {
            "tags": []
          },
          "execution_count": 160
        }
      ]
    },
    {
      "cell_type": "code",
      "metadata": {
        "id": "UwSXRDnX5VGY",
        "colab_type": "code",
        "colab": {
          "base_uri": "https://localhost:8080/",
          "height": 34
        },
        "outputId": "1228747e-1c00-4ad3-8a46-793a36faf3f0"
      },
      "source": [
        "Nonlinear_score=Nonlinear_mdl.score(x_train_scaled_poly,y_train)\n",
        "Nonlinear_score"
      ],
      "execution_count": 162,
      "outputs": [
        {
          "output_type": "execute_result",
          "data": {
            "text/plain": [
              "0.8088363198248798"
            ]
          },
          "metadata": {
            "tags": []
          },
          "execution_count": 162
        }
      ]
    },
    {
      "cell_type": "markdown",
      "metadata": {
        "id": "vECnGF_0XdML",
        "colab_type": "text"
      },
      "source": [
        "So, the accuracy of the non-linear model is 80% which is much better than the linear regression."
      ]
    },
    {
      "cell_type": "markdown",
      "metadata": {
        "id": "WAdc3CAOV9F5",
        "colab_type": "text"
      },
      "source": [
        "Using the mean squared error, the error value of the non-linear model is 1533, which is better than the linear regression."
      ]
    },
    {
      "cell_type": "code",
      "metadata": {
        "id": "wdEr0ZIxRcMR",
        "colab_type": "code",
        "colab": {
          "base_uri": "https://localhost:8080/",
          "height": 34
        },
        "outputId": "d5af150d-0c53-40b0-e26d-64c74033614d"
      },
      "source": [
        "mean_squared_error(y_train,linear_prd)"
      ],
      "execution_count": 115,
      "outputs": [
        {
          "output_type": "execute_result",
          "data": {
            "text/plain": [
              "1533.530348995897"
            ]
          },
          "metadata": {
            "tags": []
          },
          "execution_count": 115
        }
      ]
    },
    {
      "cell_type": "markdown",
      "metadata": {
        "id": "ezyC1xL-qdEU",
        "colab_type": "text"
      },
      "source": [
        "##Evaluate using k-fold"
      ]
    },
    {
      "cell_type": "code",
      "metadata": {
        "id": "K82OoTPwqR-G",
        "colab_type": "code",
        "colab": {
          "base_uri": "https://localhost:8080/",
          "height": 140
        },
        "outputId": "04ad9004-1ddf-42c6-dde4-e502d88c722d"
      },
      "source": [
        "poly_prd_kfold=linear_mdl.predict(x_train_scaled_poly)\n",
        "poly_prd_kfold"
      ],
      "execution_count": 116,
      "outputs": [
        {
          "output_type": "execute_result",
          "data": {
            "text/plain": [
              "array([[192.25534895],\n",
              "       [ 61.30124355],\n",
              "       [ 56.44064979],\n",
              "       ...,\n",
              "       [128.43707333],\n",
              "       [ 52.27333332],\n",
              "       [161.35710341]])"
            ]
          },
          "metadata": {
            "tags": []
          },
          "execution_count": 116
        }
      ]
    },
    {
      "cell_type": "code",
      "metadata": {
        "id": "KZD5fNThqXm9",
        "colab_type": "code",
        "colab": {
          "base_uri": "https://localhost:8080/",
          "height": 34
        },
        "outputId": "dff7bf3a-5925-4504-fc67-5641eb02862a"
      },
      "source": [
        "linear_mdl.score(x_train_scaled_poly,y_train)"
      ],
      "execution_count": 117,
      "outputs": [
        {
          "output_type": "execute_result",
          "data": {
            "text/plain": [
              "0.8088363198248798"
            ]
          },
          "metadata": {
            "tags": []
          },
          "execution_count": 117
        }
      ]
    },
    {
      "cell_type": "markdown",
      "metadata": {
        "id": "aDpAMC4FRAQQ",
        "colab_type": "text"
      },
      "source": [
        "The accuracy of the non-linear regression is 80% with k-fold data"
      ]
    },
    {
      "cell_type": "markdown",
      "metadata": {
        "id": "JHGA1YOiRBNJ",
        "colab_type": "text"
      },
      "source": [
        "##Learning Curve"
      ]
    },
    {
      "cell_type": "markdown",
      "metadata": {
        "id": "emKf2Y61UuXF",
        "colab_type": "text"
      },
      "source": [
        "Generating learning curves for the non-linear regression toke long time. It kept running for almost more than 10 hours. So, the data is used with size 1000."
      ]
    },
    {
      "cell_type": "code",
      "metadata": {
        "id": "gF2519Dialt8",
        "colab_type": "code",
        "colab": {}
      },
      "source": [
        "poly_mdl=Pipeline((\n",
        "    ('poly_features',PolynomialFeatures(degree=6,include_bias=False)),\n",
        "    ('sgd_reg',LinearRegression())\n",
        "))"
      ],
      "execution_count": 0,
      "outputs": []
    },
    {
      "cell_type": "code",
      "metadata": {
        "id": "y8Eb7aY9a-Rh",
        "colab_type": "code",
        "colab": {
          "base_uri": "https://localhost:8080/",
          "height": 265
        },
        "outputId": "a01d86a9-f4a8-4f1f-fd83-2736cc55f8f7"
      },
      "source": [
        " plot_learning_curves(poly_mdl,x_train_scaled[:1000],y_train[:1000])   "
      ],
      "execution_count": 122,
      "outputs": [
        {
          "output_type": "display_data",
          "data": {
            "image/png": "[encoded data removed]",
            "text/plain": [
              "<Figure size 432x288 with 1 Axes>"
            ]
          },
          "metadata": {
            "tags": []
          }
        }
      ]
    },
    {
      "cell_type": "markdown",
      "metadata": {
        "id": "HxvmcgqwRNgv",
        "colab_type": "text"
      },
      "source": [
        "the chart above, shows that the model with training data has low error value with what ever of the data size, but with the testing data the error is zero at the begning. then start flaqtuating from high to low as the data size increasing. Also, the overfitting could be figured out from the chart as the traing data has a low error value but the testing data has a high error value."
      ]
    },
    {
      "cell_type": "markdown",
      "metadata": {
        "id": "HCFX5jgARGCh",
        "colab_type": "text"
      },
      "source": [
        "#Conclusion"
      ]
    },
    {
      "cell_type": "code",
      "metadata": {
        "id": "Yr2pDAOHUzgo",
        "colab_type": "code",
        "colab": {
          "base_uri": "https://localhost:8080/",
          "height": 279
        },
        "outputId": "6a919cb9-de2f-47ac-9257-8f54b797934f"
      },
      "source": [
        "plt.bar('Linear',height=linear_score*100,label='Linear',color='green')\n",
        "plt.bar('Non-Linear',height=Nonlinear_score*100,label='Non-Linear',color='orange')\n",
        "plt.xlabel('Acuuracy')\n",
        "plt.ylabel('%')\n",
        "plt.legend()\n",
        "plt.show()"
      ],
      "execution_count": 131,
      "outputs": [
        {
          "output_type": "display_data",
          "data": {
            "image/png": "[encoded data removed]",
            "text/plain": [
              "<Figure size 432x288 with 1 Axes>"
            ]
          },
          "metadata": {
            "tags": []
          }
        }
      ]
    },
    {
      "cell_type": "markdown",
      "metadata": {
        "id": "R0aI2zbVlWo_",
        "colab_type": "text"
      },
      "source": [
        "With this data set, the linear regression could not fit the data and has 40% accuracy. On the other hand, the non-linear regression has 80% accuracy, which is almost double the accuracy of the linear regression."
      ]
    },
    {
      "cell_type": "markdown",
      "metadata": {
        "id": "FCQNOh19QJ2J",
        "colab_type": "text"
      },
      "source": [
        "#Issued I faced"
      ]
    },
    {
      "cell_type": "markdown",
      "metadata": {
        "id": "ONA7-wEzQNvH",
        "colab_type": "text"
      },
      "source": [
        "-An error always displayed after a while when I chose the degree more than 6 for the polynomial feature. The message said there is no enough memory to allocate a memory.\n",
        "\n",
        "-Generating learning curves for the non-linear regression toke long time. It kept running for almost more than 10 hours. So, the data is used with size 1000."
      ]
    },
    {
      "cell_type": "markdown",
      "metadata": {
        "id": "a5vPD4KffoDO",
        "colab_type": "text"
      },
      "source": [
        "https://archive.ics.uci.edu/ml/datasets/Beijing+PM2.5+Data#\n",
        "\n",
        "https://sju.instructure.com/courses/20477/files/1963041?module_item_id=678434\n",
        "\n",
        "https://scikit-learn.org/stable/modules/generated/sklearn.preprocessing.LabelEncoder.html\n",
        "\n",
        "https://scikit-learn.org/stable/modules/impute.html\n",
        "\n",
        "https://scikit-learn.org/stable/modules/generated/sklearn.model_selection.train_test_split.html\n",
        "\n",
        "https://scikit-learn.org/stable/modules/generated/sklearn.linear_model.LinearRegression.html#sklearn.linear_model.LinearRegression.fit\n",
        "\n",
        "https://riptutorial.com/scikit-learn/example/27963/k-fold-cross-validation"
      ]
    }
  ]
}