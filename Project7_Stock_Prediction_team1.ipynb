{
  "nbformat": 4,
  "nbformat_minor": 0,
  "metadata": {
    "colab": {
      "name": "Project7_Stock_Prediction_team1.ipynb",
      "provenance": [],
      "collapsed_sections": [],
      "include_colab_link": true
    },
    "kernelspec": {
      "name": "python3",
      "display_name": "Python 3"
    }
  },
  "cells": [
    {
      "cell_type": "markdown",
      "metadata": {
        "id": "view-in-github",
        "colab_type": "text"
      },
      "source": [
        "<a href=\"https://colab.research.google.com/github/ahshawaf/AML/blob/project7/Project7_Stock_Prediction_team1.ipynb\" target=\"_parent\"><img src=\"https://colab.research.google.com/assets/colab-badge.svg\" alt=\"Open In Colab\"/></a>"
      ]
    },
    {
      "cell_type": "markdown",
      "metadata": {
        "id": "aJ0DfM6ZVu8y",
        "colab_type": "text"
      },
      "source": [
        "![alt text](https://dataanalyticsedge.com/wp-content/uploads/2019/11/stocks_BSE_Nifty_Sensex__markets_bse_nse_nifty-1_1280-770x433.jpg)\n",
        "\n",
        "Predicting how the stock market will perform is one of the most difficult things to do. There are so many factors involved in the prediction – physical factors vs. physhological, rational and irrational behaviour, etc. All these aspects combine to make share prices volatile and very difficult to predict with a high degree of accuracy.\n",
        "\n",
        "Can we use machine learning as a game changer in this domain? In this project, historical stock prices data of Apple and Amazon company, from 2006 to 2017, were used for experimentation, using machine learning techniques, such as RNN, LSTM, and GRU.\n"
      ]
    },
    {
      "cell_type": "markdown",
      "metadata": {
        "id": "oIxcpnqOs7NV",
        "colab_type": "text"
      },
      "source": [
        "#Setup"
      ]
    },
    {
      "cell_type": "code",
      "metadata": {
        "id": "b6Ee4UEssJV3",
        "colab_type": "code",
        "outputId": "258fab86-b3c1-404b-a2e6-6744b157a224",
        "colab": {
          "base_uri": "https://localhost:8080/",
          "height": 34
        }
      },
      "source": [
        "# Common Import\n",
        "import sklearn\n",
        "import pandas as pd\n",
        "import numpy as np\n",
        "\n",
        "# Algorithm libraries\n",
        "from keras.models import Sequential\n",
        "from keras.layers import Dense, Dropout, LSTM, GRU, Bidirectional\n",
        "from keras.optimizers import SGD\n",
        "\n",
        "from sklearn.preprocessing import MinMaxScaler\n",
        "from sklearn.metrics import mean_squared_error\n",
        "\n",
        "from datetime import date\n",
        "\n",
        "import math\n",
        "\n",
        "# Visaulization libraries\n",
        "import seaborn as sns\n",
        "%matplotlib inline\n",
        "import matplotlib.pyplot as plt\n",
        "plt.style.use(\"fivethirtyeight\")\n",
        "\n",
        "# Disable warnings\n",
        "import warnings\n",
        "warnings.filterwarnings('ignore')\n",
        "\n",
        "# sklearn version > 0.20 is required \n",
        "sklearn.__version__\n",
        "# Update sklearn -> !pip install -U scikit-learn"
      ],
      "execution_count": 132,
      "outputs": [
        {
          "output_type": "execute_result",
          "data": {
            "text/plain": [
              "'0.22.2.post1'"
            ]
          },
          "metadata": {
            "tags": []
          },
          "execution_count": 132
        }
      ]
    },
    {
      "cell_type": "markdown",
      "metadata": {
        "id": "Jd0nLQnlurxZ",
        "colab_type": "text"
      },
      "source": [
        "#Load Data"
      ]
    },
    {
      "cell_type": "code",
      "metadata": {
        "id": "4Be6vr26uqfm",
        "colab_type": "code",
        "colab": {}
      },
      "source": [
        "apple_stock = pd.read_csv('https://raw.githubusercontent.com/seansothey/CSC685/master/AAPL_2006-01-01_to_2018-01-01.csv',index_col='Date', parse_dates=[\"Date\"]) "
      ],
      "execution_count": 0,
      "outputs": []
    },
    {
      "cell_type": "code",
      "metadata": {
        "id": "d89wRAHRv2ZM",
        "colab_type": "code",
        "outputId": "cd95f7a5-badf-41af-8d46-32e864901bab",
        "colab": {
          "base_uri": "https://localhost:8080/",
          "height": 431
        }
      },
      "source": [
        "apple_stock"
      ],
      "execution_count": 0,
      "outputs": [
        {
          "output_type": "execute_result",
          "data": {
            "text/html": [
              "<div>\n",
              "<style scoped>\n",
              "    .dataframe tbody tr th:only-of-type {\n",
              "        vertical-align: middle;\n",
              "    }\n",
              "\n",
              "    .dataframe tbody tr th {\n",
              "        vertical-align: top;\n",
              "    }\n",
              "\n",
              "    .dataframe thead th {\n",
              "        text-align: right;\n",
              "    }\n",
              "</style>\n",
              "<table border=\"1\" class=\"dataframe\">\n",
              "  <thead>\n",
              "    <tr style=\"text-align: right;\">\n",
              "      <th></th>\n",
              "      <th>Open</th>\n",
              "      <th>High</th>\n",
              "      <th>Low</th>\n",
              "      <th>Close</th>\n",
              "      <th>Volume</th>\n",
              "      <th>Name</th>\n",
              "    </tr>\n",
              "    <tr>\n",
              "      <th>Date</th>\n",
              "      <th></th>\n",
              "      <th></th>\n",
              "      <th></th>\n",
              "      <th></th>\n",
              "      <th></th>\n",
              "      <th></th>\n",
              "    </tr>\n",
              "  </thead>\n",
              "  <tbody>\n",
              "    <tr>\n",
              "      <th>2006-01-03</th>\n",
              "      <td>10.34</td>\n",
              "      <td>10.68</td>\n",
              "      <td>10.32</td>\n",
              "      <td>10.68</td>\n",
              "      <td>201853036</td>\n",
              "      <td>AAPL</td>\n",
              "    </tr>\n",
              "    <tr>\n",
              "      <th>2006-01-04</th>\n",
              "      <td>10.73</td>\n",
              "      <td>10.85</td>\n",
              "      <td>10.64</td>\n",
              "      <td>10.71</td>\n",
              "      <td>155225609</td>\n",
              "      <td>AAPL</td>\n",
              "    </tr>\n",
              "    <tr>\n",
              "      <th>2006-01-05</th>\n",
              "      <td>10.69</td>\n",
              "      <td>10.70</td>\n",
              "      <td>10.54</td>\n",
              "      <td>10.63</td>\n",
              "      <td>112396081</td>\n",
              "      <td>AAPL</td>\n",
              "    </tr>\n",
              "    <tr>\n",
              "      <th>2006-01-06</th>\n",
              "      <td>10.75</td>\n",
              "      <td>10.96</td>\n",
              "      <td>10.65</td>\n",
              "      <td>10.90</td>\n",
              "      <td>176139334</td>\n",
              "      <td>AAPL</td>\n",
              "    </tr>\n",
              "    <tr>\n",
              "      <th>2006-01-09</th>\n",
              "      <td>10.96</td>\n",
              "      <td>11.03</td>\n",
              "      <td>10.82</td>\n",
              "      <td>10.86</td>\n",
              "      <td>168861224</td>\n",
              "      <td>AAPL</td>\n",
              "    </tr>\n",
              "    <tr>\n",
              "      <th>...</th>\n",
              "      <td>...</td>\n",
              "      <td>...</td>\n",
              "      <td>...</td>\n",
              "      <td>...</td>\n",
              "      <td>...</td>\n",
              "      <td>...</td>\n",
              "    </tr>\n",
              "    <tr>\n",
              "      <th>2017-12-22</th>\n",
              "      <td>174.68</td>\n",
              "      <td>175.42</td>\n",
              "      <td>174.50</td>\n",
              "      <td>175.01</td>\n",
              "      <td>16349444</td>\n",
              "      <td>AAPL</td>\n",
              "    </tr>\n",
              "    <tr>\n",
              "      <th>2017-12-26</th>\n",
              "      <td>170.80</td>\n",
              "      <td>171.47</td>\n",
              "      <td>169.68</td>\n",
              "      <td>170.57</td>\n",
              "      <td>33185536</td>\n",
              "      <td>AAPL</td>\n",
              "    </tr>\n",
              "    <tr>\n",
              "      <th>2017-12-27</th>\n",
              "      <td>170.10</td>\n",
              "      <td>170.78</td>\n",
              "      <td>169.71</td>\n",
              "      <td>170.60</td>\n",
              "      <td>21498213</td>\n",
              "      <td>AAPL</td>\n",
              "    </tr>\n",
              "    <tr>\n",
              "      <th>2017-12-28</th>\n",
              "      <td>171.00</td>\n",
              "      <td>171.85</td>\n",
              "      <td>170.48</td>\n",
              "      <td>171.08</td>\n",
              "      <td>16480187</td>\n",
              "      <td>AAPL</td>\n",
              "    </tr>\n",
              "    <tr>\n",
              "      <th>2017-12-29</th>\n",
              "      <td>170.52</td>\n",
              "      <td>170.59</td>\n",
              "      <td>169.22</td>\n",
              "      <td>169.23</td>\n",
              "      <td>25999922</td>\n",
              "      <td>AAPL</td>\n",
              "    </tr>\n",
              "  </tbody>\n",
              "</table>\n",
              "<p>3019 rows × 6 columns</p>\n",
              "</div>"
            ],
            "text/plain": [
              "              Open    High     Low   Close     Volume  Name\n",
              "Date                                                       \n",
              "2006-01-03   10.34   10.68   10.32   10.68  201853036  AAPL\n",
              "2006-01-04   10.73   10.85   10.64   10.71  155225609  AAPL\n",
              "2006-01-05   10.69   10.70   10.54   10.63  112396081  AAPL\n",
              "2006-01-06   10.75   10.96   10.65   10.90  176139334  AAPL\n",
              "2006-01-09   10.96   11.03   10.82   10.86  168861224  AAPL\n",
              "...            ...     ...     ...     ...        ...   ...\n",
              "2017-12-22  174.68  175.42  174.50  175.01   16349444  AAPL\n",
              "2017-12-26  170.80  171.47  169.68  170.57   33185536  AAPL\n",
              "2017-12-27  170.10  170.78  169.71  170.60   21498213  AAPL\n",
              "2017-12-28  171.00  171.85  170.48  171.08   16480187  AAPL\n",
              "2017-12-29  170.52  170.59  169.22  169.23   25999922  AAPL\n",
              "\n",
              "[3019 rows x 6 columns]"
            ]
          },
          "metadata": {
            "tags": []
          },
          "execution_count": 3
        }
      ]
    },
    {
      "cell_type": "markdown",
      "metadata": {
        "id": "GmIEwhXF5qi2",
        "colab_type": "text"
      },
      "source": [
        "Check if there're missing data"
      ]
    },
    {
      "cell_type": "code",
      "metadata": {
        "id": "JuOOhchc5q7Y",
        "colab_type": "code",
        "outputId": "dd483eee-9173-4db0-ef01-59d9d922c594",
        "colab": {
          "base_uri": "https://localhost:8080/",
          "height": 134
        }
      },
      "source": [
        "apple_stock.isna().sum()"
      ],
      "execution_count": 0,
      "outputs": [
        {
          "output_type": "execute_result",
          "data": {
            "text/plain": [
              "Open      0\n",
              "High      0\n",
              "Low       0\n",
              "Close     0\n",
              "Volume    0\n",
              "Name      0\n",
              "dtype: int64"
            ]
          },
          "metadata": {
            "tags": []
          },
          "execution_count": 4
        }
      ]
    },
    {
      "cell_type": "markdown",
      "metadata": {
        "id": "Bn06gruX6puc",
        "colab_type": "text"
      },
      "source": [
        "No missing values. GREAT !!!"
      ]
    },
    {
      "cell_type": "markdown",
      "metadata": {
        "id": "AczLNf8uvsc5",
        "colab_type": "text"
      },
      "source": [
        "The assignment promts to use 12 motnths record; therefore, let's use data in 2016 as a training set and 2017 as a test set, by using only price 'High' column"
      ]
    },
    {
      "cell_type": "code",
      "metadata": {
        "id": "h0Yb9zJkvpxP",
        "colab_type": "code",
        "colab": {}
      },
      "source": [
        "train_2016 = apple_stock[:'2016'].iloc[:,1:2].values\n",
        "test_2017 = apple_stock['2017':].iloc[:,1:2].values"
      ],
      "execution_count": 0,
      "outputs": []
    },
    {
      "cell_type": "code",
      "metadata": {
        "id": "lyfqTDmD8Rcl",
        "colab_type": "code",
        "outputId": "f5db1e12-6390-481f-d868-b6e1c05553ae",
        "colab": {
          "base_uri": "https://localhost:8080/",
          "height": 34
        }
      },
      "source": [
        "train_2016.shape, test_2017.shape"
      ],
      "execution_count": 0,
      "outputs": [
        {
          "output_type": "execute_result",
          "data": {
            "text/plain": [
              "((2768, 1), (251, 1))"
            ]
          },
          "metadata": {
            "tags": []
          },
          "execution_count": 10
        }
      ]
    },
    {
      "cell_type": "markdown",
      "metadata": {
        "id": "xNB1reInyxMh",
        "colab_type": "text"
      },
      "source": [
        "###Visualization of \"High\" attribute"
      ]
    },
    {
      "cell_type": "code",
      "metadata": {
        "id": "occj27yo3q1r",
        "colab_type": "code",
        "outputId": "bef87abc-1e36-4bff-e5b2-d175e58850ab",
        "colab": {
          "base_uri": "https://localhost:8080/",
          "height": 384
        }
      },
      "source": [
        "apple_stock[\"High\"][:'2016'].plot(figsize=(16,6), legend=True)\n",
        "apple_stock[\"High\"][\"2017\":].plot(figsize=(16,6), legend=True)\n",
        "plt.legend([\"Price 'High' 2016\", \"Price 'High' 2017\"])\n",
        "plt.title(\"Apple Stock\")\n",
        "plt.show()"
      ],
      "execution_count": 0,
      "outputs": [
        {
          "output_type": "display_data",
          "data": {
            "image/png": "[encoded data removed]",
            "text/plain": [
              "<Figure size 1152x432 with 1 Axes>"
            ]
          },
          "metadata": {
            "tags": [],
            "needs_background": "light"
          }
        }
      ]
    },
    {
      "cell_type": "markdown",
      "metadata": {
        "id": "W6Qi1G4u7DkA",
        "colab_type": "text"
      },
      "source": [
        "###Scale the training set"
      ]
    },
    {
      "cell_type": "code",
      "metadata": {
        "id": "--e8WIL263UQ",
        "colab_type": "code",
        "colab": {}
      },
      "source": [
        "sc = MinMaxScaler(feature_range=(0,1))\n",
        "train_sc = sc.fit_transform(train_2016)"
      ],
      "execution_count": 0,
      "outputs": []
    },
    {
      "cell_type": "markdown",
      "metadata": {
        "id": "7uuO76A39Fai",
        "colab_type": "text"
      },
      "source": [
        "###Create traininig set for LSTM with X=10 days for each output y"
      ]
    },
    {
      "cell_type": "code",
      "metadata": {
        "id": "5HfjvrxW63SF",
        "colab_type": "code",
        "colab": {}
      },
      "source": [
        "X_train = []\n",
        "y_train = []\n",
        "\n",
        "for i in range(10,train_2016.shape[0]):\n",
        "    X_train.append(train_sc[i-10:i, 0])\n",
        "    y_train.append(train_sc[i,0])\n",
        "\n",
        "X_train, y_train = np.array(X_train), np.array(y_train)"
      ],
      "execution_count": 0,
      "outputs": []
    },
    {
      "cell_type": "code",
      "metadata": {
        "id": "0biOwdNH63Ml",
        "colab_type": "code",
        "outputId": "98b69b5f-c58d-4dfa-d687-457e2ca8b0f4",
        "colab": {
          "base_uri": "https://localhost:8080/",
          "height": 50
        }
      },
      "source": [
        "X_train[0] # 10 days data"
      ],
      "execution_count": 0,
      "outputs": [
        {
          "output_type": "execute_result",
          "data": {
            "text/plain": [
              "array([0.0245708 , 0.02590959, 0.0247283 , 0.02677587, 0.02732714,\n",
              "       0.03260356, 0.03583241, 0.03764372, 0.03724996, 0.03764372])"
            ]
          },
          "metadata": {
            "tags": []
          },
          "execution_count": 16
        }
      ]
    },
    {
      "cell_type": "code",
      "metadata": {
        "id": "xD0AkE2K-lwj",
        "colab_type": "code",
        "outputId": "78f47154-2aba-4f88-a8ac-217b7268c25d",
        "colab": {
          "base_uri": "https://localhost:8080/",
          "height": 34
        }
      },
      "source": [
        "y_train[0]"
      ],
      "execution_count": 0,
      "outputs": [
        {
          "output_type": "execute_result",
          "data": {
            "text/plain": [
              "0.035044888958891164"
            ]
          },
          "metadata": {
            "tags": []
          },
          "execution_count": 17
        }
      ]
    },
    {
      "cell_type": "code",
      "metadata": {
        "id": "UXFx2WXo-0zq",
        "colab_type": "code",
        "outputId": "b14d2c84-f2b0-494e-a82f-4cfdbeea5abc",
        "colab": {
          "base_uri": "https://localhost:8080/",
          "height": 34
        }
      },
      "source": [
        "X_train.shape, y_train.shape"
      ],
      "execution_count": 0,
      "outputs": [
        {
          "output_type": "execute_result",
          "data": {
            "text/plain": [
              "((2758, 10), (2758,))"
            ]
          },
          "metadata": {
            "tags": []
          },
          "execution_count": 18
        }
      ]
    },
    {
      "cell_type": "code",
      "metadata": {
        "id": "08PHbiXS_NT8",
        "colab_type": "code",
        "colab": {}
      },
      "source": [
        "# Reshape X_train for efficient modelling\n",
        "\n",
        "X_train = np.reshape(X_train, (X_train.shape[0], X_train.shape[1], 1))"
      ],
      "execution_count": 0,
      "outputs": []
    },
    {
      "cell_type": "code",
      "metadata": {
        "id": "WpicnUQl_Nkp",
        "colab_type": "code",
        "outputId": "5b7a8dcf-2600-41ef-e3b8-dde41470a6d3",
        "colab": {
          "base_uri": "https://localhost:8080/",
          "height": 34
        }
      },
      "source": [
        "X_train.shape"
      ],
      "execution_count": 0,
      "outputs": [
        {
          "output_type": "execute_result",
          "data": {
            "text/plain": [
              "(2758, 10, 1)"
            ]
          },
          "metadata": {
            "tags": []
          },
          "execution_count": 20
        }
      ]
    },
    {
      "cell_type": "markdown",
      "metadata": {
        "id": "Dfk5bxrYAAOT",
        "colab_type": "text"
      },
      "source": [
        "#LSTM's model"
      ]
    },
    {
      "cell_type": "code",
      "metadata": {
        "id": "gH4xZWQtAG9a",
        "colab_type": "code",
        "colab": {}
      },
      "source": [
        "regressor = Sequential()\n",
        "\n",
        "# add first layer with dropout\n",
        "regressor.add(LSTM(units=50, return_sequences=True, input_shape=(X_train.shape[1],1)))\n",
        "regressor.add(Dropout(0.2))\n",
        "\n",
        "# add second layer\n",
        "regressor.add(LSTM(units=50, return_sequences=True))\n",
        "regressor.add(Dropout(0.2))\n",
        "\n",
        "# add third layer\n",
        "regressor.add(LSTM(units=50, return_sequences=True))\n",
        "regressor.add(Dropout(0.2))\n",
        "\n",
        "# add fourth layer\n",
        "regressor.add(LSTM(units=50))\n",
        "regressor.add(Dropout(0.2))\n",
        "\n",
        "# the output layer\n",
        "regressor.add(Dense(units=1))"
      ],
      "execution_count": 0,
      "outputs": []
    },
    {
      "cell_type": "markdown",
      "metadata": {
        "id": "yIlUhQW7AoXt",
        "colab_type": "text"
      },
      "source": [
        "###Compile LSTM RNN network"
      ]
    },
    {
      "cell_type": "code",
      "metadata": {
        "id": "xa_ZZQLPAy8i",
        "colab_type": "code",
        "colab": {}
      },
      "source": [
        "regressor.compile(optimizer='rmsprop', loss='mean_squared_error')"
      ],
      "execution_count": 0,
      "outputs": []
    },
    {
      "cell_type": "markdown",
      "metadata": {
        "id": "yoR4JPBlA4ul",
        "colab_type": "text"
      },
      "source": [
        "###Fit the model with training set"
      ]
    },
    {
      "cell_type": "code",
      "metadata": {
        "id": "mfxlQlNpA2DZ",
        "colab_type": "code",
        "outputId": "7d441e63-7a20-47ee-c86a-39fdac9c2261",
        "colab": {
          "base_uri": "https://localhost:8080/",
          "height": 1000
        }
      },
      "source": [
        "regressor.fit(X_train, y_train, epochs=150, batch_size=32, validation_split=0.30)"
      ],
      "execution_count": 249,
      "outputs": [
        {
          "output_type": "stream",
          "text": [
            "1930/1930 [==============================] - 2s 936us/step - loss: 8.0897e-04 - val_loss: 0.0196\n",
            "Epoch 6/150\n",
            "1930/1930 [==============================] - 2s 949us/step - loss: 7.5643e-04 - val_loss: 0.0091\n",
            "Epoch 7/150\n",
            "1930/1930 [==============================] - 2s 943us/step - loss: 7.7312e-04 - val_loss: 0.0131\n",
            "Epoch 8/150\n",
            "1930/1930 [==============================] - 2s 968us/step - loss: 7.9846e-04 - val_loss: 0.0132\n",
            "Epoch 9/150\n",
            "1930/1930 [==============================] - 2s 995us/step - loss: 8.0203e-04 - val_loss: 0.0096\n",
            "Epoch 10/150\n",
            "1930/1930 [==============================] - 2s 948us/step - loss: 7.2041e-04 - val_loss: 0.0121\n",
            "Epoch 11/150\n",
            "1930/1930 [==============================] - 2s 971us/step - loss: 7.7757e-04 - val_loss: 0.0140\n",
            "Epoch 12/150\n",
            "1930/1930 [==============================] - 2s 973us/step - loss: 7.5673e-04 - val_loss: 0.0122\n",
            "Epoch 13/150\n",
            "1930/1930 [==============================] - 2s 969us/step - loss: 6.8824e-04 - val_loss: 0.0091\n",
            "Epoch 14/150\n",
            "1930/1930 [==============================] - 2s 966us/step - loss: 7.2148e-04 - val_loss: 0.0128\n",
            "Epoch 15/150\n",
            "1930/1930 [==============================] - 2s 954us/step - loss: 7.3094e-04 - val_loss: 0.0120\n",
            "Epoch 16/150\n",
            "1930/1930 [==============================] - 2s 934us/step - loss: 7.0631e-04 - val_loss: 0.0108\n",
            "Epoch 17/150\n",
            "1930/1930 [==============================] - 2s 932us/step - loss: 7.2120e-04 - val_loss: 0.0079\n",
            "Epoch 18/150\n",
            "1930/1930 [==============================] - 2s 950us/step - loss: 7.1484e-04 - val_loss: 0.0096\n",
            "Epoch 19/150\n",
            "1930/1930 [==============================] - 2s 919us/step - loss: 6.8539e-04 - val_loss: 0.0141\n",
            "Epoch 20/150\n",
            "1930/1930 [==============================] - 2s 939us/step - loss: 7.1326e-04 - val_loss: 0.0165\n",
            "Epoch 21/150\n",
            "1930/1930 [==============================] - 2s 944us/step - loss: 7.0059e-04 - val_loss: 0.0115\n",
            "Epoch 22/150\n",
            "1930/1930 [==============================] - 2s 1ms/step - loss: 7.4775e-04 - val_loss: 0.0105\n",
            "Epoch 23/150\n",
            "1930/1930 [==============================] - 2s 959us/step - loss: 6.2358e-04 - val_loss: 0.0113\n",
            "Epoch 24/150\n",
            "1930/1930 [==============================] - 2s 950us/step - loss: 6.5162e-04 - val_loss: 0.0100\n",
            "Epoch 25/150\n",
            "1930/1930 [==============================] - 2s 959us/step - loss: 7.1965e-04 - val_loss: 0.0099\n",
            "Epoch 26/150\n",
            "1930/1930 [==============================] - 2s 942us/step - loss: 6.3927e-04 - val_loss: 0.0084\n",
            "Epoch 27/150\n",
            "1930/1930 [==============================] - 2s 936us/step - loss: 7.0036e-04 - val_loss: 0.0126\n",
            "Epoch 28/150\n",
            "1930/1930 [==============================] - 2s 937us/step - loss: 6.4569e-04 - val_loss: 0.0206\n",
            "Epoch 29/150\n",
            "1930/1930 [==============================] - 2s 939us/step - loss: 6.5368e-04 - val_loss: 0.0084\n",
            "Epoch 30/150\n",
            "1930/1930 [==============================] - 2s 942us/step - loss: 6.4526e-04 - val_loss: 0.0073\n",
            "Epoch 31/150\n",
            "1930/1930 [==============================] - 2s 954us/step - loss: 6.8402e-04 - val_loss: 0.0144\n",
            "Epoch 32/150\n",
            "1930/1930 [==============================] - 2s 937us/step - loss: 6.2717e-04 - val_loss: 0.0092\n",
            "Epoch 33/150\n",
            "1930/1930 [==============================] - 2s 940us/step - loss: 7.2049e-04 - val_loss: 0.0095\n",
            "Epoch 34/150\n",
            "1930/1930 [==============================] - 2s 942us/step - loss: 6.6666e-04 - val_loss: 0.0069\n",
            "Epoch 35/150\n",
            "1930/1930 [==============================] - 2s 949us/step - loss: 6.7140e-04 - val_loss: 0.0073\n",
            "Epoch 36/150\n",
            "1930/1930 [==============================] - 2s 951us/step - loss: 6.0908e-04 - val_loss: 0.0084\n",
            "Epoch 37/150\n",
            "1930/1930 [==============================] - 2s 963us/step - loss: 6.0843e-04 - val_loss: 0.0098\n",
            "Epoch 38/150\n",
            "1930/1930 [==============================] - 2s 939us/step - loss: 6.0248e-04 - val_loss: 0.0129\n",
            "Epoch 39/150\n",
            "1930/1930 [==============================] - 2s 938us/step - loss: 6.2780e-04 - val_loss: 0.0103\n",
            "Epoch 40/150\n",
            "1930/1930 [==============================] - 2s 945us/step - loss: 5.8402e-04 - val_loss: 0.0136\n",
            "Epoch 41/150\n",
            "1930/1930 [==============================] - 2s 939us/step - loss: 6.3102e-04 - val_loss: 0.0119\n",
            "Epoch 42/150\n",
            "1930/1930 [==============================] - 2s 949us/step - loss: 6.2682e-04 - val_loss: 0.0089\n",
            "Epoch 43/150\n",
            "1930/1930 [==============================] - 2s 930us/step - loss: 6.2393e-04 - val_loss: 0.0077\n",
            "Epoch 44/150\n",
            "1930/1930 [==============================] - 2s 914us/step - loss: 6.4944e-04 - val_loss: 0.0071\n",
            "Epoch 45/150\n",
            "1930/1930 [==============================] - 2s 911us/step - loss: 6.3506e-04 - val_loss: 0.0083\n",
            "Epoch 46/150\n",
            "1930/1930 [==============================] - 2s 907us/step - loss: 6.0964e-04 - val_loss: 0.0184\n",
            "Epoch 47/150\n",
            "1930/1930 [==============================] - 2s 905us/step - loss: 6.3191e-04 - val_loss: 0.0125\n",
            "Epoch 48/150\n",
            "1930/1930 [==============================] - 2s 919us/step - loss: 6.2756e-04 - val_loss: 0.0100\n",
            "Epoch 49/150\n",
            "1930/1930 [==============================] - 2s 921us/step - loss: 5.9856e-04 - val_loss: 0.0095\n",
            "Epoch 50/150\n",
            "1930/1930 [==============================] - 2s 933us/step - loss: 6.0660e-04 - val_loss: 0.0107\n",
            "Epoch 51/150\n",
            "1930/1930 [==============================] - 2s 963us/step - loss: 6.1126e-04 - val_loss: 0.0097\n",
            "Epoch 52/150\n",
            "1930/1930 [==============================] - 2s 934us/step - loss: 6.3286e-04 - val_loss: 0.0102\n",
            "Epoch 53/150\n",
            "1930/1930 [==============================] - 2s 956us/step - loss: 6.0255e-04 - val_loss: 0.0142\n",
            "Epoch 54/150\n",
            "1930/1930 [==============================] - 2s 955us/step - loss: 6.0054e-04 - val_loss: 0.0129\n",
            "Epoch 55/150\n",
            "1930/1930 [==============================] - 2s 945us/step - loss: 6.6424e-04 - val_loss: 0.0100\n",
            "Epoch 56/150\n",
            "1930/1930 [==============================] - 2s 931us/step - loss: 5.5251e-04 - val_loss: 0.0060\n",
            "Epoch 57/150\n",
            "1930/1930 [==============================] - 2s 934us/step - loss: 5.6130e-04 - val_loss: 0.0041\n",
            "Epoch 58/150\n",
            "1930/1930 [==============================] - 2s 948us/step - loss: 6.1597e-04 - val_loss: 0.0037\n",
            "Epoch 59/150\n",
            "1930/1930 [==============================] - 2s 928us/step - loss: 6.1903e-04 - val_loss: 0.0048\n",
            "Epoch 60/150\n",
            "1930/1930 [==============================] - 2s 925us/step - loss: 5.7773e-04 - val_loss: 0.0053\n",
            "Epoch 61/150\n",
            "1930/1930 [==============================] - 2s 928us/step - loss: 5.8808e-04 - val_loss: 0.0106\n",
            "Epoch 62/150\n",
            "1930/1930 [==============================] - 2s 918us/step - loss: 5.7500e-04 - val_loss: 0.0058\n",
            "Epoch 63/150\n",
            "1930/1930 [==============================] - 2s 929us/step - loss: 5.5920e-04 - val_loss: 0.0054\n",
            "Epoch 64/150\n",
            "1930/1930 [==============================] - 2s 928us/step - loss: 6.0903e-04 - val_loss: 0.0049\n",
            "Epoch 65/150\n",
            "1930/1930 [==============================] - 2s 928us/step - loss: 5.5898e-04 - val_loss: 0.0104\n",
            "Epoch 66/150\n",
            "1930/1930 [==============================] - 2s 923us/step - loss: 5.5778e-04 - val_loss: 0.0090\n",
            "Epoch 67/150\n",
            "1930/1930 [==============================] - 2s 920us/step - loss: 5.6499e-04 - val_loss: 0.0077\n",
            "Epoch 68/150\n",
            "1930/1930 [==============================] - 2s 916us/step - loss: 6.1532e-04 - val_loss: 0.0100\n",
            "Epoch 69/150\n",
            "1930/1930 [==============================] - 2s 923us/step - loss: 6.0010e-04 - val_loss: 0.0066\n",
            "Epoch 70/150\n",
            "1930/1930 [==============================] - 2s 919us/step - loss: 5.6246e-04 - val_loss: 0.0062\n",
            "Epoch 71/150\n",
            "1930/1930 [==============================] - 2s 928us/step - loss: 5.4457e-04 - val_loss: 0.0133\n",
            "Epoch 72/150\n",
            "1930/1930 [==============================] - 2s 938us/step - loss: 6.1641e-04 - val_loss: 0.0066\n",
            "Epoch 73/150\n",
            "1930/1930 [==============================] - 2s 952us/step - loss: 5.6876e-04 - val_loss: 0.0049\n",
            "Epoch 74/150\n",
            "1930/1930 [==============================] - 2s 917us/step - loss: 5.3993e-04 - val_loss: 0.0098\n",
            "Epoch 75/150\n",
            "1930/1930 [==============================] - 2s 926us/step - loss: 5.5319e-04 - val_loss: 0.0080\n",
            "Epoch 76/150\n",
            "1930/1930 [==============================] - 2s 929us/step - loss: 5.6785e-04 - val_loss: 0.0107\n",
            "Epoch 77/150\n",
            "1930/1930 [==============================] - 2s 933us/step - loss: 5.5240e-04 - val_loss: 0.0109\n",
            "Epoch 78/150\n",
            "1930/1930 [==============================] - 2s 919us/step - loss: 5.2385e-04 - val_loss: 0.0075\n",
            "Epoch 79/150\n",
            "1930/1930 [==============================] - 2s 927us/step - loss: 5.2695e-04 - val_loss: 0.0142\n",
            "Epoch 80/150\n",
            "1930/1930 [==============================] - 2s 926us/step - loss: 5.5727e-04 - val_loss: 0.0062\n",
            "Epoch 81/150\n",
            "1930/1930 [==============================] - 2s 922us/step - loss: 5.4522e-04 - val_loss: 0.0067\n",
            "Epoch 82/150\n",
            "1930/1930 [==============================] - 2s 924us/step - loss: 5.3714e-04 - val_loss: 0.0060\n",
            "Epoch 83/150\n",
            "1930/1930 [==============================] - 2s 928us/step - loss: 5.6207e-04 - val_loss: 0.0068\n",
            "Epoch 84/150\n",
            "1930/1930 [==============================] - 2s 936us/step - loss: 5.4369e-04 - val_loss: 0.0087\n",
            "Epoch 85/150\n",
            "1930/1930 [==============================] - 2s 920us/step - loss: 5.1937e-04 - val_loss: 0.0078\n",
            "Epoch 86/150\n",
            "1930/1930 [==============================] - 2s 920us/step - loss: 5.5577e-04 - val_loss: 0.0072\n",
            "Epoch 87/150\n",
            "1930/1930 [==============================] - 2s 948us/step - loss: 5.3975e-04 - val_loss: 0.0102\n",
            "Epoch 88/150\n",
            "1930/1930 [==============================] - 2s 921us/step - loss: 5.4269e-04 - val_loss: 0.0089\n",
            "Epoch 89/150\n",
            "1930/1930 [==============================] - 2s 931us/step - loss: 4.9832e-04 - val_loss: 0.0102\n",
            "Epoch 90/150\n",
            "1930/1930 [==============================] - 2s 954us/step - loss: 5.6316e-04 - val_loss: 0.0081\n",
            "Epoch 91/150\n",
            "1930/1930 [==============================] - 2s 946us/step - loss: 5.5814e-04 - val_loss: 0.0087\n",
            "Epoch 92/150\n",
            "1930/1930 [==============================] - 2s 936us/step - loss: 5.3034e-04 - val_loss: 0.0082\n",
            "Epoch 93/150\n",
            "1930/1930 [==============================] - 2s 943us/step - loss: 5.4096e-04 - val_loss: 0.0128\n",
            "Epoch 94/150\n",
            "1930/1930 [==============================] - 2s 940us/step - loss: 5.7056e-04 - val_loss: 0.0066\n",
            "Epoch 95/150\n",
            "1930/1930 [==============================] - 2s 929us/step - loss: 5.6055e-04 - val_loss: 0.0059\n",
            "Epoch 96/150\n",
            "1930/1930 [==============================] - 2s 934us/step - loss: 5.2310e-04 - val_loss: 0.0086\n",
            "Epoch 97/150\n",
            "1930/1930 [==============================] - 2s 924us/step - loss: 5.5238e-04 - val_loss: 0.0062\n",
            "Epoch 98/150\n",
            "1930/1930 [==============================] - 2s 934us/step - loss: 4.8717e-04 - val_loss: 0.0126\n",
            "Epoch 99/150\n",
            "1930/1930 [==============================] - 2s 922us/step - loss: 5.0457e-04 - val_loss: 0.0072\n",
            "Epoch 100/150\n",
            "1930/1930 [==============================] - 2s 927us/step - loss: 5.2385e-04 - val_loss: 0.0040\n",
            "Epoch 101/150\n",
            "1930/1930 [==============================] - 2s 932us/step - loss: 5.5431e-04 - val_loss: 0.0038\n",
            "Epoch 102/150\n",
            "1930/1930 [==============================] - 2s 930us/step - loss: 5.6014e-04 - val_loss: 0.0038\n",
            "Epoch 103/150\n",
            "1930/1930 [==============================] - 2s 896us/step - loss: 5.3437e-04 - val_loss: 0.0033\n",
            "Epoch 104/150\n",
            "1930/1930 [==============================] - 2s 908us/step - loss: 5.6113e-04 - val_loss: 0.0058\n",
            "Epoch 105/150\n",
            "1930/1930 [==============================] - 2s 924us/step - loss: 4.9626e-04 - val_loss: 0.0049\n",
            "Epoch 106/150\n",
            "1930/1930 [==============================] - 2s 957us/step - loss: 5.2033e-04 - val_loss: 0.0065\n",
            "Epoch 107/150\n",
            "1930/1930 [==============================] - 2s 940us/step - loss: 5.7247e-04 - val_loss: 0.0040\n",
            "Epoch 108/150\n",
            "1930/1930 [==============================] - 2s 944us/step - loss: 4.9302e-04 - val_loss: 0.0100\n",
            "Epoch 109/150\n",
            "1930/1930 [==============================] - 2s 920us/step - loss: 5.1215e-04 - val_loss: 0.0046\n",
            "Epoch 110/150\n",
            "1930/1930 [==============================] - 2s 927us/step - loss: 5.0040e-04 - val_loss: 0.0074\n",
            "Epoch 111/150\n",
            "1930/1930 [==============================] - 2s 934us/step - loss: 5.4833e-04 - val_loss: 0.0047\n",
            "Epoch 112/150\n",
            "1930/1930 [==============================] - 2s 935us/step - loss: 5.3071e-04 - val_loss: 0.0030\n",
            "Epoch 113/150\n",
            "1930/1930 [==============================] - 2s 931us/step - loss: 4.9974e-04 - val_loss: 0.0088\n",
            "Epoch 114/150\n",
            "1930/1930 [==============================] - 2s 932us/step - loss: 5.0347e-04 - val_loss: 0.0058\n",
            "Epoch 115/150\n",
            "1930/1930 [==============================] - 2s 927us/step - loss: 5.1702e-04 - val_loss: 0.0082\n",
            "Epoch 116/150\n",
            "1930/1930 [==============================] - 2s 920us/step - loss: 5.3522e-04 - val_loss: 0.0045\n",
            "Epoch 117/150\n",
            "1930/1930 [==============================] - 2s 909us/step - loss: 4.9125e-04 - val_loss: 0.0045\n",
            "Epoch 118/150\n",
            "1930/1930 [==============================] - 2s 908us/step - loss: 4.9459e-04 - val_loss: 0.0132\n",
            "Epoch 119/150\n",
            "1930/1930 [==============================] - 2s 909us/step - loss: 5.3118e-04 - val_loss: 0.0046\n",
            "Epoch 120/150\n",
            "1930/1930 [==============================] - 2s 916us/step - loss: 5.5044e-04 - val_loss: 0.0113\n",
            "Epoch 121/150\n",
            "1930/1930 [==============================] - 2s 902us/step - loss: 5.3961e-04 - val_loss: 0.0112\n",
            "Epoch 122/150\n",
            "1930/1930 [==============================] - 2s 908us/step - loss: 5.0826e-04 - val_loss: 0.0099\n",
            "Epoch 123/150\n",
            "1930/1930 [==============================] - 2s 907us/step - loss: 5.2832e-04 - val_loss: 0.0063\n",
            "Epoch 124/150\n",
            "1930/1930 [==============================] - 2s 1ms/step - loss: 5.0209e-04 - val_loss: 0.0072\n",
            "Epoch 125/150\n",
            "1930/1930 [==============================] - 2s 970us/step - loss: 4.4792e-04 - val_loss: 0.0045\n",
            "Epoch 126/150\n",
            "1930/1930 [==============================] - 2s 978us/step - loss: 4.9972e-04 - val_loss: 0.0046\n",
            "Epoch 127/150\n",
            "1930/1930 [==============================] - 2s 972us/step - loss: 4.9493e-04 - val_loss: 0.0037\n",
            "Epoch 128/150\n",
            "1930/1930 [==============================] - 2s 937us/step - loss: 5.2463e-04 - val_loss: 0.0100\n",
            "Epoch 129/150\n",
            "1930/1930 [==============================] - 2s 936us/step - loss: 4.6444e-04 - val_loss: 0.0060\n",
            "Epoch 130/150\n",
            "1930/1930 [==============================] - 2s 939us/step - loss: 5.1534e-04 - val_loss: 0.0052\n",
            "Epoch 131/150\n",
            "1930/1930 [==============================] - 2s 930us/step - loss: 4.7711e-04 - val_loss: 0.0082\n",
            "Epoch 132/150\n",
            "1930/1930 [==============================] - 2s 930us/step - loss: 4.8565e-04 - val_loss: 0.0070\n",
            "Epoch 133/150\n",
            "1930/1930 [==============================] - 2s 924us/step - loss: 5.2972e-04 - val_loss: 0.0053\n",
            "Epoch 134/150\n",
            "1930/1930 [==============================] - 2s 911us/step - loss: 4.9074e-04 - val_loss: 0.0066\n",
            "Epoch 135/150\n",
            "1930/1930 [==============================] - 2s 929us/step - loss: 5.1879e-04 - val_loss: 0.0059\n",
            "Epoch 136/150\n",
            "1930/1930 [==============================] - 2s 917us/step - loss: 4.9996e-04 - val_loss: 0.0061\n",
            "Epoch 137/150\n",
            "1930/1930 [==============================] - 2s 933us/step - loss: 4.6330e-04 - val_loss: 0.0059\n",
            "Epoch 138/150\n",
            "1930/1930 [==============================] - 2s 919us/step - loss: 4.9879e-04 - val_loss: 0.0052\n",
            "Epoch 139/150\n",
            "1930/1930 [==============================] - 2s 916us/step - loss: 5.3183e-04 - val_loss: 0.0049\n",
            "Epoch 140/150\n",
            "1930/1930 [==============================] - 2s 932us/step - loss: 4.8376e-04 - val_loss: 0.0089\n",
            "Epoch 141/150\n",
            "1930/1930 [==============================] - 2s 940us/step - loss: 5.0649e-04 - val_loss: 0.0099\n",
            "Epoch 142/150\n",
            "1930/1930 [==============================] - 2s 935us/step - loss: 4.8770e-04 - val_loss: 0.0060\n",
            "Epoch 143/150\n",
            "1930/1930 [==============================] - 2s 935us/step - loss: 5.2794e-04 - val_loss: 0.0081\n",
            "Epoch 144/150\n",
            "1930/1930 [==============================] - 2s 1ms/step - loss: 4.9959e-04 - val_loss: 0.0081\n",
            "Epoch 145/150\n",
            "1930/1930 [==============================] - 2s 938us/step - loss: 4.6383e-04 - val_loss: 0.0042\n",
            "Epoch 146/150\n",
            "1930/1930 [==============================] - 2s 947us/step - loss: 4.8670e-04 - val_loss: 0.0065\n",
            "Epoch 147/150\n",
            "1930/1930 [==============================] - 2s 964us/step - loss: 5.1034e-04 - val_loss: 0.0074\n",
            "Epoch 148/150\n",
            "1930/1930 [==============================] - 2s 960us/step - loss: 4.7004e-04 - val_loss: 0.0074\n",
            "Epoch 149/150\n",
            "1930/1930 [==============================] - 2s 960us/step - loss: 4.4326e-04 - val_loss: 0.0051\n",
            "Epoch 150/150\n",
            "1930/1930 [==============================] - 2s 958us/step - loss: 4.7558e-04 - val_loss: 0.0042\n"
          ],
          "name": "stdout"
        },
        {
          "output_type": "execute_result",
          "data": {
            "text/plain": [
              "<keras.callbacks.callbacks.History at 0x7f2969f3fef0>"
            ]
          },
          "metadata": {
            "tags": []
          },
          "execution_count": 248
        },
        {
          "output_type": "stream",
          "text": [
            "Train on 1930 samples, validate on 828 samples\n",
            "Epoch 1/150\n",
            "1930/1930 [==============================] - 2s 952us/step - loss: 4.9824e-04 - val_loss: 0.0048\n",
            "Epoch 2/150\n",
            "1930/1930 [==============================] - 2s 942us/step - loss: 4.9909e-04 - val_loss: 0.0071\n",
            "Epoch 3/150\n",
            "1930/1930 [==============================] - 2s 929us/step - loss: 4.8677e-04 - val_loss: 0.0060\n",
            "Epoch 4/150\n",
            "1930/1930 [==============================] - 2s 911us/step - loss: 4.5354e-04 - val_loss: 0.0058\n",
            "Epoch 5/150\n",
            "1930/1930 [==============================] - 2s 904us/step - loss: 4.6287e-04 - val_loss: 0.0149\n",
            "Epoch 6/150\n",
            "1930/1930 [==============================] - 2s 910us/step - loss: 5.1452e-04 - val_loss: 0.0053\n",
            "Epoch 7/150\n",
            "1930/1930 [==============================] - 2s 890us/step - loss: 4.6761e-04 - val_loss: 0.0088\n",
            "Epoch 8/150\n",
            "1930/1930 [==============================] - 2s 908us/step - loss: 4.8865e-04 - val_loss: 0.0054\n",
            "Epoch 9/150\n",
            "1930/1930 [==============================] - 2s 912us/step - loss: 4.8345e-04 - val_loss: 0.0102\n",
            "Epoch 10/150\n",
            "1930/1930 [==============================] - 2s 898us/step - loss: 4.9288e-04 - val_loss: 0.0080\n",
            "Epoch 11/150\n",
            "1930/1930 [==============================] - 2s 936us/step - loss: 4.7008e-04 - val_loss: 0.0070\n",
            "Epoch 12/150\n",
            "1930/1930 [==============================] - 2s 896us/step - loss: 4.7415e-04 - val_loss: 0.0128\n",
            "Epoch 13/150\n",
            "1930/1930 [==============================] - 2s 925us/step - loss: 4.2746e-04 - val_loss: 0.0061\n",
            "Epoch 14/150\n",
            "1930/1930 [==============================] - 2s 920us/step - loss: 4.3805e-04 - val_loss: 0.0079\n",
            "Epoch 15/150\n",
            "1930/1930 [==============================] - 2s 918us/step - loss: 4.8092e-04 - val_loss: 0.0043\n",
            "Epoch 16/150\n",
            "1930/1930 [==============================] - 2s 922us/step - loss: 5.1494e-04 - val_loss: 0.0056\n",
            "Epoch 17/150\n",
            "1930/1930 [==============================] - 2s 923us/step - loss: 4.3812e-04 - val_loss: 0.0071\n",
            "Epoch 18/150\n",
            "1930/1930 [==============================] - 2s 938us/step - loss: 4.7762e-04 - val_loss: 0.0046\n",
            "Epoch 19/150\n",
            "1930/1930 [==============================] - 2s 951us/step - loss: 4.4548e-04 - val_loss: 0.0074\n",
            "Epoch 20/150\n",
            "1930/1930 [==============================] - 2s 972us/step - loss: 5.1024e-04 - val_loss: 0.0081\n",
            "Epoch 21/150\n",
            "1930/1930 [==============================] - 2s 983us/step - loss: 4.2248e-04 - val_loss: 0.0056\n",
            "Epoch 22/150\n",
            "1930/1930 [==============================] - 2s 984us/step - loss: 4.9496e-04 - val_loss: 0.0075\n",
            "Epoch 23/150\n",
            "1930/1930 [==============================] - 2s 1ms/step - loss: 4.2734e-04 - val_loss: 0.0101\n",
            "Epoch 24/150\n",
            "1930/1930 [==============================] - 2s 1ms/step - loss: 4.5495e-04 - val_loss: 0.0066\n",
            "Epoch 25/150\n",
            "1930/1930 [==============================] - 2s 988us/step - loss: 4.7440e-04 - val_loss: 0.0068\n",
            "Epoch 26/150\n",
            "1930/1930 [==============================] - 2s 975us/step - loss: 4.8960e-04 - val_loss: 0.0055\n",
            "Epoch 27/150\n",
            "1930/1930 [==============================] - 2s 993us/step - loss: 4.5898e-04 - val_loss: 0.0071\n",
            "Epoch 28/150\n",
            "1930/1930 [==============================] - 2s 987us/step - loss: 4.9114e-04 - val_loss: 0.0058\n",
            "Epoch 29/150\n",
            "1930/1930 [==============================] - 2s 980us/step - loss: 5.0690e-04 - val_loss: 0.0091\n",
            "Epoch 30/150\n",
            "1930/1930 [==============================] - 2s 1ms/step - loss: 4.3121e-04 - val_loss: 0.0079\n",
            "Epoch 31/150\n",
            "1930/1930 [==============================] - 2s 955us/step - loss: 4.6720e-04 - val_loss: 0.0062\n",
            "Epoch 32/150\n",
            "1930/1930 [==============================] - 2s 940us/step - loss: 4.9273e-04 - val_loss: 0.0088\n",
            "Epoch 33/150\n",
            "1930/1930 [==============================] - 2s 938us/step - loss: 4.6985e-04 - val_loss: 0.0068\n",
            "Epoch 34/150\n",
            "1930/1930 [==============================] - 2s 934us/step - loss: 4.7355e-04 - val_loss: 0.0083\n",
            "Epoch 35/150\n",
            "1930/1930 [==============================] - 2s 944us/step - loss: 4.9951e-04 - val_loss: 0.0109\n",
            "Epoch 36/150\n",
            "1930/1930 [==============================] - 2s 924us/step - loss: 4.7379e-04 - val_loss: 0.0065\n",
            "Epoch 37/150\n",
            "1930/1930 [==============================] - 2s 938us/step - loss: 4.4452e-04 - val_loss: 0.0098\n",
            "Epoch 38/150\n",
            "1930/1930 [==============================] - 2s 925us/step - loss: 4.6956e-04 - val_loss: 0.0053\n",
            "Epoch 39/150\n",
            "1930/1930 [==============================] - 2s 929us/step - loss: 4.5692e-04 - val_loss: 0.0061\n",
            "Epoch 40/150\n",
            "1930/1930 [==============================] - 2s 951us/step - loss: 4.4759e-04 - val_loss: 0.0062\n",
            "Epoch 41/150\n",
            "1930/1930 [==============================] - 2s 978us/step - loss: 4.5759e-04 - val_loss: 0.0066\n",
            "Epoch 42/150\n",
            "1930/1930 [==============================] - 2s 965us/step - loss: 4.9261e-04 - val_loss: 0.0048\n",
            "Epoch 43/150\n",
            "1930/1930 [==============================] - 2s 944us/step - loss: 4.8958e-04 - val_loss: 0.0063\n",
            "Epoch 44/150\n",
            "1930/1930 [==============================] - 2s 927us/step - loss: 4.5646e-04 - val_loss: 0.0066\n",
            "Epoch 45/150\n",
            "1930/1930 [==============================] - 2s 965us/step - loss: 4.5364e-04 - val_loss: 0.0088\n",
            "Epoch 46/150\n",
            "1930/1930 [==============================] - 2s 920us/step - loss: 4.8320e-04 - val_loss: 0.0084\n",
            "Epoch 47/150\n",
            "1930/1930 [==============================] - 2s 950us/step - loss: 4.3606e-04 - val_loss: 0.0071\n",
            "Epoch 48/150\n",
            "1930/1930 [==============================] - 2s 937us/step - loss: 4.8178e-04 - val_loss: 0.0074\n",
            "Epoch 49/150\n",
            "1930/1930 [==============================] - 2s 933us/step - loss: 4.2830e-04 - val_loss: 0.0114\n",
            "Epoch 50/150\n",
            "1930/1930 [==============================] - 2s 912us/step - loss: 4.6129e-04 - val_loss: 0.0068\n",
            "Epoch 51/150\n",
            "1930/1930 [==============================] - 2s 930us/step - loss: 4.5487e-04 - val_loss: 0.0089\n",
            "Epoch 52/150\n",
            "1930/1930 [==============================] - 2s 943us/step - loss: 4.4193e-04 - val_loss: 0.0115\n",
            "Epoch 53/150\n",
            "1930/1930 [==============================] - 2s 923us/step - loss: 4.4771e-04 - val_loss: 0.0087\n",
            "Epoch 54/150\n",
            "1930/1930 [==============================] - 2s 956us/step - loss: 4.5749e-04 - val_loss: 0.0074\n",
            "Epoch 55/150\n",
            "1930/1930 [==============================] - 2s 955us/step - loss: 4.2434e-04 - val_loss: 0.0083\n",
            "Epoch 56/150\n",
            "1930/1930 [==============================] - 2s 961us/step - loss: 4.6911e-04 - val_loss: 0.0087\n",
            "Epoch 57/150\n",
            "1930/1930 [==============================] - 2s 946us/step - loss: 4.0801e-04 - val_loss: 0.0089\n",
            "Epoch 58/150\n",
            "1930/1930 [==============================] - 2s 940us/step - loss: 4.0935e-04 - val_loss: 0.0055\n",
            "Epoch 59/150\n",
            "1930/1930 [==============================] - 2s 941us/step - loss: 4.3158e-04 - val_loss: 0.0162\n",
            "Epoch 60/150\n",
            "1930/1930 [==============================] - 2s 905us/step - loss: 4.5857e-04 - val_loss: 0.0091\n",
            "Epoch 61/150\n",
            "1930/1930 [==============================] - 2s 908us/step - loss: 4.0197e-04 - val_loss: 0.0106\n",
            "Epoch 62/150\n",
            "1930/1930 [==============================] - 2s 912us/step - loss: 4.3733e-04 - val_loss: 0.0105\n",
            "Epoch 63/150\n",
            "1930/1930 [==============================] - 2s 903us/step - loss: 4.2865e-04 - val_loss: 0.0078\n",
            "Epoch 64/150\n",
            "1930/1930 [==============================] - 2s 924us/step - loss: 4.5948e-04 - val_loss: 0.0092\n",
            "Epoch 65/150\n",
            "1930/1930 [==============================] - 2s 921us/step - loss: 4.4394e-04 - val_loss: 0.0099\n",
            "Epoch 66/150\n",
            "1930/1930 [==============================] - 2s 905us/step - loss: 4.3739e-04 - val_loss: 0.0109\n",
            "Epoch 67/150\n",
            "1930/1930 [==============================] - 2s 913us/step - loss: 4.7963e-04 - val_loss: 0.0088\n",
            "Epoch 68/150\n",
            "1930/1930 [==============================] - 2s 938us/step - loss: 4.6615e-04 - val_loss: 0.0068\n",
            "Epoch 69/150\n",
            "1930/1930 [==============================] - 2s 921us/step - loss: 4.3228e-04 - val_loss: 0.0100\n",
            "Epoch 70/150\n",
            "1930/1930 [==============================] - 2s 943us/step - loss: 4.4032e-04 - val_loss: 0.0086\n",
            "Epoch 71/150\n",
            "1930/1930 [==============================] - 2s 938us/step - loss: 4.6570e-04 - val_loss: 0.0078\n",
            "Epoch 72/150\n",
            "1930/1930 [==============================] - 2s 916us/step - loss: 4.7050e-04 - val_loss: 0.0105\n",
            "Epoch 73/150\n",
            "1930/1930 [==============================] - 2s 931us/step - loss: 4.0873e-04 - val_loss: 0.0054\n",
            "Epoch 74/150\n",
            "1930/1930 [==============================] - 2s 933us/step - loss: 4.3531e-04 - val_loss: 0.0085\n",
            "Epoch 75/150\n",
            "1930/1930 [==============================] - 2s 957us/step - loss: 4.3687e-04 - val_loss: 0.0083\n",
            "Epoch 76/150\n",
            "1930/1930 [==============================] - 2s 924us/step - loss: 4.5143e-04 - val_loss: 0.0087\n",
            "Epoch 77/150\n",
            "1930/1930 [==============================] - 2s 923us/step - loss: 4.1972e-04 - val_loss: 0.0099\n",
            "Epoch 78/150\n",
            "1930/1930 [==============================] - 2s 940us/step - loss: 4.4962e-04 - val_loss: 0.0087\n",
            "Epoch 79/150\n",
            "1930/1930 [==============================] - 2s 924us/step - loss: 4.2524e-04 - val_loss: 0.0090\n",
            "Epoch 80/150\n",
            "1930/1930 [==============================] - 2s 904us/step - loss: 4.3292e-04 - val_loss: 0.0083\n",
            "Epoch 81/150\n",
            "1930/1930 [==============================] - 2s 935us/step - loss: 4.2224e-04 - val_loss: 0.0057\n",
            "Epoch 82/150\n",
            "1930/1930 [==============================] - 2s 912us/step - loss: 4.2913e-04 - val_loss: 0.0113\n",
            "Epoch 83/150\n",
            "1930/1930 [==============================] - 2s 930us/step - loss: 5.0991e-04 - val_loss: 0.0101\n",
            "Epoch 84/150\n",
            "1930/1930 [==============================] - 2s 944us/step - loss: 3.9071e-04 - val_loss: 0.0105\n",
            "Epoch 85/150\n",
            "1930/1930 [==============================] - 2s 920us/step - loss: 4.3859e-04 - val_loss: 0.0069\n",
            "Epoch 86/150\n",
            "1930/1930 [==============================] - 2s 943us/step - loss: 4.3568e-04 - val_loss: 0.0164\n",
            "Epoch 87/150\n",
            "1930/1930 [==============================] - 2s 949us/step - loss: 4.2883e-04 - val_loss: 0.0076\n",
            "Epoch 88/150\n",
            "1930/1930 [==============================] - 2s 950us/step - loss: 4.7206e-04 - val_loss: 0.0104\n",
            "Epoch 89/150\n",
            "1930/1930 [==============================] - 2s 943us/step - loss: 3.9497e-04 - val_loss: 0.0082\n",
            "Epoch 90/150\n",
            "1930/1930 [==============================] - 2s 942us/step - loss: 4.6533e-04 - val_loss: 0.0099\n",
            "Epoch 91/150\n",
            "1930/1930 [==============================] - 2s 950us/step - loss: 4.5724e-04 - val_loss: 0.0142\n",
            "Epoch 92/150\n",
            "1930/1930 [==============================] - 2s 969us/step - loss: 4.3009e-04 - val_loss: 0.0102\n",
            "Epoch 93/150\n",
            "1930/1930 [==============================] - 2s 949us/step - loss: 4.2625e-04 - val_loss: 0.0166\n",
            "Epoch 94/150\n",
            "1930/1930 [==============================] - 2s 970us/step - loss: 4.4436e-04 - val_loss: 0.0141\n",
            "Epoch 95/150\n",
            "1930/1930 [==============================] - 2s 948us/step - loss: 4.2348e-04 - val_loss: 0.0112\n",
            "Epoch 96/150\n",
            "1930/1930 [==============================] - 2s 975us/step - loss: 4.4183e-04 - val_loss: 0.0111\n",
            "Epoch 97/150\n",
            "1930/1930 [==============================] - 2s 968us/step - loss: 4.7455e-04 - val_loss: 0.0063\n",
            "Epoch 98/150\n",
            "1930/1930 [==============================] - 2s 1ms/step - loss: 4.2783e-04 - val_loss: 0.0110\n",
            "Epoch 99/150\n",
            "1930/1930 [==============================] - 2s 1ms/step - loss: 4.3641e-04 - val_loss: 0.0116\n",
            "Epoch 100/150\n",
            "1930/1930 [==============================] - 2s 991us/step - loss: 4.1700e-04 - val_loss: 0.0115\n",
            "Epoch 101/150\n",
            "1930/1930 [==============================] - 2s 1ms/step - loss: 4.0780e-04 - val_loss: 0.0126\n",
            "Epoch 102/150\n",
            "1930/1930 [==============================] - 2s 980us/step - loss: 4.0778e-04 - val_loss: 0.0094\n",
            "Epoch 103/150\n",
            "1930/1930 [==============================] - 2s 1ms/step - loss: 4.1497e-04 - val_loss: 0.0107\n",
            "Epoch 104/150\n",
            "1930/1930 [==============================] - 2s 1ms/step - loss: 4.1221e-04 - val_loss: 0.0084\n",
            "Epoch 105/150\n",
            "1930/1930 [==============================] - 2s 1ms/step - loss: 4.2247e-04 - val_loss: 0.0107\n",
            "Epoch 106/150\n",
            "1930/1930 [==============================] - 2s 993us/step - loss: 4.4066e-04 - val_loss: 0.0088\n",
            "Epoch 107/150\n",
            "1930/1930 [==============================] - 2s 964us/step - loss: 4.3328e-04 - val_loss: 0.0086\n",
            "Epoch 108/150\n",
            "1930/1930 [==============================] - 2s 971us/step - loss: 4.3623e-04 - val_loss: 0.0099\n",
            "Epoch 109/150\n",
            "1930/1930 [==============================] - 2s 966us/step - loss: 4.3165e-04 - val_loss: 0.0113\n",
            "Epoch 110/150\n",
            "1930/1930 [==============================] - 2s 980us/step - loss: 4.3057e-04 - val_loss: 0.0115\n",
            "Epoch 111/150\n",
            "1930/1930 [==============================] - 2s 976us/step - loss: 4.5128e-04 - val_loss: 0.0105\n",
            "Epoch 112/150\n",
            "1930/1930 [==============================] - 2s 970us/step - loss: 4.5182e-04 - val_loss: 0.0106\n",
            "Epoch 113/150\n",
            "1930/1930 [==============================] - 2s 962us/step - loss: 4.4036e-04 - val_loss: 0.0129\n",
            "Epoch 114/150\n",
            "1930/1930 [==============================] - 2s 957us/step - loss: 4.3079e-04 - val_loss: 0.0106\n",
            "Epoch 115/150\n",
            "1930/1930 [==============================] - 2s 958us/step - loss: 4.1698e-04 - val_loss: 0.0084\n",
            "Epoch 116/150\n",
            "1930/1930 [==============================] - 2s 953us/step - loss: 4.4330e-04 - val_loss: 0.0110\n",
            "Epoch 117/150\n",
            "1930/1930 [==============================] - 2s 960us/step - loss: 3.9790e-04 - val_loss: 0.0113\n",
            "Epoch 118/150\n",
            "1930/1930 [==============================] - 2s 949us/step - loss: 4.4171e-04 - val_loss: 0.0093\n",
            "Epoch 119/150\n",
            "1930/1930 [==============================] - 2s 899us/step - loss: 3.8893e-04 - val_loss: 0.0057\n",
            "Epoch 120/150\n",
            "1930/1930 [==============================] - 2s 950us/step - loss: 3.8691e-04 - val_loss: 0.0102\n",
            "Epoch 121/150\n",
            "1930/1930 [==============================] - 2s 952us/step - loss: 4.2480e-04 - val_loss: 0.0144\n",
            "Epoch 122/150\n",
            "1930/1930 [==============================] - 2s 937us/step - loss: 3.8735e-04 - val_loss: 0.0164\n",
            "Epoch 123/150\n",
            "1930/1930 [==============================] - 2s 941us/step - loss: 4.5579e-04 - val_loss: 0.0141\n",
            "Epoch 124/150\n",
            "1930/1930 [==============================] - 2s 928us/step - loss: 4.2496e-04 - val_loss: 0.0143\n",
            "Epoch 125/150\n",
            "1930/1930 [==============================] - 2s 956us/step - loss: 4.2552e-04 - val_loss: 0.0119\n",
            "Epoch 126/150\n",
            "1930/1930 [==============================] - 2s 940us/step - loss: 4.1674e-04 - val_loss: 0.0105\n",
            "Epoch 127/150\n",
            "1930/1930 [==============================] - 2s 930us/step - loss: 4.0298e-04 - val_loss: 0.0088\n",
            "Epoch 128/150\n",
            "1930/1930 [==============================] - 2s 951us/step - loss: 4.0330e-04 - val_loss: 0.0137\n",
            "Epoch 129/150\n",
            "1930/1930 [==============================] - 2s 951us/step - loss: 4.5561e-04 - val_loss: 0.0130\n",
            "Epoch 130/150\n",
            "1930/1930 [==============================] - 2s 942us/step - loss: 3.9638e-04 - val_loss: 0.0087\n",
            "Epoch 131/150\n",
            "1930/1930 [==============================] - 2s 964us/step - loss: 4.2976e-04 - val_loss: 0.0161\n",
            "Epoch 132/150\n",
            "1930/1930 [==============================] - 2s 965us/step - loss: 4.2902e-04 - val_loss: 0.0165\n",
            "Epoch 133/150\n",
            "1930/1930 [==============================] - 2s 962us/step - loss: 4.2408e-04 - val_loss: 0.0145\n",
            "Epoch 134/150\n",
            "1930/1930 [==============================] - 2s 978us/step - loss: 4.0029e-04 - val_loss: 0.0123\n",
            "Epoch 135/150\n",
            "1930/1930 [==============================] - 2s 1ms/step - loss: 4.0152e-04 - val_loss: 0.0113\n",
            "Epoch 136/150\n",
            "1930/1930 [==============================] - 2s 973us/step - loss: 3.9897e-04 - val_loss: 0.0170\n",
            "Epoch 137/150\n",
            "1930/1930 [==============================] - 2s 983us/step - loss: 3.9011e-04 - val_loss: 0.0182\n",
            "Epoch 138/150\n",
            "1930/1930 [==============================] - 2s 953us/step - loss: 3.9096e-04 - val_loss: 0.0116\n",
            "Epoch 139/150\n",
            "1930/1930 [==============================] - 2s 959us/step - loss: 3.8692e-04 - val_loss: 0.0084\n",
            "Epoch 140/150\n",
            "1930/1930 [==============================] - 2s 976us/step - loss: 4.2531e-04 - val_loss: 0.0084\n",
            "Epoch 141/150\n",
            "1930/1930 [==============================] - 2s 951us/step - loss: 4.2212e-04 - val_loss: 0.0090\n",
            "Epoch 142/150\n",
            "1930/1930 [==============================] - 2s 975us/step - loss: 3.6703e-04 - val_loss: 0.0097\n",
            "Epoch 143/150\n",
            "1930/1930 [==============================] - 2s 959us/step - loss: 4.5464e-04 - val_loss: 0.0121\n",
            "Epoch 144/150\n",
            "1930/1930 [==============================] - 2s 962us/step - loss: 3.6122e-04 - val_loss: 0.0088\n",
            "Epoch 145/150\n",
            "1930/1930 [==============================] - 2s 971us/step - loss: 4.0035e-04 - val_loss: 0.0173\n",
            "Epoch 146/150\n",
            "1930/1930 [==============================] - 2s 960us/step - loss: 3.9467e-04 - val_loss: 0.0103\n",
            "Epoch 147/150\n",
            "1930/1930 [==============================] - 2s 967us/step - loss: 4.1783e-04 - val_loss: 0.0111\n",
            "Epoch 148/150\n",
            "1930/1930 [==============================] - 2s 975us/step - loss: 3.9739e-04 - val_loss: 0.0138\n",
            "Epoch 149/150\n",
            "1930/1930 [==============================] - 2s 959us/step - loss: 4.0279e-04 - val_loss: 0.0084\n",
            "Epoch 150/150\n",
            "1930/1930 [==============================] - 2s 964us/step - loss: 3.9332e-04 - val_loss: 0.0087\n"
          ],
          "name": "stdout"
        },
        {
          "output_type": "execute_result",
          "data": {
            "text/plain": [
              "<keras.callbacks.callbacks.History at 0x7f2968689c88>"
            ]
          },
          "metadata": {
            "tags": []
          },
          "execution_count": 249
        }
      ]
    },
    {
      "cell_type": "code",
      "metadata": {
        "id": "FrfHxQDAD45s",
        "colab_type": "code",
        "outputId": "700b9f49-cf70-4b8e-981e-cc348e95ff56",
        "colab": {
          "base_uri": "https://localhost:8080/",
          "height": 383
        }
      },
      "source": [
        "plt.figure(figsize=(10,5))\n",
        "plt.plot(regressor.history.history['loss'], label='Training', color='blue')\n",
        "plt.plot(regressor.history.history['val_loss'], label='Validation', color='red')\n",
        "plt.legend()\n",
        "plt.title(\"Training Loss Vs Validation Loss\")\n",
        "plt.xlabel('time')\n",
        "plt.ylabel('loss')\n",
        "plt.show()"
      ],
      "execution_count": 300,
      "outputs": [
        {
          "output_type": "display_data",
          "data": {
            "image/png": "[encoded data removed]",
            "text/plain": [
              "<Figure size 720x360 with 1 Axes>"
            ]
          },
          "metadata": {
            "tags": []
          }
        }
      ]
    },
    {
      "cell_type": "markdown",
      "metadata": {
        "id": "kx4Xy3TfB649",
        "colab_type": "text"
      },
      "source": [
        "###Preprocessing test set"
      ]
    },
    {
      "cell_type": "code",
      "metadata": {
        "id": "porgv8DoBFvP",
        "colab_type": "code",
        "outputId": "a31788aa-5093-4746-c91a-21f3d5f341e4",
        "colab": {
          "base_uri": "https://localhost:8080/",
          "height": 67
        }
      },
      "source": [
        "data_concat = pd.concat((apple_stock['High'][:'2016'], apple_stock['High']['2017':]), axis=0)\n",
        "print(data_concat.shape)\n",
        "\n",
        "inputs = data_concat[len(data_concat)-len(test_2017)-10 : ].values\n",
        "print(inputs.shape)\n",
        "inputs = inputs.reshape(-1,1)\n",
        "inputs = sc.transform(inputs)\n",
        "print(inputs.shape)"
      ],
      "execution_count": 251,
      "outputs": [
        {
          "output_type": "stream",
          "text": [
            "(3019,)\n",
            "(261,)\n",
            "(261, 1)\n"
          ],
          "name": "stdout"
        }
      ]
    },
    {
      "cell_type": "code",
      "metadata": {
        "id": "um--L2JgDnXh",
        "colab_type": "code",
        "colab": {}
      },
      "source": [
        "X_test = []\n",
        "for i in range(10,inputs.shape[0]):\n",
        "    X_test.append(inputs[i-10:i, 0])\n",
        "    \n",
        "X_test = np.array(X_test)\n",
        "X_test = np.reshape(X_test, (X_test.shape[0], X_test.shape[1], 1))"
      ],
      "execution_count": 0,
      "outputs": []
    },
    {
      "cell_type": "markdown",
      "metadata": {
        "id": "9e9VgbMdEL8Q",
        "colab_type": "text"
      },
      "source": [
        "###Predict stock price in 2017"
      ]
    },
    {
      "cell_type": "code",
      "metadata": {
        "id": "B_6AB2roEMQq",
        "colab_type": "code",
        "colab": {}
      },
      "source": [
        "pred_lstm = regressor.predict(X_test)\n",
        "pred_lstm = sc.inverse_transform(pred_lstm)"
      ],
      "execution_count": 0,
      "outputs": []
    },
    {
      "cell_type": "markdown",
      "metadata": {
        "id": "PC0-JwFoEsVF",
        "colab_type": "text"
      },
      "source": [
        "###Plot prediction"
      ]
    },
    {
      "cell_type": "code",
      "metadata": {
        "id": "QA3h74riEu2G",
        "colab_type": "code",
        "colab": {}
      },
      "source": [
        "def plot_predictions(test, predicted):\n",
        "    plt.plot(test, color=\"red\", label=\"Actual\")\n",
        "    plt.plot(predicted, color=\"blue\", label=\"Predicted\")\n",
        "    plt.title(\"Apple stock price prediction\")\n",
        "    plt.xlabel(\"time\")\n",
        "    plt.ylabel(\"Apple stock price\")\n",
        "    plt.legend()\n",
        "    plt.show()"
      ],
      "execution_count": 0,
      "outputs": []
    },
    {
      "cell_type": "code",
      "metadata": {
        "id": "FLendr9fE2Tz",
        "colab_type": "code",
        "outputId": "aff03504-2ca7-4fd2-ce77-f8be26c4a551",
        "colab": {
          "base_uri": "https://localhost:8080/",
          "height": 325
        }
      },
      "source": [
        "plot_predictions(test_2017, pred_lstm)"
      ],
      "execution_count": 255,
      "outputs": [
        {
          "output_type": "display_data",
          "data": {
            "image/png": "[encoded data removed]",
            "text/plain": [
              "<Figure size 432x288 with 1 Axes>"
            ]
          },
          "metadata": {
            "tags": []
          }
        }
      ]
    },
    {
      "cell_type": "markdown",
      "metadata": {
        "id": "s5sCgNs5F7cl",
        "colab_type": "text"
      },
      "source": [
        "###RMSE of the model"
      ]
    },
    {
      "cell_type": "code",
      "metadata": {
        "id": "2KQ3DpU_GGWt",
        "colab_type": "code",
        "colab": {}
      },
      "source": [
        "def return_rmse(test, predicted):\n",
        "    rmse = math.sqrt(mean_squared_error(test, predicted))\n",
        "    print(\"RMSE = {}.\".format(rmse))"
      ],
      "execution_count": 0,
      "outputs": []
    },
    {
      "cell_type": "code",
      "metadata": {
        "id": "KpsSm-NJF74i",
        "colab_type": "code",
        "outputId": "feee6435-774d-4821-b722-a97db11cd2fd",
        "colab": {
          "base_uri": "https://localhost:8080/",
          "height": 34
        }
      },
      "source": [
        "return_rmse(test_2017, pred_lstm)"
      ],
      "execution_count": 257,
      "outputs": [
        {
          "output_type": "stream",
          "text": [
            "RMSE = 57.20531523139807.\n"
          ],
          "name": "stdout"
        }
      ]
    },
    {
      "cell_type": "markdown",
      "metadata": {
        "id": "ygI0zv9hJwaz",
        "colab_type": "text"
      },
      "source": [
        "#GRU's model"
      ]
    },
    {
      "cell_type": "code",
      "metadata": {
        "id": "pQSiivSlGUU3",
        "colab_type": "code",
        "colab": {}
      },
      "source": [
        "regressorGRU = Sequential()\n",
        "\n",
        "# First GRU layer with Dropout regularisation\n",
        "regressorGRU.add(GRU(units=50, return_sequences=True, input_shape=(X_train.shape[1],1), activation='tanh'))\n",
        "regressorGRU.add(Dropout(0.2))\n",
        "\n",
        "# Second GRU layer\n",
        "regressorGRU.add(GRU(units=50, return_sequences=True, input_shape=(X_train.shape[1],1), activation='tanh'))\n",
        "regressorGRU.add(Dropout(0.2))\n",
        "\n",
        "# Third GRU layer\n",
        "regressorGRU.add(GRU(units=50, return_sequences=True, input_shape=(X_train.shape[1],1), activation='tanh'))\n",
        "regressorGRU.add(Dropout(0.2))\n",
        "\n",
        "# Fourth GRU layer\n",
        "regressorGRU.add(GRU(units=50, activation='tanh'))\n",
        "regressorGRU.add(Dropout(0.2))\n",
        "\n",
        "# The output layer\n",
        "regressorGRU.add(Dense(units=1))"
      ],
      "execution_count": 0,
      "outputs": []
    },
    {
      "cell_type": "markdown",
      "metadata": {
        "id": "fT634bLzKZPM",
        "colab_type": "text"
      },
      "source": [
        "###Compile the model"
      ]
    },
    {
      "cell_type": "code",
      "metadata": {
        "id": "KeGhXBC4Kb2v",
        "colab_type": "code",
        "colab": {}
      },
      "source": [
        "regressorGRU.compile(optimizer=SGD(lr=0.01, decay=1e-7, momentum=0.9, nesterov=False), loss='mean_squared_error')"
      ],
      "execution_count": 0,
      "outputs": []
    },
    {
      "cell_type": "markdown",
      "metadata": {
        "id": "2_TO9BK-KhP1",
        "colab_type": "text"
      },
      "source": [
        "###Fit the model with training set"
      ]
    },
    {
      "cell_type": "code",
      "metadata": {
        "id": "tmNWSUgSKok6",
        "colab_type": "code",
        "outputId": "11510e5a-ac49-4cb1-f46d-a9a0bc78fee5",
        "colab": {
          "base_uri": "https://localhost:8080/",
          "height": 1000
        }
      },
      "source": [
        "regressorGRU.fit(X_train, y_train, epochs=150, batch_size=150, validation_split=0.30)"
      ],
      "execution_count": 302,
      "outputs": [
        {
          "output_type": "stream",
          "text": [
            "Train on 1930 samples, validate on 828 samples\n",
            "Epoch 1/150\n",
            "1930/1930 [==============================] - 1s 442us/step - loss: 0.0011 - val_loss: 8.7348e-04\n",
            "Epoch 2/150\n",
            "1930/1930 [==============================] - 1s 433us/step - loss: 0.0013 - val_loss: 8.4351e-04\n",
            "Epoch 3/150\n",
            "1930/1930 [==============================] - 1s 434us/step - loss: 0.0012 - val_loss: 7.6625e-04\n",
            "Epoch 4/150\n",
            "1930/1930 [==============================] - 1s 434us/step - loss: 0.0014 - val_loss: 7.5866e-04\n",
            "Epoch 5/150\n",
            "1930/1930 [==============================] - 1s 462us/step - loss: 0.0013 - val_loss: 8.7211e-04\n",
            "Epoch 6/150\n",
            "1930/1930 [==============================] - 1s 443us/step - loss: 0.0011 - val_loss: 0.0010\n",
            "Epoch 7/150\n",
            "1930/1930 [==============================] - 1s 445us/step - loss: 0.0013 - val_loss: 0.0010\n",
            "Epoch 8/150\n",
            "1930/1930 [==============================] - 1s 442us/step - loss: 0.0012 - val_loss: 8.6394e-04\n",
            "Epoch 9/150\n",
            "1930/1930 [==============================] - 1s 445us/step - loss: 0.0012 - val_loss: 8.2146e-04\n",
            "Epoch 10/150\n",
            "1930/1930 [==============================] - 1s 442us/step - loss: 0.0012 - val_loss: 0.0010\n",
            "Epoch 11/150\n",
            "1930/1930 [==============================] - 1s 452us/step - loss: 0.0012 - val_loss: 0.0012\n",
            "Epoch 12/150\n",
            "1930/1930 [==============================] - 1s 439us/step - loss: 0.0012 - val_loss: 0.0011\n",
            "Epoch 13/150\n",
            "1930/1930 [==============================] - 1s 447us/step - loss: 0.0012 - val_loss: 9.3297e-04\n",
            "Epoch 14/150\n",
            "1930/1930 [==============================] - 1s 443us/step - loss: 0.0011 - val_loss: 8.6434e-04\n",
            "Epoch 15/150\n",
            "1930/1930 [==============================] - 1s 447us/step - loss: 0.0011 - val_loss: 8.7219e-04\n",
            "Epoch 16/150\n",
            "1930/1930 [==============================] - 1s 447us/step - loss: 0.0012 - val_loss: 0.0010\n",
            "Epoch 17/150\n",
            "1930/1930 [==============================] - 1s 444us/step - loss: 0.0011 - val_loss: 0.0012\n",
            "Epoch 18/150\n",
            "1930/1930 [==============================] - 1s 445us/step - loss: 0.0011 - val_loss: 9.4250e-04\n",
            "Epoch 19/150\n",
            "1930/1930 [==============================] - 1s 449us/step - loss: 0.0012 - val_loss: 9.1502e-04\n",
            "Epoch 20/150\n",
            "1930/1930 [==============================] - 1s 448us/step - loss: 0.0012 - val_loss: 8.4953e-04\n",
            "Epoch 21/150\n",
            "1930/1930 [==============================] - 1s 446us/step - loss: 0.0012 - val_loss: 9.9596e-04\n",
            "Epoch 22/150\n",
            "1930/1930 [==============================] - 1s 463us/step - loss: 0.0012 - val_loss: 0.0011\n",
            "Epoch 23/150\n",
            "1930/1930 [==============================] - 1s 441us/step - loss: 0.0011 - val_loss: 0.0012\n",
            "Epoch 24/150\n",
            "1930/1930 [==============================] - 1s 451us/step - loss: 0.0010 - val_loss: 0.0011\n",
            "Epoch 25/150\n",
            "1930/1930 [==============================] - 1s 449us/step - loss: 0.0012 - val_loss: 0.0011\n",
            "Epoch 26/150\n",
            "1930/1930 [==============================] - 1s 450us/step - loss: 0.0011 - val_loss: 9.3924e-04\n",
            "Epoch 27/150\n",
            "1930/1930 [==============================] - 1s 448us/step - loss: 0.0012 - val_loss: 9.2024e-04\n",
            "Epoch 28/150\n",
            "1930/1930 [==============================] - 1s 449us/step - loss: 0.0011 - val_loss: 0.0010\n",
            "Epoch 29/150\n",
            "1930/1930 [==============================] - 1s 454us/step - loss: 0.0011 - val_loss: 0.0012\n",
            "Epoch 30/150\n",
            "1930/1930 [==============================] - 1s 436us/step - loss: 0.0011 - val_loss: 0.0012\n",
            "Epoch 31/150\n",
            "1930/1930 [==============================] - 1s 450us/step - loss: 0.0010 - val_loss: 0.0010\n",
            "Epoch 32/150\n",
            "1930/1930 [==============================] - 1s 447us/step - loss: 0.0012 - val_loss: 7.4371e-04\n",
            "Epoch 33/150\n",
            "1930/1930 [==============================] - 1s 446us/step - loss: 0.0011 - val_loss: 7.1966e-04\n",
            "Epoch 34/150\n",
            "1930/1930 [==============================] - 1s 448us/step - loss: 0.0011 - val_loss: 8.0914e-04\n",
            "Epoch 35/150\n",
            "1930/1930 [==============================] - 1s 453us/step - loss: 9.7699e-04 - val_loss: 7.9831e-04\n",
            "Epoch 36/150\n",
            "1930/1930 [==============================] - 1s 442us/step - loss: 0.0011 - val_loss: 9.0559e-04\n",
            "Epoch 37/150\n",
            "1930/1930 [==============================] - 1s 448us/step - loss: 0.0011 - val_loss: 9.3867e-04\n",
            "Epoch 38/150\n",
            "1930/1930 [==============================] - 1s 444us/step - loss: 9.8719e-04 - val_loss: 9.2982e-04\n",
            "Epoch 39/150\n",
            "1930/1930 [==============================] - 1s 450us/step - loss: 0.0011 - val_loss: 7.4318e-04\n",
            "Epoch 40/150\n",
            "1930/1930 [==============================] - 1s 455us/step - loss: 9.7969e-04 - val_loss: 8.9743e-04\n",
            "Epoch 41/150\n",
            "1930/1930 [==============================] - 1s 442us/step - loss: 9.8403e-04 - val_loss: 9.5129e-04\n",
            "Epoch 42/150\n",
            "1930/1930 [==============================] - 1s 448us/step - loss: 0.0011 - val_loss: 0.0010\n",
            "Epoch 43/150\n",
            "1930/1930 [==============================] - 1s 449us/step - loss: 0.0010 - val_loss: 9.6181e-04\n",
            "Epoch 44/150\n",
            "1930/1930 [==============================] - 1s 444us/step - loss: 0.0011 - val_loss: 8.8562e-04\n",
            "Epoch 45/150\n",
            "1930/1930 [==============================] - 1s 443us/step - loss: 0.0011 - val_loss: 8.4986e-04\n",
            "Epoch 46/150\n",
            "1930/1930 [==============================] - 1s 450us/step - loss: 0.0011 - val_loss: 8.6801e-04\n",
            "Epoch 47/150\n",
            "1930/1930 [==============================] - 1s 449us/step - loss: 0.0010 - val_loss: 8.9215e-04\n",
            "Epoch 48/150\n",
            "1930/1930 [==============================] - 1s 448us/step - loss: 0.0010 - val_loss: 9.2036e-04\n",
            "Epoch 49/150\n",
            "1930/1930 [==============================] - 1s 453us/step - loss: 0.0010 - val_loss: 7.8577e-04\n",
            "Epoch 50/150\n",
            "1930/1930 [==============================] - 1s 447us/step - loss: 0.0011 - val_loss: 7.7982e-04\n",
            "Epoch 51/150\n",
            "1930/1930 [==============================] - 1s 454us/step - loss: 0.0011 - val_loss: 7.5249e-04\n",
            "Epoch 52/150\n",
            "1930/1930 [==============================] - 1s 453us/step - loss: 0.0010 - val_loss: 7.6238e-04\n",
            "Epoch 53/150\n",
            "1930/1930 [==============================] - 1s 453us/step - loss: 0.0010 - val_loss: 9.2033e-04\n",
            "Epoch 54/150\n",
            "1930/1930 [==============================] - 1s 456us/step - loss: 0.0011 - val_loss: 8.1927e-04\n",
            "Epoch 55/150\n",
            "1930/1930 [==============================] - 1s 446us/step - loss: 0.0010 - val_loss: 8.6220e-04\n",
            "Epoch 56/150\n",
            "1930/1930 [==============================] - 1s 454us/step - loss: 9.2342e-04 - val_loss: 7.3936e-04\n",
            "Epoch 57/150\n",
            "1930/1930 [==============================] - 1s 455us/step - loss: 0.0011 - val_loss: 8.0851e-04\n",
            "Epoch 58/150\n",
            "1930/1930 [==============================] - 1s 462us/step - loss: 0.0010 - val_loss: 9.9218e-04\n",
            "Epoch 59/150\n",
            "1930/1930 [==============================] - 1s 443us/step - loss: 0.0011 - val_loss: 8.1542e-04\n",
            "Epoch 60/150\n",
            "1930/1930 [==============================] - 1s 455us/step - loss: 0.0011 - val_loss: 7.4510e-04\n",
            "Epoch 61/150\n",
            "1930/1930 [==============================] - 1s 442us/step - loss: 0.0011 - val_loss: 7.7997e-04\n",
            "Epoch 62/150\n",
            "1930/1930 [==============================] - 1s 453us/step - loss: 9.5268e-04 - val_loss: 7.5313e-04\n",
            "Epoch 63/150\n",
            "1930/1930 [==============================] - 1s 443us/step - loss: 0.0010 - val_loss: 7.0345e-04\n",
            "Epoch 64/150\n",
            "1930/1930 [==============================] - 1s 468us/step - loss: 9.8912e-04 - val_loss: 7.3360e-04\n",
            "Epoch 65/150\n",
            "1930/1930 [==============================] - 1s 464us/step - loss: 0.0010 - val_loss: 8.5290e-04\n",
            "Epoch 66/150\n",
            "1930/1930 [==============================] - 1s 455us/step - loss: 9.9953e-04 - val_loss: 9.2249e-04\n",
            "Epoch 67/150\n",
            "1930/1930 [==============================] - 1s 461us/step - loss: 8.9971e-04 - val_loss: 8.3562e-04\n",
            "Epoch 68/150\n",
            "1930/1930 [==============================] - 1s 468us/step - loss: 9.3865e-04 - val_loss: 7.6929e-04\n",
            "Epoch 69/150\n",
            "1930/1930 [==============================] - 1s 459us/step - loss: 9.8373e-04 - val_loss: 9.1151e-04\n",
            "Epoch 70/150\n",
            "1930/1930 [==============================] - 1s 462us/step - loss: 9.1939e-04 - val_loss: 9.3129e-04\n",
            "Epoch 71/150\n",
            "1930/1930 [==============================] - 1s 459us/step - loss: 0.0010 - val_loss: 8.3452e-04\n",
            "Epoch 72/150\n",
            "1930/1930 [==============================] - 1s 457us/step - loss: 0.0010 - val_loss: 8.2698e-04\n",
            "Epoch 73/150\n",
            "1930/1930 [==============================] - 1s 466us/step - loss: 9.2057e-04 - val_loss: 9.8166e-04\n",
            "Epoch 74/150\n",
            "1930/1930 [==============================] - 1s 459us/step - loss: 9.1132e-04 - val_loss: 7.6926e-04\n",
            "Epoch 75/150\n",
            "1930/1930 [==============================] - 1s 459us/step - loss: 0.0010 - val_loss: 9.2332e-04\n",
            "Epoch 76/150\n",
            "1930/1930 [==============================] - 1s 455us/step - loss: 9.5544e-04 - val_loss: 8.6122e-04\n",
            "Epoch 77/150\n",
            "1930/1930 [==============================] - 1s 456us/step - loss: 9.8260e-04 - val_loss: 7.9845e-04\n",
            "Epoch 78/150\n",
            "1930/1930 [==============================] - 1s 454us/step - loss: 0.0010 - val_loss: 7.4016e-04\n",
            "Epoch 79/150\n",
            "1930/1930 [==============================] - 1s 460us/step - loss: 9.2601e-04 - val_loss: 7.0202e-04\n",
            "Epoch 80/150\n",
            "1930/1930 [==============================] - 1s 458us/step - loss: 9.2321e-04 - val_loss: 7.6130e-04\n",
            "Epoch 81/150\n",
            "1930/1930 [==============================] - 1s 457us/step - loss: 9.6868e-04 - val_loss: 7.3369e-04\n",
            "Epoch 82/150\n",
            "1930/1930 [==============================] - 1s 461us/step - loss: 8.8804e-04 - val_loss: 6.9535e-04\n",
            "Epoch 83/150\n",
            "1930/1930 [==============================] - 1s 455us/step - loss: 0.0010 - val_loss: 6.6151e-04\n",
            "Epoch 84/150\n",
            "1930/1930 [==============================] - 1s 456us/step - loss: 9.4475e-04 - val_loss: 6.9323e-04\n",
            "Epoch 85/150\n",
            "1930/1930 [==============================] - 1s 457us/step - loss: 9.6910e-04 - val_loss: 6.6621e-04\n",
            "Epoch 86/150\n",
            "1930/1930 [==============================] - 1s 456us/step - loss: 9.2437e-04 - val_loss: 7.9213e-04\n",
            "Epoch 87/150\n",
            "1930/1930 [==============================] - 1s 464us/step - loss: 9.2904e-04 - val_loss: 8.1285e-04\n",
            "Epoch 88/150\n",
            "1930/1930 [==============================] - 1s 463us/step - loss: 9.2007e-04 - val_loss: 8.5932e-04\n",
            "Epoch 89/150\n",
            "1930/1930 [==============================] - 1s 455us/step - loss: 9.1671e-04 - val_loss: 7.7042e-04\n",
            "Epoch 90/150\n",
            "1930/1930 [==============================] - 1s 451us/step - loss: 9.0678e-04 - val_loss: 7.6672e-04\n",
            "Epoch 91/150\n",
            "1930/1930 [==============================] - 1s 447us/step - loss: 9.3221e-04 - val_loss: 7.5238e-04\n",
            "Epoch 92/150\n",
            "1930/1930 [==============================] - 1s 445us/step - loss: 8.6578e-04 - val_loss: 7.3706e-04\n",
            "Epoch 93/150\n",
            "1930/1930 [==============================] - 1s 443us/step - loss: 9.2319e-04 - val_loss: 6.7876e-04\n",
            "Epoch 94/150\n",
            "1930/1930 [==============================] - 1s 455us/step - loss: 9.0184e-04 - val_loss: 8.0296e-04\n",
            "Epoch 95/150\n",
            "1930/1930 [==============================] - 1s 451us/step - loss: 9.5627e-04 - val_loss: 6.7804e-04\n",
            "Epoch 96/150\n",
            "1930/1930 [==============================] - 1s 453us/step - loss: 9.1128e-04 - val_loss: 6.7459e-04\n",
            "Epoch 97/150\n",
            "1930/1930 [==============================] - 1s 440us/step - loss: 9.1397e-04 - val_loss: 7.5967e-04\n",
            "Epoch 98/150\n",
            "1930/1930 [==============================] - 1s 445us/step - loss: 9.0438e-04 - val_loss: 7.3318e-04\n",
            "Epoch 99/150\n",
            "1930/1930 [==============================] - 1s 458us/step - loss: 8.8412e-04 - val_loss: 6.5321e-04\n",
            "Epoch 100/150\n",
            "1930/1930 [==============================] - 1s 451us/step - loss: 9.1343e-04 - val_loss: 6.6280e-04\n",
            "Epoch 101/150\n",
            "1930/1930 [==============================] - 1s 457us/step - loss: 9.0947e-04 - val_loss: 9.5476e-04\n",
            "Epoch 102/150\n",
            "1930/1930 [==============================] - 1s 448us/step - loss: 9.6837e-04 - val_loss: 9.1754e-04\n",
            "Epoch 103/150\n",
            "1930/1930 [==============================] - 1s 452us/step - loss: 9.5161e-04 - val_loss: 8.1199e-04\n",
            "Epoch 104/150\n",
            "1930/1930 [==============================] - 1s 436us/step - loss: 8.7268e-04 - val_loss: 7.0984e-04\n",
            "Epoch 105/150\n",
            "1930/1930 [==============================] - 1s 461us/step - loss: 9.5319e-04 - val_loss: 8.2860e-04\n",
            "Epoch 106/150\n",
            "1930/1930 [==============================] - 1s 451us/step - loss: 9.3813e-04 - val_loss: 7.0780e-04\n",
            "Epoch 107/150\n",
            "1930/1930 [==============================] - 1s 449us/step - loss: 8.5611e-04 - val_loss: 7.3227e-04\n",
            "Epoch 108/150\n",
            "1930/1930 [==============================] - 1s 448us/step - loss: 8.8634e-04 - val_loss: 7.5725e-04\n",
            "Epoch 109/150\n",
            "1930/1930 [==============================] - 1s 443us/step - loss: 8.7124e-04 - val_loss: 7.1480e-04\n",
            "Epoch 110/150\n",
            "1930/1930 [==============================] - 1s 444us/step - loss: 9.9478e-04 - val_loss: 7.3254e-04\n",
            "Epoch 111/150\n",
            "1930/1930 [==============================] - 1s 441us/step - loss: 9.4091e-04 - val_loss: 7.5231e-04\n",
            "Epoch 112/150\n",
            "1930/1930 [==============================] - 1s 444us/step - loss: 9.1410e-04 - val_loss: 7.9253e-04\n",
            "Epoch 113/150\n",
            "1930/1930 [==============================] - 1s 438us/step - loss: 8.9601e-04 - val_loss: 8.0927e-04\n",
            "Epoch 114/150\n",
            "1930/1930 [==============================] - 1s 450us/step - loss: 8.9208e-04 - val_loss: 7.5536e-04\n",
            "Epoch 115/150\n",
            "1930/1930 [==============================] - 1s 448us/step - loss: 9.3086e-04 - val_loss: 7.6508e-04\n",
            "Epoch 116/150\n",
            "1930/1930 [==============================] - 1s 448us/step - loss: 9.2165e-04 - val_loss: 8.2818e-04\n",
            "Epoch 117/150\n",
            "1930/1930 [==============================] - 1s 437us/step - loss: 9.0649e-04 - val_loss: 9.9436e-04\n",
            "Epoch 118/150\n",
            "1930/1930 [==============================] - 1s 443us/step - loss: 8.8350e-04 - val_loss: 6.6479e-04\n",
            "Epoch 119/150\n",
            "1930/1930 [==============================] - 1s 449us/step - loss: 8.2097e-04 - val_loss: 5.7632e-04\n",
            "Epoch 120/150\n",
            "1930/1930 [==============================] - 1s 450us/step - loss: 8.7645e-04 - val_loss: 5.6263e-04\n",
            "Epoch 121/150\n",
            "1930/1930 [==============================] - 1s 448us/step - loss: 9.5834e-04 - val_loss: 7.3871e-04\n",
            "Epoch 122/150\n",
            "1930/1930 [==============================] - 1s 447us/step - loss: 8.9930e-04 - val_loss: 9.3508e-04\n",
            "Epoch 123/150\n",
            "1930/1930 [==============================] - 1s 439us/step - loss: 8.8868e-04 - val_loss: 9.1188e-04\n",
            "Epoch 124/150\n",
            "1930/1930 [==============================] - 1s 439us/step - loss: 9.5309e-04 - val_loss: 7.5015e-04\n",
            "Epoch 125/150\n",
            "1930/1930 [==============================] - 1s 447us/step - loss: 9.6928e-04 - val_loss: 7.8661e-04\n",
            "Epoch 126/150\n",
            "1930/1930 [==============================] - 1s 445us/step - loss: 8.8699e-04 - val_loss: 8.0443e-04\n",
            "Epoch 127/150\n",
            "1930/1930 [==============================] - 1s 440us/step - loss: 8.5211e-04 - val_loss: 7.5768e-04\n",
            "Epoch 128/150\n",
            "1930/1930 [==============================] - 1s 441us/step - loss: 8.3922e-04 - val_loss: 7.4198e-04\n",
            "Epoch 129/150\n",
            "1930/1930 [==============================] - 1s 448us/step - loss: 9.3247e-04 - val_loss: 8.0354e-04\n",
            "Epoch 130/150\n",
            "1930/1930 [==============================] - 1s 445us/step - loss: 8.5992e-04 - val_loss: 8.4062e-04\n",
            "Epoch 131/150\n",
            "1930/1930 [==============================] - 1s 452us/step - loss: 9.3574e-04 - val_loss: 9.7856e-04\n",
            "Epoch 132/150\n",
            "1930/1930 [==============================] - 1s 442us/step - loss: 9.0714e-04 - val_loss: 8.9262e-04\n",
            "Epoch 133/150\n",
            "1930/1930 [==============================] - 1s 448us/step - loss: 9.0609e-04 - val_loss: 7.6953e-04\n",
            "Epoch 134/150\n",
            "1930/1930 [==============================] - 1s 447us/step - loss: 8.6221e-04 - val_loss: 6.6668e-04\n",
            "Epoch 135/150\n",
            "1930/1930 [==============================] - 1s 446us/step - loss: 8.1416e-04 - val_loss: 7.1204e-04\n",
            "Epoch 136/150\n",
            "1930/1930 [==============================] - 1s 441us/step - loss: 9.0647e-04 - val_loss: 7.1442e-04\n",
            "Epoch 137/150\n",
            "1930/1930 [==============================] - 1s 443us/step - loss: 8.2402e-04 - val_loss: 7.1425e-04\n",
            "Epoch 138/150\n",
            "1930/1930 [==============================] - 1s 445us/step - loss: 8.2017e-04 - val_loss: 6.4501e-04\n",
            "Epoch 139/150\n",
            "1930/1930 [==============================] - 1s 445us/step - loss: 8.5955e-04 - val_loss: 6.2961e-04\n",
            "Epoch 140/150\n",
            "1930/1930 [==============================] - 1s 452us/step - loss: 8.4701e-04 - val_loss: 6.1393e-04\n",
            "Epoch 141/150\n",
            "1930/1930 [==============================] - 1s 445us/step - loss: 9.2166e-04 - val_loss: 6.2057e-04\n",
            "Epoch 142/150\n",
            "1930/1930 [==============================] - 1s 446us/step - loss: 9.1346e-04 - val_loss: 7.0406e-04\n",
            "Epoch 143/150\n",
            "1930/1930 [==============================] - 1s 438us/step - loss: 8.5358e-04 - val_loss: 7.3693e-04\n",
            "Epoch 144/150\n",
            "1930/1930 [==============================] - 1s 448us/step - loss: 9.3167e-04 - val_loss: 6.8260e-04\n",
            "Epoch 145/150\n",
            "1930/1930 [==============================] - 1s 446us/step - loss: 8.9254e-04 - val_loss: 6.7606e-04\n",
            "Epoch 146/150\n",
            "1930/1930 [==============================] - 1s 443us/step - loss: 8.5543e-04 - val_loss: 6.5263e-04\n",
            "Epoch 147/150\n",
            "1930/1930 [==============================] - 1s 447us/step - loss: 8.9625e-04 - val_loss: 8.6484e-04\n",
            "Epoch 148/150\n",
            "1930/1930 [==============================] - 1s 443us/step - loss: 8.3694e-04 - val_loss: 8.0109e-04\n",
            "Epoch 149/150\n",
            "1930/1930 [==============================] - 1s 439us/step - loss: 8.1199e-04 - val_loss: 6.4218e-04\n",
            "Epoch 150/150\n",
            "1930/1930 [==============================] - 1s 438us/step - loss: 8.5175e-04 - val_loss: 5.7021e-04\n"
          ],
          "name": "stdout"
        },
        {
          "output_type": "execute_result",
          "data": {
            "text/plain": [
              "<keras.callbacks.callbacks.History at 0x7f2967e885f8>"
            ]
          },
          "metadata": {
            "tags": []
          },
          "execution_count": 302
        }
      ]
    },
    {
      "cell_type": "code",
      "metadata": {
        "id": "11mKLvcFHijJ",
        "colab_type": "code",
        "outputId": "c9266ea2-b3cd-4c9b-d428-9e94ac371018",
        "colab": {
          "base_uri": "https://localhost:8080/",
          "height": 383
        }
      },
      "source": [
        "plt.figure(figsize=(10,5))\n",
        "plt.plot(regressorGRU.history.history['loss'], label='Training', color='blue')\n",
        "plt.plot(regressorGRU.history.history['val_loss'], label='Validation', color='red')\n",
        "plt.legend()\n",
        "plt.title(\"Training Loss Vs Validation Loss\")\n",
        "plt.xlabel('time')\n",
        "plt.ylabel('loss')\n",
        "plt.show()"
      ],
      "execution_count": 303,
      "outputs": [
        {
          "output_type": "display_data",
          "data": {
            "image/png": "[encoded data removed]",
            "text/plain": [
              "<Figure size 720x360 with 1 Axes>"
            ]
          },
          "metadata": {
            "tags": []
          }
        }
      ]
    },
    {
      "cell_type": "markdown",
      "metadata": {
        "id": "wHqrk3byKzEF",
        "colab_type": "text"
      },
      "source": [
        "###Predict the stock price"
      ]
    },
    {
      "cell_type": "code",
      "metadata": {
        "id": "nscCDs3LK2VG",
        "colab_type": "code",
        "colab": {}
      },
      "source": [
        "pred_gru = regressorGRU.predict(X_test)\n",
        "pred_gru = sc.inverse_transform(pred_gru)"
      ],
      "execution_count": 0,
      "outputs": []
    },
    {
      "cell_type": "markdown",
      "metadata": {
        "id": "m-kb4cNCLGr9",
        "colab_type": "text"
      },
      "source": [
        "###Plot the prediction"
      ]
    },
    {
      "cell_type": "code",
      "metadata": {
        "id": "zhqj5QfSLI4T",
        "colab_type": "code",
        "outputId": "ec401972-dabe-49ab-adf2-db356e4f766b",
        "colab": {
          "base_uri": "https://localhost:8080/",
          "height": 325
        }
      },
      "source": [
        "plot_predictions(test_2017, pred_gru)"
      ],
      "execution_count": 305,
      "outputs": [
        {
          "output_type": "display_data",
          "data": {
            "image/png": "[encoded data removed]",
            "text/plain": [
              "<Figure size 432x288 with 1 Axes>"
            ]
          },
          "metadata": {
            "tags": []
          }
        }
      ]
    },
    {
      "cell_type": "markdown",
      "metadata": {
        "id": "M6OIzrFvLdY7",
        "colab_type": "text"
      },
      "source": [
        "###RMSE of the model"
      ]
    },
    {
      "cell_type": "code",
      "metadata": {
        "id": "olfgsznTLdqf",
        "colab_type": "code",
        "outputId": "1650f487-e028-4e1c-9f9e-4f321d910eb2",
        "colab": {
          "base_uri": "https://localhost:8080/",
          "height": 34
        }
      },
      "source": [
        "return_rmse(test_2017, pred_gru)"
      ],
      "execution_count": 306,
      "outputs": [
        {
          "output_type": "stream",
          "text": [
            "RMSE = 6.41773914078695.\n"
          ],
          "name": "stdout"
        }
      ]
    },
    {
      "cell_type": "markdown",
      "metadata": {
        "id": "xmpH_idAJTVp",
        "colab_type": "text"
      },
      "source": [
        "#Testing Models"
      ]
    },
    {
      "cell_type": "markdown",
      "metadata": {
        "id": "sfhuyvb1SyvL",
        "colab_type": "text"
      },
      "source": [
        "here the model will be tested with three different period as following:\n",
        "1. 2020-4-3 to 2020-5-1\n",
        "2. The next five monthes after 2018-1-1\n",
        "3. The next ten monthes after 2018-1-1\n",
        "\n",
        "\n"
      ]
    },
    {
      "cell_type": "code",
      "metadata": {
        "id": "Py-PmJ7RMI4k",
        "colab_type": "code",
        "colab": {}
      },
      "source": [
        "def preprossing_data_rnns(data):\n",
        "  sc = MinMaxScaler(feature_range=(0,1))\n",
        "  train_sc = sc.fit_transform(data)\n",
        "  data_x = []\n",
        "  data_y = []\n",
        "  for i in range(10,len(data)):\n",
        "    data_x.append(data[i-10:i, 0])\n",
        "    data_y.append(data[i,0])\n",
        "  data_x, data_y = np.array(data_x), np.array(data_y)\n",
        "  data_x = np.reshape(data_x, (data_x.shape[0], data_x.shape[1], 1))\n",
        "  return data_x, data_y\n",
        "\n",
        "def predic_using_LSTM(data_x):\n",
        "  pred_lstm_new = regressor.predict(data_x)\n",
        "  pred_lstm_new = sc.inverse_transform(pred_lstm_new)\n",
        "  return pred_lstm_new\n",
        "\n",
        "def predic_using_gru(data_x):\n",
        "  pred_gru_new = regressorGRU.predict(data_x)\n",
        "  pred_gru_new = sc.inverse_transform(pred_gru_new)\n",
        "  return pred_gru_new\n"
      ],
      "execution_count": 0,
      "outputs": []
    },
    {
      "cell_type": "markdown",
      "metadata": {
        "id": "_2DglhNSfrsM",
        "colab_type": "text"
      },
      "source": [
        "##Get the pariod from 2020-4-3 to 2020-5-1 months after 2018-1-1"
      ]
    },
    {
      "cell_type": "code",
      "metadata": {
        "id": "J2E_7zlBJbxV",
        "colab_type": "code",
        "colab": {}
      },
      "source": [
        "apple_data_4_5 = pd.read_csv('https://raw.githubusercontent.com/ahshawaf/AML/project7/APPL_2020-03-04_to_2020-01-05.csv',index_col='Date', parse_dates=[\"Date\"]) "
      ],
      "execution_count": 0,
      "outputs": []
    },
    {
      "cell_type": "code",
      "metadata": {
        "id": "QR2ncqX7Q2IX",
        "colab_type": "code",
        "outputId": "e0ca9ab1-3337-4fe4-f29a-5e6cc63c0fd1",
        "colab": {
          "base_uri": "https://localhost:8080/",
          "height": 225
        }
      },
      "source": [
        "apple_data_4_5.head()"
      ],
      "execution_count": 309,
      "outputs": [
        {
          "output_type": "execute_result",
          "data": {
            "text/html": [
              "<div>\n",
              "<style scoped>\n",
              "    .dataframe tbody tr th:only-of-type {\n",
              "        vertical-align: middle;\n",
              "    }\n",
              "\n",
              "    .dataframe tbody tr th {\n",
              "        vertical-align: top;\n",
              "    }\n",
              "\n",
              "    .dataframe thead th {\n",
              "        text-align: right;\n",
              "    }\n",
              "</style>\n",
              "<table border=\"1\" class=\"dataframe\">\n",
              "  <thead>\n",
              "    <tr style=\"text-align: right;\">\n",
              "      <th></th>\n",
              "      <th>Close/Last</th>\n",
              "      <th>Volume</th>\n",
              "      <th>Open</th>\n",
              "      <th>High</th>\n",
              "      <th>Low</th>\n",
              "    </tr>\n",
              "    <tr>\n",
              "      <th>Date</th>\n",
              "      <th></th>\n",
              "      <th></th>\n",
              "      <th></th>\n",
              "      <th></th>\n",
              "      <th></th>\n",
              "    </tr>\n",
              "  </thead>\n",
              "  <tbody>\n",
              "    <tr>\n",
              "      <th>2020-05-01</th>\n",
              "      <td>289.07</td>\n",
              "      <td>60154180.0</td>\n",
              "      <td>286.25</td>\n",
              "      <td>299.00</td>\n",
              "      <td>285.85</td>\n",
              "    </tr>\n",
              "    <tr>\n",
              "      <th>2020-04-30</th>\n",
              "      <td>293.80</td>\n",
              "      <td>45765970.0</td>\n",
              "      <td>289.96</td>\n",
              "      <td>294.53</td>\n",
              "      <td>288.35</td>\n",
              "    </tr>\n",
              "    <tr>\n",
              "      <th>2020-04-29</th>\n",
              "      <td>287.73</td>\n",
              "      <td>34320200.0</td>\n",
              "      <td>284.73</td>\n",
              "      <td>289.67</td>\n",
              "      <td>283.89</td>\n",
              "    </tr>\n",
              "    <tr>\n",
              "      <th>2020-04-28</th>\n",
              "      <td>278.58</td>\n",
              "      <td>28001190.0</td>\n",
              "      <td>285.08</td>\n",
              "      <td>285.83</td>\n",
              "      <td>278.20</td>\n",
              "    </tr>\n",
              "    <tr>\n",
              "      <th>2020-04-27</th>\n",
              "      <td>283.17</td>\n",
              "      <td>29271890.0</td>\n",
              "      <td>281.80</td>\n",
              "      <td>284.54</td>\n",
              "      <td>279.95</td>\n",
              "    </tr>\n",
              "  </tbody>\n",
              "</table>\n",
              "</div>"
            ],
            "text/plain": [
              "             Close/Last      Volume    Open    High     Low\n",
              "Date                                                       \n",
              "2020-05-01       289.07  60154180.0  286.25  299.00  285.85\n",
              "2020-04-30       293.80  45765970.0  289.96  294.53  288.35\n",
              "2020-04-29       287.73  34320200.0  284.73  289.67  283.89\n",
              "2020-04-28       278.58  28001190.0  285.08  285.83  278.20\n",
              "2020-04-27       283.17  29271890.0  281.80  284.54  279.95"
            ]
          },
          "metadata": {
            "tags": []
          },
          "execution_count": 309
        }
      ]
    },
    {
      "cell_type": "code",
      "metadata": {
        "id": "I25NJkV1ASkm",
        "colab_type": "code",
        "colab": {
          "base_uri": "https://localhost:8080/",
          "height": 67
        },
        "outputId": "9ac386ff-49dd-431f-8792-e9a21c3eb98e"
      },
      "source": [
        "apple_data_4_5_high = apple_data_4_5.iloc[:,3].values\n",
        "apple_data_4_5_high"
      ],
      "execution_count": 310,
      "outputs": [
        {
          "output_type": "execute_result",
          "data": {
            "text/plain": [
              "array([299.  , 294.53, 289.67, 285.83, 284.54, 283.01, 281.75, 277.9 ,\n",
              "       277.25, 281.68, 286.95, 288.2 , 286.33, 288.25, 273.7 , 270.07,\n",
              "       267.37, 271.7 , 263.11, 245.7 ])"
            ]
          },
          "metadata": {
            "tags": []
          },
          "execution_count": 310
        }
      ]
    },
    {
      "cell_type": "code",
      "metadata": {
        "id": "PRggSA7zCxmB",
        "colab_type": "code",
        "colab": {
          "base_uri": "https://localhost:8080/",
          "height": 34
        },
        "outputId": "6b9187d1-4427-48f9-879b-a966d72f8f4b"
      },
      "source": [
        "apple_data_4_5_high.shape"
      ],
      "execution_count": 311,
      "outputs": [
        {
          "output_type": "execute_result",
          "data": {
            "text/plain": [
              "(20,)"
            ]
          },
          "metadata": {
            "tags": []
          },
          "execution_count": 311
        }
      ]
    },
    {
      "cell_type": "code",
      "metadata": {
        "id": "3itLf4izCzwk",
        "colab_type": "code",
        "colab": {
          "base_uri": "https://localhost:8080/",
          "height": 34
        },
        "outputId": "0c109e71-5196-4e35-f6d4-72cc3baaebc0"
      },
      "source": [
        "apple_data_4_5_high=apple_data_4_5_high.reshape(-1,1)\n",
        "apple_data_4_5_high.shape"
      ],
      "execution_count": 312,
      "outputs": [
        {
          "output_type": "execute_result",
          "data": {
            "text/plain": [
              "(20, 1)"
            ]
          },
          "metadata": {
            "tags": []
          },
          "execution_count": 312
        }
      ]
    },
    {
      "cell_type": "code",
      "metadata": {
        "id": "YjPW6SvbNUyK",
        "colab_type": "code",
        "colab": {}
      },
      "source": [
        "apple_x_4_5,apple_y_4_5 = preprossing_data_rnns(np.array(apple_data_4_5_high))"
      ],
      "execution_count": 0,
      "outputs": []
    },
    {
      "cell_type": "code",
      "metadata": {
        "id": "KXYRPP65RTSD",
        "colab_type": "code",
        "colab": {}
      },
      "source": [
        "pred_lstm_apple_4_5 = predic_using_LSTM(apple_x_4_5)"
      ],
      "execution_count": 0,
      "outputs": []
    },
    {
      "cell_type": "code",
      "metadata": {
        "id": "t6sHie59SHj7",
        "colab_type": "code",
        "outputId": "ff935230-d905-48b0-ab7a-ed51b6becf69",
        "colab": {
          "base_uri": "https://localhost:8080/",
          "height": 185
        }
      },
      "source": [
        "pred_lstm_apple_4_5"
      ],
      "execution_count": 315,
      "outputs": [
        {
          "output_type": "execute_result",
          "data": {
            "text/plain": [
              "array([[79.01445 ],\n",
              "       [79.014465],\n",
              "       [79.01448 ],\n",
              "       [79.01447 ],\n",
              "       [79.01448 ],\n",
              "       [79.014435],\n",
              "       [79.014435],\n",
              "       [79.014435],\n",
              "       [79.01446 ],\n",
              "       [79.014435]], dtype=float32)"
            ]
          },
          "metadata": {
            "tags": []
          },
          "execution_count": 315
        }
      ]
    },
    {
      "cell_type": "code",
      "metadata": {
        "id": "3-VztDn-Rb8P",
        "colab_type": "code",
        "outputId": "ba52f694-f3e5-461c-9781-80245b0e0b1d",
        "colab": {
          "base_uri": "https://localhost:8080/",
          "height": 325
        }
      },
      "source": [
        "plot_predictions(apple_y_4_5,pred_lstm_apple_4_5)"
      ],
      "execution_count": 316,
      "outputs": [
        {
          "output_type": "display_data",
          "data": {
            "image/png": "[encoded data removed]",
            "text/plain": [
              "<Figure size 432x288 with 1 Axes>"
            ]
          },
          "metadata": {
            "tags": []
          }
        }
      ]
    },
    {
      "cell_type": "code",
      "metadata": {
        "id": "378OlMNZX8Jg",
        "colab_type": "code",
        "colab": {
          "base_uri": "https://localhost:8080/",
          "height": 34
        },
        "outputId": "5abb5bc7-a829-4055-addc-67f53de828dd"
      },
      "source": [
        "return_rmse(apple_y_4_5,pred_lstm_apple_4_5)"
      ],
      "execution_count": 317,
      "outputs": [
        {
          "output_type": "stream",
          "text": [
            "RMSE = 195.56085599088885.\n"
          ],
          "name": "stdout"
        }
      ]
    },
    {
      "cell_type": "code",
      "metadata": {
        "id": "wcWjXeEzSNWP",
        "colab_type": "code",
        "colab": {}
      },
      "source": [
        "pred_gru_apple_4_5 = predic_using_gru(apple_x_4_5)"
      ],
      "execution_count": 0,
      "outputs": []
    },
    {
      "cell_type": "code",
      "metadata": {
        "id": "MP_Iet4gTPS8",
        "colab_type": "code",
        "outputId": "f5d43a20-8533-465d-dcb4-545a60844df3",
        "colab": {
          "base_uri": "https://localhost:8080/",
          "height": 185
        }
      },
      "source": [
        "pred_gru_apple_4_5"
      ],
      "execution_count": 319,
      "outputs": [
        {
          "output_type": "execute_result",
          "data": {
            "text/plain": [
              "array([[382.17358],\n",
              "       [382.32022],\n",
              "       [382.42325],\n",
              "       [382.4765 ],\n",
              "       [382.49066],\n",
              "       [382.49063],\n",
              "       [382.49005],\n",
              "       [382.4964 ],\n",
              "       [382.49734],\n",
              "       [382.5249 ]], dtype=float32)"
            ]
          },
          "metadata": {
            "tags": []
          },
          "execution_count": 319
        }
      ]
    },
    {
      "cell_type": "code",
      "metadata": {
        "id": "mHBIXk4lSptK",
        "colab_type": "code",
        "outputId": "7977b648-44a5-4042-e8ce-024a72682c16",
        "colab": {
          "base_uri": "https://localhost:8080/",
          "height": 325
        }
      },
      "source": [
        "plot_predictions(apple_y_4_5,pred_gru_apple_4_5)"
      ],
      "execution_count": 320,
      "outputs": [
        {
          "output_type": "display_data",
          "data": {
            "image/png": "[encoded data removed]",
            "text/plain": [
              "<Figure size 432x288 with 1 Axes>"
            ]
          },
          "metadata": {
            "tags": []
          }
        }
      ]
    },
    {
      "cell_type": "code",
      "metadata": {
        "id": "ribv4JtaXxGg",
        "colab_type": "code",
        "colab": {
          "base_uri": "https://localhost:8080/",
          "height": 34
        },
        "outputId": "cc8cba66-e9f0-4258-bcf1-a3619974c2e7"
      },
      "source": [
        "return_rmse(apple_y_4_5,pred_gru_apple_4_5)"
      ],
      "execution_count": 321,
      "outputs": [
        {
          "output_type": "stream",
          "text": [
            "RMSE = 109.09416093303675.\n"
          ],
          "name": "stdout"
        }
      ]
    },
    {
      "cell_type": "code",
      "metadata": {
        "id": "0SuHWzUI53No",
        "colab_type": "code",
        "colab": {}
      },
      "source": [
        "\n",
        "data_2 = pd.read_csv('https://raw.githubusercontent.com/ahshawaf/AML/project7/AAPL_2015-04-05_to_2020-01-05.csv',index_col='Date', parse_dates=[\"Date\"]) "
      ],
      "execution_count": 0,
      "outputs": []
    },
    {
      "cell_type": "markdown",
      "metadata": {
        "id": "NjzuP432QZIw",
        "colab_type": "text"
      },
      "source": [
        "##Get the next five months after 2018-1-1"
      ]
    },
    {
      "cell_type": "code",
      "metadata": {
        "id": "b2uOo4_r6QRw",
        "colab_type": "code",
        "colab": {
          "base_uri": "https://localhost:8080/",
          "height": 225
        },
        "outputId": "ccde9f0d-0cd8-4e51-e397-1151f634d108"
      },
      "source": [
        "data_2.head()"
      ],
      "execution_count": 323,
      "outputs": [
        {
          "output_type": "execute_result",
          "data": {
            "text/html": [
              "<div>\n",
              "<style scoped>\n",
              "    .dataframe tbody tr th:only-of-type {\n",
              "        vertical-align: middle;\n",
              "    }\n",
              "\n",
              "    .dataframe tbody tr th {\n",
              "        vertical-align: top;\n",
              "    }\n",
              "\n",
              "    .dataframe thead th {\n",
              "        text-align: right;\n",
              "    }\n",
              "</style>\n",
              "<table border=\"1\" class=\"dataframe\">\n",
              "  <thead>\n",
              "    <tr style=\"text-align: right;\">\n",
              "      <th></th>\n",
              "      <th>Close/Last</th>\n",
              "      <th>Volume</th>\n",
              "      <th>Open</th>\n",
              "      <th>High</th>\n",
              "      <th>Low</th>\n",
              "    </tr>\n",
              "    <tr>\n",
              "      <th>Date</th>\n",
              "      <th></th>\n",
              "      <th></th>\n",
              "      <th></th>\n",
              "      <th></th>\n",
              "      <th></th>\n",
              "    </tr>\n",
              "  </thead>\n",
              "  <tbody>\n",
              "    <tr>\n",
              "      <th>2020-05-01</th>\n",
              "      <td>289.07</td>\n",
              "      <td>60154180.0</td>\n",
              "      <td>286.25</td>\n",
              "      <td>299.00</td>\n",
              "      <td>285.85</td>\n",
              "    </tr>\n",
              "    <tr>\n",
              "      <th>2020-04-30</th>\n",
              "      <td>293.80</td>\n",
              "      <td>45765970.0</td>\n",
              "      <td>289.96</td>\n",
              "      <td>294.53</td>\n",
              "      <td>288.35</td>\n",
              "    </tr>\n",
              "    <tr>\n",
              "      <th>2020-04-29</th>\n",
              "      <td>287.73</td>\n",
              "      <td>34320200.0</td>\n",
              "      <td>284.73</td>\n",
              "      <td>289.67</td>\n",
              "      <td>283.89</td>\n",
              "    </tr>\n",
              "    <tr>\n",
              "      <th>2020-04-28</th>\n",
              "      <td>278.58</td>\n",
              "      <td>28001190.0</td>\n",
              "      <td>285.08</td>\n",
              "      <td>285.83</td>\n",
              "      <td>278.20</td>\n",
              "    </tr>\n",
              "    <tr>\n",
              "      <th>2020-04-27</th>\n",
              "      <td>283.17</td>\n",
              "      <td>29271890.0</td>\n",
              "      <td>281.80</td>\n",
              "      <td>284.54</td>\n",
              "      <td>279.95</td>\n",
              "    </tr>\n",
              "  </tbody>\n",
              "</table>\n",
              "</div>"
            ],
            "text/plain": [
              "             Close/Last      Volume    Open    High     Low\n",
              "Date                                                       \n",
              "2020-05-01       289.07  60154180.0  286.25  299.00  285.85\n",
              "2020-04-30       293.80  45765970.0  289.96  294.53  288.35\n",
              "2020-04-29       287.73  34320200.0  284.73  289.67  283.89\n",
              "2020-04-28       278.58  28001190.0  285.08  285.83  278.20\n",
              "2020-04-27       283.17  29271890.0  281.80  284.54  279.95"
            ]
          },
          "metadata": {
            "tags": []
          },
          "execution_count": 323
        }
      ]
    },
    {
      "cell_type": "code",
      "metadata": {
        "id": "KU1aVnEPQ65Q",
        "colab_type": "code",
        "colab": {}
      },
      "source": [
        "#this is a custom function get the a specific data with a specific period. The 'from date' is included but the 'to date' is not\n",
        "def get_period_of_data(data,from_year,from_month,from_day,to_year,to_month,to_day):\n",
        "  from_date = pd.Timestamp(date(from_year,from_month,from_day))\n",
        "  to_date = pd.Timestamp(date(to_year,to_month,to_day))\n",
        "  result = data_2[(data.index >= from_date) &  (data.index < to_date)]\n",
        "  return result"
      ],
      "execution_count": 0,
      "outputs": []
    },
    {
      "cell_type": "markdown",
      "metadata": {
        "id": "uX9TuhsLTK5i",
        "colab_type": "text"
      },
      "source": [
        "##Predict for the next five months"
      ]
    },
    {
      "cell_type": "code",
      "metadata": {
        "id": "MvSfMpYwR0Mr",
        "colab_type": "code",
        "colab": {
          "base_uri": "https://localhost:8080/",
          "height": 431
        },
        "outputId": "637e0077-393f-4c5c-f903-bf9418f09b03"
      },
      "source": [
        "apple_1_5=get_period_of_data(data_2,2018,1,1,2018,6,1)\n",
        "apple_1_5"
      ],
      "execution_count": 325,
      "outputs": [
        {
          "output_type": "execute_result",
          "data": {
            "text/html": [
              "<div>\n",
              "<style scoped>\n",
              "    .dataframe tbody tr th:only-of-type {\n",
              "        vertical-align: middle;\n",
              "    }\n",
              "\n",
              "    .dataframe tbody tr th {\n",
              "        vertical-align: top;\n",
              "    }\n",
              "\n",
              "    .dataframe thead th {\n",
              "        text-align: right;\n",
              "    }\n",
              "</style>\n",
              "<table border=\"1\" class=\"dataframe\">\n",
              "  <thead>\n",
              "    <tr style=\"text-align: right;\">\n",
              "      <th></th>\n",
              "      <th>Close/Last</th>\n",
              "      <th>Volume</th>\n",
              "      <th>Open</th>\n",
              "      <th>High</th>\n",
              "      <th>Low</th>\n",
              "    </tr>\n",
              "    <tr>\n",
              "      <th>Date</th>\n",
              "      <th></th>\n",
              "      <th></th>\n",
              "      <th></th>\n",
              "      <th></th>\n",
              "      <th></th>\n",
              "    </tr>\n",
              "  </thead>\n",
              "  <tbody>\n",
              "    <tr>\n",
              "      <th>2018-05-31</th>\n",
              "      <td>186.87</td>\n",
              "      <td>27468700.0</td>\n",
              "      <td>187.22</td>\n",
              "      <td>188.23</td>\n",
              "      <td>186.14</td>\n",
              "    </tr>\n",
              "    <tr>\n",
              "      <th>2018-05-30</th>\n",
              "      <td>187.50</td>\n",
              "      <td>18503410.0</td>\n",
              "      <td>187.72</td>\n",
              "      <td>188.00</td>\n",
              "      <td>186.78</td>\n",
              "    </tr>\n",
              "    <tr>\n",
              "      <th>2018-05-29</th>\n",
              "      <td>187.90</td>\n",
              "      <td>22409110.0</td>\n",
              "      <td>187.60</td>\n",
              "      <td>188.75</td>\n",
              "      <td>186.87</td>\n",
              "    </tr>\n",
              "    <tr>\n",
              "      <th>2018-05-25</th>\n",
              "      <td>188.58</td>\n",
              "      <td>17186760.0</td>\n",
              "      <td>188.23</td>\n",
              "      <td>189.65</td>\n",
              "      <td>187.65</td>\n",
              "    </tr>\n",
              "    <tr>\n",
              "      <th>2018-05-24</th>\n",
              "      <td>188.15</td>\n",
              "      <td>23129400.0</td>\n",
              "      <td>188.77</td>\n",
              "      <td>188.84</td>\n",
              "      <td>186.21</td>\n",
              "    </tr>\n",
              "    <tr>\n",
              "      <th>...</th>\n",
              "      <td>...</td>\n",
              "      <td>...</td>\n",
              "      <td>...</td>\n",
              "      <td>...</td>\n",
              "      <td>...</td>\n",
              "    </tr>\n",
              "    <tr>\n",
              "      <th>2018-01-08</th>\n",
              "      <td>174.35</td>\n",
              "      <td>20523870.0</td>\n",
              "      <td>174.35</td>\n",
              "      <td>175.61</td>\n",
              "      <td>173.93</td>\n",
              "    </tr>\n",
              "    <tr>\n",
              "      <th>2018-01-05</th>\n",
              "      <td>175.00</td>\n",
              "      <td>23589930.0</td>\n",
              "      <td>173.44</td>\n",
              "      <td>175.37</td>\n",
              "      <td>173.05</td>\n",
              "    </tr>\n",
              "    <tr>\n",
              "      <th>2018-01-04</th>\n",
              "      <td>173.03</td>\n",
              "      <td>22342650.0</td>\n",
              "      <td>172.54</td>\n",
              "      <td>173.47</td>\n",
              "      <td>172.08</td>\n",
              "    </tr>\n",
              "    <tr>\n",
              "      <th>2018-01-03</th>\n",
              "      <td>172.23</td>\n",
              "      <td>29461040.0</td>\n",
              "      <td>172.53</td>\n",
              "      <td>174.55</td>\n",
              "      <td>171.96</td>\n",
              "    </tr>\n",
              "    <tr>\n",
              "      <th>2018-01-02</th>\n",
              "      <td>172.26</td>\n",
              "      <td>25400540.0</td>\n",
              "      <td>170.16</td>\n",
              "      <td>172.30</td>\n",
              "      <td>169.26</td>\n",
              "    </tr>\n",
              "  </tbody>\n",
              "</table>\n",
              "<p>104 rows × 5 columns</p>\n",
              "</div>"
            ],
            "text/plain": [
              "             Close/Last      Volume    Open    High     Low\n",
              "Date                                                       \n",
              "2018-05-31       186.87  27468700.0  187.22  188.23  186.14\n",
              "2018-05-30       187.50  18503410.0  187.72  188.00  186.78\n",
              "2018-05-29       187.90  22409110.0  187.60  188.75  186.87\n",
              "2018-05-25       188.58  17186760.0  188.23  189.65  187.65\n",
              "2018-05-24       188.15  23129400.0  188.77  188.84  186.21\n",
              "...                 ...         ...     ...     ...     ...\n",
              "2018-01-08       174.35  20523870.0  174.35  175.61  173.93\n",
              "2018-01-05       175.00  23589930.0  173.44  175.37  173.05\n",
              "2018-01-04       173.03  22342650.0  172.54  173.47  172.08\n",
              "2018-01-03       172.23  29461040.0  172.53  174.55  171.96\n",
              "2018-01-02       172.26  25400540.0  170.16  172.30  169.26\n",
              "\n",
              "[104 rows x 5 columns]"
            ]
          },
          "metadata": {
            "tags": []
          },
          "execution_count": 325
        }
      ]
    },
    {
      "cell_type": "code",
      "metadata": {
        "id": "CAd-0dpMP3d-",
        "colab_type": "code",
        "colab": {}
      },
      "source": [
        "apple_1_5_high = apple_1_5.iloc[:,3].values"
      ],
      "execution_count": 0,
      "outputs": []
    },
    {
      "cell_type": "code",
      "metadata": {
        "id": "O8xlSFHcQBmR",
        "colab_type": "code",
        "colab": {
          "base_uri": "https://localhost:8080/",
          "height": 235
        },
        "outputId": "c1e77a7d-fd86-411c-8aa0-9dbfa62350be"
      },
      "source": [
        "apple_1_5_high"
      ],
      "execution_count": 327,
      "outputs": [
        {
          "output_type": "execute_result",
          "data": {
            "text/plain": [
              "array([188.23, 188.  , 188.75, 189.65, 188.84, 188.5 , 188.88, 189.27,\n",
              "       187.81, 188.91, 188.46, 187.07, 189.53, 190.06, 190.37, 187.4 ,\n",
              "       186.22, 187.67, 184.25, 177.5 , 177.75, 169.2 , 167.26, 164.33,\n",
              "       165.73, 165.42, 166.33, 166.92, 171.22, 175.39, 178.82, 178.94,\n",
              "       176.19, 175.84, 175.  , 173.92, 174.  , 173.09, 172.48, 174.23,\n",
              "       172.01, 168.75, 168.94, 171.75, 170.02, 175.15, 173.1 , 169.92,\n",
              "       172.68, 175.09, 176.8 , 177.47, 179.12, 180.24, 180.52, 183.5 ,\n",
              "       182.39, 180.  , 177.12, 175.85, 178.25, 177.74, 176.3 , 179.78,\n",
              "       180.62, 180.48, 179.39, 175.65, 173.95, 174.12, 174.26, 174.82,\n",
              "       173.09, 167.54, 164.75, 163.89, 157.89, 161.  , 163.4 , 163.72,\n",
              "       163.88, 166.8 , 168.62, 168.44, 167.37, 170.16, 172.  , 174.95,\n",
              "       177.3 , 179.44, 177.78, 179.58, 180.1 , 179.25, 179.39, 177.36,\n",
              "       175.49, 174.3 , 175.06, 175.61, 175.37, 173.47, 174.55, 172.3 ])"
            ]
          },
          "metadata": {
            "tags": []
          },
          "execution_count": 327
        }
      ]
    },
    {
      "cell_type": "code",
      "metadata": {
        "id": "i24OfdedQKZ_",
        "colab_type": "code",
        "colab": {
          "base_uri": "https://localhost:8080/",
          "height": 34
        },
        "outputId": "bf89540c-89e3-4540-c955-542e8c73764f"
      },
      "source": [
        "apple_1_5_high = apple_1_5_high.reshape(-1,1)\n",
        "apple_1_5_high.shape"
      ],
      "execution_count": 328,
      "outputs": [
        {
          "output_type": "execute_result",
          "data": {
            "text/plain": [
              "(104, 1)"
            ]
          },
          "metadata": {
            "tags": []
          },
          "execution_count": 328
        }
      ]
    },
    {
      "cell_type": "code",
      "metadata": {
        "id": "QKAZnGCoTQqC",
        "colab_type": "code",
        "colab": {}
      },
      "source": [
        "apple_1_5_x,apple_1_5_y = preprossing_data_rnns(np.array(apple_1_5_high))"
      ],
      "execution_count": 0,
      "outputs": []
    },
    {
      "cell_type": "markdown",
      "metadata": {
        "id": "O5AbUIOvVHS4",
        "colab_type": "text"
      },
      "source": [
        "predict using LSTM"
      ]
    },
    {
      "cell_type": "code",
      "metadata": {
        "id": "7ebZNeXLVGau",
        "colab_type": "code",
        "colab": {
          "base_uri": "https://localhost:8080/",
          "height": 325
        },
        "outputId": "6abc5f07-b0ba-4065-9a48-3e68aba8e27f"
      },
      "source": [
        "apple_1_5_pred= predic_using_LSTM(apple_1_5_x)\n",
        "plot_predictions(apple_1_5_y,apple_1_5_pred)"
      ],
      "execution_count": 330,
      "outputs": [
        {
          "output_type": "display_data",
          "data": {
            "image/png": "[encoded data removed]",
            "text/plain": [
              "<Figure size 432x288 with 1 Axes>"
            ]
          },
          "metadata": {
            "tags": []
          }
        }
      ]
    },
    {
      "cell_type": "code",
      "metadata": {
        "id": "dVxyrapwXcXe",
        "colab_type": "code",
        "colab": {
          "base_uri": "https://localhost:8080/",
          "height": 34
        },
        "outputId": "d1641df5-df38-4ae6-b509-1753ae753194"
      },
      "source": [
        "return_rmse(apple_1_5_y,apple_1_5_pred)"
      ],
      "execution_count": 331,
      "outputs": [
        {
          "output_type": "stream",
          "text": [
            "RMSE = 96.11267485946718.\n"
          ],
          "name": "stdout"
        }
      ]
    },
    {
      "cell_type": "markdown",
      "metadata": {
        "id": "8NyJSOZnVLCC",
        "colab_type": "text"
      },
      "source": [
        "predict using gru"
      ]
    },
    {
      "cell_type": "code",
      "metadata": {
        "id": "IpvIRRv_VQpz",
        "colab_type": "code",
        "colab": {
          "base_uri": "https://localhost:8080/",
          "height": 325
        },
        "outputId": "d17c482a-e29f-4fa5-ad8e-13c3c03c1cda"
      },
      "source": [
        "apple_1_5_pred= predic_using_gru(apple_1_5_x)\n",
        "plot_predictions(apple_1_5_y,apple_1_5_pred)"
      ],
      "execution_count": 332,
      "outputs": [
        {
          "output_type": "display_data",
          "data": {
            "image/png": "[encoded data removed]",
            "text/plain": [
              "<Figure size 432x288 with 1 Axes>"
            ]
          },
          "metadata": {
            "tags": []
          }
        }
      ]
    },
    {
      "cell_type": "code",
      "metadata": {
        "id": "FZpzRugrXlTb",
        "colab_type": "code",
        "colab": {
          "base_uri": "https://localhost:8080/",
          "height": 34
        },
        "outputId": "52aefd36-8366-446d-9ffd-4ce743183154"
      },
      "source": [
        "return_rmse(apple_1_5_y,apple_1_5_pred)"
      ],
      "execution_count": 333,
      "outputs": [
        {
          "output_type": "stream",
          "text": [
            "RMSE = 213.19108216055693.\n"
          ],
          "name": "stdout"
        }
      ]
    },
    {
      "cell_type": "markdown",
      "metadata": {
        "id": "5VwjEhx8Qj0L",
        "colab_type": "text"
      },
      "source": [
        "##Get the next ten months after 2018-1-1"
      ]
    },
    {
      "cell_type": "code",
      "metadata": {
        "id": "QicnbPl5SddL",
        "colab_type": "code",
        "colab": {
          "base_uri": "https://localhost:8080/",
          "height": 431
        },
        "outputId": "08493691-4678-42a6-e6bd-c4f8699948f1"
      },
      "source": [
        "apple_1_11=get_period_of_data(data_2,2018,1,1,2018,11,1)\n",
        "apple_1_11"
      ],
      "execution_count": 334,
      "outputs": [
        {
          "output_type": "execute_result",
          "data": {
            "text/html": [
              "<div>\n",
              "<style scoped>\n",
              "    .dataframe tbody tr th:only-of-type {\n",
              "        vertical-align: middle;\n",
              "    }\n",
              "\n",
              "    .dataframe tbody tr th {\n",
              "        vertical-align: top;\n",
              "    }\n",
              "\n",
              "    .dataframe thead th {\n",
              "        text-align: right;\n",
              "    }\n",
              "</style>\n",
              "<table border=\"1\" class=\"dataframe\">\n",
              "  <thead>\n",
              "    <tr style=\"text-align: right;\">\n",
              "      <th></th>\n",
              "      <th>Close/Last</th>\n",
              "      <th>Volume</th>\n",
              "      <th>Open</th>\n",
              "      <th>High</th>\n",
              "      <th>Low</th>\n",
              "    </tr>\n",
              "    <tr>\n",
              "      <th>Date</th>\n",
              "      <th></th>\n",
              "      <th></th>\n",
              "      <th></th>\n",
              "      <th></th>\n",
              "      <th></th>\n",
              "    </tr>\n",
              "  </thead>\n",
              "  <tbody>\n",
              "    <tr>\n",
              "      <th>2018-10-31</th>\n",
              "      <td>218.86</td>\n",
              "      <td>38016810.0</td>\n",
              "      <td>216.88</td>\n",
              "      <td>220.45</td>\n",
              "      <td>216.62</td>\n",
              "    </tr>\n",
              "    <tr>\n",
              "      <th>2018-10-30</th>\n",
              "      <td>213.30</td>\n",
              "      <td>36487930.0</td>\n",
              "      <td>211.15</td>\n",
              "      <td>215.18</td>\n",
              "      <td>209.27</td>\n",
              "    </tr>\n",
              "    <tr>\n",
              "      <th>2018-10-29</th>\n",
              "      <td>212.24</td>\n",
              "      <td>45713690.0</td>\n",
              "      <td>219.19</td>\n",
              "      <td>219.69</td>\n",
              "      <td>206.09</td>\n",
              "    </tr>\n",
              "    <tr>\n",
              "      <th>2018-10-26</th>\n",
              "      <td>216.30</td>\n",
              "      <td>47191700.0</td>\n",
              "      <td>215.90</td>\n",
              "      <td>220.19</td>\n",
              "      <td>212.67</td>\n",
              "    </tr>\n",
              "    <tr>\n",
              "      <th>2018-10-25</th>\n",
              "      <td>219.80</td>\n",
              "      <td>29027340.0</td>\n",
              "      <td>217.71</td>\n",
              "      <td>221.38</td>\n",
              "      <td>216.75</td>\n",
              "    </tr>\n",
              "    <tr>\n",
              "      <th>...</th>\n",
              "      <td>...</td>\n",
              "      <td>...</td>\n",
              "      <td>...</td>\n",
              "      <td>...</td>\n",
              "      <td>...</td>\n",
              "    </tr>\n",
              "    <tr>\n",
              "      <th>2018-01-08</th>\n",
              "      <td>174.35</td>\n",
              "      <td>20523870.0</td>\n",
              "      <td>174.35</td>\n",
              "      <td>175.61</td>\n",
              "      <td>173.93</td>\n",
              "    </tr>\n",
              "    <tr>\n",
              "      <th>2018-01-05</th>\n",
              "      <td>175.00</td>\n",
              "      <td>23589930.0</td>\n",
              "      <td>173.44</td>\n",
              "      <td>175.37</td>\n",
              "      <td>173.05</td>\n",
              "    </tr>\n",
              "    <tr>\n",
              "      <th>2018-01-04</th>\n",
              "      <td>173.03</td>\n",
              "      <td>22342650.0</td>\n",
              "      <td>172.54</td>\n",
              "      <td>173.47</td>\n",
              "      <td>172.08</td>\n",
              "    </tr>\n",
              "    <tr>\n",
              "      <th>2018-01-03</th>\n",
              "      <td>172.23</td>\n",
              "      <td>29461040.0</td>\n",
              "      <td>172.53</td>\n",
              "      <td>174.55</td>\n",
              "      <td>171.96</td>\n",
              "    </tr>\n",
              "    <tr>\n",
              "      <th>2018-01-02</th>\n",
              "      <td>172.26</td>\n",
              "      <td>25400540.0</td>\n",
              "      <td>170.16</td>\n",
              "      <td>172.30</td>\n",
              "      <td>169.26</td>\n",
              "    </tr>\n",
              "  </tbody>\n",
              "</table>\n",
              "<p>211 rows × 5 columns</p>\n",
              "</div>"
            ],
            "text/plain": [
              "             Close/Last      Volume    Open    High     Low\n",
              "Date                                                       \n",
              "2018-10-31       218.86  38016810.0  216.88  220.45  216.62\n",
              "2018-10-30       213.30  36487930.0  211.15  215.18  209.27\n",
              "2018-10-29       212.24  45713690.0  219.19  219.69  206.09\n",
              "2018-10-26       216.30  47191700.0  215.90  220.19  212.67\n",
              "2018-10-25       219.80  29027340.0  217.71  221.38  216.75\n",
              "...                 ...         ...     ...     ...     ...\n",
              "2018-01-08       174.35  20523870.0  174.35  175.61  173.93\n",
              "2018-01-05       175.00  23589930.0  173.44  175.37  173.05\n",
              "2018-01-04       173.03  22342650.0  172.54  173.47  172.08\n",
              "2018-01-03       172.23  29461040.0  172.53  174.55  171.96\n",
              "2018-01-02       172.26  25400540.0  170.16  172.30  169.26\n",
              "\n",
              "[211 rows x 5 columns]"
            ]
          },
          "metadata": {
            "tags": []
          },
          "execution_count": 334
        }
      ]
    },
    {
      "cell_type": "code",
      "metadata": {
        "id": "Ysa1owNBWK2P",
        "colab_type": "code",
        "colab": {
          "base_uri": "https://localhost:8080/",
          "height": 34
        },
        "outputId": "9c275f70-a4a4-4eea-8b97-7a835fb99997"
      },
      "source": [
        "apple_1_11_high = apple_1_11.iloc[:,3].values\n",
        "apple_1_11_high.shape"
      ],
      "execution_count": 335,
      "outputs": [
        {
          "output_type": "execute_result",
          "data": {
            "text/plain": [
              "(211,)"
            ]
          },
          "metadata": {
            "tags": []
          },
          "execution_count": 335
        }
      ]
    },
    {
      "cell_type": "code",
      "metadata": {
        "id": "fZWtg-cgV-GX",
        "colab_type": "code",
        "colab": {
          "base_uri": "https://localhost:8080/",
          "height": 34
        },
        "outputId": "9ff4e2f5-5d4c-41af-9706-ab333c88472c"
      },
      "source": [
        "apple_1_11_high = apple_1_11_high.reshape(-1,1)\n",
        "apple_1_11_high.shape"
      ],
      "execution_count": 336,
      "outputs": [
        {
          "output_type": "execute_result",
          "data": {
            "text/plain": [
              "(211, 1)"
            ]
          },
          "metadata": {
            "tags": []
          },
          "execution_count": 336
        }
      ]
    },
    {
      "cell_type": "code",
      "metadata": {
        "id": "qzOo2BDiVzfo",
        "colab_type": "code",
        "colab": {}
      },
      "source": [
        "apple_1_11_x,apple_1_11_y = preprossing_data_rnns(np.array(apple_1_11_high))"
      ],
      "execution_count": 0,
      "outputs": []
    },
    {
      "cell_type": "markdown",
      "metadata": {
        "id": "hAhlsusaWfy_",
        "colab_type": "text"
      },
      "source": [
        "predict using LSTM"
      ]
    },
    {
      "cell_type": "code",
      "metadata": {
        "id": "gmSHOSpkWe5x",
        "colab_type": "code",
        "colab": {
          "base_uri": "https://localhost:8080/",
          "height": 325
        },
        "outputId": "4c5f3c81-c1df-42a9-cc70-774d72831b43"
      },
      "source": [
        "apple_1_11_pred= predic_using_LSTM(apple_1_11_x)\n",
        "plot_predictions(apple_1_11_y,apple_1_11_pred)"
      ],
      "execution_count": 338,
      "outputs": [
        {
          "output_type": "display_data",
          "data": {
            "image/png": "[encoded data removed]",
            "text/plain": [
              "<Figure size 432x288 with 1 Axes>"
            ]
          },
          "metadata": {
            "tags": []
          }
        }
      ]
    },
    {
      "cell_type": "code",
      "metadata": {
        "id": "ps2IGXEZXnfW",
        "colab_type": "code",
        "colab": {
          "base_uri": "https://localhost:8080/",
          "height": 34
        },
        "outputId": "a527cb03-24b1-4493-9a9f-09d3dea510fc"
      },
      "source": [
        "return_rmse(apple_1_11_y,apple_1_11_pred)"
      ],
      "execution_count": 339,
      "outputs": [
        {
          "output_type": "stream",
          "text": [
            "RMSE = 114.1922822698064.\n"
          ],
          "name": "stdout"
        }
      ]
    },
    {
      "cell_type": "markdown",
      "metadata": {
        "id": "TM8337QFWu8r",
        "colab_type": "text"
      },
      "source": [
        "predict using GRU"
      ]
    },
    {
      "cell_type": "code",
      "metadata": {
        "id": "EaoDpCmNWt5K",
        "colab_type": "code",
        "colab": {
          "base_uri": "https://localhost:8080/",
          "height": 325
        },
        "outputId": "b2bfe16b-3b35-4c11-b880-fda193a51f8a"
      },
      "source": [
        "apple_1_11_pred= predic_using_gru(apple_1_11_x)\n",
        "plot_predictions(apple_1_11_y,apple_1_11_pred)"
      ],
      "execution_count": 340,
      "outputs": [
        {
          "output_type": "display_data",
          "data": {
            "image/png": "[encoded data removed]",
            "text/plain": [
              "<Figure size 432x288 with 1 Axes>"
            ]
          },
          "metadata": {
            "tags": []
          }
        }
      ]
    },
    {
      "cell_type": "code",
      "metadata": {
        "id": "QjE8xzkRW9Ay",
        "colab_type": "code",
        "colab": {
          "base_uri": "https://localhost:8080/",
          "height": 34
        },
        "outputId": "ea1d51a6-6c15-490e-b170-ae84216ddad7"
      },
      "source": [
        "return_rmse(apple_1_11_y,apple_1_11_pred)"
      ],
      "execution_count": 341,
      "outputs": [
        {
          "output_type": "stream",
          "text": [
            "RMSE = 196.8758861414582.\n"
          ],
          "name": "stdout"
        }
      ]
    },
    {
      "cell_type": "markdown",
      "metadata": {
        "id": "F5kFDB6SLRNx",
        "colab_type": "text"
      },
      "source": [
        "#Refrences"
      ]
    },
    {
      "cell_type": "markdown",
      "metadata": {
        "id": "9z7J4BfILVFO",
        "colab_type": "text"
      },
      "source": [
        "- https://www.kaggle.com/dpamgautam/stock-price-prediction-lstm-gru-rnn/notebook\n",
        "\n",
        "- http://queirozf.com/entries/pandas-dataframe-examples-manipulating-date-and-time\n",
        "\n",
        "- https://www.nasdaq.com/market-activity/stocks/aapl/historical\n",
        "\n",
        "\n"
      ]
    }
  ]
}