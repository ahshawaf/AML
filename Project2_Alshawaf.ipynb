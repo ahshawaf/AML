{
  "nbformat": 4,
  "nbformat_minor": 0,
  "metadata": {
    "colab": {
      "name": "Project2_Alshawaf.ipynb",
      "provenance": [],
      "collapsed_sections": [],
      "toc_visible": true,
      "authorship_tag": "ABX9TyMUmUam4Iv80HpywSVP+Ed7",
      "include_colab_link": true
    },
    "kernelspec": {
      "name": "python3",
      "display_name": "Python 3"
    }
  },
  "cells": [
    {
      "cell_type": "markdown",
      "metadata": {
        "id": "view-in-github",
        "colab_type": "text"
      },
      "source": [
        "<a href=\"https://colab.research.google.com/github/ahshawaf/AML/blob/project2/Project2_Alshawaf.ipynb\" target=\"_parent\"><img src=\"https://colab.research.google.com/assets/colab-badge.svg\" alt=\"Open In Colab\"/></a>"
      ]
    },
    {
      "cell_type": "markdown",
      "metadata": {
        "id": "GnMOYEk3YAOh",
        "colab_type": "text"
      },
      "source": [
        "In this project, we are dealing with MNIST dataset for hand written digit recogniser. we are going to apply Random Forest classifier algorithm for machine learning. Then, reduce the dimensiolity of the dataset by reducing number of features using PCA(Principal component analysis) and t-SNE(t-Distributed Stochastic Neighbor Embedding). After that, re-run the Random Forest Classifier again on the reduced dataset by PCA and t-SNE."
      ]
    },
    {
      "cell_type": "markdown",
      "metadata": {
        "id": "JCthjPQ9wtLY",
        "colab_type": "text"
      },
      "source": [
        "#Load MNIST Data\n",
        "\n",
        "load the minst data from the keras lib using mnist.load_data(). This method returns splited sets to 60,000 records for training set and 10,000 records for testting set."
      ]
    },
    {
      "cell_type": "code",
      "metadata": {
        "id": "V5w8jwEqwiCW",
        "colab_type": "code",
        "colab": {
          "base_uri": "https://localhost:8080/",
          "height": 81
        },
        "outputId": "d0a9acd2-3ab0-4e0b-8e51-10a730d02b7b"
      },
      "source": [
        "from keras.datasets import mnist\n",
        "\n",
        "(x_train,y_train), (x_test,y_test) = mnist.load_data()"
      ],
      "execution_count": 3,
      "outputs": [
        {
          "output_type": "stream",
          "text": [
            "Using TensorFlow backend.\n"
          ],
          "name": "stderr"
        },
        {
          "output_type": "display_data",
          "data": {
            "text/html": [
              "<p style=\"color: red;\">\n",
              "The default version of TensorFlow in Colab will soon switch to TensorFlow 2.x.<br>\n",
              "We recommend you <a href=\"https://www.tensorflow.org/guide/migrate\" target=\"_blank\">upgrade</a> now \n",
              "or ensure your notebook will continue to use TensorFlow 1.x via the <code>%tensorflow_version 1.x</code> magic:\n",
              "<a href=\"https://colab.research.google.com/notebooks/tensorflow_version.ipynb\" target=\"_blank\">more info</a>.</p>\n"
            ],
            "text/plain": [
              "<IPython.core.display.HTML object>"
            ]
          },
          "metadata": {
            "tags": []
          }
        }
      ]
    },
    {
      "cell_type": "markdown",
      "metadata": {
        "id": "BmMBlCVHzaf1",
        "colab_type": "text"
      },
      "source": [
        "#Explore the MNIST Data\n",
        "\n",
        "see how many records in the training and testting set"
      ]
    },
    {
      "cell_type": "code",
      "metadata": {
        "id": "yU6np5ZhzueK",
        "colab_type": "code",
        "outputId": "417c885d-682d-41fc-fa36-156aade63de8",
        "colab": {
          "base_uri": "https://localhost:8080/",
          "height": 34
        }
      },
      "source": [
        "print(\"Training set size {}\".format(x_train.shape))"
      ],
      "execution_count": 4,
      "outputs": [
        {
          "output_type": "stream",
          "text": [
            "Training set size (60000, 28, 28)\n"
          ],
          "name": "stdout"
        }
      ]
    },
    {
      "cell_type": "markdown",
      "metadata": {
        "id": "i5zVfR5fBynN",
        "colab_type": "text"
      },
      "source": [
        "the training set is 60,000 rows and 784 columns(features)"
      ]
    },
    {
      "cell_type": "code",
      "metadata": {
        "id": "e8d5ecOB2GD9",
        "colab_type": "code",
        "outputId": "2ae951c0-7a52-4845-a99b-6bb28eca96f2",
        "colab": {
          "base_uri": "https://localhost:8080/",
          "height": 34
        }
      },
      "source": [
        "print(\"Testing set size {}\".format(x_test.shape))"
      ],
      "execution_count": 5,
      "outputs": [
        {
          "output_type": "stream",
          "text": [
            "Testing set size (10000, 28, 28)\n"
          ],
          "name": "stdout"
        }
      ]
    },
    {
      "cell_type": "markdown",
      "metadata": {
        "id": "_BosdPEoB9NO",
        "colab_type": "text"
      },
      "source": [
        "the testting set is 10,000 rows and each row is 28x28 "
      ]
    },
    {
      "cell_type": "code",
      "metadata": {
        "id": "zcDxZohewF6v",
        "colab_type": "code",
        "outputId": "5d610300-8ed8-406a-f900-033767a5d12e",
        "colab": {
          "base_uri": "https://localhost:8080/",
          "height": 1000
        }
      },
      "source": [
        "x_train[0]"
      ],
      "execution_count": 6,
      "outputs": [
        {
          "output_type": "execute_result",
          "data": {
            "text/plain": [
              "array([[  0,   0,   0,   0,   0,   0,   0,   0,   0,   0,   0,   0,   0,\n",
              "          0,   0,   0,   0,   0,   0,   0,   0,   0,   0,   0,   0,   0,\n",
              "          0,   0],\n",
              "       [  0,   0,   0,   0,   0,   0,   0,   0,   0,   0,   0,   0,   0,\n",
              "          0,   0,   0,   0,   0,   0,   0,   0,   0,   0,   0,   0,   0,\n",
              "          0,   0],\n",
              "       [  0,   0,   0,   0,   0,   0,   0,   0,   0,   0,   0,   0,   0,\n",
              "          0,   0,   0,   0,   0,   0,   0,   0,   0,   0,   0,   0,   0,\n",
              "          0,   0],\n",
              "       [  0,   0,   0,   0,   0,   0,   0,   0,   0,   0,   0,   0,   0,\n",
              "          0,   0,   0,   0,   0,   0,   0,   0,   0,   0,   0,   0,   0,\n",
              "          0,   0],\n",
              "       [  0,   0,   0,   0,   0,   0,   0,   0,   0,   0,   0,   0,   0,\n",
              "          0,   0,   0,   0,   0,   0,   0,   0,   0,   0,   0,   0,   0,\n",
              "          0,   0],\n",
              "       [  0,   0,   0,   0,   0,   0,   0,   0,   0,   0,   0,   0,   3,\n",
              "         18,  18,  18, 126, 136, 175,  26, 166, 255, 247, 127,   0,   0,\n",
              "          0,   0],\n",
              "       [  0,   0,   0,   0,   0,   0,   0,   0,  30,  36,  94, 154, 170,\n",
              "        253, 253, 253, 253, 253, 225, 172, 253, 242, 195,  64,   0,   0,\n",
              "          0,   0],\n",
              "       [  0,   0,   0,   0,   0,   0,   0,  49, 238, 253, 253, 253, 253,\n",
              "        253, 253, 253, 253, 251,  93,  82,  82,  56,  39,   0,   0,   0,\n",
              "          0,   0],\n",
              "       [  0,   0,   0,   0,   0,   0,   0,  18, 219, 253, 253, 253, 253,\n",
              "        253, 198, 182, 247, 241,   0,   0,   0,   0,   0,   0,   0,   0,\n",
              "          0,   0],\n",
              "       [  0,   0,   0,   0,   0,   0,   0,   0,  80, 156, 107, 253, 253,\n",
              "        205,  11,   0,  43, 154,   0,   0,   0,   0,   0,   0,   0,   0,\n",
              "          0,   0],\n",
              "       [  0,   0,   0,   0,   0,   0,   0,   0,   0,  14,   1, 154, 253,\n",
              "         90,   0,   0,   0,   0,   0,   0,   0,   0,   0,   0,   0,   0,\n",
              "          0,   0],\n",
              "       [  0,   0,   0,   0,   0,   0,   0,   0,   0,   0,   0, 139, 253,\n",
              "        190,   2,   0,   0,   0,   0,   0,   0,   0,   0,   0,   0,   0,\n",
              "          0,   0],\n",
              "       [  0,   0,   0,   0,   0,   0,   0,   0,   0,   0,   0,  11, 190,\n",
              "        253,  70,   0,   0,   0,   0,   0,   0,   0,   0,   0,   0,   0,\n",
              "          0,   0],\n",
              "       [  0,   0,   0,   0,   0,   0,   0,   0,   0,   0,   0,   0,  35,\n",
              "        241, 225, 160, 108,   1,   0,   0,   0,   0,   0,   0,   0,   0,\n",
              "          0,   0],\n",
              "       [  0,   0,   0,   0,   0,   0,   0,   0,   0,   0,   0,   0,   0,\n",
              "         81, 240, 253, 253, 119,  25,   0,   0,   0,   0,   0,   0,   0,\n",
              "          0,   0],\n",
              "       [  0,   0,   0,   0,   0,   0,   0,   0,   0,   0,   0,   0,   0,\n",
              "          0,  45, 186, 253, 253, 150,  27,   0,   0,   0,   0,   0,   0,\n",
              "          0,   0],\n",
              "       [  0,   0,   0,   0,   0,   0,   0,   0,   0,   0,   0,   0,   0,\n",
              "          0,   0,  16,  93, 252, 253, 187,   0,   0,   0,   0,   0,   0,\n",
              "          0,   0],\n",
              "       [  0,   0,   0,   0,   0,   0,   0,   0,   0,   0,   0,   0,   0,\n",
              "          0,   0,   0,   0, 249, 253, 249,  64,   0,   0,   0,   0,   0,\n",
              "          0,   0],\n",
              "       [  0,   0,   0,   0,   0,   0,   0,   0,   0,   0,   0,   0,   0,\n",
              "          0,  46, 130, 183, 253, 253, 207,   2,   0,   0,   0,   0,   0,\n",
              "          0,   0],\n",
              "       [  0,   0,   0,   0,   0,   0,   0,   0,   0,   0,   0,   0,  39,\n",
              "        148, 229, 253, 253, 253, 250, 182,   0,   0,   0,   0,   0,   0,\n",
              "          0,   0],\n",
              "       [  0,   0,   0,   0,   0,   0,   0,   0,   0,   0,  24, 114, 221,\n",
              "        253, 253, 253, 253, 201,  78,   0,   0,   0,   0,   0,   0,   0,\n",
              "          0,   0],\n",
              "       [  0,   0,   0,   0,   0,   0,   0,   0,  23,  66, 213, 253, 253,\n",
              "        253, 253, 198,  81,   2,   0,   0,   0,   0,   0,   0,   0,   0,\n",
              "          0,   0],\n",
              "       [  0,   0,   0,   0,   0,   0,  18, 171, 219, 253, 253, 253, 253,\n",
              "        195,  80,   9,   0,   0,   0,   0,   0,   0,   0,   0,   0,   0,\n",
              "          0,   0],\n",
              "       [  0,   0,   0,   0,  55, 172, 226, 253, 253, 253, 253, 244, 133,\n",
              "         11,   0,   0,   0,   0,   0,   0,   0,   0,   0,   0,   0,   0,\n",
              "          0,   0],\n",
              "       [  0,   0,   0,   0, 136, 253, 253, 253, 212, 135, 132,  16,   0,\n",
              "          0,   0,   0,   0,   0,   0,   0,   0,   0,   0,   0,   0,   0,\n",
              "          0,   0],\n",
              "       [  0,   0,   0,   0,   0,   0,   0,   0,   0,   0,   0,   0,   0,\n",
              "          0,   0,   0,   0,   0,   0,   0,   0,   0,   0,   0,   0,   0,\n",
              "          0,   0],\n",
              "       [  0,   0,   0,   0,   0,   0,   0,   0,   0,   0,   0,   0,   0,\n",
              "          0,   0,   0,   0,   0,   0,   0,   0,   0,   0,   0,   0,   0,\n",
              "          0,   0],\n",
              "       [  0,   0,   0,   0,   0,   0,   0,   0,   0,   0,   0,   0,   0,\n",
              "          0,   0,   0,   0,   0,   0,   0,   0,   0,   0,   0,   0,   0,\n",
              "          0,   0]], dtype=uint8)"
            ]
          },
          "metadata": {
            "tags": []
          },
          "execution_count": 6
        }
      ]
    },
    {
      "cell_type": "markdown",
      "metadata": {
        "id": "junHUgRD28fF",
        "colab_type": "text"
      },
      "source": [
        "try to show some images of the data and their coresponding label"
      ]
    },
    {
      "cell_type": "code",
      "metadata": {
        "id": "u4Il7swH2KVe",
        "colab_type": "code",
        "outputId": "ca2845b0-1c4a-4806-94df-c401876c30b9",
        "colab": {
          "base_uri": "https://localhost:8080/",
          "height": 376
        }
      },
      "source": [
        "%matplotlib inline\n",
        "import matplotlib.pyplot as plt\n",
        "\n",
        "plt.figure(figsize=(6,6))\n",
        "\n",
        "#display some images\n",
        "for i in range(9):\n",
        "  plt.subplot(3,3,i+1)\n",
        "  plt.imshow(x_train[i],cmap=plt.get_cmap('gray'))"
      ],
      "execution_count": 7,
      "outputs": [
        {
          "output_type": "display_data",
          "data": {
            "image/png": "[encoded data removed]",
            "text/plain": [
              "<Figure size 432x432 with 9 Axes>"
            ]
          },
          "metadata": {
            "tags": []
          }
        }
      ]
    },
    {
      "cell_type": "code",
      "metadata": {
        "id": "dLv9pRJc9dEg",
        "colab_type": "code",
        "outputId": "5acdd75e-4834-4d63-bac5-4300ab801fc0",
        "colab": {
          "base_uri": "https://localhost:8080/",
          "height": 122
        }
      },
      "source": [
        "#display the coresponding label\n",
        "for i in range(9):\n",
        "  print(y_train[i],end=\" \")\n",
        "  if (i+1)%3 ==0:\n",
        "    print(\"\\n\")"
      ],
      "execution_count": 8,
      "outputs": [
        {
          "output_type": "stream",
          "text": [
            "5 0 4 \n",
            "\n",
            "1 9 2 \n",
            "\n",
            "1 3 1 \n",
            "\n"
          ],
          "name": "stdout"
        }
      ]
    },
    {
      "cell_type": "markdown",
      "metadata": {
        "id": "VC0XoTsQAcwH",
        "colab_type": "text"
      },
      "source": [
        "#Normalize the data"
      ]
    },
    {
      "cell_type": "markdown",
      "metadata": {
        "id": "XP4tFsb7CjfZ",
        "colab_type": "text"
      },
      "source": [
        "Here we need to flatten the training set and testing set from 28x28 to 1*784\n"
      ]
    },
    {
      "cell_type": "code",
      "metadata": {
        "id": "MoihrUPcAXq9",
        "colab_type": "code",
        "outputId": "ff58245a-110c-4a8f-afd1-47535fdd2ac8",
        "colab": {
          "base_uri": "https://localhost:8080/",
          "height": 34
        }
      },
      "source": [
        "image_size = 28 * 28\n",
        "x_train = x_train.reshape(x_train.shape[0], image_size)\n",
        "#copy the set to be used latter\n",
        "x_train_coopy = x_train\n",
        "x_train.shape"
      ],
      "execution_count": 9,
      "outputs": [
        {
          "output_type": "execute_result",
          "data": {
            "text/plain": [
              "(60000, 784)"
            ]
          },
          "metadata": {
            "tags": []
          },
          "execution_count": 9
        }
      ]
    },
    {
      "cell_type": "code",
      "metadata": {
        "id": "Mj1sw2w8EOk4",
        "colab_type": "code",
        "outputId": "021d58da-4a14-4399-bd77-76194280372e",
        "colab": {
          "base_uri": "https://localhost:8080/",
          "height": 34
        }
      },
      "source": [
        "x_test = x_test.reshape(x_test.shape[0],image_size)\n",
        "#copy the set to be used latter\n",
        "x_test_copy = x_test\n",
        "x_test.shape"
      ],
      "execution_count": 10,
      "outputs": [
        {
          "output_type": "execute_result",
          "data": {
            "text/plain": [
              "(10000, 784)"
            ]
          },
          "metadata": {
            "tags": []
          },
          "execution_count": 10
        }
      ]
    },
    {
      "cell_type": "markdown",
      "metadata": {
        "id": "1lYJG00fKkn1",
        "colab_type": "text"
      },
      "source": [
        "show the label before the encoding for first item in the test set"
      ]
    },
    {
      "cell_type": "code",
      "metadata": {
        "id": "2qZoUyvdExbO",
        "colab_type": "code",
        "outputId": "97e55e14-7962-4748-8e61-9f2d5dc85962",
        "colab": {
          "base_uri": "https://localhost:8080/",
          "height": 34
        }
      },
      "source": [
        "y_train[0]"
      ],
      "execution_count": 11,
      "outputs": [
        {
          "output_type": "execute_result",
          "data": {
            "text/plain": [
              "5"
            ]
          },
          "metadata": {
            "tags": []
          },
          "execution_count": 11
        }
      ]
    },
    {
      "cell_type": "markdown",
      "metadata": {
        "id": "2zmHNP1EKn0a",
        "colab_type": "text"
      },
      "source": [
        "encoding label (Categorize labels) to 10 classes, which is the number of digits"
      ]
    },
    {
      "cell_type": "code",
      "metadata": {
        "id": "dTMZHfTcE3Cl",
        "colab_type": "code",
        "outputId": "a4cf1cd3-2244-40e2-8189-9b567dbb068d",
        "colab": {
          "base_uri": "https://localhost:8080/",
          "height": 34
        }
      },
      "source": [
        "import keras\n",
        "\n",
        "num_classes = 10 \n",
        "y_train = keras.utils.to_categorical(y_train, num_classes)\n",
        "y_train[0]"
      ],
      "execution_count": 12,
      "outputs": [
        {
          "output_type": "execute_result",
          "data": {
            "text/plain": [
              "array([0., 0., 0., 0., 0., 1., 0., 0., 0., 0.], dtype=float32)"
            ]
          },
          "metadata": {
            "tags": []
          },
          "execution_count": 12
        }
      ]
    },
    {
      "cell_type": "markdown",
      "metadata": {
        "id": "SHuU86m_YokP",
        "colab_type": "text"
      },
      "source": [
        "show the label before the encoding for first item in the test set"
      ]
    },
    {
      "cell_type": "code",
      "metadata": {
        "id": "MiMMHquDY06r",
        "colab_type": "code",
        "outputId": "ae6504f8-1000-415f-b710-bdac0fbad1de",
        "colab": {
          "base_uri": "https://localhost:8080/",
          "height": 34
        }
      },
      "source": [
        "y_test[0]"
      ],
      "execution_count": 13,
      "outputs": [
        {
          "output_type": "execute_result",
          "data": {
            "text/plain": [
              "7"
            ]
          },
          "metadata": {
            "tags": []
          },
          "execution_count": 13
        }
      ]
    },
    {
      "cell_type": "code",
      "metadata": {
        "id": "B_P6RjBLKxJq",
        "colab_type": "code",
        "outputId": "1a1a85a8-7f1e-4743-8f35-fed456cf849e",
        "colab": {
          "base_uri": "https://localhost:8080/",
          "height": 34
        }
      },
      "source": [
        "#Copy the testing labels set\n",
        "y_test_copy = y_test\n",
        "y_test = keras.utils.to_categorical(y_test,num_classes)\n",
        "y_test[0]"
      ],
      "execution_count": 14,
      "outputs": [
        {
          "output_type": "execute_result",
          "data": {
            "text/plain": [
              "array([0., 0., 0., 0., 0., 0., 0., 1., 0., 0.], dtype=float32)"
            ]
          },
          "metadata": {
            "tags": []
          },
          "execution_count": 14
        }
      ]
    },
    {
      "cell_type": "markdown",
      "metadata": {
        "id": "8YKWvjF2-Ka6",
        "colab_type": "text"
      },
      "source": [
        "#Modeling Random Forest classifier "
      ]
    },
    {
      "cell_type": "markdown",
      "metadata": {
        "id": "Dz8mlDjLZ1JZ",
        "colab_type": "text"
      },
      "source": [
        "build the model"
      ]
    },
    {
      "cell_type": "code",
      "metadata": {
        "id": "n7X69UGf-KFj",
        "colab_type": "code",
        "outputId": "a0b0d563-4008-4fb6-e0b5-00bb1e42f437",
        "colab": {
          "base_uri": "https://localhost:8080/",
          "height": 34
        }
      },
      "source": [
        "#load random forset classifier\n",
        "import time\n",
        "from sklearn.ensemble import RandomForestClassifier\n",
        "\n",
        "clf = RandomForestClassifier(n_jobs=3,random_state=85)\n",
        "#To measure time \n",
        "t1 = time.time()\n",
        "clf_model=clf.fit(x_train,y_train)\n",
        "t2 = time.time()\n",
        "\n",
        "time_before_pca = t2-t1\n",
        "print(\"Time for Random Forest Classifier before applying PCA {:.1f} seconds\".format(time_before_pca))"
      ],
      "execution_count": 15,
      "outputs": [
        {
          "output_type": "stream",
          "text": [
            "Time for Random Forest Classifier before applying PCA 57.1 seconds\n"
          ],
          "name": "stdout"
        }
      ]
    },
    {
      "cell_type": "markdown",
      "metadata": {
        "id": "ZSmqfCFZZwT5",
        "colab_type": "text"
      },
      "source": [
        "Test the model using the testing set"
      ]
    },
    {
      "cell_type": "code",
      "metadata": {
        "id": "8xKvxhslTLTU",
        "colab_type": "code",
        "outputId": "c5c1ea65-733e-41db-c96d-fe0498787828",
        "colab": {
          "base_uri": "https://localhost:8080/",
          "height": 105
        }
      },
      "source": [
        "prd=clf_model.predict(x_test)\n",
        "prd[:5]#print the top 5 predictions result"
      ],
      "execution_count": 16,
      "outputs": [
        {
          "output_type": "execute_result",
          "data": {
            "text/plain": [
              "array([[0., 0., 0., 0., 0., 0., 0., 1., 0., 0.],\n",
              "       [0., 0., 1., 0., 0., 0., 0., 0., 0., 0.],\n",
              "       [0., 1., 0., 0., 0., 0., 0., 0., 0., 0.],\n",
              "       [1., 0., 0., 0., 0., 0., 0., 0., 0., 0.],\n",
              "       [0., 0., 0., 0., 1., 0., 0., 0., 0., 0.]], dtype=float32)"
            ]
          },
          "metadata": {
            "tags": []
          },
          "execution_count": 16
        }
      ]
    },
    {
      "cell_type": "markdown",
      "metadata": {
        "id": "SS4xuCT0UJbA",
        "colab_type": "text"
      },
      "source": [
        "Random Forest Classifier Accuracy"
      ]
    },
    {
      "cell_type": "code",
      "metadata": {
        "id": "Mh5zvegoNWcW",
        "colab_type": "code",
        "outputId": "408576fa-1130-4fa6-a326-174dea2ad40d",
        "colab": {
          "base_uri": "https://localhost:8080/",
          "height": 34
        }
      },
      "source": [
        "clf_model.score(x_test,y_test)"
      ],
      "execution_count": 17,
      "outputs": [
        {
          "output_type": "execute_result",
          "data": {
            "text/plain": [
              "0.9058"
            ]
          },
          "metadata": {
            "tags": []
          },
          "execution_count": 17
        }
      ]
    },
    {
      "cell_type": "markdown",
      "metadata": {
        "id": "pjxXXBUbeSH4",
        "colab_type": "text"
      },
      "source": [
        "Print the top 10 Predicted result and the corresponding actual value"
      ]
    },
    {
      "cell_type": "code",
      "metadata": {
        "id": "HCWQZQpLcWSy",
        "colab_type": "code",
        "outputId": "39189145-c563-4c6d-879c-e4b1f67668d9",
        "colab": {
          "base_uri": "https://localhost:8080/",
          "height": 193
        }
      },
      "source": [
        "import numpy as np\n",
        "\n",
        "for i in range(10):\n",
        "  print(\"Predicted: {} ; Actual {}\".format(np.argmax(prd[i]),y_test_copy[i]))"
      ],
      "execution_count": 18,
      "outputs": [
        {
          "output_type": "stream",
          "text": [
            "Predicted: 7 ; Actual 7\n",
            "Predicted: 2 ; Actual 2\n",
            "Predicted: 1 ; Actual 1\n",
            "Predicted: 0 ; Actual 0\n",
            "Predicted: 4 ; Actual 4\n",
            "Predicted: 1 ; Actual 1\n",
            "Predicted: 4 ; Actual 4\n",
            "Predicted: 9 ; Actual 9\n",
            "Predicted: 0 ; Actual 5\n",
            "Predicted: 9 ; Actual 9\n"
          ],
          "name": "stdout"
        }
      ]
    },
    {
      "cell_type": "code",
      "metadata": {
        "id": "9afOuPv0q64b",
        "colab_type": "code",
        "colab": {}
      },
      "source": [
        "digits = range(9)"
      ],
      "execution_count": 0,
      "outputs": []
    },
    {
      "cell_type": "markdown",
      "metadata": {
        "id": "mRvQMZEdmSvL",
        "colab_type": "text"
      },
      "source": [
        "#PCA using Scikit-Learn\n",
        "\n",
        "we will use the Scikit_learn lib to apply PCA(Principal component analysis) for reducing the dimensiolity of MNIST data set."
      ]
    },
    {
      "cell_type": "code",
      "metadata": {
        "id": "zXj-ZBglzJZx",
        "colab_type": "code",
        "colab": {}
      },
      "source": [
        "#load the original data\n",
        "pca_x_train = x_train_coopy\n",
        "pca_x_test = x_test_copy"
      ],
      "execution_count": 0,
      "outputs": []
    },
    {
      "cell_type": "code",
      "metadata": {
        "id": "blFVyCPpRGX5",
        "colab_type": "code",
        "outputId": "fc7a89b2-8673-411c-c3d5-1de9186f3530",
        "colab": {
          "base_uri": "https://localhost:8080/",
          "height": 34
        }
      },
      "source": [
        "pca_x_train.shape"
      ],
      "execution_count": 21,
      "outputs": [
        {
          "output_type": "execute_result",
          "data": {
            "text/plain": [
              "(60000, 784)"
            ]
          },
          "metadata": {
            "tags": []
          },
          "execution_count": 21
        }
      ]
    },
    {
      "cell_type": "code",
      "metadata": {
        "id": "F5jAB4FHRIQD",
        "colab_type": "code",
        "outputId": "476b79cd-15bc-4846-b6ad-c77129111a9e",
        "colab": {
          "base_uri": "https://localhost:8080/",
          "height": 34
        }
      },
      "source": [
        "pca_x_test.shape"
      ],
      "execution_count": 22,
      "outputs": [
        {
          "output_type": "execute_result",
          "data": {
            "text/plain": [
              "(10000, 784)"
            ]
          },
          "metadata": {
            "tags": []
          },
          "execution_count": 22
        }
      ]
    },
    {
      "cell_type": "code",
      "metadata": {
        "id": "q6wa5Tdunw-r",
        "colab_type": "code",
        "colab": {}
      },
      "source": [
        "from sklearn.decomposition import PCA\n",
        "#reduce the mnist from 784 dimension to dimension that produce 95% varience ration\n",
        "pca = PCA(n_components=0.95)\n",
        "#apply the model and apply the reduction on x_train\n",
        "xd_train = pca.fit_transform(pca_x_train)\n",
        "#return the reduced dimensionality set to original dimension 784\n",
        "xd_invers = pca.inverse_transform(xd_train)"
      ],
      "execution_count": 0,
      "outputs": []
    },
    {
      "cell_type": "code",
      "metadata": {
        "id": "TgZr9IXaxHQT",
        "colab_type": "code",
        "outputId": "159a9d4a-60d9-4efe-d891-d019fbb68805",
        "colab": {
          "base_uri": "https://localhost:8080/",
          "height": 703
        }
      },
      "source": [
        "xd_train[0]"
      ],
      "execution_count": 24,
      "outputs": [
        {
          "output_type": "execute_result",
          "data": {
            "text/plain": [
              "array([ 1.23932589e+02, -3.12674262e+02, -2.45140518e+01, -5.55757958e+02,\n",
              "       -2.72966682e+01, -2.32476284e+02,  2.33995733e+02,  1.59799494e+02,\n",
              "       -3.63515021e+02,  1.98428077e+02,  1.97497025e+02, -2.54055913e+02,\n",
              "       -1.13496409e+02,  7.49302451e+02,  2.19259554e+02, -4.69324059e+00,\n",
              "        3.30151992e+02,  3.09153886e+02,  2.77593870e+02,  1.66332371e+02,\n",
              "        2.75418570e+01, -6.43533073e+01, -2.17178328e+02,  2.50244425e+02,\n",
              "        4.61660680e+01,  1.00339444e+02, -3.08006769e+02,  1.70105133e+02,\n",
              "       -1.25514290e+02, -1.23399691e+02, -9.79579471e+01,  3.45751912e+01,\n",
              "        1.07484335e+02,  8.45984679e+01, -1.52403071e+02,  2.00802897e+02,\n",
              "        6.52408003e+01,  2.00219128e+02,  1.57660546e+02, -3.59742861e+02,\n",
              "        1.85587109e+02,  1.54450111e+02, -4.02426309e+01, -8.49658546e+01,\n",
              "       -1.23869979e+02,  7.08801921e+00,  1.27540799e+02, -7.64373489e+01,\n",
              "        3.41432681e+01,  1.99862112e+01,  1.30241511e+02, -1.09555383e+02,\n",
              "       -1.18375522e+02,  8.76011990e+01,  3.10258115e+00, -1.64086967e+02,\n",
              "       -1.17481143e+02, -6.07755625e+01, -1.49795263e+02,  1.25816752e+02,\n",
              "        6.68625506e+01, -5.28013516e+00, -8.13527982e+01,  8.36731502e+01,\n",
              "        1.79833912e+02,  1.20937699e+02,  1.90967038e+02,  2.51636960e+01,\n",
              "        5.86805276e+01,  1.50235656e+01,  9.18127648e+01, -1.53930758e+02,\n",
              "       -5.57286104e+01, -8.83764465e+00, -1.06219478e+02,  7.40929302e+01,\n",
              "        6.30691186e+01, -4.40199371e+01, -3.72506916e+01, -4.20181435e+01,\n",
              "        9.19753385e+01,  3.92319612e+01, -2.74843461e+01,  4.56657596e+01,\n",
              "       -2.77395847e+01,  3.05691552e+00, -1.47811307e+02, -4.64099041e+01,\n",
              "       -3.31225629e+01, -2.90680676e+01,  1.90030903e+01, -3.23357970e+01,\n",
              "        4.77903487e+01, -8.06529231e+01,  1.35152968e+01,  5.67442205e+01,\n",
              "        5.03336470e+01, -2.19182339e+01,  3.65129830e+01, -1.27424228e+02,\n",
              "        1.31478552e+02,  3.73691053e+01, -1.62248479e+01, -8.52395991e+01,\n",
              "       -2.83422030e+01,  2.10444389e+01, -7.99479329e+01, -6.43540622e+01,\n",
              "       -6.75638543e+00, -6.45165501e+01,  1.13267050e+02, -3.19500851e+01,\n",
              "        2.60855766e+01,  4.55985846e+01,  6.82943062e+00, -8.04918735e+01,\n",
              "        3.45081287e+01, -6.06773493e+01,  6.74797404e+01, -5.52368126e+01,\n",
              "       -7.14486067e+01, -4.16360932e+01,  5.67705161e+01,  5.58269093e+01,\n",
              "       -3.31077685e+01,  4.22371911e+01, -6.48272914e+01,  8.85898916e-01,\n",
              "        8.39547579e+01, -6.91279831e+01, -1.30858485e+02, -5.13654995e+01,\n",
              "        3.73750865e+01,  6.23293023e+00, -1.01697100e+01,  2.40088588e+01,\n",
              "        7.65751337e+01, -2.15849873e+00,  3.13290358e+00,  2.40598900e+01,\n",
              "        1.16847590e+02,  2.42075505e+01,  1.75734641e+01, -4.25901146e+01,\n",
              "       -2.08519782e+00, -5.32308604e+01, -3.18336597e+01,  7.26879309e-01,\n",
              "        1.65083295e+01, -2.58154216e+01, -2.83782146e+01,  5.50189979e+01,\n",
              "       -2.00832743e+01,  3.95899523e+01])"
            ]
          },
          "metadata": {
            "tags": []
          },
          "execution_count": 24
        }
      ]
    },
    {
      "cell_type": "code",
      "metadata": {
        "id": "Gxcz7hBjphXk",
        "colab_type": "code",
        "outputId": "a5a2136e-821f-4f82-c522-976a9785ab5d",
        "colab": {
          "base_uri": "https://localhost:8080/",
          "height": 34
        }
      },
      "source": [
        "xd_train.shape"
      ],
      "execution_count": 25,
      "outputs": [
        {
          "output_type": "execute_result",
          "data": {
            "text/plain": [
              "(60000, 154)"
            ]
          },
          "metadata": {
            "tags": []
          },
          "execution_count": 25
        }
      ]
    },
    {
      "cell_type": "code",
      "metadata": {
        "id": "lWE9BBIfvVb_",
        "colab_type": "code",
        "outputId": "2fa0da38-b0c9-45e3-b880-bd3cefed0b40",
        "colab": {
          "base_uri": "https://localhost:8080/",
          "height": 34
        }
      },
      "source": [
        "xd_invers.shape"
      ],
      "execution_count": 26,
      "outputs": [
        {
          "output_type": "execute_result",
          "data": {
            "text/plain": [
              "(60000, 784)"
            ]
          },
          "metadata": {
            "tags": []
          },
          "execution_count": 26
        }
      ]
    },
    {
      "cell_type": "code",
      "metadata": {
        "id": "Zdze-w3BvuIr",
        "colab_type": "code",
        "outputId": "9ef7d25a-3f8e-4e16-e6e9-33170d72be24",
        "colab": {
          "base_uri": "https://localhost:8080/",
          "height": 246
        }
      },
      "source": [
        "xd_invers"
      ],
      "execution_count": 27,
      "outputs": [
        {
          "output_type": "execute_result",
          "data": {
            "text/plain": [
              "array([[ 2.64687454e-14, -2.44391540e-13,  2.43832979e-14, ...,\n",
              "         0.00000000e+00,  0.00000000e+00,  0.00000000e+00],\n",
              "       [ 1.64609603e-15, -1.01751120e-13,  2.86788373e-13, ...,\n",
              "         0.00000000e+00,  0.00000000e+00,  0.00000000e+00],\n",
              "       [ 2.28377776e-15,  6.03162394e-14,  2.78027595e-14, ...,\n",
              "         0.00000000e+00,  0.00000000e+00,  0.00000000e+00],\n",
              "       ...,\n",
              "       [ 8.88183138e-15,  2.80203634e-14,  5.80512756e-14, ...,\n",
              "         0.00000000e+00,  0.00000000e+00,  0.00000000e+00],\n",
              "       [-1.07364675e-16,  8.57884465e-14,  1.57395805e-13, ...,\n",
              "         0.00000000e+00,  0.00000000e+00,  0.00000000e+00],\n",
              "       [ 1.73667409e-15,  9.61377496e-14, -1.33238344e-13, ...,\n",
              "         0.00000000e+00,  0.00000000e+00,  0.00000000e+00]])"
            ]
          },
          "metadata": {
            "tags": []
          },
          "execution_count": 27
        }
      ]
    },
    {
      "cell_type": "markdown",
      "metadata": {
        "id": "8Mo69A4Wyq6O",
        "colab_type": "text"
      },
      "source": [
        "Definitely, there is some loss in information during the projection even after recovering"
      ]
    },
    {
      "cell_type": "code",
      "metadata": {
        "id": "QgHDcdf9sIpq",
        "colab_type": "code",
        "outputId": "d15b3c3c-341a-4c87-f83a-e020380ec6e1",
        "colab": {
          "base_uri": "https://localhost:8080/",
          "height": 34
        }
      },
      "source": [
        "#this is show the two sets are not equals because of the lossing some dat\n",
        "np.allclose(xd_invers,pca_x_train)"
      ],
      "execution_count": 28,
      "outputs": [
        {
          "output_type": "execute_result",
          "data": {
            "text/plain": [
              "False"
            ]
          },
          "metadata": {
            "tags": []
          },
          "execution_count": 28
        }
      ]
    },
    {
      "cell_type": "markdown",
      "metadata": {
        "id": "H1KG7O7GyKV3",
        "colab_type": "text"
      },
      "source": [
        "The explained variance ration of PCA"
      ]
    },
    {
      "cell_type": "code",
      "metadata": {
        "id": "qYRooP4JrahN",
        "colab_type": "code",
        "outputId": "4098f99f-1aa2-4e7e-d775-9293c1047b14",
        "colab": {
          "base_uri": "https://localhost:8080/",
          "height": 34
        }
      },
      "source": [
        "#the explained veriance ration for each feature of the 154\n",
        "pca_ratio=pca.explained_variance_ratio_\n",
        "pca_ratio[:5]"
      ],
      "execution_count": 29,
      "outputs": [
        {
          "output_type": "execute_result",
          "data": {
            "text/plain": [
              "array([0.09704664, 0.07095924, 0.06169089, 0.05389419, 0.04868797])"
            ]
          },
          "metadata": {
            "tags": []
          },
          "execution_count": 29
        }
      ]
    },
    {
      "cell_type": "markdown",
      "metadata": {
        "id": "moCTF3RM79Cp",
        "colab_type": "text"
      },
      "source": [
        "Overall Variance ratio"
      ]
    },
    {
      "cell_type": "code",
      "metadata": {
        "id": "gzD71VLn1z17",
        "colab_type": "code",
        "outputId": "d2af1837-76f6-44f8-811d-bf648fd8eb63",
        "colab": {
          "base_uri": "https://localhost:8080/",
          "height": 34
        }
      },
      "source": [
        "overall_pca_ratio=pca.explained_variance_ratio_.sum()\n",
        "print(str(overall_pca_ratio*100)+\" %\")"
      ],
      "execution_count": 30,
      "outputs": [
        {
          "output_type": "stream",
          "text": [
            "95.01960192613032 %\n"
          ],
          "name": "stdout"
        }
      ]
    },
    {
      "cell_type": "markdown",
      "metadata": {
        "id": "FhfI6mRs8BFK",
        "colab_type": "text"
      },
      "source": [
        "Loss of overall variance ratio"
      ]
    },
    {
      "cell_type": "code",
      "metadata": {
        "id": "eUKSRuhX5MAc",
        "colab_type": "code",
        "outputId": "ec987914-2ff1-479d-ea3b-70c2010a8531",
        "colab": {
          "base_uri": "https://localhost:8080/",
          "height": 34
        }
      },
      "source": [
        "overall_pca_loss = (1 - overall_pca_ratio)*100\n",
        "print(str(overall_pca_loss)+\" %\")"
      ],
      "execution_count": 31,
      "outputs": [
        {
          "output_type": "stream",
          "text": [
            "4.980398073869674 %\n"
          ],
          "name": "stdout"
        }
      ]
    },
    {
      "cell_type": "markdown",
      "metadata": {
        "id": "Pfg4JO4WA8L7",
        "colab_type": "text"
      },
      "source": [
        "In the below, we will compare the recovered digit with original digit to see how the projection will affect the original. As in the below figure, you can see there are slight difference in the recovered image than the original imaga"
      ]
    },
    {
      "cell_type": "code",
      "metadata": {
        "id": "nQn21RWQ8jQR",
        "colab_type": "code",
        "outputId": "c518e431-1183-4449-81b5-06562856ff05",
        "colab": {
          "base_uri": "https://localhost:8080/",
          "height": 378
        }
      },
      "source": [
        "import matplotlib as mpl\n",
        "xd_reshape = xd_invers.reshape(xd_invers.shape[0],28,28)\n",
        "plt.figure(figsize=(12,12))\n",
        "plt.subplot(2,2,1)\n",
        "plt.title(\"Recovered Img\")\n",
        "plt.imshow(xd_reshape[10],cmap=mpl.cm.binary)\n",
        "\n",
        "pca_x_train_reshape = xd_invers.reshape(pca_x_train.shape[0],28,28)\n",
        "plt.subplot(2,2,2)\n",
        "plt.title(\"Original Img\")\n",
        "plt.imshow(pca_x_train_reshape[10],cmap=mpl.cm.binary)"
      ],
      "execution_count": 32,
      "outputs": [
        {
          "output_type": "execute_result",
          "data": {
            "text/plain": [
              "<matplotlib.image.AxesImage at 0x7f8e0b258b38>"
            ]
          },
          "metadata": {
            "tags": []
          },
          "execution_count": 32
        },
        {
          "output_type": "display_data",
          "data": {
            "image/png": "[encoded data removed]",
            "text/plain": [
              "<Figure size 864x864 with 2 Axes>"
            ]
          },
          "metadata": {
            "tags": []
          }
        }
      ]
    },
    {
      "cell_type": "code",
      "metadata": {
        "id": "wE_KvpNQTa7k",
        "colab_type": "code",
        "colab": {}
      },
      "source": [
        "def plot_digits(instances, images_per_row=5, **options):\n",
        "    size = 28\n",
        "    images_per_row = min(len(instances), images_per_row)\n",
        "    images = [instance.reshape(size,size) for instance in instances]\n",
        "    n_rows = (len(instances) - 1) // images_per_row + 1\n",
        "    row_images = []\n",
        "    n_empty = n_rows * images_per_row - len(instances)\n",
        "    images.append(np.zeros((size, size * n_empty)))\n",
        "    for row in range(n_rows):\n",
        "        rimages = images[row * images_per_row : (row + 1) * images_per_row]\n",
        "        row_images.append(np.concatenate(rimages, axis=1))\n",
        "    image = np.concatenate(row_images, axis=0)\n",
        "    plt.imshow(image, cmap = mpl.cm.binary, **options)\n",
        "    plt.axis(\"off\")"
      ],
      "execution_count": 0,
      "outputs": []
    },
    {
      "cell_type": "code",
      "metadata": {
        "id": "7NF2h7W8Sqsq",
        "colab_type": "code",
        "outputId": "d22abe81-b998-4644-b0bb-0b59f88f3450",
        "colab": {
          "base_uri": "https://localhost:8080/",
          "height": 297
        }
      },
      "source": [
        "plt.figure(figsize=(7, 4))\n",
        "plt.subplot(121)\n",
        "plot_digits(pca_x_train[::2100])\n",
        "plt.subplot(122)\n",
        "plot_digits(xd_invers[::2100])\n",
        "plt.tight_layout()"
      ],
      "execution_count": 34,
      "outputs": [
        {
          "output_type": "display_data",
          "data": {
            "image/png": "[encoded data removed]",
            "text/plain": [
              "<Figure size 504x288 with 2 Axes>"
            ]
          },
          "metadata": {
            "tags": []
          }
        }
      ]
    },
    {
      "cell_type": "markdown",
      "metadata": {
        "id": "NvskaoW1EZ2I",
        "colab_type": "text"
      },
      "source": [
        "Scaling training data after reduction"
      ]
    },
    {
      "cell_type": "code",
      "metadata": {
        "id": "IsQpjWkP9TJY",
        "colab_type": "code",
        "colab": {
          "base_uri": "https://localhost:8080/",
          "height": 246
        },
        "outputId": "3f79ce77-d46d-44df-b874-5923938cb08a"
      },
      "source": [
        "from sklearn import preprocessing\n",
        "\n",
        "xd_train_scaled = preprocessing.scale(xd_train)\n",
        "xd_train_scaled"
      ],
      "execution_count": 35,
      "outputs": [
        {
          "output_type": "execute_result",
          "data": {
            "text/plain": [
              "array([[ 0.21485558, -0.63392668, -0.05330353, ...,  1.38044731,\n",
              "        -0.50610502,  1.0075042 ],\n",
              "       [ 1.75396433, -0.59780342,  1.29668501, ...,  0.1816869 ,\n",
              "        -0.31394081, -0.32429588],\n",
              "       [-0.08988901,  0.7951055 , -0.40989695, ..., -1.35979353,\n",
              "         1.2217066 , -1.86482058],\n",
              "       ...,\n",
              "       [-0.30868215,  0.32454814, -0.56015573, ...,  1.39364127,\n",
              "         2.21759916, -0.14734156],\n",
              "       [ 0.22642506, -0.01133729,  1.11733798, ...,  0.58481535,\n",
              "         0.12757357, -1.66090172],\n",
              "       [-0.30067703, -0.05011576,  1.20901146, ...,  1.31713449,\n",
              "         0.31832855, -1.1640139 ]])"
            ]
          },
          "metadata": {
            "tags": []
          },
          "execution_count": 35
        }
      ]
    },
    {
      "cell_type": "markdown",
      "metadata": {
        "id": "67_ZHXt5Bnzs",
        "colab_type": "text"
      },
      "source": [
        "Redo Random Forest Classifier with reduced data"
      ]
    },
    {
      "cell_type": "markdown",
      "metadata": {
        "id": "Uf4riXqMCVmD",
        "colab_type": "text"
      },
      "source": [
        "build the model"
      ]
    },
    {
      "cell_type": "code",
      "metadata": {
        "id": "PaxRZYNiA-eg",
        "colab_type": "code",
        "outputId": "bcdb04c3-5845-49b8-d1d3-f5c7031edfd8",
        "colab": {
          "base_uri": "https://localhost:8080/",
          "height": 34
        }
      },
      "source": [
        "#apply the Random Forest Classifier on reduction trainging set\n",
        "#to measure time\n",
        "t1 = time.time()\n",
        "clf_model_pca=clf.fit(xd_train_scaled,y_train)\n",
        "t2 = time.time()\n",
        "time_after_pca = t2-t1\n",
        "print(\"Time for Random Forest Classifier after applying PCA {:.1f}\".format(time_after_pca))"
      ],
      "execution_count": 36,
      "outputs": [
        {
          "output_type": "stream",
          "text": [
            "Time for Random Forest Classifier after applying PCA 160.5\n"
          ],
          "name": "stdout"
        }
      ]
    },
    {
      "cell_type": "code",
      "metadata": {
        "id": "UAQnBlw7eLFM",
        "colab_type": "code",
        "outputId": "023a0db4-9a82-41e7-eff2-fe757e2cb1d8",
        "colab": {
          "base_uri": "https://localhost:8080/",
          "height": 327
        }
      },
      "source": [
        "times_before_after_pca=[time_before_pca,time_after_pca]\n",
        "fig,h=plt.subplots()\n",
        "\n",
        "h.bar(time_before_pca,height=x_train.shape[1],width=10,label='Before')\n",
        "h.bar(time_after_pca,height=xd_train.shape[1],width=10,label='After')\n",
        "fig.legend(loc='upper left')\n",
        "fig.tight_layout()\n",
        "h.set_ylabel('Number of Features')\n",
        "h.set_xlabel('Time')\n",
        "h.set_title('Time before and after PCA')\n",
        "fig.show()\n"
      ],
      "execution_count": 37,
      "outputs": [
        {
          "output_type": "display_data",
          "data": {
            "image/png": "[encoded data removed]",
            "text/plain": [
              "<Figure size 432x288 with 1 Axes>"
            ]
          },
          "metadata": {
            "tags": []
          }
        }
      ]
    },
    {
      "cell_type": "markdown",
      "metadata": {
        "id": "7oemM9w-FAOa",
        "colab_type": "text"
      },
      "source": [
        "reduce the dimensiolity for the testing set"
      ]
    },
    {
      "cell_type": "code",
      "metadata": {
        "id": "S_Gk-5c1DgAH",
        "colab_type": "code",
        "outputId": "d648810f-2824-4186-c14f-39f4319d1ea9",
        "colab": {
          "base_uri": "https://localhost:8080/",
          "height": 34
        }
      },
      "source": [
        "#Testing data before the reduction\n",
        "pca_x_test.shape"
      ],
      "execution_count": 38,
      "outputs": [
        {
          "output_type": "execute_result",
          "data": {
            "text/plain": [
              "(10000, 784)"
            ]
          },
          "metadata": {
            "tags": []
          },
          "execution_count": 38
        }
      ]
    },
    {
      "cell_type": "code",
      "metadata": {
        "id": "eiH384rqDAu_",
        "colab_type": "code",
        "outputId": "10882fc2-c297-4712-82e1-69c2999d38a0",
        "colab": {
          "base_uri": "https://localhost:8080/",
          "height": 34
        }
      },
      "source": [
        "#reduce the mnist from 784 dimension to dimension that produce 95% varience ration\n",
        "pca_test = PCA(n_components=0.95)\n",
        "#apply the model and apply the reduction on x_train\n",
        "xd_test = pca_test.fit_transform(pca_x_test)\n",
        "#Testing data after the reduction\n",
        "xd_test.shape"
      ],
      "execution_count": 39,
      "outputs": [
        {
          "output_type": "execute_result",
          "data": {
            "text/plain": [
              "(10000, 149)"
            ]
          },
          "metadata": {
            "tags": []
          },
          "execution_count": 39
        }
      ]
    },
    {
      "cell_type": "code",
      "metadata": {
        "id": "NE8GQLWck8XW",
        "colab_type": "code",
        "outputId": "956f3048-11b2-4898-89f9-af56b5078db7",
        "colab": {
          "base_uri": "https://localhost:8080/",
          "height": 562
        }
      },
      "source": [
        "pca.explained_variance_ratio_"
      ],
      "execution_count": 40,
      "outputs": [
        {
          "output_type": "execute_result",
          "data": {
            "text/plain": [
              "array([0.09704664, 0.07095924, 0.06169089, 0.05389419, 0.04868797,\n",
              "       0.04312231, 0.0327193 , 0.02883895, 0.02762029, 0.02357001,\n",
              "       0.0210919 , 0.02022991, 0.01715818, 0.01692111, 0.01578641,\n",
              "       0.01482953, 0.01324561, 0.01276897, 0.01187263, 0.01152684,\n",
              "       0.01066166, 0.01006713, 0.00953573, 0.00912544, 0.00883405,\n",
              "       0.00839319, 0.00812579, 0.00786366, 0.00744733, 0.00690859,\n",
              "       0.00658094, 0.00648148, 0.00602615, 0.00586582, 0.00570021,\n",
              "       0.00543628, 0.00505786, 0.00487859, 0.00481429, 0.00472266,\n",
              "       0.00456747, 0.00444836, 0.00418501, 0.00398215, 0.00384975,\n",
              "       0.00375103, 0.00362009, 0.00351591, 0.00340058, 0.00321874,\n",
              "       0.00319017, 0.00312805, 0.00295983, 0.00288955, 0.0028413 ,\n",
              "       0.00271436, 0.00269521, 0.00258473, 0.00253771, 0.00244781,\n",
              "       0.00240506, 0.00239263, 0.00230408, 0.00221532, 0.00213721,\n",
              "       0.00207225, 0.00203043, 0.00196783, 0.00192853, 0.00188632,\n",
              "       0.00186977, 0.00181083, 0.00177562, 0.00174898, 0.00165758,\n",
              "       0.00163894, 0.00161462, 0.00155116, 0.00147613, 0.00143176,\n",
              "       0.00142094, 0.00141153, 0.00140174, 0.00135736, 0.00133847,\n",
              "       0.00132396, 0.00130157, 0.00125873, 0.00122828, 0.00121584,\n",
              "       0.00117034, 0.00114874, 0.00113244, 0.00110886, 0.00109002,\n",
              "       0.00106923, 0.00104196, 0.00104007, 0.00101256, 0.00100527,\n",
              "       0.00098402, 0.00094969, 0.00094134, 0.00091617, 0.00090785,\n",
              "       0.00089687, 0.00086539, 0.00085517, 0.00084562, 0.0008225 ,\n",
              "       0.00079158, 0.00078594, 0.00078461, 0.00076883, 0.00076402,\n",
              "       0.00075309, 0.00073678, 0.00072713, 0.00071965, 0.00070682,\n",
              "       0.00069542, 0.00069216, 0.0006833 , 0.00067406, 0.00066688,\n",
              "       0.00064527, 0.00063559, 0.00063165, 0.00062293, 0.00060529,\n",
              "       0.00060359, 0.00059448, 0.00058831, 0.00058652, 0.00058134,\n",
              "       0.00057683, 0.00056537, 0.00055476, 0.00053517, 0.00052593,\n",
              "       0.00052509, 0.00051026, 0.00050297, 0.00050108, 0.00049871,\n",
              "       0.00049107, 0.00048554, 0.00048285, 0.00047401, 0.00046835,\n",
              "       0.0004666 , 0.00046333, 0.00045929, 0.00045038])"
            ]
          },
          "metadata": {
            "tags": []
          },
          "execution_count": 40
        }
      ]
    },
    {
      "cell_type": "code",
      "metadata": {
        "id": "IJFBAsVwk5L7",
        "colab_type": "code",
        "outputId": "8b8019e8-ae00-46c1-a840-bbcab8001bbf",
        "colab": {
          "base_uri": "https://localhost:8080/",
          "height": 34
        }
      },
      "source": [
        "pca_test.explained_variance_ratio_.sum()"
      ],
      "execution_count": 41,
      "outputs": [
        {
          "output_type": "execute_result",
          "data": {
            "text/plain": [
              "0.9503231308905666"
            ]
          },
          "metadata": {
            "tags": []
          },
          "execution_count": 41
        }
      ]
    },
    {
      "cell_type": "code",
      "metadata": {
        "id": "NpIbK9Bwtg5t",
        "colab_type": "code",
        "colab": {
          "base_uri": "https://localhost:8080/",
          "height": 246
        },
        "outputId": "052d8138-c3cb-4b4f-8fbb-18c1f886d2e4"
      },
      "source": [
        "xd_train_scaled = preprocessing.scale(xd_train)\n",
        "xd_train_scaled"
      ],
      "execution_count": 42,
      "outputs": [
        {
          "output_type": "execute_result",
          "data": {
            "text/plain": [
              "array([[ 0.21485558, -0.63392668, -0.05330353, ...,  1.38044731,\n",
              "        -0.50610502,  1.0075042 ],\n",
              "       [ 1.75396433, -0.59780342,  1.29668501, ...,  0.1816869 ,\n",
              "        -0.31394081, -0.32429588],\n",
              "       [-0.08988901,  0.7951055 , -0.40989695, ..., -1.35979353,\n",
              "         1.2217066 , -1.86482058],\n",
              "       ...,\n",
              "       [-0.30868215,  0.32454814, -0.56015573, ...,  1.39364127,\n",
              "         2.21759916, -0.14734156],\n",
              "       [ 0.22642506, -0.01133729,  1.11733798, ...,  0.58481535,\n",
              "         0.12757357, -1.66090172],\n",
              "       [-0.30067703, -0.05011576,  1.20901146, ...,  1.31713449,\n",
              "         0.31832855, -1.1640139 ]])"
            ]
          },
          "metadata": {
            "tags": []
          },
          "execution_count": 42
        }
      ]
    },
    {
      "cell_type": "markdown",
      "metadata": {
        "id": "kpdDc-BNJRRm",
        "colab_type": "text"
      },
      "source": [
        "because of the PCA when specify the n_components to 0.95 (for 95 % explained varience ratio), the number of features in the testting set will be 149. So it cause an error when we will predict them in the model. Because the reduced training set had 154 featrues. Both should be matched."
      ]
    },
    {
      "cell_type": "code",
      "metadata": {
        "id": "ntQjwI0SI5E-",
        "colab_type": "code",
        "outputId": "100d2816-cfd5-4ec5-e7dd-bc637aad47b9",
        "colab": {
          "base_uri": "https://localhost:8080/",
          "height": 34
        }
      },
      "source": [
        "pca.n_components=154\n",
        "xd_test = pca.fit_transform(pca_x_test)\n",
        "#Testing data after the reduction\n",
        "xd_test.shape"
      ],
      "execution_count": 43,
      "outputs": [
        {
          "output_type": "execute_result",
          "data": {
            "text/plain": [
              "(10000, 154)"
            ]
          },
          "metadata": {
            "tags": []
          },
          "execution_count": 43
        }
      ]
    },
    {
      "cell_type": "code",
      "metadata": {
        "id": "I8CDXOo2lFLj",
        "colab_type": "code",
        "outputId": "74115881-392e-4d97-92fd-302eaaa68531",
        "colab": {
          "base_uri": "https://localhost:8080/",
          "height": 34
        }
      },
      "source": [
        "#explained varience ratio is 95%\n",
        "pca.explained_variance_ratio_.sum()"
      ],
      "execution_count": 44,
      "outputs": [
        {
          "output_type": "execute_result",
          "data": {
            "text/plain": [
              "0.9522157046166669"
            ]
          },
          "metadata": {
            "tags": []
          },
          "execution_count": 44
        }
      ]
    },
    {
      "cell_type": "code",
      "metadata": {
        "id": "Hf_8sGSeAKpU",
        "colab_type": "code",
        "colab": {
          "base_uri": "https://localhost:8080/",
          "height": 246
        },
        "outputId": "c94c93ff-8139-45ec-f1a2-bf9bfcb93a8e"
      },
      "source": [
        "xd_test"
      ],
      "execution_count": 45,
      "outputs": [
        {
          "output_type": "execute_result",
          "data": {
            "text/plain": [
              "array([[-4.11260996e+02, -6.86561610e+02, -5.11129462e+01, ...,\n",
              "         2.21549588e+01,  2.53954586e+01, -5.56311711e+01],\n",
              "       [ 5.80659352e+01,  9.83170260e+02,  8.88468971e+00, ...,\n",
              "         3.60713353e+01,  2.24005906e+01,  1.03147987e+01],\n",
              "       [-9.35105339e+02,  4.59074661e+02,  3.19994509e+02, ...,\n",
              "        -6.18842586e-01, -5.80759661e+01, -4.43485138e+01],\n",
              "       ...,\n",
              "       [-2.82415573e+02, -5.50853516e+02,  1.97570885e+02, ...,\n",
              "         5.79662634e-01, -4.70679698e+00, -5.05654947e+00],\n",
              "       [-2.87270866e+02,  1.55851849e+02,  5.36987521e+02, ...,\n",
              "        -2.48235767e+01,  2.72788850e+01,  8.75495609e+00],\n",
              "       [ 1.14417000e+03,  2.27198894e+01,  8.49488971e+02, ...,\n",
              "         2.48417274e+01,  7.73614081e+01,  1.76891360e+01]])"
            ]
          },
          "metadata": {
            "tags": []
          },
          "execution_count": 45
        }
      ]
    },
    {
      "cell_type": "markdown",
      "metadata": {
        "id": "jS9hq3PcEkEf",
        "colab_type": "text"
      },
      "source": [
        "Scaling testting data after reduction"
      ]
    },
    {
      "cell_type": "code",
      "metadata": {
        "id": "uKwHifSQ_qaX",
        "colab_type": "code",
        "colab": {
          "base_uri": "https://localhost:8080/",
          "height": 246
        },
        "outputId": "5652a807-858e-4e45-b6ac-06b30099637d"
      },
      "source": [
        "xd_test_scaled = preprocessing.scale(xd_test)\n",
        "xd_test_scaled"
      ],
      "execution_count": 46,
      "outputs": [
        {
          "output_type": "execute_result",
          "data": {
            "text/plain": [
              "array([[-0.69988954, -1.34837033, -0.11126869, ...,  0.57734653,\n",
              "         0.66568987, -1.48144086],\n",
              "       [ 0.0988174 ,  1.93089388,  0.01934124, ...,  0.93999995,\n",
              "         0.58718554,  0.2746799 ],\n",
              "       [-1.59137495,  0.90159812,  0.69660182, ..., -0.01612671,\n",
              "        -1.52234235, -1.18098719],\n",
              "       ...,\n",
              "       [-0.48061865, -1.08184689,  0.43009563, ...,  0.0151057 ,\n",
              "        -0.12337903, -0.13465435],\n",
              "       [-0.48888146,  0.30608471,  1.16897782, ..., -0.6468893 ,\n",
              "         0.71506003,  0.23314177],\n",
              "       [ 1.94716403,  0.04462065,  1.84926787, ...,  0.6473623 ,\n",
              "         2.02787066,  0.47105621]])"
            ]
          },
          "metadata": {
            "tags": []
          },
          "execution_count": 46
        }
      ]
    },
    {
      "cell_type": "code",
      "metadata": {
        "id": "VQTOj6PDBm86",
        "colab_type": "code",
        "outputId": "ca56e9aa-72fd-4c08-dddd-fc165a6d5793",
        "colab": {
          "base_uri": "https://localhost:8080/",
          "height": 105
        }
      },
      "source": [
        "prd_pca=clf_model_pca.predict(xd_test_scaled)\n",
        "prd_pca[:5]#print the top 5 predictions result"
      ],
      "execution_count": 47,
      "outputs": [
        {
          "output_type": "execute_result",
          "data": {
            "text/plain": [
              "array([[0., 0., 0., 0., 0., 0., 0., 0., 0., 0.],\n",
              "       [0., 0., 0., 0., 0., 0., 0., 0., 0., 0.],\n",
              "       [0., 0., 0., 0., 0., 0., 0., 0., 0., 0.],\n",
              "       [0., 0., 0., 0., 0., 0., 0., 0., 0., 0.],\n",
              "       [0., 0., 0., 0., 0., 0., 0., 0., 0., 0.]], dtype=float32)"
            ]
          },
          "metadata": {
            "tags": []
          },
          "execution_count": 47
        }
      ]
    },
    {
      "cell_type": "markdown",
      "metadata": {
        "id": "Sq0QRUCLCinK",
        "colab_type": "text"
      },
      "source": [
        "Random Forest Classifier Accuracy"
      ]
    },
    {
      "cell_type": "code",
      "metadata": {
        "id": "GRWq8_QfCB40",
        "colab_type": "code",
        "outputId": "9ae27cd1-ae9c-46cc-a896-c87fd35a1547",
        "colab": {
          "base_uri": "https://localhost:8080/",
          "height": 34
        }
      },
      "source": [
        "clf_model_pca.score(xd_test_scaled,y_test)"
      ],
      "execution_count": 48,
      "outputs": [
        {
          "output_type": "execute_result",
          "data": {
            "text/plain": [
              "0.0056"
            ]
          },
          "metadata": {
            "tags": []
          },
          "execution_count": 48
        }
      ]
    },
    {
      "cell_type": "code",
      "metadata": {
        "id": "2j04LP5FCm4A",
        "colab_type": "code",
        "outputId": "2ddf5bfe-802a-4847-b6b4-e0e0d2585376",
        "colab": {
          "base_uri": "https://localhost:8080/",
          "height": 193
        }
      },
      "source": [
        "for i in range(10):\n",
        "  print(\"Predicted: {} ; Actual {}\".format(np.argmax(prd_pca[i]),y_test_copy[i]))"
      ],
      "execution_count": 49,
      "outputs": [
        {
          "output_type": "stream",
          "text": [
            "Predicted: 0 ; Actual 7\n",
            "Predicted: 0 ; Actual 2\n",
            "Predicted: 0 ; Actual 1\n",
            "Predicted: 0 ; Actual 0\n",
            "Predicted: 0 ; Actual 4\n",
            "Predicted: 0 ; Actual 1\n",
            "Predicted: 0 ; Actual 4\n",
            "Predicted: 0 ; Actual 9\n",
            "Predicted: 0 ; Actual 5\n",
            "Predicted: 0 ; Actual 9\n"
          ],
          "name": "stdout"
        }
      ]
    },
    {
      "cell_type": "markdown",
      "metadata": {
        "id": "Q5VIXxo-L5TH",
        "colab_type": "text"
      },
      "source": [
        "The accuracy is almost 0%, which is very low and not acceptable"
      ]
    },
    {
      "cell_type": "code",
      "metadata": {
        "id": "3T4BcEFzL3mi",
        "colab_type": "code",
        "outputId": "31cc89d0-5f4b-4365-e7d9-94e0e3cacf76",
        "colab": {
          "base_uri": "https://localhost:8080/",
          "height": 105
        }
      },
      "source": [
        "#apply the Random Forest Classifier\n",
        "clf.random_state=0\n",
        "clf.max_depth = 70\n",
        "clf_model_pca=clf.fit(xd_train_scaled,y_train,sample_weight=5)\n",
        "prd_pca=clf_model_pca.predict(xd_test_scaled)\n",
        "prd_pca[:5]#print the top 5 predictions result"
      ],
      "execution_count": 50,
      "outputs": [
        {
          "output_type": "execute_result",
          "data": {
            "text/plain": [
              "array([[0., 0., 0., 0., 0., 0., 0., 0., 0., 0.],\n",
              "       [0., 0., 0., 0., 0., 0., 0., 0., 0., 0.],\n",
              "       [0., 0., 0., 0., 0., 0., 0., 0., 0., 0.],\n",
              "       [0., 0., 0., 0., 0., 0., 0., 0., 0., 0.],\n",
              "       [0., 0., 0., 0., 0., 0., 0., 0., 0., 0.]], dtype=float32)"
            ]
          },
          "metadata": {
            "tags": []
          },
          "execution_count": 50
        }
      ]
    },
    {
      "cell_type": "code",
      "metadata": {
        "id": "PKF31FkhOwYk",
        "colab_type": "code",
        "outputId": "1755d0c6-76f5-4c42-d3ab-8f7817637d87",
        "colab": {
          "base_uri": "https://localhost:8080/",
          "height": 34
        }
      },
      "source": [
        "clf_model_pca.score(xd_test_scaled,y_test)"
      ],
      "execution_count": 51,
      "outputs": [
        {
          "output_type": "execute_result",
          "data": {
            "text/plain": [
              "0.0048"
            ]
          },
          "metadata": {
            "tags": []
          },
          "execution_count": 51
        }
      ]
    },
    {
      "cell_type": "markdown",
      "metadata": {
        "id": "eEWxoiHml6TU",
        "colab_type": "text"
      },
      "source": [
        "#Applying t-SNE Module"
      ]
    },
    {
      "cell_type": "markdown",
      "metadata": {
        "id": "eeujHvQymCvU",
        "colab_type": "text"
      },
      "source": [
        "builing t-SNE to reduce the dimensiolity from 784 to 2"
      ]
    },
    {
      "cell_type": "markdown",
      "metadata": {
        "id": "o5dOfU3AYzPi",
        "colab_type": "text"
      },
      "source": [
        "reload the data and apply the normalization as we did in the top"
      ]
    },
    {
      "cell_type": "code",
      "metadata": {
        "id": "MuNu6ziAYyGz",
        "colab_type": "code",
        "colab": {}
      },
      "source": [
        "#Copy the original data\n",
        "(x_train,y_train), (x_test,y_test) = mnist.load_data()"
      ],
      "execution_count": 0,
      "outputs": []
    },
    {
      "cell_type": "code",
      "metadata": {
        "id": "mDxc2AyimZtz",
        "colab_type": "code",
        "colab": {
          "base_uri": "https://localhost:8080/",
          "height": 34
        },
        "outputId": "cc83e132-0655-41c0-f9c5-2dd4f0aba45b"
      },
      "source": [
        "image_size = 28 * 28\n",
        "x_train = x_train.reshape(x_train.shape[0], image_size)\n",
        "#copy the set to be used latter\n",
        "x_train_coopy = x_train\n",
        "x_train.shape"
      ],
      "execution_count": 73,
      "outputs": [
        {
          "output_type": "execute_result",
          "data": {
            "text/plain": [
              "(60000, 784)"
            ]
          },
          "metadata": {
            "tags": []
          },
          "execution_count": 73
        }
      ]
    },
    {
      "cell_type": "code",
      "metadata": {
        "id": "QvdIfq-QYohW",
        "colab_type": "code",
        "colab": {
          "base_uri": "https://localhost:8080/",
          "height": 34
        },
        "outputId": "e410f61e-4901-433d-9b89-f1505eeac532"
      },
      "source": [
        "x_test = x_test.reshape(x_test.shape[0],image_size)\n",
        "#copy the set to be used latter\n",
        "x_test_copy = x_test\n",
        "x_test.shape"
      ],
      "execution_count": 74,
      "outputs": [
        {
          "output_type": "execute_result",
          "data": {
            "text/plain": [
              "(10000, 784)"
            ]
          },
          "metadata": {
            "tags": []
          },
          "execution_count": 74
        }
      ]
    },
    {
      "cell_type": "markdown",
      "metadata": {
        "id": "uNWhm_kKRmJY",
        "colab_type": "text"
      },
      "source": [
        "I tried to run the tSNE on the entire training data 60,000 records but it has never excuted the code even when I left it for more than 5 hours. It seems to run it I need more RAM and Time as it is heavy operation.\n",
        "\n",
        "So, I will run the code on 1,000 records to run faster."
      ]
    },
    {
      "cell_type": "code",
      "metadata": {
        "id": "8VdBuSYsSmll",
        "colab_type": "code",
        "colab": {}
      },
      "source": [
        "tsne_x_train = x_train[:1000,:]\n",
        "tsne_x_test = x_test[:1000,:]"
      ],
      "execution_count": 0,
      "outputs": []
    },
    {
      "cell_type": "code",
      "metadata": {
        "id": "qNm_C-vzaccc",
        "colab_type": "code",
        "colab": {
          "base_uri": "https://localhost:8080/",
          "height": 34
        },
        "outputId": "cee13621-0865-4346-cfd9-996e1ef1363b"
      },
      "source": [
        "tsne_x_train.shape"
      ],
      "execution_count": 104,
      "outputs": [
        {
          "output_type": "execute_result",
          "data": {
            "text/plain": [
              "(1000, 784)"
            ]
          },
          "metadata": {
            "tags": []
          },
          "execution_count": 104
        }
      ]
    },
    {
      "cell_type": "code",
      "metadata": {
        "id": "nvVQcNliagaE",
        "colab_type": "code",
        "colab": {
          "base_uri": "https://localhost:8080/",
          "height": 34
        },
        "outputId": "dfdb443a-8723-4308-f09f-f4a0849653fa"
      },
      "source": [
        "tsne_x_test.shape"
      ],
      "execution_count": 105,
      "outputs": [
        {
          "output_type": "execute_result",
          "data": {
            "text/plain": [
              "(1000, 784)"
            ]
          },
          "metadata": {
            "tags": []
          },
          "execution_count": 105
        }
      ]
    },
    {
      "cell_type": "code",
      "metadata": {
        "id": "fmQ6io10ZYF3",
        "colab_type": "code",
        "colab": {}
      },
      "source": [
        "tsne_y_train = y_train[:1000]\n",
        "tsne_y_test = y_test[:1000]"
      ],
      "execution_count": 0,
      "outputs": []
    },
    {
      "cell_type": "code",
      "metadata": {
        "id": "JIlsZEjlaj4P",
        "colab_type": "code",
        "colab": {
          "base_uri": "https://localhost:8080/",
          "height": 34
        },
        "outputId": "e6a725ac-b041-495f-e960-020bdc963e4f"
      },
      "source": [
        "tsne_y_train.shape"
      ],
      "execution_count": 107,
      "outputs": [
        {
          "output_type": "execute_result",
          "data": {
            "text/plain": [
              "(1000,)"
            ]
          },
          "metadata": {
            "tags": []
          },
          "execution_count": 107
        }
      ]
    },
    {
      "cell_type": "code",
      "metadata": {
        "id": "Z1vCorknaoSC",
        "colab_type": "code",
        "colab": {
          "base_uri": "https://localhost:8080/",
          "height": 34
        },
        "outputId": "35f8b8c3-c869-472e-f9c3-52d48ac36784"
      },
      "source": [
        "tsne_y_test.shape"
      ],
      "execution_count": 108,
      "outputs": [
        {
          "output_type": "execute_result",
          "data": {
            "text/plain": [
              "(1000,)"
            ]
          },
          "metadata": {
            "tags": []
          },
          "execution_count": 108
        }
      ]
    },
    {
      "cell_type": "code",
      "metadata": {
        "id": "PP5ptz6wS9pY",
        "colab_type": "code",
        "colab": {
          "base_uri": "https://localhost:8080/",
          "height": 1000
        },
        "outputId": "26cb1e23-c377-4819-99c2-3c9271ea0f7e"
      },
      "source": [
        "tsne_x_train[0]"
      ],
      "execution_count": 109,
      "outputs": [
        {
          "output_type": "execute_result",
          "data": {
            "text/plain": [
              "array([  0,   0,   0,   0,   0,   0,   0,   0,   0,   0,   0,   0,   0,\n",
              "         0,   0,   0,   0,   0,   0,   0,   0,   0,   0,   0,   0,   0,\n",
              "         0,   0,   0,   0,   0,   0,   0,   0,   0,   0,   0,   0,   0,\n",
              "         0,   0,   0,   0,   0,   0,   0,   0,   0,   0,   0,   0,   0,\n",
              "         0,   0,   0,   0,   0,   0,   0,   0,   0,   0,   0,   0,   0,\n",
              "         0,   0,   0,   0,   0,   0,   0,   0,   0,   0,   0,   0,   0,\n",
              "         0,   0,   0,   0,   0,   0,   0,   0,   0,   0,   0,   0,   0,\n",
              "         0,   0,   0,   0,   0,   0,   0,   0,   0,   0,   0,   0,   0,\n",
              "         0,   0,   0,   0,   0,   0,   0,   0,   0,   0,   0,   0,   0,\n",
              "         0,   0,   0,   0,   0,   0,   0,   0,   0,   0,   0,   0,   0,\n",
              "         0,   0,   0,   0,   0,   0,   0,   0,   0,   0,   0,   0,   0,\n",
              "         0,   0,   0,   0,   0,   0,   0,   0,   0,   3,  18,  18,  18,\n",
              "       126, 136, 175,  26, 166, 255, 247, 127,   0,   0,   0,   0,   0,\n",
              "         0,   0,   0,   0,   0,   0,   0,  30,  36,  94, 154, 170, 253,\n",
              "       253, 253, 253, 253, 225, 172, 253, 242, 195,  64,   0,   0,   0,\n",
              "         0,   0,   0,   0,   0,   0,   0,   0,  49, 238, 253, 253, 253,\n",
              "       253, 253, 253, 253, 253, 251,  93,  82,  82,  56,  39,   0,   0,\n",
              "         0,   0,   0,   0,   0,   0,   0,   0,   0,   0,  18, 219, 253,\n",
              "       253, 253, 253, 253, 198, 182, 247, 241,   0,   0,   0,   0,   0,\n",
              "         0,   0,   0,   0,   0,   0,   0,   0,   0,   0,   0,   0,   0,\n",
              "        80, 156, 107, 253, 253, 205,  11,   0,  43, 154,   0,   0,   0,\n",
              "         0,   0,   0,   0,   0,   0,   0,   0,   0,   0,   0,   0,   0,\n",
              "         0,   0,   0,  14,   1, 154, 253,  90,   0,   0,   0,   0,   0,\n",
              "         0,   0,   0,   0,   0,   0,   0,   0,   0,   0,   0,   0,   0,\n",
              "         0,   0,   0,   0,   0,   0,   0, 139, 253, 190,   2,   0,   0,\n",
              "         0,   0,   0,   0,   0,   0,   0,   0,   0,   0,   0,   0,   0,\n",
              "         0,   0,   0,   0,   0,   0,   0,   0,   0,  11, 190, 253,  70,\n",
              "         0,   0,   0,   0,   0,   0,   0,   0,   0,   0,   0,   0,   0,\n",
              "         0,   0,   0,   0,   0,   0,   0,   0,   0,   0,   0,   0,  35,\n",
              "       241, 225, 160, 108,   1,   0,   0,   0,   0,   0,   0,   0,   0,\n",
              "         0,   0,   0,   0,   0,   0,   0,   0,   0,   0,   0,   0,   0,\n",
              "         0,   0,  81, 240, 253, 253, 119,  25,   0,   0,   0,   0,   0,\n",
              "         0,   0,   0,   0,   0,   0,   0,   0,   0,   0,   0,   0,   0,\n",
              "         0,   0,   0,   0,   0,  45, 186, 253, 253, 150,  27,   0,   0,\n",
              "         0,   0,   0,   0,   0,   0,   0,   0,   0,   0,   0,   0,   0,\n",
              "         0,   0,   0,   0,   0,   0,   0,   0,  16,  93, 252, 253, 187,\n",
              "         0,   0,   0,   0,   0,   0,   0,   0,   0,   0,   0,   0,   0,\n",
              "         0,   0,   0,   0,   0,   0,   0,   0,   0,   0,   0,   0, 249,\n",
              "       253, 249,  64,   0,   0,   0,   0,   0,   0,   0,   0,   0,   0,\n",
              "         0,   0,   0,   0,   0,   0,   0,   0,   0,   0,   0,  46, 130,\n",
              "       183, 253, 253, 207,   2,   0,   0,   0,   0,   0,   0,   0,   0,\n",
              "         0,   0,   0,   0,   0,   0,   0,   0,   0,   0,   0,  39, 148,\n",
              "       229, 253, 253, 253, 250, 182,   0,   0,   0,   0,   0,   0,   0,\n",
              "         0,   0,   0,   0,   0,   0,   0,   0,   0,   0,   0,  24, 114,\n",
              "       221, 253, 253, 253, 253, 201,  78,   0,   0,   0,   0,   0,   0,\n",
              "         0,   0,   0,   0,   0,   0,   0,   0,   0,   0,   0,  23,  66,\n",
              "       213, 253, 253, 253, 253, 198,  81,   2,   0,   0,   0,   0,   0,\n",
              "         0,   0,   0,   0,   0,   0,   0,   0,   0,   0,   0,  18, 171,\n",
              "       219, 253, 253, 253, 253, 195,  80,   9,   0,   0,   0,   0,   0,\n",
              "         0,   0,   0,   0,   0,   0,   0,   0,   0,   0,   0,  55, 172,\n",
              "       226, 253, 253, 253, 253, 244, 133,  11,   0,   0,   0,   0,   0,\n",
              "         0,   0,   0,   0,   0,   0,   0,   0,   0,   0,   0,   0,   0,\n",
              "       136, 253, 253, 253, 212, 135, 132,  16,   0,   0,   0,   0,   0,\n",
              "         0,   0,   0,   0,   0,   0,   0,   0,   0,   0,   0,   0,   0,\n",
              "         0,   0,   0,   0,   0,   0,   0,   0,   0,   0,   0,   0,   0,\n",
              "         0,   0,   0,   0,   0,   0,   0,   0,   0,   0,   0,   0,   0,\n",
              "         0,   0,   0,   0,   0,   0,   0,   0,   0,   0,   0,   0,   0,\n",
              "         0,   0,   0,   0,   0,   0,   0,   0,   0,   0,   0,   0,   0,\n",
              "         0,   0,   0,   0,   0,   0,   0,   0,   0,   0,   0,   0,   0,\n",
              "         0,   0,   0,   0,   0,   0,   0,   0,   0,   0,   0,   0,   0,\n",
              "         0,   0,   0,   0], dtype=uint8)"
            ]
          },
          "metadata": {
            "tags": []
          },
          "execution_count": 109
        }
      ]
    },
    {
      "cell_type": "code",
      "metadata": {
        "id": "jAu4lpbMS7PD",
        "colab_type": "code",
        "colab": {
          "base_uri": "https://localhost:8080/",
          "height": 1000
        },
        "outputId": "59f3b40b-4a08-4d87-a94f-5e1440707d68"
      },
      "source": [
        "tsne_x_test[0]"
      ],
      "execution_count": 110,
      "outputs": [
        {
          "output_type": "execute_result",
          "data": {
            "text/plain": [
              "array([  0,   0,   0,   0,   0,   0,   0,   0,   0,   0,   0,   0,   0,\n",
              "         0,   0,   0,   0,   0,   0,   0,   0,   0,   0,   0,   0,   0,\n",
              "         0,   0,   0,   0,   0,   0,   0,   0,   0,   0,   0,   0,   0,\n",
              "         0,   0,   0,   0,   0,   0,   0,   0,   0,   0,   0,   0,   0,\n",
              "         0,   0,   0,   0,   0,   0,   0,   0,   0,   0,   0,   0,   0,\n",
              "         0,   0,   0,   0,   0,   0,   0,   0,   0,   0,   0,   0,   0,\n",
              "         0,   0,   0,   0,   0,   0,   0,   0,   0,   0,   0,   0,   0,\n",
              "         0,   0,   0,   0,   0,   0,   0,   0,   0,   0,   0,   0,   0,\n",
              "         0,   0,   0,   0,   0,   0,   0,   0,   0,   0,   0,   0,   0,\n",
              "         0,   0,   0,   0,   0,   0,   0,   0,   0,   0,   0,   0,   0,\n",
              "         0,   0,   0,   0,   0,   0,   0,   0,   0,   0,   0,   0,   0,\n",
              "         0,   0,   0,   0,   0,   0,   0,   0,   0,   0,   0,   0,   0,\n",
              "         0,   0,   0,   0,   0,   0,   0,   0,   0,   0,   0,   0,   0,\n",
              "         0,   0,   0,   0,   0,   0,   0,   0,   0,   0,   0,   0,   0,\n",
              "         0,   0,   0,   0,   0,   0,   0,   0,   0,   0,   0,   0,   0,\n",
              "         0,   0,   0,   0,   0,   0,   0,  84, 185, 159, 151,  60,  36,\n",
              "         0,   0,   0,   0,   0,   0,   0,   0,   0,   0,   0,   0,   0,\n",
              "         0,   0,   0,   0,   0,   0,   0,   0,   0, 222, 254, 254, 254,\n",
              "       254, 241, 198, 198, 198, 198, 198, 198, 198, 198, 170,  52,   0,\n",
              "         0,   0,   0,   0,   0,   0,   0,   0,   0,   0,   0,  67, 114,\n",
              "        72, 114, 163, 227, 254, 225, 254, 254, 254, 250, 229, 254, 254,\n",
              "       140,   0,   0,   0,   0,   0,   0,   0,   0,   0,   0,   0,   0,\n",
              "         0,   0,   0,   0,   0,  17,  66,  14,  67,  67,  67,  59,  21,\n",
              "       236, 254, 106,   0,   0,   0,   0,   0,   0,   0,   0,   0,   0,\n",
              "         0,   0,   0,   0,   0,   0,   0,   0,   0,   0,   0,   0,   0,\n",
              "         0,  83, 253, 209,  18,   0,   0,   0,   0,   0,   0,   0,   0,\n",
              "         0,   0,   0,   0,   0,   0,   0,   0,   0,   0,   0,   0,   0,\n",
              "         0,   0,  22, 233, 255,  83,   0,   0,   0,   0,   0,   0,   0,\n",
              "         0,   0,   0,   0,   0,   0,   0,   0,   0,   0,   0,   0,   0,\n",
              "         0,   0,   0,   0, 129, 254, 238,  44,   0,   0,   0,   0,   0,\n",
              "         0,   0,   0,   0,   0,   0,   0,   0,   0,   0,   0,   0,   0,\n",
              "         0,   0,   0,   0,   0,  59, 249, 254,  62,   0,   0,   0,   0,\n",
              "         0,   0,   0,   0,   0,   0,   0,   0,   0,   0,   0,   0,   0,\n",
              "         0,   0,   0,   0,   0,   0,   0, 133, 254, 187,   5,   0,   0,\n",
              "         0,   0,   0,   0,   0,   0,   0,   0,   0,   0,   0,   0,   0,\n",
              "         0,   0,   0,   0,   0,   0,   0,   0,   9, 205, 248,  58,   0,\n",
              "         0,   0,   0,   0,   0,   0,   0,   0,   0,   0,   0,   0,   0,\n",
              "         0,   0,   0,   0,   0,   0,   0,   0,   0,   0, 126, 254, 182,\n",
              "         0,   0,   0,   0,   0,   0,   0,   0,   0,   0,   0,   0,   0,\n",
              "         0,   0,   0,   0,   0,   0,   0,   0,   0,   0,   0,  75, 251,\n",
              "       240,  57,   0,   0,   0,   0,   0,   0,   0,   0,   0,   0,   0,\n",
              "         0,   0,   0,   0,   0,   0,   0,   0,   0,   0,   0,   0,  19,\n",
              "       221, 254, 166,   0,   0,   0,   0,   0,   0,   0,   0,   0,   0,\n",
              "         0,   0,   0,   0,   0,   0,   0,   0,   0,   0,   0,   0,   0,\n",
              "         3, 203, 254, 219,  35,   0,   0,   0,   0,   0,   0,   0,   0,\n",
              "         0,   0,   0,   0,   0,   0,   0,   0,   0,   0,   0,   0,   0,\n",
              "         0,   0,  38, 254, 254,  77,   0,   0,   0,   0,   0,   0,   0,\n",
              "         0,   0,   0,   0,   0,   0,   0,   0,   0,   0,   0,   0,   0,\n",
              "         0,   0,   0,  31, 224, 254, 115,   1,   0,   0,   0,   0,   0,\n",
              "         0,   0,   0,   0,   0,   0,   0,   0,   0,   0,   0,   0,   0,\n",
              "         0,   0,   0,   0,   0, 133, 254, 254,  52,   0,   0,   0,   0,\n",
              "         0,   0,   0,   0,   0,   0,   0,   0,   0,   0,   0,   0,   0,\n",
              "         0,   0,   0,   0,   0,   0,  61, 242, 254, 254,  52,   0,   0,\n",
              "         0,   0,   0,   0,   0,   0,   0,   0,   0,   0,   0,   0,   0,\n",
              "         0,   0,   0,   0,   0,   0,   0,   0, 121, 254, 254, 219,  40,\n",
              "         0,   0,   0,   0,   0,   0,   0,   0,   0,   0,   0,   0,   0,\n",
              "         0,   0,   0,   0,   0,   0,   0,   0,   0,   0, 121, 254, 207,\n",
              "        18,   0,   0,   0,   0,   0,   0,   0,   0,   0,   0,   0,   0,\n",
              "         0,   0,   0,   0,   0,   0,   0,   0,   0,   0,   0,   0,   0,\n",
              "         0,   0,   0,   0,   0,   0,   0,   0,   0,   0,   0,   0,   0,\n",
              "         0,   0,   0,   0], dtype=uint8)"
            ]
          },
          "metadata": {
            "tags": []
          },
          "execution_count": 110
        }
      ]
    },
    {
      "cell_type": "code",
      "metadata": {
        "id": "qVcA2DhWXEA1",
        "colab_type": "code",
        "colab": {
          "base_uri": "https://localhost:8080/",
          "height": 34
        },
        "outputId": "e9758c49-4fd7-4042-e785-10a97951e83e"
      },
      "source": [
        "tsne_y_train[0]"
      ],
      "execution_count": 111,
      "outputs": [
        {
          "output_type": "execute_result",
          "data": {
            "text/plain": [
              "5"
            ]
          },
          "metadata": {
            "tags": []
          },
          "execution_count": 111
        }
      ]
    },
    {
      "cell_type": "code",
      "metadata": {
        "id": "QMXwOERRXHMf",
        "colab_type": "code",
        "colab": {
          "base_uri": "https://localhost:8080/",
          "height": 34
        },
        "outputId": "30252519-01ae-4428-e319-4c1efdc3b5a0"
      },
      "source": [
        "tsne_y_test[0]"
      ],
      "execution_count": 112,
      "outputs": [
        {
          "output_type": "execute_result",
          "data": {
            "text/plain": [
              "7"
            ]
          },
          "metadata": {
            "tags": []
          },
          "execution_count": 112
        }
      ]
    },
    {
      "cell_type": "code",
      "metadata": {
        "id": "iv1CDSulBeAJ",
        "colab_type": "code",
        "colab": {}
      },
      "source": [
        "from sklearn.manifold import TSNE\n",
        "\n",
        "\n",
        "tsne = TSNE(n_components=2, random_state=42)\n",
        "tsne_x_train_reduced = tsne.fit_transform(tsne_x_train)\n",
        "tsne_x_test_reduced = tsne.fit_transform(tsne_x_test)"
      ],
      "execution_count": 0,
      "outputs": []
    },
    {
      "cell_type": "markdown",
      "metadata": {
        "id": "THwHIu-sWd9I",
        "colab_type": "text"
      },
      "source": [
        "Check the data after applying tSNE"
      ]
    },
    {
      "cell_type": "code",
      "metadata": {
        "id": "gp0W2IWzsI8H",
        "colab_type": "code",
        "colab": {
          "base_uri": "https://localhost:8080/",
          "height": 34
        },
        "outputId": "b4164dd1-9c19-4c8b-f91b-590fa8b65f05"
      },
      "source": [
        "tsne_x_train_reduced.shape"
      ],
      "execution_count": 114,
      "outputs": [
        {
          "output_type": "execute_result",
          "data": {
            "text/plain": [
              "(1000, 2)"
            ]
          },
          "metadata": {
            "tags": []
          },
          "execution_count": 114
        }
      ]
    },
    {
      "cell_type": "code",
      "metadata": {
        "id": "dakWsevqVxvI",
        "colab_type": "code",
        "colab": {
          "base_uri": "https://localhost:8080/",
          "height": 34
        },
        "outputId": "3f734ecb-7e04-4f02-b7a7-f057eadc9279"
      },
      "source": [
        "tsne_x_train_reduced[0]"
      ],
      "execution_count": 115,
      "outputs": [
        {
          "output_type": "execute_result",
          "data": {
            "text/plain": [
              "array([-15.668859, -13.853779], dtype=float32)"
            ]
          },
          "metadata": {
            "tags": []
          },
          "execution_count": 115
        }
      ]
    },
    {
      "cell_type": "code",
      "metadata": {
        "id": "vWHlWJE8Wj5u",
        "colab_type": "code",
        "colab": {
          "base_uri": "https://localhost:8080/",
          "height": 140
        },
        "outputId": "de66e7d2-1619-4a99-ff4a-971c9584377b"
      },
      "source": [
        "tsne_x_test_reduced = np.vstack((tsne_x_train_reduced.T,tsne_y_train)).T\n",
        "tsne_x_test_reduced"
      ],
      "execution_count": 117,
      "outputs": [
        {
          "output_type": "execute_result",
          "data": {
            "text/plain": [
              "array([[-15.668859, -13.853779,   5.      ],\n",
              "       [-14.389568, -51.05654 ,   0.      ],\n",
              "       [-17.825314,  35.448936,   4.      ],\n",
              "       ...,\n",
              "       [ -7.800721, -44.89403 ,   0.      ],\n",
              "       [-22.904373, -11.081624,   3.      ],\n",
              "       [  6.993752, -37.547657,   6.      ]], dtype=float32)"
            ]
          },
          "metadata": {
            "tags": []
          },
          "execution_count": 117
        }
      ]
    },
    {
      "cell_type": "code",
      "metadata": {
        "id": "V8-BNuMqa8L7",
        "colab_type": "code",
        "colab": {
          "base_uri": "https://localhost:8080/",
          "height": 195
        },
        "outputId": "eb46cc34-7544-4ea1-e013-9961984bdeb4"
      },
      "source": [
        "import pandas as pd\n",
        "\n",
        "tsne_pdf = pd.DataFrame(data=tsne_x_test_reduced, columns=('col1','col2','label'))\n",
        "tsne_pdf.head()"
      ],
      "execution_count": 120,
      "outputs": [
        {
          "output_type": "execute_result",
          "data": {
            "text/html": [
              "<div>\n",
              "<style scoped>\n",
              "    .dataframe tbody tr th:only-of-type {\n",
              "        vertical-align: middle;\n",
              "    }\n",
              "\n",
              "    .dataframe tbody tr th {\n",
              "        vertical-align: top;\n",
              "    }\n",
              "\n",
              "    .dataframe thead th {\n",
              "        text-align: right;\n",
              "    }\n",
              "</style>\n",
              "<table border=\"1\" class=\"dataframe\">\n",
              "  <thead>\n",
              "    <tr style=\"text-align: right;\">\n",
              "      <th></th>\n",
              "      <th>col1</th>\n",
              "      <th>col2</th>\n",
              "      <th>label</th>\n",
              "    </tr>\n",
              "  </thead>\n",
              "  <tbody>\n",
              "    <tr>\n",
              "      <th>0</th>\n",
              "      <td>-15.668859</td>\n",
              "      <td>-13.853779</td>\n",
              "      <td>5.0</td>\n",
              "    </tr>\n",
              "    <tr>\n",
              "      <th>1</th>\n",
              "      <td>-14.389568</td>\n",
              "      <td>-51.056541</td>\n",
              "      <td>0.0</td>\n",
              "    </tr>\n",
              "    <tr>\n",
              "      <th>2</th>\n",
              "      <td>-17.825314</td>\n",
              "      <td>35.448936</td>\n",
              "      <td>4.0</td>\n",
              "    </tr>\n",
              "    <tr>\n",
              "      <th>3</th>\n",
              "      <td>22.555698</td>\n",
              "      <td>9.680719</td>\n",
              "      <td>1.0</td>\n",
              "    </tr>\n",
              "    <tr>\n",
              "      <th>4</th>\n",
              "      <td>1.181254</td>\n",
              "      <td>29.461842</td>\n",
              "      <td>9.0</td>\n",
              "    </tr>\n",
              "  </tbody>\n",
              "</table>\n",
              "</div>"
            ],
            "text/plain": [
              "        col1       col2  label\n",
              "0 -15.668859 -13.853779    5.0\n",
              "1 -14.389568 -51.056541    0.0\n",
              "2 -17.825314  35.448936    4.0\n",
              "3  22.555698   9.680719    1.0\n",
              "4   1.181254  29.461842    9.0"
            ]
          },
          "metadata": {
            "tags": []
          },
          "execution_count": 120
        }
      ]
    },
    {
      "cell_type": "markdown",
      "metadata": {
        "id": "c0OmsOpNeqEv",
        "colab_type": "text"
      },
      "source": [
        "Display the scatter plot for the tsne_x_training"
      ]
    },
    {
      "cell_type": "code",
      "metadata": {
        "id": "LqZ-DD3IbaVu",
        "colab_type": "code",
        "colab": {
          "base_uri": "https://localhost:8080/",
          "height": 512
        },
        "outputId": "599beb5e-e272-4364-e594-63f6b0645ba8"
      },
      "source": [
        "import seaborn as sns\n",
        "\n",
        "sns.FacetGrid(tsne_pdf,hue='label',size = 6).map(plt.scatter,'col1','col2')\n",
        "plt.title(\"With perplexity 30, which is the default \")\n",
        "plt.legend()\n",
        "plt.show()\n"
      ],
      "execution_count": 137,
      "outputs": [
        {
          "output_type": "stream",
          "text": [
            "/usr/local/lib/python3.6/dist-packages/seaborn/axisgrid.py:244: UserWarning: The `size` parameter has been renamed to `height`; please update your code.\n",
            "  warnings.warn(msg, UserWarning)\n"
          ],
          "name": "stderr"
        },
        {
          "output_type": "display_data",
          "data": {
            "image/png": "[encoded data removed]",
            "text/plain": [
              "<Figure size 432x432 with 1 Axes>"
            ]
          },
          "metadata": {
            "tags": []
          }
        }
      ]
    },
    {
      "cell_type": "code",
      "metadata": {
        "id": "JUZQb9n8e48P",
        "colab_type": "code",
        "colab": {
          "base_uri": "https://localhost:8080/",
          "height": 512
        },
        "outputId": "97194330-8642-4d3a-a22e-c2dd162bce38"
      },
      "source": [
        "import seaborn as sns\n",
        "\n",
        "tsne = TSNE(n_components=2, random_state=42,perplexity=70)\n",
        "tsne_x_train_reduced = tsne.fit_transform(tsne_x_train)\n",
        "tsne_x_test_reduced = tsne.fit_transform(tsne_x_test)\n",
        "\n",
        "tsne_x_test_reduced = np.vstack((tsne_x_train_reduced.T,tsne_y_train)).T\n",
        "\n",
        "\n",
        "sns.FacetGrid(tsne_pdf,hue='label',size = 6).map(plt.scatter,'col1','col2')\n",
        "plt.title(\"With perplexity 70\")\n",
        "plt.legend()\n",
        "plt.show()"
      ],
      "execution_count": 135,
      "outputs": [
        {
          "output_type": "stream",
          "text": [
            "/usr/local/lib/python3.6/dist-packages/seaborn/axisgrid.py:244: UserWarning: The `size` parameter has been renamed to `height`; please update your code.\n",
            "  warnings.warn(msg, UserWarning)\n"
          ],
          "name": "stderr"
        },
        {
          "output_type": "display_data",
          "data": {
            "image/png": "[encoded data removed]",
            "text/plain": [
              "<Figure size 432x432 with 1 Axes>"
            ]
          },
          "metadata": {
            "tags": []
          }
        }
      ]
    },
    {
      "cell_type": "code",
      "metadata": {
        "id": "uyPBvkUDfu7k",
        "colab_type": "code",
        "colab": {
          "base_uri": "https://localhost:8080/",
          "height": 512
        },
        "outputId": "93422c33-eb9e-4b75-dcb1-17316b1ecc29"
      },
      "source": [
        "import seaborn as sns\n",
        "\n",
        "tsne = TSNE(n_components=2, random_state=42,perplexity=200)\n",
        "tsne_x_train_reduced = tsne.fit_transform(tsne_x_train)\n",
        "tsne_x_test_reduced = tsne.fit_transform(tsne_x_test)\n",
        "\n",
        "tsne_x_test_reduced = np.vstack((tsne_x_train_reduced.T,tsne_y_train)).T\n",
        "\n",
        "\n",
        "sns.FacetGrid(tsne_pdf,hue='label',size = 6).map(plt.scatter,'col1','col2')\n",
        "plt.title(\"With perplexity 200\")\n",
        "plt.legend()\n",
        "plt.show()"
      ],
      "execution_count": 136,
      "outputs": [
        {
          "output_type": "stream",
          "text": [
            "/usr/local/lib/python3.6/dist-packages/seaborn/axisgrid.py:244: UserWarning: The `size` parameter has been renamed to `height`; please update your code.\n",
            "  warnings.warn(msg, UserWarning)\n"
          ],
          "name": "stderr"
        },
        {
          "output_type": "display_data",
          "data": {
            "image/png": "[encoded data removed]",
            "text/plain": [
              "<Figure size 432x432 with 1 Axes>"
            ]
          },
          "metadata": {
            "tags": []
          }
        }
      ]
    },
    {
      "cell_type": "markdown",
      "metadata": {
        "id": "sXWO8ik1gNwM",
        "colab_type": "text"
      },
      "source": [
        "Refrences\n",
        "\n",
        "\n",
        "\n",
        "*   https://github.com/ageron/handson-ml/blob/master08_dimensionality_reduction.ipynb\n",
        "*   https://scikit-learn.org/\n",
        "*   https://www.youtube.com/watch?v=eDGWcIt10d8\n",
        "*   https://seaborn.pydata.org/generated/seaborn.FacetGrid.html\n",
        "\n"
      ]
    }
  ]
}