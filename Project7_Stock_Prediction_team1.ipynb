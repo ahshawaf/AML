{
  "nbformat": 4,
  "nbformat_minor": 0,
  "metadata": {
    "colab": {
      "name": "Project7_Stock_Prediction_team1.ipynb",
      "provenance": [],
      "collapsed_sections": [],
      "include_colab_link": true
    },
    "kernelspec": {
      "name": "python3",
      "display_name": "Python 3"
    }
  },
  "cells": [
    {
      "cell_type": "markdown",
      "metadata": {
        "id": "view-in-github",
        "colab_type": "text"
      },
      "source": [
        "<a href=\"https://colab.research.google.com/github/ahshawaf/AML/blob/project7/Project7_Stock_Prediction_team1.ipynb\" target=\"_parent\"><img src=\"https://colab.research.google.com/assets/colab-badge.svg\" alt=\"Open In Colab\"/></a>"
      ]
    },
    {
      "cell_type": "markdown",
      "metadata": {
        "id": "aJ0DfM6ZVu8y",
        "colab_type": "text"
      },
      "source": [
        "![alt text](https://dataanalyticsedge.com/wp-content/uploads/2019/11/stocks_BSE_Nifty_Sensex__markets_bse_nse_nifty-1_1280-770x433.jpg)\n",
        "\n",
        "Predicting how the stock market will perform is one of the most difficult things to do. There are so many factors involved in the prediction – physical factors vs. physhological, rational and irrational behaviour, etc. All these aspects combine to make share prices volatile and very difficult to predict with a high degree of accuracy.\n",
        "\n",
        "Can we use machine learning as a game changer in this domain? In this project, historical stock prices data of Apple and Amazon company, from 2006 to 2017, were used for experimentation, using machine learning techniques, such as RNN, LSTM, and GRU.\n"
      ]
    },
    {
      "cell_type": "markdown",
      "metadata": {
        "id": "oIxcpnqOs7NV",
        "colab_type": "text"
      },
      "source": [
        "#Setup"
      ]
    },
    {
      "cell_type": "code",
      "metadata": {
        "id": "b6Ee4UEssJV3",
        "colab_type": "code",
        "outputId": "ef8da717-7a75-4ef9-c82a-15fc22a107fa",
        "colab": {
          "base_uri": "https://localhost:8080/",
          "height": 104
        }
      },
      "source": [
        "# Common Import\n",
        "import sklearn\n",
        "import pandas as pd\n",
        "import numpy as np\n",
        "\n",
        "# Algorithm libraries\n",
        "from keras.models import Sequential\n",
        "from keras.layers import Dense, Dropout, LSTM, GRU, Bidirectional\n",
        "from keras.optimizers import SGD\n",
        "\n",
        "from sklearn.preprocessing import MinMaxScaler\n",
        "from sklearn.metrics import mean_squared_error\n",
        "\n",
        "import math\n",
        "\n",
        "# Visaulization libraries\n",
        "import seaborn as sns\n",
        "%matplotlib inline\n",
        "import matplotlib.pyplot as plt\n",
        "plt.style.use(\"fivethirtyeight\")\n",
        "\n",
        "# Disable warnings\n",
        "import warnings\n",
        "warnings.filterwarnings('ignore')\n",
        "\n",
        "# sklearn version > 0.20 is required \n",
        "sklearn.__version__\n",
        "# Update sklearn -> !pip install -U scikit-learn"
      ],
      "execution_count": 1,
      "outputs": [
        {
          "output_type": "stream",
          "text": [
            "Using TensorFlow backend.\n",
            "/usr/local/lib/python3.6/dist-packages/statsmodels/tools/_testing.py:19: FutureWarning: pandas.util.testing is deprecated. Use the functions in the public API at pandas.testing instead.\n",
            "  import pandas.util.testing as tm\n"
          ],
          "name": "stderr"
        },
        {
          "output_type": "execute_result",
          "data": {
            "text/plain": [
              "'0.22.2.post1'"
            ]
          },
          "metadata": {
            "tags": []
          },
          "execution_count": 1
        }
      ]
    },
    {
      "cell_type": "markdown",
      "metadata": {
        "id": "Jd0nLQnlurxZ",
        "colab_type": "text"
      },
      "source": [
        "#Load Data"
      ]
    },
    {
      "cell_type": "code",
      "metadata": {
        "id": "4Be6vr26uqfm",
        "colab_type": "code",
        "colab": {}
      },
      "source": [
        "apple_stock = pd.read_csv('https://raw.githubusercontent.com/seansothey/CSC685/master/AAPL_2006-01-01_to_2018-01-01.csv',index_col='Date', parse_dates=[\"Date\"]) "
      ],
      "execution_count": 0,
      "outputs": []
    },
    {
      "cell_type": "code",
      "metadata": {
        "id": "d89wRAHRv2ZM",
        "colab_type": "code",
        "outputId": "cd95f7a5-badf-41af-8d46-32e864901bab",
        "colab": {
          "base_uri": "https://localhost:8080/",
          "height": 431
        }
      },
      "source": [
        "apple_stock"
      ],
      "execution_count": 3,
      "outputs": [
        {
          "output_type": "execute_result",
          "data": {
            "text/html": [
              "<div>\n",
              "<style scoped>\n",
              "    .dataframe tbody tr th:only-of-type {\n",
              "        vertical-align: middle;\n",
              "    }\n",
              "\n",
              "    .dataframe tbody tr th {\n",
              "        vertical-align: top;\n",
              "    }\n",
              "\n",
              "    .dataframe thead th {\n",
              "        text-align: right;\n",
              "    }\n",
              "</style>\n",
              "<table border=\"1\" class=\"dataframe\">\n",
              "  <thead>\n",
              "    <tr style=\"text-align: right;\">\n",
              "      <th></th>\n",
              "      <th>Open</th>\n",
              "      <th>High</th>\n",
              "      <th>Low</th>\n",
              "      <th>Close</th>\n",
              "      <th>Volume</th>\n",
              "      <th>Name</th>\n",
              "    </tr>\n",
              "    <tr>\n",
              "      <th>Date</th>\n",
              "      <th></th>\n",
              "      <th></th>\n",
              "      <th></th>\n",
              "      <th></th>\n",
              "      <th></th>\n",
              "      <th></th>\n",
              "    </tr>\n",
              "  </thead>\n",
              "  <tbody>\n",
              "    <tr>\n",
              "      <th>2006-01-03</th>\n",
              "      <td>10.34</td>\n",
              "      <td>10.68</td>\n",
              "      <td>10.32</td>\n",
              "      <td>10.68</td>\n",
              "      <td>201853036</td>\n",
              "      <td>AAPL</td>\n",
              "    </tr>\n",
              "    <tr>\n",
              "      <th>2006-01-04</th>\n",
              "      <td>10.73</td>\n",
              "      <td>10.85</td>\n",
              "      <td>10.64</td>\n",
              "      <td>10.71</td>\n",
              "      <td>155225609</td>\n",
              "      <td>AAPL</td>\n",
              "    </tr>\n",
              "    <tr>\n",
              "      <th>2006-01-05</th>\n",
              "      <td>10.69</td>\n",
              "      <td>10.70</td>\n",
              "      <td>10.54</td>\n",
              "      <td>10.63</td>\n",
              "      <td>112396081</td>\n",
              "      <td>AAPL</td>\n",
              "    </tr>\n",
              "    <tr>\n",
              "      <th>2006-01-06</th>\n",
              "      <td>10.75</td>\n",
              "      <td>10.96</td>\n",
              "      <td>10.65</td>\n",
              "      <td>10.90</td>\n",
              "      <td>176139334</td>\n",
              "      <td>AAPL</td>\n",
              "    </tr>\n",
              "    <tr>\n",
              "      <th>2006-01-09</th>\n",
              "      <td>10.96</td>\n",
              "      <td>11.03</td>\n",
              "      <td>10.82</td>\n",
              "      <td>10.86</td>\n",
              "      <td>168861224</td>\n",
              "      <td>AAPL</td>\n",
              "    </tr>\n",
              "    <tr>\n",
              "      <th>...</th>\n",
              "      <td>...</td>\n",
              "      <td>...</td>\n",
              "      <td>...</td>\n",
              "      <td>...</td>\n",
              "      <td>...</td>\n",
              "      <td>...</td>\n",
              "    </tr>\n",
              "    <tr>\n",
              "      <th>2017-12-22</th>\n",
              "      <td>174.68</td>\n",
              "      <td>175.42</td>\n",
              "      <td>174.50</td>\n",
              "      <td>175.01</td>\n",
              "      <td>16349444</td>\n",
              "      <td>AAPL</td>\n",
              "    </tr>\n",
              "    <tr>\n",
              "      <th>2017-12-26</th>\n",
              "      <td>170.80</td>\n",
              "      <td>171.47</td>\n",
              "      <td>169.68</td>\n",
              "      <td>170.57</td>\n",
              "      <td>33185536</td>\n",
              "      <td>AAPL</td>\n",
              "    </tr>\n",
              "    <tr>\n",
              "      <th>2017-12-27</th>\n",
              "      <td>170.10</td>\n",
              "      <td>170.78</td>\n",
              "      <td>169.71</td>\n",
              "      <td>170.60</td>\n",
              "      <td>21498213</td>\n",
              "      <td>AAPL</td>\n",
              "    </tr>\n",
              "    <tr>\n",
              "      <th>2017-12-28</th>\n",
              "      <td>171.00</td>\n",
              "      <td>171.85</td>\n",
              "      <td>170.48</td>\n",
              "      <td>171.08</td>\n",
              "      <td>16480187</td>\n",
              "      <td>AAPL</td>\n",
              "    </tr>\n",
              "    <tr>\n",
              "      <th>2017-12-29</th>\n",
              "      <td>170.52</td>\n",
              "      <td>170.59</td>\n",
              "      <td>169.22</td>\n",
              "      <td>169.23</td>\n",
              "      <td>25999922</td>\n",
              "      <td>AAPL</td>\n",
              "    </tr>\n",
              "  </tbody>\n",
              "</table>\n",
              "<p>3019 rows × 6 columns</p>\n",
              "</div>"
            ],
            "text/plain": [
              "              Open    High     Low   Close     Volume  Name\n",
              "Date                                                       \n",
              "2006-01-03   10.34   10.68   10.32   10.68  201853036  AAPL\n",
              "2006-01-04   10.73   10.85   10.64   10.71  155225609  AAPL\n",
              "2006-01-05   10.69   10.70   10.54   10.63  112396081  AAPL\n",
              "2006-01-06   10.75   10.96   10.65   10.90  176139334  AAPL\n",
              "2006-01-09   10.96   11.03   10.82   10.86  168861224  AAPL\n",
              "...            ...     ...     ...     ...        ...   ...\n",
              "2017-12-22  174.68  175.42  174.50  175.01   16349444  AAPL\n",
              "2017-12-26  170.80  171.47  169.68  170.57   33185536  AAPL\n",
              "2017-12-27  170.10  170.78  169.71  170.60   21498213  AAPL\n",
              "2017-12-28  171.00  171.85  170.48  171.08   16480187  AAPL\n",
              "2017-12-29  170.52  170.59  169.22  169.23   25999922  AAPL\n",
              "\n",
              "[3019 rows x 6 columns]"
            ]
          },
          "metadata": {
            "tags": []
          },
          "execution_count": 3
        }
      ]
    },
    {
      "cell_type": "markdown",
      "metadata": {
        "id": "GmIEwhXF5qi2",
        "colab_type": "text"
      },
      "source": [
        "Check if there're missing data"
      ]
    },
    {
      "cell_type": "code",
      "metadata": {
        "id": "JuOOhchc5q7Y",
        "colab_type": "code",
        "outputId": "dd483eee-9173-4db0-ef01-59d9d922c594",
        "colab": {
          "base_uri": "https://localhost:8080/",
          "height": 134
        }
      },
      "source": [
        "apple_stock.isna().sum()"
      ],
      "execution_count": 4,
      "outputs": [
        {
          "output_type": "execute_result",
          "data": {
            "text/plain": [
              "Open      0\n",
              "High      0\n",
              "Low       0\n",
              "Close     0\n",
              "Volume    0\n",
              "Name      0\n",
              "dtype: int64"
            ]
          },
          "metadata": {
            "tags": []
          },
          "execution_count": 4
        }
      ]
    },
    {
      "cell_type": "markdown",
      "metadata": {
        "id": "Bn06gruX6puc",
        "colab_type": "text"
      },
      "source": [
        "No missing values. GREAT !!!"
      ]
    },
    {
      "cell_type": "markdown",
      "metadata": {
        "id": "AczLNf8uvsc5",
        "colab_type": "text"
      },
      "source": [
        "The assignment promts to use 12 motnths record; therefore, let's use data in 2016 as a training set and 2017 as a test set, by using only price 'High' column"
      ]
    },
    {
      "cell_type": "code",
      "metadata": {
        "id": "h0Yb9zJkvpxP",
        "colab_type": "code",
        "colab": {}
      },
      "source": [
        "train_2016 = apple_stock[:'2016'].iloc[:,1:2].values\n",
        "test_2017 = apple_stock['2017':].iloc[:,1:2].values"
      ],
      "execution_count": 0,
      "outputs": []
    },
    {
      "cell_type": "code",
      "metadata": {
        "id": "lyfqTDmD8Rcl",
        "colab_type": "code",
        "outputId": "f5db1e12-6390-481f-d868-b6e1c05553ae",
        "colab": {
          "base_uri": "https://localhost:8080/",
          "height": 34
        }
      },
      "source": [
        "train_2016.shape, test_2017.shape"
      ],
      "execution_count": 10,
      "outputs": [
        {
          "output_type": "execute_result",
          "data": {
            "text/plain": [
              "((2768, 1), (251, 1))"
            ]
          },
          "metadata": {
            "tags": []
          },
          "execution_count": 10
        }
      ]
    },
    {
      "cell_type": "markdown",
      "metadata": {
        "id": "xNB1reInyxMh",
        "colab_type": "text"
      },
      "source": [
        "###Visualization of \"High\" attribute"
      ]
    },
    {
      "cell_type": "code",
      "metadata": {
        "id": "occj27yo3q1r",
        "colab_type": "code",
        "outputId": "bef87abc-1e36-4bff-e5b2-d175e58850ab",
        "colab": {
          "base_uri": "https://localhost:8080/",
          "height": 384
        }
      },
      "source": [
        "apple_stock[\"High\"][:'2016'].plot(figsize=(16,6), legend=True)\n",
        "apple_stock[\"High\"][\"2017\":].plot(figsize=(16,6), legend=True)\n",
        "plt.legend([\"Price 'High' 2016\", \"Price 'High' 2017\"])\n",
        "plt.title(\"Apple Stock\")\n",
        "plt.show()"
      ],
      "execution_count": 11,
      "outputs": [
        {
          "output_type": "display_data",
          "data": {
            "image/png": "[encoded data removed]",
            "text/plain": [
              "<Figure size 1152x432 with 1 Axes>"
            ]
          },
          "metadata": {
            "tags": [],
            "needs_background": "light"
          }
        }
      ]
    },
    {
      "cell_type": "markdown",
      "metadata": {
        "id": "W6Qi1G4u7DkA",
        "colab_type": "text"
      },
      "source": [
        "###Scale the training set"
      ]
    },
    {
      "cell_type": "code",
      "metadata": {
        "id": "--e8WIL263UQ",
        "colab_type": "code",
        "colab": {}
      },
      "source": [
        "sc = MinMaxScaler(feature_range=(0,1))\n",
        "train_sc = sc.fit_transform(train_2016)"
      ],
      "execution_count": 0,
      "outputs": []
    },
    {
      "cell_type": "markdown",
      "metadata": {
        "id": "7uuO76A39Fai",
        "colab_type": "text"
      },
      "source": [
        "###Create traininig set for LSTM with X=10 days for each output y"
      ]
    },
    {
      "cell_type": "code",
      "metadata": {
        "id": "5HfjvrxW63SF",
        "colab_type": "code",
        "colab": {}
      },
      "source": [
        "X_train = []\n",
        "y_train = []\n",
        "\n",
        "for i in range(10,train_2016.shape[0]):\n",
        "    X_train.append(train_sc[i-10:i, 0])\n",
        "    y_train.append(train_sc[i,0])\n",
        "\n",
        "X_train, y_train = np.array(X_train), np.array(y_train)"
      ],
      "execution_count": 0,
      "outputs": []
    },
    {
      "cell_type": "code",
      "metadata": {
        "id": "0biOwdNH63Ml",
        "colab_type": "code",
        "outputId": "98b69b5f-c58d-4dfa-d687-457e2ca8b0f4",
        "colab": {
          "base_uri": "https://localhost:8080/",
          "height": 50
        }
      },
      "source": [
        "X_train[0] # 10 days data"
      ],
      "execution_count": 16,
      "outputs": [
        {
          "output_type": "execute_result",
          "data": {
            "text/plain": [
              "array([0.0245708 , 0.02590959, 0.0247283 , 0.02677587, 0.02732714,\n",
              "       0.03260356, 0.03583241, 0.03764372, 0.03724996, 0.03764372])"
            ]
          },
          "metadata": {
            "tags": []
          },
          "execution_count": 16
        }
      ]
    },
    {
      "cell_type": "code",
      "metadata": {
        "id": "xD0AkE2K-lwj",
        "colab_type": "code",
        "outputId": "78f47154-2aba-4f88-a8ac-217b7268c25d",
        "colab": {
          "base_uri": "https://localhost:8080/",
          "height": 34
        }
      },
      "source": [
        "y_train[0]"
      ],
      "execution_count": 17,
      "outputs": [
        {
          "output_type": "execute_result",
          "data": {
            "text/plain": [
              "0.035044888958891164"
            ]
          },
          "metadata": {
            "tags": []
          },
          "execution_count": 17
        }
      ]
    },
    {
      "cell_type": "code",
      "metadata": {
        "id": "UXFx2WXo-0zq",
        "colab_type": "code",
        "outputId": "b14d2c84-f2b0-494e-a82f-4cfdbeea5abc",
        "colab": {
          "base_uri": "https://localhost:8080/",
          "height": 34
        }
      },
      "source": [
        "X_train.shape, y_train.shape"
      ],
      "execution_count": 18,
      "outputs": [
        {
          "output_type": "execute_result",
          "data": {
            "text/plain": [
              "((2758, 10), (2758,))"
            ]
          },
          "metadata": {
            "tags": []
          },
          "execution_count": 18
        }
      ]
    },
    {
      "cell_type": "code",
      "metadata": {
        "id": "08PHbiXS_NT8",
        "colab_type": "code",
        "colab": {}
      },
      "source": [
        "# Reshape X_train for efficient modelling\n",
        "\n",
        "X_train = np.reshape(X_train, (X_train.shape[0], X_train.shape[1], 1))"
      ],
      "execution_count": 0,
      "outputs": []
    },
    {
      "cell_type": "code",
      "metadata": {
        "id": "WpicnUQl_Nkp",
        "colab_type": "code",
        "outputId": "5b7a8dcf-2600-41ef-e3b8-dde41470a6d3",
        "colab": {
          "base_uri": "https://localhost:8080/",
          "height": 34
        }
      },
      "source": [
        "X_train.shape"
      ],
      "execution_count": 20,
      "outputs": [
        {
          "output_type": "execute_result",
          "data": {
            "text/plain": [
              "(2758, 10, 1)"
            ]
          },
          "metadata": {
            "tags": []
          },
          "execution_count": 20
        }
      ]
    },
    {
      "cell_type": "markdown",
      "metadata": {
        "id": "Dfk5bxrYAAOT",
        "colab_type": "text"
      },
      "source": [
        "#LSTM's model"
      ]
    },
    {
      "cell_type": "code",
      "metadata": {
        "id": "gH4xZWQtAG9a",
        "colab_type": "code",
        "colab": {}
      },
      "source": [
        "regressor = Sequential()\n",
        "\n",
        "# add first layer with dropout\n",
        "regressor.add(LSTM(units=50, return_sequences=True, input_shape=(X_train.shape[1],1)))\n",
        "regressor.add(Dropout(0.2))\n",
        "\n",
        "# add second layer\n",
        "regressor.add(LSTM(units=50, return_sequences=True))\n",
        "regressor.add(Dropout(0.2))\n",
        "\n",
        "# add third layer\n",
        "regressor.add(LSTM(units=50, return_sequences=True))\n",
        "regressor.add(Dropout(0.2))\n",
        "\n",
        "# add fourth layer\n",
        "regressor.add(LSTM(units=50))\n",
        "regressor.add(Dropout(0.2))\n",
        "\n",
        "# the output layer\n",
        "regressor.add(Dense(units=1))"
      ],
      "execution_count": 0,
      "outputs": []
    },
    {
      "cell_type": "markdown",
      "metadata": {
        "id": "yIlUhQW7AoXt",
        "colab_type": "text"
      },
      "source": [
        "###Compile LSTM RNN network"
      ]
    },
    {
      "cell_type": "code",
      "metadata": {
        "id": "xa_ZZQLPAy8i",
        "colab_type": "code",
        "colab": {}
      },
      "source": [
        "regressor.compile(optimizer='rmsprop', loss='mean_squared_error')"
      ],
      "execution_count": 0,
      "outputs": []
    },
    {
      "cell_type": "markdown",
      "metadata": {
        "id": "yoR4JPBlA4ul",
        "colab_type": "text"
      },
      "source": [
        "###Fit the model with training set"
      ]
    },
    {
      "cell_type": "code",
      "metadata": {
        "id": "mfxlQlNpA2DZ",
        "colab_type": "code",
        "outputId": "8ac7a24a-7ef6-4740-d5c1-9c3f61c193d4",
        "colab": {
          "base_uri": "https://localhost:8080/",
          "height": 1000
        }
      },
      "source": [
        "regressor.fit(X_train, y_train, epochs=30, batch_size=32, validation_split=0.30)"
      ],
      "execution_count": 25,
      "outputs": [
        {
          "output_type": "stream",
          "text": [
            "Train on 1930 samples, validate on 828 samples\n",
            "Epoch 1/30\n",
            "1930/1930 [==============================] - 2s 927us/step - loss: 0.0014 - val_loss: 0.0034\n",
            "Epoch 2/30\n",
            "1930/1930 [==============================] - 2s 927us/step - loss: 0.0014 - val_loss: 0.0064\n",
            "Epoch 3/30\n",
            "1930/1930 [==============================] - 2s 949us/step - loss: 0.0012 - val_loss: 0.0088\n",
            "Epoch 4/30\n",
            "1930/1930 [==============================] - 2s 931us/step - loss: 0.0012 - val_loss: 0.0035\n",
            "Epoch 5/30\n",
            "1930/1930 [==============================] - 2s 926us/step - loss: 0.0010 - val_loss: 0.0560\n",
            "Epoch 6/30\n",
            "1930/1930 [==============================] - 2s 936us/step - loss: 0.0012 - val_loss: 0.0032\n",
            "Epoch 7/30\n",
            "1930/1930 [==============================] - 2s 929us/step - loss: 0.0011 - val_loss: 0.0109\n",
            "Epoch 8/30\n",
            "1930/1930 [==============================] - 2s 932us/step - loss: 0.0011 - val_loss: 0.0027\n",
            "Epoch 9/30\n",
            "1930/1930 [==============================] - 2s 928us/step - loss: 0.0011 - val_loss: 0.0042\n",
            "Epoch 10/30\n",
            "1930/1930 [==============================] - 2s 931us/step - loss: 0.0010 - val_loss: 0.0041\n",
            "Epoch 11/30\n",
            "1930/1930 [==============================] - 2s 935us/step - loss: 0.0011 - val_loss: 0.0122\n",
            "Epoch 12/30\n",
            "1930/1930 [==============================] - 2s 923us/step - loss: 0.0011 - val_loss: 0.0070\n",
            "Epoch 13/30\n",
            "1930/1930 [==============================] - 2s 931us/step - loss: 0.0011 - val_loss: 0.0073\n",
            "Epoch 14/30\n",
            "1930/1930 [==============================] - 2s 916us/step - loss: 9.9388e-04 - val_loss: 0.0178\n",
            "Epoch 15/30\n",
            "1930/1930 [==============================] - 2s 960us/step - loss: 9.5386e-04 - val_loss: 0.0096\n",
            "Epoch 16/30\n",
            "1930/1930 [==============================] - 2s 926us/step - loss: 9.5265e-04 - val_loss: 0.0082\n",
            "Epoch 17/30\n",
            "1930/1930 [==============================] - 2s 915us/step - loss: 8.4994e-04 - val_loss: 0.0160\n",
            "Epoch 18/30\n",
            "1930/1930 [==============================] - 2s 917us/step - loss: 9.8811e-04 - val_loss: 0.0097\n",
            "Epoch 19/30\n",
            "1930/1930 [==============================] - 2s 915us/step - loss: 9.0503e-04 - val_loss: 0.0086\n",
            "Epoch 20/30\n",
            "1930/1930 [==============================] - 2s 921us/step - loss: 8.4939e-04 - val_loss: 0.0109\n",
            "Epoch 21/30\n",
            "1930/1930 [==============================] - 2s 942us/step - loss: 9.4890e-04 - val_loss: 0.0101\n",
            "Epoch 22/30\n",
            "1930/1930 [==============================] - 2s 929us/step - loss: 9.0588e-04 - val_loss: 0.0307\n",
            "Epoch 23/30\n",
            "1930/1930 [==============================] - 2s 923us/step - loss: 8.1298e-04 - val_loss: 0.0088\n",
            "Epoch 24/30\n",
            "1930/1930 [==============================] - 2s 921us/step - loss: 8.5977e-04 - val_loss: 0.0124\n",
            "Epoch 25/30\n",
            "1930/1930 [==============================] - 2s 924us/step - loss: 8.4974e-04 - val_loss: 0.0136\n",
            "Epoch 26/30\n",
            "1930/1930 [==============================] - 2s 923us/step - loss: 7.9398e-04 - val_loss: 0.0101\n",
            "Epoch 27/30\n",
            "1930/1930 [==============================] - 2s 935us/step - loss: 8.3680e-04 - val_loss: 0.0130\n",
            "Epoch 28/30\n",
            "1930/1930 [==============================] - 2s 912us/step - loss: 8.1976e-04 - val_loss: 0.0073\n",
            "Epoch 29/30\n",
            "1930/1930 [==============================] - 2s 920us/step - loss: 8.2420e-04 - val_loss: 0.0158\n",
            "Epoch 30/30\n",
            "1930/1930 [==============================] - 2s 927us/step - loss: 8.4981e-04 - val_loss: 0.0134\n"
          ],
          "name": "stdout"
        },
        {
          "output_type": "execute_result",
          "data": {
            "text/plain": [
              "<keras.callbacks.callbacks.History at 0x7f296b610550>"
            ]
          },
          "metadata": {
            "tags": []
          },
          "execution_count": 25
        }
      ]
    },
    {
      "cell_type": "code",
      "metadata": {
        "id": "FrfHxQDAD45s",
        "colab_type": "code",
        "colab": {
          "base_uri": "https://localhost:8080/",
          "height": 333
        },
        "outputId": "b47288a1-af91-479e-addf-01dac441142f"
      },
      "source": [
        "plt.figure(figsize=(10,5))\n",
        "plt.plot(regressor.history.history['loss'], label='Training', color='blue')\n",
        "plt.plot(regressor.history.history['val_loss'], label='Validation', color='red')\n",
        "plt.legend()\n",
        "plt.title(\"Training Loss Vs Validation Loss\")\n",
        "plt.show()"
      ],
      "execution_count": 31,
      "outputs": [
        {
          "output_type": "display_data",
          "data": {
            "image/png": "[encoded data removed]",
            "text/plain": [
              "<Figure size 720x360 with 1 Axes>"
            ]
          },
          "metadata": {
            "tags": [],
            "needs_background": "light"
          }
        }
      ]
    },
    {
      "cell_type": "markdown",
      "metadata": {
        "id": "kx4Xy3TfB649",
        "colab_type": "text"
      },
      "source": [
        "###Preprocessing test set"
      ]
    },
    {
      "cell_type": "code",
      "metadata": {
        "id": "porgv8DoBFvP",
        "colab_type": "code",
        "outputId": "d56900dd-45a7-43e2-d57e-0139d55c13f1",
        "colab": {
          "base_uri": "https://localhost:8080/",
          "height": 67
        }
      },
      "source": [
        "data_concat = pd.concat((apple_stock['High'][:'2016'], apple_stock['High']['2017':]), axis=0)\n",
        "print(data_concat.shape)\n",
        "\n",
        "inputs = data_concat[len(data_concat)-len(test_2017)-10 : ].values\n",
        "print(inputs.shape)\n",
        "inputs = inputs.reshape(-1,1)\n",
        "inputs = sc.transform(inputs)\n",
        "print(inputs.shape)"
      ],
      "execution_count": 32,
      "outputs": [
        {
          "output_type": "stream",
          "text": [
            "(3019,)\n",
            "(261,)\n",
            "(261, 1)\n"
          ],
          "name": "stdout"
        }
      ]
    },
    {
      "cell_type": "code",
      "metadata": {
        "id": "um--L2JgDnXh",
        "colab_type": "code",
        "colab": {}
      },
      "source": [
        "X_test = []\n",
        "for i in range(10,inputs.shape[0]):\n",
        "    X_test.append(inputs[i-10:i, 0])\n",
        "    \n",
        "X_test = np.array(X_test)\n",
        "X_test = np.reshape(X_test, (X_test.shape[0], X_test.shape[1], 1))"
      ],
      "execution_count": 0,
      "outputs": []
    },
    {
      "cell_type": "markdown",
      "metadata": {
        "id": "9e9VgbMdEL8Q",
        "colab_type": "text"
      },
      "source": [
        "###Predict stock price in 2017"
      ]
    },
    {
      "cell_type": "code",
      "metadata": {
        "id": "B_6AB2roEMQq",
        "colab_type": "code",
        "colab": {}
      },
      "source": [
        "pred_lstm = regressor.predict(X_test)\n",
        "pred_lstm = sc.inverse_transform(pred_lstm)"
      ],
      "execution_count": 0,
      "outputs": []
    },
    {
      "cell_type": "markdown",
      "metadata": {
        "id": "PC0-JwFoEsVF",
        "colab_type": "text"
      },
      "source": [
        "###Plot prediction"
      ]
    },
    {
      "cell_type": "code",
      "metadata": {
        "id": "QA3h74riEu2G",
        "colab_type": "code",
        "colab": {}
      },
      "source": [
        "def plot_predictions(test, predicted):\n",
        "    plt.plot(test, color=\"red\", label=\"Actual\")\n",
        "    plt.plot(predicted, color=\"blue\", label=\"Predicted\")\n",
        "    plt.title(\"Apple stock price prediction\")\n",
        "    plt.xlabel(\"time\")\n",
        "    plt.ylabel(\"Apple stock price\")\n",
        "    plt.legend()\n",
        "    plt.show()"
      ],
      "execution_count": 0,
      "outputs": []
    },
    {
      "cell_type": "code",
      "metadata": {
        "id": "FLendr9fE2Tz",
        "colab_type": "code",
        "outputId": "42f89b54-afc2-4dd9-c8d2-a4d5309dc8a9",
        "colab": {
          "base_uri": "https://localhost:8080/",
          "height": 296
        }
      },
      "source": [
        "plot_predictions(test_2017, pred_lstm)"
      ],
      "execution_count": 38,
      "outputs": [
        {
          "output_type": "display_data",
          "data": {
            "image/png": "[encoded data removed]",
            "text/plain": [
              "<Figure size 432x288 with 1 Axes>"
            ]
          },
          "metadata": {
            "tags": [],
            "needs_background": "light"
          }
        }
      ]
    },
    {
      "cell_type": "markdown",
      "metadata": {
        "id": "s5sCgNs5F7cl",
        "colab_type": "text"
      },
      "source": [
        "###RMSE of the model"
      ]
    },
    {
      "cell_type": "code",
      "metadata": {
        "id": "2KQ3DpU_GGWt",
        "colab_type": "code",
        "colab": {}
      },
      "source": [
        "def return_rmse(test, predicted):\n",
        "    rmse = math.sqrt(mean_squared_error(test, predicted))\n",
        "    print(\"RMSE = {}.\".format(rmse))"
      ],
      "execution_count": 0,
      "outputs": []
    },
    {
      "cell_type": "code",
      "metadata": {
        "id": "KpsSm-NJF74i",
        "colab_type": "code",
        "outputId": "4a32bda4-f0d5-46a9-93cc-e53de0ff0314",
        "colab": {
          "base_uri": "https://localhost:8080/",
          "height": 34
        }
      },
      "source": [
        "return_rmse(test_2017, pred_lstm)"
      ],
      "execution_count": 40,
      "outputs": [
        {
          "output_type": "stream",
          "text": [
            "RMSE = 54.6580555788091.\n"
          ],
          "name": "stdout"
        }
      ]
    },
    {
      "cell_type": "markdown",
      "metadata": {
        "id": "ygI0zv9hJwaz",
        "colab_type": "text"
      },
      "source": [
        "#GRU's model"
      ]
    },
    {
      "cell_type": "code",
      "metadata": {
        "id": "pQSiivSlGUU3",
        "colab_type": "code",
        "colab": {}
      },
      "source": [
        "regressorGRU = Sequential()\n",
        "\n",
        "# First GRU layer with Dropout regularisation\n",
        "regressorGRU.add(GRU(units=50, return_sequences=True, input_shape=(X_train.shape[1],1), activation='tanh'))\n",
        "regressorGRU.add(Dropout(0.2))\n",
        "\n",
        "# Second GRU layer\n",
        "regressorGRU.add(GRU(units=50, return_sequences=True, input_shape=(X_train.shape[1],1), activation='tanh'))\n",
        "regressorGRU.add(Dropout(0.2))\n",
        "\n",
        "# Third GRU layer\n",
        "regressorGRU.add(GRU(units=50, return_sequences=True, input_shape=(X_train.shape[1],1), activation='tanh'))\n",
        "regressorGRU.add(Dropout(0.2))\n",
        "\n",
        "# Fourth GRU layer\n",
        "regressorGRU.add(GRU(units=50, activation='tanh'))\n",
        "regressorGRU.add(Dropout(0.2))\n",
        "\n",
        "# The output layer\n",
        "regressorGRU.add(Dense(units=1))"
      ],
      "execution_count": 0,
      "outputs": []
    },
    {
      "cell_type": "markdown",
      "metadata": {
        "id": "fT634bLzKZPM",
        "colab_type": "text"
      },
      "source": [
        "###Compile the model"
      ]
    },
    {
      "cell_type": "code",
      "metadata": {
        "id": "KeGhXBC4Kb2v",
        "colab_type": "code",
        "colab": {}
      },
      "source": [
        "regressorGRU.compile(optimizer=SGD(lr=0.01, decay=1e-7, momentum=0.9, nesterov=False), loss='mean_squared_error')"
      ],
      "execution_count": 0,
      "outputs": []
    },
    {
      "cell_type": "markdown",
      "metadata": {
        "id": "2_TO9BK-KhP1",
        "colab_type": "text"
      },
      "source": [
        "###Fit the model with training set"
      ]
    },
    {
      "cell_type": "code",
      "metadata": {
        "id": "tmNWSUgSKok6",
        "colab_type": "code",
        "outputId": "0402b990-da9c-4aef-80de-9267dc9f9eff",
        "colab": {
          "base_uri": "https://localhost:8080/",
          "height": 1000
        }
      },
      "source": [
        "regressorGRU.fit(X_train, y_train, epochs=30, batch_size=150, validation_split=0.30)"
      ],
      "execution_count": 47,
      "outputs": [
        {
          "output_type": "stream",
          "text": [
            "Train on 1930 samples, validate on 828 samples\n",
            "Epoch 1/30\n",
            "1930/1930 [==============================] - 1s 554us/step - loss: 9.6330e-04 - val_loss: 5.1582e-04\n",
            "Epoch 2/30\n",
            "1930/1930 [==============================] - 1s 451us/step - loss: 9.5425e-04 - val_loss: 5.1642e-04\n",
            "Epoch 3/30\n",
            "1930/1930 [==============================] - 1s 452us/step - loss: 9.2125e-04 - val_loss: 4.9113e-04\n",
            "Epoch 4/30\n",
            "1930/1930 [==============================] - 1s 445us/step - loss: 9.7212e-04 - val_loss: 5.4043e-04\n",
            "Epoch 5/30\n",
            "1930/1930 [==============================] - 1s 442us/step - loss: 9.2394e-04 - val_loss: 5.4962e-04\n",
            "Epoch 6/30\n",
            "1930/1930 [==============================] - 1s 447us/step - loss: 8.6994e-04 - val_loss: 6.4717e-04\n",
            "Epoch 7/30\n",
            "1930/1930 [==============================] - 1s 454us/step - loss: 9.0291e-04 - val_loss: 6.8455e-04\n",
            "Epoch 8/30\n",
            "1930/1930 [==============================] - 1s 453us/step - loss: 8.7874e-04 - val_loss: 7.4695e-04\n",
            "Epoch 9/30\n",
            "1930/1930 [==============================] - 1s 466us/step - loss: 8.7589e-04 - val_loss: 6.7072e-04\n",
            "Epoch 10/30\n",
            "1930/1930 [==============================] - 1s 443us/step - loss: 8.1643e-04 - val_loss: 6.3527e-04\n",
            "Epoch 11/30\n",
            "1930/1930 [==============================] - 1s 456us/step - loss: 7.9701e-04 - val_loss: 5.5377e-04\n",
            "Epoch 12/30\n",
            "1930/1930 [==============================] - 1s 444us/step - loss: 8.4307e-04 - val_loss: 5.5874e-04\n",
            "Epoch 13/30\n",
            "1930/1930 [==============================] - 1s 444us/step - loss: 7.8083e-04 - val_loss: 5.6340e-04\n",
            "Epoch 14/30\n",
            "1930/1930 [==============================] - 1s 453us/step - loss: 8.0165e-04 - val_loss: 5.4776e-04\n",
            "Epoch 15/30\n",
            "1930/1930 [==============================] - 1s 461us/step - loss: 8.1725e-04 - val_loss: 5.2448e-04\n",
            "Epoch 16/30\n",
            "1930/1930 [==============================] - 1s 453us/step - loss: 8.1790e-04 - val_loss: 4.8930e-04\n",
            "Epoch 17/30\n",
            "1930/1930 [==============================] - 1s 463us/step - loss: 7.7374e-04 - val_loss: 5.3533e-04\n",
            "Epoch 18/30\n",
            "1930/1930 [==============================] - 1s 464us/step - loss: 8.0643e-04 - val_loss: 5.3868e-04\n",
            "Epoch 19/30\n",
            "1930/1930 [==============================] - 1s 457us/step - loss: 8.0387e-04 - val_loss: 5.9167e-04\n",
            "Epoch 20/30\n",
            "1930/1930 [==============================] - 1s 461us/step - loss: 7.6389e-04 - val_loss: 6.7530e-04\n",
            "Epoch 21/30\n",
            "1930/1930 [==============================] - 1s 450us/step - loss: 7.7540e-04 - val_loss: 5.8368e-04\n",
            "Epoch 22/30\n",
            "1930/1930 [==============================] - 1s 458us/step - loss: 7.5321e-04 - val_loss: 6.9740e-04\n",
            "Epoch 23/30\n",
            "1930/1930 [==============================] - 1s 451us/step - loss: 7.4977e-04 - val_loss: 7.2211e-04\n",
            "Epoch 24/30\n",
            "1930/1930 [==============================] - 1s 448us/step - loss: 7.8480e-04 - val_loss: 7.9519e-04\n",
            "Epoch 25/30\n",
            "1930/1930 [==============================] - 1s 454us/step - loss: 7.1308e-04 - val_loss: 7.8729e-04\n",
            "Epoch 26/30\n",
            "1930/1930 [==============================] - 1s 446us/step - loss: 7.4386e-04 - val_loss: 6.8238e-04\n",
            "Epoch 27/30\n",
            "1930/1930 [==============================] - 1s 457us/step - loss: 8.2457e-04 - val_loss: 6.2162e-04\n",
            "Epoch 28/30\n",
            "1930/1930 [==============================] - 1s 447us/step - loss: 6.6878e-04 - val_loss: 6.2544e-04\n",
            "Epoch 29/30\n",
            "1930/1930 [==============================] - 1s 460us/step - loss: 7.1652e-04 - val_loss: 5.9832e-04\n",
            "Epoch 30/30\n",
            "1930/1930 [==============================] - 1s 453us/step - loss: 7.0706e-04 - val_loss: 6.3473e-04\n"
          ],
          "name": "stdout"
        },
        {
          "output_type": "execute_result",
          "data": {
            "text/plain": [
              "<keras.callbacks.callbacks.History at 0x7f296af259b0>"
            ]
          },
          "metadata": {
            "tags": []
          },
          "execution_count": 47
        }
      ]
    },
    {
      "cell_type": "code",
      "metadata": {
        "id": "11mKLvcFHijJ",
        "colab_type": "code",
        "colab": {
          "base_uri": "https://localhost:8080/",
          "height": 333
        },
        "outputId": "a1c52945-585a-4848-a2f2-f4178cde89a3"
      },
      "source": [
        "plt.figure(figsize=(10,5))\n",
        "plt.plot(regressorGRU.history.history['loss'], label='Training', color='blue')\n",
        "plt.plot(regressorGRU.history.history['val_loss'], label='Validation', color='red')\n",
        "plt.legend()\n",
        "plt.title(\"Training Loss Vs Validation Loss\")\n",
        "plt.show()"
      ],
      "execution_count": 48,
      "outputs": [
        {
          "output_type": "display_data",
          "data": {
            "image/png": "[encoded data removed]",
            "text/plain": [
              "<Figure size 720x360 with 1 Axes>"
            ]
          },
          "metadata": {
            "tags": [],
            "needs_background": "light"
          }
        }
      ]
    },
    {
      "cell_type": "markdown",
      "metadata": {
        "id": "wHqrk3byKzEF",
        "colab_type": "text"
      },
      "source": [
        "###Predict the stock price"
      ]
    },
    {
      "cell_type": "code",
      "metadata": {
        "id": "nscCDs3LK2VG",
        "colab_type": "code",
        "colab": {}
      },
      "source": [
        "pred_gru = regressorGRU.predict(X_test)\n",
        "pred_gru = sc.inverse_transform(pred_gru)"
      ],
      "execution_count": 0,
      "outputs": []
    },
    {
      "cell_type": "markdown",
      "metadata": {
        "id": "m-kb4cNCLGr9",
        "colab_type": "text"
      },
      "source": [
        "###Plot the prediction"
      ]
    },
    {
      "cell_type": "code",
      "metadata": {
        "id": "zhqj5QfSLI4T",
        "colab_type": "code",
        "outputId": "8a58edfb-b189-44d5-a972-a4157f804cd3",
        "colab": {
          "base_uri": "https://localhost:8080/",
          "height": 296
        }
      },
      "source": [
        "plot_predictions(test_2017, pred_gru)"
      ],
      "execution_count": 50,
      "outputs": [
        {
          "output_type": "display_data",
          "data": {
            "image/png": "[encoded data removed]",
            "text/plain": [
              "<Figure size 432x288 with 1 Axes>"
            ]
          },
          "metadata": {
            "tags": [],
            "needs_background": "light"
          }
        }
      ]
    },
    {
      "cell_type": "markdown",
      "metadata": {
        "id": "M6OIzrFvLdY7",
        "colab_type": "text"
      },
      "source": [
        "###RMSE of the model"
      ]
    },
    {
      "cell_type": "code",
      "metadata": {
        "id": "olfgsznTLdqf",
        "colab_type": "code",
        "outputId": "d84497f1-66be-480f-bf1a-662dffff3ed4",
        "colab": {
          "base_uri": "https://localhost:8080/",
          "height": 34
        }
      },
      "source": [
        "return_rmse(test_2017, pred_gru)"
      ],
      "execution_count": 51,
      "outputs": [
        {
          "output_type": "stream",
          "text": [
            "RMSE = 6.507881181957346.\n"
          ],
          "name": "stdout"
        }
      ]
    },
    {
      "cell_type": "markdown",
      "metadata": {
        "id": "xmpH_idAJTVp",
        "colab_type": "text"
      },
      "source": [
        "#Testing Models on The Latest Data"
      ]
    },
    {
      "cell_type": "markdown",
      "metadata": {
        "id": "sfhuyvb1SyvL",
        "colab_type": "text"
      },
      "source": [
        "here the model is tested with the lated data of Apple stock from 4/3/2020 to 5/1/2020"
      ]
    },
    {
      "cell_type": "code",
      "metadata": {
        "id": "Py-PmJ7RMI4k",
        "colab_type": "code",
        "colab": {}
      },
      "source": [
        "def preprossing_data_rnns(data):\n",
        "  sc = MinMaxScaler(feature_range=(0,1))\n",
        "  train_sc = sc.fit_transform(data)\n",
        "  data_x = []\n",
        "  data_y = []\n",
        "  for i in range(10,data.shape[0]):\n",
        "    data_x.append(data[i-10:i, 0])\n",
        "    data_y.append(data[i,0])\n",
        "  data_x, data_y = np.array(data_x), np.array(data_y)\n",
        "  data_x = np.reshape(data_x, (data_x.shape[0], data_x.shape[1], 1))\n",
        "  return data_x, data_y\n",
        "\n",
        "def predic_using_LSTM(data_x):\n",
        "  pred_lstm_new = regressor.predict(data_x)\n",
        "  pred_lstm_new = sc.inverse_transform(pred_lstm_new)\n",
        "  return pred_lstm_new\n",
        "\n",
        "def predic_using_gru(data_x):\n",
        "  pred_gru_new = regressorGRU.predict(data_x)\n",
        "  pred_gru_new = sc.inverse_transform(pred_gru_new)\n",
        "  return pred_gru_new\n"
      ],
      "execution_count": 0,
      "outputs": []
    },
    {
      "cell_type": "code",
      "metadata": {
        "id": "J2E_7zlBJbxV",
        "colab_type": "code",
        "colab": {}
      },
      "source": [
        "new_data = pd.read_csv('https://raw.githubusercontent.com/ahshawaf/AML/project7/APPL_2020-03-04_to_2020-01-05.csv',index_col='Date', parse_dates=[\"Date\"]) "
      ],
      "execution_count": 0,
      "outputs": []
    },
    {
      "cell_type": "code",
      "metadata": {
        "id": "QR2ncqX7Q2IX",
        "colab_type": "code",
        "colab": {
          "base_uri": "https://localhost:8080/",
          "height": 669
        },
        "outputId": "ebe35135-85d1-424f-c259-c3f9bc3b7747"
      },
      "source": [
        "new_data"
      ],
      "execution_count": 61,
      "outputs": [
        {
          "output_type": "execute_result",
          "data": {
            "text/html": [
              "<div>\n",
              "<style scoped>\n",
              "    .dataframe tbody tr th:only-of-type {\n",
              "        vertical-align: middle;\n",
              "    }\n",
              "\n",
              "    .dataframe tbody tr th {\n",
              "        vertical-align: top;\n",
              "    }\n",
              "\n",
              "    .dataframe thead th {\n",
              "        text-align: right;\n",
              "    }\n",
              "</style>\n",
              "<table border=\"1\" class=\"dataframe\">\n",
              "  <thead>\n",
              "    <tr style=\"text-align: right;\">\n",
              "      <th></th>\n",
              "      <th>Close/Last</th>\n",
              "      <th>Volume</th>\n",
              "      <th>Open</th>\n",
              "      <th>High</th>\n",
              "      <th>Low</th>\n",
              "    </tr>\n",
              "    <tr>\n",
              "      <th>Date</th>\n",
              "      <th></th>\n",
              "      <th></th>\n",
              "      <th></th>\n",
              "      <th></th>\n",
              "      <th></th>\n",
              "    </tr>\n",
              "  </thead>\n",
              "  <tbody>\n",
              "    <tr>\n",
              "      <th>2020-05-01</th>\n",
              "      <td>289.07</td>\n",
              "      <td>60154180.0</td>\n",
              "      <td>286.25</td>\n",
              "      <td>299.00</td>\n",
              "      <td>285.85</td>\n",
              "    </tr>\n",
              "    <tr>\n",
              "      <th>2020-04-30</th>\n",
              "      <td>293.80</td>\n",
              "      <td>45765970.0</td>\n",
              "      <td>289.96</td>\n",
              "      <td>294.53</td>\n",
              "      <td>288.35</td>\n",
              "    </tr>\n",
              "    <tr>\n",
              "      <th>2020-04-29</th>\n",
              "      <td>287.73</td>\n",
              "      <td>34320200.0</td>\n",
              "      <td>284.73</td>\n",
              "      <td>289.67</td>\n",
              "      <td>283.89</td>\n",
              "    </tr>\n",
              "    <tr>\n",
              "      <th>2020-04-28</th>\n",
              "      <td>278.58</td>\n",
              "      <td>28001190.0</td>\n",
              "      <td>285.08</td>\n",
              "      <td>285.83</td>\n",
              "      <td>278.20</td>\n",
              "    </tr>\n",
              "    <tr>\n",
              "      <th>2020-04-27</th>\n",
              "      <td>283.17</td>\n",
              "      <td>29271890.0</td>\n",
              "      <td>281.80</td>\n",
              "      <td>284.54</td>\n",
              "      <td>279.95</td>\n",
              "    </tr>\n",
              "    <tr>\n",
              "      <th>2020-04-24</th>\n",
              "      <td>282.97</td>\n",
              "      <td>31627180.0</td>\n",
              "      <td>277.20</td>\n",
              "      <td>283.01</td>\n",
              "      <td>277.00</td>\n",
              "    </tr>\n",
              "    <tr>\n",
              "      <th>2020-04-23</th>\n",
              "      <td>275.03</td>\n",
              "      <td>31203580.0</td>\n",
              "      <td>275.87</td>\n",
              "      <td>281.75</td>\n",
              "      <td>274.87</td>\n",
              "    </tr>\n",
              "    <tr>\n",
              "      <th>2020-04-22</th>\n",
              "      <td>276.10</td>\n",
              "      <td>29264340.0</td>\n",
              "      <td>273.61</td>\n",
              "      <td>277.90</td>\n",
              "      <td>272.20</td>\n",
              "    </tr>\n",
              "    <tr>\n",
              "      <th>2020-04-21</th>\n",
              "      <td>268.37</td>\n",
              "      <td>45247890.0</td>\n",
              "      <td>276.28</td>\n",
              "      <td>277.25</td>\n",
              "      <td>265.43</td>\n",
              "    </tr>\n",
              "    <tr>\n",
              "      <th>2020-04-20</th>\n",
              "      <td>276.93</td>\n",
              "      <td>32503750.0</td>\n",
              "      <td>277.95</td>\n",
              "      <td>281.68</td>\n",
              "      <td>276.85</td>\n",
              "    </tr>\n",
              "    <tr>\n",
              "      <th>2020-04-17</th>\n",
              "      <td>282.80</td>\n",
              "      <td>53812480.0</td>\n",
              "      <td>284.69</td>\n",
              "      <td>286.95</td>\n",
              "      <td>276.86</td>\n",
              "    </tr>\n",
              "    <tr>\n",
              "      <th>2020-04-16</th>\n",
              "      <td>286.69</td>\n",
              "      <td>39281290.0</td>\n",
              "      <td>287.38</td>\n",
              "      <td>288.20</td>\n",
              "      <td>282.35</td>\n",
              "    </tr>\n",
              "    <tr>\n",
              "      <th>2020-04-15</th>\n",
              "      <td>284.43</td>\n",
              "      <td>32788640.0</td>\n",
              "      <td>282.40</td>\n",
              "      <td>286.33</td>\n",
              "      <td>280.63</td>\n",
              "    </tr>\n",
              "    <tr>\n",
              "      <th>2020-04-14</th>\n",
              "      <td>287.05</td>\n",
              "      <td>48748670.0</td>\n",
              "      <td>280.00</td>\n",
              "      <td>288.25</td>\n",
              "      <td>278.05</td>\n",
              "    </tr>\n",
              "    <tr>\n",
              "      <th>2020-04-13</th>\n",
              "      <td>273.25</td>\n",
              "      <td>32755730.0</td>\n",
              "      <td>268.31</td>\n",
              "      <td>273.70</td>\n",
              "      <td>265.83</td>\n",
              "    </tr>\n",
              "    <tr>\n",
              "      <th>2020-04-09</th>\n",
              "      <td>267.99</td>\n",
              "      <td>40529120.0</td>\n",
              "      <td>268.70</td>\n",
              "      <td>270.07</td>\n",
              "      <td>264.70</td>\n",
              "    </tr>\n",
              "    <tr>\n",
              "      <th>2020-04-08</th>\n",
              "      <td>266.07</td>\n",
              "      <td>42223820.0</td>\n",
              "      <td>262.74</td>\n",
              "      <td>267.37</td>\n",
              "      <td>261.23</td>\n",
              "    </tr>\n",
              "    <tr>\n",
              "      <th>2020-04-07</th>\n",
              "      <td>259.43</td>\n",
              "      <td>50721830.0</td>\n",
              "      <td>270.80</td>\n",
              "      <td>271.70</td>\n",
              "      <td>259.00</td>\n",
              "    </tr>\n",
              "    <tr>\n",
              "      <th>2020-04-06</th>\n",
              "      <td>262.47</td>\n",
              "      <td>50455070.0</td>\n",
              "      <td>250.90</td>\n",
              "      <td>263.11</td>\n",
              "      <td>249.38</td>\n",
              "    </tr>\n",
              "    <tr>\n",
              "      <th>2020-04-03</th>\n",
              "      <td>241.41</td>\n",
              "      <td>32470020.0</td>\n",
              "      <td>242.80</td>\n",
              "      <td>245.70</td>\n",
              "      <td>238.97</td>\n",
              "    </tr>\n",
              "  </tbody>\n",
              "</table>\n",
              "</div>"
            ],
            "text/plain": [
              "             Close/Last      Volume    Open    High     Low\n",
              "Date                                                       \n",
              "2020-05-01       289.07  60154180.0  286.25  299.00  285.85\n",
              "2020-04-30       293.80  45765970.0  289.96  294.53  288.35\n",
              "2020-04-29       287.73  34320200.0  284.73  289.67  283.89\n",
              "2020-04-28       278.58  28001190.0  285.08  285.83  278.20\n",
              "2020-04-27       283.17  29271890.0  281.80  284.54  279.95\n",
              "2020-04-24       282.97  31627180.0  277.20  283.01  277.00\n",
              "2020-04-23       275.03  31203580.0  275.87  281.75  274.87\n",
              "2020-04-22       276.10  29264340.0  273.61  277.90  272.20\n",
              "2020-04-21       268.37  45247890.0  276.28  277.25  265.43\n",
              "2020-04-20       276.93  32503750.0  277.95  281.68  276.85\n",
              "2020-04-17       282.80  53812480.0  284.69  286.95  276.86\n",
              "2020-04-16       286.69  39281290.0  287.38  288.20  282.35\n",
              "2020-04-15       284.43  32788640.0  282.40  286.33  280.63\n",
              "2020-04-14       287.05  48748670.0  280.00  288.25  278.05\n",
              "2020-04-13       273.25  32755730.0  268.31  273.70  265.83\n",
              "2020-04-09       267.99  40529120.0  268.70  270.07  264.70\n",
              "2020-04-08       266.07  42223820.0  262.74  267.37  261.23\n",
              "2020-04-07       259.43  50721830.0  270.80  271.70  259.00\n",
              "2020-04-06       262.47  50455070.0  250.90  263.11  249.38\n",
              "2020-04-03       241.41  32470020.0  242.80  245.70  238.97"
            ]
          },
          "metadata": {
            "tags": []
          },
          "execution_count": 61
        }
      ]
    },
    {
      "cell_type": "code",
      "metadata": {
        "id": "YjPW6SvbNUyK",
        "colab_type": "code",
        "colab": {}
      },
      "source": [
        "data_x,data_y = preprossing_data_rnns(np.array(new_data))"
      ],
      "execution_count": 0,
      "outputs": []
    },
    {
      "cell_type": "code",
      "metadata": {
        "id": "KXYRPP65RTSD",
        "colab_type": "code",
        "colab": {}
      },
      "source": [
        "pred_lstm_data = predic_using_LSTM(data_x)"
      ],
      "execution_count": 0,
      "outputs": []
    },
    {
      "cell_type": "code",
      "metadata": {
        "id": "t6sHie59SHj7",
        "colab_type": "code",
        "colab": {
          "base_uri": "https://localhost:8080/",
          "height": 185
        },
        "outputId": "74d475ac-b92e-4add-e2b1-0a9f8b808b69"
      },
      "source": [
        "pred_lstm_data"
      ],
      "execution_count": 77,
      "outputs": [
        {
          "output_type": "execute_result",
          "data": {
            "text/plain": [
              "array([[93.092964],\n",
              "       [93.09187 ],\n",
              "       [93.0917  ],\n",
              "       [93.09145 ],\n",
              "       [93.09227 ],\n",
              "       [93.089745],\n",
              "       [93.088486],\n",
              "       [93.08752 ],\n",
              "       [93.08535 ],\n",
              "       [93.083824]], dtype=float32)"
            ]
          },
          "metadata": {
            "tags": []
          },
          "execution_count": 77
        }
      ]
    },
    {
      "cell_type": "code",
      "metadata": {
        "id": "3-VztDn-Rb8P",
        "colab_type": "code",
        "colab": {
          "base_uri": "https://localhost:8080/",
          "height": 296
        },
        "outputId": "47e26326-125f-4f4a-cb0b-095861894558"
      },
      "source": [
        "plot_predictions(data_y,pred_lstm_data)"
      ],
      "execution_count": 78,
      "outputs": [
        {
          "output_type": "display_data",
          "data": {
            "image/png": "[encoded data removed]",
            "text/plain": [
              "<Figure size 432x288 with 1 Axes>"
            ]
          },
          "metadata": {
            "tags": [],
            "needs_background": "light"
          }
        }
      ]
    },
    {
      "cell_type": "code",
      "metadata": {
        "id": "wcWjXeEzSNWP",
        "colab_type": "code",
        "colab": {}
      },
      "source": [
        "pred_gru_data = predic_using_gru(data_x)"
      ],
      "execution_count": 0,
      "outputs": []
    },
    {
      "cell_type": "code",
      "metadata": {
        "id": "MP_Iet4gTPS8",
        "colab_type": "code",
        "colab": {
          "base_uri": "https://localhost:8080/",
          "height": 185
        },
        "outputId": "4d6a5f83-2251-4df0-b2f0-d40b1f204804"
      },
      "source": [
        "pred_gru_data"
      ],
      "execution_count": 83,
      "outputs": [
        {
          "output_type": "execute_result",
          "data": {
            "text/plain": [
              "array([[362.50174],\n",
              "       [362.51593],\n",
              "       [362.52017],\n",
              "       [362.5171 ],\n",
              "       [362.52002],\n",
              "       [362.52014],\n",
              "       [362.5137 ],\n",
              "       [362.5127 ],\n",
              "       [362.5084 ],\n",
              "       [362.51978]], dtype=float32)"
            ]
          },
          "metadata": {
            "tags": []
          },
          "execution_count": 83
        }
      ]
    },
    {
      "cell_type": "code",
      "metadata": {
        "id": "mHBIXk4lSptK",
        "colab_type": "code",
        "colab": {
          "base_uri": "https://localhost:8080/",
          "height": 296
        },
        "outputId": "d7d7a1f0-f969-4cf1-a2fb-e52a34ca832d"
      },
      "source": [
        "plot_predictions(data_y,pred_gru_data)"
      ],
      "execution_count": 82,
      "outputs": [
        {
          "output_type": "display_data",
          "data": {
            "image/png": "[encoded data removed]",
            "text/plain": [
              "<Figure size 432x288 with 1 Axes>"
            ]
          },
          "metadata": {
            "tags": [],
            "needs_background": "light"
          }
        }
      ]
    }
  ]
}