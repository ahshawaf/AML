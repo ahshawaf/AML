{
  "nbformat": 4,
  "nbformat_minor": 0,
  "metadata": {
    "colab": {
      "name": "Project5_Team1_Ahmad_SeanV2.ipynb",
      "provenance": [],
      "collapsed_sections": [],
      "machine_shape": "hm",
      "include_colab_link": true
    },
    "kernelspec": {
      "name": "python3",
      "display_name": "Python 3"
    },
    "accelerator": "GPU"
  },
  "cells": [
    {
      "cell_type": "markdown",
      "metadata": {
        "id": "view-in-github",
        "colab_type": "text"
      },
      "source": [
        "<a href=\"https://colab.research.google.com/github/ahshawaf/AML/blob/master/Project5_Team1_Ahmad_SeanV2.ipynb\" target=\"_parent\"><img src=\"https://colab.research.google.com/assets/colab-badge.svg\" alt=\"Open In Colab\"/></a>"
      ]
    },
    {
      "cell_type": "markdown",
      "metadata": {
        "id": "dn8sYG1gUgSJ",
        "colab_type": "text"
      },
      "source": [
        "![alt text](https://images.everydayhealth.com/images/diabetes/type-1-diabetes/common-virus-may-have-ties-to-type-1-diabetes-1440x810.jpg?w=1110)"
      ]
    },
    {
      "cell_type": "markdown",
      "metadata": {
        "id": "flgL2y_vVBgf",
        "colab_type": "text"
      },
      "source": [
        "#Diabetes Patients Classification Learning"
      ]
    },
    {
      "cell_type": "markdown",
      "metadata": {
        "id": "qomq-_ixUMDy",
        "colab_type": "text"
      },
      "source": [
        "Management of hyperglycemia in hospitalized patients has a significant bearing on outcome, in terms of both morbidity and\n",
        "mortality. However, there are few national assessments of diabetes care during hospitalization which could serve as a baseline for\n",
        "change.This analysis of a large clinical database (74 million unique encounters corresponding to 17 million unique patients) was\n",
        "undertaken to provide such an assessment and to find future directions which might lead to improvements in patient safety. Almost\n",
        "70,000 inpatient diabetes encounters were identified with sufficient detail for analysis.Multivariable logistic regression was used to\n",
        "fit the relationship between themeasurement of HbA1c and early readmissionwhile controlling for covariates such as demographics,\n",
        "severity and type of the disease, and type of admission. Results show that the measurement of HbA1c was performed infrequently\n",
        "(18.4%) in the inpatient setting. The statistical model suggests that the relationship between the probability of readmission and the\n",
        "HbA1c measurement depends on the primary diagnosis.The data suggest further that the greater attention to diabetes reflected in\n",
        "HbA1c determination may improve patient outcomes and lower cost of inpatient care."
      ]
    },
    {
      "cell_type": "markdown",
      "metadata": {
        "id": "FPUP4dxRFnQ7",
        "colab_type": "text"
      },
      "source": [
        "#Setup"
      ]
    },
    {
      "cell_type": "code",
      "metadata": {
        "id": "8C0sCq1AFTNE",
        "colab_type": "code",
        "outputId": "07e36f14-9adc-4b08-d441-92ac75028fc1",
        "colab": {
          "base_uri": "https://localhost:8080/",
          "height": 34
        }
      },
      "source": [
        "# Common Import\n",
        "import sklearn\n",
        "import pandas as pd\n",
        "import numpy as np\n",
        "from sklearn import metrics\n",
        "import seaborn as sns\n",
        "import time\n",
        "import random\n",
        "\n",
        "from sklearn.preprocessing import StandardScaler, MinMaxScaler\n",
        "from sklearn.decomposition import PCA\n",
        "from sklearn.pipeline import Pipeline, make_pipeline\n",
        "from sklearn.svm import SVC\n",
        "from sklearn.ensemble import RandomForestClassifier\n",
        "from sklearn.model_selection import train_test_split, cross_val_score, GridSearchCV\n",
        "from sklearn.model_selection import learning_curve, ShuffleSplit\n",
        "from sklearn.preprocessing import OneHotEncoder, LabelEncoder\n",
        "from sklearn.feature_selection import SelectKBest, chi2\n",
        "from sklearn.metrics import classification_report, mean_squared_error\n",
        "from math import sqrt\n",
        "\n",
        "# to make this notebook's output stable across runs\n",
        "np.random.seed(42)\n",
        "\n",
        "# To plot pretty figures\n",
        "%matplotlib inline\n",
        "import matplotlib as mpl\n",
        "import matplotlib.pyplot as plt\n",
        "\n",
        "# sklearn version > 0.20 is required \n",
        "sklearn.__version__\n",
        "# Update sklearn -> !pip install -U scikit-learn"
      ],
      "execution_count": 77,
      "outputs": [
        {
          "output_type": "execute_result",
          "data": {
            "text/plain": [
              "'0.22.2.post1'"
            ]
          },
          "metadata": {
            "tags": []
          },
          "execution_count": 77
        }
      ]
    },
    {
      "cell_type": "markdown",
      "metadata": {
        "id": "b3JqNfRpF4Ze",
        "colab_type": "text"
      },
      "source": [
        "#Data Scrubbing\n",
        "\n",
        "##Loading Data\n",
        "\n",
        "In this section, loading and viewing data are shown."
      ]
    },
    {
      "cell_type": "code",
      "metadata": {
        "id": "L7OGQw_wF0zL",
        "colab_type": "code",
        "outputId": "73846868-2edc-44f5-a598-51e6b8f13f9a",
        "colab": {
          "base_uri": "https://localhost:8080/",
          "height": 548
        }
      },
      "source": [
        "df = pd.read_csv('https://raw.githubusercontent.com/seansothey/CSC685/master/diabetic_data.csv')\n",
        "df.head(10)"
      ],
      "execution_count": 78,
      "outputs": [
        {
          "output_type": "execute_result",
          "data": {
            "text/html": [
              "<div>\n",
              "<style scoped>\n",
              "    .dataframe tbody tr th:only-of-type {\n",
              "        vertical-align: middle;\n",
              "    }\n",
              "\n",
              "    .dataframe tbody tr th {\n",
              "        vertical-align: top;\n",
              "    }\n",
              "\n",
              "    .dataframe thead th {\n",
              "        text-align: right;\n",
              "    }\n",
              "</style>\n",
              "<table border=\"1\" class=\"dataframe\">\n",
              "  <thead>\n",
              "    <tr style=\"text-align: right;\">\n",
              "      <th></th>\n",
              "      <th>encounter_id</th>\n",
              "      <th>patient_nbr</th>\n",
              "      <th>race</th>\n",
              "      <th>gender</th>\n",
              "      <th>age</th>\n",
              "      <th>weight</th>\n",
              "      <th>admission_type_id</th>\n",
              "      <th>discharge_disposition_id</th>\n",
              "      <th>admission_source_id</th>\n",
              "      <th>time_in_hospital</th>\n",
              "      <th>payer_code</th>\n",
              "      <th>medical_specialty</th>\n",
              "      <th>num_lab_procedures</th>\n",
              "      <th>num_procedures</th>\n",
              "      <th>num_medications</th>\n",
              "      <th>number_outpatient</th>\n",
              "      <th>number_emergency</th>\n",
              "      <th>number_inpatient</th>\n",
              "      <th>diag_1</th>\n",
              "      <th>diag_2</th>\n",
              "      <th>diag_3</th>\n",
              "      <th>number_diagnoses</th>\n",
              "      <th>max_glu_serum</th>\n",
              "      <th>A1Cresult</th>\n",
              "      <th>metformin</th>\n",
              "      <th>repaglinide</th>\n",
              "      <th>nateglinide</th>\n",
              "      <th>chlorpropamide</th>\n",
              "      <th>glimepiride</th>\n",
              "      <th>acetohexamide</th>\n",
              "      <th>glipizide</th>\n",
              "      <th>glyburide</th>\n",
              "      <th>tolbutamide</th>\n",
              "      <th>pioglitazone</th>\n",
              "      <th>rosiglitazone</th>\n",
              "      <th>acarbose</th>\n",
              "      <th>miglitol</th>\n",
              "      <th>troglitazone</th>\n",
              "      <th>tolazamide</th>\n",
              "      <th>examide</th>\n",
              "      <th>citoglipton</th>\n",
              "      <th>insulin</th>\n",
              "      <th>glyburide-metformin</th>\n",
              "      <th>glipizide-metformin</th>\n",
              "      <th>glimepiride-pioglitazone</th>\n",
              "      <th>metformin-rosiglitazone</th>\n",
              "      <th>metformin-pioglitazone</th>\n",
              "      <th>change</th>\n",
              "      <th>diabetesMed</th>\n",
              "      <th>readmitted</th>\n",
              "    </tr>\n",
              "  </thead>\n",
              "  <tbody>\n",
              "    <tr>\n",
              "      <th>0</th>\n",
              "      <td>2278392</td>\n",
              "      <td>8222157</td>\n",
              "      <td>Caucasian</td>\n",
              "      <td>Female</td>\n",
              "      <td>[0-10)</td>\n",
              "      <td>?</td>\n",
              "      <td>6</td>\n",
              "      <td>25</td>\n",
              "      <td>1</td>\n",
              "      <td>1</td>\n",
              "      <td>?</td>\n",
              "      <td>Pediatrics-Endocrinology</td>\n",
              "      <td>41</td>\n",
              "      <td>0</td>\n",
              "      <td>1</td>\n",
              "      <td>0</td>\n",
              "      <td>0</td>\n",
              "      <td>0</td>\n",
              "      <td>250.83</td>\n",
              "      <td>?</td>\n",
              "      <td>?</td>\n",
              "      <td>1</td>\n",
              "      <td>None</td>\n",
              "      <td>None</td>\n",
              "      <td>No</td>\n",
              "      <td>No</td>\n",
              "      <td>No</td>\n",
              "      <td>No</td>\n",
              "      <td>No</td>\n",
              "      <td>No</td>\n",
              "      <td>No</td>\n",
              "      <td>No</td>\n",
              "      <td>No</td>\n",
              "      <td>No</td>\n",
              "      <td>No</td>\n",
              "      <td>No</td>\n",
              "      <td>No</td>\n",
              "      <td>No</td>\n",
              "      <td>No</td>\n",
              "      <td>No</td>\n",
              "      <td>No</td>\n",
              "      <td>No</td>\n",
              "      <td>No</td>\n",
              "      <td>No</td>\n",
              "      <td>No</td>\n",
              "      <td>No</td>\n",
              "      <td>No</td>\n",
              "      <td>No</td>\n",
              "      <td>No</td>\n",
              "      <td>NO</td>\n",
              "    </tr>\n",
              "    <tr>\n",
              "      <th>1</th>\n",
              "      <td>149190</td>\n",
              "      <td>55629189</td>\n",
              "      <td>Caucasian</td>\n",
              "      <td>Female</td>\n",
              "      <td>[10-20)</td>\n",
              "      <td>?</td>\n",
              "      <td>1</td>\n",
              "      <td>1</td>\n",
              "      <td>7</td>\n",
              "      <td>3</td>\n",
              "      <td>?</td>\n",
              "      <td>?</td>\n",
              "      <td>59</td>\n",
              "      <td>0</td>\n",
              "      <td>18</td>\n",
              "      <td>0</td>\n",
              "      <td>0</td>\n",
              "      <td>0</td>\n",
              "      <td>276</td>\n",
              "      <td>250.01</td>\n",
              "      <td>255</td>\n",
              "      <td>9</td>\n",
              "      <td>None</td>\n",
              "      <td>None</td>\n",
              "      <td>No</td>\n",
              "      <td>No</td>\n",
              "      <td>No</td>\n",
              "      <td>No</td>\n",
              "      <td>No</td>\n",
              "      <td>No</td>\n",
              "      <td>No</td>\n",
              "      <td>No</td>\n",
              "      <td>No</td>\n",
              "      <td>No</td>\n",
              "      <td>No</td>\n",
              "      <td>No</td>\n",
              "      <td>No</td>\n",
              "      <td>No</td>\n",
              "      <td>No</td>\n",
              "      <td>No</td>\n",
              "      <td>No</td>\n",
              "      <td>Up</td>\n",
              "      <td>No</td>\n",
              "      <td>No</td>\n",
              "      <td>No</td>\n",
              "      <td>No</td>\n",
              "      <td>No</td>\n",
              "      <td>Ch</td>\n",
              "      <td>Yes</td>\n",
              "      <td>&gt;30</td>\n",
              "    </tr>\n",
              "    <tr>\n",
              "      <th>2</th>\n",
              "      <td>64410</td>\n",
              "      <td>86047875</td>\n",
              "      <td>AfricanAmerican</td>\n",
              "      <td>Female</td>\n",
              "      <td>[20-30)</td>\n",
              "      <td>?</td>\n",
              "      <td>1</td>\n",
              "      <td>1</td>\n",
              "      <td>7</td>\n",
              "      <td>2</td>\n",
              "      <td>?</td>\n",
              "      <td>?</td>\n",
              "      <td>11</td>\n",
              "      <td>5</td>\n",
              "      <td>13</td>\n",
              "      <td>2</td>\n",
              "      <td>0</td>\n",
              "      <td>1</td>\n",
              "      <td>648</td>\n",
              "      <td>250</td>\n",
              "      <td>V27</td>\n",
              "      <td>6</td>\n",
              "      <td>None</td>\n",
              "      <td>None</td>\n",
              "      <td>No</td>\n",
              "      <td>No</td>\n",
              "      <td>No</td>\n",
              "      <td>No</td>\n",
              "      <td>No</td>\n",
              "      <td>No</td>\n",
              "      <td>Steady</td>\n",
              "      <td>No</td>\n",
              "      <td>No</td>\n",
              "      <td>No</td>\n",
              "      <td>No</td>\n",
              "      <td>No</td>\n",
              "      <td>No</td>\n",
              "      <td>No</td>\n",
              "      <td>No</td>\n",
              "      <td>No</td>\n",
              "      <td>No</td>\n",
              "      <td>No</td>\n",
              "      <td>No</td>\n",
              "      <td>No</td>\n",
              "      <td>No</td>\n",
              "      <td>No</td>\n",
              "      <td>No</td>\n",
              "      <td>No</td>\n",
              "      <td>Yes</td>\n",
              "      <td>NO</td>\n",
              "    </tr>\n",
              "    <tr>\n",
              "      <th>3</th>\n",
              "      <td>500364</td>\n",
              "      <td>82442376</td>\n",
              "      <td>Caucasian</td>\n",
              "      <td>Male</td>\n",
              "      <td>[30-40)</td>\n",
              "      <td>?</td>\n",
              "      <td>1</td>\n",
              "      <td>1</td>\n",
              "      <td>7</td>\n",
              "      <td>2</td>\n",
              "      <td>?</td>\n",
              "      <td>?</td>\n",
              "      <td>44</td>\n",
              "      <td>1</td>\n",
              "      <td>16</td>\n",
              "      <td>0</td>\n",
              "      <td>0</td>\n",
              "      <td>0</td>\n",
              "      <td>8</td>\n",
              "      <td>250.43</td>\n",
              "      <td>403</td>\n",
              "      <td>7</td>\n",
              "      <td>None</td>\n",
              "      <td>None</td>\n",
              "      <td>No</td>\n",
              "      <td>No</td>\n",
              "      <td>No</td>\n",
              "      <td>No</td>\n",
              "      <td>No</td>\n",
              "      <td>No</td>\n",
              "      <td>No</td>\n",
              "      <td>No</td>\n",
              "      <td>No</td>\n",
              "      <td>No</td>\n",
              "      <td>No</td>\n",
              "      <td>No</td>\n",
              "      <td>No</td>\n",
              "      <td>No</td>\n",
              "      <td>No</td>\n",
              "      <td>No</td>\n",
              "      <td>No</td>\n",
              "      <td>Up</td>\n",
              "      <td>No</td>\n",
              "      <td>No</td>\n",
              "      <td>No</td>\n",
              "      <td>No</td>\n",
              "      <td>No</td>\n",
              "      <td>Ch</td>\n",
              "      <td>Yes</td>\n",
              "      <td>NO</td>\n",
              "    </tr>\n",
              "    <tr>\n",
              "      <th>4</th>\n",
              "      <td>16680</td>\n",
              "      <td>42519267</td>\n",
              "      <td>Caucasian</td>\n",
              "      <td>Male</td>\n",
              "      <td>[40-50)</td>\n",
              "      <td>?</td>\n",
              "      <td>1</td>\n",
              "      <td>1</td>\n",
              "      <td>7</td>\n",
              "      <td>1</td>\n",
              "      <td>?</td>\n",
              "      <td>?</td>\n",
              "      <td>51</td>\n",
              "      <td>0</td>\n",
              "      <td>8</td>\n",
              "      <td>0</td>\n",
              "      <td>0</td>\n",
              "      <td>0</td>\n",
              "      <td>197</td>\n",
              "      <td>157</td>\n",
              "      <td>250</td>\n",
              "      <td>5</td>\n",
              "      <td>None</td>\n",
              "      <td>None</td>\n",
              "      <td>No</td>\n",
              "      <td>No</td>\n",
              "      <td>No</td>\n",
              "      <td>No</td>\n",
              "      <td>No</td>\n",
              "      <td>No</td>\n",
              "      <td>Steady</td>\n",
              "      <td>No</td>\n",
              "      <td>No</td>\n",
              "      <td>No</td>\n",
              "      <td>No</td>\n",
              "      <td>No</td>\n",
              "      <td>No</td>\n",
              "      <td>No</td>\n",
              "      <td>No</td>\n",
              "      <td>No</td>\n",
              "      <td>No</td>\n",
              "      <td>Steady</td>\n",
              "      <td>No</td>\n",
              "      <td>No</td>\n",
              "      <td>No</td>\n",
              "      <td>No</td>\n",
              "      <td>No</td>\n",
              "      <td>Ch</td>\n",
              "      <td>Yes</td>\n",
              "      <td>NO</td>\n",
              "    </tr>\n",
              "    <tr>\n",
              "      <th>5</th>\n",
              "      <td>35754</td>\n",
              "      <td>82637451</td>\n",
              "      <td>Caucasian</td>\n",
              "      <td>Male</td>\n",
              "      <td>[50-60)</td>\n",
              "      <td>?</td>\n",
              "      <td>2</td>\n",
              "      <td>1</td>\n",
              "      <td>2</td>\n",
              "      <td>3</td>\n",
              "      <td>?</td>\n",
              "      <td>?</td>\n",
              "      <td>31</td>\n",
              "      <td>6</td>\n",
              "      <td>16</td>\n",
              "      <td>0</td>\n",
              "      <td>0</td>\n",
              "      <td>0</td>\n",
              "      <td>414</td>\n",
              "      <td>411</td>\n",
              "      <td>250</td>\n",
              "      <td>9</td>\n",
              "      <td>None</td>\n",
              "      <td>None</td>\n",
              "      <td>No</td>\n",
              "      <td>No</td>\n",
              "      <td>No</td>\n",
              "      <td>No</td>\n",
              "      <td>No</td>\n",
              "      <td>No</td>\n",
              "      <td>No</td>\n",
              "      <td>No</td>\n",
              "      <td>No</td>\n",
              "      <td>No</td>\n",
              "      <td>No</td>\n",
              "      <td>No</td>\n",
              "      <td>No</td>\n",
              "      <td>No</td>\n",
              "      <td>No</td>\n",
              "      <td>No</td>\n",
              "      <td>No</td>\n",
              "      <td>Steady</td>\n",
              "      <td>No</td>\n",
              "      <td>No</td>\n",
              "      <td>No</td>\n",
              "      <td>No</td>\n",
              "      <td>No</td>\n",
              "      <td>No</td>\n",
              "      <td>Yes</td>\n",
              "      <td>&gt;30</td>\n",
              "    </tr>\n",
              "    <tr>\n",
              "      <th>6</th>\n",
              "      <td>55842</td>\n",
              "      <td>84259809</td>\n",
              "      <td>Caucasian</td>\n",
              "      <td>Male</td>\n",
              "      <td>[60-70)</td>\n",
              "      <td>?</td>\n",
              "      <td>3</td>\n",
              "      <td>1</td>\n",
              "      <td>2</td>\n",
              "      <td>4</td>\n",
              "      <td>?</td>\n",
              "      <td>?</td>\n",
              "      <td>70</td>\n",
              "      <td>1</td>\n",
              "      <td>21</td>\n",
              "      <td>0</td>\n",
              "      <td>0</td>\n",
              "      <td>0</td>\n",
              "      <td>414</td>\n",
              "      <td>411</td>\n",
              "      <td>V45</td>\n",
              "      <td>7</td>\n",
              "      <td>None</td>\n",
              "      <td>None</td>\n",
              "      <td>Steady</td>\n",
              "      <td>No</td>\n",
              "      <td>No</td>\n",
              "      <td>No</td>\n",
              "      <td>Steady</td>\n",
              "      <td>No</td>\n",
              "      <td>No</td>\n",
              "      <td>No</td>\n",
              "      <td>No</td>\n",
              "      <td>No</td>\n",
              "      <td>No</td>\n",
              "      <td>No</td>\n",
              "      <td>No</td>\n",
              "      <td>No</td>\n",
              "      <td>No</td>\n",
              "      <td>No</td>\n",
              "      <td>No</td>\n",
              "      <td>Steady</td>\n",
              "      <td>No</td>\n",
              "      <td>No</td>\n",
              "      <td>No</td>\n",
              "      <td>No</td>\n",
              "      <td>No</td>\n",
              "      <td>Ch</td>\n",
              "      <td>Yes</td>\n",
              "      <td>NO</td>\n",
              "    </tr>\n",
              "    <tr>\n",
              "      <th>7</th>\n",
              "      <td>63768</td>\n",
              "      <td>114882984</td>\n",
              "      <td>Caucasian</td>\n",
              "      <td>Male</td>\n",
              "      <td>[70-80)</td>\n",
              "      <td>?</td>\n",
              "      <td>1</td>\n",
              "      <td>1</td>\n",
              "      <td>7</td>\n",
              "      <td>5</td>\n",
              "      <td>?</td>\n",
              "      <td>?</td>\n",
              "      <td>73</td>\n",
              "      <td>0</td>\n",
              "      <td>12</td>\n",
              "      <td>0</td>\n",
              "      <td>0</td>\n",
              "      <td>0</td>\n",
              "      <td>428</td>\n",
              "      <td>492</td>\n",
              "      <td>250</td>\n",
              "      <td>8</td>\n",
              "      <td>None</td>\n",
              "      <td>None</td>\n",
              "      <td>No</td>\n",
              "      <td>No</td>\n",
              "      <td>No</td>\n",
              "      <td>No</td>\n",
              "      <td>No</td>\n",
              "      <td>No</td>\n",
              "      <td>No</td>\n",
              "      <td>Steady</td>\n",
              "      <td>No</td>\n",
              "      <td>No</td>\n",
              "      <td>No</td>\n",
              "      <td>No</td>\n",
              "      <td>No</td>\n",
              "      <td>No</td>\n",
              "      <td>No</td>\n",
              "      <td>No</td>\n",
              "      <td>No</td>\n",
              "      <td>No</td>\n",
              "      <td>No</td>\n",
              "      <td>No</td>\n",
              "      <td>No</td>\n",
              "      <td>No</td>\n",
              "      <td>No</td>\n",
              "      <td>No</td>\n",
              "      <td>Yes</td>\n",
              "      <td>&gt;30</td>\n",
              "    </tr>\n",
              "    <tr>\n",
              "      <th>8</th>\n",
              "      <td>12522</td>\n",
              "      <td>48330783</td>\n",
              "      <td>Caucasian</td>\n",
              "      <td>Female</td>\n",
              "      <td>[80-90)</td>\n",
              "      <td>?</td>\n",
              "      <td>2</td>\n",
              "      <td>1</td>\n",
              "      <td>4</td>\n",
              "      <td>13</td>\n",
              "      <td>?</td>\n",
              "      <td>?</td>\n",
              "      <td>68</td>\n",
              "      <td>2</td>\n",
              "      <td>28</td>\n",
              "      <td>0</td>\n",
              "      <td>0</td>\n",
              "      <td>0</td>\n",
              "      <td>398</td>\n",
              "      <td>427</td>\n",
              "      <td>38</td>\n",
              "      <td>8</td>\n",
              "      <td>None</td>\n",
              "      <td>None</td>\n",
              "      <td>No</td>\n",
              "      <td>No</td>\n",
              "      <td>No</td>\n",
              "      <td>No</td>\n",
              "      <td>No</td>\n",
              "      <td>No</td>\n",
              "      <td>Steady</td>\n",
              "      <td>No</td>\n",
              "      <td>No</td>\n",
              "      <td>No</td>\n",
              "      <td>No</td>\n",
              "      <td>No</td>\n",
              "      <td>No</td>\n",
              "      <td>No</td>\n",
              "      <td>No</td>\n",
              "      <td>No</td>\n",
              "      <td>No</td>\n",
              "      <td>Steady</td>\n",
              "      <td>No</td>\n",
              "      <td>No</td>\n",
              "      <td>No</td>\n",
              "      <td>No</td>\n",
              "      <td>No</td>\n",
              "      <td>Ch</td>\n",
              "      <td>Yes</td>\n",
              "      <td>NO</td>\n",
              "    </tr>\n",
              "    <tr>\n",
              "      <th>9</th>\n",
              "      <td>15738</td>\n",
              "      <td>63555939</td>\n",
              "      <td>Caucasian</td>\n",
              "      <td>Female</td>\n",
              "      <td>[90-100)</td>\n",
              "      <td>?</td>\n",
              "      <td>3</td>\n",
              "      <td>3</td>\n",
              "      <td>4</td>\n",
              "      <td>12</td>\n",
              "      <td>?</td>\n",
              "      <td>InternalMedicine</td>\n",
              "      <td>33</td>\n",
              "      <td>3</td>\n",
              "      <td>18</td>\n",
              "      <td>0</td>\n",
              "      <td>0</td>\n",
              "      <td>0</td>\n",
              "      <td>434</td>\n",
              "      <td>198</td>\n",
              "      <td>486</td>\n",
              "      <td>8</td>\n",
              "      <td>None</td>\n",
              "      <td>None</td>\n",
              "      <td>No</td>\n",
              "      <td>No</td>\n",
              "      <td>No</td>\n",
              "      <td>No</td>\n",
              "      <td>No</td>\n",
              "      <td>No</td>\n",
              "      <td>No</td>\n",
              "      <td>No</td>\n",
              "      <td>No</td>\n",
              "      <td>No</td>\n",
              "      <td>Steady</td>\n",
              "      <td>No</td>\n",
              "      <td>No</td>\n",
              "      <td>No</td>\n",
              "      <td>No</td>\n",
              "      <td>No</td>\n",
              "      <td>No</td>\n",
              "      <td>Steady</td>\n",
              "      <td>No</td>\n",
              "      <td>No</td>\n",
              "      <td>No</td>\n",
              "      <td>No</td>\n",
              "      <td>No</td>\n",
              "      <td>Ch</td>\n",
              "      <td>Yes</td>\n",
              "      <td>NO</td>\n",
              "    </tr>\n",
              "  </tbody>\n",
              "</table>\n",
              "</div>"
            ],
            "text/plain": [
              "   encounter_id  patient_nbr             race  ... change diabetesMed readmitted\n",
              "0       2278392      8222157        Caucasian  ...     No          No         NO\n",
              "1        149190     55629189        Caucasian  ...     Ch         Yes        >30\n",
              "2         64410     86047875  AfricanAmerican  ...     No         Yes         NO\n",
              "3        500364     82442376        Caucasian  ...     Ch         Yes         NO\n",
              "4         16680     42519267        Caucasian  ...     Ch         Yes         NO\n",
              "5         35754     82637451        Caucasian  ...     No         Yes        >30\n",
              "6         55842     84259809        Caucasian  ...     Ch         Yes         NO\n",
              "7         63768    114882984        Caucasian  ...     No         Yes        >30\n",
              "8         12522     48330783        Caucasian  ...     Ch         Yes         NO\n",
              "9         15738     63555939        Caucasian  ...     Ch         Yes         NO\n",
              "\n",
              "[10 rows x 50 columns]"
            ]
          },
          "metadata": {
            "tags": []
          },
          "execution_count": 78
        }
      ]
    },
    {
      "cell_type": "markdown",
      "metadata": {
        "id": "sq51cfXyGnVo",
        "colab_type": "text"
      },
      "source": [
        "##Exploring Data\n",
        "\n",
        "here, the data will be investigated to see if there is missing data and also to figure out any other issue in the data.\n"
      ]
    },
    {
      "cell_type": "markdown",
      "metadata": {
        "id": "pVxCAaQRIK2U",
        "colab_type": "text"
      },
      "source": [
        "See the data information"
      ]
    },
    {
      "cell_type": "code",
      "metadata": {
        "id": "7j7lVPncIG1m",
        "colab_type": "code",
        "outputId": "89814c01-b88f-4823-f795-edaffc31a2c7",
        "colab": {
          "base_uri": "https://localhost:8080/",
          "height": 941
        }
      },
      "source": [
        "df.info()"
      ],
      "execution_count": 79,
      "outputs": [
        {
          "output_type": "stream",
          "text": [
            "<class 'pandas.core.frame.DataFrame'>\n",
            "RangeIndex: 101766 entries, 0 to 101765\n",
            "Data columns (total 50 columns):\n",
            "encounter_id                101766 non-null int64\n",
            "patient_nbr                 101766 non-null int64\n",
            "race                        101766 non-null object\n",
            "gender                      101766 non-null object\n",
            "age                         101766 non-null object\n",
            "weight                      101766 non-null object\n",
            "admission_type_id           101766 non-null int64\n",
            "discharge_disposition_id    101766 non-null int64\n",
            "admission_source_id         101766 non-null int64\n",
            "time_in_hospital            101766 non-null int64\n",
            "payer_code                  101766 non-null object\n",
            "medical_specialty           101766 non-null object\n",
            "num_lab_procedures          101766 non-null int64\n",
            "num_procedures              101766 non-null int64\n",
            "num_medications             101766 non-null int64\n",
            "number_outpatient           101766 non-null int64\n",
            "number_emergency            101766 non-null int64\n",
            "number_inpatient            101766 non-null int64\n",
            "diag_1                      101766 non-null object\n",
            "diag_2                      101766 non-null object\n",
            "diag_3                      101766 non-null object\n",
            "number_diagnoses            101766 non-null int64\n",
            "max_glu_serum               101766 non-null object\n",
            "A1Cresult                   101766 non-null object\n",
            "metformin                   101766 non-null object\n",
            "repaglinide                 101766 non-null object\n",
            "nateglinide                 101766 non-null object\n",
            "chlorpropamide              101766 non-null object\n",
            "glimepiride                 101766 non-null object\n",
            "acetohexamide               101766 non-null object\n",
            "glipizide                   101766 non-null object\n",
            "glyburide                   101766 non-null object\n",
            "tolbutamide                 101766 non-null object\n",
            "pioglitazone                101766 non-null object\n",
            "rosiglitazone               101766 non-null object\n",
            "acarbose                    101766 non-null object\n",
            "miglitol                    101766 non-null object\n",
            "troglitazone                101766 non-null object\n",
            "tolazamide                  101766 non-null object\n",
            "examide                     101766 non-null object\n",
            "citoglipton                 101766 non-null object\n",
            "insulin                     101766 non-null object\n",
            "glyburide-metformin         101766 non-null object\n",
            "glipizide-metformin         101766 non-null object\n",
            "glimepiride-pioglitazone    101766 non-null object\n",
            "metformin-rosiglitazone     101766 non-null object\n",
            "metformin-pioglitazone      101766 non-null object\n",
            "change                      101766 non-null object\n",
            "diabetesMed                 101766 non-null object\n",
            "readmitted                  101766 non-null object\n",
            "dtypes: int64(13), object(37)\n",
            "memory usage: 38.8+ MB\n"
          ],
          "name": "stdout"
        }
      ]
    },
    {
      "cell_type": "markdown",
      "metadata": {
        "id": "EiO94IyQL082",
        "colab_type": "text"
      },
      "source": [
        "Here is more information about data."
      ]
    },
    {
      "cell_type": "code",
      "metadata": {
        "id": "8YhUu17RMAna",
        "colab_type": "code",
        "outputId": "aed10d2a-f4cb-4523-bad6-f8677ac039cd",
        "colab": {
          "base_uri": "https://localhost:8080/",
          "height": 304
        }
      },
      "source": [
        "df.describe()"
      ],
      "execution_count": 80,
      "outputs": [
        {
          "output_type": "execute_result",
          "data": {
            "text/html": [
              "<div>\n",
              "<style scoped>\n",
              "    .dataframe tbody tr th:only-of-type {\n",
              "        vertical-align: middle;\n",
              "    }\n",
              "\n",
              "    .dataframe tbody tr th {\n",
              "        vertical-align: top;\n",
              "    }\n",
              "\n",
              "    .dataframe thead th {\n",
              "        text-align: right;\n",
              "    }\n",
              "</style>\n",
              "<table border=\"1\" class=\"dataframe\">\n",
              "  <thead>\n",
              "    <tr style=\"text-align: right;\">\n",
              "      <th></th>\n",
              "      <th>encounter_id</th>\n",
              "      <th>patient_nbr</th>\n",
              "      <th>admission_type_id</th>\n",
              "      <th>discharge_disposition_id</th>\n",
              "      <th>admission_source_id</th>\n",
              "      <th>time_in_hospital</th>\n",
              "      <th>num_lab_procedures</th>\n",
              "      <th>num_procedures</th>\n",
              "      <th>num_medications</th>\n",
              "      <th>number_outpatient</th>\n",
              "      <th>number_emergency</th>\n",
              "      <th>number_inpatient</th>\n",
              "      <th>number_diagnoses</th>\n",
              "    </tr>\n",
              "  </thead>\n",
              "  <tbody>\n",
              "    <tr>\n",
              "      <th>count</th>\n",
              "      <td>1.017660e+05</td>\n",
              "      <td>1.017660e+05</td>\n",
              "      <td>101766.000000</td>\n",
              "      <td>101766.000000</td>\n",
              "      <td>101766.000000</td>\n",
              "      <td>101766.000000</td>\n",
              "      <td>101766.000000</td>\n",
              "      <td>101766.000000</td>\n",
              "      <td>101766.000000</td>\n",
              "      <td>101766.000000</td>\n",
              "      <td>101766.000000</td>\n",
              "      <td>101766.000000</td>\n",
              "      <td>101766.000000</td>\n",
              "    </tr>\n",
              "    <tr>\n",
              "      <th>mean</th>\n",
              "      <td>1.652016e+08</td>\n",
              "      <td>5.433040e+07</td>\n",
              "      <td>2.024006</td>\n",
              "      <td>3.715642</td>\n",
              "      <td>5.754437</td>\n",
              "      <td>4.395987</td>\n",
              "      <td>43.095641</td>\n",
              "      <td>1.339730</td>\n",
              "      <td>16.021844</td>\n",
              "      <td>0.369357</td>\n",
              "      <td>0.197836</td>\n",
              "      <td>0.635566</td>\n",
              "      <td>7.422607</td>\n",
              "    </tr>\n",
              "    <tr>\n",
              "      <th>std</th>\n",
              "      <td>1.026403e+08</td>\n",
              "      <td>3.869636e+07</td>\n",
              "      <td>1.445403</td>\n",
              "      <td>5.280166</td>\n",
              "      <td>4.064081</td>\n",
              "      <td>2.985108</td>\n",
              "      <td>19.674362</td>\n",
              "      <td>1.705807</td>\n",
              "      <td>8.127566</td>\n",
              "      <td>1.267265</td>\n",
              "      <td>0.930472</td>\n",
              "      <td>1.262863</td>\n",
              "      <td>1.933600</td>\n",
              "    </tr>\n",
              "    <tr>\n",
              "      <th>min</th>\n",
              "      <td>1.252200e+04</td>\n",
              "      <td>1.350000e+02</td>\n",
              "      <td>1.000000</td>\n",
              "      <td>1.000000</td>\n",
              "      <td>1.000000</td>\n",
              "      <td>1.000000</td>\n",
              "      <td>1.000000</td>\n",
              "      <td>0.000000</td>\n",
              "      <td>1.000000</td>\n",
              "      <td>0.000000</td>\n",
              "      <td>0.000000</td>\n",
              "      <td>0.000000</td>\n",
              "      <td>1.000000</td>\n",
              "    </tr>\n",
              "    <tr>\n",
              "      <th>25%</th>\n",
              "      <td>8.496119e+07</td>\n",
              "      <td>2.341322e+07</td>\n",
              "      <td>1.000000</td>\n",
              "      <td>1.000000</td>\n",
              "      <td>1.000000</td>\n",
              "      <td>2.000000</td>\n",
              "      <td>31.000000</td>\n",
              "      <td>0.000000</td>\n",
              "      <td>10.000000</td>\n",
              "      <td>0.000000</td>\n",
              "      <td>0.000000</td>\n",
              "      <td>0.000000</td>\n",
              "      <td>6.000000</td>\n",
              "    </tr>\n",
              "    <tr>\n",
              "      <th>50%</th>\n",
              "      <td>1.523890e+08</td>\n",
              "      <td>4.550514e+07</td>\n",
              "      <td>1.000000</td>\n",
              "      <td>1.000000</td>\n",
              "      <td>7.000000</td>\n",
              "      <td>4.000000</td>\n",
              "      <td>44.000000</td>\n",
              "      <td>1.000000</td>\n",
              "      <td>15.000000</td>\n",
              "      <td>0.000000</td>\n",
              "      <td>0.000000</td>\n",
              "      <td>0.000000</td>\n",
              "      <td>8.000000</td>\n",
              "    </tr>\n",
              "    <tr>\n",
              "      <th>75%</th>\n",
              "      <td>2.302709e+08</td>\n",
              "      <td>8.754595e+07</td>\n",
              "      <td>3.000000</td>\n",
              "      <td>4.000000</td>\n",
              "      <td>7.000000</td>\n",
              "      <td>6.000000</td>\n",
              "      <td>57.000000</td>\n",
              "      <td>2.000000</td>\n",
              "      <td>20.000000</td>\n",
              "      <td>0.000000</td>\n",
              "      <td>0.000000</td>\n",
              "      <td>1.000000</td>\n",
              "      <td>9.000000</td>\n",
              "    </tr>\n",
              "    <tr>\n",
              "      <th>max</th>\n",
              "      <td>4.438672e+08</td>\n",
              "      <td>1.895026e+08</td>\n",
              "      <td>8.000000</td>\n",
              "      <td>28.000000</td>\n",
              "      <td>25.000000</td>\n",
              "      <td>14.000000</td>\n",
              "      <td>132.000000</td>\n",
              "      <td>6.000000</td>\n",
              "      <td>81.000000</td>\n",
              "      <td>42.000000</td>\n",
              "      <td>76.000000</td>\n",
              "      <td>21.000000</td>\n",
              "      <td>16.000000</td>\n",
              "    </tr>\n",
              "  </tbody>\n",
              "</table>\n",
              "</div>"
            ],
            "text/plain": [
              "       encounter_id   patient_nbr  ...  number_inpatient  number_diagnoses\n",
              "count  1.017660e+05  1.017660e+05  ...     101766.000000     101766.000000\n",
              "mean   1.652016e+08  5.433040e+07  ...          0.635566          7.422607\n",
              "std    1.026403e+08  3.869636e+07  ...          1.262863          1.933600\n",
              "min    1.252200e+04  1.350000e+02  ...          0.000000          1.000000\n",
              "25%    8.496119e+07  2.341322e+07  ...          0.000000          6.000000\n",
              "50%    1.523890e+08  4.550514e+07  ...          0.000000          8.000000\n",
              "75%    2.302709e+08  8.754595e+07  ...          1.000000          9.000000\n",
              "max    4.438672e+08  1.895026e+08  ...         21.000000         16.000000\n",
              "\n",
              "[8 rows x 13 columns]"
            ]
          },
          "metadata": {
            "tags": []
          },
          "execution_count": 80
        }
      ]
    },
    {
      "cell_type": "markdown",
      "metadata": {
        "id": "rrGnUDJ9OokI",
        "colab_type": "text"
      },
      "source": [
        "Next, check the number of object types."
      ]
    },
    {
      "cell_type": "code",
      "metadata": {
        "id": "soicJgadMFPR",
        "colab_type": "code",
        "outputId": "75c5b67f-aa03-4eb6-fcdc-3cc75ff46889",
        "colab": {
          "base_uri": "https://localhost:8080/",
          "height": 67
        }
      },
      "source": [
        "df.dtypes.value_counts()"
      ],
      "execution_count": 81,
      "outputs": [
        {
          "output_type": "execute_result",
          "data": {
            "text/plain": [
              "object    37\n",
              "int64     13\n",
              "dtype: int64"
            ]
          },
          "metadata": {
            "tags": []
          },
          "execution_count": 81
        }
      ]
    },
    {
      "cell_type": "markdown",
      "metadata": {
        "id": "qPMmNyxcMQzA",
        "colab_type": "text"
      },
      "source": [
        "It is concluded that there are total 50 columns/features. The breakdown is as follows:\n",
        "- 2 columns are target variable/labels ('diabetesMed and 'readmitted'), both has nominal value.\n",
        "- 48 columns are features, and 35 columns has nominal value and 13 columns has numeric value."
      ]
    },
    {
      "cell_type": "markdown",
      "metadata": {
        "id": "q3sJ3LMRNxbb",
        "colab_type": "text"
      },
      "source": [
        "Check if there is 'NaN' value in the data"
      ]
    },
    {
      "cell_type": "code",
      "metadata": {
        "id": "CQXYSrsmN_Fq",
        "colab_type": "code",
        "outputId": "f0577e98-dcca-4d08-8002-3e628e23e0d5",
        "colab": {
          "base_uri": "https://localhost:8080/",
          "height": 874
        }
      },
      "source": [
        "df.isna().sum()"
      ],
      "execution_count": 82,
      "outputs": [
        {
          "output_type": "execute_result",
          "data": {
            "text/plain": [
              "encounter_id                0\n",
              "patient_nbr                 0\n",
              "race                        0\n",
              "gender                      0\n",
              "age                         0\n",
              "weight                      0\n",
              "admission_type_id           0\n",
              "discharge_disposition_id    0\n",
              "admission_source_id         0\n",
              "time_in_hospital            0\n",
              "payer_code                  0\n",
              "medical_specialty           0\n",
              "num_lab_procedures          0\n",
              "num_procedures              0\n",
              "num_medications             0\n",
              "number_outpatient           0\n",
              "number_emergency            0\n",
              "number_inpatient            0\n",
              "diag_1                      0\n",
              "diag_2                      0\n",
              "diag_3                      0\n",
              "number_diagnoses            0\n",
              "max_glu_serum               0\n",
              "A1Cresult                   0\n",
              "metformin                   0\n",
              "repaglinide                 0\n",
              "nateglinide                 0\n",
              "chlorpropamide              0\n",
              "glimepiride                 0\n",
              "acetohexamide               0\n",
              "glipizide                   0\n",
              "glyburide                   0\n",
              "tolbutamide                 0\n",
              "pioglitazone                0\n",
              "rosiglitazone               0\n",
              "acarbose                    0\n",
              "miglitol                    0\n",
              "troglitazone                0\n",
              "tolazamide                  0\n",
              "examide                     0\n",
              "citoglipton                 0\n",
              "insulin                     0\n",
              "glyburide-metformin         0\n",
              "glipizide-metformin         0\n",
              "glimepiride-pioglitazone    0\n",
              "metformin-rosiglitazone     0\n",
              "metformin-pioglitazone      0\n",
              "change                      0\n",
              "diabetesMed                 0\n",
              "readmitted                  0\n",
              "dtype: int64"
            ]
          },
          "metadata": {
            "tags": []
          },
          "execution_count": 82
        }
      ]
    },
    {
      "cell_type": "markdown",
      "metadata": {
        "id": "wOYOKU44OBzy",
        "colab_type": "text"
      },
      "source": [
        "From the above, there is no 'NaN' value in dataframe.\n",
        "\n",
        "From the sample data above, the missing data were marked as '?'. Let see in the dataframe and count them."
      ]
    },
    {
      "cell_type": "code",
      "metadata": {
        "id": "j-15_52BOOV5",
        "colab_type": "code",
        "outputId": "c62d5e49-c1d5-41cf-a06d-b9cd318e02c7",
        "colab": {
          "base_uri": "https://localhost:8080/",
          "height": 874
        }
      },
      "source": [
        "missing_data=df.isin(['?']).sum()\n",
        "missing_data"
      ],
      "execution_count": 83,
      "outputs": [
        {
          "output_type": "execute_result",
          "data": {
            "text/plain": [
              "encounter_id                    0\n",
              "patient_nbr                     0\n",
              "race                         2273\n",
              "gender                          0\n",
              "age                             0\n",
              "weight                      98569\n",
              "admission_type_id               0\n",
              "discharge_disposition_id        0\n",
              "admission_source_id             0\n",
              "time_in_hospital                0\n",
              "payer_code                  40256\n",
              "medical_specialty           49949\n",
              "num_lab_procedures              0\n",
              "num_procedures                  0\n",
              "num_medications                 0\n",
              "number_outpatient               0\n",
              "number_emergency                0\n",
              "number_inpatient                0\n",
              "diag_1                         21\n",
              "diag_2                        358\n",
              "diag_3                       1423\n",
              "number_diagnoses                0\n",
              "max_glu_serum                   0\n",
              "A1Cresult                       0\n",
              "metformin                       0\n",
              "repaglinide                     0\n",
              "nateglinide                     0\n",
              "chlorpropamide                  0\n",
              "glimepiride                     0\n",
              "acetohexamide                   0\n",
              "glipizide                       0\n",
              "glyburide                       0\n",
              "tolbutamide                     0\n",
              "pioglitazone                    0\n",
              "rosiglitazone                   0\n",
              "acarbose                        0\n",
              "miglitol                        0\n",
              "troglitazone                    0\n",
              "tolazamide                      0\n",
              "examide                         0\n",
              "citoglipton                     0\n",
              "insulin                         0\n",
              "glyburide-metformin             0\n",
              "glipizide-metformin             0\n",
              "glimepiride-pioglitazone        0\n",
              "metformin-rosiglitazone         0\n",
              "metformin-pioglitazone          0\n",
              "change                          0\n",
              "diabetesMed                     0\n",
              "readmitted                      0\n",
              "dtype: int64"
            ]
          },
          "metadata": {
            "tags": []
          },
          "execution_count": 83
        }
      ]
    },
    {
      "cell_type": "markdown",
      "metadata": {
        "id": "-lj7wbShOR6T",
        "colab_type": "text"
      },
      "source": [
        "Calculate the percentage of the missing for the column that has that."
      ]
    },
    {
      "cell_type": "code",
      "metadata": {
        "id": "f-O_GwDwOS4C",
        "colab_type": "code",
        "colab": {}
      },
      "source": [
        "#Custom function to calculate the precentage of an attribute\n",
        "def cal_Percentage(attributeName,missing_data=missing_data,dataFrame=df):\n",
        "    print('{0}: {1:.2f} % missing data'.format(attributeName,missing_data[attributeName]/len(df)*100))"
      ],
      "execution_count": 0,
      "outputs": []
    },
    {
      "cell_type": "code",
      "metadata": {
        "id": "b_eZAd-OOXLI",
        "colab_type": "code",
        "outputId": "deb06924-bea1-4999-c350-a5af1654a41b",
        "colab": {
          "base_uri": "https://localhost:8080/",
          "height": 134
        }
      },
      "source": [
        "for att in missing_data.keys():\n",
        "  if missing_data[att] > 0:\n",
        "    cal_Percentage(att)"
      ],
      "execution_count": 85,
      "outputs": [
        {
          "output_type": "stream",
          "text": [
            "race: 2.23 % missing data\n",
            "weight: 96.86 % missing data\n",
            "payer_code: 39.56 % missing data\n",
            "medical_specialty: 49.08 % missing data\n",
            "diag_1: 0.02 % missing data\n",
            "diag_2: 0.35 % missing data\n",
            "diag_3: 1.40 % missing data\n"
          ],
          "name": "stdout"
        }
      ]
    },
    {
      "cell_type": "markdown",
      "metadata": {
        "id": "b41AQhe0ObMn",
        "colab_type": "text"
      },
      "source": [
        "From the above, it shows that the follwing attributes has missing data:\n",
        "1.   race 2%\n",
        "2.   weight 97%\n",
        "3.   payer_code 40% \n",
        "4.   medical_specialty 49%\n",
        "5.   diag_1 0.02%\n",
        "6.   diag_2 0.35%\n",
        "7.   diag_3 1.40%"
      ]
    },
    {
      "cell_type": "markdown",
      "metadata": {
        "id": "WL1_MvsvM9XU",
        "colab_type": "text"
      },
      "source": [
        "##Features Engineering\n",
        "\n",
        "\n",
        "Let's see the correlation of each feature using heatmap."
      ]
    },
    {
      "cell_type": "code",
      "metadata": {
        "id": "g-Jw5j-rM8zA",
        "colab_type": "code",
        "outputId": "a096025e-b920-43df-824e-a64a4687a11f",
        "colab": {
          "base_uri": "https://localhost:8080/",
          "height": 399
        }
      },
      "source": [
        "corr = df.corr()\n",
        "sns.heatmap(corr, annot = True)"
      ],
      "execution_count": 86,
      "outputs": [
        {
          "output_type": "execute_result",
          "data": {
            "text/plain": [
              "<matplotlib.axes._subplots.AxesSubplot at 0x7f1ee77a17b8>"
            ]
          },
          "metadata": {
            "tags": []
          },
          "execution_count": 86
        },
        {
          "output_type": "display_data",
          "data": {
            "image/png": "[encoded data removed]",
            "text/plain": [
              "<Figure size 432x288 with 2 Axes>"
            ]
          },
          "metadata": {
            "tags": []
          }
        }
      ]
    },
    {
      "cell_type": "markdown",
      "metadata": {
        "id": "aw20pj86NVDh",
        "colab_type": "text"
      },
      "source": [
        "This can be seen that there aren't any high correlation (value >0.8) between each feature. However, this doesn't mean that all features are needed to be used to fit the learning model, such as patient_id, physician_id, payer_id, etc. The data value of these types are meaningless for aggregation, like mean, total, min and max, etc. Therefore, as a data scientist, this should be able to defined before conducting feature engineering\n",
        "\n",
        "Now, let's drop some columnus that has value as id and missing value greater than 70%"
      ]
    },
    {
      "cell_type": "code",
      "metadata": {
        "id": "HwtO9h_vNZFM",
        "colab_type": "code",
        "outputId": "a1a16e16-e630-43b0-eeea-d2f568c37617",
        "colab": {
          "base_uri": "https://localhost:8080/",
          "height": 34
        }
      },
      "source": [
        "data = df.drop(['encounter_id','patient_nbr','weight','admission_type_id','discharge_disposition_id',\n",
        "                  'admission_source_id','payer_code','medical_specialty','diag_1','diag_2','diag_3'], axis=1)\n",
        "\n",
        "data.shape"
      ],
      "execution_count": 87,
      "outputs": [
        {
          "output_type": "execute_result",
          "data": {
            "text/plain": [
              "(101766, 39)"
            ]
          },
          "metadata": {
            "tags": []
          },
          "execution_count": 87
        }
      ]
    },
    {
      "cell_type": "markdown",
      "metadata": {
        "id": "iASmUPwTPDRy",
        "colab_type": "text"
      },
      "source": [
        "##Data Visualization"
      ]
    },
    {
      "cell_type": "markdown",
      "metadata": {
        "id": "eCbiqfkSPUm1",
        "colab_type": "text"
      },
      "source": [
        "Display data in histgram charts to see how is the data distributed."
      ]
    },
    {
      "cell_type": "code",
      "metadata": {
        "id": "207JRI4fPFEb",
        "colab_type": "code",
        "outputId": "d9a3523e-4614-44ab-eac8-3ef40b0640d3",
        "colab": {
          "base_uri": "https://localhost:8080/",
          "height": 1000
        }
      },
      "source": [
        "data.hist(figsize=(20,20))"
      ],
      "execution_count": 88,
      "outputs": [
        {
          "output_type": "execute_result",
          "data": {
            "text/plain": [
              "array([[<matplotlib.axes._subplots.AxesSubplot object at 0x7f1ee77a1978>,\n",
              "        <matplotlib.axes._subplots.AxesSubplot object at 0x7f1ee5a0ddd8>,\n",
              "        <matplotlib.axes._subplots.AxesSubplot object at 0x7f1ee59f4080>],\n",
              "       [<matplotlib.axes._subplots.AxesSubplot object at 0x7f1ee5b262e8>,\n",
              "        <matplotlib.axes._subplots.AxesSubplot object at 0x7f1ee5390550>,\n",
              "        <matplotlib.axes._subplots.AxesSubplot object at 0x7f1ee532c7b8>],\n",
              "       [<matplotlib.axes._subplots.AxesSubplot object at 0x7f1ee53efa20>,\n",
              "        <matplotlib.axes._subplots.AxesSubplot object at 0x7f1ee5ab2c50>,\n",
              "        <matplotlib.axes._subplots.AxesSubplot object at 0x7f1ee5ab2cc0>]],\n",
              "      dtype=object)"
            ]
          },
          "metadata": {
            "tags": []
          },
          "execution_count": 88
        },
        {
          "output_type": "display_data",
          "data": {
            "image/png": "[encoded data removed]",
            "text/plain": [
              "<Figure size 1440x1440 with 9 Axes>"
            ]
          },
          "metadata": {
            "tags": []
          }
        }
      ]
    },
    {
      "cell_type": "code",
      "metadata": {
        "id": "hoe8LJ-ZQ7be",
        "colab_type": "code",
        "colab": {}
      },
      "source": [
        "def getRandomColor():\n",
        "    r = random.randint(0,255)/255\n",
        "    g = random.randint(0,255)/255\n",
        "    b = random.randint(0,255)/255\n",
        "    rgb=[r,g,b]\n",
        "    return rgb\n",
        "def groupByChart(attr,title):\n",
        "\n",
        "  count_y_genered=data.groupby(attr).count()\n",
        "  plt.figure(figsize=(20,10))\n",
        "  count = 0;\n",
        "\n",
        "  attr=count_y_genered.keys()\n",
        "  cats=count_y_genered[attr[0]].keys()\n",
        "  #To assign a color for each catagory\n",
        "  colors = dict()\n",
        "\n",
        "  for cat in cats:\n",
        "    colors[cat]=getRandomColor()\n",
        "  #To assign a position for each catogory\n",
        "  positions = dict()\n",
        "  for key in attr:\n",
        "    for cat in cats:\n",
        "      positions[cat]=count_y_genered[key][cat]\n",
        "\n",
        "  barWidth = 0.9\n",
        "  for key in attr:\n",
        "    for cat in cats:\n",
        "      plt.bar(-0.20+count,count_y_genered[key][cat],color=colors[cat],width=barWidth)\n",
        "      count +=1\n",
        "\n",
        "  plt.legend(cats)\n",
        "  plt.xticks([(barWidth+r-0.85)*len(cats) for r in range(len(attr))],attr,rotation=90)\n",
        "  plt.title(title)\n",
        "  plt.show()"
      ],
      "execution_count": 0,
      "outputs": []
    },
    {
      "cell_type": "markdown",
      "metadata": {
        "id": "4UsLKRunl4jD",
        "colab_type": "text"
      },
      "source": [
        "##Group By Gender\n"
      ]
    },
    {
      "cell_type": "code",
      "metadata": {
        "id": "dZx8axq-x7g8",
        "colab_type": "code",
        "outputId": "797ce797-d472-493a-ec3a-f3d3f54db778",
        "colab": {
          "base_uri": "https://localhost:8080/",
          "height": 202
        }
      },
      "source": [
        "data.groupby('gender').count()"
      ],
      "execution_count": 90,
      "outputs": [
        {
          "output_type": "execute_result",
          "data": {
            "text/html": [
              "<div>\n",
              "<style scoped>\n",
              "    .dataframe tbody tr th:only-of-type {\n",
              "        vertical-align: middle;\n",
              "    }\n",
              "\n",
              "    .dataframe tbody tr th {\n",
              "        vertical-align: top;\n",
              "    }\n",
              "\n",
              "    .dataframe thead th {\n",
              "        text-align: right;\n",
              "    }\n",
              "</style>\n",
              "<table border=\"1\" class=\"dataframe\">\n",
              "  <thead>\n",
              "    <tr style=\"text-align: right;\">\n",
              "      <th></th>\n",
              "      <th>race</th>\n",
              "      <th>age</th>\n",
              "      <th>time_in_hospital</th>\n",
              "      <th>num_lab_procedures</th>\n",
              "      <th>num_procedures</th>\n",
              "      <th>num_medications</th>\n",
              "      <th>number_outpatient</th>\n",
              "      <th>number_emergency</th>\n",
              "      <th>number_inpatient</th>\n",
              "      <th>number_diagnoses</th>\n",
              "      <th>max_glu_serum</th>\n",
              "      <th>A1Cresult</th>\n",
              "      <th>metformin</th>\n",
              "      <th>repaglinide</th>\n",
              "      <th>nateglinide</th>\n",
              "      <th>chlorpropamide</th>\n",
              "      <th>glimepiride</th>\n",
              "      <th>acetohexamide</th>\n",
              "      <th>glipizide</th>\n",
              "      <th>glyburide</th>\n",
              "      <th>tolbutamide</th>\n",
              "      <th>pioglitazone</th>\n",
              "      <th>rosiglitazone</th>\n",
              "      <th>acarbose</th>\n",
              "      <th>miglitol</th>\n",
              "      <th>troglitazone</th>\n",
              "      <th>tolazamide</th>\n",
              "      <th>examide</th>\n",
              "      <th>citoglipton</th>\n",
              "      <th>insulin</th>\n",
              "      <th>glyburide-metformin</th>\n",
              "      <th>glipizide-metformin</th>\n",
              "      <th>glimepiride-pioglitazone</th>\n",
              "      <th>metformin-rosiglitazone</th>\n",
              "      <th>metformin-pioglitazone</th>\n",
              "      <th>change</th>\n",
              "      <th>diabetesMed</th>\n",
              "      <th>readmitted</th>\n",
              "    </tr>\n",
              "    <tr>\n",
              "      <th>gender</th>\n",
              "      <th></th>\n",
              "      <th></th>\n",
              "      <th></th>\n",
              "      <th></th>\n",
              "      <th></th>\n",
              "      <th></th>\n",
              "      <th></th>\n",
              "      <th></th>\n",
              "      <th></th>\n",
              "      <th></th>\n",
              "      <th></th>\n",
              "      <th></th>\n",
              "      <th></th>\n",
              "      <th></th>\n",
              "      <th></th>\n",
              "      <th></th>\n",
              "      <th></th>\n",
              "      <th></th>\n",
              "      <th></th>\n",
              "      <th></th>\n",
              "      <th></th>\n",
              "      <th></th>\n",
              "      <th></th>\n",
              "      <th></th>\n",
              "      <th></th>\n",
              "      <th></th>\n",
              "      <th></th>\n",
              "      <th></th>\n",
              "      <th></th>\n",
              "      <th></th>\n",
              "      <th></th>\n",
              "      <th></th>\n",
              "      <th></th>\n",
              "      <th></th>\n",
              "      <th></th>\n",
              "      <th></th>\n",
              "      <th></th>\n",
              "      <th></th>\n",
              "    </tr>\n",
              "  </thead>\n",
              "  <tbody>\n",
              "    <tr>\n",
              "      <th>Female</th>\n",
              "      <td>54708</td>\n",
              "      <td>54708</td>\n",
              "      <td>54708</td>\n",
              "      <td>54708</td>\n",
              "      <td>54708</td>\n",
              "      <td>54708</td>\n",
              "      <td>54708</td>\n",
              "      <td>54708</td>\n",
              "      <td>54708</td>\n",
              "      <td>54708</td>\n",
              "      <td>54708</td>\n",
              "      <td>54708</td>\n",
              "      <td>54708</td>\n",
              "      <td>54708</td>\n",
              "      <td>54708</td>\n",
              "      <td>54708</td>\n",
              "      <td>54708</td>\n",
              "      <td>54708</td>\n",
              "      <td>54708</td>\n",
              "      <td>54708</td>\n",
              "      <td>54708</td>\n",
              "      <td>54708</td>\n",
              "      <td>54708</td>\n",
              "      <td>54708</td>\n",
              "      <td>54708</td>\n",
              "      <td>54708</td>\n",
              "      <td>54708</td>\n",
              "      <td>54708</td>\n",
              "      <td>54708</td>\n",
              "      <td>54708</td>\n",
              "      <td>54708</td>\n",
              "      <td>54708</td>\n",
              "      <td>54708</td>\n",
              "      <td>54708</td>\n",
              "      <td>54708</td>\n",
              "      <td>54708</td>\n",
              "      <td>54708</td>\n",
              "      <td>54708</td>\n",
              "    </tr>\n",
              "    <tr>\n",
              "      <th>Male</th>\n",
              "      <td>47055</td>\n",
              "      <td>47055</td>\n",
              "      <td>47055</td>\n",
              "      <td>47055</td>\n",
              "      <td>47055</td>\n",
              "      <td>47055</td>\n",
              "      <td>47055</td>\n",
              "      <td>47055</td>\n",
              "      <td>47055</td>\n",
              "      <td>47055</td>\n",
              "      <td>47055</td>\n",
              "      <td>47055</td>\n",
              "      <td>47055</td>\n",
              "      <td>47055</td>\n",
              "      <td>47055</td>\n",
              "      <td>47055</td>\n",
              "      <td>47055</td>\n",
              "      <td>47055</td>\n",
              "      <td>47055</td>\n",
              "      <td>47055</td>\n",
              "      <td>47055</td>\n",
              "      <td>47055</td>\n",
              "      <td>47055</td>\n",
              "      <td>47055</td>\n",
              "      <td>47055</td>\n",
              "      <td>47055</td>\n",
              "      <td>47055</td>\n",
              "      <td>47055</td>\n",
              "      <td>47055</td>\n",
              "      <td>47055</td>\n",
              "      <td>47055</td>\n",
              "      <td>47055</td>\n",
              "      <td>47055</td>\n",
              "      <td>47055</td>\n",
              "      <td>47055</td>\n",
              "      <td>47055</td>\n",
              "      <td>47055</td>\n",
              "      <td>47055</td>\n",
              "    </tr>\n",
              "    <tr>\n",
              "      <th>Unknown/Invalid</th>\n",
              "      <td>3</td>\n",
              "      <td>3</td>\n",
              "      <td>3</td>\n",
              "      <td>3</td>\n",
              "      <td>3</td>\n",
              "      <td>3</td>\n",
              "      <td>3</td>\n",
              "      <td>3</td>\n",
              "      <td>3</td>\n",
              "      <td>3</td>\n",
              "      <td>3</td>\n",
              "      <td>3</td>\n",
              "      <td>3</td>\n",
              "      <td>3</td>\n",
              "      <td>3</td>\n",
              "      <td>3</td>\n",
              "      <td>3</td>\n",
              "      <td>3</td>\n",
              "      <td>3</td>\n",
              "      <td>3</td>\n",
              "      <td>3</td>\n",
              "      <td>3</td>\n",
              "      <td>3</td>\n",
              "      <td>3</td>\n",
              "      <td>3</td>\n",
              "      <td>3</td>\n",
              "      <td>3</td>\n",
              "      <td>3</td>\n",
              "      <td>3</td>\n",
              "      <td>3</td>\n",
              "      <td>3</td>\n",
              "      <td>3</td>\n",
              "      <td>3</td>\n",
              "      <td>3</td>\n",
              "      <td>3</td>\n",
              "      <td>3</td>\n",
              "      <td>3</td>\n",
              "      <td>3</td>\n",
              "    </tr>\n",
              "  </tbody>\n",
              "</table>\n",
              "</div>"
            ],
            "text/plain": [
              "                  race    age  ...  diabetesMed  readmitted\n",
              "gender                         ...                         \n",
              "Female           54708  54708  ...        54708       54708\n",
              "Male             47055  47055  ...        47055       47055\n",
              "Unknown/Invalid      3      3  ...            3           3\n",
              "\n",
              "[3 rows x 38 columns]"
            ]
          },
          "metadata": {
            "tags": []
          },
          "execution_count": 90
        }
      ]
    },
    {
      "cell_type": "code",
      "metadata": {
        "id": "bDWSEtBVQNYo",
        "colab_type": "code",
        "outputId": "d79212b9-225a-4679-ee0b-d46269fa64f9",
        "colab": {
          "base_uri": "https://localhost:8080/",
          "height": 719
        }
      },
      "source": [
        "groupByChart('gender','Group By Gender')"
      ],
      "execution_count": 91,
      "outputs": [
        {
          "output_type": "display_data",
          "data": {
            "image/png": "[encoded data removed]",
            "text/plain": [
              "<Figure size 1440x720 with 1 Axes>"
            ]
          },
          "metadata": {
            "tags": []
          }
        }
      ]
    },
    {
      "cell_type": "markdown",
      "metadata": {
        "id": "pf4Cifgfl-8T",
        "colab_type": "text"
      },
      "source": [
        "##Group By Age"
      ]
    },
    {
      "cell_type": "code",
      "metadata": {
        "id": "rvXIKiLEvqYl",
        "colab_type": "code",
        "outputId": "3c890764-262a-408f-92dd-1cd9b0ca30ce",
        "colab": {
          "base_uri": "https://localhost:8080/",
          "height": 578
        }
      },
      "source": [
        "data.groupby('age').count()"
      ],
      "execution_count": 92,
      "outputs": [
        {
          "output_type": "execute_result",
          "data": {
            "text/html": [
              "<div>\n",
              "<style scoped>\n",
              "    .dataframe tbody tr th:only-of-type {\n",
              "        vertical-align: middle;\n",
              "    }\n",
              "\n",
              "    .dataframe tbody tr th {\n",
              "        vertical-align: top;\n",
              "    }\n",
              "\n",
              "    .dataframe thead th {\n",
              "        text-align: right;\n",
              "    }\n",
              "</style>\n",
              "<table border=\"1\" class=\"dataframe\">\n",
              "  <thead>\n",
              "    <tr style=\"text-align: right;\">\n",
              "      <th></th>\n",
              "      <th>race</th>\n",
              "      <th>gender</th>\n",
              "      <th>time_in_hospital</th>\n",
              "      <th>num_lab_procedures</th>\n",
              "      <th>num_procedures</th>\n",
              "      <th>num_medications</th>\n",
              "      <th>number_outpatient</th>\n",
              "      <th>number_emergency</th>\n",
              "      <th>number_inpatient</th>\n",
              "      <th>number_diagnoses</th>\n",
              "      <th>max_glu_serum</th>\n",
              "      <th>A1Cresult</th>\n",
              "      <th>metformin</th>\n",
              "      <th>repaglinide</th>\n",
              "      <th>nateglinide</th>\n",
              "      <th>chlorpropamide</th>\n",
              "      <th>glimepiride</th>\n",
              "      <th>acetohexamide</th>\n",
              "      <th>glipizide</th>\n",
              "      <th>glyburide</th>\n",
              "      <th>tolbutamide</th>\n",
              "      <th>pioglitazone</th>\n",
              "      <th>rosiglitazone</th>\n",
              "      <th>acarbose</th>\n",
              "      <th>miglitol</th>\n",
              "      <th>troglitazone</th>\n",
              "      <th>tolazamide</th>\n",
              "      <th>examide</th>\n",
              "      <th>citoglipton</th>\n",
              "      <th>insulin</th>\n",
              "      <th>glyburide-metformin</th>\n",
              "      <th>glipizide-metformin</th>\n",
              "      <th>glimepiride-pioglitazone</th>\n",
              "      <th>metformin-rosiglitazone</th>\n",
              "      <th>metformin-pioglitazone</th>\n",
              "      <th>change</th>\n",
              "      <th>diabetesMed</th>\n",
              "      <th>readmitted</th>\n",
              "    </tr>\n",
              "    <tr>\n",
              "      <th>age</th>\n",
              "      <th></th>\n",
              "      <th></th>\n",
              "      <th></th>\n",
              "      <th></th>\n",
              "      <th></th>\n",
              "      <th></th>\n",
              "      <th></th>\n",
              "      <th></th>\n",
              "      <th></th>\n",
              "      <th></th>\n",
              "      <th></th>\n",
              "      <th></th>\n",
              "      <th></th>\n",
              "      <th></th>\n",
              "      <th></th>\n",
              "      <th></th>\n",
              "      <th></th>\n",
              "      <th></th>\n",
              "      <th></th>\n",
              "      <th></th>\n",
              "      <th></th>\n",
              "      <th></th>\n",
              "      <th></th>\n",
              "      <th></th>\n",
              "      <th></th>\n",
              "      <th></th>\n",
              "      <th></th>\n",
              "      <th></th>\n",
              "      <th></th>\n",
              "      <th></th>\n",
              "      <th></th>\n",
              "      <th></th>\n",
              "      <th></th>\n",
              "      <th></th>\n",
              "      <th></th>\n",
              "      <th></th>\n",
              "      <th></th>\n",
              "      <th></th>\n",
              "    </tr>\n",
              "  </thead>\n",
              "  <tbody>\n",
              "    <tr>\n",
              "      <th>[0-10)</th>\n",
              "      <td>161</td>\n",
              "      <td>161</td>\n",
              "      <td>161</td>\n",
              "      <td>161</td>\n",
              "      <td>161</td>\n",
              "      <td>161</td>\n",
              "      <td>161</td>\n",
              "      <td>161</td>\n",
              "      <td>161</td>\n",
              "      <td>161</td>\n",
              "      <td>161</td>\n",
              "      <td>161</td>\n",
              "      <td>161</td>\n",
              "      <td>161</td>\n",
              "      <td>161</td>\n",
              "      <td>161</td>\n",
              "      <td>161</td>\n",
              "      <td>161</td>\n",
              "      <td>161</td>\n",
              "      <td>161</td>\n",
              "      <td>161</td>\n",
              "      <td>161</td>\n",
              "      <td>161</td>\n",
              "      <td>161</td>\n",
              "      <td>161</td>\n",
              "      <td>161</td>\n",
              "      <td>161</td>\n",
              "      <td>161</td>\n",
              "      <td>161</td>\n",
              "      <td>161</td>\n",
              "      <td>161</td>\n",
              "      <td>161</td>\n",
              "      <td>161</td>\n",
              "      <td>161</td>\n",
              "      <td>161</td>\n",
              "      <td>161</td>\n",
              "      <td>161</td>\n",
              "      <td>161</td>\n",
              "    </tr>\n",
              "    <tr>\n",
              "      <th>[10-20)</th>\n",
              "      <td>691</td>\n",
              "      <td>691</td>\n",
              "      <td>691</td>\n",
              "      <td>691</td>\n",
              "      <td>691</td>\n",
              "      <td>691</td>\n",
              "      <td>691</td>\n",
              "      <td>691</td>\n",
              "      <td>691</td>\n",
              "      <td>691</td>\n",
              "      <td>691</td>\n",
              "      <td>691</td>\n",
              "      <td>691</td>\n",
              "      <td>691</td>\n",
              "      <td>691</td>\n",
              "      <td>691</td>\n",
              "      <td>691</td>\n",
              "      <td>691</td>\n",
              "      <td>691</td>\n",
              "      <td>691</td>\n",
              "      <td>691</td>\n",
              "      <td>691</td>\n",
              "      <td>691</td>\n",
              "      <td>691</td>\n",
              "      <td>691</td>\n",
              "      <td>691</td>\n",
              "      <td>691</td>\n",
              "      <td>691</td>\n",
              "      <td>691</td>\n",
              "      <td>691</td>\n",
              "      <td>691</td>\n",
              "      <td>691</td>\n",
              "      <td>691</td>\n",
              "      <td>691</td>\n",
              "      <td>691</td>\n",
              "      <td>691</td>\n",
              "      <td>691</td>\n",
              "      <td>691</td>\n",
              "    </tr>\n",
              "    <tr>\n",
              "      <th>[20-30)</th>\n",
              "      <td>1657</td>\n",
              "      <td>1657</td>\n",
              "      <td>1657</td>\n",
              "      <td>1657</td>\n",
              "      <td>1657</td>\n",
              "      <td>1657</td>\n",
              "      <td>1657</td>\n",
              "      <td>1657</td>\n",
              "      <td>1657</td>\n",
              "      <td>1657</td>\n",
              "      <td>1657</td>\n",
              "      <td>1657</td>\n",
              "      <td>1657</td>\n",
              "      <td>1657</td>\n",
              "      <td>1657</td>\n",
              "      <td>1657</td>\n",
              "      <td>1657</td>\n",
              "      <td>1657</td>\n",
              "      <td>1657</td>\n",
              "      <td>1657</td>\n",
              "      <td>1657</td>\n",
              "      <td>1657</td>\n",
              "      <td>1657</td>\n",
              "      <td>1657</td>\n",
              "      <td>1657</td>\n",
              "      <td>1657</td>\n",
              "      <td>1657</td>\n",
              "      <td>1657</td>\n",
              "      <td>1657</td>\n",
              "      <td>1657</td>\n",
              "      <td>1657</td>\n",
              "      <td>1657</td>\n",
              "      <td>1657</td>\n",
              "      <td>1657</td>\n",
              "      <td>1657</td>\n",
              "      <td>1657</td>\n",
              "      <td>1657</td>\n",
              "      <td>1657</td>\n",
              "    </tr>\n",
              "    <tr>\n",
              "      <th>[30-40)</th>\n",
              "      <td>3775</td>\n",
              "      <td>3775</td>\n",
              "      <td>3775</td>\n",
              "      <td>3775</td>\n",
              "      <td>3775</td>\n",
              "      <td>3775</td>\n",
              "      <td>3775</td>\n",
              "      <td>3775</td>\n",
              "      <td>3775</td>\n",
              "      <td>3775</td>\n",
              "      <td>3775</td>\n",
              "      <td>3775</td>\n",
              "      <td>3775</td>\n",
              "      <td>3775</td>\n",
              "      <td>3775</td>\n",
              "      <td>3775</td>\n",
              "      <td>3775</td>\n",
              "      <td>3775</td>\n",
              "      <td>3775</td>\n",
              "      <td>3775</td>\n",
              "      <td>3775</td>\n",
              "      <td>3775</td>\n",
              "      <td>3775</td>\n",
              "      <td>3775</td>\n",
              "      <td>3775</td>\n",
              "      <td>3775</td>\n",
              "      <td>3775</td>\n",
              "      <td>3775</td>\n",
              "      <td>3775</td>\n",
              "      <td>3775</td>\n",
              "      <td>3775</td>\n",
              "      <td>3775</td>\n",
              "      <td>3775</td>\n",
              "      <td>3775</td>\n",
              "      <td>3775</td>\n",
              "      <td>3775</td>\n",
              "      <td>3775</td>\n",
              "      <td>3775</td>\n",
              "    </tr>\n",
              "    <tr>\n",
              "      <th>[40-50)</th>\n",
              "      <td>9685</td>\n",
              "      <td>9685</td>\n",
              "      <td>9685</td>\n",
              "      <td>9685</td>\n",
              "      <td>9685</td>\n",
              "      <td>9685</td>\n",
              "      <td>9685</td>\n",
              "      <td>9685</td>\n",
              "      <td>9685</td>\n",
              "      <td>9685</td>\n",
              "      <td>9685</td>\n",
              "      <td>9685</td>\n",
              "      <td>9685</td>\n",
              "      <td>9685</td>\n",
              "      <td>9685</td>\n",
              "      <td>9685</td>\n",
              "      <td>9685</td>\n",
              "      <td>9685</td>\n",
              "      <td>9685</td>\n",
              "      <td>9685</td>\n",
              "      <td>9685</td>\n",
              "      <td>9685</td>\n",
              "      <td>9685</td>\n",
              "      <td>9685</td>\n",
              "      <td>9685</td>\n",
              "      <td>9685</td>\n",
              "      <td>9685</td>\n",
              "      <td>9685</td>\n",
              "      <td>9685</td>\n",
              "      <td>9685</td>\n",
              "      <td>9685</td>\n",
              "      <td>9685</td>\n",
              "      <td>9685</td>\n",
              "      <td>9685</td>\n",
              "      <td>9685</td>\n",
              "      <td>9685</td>\n",
              "      <td>9685</td>\n",
              "      <td>9685</td>\n",
              "    </tr>\n",
              "    <tr>\n",
              "      <th>[50-60)</th>\n",
              "      <td>17256</td>\n",
              "      <td>17256</td>\n",
              "      <td>17256</td>\n",
              "      <td>17256</td>\n",
              "      <td>17256</td>\n",
              "      <td>17256</td>\n",
              "      <td>17256</td>\n",
              "      <td>17256</td>\n",
              "      <td>17256</td>\n",
              "      <td>17256</td>\n",
              "      <td>17256</td>\n",
              "      <td>17256</td>\n",
              "      <td>17256</td>\n",
              "      <td>17256</td>\n",
              "      <td>17256</td>\n",
              "      <td>17256</td>\n",
              "      <td>17256</td>\n",
              "      <td>17256</td>\n",
              "      <td>17256</td>\n",
              "      <td>17256</td>\n",
              "      <td>17256</td>\n",
              "      <td>17256</td>\n",
              "      <td>17256</td>\n",
              "      <td>17256</td>\n",
              "      <td>17256</td>\n",
              "      <td>17256</td>\n",
              "      <td>17256</td>\n",
              "      <td>17256</td>\n",
              "      <td>17256</td>\n",
              "      <td>17256</td>\n",
              "      <td>17256</td>\n",
              "      <td>17256</td>\n",
              "      <td>17256</td>\n",
              "      <td>17256</td>\n",
              "      <td>17256</td>\n",
              "      <td>17256</td>\n",
              "      <td>17256</td>\n",
              "      <td>17256</td>\n",
              "    </tr>\n",
              "    <tr>\n",
              "      <th>[60-70)</th>\n",
              "      <td>22483</td>\n",
              "      <td>22483</td>\n",
              "      <td>22483</td>\n",
              "      <td>22483</td>\n",
              "      <td>22483</td>\n",
              "      <td>22483</td>\n",
              "      <td>22483</td>\n",
              "      <td>22483</td>\n",
              "      <td>22483</td>\n",
              "      <td>22483</td>\n",
              "      <td>22483</td>\n",
              "      <td>22483</td>\n",
              "      <td>22483</td>\n",
              "      <td>22483</td>\n",
              "      <td>22483</td>\n",
              "      <td>22483</td>\n",
              "      <td>22483</td>\n",
              "      <td>22483</td>\n",
              "      <td>22483</td>\n",
              "      <td>22483</td>\n",
              "      <td>22483</td>\n",
              "      <td>22483</td>\n",
              "      <td>22483</td>\n",
              "      <td>22483</td>\n",
              "      <td>22483</td>\n",
              "      <td>22483</td>\n",
              "      <td>22483</td>\n",
              "      <td>22483</td>\n",
              "      <td>22483</td>\n",
              "      <td>22483</td>\n",
              "      <td>22483</td>\n",
              "      <td>22483</td>\n",
              "      <td>22483</td>\n",
              "      <td>22483</td>\n",
              "      <td>22483</td>\n",
              "      <td>22483</td>\n",
              "      <td>22483</td>\n",
              "      <td>22483</td>\n",
              "    </tr>\n",
              "    <tr>\n",
              "      <th>[70-80)</th>\n",
              "      <td>26068</td>\n",
              "      <td>26068</td>\n",
              "      <td>26068</td>\n",
              "      <td>26068</td>\n",
              "      <td>26068</td>\n",
              "      <td>26068</td>\n",
              "      <td>26068</td>\n",
              "      <td>26068</td>\n",
              "      <td>26068</td>\n",
              "      <td>26068</td>\n",
              "      <td>26068</td>\n",
              "      <td>26068</td>\n",
              "      <td>26068</td>\n",
              "      <td>26068</td>\n",
              "      <td>26068</td>\n",
              "      <td>26068</td>\n",
              "      <td>26068</td>\n",
              "      <td>26068</td>\n",
              "      <td>26068</td>\n",
              "      <td>26068</td>\n",
              "      <td>26068</td>\n",
              "      <td>26068</td>\n",
              "      <td>26068</td>\n",
              "      <td>26068</td>\n",
              "      <td>26068</td>\n",
              "      <td>26068</td>\n",
              "      <td>26068</td>\n",
              "      <td>26068</td>\n",
              "      <td>26068</td>\n",
              "      <td>26068</td>\n",
              "      <td>26068</td>\n",
              "      <td>26068</td>\n",
              "      <td>26068</td>\n",
              "      <td>26068</td>\n",
              "      <td>26068</td>\n",
              "      <td>26068</td>\n",
              "      <td>26068</td>\n",
              "      <td>26068</td>\n",
              "    </tr>\n",
              "    <tr>\n",
              "      <th>[80-90)</th>\n",
              "      <td>17197</td>\n",
              "      <td>17197</td>\n",
              "      <td>17197</td>\n",
              "      <td>17197</td>\n",
              "      <td>17197</td>\n",
              "      <td>17197</td>\n",
              "      <td>17197</td>\n",
              "      <td>17197</td>\n",
              "      <td>17197</td>\n",
              "      <td>17197</td>\n",
              "      <td>17197</td>\n",
              "      <td>17197</td>\n",
              "      <td>17197</td>\n",
              "      <td>17197</td>\n",
              "      <td>17197</td>\n",
              "      <td>17197</td>\n",
              "      <td>17197</td>\n",
              "      <td>17197</td>\n",
              "      <td>17197</td>\n",
              "      <td>17197</td>\n",
              "      <td>17197</td>\n",
              "      <td>17197</td>\n",
              "      <td>17197</td>\n",
              "      <td>17197</td>\n",
              "      <td>17197</td>\n",
              "      <td>17197</td>\n",
              "      <td>17197</td>\n",
              "      <td>17197</td>\n",
              "      <td>17197</td>\n",
              "      <td>17197</td>\n",
              "      <td>17197</td>\n",
              "      <td>17197</td>\n",
              "      <td>17197</td>\n",
              "      <td>17197</td>\n",
              "      <td>17197</td>\n",
              "      <td>17197</td>\n",
              "      <td>17197</td>\n",
              "      <td>17197</td>\n",
              "    </tr>\n",
              "    <tr>\n",
              "      <th>[90-100)</th>\n",
              "      <td>2793</td>\n",
              "      <td>2793</td>\n",
              "      <td>2793</td>\n",
              "      <td>2793</td>\n",
              "      <td>2793</td>\n",
              "      <td>2793</td>\n",
              "      <td>2793</td>\n",
              "      <td>2793</td>\n",
              "      <td>2793</td>\n",
              "      <td>2793</td>\n",
              "      <td>2793</td>\n",
              "      <td>2793</td>\n",
              "      <td>2793</td>\n",
              "      <td>2793</td>\n",
              "      <td>2793</td>\n",
              "      <td>2793</td>\n",
              "      <td>2793</td>\n",
              "      <td>2793</td>\n",
              "      <td>2793</td>\n",
              "      <td>2793</td>\n",
              "      <td>2793</td>\n",
              "      <td>2793</td>\n",
              "      <td>2793</td>\n",
              "      <td>2793</td>\n",
              "      <td>2793</td>\n",
              "      <td>2793</td>\n",
              "      <td>2793</td>\n",
              "      <td>2793</td>\n",
              "      <td>2793</td>\n",
              "      <td>2793</td>\n",
              "      <td>2793</td>\n",
              "      <td>2793</td>\n",
              "      <td>2793</td>\n",
              "      <td>2793</td>\n",
              "      <td>2793</td>\n",
              "      <td>2793</td>\n",
              "      <td>2793</td>\n",
              "      <td>2793</td>\n",
              "    </tr>\n",
              "  </tbody>\n",
              "</table>\n",
              "</div>"
            ],
            "text/plain": [
              "           race  gender  time_in_hospital  ...  change  diabetesMed  readmitted\n",
              "age                                        ...                                 \n",
              "[0-10)      161     161               161  ...     161          161         161\n",
              "[10-20)     691     691               691  ...     691          691         691\n",
              "[20-30)    1657    1657              1657  ...    1657         1657        1657\n",
              "[30-40)    3775    3775              3775  ...    3775         3775        3775\n",
              "[40-50)    9685    9685              9685  ...    9685         9685        9685\n",
              "[50-60)   17256   17256             17256  ...   17256        17256       17256\n",
              "[60-70)   22483   22483             22483  ...   22483        22483       22483\n",
              "[70-80)   26068   26068             26068  ...   26068        26068       26068\n",
              "[80-90)   17197   17197             17197  ...   17197        17197       17197\n",
              "[90-100)   2793    2793              2793  ...    2793         2793        2793\n",
              "\n",
              "[10 rows x 38 columns]"
            ]
          },
          "metadata": {
            "tags": []
          },
          "execution_count": 92
        }
      ]
    },
    {
      "cell_type": "code",
      "metadata": {
        "id": "HJejpqtBl-iF",
        "colab_type": "code",
        "outputId": "9774e816-a2a0-43d0-8fad-954065b31653",
        "colab": {
          "base_uri": "https://localhost:8080/",
          "height": 719
        }
      },
      "source": [
        "groupByChart('age','Group by Age')"
      ],
      "execution_count": 93,
      "outputs": [
        {
          "output_type": "display_data",
          "data": {
            "image/png": "[encoded data removed]",
            "text/plain": [
              "<Figure size 1440x720 with 1 Axes>"
            ]
          },
          "metadata": {
            "tags": []
          }
        }
      ]
    },
    {
      "cell_type": "markdown",
      "metadata": {
        "id": "SjZvlYG5v9p4",
        "colab_type": "text"
      },
      "source": [
        "##Group By Race\n"
      ]
    },
    {
      "cell_type": "code",
      "metadata": {
        "id": "kwFIYSMzwusN",
        "colab_type": "code",
        "outputId": "fbdcd726-8e43-4b6b-e6b1-40bf13cfc3a0",
        "colab": {
          "base_uri": "https://localhost:8080/",
          "height": 291
        }
      },
      "source": [
        "data.groupby('race').count()"
      ],
      "execution_count": 94,
      "outputs": [
        {
          "output_type": "execute_result",
          "data": {
            "text/html": [
              "<div>\n",
              "<style scoped>\n",
              "    .dataframe tbody tr th:only-of-type {\n",
              "        vertical-align: middle;\n",
              "    }\n",
              "\n",
              "    .dataframe tbody tr th {\n",
              "        vertical-align: top;\n",
              "    }\n",
              "\n",
              "    .dataframe thead th {\n",
              "        text-align: right;\n",
              "    }\n",
              "</style>\n",
              "<table border=\"1\" class=\"dataframe\">\n",
              "  <thead>\n",
              "    <tr style=\"text-align: right;\">\n",
              "      <th></th>\n",
              "      <th>gender</th>\n",
              "      <th>age</th>\n",
              "      <th>time_in_hospital</th>\n",
              "      <th>num_lab_procedures</th>\n",
              "      <th>num_procedures</th>\n",
              "      <th>num_medications</th>\n",
              "      <th>number_outpatient</th>\n",
              "      <th>number_emergency</th>\n",
              "      <th>number_inpatient</th>\n",
              "      <th>number_diagnoses</th>\n",
              "      <th>max_glu_serum</th>\n",
              "      <th>A1Cresult</th>\n",
              "      <th>metformin</th>\n",
              "      <th>repaglinide</th>\n",
              "      <th>nateglinide</th>\n",
              "      <th>chlorpropamide</th>\n",
              "      <th>glimepiride</th>\n",
              "      <th>acetohexamide</th>\n",
              "      <th>glipizide</th>\n",
              "      <th>glyburide</th>\n",
              "      <th>tolbutamide</th>\n",
              "      <th>pioglitazone</th>\n",
              "      <th>rosiglitazone</th>\n",
              "      <th>acarbose</th>\n",
              "      <th>miglitol</th>\n",
              "      <th>troglitazone</th>\n",
              "      <th>tolazamide</th>\n",
              "      <th>examide</th>\n",
              "      <th>citoglipton</th>\n",
              "      <th>insulin</th>\n",
              "      <th>glyburide-metformin</th>\n",
              "      <th>glipizide-metformin</th>\n",
              "      <th>glimepiride-pioglitazone</th>\n",
              "      <th>metformin-rosiglitazone</th>\n",
              "      <th>metformin-pioglitazone</th>\n",
              "      <th>change</th>\n",
              "      <th>diabetesMed</th>\n",
              "      <th>readmitted</th>\n",
              "    </tr>\n",
              "    <tr>\n",
              "      <th>race</th>\n",
              "      <th></th>\n",
              "      <th></th>\n",
              "      <th></th>\n",
              "      <th></th>\n",
              "      <th></th>\n",
              "      <th></th>\n",
              "      <th></th>\n",
              "      <th></th>\n",
              "      <th></th>\n",
              "      <th></th>\n",
              "      <th></th>\n",
              "      <th></th>\n",
              "      <th></th>\n",
              "      <th></th>\n",
              "      <th></th>\n",
              "      <th></th>\n",
              "      <th></th>\n",
              "      <th></th>\n",
              "      <th></th>\n",
              "      <th></th>\n",
              "      <th></th>\n",
              "      <th></th>\n",
              "      <th></th>\n",
              "      <th></th>\n",
              "      <th></th>\n",
              "      <th></th>\n",
              "      <th></th>\n",
              "      <th></th>\n",
              "      <th></th>\n",
              "      <th></th>\n",
              "      <th></th>\n",
              "      <th></th>\n",
              "      <th></th>\n",
              "      <th></th>\n",
              "      <th></th>\n",
              "      <th></th>\n",
              "      <th></th>\n",
              "      <th></th>\n",
              "    </tr>\n",
              "  </thead>\n",
              "  <tbody>\n",
              "    <tr>\n",
              "      <th>?</th>\n",
              "      <td>2273</td>\n",
              "      <td>2273</td>\n",
              "      <td>2273</td>\n",
              "      <td>2273</td>\n",
              "      <td>2273</td>\n",
              "      <td>2273</td>\n",
              "      <td>2273</td>\n",
              "      <td>2273</td>\n",
              "      <td>2273</td>\n",
              "      <td>2273</td>\n",
              "      <td>2273</td>\n",
              "      <td>2273</td>\n",
              "      <td>2273</td>\n",
              "      <td>2273</td>\n",
              "      <td>2273</td>\n",
              "      <td>2273</td>\n",
              "      <td>2273</td>\n",
              "      <td>2273</td>\n",
              "      <td>2273</td>\n",
              "      <td>2273</td>\n",
              "      <td>2273</td>\n",
              "      <td>2273</td>\n",
              "      <td>2273</td>\n",
              "      <td>2273</td>\n",
              "      <td>2273</td>\n",
              "      <td>2273</td>\n",
              "      <td>2273</td>\n",
              "      <td>2273</td>\n",
              "      <td>2273</td>\n",
              "      <td>2273</td>\n",
              "      <td>2273</td>\n",
              "      <td>2273</td>\n",
              "      <td>2273</td>\n",
              "      <td>2273</td>\n",
              "      <td>2273</td>\n",
              "      <td>2273</td>\n",
              "      <td>2273</td>\n",
              "      <td>2273</td>\n",
              "    </tr>\n",
              "    <tr>\n",
              "      <th>AfricanAmerican</th>\n",
              "      <td>19210</td>\n",
              "      <td>19210</td>\n",
              "      <td>19210</td>\n",
              "      <td>19210</td>\n",
              "      <td>19210</td>\n",
              "      <td>19210</td>\n",
              "      <td>19210</td>\n",
              "      <td>19210</td>\n",
              "      <td>19210</td>\n",
              "      <td>19210</td>\n",
              "      <td>19210</td>\n",
              "      <td>19210</td>\n",
              "      <td>19210</td>\n",
              "      <td>19210</td>\n",
              "      <td>19210</td>\n",
              "      <td>19210</td>\n",
              "      <td>19210</td>\n",
              "      <td>19210</td>\n",
              "      <td>19210</td>\n",
              "      <td>19210</td>\n",
              "      <td>19210</td>\n",
              "      <td>19210</td>\n",
              "      <td>19210</td>\n",
              "      <td>19210</td>\n",
              "      <td>19210</td>\n",
              "      <td>19210</td>\n",
              "      <td>19210</td>\n",
              "      <td>19210</td>\n",
              "      <td>19210</td>\n",
              "      <td>19210</td>\n",
              "      <td>19210</td>\n",
              "      <td>19210</td>\n",
              "      <td>19210</td>\n",
              "      <td>19210</td>\n",
              "      <td>19210</td>\n",
              "      <td>19210</td>\n",
              "      <td>19210</td>\n",
              "      <td>19210</td>\n",
              "    </tr>\n",
              "    <tr>\n",
              "      <th>Asian</th>\n",
              "      <td>641</td>\n",
              "      <td>641</td>\n",
              "      <td>641</td>\n",
              "      <td>641</td>\n",
              "      <td>641</td>\n",
              "      <td>641</td>\n",
              "      <td>641</td>\n",
              "      <td>641</td>\n",
              "      <td>641</td>\n",
              "      <td>641</td>\n",
              "      <td>641</td>\n",
              "      <td>641</td>\n",
              "      <td>641</td>\n",
              "      <td>641</td>\n",
              "      <td>641</td>\n",
              "      <td>641</td>\n",
              "      <td>641</td>\n",
              "      <td>641</td>\n",
              "      <td>641</td>\n",
              "      <td>641</td>\n",
              "      <td>641</td>\n",
              "      <td>641</td>\n",
              "      <td>641</td>\n",
              "      <td>641</td>\n",
              "      <td>641</td>\n",
              "      <td>641</td>\n",
              "      <td>641</td>\n",
              "      <td>641</td>\n",
              "      <td>641</td>\n",
              "      <td>641</td>\n",
              "      <td>641</td>\n",
              "      <td>641</td>\n",
              "      <td>641</td>\n",
              "      <td>641</td>\n",
              "      <td>641</td>\n",
              "      <td>641</td>\n",
              "      <td>641</td>\n",
              "      <td>641</td>\n",
              "    </tr>\n",
              "    <tr>\n",
              "      <th>Caucasian</th>\n",
              "      <td>76099</td>\n",
              "      <td>76099</td>\n",
              "      <td>76099</td>\n",
              "      <td>76099</td>\n",
              "      <td>76099</td>\n",
              "      <td>76099</td>\n",
              "      <td>76099</td>\n",
              "      <td>76099</td>\n",
              "      <td>76099</td>\n",
              "      <td>76099</td>\n",
              "      <td>76099</td>\n",
              "      <td>76099</td>\n",
              "      <td>76099</td>\n",
              "      <td>76099</td>\n",
              "      <td>76099</td>\n",
              "      <td>76099</td>\n",
              "      <td>76099</td>\n",
              "      <td>76099</td>\n",
              "      <td>76099</td>\n",
              "      <td>76099</td>\n",
              "      <td>76099</td>\n",
              "      <td>76099</td>\n",
              "      <td>76099</td>\n",
              "      <td>76099</td>\n",
              "      <td>76099</td>\n",
              "      <td>76099</td>\n",
              "      <td>76099</td>\n",
              "      <td>76099</td>\n",
              "      <td>76099</td>\n",
              "      <td>76099</td>\n",
              "      <td>76099</td>\n",
              "      <td>76099</td>\n",
              "      <td>76099</td>\n",
              "      <td>76099</td>\n",
              "      <td>76099</td>\n",
              "      <td>76099</td>\n",
              "      <td>76099</td>\n",
              "      <td>76099</td>\n",
              "    </tr>\n",
              "    <tr>\n",
              "      <th>Hispanic</th>\n",
              "      <td>2037</td>\n",
              "      <td>2037</td>\n",
              "      <td>2037</td>\n",
              "      <td>2037</td>\n",
              "      <td>2037</td>\n",
              "      <td>2037</td>\n",
              "      <td>2037</td>\n",
              "      <td>2037</td>\n",
              "      <td>2037</td>\n",
              "      <td>2037</td>\n",
              "      <td>2037</td>\n",
              "      <td>2037</td>\n",
              "      <td>2037</td>\n",
              "      <td>2037</td>\n",
              "      <td>2037</td>\n",
              "      <td>2037</td>\n",
              "      <td>2037</td>\n",
              "      <td>2037</td>\n",
              "      <td>2037</td>\n",
              "      <td>2037</td>\n",
              "      <td>2037</td>\n",
              "      <td>2037</td>\n",
              "      <td>2037</td>\n",
              "      <td>2037</td>\n",
              "      <td>2037</td>\n",
              "      <td>2037</td>\n",
              "      <td>2037</td>\n",
              "      <td>2037</td>\n",
              "      <td>2037</td>\n",
              "      <td>2037</td>\n",
              "      <td>2037</td>\n",
              "      <td>2037</td>\n",
              "      <td>2037</td>\n",
              "      <td>2037</td>\n",
              "      <td>2037</td>\n",
              "      <td>2037</td>\n",
              "      <td>2037</td>\n",
              "      <td>2037</td>\n",
              "    </tr>\n",
              "    <tr>\n",
              "      <th>Other</th>\n",
              "      <td>1506</td>\n",
              "      <td>1506</td>\n",
              "      <td>1506</td>\n",
              "      <td>1506</td>\n",
              "      <td>1506</td>\n",
              "      <td>1506</td>\n",
              "      <td>1506</td>\n",
              "      <td>1506</td>\n",
              "      <td>1506</td>\n",
              "      <td>1506</td>\n",
              "      <td>1506</td>\n",
              "      <td>1506</td>\n",
              "      <td>1506</td>\n",
              "      <td>1506</td>\n",
              "      <td>1506</td>\n",
              "      <td>1506</td>\n",
              "      <td>1506</td>\n",
              "      <td>1506</td>\n",
              "      <td>1506</td>\n",
              "      <td>1506</td>\n",
              "      <td>1506</td>\n",
              "      <td>1506</td>\n",
              "      <td>1506</td>\n",
              "      <td>1506</td>\n",
              "      <td>1506</td>\n",
              "      <td>1506</td>\n",
              "      <td>1506</td>\n",
              "      <td>1506</td>\n",
              "      <td>1506</td>\n",
              "      <td>1506</td>\n",
              "      <td>1506</td>\n",
              "      <td>1506</td>\n",
              "      <td>1506</td>\n",
              "      <td>1506</td>\n",
              "      <td>1506</td>\n",
              "      <td>1506</td>\n",
              "      <td>1506</td>\n",
              "      <td>1506</td>\n",
              "    </tr>\n",
              "  </tbody>\n",
              "</table>\n",
              "</div>"
            ],
            "text/plain": [
              "                 gender    age  ...  diabetesMed  readmitted\n",
              "race                            ...                         \n",
              "?                  2273   2273  ...         2273        2273\n",
              "AfricanAmerican   19210  19210  ...        19210       19210\n",
              "Asian               641    641  ...          641         641\n",
              "Caucasian         76099  76099  ...        76099       76099\n",
              "Hispanic           2037   2037  ...         2037        2037\n",
              "Other              1506   1506  ...         1506        1506\n",
              "\n",
              "[6 rows x 38 columns]"
            ]
          },
          "metadata": {
            "tags": []
          },
          "execution_count": 94
        }
      ]
    },
    {
      "cell_type": "code",
      "metadata": {
        "id": "ydaBenKRwFv1",
        "colab_type": "code",
        "outputId": "1cf28479-081b-4d99-80ec-b635ea8561a5",
        "colab": {
          "base_uri": "https://localhost:8080/",
          "height": 719
        }
      },
      "source": [
        "groupByChart('race','Group By Race')"
      ],
      "execution_count": 95,
      "outputs": [
        {
          "output_type": "display_data",
          "data": {
            "image/png": "[encoded data removed]",
            "text/plain": [
              "<Figure size 1440x720 with 1 Axes>"
            ]
          },
          "metadata": {
            "tags": []
          }
        }
      ]
    },
    {
      "cell_type": "markdown",
      "metadata": {
        "id": "hQK0Vx8iwXjv",
        "colab_type": "text"
      },
      "source": [
        "##Group By Diabetes Medication Prescribed"
      ]
    },
    {
      "cell_type": "code",
      "metadata": {
        "id": "UkiS9NWawzuY",
        "colab_type": "code",
        "outputId": "9f5cdea6-a6d9-4ec2-94dd-8db9addb755f",
        "colab": {
          "base_uri": "https://localhost:8080/",
          "height": 173
        }
      },
      "source": [
        "data.groupby('diabetesMed').count()"
      ],
      "execution_count": 96,
      "outputs": [
        {
          "output_type": "execute_result",
          "data": {
            "text/html": [
              "<div>\n",
              "<style scoped>\n",
              "    .dataframe tbody tr th:only-of-type {\n",
              "        vertical-align: middle;\n",
              "    }\n",
              "\n",
              "    .dataframe tbody tr th {\n",
              "        vertical-align: top;\n",
              "    }\n",
              "\n",
              "    .dataframe thead th {\n",
              "        text-align: right;\n",
              "    }\n",
              "</style>\n",
              "<table border=\"1\" class=\"dataframe\">\n",
              "  <thead>\n",
              "    <tr style=\"text-align: right;\">\n",
              "      <th></th>\n",
              "      <th>race</th>\n",
              "      <th>gender</th>\n",
              "      <th>age</th>\n",
              "      <th>time_in_hospital</th>\n",
              "      <th>num_lab_procedures</th>\n",
              "      <th>num_procedures</th>\n",
              "      <th>num_medications</th>\n",
              "      <th>number_outpatient</th>\n",
              "      <th>number_emergency</th>\n",
              "      <th>number_inpatient</th>\n",
              "      <th>number_diagnoses</th>\n",
              "      <th>max_glu_serum</th>\n",
              "      <th>A1Cresult</th>\n",
              "      <th>metformin</th>\n",
              "      <th>repaglinide</th>\n",
              "      <th>nateglinide</th>\n",
              "      <th>chlorpropamide</th>\n",
              "      <th>glimepiride</th>\n",
              "      <th>acetohexamide</th>\n",
              "      <th>glipizide</th>\n",
              "      <th>glyburide</th>\n",
              "      <th>tolbutamide</th>\n",
              "      <th>pioglitazone</th>\n",
              "      <th>rosiglitazone</th>\n",
              "      <th>acarbose</th>\n",
              "      <th>miglitol</th>\n",
              "      <th>troglitazone</th>\n",
              "      <th>tolazamide</th>\n",
              "      <th>examide</th>\n",
              "      <th>citoglipton</th>\n",
              "      <th>insulin</th>\n",
              "      <th>glyburide-metformin</th>\n",
              "      <th>glipizide-metformin</th>\n",
              "      <th>glimepiride-pioglitazone</th>\n",
              "      <th>metformin-rosiglitazone</th>\n",
              "      <th>metformin-pioglitazone</th>\n",
              "      <th>change</th>\n",
              "      <th>readmitted</th>\n",
              "    </tr>\n",
              "    <tr>\n",
              "      <th>diabetesMed</th>\n",
              "      <th></th>\n",
              "      <th></th>\n",
              "      <th></th>\n",
              "      <th></th>\n",
              "      <th></th>\n",
              "      <th></th>\n",
              "      <th></th>\n",
              "      <th></th>\n",
              "      <th></th>\n",
              "      <th></th>\n",
              "      <th></th>\n",
              "      <th></th>\n",
              "      <th></th>\n",
              "      <th></th>\n",
              "      <th></th>\n",
              "      <th></th>\n",
              "      <th></th>\n",
              "      <th></th>\n",
              "      <th></th>\n",
              "      <th></th>\n",
              "      <th></th>\n",
              "      <th></th>\n",
              "      <th></th>\n",
              "      <th></th>\n",
              "      <th></th>\n",
              "      <th></th>\n",
              "      <th></th>\n",
              "      <th></th>\n",
              "      <th></th>\n",
              "      <th></th>\n",
              "      <th></th>\n",
              "      <th></th>\n",
              "      <th></th>\n",
              "      <th></th>\n",
              "      <th></th>\n",
              "      <th></th>\n",
              "      <th></th>\n",
              "      <th></th>\n",
              "    </tr>\n",
              "  </thead>\n",
              "  <tbody>\n",
              "    <tr>\n",
              "      <th>No</th>\n",
              "      <td>23403</td>\n",
              "      <td>23403</td>\n",
              "      <td>23403</td>\n",
              "      <td>23403</td>\n",
              "      <td>23403</td>\n",
              "      <td>23403</td>\n",
              "      <td>23403</td>\n",
              "      <td>23403</td>\n",
              "      <td>23403</td>\n",
              "      <td>23403</td>\n",
              "      <td>23403</td>\n",
              "      <td>23403</td>\n",
              "      <td>23403</td>\n",
              "      <td>23403</td>\n",
              "      <td>23403</td>\n",
              "      <td>23403</td>\n",
              "      <td>23403</td>\n",
              "      <td>23403</td>\n",
              "      <td>23403</td>\n",
              "      <td>23403</td>\n",
              "      <td>23403</td>\n",
              "      <td>23403</td>\n",
              "      <td>23403</td>\n",
              "      <td>23403</td>\n",
              "      <td>23403</td>\n",
              "      <td>23403</td>\n",
              "      <td>23403</td>\n",
              "      <td>23403</td>\n",
              "      <td>23403</td>\n",
              "      <td>23403</td>\n",
              "      <td>23403</td>\n",
              "      <td>23403</td>\n",
              "      <td>23403</td>\n",
              "      <td>23403</td>\n",
              "      <td>23403</td>\n",
              "      <td>23403</td>\n",
              "      <td>23403</td>\n",
              "      <td>23403</td>\n",
              "    </tr>\n",
              "    <tr>\n",
              "      <th>Yes</th>\n",
              "      <td>78363</td>\n",
              "      <td>78363</td>\n",
              "      <td>78363</td>\n",
              "      <td>78363</td>\n",
              "      <td>78363</td>\n",
              "      <td>78363</td>\n",
              "      <td>78363</td>\n",
              "      <td>78363</td>\n",
              "      <td>78363</td>\n",
              "      <td>78363</td>\n",
              "      <td>78363</td>\n",
              "      <td>78363</td>\n",
              "      <td>78363</td>\n",
              "      <td>78363</td>\n",
              "      <td>78363</td>\n",
              "      <td>78363</td>\n",
              "      <td>78363</td>\n",
              "      <td>78363</td>\n",
              "      <td>78363</td>\n",
              "      <td>78363</td>\n",
              "      <td>78363</td>\n",
              "      <td>78363</td>\n",
              "      <td>78363</td>\n",
              "      <td>78363</td>\n",
              "      <td>78363</td>\n",
              "      <td>78363</td>\n",
              "      <td>78363</td>\n",
              "      <td>78363</td>\n",
              "      <td>78363</td>\n",
              "      <td>78363</td>\n",
              "      <td>78363</td>\n",
              "      <td>78363</td>\n",
              "      <td>78363</td>\n",
              "      <td>78363</td>\n",
              "      <td>78363</td>\n",
              "      <td>78363</td>\n",
              "      <td>78363</td>\n",
              "      <td>78363</td>\n",
              "    </tr>\n",
              "  </tbody>\n",
              "</table>\n",
              "</div>"
            ],
            "text/plain": [
              "              race  gender    age  ...  metformin-pioglitazone  change  readmitted\n",
              "diabetesMed                        ...                                            \n",
              "No           23403   23403  23403  ...                   23403   23403       23403\n",
              "Yes          78363   78363  78363  ...                   78363   78363       78363\n",
              "\n",
              "[2 rows x 38 columns]"
            ]
          },
          "metadata": {
            "tags": []
          },
          "execution_count": 96
        }
      ]
    },
    {
      "cell_type": "code",
      "metadata": {
        "id": "kopa5jtkwfRD",
        "colab_type": "code",
        "outputId": "8ec55268-e5f3-4262-baae-987c154b3eb4",
        "colab": {
          "base_uri": "https://localhost:8080/",
          "height": 719
        }
      },
      "source": [
        "groupByChart('diabetesMed','Group By Diabetes Medication Prescribed')"
      ],
      "execution_count": 97,
      "outputs": [
        {
          "output_type": "display_data",
          "data": {
            "image/png": "[encoded data removed]",
            "text/plain": [
              "<Figure size 1440x720 with 1 Axes>"
            ]
          },
          "metadata": {
            "tags": []
          }
        }
      ]
    },
    {
      "cell_type": "markdown",
      "metadata": {
        "id": "OdJ_Jhqo4ZUY",
        "colab_type": "text"
      },
      "source": [
        "## Group by Readmitted"
      ]
    },
    {
      "cell_type": "code",
      "metadata": {
        "id": "W8-MSHx603OT",
        "colab_type": "code",
        "outputId": "91771978-3f4d-4a06-f245-dcf3e04fb12f",
        "colab": {
          "base_uri": "https://localhost:8080/",
          "height": 202
        }
      },
      "source": [
        "data.groupby('readmitted').count()"
      ],
      "execution_count": 98,
      "outputs": [
        {
          "output_type": "execute_result",
          "data": {
            "text/html": [
              "<div>\n",
              "<style scoped>\n",
              "    .dataframe tbody tr th:only-of-type {\n",
              "        vertical-align: middle;\n",
              "    }\n",
              "\n",
              "    .dataframe tbody tr th {\n",
              "        vertical-align: top;\n",
              "    }\n",
              "\n",
              "    .dataframe thead th {\n",
              "        text-align: right;\n",
              "    }\n",
              "</style>\n",
              "<table border=\"1\" class=\"dataframe\">\n",
              "  <thead>\n",
              "    <tr style=\"text-align: right;\">\n",
              "      <th></th>\n",
              "      <th>race</th>\n",
              "      <th>gender</th>\n",
              "      <th>age</th>\n",
              "      <th>time_in_hospital</th>\n",
              "      <th>num_lab_procedures</th>\n",
              "      <th>num_procedures</th>\n",
              "      <th>num_medications</th>\n",
              "      <th>number_outpatient</th>\n",
              "      <th>number_emergency</th>\n",
              "      <th>number_inpatient</th>\n",
              "      <th>number_diagnoses</th>\n",
              "      <th>max_glu_serum</th>\n",
              "      <th>A1Cresult</th>\n",
              "      <th>metformin</th>\n",
              "      <th>repaglinide</th>\n",
              "      <th>nateglinide</th>\n",
              "      <th>chlorpropamide</th>\n",
              "      <th>glimepiride</th>\n",
              "      <th>acetohexamide</th>\n",
              "      <th>glipizide</th>\n",
              "      <th>glyburide</th>\n",
              "      <th>tolbutamide</th>\n",
              "      <th>pioglitazone</th>\n",
              "      <th>rosiglitazone</th>\n",
              "      <th>acarbose</th>\n",
              "      <th>miglitol</th>\n",
              "      <th>troglitazone</th>\n",
              "      <th>tolazamide</th>\n",
              "      <th>examide</th>\n",
              "      <th>citoglipton</th>\n",
              "      <th>insulin</th>\n",
              "      <th>glyburide-metformin</th>\n",
              "      <th>glipizide-metformin</th>\n",
              "      <th>glimepiride-pioglitazone</th>\n",
              "      <th>metformin-rosiglitazone</th>\n",
              "      <th>metformin-pioglitazone</th>\n",
              "      <th>change</th>\n",
              "      <th>diabetesMed</th>\n",
              "    </tr>\n",
              "    <tr>\n",
              "      <th>readmitted</th>\n",
              "      <th></th>\n",
              "      <th></th>\n",
              "      <th></th>\n",
              "      <th></th>\n",
              "      <th></th>\n",
              "      <th></th>\n",
              "      <th></th>\n",
              "      <th></th>\n",
              "      <th></th>\n",
              "      <th></th>\n",
              "      <th></th>\n",
              "      <th></th>\n",
              "      <th></th>\n",
              "      <th></th>\n",
              "      <th></th>\n",
              "      <th></th>\n",
              "      <th></th>\n",
              "      <th></th>\n",
              "      <th></th>\n",
              "      <th></th>\n",
              "      <th></th>\n",
              "      <th></th>\n",
              "      <th></th>\n",
              "      <th></th>\n",
              "      <th></th>\n",
              "      <th></th>\n",
              "      <th></th>\n",
              "      <th></th>\n",
              "      <th></th>\n",
              "      <th></th>\n",
              "      <th></th>\n",
              "      <th></th>\n",
              "      <th></th>\n",
              "      <th></th>\n",
              "      <th></th>\n",
              "      <th></th>\n",
              "      <th></th>\n",
              "      <th></th>\n",
              "    </tr>\n",
              "  </thead>\n",
              "  <tbody>\n",
              "    <tr>\n",
              "      <th>&lt;30</th>\n",
              "      <td>11357</td>\n",
              "      <td>11357</td>\n",
              "      <td>11357</td>\n",
              "      <td>11357</td>\n",
              "      <td>11357</td>\n",
              "      <td>11357</td>\n",
              "      <td>11357</td>\n",
              "      <td>11357</td>\n",
              "      <td>11357</td>\n",
              "      <td>11357</td>\n",
              "      <td>11357</td>\n",
              "      <td>11357</td>\n",
              "      <td>11357</td>\n",
              "      <td>11357</td>\n",
              "      <td>11357</td>\n",
              "      <td>11357</td>\n",
              "      <td>11357</td>\n",
              "      <td>11357</td>\n",
              "      <td>11357</td>\n",
              "      <td>11357</td>\n",
              "      <td>11357</td>\n",
              "      <td>11357</td>\n",
              "      <td>11357</td>\n",
              "      <td>11357</td>\n",
              "      <td>11357</td>\n",
              "      <td>11357</td>\n",
              "      <td>11357</td>\n",
              "      <td>11357</td>\n",
              "      <td>11357</td>\n",
              "      <td>11357</td>\n",
              "      <td>11357</td>\n",
              "      <td>11357</td>\n",
              "      <td>11357</td>\n",
              "      <td>11357</td>\n",
              "      <td>11357</td>\n",
              "      <td>11357</td>\n",
              "      <td>11357</td>\n",
              "      <td>11357</td>\n",
              "    </tr>\n",
              "    <tr>\n",
              "      <th>&gt;30</th>\n",
              "      <td>35545</td>\n",
              "      <td>35545</td>\n",
              "      <td>35545</td>\n",
              "      <td>35545</td>\n",
              "      <td>35545</td>\n",
              "      <td>35545</td>\n",
              "      <td>35545</td>\n",
              "      <td>35545</td>\n",
              "      <td>35545</td>\n",
              "      <td>35545</td>\n",
              "      <td>35545</td>\n",
              "      <td>35545</td>\n",
              "      <td>35545</td>\n",
              "      <td>35545</td>\n",
              "      <td>35545</td>\n",
              "      <td>35545</td>\n",
              "      <td>35545</td>\n",
              "      <td>35545</td>\n",
              "      <td>35545</td>\n",
              "      <td>35545</td>\n",
              "      <td>35545</td>\n",
              "      <td>35545</td>\n",
              "      <td>35545</td>\n",
              "      <td>35545</td>\n",
              "      <td>35545</td>\n",
              "      <td>35545</td>\n",
              "      <td>35545</td>\n",
              "      <td>35545</td>\n",
              "      <td>35545</td>\n",
              "      <td>35545</td>\n",
              "      <td>35545</td>\n",
              "      <td>35545</td>\n",
              "      <td>35545</td>\n",
              "      <td>35545</td>\n",
              "      <td>35545</td>\n",
              "      <td>35545</td>\n",
              "      <td>35545</td>\n",
              "      <td>35545</td>\n",
              "    </tr>\n",
              "    <tr>\n",
              "      <th>NO</th>\n",
              "      <td>54864</td>\n",
              "      <td>54864</td>\n",
              "      <td>54864</td>\n",
              "      <td>54864</td>\n",
              "      <td>54864</td>\n",
              "      <td>54864</td>\n",
              "      <td>54864</td>\n",
              "      <td>54864</td>\n",
              "      <td>54864</td>\n",
              "      <td>54864</td>\n",
              "      <td>54864</td>\n",
              "      <td>54864</td>\n",
              "      <td>54864</td>\n",
              "      <td>54864</td>\n",
              "      <td>54864</td>\n",
              "      <td>54864</td>\n",
              "      <td>54864</td>\n",
              "      <td>54864</td>\n",
              "      <td>54864</td>\n",
              "      <td>54864</td>\n",
              "      <td>54864</td>\n",
              "      <td>54864</td>\n",
              "      <td>54864</td>\n",
              "      <td>54864</td>\n",
              "      <td>54864</td>\n",
              "      <td>54864</td>\n",
              "      <td>54864</td>\n",
              "      <td>54864</td>\n",
              "      <td>54864</td>\n",
              "      <td>54864</td>\n",
              "      <td>54864</td>\n",
              "      <td>54864</td>\n",
              "      <td>54864</td>\n",
              "      <td>54864</td>\n",
              "      <td>54864</td>\n",
              "      <td>54864</td>\n",
              "      <td>54864</td>\n",
              "      <td>54864</td>\n",
              "    </tr>\n",
              "  </tbody>\n",
              "</table>\n",
              "</div>"
            ],
            "text/plain": [
              "             race  gender    age  ...  metformin-pioglitazone  change  diabetesMed\n",
              "readmitted                        ...                                             \n",
              "<30         11357   11357  11357  ...                   11357   11357        11357\n",
              ">30         35545   35545  35545  ...                   35545   35545        35545\n",
              "NO          54864   54864  54864  ...                   54864   54864        54864\n",
              "\n",
              "[3 rows x 38 columns]"
            ]
          },
          "metadata": {
            "tags": []
          },
          "execution_count": 98
        }
      ]
    },
    {
      "cell_type": "code",
      "metadata": {
        "id": "ipNj4K374fCa",
        "colab_type": "code",
        "outputId": "7f54714c-94ea-4440-f553-c7d28f9ae7e0",
        "colab": {
          "base_uri": "https://localhost:8080/",
          "height": 719
        }
      },
      "source": [
        "groupByChart('readmitted','Group By Readmitted')"
      ],
      "execution_count": 99,
      "outputs": [
        {
          "output_type": "display_data",
          "data": {
            "image/png": "[encoded data removed]",
            "text/plain": [
              "<Figure size 1440x720 with 1 Axes>"
            ]
          },
          "metadata": {
            "tags": []
          }
        }
      ]
    },
    {
      "cell_type": "markdown",
      "metadata": {
        "id": "CzXF-YofEACD",
        "colab_type": "text"
      },
      "source": [
        "#Normalization\n",
        "\n",
        "Normlizing the features that has numerical value"
      ]
    },
    {
      "cell_type": "code",
      "metadata": {
        "id": "i6mjsMqJEDGI",
        "colab_type": "code",
        "colab": {}
      },
      "source": [
        "scaler = MinMaxScaler(feature_range=[0, 1])\n",
        "data.iloc[:,3:11] = scaler.fit_transform(data.iloc[:,3:11])"
      ],
      "execution_count": 0,
      "outputs": []
    },
    {
      "cell_type": "code",
      "metadata": {
        "id": "hqnFsT90HVa8",
        "colab_type": "code",
        "outputId": "113dca67-c2a6-4fc2-d325-e0fa46ccd447",
        "colab": {
          "base_uri": "https://localhost:8080/",
          "height": 316
        }
      },
      "source": [
        "data.head()"
      ],
      "execution_count": 101,
      "outputs": [
        {
          "output_type": "execute_result",
          "data": {
            "text/html": [
              "<div>\n",
              "<style scoped>\n",
              "    .dataframe tbody tr th:only-of-type {\n",
              "        vertical-align: middle;\n",
              "    }\n",
              "\n",
              "    .dataframe tbody tr th {\n",
              "        vertical-align: top;\n",
              "    }\n",
              "\n",
              "    .dataframe thead th {\n",
              "        text-align: right;\n",
              "    }\n",
              "</style>\n",
              "<table border=\"1\" class=\"dataframe\">\n",
              "  <thead>\n",
              "    <tr style=\"text-align: right;\">\n",
              "      <th></th>\n",
              "      <th>race</th>\n",
              "      <th>gender</th>\n",
              "      <th>age</th>\n",
              "      <th>time_in_hospital</th>\n",
              "      <th>num_lab_procedures</th>\n",
              "      <th>num_procedures</th>\n",
              "      <th>num_medications</th>\n",
              "      <th>number_outpatient</th>\n",
              "      <th>number_emergency</th>\n",
              "      <th>number_inpatient</th>\n",
              "      <th>number_diagnoses</th>\n",
              "      <th>max_glu_serum</th>\n",
              "      <th>A1Cresult</th>\n",
              "      <th>metformin</th>\n",
              "      <th>repaglinide</th>\n",
              "      <th>nateglinide</th>\n",
              "      <th>chlorpropamide</th>\n",
              "      <th>glimepiride</th>\n",
              "      <th>acetohexamide</th>\n",
              "      <th>glipizide</th>\n",
              "      <th>glyburide</th>\n",
              "      <th>tolbutamide</th>\n",
              "      <th>pioglitazone</th>\n",
              "      <th>rosiglitazone</th>\n",
              "      <th>acarbose</th>\n",
              "      <th>miglitol</th>\n",
              "      <th>troglitazone</th>\n",
              "      <th>tolazamide</th>\n",
              "      <th>examide</th>\n",
              "      <th>citoglipton</th>\n",
              "      <th>insulin</th>\n",
              "      <th>glyburide-metformin</th>\n",
              "      <th>glipizide-metformin</th>\n",
              "      <th>glimepiride-pioglitazone</th>\n",
              "      <th>metformin-rosiglitazone</th>\n",
              "      <th>metformin-pioglitazone</th>\n",
              "      <th>change</th>\n",
              "      <th>diabetesMed</th>\n",
              "      <th>readmitted</th>\n",
              "    </tr>\n",
              "  </thead>\n",
              "  <tbody>\n",
              "    <tr>\n",
              "      <th>0</th>\n",
              "      <td>Caucasian</td>\n",
              "      <td>Female</td>\n",
              "      <td>[0-10)</td>\n",
              "      <td>0.000000</td>\n",
              "      <td>0.305344</td>\n",
              "      <td>0.000000</td>\n",
              "      <td>0.0000</td>\n",
              "      <td>0.000000</td>\n",
              "      <td>0.0</td>\n",
              "      <td>0.000000</td>\n",
              "      <td>0.000000</td>\n",
              "      <td>None</td>\n",
              "      <td>None</td>\n",
              "      <td>No</td>\n",
              "      <td>No</td>\n",
              "      <td>No</td>\n",
              "      <td>No</td>\n",
              "      <td>No</td>\n",
              "      <td>No</td>\n",
              "      <td>No</td>\n",
              "      <td>No</td>\n",
              "      <td>No</td>\n",
              "      <td>No</td>\n",
              "      <td>No</td>\n",
              "      <td>No</td>\n",
              "      <td>No</td>\n",
              "      <td>No</td>\n",
              "      <td>No</td>\n",
              "      <td>No</td>\n",
              "      <td>No</td>\n",
              "      <td>No</td>\n",
              "      <td>No</td>\n",
              "      <td>No</td>\n",
              "      <td>No</td>\n",
              "      <td>No</td>\n",
              "      <td>No</td>\n",
              "      <td>No</td>\n",
              "      <td>No</td>\n",
              "      <td>NO</td>\n",
              "    </tr>\n",
              "    <tr>\n",
              "      <th>1</th>\n",
              "      <td>Caucasian</td>\n",
              "      <td>Female</td>\n",
              "      <td>[10-20)</td>\n",
              "      <td>0.153846</td>\n",
              "      <td>0.442748</td>\n",
              "      <td>0.000000</td>\n",
              "      <td>0.2125</td>\n",
              "      <td>0.000000</td>\n",
              "      <td>0.0</td>\n",
              "      <td>0.000000</td>\n",
              "      <td>0.533333</td>\n",
              "      <td>None</td>\n",
              "      <td>None</td>\n",
              "      <td>No</td>\n",
              "      <td>No</td>\n",
              "      <td>No</td>\n",
              "      <td>No</td>\n",
              "      <td>No</td>\n",
              "      <td>No</td>\n",
              "      <td>No</td>\n",
              "      <td>No</td>\n",
              "      <td>No</td>\n",
              "      <td>No</td>\n",
              "      <td>No</td>\n",
              "      <td>No</td>\n",
              "      <td>No</td>\n",
              "      <td>No</td>\n",
              "      <td>No</td>\n",
              "      <td>No</td>\n",
              "      <td>No</td>\n",
              "      <td>Up</td>\n",
              "      <td>No</td>\n",
              "      <td>No</td>\n",
              "      <td>No</td>\n",
              "      <td>No</td>\n",
              "      <td>No</td>\n",
              "      <td>Ch</td>\n",
              "      <td>Yes</td>\n",
              "      <td>&gt;30</td>\n",
              "    </tr>\n",
              "    <tr>\n",
              "      <th>2</th>\n",
              "      <td>AfricanAmerican</td>\n",
              "      <td>Female</td>\n",
              "      <td>[20-30)</td>\n",
              "      <td>0.076923</td>\n",
              "      <td>0.076336</td>\n",
              "      <td>0.833333</td>\n",
              "      <td>0.1500</td>\n",
              "      <td>0.047619</td>\n",
              "      <td>0.0</td>\n",
              "      <td>0.047619</td>\n",
              "      <td>0.333333</td>\n",
              "      <td>None</td>\n",
              "      <td>None</td>\n",
              "      <td>No</td>\n",
              "      <td>No</td>\n",
              "      <td>No</td>\n",
              "      <td>No</td>\n",
              "      <td>No</td>\n",
              "      <td>No</td>\n",
              "      <td>Steady</td>\n",
              "      <td>No</td>\n",
              "      <td>No</td>\n",
              "      <td>No</td>\n",
              "      <td>No</td>\n",
              "      <td>No</td>\n",
              "      <td>No</td>\n",
              "      <td>No</td>\n",
              "      <td>No</td>\n",
              "      <td>No</td>\n",
              "      <td>No</td>\n",
              "      <td>No</td>\n",
              "      <td>No</td>\n",
              "      <td>No</td>\n",
              "      <td>No</td>\n",
              "      <td>No</td>\n",
              "      <td>No</td>\n",
              "      <td>No</td>\n",
              "      <td>Yes</td>\n",
              "      <td>NO</td>\n",
              "    </tr>\n",
              "    <tr>\n",
              "      <th>3</th>\n",
              "      <td>Caucasian</td>\n",
              "      <td>Male</td>\n",
              "      <td>[30-40)</td>\n",
              "      <td>0.076923</td>\n",
              "      <td>0.328244</td>\n",
              "      <td>0.166667</td>\n",
              "      <td>0.1875</td>\n",
              "      <td>0.000000</td>\n",
              "      <td>0.0</td>\n",
              "      <td>0.000000</td>\n",
              "      <td>0.400000</td>\n",
              "      <td>None</td>\n",
              "      <td>None</td>\n",
              "      <td>No</td>\n",
              "      <td>No</td>\n",
              "      <td>No</td>\n",
              "      <td>No</td>\n",
              "      <td>No</td>\n",
              "      <td>No</td>\n",
              "      <td>No</td>\n",
              "      <td>No</td>\n",
              "      <td>No</td>\n",
              "      <td>No</td>\n",
              "      <td>No</td>\n",
              "      <td>No</td>\n",
              "      <td>No</td>\n",
              "      <td>No</td>\n",
              "      <td>No</td>\n",
              "      <td>No</td>\n",
              "      <td>No</td>\n",
              "      <td>Up</td>\n",
              "      <td>No</td>\n",
              "      <td>No</td>\n",
              "      <td>No</td>\n",
              "      <td>No</td>\n",
              "      <td>No</td>\n",
              "      <td>Ch</td>\n",
              "      <td>Yes</td>\n",
              "      <td>NO</td>\n",
              "    </tr>\n",
              "    <tr>\n",
              "      <th>4</th>\n",
              "      <td>Caucasian</td>\n",
              "      <td>Male</td>\n",
              "      <td>[40-50)</td>\n",
              "      <td>0.000000</td>\n",
              "      <td>0.381679</td>\n",
              "      <td>0.000000</td>\n",
              "      <td>0.0875</td>\n",
              "      <td>0.000000</td>\n",
              "      <td>0.0</td>\n",
              "      <td>0.000000</td>\n",
              "      <td>0.266667</td>\n",
              "      <td>None</td>\n",
              "      <td>None</td>\n",
              "      <td>No</td>\n",
              "      <td>No</td>\n",
              "      <td>No</td>\n",
              "      <td>No</td>\n",
              "      <td>No</td>\n",
              "      <td>No</td>\n",
              "      <td>Steady</td>\n",
              "      <td>No</td>\n",
              "      <td>No</td>\n",
              "      <td>No</td>\n",
              "      <td>No</td>\n",
              "      <td>No</td>\n",
              "      <td>No</td>\n",
              "      <td>No</td>\n",
              "      <td>No</td>\n",
              "      <td>No</td>\n",
              "      <td>No</td>\n",
              "      <td>Steady</td>\n",
              "      <td>No</td>\n",
              "      <td>No</td>\n",
              "      <td>No</td>\n",
              "      <td>No</td>\n",
              "      <td>No</td>\n",
              "      <td>Ch</td>\n",
              "      <td>Yes</td>\n",
              "      <td>NO</td>\n",
              "    </tr>\n",
              "  </tbody>\n",
              "</table>\n",
              "</div>"
            ],
            "text/plain": [
              "              race  gender      age  ...  change  diabetesMed  readmitted\n",
              "0        Caucasian  Female   [0-10)  ...      No           No          NO\n",
              "1        Caucasian  Female  [10-20)  ...      Ch          Yes         >30\n",
              "2  AfricanAmerican  Female  [20-30)  ...      No          Yes          NO\n",
              "3        Caucasian    Male  [30-40)  ...      Ch          Yes          NO\n",
              "4        Caucasian    Male  [40-50)  ...      Ch          Yes          NO\n",
              "\n",
              "[5 rows x 39 columns]"
            ]
          },
          "metadata": {
            "tags": []
          },
          "execution_count": 101
        }
      ]
    },
    {
      "cell_type": "markdown",
      "metadata": {
        "id": "L2i-egG-HYtx",
        "colab_type": "text"
      },
      "source": [
        "##Choose X features y labels"
      ]
    },
    {
      "cell_type": "code",
      "metadata": {
        "id": "X801cU_gHZYJ",
        "colab_type": "code",
        "colab": {}
      },
      "source": [
        "X_diabetesMed = data.iloc[:,0:37]\n",
        "X_readmitted = data.iloc[:,0:38] #Including diabetesMed as a feature\n",
        "y_diabetesMed = data.iloc[:,-2] #diabetesMed target\n",
        "y_readmitted = data.iloc[:,-1] #readmitted target"
      ],
      "execution_count": 0,
      "outputs": []
    },
    {
      "cell_type": "code",
      "metadata": {
        "id": "_wQm6AiQHfDZ",
        "colab_type": "code",
        "outputId": "2105b378-ca1f-4f99-cce5-e00c8130d769",
        "colab": {
          "base_uri": "https://localhost:8080/",
          "height": 34
        }
      },
      "source": [
        "X_diabetesMed.shape, y_diabetesMed.shape, X_readmitted.shape, y_readmitted.shape"
      ],
      "execution_count": 103,
      "outputs": [
        {
          "output_type": "execute_result",
          "data": {
            "text/plain": [
              "((101766, 37), (101766,), (101766, 38), (101766,))"
            ]
          },
          "metadata": {
            "tags": []
          },
          "execution_count": 103
        }
      ]
    },
    {
      "cell_type": "code",
      "metadata": {
        "id": "U5SYsPbuHy9E",
        "colab_type": "code",
        "outputId": "88a41392-1d9d-4bf2-b46c-6bdfc8564bf6",
        "colab": {
          "base_uri": "https://localhost:8080/",
          "height": 316
        }
      },
      "source": [
        "X_diabetesMed.head()"
      ],
      "execution_count": 104,
      "outputs": [
        {
          "output_type": "execute_result",
          "data": {
            "text/html": [
              "<div>\n",
              "<style scoped>\n",
              "    .dataframe tbody tr th:only-of-type {\n",
              "        vertical-align: middle;\n",
              "    }\n",
              "\n",
              "    .dataframe tbody tr th {\n",
              "        vertical-align: top;\n",
              "    }\n",
              "\n",
              "    .dataframe thead th {\n",
              "        text-align: right;\n",
              "    }\n",
              "</style>\n",
              "<table border=\"1\" class=\"dataframe\">\n",
              "  <thead>\n",
              "    <tr style=\"text-align: right;\">\n",
              "      <th></th>\n",
              "      <th>race</th>\n",
              "      <th>gender</th>\n",
              "      <th>age</th>\n",
              "      <th>time_in_hospital</th>\n",
              "      <th>num_lab_procedures</th>\n",
              "      <th>num_procedures</th>\n",
              "      <th>num_medications</th>\n",
              "      <th>number_outpatient</th>\n",
              "      <th>number_emergency</th>\n",
              "      <th>number_inpatient</th>\n",
              "      <th>number_diagnoses</th>\n",
              "      <th>max_glu_serum</th>\n",
              "      <th>A1Cresult</th>\n",
              "      <th>metformin</th>\n",
              "      <th>repaglinide</th>\n",
              "      <th>nateglinide</th>\n",
              "      <th>chlorpropamide</th>\n",
              "      <th>glimepiride</th>\n",
              "      <th>acetohexamide</th>\n",
              "      <th>glipizide</th>\n",
              "      <th>glyburide</th>\n",
              "      <th>tolbutamide</th>\n",
              "      <th>pioglitazone</th>\n",
              "      <th>rosiglitazone</th>\n",
              "      <th>acarbose</th>\n",
              "      <th>miglitol</th>\n",
              "      <th>troglitazone</th>\n",
              "      <th>tolazamide</th>\n",
              "      <th>examide</th>\n",
              "      <th>citoglipton</th>\n",
              "      <th>insulin</th>\n",
              "      <th>glyburide-metformin</th>\n",
              "      <th>glipizide-metformin</th>\n",
              "      <th>glimepiride-pioglitazone</th>\n",
              "      <th>metformin-rosiglitazone</th>\n",
              "      <th>metformin-pioglitazone</th>\n",
              "      <th>change</th>\n",
              "    </tr>\n",
              "  </thead>\n",
              "  <tbody>\n",
              "    <tr>\n",
              "      <th>0</th>\n",
              "      <td>Caucasian</td>\n",
              "      <td>Female</td>\n",
              "      <td>[0-10)</td>\n",
              "      <td>0.000000</td>\n",
              "      <td>0.305344</td>\n",
              "      <td>0.000000</td>\n",
              "      <td>0.0000</td>\n",
              "      <td>0.000000</td>\n",
              "      <td>0.0</td>\n",
              "      <td>0.000000</td>\n",
              "      <td>0.000000</td>\n",
              "      <td>None</td>\n",
              "      <td>None</td>\n",
              "      <td>No</td>\n",
              "      <td>No</td>\n",
              "      <td>No</td>\n",
              "      <td>No</td>\n",
              "      <td>No</td>\n",
              "      <td>No</td>\n",
              "      <td>No</td>\n",
              "      <td>No</td>\n",
              "      <td>No</td>\n",
              "      <td>No</td>\n",
              "      <td>No</td>\n",
              "      <td>No</td>\n",
              "      <td>No</td>\n",
              "      <td>No</td>\n",
              "      <td>No</td>\n",
              "      <td>No</td>\n",
              "      <td>No</td>\n",
              "      <td>No</td>\n",
              "      <td>No</td>\n",
              "      <td>No</td>\n",
              "      <td>No</td>\n",
              "      <td>No</td>\n",
              "      <td>No</td>\n",
              "      <td>No</td>\n",
              "    </tr>\n",
              "    <tr>\n",
              "      <th>1</th>\n",
              "      <td>Caucasian</td>\n",
              "      <td>Female</td>\n",
              "      <td>[10-20)</td>\n",
              "      <td>0.153846</td>\n",
              "      <td>0.442748</td>\n",
              "      <td>0.000000</td>\n",
              "      <td>0.2125</td>\n",
              "      <td>0.000000</td>\n",
              "      <td>0.0</td>\n",
              "      <td>0.000000</td>\n",
              "      <td>0.533333</td>\n",
              "      <td>None</td>\n",
              "      <td>None</td>\n",
              "      <td>No</td>\n",
              "      <td>No</td>\n",
              "      <td>No</td>\n",
              "      <td>No</td>\n",
              "      <td>No</td>\n",
              "      <td>No</td>\n",
              "      <td>No</td>\n",
              "      <td>No</td>\n",
              "      <td>No</td>\n",
              "      <td>No</td>\n",
              "      <td>No</td>\n",
              "      <td>No</td>\n",
              "      <td>No</td>\n",
              "      <td>No</td>\n",
              "      <td>No</td>\n",
              "      <td>No</td>\n",
              "      <td>No</td>\n",
              "      <td>Up</td>\n",
              "      <td>No</td>\n",
              "      <td>No</td>\n",
              "      <td>No</td>\n",
              "      <td>No</td>\n",
              "      <td>No</td>\n",
              "      <td>Ch</td>\n",
              "    </tr>\n",
              "    <tr>\n",
              "      <th>2</th>\n",
              "      <td>AfricanAmerican</td>\n",
              "      <td>Female</td>\n",
              "      <td>[20-30)</td>\n",
              "      <td>0.076923</td>\n",
              "      <td>0.076336</td>\n",
              "      <td>0.833333</td>\n",
              "      <td>0.1500</td>\n",
              "      <td>0.047619</td>\n",
              "      <td>0.0</td>\n",
              "      <td>0.047619</td>\n",
              "      <td>0.333333</td>\n",
              "      <td>None</td>\n",
              "      <td>None</td>\n",
              "      <td>No</td>\n",
              "      <td>No</td>\n",
              "      <td>No</td>\n",
              "      <td>No</td>\n",
              "      <td>No</td>\n",
              "      <td>No</td>\n",
              "      <td>Steady</td>\n",
              "      <td>No</td>\n",
              "      <td>No</td>\n",
              "      <td>No</td>\n",
              "      <td>No</td>\n",
              "      <td>No</td>\n",
              "      <td>No</td>\n",
              "      <td>No</td>\n",
              "      <td>No</td>\n",
              "      <td>No</td>\n",
              "      <td>No</td>\n",
              "      <td>No</td>\n",
              "      <td>No</td>\n",
              "      <td>No</td>\n",
              "      <td>No</td>\n",
              "      <td>No</td>\n",
              "      <td>No</td>\n",
              "      <td>No</td>\n",
              "    </tr>\n",
              "    <tr>\n",
              "      <th>3</th>\n",
              "      <td>Caucasian</td>\n",
              "      <td>Male</td>\n",
              "      <td>[30-40)</td>\n",
              "      <td>0.076923</td>\n",
              "      <td>0.328244</td>\n",
              "      <td>0.166667</td>\n",
              "      <td>0.1875</td>\n",
              "      <td>0.000000</td>\n",
              "      <td>0.0</td>\n",
              "      <td>0.000000</td>\n",
              "      <td>0.400000</td>\n",
              "      <td>None</td>\n",
              "      <td>None</td>\n",
              "      <td>No</td>\n",
              "      <td>No</td>\n",
              "      <td>No</td>\n",
              "      <td>No</td>\n",
              "      <td>No</td>\n",
              "      <td>No</td>\n",
              "      <td>No</td>\n",
              "      <td>No</td>\n",
              "      <td>No</td>\n",
              "      <td>No</td>\n",
              "      <td>No</td>\n",
              "      <td>No</td>\n",
              "      <td>No</td>\n",
              "      <td>No</td>\n",
              "      <td>No</td>\n",
              "      <td>No</td>\n",
              "      <td>No</td>\n",
              "      <td>Up</td>\n",
              "      <td>No</td>\n",
              "      <td>No</td>\n",
              "      <td>No</td>\n",
              "      <td>No</td>\n",
              "      <td>No</td>\n",
              "      <td>Ch</td>\n",
              "    </tr>\n",
              "    <tr>\n",
              "      <th>4</th>\n",
              "      <td>Caucasian</td>\n",
              "      <td>Male</td>\n",
              "      <td>[40-50)</td>\n",
              "      <td>0.000000</td>\n",
              "      <td>0.381679</td>\n",
              "      <td>0.000000</td>\n",
              "      <td>0.0875</td>\n",
              "      <td>0.000000</td>\n",
              "      <td>0.0</td>\n",
              "      <td>0.000000</td>\n",
              "      <td>0.266667</td>\n",
              "      <td>None</td>\n",
              "      <td>None</td>\n",
              "      <td>No</td>\n",
              "      <td>No</td>\n",
              "      <td>No</td>\n",
              "      <td>No</td>\n",
              "      <td>No</td>\n",
              "      <td>No</td>\n",
              "      <td>Steady</td>\n",
              "      <td>No</td>\n",
              "      <td>No</td>\n",
              "      <td>No</td>\n",
              "      <td>No</td>\n",
              "      <td>No</td>\n",
              "      <td>No</td>\n",
              "      <td>No</td>\n",
              "      <td>No</td>\n",
              "      <td>No</td>\n",
              "      <td>No</td>\n",
              "      <td>Steady</td>\n",
              "      <td>No</td>\n",
              "      <td>No</td>\n",
              "      <td>No</td>\n",
              "      <td>No</td>\n",
              "      <td>No</td>\n",
              "      <td>Ch</td>\n",
              "    </tr>\n",
              "  </tbody>\n",
              "</table>\n",
              "</div>"
            ],
            "text/plain": [
              "              race  gender  ... metformin-pioglitazone  change\n",
              "0        Caucasian  Female  ...                     No      No\n",
              "1        Caucasian  Female  ...                     No      Ch\n",
              "2  AfricanAmerican  Female  ...                     No      No\n",
              "3        Caucasian    Male  ...                     No      Ch\n",
              "4        Caucasian    Male  ...                     No      Ch\n",
              "\n",
              "[5 rows x 37 columns]"
            ]
          },
          "metadata": {
            "tags": []
          },
          "execution_count": 104
        }
      ]
    },
    {
      "cell_type": "code",
      "metadata": {
        "id": "zjjwov1UH5Gl",
        "colab_type": "code",
        "outputId": "6894973b-8296-4230-fcc0-9e37f9a78457",
        "colab": {
          "base_uri": "https://localhost:8080/",
          "height": 316
        }
      },
      "source": [
        "X_readmitted.head()"
      ],
      "execution_count": 105,
      "outputs": [
        {
          "output_type": "execute_result",
          "data": {
            "text/html": [
              "<div>\n",
              "<style scoped>\n",
              "    .dataframe tbody tr th:only-of-type {\n",
              "        vertical-align: middle;\n",
              "    }\n",
              "\n",
              "    .dataframe tbody tr th {\n",
              "        vertical-align: top;\n",
              "    }\n",
              "\n",
              "    .dataframe thead th {\n",
              "        text-align: right;\n",
              "    }\n",
              "</style>\n",
              "<table border=\"1\" class=\"dataframe\">\n",
              "  <thead>\n",
              "    <tr style=\"text-align: right;\">\n",
              "      <th></th>\n",
              "      <th>race</th>\n",
              "      <th>gender</th>\n",
              "      <th>age</th>\n",
              "      <th>time_in_hospital</th>\n",
              "      <th>num_lab_procedures</th>\n",
              "      <th>num_procedures</th>\n",
              "      <th>num_medications</th>\n",
              "      <th>number_outpatient</th>\n",
              "      <th>number_emergency</th>\n",
              "      <th>number_inpatient</th>\n",
              "      <th>number_diagnoses</th>\n",
              "      <th>max_glu_serum</th>\n",
              "      <th>A1Cresult</th>\n",
              "      <th>metformin</th>\n",
              "      <th>repaglinide</th>\n",
              "      <th>nateglinide</th>\n",
              "      <th>chlorpropamide</th>\n",
              "      <th>glimepiride</th>\n",
              "      <th>acetohexamide</th>\n",
              "      <th>glipizide</th>\n",
              "      <th>glyburide</th>\n",
              "      <th>tolbutamide</th>\n",
              "      <th>pioglitazone</th>\n",
              "      <th>rosiglitazone</th>\n",
              "      <th>acarbose</th>\n",
              "      <th>miglitol</th>\n",
              "      <th>troglitazone</th>\n",
              "      <th>tolazamide</th>\n",
              "      <th>examide</th>\n",
              "      <th>citoglipton</th>\n",
              "      <th>insulin</th>\n",
              "      <th>glyburide-metformin</th>\n",
              "      <th>glipizide-metformin</th>\n",
              "      <th>glimepiride-pioglitazone</th>\n",
              "      <th>metformin-rosiglitazone</th>\n",
              "      <th>metformin-pioglitazone</th>\n",
              "      <th>change</th>\n",
              "      <th>diabetesMed</th>\n",
              "    </tr>\n",
              "  </thead>\n",
              "  <tbody>\n",
              "    <tr>\n",
              "      <th>0</th>\n",
              "      <td>Caucasian</td>\n",
              "      <td>Female</td>\n",
              "      <td>[0-10)</td>\n",
              "      <td>0.000000</td>\n",
              "      <td>0.305344</td>\n",
              "      <td>0.000000</td>\n",
              "      <td>0.0000</td>\n",
              "      <td>0.000000</td>\n",
              "      <td>0.0</td>\n",
              "      <td>0.000000</td>\n",
              "      <td>0.000000</td>\n",
              "      <td>None</td>\n",
              "      <td>None</td>\n",
              "      <td>No</td>\n",
              "      <td>No</td>\n",
              "      <td>No</td>\n",
              "      <td>No</td>\n",
              "      <td>No</td>\n",
              "      <td>No</td>\n",
              "      <td>No</td>\n",
              "      <td>No</td>\n",
              "      <td>No</td>\n",
              "      <td>No</td>\n",
              "      <td>No</td>\n",
              "      <td>No</td>\n",
              "      <td>No</td>\n",
              "      <td>No</td>\n",
              "      <td>No</td>\n",
              "      <td>No</td>\n",
              "      <td>No</td>\n",
              "      <td>No</td>\n",
              "      <td>No</td>\n",
              "      <td>No</td>\n",
              "      <td>No</td>\n",
              "      <td>No</td>\n",
              "      <td>No</td>\n",
              "      <td>No</td>\n",
              "      <td>No</td>\n",
              "    </tr>\n",
              "    <tr>\n",
              "      <th>1</th>\n",
              "      <td>Caucasian</td>\n",
              "      <td>Female</td>\n",
              "      <td>[10-20)</td>\n",
              "      <td>0.153846</td>\n",
              "      <td>0.442748</td>\n",
              "      <td>0.000000</td>\n",
              "      <td>0.2125</td>\n",
              "      <td>0.000000</td>\n",
              "      <td>0.0</td>\n",
              "      <td>0.000000</td>\n",
              "      <td>0.533333</td>\n",
              "      <td>None</td>\n",
              "      <td>None</td>\n",
              "      <td>No</td>\n",
              "      <td>No</td>\n",
              "      <td>No</td>\n",
              "      <td>No</td>\n",
              "      <td>No</td>\n",
              "      <td>No</td>\n",
              "      <td>No</td>\n",
              "      <td>No</td>\n",
              "      <td>No</td>\n",
              "      <td>No</td>\n",
              "      <td>No</td>\n",
              "      <td>No</td>\n",
              "      <td>No</td>\n",
              "      <td>No</td>\n",
              "      <td>No</td>\n",
              "      <td>No</td>\n",
              "      <td>No</td>\n",
              "      <td>Up</td>\n",
              "      <td>No</td>\n",
              "      <td>No</td>\n",
              "      <td>No</td>\n",
              "      <td>No</td>\n",
              "      <td>No</td>\n",
              "      <td>Ch</td>\n",
              "      <td>Yes</td>\n",
              "    </tr>\n",
              "    <tr>\n",
              "      <th>2</th>\n",
              "      <td>AfricanAmerican</td>\n",
              "      <td>Female</td>\n",
              "      <td>[20-30)</td>\n",
              "      <td>0.076923</td>\n",
              "      <td>0.076336</td>\n",
              "      <td>0.833333</td>\n",
              "      <td>0.1500</td>\n",
              "      <td>0.047619</td>\n",
              "      <td>0.0</td>\n",
              "      <td>0.047619</td>\n",
              "      <td>0.333333</td>\n",
              "      <td>None</td>\n",
              "      <td>None</td>\n",
              "      <td>No</td>\n",
              "      <td>No</td>\n",
              "      <td>No</td>\n",
              "      <td>No</td>\n",
              "      <td>No</td>\n",
              "      <td>No</td>\n",
              "      <td>Steady</td>\n",
              "      <td>No</td>\n",
              "      <td>No</td>\n",
              "      <td>No</td>\n",
              "      <td>No</td>\n",
              "      <td>No</td>\n",
              "      <td>No</td>\n",
              "      <td>No</td>\n",
              "      <td>No</td>\n",
              "      <td>No</td>\n",
              "      <td>No</td>\n",
              "      <td>No</td>\n",
              "      <td>No</td>\n",
              "      <td>No</td>\n",
              "      <td>No</td>\n",
              "      <td>No</td>\n",
              "      <td>No</td>\n",
              "      <td>No</td>\n",
              "      <td>Yes</td>\n",
              "    </tr>\n",
              "    <tr>\n",
              "      <th>3</th>\n",
              "      <td>Caucasian</td>\n",
              "      <td>Male</td>\n",
              "      <td>[30-40)</td>\n",
              "      <td>0.076923</td>\n",
              "      <td>0.328244</td>\n",
              "      <td>0.166667</td>\n",
              "      <td>0.1875</td>\n",
              "      <td>0.000000</td>\n",
              "      <td>0.0</td>\n",
              "      <td>0.000000</td>\n",
              "      <td>0.400000</td>\n",
              "      <td>None</td>\n",
              "      <td>None</td>\n",
              "      <td>No</td>\n",
              "      <td>No</td>\n",
              "      <td>No</td>\n",
              "      <td>No</td>\n",
              "      <td>No</td>\n",
              "      <td>No</td>\n",
              "      <td>No</td>\n",
              "      <td>No</td>\n",
              "      <td>No</td>\n",
              "      <td>No</td>\n",
              "      <td>No</td>\n",
              "      <td>No</td>\n",
              "      <td>No</td>\n",
              "      <td>No</td>\n",
              "      <td>No</td>\n",
              "      <td>No</td>\n",
              "      <td>No</td>\n",
              "      <td>Up</td>\n",
              "      <td>No</td>\n",
              "      <td>No</td>\n",
              "      <td>No</td>\n",
              "      <td>No</td>\n",
              "      <td>No</td>\n",
              "      <td>Ch</td>\n",
              "      <td>Yes</td>\n",
              "    </tr>\n",
              "    <tr>\n",
              "      <th>4</th>\n",
              "      <td>Caucasian</td>\n",
              "      <td>Male</td>\n",
              "      <td>[40-50)</td>\n",
              "      <td>0.000000</td>\n",
              "      <td>0.381679</td>\n",
              "      <td>0.000000</td>\n",
              "      <td>0.0875</td>\n",
              "      <td>0.000000</td>\n",
              "      <td>0.0</td>\n",
              "      <td>0.000000</td>\n",
              "      <td>0.266667</td>\n",
              "      <td>None</td>\n",
              "      <td>None</td>\n",
              "      <td>No</td>\n",
              "      <td>No</td>\n",
              "      <td>No</td>\n",
              "      <td>No</td>\n",
              "      <td>No</td>\n",
              "      <td>No</td>\n",
              "      <td>Steady</td>\n",
              "      <td>No</td>\n",
              "      <td>No</td>\n",
              "      <td>No</td>\n",
              "      <td>No</td>\n",
              "      <td>No</td>\n",
              "      <td>No</td>\n",
              "      <td>No</td>\n",
              "      <td>No</td>\n",
              "      <td>No</td>\n",
              "      <td>No</td>\n",
              "      <td>Steady</td>\n",
              "      <td>No</td>\n",
              "      <td>No</td>\n",
              "      <td>No</td>\n",
              "      <td>No</td>\n",
              "      <td>No</td>\n",
              "      <td>Ch</td>\n",
              "      <td>Yes</td>\n",
              "    </tr>\n",
              "  </tbody>\n",
              "</table>\n",
              "</div>"
            ],
            "text/plain": [
              "              race  gender      age  ...  metformin-pioglitazone  change  diabetesMed\n",
              "0        Caucasian  Female   [0-10)  ...                      No      No           No\n",
              "1        Caucasian  Female  [10-20)  ...                      No      Ch          Yes\n",
              "2  AfricanAmerican  Female  [20-30)  ...                      No      No          Yes\n",
              "3        Caucasian    Male  [30-40)  ...                      No      Ch          Yes\n",
              "4        Caucasian    Male  [40-50)  ...                      No      Ch          Yes\n",
              "\n",
              "[5 rows x 38 columns]"
            ]
          },
          "metadata": {
            "tags": []
          },
          "execution_count": 105
        }
      ]
    },
    {
      "cell_type": "markdown",
      "metadata": {
        "id": "RZq7iM0wKEb1",
        "colab_type": "text"
      },
      "source": [
        "##Convert categorical value to numerical"
      ]
    },
    {
      "cell_type": "code",
      "metadata": {
        "id": "E_tsQvhYKHlq",
        "colab_type": "code",
        "colab": {}
      },
      "source": [
        "X_diabetesMed = pd.get_dummies(X_diabetesMed)\n",
        "X_readmitted = pd.get_dummies(X_readmitted)"
      ],
      "execution_count": 0,
      "outputs": []
    },
    {
      "cell_type": "code",
      "metadata": {
        "id": "T6EJbDcfKL5b",
        "colab_type": "code",
        "outputId": "8436f28d-6204-45de-a09d-f1f601a07322",
        "colab": {
          "base_uri": "https://localhost:8080/",
          "height": 34
        }
      },
      "source": [
        "X_diabetesMed.shape, X_readmitted.shape"
      ],
      "execution_count": 107,
      "outputs": [
        {
          "output_type": "execute_result",
          "data": {
            "text/plain": [
              "((101766, 108), (101766, 110))"
            ]
          },
          "metadata": {
            "tags": []
          },
          "execution_count": 107
        }
      ]
    },
    {
      "cell_type": "code",
      "metadata": {
        "id": "bfGDfnsk4TPL",
        "colab_type": "code",
        "outputId": "0bb3c609-25f9-4b21-8da1-7c2feab1b940",
        "colab": {
          "base_uri": "https://localhost:8080/",
          "height": 261
        }
      },
      "source": [
        "X_diabetesMed.head()"
      ],
      "execution_count": 108,
      "outputs": [
        {
          "output_type": "execute_result",
          "data": {
            "text/html": [
              "<div>\n",
              "<style scoped>\n",
              "    .dataframe tbody tr th:only-of-type {\n",
              "        vertical-align: middle;\n",
              "    }\n",
              "\n",
              "    .dataframe tbody tr th {\n",
              "        vertical-align: top;\n",
              "    }\n",
              "\n",
              "    .dataframe thead th {\n",
              "        text-align: right;\n",
              "    }\n",
              "</style>\n",
              "<table border=\"1\" class=\"dataframe\">\n",
              "  <thead>\n",
              "    <tr style=\"text-align: right;\">\n",
              "      <th></th>\n",
              "      <th>time_in_hospital</th>\n",
              "      <th>num_lab_procedures</th>\n",
              "      <th>num_procedures</th>\n",
              "      <th>num_medications</th>\n",
              "      <th>number_outpatient</th>\n",
              "      <th>number_emergency</th>\n",
              "      <th>number_inpatient</th>\n",
              "      <th>number_diagnoses</th>\n",
              "      <th>race_?</th>\n",
              "      <th>race_AfricanAmerican</th>\n",
              "      <th>race_Asian</th>\n",
              "      <th>race_Caucasian</th>\n",
              "      <th>race_Hispanic</th>\n",
              "      <th>race_Other</th>\n",
              "      <th>gender_Female</th>\n",
              "      <th>gender_Male</th>\n",
              "      <th>gender_Unknown/Invalid</th>\n",
              "      <th>age_[0-10)</th>\n",
              "      <th>age_[10-20)</th>\n",
              "      <th>age_[20-30)</th>\n",
              "      <th>age_[30-40)</th>\n",
              "      <th>age_[40-50)</th>\n",
              "      <th>age_[50-60)</th>\n",
              "      <th>age_[60-70)</th>\n",
              "      <th>age_[70-80)</th>\n",
              "      <th>age_[80-90)</th>\n",
              "      <th>age_[90-100)</th>\n",
              "      <th>max_glu_serum_&gt;200</th>\n",
              "      <th>max_glu_serum_&gt;300</th>\n",
              "      <th>max_glu_serum_None</th>\n",
              "      <th>max_glu_serum_Norm</th>\n",
              "      <th>A1Cresult_&gt;7</th>\n",
              "      <th>A1Cresult_&gt;8</th>\n",
              "      <th>A1Cresult_None</th>\n",
              "      <th>A1Cresult_Norm</th>\n",
              "      <th>metformin_Down</th>\n",
              "      <th>metformin_No</th>\n",
              "      <th>metformin_Steady</th>\n",
              "      <th>metformin_Up</th>\n",
              "      <th>repaglinide_Down</th>\n",
              "      <th>...</th>\n",
              "      <th>pioglitazone_No</th>\n",
              "      <th>pioglitazone_Steady</th>\n",
              "      <th>pioglitazone_Up</th>\n",
              "      <th>rosiglitazone_Down</th>\n",
              "      <th>rosiglitazone_No</th>\n",
              "      <th>rosiglitazone_Steady</th>\n",
              "      <th>rosiglitazone_Up</th>\n",
              "      <th>acarbose_Down</th>\n",
              "      <th>acarbose_No</th>\n",
              "      <th>acarbose_Steady</th>\n",
              "      <th>acarbose_Up</th>\n",
              "      <th>miglitol_Down</th>\n",
              "      <th>miglitol_No</th>\n",
              "      <th>miglitol_Steady</th>\n",
              "      <th>miglitol_Up</th>\n",
              "      <th>troglitazone_No</th>\n",
              "      <th>troglitazone_Steady</th>\n",
              "      <th>tolazamide_No</th>\n",
              "      <th>tolazamide_Steady</th>\n",
              "      <th>tolazamide_Up</th>\n",
              "      <th>examide_No</th>\n",
              "      <th>citoglipton_No</th>\n",
              "      <th>insulin_Down</th>\n",
              "      <th>insulin_No</th>\n",
              "      <th>insulin_Steady</th>\n",
              "      <th>insulin_Up</th>\n",
              "      <th>glyburide-metformin_Down</th>\n",
              "      <th>glyburide-metformin_No</th>\n",
              "      <th>glyburide-metformin_Steady</th>\n",
              "      <th>glyburide-metformin_Up</th>\n",
              "      <th>glipizide-metformin_No</th>\n",
              "      <th>glipizide-metformin_Steady</th>\n",
              "      <th>glimepiride-pioglitazone_No</th>\n",
              "      <th>glimepiride-pioglitazone_Steady</th>\n",
              "      <th>metformin-rosiglitazone_No</th>\n",
              "      <th>metformin-rosiglitazone_Steady</th>\n",
              "      <th>metformin-pioglitazone_No</th>\n",
              "      <th>metformin-pioglitazone_Steady</th>\n",
              "      <th>change_Ch</th>\n",
              "      <th>change_No</th>\n",
              "    </tr>\n",
              "  </thead>\n",
              "  <tbody>\n",
              "    <tr>\n",
              "      <th>0</th>\n",
              "      <td>0.000000</td>\n",
              "      <td>0.305344</td>\n",
              "      <td>0.000000</td>\n",
              "      <td>0.0000</td>\n",
              "      <td>0.000000</td>\n",
              "      <td>0.0</td>\n",
              "      <td>0.000000</td>\n",
              "      <td>0.000000</td>\n",
              "      <td>0</td>\n",
              "      <td>0</td>\n",
              "      <td>0</td>\n",
              "      <td>1</td>\n",
              "      <td>0</td>\n",
              "      <td>0</td>\n",
              "      <td>1</td>\n",
              "      <td>0</td>\n",
              "      <td>0</td>\n",
              "      <td>1</td>\n",
              "      <td>0</td>\n",
              "      <td>0</td>\n",
              "      <td>0</td>\n",
              "      <td>0</td>\n",
              "      <td>0</td>\n",
              "      <td>0</td>\n",
              "      <td>0</td>\n",
              "      <td>0</td>\n",
              "      <td>0</td>\n",
              "      <td>0</td>\n",
              "      <td>0</td>\n",
              "      <td>1</td>\n",
              "      <td>0</td>\n",
              "      <td>0</td>\n",
              "      <td>0</td>\n",
              "      <td>1</td>\n",
              "      <td>0</td>\n",
              "      <td>0</td>\n",
              "      <td>1</td>\n",
              "      <td>0</td>\n",
              "      <td>0</td>\n",
              "      <td>0</td>\n",
              "      <td>...</td>\n",
              "      <td>1</td>\n",
              "      <td>0</td>\n",
              "      <td>0</td>\n",
              "      <td>0</td>\n",
              "      <td>1</td>\n",
              "      <td>0</td>\n",
              "      <td>0</td>\n",
              "      <td>0</td>\n",
              "      <td>1</td>\n",
              "      <td>0</td>\n",
              "      <td>0</td>\n",
              "      <td>0</td>\n",
              "      <td>1</td>\n",
              "      <td>0</td>\n",
              "      <td>0</td>\n",
              "      <td>1</td>\n",
              "      <td>0</td>\n",
              "      <td>1</td>\n",
              "      <td>0</td>\n",
              "      <td>0</td>\n",
              "      <td>1</td>\n",
              "      <td>1</td>\n",
              "      <td>0</td>\n",
              "      <td>1</td>\n",
              "      <td>0</td>\n",
              "      <td>0</td>\n",
              "      <td>0</td>\n",
              "      <td>1</td>\n",
              "      <td>0</td>\n",
              "      <td>0</td>\n",
              "      <td>1</td>\n",
              "      <td>0</td>\n",
              "      <td>1</td>\n",
              "      <td>0</td>\n",
              "      <td>1</td>\n",
              "      <td>0</td>\n",
              "      <td>1</td>\n",
              "      <td>0</td>\n",
              "      <td>0</td>\n",
              "      <td>1</td>\n",
              "    </tr>\n",
              "    <tr>\n",
              "      <th>1</th>\n",
              "      <td>0.153846</td>\n",
              "      <td>0.442748</td>\n",
              "      <td>0.000000</td>\n",
              "      <td>0.2125</td>\n",
              "      <td>0.000000</td>\n",
              "      <td>0.0</td>\n",
              "      <td>0.000000</td>\n",
              "      <td>0.533333</td>\n",
              "      <td>0</td>\n",
              "      <td>0</td>\n",
              "      <td>0</td>\n",
              "      <td>1</td>\n",
              "      <td>0</td>\n",
              "      <td>0</td>\n",
              "      <td>1</td>\n",
              "      <td>0</td>\n",
              "      <td>0</td>\n",
              "      <td>0</td>\n",
              "      <td>1</td>\n",
              "      <td>0</td>\n",
              "      <td>0</td>\n",
              "      <td>0</td>\n",
              "      <td>0</td>\n",
              "      <td>0</td>\n",
              "      <td>0</td>\n",
              "      <td>0</td>\n",
              "      <td>0</td>\n",
              "      <td>0</td>\n",
              "      <td>0</td>\n",
              "      <td>1</td>\n",
              "      <td>0</td>\n",
              "      <td>0</td>\n",
              "      <td>0</td>\n",
              "      <td>1</td>\n",
              "      <td>0</td>\n",
              "      <td>0</td>\n",
              "      <td>1</td>\n",
              "      <td>0</td>\n",
              "      <td>0</td>\n",
              "      <td>0</td>\n",
              "      <td>...</td>\n",
              "      <td>1</td>\n",
              "      <td>0</td>\n",
              "      <td>0</td>\n",
              "      <td>0</td>\n",
              "      <td>1</td>\n",
              "      <td>0</td>\n",
              "      <td>0</td>\n",
              "      <td>0</td>\n",
              "      <td>1</td>\n",
              "      <td>0</td>\n",
              "      <td>0</td>\n",
              "      <td>0</td>\n",
              "      <td>1</td>\n",
              "      <td>0</td>\n",
              "      <td>0</td>\n",
              "      <td>1</td>\n",
              "      <td>0</td>\n",
              "      <td>1</td>\n",
              "      <td>0</td>\n",
              "      <td>0</td>\n",
              "      <td>1</td>\n",
              "      <td>1</td>\n",
              "      <td>0</td>\n",
              "      <td>0</td>\n",
              "      <td>0</td>\n",
              "      <td>1</td>\n",
              "      <td>0</td>\n",
              "      <td>1</td>\n",
              "      <td>0</td>\n",
              "      <td>0</td>\n",
              "      <td>1</td>\n",
              "      <td>0</td>\n",
              "      <td>1</td>\n",
              "      <td>0</td>\n",
              "      <td>1</td>\n",
              "      <td>0</td>\n",
              "      <td>1</td>\n",
              "      <td>0</td>\n",
              "      <td>1</td>\n",
              "      <td>0</td>\n",
              "    </tr>\n",
              "    <tr>\n",
              "      <th>2</th>\n",
              "      <td>0.076923</td>\n",
              "      <td>0.076336</td>\n",
              "      <td>0.833333</td>\n",
              "      <td>0.1500</td>\n",
              "      <td>0.047619</td>\n",
              "      <td>0.0</td>\n",
              "      <td>0.047619</td>\n",
              "      <td>0.333333</td>\n",
              "      <td>0</td>\n",
              "      <td>1</td>\n",
              "      <td>0</td>\n",
              "      <td>0</td>\n",
              "      <td>0</td>\n",
              "      <td>0</td>\n",
              "      <td>1</td>\n",
              "      <td>0</td>\n",
              "      <td>0</td>\n",
              "      <td>0</td>\n",
              "      <td>0</td>\n",
              "      <td>1</td>\n",
              "      <td>0</td>\n",
              "      <td>0</td>\n",
              "      <td>0</td>\n",
              "      <td>0</td>\n",
              "      <td>0</td>\n",
              "      <td>0</td>\n",
              "      <td>0</td>\n",
              "      <td>0</td>\n",
              "      <td>0</td>\n",
              "      <td>1</td>\n",
              "      <td>0</td>\n",
              "      <td>0</td>\n",
              "      <td>0</td>\n",
              "      <td>1</td>\n",
              "      <td>0</td>\n",
              "      <td>0</td>\n",
              "      <td>1</td>\n",
              "      <td>0</td>\n",
              "      <td>0</td>\n",
              "      <td>0</td>\n",
              "      <td>...</td>\n",
              "      <td>1</td>\n",
              "      <td>0</td>\n",
              "      <td>0</td>\n",
              "      <td>0</td>\n",
              "      <td>1</td>\n",
              "      <td>0</td>\n",
              "      <td>0</td>\n",
              "      <td>0</td>\n",
              "      <td>1</td>\n",
              "      <td>0</td>\n",
              "      <td>0</td>\n",
              "      <td>0</td>\n",
              "      <td>1</td>\n",
              "      <td>0</td>\n",
              "      <td>0</td>\n",
              "      <td>1</td>\n",
              "      <td>0</td>\n",
              "      <td>1</td>\n",
              "      <td>0</td>\n",
              "      <td>0</td>\n",
              "      <td>1</td>\n",
              "      <td>1</td>\n",
              "      <td>0</td>\n",
              "      <td>1</td>\n",
              "      <td>0</td>\n",
              "      <td>0</td>\n",
              "      <td>0</td>\n",
              "      <td>1</td>\n",
              "      <td>0</td>\n",
              "      <td>0</td>\n",
              "      <td>1</td>\n",
              "      <td>0</td>\n",
              "      <td>1</td>\n",
              "      <td>0</td>\n",
              "      <td>1</td>\n",
              "      <td>0</td>\n",
              "      <td>1</td>\n",
              "      <td>0</td>\n",
              "      <td>0</td>\n",
              "      <td>1</td>\n",
              "    </tr>\n",
              "    <tr>\n",
              "      <th>3</th>\n",
              "      <td>0.076923</td>\n",
              "      <td>0.328244</td>\n",
              "      <td>0.166667</td>\n",
              "      <td>0.1875</td>\n",
              "      <td>0.000000</td>\n",
              "      <td>0.0</td>\n",
              "      <td>0.000000</td>\n",
              "      <td>0.400000</td>\n",
              "      <td>0</td>\n",
              "      <td>0</td>\n",
              "      <td>0</td>\n",
              "      <td>1</td>\n",
              "      <td>0</td>\n",
              "      <td>0</td>\n",
              "      <td>0</td>\n",
              "      <td>1</td>\n",
              "      <td>0</td>\n",
              "      <td>0</td>\n",
              "      <td>0</td>\n",
              "      <td>0</td>\n",
              "      <td>1</td>\n",
              "      <td>0</td>\n",
              "      <td>0</td>\n",
              "      <td>0</td>\n",
              "      <td>0</td>\n",
              "      <td>0</td>\n",
              "      <td>0</td>\n",
              "      <td>0</td>\n",
              "      <td>0</td>\n",
              "      <td>1</td>\n",
              "      <td>0</td>\n",
              "      <td>0</td>\n",
              "      <td>0</td>\n",
              "      <td>1</td>\n",
              "      <td>0</td>\n",
              "      <td>0</td>\n",
              "      <td>1</td>\n",
              "      <td>0</td>\n",
              "      <td>0</td>\n",
              "      <td>0</td>\n",
              "      <td>...</td>\n",
              "      <td>1</td>\n",
              "      <td>0</td>\n",
              "      <td>0</td>\n",
              "      <td>0</td>\n",
              "      <td>1</td>\n",
              "      <td>0</td>\n",
              "      <td>0</td>\n",
              "      <td>0</td>\n",
              "      <td>1</td>\n",
              "      <td>0</td>\n",
              "      <td>0</td>\n",
              "      <td>0</td>\n",
              "      <td>1</td>\n",
              "      <td>0</td>\n",
              "      <td>0</td>\n",
              "      <td>1</td>\n",
              "      <td>0</td>\n",
              "      <td>1</td>\n",
              "      <td>0</td>\n",
              "      <td>0</td>\n",
              "      <td>1</td>\n",
              "      <td>1</td>\n",
              "      <td>0</td>\n",
              "      <td>0</td>\n",
              "      <td>0</td>\n",
              "      <td>1</td>\n",
              "      <td>0</td>\n",
              "      <td>1</td>\n",
              "      <td>0</td>\n",
              "      <td>0</td>\n",
              "      <td>1</td>\n",
              "      <td>0</td>\n",
              "      <td>1</td>\n",
              "      <td>0</td>\n",
              "      <td>1</td>\n",
              "      <td>0</td>\n",
              "      <td>1</td>\n",
              "      <td>0</td>\n",
              "      <td>1</td>\n",
              "      <td>0</td>\n",
              "    </tr>\n",
              "    <tr>\n",
              "      <th>4</th>\n",
              "      <td>0.000000</td>\n",
              "      <td>0.381679</td>\n",
              "      <td>0.000000</td>\n",
              "      <td>0.0875</td>\n",
              "      <td>0.000000</td>\n",
              "      <td>0.0</td>\n",
              "      <td>0.000000</td>\n",
              "      <td>0.266667</td>\n",
              "      <td>0</td>\n",
              "      <td>0</td>\n",
              "      <td>0</td>\n",
              "      <td>1</td>\n",
              "      <td>0</td>\n",
              "      <td>0</td>\n",
              "      <td>0</td>\n",
              "      <td>1</td>\n",
              "      <td>0</td>\n",
              "      <td>0</td>\n",
              "      <td>0</td>\n",
              "      <td>0</td>\n",
              "      <td>0</td>\n",
              "      <td>1</td>\n",
              "      <td>0</td>\n",
              "      <td>0</td>\n",
              "      <td>0</td>\n",
              "      <td>0</td>\n",
              "      <td>0</td>\n",
              "      <td>0</td>\n",
              "      <td>0</td>\n",
              "      <td>1</td>\n",
              "      <td>0</td>\n",
              "      <td>0</td>\n",
              "      <td>0</td>\n",
              "      <td>1</td>\n",
              "      <td>0</td>\n",
              "      <td>0</td>\n",
              "      <td>1</td>\n",
              "      <td>0</td>\n",
              "      <td>0</td>\n",
              "      <td>0</td>\n",
              "      <td>...</td>\n",
              "      <td>1</td>\n",
              "      <td>0</td>\n",
              "      <td>0</td>\n",
              "      <td>0</td>\n",
              "      <td>1</td>\n",
              "      <td>0</td>\n",
              "      <td>0</td>\n",
              "      <td>0</td>\n",
              "      <td>1</td>\n",
              "      <td>0</td>\n",
              "      <td>0</td>\n",
              "      <td>0</td>\n",
              "      <td>1</td>\n",
              "      <td>0</td>\n",
              "      <td>0</td>\n",
              "      <td>1</td>\n",
              "      <td>0</td>\n",
              "      <td>1</td>\n",
              "      <td>0</td>\n",
              "      <td>0</td>\n",
              "      <td>1</td>\n",
              "      <td>1</td>\n",
              "      <td>0</td>\n",
              "      <td>0</td>\n",
              "      <td>1</td>\n",
              "      <td>0</td>\n",
              "      <td>0</td>\n",
              "      <td>1</td>\n",
              "      <td>0</td>\n",
              "      <td>0</td>\n",
              "      <td>1</td>\n",
              "      <td>0</td>\n",
              "      <td>1</td>\n",
              "      <td>0</td>\n",
              "      <td>1</td>\n",
              "      <td>0</td>\n",
              "      <td>1</td>\n",
              "      <td>0</td>\n",
              "      <td>1</td>\n",
              "      <td>0</td>\n",
              "    </tr>\n",
              "  </tbody>\n",
              "</table>\n",
              "<p>5 rows × 108 columns</p>\n",
              "</div>"
            ],
            "text/plain": [
              "   time_in_hospital  num_lab_procedures  ...  change_Ch  change_No\n",
              "0          0.000000            0.305344  ...          0          1\n",
              "1          0.153846            0.442748  ...          1          0\n",
              "2          0.076923            0.076336  ...          0          1\n",
              "3          0.076923            0.328244  ...          1          0\n",
              "4          0.000000            0.381679  ...          1          0\n",
              "\n",
              "[5 rows x 108 columns]"
            ]
          },
          "metadata": {
            "tags": []
          },
          "execution_count": 108
        }
      ]
    },
    {
      "cell_type": "code",
      "metadata": {
        "id": "zG9H5A9g4a4u",
        "colab_type": "code",
        "outputId": "dba0bc99-fc15-4f76-d205-d5a10c39e657",
        "colab": {
          "base_uri": "https://localhost:8080/",
          "height": 261
        }
      },
      "source": [
        "X_readmitted.head()"
      ],
      "execution_count": 109,
      "outputs": [
        {
          "output_type": "execute_result",
          "data": {
            "text/html": [
              "<div>\n",
              "<style scoped>\n",
              "    .dataframe tbody tr th:only-of-type {\n",
              "        vertical-align: middle;\n",
              "    }\n",
              "\n",
              "    .dataframe tbody tr th {\n",
              "        vertical-align: top;\n",
              "    }\n",
              "\n",
              "    .dataframe thead th {\n",
              "        text-align: right;\n",
              "    }\n",
              "</style>\n",
              "<table border=\"1\" class=\"dataframe\">\n",
              "  <thead>\n",
              "    <tr style=\"text-align: right;\">\n",
              "      <th></th>\n",
              "      <th>time_in_hospital</th>\n",
              "      <th>num_lab_procedures</th>\n",
              "      <th>num_procedures</th>\n",
              "      <th>num_medications</th>\n",
              "      <th>number_outpatient</th>\n",
              "      <th>number_emergency</th>\n",
              "      <th>number_inpatient</th>\n",
              "      <th>number_diagnoses</th>\n",
              "      <th>race_?</th>\n",
              "      <th>race_AfricanAmerican</th>\n",
              "      <th>race_Asian</th>\n",
              "      <th>race_Caucasian</th>\n",
              "      <th>race_Hispanic</th>\n",
              "      <th>race_Other</th>\n",
              "      <th>gender_Female</th>\n",
              "      <th>gender_Male</th>\n",
              "      <th>gender_Unknown/Invalid</th>\n",
              "      <th>age_[0-10)</th>\n",
              "      <th>age_[10-20)</th>\n",
              "      <th>age_[20-30)</th>\n",
              "      <th>age_[30-40)</th>\n",
              "      <th>age_[40-50)</th>\n",
              "      <th>age_[50-60)</th>\n",
              "      <th>age_[60-70)</th>\n",
              "      <th>age_[70-80)</th>\n",
              "      <th>age_[80-90)</th>\n",
              "      <th>age_[90-100)</th>\n",
              "      <th>max_glu_serum_&gt;200</th>\n",
              "      <th>max_glu_serum_&gt;300</th>\n",
              "      <th>max_glu_serum_None</th>\n",
              "      <th>max_glu_serum_Norm</th>\n",
              "      <th>A1Cresult_&gt;7</th>\n",
              "      <th>A1Cresult_&gt;8</th>\n",
              "      <th>A1Cresult_None</th>\n",
              "      <th>A1Cresult_Norm</th>\n",
              "      <th>metformin_Down</th>\n",
              "      <th>metformin_No</th>\n",
              "      <th>metformin_Steady</th>\n",
              "      <th>metformin_Up</th>\n",
              "      <th>repaglinide_Down</th>\n",
              "      <th>...</th>\n",
              "      <th>pioglitazone_Up</th>\n",
              "      <th>rosiglitazone_Down</th>\n",
              "      <th>rosiglitazone_No</th>\n",
              "      <th>rosiglitazone_Steady</th>\n",
              "      <th>rosiglitazone_Up</th>\n",
              "      <th>acarbose_Down</th>\n",
              "      <th>acarbose_No</th>\n",
              "      <th>acarbose_Steady</th>\n",
              "      <th>acarbose_Up</th>\n",
              "      <th>miglitol_Down</th>\n",
              "      <th>miglitol_No</th>\n",
              "      <th>miglitol_Steady</th>\n",
              "      <th>miglitol_Up</th>\n",
              "      <th>troglitazone_No</th>\n",
              "      <th>troglitazone_Steady</th>\n",
              "      <th>tolazamide_No</th>\n",
              "      <th>tolazamide_Steady</th>\n",
              "      <th>tolazamide_Up</th>\n",
              "      <th>examide_No</th>\n",
              "      <th>citoglipton_No</th>\n",
              "      <th>insulin_Down</th>\n",
              "      <th>insulin_No</th>\n",
              "      <th>insulin_Steady</th>\n",
              "      <th>insulin_Up</th>\n",
              "      <th>glyburide-metformin_Down</th>\n",
              "      <th>glyburide-metformin_No</th>\n",
              "      <th>glyburide-metformin_Steady</th>\n",
              "      <th>glyburide-metformin_Up</th>\n",
              "      <th>glipizide-metformin_No</th>\n",
              "      <th>glipizide-metformin_Steady</th>\n",
              "      <th>glimepiride-pioglitazone_No</th>\n",
              "      <th>glimepiride-pioglitazone_Steady</th>\n",
              "      <th>metformin-rosiglitazone_No</th>\n",
              "      <th>metformin-rosiglitazone_Steady</th>\n",
              "      <th>metformin-pioglitazone_No</th>\n",
              "      <th>metformin-pioglitazone_Steady</th>\n",
              "      <th>change_Ch</th>\n",
              "      <th>change_No</th>\n",
              "      <th>diabetesMed_No</th>\n",
              "      <th>diabetesMed_Yes</th>\n",
              "    </tr>\n",
              "  </thead>\n",
              "  <tbody>\n",
              "    <tr>\n",
              "      <th>0</th>\n",
              "      <td>0.000000</td>\n",
              "      <td>0.305344</td>\n",
              "      <td>0.000000</td>\n",
              "      <td>0.0000</td>\n",
              "      <td>0.000000</td>\n",
              "      <td>0.0</td>\n",
              "      <td>0.000000</td>\n",
              "      <td>0.000000</td>\n",
              "      <td>0</td>\n",
              "      <td>0</td>\n",
              "      <td>0</td>\n",
              "      <td>1</td>\n",
              "      <td>0</td>\n",
              "      <td>0</td>\n",
              "      <td>1</td>\n",
              "      <td>0</td>\n",
              "      <td>0</td>\n",
              "      <td>1</td>\n",
              "      <td>0</td>\n",
              "      <td>0</td>\n",
              "      <td>0</td>\n",
              "      <td>0</td>\n",
              "      <td>0</td>\n",
              "      <td>0</td>\n",
              "      <td>0</td>\n",
              "      <td>0</td>\n",
              "      <td>0</td>\n",
              "      <td>0</td>\n",
              "      <td>0</td>\n",
              "      <td>1</td>\n",
              "      <td>0</td>\n",
              "      <td>0</td>\n",
              "      <td>0</td>\n",
              "      <td>1</td>\n",
              "      <td>0</td>\n",
              "      <td>0</td>\n",
              "      <td>1</td>\n",
              "      <td>0</td>\n",
              "      <td>0</td>\n",
              "      <td>0</td>\n",
              "      <td>...</td>\n",
              "      <td>0</td>\n",
              "      <td>0</td>\n",
              "      <td>1</td>\n",
              "      <td>0</td>\n",
              "      <td>0</td>\n",
              "      <td>0</td>\n",
              "      <td>1</td>\n",
              "      <td>0</td>\n",
              "      <td>0</td>\n",
              "      <td>0</td>\n",
              "      <td>1</td>\n",
              "      <td>0</td>\n",
              "      <td>0</td>\n",
              "      <td>1</td>\n",
              "      <td>0</td>\n",
              "      <td>1</td>\n",
              "      <td>0</td>\n",
              "      <td>0</td>\n",
              "      <td>1</td>\n",
              "      <td>1</td>\n",
              "      <td>0</td>\n",
              "      <td>1</td>\n",
              "      <td>0</td>\n",
              "      <td>0</td>\n",
              "      <td>0</td>\n",
              "      <td>1</td>\n",
              "      <td>0</td>\n",
              "      <td>0</td>\n",
              "      <td>1</td>\n",
              "      <td>0</td>\n",
              "      <td>1</td>\n",
              "      <td>0</td>\n",
              "      <td>1</td>\n",
              "      <td>0</td>\n",
              "      <td>1</td>\n",
              "      <td>0</td>\n",
              "      <td>0</td>\n",
              "      <td>1</td>\n",
              "      <td>1</td>\n",
              "      <td>0</td>\n",
              "    </tr>\n",
              "    <tr>\n",
              "      <th>1</th>\n",
              "      <td>0.153846</td>\n",
              "      <td>0.442748</td>\n",
              "      <td>0.000000</td>\n",
              "      <td>0.2125</td>\n",
              "      <td>0.000000</td>\n",
              "      <td>0.0</td>\n",
              "      <td>0.000000</td>\n",
              "      <td>0.533333</td>\n",
              "      <td>0</td>\n",
              "      <td>0</td>\n",
              "      <td>0</td>\n",
              "      <td>1</td>\n",
              "      <td>0</td>\n",
              "      <td>0</td>\n",
              "      <td>1</td>\n",
              "      <td>0</td>\n",
              "      <td>0</td>\n",
              "      <td>0</td>\n",
              "      <td>1</td>\n",
              "      <td>0</td>\n",
              "      <td>0</td>\n",
              "      <td>0</td>\n",
              "      <td>0</td>\n",
              "      <td>0</td>\n",
              "      <td>0</td>\n",
              "      <td>0</td>\n",
              "      <td>0</td>\n",
              "      <td>0</td>\n",
              "      <td>0</td>\n",
              "      <td>1</td>\n",
              "      <td>0</td>\n",
              "      <td>0</td>\n",
              "      <td>0</td>\n",
              "      <td>1</td>\n",
              "      <td>0</td>\n",
              "      <td>0</td>\n",
              "      <td>1</td>\n",
              "      <td>0</td>\n",
              "      <td>0</td>\n",
              "      <td>0</td>\n",
              "      <td>...</td>\n",
              "      <td>0</td>\n",
              "      <td>0</td>\n",
              "      <td>1</td>\n",
              "      <td>0</td>\n",
              "      <td>0</td>\n",
              "      <td>0</td>\n",
              "      <td>1</td>\n",
              "      <td>0</td>\n",
              "      <td>0</td>\n",
              "      <td>0</td>\n",
              "      <td>1</td>\n",
              "      <td>0</td>\n",
              "      <td>0</td>\n",
              "      <td>1</td>\n",
              "      <td>0</td>\n",
              "      <td>1</td>\n",
              "      <td>0</td>\n",
              "      <td>0</td>\n",
              "      <td>1</td>\n",
              "      <td>1</td>\n",
              "      <td>0</td>\n",
              "      <td>0</td>\n",
              "      <td>0</td>\n",
              "      <td>1</td>\n",
              "      <td>0</td>\n",
              "      <td>1</td>\n",
              "      <td>0</td>\n",
              "      <td>0</td>\n",
              "      <td>1</td>\n",
              "      <td>0</td>\n",
              "      <td>1</td>\n",
              "      <td>0</td>\n",
              "      <td>1</td>\n",
              "      <td>0</td>\n",
              "      <td>1</td>\n",
              "      <td>0</td>\n",
              "      <td>1</td>\n",
              "      <td>0</td>\n",
              "      <td>0</td>\n",
              "      <td>1</td>\n",
              "    </tr>\n",
              "    <tr>\n",
              "      <th>2</th>\n",
              "      <td>0.076923</td>\n",
              "      <td>0.076336</td>\n",
              "      <td>0.833333</td>\n",
              "      <td>0.1500</td>\n",
              "      <td>0.047619</td>\n",
              "      <td>0.0</td>\n",
              "      <td>0.047619</td>\n",
              "      <td>0.333333</td>\n",
              "      <td>0</td>\n",
              "      <td>1</td>\n",
              "      <td>0</td>\n",
              "      <td>0</td>\n",
              "      <td>0</td>\n",
              "      <td>0</td>\n",
              "      <td>1</td>\n",
              "      <td>0</td>\n",
              "      <td>0</td>\n",
              "      <td>0</td>\n",
              "      <td>0</td>\n",
              "      <td>1</td>\n",
              "      <td>0</td>\n",
              "      <td>0</td>\n",
              "      <td>0</td>\n",
              "      <td>0</td>\n",
              "      <td>0</td>\n",
              "      <td>0</td>\n",
              "      <td>0</td>\n",
              "      <td>0</td>\n",
              "      <td>0</td>\n",
              "      <td>1</td>\n",
              "      <td>0</td>\n",
              "      <td>0</td>\n",
              "      <td>0</td>\n",
              "      <td>1</td>\n",
              "      <td>0</td>\n",
              "      <td>0</td>\n",
              "      <td>1</td>\n",
              "      <td>0</td>\n",
              "      <td>0</td>\n",
              "      <td>0</td>\n",
              "      <td>...</td>\n",
              "      <td>0</td>\n",
              "      <td>0</td>\n",
              "      <td>1</td>\n",
              "      <td>0</td>\n",
              "      <td>0</td>\n",
              "      <td>0</td>\n",
              "      <td>1</td>\n",
              "      <td>0</td>\n",
              "      <td>0</td>\n",
              "      <td>0</td>\n",
              "      <td>1</td>\n",
              "      <td>0</td>\n",
              "      <td>0</td>\n",
              "      <td>1</td>\n",
              "      <td>0</td>\n",
              "      <td>1</td>\n",
              "      <td>0</td>\n",
              "      <td>0</td>\n",
              "      <td>1</td>\n",
              "      <td>1</td>\n",
              "      <td>0</td>\n",
              "      <td>1</td>\n",
              "      <td>0</td>\n",
              "      <td>0</td>\n",
              "      <td>0</td>\n",
              "      <td>1</td>\n",
              "      <td>0</td>\n",
              "      <td>0</td>\n",
              "      <td>1</td>\n",
              "      <td>0</td>\n",
              "      <td>1</td>\n",
              "      <td>0</td>\n",
              "      <td>1</td>\n",
              "      <td>0</td>\n",
              "      <td>1</td>\n",
              "      <td>0</td>\n",
              "      <td>0</td>\n",
              "      <td>1</td>\n",
              "      <td>0</td>\n",
              "      <td>1</td>\n",
              "    </tr>\n",
              "    <tr>\n",
              "      <th>3</th>\n",
              "      <td>0.076923</td>\n",
              "      <td>0.328244</td>\n",
              "      <td>0.166667</td>\n",
              "      <td>0.1875</td>\n",
              "      <td>0.000000</td>\n",
              "      <td>0.0</td>\n",
              "      <td>0.000000</td>\n",
              "      <td>0.400000</td>\n",
              "      <td>0</td>\n",
              "      <td>0</td>\n",
              "      <td>0</td>\n",
              "      <td>1</td>\n",
              "      <td>0</td>\n",
              "      <td>0</td>\n",
              "      <td>0</td>\n",
              "      <td>1</td>\n",
              "      <td>0</td>\n",
              "      <td>0</td>\n",
              "      <td>0</td>\n",
              "      <td>0</td>\n",
              "      <td>1</td>\n",
              "      <td>0</td>\n",
              "      <td>0</td>\n",
              "      <td>0</td>\n",
              "      <td>0</td>\n",
              "      <td>0</td>\n",
              "      <td>0</td>\n",
              "      <td>0</td>\n",
              "      <td>0</td>\n",
              "      <td>1</td>\n",
              "      <td>0</td>\n",
              "      <td>0</td>\n",
              "      <td>0</td>\n",
              "      <td>1</td>\n",
              "      <td>0</td>\n",
              "      <td>0</td>\n",
              "      <td>1</td>\n",
              "      <td>0</td>\n",
              "      <td>0</td>\n",
              "      <td>0</td>\n",
              "      <td>...</td>\n",
              "      <td>0</td>\n",
              "      <td>0</td>\n",
              "      <td>1</td>\n",
              "      <td>0</td>\n",
              "      <td>0</td>\n",
              "      <td>0</td>\n",
              "      <td>1</td>\n",
              "      <td>0</td>\n",
              "      <td>0</td>\n",
              "      <td>0</td>\n",
              "      <td>1</td>\n",
              "      <td>0</td>\n",
              "      <td>0</td>\n",
              "      <td>1</td>\n",
              "      <td>0</td>\n",
              "      <td>1</td>\n",
              "      <td>0</td>\n",
              "      <td>0</td>\n",
              "      <td>1</td>\n",
              "      <td>1</td>\n",
              "      <td>0</td>\n",
              "      <td>0</td>\n",
              "      <td>0</td>\n",
              "      <td>1</td>\n",
              "      <td>0</td>\n",
              "      <td>1</td>\n",
              "      <td>0</td>\n",
              "      <td>0</td>\n",
              "      <td>1</td>\n",
              "      <td>0</td>\n",
              "      <td>1</td>\n",
              "      <td>0</td>\n",
              "      <td>1</td>\n",
              "      <td>0</td>\n",
              "      <td>1</td>\n",
              "      <td>0</td>\n",
              "      <td>1</td>\n",
              "      <td>0</td>\n",
              "      <td>0</td>\n",
              "      <td>1</td>\n",
              "    </tr>\n",
              "    <tr>\n",
              "      <th>4</th>\n",
              "      <td>0.000000</td>\n",
              "      <td>0.381679</td>\n",
              "      <td>0.000000</td>\n",
              "      <td>0.0875</td>\n",
              "      <td>0.000000</td>\n",
              "      <td>0.0</td>\n",
              "      <td>0.000000</td>\n",
              "      <td>0.266667</td>\n",
              "      <td>0</td>\n",
              "      <td>0</td>\n",
              "      <td>0</td>\n",
              "      <td>1</td>\n",
              "      <td>0</td>\n",
              "      <td>0</td>\n",
              "      <td>0</td>\n",
              "      <td>1</td>\n",
              "      <td>0</td>\n",
              "      <td>0</td>\n",
              "      <td>0</td>\n",
              "      <td>0</td>\n",
              "      <td>0</td>\n",
              "      <td>1</td>\n",
              "      <td>0</td>\n",
              "      <td>0</td>\n",
              "      <td>0</td>\n",
              "      <td>0</td>\n",
              "      <td>0</td>\n",
              "      <td>0</td>\n",
              "      <td>0</td>\n",
              "      <td>1</td>\n",
              "      <td>0</td>\n",
              "      <td>0</td>\n",
              "      <td>0</td>\n",
              "      <td>1</td>\n",
              "      <td>0</td>\n",
              "      <td>0</td>\n",
              "      <td>1</td>\n",
              "      <td>0</td>\n",
              "      <td>0</td>\n",
              "      <td>0</td>\n",
              "      <td>...</td>\n",
              "      <td>0</td>\n",
              "      <td>0</td>\n",
              "      <td>1</td>\n",
              "      <td>0</td>\n",
              "      <td>0</td>\n",
              "      <td>0</td>\n",
              "      <td>1</td>\n",
              "      <td>0</td>\n",
              "      <td>0</td>\n",
              "      <td>0</td>\n",
              "      <td>1</td>\n",
              "      <td>0</td>\n",
              "      <td>0</td>\n",
              "      <td>1</td>\n",
              "      <td>0</td>\n",
              "      <td>1</td>\n",
              "      <td>0</td>\n",
              "      <td>0</td>\n",
              "      <td>1</td>\n",
              "      <td>1</td>\n",
              "      <td>0</td>\n",
              "      <td>0</td>\n",
              "      <td>1</td>\n",
              "      <td>0</td>\n",
              "      <td>0</td>\n",
              "      <td>1</td>\n",
              "      <td>0</td>\n",
              "      <td>0</td>\n",
              "      <td>1</td>\n",
              "      <td>0</td>\n",
              "      <td>1</td>\n",
              "      <td>0</td>\n",
              "      <td>1</td>\n",
              "      <td>0</td>\n",
              "      <td>1</td>\n",
              "      <td>0</td>\n",
              "      <td>1</td>\n",
              "      <td>0</td>\n",
              "      <td>0</td>\n",
              "      <td>1</td>\n",
              "    </tr>\n",
              "  </tbody>\n",
              "</table>\n",
              "<p>5 rows × 110 columns</p>\n",
              "</div>"
            ],
            "text/plain": [
              "   time_in_hospital  num_lab_procedures  ...  diabetesMed_No  diabetesMed_Yes\n",
              "0          0.000000            0.305344  ...               1                0\n",
              "1          0.153846            0.442748  ...               0                1\n",
              "2          0.076923            0.076336  ...               0                1\n",
              "3          0.076923            0.328244  ...               0                1\n",
              "4          0.000000            0.381679  ...               0                1\n",
              "\n",
              "[5 rows x 110 columns]"
            ]
          },
          "metadata": {
            "tags": []
          },
          "execution_count": 109
        }
      ]
    },
    {
      "cell_type": "markdown",
      "metadata": {
        "id": "7inalLs5KknK",
        "colab_type": "text"
      },
      "source": [
        "convert 'diabetesMed' label to numerical"
      ]
    },
    {
      "cell_type": "code",
      "metadata": {
        "id": "T3hJ8nLvKPk7",
        "colab_type": "code",
        "outputId": "07aa9722-9b1d-4f71-adc2-6819041bf010",
        "colab": {
          "base_uri": "https://localhost:8080/",
          "height": 118
        }
      },
      "source": [
        "y_dia = y_diabetesMed.map({'Yes': 1, 'No': 0})\n",
        "y_dia.head()"
      ],
      "execution_count": 110,
      "outputs": [
        {
          "output_type": "execute_result",
          "data": {
            "text/plain": [
              "0    0\n",
              "1    1\n",
              "2    1\n",
              "3    1\n",
              "4    1\n",
              "Name: diabetesMed, dtype: int64"
            ]
          },
          "metadata": {
            "tags": []
          },
          "execution_count": 110
        }
      ]
    },
    {
      "cell_type": "markdown",
      "metadata": {
        "id": "Mut8OTQvKmC3",
        "colab_type": "text"
      },
      "source": [
        "convert 'readmitted' label to numerical"
      ]
    },
    {
      "cell_type": "code",
      "metadata": {
        "id": "dj5_M6kDKe5S",
        "colab_type": "code",
        "outputId": "4c3b022a-b6e8-49eb-9e96-332f17fc1132",
        "colab": {
          "base_uri": "https://localhost:8080/",
          "height": 118
        }
      },
      "source": [
        "y_rea = y_readmitted.map({'NO': 0, '<30': 1, '>30':2})\n",
        "y_rea.head()"
      ],
      "execution_count": 111,
      "outputs": [
        {
          "output_type": "execute_result",
          "data": {
            "text/plain": [
              "0    0\n",
              "1    2\n",
              "2    0\n",
              "3    0\n",
              "4    0\n",
              "Name: readmitted, dtype: int64"
            ]
          },
          "metadata": {
            "tags": []
          },
          "execution_count": 111
        }
      ]
    },
    {
      "cell_type": "markdown",
      "metadata": {
        "id": "ieQUYqUm4ODq",
        "colab_type": "text"
      },
      "source": [
        "#PCA"
      ]
    },
    {
      "cell_type": "code",
      "metadata": {
        "id": "MAyWQwEW1lHi",
        "colab_type": "code",
        "colab": {}
      },
      "source": [
        "from sklearn.decomposition import PCA\n",
        "pca_red=PCA(n_components=0.95,random_state=57)\n",
        "X_dia_pca=pca_red.fit_transform(X_diabetesMed,y_dia)\n",
        "X_rea_pca = pca_red.fit_transform(X_readmitted,y_rea)"
      ],
      "execution_count": 0,
      "outputs": []
    },
    {
      "cell_type": "code",
      "metadata": {
        "id": "pI0FDuT82ly4",
        "colab_type": "code",
        "outputId": "5f22f35d-e591-4637-b4a0-7f429974a0e4",
        "colab": {
          "base_uri": "https://localhost:8080/",
          "height": 34
        }
      },
      "source": [
        "X_dia_pca.shape,X_rea_pca.shape"
      ],
      "execution_count": 113,
      "outputs": [
        {
          "output_type": "execute_result",
          "data": {
            "text/plain": [
              "((101766, 28), (101766, 28))"
            ]
          },
          "metadata": {
            "tags": []
          },
          "execution_count": 113
        }
      ]
    },
    {
      "cell_type": "markdown",
      "metadata": {
        "id": "6IymORnBLf8q",
        "colab_type": "text"
      },
      "source": [
        "##Select the best 50 features from both diabetes and readmitted"
      ]
    },
    {
      "cell_type": "code",
      "metadata": {
        "id": "lj7TcHMuLh7P",
        "colab_type": "code",
        "colab": {}
      },
      "source": [
        "skb = SelectKBest(chi2, k=50)\n",
        "X_dia_kbest = skb.fit_transform(X_diabetesMed,y_dia)\n",
        "X_rea_kbest = skb.fit_transform(X_readmitted,y_rea)"
      ],
      "execution_count": 0,
      "outputs": []
    },
    {
      "cell_type": "code",
      "metadata": {
        "id": "JC_kopY7MSkC",
        "colab_type": "code",
        "colab": {}
      },
      "source": [
        "# For vizaulizing the important features\n",
        "X_dia_fit = skb.fit(X_diabetesMed, y_dia)\n",
        "X_rea_fit = skb.fit(X_readmitted, y_rea)"
      ],
      "execution_count": 0,
      "outputs": []
    },
    {
      "cell_type": "markdown",
      "metadata": {
        "id": "Bz4YAbQGMbuP",
        "colab_type": "text"
      },
      "source": [
        "###Best 50 features for 'diabetesMed'"
      ]
    },
    {
      "cell_type": "code",
      "metadata": {
        "id": "JWbG3dc1Mpat",
        "colab_type": "code",
        "colab": {}
      },
      "source": [
        "X_dia_scores=pd.DataFrame(X_dia_fit.scores_)\n",
        "X_dia_columns = pd.DataFrame(X_diabetesMed.columns)\n",
        "dia_scores = pd.concat([X_dia_columns,X_dia_scores],axis=1)\n",
        "dia_scores.columns=['Features','Score']"
      ],
      "execution_count": 0,
      "outputs": []
    },
    {
      "cell_type": "markdown",
      "metadata": {
        "id": "SK4K_BlvNh-i",
        "colab_type": "text"
      },
      "source": [
        "See the 50 highest score of importance features"
      ]
    },
    {
      "cell_type": "code",
      "metadata": {
        "id": "6nwAJvGsNjy6",
        "colab_type": "code",
        "outputId": "62ae6aaf-c749-4a79-b0ba-5df0c640107b",
        "colab": {
          "base_uri": "https://localhost:8080/",
          "height": 874
        }
      },
      "source": [
        "print(dia_scores.nlargest(50,'Score'))"
      ],
      "execution_count": 117,
      "outputs": [
        {
          "output_type": "stream",
          "text": [
            "                 Features       Score\n",
            "6        number_inpatient  669.216104\n",
            "108                   NaN  297.625459\n",
            "90           insulin_Down  238.872885\n",
            "8                  race_?  183.884314\n",
            "93             insulin_Up  138.744906\n",
            "91             insulin_No  125.573774\n",
            "106             change_Ch  116.124225\n",
            "107             change_No   99.700776\n",
            "109                   NaN   88.885426\n",
            "2          num_procedures   74.810104\n",
            "4       number_outpatient   73.041399\n",
            "37       metformin_Steady   69.026049\n",
            "0        time_in_hospital   68.531651\n",
            "5        number_emergency   65.284473\n",
            "17             age_[0-10)   52.263554\n",
            "22            age_[50-60)   51.068381\n",
            "41     repaglinide_Steady   50.945966\n",
            "7        number_diagnoses   50.229612\n",
            "26           age_[90-100)   47.805649\n",
            "28     max_glu_serum_>300   46.563414\n",
            "24            age_[70-80)   43.780201\n",
            "34         A1Cresult_Norm   39.746656\n",
            "25            age_[80-90)   36.127732\n",
            "77        acarbose_Steady   32.893416\n",
            "10             race_Asian   32.209511\n",
            "73   rosiglitazone_Steady   30.168266\n",
            "59       glipizide_Steady   29.578794\n",
            "13             race_Other   28.427314\n",
            "18            age_[10-20)   27.074985\n",
            "19            age_[20-30)   22.628745\n",
            "11         race_Caucasian   22.389165\n",
            "69    pioglitazone_Steady   21.840487\n",
            "20            age_[30-40)   21.294385\n",
            "36           metformin_No   19.270163\n",
            "15            gender_Male   18.710642\n",
            "14          gender_Female   16.185895\n",
            "38           metformin_Up   15.480806\n",
            "3         num_medications   14.993586\n",
            "12          race_Hispanic   14.370138\n",
            "57         glipizide_Down   14.076126\n",
            "32           A1Cresult_>8   13.828680\n",
            "92         insulin_Steady   13.504195\n",
            "53     glimepiride_Steady   13.396116\n",
            "1      num_lab_procedures   11.242936\n",
            "21            age_[40-50)   10.747425\n",
            "33         A1Cresult_None    8.920693\n",
            "71     rosiglitazone_Down    8.256048\n",
            "31           A1Cresult_>7    7.628269\n",
            "79          miglitol_Down    7.321946\n",
            "50      chlorpropamide_Up    6.238391\n"
          ],
          "name": "stdout"
        }
      ]
    },
    {
      "cell_type": "markdown",
      "metadata": {
        "id": "eoNimFa7OFv3",
        "colab_type": "text"
      },
      "source": [
        "###Best 50 features for 'readmitted'"
      ]
    },
    {
      "cell_type": "code",
      "metadata": {
        "id": "8CfnSopDOJzB",
        "colab_type": "code",
        "colab": {}
      },
      "source": [
        "X_rea_scores = pd.DataFrame(X_rea_fit.scores_)\n",
        "X_rea_columns = pd.DataFrame(X_readmitted.columns)\n",
        "rea_scores=pd.concat([X_rea_columns,X_rea_scores],axis=1)\n",
        "rea_scores.columns = ['Features','Score']"
      ],
      "execution_count": 0,
      "outputs": []
    },
    {
      "cell_type": "code",
      "metadata": {
        "id": "JhCQyza_Oqgy",
        "colab_type": "code",
        "outputId": "279d82f1-a919-480d-c85f-f3acec9ca933",
        "colab": {
          "base_uri": "https://localhost:8080/",
          "height": 874
        }
      },
      "source": [
        "print(rea_scores.nlargest(50,'Score'))"
      ],
      "execution_count": 119,
      "outputs": [
        {
          "output_type": "stream",
          "text": [
            "                 Features       Score\n",
            "6        number_inpatient  669.216104\n",
            "108        diabetesMed_No  297.625459\n",
            "90           insulin_Down  238.872885\n",
            "8                  race_?  183.884314\n",
            "93             insulin_Up  138.744906\n",
            "91             insulin_No  125.573774\n",
            "106             change_Ch  116.124225\n",
            "107             change_No   99.700776\n",
            "109       diabetesMed_Yes   88.885426\n",
            "2          num_procedures   74.810104\n",
            "4       number_outpatient   73.041399\n",
            "37       metformin_Steady   69.026049\n",
            "0        time_in_hospital   68.531651\n",
            "5        number_emergency   65.284473\n",
            "17             age_[0-10)   52.263554\n",
            "22            age_[50-60)   51.068381\n",
            "41     repaglinide_Steady   50.945966\n",
            "7        number_diagnoses   50.229612\n",
            "26           age_[90-100)   47.805649\n",
            "28     max_glu_serum_>300   46.563414\n",
            "24            age_[70-80)   43.780201\n",
            "34         A1Cresult_Norm   39.746656\n",
            "25            age_[80-90)   36.127732\n",
            "77        acarbose_Steady   32.893416\n",
            "10             race_Asian   32.209511\n",
            "73   rosiglitazone_Steady   30.168266\n",
            "59       glipizide_Steady   29.578794\n",
            "13             race_Other   28.427314\n",
            "18            age_[10-20)   27.074985\n",
            "19            age_[20-30)   22.628745\n",
            "11         race_Caucasian   22.389165\n",
            "69    pioglitazone_Steady   21.840487\n",
            "20            age_[30-40)   21.294385\n",
            "36           metformin_No   19.270163\n",
            "15            gender_Male   18.710642\n",
            "14          gender_Female   16.185895\n",
            "38           metformin_Up   15.480806\n",
            "3         num_medications   14.993586\n",
            "12          race_Hispanic   14.370138\n",
            "57         glipizide_Down   14.076126\n",
            "32           A1Cresult_>8   13.828680\n",
            "92         insulin_Steady   13.504195\n",
            "53     glimepiride_Steady   13.396116\n",
            "1      num_lab_procedures   11.242936\n",
            "21            age_[40-50)   10.747425\n",
            "33         A1Cresult_None    8.920693\n",
            "71     rosiglitazone_Down    8.256048\n",
            "31           A1Cresult_>7    7.628269\n",
            "79          miglitol_Down    7.321946\n",
            "50      chlorpropamide_Up    6.238391\n"
          ],
          "name": "stdout"
        }
      ]
    },
    {
      "cell_type": "markdown",
      "metadata": {
        "id": "EpqkE80wO4i_",
        "colab_type": "text"
      },
      "source": [
        "#Splitting The Data\n",
        "\n",
        "Here, Split the data for training and testing set in ration 70%-30%"
      ]
    },
    {
      "cell_type": "code",
      "metadata": {
        "id": "MGbCs0xvOyyd",
        "colab_type": "code",
        "colab": {}
      },
      "source": [
        "#For diabetesMed using 50 best features\n",
        "X_train_dia_kbest, X_test_dia_kbest, y_train_dia_kbest, y_test_dia_kbest = train_test_split(X_dia_kbest,y_dia, test_size=0.3, shuffle = True, random_state=42)\n",
        "#For diabetesMed using PCA\n",
        "X_train_dia_pca, X_test_dia_pca, y_train_dia_pca, y_test_dia_pca = train_test_split(X_dia_pca,y_dia, test_size=0.3, shuffle = True, random_state=42)"
      ],
      "execution_count": 0,
      "outputs": []
    },
    {
      "cell_type": "code",
      "metadata": {
        "id": "my3fOmHsP6Ml",
        "colab_type": "code",
        "colab": {}
      },
      "source": [
        "#For readmitted using 50 best features\n",
        "X_train_rea_kbest, X_test_rea_kbest, y_train_rea_kbest, y_test_rea_kbest = train_test_split(X_rea_kbest,y_rea, test_size=0.3, shuffle = True, random_state=42)\n",
        "#For readmitted using PCA\n",
        "X_train_rea_pca, X_test_rea_pca, y_train_rea_pca, y_test_rea_pca = train_test_split(X_rea_pca,y_rea, test_size=0.3, shuffle = True, random_state=42)"
      ],
      "execution_count": 0,
      "outputs": []
    },
    {
      "cell_type": "markdown",
      "metadata": {
        "id": "rXtXKQCaP9sd",
        "colab_type": "text"
      },
      "source": [
        "#Building The Models"
      ]
    },
    {
      "cell_type": "markdown",
      "metadata": {
        "id": "XYCcqa9rQC5J",
        "colab_type": "text"
      },
      "source": [
        "##RandomForest Model"
      ]
    },
    {
      "cell_type": "code",
      "metadata": {
        "id": "5NN38UvJQCa1",
        "colab_type": "code",
        "colab": {}
      },
      "source": [
        "rnd_clf = RandomForestClassifier(n_estimators=10)"
      ],
      "execution_count": 0,
      "outputs": []
    },
    {
      "cell_type": "markdown",
      "metadata": {
        "id": "y-qvnn3hXyJ3",
        "colab_type": "text"
      },
      "source": [
        "This to save the times taking and the accuracies of each run"
      ]
    },
    {
      "cell_type": "code",
      "metadata": {
        "id": "xzYseVza8EP1",
        "colab_type": "code",
        "colab": {}
      },
      "source": [
        "times_list = dict()\n",
        "accs_list = dict()"
      ],
      "execution_count": 0,
      "outputs": []
    },
    {
      "cell_type": "markdown",
      "metadata": {
        "id": "0TjpYReVQIdC",
        "colab_type": "text"
      },
      "source": [
        "###for 'diabetMed'"
      ]
    },
    {
      "cell_type": "markdown",
      "metadata": {
        "id": "DtL3bzviQPPt",
        "colab_type": "text"
      },
      "source": [
        "Perform Cross Validation with subset size 10000\n"
      ]
    },
    {
      "cell_type": "code",
      "metadata": {
        "id": "50MWjOXHQLtJ",
        "colab_type": "code",
        "outputId": "dd219114-3c63-4ab5-9d61-e644b27833be",
        "colab": {
          "base_uri": "https://localhost:8080/",
          "height": 34
        }
      },
      "source": [
        "#For K best features\n",
        "cross_val_score(rnd_clf, X_train_dia_kbest[:10000], y_train_dia_kbest[:10000], cv=3, scoring='accuracy').mean()"
      ],
      "execution_count": 124,
      "outputs": [
        {
          "output_type": "execute_result",
          "data": {
            "text/plain": [
              "0.9976000899430075"
            ]
          },
          "metadata": {
            "tags": []
          },
          "execution_count": 124
        }
      ]
    },
    {
      "cell_type": "markdown",
      "metadata": {
        "id": "mIdig0QEQYhI",
        "colab_type": "text"
      },
      "source": [
        "Fit the model with training set"
      ]
    },
    {
      "cell_type": "code",
      "metadata": {
        "id": "WKge4cF5QW_u",
        "colab_type": "code",
        "colab": {}
      },
      "source": [
        "#For the k best Features\n",
        "t0 = time.time()\n",
        "rnd_clf.fit(X_train_dia_kbest, y_train_dia_kbest)\n",
        "t1 = time.time()"
      ],
      "execution_count": 0,
      "outputs": []
    },
    {
      "cell_type": "code",
      "metadata": {
        "id": "cmhknMAnQeiN",
        "colab_type": "code",
        "outputId": "6d86da73-958b-4a9a-ae26-f7207d85b464",
        "colab": {
          "base_uri": "https://localhost:8080/",
          "height": 34
        }
      },
      "source": [
        "rnd_clf_dia_kbest=t1-t0\n",
        "times_list['rnd_clf_dia_kbest']=rnd_clf_dia_kbest\n",
        "print(\"Training took {:.2f}s\".format(rnd_clf_dia_kbest))"
      ],
      "execution_count": 126,
      "outputs": [
        {
          "output_type": "stream",
          "text": [
            "Training took 0.26s\n"
          ],
          "name": "stdout"
        }
      ]
    },
    {
      "cell_type": "markdown",
      "metadata": {
        "id": "0t7tNiNoQc8v",
        "colab_type": "text"
      },
      "source": [
        "Test the model with testing set"
      ]
    },
    {
      "cell_type": "code",
      "metadata": {
        "id": "-NN865DW-LWC",
        "colab_type": "code",
        "outputId": "4035990d-06a4-4d09-e50c-daf103c8cfbd",
        "colab": {
          "base_uri": "https://localhost:8080/",
          "height": 34
        }
      },
      "source": [
        "#For PCA\n",
        "cross_val_score(rnd_clf, X_train_dia_pca[:10000], y_train_dia_pca[:10000], cv=3, scoring='accuracy').mean()"
      ],
      "execution_count": 127,
      "outputs": [
        {
          "output_type": "execute_result",
          "data": {
            "text/plain": [
              "0.9942001698670166"
            ]
          },
          "metadata": {
            "tags": []
          },
          "execution_count": 127
        }
      ]
    },
    {
      "cell_type": "code",
      "metadata": {
        "id": "KFQb1VgKQk0g",
        "colab_type": "code",
        "outputId": "f888ff43-c4e7-47fa-e51e-c2e515801969",
        "colab": {
          "base_uri": "https://localhost:8080/",
          "height": 34
        }
      },
      "source": [
        "rnd_clf_dia_score_kbest=rnd_clf.score(X_test_dia_kbest, y_test_dia_kbest)\n",
        "accs_list['rnd_clf_dia_score_kbest']=rnd_clf_dia_score_kbest\n",
        "rnd_clf_dia_score_kbest"
      ],
      "execution_count": 128,
      "outputs": [
        {
          "output_type": "execute_result",
          "data": {
            "text/plain": [
              "0.9995086799868982"
            ]
          },
          "metadata": {
            "tags": []
          },
          "execution_count": 128
        }
      ]
    },
    {
      "cell_type": "code",
      "metadata": {
        "id": "WyQWPX25-3W7",
        "colab_type": "code",
        "colab": {}
      },
      "source": [
        "#For PCA\n",
        "t0 = time.time()\n",
        "rnd_clf.fit(X_train_dia_pca, y_train_dia_pca)\n",
        "t1 = time.time()"
      ],
      "execution_count": 0,
      "outputs": []
    },
    {
      "cell_type": "code",
      "metadata": {
        "id": "UGr7-MqS--mc",
        "colab_type": "code",
        "outputId": "5458d54f-78ec-4d0e-ef71-c47d19e56a0a",
        "colab": {
          "base_uri": "https://localhost:8080/",
          "height": 34
        }
      },
      "source": [
        "rnd_clf_dia_pca=t1-t0\n",
        "times_list['rnd_clf_dia_pca']=rnd_clf_dia_pca \n",
        "print(\"Training took {:.2f}s\".format(rnd_clf_dia_pca))"
      ],
      "execution_count": 130,
      "outputs": [
        {
          "output_type": "stream",
          "text": [
            "Training took 2.45s\n"
          ],
          "name": "stdout"
        }
      ]
    },
    {
      "cell_type": "markdown",
      "metadata": {
        "id": "NskUIOP8KYSE",
        "colab_type": "text"
      },
      "source": [
        "Test the model with testing set"
      ]
    },
    {
      "cell_type": "code",
      "metadata": {
        "id": "detCpgkOJ4XZ",
        "colab_type": "code",
        "outputId": "4f08cdb1-0993-4565-8ff3-0c100c61b08f",
        "colab": {
          "base_uri": "https://localhost:8080/",
          "height": 34
        }
      },
      "source": [
        "rnd_clf_dia_score_pca=rnd_clf.score(X_test_dia_pca, y_test_dia_pca)\n",
        "accs_list['rnd_clf_dia_score_pca']=rnd_clf_dia_score_pca\n",
        "rnd_clf_dia_score_pca"
      ],
      "execution_count": 131,
      "outputs": [
        {
          "output_type": "execute_result",
          "data": {
            "text/plain": [
              "0.9976744186046511"
            ]
          },
          "metadata": {
            "tags": []
          },
          "execution_count": 131
        }
      ]
    },
    {
      "cell_type": "markdown",
      "metadata": {
        "id": "G2rbIu9yWvDJ",
        "colab_type": "text"
      },
      "source": [
        "Compare RND using KBest and PCA"
      ]
    },
    {
      "cell_type": "code",
      "metadata": {
        "id": "u6NC8Xo9Kkr0",
        "colab_type": "code",
        "outputId": "da90931c-f930-4b82-abb3-79b8f221ef88",
        "colab": {
          "base_uri": "https://localhost:8080/",
          "height": 336
        }
      },
      "source": [
        "plt.figure(figsize=(20,5))\n",
        "plt.subplot(1,2,1)\n",
        "plt.bar(1,times_list['rnd_clf_dia_kbest'],label='KBest')\n",
        "plt.bar(1.80,times_list['rnd_clf_dia_pca'],label='PCA')\n",
        "plt.xticks([1.39],['RND'])\n",
        "plt.text(0.85,0.1,'{:.2f} nsec'.format(times_list['rnd_clf_dia_kbest']),color='white',weight='bold')\n",
        "plt.text(1.7,0.1,'{:.2f} nsec'.format(times_list['rnd_clf_dia_pca']),color='white',weight='bold')\n",
        "plt.legend()\n",
        "plt.title('Times')\n",
        "\n",
        "plt.subplot(1,2,2)\n",
        "plt.bar(1,accs_list['rnd_clf_dia_score_kbest'],label='KBest')\n",
        "plt.bar(1.80,accs_list['rnd_clf_dia_score_pca'],label='PCA')\n",
        "plt.xticks([1.39],['RND'])\n",
        "plt.text(0.85,0.02,'{:.2f} %'.format(accs_list['rnd_clf_dia_score_kbest']*100),color='white',weight='bold')\n",
        "plt.text(1.7,0.02,'{:.2f} %'.format(accs_list['rnd_clf_dia_score_pca']*100),color='white',weight='bold')\n",
        "plt.legend()\n",
        "plt.title('Accuracy')\n",
        "plt.show()\n",
        "plt.show()"
      ],
      "execution_count": 132,
      "outputs": [
        {
          "output_type": "display_data",
          "data": {
            "image/png": "[encoded data removed]",
            "text/plain": [
              "<Figure size 1440x360 with 2 Axes>"
            ]
          },
          "metadata": {
            "tags": []
          }
        }
      ]
    },
    {
      "cell_type": "markdown",
      "metadata": {
        "id": "2JPUfT70QoR6",
        "colab_type": "text"
      },
      "source": [
        "###for 'readmitted'"
      ]
    },
    {
      "cell_type": "markdown",
      "metadata": {
        "id": "Y4kUqvlwQrX-",
        "colab_type": "text"
      },
      "source": [
        "Perform Cross Validation with subset size 10000"
      ]
    },
    {
      "cell_type": "code",
      "metadata": {
        "id": "EbOdMQkqQpdE",
        "colab_type": "code",
        "outputId": "d560cc6b-ffdc-4f85-ca69-45e703112c2f",
        "colab": {
          "base_uri": "https://localhost:8080/",
          "height": 34
        }
      },
      "source": [
        "#For K best features\n",
        "cross_val_score(rnd_clf, X_train_rea_kbest[:10000], y_train_rea_kbest[:10000], cv=3, scoring='accuracy').mean()"
      ],
      "execution_count": 133,
      "outputs": [
        {
          "output_type": "execute_result",
          "data": {
            "text/plain": [
              "0.5223990305449261"
            ]
          },
          "metadata": {
            "tags": []
          },
          "execution_count": 133
        }
      ]
    },
    {
      "cell_type": "markdown",
      "metadata": {
        "id": "BQZu0R5oQxkK",
        "colab_type": "text"
      },
      "source": [
        "Fit the model with training set for K best"
      ]
    },
    {
      "cell_type": "code",
      "metadata": {
        "id": "-Etga9BCQult",
        "colab_type": "code",
        "colab": {}
      },
      "source": [
        "#For K best features\n",
        "t0 = time.time()\n",
        "rnd_clf.fit(X_train_rea_kbest, y_train_rea_kbest)\n",
        "t1 = time.time()"
      ],
      "execution_count": 0,
      "outputs": []
    },
    {
      "cell_type": "code",
      "metadata": {
        "id": "WS4JDilLQ4X4",
        "colab_type": "code",
        "outputId": "fc170d4b-6f94-4c39-fa73-7bddce797dfc",
        "colab": {
          "base_uri": "https://localhost:8080/",
          "height": 34
        }
      },
      "source": [
        "rnd_clf_rea_kbest = t1-t0\n",
        "times_list['rnd_clf_rea_kbest']=rnd_clf_rea_kbest\n",
        "print(\"Training took {:.2f}s\".format(rnd_clf_rea_kbest))"
      ],
      "execution_count": 135,
      "outputs": [
        {
          "output_type": "stream",
          "text": [
            "Training took 0.95s\n"
          ],
          "name": "stdout"
        }
      ]
    },
    {
      "cell_type": "markdown",
      "metadata": {
        "id": "2qfrKIgLQ3V3",
        "colab_type": "text"
      },
      "source": [
        "Test the model with testing set for K best"
      ]
    },
    {
      "cell_type": "code",
      "metadata": {
        "id": "vT66D8O0Q8HF",
        "colab_type": "code",
        "outputId": "28dbcb14-378b-4907-9eea-4968c5f0628a",
        "colab": {
          "base_uri": "https://localhost:8080/",
          "height": 34
        }
      },
      "source": [
        "rnd_clf_rea_score_kbest=rnd_clf.score(X_test_rea_kbest, y_test_rea_kbest)\n",
        "accs_list['rnd_clf_rea_score_kbest'] = rnd_clf_rea_score_kbest\n",
        "rnd_clf_rea_score_kbest"
      ],
      "execution_count": 136,
      "outputs": [
        {
          "output_type": "execute_result",
          "data": {
            "text/plain": [
              "0.5252538486734359"
            ]
          },
          "metadata": {
            "tags": []
          },
          "execution_count": 136
        }
      ]
    },
    {
      "cell_type": "markdown",
      "metadata": {
        "id": "zg4Nz-BDTBgE",
        "colab_type": "text"
      },
      "source": [
        "Predict y 'readmitted' for K best and see Precision, Recall and F1 report."
      ]
    },
    {
      "cell_type": "code",
      "metadata": {
        "id": "-CnpVAipSzYj",
        "colab_type": "code",
        "outputId": "046e2b86-63ad-4ee2-aa3c-80f1aa6fc37a",
        "colab": {
          "base_uri": "https://localhost:8080/",
          "height": 185
        }
      },
      "source": [
        "#For K best\n",
        "y_pred_rnd_rea_kbest = rnd_clf.predict(X_test_rea_kbest)\n",
        "print(classification_report(y_test_dia_kbest,y_pred_rnd_rea_kbest))"
      ],
      "execution_count": 137,
      "outputs": [
        {
          "output_type": "stream",
          "text": [
            "              precision    recall  f1-score   support\n",
            "\n",
            "           0       0.25      0.77      0.38      6874\n",
            "           1       0.82      0.03      0.07     23656\n",
            "           2       0.00      0.00      0.00         0\n",
            "\n",
            "    accuracy                           0.20     30530\n",
            "   macro avg       0.36      0.27      0.15     30530\n",
            "weighted avg       0.69      0.20      0.14     30530\n",
            "\n"
          ],
          "name": "stdout"
        }
      ]
    },
    {
      "cell_type": "markdown",
      "metadata": {
        "id": "AuKKk4EPQ9AN",
        "colab_type": "text"
      },
      "source": [
        "Fit the model with training set for PCA"
      ]
    },
    {
      "cell_type": "code",
      "metadata": {
        "id": "W6He9sCzOhFx",
        "colab_type": "code",
        "outputId": "8d045806-2ca6-493c-b5d9-15caf0a15378",
        "colab": {
          "base_uri": "https://localhost:8080/",
          "height": 34
        }
      },
      "source": [
        "#For PCA\n",
        "cross_val_score(rnd_clf, X_train_rea_pca[:10000], y_train_rea_pca[:10000], cv=3, scoring='accuracy').mean()"
      ],
      "execution_count": 138,
      "outputs": [
        {
          "output_type": "execute_result",
          "data": {
            "text/plain": [
              "0.4961993499889881"
            ]
          },
          "metadata": {
            "tags": []
          },
          "execution_count": 138
        }
      ]
    },
    {
      "cell_type": "code",
      "metadata": {
        "id": "0SQc_JTPREgi",
        "colab_type": "code",
        "colab": {}
      },
      "source": [
        "t0 = time.time()\n",
        "rnd_clf.fit(X_train_rea_pca, y_train_rea_pca)\n",
        "t1 = time.time()"
      ],
      "execution_count": 0,
      "outputs": []
    },
    {
      "cell_type": "code",
      "metadata": {
        "id": "Ek_WVfJ6Rk9q",
        "colab_type": "code",
        "outputId": "4bbbf6b0-89bb-46d1-b6d6-1e02417a74d7",
        "colab": {
          "base_uri": "https://localhost:8080/",
          "height": 34
        }
      },
      "source": [
        "rnd_clf_rea_pca = t1-t0\n",
        "times_list['rnd_clf_rea_pca']=rnd_clf_rea_pca\n",
        "print(\"Training took {:.2f}s\".format(rnd_clf_rea_pca))"
      ],
      "execution_count": 140,
      "outputs": [
        {
          "output_type": "stream",
          "text": [
            "Training took 4.84s\n"
          ],
          "name": "stdout"
        }
      ]
    },
    {
      "cell_type": "markdown",
      "metadata": {
        "id": "RW1adR2_RvyD",
        "colab_type": "text"
      },
      "source": [
        "Test the model with testing set for PCA"
      ]
    },
    {
      "cell_type": "code",
      "metadata": {
        "id": "S7r6lW_BRvPY",
        "colab_type": "code",
        "outputId": "d97c763a-c05b-4601-db25-7a27dc5b4621",
        "colab": {
          "base_uri": "https://localhost:8080/",
          "height": 34
        }
      },
      "source": [
        "rnd_clf_rea_score_pca=rnd_clf.score(X_test_rea_pca, y_test_rea_pca)\n",
        "accs_list['rnd_clf_rea_score_pca'] = rnd_clf_rea_score_pca\n",
        "rnd_clf_rea_score_pca"
      ],
      "execution_count": 141,
      "outputs": [
        {
          "output_type": "execute_result",
          "data": {
            "text/plain": [
              "0.4907304290861448"
            ]
          },
          "metadata": {
            "tags": []
          },
          "execution_count": 141
        }
      ]
    },
    {
      "cell_type": "markdown",
      "metadata": {
        "id": "aRdbz_1IUABD",
        "colab_type": "text"
      },
      "source": [
        "Predict y 'readmitted' for PCA and see Precision, Recall and F1 report"
      ]
    },
    {
      "cell_type": "code",
      "metadata": {
        "id": "8SPQ1b4IRFgw",
        "colab_type": "code",
        "outputId": "715d5ab6-c78d-422f-e10c-f438b4bf3e5f",
        "colab": {
          "base_uri": "https://localhost:8080/",
          "height": 185
        }
      },
      "source": [
        "#For PCA\n",
        "y_pred_rnd_rea_pca = rnd_clf.predict(X_test_rea_pca)\n",
        "print(classification_report(y_test_rea_pca,y_pred_rnd_rea_pca))"
      ],
      "execution_count": 142,
      "outputs": [
        {
          "output_type": "stream",
          "text": [
            "              precision    recall  f1-score   support\n",
            "\n",
            "           0       0.56      0.70      0.62     16461\n",
            "           1       0.15      0.06      0.09      3425\n",
            "           2       0.38      0.30      0.34     10644\n",
            "\n",
            "    accuracy                           0.49     30530\n",
            "   macro avg       0.36      0.35      0.35     30530\n",
            "weighted avg       0.45      0.49      0.46     30530\n",
            "\n"
          ],
          "name": "stdout"
        }
      ]
    },
    {
      "cell_type": "markdown",
      "metadata": {
        "id": "tFzDV4Y0WMd6",
        "colab_type": "text"
      },
      "source": [
        "Compare RND using KBest and PCA"
      ]
    },
    {
      "cell_type": "code",
      "metadata": {
        "id": "MFh4GVlMSBJZ",
        "colab_type": "code",
        "outputId": "02bf664c-29d9-46f2-85e7-8190adda3c7c",
        "colab": {
          "base_uri": "https://localhost:8080/",
          "height": 336
        }
      },
      "source": [
        "plt.figure(figsize=(20,5))\n",
        "plt.subplot(1,2,1)\n",
        "plt.bar(1,times_list['rnd_clf_rea_kbest'],label='KBest')\n",
        "plt.bar(1.80,times_list['rnd_clf_rea_pca'],label='PCA')\n",
        "plt.xticks([1.39],['RND'])\n",
        "plt.text(0.85,0.5,'{:.2f} nsec'.format(times_list['rnd_clf_rea_kbest']),color='white',weight='bold')\n",
        "plt.text(1.7,0.5,'{:.2f} nsec'.format(times_list['rnd_clf_rea_pca']),color='white',weight='bold')\n",
        "plt.legend()\n",
        "plt.title('Times')\n",
        "\n",
        "plt.subplot(1,2,2)\n",
        "plt.bar(1,accs_list['rnd_clf_rea_score_kbest'],label='KBest')\n",
        "plt.bar(1.80,accs_list['rnd_clf_rea_score_pca'],label='PCA')\n",
        "plt.xticks([1.39],['RND'])\n",
        "plt.text(0.85,0.02,'{:.2f} %'.format(accs_list['rnd_clf_rea_score_kbest']*100),color='white',weight='bold')\n",
        "plt.text(1.7,0.02,'{:.2f} %'.format(accs_list['rnd_clf_rea_score_pca']*100),color='white',weight='bold')\n",
        "plt.legend()\n",
        "plt.title('Accuracy')\n",
        "plt.show()\n",
        "plt.show()"
      ],
      "execution_count": 143,
      "outputs": [
        {
          "output_type": "display_data",
          "data": {
            "image/png": "[encoded data removed]",
            "text/plain": [
              "<Figure size 1440x360 with 2 Axes>"
            ]
          },
          "metadata": {
            "tags": []
          }
        }
      ]
    },
    {
      "cell_type": "markdown",
      "metadata": {
        "id": "01hr9Y-ZRRP3",
        "colab_type": "text"
      },
      "source": [
        "##SVM (nom-linear kernel) Model"
      ]
    },
    {
      "cell_type": "code",
      "metadata": {
        "id": "xPaTzF2XRQWL",
        "colab_type": "code",
        "colab": {}
      },
      "source": [
        "svm_clf = svm_clf = SVC(gamma='auto', degree=2, kernel='poly') #Non-linear degree=2"
      ],
      "execution_count": 0,
      "outputs": []
    },
    {
      "cell_type": "markdown",
      "metadata": {
        "id": "w9X7BQcaRX-P",
        "colab_type": "text"
      },
      "source": [
        "###for 'diabetMed'"
      ]
    },
    {
      "cell_type": "markdown",
      "metadata": {
        "id": "UVrhjVzBRa6N",
        "colab_type": "text"
      },
      "source": [
        "Perform Cross Validation with subset size 10000 for Kbest"
      ]
    },
    {
      "cell_type": "code",
      "metadata": {
        "id": "25tiiiFrRZNj",
        "colab_type": "code",
        "outputId": "a15eaab6-5777-46f6-f031-e0b164ac9fe5",
        "colab": {
          "base_uri": "https://localhost:8080/",
          "height": 34
        }
      },
      "source": [
        "cross_val_score(svm_clf, X_train_dia_kbest[:10000], y_train_dia_kbest[:10000], cv=3, scoring='accuracy').mean()"
      ],
      "execution_count": 145,
      "outputs": [
        {
          "output_type": "execute_result",
          "data": {
            "text/plain": [
              "0.9901001797840253"
            ]
          },
          "metadata": {
            "tags": []
          },
          "execution_count": 145
        }
      ]
    },
    {
      "cell_type": "markdown",
      "metadata": {
        "id": "8iRhv-GaRhbz",
        "colab_type": "text"
      },
      "source": [
        "Fit the model with training set for Kbest"
      ]
    },
    {
      "cell_type": "code",
      "metadata": {
        "id": "yYZ3T0LCRf9P",
        "colab_type": "code",
        "colab": {}
      },
      "source": [
        "t0 = time.time()\n",
        "svm_clf.fit(X_train_dia_kbest, y_train_dia_kbest)\n",
        "t1 = time.time()"
      ],
      "execution_count": 0,
      "outputs": []
    },
    {
      "cell_type": "code",
      "metadata": {
        "id": "vLchsRS5Rnl2",
        "colab_type": "code",
        "outputId": "3f820f9e-63ed-4385-f20a-22eae45e4059",
        "colab": {
          "base_uri": "https://localhost:8080/",
          "height": 34
        }
      },
      "source": [
        "svm_clf_dia_kbest = t1-t0\n",
        "times_list['svm_clf_dia_kbest']=svm_clf_dia_kbest\n",
        "print(\"Training took {:.2f}s\".format(svm_clf_dia_kbest))"
      ],
      "execution_count": 147,
      "outputs": [
        {
          "output_type": "stream",
          "text": [
            "Training took 77.18s\n"
          ],
          "name": "stdout"
        }
      ]
    },
    {
      "cell_type": "markdown",
      "metadata": {
        "id": "BOd60mC4Rkmy",
        "colab_type": "text"
      },
      "source": [
        "Test the model with testing set for KBest"
      ]
    },
    {
      "cell_type": "code",
      "metadata": {
        "id": "7XCP8LxrRk1R",
        "colab_type": "code",
        "outputId": "e2b06172-c45e-4b4e-c833-b1c066a211d6",
        "colab": {
          "base_uri": "https://localhost:8080/",
          "height": 34
        }
      },
      "source": [
        "svm_clf_dia_score_kbest=svm_clf.score(X_test_dia_kbest, y_test_dia_kbest)\n",
        "accs_list['svm_clf_dia_score_kbest']=svm_clf_dia_score_kbest\n",
        "svm_clf_dia_score_kbest"
      ],
      "execution_count": 148,
      "outputs": [
        {
          "output_type": "execute_result",
          "data": {
            "text/plain": [
              "0.9972158532590895"
            ]
          },
          "metadata": {
            "tags": []
          },
          "execution_count": 148
        }
      ]
    },
    {
      "cell_type": "markdown",
      "metadata": {
        "id": "3K_c3tyLZJO9",
        "colab_type": "text"
      },
      "source": [
        "Perform Cross Validation with subset size 10000 for PCA"
      ]
    },
    {
      "cell_type": "code",
      "metadata": {
        "id": "CvrBZ0NKZQnK",
        "colab_type": "code",
        "outputId": "89272e13-5afa-48b2-a62f-5b7344e01c9c",
        "colab": {
          "base_uri": "https://localhost:8080/",
          "height": 34
        }
      },
      "source": [
        "cross_val_score(svm_clf, X_train_dia_pca[:10000], y_train_dia_pca[:10000], cv=3, scoring='accuracy').mean()"
      ],
      "execution_count": 149,
      "outputs": [
        {
          "output_type": "execute_result",
          "data": {
            "text/plain": [
              "0.7983003159344128"
            ]
          },
          "metadata": {
            "tags": []
          },
          "execution_count": 149
        }
      ]
    },
    {
      "cell_type": "markdown",
      "metadata": {
        "id": "tgAnl4vEZX24",
        "colab_type": "text"
      },
      "source": [
        "Fit the model with training set for PCA"
      ]
    },
    {
      "cell_type": "code",
      "metadata": {
        "id": "wYzAR3Y4ZW1s",
        "colab_type": "code",
        "colab": {}
      },
      "source": [
        "t0 = time.time()\n",
        "svm_clf.fit(X_train_dia_pca, y_train_dia_pca)\n",
        "t1 = time.time()"
      ],
      "execution_count": 0,
      "outputs": []
    },
    {
      "cell_type": "code",
      "metadata": {
        "id": "bjPrCj-nZkZB",
        "colab_type": "code",
        "outputId": "28e49cd9-06b7-4876-df67-6c959a6ea33e",
        "colab": {
          "base_uri": "https://localhost:8080/",
          "height": 34
        }
      },
      "source": [
        "svm_clf_dia_pca = t1-t0\n",
        "times_list['svm_clf_dia_pca']=svm_clf_dia_pca\n",
        "print(\"Training took {:.2f}s\".format(svm_clf_dia_pca))"
      ],
      "execution_count": 151,
      "outputs": [
        {
          "output_type": "stream",
          "text": [
            "Training took 32.53s\n"
          ],
          "name": "stdout"
        }
      ]
    },
    {
      "cell_type": "markdown",
      "metadata": {
        "id": "IkRqhe-QZvk8",
        "colab_type": "text"
      },
      "source": [
        "Test the model with testing set for PCA"
      ]
    },
    {
      "cell_type": "code",
      "metadata": {
        "id": "jTjXt3hqZ3k0",
        "colab_type": "code",
        "outputId": "efcc877e-9831-4834-e707-d8aa36e89eea",
        "colab": {
          "base_uri": "https://localhost:8080/",
          "height": 34
        }
      },
      "source": [
        "svm_clf_dia_score_pca=svm_clf.score(X_test_dia_pca, y_test_dia_pca)\n",
        "accs_list['svm_clf_dia_score_pca']=svm_clf_dia_score_pca\n",
        "svm_clf_dia_score_pca"
      ],
      "execution_count": 152,
      "outputs": [
        {
          "output_type": "execute_result",
          "data": {
            "text/plain": [
              "0.9954798558794629"
            ]
          },
          "metadata": {
            "tags": []
          },
          "execution_count": 152
        }
      ]
    },
    {
      "cell_type": "markdown",
      "metadata": {
        "id": "lM6H-qJ_aQ2y",
        "colab_type": "text"
      },
      "source": [
        "Compare RND using KBest and PCA"
      ]
    },
    {
      "cell_type": "code",
      "metadata": {
        "id": "GPbeTTA7aOgy",
        "colab_type": "code",
        "outputId": "e901c309-09db-42b0-d85d-195acce1df3a",
        "colab": {
          "base_uri": "https://localhost:8080/",
          "height": 336
        }
      },
      "source": [
        "plt.figure(figsize=(20,5))\n",
        "plt.subplot(1,2,1)\n",
        "plt.bar(1,times_list['svm_clf_dia_kbest'],label='KBest')\n",
        "plt.bar(1.80,times_list['svm_clf_dia_pca'],label='PCA')\n",
        "plt.xticks([1.39],['RND'])\n",
        "plt.text(0.85,30,'{:.2f} nsec'.format(times_list['svm_clf_dia_kbest']),color='white',weight='bold')\n",
        "plt.text(1.7,30,'{:.2f} nsec'.format(times_list['svm_clf_dia_pca']),color='white',weight='bold')\n",
        "plt.legend()\n",
        "plt.title('Times')\n",
        "\n",
        "plt.subplot(1,2,2)\n",
        "plt.bar(1,accs_list['svm_clf_dia_score_kbest'],label='KBest')\n",
        "plt.bar(1.80,accs_list['svm_clf_dia_score_pca'],label='PCA')\n",
        "plt.xticks([1.39],['RND'])\n",
        "plt.text(0.85,0.02,'{:.2f} %'.format(accs_list['svm_clf_dia_score_kbest']*100),color='white',weight='bold')\n",
        "plt.text(1.7,0.02,'{:.2f} %'.format(accs_list['svm_clf_dia_score_pca']*100),color='white',weight='bold')\n",
        "plt.legend()\n",
        "plt.title('Accuracy')\n",
        "plt.show()\n",
        "plt.show()"
      ],
      "execution_count": 153,
      "outputs": [
        {
          "output_type": "display_data",
          "data": {
            "image/png": "[encoded data removed]",
            "text/plain": [
              "<Figure size 1440x360 with 2 Axes>"
            ]
          },
          "metadata": {
            "tags": []
          }
        }
      ]
    },
    {
      "cell_type": "markdown",
      "metadata": {
        "id": "bq3qHFPXRuwx",
        "colab_type": "text"
      },
      "source": [
        "###for 'readmitted'"
      ]
    },
    {
      "cell_type": "markdown",
      "metadata": {
        "id": "qBR9udf7RyVU",
        "colab_type": "text"
      },
      "source": [
        "Perform Cross Validation with subset size 10000 for KBest"
      ]
    },
    {
      "cell_type": "code",
      "metadata": {
        "id": "KRPJEnT8Rwgi",
        "colab_type": "code",
        "outputId": "6622758f-4001-42bb-c197-b407a2e5e160",
        "colab": {
          "base_uri": "https://localhost:8080/",
          "height": 34
        }
      },
      "source": [
        "cross_val_score(svm_clf, X_train_rea_kbest[:10000], y_train_rea_kbest[:10000], cv=3, scoring='accuracy').mean()"
      ],
      "execution_count": 154,
      "outputs": [
        {
          "output_type": "execute_result",
          "data": {
            "text/plain": [
              "0.5379999907609238"
            ]
          },
          "metadata": {
            "tags": []
          },
          "execution_count": 154
        }
      ]
    },
    {
      "cell_type": "markdown",
      "metadata": {
        "id": "8Iuy2pMVR415",
        "colab_type": "text"
      },
      "source": [
        "Fit the model with training set for KBest"
      ]
    },
    {
      "cell_type": "code",
      "metadata": {
        "id": "1buPqjRBR1Vn",
        "colab_type": "code",
        "colab": {}
      },
      "source": [
        "t0 = time.time()\n",
        "svm_clf.fit(X_train_rea_kbest, y_train_rea_kbest)\n",
        "t1 = time.time()"
      ],
      "execution_count": 0,
      "outputs": []
    },
    {
      "cell_type": "code",
      "metadata": {
        "id": "89GRagkkR608",
        "colab_type": "code",
        "outputId": "8c68ca73-6731-46fe-826c-b90bfb2dc264",
        "colab": {
          "base_uri": "https://localhost:8080/",
          "height": 34
        }
      },
      "source": [
        "svm_clf_rea_kbest = t1-t0\n",
        "times_list['svm_clf_rea_kbest']=svm_clf_rea_kbest\n",
        "print(\"Training took {:.2f}s\".format(svm_clf_rea_kbest))"
      ],
      "execution_count": 156,
      "outputs": [
        {
          "output_type": "stream",
          "text": [
            "Training took 321.21s\n"
          ],
          "name": "stdout"
        }
      ]
    },
    {
      "cell_type": "markdown",
      "metadata": {
        "id": "82aNgfBtSBih",
        "colab_type": "text"
      },
      "source": [
        "Test the model with testing set for KBest"
      ]
    },
    {
      "cell_type": "code",
      "metadata": {
        "id": "O-owIiQ_R-Rl",
        "colab_type": "code",
        "outputId": "0182a289-db12-4d30-e2e5-997718367b4c",
        "colab": {
          "base_uri": "https://localhost:8080/",
          "height": 34
        }
      },
      "source": [
        "svm_clf_rea_score_kbest=svm_clf.score(X_test_rea_kbest, y_test_rea_kbest)\n",
        "accs_list['svm_clf_rea_score_kbest']=svm_clf_rea_score_kbest\n",
        "svm_clf_rea_score_kbest"
      ],
      "execution_count": 157,
      "outputs": [
        {
          "output_type": "execute_result",
          "data": {
            "text/plain": [
              "0.5391745823779889"
            ]
          },
          "metadata": {
            "tags": []
          },
          "execution_count": 157
        }
      ]
    },
    {
      "cell_type": "markdown",
      "metadata": {
        "id": "geIHNXjhSGkf",
        "colab_type": "text"
      },
      "source": [
        "Predict y 'readmitted' for KBest"
      ]
    },
    {
      "cell_type": "code",
      "metadata": {
        "id": "fwRYWlgPSDRH",
        "colab_type": "code",
        "colab": {}
      },
      "source": [
        "y_pred_svm_rea_kbest = svm_clf.predict(X_test_rea_kbest)"
      ],
      "execution_count": 0,
      "outputs": []
    },
    {
      "cell_type": "markdown",
      "metadata": {
        "id": "Pfsya1BiSMVP",
        "colab_type": "text"
      },
      "source": [
        "See Precision, Recall and F1 report for KBest"
      ]
    },
    {
      "cell_type": "code",
      "metadata": {
        "id": "UPhmft_NSJcQ",
        "colab_type": "code",
        "outputId": "87a2c427-0380-487b-9d77-dc17fe57452f",
        "colab": {
          "base_uri": "https://localhost:8080/",
          "height": 185
        }
      },
      "source": [
        "print(classification_report(y_test_rea_kbest, y_pred_svm_rea_kbest))"
      ],
      "execution_count": 159,
      "outputs": [
        {
          "output_type": "stream",
          "text": [
            "              precision    recall  f1-score   support\n",
            "\n",
            "           0       0.54      1.00      0.70     16461\n",
            "           1       0.00      0.00      0.00      3425\n",
            "           2       0.00      0.00      0.00     10644\n",
            "\n",
            "    accuracy                           0.54     30530\n",
            "   macro avg       0.18      0.33      0.23     30530\n",
            "weighted avg       0.29      0.54      0.38     30530\n",
            "\n"
          ],
          "name": "stdout"
        }
      ]
    },
    {
      "cell_type": "markdown",
      "metadata": {
        "id": "73d3sFMEcdZ2",
        "colab_type": "text"
      },
      "source": [
        "Perform Cross Validation with subset size 10000 for PCA"
      ]
    },
    {
      "cell_type": "code",
      "metadata": {
        "id": "NkNupvqwc3UW",
        "colab_type": "code",
        "outputId": "9bd4d953-1b3e-4559-bd98-2b7c3f8076af",
        "colab": {
          "base_uri": "https://localhost:8080/",
          "height": 34
        }
      },
      "source": [
        "cross_val_score(svm_clf, X_train_rea_pca[:10000], y_train_rea_pca[:10000], cv=3, scoring='accuracy').mean()\n"
      ],
      "execution_count": 160,
      "outputs": [
        {
          "output_type": "execute_result",
          "data": {
            "text/plain": [
              "0.5379999907609238"
            ]
          },
          "metadata": {
            "tags": []
          },
          "execution_count": 160
        }
      ]
    },
    {
      "cell_type": "markdown",
      "metadata": {
        "id": "myWmHB3Fc7IB",
        "colab_type": "text"
      },
      "source": [
        "Fit the model with training set for PCA"
      ]
    },
    {
      "cell_type": "code",
      "metadata": {
        "id": "0Zhyh5OAc9-M",
        "colab_type": "code",
        "colab": {}
      },
      "source": [
        "t0 = time.time()\n",
        "svm_clf.fit(X_train_rea_pca, y_train_rea_pca)\n",
        "t1 = time.time()"
      ],
      "execution_count": 0,
      "outputs": []
    },
    {
      "cell_type": "code",
      "metadata": {
        "id": "h_MeFVERdCOk",
        "colab_type": "code",
        "outputId": "7a7f9ae4-6b91-4ad7-ea31-3f3436fcb393",
        "colab": {
          "base_uri": "https://localhost:8080/",
          "height": 34
        }
      },
      "source": [
        "svm_clf_rea_pca = t1-t0\n",
        "times_list['svm_clf_rea_pca']=svm_clf_rea_pca\n",
        "print(\"Training took {:.2f}s\".format(svm_clf_rea_pca))"
      ],
      "execution_count": 162,
      "outputs": [
        {
          "output_type": "stream",
          "text": [
            "Training took 242.28s\n"
          ],
          "name": "stdout"
        }
      ]
    },
    {
      "cell_type": "markdown",
      "metadata": {
        "id": "VCXyTaPEdKF8",
        "colab_type": "text"
      },
      "source": [
        "Test the model with testing set for PCA"
      ]
    },
    {
      "cell_type": "code",
      "metadata": {
        "id": "fRB1afexdJh2",
        "colab_type": "code",
        "outputId": "4ac2278d-a407-40cd-9578-3f62c2c26b88",
        "colab": {
          "base_uri": "https://localhost:8080/",
          "height": 34
        }
      },
      "source": [
        "svm_clf_rea_score_pca=svm_clf.score(X_test_rea_pca, y_test_rea_pca)\n",
        "accs_list['svm_clf_rea_score_pca']=svm_clf_rea_score_pca\n",
        "svm_clf_rea_score_pca"
      ],
      "execution_count": 163,
      "outputs": [
        {
          "output_type": "execute_result",
          "data": {
            "text/plain": [
              "0.5391745823779889"
            ]
          },
          "metadata": {
            "tags": []
          },
          "execution_count": 163
        }
      ]
    },
    {
      "cell_type": "markdown",
      "metadata": {
        "id": "eeMXzd7sdoF0",
        "colab_type": "text"
      },
      "source": [
        "Predict y 'readmitted' for PCA"
      ]
    },
    {
      "cell_type": "code",
      "metadata": {
        "id": "k6m2ZZFzdqCL",
        "colab_type": "code",
        "colab": {}
      },
      "source": [
        "y_pred_svm_rea_pca = svm_clf.predict(X_test_rea_pca)"
      ],
      "execution_count": 0,
      "outputs": []
    },
    {
      "cell_type": "markdown",
      "metadata": {
        "id": "vc_INsXmdumO",
        "colab_type": "text"
      },
      "source": [
        "See Precision, Recall and F1 report for PCA"
      ]
    },
    {
      "cell_type": "code",
      "metadata": {
        "id": "S8ml2xqpdzDI",
        "colab_type": "code",
        "outputId": "2e6d0a21-132d-498e-b8a6-7ac28f7e66da",
        "colab": {
          "base_uri": "https://localhost:8080/",
          "height": 185
        }
      },
      "source": [
        "print(classification_report(y_test_rea_pca, y_pred_svm_rea_pca))"
      ],
      "execution_count": 165,
      "outputs": [
        {
          "output_type": "stream",
          "text": [
            "              precision    recall  f1-score   support\n",
            "\n",
            "           0       0.54      1.00      0.70     16461\n",
            "           1       0.00      0.00      0.00      3425\n",
            "           2       0.00      0.00      0.00     10644\n",
            "\n",
            "    accuracy                           0.54     30530\n",
            "   macro avg       0.18      0.33      0.23     30530\n",
            "weighted avg       0.29      0.54      0.38     30530\n",
            "\n"
          ],
          "name": "stdout"
        }
      ]
    },
    {
      "cell_type": "markdown",
      "metadata": {
        "id": "2LwPPecfd_sE",
        "colab_type": "text"
      },
      "source": [
        "Compare SVM using KBest and PCA"
      ]
    },
    {
      "cell_type": "code",
      "metadata": {
        "id": "U0oXYqvPeAfo",
        "colab_type": "code",
        "outputId": "01339b15-f1d6-4ec9-9f57-19ea6f0dc7c4",
        "colab": {
          "base_uri": "https://localhost:8080/",
          "height": 336
        }
      },
      "source": [
        "plt.figure(figsize=(20,5))\n",
        "plt.subplot(1,2,1)\n",
        "plt.bar(1,times_list['svm_clf_rea_kbest'],label='KBest')\n",
        "plt.bar(1.80,times_list['svm_clf_rea_pca'],label='PCA')\n",
        "plt.xticks([1.39],['RND'])\n",
        "plt.text(0.85,30,'{:.2f} nsec'.format(times_list['svm_clf_rea_kbest']),color='white',weight='bold')\n",
        "plt.text(1.7,30,'{:.2f} nsec'.format(times_list['svm_clf_rea_pca']),color='white',weight='bold')\n",
        "plt.legend()\n",
        "plt.title('Times')\n",
        "\n",
        "plt.subplot(1,2,2)\n",
        "plt.bar(1,accs_list['svm_clf_rea_score_kbest'],label='KBest')\n",
        "plt.bar(1.80,accs_list['svm_clf_rea_score_pca'],label='PCA')\n",
        "plt.xticks([1.39],['RND'])\n",
        "plt.text(0.85,0.02,'{:.2f} %'.format(accs_list['svm_clf_rea_score_kbest']*100),color='white',weight='bold')\n",
        "plt.text(1.7,0.02,'{:.2f} %'.format(accs_list['svm_clf_rea_score_kbest']*100),color='white',weight='bold')\n",
        "plt.legend()\n",
        "plt.title('Accuracy')\n",
        "plt.show()\n",
        "plt.show()"
      ],
      "execution_count": 166,
      "outputs": [
        {
          "output_type": "display_data",
          "data": {
            "image/png": "[encoded data removed]",
            "text/plain": [
              "<Figure size 1440x360 with 2 Axes>"
            ]
          },
          "metadata": {
            "tags": []
          }
        }
      ]
    },
    {
      "cell_type": "markdown",
      "metadata": {
        "id": "Affrz5eMSRKW",
        "colab_type": "text"
      },
      "source": [
        "Plot the learning curve for 'readmitted'"
      ]
    },
    {
      "cell_type": "code",
      "metadata": {
        "id": "Hyb3KF45SNVS",
        "colab_type": "code",
        "colab": {}
      },
      "source": [
        "def plot_learning_curve(estimator, title, X, y, axes=None, ylim=None, cv=None,\n",
        "                        n_jobs=None, train_sizes=np.linspace(.1, 1.0, 5)):\n",
        "  if axes is None:\n",
        "        _, axes = plt.subplots(2, 1, figsize=(20, 5))\n",
        "\n",
        "  axes.set_title(title)\n",
        "  if ylim is not None:\n",
        "        axes.set_ylim(*ylim)\n",
        "  axes.set_xlabel(\"Training examples\")\n",
        "  axes.set_ylabel(\"Score\")\n",
        "\n",
        "  train_sizes, train_scores, test_scores, fit_times, _ = \\\n",
        "        learning_curve(estimator, X, y, cv=cv, n_jobs=n_jobs,\n",
        "                       train_sizes=train_sizes,\n",
        "                       return_times=True)\n",
        "  train_scores_mean = np.mean(train_scores, axis=1)\n",
        "  train_scores_std = np.std(train_scores, axis=1)\n",
        "  test_scores_mean = np.mean(test_scores, axis=1)\n",
        "  test_scores_std = np.std(test_scores, axis=1)\n",
        "\n",
        "  # Plot learning curve\n",
        "  axes.grid()\n",
        "  axes.fill_between(train_sizes, train_scores_mean - train_scores_std,\n",
        "                         train_scores_mean + train_scores_std, alpha=0.1,\n",
        "                         color=\"r\")\n",
        "  axes.fill_between(train_sizes, test_scores_mean - test_scores_std,\n",
        "                         test_scores_mean + test_scores_std, alpha=0.1,\n",
        "                         color=\"g\")\n",
        "  axes.plot(train_sizes, train_scores_mean, 'o-', color=\"r\",\n",
        "                 label=\"Training score\")\n",
        "  axes.plot(train_sizes, test_scores_mean, 'o-', color=\"g\",\n",
        "                 label=\"Cross-validation score\")\n",
        "  axes.legend(loc=\"best\")\n",
        "  return plt"
      ],
      "execution_count": 0,
      "outputs": []
    },
    {
      "cell_type": "markdown",
      "metadata": {
        "id": "-lxqg5S6TFq2",
        "colab_type": "text"
      },
      "source": [
        "Plot the learning curve for both RandomForest and SVC. For SVC, displaying the curve takes long time so a subset of size 10,000 of the data will be used to fast generate the chart."
      ]
    },
    {
      "cell_type": "code",
      "metadata": {
        "id": "6tA1gR-iS3K-",
        "colab_type": "code",
        "outputId": "b4894e58-fb03-4504-ec86-646e14b0efe1",
        "colab": {
          "base_uri": "https://localhost:8080/",
          "height": 621
        }
      },
      "source": [
        "fig, axes = plt.subplots(2, 2, figsize=(20, 10))\n",
        "\n",
        "X, y = X_rea_kbest, y_rea\n",
        "\n",
        "title = \"Learning Curves (RandomForest) using KBest\"\n",
        "# Cross validation with 100 iterations to get smoother mean test and train\n",
        "# score curves, each time with 20% data randomly selected as a validation set.\n",
        "cv = ShuffleSplit(n_splits=3, test_size=0.3, random_state=42)\n",
        "\n",
        "estimator = RandomForestClassifier()\n",
        "plt_curve=plot_learning_curve(estimator, title, X, y, axes=axes[0,0], ylim=(0.7, 1.01),\n",
        "                    cv=cv, n_jobs=4)\n",
        "\n",
        "\n",
        "title = \"Learning Curves (SVM, Poly kernel) Using KBest\"\n",
        "# SVC is more expensive so we do a lower number of CV iterations:\n",
        "cv = ShuffleSplit(n_splits=3, test_size=0.3, random_state=42)\n",
        "estimator = SVC(gamma='auto')\n",
        "plot_learning_curve(estimator, title, X[:10000], y[:10000], axes=axes[0,1], ylim=(0.7, 1.01),\n",
        "                    cv=cv, n_jobs=4)\n",
        "\n",
        "\n",
        "X, y = X_rea_pca, y_rea\n",
        "\n",
        "title = \"Learning Curves (RandomForest) using PCA\"\n",
        "# Cross validation with 100 iterations to get smoother mean test and train\n",
        "# score curves, each time with 20% data randomly selected as a validation set.\n",
        "cv = ShuffleSplit(n_splits=3, test_size=0.3, random_state=42)\n",
        "\n",
        "estimator = RandomForestClassifier()\n",
        "plot_learning_curve(estimator, title, X, y, axes=axes[1,0], ylim=(0.7, 1.01),\n",
        "                    cv=cv, n_jobs=4)\n",
        "\n",
        "\n",
        "title = \"Learning Curves (SVM, Poly kernel) Using PCA\"\n",
        "# SVC is more expensive so we do a lower number of CV iterations:\n",
        "cv = ShuffleSplit(n_splits=3, test_size=0.3, random_state=42)\n",
        "estimator = SVC(gamma='auto')\n",
        "plot_learning_curve(estimator, title, X[:10000], y[:10000], axes=axes[1,1], ylim=(0.7, 1.01),\n",
        "                    cv=cv, n_jobs=4)\n",
        "\n",
        "\n",
        "plt.show()"
      ],
      "execution_count": 168,
      "outputs": [
        {
          "output_type": "display_data",
          "data": {
            "image/png": "[encoded data removed]",
            "text/plain": [
              "<Figure size 1440x720 with 4 Axes>"
            ]
          },
          "metadata": {
            "tags": []
          }
        }
      ]
    },
    {
      "cell_type": "code",
      "metadata": {
        "id": "B3pOcCZ-qRai",
        "colab_type": "code",
        "colab": {}
      },
      "source": [
        ""
      ],
      "execution_count": 0,
      "outputs": []
    },
    {
      "cell_type": "code",
      "metadata": {
        "id": "OlD0k45kw_MJ",
        "colab_type": "code",
        "outputId": "4671471c-12ce-48cf-ec38-24598a2987c8",
        "colab": {
          "base_uri": "https://localhost:8080/",
          "height": 375
        }
      },
      "source": [
        "plt.figure(figsize=(10,5))\n",
        "plt.subplot(1,2,1)\n",
        "green=plt.bar(1,times_list['rnd_clf_dia_kbest'],color='green')\n",
        "plt.bar(2,times_list['rnd_clf_dia_pca'],color='green')\n",
        "plt.bar(3,times_list['rnd_clf_rea_kbest'],color='green')\n",
        "plt.bar(4,times_list['rnd_clf_rea_pca'],color='green')\n",
        "\n",
        "blue=plt.bar(5,times_list['svm_clf_dia_kbest'],color='blue')\n",
        "plt.bar(6,times_list['svm_clf_dia_pca'],color='blue')\n",
        "plt.bar(7,times_list['svm_clf_rea_kbest'],color='blue')\n",
        "plt.bar(8,times_list['svm_clf_rea_pca'],color='blue')\n",
        "plt.title('time')\n",
        "\n",
        "plt.xticks([1,2,3,4,5,6,7,8],['KBest_dia','PCA_dia','KBest_rea','PCA_rea','KBest_dia','PCA_dia','KBest_rea','PCA_rea'],rotation=90)\n",
        "plt.legend([green,blue],['RND','SVM'])\n",
        "\n",
        "\n",
        "plt.subplot(1,2,2)\n",
        "orange=plt.bar(1,accs_list['rnd_clf_dia_score_kbest'],color='orange')\n",
        "plt.bar(2,accs_list['rnd_clf_dia_score_pca'],color='orange')\n",
        "plt.bar(3,accs_list['rnd_clf_rea_score_kbest'],color='orange')\n",
        "plt.bar(4,accs_list['rnd_clf_rea_score_pca'],color='orange')\n",
        "\n",
        "brown=plt.bar(5,accs_list['svm_clf_dia_score_kbest'],color='brown')\n",
        "plt.bar(6,accs_list['svm_clf_dia_score_pca'],color='brown')\n",
        "plt.bar(7,accs_list['svm_clf_rea_score_kbest'],color='brown')\n",
        "plt.bar(8,accs_list['svm_clf_rea_score_pca'],color='brown')\n",
        "plt.title('Accuracy')\n",
        "\n",
        "plt.xticks([1,2,3,4,5,6,7,8],['KBest_dia','PCA_dia','KBest_rea','PCA_rea','KBest_dia','PCA_dia','KBest_rea','PCA_rea'],rotation=90)\n",
        "plt.legend([orange,brown],['RND','SVM'])\n",
        "\n",
        "plt.show()"
      ],
      "execution_count": 169,
      "outputs": [
        {
          "output_type": "display_data",
          "data": {
            "image/png": "[encoded data removed]",
            "text/plain": [
              "<Figure size 720x360 with 2 Axes>"
            ]
          },
          "metadata": {
            "tags": []
          }
        }
      ]
    },
    {
      "cell_type": "markdown",
      "metadata": {
        "id": "p5FT7X-43sQB",
        "colab_type": "text"
      },
      "source": [
        "##Testing on different size of features\n",
        "\n",
        "Here, the model will be tested by reducing dimensionality once using KBest then using PCA with different size of featrues. The size the model will be teseted on are 20, 30, 50, 70, 90, 100, and 108.\n"
      ]
    },
    {
      "cell_type": "code",
      "metadata": {
        "id": "xQOSS2J67jcz",
        "colab_type": "code",
        "colab": {}
      },
      "source": [
        "\n",
        "Xtrain_dia, Xtest_dia, ytrain_dia, ytest_dia = train_test_split(X_diabetesMed,y_diabetesMed, test_size=0.3, shuffle = True, random_state=42)\n",
        "\n",
        "Xtrain_rea, Xtest_rea, ytrain_rea, ytest_rea = train_test_split(X_readmitted,y_readmitted, test_size=0.3, shuffle = True, random_state=42)"
      ],
      "execution_count": 0,
      "outputs": []
    },
    {
      "cell_type": "code",
      "metadata": {
        "id": "sCN11iHo7C61",
        "colab_type": "code",
        "outputId": "751a5570-431e-4a37-ca79-de957a63863d",
        "colab": {
          "base_uri": "https://localhost:8080/",
          "height": 34
        }
      },
      "source": [
        "sizes=[20,30,50,70,90,100,Xtrain_dia.shape[1]]\n",
        "sizes"
      ],
      "execution_count": 47,
      "outputs": [
        {
          "output_type": "execute_result",
          "data": {
            "text/plain": [
              "[20, 30, 50, 70, 90, 100, 108]"
            ]
          },
          "metadata": {
            "tags": []
          },
          "execution_count": 47
        }
      ]
    },
    {
      "cell_type": "code",
      "metadata": {
        "id": "GRnkTwGH72Ra",
        "colab_type": "code",
        "colab": {}
      },
      "source": [
        "def drawCompareChartInSizeKBest(model,sizesList,title,xtrain,ytrain,xtest,ytest):\n",
        "  rnd_score=[]\n",
        "  rnd_size=[]\n",
        "  rnd_time=[]\n",
        "\n",
        "  for i in sizesList:\n",
        "    rnd_pipe= Pipeline([['KBest',SelectKBest(k=i)],\n",
        "                      ['model',model]])\n",
        "    \n",
        "    rnd_size.append(i)\n",
        "\n",
        "    time1 = time.time()\n",
        "    rnd_pipe.fit(xtrain,ytrain)\n",
        "    time2 = time.time()\n",
        "    rnd_time.append(time2-time1)\n",
        "\n",
        "    score=rnd_pipe.score(xtest,ytest)\n",
        "    rnd_score.append(score)\n",
        "\n",
        "  #plt.figure(figsize=(figureHeight,figureWidth))\n",
        "  xcount=1\n",
        "  for (scoreV,timeV,sizeV) in zip(rnd_score,rnd_time,rnd_size):\n",
        "    green=plt.bar(xcount,sizeV,label='Size',color='green')\n",
        "    xcount +=1\n",
        "    blue=plt.bar(xcount,scoreV*100,label='Accuracy',color='blue')\n",
        "    xcount +=1\n",
        "    orange=plt.bar(xcount,timeV,label='Time',color='orange')\n",
        "    xcount +=1\n",
        "    \n",
        "  plt.legend([blue,orange,green],['Accuracy','Time','Size'])\n",
        "  plt.title(title)\n",
        "  plt.xticks([1,2,3,4,5,6,7,8,9,10,11,12,13,14,15,16,17,18,19,20,21],\n",
        "              ['Size','Accuracy','Time','Size','Accuracy','Time','Size','Accuracy','Time',\n",
        "              'Size','Accuracy','Time','Size','Accuracy','Time','Size','Accuracy','Time',\n",
        "              'Size','Accuracy','Time'],rotation=90)\n"
      ],
      "execution_count": 0,
      "outputs": []
    },
    {
      "cell_type": "code",
      "metadata": {
        "id": "vshjHqKkjWzW",
        "colab_type": "code",
        "colab": {}
      },
      "source": [
        "#Disable showing the warnings message\n",
        "import warnings\n",
        "warnings.filterwarnings('ignore')"
      ],
      "execution_count": 0,
      "outputs": []
    },
    {
      "cell_type": "code",
      "metadata": {
        "id": "Zm9-R-jL_gYU",
        "colab_type": "code",
        "outputId": "248f6c39-6a79-4cce-f35c-c6d6f981f60a",
        "colab": {
          "base_uri": "https://localhost:8080/",
          "height": 371
        }
      },
      "source": [
        "plt.figure(figsize=(20,5))\n",
        "plt.subplot(1,2,1)\n",
        "drawCompareChartInSizeKBest(RandomForestClassifier(n_estimators=10),sizes,'RND for DiabetesMed Using KBest',Xtrain_dia,ytrain_dia,\n",
        "                            Xtest_dia,ytest_dia)\n",
        "\n",
        "\n",
        "plt.subplot(1,2,2)\n",
        "drawCompareChartInSizeKBest(RandomForestClassifier(n_estimators=10),sizes,'RND for Readmitted Using KBest',Xtrain_rea,ytrain_rea,\n",
        "                            Xtest_rea,ytest_rea)\n",
        "\n",
        "plt.show()"
      ],
      "execution_count": 0,
      "outputs": [
        {
          "output_type": "display_data",
          "data": {
            "image/png": "[encoded data removed]",
            "text/plain": [
              "<Figure size 1440x360 with 2 Axes>"
            ]
          },
          "metadata": {
            "tags": []
          }
        }
      ]
    },
    {
      "cell_type": "code",
      "metadata": {
        "id": "KdQA520n1yyB",
        "colab_type": "code",
        "outputId": "b3740894-3716-46a1-a820-58dee7b4b5d1",
        "colab": {
          "base_uri": "https://localhost:8080/",
          "height": 371
        }
      },
      "source": [
        "plt.figure(figsize=(20,5))\n",
        "plt.subplot(1,2,1)\n",
        "drawCompareChartInSizeKBest(SVC(gamma='auto', degree=2, kernel='poly'),sizes,'SVM for DiabetesMed Using KBest',Xtrain_dia,ytrain_dia,\n",
        "                            Xtest_dia,ytest_dia)\n",
        "\n",
        "plt.subplot(1,2,2)\n",
        "drawCompareChartInSizeKBest(SVC(gamma='auto', degree=2, kernel='poly'),sizes,'SVM for Readmitted Using KBest',Xtrain_rea,ytrain_rea,\n",
        "                            Xtest_rea,ytest_rea)\n",
        "\n",
        "plt.show()"
      ],
      "execution_count": 0,
      "outputs": [
        {
          "output_type": "display_data",
          "data": {
            "image/png": "[encoded data removed]",
            "text/plain": [
              "<Figure size 1440x360 with 2 Axes>"
            ]
          },
          "metadata": {
            "tags": []
          }
        }
      ]
    },
    {
      "cell_type": "code",
      "metadata": {
        "id": "Wu2hy14fn8lS",
        "colab_type": "code",
        "colab": {}
      },
      "source": [
        "def drawCompareChartInSizePCA(model,sizesList,title,xtrain,ytrain,xtest,ytest):\n",
        "  rnd_score=[]\n",
        "  rnd_size=[]\n",
        "  rnd_time=[]\n",
        "\n",
        "  for i in sizesList:\n",
        "    rnd_pipe= Pipeline([['PCA',PCA(n_components=i,random_state=57)],\n",
        "                      ['model',model]])\n",
        "    \n",
        "    rnd_size.append(i)\n",
        "\n",
        "    time1 = time.time()\n",
        "    rnd_pipe.fit(xtrain,ytrain)\n",
        "    time2 = time.time()\n",
        "    rnd_time.append(time2-time1)\n",
        "\n",
        "    score=rnd_pipe.score(xtest,ytest)\n",
        "    rnd_score.append(score)\n",
        "\n",
        "  #plt.figure(figsize=(figureHeight,figureWidth))\n",
        "  xcount=1\n",
        "  for (scoreV,timeV,sizeV) in zip(rnd_score,rnd_time,rnd_size):\n",
        "    green=plt.bar(xcount,sizeV,label='Size',color='green')\n",
        "    xcount +=1\n",
        "    blue=plt.bar(xcount,scoreV*100,label='Accuracy',color='blue')\n",
        "    xcount +=1\n",
        "    orange=plt.bar(xcount,timeV,label='Time',color='orange')\n",
        "    xcount +=1\n",
        "    \n",
        "  plt.legend([blue,orange,green],['Accuracy','Time','Size'])\n",
        "  plt.title(title)\n",
        "  plt.xticks([1,2,3,4,5,6,7,8,9,10,11,12,13,14,15,16,17,18,19,20,21],\n",
        "              ['Size','Accuracy','Time','Size','Accuracy','Time','Size','Accuracy','Time',\n",
        "              'Size','Accuracy','Time','Size','Accuracy','Time','Size','Accuracy','Time',\n",
        "              'Size','Accuracy','Time'],rotation=90)"
      ],
      "execution_count": 0,
      "outputs": []
    },
    {
      "cell_type": "code",
      "metadata": {
        "id": "ik_RlNl8oe5e",
        "colab_type": "code",
        "colab": {
          "base_uri": "https://localhost:8080/",
          "height": 371
        },
        "outputId": "bc2c4534-d9c6-44d0-d280-93d04ca7da90"
      },
      "source": [
        "plt.figure(figsize=(20,5))\n",
        "plt.subplot(1,2,1)\n",
        "drawCompareChartInSizePCA(RandomForestClassifier(n_estimators=10),sizes,'RND for DiabetesMed Using PCA',Xtrain_dia,ytrain_dia,\n",
        "                            Xtest_dia,ytest_dia)\n",
        "\n",
        "\n",
        "plt.subplot(1,2,2)\n",
        "drawCompareChartInSizePCA(RandomForestClassifier(n_estimators=10),sizes,'RND for Readmitted Using PCA',Xtrain_rea,ytrain_rea,\n",
        "                            Xtest_rea,ytest_rea)\n",
        "\n",
        "plt.show()"
      ],
      "execution_count": 50,
      "outputs": [
        {
          "output_type": "display_data",
          "data": {
            "image/png": "[encoded data removed]",
            "text/plain": [
              "<Figure size 1440x360 with 2 Axes>"
            ]
          },
          "metadata": {
            "tags": []
          }
        }
      ]
    },
    {
      "cell_type": "code",
      "metadata": {
        "id": "sQUVbrQhor5C",
        "colab_type": "code",
        "colab": {
          "base_uri": "https://localhost:8080/",
          "height": 371
        },
        "outputId": "872e8d88-1f36-4696-bccf-5a6a9d3d461f"
      },
      "source": [
        "plt.figure(figsize=(20,5))\n",
        "plt.subplot(1,2,1)\n",
        "drawCompareChartInSizePCA(SVC(gamma='auto', degree=2, kernel='poly'),sizes,'SVM for DiabetesMed Using PCA',Xtrain_dia,ytrain_dia,\n",
        "                            Xtest_dia,ytest_dia) \n",
        "\n",
        "plt.subplot(1,2,2) \n",
        "drawCompareChartInSizePCA(SVC(gamma='auto', degree=2, kernel='poly'),sizes,'SVM for Readmitted Using PCA',Xtrain_rea,ytrain_rea,\n",
        "                            Xtest_rea,ytest_rea)\n",
        "\n",
        "plt.show()"
      ],
      "execution_count": 52,
      "outputs": [
        {
          "output_type": "display_data",
          "data": {
            "image/png": "[encoded data removed]",
            "text/plain": [
              "<Figure size 1440x360 with 2 Axes>"
            ]
          },
          "metadata": {
            "tags": []
          }
        }
      ]
    },
    {
      "cell_type": "markdown",
      "metadata": {
        "id": "hTgi6oCwT4Ni",
        "colab_type": "text"
      },
      "source": [
        "#Use GridSearchCV to find the best model (Hyperparameter Tuning) "
      ]
    },
    {
      "cell_type": "code",
      "metadata": {
        "id": "FsjntcHahP48",
        "colab_type": "code",
        "colab": {}
      },
      "source": [
        "X_train_rea, X_test_rea, y_train_rea, y_test_rea = train_test_split(X_readmitted,y_readmitted, test_size=0.3, shuffle = True, random_state=42)"
      ],
      "execution_count": 0,
      "outputs": []
    },
    {
      "cell_type": "markdown",
      "metadata": {
        "id": "LCUOlWh_sX5P",
        "colab_type": "text"
      },
      "source": [
        "Using subset size 10000 to avoid time consuming"
      ]
    },
    {
      "cell_type": "markdown",
      "metadata": {
        "id": "C6nkNs_qtfn_",
        "colab_type": "text"
      },
      "source": [
        "RandomForest Model"
      ]
    },
    {
      "cell_type": "code",
      "metadata": {
        "id": "jZzMaNLFT3gN",
        "colab_type": "code",
        "colab": {}
      },
      "source": [
        "rnd_pipe = make_pipeline(RandomForestClassifier())\n",
        "# Create dictionary with candidate learning algorithms and their hyperparameters\n",
        "rnd_param = [\n",
        "                {\"randomforestclassifier\": [RandomForestClassifier()],\n",
        "                 \"randomforestclassifier__n_estimators\": [10,50,100],\n",
        "                 \"randomforestclassifier__max_depth\":[10,30,50,None],\n",
        "                 \"randomforestclassifier__min_samples_leaf\":[5,10,20,50],\n",
        "                 \"randomforestclassifier__max_leaf_nodes\": [5,10,20,50]}\n",
        "              ]"
      ],
      "execution_count": 0,
      "outputs": []
    },
    {
      "cell_type": "markdown",
      "metadata": {
        "id": "CftXjnstUKWp",
        "colab_type": "text"
      },
      "source": [
        "create a gridsearch of the pipeline, then fit the dataset to find best model"
      ]
    },
    {
      "cell_type": "code",
      "metadata": {
        "id": "Q3YkJxYbUHvg",
        "colab_type": "code",
        "colab": {}
      },
      "source": [
        "rnd_gs = GridSearchCV(rnd_pipe, rnd_param, verbose=0,n_jobs=-1)"
      ],
      "execution_count": 0,
      "outputs": []
    },
    {
      "cell_type": "markdown",
      "metadata": {
        "id": "IKAkmh9EW5Af",
        "colab_type": "text"
      },
      "source": [
        "Fit the model with training set"
      ]
    },
    {
      "cell_type": "code",
      "metadata": {
        "id": "QfczQXKyW6sV",
        "colab_type": "code",
        "colab": {}
      },
      "source": [
        "rnd_best_model = rnd_gs.fit(X_train_rea[:10000], y_train_rea[:10000])"
      ],
      "execution_count": 0,
      "outputs": []
    },
    {
      "cell_type": "markdown",
      "metadata": {
        "id": "Z3Y9It6LW_Cn",
        "colab_type": "text"
      },
      "source": [
        "See the best learning model parameters"
      ]
    },
    {
      "cell_type": "code",
      "metadata": {
        "id": "8fmraWIeW_r-",
        "colab_type": "code",
        "outputId": "119565d7-4df2-4e41-8397-87ae7e621a76",
        "colab": {
          "base_uri": "https://localhost:8080/",
          "height": 252
        }
      },
      "source": [
        "print(rnd_best_model.best_estimator_)"
      ],
      "execution_count": 0,
      "outputs": [
        {
          "output_type": "stream",
          "text": [
            "Pipeline(memory=None,\n",
            "         steps=[('randomforestclassifier',\n",
            "                 RandomForestClassifier(bootstrap=True, ccp_alpha=0.0,\n",
            "                                        class_weight=None, criterion='gini',\n",
            "                                        max_depth=50, max_features='auto',\n",
            "                                        max_leaf_nodes=50, max_samples=None,\n",
            "                                        min_impurity_decrease=0.0,\n",
            "                                        min_impurity_split=None,\n",
            "                                        min_samples_leaf=5, min_samples_split=2,\n",
            "                                        min_weight_fraction_leaf=0.0,\n",
            "                                        n_estimators=10, n_jobs=None,\n",
            "                                        oob_score=False, random_state=None,\n",
            "                                        verbose=0, warm_start=False))],\n",
            "         verbose=False)\n"
          ],
          "name": "stdout"
        }
      ]
    },
    {
      "cell_type": "markdown",
      "metadata": {
        "id": "ykyVbOFrb9jY",
        "colab_type": "text"
      },
      "source": [
        "Test the model with testing set"
      ]
    },
    {
      "cell_type": "code",
      "metadata": {
        "id": "-y_evoMPW-dI",
        "colab_type": "code",
        "outputId": "0e61e434-6ffe-4144-b948-2d4bace4c209",
        "colab": {
          "base_uri": "https://localhost:8080/",
          "height": 34
        }
      },
      "source": [
        "print((\"The accuracy is:\"), rnd_best_model.score(X_test_rea[:10000], y_test_rea[:10000]))"
      ],
      "execution_count": 0,
      "outputs": [
        {
          "output_type": "stream",
          "text": [
            "The accuracy is: 0.5594\n"
          ],
          "name": "stdout"
        }
      ]
    },
    {
      "cell_type": "markdown",
      "metadata": {
        "id": "2z-eTEeMu-uL",
        "colab_type": "text"
      },
      "source": [
        "SVM Model"
      ]
    },
    {
      "cell_type": "code",
      "metadata": {
        "colab_type": "code",
        "id": "i7CLtuoGxtQw",
        "colab": {}
      },
      "source": [
        "# Create dictionary with candidate learning algorithms and their hyperparameters\n",
        "svm_param = [\n",
        "             {'kernel': ['rbf'], 'gamma': [0.1,0.2],'C': [1,10]},\n",
        "             {'kernel': ['linear'], 'gamma': [0.1,0.2],'C': [1,10]},\n",
        "             {'kernel': ['poly'], 'gamma': [0.1,0.2],'C': [1,10]}\n",
        "            ]"
      ],
      "execution_count": 0,
      "outputs": []
    },
    {
      "cell_type": "markdown",
      "metadata": {
        "colab_type": "text",
        "id": "qwFQCs3txtRC"
      },
      "source": [
        "create a gridsearch of the pipeline, then fit the dataset to find best model"
      ]
    },
    {
      "cell_type": "code",
      "metadata": {
        "colab_type": "code",
        "id": "kciZkKq9xtRF",
        "colab": {}
      },
      "source": [
        "svm_gs = GridSearchCV(SVC(), svm_param)"
      ],
      "execution_count": 0,
      "outputs": []
    },
    {
      "cell_type": "markdown",
      "metadata": {
        "colab_type": "text",
        "id": "kskMjgy-xtRO"
      },
      "source": [
        "Fit the model with training set"
      ]
    },
    {
      "cell_type": "code",
      "metadata": {
        "colab_type": "code",
        "id": "AxSdP2nKxtRR",
        "colab": {}
      },
      "source": [
        "svm_best_model = svm_gs.fit(X_train_rea[:10000], y_train_rea[:10000])"
      ],
      "execution_count": 0,
      "outputs": []
    },
    {
      "cell_type": "markdown",
      "metadata": {
        "colab_type": "text",
        "id": "hvfvhSVjxtRa"
      },
      "source": [
        "See the best learning model parameters"
      ]
    },
    {
      "cell_type": "code",
      "metadata": {
        "colab_type": "code",
        "id": "mnIAWg3ExtRd",
        "colab": {
          "base_uri": "https://localhost:8080/",
          "height": 84
        },
        "outputId": "83d2bf04-7d26-4571-bd0e-bf0466f4bbf3"
      },
      "source": [
        "print(svm_best_model.best_estimator_)"
      ],
      "execution_count": 65,
      "outputs": [
        {
          "output_type": "stream",
          "text": [
            "SVC(C=10, break_ties=False, cache_size=200, class_weight=None, coef0=0.0,\n",
            "    decision_function_shape='ovr', degree=3, gamma=0.1, kernel='linear',\n",
            "    max_iter=-1, probability=False, random_state=None, shrinking=True,\n",
            "    tol=0.001, verbose=False)\n"
          ],
          "name": "stdout"
        }
      ]
    },
    {
      "cell_type": "markdown",
      "metadata": {
        "colab_type": "text",
        "id": "1TTZOsb2xtRm"
      },
      "source": [
        "Test the model with testing set"
      ]
    },
    {
      "cell_type": "code",
      "metadata": {
        "colab_type": "code",
        "id": "x8EByF5oxtRp",
        "colab": {
          "base_uri": "https://localhost:8080/",
          "height": 34
        },
        "outputId": "18a06600-2e53-44c5-91ba-1a8f4f3c448d"
      },
      "source": [
        "print((\"The accuracy is:\"), svm_best_model.score(X_test_rea[:10000], y_test_rea[:10000]))"
      ],
      "execution_count": 66,
      "outputs": [
        {
          "output_type": "stream",
          "text": [
            "The accuracy is: 0.5613\n"
          ],
          "name": "stdout"
        }
      ]
    },
    {
      "cell_type": "markdown",
      "metadata": {
        "id": "EFThDKlHyub6",
        "colab_type": "text"
      },
      "source": [
        "#Bonus"
      ]
    },
    {
      "cell_type": "markdown",
      "metadata": {
        "id": "avIDdCEebGYe",
        "colab_type": "text"
      },
      "source": [
        "Let's generate additional features from existing features, hopefully it will give a better accuracy.  \n",
        "Let's use the top highest important features."
      ]
    },
    {
      "cell_type": "code",
      "metadata": {
        "id": "4Y9vObpPbnel",
        "colab_type": "code",
        "colab": {}
      },
      "source": [
        "X_readmitted['f1'] = X_readmitted['insulin_No'] * X_readmitted['diabetesMed_No']\n",
        "X_readmitted['f2'] = X_readmitted['insulin_Up'] * X_readmitted['diabetesMed_Yes']\n",
        "X_readmitted['f3'] = X_readmitted['number_inpatient'] * X_readmitted['time_in_hospital']\n",
        "X_readmitted['f4'] = X_readmitted['number_diagnoses'] * X_readmitted['diabetesMed_Yes']"
      ],
      "execution_count": 0,
      "outputs": []
    },
    {
      "cell_type": "code",
      "metadata": {
        "id": "e4ovBpU9gdLP",
        "colab_type": "code",
        "colab": {
          "base_uri": "https://localhost:8080/",
          "height": 261
        },
        "outputId": "5286cdc5-25ee-49c2-9235-7496b6cb261a"
      },
      "source": [
        "X_readmitted.head()"
      ],
      "execution_count": 68,
      "outputs": [
        {
          "output_type": "execute_result",
          "data": {
            "text/html": [
              "<div>\n",
              "<style scoped>\n",
              "    .dataframe tbody tr th:only-of-type {\n",
              "        vertical-align: middle;\n",
              "    }\n",
              "\n",
              "    .dataframe tbody tr th {\n",
              "        vertical-align: top;\n",
              "    }\n",
              "\n",
              "    .dataframe thead th {\n",
              "        text-align: right;\n",
              "    }\n",
              "</style>\n",
              "<table border=\"1\" class=\"dataframe\">\n",
              "  <thead>\n",
              "    <tr style=\"text-align: right;\">\n",
              "      <th></th>\n",
              "      <th>time_in_hospital</th>\n",
              "      <th>num_lab_procedures</th>\n",
              "      <th>num_procedures</th>\n",
              "      <th>num_medications</th>\n",
              "      <th>number_outpatient</th>\n",
              "      <th>number_emergency</th>\n",
              "      <th>number_inpatient</th>\n",
              "      <th>number_diagnoses</th>\n",
              "      <th>race_?</th>\n",
              "      <th>race_AfricanAmerican</th>\n",
              "      <th>race_Asian</th>\n",
              "      <th>race_Caucasian</th>\n",
              "      <th>race_Hispanic</th>\n",
              "      <th>race_Other</th>\n",
              "      <th>gender_Female</th>\n",
              "      <th>gender_Male</th>\n",
              "      <th>gender_Unknown/Invalid</th>\n",
              "      <th>age_[0-10)</th>\n",
              "      <th>age_[10-20)</th>\n",
              "      <th>age_[20-30)</th>\n",
              "      <th>age_[30-40)</th>\n",
              "      <th>age_[40-50)</th>\n",
              "      <th>age_[50-60)</th>\n",
              "      <th>age_[60-70)</th>\n",
              "      <th>age_[70-80)</th>\n",
              "      <th>age_[80-90)</th>\n",
              "      <th>age_[90-100)</th>\n",
              "      <th>max_glu_serum_&gt;200</th>\n",
              "      <th>max_glu_serum_&gt;300</th>\n",
              "      <th>max_glu_serum_None</th>\n",
              "      <th>max_glu_serum_Norm</th>\n",
              "      <th>A1Cresult_&gt;7</th>\n",
              "      <th>A1Cresult_&gt;8</th>\n",
              "      <th>A1Cresult_None</th>\n",
              "      <th>A1Cresult_Norm</th>\n",
              "      <th>metformin_Down</th>\n",
              "      <th>metformin_No</th>\n",
              "      <th>metformin_Steady</th>\n",
              "      <th>metformin_Up</th>\n",
              "      <th>repaglinide_Down</th>\n",
              "      <th>...</th>\n",
              "      <th>rosiglitazone_Up</th>\n",
              "      <th>acarbose_Down</th>\n",
              "      <th>acarbose_No</th>\n",
              "      <th>acarbose_Steady</th>\n",
              "      <th>acarbose_Up</th>\n",
              "      <th>miglitol_Down</th>\n",
              "      <th>miglitol_No</th>\n",
              "      <th>miglitol_Steady</th>\n",
              "      <th>miglitol_Up</th>\n",
              "      <th>troglitazone_No</th>\n",
              "      <th>troglitazone_Steady</th>\n",
              "      <th>tolazamide_No</th>\n",
              "      <th>tolazamide_Steady</th>\n",
              "      <th>tolazamide_Up</th>\n",
              "      <th>examide_No</th>\n",
              "      <th>citoglipton_No</th>\n",
              "      <th>insulin_Down</th>\n",
              "      <th>insulin_No</th>\n",
              "      <th>insulin_Steady</th>\n",
              "      <th>insulin_Up</th>\n",
              "      <th>glyburide-metformin_Down</th>\n",
              "      <th>glyburide-metformin_No</th>\n",
              "      <th>glyburide-metformin_Steady</th>\n",
              "      <th>glyburide-metformin_Up</th>\n",
              "      <th>glipizide-metformin_No</th>\n",
              "      <th>glipizide-metformin_Steady</th>\n",
              "      <th>glimepiride-pioglitazone_No</th>\n",
              "      <th>glimepiride-pioglitazone_Steady</th>\n",
              "      <th>metformin-rosiglitazone_No</th>\n",
              "      <th>metformin-rosiglitazone_Steady</th>\n",
              "      <th>metformin-pioglitazone_No</th>\n",
              "      <th>metformin-pioglitazone_Steady</th>\n",
              "      <th>change_Ch</th>\n",
              "      <th>change_No</th>\n",
              "      <th>diabetesMed_No</th>\n",
              "      <th>diabetesMed_Yes</th>\n",
              "      <th>f1</th>\n",
              "      <th>f2</th>\n",
              "      <th>f3</th>\n",
              "      <th>f4</th>\n",
              "    </tr>\n",
              "  </thead>\n",
              "  <tbody>\n",
              "    <tr>\n",
              "      <th>0</th>\n",
              "      <td>0.000000</td>\n",
              "      <td>0.305344</td>\n",
              "      <td>0.000000</td>\n",
              "      <td>0.0000</td>\n",
              "      <td>0.000000</td>\n",
              "      <td>0.0</td>\n",
              "      <td>0.000000</td>\n",
              "      <td>0.000000</td>\n",
              "      <td>0</td>\n",
              "      <td>0</td>\n",
              "      <td>0</td>\n",
              "      <td>1</td>\n",
              "      <td>0</td>\n",
              "      <td>0</td>\n",
              "      <td>1</td>\n",
              "      <td>0</td>\n",
              "      <td>0</td>\n",
              "      <td>1</td>\n",
              "      <td>0</td>\n",
              "      <td>0</td>\n",
              "      <td>0</td>\n",
              "      <td>0</td>\n",
              "      <td>0</td>\n",
              "      <td>0</td>\n",
              "      <td>0</td>\n",
              "      <td>0</td>\n",
              "      <td>0</td>\n",
              "      <td>0</td>\n",
              "      <td>0</td>\n",
              "      <td>1</td>\n",
              "      <td>0</td>\n",
              "      <td>0</td>\n",
              "      <td>0</td>\n",
              "      <td>1</td>\n",
              "      <td>0</td>\n",
              "      <td>0</td>\n",
              "      <td>1</td>\n",
              "      <td>0</td>\n",
              "      <td>0</td>\n",
              "      <td>0</td>\n",
              "      <td>...</td>\n",
              "      <td>0</td>\n",
              "      <td>0</td>\n",
              "      <td>1</td>\n",
              "      <td>0</td>\n",
              "      <td>0</td>\n",
              "      <td>0</td>\n",
              "      <td>1</td>\n",
              "      <td>0</td>\n",
              "      <td>0</td>\n",
              "      <td>1</td>\n",
              "      <td>0</td>\n",
              "      <td>1</td>\n",
              "      <td>0</td>\n",
              "      <td>0</td>\n",
              "      <td>1</td>\n",
              "      <td>1</td>\n",
              "      <td>0</td>\n",
              "      <td>1</td>\n",
              "      <td>0</td>\n",
              "      <td>0</td>\n",
              "      <td>0</td>\n",
              "      <td>1</td>\n",
              "      <td>0</td>\n",
              "      <td>0</td>\n",
              "      <td>1</td>\n",
              "      <td>0</td>\n",
              "      <td>1</td>\n",
              "      <td>0</td>\n",
              "      <td>1</td>\n",
              "      <td>0</td>\n",
              "      <td>1</td>\n",
              "      <td>0</td>\n",
              "      <td>0</td>\n",
              "      <td>1</td>\n",
              "      <td>1</td>\n",
              "      <td>0</td>\n",
              "      <td>1</td>\n",
              "      <td>0</td>\n",
              "      <td>0.000000</td>\n",
              "      <td>0.000000</td>\n",
              "    </tr>\n",
              "    <tr>\n",
              "      <th>1</th>\n",
              "      <td>0.153846</td>\n",
              "      <td>0.442748</td>\n",
              "      <td>0.000000</td>\n",
              "      <td>0.2125</td>\n",
              "      <td>0.000000</td>\n",
              "      <td>0.0</td>\n",
              "      <td>0.000000</td>\n",
              "      <td>0.533333</td>\n",
              "      <td>0</td>\n",
              "      <td>0</td>\n",
              "      <td>0</td>\n",
              "      <td>1</td>\n",
              "      <td>0</td>\n",
              "      <td>0</td>\n",
              "      <td>1</td>\n",
              "      <td>0</td>\n",
              "      <td>0</td>\n",
              "      <td>0</td>\n",
              "      <td>1</td>\n",
              "      <td>0</td>\n",
              "      <td>0</td>\n",
              "      <td>0</td>\n",
              "      <td>0</td>\n",
              "      <td>0</td>\n",
              "      <td>0</td>\n",
              "      <td>0</td>\n",
              "      <td>0</td>\n",
              "      <td>0</td>\n",
              "      <td>0</td>\n",
              "      <td>1</td>\n",
              "      <td>0</td>\n",
              "      <td>0</td>\n",
              "      <td>0</td>\n",
              "      <td>1</td>\n",
              "      <td>0</td>\n",
              "      <td>0</td>\n",
              "      <td>1</td>\n",
              "      <td>0</td>\n",
              "      <td>0</td>\n",
              "      <td>0</td>\n",
              "      <td>...</td>\n",
              "      <td>0</td>\n",
              "      <td>0</td>\n",
              "      <td>1</td>\n",
              "      <td>0</td>\n",
              "      <td>0</td>\n",
              "      <td>0</td>\n",
              "      <td>1</td>\n",
              "      <td>0</td>\n",
              "      <td>0</td>\n",
              "      <td>1</td>\n",
              "      <td>0</td>\n",
              "      <td>1</td>\n",
              "      <td>0</td>\n",
              "      <td>0</td>\n",
              "      <td>1</td>\n",
              "      <td>1</td>\n",
              "      <td>0</td>\n",
              "      <td>0</td>\n",
              "      <td>0</td>\n",
              "      <td>1</td>\n",
              "      <td>0</td>\n",
              "      <td>1</td>\n",
              "      <td>0</td>\n",
              "      <td>0</td>\n",
              "      <td>1</td>\n",
              "      <td>0</td>\n",
              "      <td>1</td>\n",
              "      <td>0</td>\n",
              "      <td>1</td>\n",
              "      <td>0</td>\n",
              "      <td>1</td>\n",
              "      <td>0</td>\n",
              "      <td>1</td>\n",
              "      <td>0</td>\n",
              "      <td>0</td>\n",
              "      <td>1</td>\n",
              "      <td>0</td>\n",
              "      <td>1</td>\n",
              "      <td>0.000000</td>\n",
              "      <td>0.533333</td>\n",
              "    </tr>\n",
              "    <tr>\n",
              "      <th>2</th>\n",
              "      <td>0.076923</td>\n",
              "      <td>0.076336</td>\n",
              "      <td>0.833333</td>\n",
              "      <td>0.1500</td>\n",
              "      <td>0.047619</td>\n",
              "      <td>0.0</td>\n",
              "      <td>0.047619</td>\n",
              "      <td>0.333333</td>\n",
              "      <td>0</td>\n",
              "      <td>1</td>\n",
              "      <td>0</td>\n",
              "      <td>0</td>\n",
              "      <td>0</td>\n",
              "      <td>0</td>\n",
              "      <td>1</td>\n",
              "      <td>0</td>\n",
              "      <td>0</td>\n",
              "      <td>0</td>\n",
              "      <td>0</td>\n",
              "      <td>1</td>\n",
              "      <td>0</td>\n",
              "      <td>0</td>\n",
              "      <td>0</td>\n",
              "      <td>0</td>\n",
              "      <td>0</td>\n",
              "      <td>0</td>\n",
              "      <td>0</td>\n",
              "      <td>0</td>\n",
              "      <td>0</td>\n",
              "      <td>1</td>\n",
              "      <td>0</td>\n",
              "      <td>0</td>\n",
              "      <td>0</td>\n",
              "      <td>1</td>\n",
              "      <td>0</td>\n",
              "      <td>0</td>\n",
              "      <td>1</td>\n",
              "      <td>0</td>\n",
              "      <td>0</td>\n",
              "      <td>0</td>\n",
              "      <td>...</td>\n",
              "      <td>0</td>\n",
              "      <td>0</td>\n",
              "      <td>1</td>\n",
              "      <td>0</td>\n",
              "      <td>0</td>\n",
              "      <td>0</td>\n",
              "      <td>1</td>\n",
              "      <td>0</td>\n",
              "      <td>0</td>\n",
              "      <td>1</td>\n",
              "      <td>0</td>\n",
              "      <td>1</td>\n",
              "      <td>0</td>\n",
              "      <td>0</td>\n",
              "      <td>1</td>\n",
              "      <td>1</td>\n",
              "      <td>0</td>\n",
              "      <td>1</td>\n",
              "      <td>0</td>\n",
              "      <td>0</td>\n",
              "      <td>0</td>\n",
              "      <td>1</td>\n",
              "      <td>0</td>\n",
              "      <td>0</td>\n",
              "      <td>1</td>\n",
              "      <td>0</td>\n",
              "      <td>1</td>\n",
              "      <td>0</td>\n",
              "      <td>1</td>\n",
              "      <td>0</td>\n",
              "      <td>1</td>\n",
              "      <td>0</td>\n",
              "      <td>0</td>\n",
              "      <td>1</td>\n",
              "      <td>0</td>\n",
              "      <td>1</td>\n",
              "      <td>0</td>\n",
              "      <td>0</td>\n",
              "      <td>0.003663</td>\n",
              "      <td>0.333333</td>\n",
              "    </tr>\n",
              "    <tr>\n",
              "      <th>3</th>\n",
              "      <td>0.076923</td>\n",
              "      <td>0.328244</td>\n",
              "      <td>0.166667</td>\n",
              "      <td>0.1875</td>\n",
              "      <td>0.000000</td>\n",
              "      <td>0.0</td>\n",
              "      <td>0.000000</td>\n",
              "      <td>0.400000</td>\n",
              "      <td>0</td>\n",
              "      <td>0</td>\n",
              "      <td>0</td>\n",
              "      <td>1</td>\n",
              "      <td>0</td>\n",
              "      <td>0</td>\n",
              "      <td>0</td>\n",
              "      <td>1</td>\n",
              "      <td>0</td>\n",
              "      <td>0</td>\n",
              "      <td>0</td>\n",
              "      <td>0</td>\n",
              "      <td>1</td>\n",
              "      <td>0</td>\n",
              "      <td>0</td>\n",
              "      <td>0</td>\n",
              "      <td>0</td>\n",
              "      <td>0</td>\n",
              "      <td>0</td>\n",
              "      <td>0</td>\n",
              "      <td>0</td>\n",
              "      <td>1</td>\n",
              "      <td>0</td>\n",
              "      <td>0</td>\n",
              "      <td>0</td>\n",
              "      <td>1</td>\n",
              "      <td>0</td>\n",
              "      <td>0</td>\n",
              "      <td>1</td>\n",
              "      <td>0</td>\n",
              "      <td>0</td>\n",
              "      <td>0</td>\n",
              "      <td>...</td>\n",
              "      <td>0</td>\n",
              "      <td>0</td>\n",
              "      <td>1</td>\n",
              "      <td>0</td>\n",
              "      <td>0</td>\n",
              "      <td>0</td>\n",
              "      <td>1</td>\n",
              "      <td>0</td>\n",
              "      <td>0</td>\n",
              "      <td>1</td>\n",
              "      <td>0</td>\n",
              "      <td>1</td>\n",
              "      <td>0</td>\n",
              "      <td>0</td>\n",
              "      <td>1</td>\n",
              "      <td>1</td>\n",
              "      <td>0</td>\n",
              "      <td>0</td>\n",
              "      <td>0</td>\n",
              "      <td>1</td>\n",
              "      <td>0</td>\n",
              "      <td>1</td>\n",
              "      <td>0</td>\n",
              "      <td>0</td>\n",
              "      <td>1</td>\n",
              "      <td>0</td>\n",
              "      <td>1</td>\n",
              "      <td>0</td>\n",
              "      <td>1</td>\n",
              "      <td>0</td>\n",
              "      <td>1</td>\n",
              "      <td>0</td>\n",
              "      <td>1</td>\n",
              "      <td>0</td>\n",
              "      <td>0</td>\n",
              "      <td>1</td>\n",
              "      <td>0</td>\n",
              "      <td>1</td>\n",
              "      <td>0.000000</td>\n",
              "      <td>0.400000</td>\n",
              "    </tr>\n",
              "    <tr>\n",
              "      <th>4</th>\n",
              "      <td>0.000000</td>\n",
              "      <td>0.381679</td>\n",
              "      <td>0.000000</td>\n",
              "      <td>0.0875</td>\n",
              "      <td>0.000000</td>\n",
              "      <td>0.0</td>\n",
              "      <td>0.000000</td>\n",
              "      <td>0.266667</td>\n",
              "      <td>0</td>\n",
              "      <td>0</td>\n",
              "      <td>0</td>\n",
              "      <td>1</td>\n",
              "      <td>0</td>\n",
              "      <td>0</td>\n",
              "      <td>0</td>\n",
              "      <td>1</td>\n",
              "      <td>0</td>\n",
              "      <td>0</td>\n",
              "      <td>0</td>\n",
              "      <td>0</td>\n",
              "      <td>0</td>\n",
              "      <td>1</td>\n",
              "      <td>0</td>\n",
              "      <td>0</td>\n",
              "      <td>0</td>\n",
              "      <td>0</td>\n",
              "      <td>0</td>\n",
              "      <td>0</td>\n",
              "      <td>0</td>\n",
              "      <td>1</td>\n",
              "      <td>0</td>\n",
              "      <td>0</td>\n",
              "      <td>0</td>\n",
              "      <td>1</td>\n",
              "      <td>0</td>\n",
              "      <td>0</td>\n",
              "      <td>1</td>\n",
              "      <td>0</td>\n",
              "      <td>0</td>\n",
              "      <td>0</td>\n",
              "      <td>...</td>\n",
              "      <td>0</td>\n",
              "      <td>0</td>\n",
              "      <td>1</td>\n",
              "      <td>0</td>\n",
              "      <td>0</td>\n",
              "      <td>0</td>\n",
              "      <td>1</td>\n",
              "      <td>0</td>\n",
              "      <td>0</td>\n",
              "      <td>1</td>\n",
              "      <td>0</td>\n",
              "      <td>1</td>\n",
              "      <td>0</td>\n",
              "      <td>0</td>\n",
              "      <td>1</td>\n",
              "      <td>1</td>\n",
              "      <td>0</td>\n",
              "      <td>0</td>\n",
              "      <td>1</td>\n",
              "      <td>0</td>\n",
              "      <td>0</td>\n",
              "      <td>1</td>\n",
              "      <td>0</td>\n",
              "      <td>0</td>\n",
              "      <td>1</td>\n",
              "      <td>0</td>\n",
              "      <td>1</td>\n",
              "      <td>0</td>\n",
              "      <td>1</td>\n",
              "      <td>0</td>\n",
              "      <td>1</td>\n",
              "      <td>0</td>\n",
              "      <td>1</td>\n",
              "      <td>0</td>\n",
              "      <td>0</td>\n",
              "      <td>1</td>\n",
              "      <td>0</td>\n",
              "      <td>0</td>\n",
              "      <td>0.000000</td>\n",
              "      <td>0.266667</td>\n",
              "    </tr>\n",
              "  </tbody>\n",
              "</table>\n",
              "<p>5 rows × 114 columns</p>\n",
              "</div>"
            ],
            "text/plain": [
              "   time_in_hospital  num_lab_procedures  num_procedures  ...  f2        f3        f4\n",
              "0          0.000000            0.305344        0.000000  ...   0  0.000000  0.000000\n",
              "1          0.153846            0.442748        0.000000  ...   1  0.000000  0.533333\n",
              "2          0.076923            0.076336        0.833333  ...   0  0.003663  0.333333\n",
              "3          0.076923            0.328244        0.166667  ...   1  0.000000  0.400000\n",
              "4          0.000000            0.381679        0.000000  ...   0  0.000000  0.266667\n",
              "\n",
              "[5 rows x 114 columns]"
            ]
          },
          "metadata": {
            "tags": []
          },
          "execution_count": 68
        }
      ]
    },
    {
      "cell_type": "code",
      "metadata": {
        "id": "k1YcgnkS_JkI",
        "colab_type": "code",
        "colab": {
          "base_uri": "https://localhost:8080/",
          "height": 34
        },
        "outputId": "860ca516-5c83-46cc-f324-b3d759bb51be"
      },
      "source": [
        "X_readmitted.shape"
      ],
      "execution_count": 69,
      "outputs": [
        {
          "output_type": "execute_result",
          "data": {
            "text/plain": [
              "(101766, 114)"
            ]
          },
          "metadata": {
            "tags": []
          },
          "execution_count": 69
        }
      ]
    },
    {
      "cell_type": "markdown",
      "metadata": {
        "id": "iFGFWftskzkU",
        "colab_type": "text"
      },
      "source": [
        "Select Features"
      ]
    },
    {
      "cell_type": "code",
      "metadata": {
        "id": "hyuSBuW1ommE",
        "colab_type": "code",
        "colab": {}
      },
      "source": [
        "skb = SelectKBest(chi2, k=100)\n",
        "X_new = skb.fit_transform(X_readmitted,y_rea)"
      ],
      "execution_count": 0,
      "outputs": []
    },
    {
      "cell_type": "code",
      "metadata": {
        "id": "aVXC36LdrgAc",
        "colab_type": "code",
        "colab": {
          "base_uri": "https://localhost:8080/",
          "height": 34
        },
        "outputId": "91d4e553-c9a9-40e0-e49c-69b8bce0492e"
      },
      "source": [
        "X_new.shape"
      ],
      "execution_count": 71,
      "outputs": [
        {
          "output_type": "execute_result",
          "data": {
            "text/plain": [
              "(101766, 100)"
            ]
          },
          "metadata": {
            "tags": []
          },
          "execution_count": 71
        }
      ]
    },
    {
      "cell_type": "markdown",
      "metadata": {
        "id": "2u9WvZFmivz0",
        "colab_type": "text"
      },
      "source": [
        "Split the training and testing set"
      ]
    },
    {
      "cell_type": "code",
      "metadata": {
        "id": "qBQIHTjFibep",
        "colab_type": "code",
        "colab": {}
      },
      "source": [
        "#For readmitted\n",
        "X_train_new, X_test_new, y_train_new, y_test_new = train_test_split(X_new,y_rea, test_size=0.3, shuffle = True, random_state=42)"
      ],
      "execution_count": 0,
      "outputs": []
    },
    {
      "cell_type": "markdown",
      "metadata": {
        "id": "fzl3tuD8jBF9",
        "colab_type": "text"
      },
      "source": [
        "Using RandomForest with the best model parameters we found above"
      ]
    },
    {
      "cell_type": "code",
      "metadata": {
        "id": "mHVa0feKi_Zt",
        "colab_type": "code",
        "colab": {}
      },
      "source": [
        "rnd_clf_new = RandomForestClassifier(bootstrap=True, ccp_alpha=0.0,\n",
        "                                        class_weight=None, criterion='gini',\n",
        "                                        max_depth=50, max_features='auto',\n",
        "                                        max_leaf_nodes=50, max_samples=None,\n",
        "                                        min_impurity_decrease=0.0,\n",
        "                                        min_impurity_split=None,\n",
        "                                        min_samples_leaf=5, min_samples_split=2,\n",
        "                                        min_weight_fraction_leaf=0.0,\n",
        "                                        n_estimators=100, n_jobs=None,\n",
        "                                        oob_score=False, random_state=None,\n",
        "                                        verbose=0, warm_start=False)"
      ],
      "execution_count": 0,
      "outputs": []
    },
    {
      "cell_type": "markdown",
      "metadata": {
        "id": "qWEI7lJHs7-9",
        "colab_type": "text"
      },
      "source": [
        "Fit the model with training set"
      ]
    },
    {
      "cell_type": "code",
      "metadata": {
        "id": "5P8TQN76kR1U",
        "colab_type": "code",
        "colab": {
          "base_uri": "https://localhost:8080/",
          "height": 151
        },
        "outputId": "12e01104-13d0-476b-a7af-5b6edabf3a02"
      },
      "source": [
        "rnd_clf_new.fit(X_train_new, y_train_new)"
      ],
      "execution_count": 74,
      "outputs": [
        {
          "output_type": "execute_result",
          "data": {
            "text/plain": [
              "RandomForestClassifier(bootstrap=True, ccp_alpha=0.0, class_weight=None,\n",
              "                       criterion='gini', max_depth=50, max_features='auto',\n",
              "                       max_leaf_nodes=50, max_samples=None,\n",
              "                       min_impurity_decrease=0.0, min_impurity_split=None,\n",
              "                       min_samples_leaf=5, min_samples_split=2,\n",
              "                       min_weight_fraction_leaf=0.0, n_estimators=100,\n",
              "                       n_jobs=None, oob_score=False, random_state=None,\n",
              "                       verbose=0, warm_start=False)"
            ]
          },
          "metadata": {
            "tags": []
          },
          "execution_count": 74
        }
      ]
    },
    {
      "cell_type": "markdown",
      "metadata": {
        "id": "3Wv5-I_7s_t1",
        "colab_type": "text"
      },
      "source": [
        "Test the model with testing set"
      ]
    },
    {
      "cell_type": "code",
      "metadata": {
        "id": "VBhOBkBkpw3L",
        "colab_type": "code",
        "colab": {
          "base_uri": "https://localhost:8080/",
          "height": 34
        },
        "outputId": "91a0e429-fa76-4c2c-b0d5-e3421e458767"
      },
      "source": [
        "rnd_clf_new.score(X_test_new, y_test_new)"
      ],
      "execution_count": 75,
      "outputs": [
        {
          "output_type": "execute_result",
          "data": {
            "text/plain": [
              "0.5693743858499837"
            ]
          },
          "metadata": {
            "tags": []
          },
          "execution_count": 75
        }
      ]
    },
    {
      "cell_type": "markdown",
      "metadata": {
        "id": "PIwF7P4yqfu-",
        "colab_type": "text"
      },
      "source": [
        "It is clearly proved that, adding extra features from existing features also will not improve the learning performace."
      ]
    },
    {
      "cell_type": "markdown",
      "metadata": {
        "id": "WNStadDgcA0K",
        "colab_type": "text"
      },
      "source": [
        "#Summary and Conclusion"
      ]
    },
    {
      "cell_type": "markdown",
      "metadata": {
        "id": "wlKiU7n6cM60",
        "colab_type": "text"
      },
      "source": [
        "\n",
        "In this diabete patients dataset, many methods were used at the data cleansing section, especially at the feature engineering phase.\n",
        "\n",
        "For 'diabetesMed' classification, accuracy produced by both models is same 99%, but SVM model learning time took very much longer than RandomForest. \n",
        "\n",
        "For 'readmitted' classification, accuracy produced by RandomForest model is around 54% and SVM model is 57%, and once again SVM computation time is much longer. Let's assume time is not matter, which classifier predict better if both produced same accuracies? By looking at the average F1 score, RandomForest F1=0.37 > SVM F1=0.29, this mean RandomForest model predict better in term of precision and recall.  \n",
        "See the barcharts below for the experiment summary base on features selection. This two barcharts indicated that increasing number of features did not effect to the model performance at all."
      ]
    },
    {
      "cell_type": "markdown",
      "metadata": {
        "id": "QH958pm7Y60x",
        "colab_type": "text"
      },
      "source": [
        "![alt text](https://github.com/seansothey/CSC685/blob/master/diabetesMed-report-project5.PNG?raw=true)"
      ]
    },
    {
      "cell_type": "markdown",
      "metadata": {
        "id": "PIgM-FArZGLz",
        "colab_type": "text"
      },
      "source": [
        "![alt text](https://github.com/seansothey/CSC685/blob/master/readmitted-report-project5.PNG?raw=true)"
      ]
    },
    {
      "cell_type": "markdown",
      "metadata": {
        "id": "DoXzDvFF3z4y",
        "colab_type": "text"
      },
      "source": [
        "Now, how can we improve the performance for 'readmitted' patients classification? According to the Learning curve behaviour, getting more sample set size will not improve the accuracy. In otherwords, trying to get more data will not be helpful.\n",
        "\n",
        "GridSearchCV was used for tuning both classifiers for readmitted patient. By looking at GridSearchCV learning model with many different parameters setup, the performance was still not improved. \n",
        "\n",
        "Overall, RandomForest is considered for best learning model for this dataset. Trying to get some more new information (features) from patients may be helpful for improve the learning performance for classification of 'readmitted' patients.  \n",
        "\n",
        "\n",
        "*Note: An important lesson learned from this data set was when applying PCA and scaling the data was not helpful and even made the model performance worse. This is because most of the data value are categorical (0,1,2 after convertion), therefore, the classifiers would learn better with this descrete value.*"
      ]
    },
    {
      "cell_type": "markdown",
      "metadata": {
        "id": "3OJ-BOCycQRo",
        "colab_type": "text"
      },
      "source": [
        "#Refrences\n",
        "\n",
        "\n",
        "\n",
        "*   https://archive.ics.uci.edu/ml/datasets/Diabetes+130-US+hospitals+for+years+1999-2008\n",
        "\n",
        "*   https://sju.instructure.com/courses/20477/files/2050722?module_item_id=691863\n",
        "\n",
        "*   https://scikit-learn.org/stable/modules/generated/sklearn.feature_selection.SelectKBest.html\n",
        "\n",
        "*   https://scikit-learn.org/stable/modules/generated/sklearn.model_selection.GridSearchCV.html\n",
        "\n",
        "\n",
        "\n"
      ]
    }
  ]
}