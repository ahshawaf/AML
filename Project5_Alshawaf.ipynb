{
  "nbformat": 4,
  "nbformat_minor": 0,
  "metadata": {
    "colab": {
      "name": "Project5_Alshawaf.ipynb",
      "provenance": [],
      "collapsed_sections": [],
      "machine_shape": "hm",
      "authorship_tag": "ABX9TyMgXkL+fIAjMfeprC89CgDb",
      "include_colab_link": true
    },
    "kernelspec": {
      "name": "python3",
      "display_name": "Python 3"
    },
    "accelerator": "TPU"
  },
  "cells": [
    {
      "cell_type": "markdown",
      "metadata": {
        "id": "view-in-github",
        "colab_type": "text"
      },
      "source": [
        "<a href=\"https://colab.research.google.com/github/ahshawaf/AML/blob/master/Project5_Alshawaf.ipynb\" target=\"_parent\"><img src=\"https://colab.research.google.com/assets/colab-badge.svg\" alt=\"Open In Colab\"/></a>"
      ]
    },
    {
      "cell_type": "code",
      "metadata": {
        "id": "ijgG58RrU9en",
        "colab_type": "code",
        "colab": {
          "base_uri": "https://localhost:8080/",
          "height": 81
        },
        "outputId": "683359ca-486d-4121-f3f0-48642e5ccbb3"
      },
      "source": [
        "import pandas as pd\n",
        "import numpy as np\n",
        "import matplotlib.pyplot as plt\n",
        "from sklearn.model_selection import train_test_split\n",
        "from sklearn.model_selection import cross_val_predict, cross_val_score\n",
        "from sklearn.preprocessing import LabelEncoder,StandardScaler\n",
        "from sklearn.ensemble import RandomForestClassifier\n",
        "from sklearn.svm import SVC\n",
        "from sklearn.linear_model import SGDClassifier\n",
        "from sklearn.metrics import confusion_matrix\n",
        "from sklearn.decomposition import PCA\n",
        "from keras.utils import to_categorical\n",
        "from pandas.plotting import scatter_matrix\n",
        "\n"
      ],
      "execution_count": 2,
      "outputs": [
        {
          "output_type": "stream",
          "text": [
            "Using TensorFlow backend.\n"
          ],
          "name": "stderr"
        },
        {
          "output_type": "display_data",
          "data": {
            "text/html": [
              "<p style=\"color: red;\">\n",
              "The default version of TensorFlow in Colab will soon switch to TensorFlow 2.x.<br>\n",
              "We recommend you <a href=\"https://www.tensorflow.org/guide/migrate\" target=\"_blank\">upgrade</a> now \n",
              "or ensure your notebook will continue to use TensorFlow 1.x via the <code>%tensorflow_version 1.x</code> magic:\n",
              "<a href=\"https://colab.research.google.com/notebooks/tensorflow_version.ipynb\" target=\"_blank\">more info</a>.</p>\n"
            ],
            "text/plain": [
              "<IPython.core.display.HTML object>"
            ]
          },
          "metadata": {
            "tags": []
          }
        }
      ]
    },
    {
      "cell_type": "markdown",
      "metadata": {
        "id": "Pg19C8VWRaFT",
        "colab_type": "text"
      },
      "source": [
        "#Loading Data"
      ]
    },
    {
      "cell_type": "code",
      "metadata": {
        "id": "boCDz5g_Vad-",
        "colab_type": "code",
        "colab": {}
      },
      "source": [
        "df = pd.read_csv('https://raw.githubusercontent.com/ahshawaf/AML/master/diabetic_data.csv')"
      ],
      "execution_count": 0,
      "outputs": []
    },
    {
      "cell_type": "markdown",
      "metadata": {
        "id": "UBdaZBdxeyI7",
        "colab_type": "text"
      },
      "source": [
        "Get the size of the dataframe"
      ]
    },
    {
      "cell_type": "markdown",
      "metadata": {
        "id": "Z1BovpajRenx",
        "colab_type": "text"
      },
      "source": [
        "#Exploring Data"
      ]
    },
    {
      "cell_type": "code",
      "metadata": {
        "id": "-8qZIT_OYIIz",
        "colab_type": "code",
        "outputId": "530e3030-a992-4b5d-ae91-0cc49a35cc03",
        "colab": {
          "base_uri": "https://localhost:8080/",
          "height": 34
        }
      },
      "source": [
        "len(df)"
      ],
      "execution_count": 4,
      "outputs": [
        {
          "output_type": "execute_result",
          "data": {
            "text/plain": [
              "101766"
            ]
          },
          "metadata": {
            "tags": []
          },
          "execution_count": 4
        }
      ]
    },
    {
      "cell_type": "code",
      "metadata": {
        "id": "puZl2DGvYK3J",
        "colab_type": "code",
        "outputId": "2fcbd779-046e-400f-a395-bd9213e192e3",
        "colab": {
          "base_uri": "https://localhost:8080/",
          "height": 34
        }
      },
      "source": [
        "df.shape"
      ],
      "execution_count": 5,
      "outputs": [
        {
          "output_type": "execute_result",
          "data": {
            "text/plain": [
              "(101766, 50)"
            ]
          },
          "metadata": {
            "tags": []
          },
          "execution_count": 5
        }
      ]
    },
    {
      "cell_type": "code",
      "metadata": {
        "id": "XO6epQcqVjAW",
        "colab_type": "code",
        "outputId": "6a0b78a5-4699-476a-d6f9-e45014c01576",
        "colab": {
          "base_uri": "https://localhost:8080/",
          "height": 316
        }
      },
      "source": [
        "df.head()"
      ],
      "execution_count": 6,
      "outputs": [
        {
          "output_type": "execute_result",
          "data": {
            "text/html": [
              "<div>\n",
              "<style scoped>\n",
              "    .dataframe tbody tr th:only-of-type {\n",
              "        vertical-align: middle;\n",
              "    }\n",
              "\n",
              "    .dataframe tbody tr th {\n",
              "        vertical-align: top;\n",
              "    }\n",
              "\n",
              "    .dataframe thead th {\n",
              "        text-align: right;\n",
              "    }\n",
              "</style>\n",
              "<table border=\"1\" class=\"dataframe\">\n",
              "  <thead>\n",
              "    <tr style=\"text-align: right;\">\n",
              "      <th></th>\n",
              "      <th>encounter_id</th>\n",
              "      <th>patient_nbr</th>\n",
              "      <th>race</th>\n",
              "      <th>gender</th>\n",
              "      <th>age</th>\n",
              "      <th>weight</th>\n",
              "      <th>admission_type_id</th>\n",
              "      <th>discharge_disposition_id</th>\n",
              "      <th>admission_source_id</th>\n",
              "      <th>time_in_hospital</th>\n",
              "      <th>payer_code</th>\n",
              "      <th>medical_specialty</th>\n",
              "      <th>num_lab_procedures</th>\n",
              "      <th>num_procedures</th>\n",
              "      <th>num_medications</th>\n",
              "      <th>number_outpatient</th>\n",
              "      <th>number_emergency</th>\n",
              "      <th>number_inpatient</th>\n",
              "      <th>diag_1</th>\n",
              "      <th>diag_2</th>\n",
              "      <th>diag_3</th>\n",
              "      <th>number_diagnoses</th>\n",
              "      <th>max_glu_serum</th>\n",
              "      <th>A1Cresult</th>\n",
              "      <th>metformin</th>\n",
              "      <th>repaglinide</th>\n",
              "      <th>nateglinide</th>\n",
              "      <th>chlorpropamide</th>\n",
              "      <th>glimepiride</th>\n",
              "      <th>acetohexamide</th>\n",
              "      <th>glipizide</th>\n",
              "      <th>glyburide</th>\n",
              "      <th>tolbutamide</th>\n",
              "      <th>pioglitazone</th>\n",
              "      <th>rosiglitazone</th>\n",
              "      <th>acarbose</th>\n",
              "      <th>miglitol</th>\n",
              "      <th>troglitazone</th>\n",
              "      <th>tolazamide</th>\n",
              "      <th>examide</th>\n",
              "      <th>citoglipton</th>\n",
              "      <th>insulin</th>\n",
              "      <th>glyburide-metformin</th>\n",
              "      <th>glipizide-metformin</th>\n",
              "      <th>glimepiride-pioglitazone</th>\n",
              "      <th>metformin-rosiglitazone</th>\n",
              "      <th>metformin-pioglitazone</th>\n",
              "      <th>change</th>\n",
              "      <th>diabetesMed</th>\n",
              "      <th>readmitted</th>\n",
              "    </tr>\n",
              "  </thead>\n",
              "  <tbody>\n",
              "    <tr>\n",
              "      <th>0</th>\n",
              "      <td>2278392</td>\n",
              "      <td>8222157</td>\n",
              "      <td>Caucasian</td>\n",
              "      <td>Female</td>\n",
              "      <td>[0-10)</td>\n",
              "      <td>?</td>\n",
              "      <td>6</td>\n",
              "      <td>25</td>\n",
              "      <td>1</td>\n",
              "      <td>1</td>\n",
              "      <td>?</td>\n",
              "      <td>Pediatrics-Endocrinology</td>\n",
              "      <td>41</td>\n",
              "      <td>0</td>\n",
              "      <td>1</td>\n",
              "      <td>0</td>\n",
              "      <td>0</td>\n",
              "      <td>0</td>\n",
              "      <td>250.83</td>\n",
              "      <td>?</td>\n",
              "      <td>?</td>\n",
              "      <td>1</td>\n",
              "      <td>None</td>\n",
              "      <td>None</td>\n",
              "      <td>No</td>\n",
              "      <td>No</td>\n",
              "      <td>No</td>\n",
              "      <td>No</td>\n",
              "      <td>No</td>\n",
              "      <td>No</td>\n",
              "      <td>No</td>\n",
              "      <td>No</td>\n",
              "      <td>No</td>\n",
              "      <td>No</td>\n",
              "      <td>No</td>\n",
              "      <td>No</td>\n",
              "      <td>No</td>\n",
              "      <td>No</td>\n",
              "      <td>No</td>\n",
              "      <td>No</td>\n",
              "      <td>No</td>\n",
              "      <td>No</td>\n",
              "      <td>No</td>\n",
              "      <td>No</td>\n",
              "      <td>No</td>\n",
              "      <td>No</td>\n",
              "      <td>No</td>\n",
              "      <td>No</td>\n",
              "      <td>No</td>\n",
              "      <td>NO</td>\n",
              "    </tr>\n",
              "    <tr>\n",
              "      <th>1</th>\n",
              "      <td>149190</td>\n",
              "      <td>55629189</td>\n",
              "      <td>Caucasian</td>\n",
              "      <td>Female</td>\n",
              "      <td>[10-20)</td>\n",
              "      <td>?</td>\n",
              "      <td>1</td>\n",
              "      <td>1</td>\n",
              "      <td>7</td>\n",
              "      <td>3</td>\n",
              "      <td>?</td>\n",
              "      <td>?</td>\n",
              "      <td>59</td>\n",
              "      <td>0</td>\n",
              "      <td>18</td>\n",
              "      <td>0</td>\n",
              "      <td>0</td>\n",
              "      <td>0</td>\n",
              "      <td>276</td>\n",
              "      <td>250.01</td>\n",
              "      <td>255</td>\n",
              "      <td>9</td>\n",
              "      <td>None</td>\n",
              "      <td>None</td>\n",
              "      <td>No</td>\n",
              "      <td>No</td>\n",
              "      <td>No</td>\n",
              "      <td>No</td>\n",
              "      <td>No</td>\n",
              "      <td>No</td>\n",
              "      <td>No</td>\n",
              "      <td>No</td>\n",
              "      <td>No</td>\n",
              "      <td>No</td>\n",
              "      <td>No</td>\n",
              "      <td>No</td>\n",
              "      <td>No</td>\n",
              "      <td>No</td>\n",
              "      <td>No</td>\n",
              "      <td>No</td>\n",
              "      <td>No</td>\n",
              "      <td>Up</td>\n",
              "      <td>No</td>\n",
              "      <td>No</td>\n",
              "      <td>No</td>\n",
              "      <td>No</td>\n",
              "      <td>No</td>\n",
              "      <td>Ch</td>\n",
              "      <td>Yes</td>\n",
              "      <td>&gt;30</td>\n",
              "    </tr>\n",
              "    <tr>\n",
              "      <th>2</th>\n",
              "      <td>64410</td>\n",
              "      <td>86047875</td>\n",
              "      <td>AfricanAmerican</td>\n",
              "      <td>Female</td>\n",
              "      <td>[20-30)</td>\n",
              "      <td>?</td>\n",
              "      <td>1</td>\n",
              "      <td>1</td>\n",
              "      <td>7</td>\n",
              "      <td>2</td>\n",
              "      <td>?</td>\n",
              "      <td>?</td>\n",
              "      <td>11</td>\n",
              "      <td>5</td>\n",
              "      <td>13</td>\n",
              "      <td>2</td>\n",
              "      <td>0</td>\n",
              "      <td>1</td>\n",
              "      <td>648</td>\n",
              "      <td>250</td>\n",
              "      <td>V27</td>\n",
              "      <td>6</td>\n",
              "      <td>None</td>\n",
              "      <td>None</td>\n",
              "      <td>No</td>\n",
              "      <td>No</td>\n",
              "      <td>No</td>\n",
              "      <td>No</td>\n",
              "      <td>No</td>\n",
              "      <td>No</td>\n",
              "      <td>Steady</td>\n",
              "      <td>No</td>\n",
              "      <td>No</td>\n",
              "      <td>No</td>\n",
              "      <td>No</td>\n",
              "      <td>No</td>\n",
              "      <td>No</td>\n",
              "      <td>No</td>\n",
              "      <td>No</td>\n",
              "      <td>No</td>\n",
              "      <td>No</td>\n",
              "      <td>No</td>\n",
              "      <td>No</td>\n",
              "      <td>No</td>\n",
              "      <td>No</td>\n",
              "      <td>No</td>\n",
              "      <td>No</td>\n",
              "      <td>No</td>\n",
              "      <td>Yes</td>\n",
              "      <td>NO</td>\n",
              "    </tr>\n",
              "    <tr>\n",
              "      <th>3</th>\n",
              "      <td>500364</td>\n",
              "      <td>82442376</td>\n",
              "      <td>Caucasian</td>\n",
              "      <td>Male</td>\n",
              "      <td>[30-40)</td>\n",
              "      <td>?</td>\n",
              "      <td>1</td>\n",
              "      <td>1</td>\n",
              "      <td>7</td>\n",
              "      <td>2</td>\n",
              "      <td>?</td>\n",
              "      <td>?</td>\n",
              "      <td>44</td>\n",
              "      <td>1</td>\n",
              "      <td>16</td>\n",
              "      <td>0</td>\n",
              "      <td>0</td>\n",
              "      <td>0</td>\n",
              "      <td>8</td>\n",
              "      <td>250.43</td>\n",
              "      <td>403</td>\n",
              "      <td>7</td>\n",
              "      <td>None</td>\n",
              "      <td>None</td>\n",
              "      <td>No</td>\n",
              "      <td>No</td>\n",
              "      <td>No</td>\n",
              "      <td>No</td>\n",
              "      <td>No</td>\n",
              "      <td>No</td>\n",
              "      <td>No</td>\n",
              "      <td>No</td>\n",
              "      <td>No</td>\n",
              "      <td>No</td>\n",
              "      <td>No</td>\n",
              "      <td>No</td>\n",
              "      <td>No</td>\n",
              "      <td>No</td>\n",
              "      <td>No</td>\n",
              "      <td>No</td>\n",
              "      <td>No</td>\n",
              "      <td>Up</td>\n",
              "      <td>No</td>\n",
              "      <td>No</td>\n",
              "      <td>No</td>\n",
              "      <td>No</td>\n",
              "      <td>No</td>\n",
              "      <td>Ch</td>\n",
              "      <td>Yes</td>\n",
              "      <td>NO</td>\n",
              "    </tr>\n",
              "    <tr>\n",
              "      <th>4</th>\n",
              "      <td>16680</td>\n",
              "      <td>42519267</td>\n",
              "      <td>Caucasian</td>\n",
              "      <td>Male</td>\n",
              "      <td>[40-50)</td>\n",
              "      <td>?</td>\n",
              "      <td>1</td>\n",
              "      <td>1</td>\n",
              "      <td>7</td>\n",
              "      <td>1</td>\n",
              "      <td>?</td>\n",
              "      <td>?</td>\n",
              "      <td>51</td>\n",
              "      <td>0</td>\n",
              "      <td>8</td>\n",
              "      <td>0</td>\n",
              "      <td>0</td>\n",
              "      <td>0</td>\n",
              "      <td>197</td>\n",
              "      <td>157</td>\n",
              "      <td>250</td>\n",
              "      <td>5</td>\n",
              "      <td>None</td>\n",
              "      <td>None</td>\n",
              "      <td>No</td>\n",
              "      <td>No</td>\n",
              "      <td>No</td>\n",
              "      <td>No</td>\n",
              "      <td>No</td>\n",
              "      <td>No</td>\n",
              "      <td>Steady</td>\n",
              "      <td>No</td>\n",
              "      <td>No</td>\n",
              "      <td>No</td>\n",
              "      <td>No</td>\n",
              "      <td>No</td>\n",
              "      <td>No</td>\n",
              "      <td>No</td>\n",
              "      <td>No</td>\n",
              "      <td>No</td>\n",
              "      <td>No</td>\n",
              "      <td>Steady</td>\n",
              "      <td>No</td>\n",
              "      <td>No</td>\n",
              "      <td>No</td>\n",
              "      <td>No</td>\n",
              "      <td>No</td>\n",
              "      <td>Ch</td>\n",
              "      <td>Yes</td>\n",
              "      <td>NO</td>\n",
              "    </tr>\n",
              "  </tbody>\n",
              "</table>\n",
              "</div>"
            ],
            "text/plain": [
              "   encounter_id  patient_nbr             race  ... change diabetesMed readmitted\n",
              "0       2278392      8222157        Caucasian  ...     No          No         NO\n",
              "1        149190     55629189        Caucasian  ...     Ch         Yes        >30\n",
              "2         64410     86047875  AfricanAmerican  ...     No         Yes         NO\n",
              "3        500364     82442376        Caucasian  ...     Ch         Yes         NO\n",
              "4         16680     42519267        Caucasian  ...     Ch         Yes         NO\n",
              "\n",
              "[5 rows x 50 columns]"
            ]
          },
          "metadata": {
            "tags": []
          },
          "execution_count": 6
        }
      ]
    },
    {
      "cell_type": "code",
      "metadata": {
        "id": "NL7bTC3vVqY4",
        "colab_type": "code",
        "outputId": "54e4da63-a40b-4566-b117-6bed27931536",
        "colab": {
          "base_uri": "https://localhost:8080/",
          "height": 304
        }
      },
      "source": [
        "df.describe()"
      ],
      "execution_count": 7,
      "outputs": [
        {
          "output_type": "execute_result",
          "data": {
            "text/html": [
              "<div>\n",
              "<style scoped>\n",
              "    .dataframe tbody tr th:only-of-type {\n",
              "        vertical-align: middle;\n",
              "    }\n",
              "\n",
              "    .dataframe tbody tr th {\n",
              "        vertical-align: top;\n",
              "    }\n",
              "\n",
              "    .dataframe thead th {\n",
              "        text-align: right;\n",
              "    }\n",
              "</style>\n",
              "<table border=\"1\" class=\"dataframe\">\n",
              "  <thead>\n",
              "    <tr style=\"text-align: right;\">\n",
              "      <th></th>\n",
              "      <th>encounter_id</th>\n",
              "      <th>patient_nbr</th>\n",
              "      <th>admission_type_id</th>\n",
              "      <th>discharge_disposition_id</th>\n",
              "      <th>admission_source_id</th>\n",
              "      <th>time_in_hospital</th>\n",
              "      <th>num_lab_procedures</th>\n",
              "      <th>num_procedures</th>\n",
              "      <th>num_medications</th>\n",
              "      <th>number_outpatient</th>\n",
              "      <th>number_emergency</th>\n",
              "      <th>number_inpatient</th>\n",
              "      <th>number_diagnoses</th>\n",
              "    </tr>\n",
              "  </thead>\n",
              "  <tbody>\n",
              "    <tr>\n",
              "      <th>count</th>\n",
              "      <td>1.017660e+05</td>\n",
              "      <td>1.017660e+05</td>\n",
              "      <td>101766.000000</td>\n",
              "      <td>101766.000000</td>\n",
              "      <td>101766.000000</td>\n",
              "      <td>101766.000000</td>\n",
              "      <td>101766.000000</td>\n",
              "      <td>101766.000000</td>\n",
              "      <td>101766.000000</td>\n",
              "      <td>101766.000000</td>\n",
              "      <td>101766.000000</td>\n",
              "      <td>101766.000000</td>\n",
              "      <td>101766.000000</td>\n",
              "    </tr>\n",
              "    <tr>\n",
              "      <th>mean</th>\n",
              "      <td>1.652016e+08</td>\n",
              "      <td>5.433040e+07</td>\n",
              "      <td>2.024006</td>\n",
              "      <td>3.715642</td>\n",
              "      <td>5.754437</td>\n",
              "      <td>4.395987</td>\n",
              "      <td>43.095641</td>\n",
              "      <td>1.339730</td>\n",
              "      <td>16.021844</td>\n",
              "      <td>0.369357</td>\n",
              "      <td>0.197836</td>\n",
              "      <td>0.635566</td>\n",
              "      <td>7.422607</td>\n",
              "    </tr>\n",
              "    <tr>\n",
              "      <th>std</th>\n",
              "      <td>1.026403e+08</td>\n",
              "      <td>3.869636e+07</td>\n",
              "      <td>1.445403</td>\n",
              "      <td>5.280166</td>\n",
              "      <td>4.064081</td>\n",
              "      <td>2.985108</td>\n",
              "      <td>19.674362</td>\n",
              "      <td>1.705807</td>\n",
              "      <td>8.127566</td>\n",
              "      <td>1.267265</td>\n",
              "      <td>0.930472</td>\n",
              "      <td>1.262863</td>\n",
              "      <td>1.933600</td>\n",
              "    </tr>\n",
              "    <tr>\n",
              "      <th>min</th>\n",
              "      <td>1.252200e+04</td>\n",
              "      <td>1.350000e+02</td>\n",
              "      <td>1.000000</td>\n",
              "      <td>1.000000</td>\n",
              "      <td>1.000000</td>\n",
              "      <td>1.000000</td>\n",
              "      <td>1.000000</td>\n",
              "      <td>0.000000</td>\n",
              "      <td>1.000000</td>\n",
              "      <td>0.000000</td>\n",
              "      <td>0.000000</td>\n",
              "      <td>0.000000</td>\n",
              "      <td>1.000000</td>\n",
              "    </tr>\n",
              "    <tr>\n",
              "      <th>25%</th>\n",
              "      <td>8.496119e+07</td>\n",
              "      <td>2.341322e+07</td>\n",
              "      <td>1.000000</td>\n",
              "      <td>1.000000</td>\n",
              "      <td>1.000000</td>\n",
              "      <td>2.000000</td>\n",
              "      <td>31.000000</td>\n",
              "      <td>0.000000</td>\n",
              "      <td>10.000000</td>\n",
              "      <td>0.000000</td>\n",
              "      <td>0.000000</td>\n",
              "      <td>0.000000</td>\n",
              "      <td>6.000000</td>\n",
              "    </tr>\n",
              "    <tr>\n",
              "      <th>50%</th>\n",
              "      <td>1.523890e+08</td>\n",
              "      <td>4.550514e+07</td>\n",
              "      <td>1.000000</td>\n",
              "      <td>1.000000</td>\n",
              "      <td>7.000000</td>\n",
              "      <td>4.000000</td>\n",
              "      <td>44.000000</td>\n",
              "      <td>1.000000</td>\n",
              "      <td>15.000000</td>\n",
              "      <td>0.000000</td>\n",
              "      <td>0.000000</td>\n",
              "      <td>0.000000</td>\n",
              "      <td>8.000000</td>\n",
              "    </tr>\n",
              "    <tr>\n",
              "      <th>75%</th>\n",
              "      <td>2.302709e+08</td>\n",
              "      <td>8.754595e+07</td>\n",
              "      <td>3.000000</td>\n",
              "      <td>4.000000</td>\n",
              "      <td>7.000000</td>\n",
              "      <td>6.000000</td>\n",
              "      <td>57.000000</td>\n",
              "      <td>2.000000</td>\n",
              "      <td>20.000000</td>\n",
              "      <td>0.000000</td>\n",
              "      <td>0.000000</td>\n",
              "      <td>1.000000</td>\n",
              "      <td>9.000000</td>\n",
              "    </tr>\n",
              "    <tr>\n",
              "      <th>max</th>\n",
              "      <td>4.438672e+08</td>\n",
              "      <td>1.895026e+08</td>\n",
              "      <td>8.000000</td>\n",
              "      <td>28.000000</td>\n",
              "      <td>25.000000</td>\n",
              "      <td>14.000000</td>\n",
              "      <td>132.000000</td>\n",
              "      <td>6.000000</td>\n",
              "      <td>81.000000</td>\n",
              "      <td>42.000000</td>\n",
              "      <td>76.000000</td>\n",
              "      <td>21.000000</td>\n",
              "      <td>16.000000</td>\n",
              "    </tr>\n",
              "  </tbody>\n",
              "</table>\n",
              "</div>"
            ],
            "text/plain": [
              "       encounter_id   patient_nbr  ...  number_inpatient  number_diagnoses\n",
              "count  1.017660e+05  1.017660e+05  ...     101766.000000     101766.000000\n",
              "mean   1.652016e+08  5.433040e+07  ...          0.635566          7.422607\n",
              "std    1.026403e+08  3.869636e+07  ...          1.262863          1.933600\n",
              "min    1.252200e+04  1.350000e+02  ...          0.000000          1.000000\n",
              "25%    8.496119e+07  2.341322e+07  ...          0.000000          6.000000\n",
              "50%    1.523890e+08  4.550514e+07  ...          0.000000          8.000000\n",
              "75%    2.302709e+08  8.754595e+07  ...          1.000000          9.000000\n",
              "max    4.438672e+08  1.895026e+08  ...         21.000000         16.000000\n",
              "\n",
              "[8 rows x 13 columns]"
            ]
          },
          "metadata": {
            "tags": []
          },
          "execution_count": 7
        }
      ]
    },
    {
      "cell_type": "markdown",
      "metadata": {
        "id": "0XKi1sBcZ98j",
        "colab_type": "text"
      },
      "source": [
        "Check is there is a null values in columns"
      ]
    },
    {
      "cell_type": "code",
      "metadata": {
        "id": "XxhTYn3PWehf",
        "colab_type": "code",
        "outputId": "6a779699-98e0-4a9e-a304-bacabe642845",
        "colab": {
          "base_uri": "https://localhost:8080/",
          "height": 914
        }
      },
      "source": [
        "df.isnull().sum()"
      ],
      "execution_count": 8,
      "outputs": [
        {
          "output_type": "execute_result",
          "data": {
            "text/plain": [
              "encounter_id                0\n",
              "patient_nbr                 0\n",
              "race                        0\n",
              "gender                      0\n",
              "age                         0\n",
              "weight                      0\n",
              "admission_type_id           0\n",
              "discharge_disposition_id    0\n",
              "admission_source_id         0\n",
              "time_in_hospital            0\n",
              "payer_code                  0\n",
              "medical_specialty           0\n",
              "num_lab_procedures          0\n",
              "num_procedures              0\n",
              "num_medications             0\n",
              "number_outpatient           0\n",
              "number_emergency            0\n",
              "number_inpatient            0\n",
              "diag_1                      0\n",
              "diag_2                      0\n",
              "diag_3                      0\n",
              "number_diagnoses            0\n",
              "max_glu_serum               0\n",
              "A1Cresult                   0\n",
              "metformin                   0\n",
              "repaglinide                 0\n",
              "nateglinide                 0\n",
              "chlorpropamide              0\n",
              "glimepiride                 0\n",
              "acetohexamide               0\n",
              "glipizide                   0\n",
              "glyburide                   0\n",
              "tolbutamide                 0\n",
              "pioglitazone                0\n",
              "rosiglitazone               0\n",
              "acarbose                    0\n",
              "miglitol                    0\n",
              "troglitazone                0\n",
              "tolazamide                  0\n",
              "examide                     0\n",
              "citoglipton                 0\n",
              "insulin                     0\n",
              "glyburide-metformin         0\n",
              "glipizide-metformin         0\n",
              "glimepiride-pioglitazone    0\n",
              "metformin-rosiglitazone     0\n",
              "metformin-pioglitazone      0\n",
              "change                      0\n",
              "diabetesMed                 0\n",
              "readmitted                  0\n",
              "dtype: int64"
            ]
          },
          "metadata": {
            "tags": []
          },
          "execution_count": 8
        }
      ]
    },
    {
      "cell_type": "markdown",
      "metadata": {
        "id": "4jJIZNpCaEPS",
        "colab_type": "text"
      },
      "source": [
        "As from the above there is no null values."
      ]
    },
    {
      "cell_type": "markdown",
      "metadata": {
        "id": "aS-pm2ltaJU0",
        "colab_type": "text"
      },
      "source": [
        "Check if there is na value in the dataframe"
      ]
    },
    {
      "cell_type": "code",
      "metadata": {
        "id": "TlXCUJpLYD9I",
        "colab_type": "code",
        "outputId": "623310ae-9b05-453f-979b-1f4be5d27810",
        "colab": {
          "base_uri": "https://localhost:8080/",
          "height": 914
        }
      },
      "source": [
        "df.isna().sum()"
      ],
      "execution_count": 9,
      "outputs": [
        {
          "output_type": "execute_result",
          "data": {
            "text/plain": [
              "encounter_id                0\n",
              "patient_nbr                 0\n",
              "race                        0\n",
              "gender                      0\n",
              "age                         0\n",
              "weight                      0\n",
              "admission_type_id           0\n",
              "discharge_disposition_id    0\n",
              "admission_source_id         0\n",
              "time_in_hospital            0\n",
              "payer_code                  0\n",
              "medical_specialty           0\n",
              "num_lab_procedures          0\n",
              "num_procedures              0\n",
              "num_medications             0\n",
              "number_outpatient           0\n",
              "number_emergency            0\n",
              "number_inpatient            0\n",
              "diag_1                      0\n",
              "diag_2                      0\n",
              "diag_3                      0\n",
              "number_diagnoses            0\n",
              "max_glu_serum               0\n",
              "A1Cresult                   0\n",
              "metformin                   0\n",
              "repaglinide                 0\n",
              "nateglinide                 0\n",
              "chlorpropamide              0\n",
              "glimepiride                 0\n",
              "acetohexamide               0\n",
              "glipizide                   0\n",
              "glyburide                   0\n",
              "tolbutamide                 0\n",
              "pioglitazone                0\n",
              "rosiglitazone               0\n",
              "acarbose                    0\n",
              "miglitol                    0\n",
              "troglitazone                0\n",
              "tolazamide                  0\n",
              "examide                     0\n",
              "citoglipton                 0\n",
              "insulin                     0\n",
              "glyburide-metformin         0\n",
              "glipizide-metformin         0\n",
              "glimepiride-pioglitazone    0\n",
              "metformin-rosiglitazone     0\n",
              "metformin-pioglitazone      0\n",
              "change                      0\n",
              "diabetesMed                 0\n",
              "readmitted                  0\n",
              "dtype: int64"
            ]
          },
          "metadata": {
            "tags": []
          },
          "execution_count": 9
        }
      ]
    },
    {
      "cell_type": "markdown",
      "metadata": {
        "id": "KWUHsfPQaPeL",
        "colab_type": "text"
      },
      "source": [
        "From the above, there is no na value in dataframe"
      ]
    },
    {
      "cell_type": "markdown",
      "metadata": {
        "id": "Dief7bqiacEv",
        "colab_type": "text"
      },
      "source": [
        "From the sample data above, the missing data were marked as '?'. Let see in the dataframe and count them."
      ]
    },
    {
      "cell_type": "code",
      "metadata": {
        "id": "QcgLt1LsYd4P",
        "colab_type": "code",
        "outputId": "ec1be31d-24df-4b7e-ef98-08d0b4c9b5b1",
        "colab": {
          "base_uri": "https://localhost:8080/",
          "height": 914
        }
      },
      "source": [
        "missing_data=df.isin(['?']).sum()\n",
        "missing_data"
      ],
      "execution_count": 10,
      "outputs": [
        {
          "output_type": "execute_result",
          "data": {
            "text/plain": [
              "encounter_id                    0\n",
              "patient_nbr                     0\n",
              "race                         2273\n",
              "gender                          0\n",
              "age                             0\n",
              "weight                      98569\n",
              "admission_type_id               0\n",
              "discharge_disposition_id        0\n",
              "admission_source_id             0\n",
              "time_in_hospital                0\n",
              "payer_code                  40256\n",
              "medical_specialty           49949\n",
              "num_lab_procedures              0\n",
              "num_procedures                  0\n",
              "num_medications                 0\n",
              "number_outpatient               0\n",
              "number_emergency                0\n",
              "number_inpatient                0\n",
              "diag_1                         21\n",
              "diag_2                        358\n",
              "diag_3                       1423\n",
              "number_diagnoses                0\n",
              "max_glu_serum                   0\n",
              "A1Cresult                       0\n",
              "metformin                       0\n",
              "repaglinide                     0\n",
              "nateglinide                     0\n",
              "chlorpropamide                  0\n",
              "glimepiride                     0\n",
              "acetohexamide                   0\n",
              "glipizide                       0\n",
              "glyburide                       0\n",
              "tolbutamide                     0\n",
              "pioglitazone                    0\n",
              "rosiglitazone                   0\n",
              "acarbose                        0\n",
              "miglitol                        0\n",
              "troglitazone                    0\n",
              "tolazamide                      0\n",
              "examide                         0\n",
              "citoglipton                     0\n",
              "insulin                         0\n",
              "glyburide-metformin             0\n",
              "glipizide-metformin             0\n",
              "glimepiride-pioglitazone        0\n",
              "metformin-rosiglitazone         0\n",
              "metformin-pioglitazone          0\n",
              "change                          0\n",
              "diabetesMed                     0\n",
              "readmitted                      0\n",
              "dtype: int64"
            ]
          },
          "metadata": {
            "tags": []
          },
          "execution_count": 10
        }
      ]
    },
    {
      "cell_type": "markdown",
      "metadata": {
        "id": "QibKiGVqf1Wn",
        "colab_type": "text"
      },
      "source": [
        "Calculate the percentage of the missing for the column that has that."
      ]
    },
    {
      "cell_type": "code",
      "metadata": {
        "id": "NxjxxUrwbw-4",
        "colab_type": "code",
        "colab": {}
      },
      "source": [
        "def cal_Percentage(attributeName,missing_data=missing_data,dataFrame=df):\n",
        "    print('{0}: {1:.2f} % missing data'.format(attributeName,missing_data[attributeName]/len(df)*100))"
      ],
      "execution_count": 0,
      "outputs": []
    },
    {
      "cell_type": "code",
      "metadata": {
        "id": "4O6PocIObm3b",
        "colab_type": "code",
        "outputId": "ecddc611-8434-449f-82d1-8d7e08252256",
        "colab": {
          "base_uri": "https://localhost:8080/",
          "height": 140
        }
      },
      "source": [
        "for att in missing_data.keys():\n",
        "  if missing_data[att] > 0:\n",
        "    cal_Percentage(att)"
      ],
      "execution_count": 12,
      "outputs": [
        {
          "output_type": "stream",
          "text": [
            "race: 2.23 % missing data\n",
            "weight: 96.86 % missing data\n",
            "payer_code: 39.56 % missing data\n",
            "medical_specialty: 49.08 % missing data\n",
            "diag_1: 0.02 % missing data\n",
            "diag_2: 0.35 % missing data\n",
            "diag_3: 1.40 % missing data\n"
          ],
          "name": "stdout"
        }
      ]
    },
    {
      "cell_type": "markdown",
      "metadata": {
        "id": "LpW11zUPgHfR",
        "colab_type": "text"
      },
      "source": [
        "From the above, it shows that the follwing attributes has missing data:\n",
        "1.   race 2%\n",
        "2.   weight 97%\n",
        "3.   payer_code 40% \n",
        "4.   medical_specialty 49%\n",
        "5.   diag_1 0.02%\n",
        "6.   diag_2 0.35%\n",
        "7.   diag_3 1.40%\n",
        "\n"
      ]
    },
    {
      "cell_type": "markdown",
      "metadata": {
        "id": "eod_YgmvSCtE",
        "colab_type": "text"
      },
      "source": [
        "##Correlation"
      ]
    },
    {
      "cell_type": "code",
      "metadata": {
        "id": "JonAyBzdSGL6",
        "colab_type": "code",
        "colab": {}
      },
      "source": [
        ""
      ],
      "execution_count": 0,
      "outputs": []
    },
    {
      "cell_type": "markdown",
      "metadata": {
        "id": "VdrCJ4XpR8EN",
        "colab_type": "text"
      },
      "source": [
        "#Dealing With Missing Data"
      ]
    },
    {
      "cell_type": "markdown",
      "metadata": {
        "id": "hKgroCnmkdNT",
        "colab_type": "text"
      },
      "source": [
        "For the attribute 'race', let see the distinct value to see how to deal with the missing values"
      ]
    },
    {
      "cell_type": "code",
      "metadata": {
        "id": "sfzsLT26hoUv",
        "colab_type": "code",
        "outputId": "a75ceded-295d-47d3-e9e4-a238967d65e8",
        "colab": {
          "base_uri": "https://localhost:8080/",
          "height": 140
        }
      },
      "source": [
        "race_values=df['race'].value_counts()\n",
        "race_values"
      ],
      "execution_count": 13,
      "outputs": [
        {
          "output_type": "execute_result",
          "data": {
            "text/plain": [
              "Caucasian          76099\n",
              "AfricanAmerican    19210\n",
              "?                   2273\n",
              "Hispanic            2037\n",
              "Other               1506\n",
              "Asian                641\n",
              "Name: race, dtype: int64"
            ]
          },
          "metadata": {
            "tags": []
          },
          "execution_count": 13
        }
      ]
    },
    {
      "cell_type": "markdown",
      "metadata": {
        "id": "zXurHvfakrZD",
        "colab_type": "text"
      },
      "source": [
        "It could be concluded that the missing values could be replaces with the value Other as it is not a race rethar than 'Caucasian', 'AfricanAmerican', 'Hispanic', and 'Asian'."
      ]
    },
    {
      "cell_type": "markdown",
      "metadata": {
        "id": "m7KYpvgzp72k",
        "colab_type": "text"
      },
      "source": [
        "Now, let replace the missing value '?' with the value 'Other'\n",
        "\n",
        "First, get the key value of the 'Other' and the missing value '?'"
      ]
    },
    {
      "cell_type": "code",
      "metadata": {
        "id": "WmfZ306ulhgQ",
        "colab_type": "code",
        "outputId": "9484c7e7-588c-476e-8ac6-b7b6c787ed24",
        "colab": {
          "base_uri": "https://localhost:8080/",
          "height": 34
        }
      },
      "source": [
        "other_value=race_values.keys()[4]\n",
        "other_value"
      ],
      "execution_count": 14,
      "outputs": [
        {
          "output_type": "execute_result",
          "data": {
            "text/plain": [
              "'Other'"
            ]
          },
          "metadata": {
            "tags": []
          },
          "execution_count": 14
        }
      ]
    },
    {
      "cell_type": "code",
      "metadata": {
        "id": "PLa8bH4jmMuX",
        "colab_type": "code",
        "outputId": "4ac9431e-752f-4c62-fe30-12774981e87c",
        "colab": {
          "base_uri": "https://localhost:8080/",
          "height": 34
        }
      },
      "source": [
        "missing_value=race_values.keys()[2]\n",
        "missing_value"
      ],
      "execution_count": 15,
      "outputs": [
        {
          "output_type": "execute_result",
          "data": {
            "text/plain": [
              "'?'"
            ]
          },
          "metadata": {
            "tags": []
          },
          "execution_count": 15
        }
      ]
    },
    {
      "cell_type": "markdown",
      "metadata": {
        "id": "lCWmDk4IqMlD",
        "colab_type": "text"
      },
      "source": [
        "Replace the '?' with the value 'Other'"
      ]
    },
    {
      "cell_type": "code",
      "metadata": {
        "id": "WUSEVklElw8C",
        "colab_type": "code",
        "colab": {}
      },
      "source": [
        "race_replaced_missing_values = df['race'].replace(missing_value, \n",
        "                 other_value) "
      ],
      "execution_count": 0,
      "outputs": []
    },
    {
      "cell_type": "code",
      "metadata": {
        "id": "9DS0bYiKprIb",
        "colab_type": "code",
        "outputId": "7ebd7eb5-130b-4e46-c124-dda5be4f8c3f",
        "colab": {
          "base_uri": "https://localhost:8080/",
          "height": 228
        }
      },
      "source": [
        "race_replaced_missing_values"
      ],
      "execution_count": 17,
      "outputs": [
        {
          "output_type": "execute_result",
          "data": {
            "text/plain": [
              "0               Caucasian\n",
              "1               Caucasian\n",
              "2         AfricanAmerican\n",
              "3               Caucasian\n",
              "4               Caucasian\n",
              "               ...       \n",
              "101761    AfricanAmerican\n",
              "101762    AfricanAmerican\n",
              "101763          Caucasian\n",
              "101764          Caucasian\n",
              "101765          Caucasian\n",
              "Name: race, Length: 101766, dtype: object"
            ]
          },
          "metadata": {
            "tags": []
          },
          "execution_count": 17
        }
      ]
    },
    {
      "cell_type": "markdown",
      "metadata": {
        "id": "gbNr44KCqTrZ",
        "colab_type": "text"
      },
      "source": [
        "Check the output from the replace function"
      ]
    },
    {
      "cell_type": "code",
      "metadata": {
        "id": "vQkYKPPupj-J",
        "colab_type": "code",
        "outputId": "c5718410-33ff-4ef4-f718-347fa556c920",
        "colab": {
          "base_uri": "https://localhost:8080/",
          "height": 122
        }
      },
      "source": [
        "race_replaced_missing_values.value_counts()"
      ],
      "execution_count": 18,
      "outputs": [
        {
          "output_type": "execute_result",
          "data": {
            "text/plain": [
              "Caucasian          76099\n",
              "AfricanAmerican    19210\n",
              "Other               3779\n",
              "Hispanic            2037\n",
              "Asian                641\n",
              "Name: race, dtype: int64"
            ]
          },
          "metadata": {
            "tags": []
          },
          "execution_count": 18
        }
      ]
    },
    {
      "cell_type": "markdown",
      "metadata": {
        "id": "EkY1Cubwqbp1",
        "colab_type": "text"
      },
      "source": [
        "Assign the output to the column 'race' which has replaced the '?' with 'Other'"
      ]
    },
    {
      "cell_type": "code",
      "metadata": {
        "id": "dP0FZ_7Kl_43",
        "colab_type": "code",
        "colab": {}
      },
      "source": [
        "df['race'] = race_replaced_missing_values"
      ],
      "execution_count": 0,
      "outputs": []
    },
    {
      "cell_type": "markdown",
      "metadata": {
        "id": "ZL-DD39QqrfS",
        "colab_type": "text"
      },
      "source": [
        "Check the distinct values of the column 'race'"
      ]
    },
    {
      "cell_type": "code",
      "metadata": {
        "id": "kfQiGcVnpyDg",
        "colab_type": "code",
        "outputId": "8d52ead1-29da-439b-f305-dfe091dc3625",
        "colab": {
          "base_uri": "https://localhost:8080/",
          "height": 122
        }
      },
      "source": [
        "df['race'].value_counts()"
      ],
      "execution_count": 20,
      "outputs": [
        {
          "output_type": "execute_result",
          "data": {
            "text/plain": [
              "Caucasian          76099\n",
              "AfricanAmerican    19210\n",
              "Other               3779\n",
              "Hispanic            2037\n",
              "Asian                641\n",
              "Name: race, dtype: int64"
            ]
          },
          "metadata": {
            "tags": []
          },
          "execution_count": 20
        }
      ]
    },
    {
      "cell_type": "markdown",
      "metadata": {
        "id": "31brvcb9rRCY",
        "colab_type": "text"
      },
      "source": [
        "So, now the race column has no missing value"
      ]
    },
    {
      "cell_type": "code",
      "metadata": {
        "id": "4DGKQFcNqwJG",
        "colab_type": "code",
        "outputId": "c4ae9f69-5a48-474a-de86-a2e04cfef06e",
        "colab": {
          "base_uri": "https://localhost:8080/",
          "height": 914
        }
      },
      "source": [
        "df.isin([missing_value]).sum()"
      ],
      "execution_count": 21,
      "outputs": [
        {
          "output_type": "execute_result",
          "data": {
            "text/plain": [
              "encounter_id                    0\n",
              "patient_nbr                     0\n",
              "race                            0\n",
              "gender                          0\n",
              "age                             0\n",
              "weight                      98569\n",
              "admission_type_id               0\n",
              "discharge_disposition_id        0\n",
              "admission_source_id             0\n",
              "time_in_hospital                0\n",
              "payer_code                  40256\n",
              "medical_specialty           49949\n",
              "num_lab_procedures              0\n",
              "num_procedures                  0\n",
              "num_medications                 0\n",
              "number_outpatient               0\n",
              "number_emergency                0\n",
              "number_inpatient                0\n",
              "diag_1                         21\n",
              "diag_2                        358\n",
              "diag_3                       1423\n",
              "number_diagnoses                0\n",
              "max_glu_serum                   0\n",
              "A1Cresult                       0\n",
              "metformin                       0\n",
              "repaglinide                     0\n",
              "nateglinide                     0\n",
              "chlorpropamide                  0\n",
              "glimepiride                     0\n",
              "acetohexamide                   0\n",
              "glipizide                       0\n",
              "glyburide                       0\n",
              "tolbutamide                     0\n",
              "pioglitazone                    0\n",
              "rosiglitazone                   0\n",
              "acarbose                        0\n",
              "miglitol                        0\n",
              "troglitazone                    0\n",
              "tolazamide                      0\n",
              "examide                         0\n",
              "citoglipton                     0\n",
              "insulin                         0\n",
              "glyburide-metformin             0\n",
              "glipizide-metformin             0\n",
              "glimepiride-pioglitazone        0\n",
              "metformin-rosiglitazone         0\n",
              "metformin-pioglitazone          0\n",
              "change                          0\n",
              "diabetesMed                     0\n",
              "readmitted                      0\n",
              "dtype: int64"
            ]
          },
          "metadata": {
            "tags": []
          },
          "execution_count": 21
        }
      ]
    },
    {
      "cell_type": "code",
      "metadata": {
        "id": "GbZXnPo3rgBh",
        "colab_type": "code",
        "outputId": "80f195ad-3bb7-4fe3-f378-19439bdec937",
        "colab": {
          "base_uri": "https://localhost:8080/",
          "height": 228
        }
      },
      "source": [
        "df['medical_specialty'].value_counts()"
      ],
      "execution_count": 22,
      "outputs": [
        {
          "output_type": "execute_result",
          "data": {
            "text/plain": [
              "?                                   49949\n",
              "InternalMedicine                    14635\n",
              "Emergency/Trauma                     7565\n",
              "Family/GeneralPractice               7440\n",
              "Cardiology                           5352\n",
              "                                    ...  \n",
              "Pediatrics-InfectiousDiseases           1\n",
              "Proctology                              1\n",
              "SportsMedicine                          1\n",
              "Speech                                  1\n",
              "Surgery-PlasticwithinHeadandNeck        1\n",
              "Name: medical_specialty, Length: 73, dtype: int64"
            ]
          },
          "metadata": {
            "tags": []
          },
          "execution_count": 22
        }
      ]
    },
    {
      "cell_type": "markdown",
      "metadata": {
        "id": "w3WfGma6hlqX",
        "colab_type": "text"
      },
      "source": [
        "Now, for the columns \n",
        "- weight (which is in Weight in pounds)\n",
        "\n",
        "- payer_code (which is an Integer identifier corresponding to 23 distinct values, for example, Blue Cross/Blue Shield, Medicare, and self-pay)\n",
        "\n",
        "- medical_specialty (which is an Integer identifier of a specialty of the admitting physician, corresponding to 84 distinct values, for example, cardiology, internal medicine, family/general practice, and surgeon)\n",
        "\n",
        "are to be deleted as these data could not affecte the predection accuracy. Because the waight column most of the data is missing, 97% missing data. For the other two attributes, payer_code and medical_specialty, are just codes."
      ]
    },
    {
      "cell_type": "code",
      "metadata": {
        "id": "JHzbHSdXh_yX",
        "colab_type": "code",
        "colab": {}
      },
      "source": [
        "df.drop({'weight','payer_code','medical_specialty'}, axis=1, inplace=True)\n"
      ],
      "execution_count": 0,
      "outputs": []
    },
    {
      "cell_type": "markdown",
      "metadata": {
        "id": "XmG3rquEjbt2",
        "colab_type": "text"
      },
      "source": [
        "Check the result of drop function."
      ]
    },
    {
      "cell_type": "code",
      "metadata": {
        "id": "hmsYrTPgiqqH",
        "colab_type": "code",
        "outputId": "bc17cd7b-2cbd-44f7-f907-9289d2e18fb4",
        "colab": {
          "base_uri": "https://localhost:8080/",
          "height": 34
        }
      },
      "source": [
        "df.shape"
      ],
      "execution_count": 24,
      "outputs": [
        {
          "output_type": "execute_result",
          "data": {
            "text/plain": [
              "(101766, 47)"
            ]
          },
          "metadata": {
            "tags": []
          },
          "execution_count": 24
        }
      ]
    },
    {
      "cell_type": "code",
      "metadata": {
        "id": "KuvDs-M9jYDa",
        "colab_type": "code",
        "outputId": "dd99c272-e4d7-4501-ca70-a9ad52948d59",
        "colab": {
          "base_uri": "https://localhost:8080/",
          "height": 316
        }
      },
      "source": [
        "df.head()"
      ],
      "execution_count": 25,
      "outputs": [
        {
          "output_type": "execute_result",
          "data": {
            "text/html": [
              "<div>\n",
              "<style scoped>\n",
              "    .dataframe tbody tr th:only-of-type {\n",
              "        vertical-align: middle;\n",
              "    }\n",
              "\n",
              "    .dataframe tbody tr th {\n",
              "        vertical-align: top;\n",
              "    }\n",
              "\n",
              "    .dataframe thead th {\n",
              "        text-align: right;\n",
              "    }\n",
              "</style>\n",
              "<table border=\"1\" class=\"dataframe\">\n",
              "  <thead>\n",
              "    <tr style=\"text-align: right;\">\n",
              "      <th></th>\n",
              "      <th>encounter_id</th>\n",
              "      <th>patient_nbr</th>\n",
              "      <th>race</th>\n",
              "      <th>gender</th>\n",
              "      <th>age</th>\n",
              "      <th>admission_type_id</th>\n",
              "      <th>discharge_disposition_id</th>\n",
              "      <th>admission_source_id</th>\n",
              "      <th>time_in_hospital</th>\n",
              "      <th>num_lab_procedures</th>\n",
              "      <th>num_procedures</th>\n",
              "      <th>num_medications</th>\n",
              "      <th>number_outpatient</th>\n",
              "      <th>number_emergency</th>\n",
              "      <th>number_inpatient</th>\n",
              "      <th>diag_1</th>\n",
              "      <th>diag_2</th>\n",
              "      <th>diag_3</th>\n",
              "      <th>number_diagnoses</th>\n",
              "      <th>max_glu_serum</th>\n",
              "      <th>A1Cresult</th>\n",
              "      <th>metformin</th>\n",
              "      <th>repaglinide</th>\n",
              "      <th>nateglinide</th>\n",
              "      <th>chlorpropamide</th>\n",
              "      <th>glimepiride</th>\n",
              "      <th>acetohexamide</th>\n",
              "      <th>glipizide</th>\n",
              "      <th>glyburide</th>\n",
              "      <th>tolbutamide</th>\n",
              "      <th>pioglitazone</th>\n",
              "      <th>rosiglitazone</th>\n",
              "      <th>acarbose</th>\n",
              "      <th>miglitol</th>\n",
              "      <th>troglitazone</th>\n",
              "      <th>tolazamide</th>\n",
              "      <th>examide</th>\n",
              "      <th>citoglipton</th>\n",
              "      <th>insulin</th>\n",
              "      <th>glyburide-metformin</th>\n",
              "      <th>glipizide-metformin</th>\n",
              "      <th>glimepiride-pioglitazone</th>\n",
              "      <th>metformin-rosiglitazone</th>\n",
              "      <th>metformin-pioglitazone</th>\n",
              "      <th>change</th>\n",
              "      <th>diabetesMed</th>\n",
              "      <th>readmitted</th>\n",
              "    </tr>\n",
              "  </thead>\n",
              "  <tbody>\n",
              "    <tr>\n",
              "      <th>0</th>\n",
              "      <td>2278392</td>\n",
              "      <td>8222157</td>\n",
              "      <td>Caucasian</td>\n",
              "      <td>Female</td>\n",
              "      <td>[0-10)</td>\n",
              "      <td>6</td>\n",
              "      <td>25</td>\n",
              "      <td>1</td>\n",
              "      <td>1</td>\n",
              "      <td>41</td>\n",
              "      <td>0</td>\n",
              "      <td>1</td>\n",
              "      <td>0</td>\n",
              "      <td>0</td>\n",
              "      <td>0</td>\n",
              "      <td>250.83</td>\n",
              "      <td>?</td>\n",
              "      <td>?</td>\n",
              "      <td>1</td>\n",
              "      <td>None</td>\n",
              "      <td>None</td>\n",
              "      <td>No</td>\n",
              "      <td>No</td>\n",
              "      <td>No</td>\n",
              "      <td>No</td>\n",
              "      <td>No</td>\n",
              "      <td>No</td>\n",
              "      <td>No</td>\n",
              "      <td>No</td>\n",
              "      <td>No</td>\n",
              "      <td>No</td>\n",
              "      <td>No</td>\n",
              "      <td>No</td>\n",
              "      <td>No</td>\n",
              "      <td>No</td>\n",
              "      <td>No</td>\n",
              "      <td>No</td>\n",
              "      <td>No</td>\n",
              "      <td>No</td>\n",
              "      <td>No</td>\n",
              "      <td>No</td>\n",
              "      <td>No</td>\n",
              "      <td>No</td>\n",
              "      <td>No</td>\n",
              "      <td>No</td>\n",
              "      <td>No</td>\n",
              "      <td>NO</td>\n",
              "    </tr>\n",
              "    <tr>\n",
              "      <th>1</th>\n",
              "      <td>149190</td>\n",
              "      <td>55629189</td>\n",
              "      <td>Caucasian</td>\n",
              "      <td>Female</td>\n",
              "      <td>[10-20)</td>\n",
              "      <td>1</td>\n",
              "      <td>1</td>\n",
              "      <td>7</td>\n",
              "      <td>3</td>\n",
              "      <td>59</td>\n",
              "      <td>0</td>\n",
              "      <td>18</td>\n",
              "      <td>0</td>\n",
              "      <td>0</td>\n",
              "      <td>0</td>\n",
              "      <td>276</td>\n",
              "      <td>250.01</td>\n",
              "      <td>255</td>\n",
              "      <td>9</td>\n",
              "      <td>None</td>\n",
              "      <td>None</td>\n",
              "      <td>No</td>\n",
              "      <td>No</td>\n",
              "      <td>No</td>\n",
              "      <td>No</td>\n",
              "      <td>No</td>\n",
              "      <td>No</td>\n",
              "      <td>No</td>\n",
              "      <td>No</td>\n",
              "      <td>No</td>\n",
              "      <td>No</td>\n",
              "      <td>No</td>\n",
              "      <td>No</td>\n",
              "      <td>No</td>\n",
              "      <td>No</td>\n",
              "      <td>No</td>\n",
              "      <td>No</td>\n",
              "      <td>No</td>\n",
              "      <td>Up</td>\n",
              "      <td>No</td>\n",
              "      <td>No</td>\n",
              "      <td>No</td>\n",
              "      <td>No</td>\n",
              "      <td>No</td>\n",
              "      <td>Ch</td>\n",
              "      <td>Yes</td>\n",
              "      <td>&gt;30</td>\n",
              "    </tr>\n",
              "    <tr>\n",
              "      <th>2</th>\n",
              "      <td>64410</td>\n",
              "      <td>86047875</td>\n",
              "      <td>AfricanAmerican</td>\n",
              "      <td>Female</td>\n",
              "      <td>[20-30)</td>\n",
              "      <td>1</td>\n",
              "      <td>1</td>\n",
              "      <td>7</td>\n",
              "      <td>2</td>\n",
              "      <td>11</td>\n",
              "      <td>5</td>\n",
              "      <td>13</td>\n",
              "      <td>2</td>\n",
              "      <td>0</td>\n",
              "      <td>1</td>\n",
              "      <td>648</td>\n",
              "      <td>250</td>\n",
              "      <td>V27</td>\n",
              "      <td>6</td>\n",
              "      <td>None</td>\n",
              "      <td>None</td>\n",
              "      <td>No</td>\n",
              "      <td>No</td>\n",
              "      <td>No</td>\n",
              "      <td>No</td>\n",
              "      <td>No</td>\n",
              "      <td>No</td>\n",
              "      <td>Steady</td>\n",
              "      <td>No</td>\n",
              "      <td>No</td>\n",
              "      <td>No</td>\n",
              "      <td>No</td>\n",
              "      <td>No</td>\n",
              "      <td>No</td>\n",
              "      <td>No</td>\n",
              "      <td>No</td>\n",
              "      <td>No</td>\n",
              "      <td>No</td>\n",
              "      <td>No</td>\n",
              "      <td>No</td>\n",
              "      <td>No</td>\n",
              "      <td>No</td>\n",
              "      <td>No</td>\n",
              "      <td>No</td>\n",
              "      <td>No</td>\n",
              "      <td>Yes</td>\n",
              "      <td>NO</td>\n",
              "    </tr>\n",
              "    <tr>\n",
              "      <th>3</th>\n",
              "      <td>500364</td>\n",
              "      <td>82442376</td>\n",
              "      <td>Caucasian</td>\n",
              "      <td>Male</td>\n",
              "      <td>[30-40)</td>\n",
              "      <td>1</td>\n",
              "      <td>1</td>\n",
              "      <td>7</td>\n",
              "      <td>2</td>\n",
              "      <td>44</td>\n",
              "      <td>1</td>\n",
              "      <td>16</td>\n",
              "      <td>0</td>\n",
              "      <td>0</td>\n",
              "      <td>0</td>\n",
              "      <td>8</td>\n",
              "      <td>250.43</td>\n",
              "      <td>403</td>\n",
              "      <td>7</td>\n",
              "      <td>None</td>\n",
              "      <td>None</td>\n",
              "      <td>No</td>\n",
              "      <td>No</td>\n",
              "      <td>No</td>\n",
              "      <td>No</td>\n",
              "      <td>No</td>\n",
              "      <td>No</td>\n",
              "      <td>No</td>\n",
              "      <td>No</td>\n",
              "      <td>No</td>\n",
              "      <td>No</td>\n",
              "      <td>No</td>\n",
              "      <td>No</td>\n",
              "      <td>No</td>\n",
              "      <td>No</td>\n",
              "      <td>No</td>\n",
              "      <td>No</td>\n",
              "      <td>No</td>\n",
              "      <td>Up</td>\n",
              "      <td>No</td>\n",
              "      <td>No</td>\n",
              "      <td>No</td>\n",
              "      <td>No</td>\n",
              "      <td>No</td>\n",
              "      <td>Ch</td>\n",
              "      <td>Yes</td>\n",
              "      <td>NO</td>\n",
              "    </tr>\n",
              "    <tr>\n",
              "      <th>4</th>\n",
              "      <td>16680</td>\n",
              "      <td>42519267</td>\n",
              "      <td>Caucasian</td>\n",
              "      <td>Male</td>\n",
              "      <td>[40-50)</td>\n",
              "      <td>1</td>\n",
              "      <td>1</td>\n",
              "      <td>7</td>\n",
              "      <td>1</td>\n",
              "      <td>51</td>\n",
              "      <td>0</td>\n",
              "      <td>8</td>\n",
              "      <td>0</td>\n",
              "      <td>0</td>\n",
              "      <td>0</td>\n",
              "      <td>197</td>\n",
              "      <td>157</td>\n",
              "      <td>250</td>\n",
              "      <td>5</td>\n",
              "      <td>None</td>\n",
              "      <td>None</td>\n",
              "      <td>No</td>\n",
              "      <td>No</td>\n",
              "      <td>No</td>\n",
              "      <td>No</td>\n",
              "      <td>No</td>\n",
              "      <td>No</td>\n",
              "      <td>Steady</td>\n",
              "      <td>No</td>\n",
              "      <td>No</td>\n",
              "      <td>No</td>\n",
              "      <td>No</td>\n",
              "      <td>No</td>\n",
              "      <td>No</td>\n",
              "      <td>No</td>\n",
              "      <td>No</td>\n",
              "      <td>No</td>\n",
              "      <td>No</td>\n",
              "      <td>Steady</td>\n",
              "      <td>No</td>\n",
              "      <td>No</td>\n",
              "      <td>No</td>\n",
              "      <td>No</td>\n",
              "      <td>No</td>\n",
              "      <td>Ch</td>\n",
              "      <td>Yes</td>\n",
              "      <td>NO</td>\n",
              "    </tr>\n",
              "  </tbody>\n",
              "</table>\n",
              "</div>"
            ],
            "text/plain": [
              "   encounter_id  patient_nbr             race  ... change diabetesMed  readmitted\n",
              "0       2278392      8222157        Caucasian  ...     No          No          NO\n",
              "1        149190     55629189        Caucasian  ...     Ch         Yes         >30\n",
              "2         64410     86047875  AfricanAmerican  ...     No         Yes          NO\n",
              "3        500364     82442376        Caucasian  ...     Ch         Yes          NO\n",
              "4         16680     42519267        Caucasian  ...     Ch         Yes          NO\n",
              "\n",
              "[5 rows x 47 columns]"
            ]
          },
          "metadata": {
            "tags": []
          },
          "execution_count": 25
        }
      ]
    },
    {
      "cell_type": "code",
      "metadata": {
        "id": "hKBA0adHjdhd",
        "colab_type": "code",
        "outputId": "07f66022-997f-44a2-dc50-a7a159134c44",
        "colab": {
          "base_uri": "https://localhost:8080/",
          "height": 862
        }
      },
      "source": [
        "df.isin([missing_value]).sum()"
      ],
      "execution_count": 26,
      "outputs": [
        {
          "output_type": "execute_result",
          "data": {
            "text/plain": [
              "encounter_id                   0\n",
              "patient_nbr                    0\n",
              "race                           0\n",
              "gender                         0\n",
              "age                            0\n",
              "admission_type_id              0\n",
              "discharge_disposition_id       0\n",
              "admission_source_id            0\n",
              "time_in_hospital               0\n",
              "num_lab_procedures             0\n",
              "num_procedures                 0\n",
              "num_medications                0\n",
              "number_outpatient              0\n",
              "number_emergency               0\n",
              "number_inpatient               0\n",
              "diag_1                        21\n",
              "diag_2                       358\n",
              "diag_3                      1423\n",
              "number_diagnoses               0\n",
              "max_glu_serum                  0\n",
              "A1Cresult                      0\n",
              "metformin                      0\n",
              "repaglinide                    0\n",
              "nateglinide                    0\n",
              "chlorpropamide                 0\n",
              "glimepiride                    0\n",
              "acetohexamide                  0\n",
              "glipizide                      0\n",
              "glyburide                      0\n",
              "tolbutamide                    0\n",
              "pioglitazone                   0\n",
              "rosiglitazone                  0\n",
              "acarbose                       0\n",
              "miglitol                       0\n",
              "troglitazone                   0\n",
              "tolazamide                     0\n",
              "examide                        0\n",
              "citoglipton                    0\n",
              "insulin                        0\n",
              "glyburide-metformin            0\n",
              "glipizide-metformin            0\n",
              "glimepiride-pioglitazone       0\n",
              "metformin-rosiglitazone        0\n",
              "metformin-pioglitazone         0\n",
              "change                         0\n",
              "diabetesMed                    0\n",
              "readmitted                     0\n",
              "dtype: int64"
            ]
          },
          "metadata": {
            "tags": []
          },
          "execution_count": 26
        }
      ]
    },
    {
      "cell_type": "markdown",
      "metadata": {
        "id": "4pgGJ1MgjwZF",
        "colab_type": "text"
      },
      "source": [
        "Now the df has only the follwing columns has missing data remaining:\n",
        "diag_1                        \n",
        "diag_2                        \n",
        "and diag_3"
      ]
    },
    {
      "cell_type": "code",
      "metadata": {
        "id": "BHIoRwXg1hGX",
        "colab_type": "code",
        "colab": {}
      },
      "source": [
        "df.replace(missing_value, np.nan,inplace=True)"
      ],
      "execution_count": 0,
      "outputs": []
    },
    {
      "cell_type": "markdown",
      "metadata": {
        "id": "86PvCHft5MSE",
        "colab_type": "text"
      },
      "source": [
        "Now check if the missing_value '?' is replaced with 'NaN'"
      ]
    },
    {
      "cell_type": "code",
      "metadata": {
        "id": "3Bo85G0U4-bh",
        "colab_type": "code",
        "outputId": "fa077917-174e-400c-8f59-a7355991e7f9",
        "colab": {
          "base_uri": "https://localhost:8080/",
          "height": 862
        }
      },
      "source": [
        "df.isin([missing_value]).sum()"
      ],
      "execution_count": 28,
      "outputs": [
        {
          "output_type": "execute_result",
          "data": {
            "text/plain": [
              "encounter_id                0\n",
              "patient_nbr                 0\n",
              "race                        0\n",
              "gender                      0\n",
              "age                         0\n",
              "admission_type_id           0\n",
              "discharge_disposition_id    0\n",
              "admission_source_id         0\n",
              "time_in_hospital            0\n",
              "num_lab_procedures          0\n",
              "num_procedures              0\n",
              "num_medications             0\n",
              "number_outpatient           0\n",
              "number_emergency            0\n",
              "number_inpatient            0\n",
              "diag_1                      0\n",
              "diag_2                      0\n",
              "diag_3                      0\n",
              "number_diagnoses            0\n",
              "max_glu_serum               0\n",
              "A1Cresult                   0\n",
              "metformin                   0\n",
              "repaglinide                 0\n",
              "nateglinide                 0\n",
              "chlorpropamide              0\n",
              "glimepiride                 0\n",
              "acetohexamide               0\n",
              "glipizide                   0\n",
              "glyburide                   0\n",
              "tolbutamide                 0\n",
              "pioglitazone                0\n",
              "rosiglitazone               0\n",
              "acarbose                    0\n",
              "miglitol                    0\n",
              "troglitazone                0\n",
              "tolazamide                  0\n",
              "examide                     0\n",
              "citoglipton                 0\n",
              "insulin                     0\n",
              "glyburide-metformin         0\n",
              "glipizide-metformin         0\n",
              "glimepiride-pioglitazone    0\n",
              "metformin-rosiglitazone     0\n",
              "metformin-pioglitazone      0\n",
              "change                      0\n",
              "diabetesMed                 0\n",
              "readmitted                  0\n",
              "dtype: int64"
            ]
          },
          "metadata": {
            "tags": []
          },
          "execution_count": 28
        }
      ]
    },
    {
      "cell_type": "code",
      "metadata": {
        "id": "MlYkG7IP5DJf",
        "colab_type": "code",
        "outputId": "0ed939d9-d9de-4a55-c229-5d10879b1f22",
        "colab": {
          "base_uri": "https://localhost:8080/",
          "height": 862
        }
      },
      "source": [
        "df.isna().sum()"
      ],
      "execution_count": 29,
      "outputs": [
        {
          "output_type": "execute_result",
          "data": {
            "text/plain": [
              "encounter_id                   0\n",
              "patient_nbr                    0\n",
              "race                           0\n",
              "gender                         0\n",
              "age                            0\n",
              "admission_type_id              0\n",
              "discharge_disposition_id       0\n",
              "admission_source_id            0\n",
              "time_in_hospital               0\n",
              "num_lab_procedures             0\n",
              "num_procedures                 0\n",
              "num_medications                0\n",
              "number_outpatient              0\n",
              "number_emergency               0\n",
              "number_inpatient               0\n",
              "diag_1                        21\n",
              "diag_2                       358\n",
              "diag_3                      1423\n",
              "number_diagnoses               0\n",
              "max_glu_serum                  0\n",
              "A1Cresult                      0\n",
              "metformin                      0\n",
              "repaglinide                    0\n",
              "nateglinide                    0\n",
              "chlorpropamide                 0\n",
              "glimepiride                    0\n",
              "acetohexamide                  0\n",
              "glipizide                      0\n",
              "glyburide                      0\n",
              "tolbutamide                    0\n",
              "pioglitazone                   0\n",
              "rosiglitazone                  0\n",
              "acarbose                       0\n",
              "miglitol                       0\n",
              "troglitazone                   0\n",
              "tolazamide                     0\n",
              "examide                        0\n",
              "citoglipton                    0\n",
              "insulin                        0\n",
              "glyburide-metformin            0\n",
              "glipizide-metformin            0\n",
              "glimepiride-pioglitazone       0\n",
              "metformin-rosiglitazone        0\n",
              "metformin-pioglitazone         0\n",
              "change                         0\n",
              "diabetesMed                    0\n",
              "readmitted                     0\n",
              "dtype: int64"
            ]
          },
          "metadata": {
            "tags": []
          },
          "execution_count": 29
        }
      ]
    },
    {
      "cell_type": "code",
      "metadata": {
        "id": "ay9jtpSn5jR7",
        "colab_type": "code",
        "outputId": "27585b9c-1089-40ad-e617-a7eff6973290",
        "colab": {
          "base_uri": "https://localhost:8080/",
          "height": 316
        }
      },
      "source": [
        "df.head()"
      ],
      "execution_count": 30,
      "outputs": [
        {
          "output_type": "execute_result",
          "data": {
            "text/html": [
              "<div>\n",
              "<style scoped>\n",
              "    .dataframe tbody tr th:only-of-type {\n",
              "        vertical-align: middle;\n",
              "    }\n",
              "\n",
              "    .dataframe tbody tr th {\n",
              "        vertical-align: top;\n",
              "    }\n",
              "\n",
              "    .dataframe thead th {\n",
              "        text-align: right;\n",
              "    }\n",
              "</style>\n",
              "<table border=\"1\" class=\"dataframe\">\n",
              "  <thead>\n",
              "    <tr style=\"text-align: right;\">\n",
              "      <th></th>\n",
              "      <th>encounter_id</th>\n",
              "      <th>patient_nbr</th>\n",
              "      <th>race</th>\n",
              "      <th>gender</th>\n",
              "      <th>age</th>\n",
              "      <th>admission_type_id</th>\n",
              "      <th>discharge_disposition_id</th>\n",
              "      <th>admission_source_id</th>\n",
              "      <th>time_in_hospital</th>\n",
              "      <th>num_lab_procedures</th>\n",
              "      <th>num_procedures</th>\n",
              "      <th>num_medications</th>\n",
              "      <th>number_outpatient</th>\n",
              "      <th>number_emergency</th>\n",
              "      <th>number_inpatient</th>\n",
              "      <th>diag_1</th>\n",
              "      <th>diag_2</th>\n",
              "      <th>diag_3</th>\n",
              "      <th>number_diagnoses</th>\n",
              "      <th>max_glu_serum</th>\n",
              "      <th>A1Cresult</th>\n",
              "      <th>metformin</th>\n",
              "      <th>repaglinide</th>\n",
              "      <th>nateglinide</th>\n",
              "      <th>chlorpropamide</th>\n",
              "      <th>glimepiride</th>\n",
              "      <th>acetohexamide</th>\n",
              "      <th>glipizide</th>\n",
              "      <th>glyburide</th>\n",
              "      <th>tolbutamide</th>\n",
              "      <th>pioglitazone</th>\n",
              "      <th>rosiglitazone</th>\n",
              "      <th>acarbose</th>\n",
              "      <th>miglitol</th>\n",
              "      <th>troglitazone</th>\n",
              "      <th>tolazamide</th>\n",
              "      <th>examide</th>\n",
              "      <th>citoglipton</th>\n",
              "      <th>insulin</th>\n",
              "      <th>glyburide-metformin</th>\n",
              "      <th>glipizide-metformin</th>\n",
              "      <th>glimepiride-pioglitazone</th>\n",
              "      <th>metformin-rosiglitazone</th>\n",
              "      <th>metformin-pioglitazone</th>\n",
              "      <th>change</th>\n",
              "      <th>diabetesMed</th>\n",
              "      <th>readmitted</th>\n",
              "    </tr>\n",
              "  </thead>\n",
              "  <tbody>\n",
              "    <tr>\n",
              "      <th>0</th>\n",
              "      <td>2278392</td>\n",
              "      <td>8222157</td>\n",
              "      <td>Caucasian</td>\n",
              "      <td>Female</td>\n",
              "      <td>[0-10)</td>\n",
              "      <td>6</td>\n",
              "      <td>25</td>\n",
              "      <td>1</td>\n",
              "      <td>1</td>\n",
              "      <td>41</td>\n",
              "      <td>0</td>\n",
              "      <td>1</td>\n",
              "      <td>0</td>\n",
              "      <td>0</td>\n",
              "      <td>0</td>\n",
              "      <td>250.83</td>\n",
              "      <td>NaN</td>\n",
              "      <td>NaN</td>\n",
              "      <td>1</td>\n",
              "      <td>None</td>\n",
              "      <td>None</td>\n",
              "      <td>No</td>\n",
              "      <td>No</td>\n",
              "      <td>No</td>\n",
              "      <td>No</td>\n",
              "      <td>No</td>\n",
              "      <td>No</td>\n",
              "      <td>No</td>\n",
              "      <td>No</td>\n",
              "      <td>No</td>\n",
              "      <td>No</td>\n",
              "      <td>No</td>\n",
              "      <td>No</td>\n",
              "      <td>No</td>\n",
              "      <td>No</td>\n",
              "      <td>No</td>\n",
              "      <td>No</td>\n",
              "      <td>No</td>\n",
              "      <td>No</td>\n",
              "      <td>No</td>\n",
              "      <td>No</td>\n",
              "      <td>No</td>\n",
              "      <td>No</td>\n",
              "      <td>No</td>\n",
              "      <td>No</td>\n",
              "      <td>No</td>\n",
              "      <td>NO</td>\n",
              "    </tr>\n",
              "    <tr>\n",
              "      <th>1</th>\n",
              "      <td>149190</td>\n",
              "      <td>55629189</td>\n",
              "      <td>Caucasian</td>\n",
              "      <td>Female</td>\n",
              "      <td>[10-20)</td>\n",
              "      <td>1</td>\n",
              "      <td>1</td>\n",
              "      <td>7</td>\n",
              "      <td>3</td>\n",
              "      <td>59</td>\n",
              "      <td>0</td>\n",
              "      <td>18</td>\n",
              "      <td>0</td>\n",
              "      <td>0</td>\n",
              "      <td>0</td>\n",
              "      <td>276</td>\n",
              "      <td>250.01</td>\n",
              "      <td>255</td>\n",
              "      <td>9</td>\n",
              "      <td>None</td>\n",
              "      <td>None</td>\n",
              "      <td>No</td>\n",
              "      <td>No</td>\n",
              "      <td>No</td>\n",
              "      <td>No</td>\n",
              "      <td>No</td>\n",
              "      <td>No</td>\n",
              "      <td>No</td>\n",
              "      <td>No</td>\n",
              "      <td>No</td>\n",
              "      <td>No</td>\n",
              "      <td>No</td>\n",
              "      <td>No</td>\n",
              "      <td>No</td>\n",
              "      <td>No</td>\n",
              "      <td>No</td>\n",
              "      <td>No</td>\n",
              "      <td>No</td>\n",
              "      <td>Up</td>\n",
              "      <td>No</td>\n",
              "      <td>No</td>\n",
              "      <td>No</td>\n",
              "      <td>No</td>\n",
              "      <td>No</td>\n",
              "      <td>Ch</td>\n",
              "      <td>Yes</td>\n",
              "      <td>&gt;30</td>\n",
              "    </tr>\n",
              "    <tr>\n",
              "      <th>2</th>\n",
              "      <td>64410</td>\n",
              "      <td>86047875</td>\n",
              "      <td>AfricanAmerican</td>\n",
              "      <td>Female</td>\n",
              "      <td>[20-30)</td>\n",
              "      <td>1</td>\n",
              "      <td>1</td>\n",
              "      <td>7</td>\n",
              "      <td>2</td>\n",
              "      <td>11</td>\n",
              "      <td>5</td>\n",
              "      <td>13</td>\n",
              "      <td>2</td>\n",
              "      <td>0</td>\n",
              "      <td>1</td>\n",
              "      <td>648</td>\n",
              "      <td>250</td>\n",
              "      <td>V27</td>\n",
              "      <td>6</td>\n",
              "      <td>None</td>\n",
              "      <td>None</td>\n",
              "      <td>No</td>\n",
              "      <td>No</td>\n",
              "      <td>No</td>\n",
              "      <td>No</td>\n",
              "      <td>No</td>\n",
              "      <td>No</td>\n",
              "      <td>Steady</td>\n",
              "      <td>No</td>\n",
              "      <td>No</td>\n",
              "      <td>No</td>\n",
              "      <td>No</td>\n",
              "      <td>No</td>\n",
              "      <td>No</td>\n",
              "      <td>No</td>\n",
              "      <td>No</td>\n",
              "      <td>No</td>\n",
              "      <td>No</td>\n",
              "      <td>No</td>\n",
              "      <td>No</td>\n",
              "      <td>No</td>\n",
              "      <td>No</td>\n",
              "      <td>No</td>\n",
              "      <td>No</td>\n",
              "      <td>No</td>\n",
              "      <td>Yes</td>\n",
              "      <td>NO</td>\n",
              "    </tr>\n",
              "    <tr>\n",
              "      <th>3</th>\n",
              "      <td>500364</td>\n",
              "      <td>82442376</td>\n",
              "      <td>Caucasian</td>\n",
              "      <td>Male</td>\n",
              "      <td>[30-40)</td>\n",
              "      <td>1</td>\n",
              "      <td>1</td>\n",
              "      <td>7</td>\n",
              "      <td>2</td>\n",
              "      <td>44</td>\n",
              "      <td>1</td>\n",
              "      <td>16</td>\n",
              "      <td>0</td>\n",
              "      <td>0</td>\n",
              "      <td>0</td>\n",
              "      <td>8</td>\n",
              "      <td>250.43</td>\n",
              "      <td>403</td>\n",
              "      <td>7</td>\n",
              "      <td>None</td>\n",
              "      <td>None</td>\n",
              "      <td>No</td>\n",
              "      <td>No</td>\n",
              "      <td>No</td>\n",
              "      <td>No</td>\n",
              "      <td>No</td>\n",
              "      <td>No</td>\n",
              "      <td>No</td>\n",
              "      <td>No</td>\n",
              "      <td>No</td>\n",
              "      <td>No</td>\n",
              "      <td>No</td>\n",
              "      <td>No</td>\n",
              "      <td>No</td>\n",
              "      <td>No</td>\n",
              "      <td>No</td>\n",
              "      <td>No</td>\n",
              "      <td>No</td>\n",
              "      <td>Up</td>\n",
              "      <td>No</td>\n",
              "      <td>No</td>\n",
              "      <td>No</td>\n",
              "      <td>No</td>\n",
              "      <td>No</td>\n",
              "      <td>Ch</td>\n",
              "      <td>Yes</td>\n",
              "      <td>NO</td>\n",
              "    </tr>\n",
              "    <tr>\n",
              "      <th>4</th>\n",
              "      <td>16680</td>\n",
              "      <td>42519267</td>\n",
              "      <td>Caucasian</td>\n",
              "      <td>Male</td>\n",
              "      <td>[40-50)</td>\n",
              "      <td>1</td>\n",
              "      <td>1</td>\n",
              "      <td>7</td>\n",
              "      <td>1</td>\n",
              "      <td>51</td>\n",
              "      <td>0</td>\n",
              "      <td>8</td>\n",
              "      <td>0</td>\n",
              "      <td>0</td>\n",
              "      <td>0</td>\n",
              "      <td>197</td>\n",
              "      <td>157</td>\n",
              "      <td>250</td>\n",
              "      <td>5</td>\n",
              "      <td>None</td>\n",
              "      <td>None</td>\n",
              "      <td>No</td>\n",
              "      <td>No</td>\n",
              "      <td>No</td>\n",
              "      <td>No</td>\n",
              "      <td>No</td>\n",
              "      <td>No</td>\n",
              "      <td>Steady</td>\n",
              "      <td>No</td>\n",
              "      <td>No</td>\n",
              "      <td>No</td>\n",
              "      <td>No</td>\n",
              "      <td>No</td>\n",
              "      <td>No</td>\n",
              "      <td>No</td>\n",
              "      <td>No</td>\n",
              "      <td>No</td>\n",
              "      <td>No</td>\n",
              "      <td>Steady</td>\n",
              "      <td>No</td>\n",
              "      <td>No</td>\n",
              "      <td>No</td>\n",
              "      <td>No</td>\n",
              "      <td>No</td>\n",
              "      <td>Ch</td>\n",
              "      <td>Yes</td>\n",
              "      <td>NO</td>\n",
              "    </tr>\n",
              "  </tbody>\n",
              "</table>\n",
              "</div>"
            ],
            "text/plain": [
              "   encounter_id  patient_nbr             race  ... change diabetesMed  readmitted\n",
              "0       2278392      8222157        Caucasian  ...     No          No          NO\n",
              "1        149190     55629189        Caucasian  ...     Ch         Yes         >30\n",
              "2         64410     86047875  AfricanAmerican  ...     No         Yes          NO\n",
              "3        500364     82442376        Caucasian  ...     Ch         Yes          NO\n",
              "4         16680     42519267        Caucasian  ...     Ch         Yes          NO\n",
              "\n",
              "[5 rows x 47 columns]"
            ]
          },
          "metadata": {
            "tags": []
          },
          "execution_count": 30
        }
      ]
    },
    {
      "cell_type": "markdown",
      "metadata": {
        "id": "wSbVDxRz5eLX",
        "colab_type": "text"
      },
      "source": [
        "So, not the '?' is replced with 'NaN'"
      ]
    },
    {
      "cell_type": "markdown",
      "metadata": {
        "id": "PiQJKnL16Jw-",
        "colab_type": "text"
      },
      "source": [
        "Now, delete the rows that has 'NaN'. It is going to delete the rows that has either one 'NaN' value or more in the columns diag_1, diag_2,  and diag_3 as they are only the columns has 'NaN' value."
      ]
    },
    {
      "cell_type": "code",
      "metadata": {
        "id": "70UM2Lq55xKW",
        "colab_type": "code",
        "colab": {}
      },
      "source": [
        "df.dropna(axis=0,inplace=True)"
      ],
      "execution_count": 0,
      "outputs": []
    },
    {
      "cell_type": "markdown",
      "metadata": {
        "id": "2sVOMkjD7FWK",
        "colab_type": "text"
      },
      "source": [
        "Check the result after droping 'NaN'"
      ]
    },
    {
      "cell_type": "code",
      "metadata": {
        "id": "n2TZWjWx582a",
        "colab_type": "code",
        "outputId": "b6a4eb00-4d81-439d-c398-343920bdf592",
        "colab": {
          "base_uri": "https://localhost:8080/",
          "height": 34
        }
      },
      "source": [
        "df.shape"
      ],
      "execution_count": 32,
      "outputs": [
        {
          "output_type": "execute_result",
          "data": {
            "text/plain": [
              "(100244, 47)"
            ]
          },
          "metadata": {
            "tags": []
          },
          "execution_count": 32
        }
      ]
    },
    {
      "cell_type": "code",
      "metadata": {
        "id": "hrMfve4f6B6T",
        "colab_type": "code",
        "outputId": "0ad8259e-343d-4fe4-959d-120531ad7010",
        "colab": {
          "base_uri": "https://localhost:8080/",
          "height": 316
        }
      },
      "source": [
        "df.head()"
      ],
      "execution_count": 33,
      "outputs": [
        {
          "output_type": "execute_result",
          "data": {
            "text/html": [
              "<div>\n",
              "<style scoped>\n",
              "    .dataframe tbody tr th:only-of-type {\n",
              "        vertical-align: middle;\n",
              "    }\n",
              "\n",
              "    .dataframe tbody tr th {\n",
              "        vertical-align: top;\n",
              "    }\n",
              "\n",
              "    .dataframe thead th {\n",
              "        text-align: right;\n",
              "    }\n",
              "</style>\n",
              "<table border=\"1\" class=\"dataframe\">\n",
              "  <thead>\n",
              "    <tr style=\"text-align: right;\">\n",
              "      <th></th>\n",
              "      <th>encounter_id</th>\n",
              "      <th>patient_nbr</th>\n",
              "      <th>race</th>\n",
              "      <th>gender</th>\n",
              "      <th>age</th>\n",
              "      <th>admission_type_id</th>\n",
              "      <th>discharge_disposition_id</th>\n",
              "      <th>admission_source_id</th>\n",
              "      <th>time_in_hospital</th>\n",
              "      <th>num_lab_procedures</th>\n",
              "      <th>num_procedures</th>\n",
              "      <th>num_medications</th>\n",
              "      <th>number_outpatient</th>\n",
              "      <th>number_emergency</th>\n",
              "      <th>number_inpatient</th>\n",
              "      <th>diag_1</th>\n",
              "      <th>diag_2</th>\n",
              "      <th>diag_3</th>\n",
              "      <th>number_diagnoses</th>\n",
              "      <th>max_glu_serum</th>\n",
              "      <th>A1Cresult</th>\n",
              "      <th>metformin</th>\n",
              "      <th>repaglinide</th>\n",
              "      <th>nateglinide</th>\n",
              "      <th>chlorpropamide</th>\n",
              "      <th>glimepiride</th>\n",
              "      <th>acetohexamide</th>\n",
              "      <th>glipizide</th>\n",
              "      <th>glyburide</th>\n",
              "      <th>tolbutamide</th>\n",
              "      <th>pioglitazone</th>\n",
              "      <th>rosiglitazone</th>\n",
              "      <th>acarbose</th>\n",
              "      <th>miglitol</th>\n",
              "      <th>troglitazone</th>\n",
              "      <th>tolazamide</th>\n",
              "      <th>examide</th>\n",
              "      <th>citoglipton</th>\n",
              "      <th>insulin</th>\n",
              "      <th>glyburide-metformin</th>\n",
              "      <th>glipizide-metformin</th>\n",
              "      <th>glimepiride-pioglitazone</th>\n",
              "      <th>metformin-rosiglitazone</th>\n",
              "      <th>metformin-pioglitazone</th>\n",
              "      <th>change</th>\n",
              "      <th>diabetesMed</th>\n",
              "      <th>readmitted</th>\n",
              "    </tr>\n",
              "  </thead>\n",
              "  <tbody>\n",
              "    <tr>\n",
              "      <th>1</th>\n",
              "      <td>149190</td>\n",
              "      <td>55629189</td>\n",
              "      <td>Caucasian</td>\n",
              "      <td>Female</td>\n",
              "      <td>[10-20)</td>\n",
              "      <td>1</td>\n",
              "      <td>1</td>\n",
              "      <td>7</td>\n",
              "      <td>3</td>\n",
              "      <td>59</td>\n",
              "      <td>0</td>\n",
              "      <td>18</td>\n",
              "      <td>0</td>\n",
              "      <td>0</td>\n",
              "      <td>0</td>\n",
              "      <td>276</td>\n",
              "      <td>250.01</td>\n",
              "      <td>255</td>\n",
              "      <td>9</td>\n",
              "      <td>None</td>\n",
              "      <td>None</td>\n",
              "      <td>No</td>\n",
              "      <td>No</td>\n",
              "      <td>No</td>\n",
              "      <td>No</td>\n",
              "      <td>No</td>\n",
              "      <td>No</td>\n",
              "      <td>No</td>\n",
              "      <td>No</td>\n",
              "      <td>No</td>\n",
              "      <td>No</td>\n",
              "      <td>No</td>\n",
              "      <td>No</td>\n",
              "      <td>No</td>\n",
              "      <td>No</td>\n",
              "      <td>No</td>\n",
              "      <td>No</td>\n",
              "      <td>No</td>\n",
              "      <td>Up</td>\n",
              "      <td>No</td>\n",
              "      <td>No</td>\n",
              "      <td>No</td>\n",
              "      <td>No</td>\n",
              "      <td>No</td>\n",
              "      <td>Ch</td>\n",
              "      <td>Yes</td>\n",
              "      <td>&gt;30</td>\n",
              "    </tr>\n",
              "    <tr>\n",
              "      <th>2</th>\n",
              "      <td>64410</td>\n",
              "      <td>86047875</td>\n",
              "      <td>AfricanAmerican</td>\n",
              "      <td>Female</td>\n",
              "      <td>[20-30)</td>\n",
              "      <td>1</td>\n",
              "      <td>1</td>\n",
              "      <td>7</td>\n",
              "      <td>2</td>\n",
              "      <td>11</td>\n",
              "      <td>5</td>\n",
              "      <td>13</td>\n",
              "      <td>2</td>\n",
              "      <td>0</td>\n",
              "      <td>1</td>\n",
              "      <td>648</td>\n",
              "      <td>250</td>\n",
              "      <td>V27</td>\n",
              "      <td>6</td>\n",
              "      <td>None</td>\n",
              "      <td>None</td>\n",
              "      <td>No</td>\n",
              "      <td>No</td>\n",
              "      <td>No</td>\n",
              "      <td>No</td>\n",
              "      <td>No</td>\n",
              "      <td>No</td>\n",
              "      <td>Steady</td>\n",
              "      <td>No</td>\n",
              "      <td>No</td>\n",
              "      <td>No</td>\n",
              "      <td>No</td>\n",
              "      <td>No</td>\n",
              "      <td>No</td>\n",
              "      <td>No</td>\n",
              "      <td>No</td>\n",
              "      <td>No</td>\n",
              "      <td>No</td>\n",
              "      <td>No</td>\n",
              "      <td>No</td>\n",
              "      <td>No</td>\n",
              "      <td>No</td>\n",
              "      <td>No</td>\n",
              "      <td>No</td>\n",
              "      <td>No</td>\n",
              "      <td>Yes</td>\n",
              "      <td>NO</td>\n",
              "    </tr>\n",
              "    <tr>\n",
              "      <th>3</th>\n",
              "      <td>500364</td>\n",
              "      <td>82442376</td>\n",
              "      <td>Caucasian</td>\n",
              "      <td>Male</td>\n",
              "      <td>[30-40)</td>\n",
              "      <td>1</td>\n",
              "      <td>1</td>\n",
              "      <td>7</td>\n",
              "      <td>2</td>\n",
              "      <td>44</td>\n",
              "      <td>1</td>\n",
              "      <td>16</td>\n",
              "      <td>0</td>\n",
              "      <td>0</td>\n",
              "      <td>0</td>\n",
              "      <td>8</td>\n",
              "      <td>250.43</td>\n",
              "      <td>403</td>\n",
              "      <td>7</td>\n",
              "      <td>None</td>\n",
              "      <td>None</td>\n",
              "      <td>No</td>\n",
              "      <td>No</td>\n",
              "      <td>No</td>\n",
              "      <td>No</td>\n",
              "      <td>No</td>\n",
              "      <td>No</td>\n",
              "      <td>No</td>\n",
              "      <td>No</td>\n",
              "      <td>No</td>\n",
              "      <td>No</td>\n",
              "      <td>No</td>\n",
              "      <td>No</td>\n",
              "      <td>No</td>\n",
              "      <td>No</td>\n",
              "      <td>No</td>\n",
              "      <td>No</td>\n",
              "      <td>No</td>\n",
              "      <td>Up</td>\n",
              "      <td>No</td>\n",
              "      <td>No</td>\n",
              "      <td>No</td>\n",
              "      <td>No</td>\n",
              "      <td>No</td>\n",
              "      <td>Ch</td>\n",
              "      <td>Yes</td>\n",
              "      <td>NO</td>\n",
              "    </tr>\n",
              "    <tr>\n",
              "      <th>4</th>\n",
              "      <td>16680</td>\n",
              "      <td>42519267</td>\n",
              "      <td>Caucasian</td>\n",
              "      <td>Male</td>\n",
              "      <td>[40-50)</td>\n",
              "      <td>1</td>\n",
              "      <td>1</td>\n",
              "      <td>7</td>\n",
              "      <td>1</td>\n",
              "      <td>51</td>\n",
              "      <td>0</td>\n",
              "      <td>8</td>\n",
              "      <td>0</td>\n",
              "      <td>0</td>\n",
              "      <td>0</td>\n",
              "      <td>197</td>\n",
              "      <td>157</td>\n",
              "      <td>250</td>\n",
              "      <td>5</td>\n",
              "      <td>None</td>\n",
              "      <td>None</td>\n",
              "      <td>No</td>\n",
              "      <td>No</td>\n",
              "      <td>No</td>\n",
              "      <td>No</td>\n",
              "      <td>No</td>\n",
              "      <td>No</td>\n",
              "      <td>Steady</td>\n",
              "      <td>No</td>\n",
              "      <td>No</td>\n",
              "      <td>No</td>\n",
              "      <td>No</td>\n",
              "      <td>No</td>\n",
              "      <td>No</td>\n",
              "      <td>No</td>\n",
              "      <td>No</td>\n",
              "      <td>No</td>\n",
              "      <td>No</td>\n",
              "      <td>Steady</td>\n",
              "      <td>No</td>\n",
              "      <td>No</td>\n",
              "      <td>No</td>\n",
              "      <td>No</td>\n",
              "      <td>No</td>\n",
              "      <td>Ch</td>\n",
              "      <td>Yes</td>\n",
              "      <td>NO</td>\n",
              "    </tr>\n",
              "    <tr>\n",
              "      <th>5</th>\n",
              "      <td>35754</td>\n",
              "      <td>82637451</td>\n",
              "      <td>Caucasian</td>\n",
              "      <td>Male</td>\n",
              "      <td>[50-60)</td>\n",
              "      <td>2</td>\n",
              "      <td>1</td>\n",
              "      <td>2</td>\n",
              "      <td>3</td>\n",
              "      <td>31</td>\n",
              "      <td>6</td>\n",
              "      <td>16</td>\n",
              "      <td>0</td>\n",
              "      <td>0</td>\n",
              "      <td>0</td>\n",
              "      <td>414</td>\n",
              "      <td>411</td>\n",
              "      <td>250</td>\n",
              "      <td>9</td>\n",
              "      <td>None</td>\n",
              "      <td>None</td>\n",
              "      <td>No</td>\n",
              "      <td>No</td>\n",
              "      <td>No</td>\n",
              "      <td>No</td>\n",
              "      <td>No</td>\n",
              "      <td>No</td>\n",
              "      <td>No</td>\n",
              "      <td>No</td>\n",
              "      <td>No</td>\n",
              "      <td>No</td>\n",
              "      <td>No</td>\n",
              "      <td>No</td>\n",
              "      <td>No</td>\n",
              "      <td>No</td>\n",
              "      <td>No</td>\n",
              "      <td>No</td>\n",
              "      <td>No</td>\n",
              "      <td>Steady</td>\n",
              "      <td>No</td>\n",
              "      <td>No</td>\n",
              "      <td>No</td>\n",
              "      <td>No</td>\n",
              "      <td>No</td>\n",
              "      <td>No</td>\n",
              "      <td>Yes</td>\n",
              "      <td>&gt;30</td>\n",
              "    </tr>\n",
              "  </tbody>\n",
              "</table>\n",
              "</div>"
            ],
            "text/plain": [
              "   encounter_id  patient_nbr             race  ... change diabetesMed  readmitted\n",
              "1        149190     55629189        Caucasian  ...     Ch         Yes         >30\n",
              "2         64410     86047875  AfricanAmerican  ...     No         Yes          NO\n",
              "3        500364     82442376        Caucasian  ...     Ch         Yes          NO\n",
              "4         16680     42519267        Caucasian  ...     Ch         Yes          NO\n",
              "5         35754     82637451        Caucasian  ...     No         Yes         >30\n",
              "\n",
              "[5 rows x 47 columns]"
            ]
          },
          "metadata": {
            "tags": []
          },
          "execution_count": 33
        }
      ]
    },
    {
      "cell_type": "markdown",
      "metadata": {
        "id": "vRNE4Xnu6UkP",
        "colab_type": "text"
      },
      "source": [
        "Check if there is a missing data"
      ]
    },
    {
      "cell_type": "code",
      "metadata": {
        "id": "u4ZILIq26Qb1",
        "colab_type": "code",
        "outputId": "281144b3-1474-4ffd-d230-283a2eb08964",
        "colab": {
          "base_uri": "https://localhost:8080/",
          "height": 862
        }
      },
      "source": [
        "df.isna().sum()"
      ],
      "execution_count": 34,
      "outputs": [
        {
          "output_type": "execute_result",
          "data": {
            "text/plain": [
              "encounter_id                0\n",
              "patient_nbr                 0\n",
              "race                        0\n",
              "gender                      0\n",
              "age                         0\n",
              "admission_type_id           0\n",
              "discharge_disposition_id    0\n",
              "admission_source_id         0\n",
              "time_in_hospital            0\n",
              "num_lab_procedures          0\n",
              "num_procedures              0\n",
              "num_medications             0\n",
              "number_outpatient           0\n",
              "number_emergency            0\n",
              "number_inpatient            0\n",
              "diag_1                      0\n",
              "diag_2                      0\n",
              "diag_3                      0\n",
              "number_diagnoses            0\n",
              "max_glu_serum               0\n",
              "A1Cresult                   0\n",
              "metformin                   0\n",
              "repaglinide                 0\n",
              "nateglinide                 0\n",
              "chlorpropamide              0\n",
              "glimepiride                 0\n",
              "acetohexamide               0\n",
              "glipizide                   0\n",
              "glyburide                   0\n",
              "tolbutamide                 0\n",
              "pioglitazone                0\n",
              "rosiglitazone               0\n",
              "acarbose                    0\n",
              "miglitol                    0\n",
              "troglitazone                0\n",
              "tolazamide                  0\n",
              "examide                     0\n",
              "citoglipton                 0\n",
              "insulin                     0\n",
              "glyburide-metformin         0\n",
              "glipizide-metformin         0\n",
              "glimepiride-pioglitazone    0\n",
              "metformin-rosiglitazone     0\n",
              "metformin-pioglitazone      0\n",
              "change                      0\n",
              "diabetesMed                 0\n",
              "readmitted                  0\n",
              "dtype: int64"
            ]
          },
          "metadata": {
            "tags": []
          },
          "execution_count": 34
        }
      ]
    },
    {
      "cell_type": "markdown",
      "metadata": {
        "id": "7-TDiWNL6egl",
        "colab_type": "text"
      },
      "source": [
        "So, there is no missing data."
      ]
    },
    {
      "cell_type": "markdown",
      "metadata": {
        "id": "GIrkWroe_HV2",
        "colab_type": "text"
      },
      "source": [
        "Now, the ids columns are going to be deleted as there are just ids and cannot affect the predection accuracy. Also, to reduce the data complexity."
      ]
    },
    {
      "cell_type": "code",
      "metadata": {
        "id": "JmqkkjtC6ddi",
        "colab_type": "code",
        "colab": {}
      },
      "source": [
        "df.drop({'encounter_id','patient_nbr','admission_type_id','discharge_disposition_id','admission_source_id'},axis=1,inplace=True)"
      ],
      "execution_count": 0,
      "outputs": []
    },
    {
      "cell_type": "code",
      "metadata": {
        "id": "RjjqvcBj_6mI",
        "colab_type": "code",
        "outputId": "3ed428cf-b0f2-4963-a7b7-bdfe368027d6",
        "colab": {
          "base_uri": "https://localhost:8080/",
          "height": 34
        }
      },
      "source": [
        "df.shape"
      ],
      "execution_count": 36,
      "outputs": [
        {
          "output_type": "execute_result",
          "data": {
            "text/plain": [
              "(100244, 42)"
            ]
          },
          "metadata": {
            "tags": []
          },
          "execution_count": 36
        }
      ]
    },
    {
      "cell_type": "markdown",
      "metadata": {
        "id": "0Kx5OXu0__Vf",
        "colab_type": "text"
      },
      "source": [
        "the df not reduced from 47 columns to 42 after deleting the ids columns"
      ]
    },
    {
      "cell_type": "markdown",
      "metadata": {
        "id": "9G2OL9W_W3SN",
        "colab_type": "text"
      },
      "source": [
        "Now, lebel encode the data object columns only."
      ]
    },
    {
      "cell_type": "code",
      "metadata": {
        "id": "dQhyHTNOAnTG",
        "colab_type": "code",
        "outputId": "6af5a044-aef2-4e32-d758-7439a61799dc",
        "colab": {
          "base_uri": "https://localhost:8080/",
          "height": 175
        }
      },
      "source": [
        "columns_obj=df.select_dtypes(object).columns\n",
        "columns_obj"
      ],
      "execution_count": 37,
      "outputs": [
        {
          "output_type": "execute_result",
          "data": {
            "text/plain": [
              "Index(['race', 'gender', 'age', 'diag_1', 'diag_2', 'diag_3', 'max_glu_serum',\n",
              "       'A1Cresult', 'metformin', 'repaglinide', 'nateglinide',\n",
              "       'chlorpropamide', 'glimepiride', 'acetohexamide', 'glipizide',\n",
              "       'glyburide', 'tolbutamide', 'pioglitazone', 'rosiglitazone', 'acarbose',\n",
              "       'miglitol', 'troglitazone', 'tolazamide', 'examide', 'citoglipton',\n",
              "       'insulin', 'glyburide-metformin', 'glipizide-metformin',\n",
              "       'glimepiride-pioglitazone', 'metformin-rosiglitazone',\n",
              "       'metformin-pioglitazone', 'change', 'diabetesMed', 'readmitted'],\n",
              "      dtype='object')"
            ]
          },
          "metadata": {
            "tags": []
          },
          "execution_count": 37
        }
      ]
    },
    {
      "cell_type": "code",
      "metadata": {
        "id": "YUZGItamGi_a",
        "colab_type": "code",
        "outputId": "077ee75a-662b-42d5-a184-8144f95848d4",
        "colab": {
          "base_uri": "https://localhost:8080/",
          "height": 34
        }
      },
      "source": [
        "attr_their_cat = {}\n",
        "la = LabelEncoder()\n",
        "for column in columns_obj:\n",
        " df[column] = la.fit_transform(df[column])\n",
        " attr_their_cat[column] = la.classes_\n",
        "df.shape"
      ],
      "execution_count": 38,
      "outputs": [
        {
          "output_type": "execute_result",
          "data": {
            "text/plain": [
              "(100244, 42)"
            ]
          },
          "metadata": {
            "tags": []
          },
          "execution_count": 38
        }
      ]
    },
    {
      "cell_type": "code",
      "metadata": {
        "id": "15XSfv7RY0KE",
        "colab_type": "code",
        "outputId": "089a5817-2ae1-4376-d22f-a72d83928c55",
        "colab": {
          "base_uri": "https://localhost:8080/",
          "height": 1000
        }
      },
      "source": [
        "attr_their_cat"
      ],
      "execution_count": 39,
      "outputs": [
        {
          "output_type": "execute_result",
          "data": {
            "text/plain": [
              "{'A1Cresult': array(['>7', '>8', 'None', 'Norm'], dtype=object),\n",
              " 'acarbose': array(['Down', 'No', 'Steady', 'Up'], dtype=object),\n",
              " 'acetohexamide': array(['No', 'Steady'], dtype=object),\n",
              " 'age': array(['[0-10)', '[10-20)', '[20-30)', '[30-40)', '[40-50)', '[50-60)',\n",
              "        '[60-70)', '[70-80)', '[80-90)', '[90-100)'], dtype=object),\n",
              " 'change': array(['Ch', 'No'], dtype=object),\n",
              " 'chlorpropamide': array(['Down', 'No', 'Steady', 'Up'], dtype=object),\n",
              " 'citoglipton': array(['No'], dtype=object),\n",
              " 'diabetesMed': array(['No', 'Yes'], dtype=object),\n",
              " 'diag_1': array(['10', '11', '110', '112', '114', '115', '117', '131', '133', '135',\n",
              "        '136', '141', '142', '143', '145', '146', '147', '148', '149',\n",
              "        '150', '151', '152', '153', '154', '155', '156', '157', '158',\n",
              "        '160', '161', '162', '163', '164', '170', '171', '172', '173',\n",
              "        '174', '175', '179', '180', '182', '183', '184', '185', '187',\n",
              "        '188', '189', '191', '192', '193', '194', '195', '196', '197',\n",
              "        '198', '199', '200', '201', '202', '203', '204', '205', '207',\n",
              "        '208', '210', '211', '212', '214', '215', '216', '217', '218',\n",
              "        '219', '220', '223', '225', '226', '227', '228', '229', '23',\n",
              "        '230', '233', '235', '236', '237', '238', '239', '240', '241',\n",
              "        '242', '244', '245', '246', '250', '250.01', '250.02', '250.03',\n",
              "        '250.1', '250.11', '250.12', '250.13', '250.2', '250.21', '250.22',\n",
              "        '250.23', '250.3', '250.31', '250.32', '250.33', '250.4', '250.41',\n",
              "        '250.42', '250.43', '250.5', '250.51', '250.52', '250.53', '250.6',\n",
              "        '250.7', '250.8', '250.81', '250.82', '250.83', '250.9', '250.91',\n",
              "        '250.92', '250.93', '251', '252', '253', '255', '261', '262',\n",
              "        '263', '266', '27', '271', '272', '273', '274', '275', '276',\n",
              "        '277', '278', '279', '280', '281', '282', '283', '284', '285',\n",
              "        '286', '287', '288', '289', '290', '291', '292', '293', '294',\n",
              "        '295', '296', '297', '298', '299', '3', '300', '301', '303', '304',\n",
              "        '305', '306', '307', '308', '309', '31', '310', '311', '312',\n",
              "        '314', '318', '320', '322', '323', '324', '325', '327', '331',\n",
              "        '332', '333', '334', '335', '336', '337', '338', '34', '340',\n",
              "        '341', '342', '344', '345', '346', '347', '348', '349', '35',\n",
              "        '350', '351', '352', '353', '354', '355', '356', '357', '358',\n",
              "        '359', '36', '360', '361', '362', '363', '365', '366', '368',\n",
              "        '369', '370', '372', '373', '374', '375', '376', '377', '378',\n",
              "        '379', '38', '380', '381', '382', '383', '384', '385', '386',\n",
              "        '388', '389', '39', '391', '394', '395', '396', '397', '398',\n",
              "        '401', '402', '403', '404', '405', '41', '410', '411', '412',\n",
              "        '413', '414', '415', '416', '417', '42', '420', '421', '422',\n",
              "        '423', '424', '425', '426', '427', '428', '429', '430', '431',\n",
              "        '432', '433', '434', '435', '436', '437', '438', '440', '441',\n",
              "        '442', '443', '444', '445', '446', '447', '448', '451', '452',\n",
              "        '453', '454', '455', '456', '457', '458', '459', '461', '462',\n",
              "        '463', '464', '465', '466', '47', '470', '471', '473', '474',\n",
              "        '475', '477', '478', '48', '480', '481', '482', '483', '485',\n",
              "        '486', '487', '49', '490', '491', '492', '493', '494', '495',\n",
              "        '496', '5', '500', '501', '506', '507', '508', '510', '511', '512',\n",
              "        '513', '514', '515', '516', '518', '519', '52', '521', '522',\n",
              "        '523', '524', '526', '527', '528', '529', '53', '530', '531',\n",
              "        '532', '533', '534', '535', '536', '537', '54', '540', '541',\n",
              "        '542', '543', '550', '551', '552', '553', '555', '556', '557',\n",
              "        '558', '560', '562', '564', '565', '566', '567', '568', '569',\n",
              "        '57', '570', '571', '572', '573', '574', '575', '576', '577',\n",
              "        '578', '579', '58', '580', '581', '582', '583', '584', '585',\n",
              "        '586', '588', '590', '591', '592', '593', '594', '595', '596',\n",
              "        '598', '599', '600', '601', '602', '603', '604', '605', '607',\n",
              "        '608', '61', '610', '611', '614', '615', '616', '617', '618',\n",
              "        '619', '620', '621', '622', '623', '625', '626', '627', '632',\n",
              "        '633', '634', '637', '640', '641', '642', '643', '644', '645',\n",
              "        '646', '647', '648', '649', '652', '653', '654', '655', '656',\n",
              "        '657', '658', '659', '66', '660', '661', '663', '664', '665',\n",
              "        '669', '671', '674', '680', '681', '682', '683', '684', '685',\n",
              "        '686', '690', '691', '692', '693', '694', '695', '696', '698', '7',\n",
              "        '70', '700', '703', '704', '705', '706', '707', '708', '709',\n",
              "        '710', '711', '714', '715', '716', '717', '718', '719', '720',\n",
              "        '721', '722', '723', '724', '725', '726', '727', '728', '729',\n",
              "        '730', '731', '732', '733', '734', '735', '736', '737', '738',\n",
              "        '745', '746', '747', '75', '751', '753', '756', '759', '78', '780',\n",
              "        '781', '782', '783', '784', '785', '786', '787', '788', '789',\n",
              "        '79', '790', '791', '792', '793', '794', '795', '796', '797',\n",
              "        '799', '8', '800', '801', '802', '803', '804', '805', '806', '807',\n",
              "        '808', '810', '812', '813', '814', '815', '816', '817', '82',\n",
              "        '820', '821', '822', '823', '824', '825', '826', '827', '831',\n",
              "        '832', '833', '834', '835', '836', '837', '838', '839', '84',\n",
              "        '840', '842', '843', '844', '845', '846', '847', '848', '850',\n",
              "        '851', '852', '853', '854', '860', '861', '862', '863', '864',\n",
              "        '865', '866', '867', '868', '870', '871', '873', '875', '878',\n",
              "        '879', '88', '880', '881', '882', '883', '885', '886', '890',\n",
              "        '891', '892', '893', '895', '897', '9', '903', '904', '906', '911',\n",
              "        '913', '914', '915', '916', '917', '919', '920', '921', '922',\n",
              "        '923', '924', '928', '933', '934', '935', '936', '939', '94',\n",
              "        '941', '942', '944', '945', '952', '955', '957', '958', '959',\n",
              "        '962', '963', '964', '965', '966', '967', '968', '969', '97',\n",
              "        '970', '971', '972', '973', '974', '975', '976', '977', '98',\n",
              "        '980', '982', '983', '986', '987', '988', '989', '990', '991',\n",
              "        '992', '994', '995', '996', '997', '998', '999', 'E909', 'V07',\n",
              "        'V25', 'V26', 'V43', 'V45', 'V51', 'V53', 'V54', 'V55', 'V56',\n",
              "        'V57', 'V58', 'V60', 'V63', 'V66', 'V67', 'V71'], dtype=object),\n",
              " 'diag_2': array(['11', '110', '112', '114', '115', '117', '123', '130', '131',\n",
              "        '135', '136', '137', '138', '140', '141', '145', '150', '151',\n",
              "        '152', '153', '154', '155', '156', '157', '162', '163', '164',\n",
              "        '171', '172', '173', '174', '179', '180', '182', '183', '185',\n",
              "        '186', '188', '189', '191', '192', '193', '195', '196', '197',\n",
              "        '198', '199', '200', '201', '202', '203', '204', '205', '208',\n",
              "        '211', '212', '214', '215', '217', '218', '220', '223', '225',\n",
              "        '226', '227', '228', '232', '233', '235', '238', '239', '240',\n",
              "        '241', '242', '244', '245', '246', '250', '250.01', '250.02',\n",
              "        '250.03', '250.1', '250.11', '250.12', '250.13', '250.2', '250.21',\n",
              "        '250.22', '250.23', '250.3', '250.31', '250.32', '250.33', '250.4',\n",
              "        '250.41', '250.42', '250.43', '250.5', '250.51', '250.52',\n",
              "        '250.53', '250.6', '250.7', '250.8', '250.81', '250.82', '250.83',\n",
              "        '250.9', '250.91', '250.92', '250.93', '251', '252', '253', '255',\n",
              "        '256', '258', '259', '260', '261', '262', '263', '266', '268',\n",
              "        '269', '27', '270', '271', '272', '273', '274', '275', '276',\n",
              "        '277', '278', '279', '280', '281', '282', '283', '284', '285',\n",
              "        '286', '287', '288', '289', '290', '291', '292', '293', '294',\n",
              "        '295', '296', '297', '298', '299', '300', '301', '302', '303',\n",
              "        '304', '305', '306', '307', '308', '309', '31', '310', '311',\n",
              "        '312', '314', '316', '317', '318', '319', '320', '322', '323',\n",
              "        '324', '325', '327', '331', '332', '333', '335', '336', '337',\n",
              "        '338', '34', '340', '341', '342', '343', '344', '345', '346',\n",
              "        '347', '348', '349', '35', '350', '351', '352', '353', '354',\n",
              "        '355', '356', '357', '358', '359', '360', '362', '364', '365',\n",
              "        '366', '368', '369', '372', '373', '374', '376', '377', '378',\n",
              "        '379', '38', '380', '381', '382', '383', '386', '388', '389',\n",
              "        '394', '395', '396', '397', '398', '40', '401', '402', '403',\n",
              "        '404', '405', '41', '410', '411', '412', '413', '414', '415',\n",
              "        '416', '42', '420', '421', '422', '423', '424', '425', '426',\n",
              "        '427', '428', '429', '430', '431', '432', '433', '434', '435',\n",
              "        '436', '437', '438', '440', '441', '442', '443', '444', '446',\n",
              "        '447', '448', '451', '452', '453', '454', '455', '456', '457',\n",
              "        '458', '459', '46', '460', '461', '462', '463', '464', '465',\n",
              "        '466', '470', '472', '473', '474', '475', '477', '478', '480',\n",
              "        '481', '482', '483', '484', '485', '486', '487', '490', '491',\n",
              "        '492', '493', '494', '495', '496', '5', '500', '501', '506', '507',\n",
              "        '508', '510', '511', '512', '513', '514', '515', '516', '517',\n",
              "        '518', '519', '52', '520', '521', '522', '523', '524', '527',\n",
              "        '528', '529', '53', '530', '531', '532', '533', '534', '535',\n",
              "        '536', '537', '54', '540', '542', '543', '550', '552', '553',\n",
              "        '555', '556', '557', '558', '560', '562', '564', '565', '566',\n",
              "        '567', '568', '569', '570', '571', '572', '573', '574', '575',\n",
              "        '576', '577', '578', '579', '580', '581', '583', '584', '585',\n",
              "        '586', '588', '590', '591', '592', '593', '594', '595', '596',\n",
              "        '598', '599', '600', '601', '602', '603', '604', '607', '608',\n",
              "        '610', '611', '614', '615', '616', '617', '618', '619', '620',\n",
              "        '621', '622', '623', '625', '626', '627', '634', '641', '642',\n",
              "        '644', '645', '646', '647', '648', '649', '652', '654', '656',\n",
              "        '658', '659', '66', '661', '663', '664', '665', '670', '674',\n",
              "        '680', '681', '682', '683', '684', '685', '686', '691', '692',\n",
              "        '693', '694', '695', '696', '698', '7', '70', '701', '702', '703',\n",
              "        '705', '706', '707', '709', '710', '711', '712', '713', '714',\n",
              "        '715', '716', '717', '718', '719', '721', '722', '723', '724',\n",
              "        '725', '726', '727', '728', '729', '730', '731', '733', '734',\n",
              "        '736', '737', '738', '741', '742', '745', '746', '747', '748',\n",
              "        '75', '750', '751', '753', '754', '755', '756', '758', '759', '78',\n",
              "        '780', '781', '782', '783', '784', '785', '786', '787', '788',\n",
              "        '789', '79', '790', '791', '792', '793', '794', '795', '796',\n",
              "        '797', '799', '8', '800', '801', '802', '805', '806', '807', '808',\n",
              "        '810', '811', '812', '813', '814', '815', '816', '820', '821',\n",
              "        '822', '823', '824', '825', '826', '831', '832', '833', '836',\n",
              "        '837', '840', '842', '843', '844', '845', '846', '847', '850',\n",
              "        '851', '852', '853', '860', '861', '862', '863', '864', '865',\n",
              "        '866', '867', '868', '869', '870', '871', '872', '873', '879',\n",
              "        '88', '880', '881', '882', '883', '884', '891', '892', '893',\n",
              "        '894', '9', '905', '906', '907', '908', '909', '910', '911', '912',\n",
              "        '913', '915', '916', '917', '918', '919', '920', '921', '922',\n",
              "        '923', '924', '927', '933', '934', '94', '942', '944', '945',\n",
              "        '947', '948', '952', '953', '955', '958', '959', '96', '962',\n",
              "        '963', '965', '967', '968', '969', '972', '974', '975', '977',\n",
              "        '980', '987', '989', '99', '990', '991', '992', '994', '995',\n",
              "        '996', '997', '998', '999', 'E812', 'E813', 'E814', 'E816', 'E817',\n",
              "        'E818', 'E819', 'E821', 'E826', 'E829', 'E849', 'E850', 'E853',\n",
              "        'E854', 'E858', 'E868', 'E870', 'E878', 'E879', 'E880', 'E881',\n",
              "        'E882', 'E883', 'E884', 'E885', 'E887', 'E888', 'E890', 'E900',\n",
              "        'E905', 'E906', 'E915', 'E916', 'E917', 'E918', 'E919', 'E924',\n",
              "        'E927', 'E928', 'E929', 'E930', 'E931', 'E932', 'E933', 'E934',\n",
              "        'E935', 'E936', 'E937', 'E938', 'E939', 'E941', 'E942', 'E944',\n",
              "        'E945', 'E947', 'E950', 'E965', 'E968', 'E980', 'V02', 'V08',\n",
              "        'V09', 'V10', 'V11', 'V12', 'V13', 'V14', 'V15', 'V16', 'V17',\n",
              "        'V18', 'V23', 'V25', 'V42', 'V43', 'V44', 'V45', 'V46', 'V49',\n",
              "        'V50', 'V53', 'V54', 'V55', 'V57', 'V58', 'V60', 'V61', 'V62',\n",
              "        'V63', 'V64', 'V65', 'V66', 'V69', 'V70', 'V72', 'V85', 'V86'],\n",
              "       dtype=object),\n",
              " 'diag_3': array(['11', '110', '111', '112', '115', '117', '122', '123', '131',\n",
              "        '132', '135', '136', '138', '139', '14', '141', '146', '148',\n",
              "        '150', '151', '152', '153', '154', '155', '156', '157', '158',\n",
              "        '161', '162', '163', '164', '17', '170', '171', '172', '173',\n",
              "        '174', '175', '179', '180', '182', '183', '185', '186', '188',\n",
              "        '189', '191', '192', '193', '195', '196', '197', '198', '199',\n",
              "        '200', '201', '202', '203', '204', '205', '208', '211', '214',\n",
              "        '215', '216', '217', '218', '220', '223', '225', '226', '227',\n",
              "        '228', '230', '233', '235', '236', '238', '239', '240', '241',\n",
              "        '242', '243', '244', '245', '246', '250', '250.01', '250.02',\n",
              "        '250.03', '250.1', '250.11', '250.12', '250.13', '250.2', '250.21',\n",
              "        '250.22', '250.23', '250.3', '250.31', '250.4', '250.41', '250.42',\n",
              "        '250.43', '250.5', '250.51', '250.52', '250.53', '250.6', '250.7',\n",
              "        '250.8', '250.81', '250.82', '250.83', '250.9', '250.91', '250.92',\n",
              "        '250.93', '251', '252', '253', '255', '256', '258', '259', '260',\n",
              "        '261', '262', '263', '265', '266', '268', '27', '270', '271',\n",
              "        '272', '273', '274', '275', '276', '277', '278', '279', '280',\n",
              "        '281', '282', '283', '284', '285', '286', '287', '288', '289',\n",
              "        '290', '291', '292', '293', '294', '295', '296', '297', '298',\n",
              "        '299', '3', '300', '301', '303', '304', '305', '306', '307', '308',\n",
              "        '309', '310', '311', '312', '313', '314', '315', '317', '318',\n",
              "        '319', '323', '327', '331', '332', '333', '334', '335', '336',\n",
              "        '337', '338', '34', '340', '341', '342', '343', '344', '345',\n",
              "        '346', '347', '348', '349', '35', '350', '351', '353', '354',\n",
              "        '355', '356', '357', '358', '359', '360', '361', '362', '365',\n",
              "        '365.44', '366', '368', '369', '370', '372', '373', '374', '376',\n",
              "        '377', '378', '379', '38', '380', '381', '382', '383', '384',\n",
              "        '385', '386', '387', '388', '389', '391', '394', '395', '396',\n",
              "        '397', '398', '401', '402', '403', '404', '405', '41', '410',\n",
              "        '411', '412', '413', '414', '415', '416', '417', '42', '420',\n",
              "        '421', '423', '424', '425', '426', '427', '428', '429', '430',\n",
              "        '431', '432', '433', '434', '435', '436', '437', '438', '440',\n",
              "        '441', '442', '443', '444', '445', '446', '447', '448', '451',\n",
              "        '452', '453', '454', '455', '456', '457', '458', '459', '460',\n",
              "        '461', '462', '463', '464', '465', '466', '47', '470', '472',\n",
              "        '473', '475', '477', '478', '480', '481', '482', '483', '484',\n",
              "        '485', '486', '487', '49', '490', '491', '492', '493', '494',\n",
              "        '495', '496', '5', '500', '501', '506', '507', '508', '510', '511',\n",
              "        '512', '514', '515', '516', '517', '518', '519', '521', '522',\n",
              "        '523', '524', '525', '527', '528', '529', '53', '530', '531',\n",
              "        '532', '533', '534', '535', '536', '537', '538', '54', '540',\n",
              "        '542', '543', '550', '552', '553', '555', '556', '557', '558',\n",
              "        '560', '562', '564', '565', '566', '567', '568', '569', '57',\n",
              "        '570', '571', '572', '573', '574', '575', '576', '577', '578',\n",
              "        '579', '580', '581', '582', '583', '584', '585', '586', '588',\n",
              "        '590', '591', '592', '593', '594', '595', '596', '597', '598',\n",
              "        '599', '600', '601', '602', '603', '604', '605', '607', '608',\n",
              "        '610', '611', '614', '616', '617', '618', '619', '620', '621',\n",
              "        '622', '623', '624', '625', '626', '627', '641', '642', '643',\n",
              "        '644', '646', '647', '648', '649', '652', '653', '654', '655',\n",
              "        '656', '657', '658', '659', '66', '660', '661', '663', '664',\n",
              "        '665', '669', '670', '671', '674', '680', '681', '682', '684',\n",
              "        '685', '686', '690', '692', '693', '694', '695', '696', '697',\n",
              "        '698', '7', '70', '701', '702', '703', '704', '705', '706', '707',\n",
              "        '708', '709', '710', '711', '712', '713', '714', '715', '716',\n",
              "        '717', '718', '719', '720', '721', '722', '723', '724', '725',\n",
              "        '726', '727', '728', '729', '730', '731', '732', '733', '734',\n",
              "        '735', '736', '737', '738', '741', '742', '744', '745', '746',\n",
              "        '747', '75', '750', '751', '752', '753', '754', '755', '756',\n",
              "        '757', '758', '759', '78', '780', '781', '782', '783', '784',\n",
              "        '785', '786', '787', '788', '789', '79', '790', '791', '792',\n",
              "        '793', '794', '795', '796', '797', '799', '8', '800', '801', '802',\n",
              "        '805', '807', '808', '810', '811', '812', '813', '814', '815',\n",
              "        '816', '820', '821', '822', '823', '824', '825', '826', '831',\n",
              "        '834', '836', '837', '838', '840', '841', '842', '844', '845',\n",
              "        '847', '848', '850', '851', '852', '853', '854', '860', '861',\n",
              "        '862', '863', '864', '865', '866', '867', '868', '870', '871',\n",
              "        '872', '873', '875', '876', '877', '879', '88', '880', '881',\n",
              "        '882', '883', '884', '890', '891', '892', '893', '9', '905', '906',\n",
              "        '907', '908', '909', '910', '911', '912', '913', '915', '916',\n",
              "        '917', '918', '919', '920', '921', '922', '923', '924', '928',\n",
              "        '930', '933', '934', '935', '94', '942', '943', '944', '945',\n",
              "        '948', '951', '952', '953', '955', '956', '958', '959', '962',\n",
              "        '965', '966', '967', '969', '970', '971', '972', '980', '987',\n",
              "        '989', '991', '992', '995', '996', '997', '998', '999', 'E812',\n",
              "        'E813', 'E815', 'E816', 'E817', 'E818', 'E819', 'E822', 'E825',\n",
              "        'E826', 'E828', 'E849', 'E850', 'E852', 'E853', 'E854', 'E855',\n",
              "        'E858', 'E861', 'E864', 'E865', 'E870', 'E876', 'E878', 'E879',\n",
              "        'E880', 'E881', 'E882', 'E883', 'E884', 'E885', 'E886', 'E887',\n",
              "        'E888', 'E892', 'E894', 'E900', 'E901', 'E904', 'E905', 'E906',\n",
              "        'E912', 'E915', 'E916', 'E917', 'E919', 'E920', 'E922', 'E924',\n",
              "        'E927', 'E928', 'E929', 'E930', 'E931', 'E932', 'E933', 'E934',\n",
              "        'E935', 'E936', 'E937', 'E938', 'E939', 'E941', 'E942', 'E943',\n",
              "        'E944', 'E945', 'E946', 'E947', 'E949', 'E950', 'E955', 'E956',\n",
              "        'E965', 'E966', 'E980', 'E987', 'V01', 'V02', 'V03', 'V06', 'V07',\n",
              "        'V08', 'V09', 'V10', 'V11', 'V12', 'V13', 'V14', 'V15', 'V16',\n",
              "        'V17', 'V18', 'V22', 'V23', 'V25', 'V27', 'V42', 'V43', 'V44',\n",
              "        'V45', 'V46', 'V49', 'V53', 'V54', 'V55', 'V57', 'V58', 'V60',\n",
              "        'V61', 'V62', 'V63', 'V64', 'V65', 'V66', 'V70', 'V72', 'V85',\n",
              "        'V86'], dtype=object),\n",
              " 'examide': array(['No'], dtype=object),\n",
              " 'gender': array(['Female', 'Male', 'Unknown/Invalid'], dtype=object),\n",
              " 'glimepiride': array(['Down', 'No', 'Steady', 'Up'], dtype=object),\n",
              " 'glimepiride-pioglitazone': array(['No', 'Steady'], dtype=object),\n",
              " 'glipizide': array(['Down', 'No', 'Steady', 'Up'], dtype=object),\n",
              " 'glipizide-metformin': array(['No', 'Steady'], dtype=object),\n",
              " 'glyburide': array(['Down', 'No', 'Steady', 'Up'], dtype=object),\n",
              " 'glyburide-metformin': array(['Down', 'No', 'Steady', 'Up'], dtype=object),\n",
              " 'insulin': array(['Down', 'No', 'Steady', 'Up'], dtype=object),\n",
              " 'max_glu_serum': array(['>200', '>300', 'None', 'Norm'], dtype=object),\n",
              " 'metformin': array(['Down', 'No', 'Steady', 'Up'], dtype=object),\n",
              " 'metformin-pioglitazone': array(['No', 'Steady'], dtype=object),\n",
              " 'metformin-rosiglitazone': array(['No', 'Steady'], dtype=object),\n",
              " 'miglitol': array(['Down', 'No', 'Steady', 'Up'], dtype=object),\n",
              " 'nateglinide': array(['Down', 'No', 'Steady', 'Up'], dtype=object),\n",
              " 'pioglitazone': array(['Down', 'No', 'Steady', 'Up'], dtype=object),\n",
              " 'race': array(['AfricanAmerican', 'Asian', 'Caucasian', 'Hispanic', 'Other'],\n",
              "       dtype=object),\n",
              " 'readmitted': array(['<30', '>30', 'NO'], dtype=object),\n",
              " 'repaglinide': array(['Down', 'No', 'Steady', 'Up'], dtype=object),\n",
              " 'rosiglitazone': array(['Down', 'No', 'Steady', 'Up'], dtype=object),\n",
              " 'tolazamide': array(['No', 'Steady', 'Up'], dtype=object),\n",
              " 'tolbutamide': array(['No', 'Steady'], dtype=object),\n",
              " 'troglitazone': array(['No', 'Steady'], dtype=object)}"
            ]
          },
          "metadata": {
            "tags": []
          },
          "execution_count": 39
        }
      ]
    },
    {
      "cell_type": "code",
      "metadata": {
        "id": "nZ-BvqANUoRf",
        "colab_type": "code",
        "outputId": "d85386fe-1de9-4794-ef65-81e66409cc8d",
        "colab": {
          "base_uri": "https://localhost:8080/",
          "height": 232
        }
      },
      "source": [
        "df.head() "
      ],
      "execution_count": 40,
      "outputs": [
        {
          "output_type": "execute_result",
          "data": {
            "text/html": [
              "<div>\n",
              "<style scoped>\n",
              "    .dataframe tbody tr th:only-of-type {\n",
              "        vertical-align: middle;\n",
              "    }\n",
              "\n",
              "    .dataframe tbody tr th {\n",
              "        vertical-align: top;\n",
              "    }\n",
              "\n",
              "    .dataframe thead th {\n",
              "        text-align: right;\n",
              "    }\n",
              "</style>\n",
              "<table border=\"1\" class=\"dataframe\">\n",
              "  <thead>\n",
              "    <tr style=\"text-align: right;\">\n",
              "      <th></th>\n",
              "      <th>race</th>\n",
              "      <th>gender</th>\n",
              "      <th>age</th>\n",
              "      <th>time_in_hospital</th>\n",
              "      <th>num_lab_procedures</th>\n",
              "      <th>num_procedures</th>\n",
              "      <th>num_medications</th>\n",
              "      <th>number_outpatient</th>\n",
              "      <th>number_emergency</th>\n",
              "      <th>number_inpatient</th>\n",
              "      <th>diag_1</th>\n",
              "      <th>diag_2</th>\n",
              "      <th>diag_3</th>\n",
              "      <th>number_diagnoses</th>\n",
              "      <th>max_glu_serum</th>\n",
              "      <th>A1Cresult</th>\n",
              "      <th>metformin</th>\n",
              "      <th>repaglinide</th>\n",
              "      <th>nateglinide</th>\n",
              "      <th>chlorpropamide</th>\n",
              "      <th>glimepiride</th>\n",
              "      <th>acetohexamide</th>\n",
              "      <th>glipizide</th>\n",
              "      <th>glyburide</th>\n",
              "      <th>tolbutamide</th>\n",
              "      <th>pioglitazone</th>\n",
              "      <th>rosiglitazone</th>\n",
              "      <th>acarbose</th>\n",
              "      <th>miglitol</th>\n",
              "      <th>troglitazone</th>\n",
              "      <th>tolazamide</th>\n",
              "      <th>examide</th>\n",
              "      <th>citoglipton</th>\n",
              "      <th>insulin</th>\n",
              "      <th>glyburide-metformin</th>\n",
              "      <th>glipizide-metformin</th>\n",
              "      <th>glimepiride-pioglitazone</th>\n",
              "      <th>metformin-rosiglitazone</th>\n",
              "      <th>metformin-pioglitazone</th>\n",
              "      <th>change</th>\n",
              "      <th>diabetesMed</th>\n",
              "      <th>readmitted</th>\n",
              "    </tr>\n",
              "  </thead>\n",
              "  <tbody>\n",
              "    <tr>\n",
              "      <th>1</th>\n",
              "      <td>2</td>\n",
              "      <td>0</td>\n",
              "      <td>1</td>\n",
              "      <td>3</td>\n",
              "      <td>59</td>\n",
              "      <td>0</td>\n",
              "      <td>18</td>\n",
              "      <td>0</td>\n",
              "      <td>0</td>\n",
              "      <td>0</td>\n",
              "      <td>143</td>\n",
              "      <td>78</td>\n",
              "      <td>121</td>\n",
              "      <td>9</td>\n",
              "      <td>2</td>\n",
              "      <td>2</td>\n",
              "      <td>1</td>\n",
              "      <td>1</td>\n",
              "      <td>1</td>\n",
              "      <td>1</td>\n",
              "      <td>1</td>\n",
              "      <td>0</td>\n",
              "      <td>1</td>\n",
              "      <td>1</td>\n",
              "      <td>0</td>\n",
              "      <td>1</td>\n",
              "      <td>1</td>\n",
              "      <td>1</td>\n",
              "      <td>1</td>\n",
              "      <td>0</td>\n",
              "      <td>0</td>\n",
              "      <td>0</td>\n",
              "      <td>0</td>\n",
              "      <td>3</td>\n",
              "      <td>1</td>\n",
              "      <td>0</td>\n",
              "      <td>0</td>\n",
              "      <td>0</td>\n",
              "      <td>0</td>\n",
              "      <td>0</td>\n",
              "      <td>1</td>\n",
              "      <td>1</td>\n",
              "    </tr>\n",
              "    <tr>\n",
              "      <th>2</th>\n",
              "      <td>0</td>\n",
              "      <td>0</td>\n",
              "      <td>2</td>\n",
              "      <td>2</td>\n",
              "      <td>11</td>\n",
              "      <td>5</td>\n",
              "      <td>13</td>\n",
              "      <td>2</td>\n",
              "      <td>0</td>\n",
              "      <td>1</td>\n",
              "      <td>454</td>\n",
              "      <td>77</td>\n",
              "      <td>766</td>\n",
              "      <td>6</td>\n",
              "      <td>2</td>\n",
              "      <td>2</td>\n",
              "      <td>1</td>\n",
              "      <td>1</td>\n",
              "      <td>1</td>\n",
              "      <td>1</td>\n",
              "      <td>1</td>\n",
              "      <td>0</td>\n",
              "      <td>2</td>\n",
              "      <td>1</td>\n",
              "      <td>0</td>\n",
              "      <td>1</td>\n",
              "      <td>1</td>\n",
              "      <td>1</td>\n",
              "      <td>1</td>\n",
              "      <td>0</td>\n",
              "      <td>0</td>\n",
              "      <td>0</td>\n",
              "      <td>0</td>\n",
              "      <td>1</td>\n",
              "      <td>1</td>\n",
              "      <td>0</td>\n",
              "      <td>0</td>\n",
              "      <td>0</td>\n",
              "      <td>0</td>\n",
              "      <td>1</td>\n",
              "      <td>1</td>\n",
              "      <td>2</td>\n",
              "    </tr>\n",
              "    <tr>\n",
              "      <th>3</th>\n",
              "      <td>2</td>\n",
              "      <td>1</td>\n",
              "      <td>3</td>\n",
              "      <td>2</td>\n",
              "      <td>44</td>\n",
              "      <td>1</td>\n",
              "      <td>16</td>\n",
              "      <td>0</td>\n",
              "      <td>0</td>\n",
              "      <td>0</td>\n",
              "      <td>554</td>\n",
              "      <td>96</td>\n",
              "      <td>248</td>\n",
              "      <td>7</td>\n",
              "      <td>2</td>\n",
              "      <td>2</td>\n",
              "      <td>1</td>\n",
              "      <td>1</td>\n",
              "      <td>1</td>\n",
              "      <td>1</td>\n",
              "      <td>1</td>\n",
              "      <td>0</td>\n",
              "      <td>1</td>\n",
              "      <td>1</td>\n",
              "      <td>0</td>\n",
              "      <td>1</td>\n",
              "      <td>1</td>\n",
              "      <td>1</td>\n",
              "      <td>1</td>\n",
              "      <td>0</td>\n",
              "      <td>0</td>\n",
              "      <td>0</td>\n",
              "      <td>0</td>\n",
              "      <td>3</td>\n",
              "      <td>1</td>\n",
              "      <td>0</td>\n",
              "      <td>0</td>\n",
              "      <td>0</td>\n",
              "      <td>0</td>\n",
              "      <td>0</td>\n",
              "      <td>1</td>\n",
              "      <td>2</td>\n",
              "    </tr>\n",
              "    <tr>\n",
              "      <th>4</th>\n",
              "      <td>2</td>\n",
              "      <td>1</td>\n",
              "      <td>4</td>\n",
              "      <td>1</td>\n",
              "      <td>51</td>\n",
              "      <td>0</td>\n",
              "      <td>8</td>\n",
              "      <td>0</td>\n",
              "      <td>0</td>\n",
              "      <td>0</td>\n",
              "      <td>54</td>\n",
              "      <td>23</td>\n",
              "      <td>86</td>\n",
              "      <td>5</td>\n",
              "      <td>2</td>\n",
              "      <td>2</td>\n",
              "      <td>1</td>\n",
              "      <td>1</td>\n",
              "      <td>1</td>\n",
              "      <td>1</td>\n",
              "      <td>1</td>\n",
              "      <td>0</td>\n",
              "      <td>2</td>\n",
              "      <td>1</td>\n",
              "      <td>0</td>\n",
              "      <td>1</td>\n",
              "      <td>1</td>\n",
              "      <td>1</td>\n",
              "      <td>1</td>\n",
              "      <td>0</td>\n",
              "      <td>0</td>\n",
              "      <td>0</td>\n",
              "      <td>0</td>\n",
              "      <td>2</td>\n",
              "      <td>1</td>\n",
              "      <td>0</td>\n",
              "      <td>0</td>\n",
              "      <td>0</td>\n",
              "      <td>0</td>\n",
              "      <td>0</td>\n",
              "      <td>1</td>\n",
              "      <td>2</td>\n",
              "    </tr>\n",
              "    <tr>\n",
              "      <th>5</th>\n",
              "      <td>2</td>\n",
              "      <td>1</td>\n",
              "      <td>5</td>\n",
              "      <td>3</td>\n",
              "      <td>31</td>\n",
              "      <td>6</td>\n",
              "      <td>16</td>\n",
              "      <td>0</td>\n",
              "      <td>0</td>\n",
              "      <td>0</td>\n",
              "      <td>263</td>\n",
              "      <td>245</td>\n",
              "      <td>86</td>\n",
              "      <td>9</td>\n",
              "      <td>2</td>\n",
              "      <td>2</td>\n",
              "      <td>1</td>\n",
              "      <td>1</td>\n",
              "      <td>1</td>\n",
              "      <td>1</td>\n",
              "      <td>1</td>\n",
              "      <td>0</td>\n",
              "      <td>1</td>\n",
              "      <td>1</td>\n",
              "      <td>0</td>\n",
              "      <td>1</td>\n",
              "      <td>1</td>\n",
              "      <td>1</td>\n",
              "      <td>1</td>\n",
              "      <td>0</td>\n",
              "      <td>0</td>\n",
              "      <td>0</td>\n",
              "      <td>0</td>\n",
              "      <td>2</td>\n",
              "      <td>1</td>\n",
              "      <td>0</td>\n",
              "      <td>0</td>\n",
              "      <td>0</td>\n",
              "      <td>0</td>\n",
              "      <td>1</td>\n",
              "      <td>1</td>\n",
              "      <td>1</td>\n",
              "    </tr>\n",
              "  </tbody>\n",
              "</table>\n",
              "</div>"
            ],
            "text/plain": [
              "   race  gender  age  ...  change  diabetesMed  readmitted\n",
              "1     2       0    1  ...       0            1           1\n",
              "2     0       0    2  ...       1            1           2\n",
              "3     2       1    3  ...       0            1           2\n",
              "4     2       1    4  ...       0            1           2\n",
              "5     2       1    5  ...       1            1           1\n",
              "\n",
              "[5 rows x 42 columns]"
            ]
          },
          "metadata": {
            "tags": []
          },
          "execution_count": 40
        }
      ]
    },
    {
      "cell_type": "code",
      "metadata": {
        "id": "s2HzmXE8X7S1",
        "colab_type": "code",
        "outputId": "03142ef4-d558-4dd4-d341-237d1e256dfa",
        "colab": {
          "base_uri": "https://localhost:8080/",
          "height": 34
        }
      },
      "source": [
        "np.unique(df['diabetesMed'])"
      ],
      "execution_count": 41,
      "outputs": [
        {
          "output_type": "execute_result",
          "data": {
            "text/plain": [
              "array([0, 1])"
            ]
          },
          "metadata": {
            "tags": []
          },
          "execution_count": 41
        }
      ]
    },
    {
      "cell_type": "markdown",
      "metadata": {
        "id": "IWIF4HS9TWbq",
        "colab_type": "text"
      },
      "source": [
        "#Correlation"
      ]
    },
    {
      "cell_type": "code",
      "metadata": {
        "id": "92uRAwxUTZlD",
        "colab_type": "code",
        "colab": {}
      },
      "source": [
        "corr = df.corr()"
      ],
      "execution_count": 0,
      "outputs": []
    },
    {
      "cell_type": "code",
      "metadata": {
        "id": "39jgWqR1UOMN",
        "colab_type": "code",
        "colab": {
          "base_uri": "https://localhost:8080/",
          "height": 774
        },
        "outputId": "c9eb5b16-01b2-4db5-aae0-26031acaf2cc"
      },
      "source": [
        "corr['diabetesMed'].sort_values(ascending=False)"
      ],
      "execution_count": 43,
      "outputs": [
        {
          "output_type": "execute_result",
          "data": {
            "text/plain": [
              "diabetesMed                 1.000000\n",
              "insulin                     0.263910\n",
              "metformin                   0.245927\n",
              "num_medications             0.189820\n",
              "glipizide                   0.182492\n",
              "glyburide                   0.161837\n",
              "pioglitazone                0.145354\n",
              "rosiglitazone               0.135798\n",
              "glimepiride                 0.114729\n",
              "time_in_hospital            0.063118\n",
              "repaglinide                 0.062592\n",
              "glyburide-metformin         0.044673\n",
              "nateglinide                 0.043725\n",
              "num_lab_procedures          0.032845\n",
              "acarbose                    0.029211\n",
              "number_inpatient            0.026300\n",
              "number_emergency            0.025812\n",
              "number_diagnoses            0.025430\n",
              "number_outpatient           0.017072\n",
              "gender                      0.016248\n",
              "chlorpropamide              0.015060\n",
              "tolazamide                  0.010383\n",
              "race                        0.009664\n",
              "tolbutamide                 0.008287\n",
              "miglitol                    0.008169\n",
              "glipizide-metformin         0.006230\n",
              "troglitazone                0.002993\n",
              "metformin-rosiglitazone     0.002443\n",
              "acetohexamide               0.001728\n",
              "glimepiride-pioglitazone    0.001728\n",
              "metformin-pioglitazone      0.001728\n",
              "num_procedures             -0.004881\n",
              "diag_3                     -0.006501\n",
              "diag_2                     -0.007156\n",
              "age                        -0.019418\n",
              "diag_1                     -0.028191\n",
              "max_glu_serum              -0.038339\n",
              "readmitted                 -0.056880\n",
              "A1Cresult                  -0.065005\n",
              "change                     -0.507332\n",
              "examide                          NaN\n",
              "citoglipton                      NaN\n",
              "Name: diabetesMed, dtype: float64"
            ]
          },
          "metadata": {
            "tags": []
          },
          "execution_count": 43
        }
      ]
    },
    {
      "cell_type": "code",
      "metadata": {
        "id": "w-jSnPuZUPyF",
        "colab_type": "code",
        "colab": {
          "base_uri": "https://localhost:8080/",
          "height": 774
        },
        "outputId": "b5a9dad7-65ea-41e5-ac83-cc1d5436aaed"
      },
      "source": [
        "corr['readmitted'].sort_values(ascending=False)"
      ],
      "execution_count": 44,
      "outputs": [
        {
          "output_type": "execute_result",
          "data": {
            "text/plain": [
              "readmitted                  1.000000\n",
              "change                      0.041627\n",
              "num_procedures              0.040165\n",
              "metformin                   0.031085\n",
              "race                        0.014942\n",
              "gender                      0.013850\n",
              "max_glu_serum               0.013177\n",
              "diag_1                      0.011739\n",
              "glyburide                   0.006213\n",
              "tolbutamide                 0.004072\n",
              "metformin-rosiglitazone     0.003753\n",
              "tolazamide                  0.003547\n",
              "metformin-pioglitazone      0.002654\n",
              "glimepiride                 0.001746\n",
              "miglitol                    0.001291\n",
              "chlorpropamide              0.000744\n",
              "troglitazone               -0.000730\n",
              "glyburide-metformin        -0.001458\n",
              "A1Cresult                  -0.001524\n",
              "glipizide-metformin        -0.001946\n",
              "acetohexamide              -0.001959\n",
              "glimepiride-pioglitazone   -0.001959\n",
              "diag_2                     -0.002369\n",
              "nateglinide                -0.003047\n",
              "insulin                    -0.003878\n",
              "pioglitazone               -0.005000\n",
              "rosiglitazone              -0.006324\n",
              "acarbose                   -0.008133\n",
              "glipizide                  -0.010905\n",
              "diag_3                     -0.018390\n",
              "repaglinide                -0.019251\n",
              "age                        -0.024120\n",
              "num_lab_procedures         -0.036606\n",
              "num_medications            -0.048328\n",
              "time_in_hospital           -0.055545\n",
              "diabetesMed                -0.056880\n",
              "number_outpatient          -0.067657\n",
              "number_diagnoses           -0.099363\n",
              "number_emergency           -0.102278\n",
              "number_inpatient           -0.232411\n",
              "examide                          NaN\n",
              "citoglipton                      NaN\n",
              "Name: readmitted, dtype: float64"
            ]
          },
          "metadata": {
            "tags": []
          },
          "execution_count": 44
        }
      ]
    },
    {
      "cell_type": "markdown",
      "metadata": {
        "id": "_Q6S0aIZdwgt",
        "colab_type": "text"
      },
      "source": [
        "Separate the dependent columns which are 'diabetesMed' and 'readmitted' from the other columns, which are the independents"
      ]
    },
    {
      "cell_type": "code",
      "metadata": {
        "id": "fnf1JUKKU6-K",
        "colab_type": "code",
        "colab": {}
      },
      "source": [
        "target=df.loc[:,'diabetesMed':'readmitted']\n",
        "target_columns=target.columns"
      ],
      "execution_count": 0,
      "outputs": []
    },
    {
      "cell_type": "markdown",
      "metadata": {
        "id": "zIeANrrOebt8",
        "colab_type": "text"
      },
      "source": [
        "Now, compine the columns value to create one column"
      ]
    },
    {
      "cell_type": "code",
      "metadata": {
        "id": "mccBTlYqaa3k",
        "colab_type": "code",
        "colab": {}
      },
      "source": [
        "target_code= target['diabetesMed'].map(str)+target['readmitted'].map(str)"
      ],
      "execution_count": 0,
      "outputs": []
    },
    {
      "cell_type": "code",
      "metadata": {
        "id": "FiDsWU8SXeX5",
        "colab_type": "code",
        "outputId": "f2e227c1-ef80-4ab5-e8e7-ff2c0516c0d2",
        "colab": {
          "base_uri": "https://localhost:8080/",
          "height": 228
        }
      },
      "source": [
        "target_columns,target_code"
      ],
      "execution_count": 47,
      "outputs": [
        {
          "output_type": "execute_result",
          "data": {
            "text/plain": [
              "(Index(['diabetesMed', 'readmitted'], dtype='object'), 1         11\n",
              " 2         12\n",
              " 3         12\n",
              " 4         12\n",
              " 5         11\n",
              "           ..\n",
              " 101761    11\n",
              " 101762    12\n",
              " 101763    12\n",
              " 101764    12\n",
              " 101765    02\n",
              " Length: 100244, dtype: object)"
            ]
          },
          "metadata": {
            "tags": []
          },
          "execution_count": 47
        }
      ]
    },
    {
      "cell_type": "markdown",
      "metadata": {
        "id": "9S-t5Sv0eqSz",
        "colab_type": "text"
      },
      "source": [
        "Now, the target is one column has the values of the independents columns values"
      ]
    },
    {
      "cell_type": "code",
      "metadata": {
        "id": "KNsGQOYHZprK",
        "colab_type": "code",
        "outputId": "37858d6c-f28c-4dbc-95e0-27517d190d16",
        "colab": {
          "base_uri": "https://localhost:8080/",
          "height": 402
        }
      },
      "source": [
        "target"
      ],
      "execution_count": 48,
      "outputs": [
        {
          "output_type": "execute_result",
          "data": {
            "text/html": [
              "<div>\n",
              "<style scoped>\n",
              "    .dataframe tbody tr th:only-of-type {\n",
              "        vertical-align: middle;\n",
              "    }\n",
              "\n",
              "    .dataframe tbody tr th {\n",
              "        vertical-align: top;\n",
              "    }\n",
              "\n",
              "    .dataframe thead th {\n",
              "        text-align: right;\n",
              "    }\n",
              "</style>\n",
              "<table border=\"1\" class=\"dataframe\">\n",
              "  <thead>\n",
              "    <tr style=\"text-align: right;\">\n",
              "      <th></th>\n",
              "      <th>diabetesMed</th>\n",
              "      <th>readmitted</th>\n",
              "    </tr>\n",
              "  </thead>\n",
              "  <tbody>\n",
              "    <tr>\n",
              "      <th>1</th>\n",
              "      <td>1</td>\n",
              "      <td>1</td>\n",
              "    </tr>\n",
              "    <tr>\n",
              "      <th>2</th>\n",
              "      <td>1</td>\n",
              "      <td>2</td>\n",
              "    </tr>\n",
              "    <tr>\n",
              "      <th>3</th>\n",
              "      <td>1</td>\n",
              "      <td>2</td>\n",
              "    </tr>\n",
              "    <tr>\n",
              "      <th>4</th>\n",
              "      <td>1</td>\n",
              "      <td>2</td>\n",
              "    </tr>\n",
              "    <tr>\n",
              "      <th>5</th>\n",
              "      <td>1</td>\n",
              "      <td>1</td>\n",
              "    </tr>\n",
              "    <tr>\n",
              "      <th>...</th>\n",
              "      <td>...</td>\n",
              "      <td>...</td>\n",
              "    </tr>\n",
              "    <tr>\n",
              "      <th>101761</th>\n",
              "      <td>1</td>\n",
              "      <td>1</td>\n",
              "    </tr>\n",
              "    <tr>\n",
              "      <th>101762</th>\n",
              "      <td>1</td>\n",
              "      <td>2</td>\n",
              "    </tr>\n",
              "    <tr>\n",
              "      <th>101763</th>\n",
              "      <td>1</td>\n",
              "      <td>2</td>\n",
              "    </tr>\n",
              "    <tr>\n",
              "      <th>101764</th>\n",
              "      <td>1</td>\n",
              "      <td>2</td>\n",
              "    </tr>\n",
              "    <tr>\n",
              "      <th>101765</th>\n",
              "      <td>0</td>\n",
              "      <td>2</td>\n",
              "    </tr>\n",
              "  </tbody>\n",
              "</table>\n",
              "<p>100244 rows × 2 columns</p>\n",
              "</div>"
            ],
            "text/plain": [
              "        diabetesMed  readmitted\n",
              "1                 1           1\n",
              "2                 1           2\n",
              "3                 1           2\n",
              "4                 1           2\n",
              "5                 1           1\n",
              "...             ...         ...\n",
              "101761            1           1\n",
              "101762            1           2\n",
              "101763            1           2\n",
              "101764            1           2\n",
              "101765            0           2\n",
              "\n",
              "[100244 rows x 2 columns]"
            ]
          },
          "metadata": {
            "tags": []
          },
          "execution_count": 48
        }
      ]
    },
    {
      "cell_type": "markdown",
      "metadata": {
        "id": "XicISgnGe50i",
        "colab_type": "text"
      },
      "source": [
        "This costom function to translate the output code for exampe the output code is \n",
        " 01010 so it means 'diabetesMed_No   readmitted_NO"
      ]
    },
    {
      "cell_type": "code",
      "metadata": {
        "id": "oYso9OKLZ6uI",
        "colab_type": "code",
        "colab": {}
      },
      "source": [
        "def translate_output_code(code):\n",
        "  result = ''\n",
        "  result= '{0} {1} {2} {3}'.format(result,' ','Diabetes: ',attr_their_cat['diabetesMed'][int(code[0])])\n",
        "  result= '{0} {1} {2} {3}'.format(result,' ','Readmitted: ',attr_their_cat['readmitted'][int(code[1])])\n",
        "  return result.strip()\n"
      ],
      "execution_count": 0,
      "outputs": []
    },
    {
      "cell_type": "code",
      "metadata": {
        "id": "bv_ky1PFaZDA",
        "colab_type": "code",
        "outputId": "5afc2fcd-6979-44b8-c3fe-0afa3cf2239e",
        "colab": {
          "base_uri": "https://localhost:8080/",
          "height": 34
        }
      },
      "source": [
        "np.unique(target_code)"
      ],
      "execution_count": 50,
      "outputs": [
        {
          "output_type": "execute_result",
          "data": {
            "text/plain": [
              "array(['00', '01', '02', '10', '11', '12'], dtype=object)"
            ]
          },
          "metadata": {
            "tags": []
          },
          "execution_count": 50
        }
      ]
    },
    {
      "cell_type": "code",
      "metadata": {
        "id": "GgKdJRGydIiy",
        "colab_type": "code",
        "outputId": "d90faaeb-2216-4790-9174-9531bdc9c862",
        "colab": {
          "base_uri": "https://localhost:8080/",
          "height": 34
        }
      },
      "source": [
        "translate_output_code('11')"
      ],
      "execution_count": 51,
      "outputs": [
        {
          "output_type": "execute_result",
          "data": {
            "text/plain": [
              "'Diabetes:  Yes   Readmitted:  >30'"
            ]
          },
          "metadata": {
            "tags": []
          },
          "execution_count": 51
        }
      ]
    },
    {
      "cell_type": "code",
      "metadata": {
        "id": "Rwh1gJmvgYYx",
        "colab_type": "code",
        "colab": {}
      },
      "source": [
        "df.drop(target_columns,axis=1,inplace=True)"
      ],
      "execution_count": 0,
      "outputs": []
    },
    {
      "cell_type": "code",
      "metadata": {
        "id": "SumJsbcog2qQ",
        "colab_type": "code",
        "outputId": "98ae37c2-143b-4b76-9e8b-42e06aa75835",
        "colab": {
          "base_uri": "https://localhost:8080/",
          "height": 232
        }
      },
      "source": [
        "df.head()"
      ],
      "execution_count": 53,
      "outputs": [
        {
          "output_type": "execute_result",
          "data": {
            "text/html": [
              "<div>\n",
              "<style scoped>\n",
              "    .dataframe tbody tr th:only-of-type {\n",
              "        vertical-align: middle;\n",
              "    }\n",
              "\n",
              "    .dataframe tbody tr th {\n",
              "        vertical-align: top;\n",
              "    }\n",
              "\n",
              "    .dataframe thead th {\n",
              "        text-align: right;\n",
              "    }\n",
              "</style>\n",
              "<table border=\"1\" class=\"dataframe\">\n",
              "  <thead>\n",
              "    <tr style=\"text-align: right;\">\n",
              "      <th></th>\n",
              "      <th>race</th>\n",
              "      <th>gender</th>\n",
              "      <th>age</th>\n",
              "      <th>time_in_hospital</th>\n",
              "      <th>num_lab_procedures</th>\n",
              "      <th>num_procedures</th>\n",
              "      <th>num_medications</th>\n",
              "      <th>number_outpatient</th>\n",
              "      <th>number_emergency</th>\n",
              "      <th>number_inpatient</th>\n",
              "      <th>diag_1</th>\n",
              "      <th>diag_2</th>\n",
              "      <th>diag_3</th>\n",
              "      <th>number_diagnoses</th>\n",
              "      <th>max_glu_serum</th>\n",
              "      <th>A1Cresult</th>\n",
              "      <th>metformin</th>\n",
              "      <th>repaglinide</th>\n",
              "      <th>nateglinide</th>\n",
              "      <th>chlorpropamide</th>\n",
              "      <th>glimepiride</th>\n",
              "      <th>acetohexamide</th>\n",
              "      <th>glipizide</th>\n",
              "      <th>glyburide</th>\n",
              "      <th>tolbutamide</th>\n",
              "      <th>pioglitazone</th>\n",
              "      <th>rosiglitazone</th>\n",
              "      <th>acarbose</th>\n",
              "      <th>miglitol</th>\n",
              "      <th>troglitazone</th>\n",
              "      <th>tolazamide</th>\n",
              "      <th>examide</th>\n",
              "      <th>citoglipton</th>\n",
              "      <th>insulin</th>\n",
              "      <th>glyburide-metformin</th>\n",
              "      <th>glipizide-metformin</th>\n",
              "      <th>glimepiride-pioglitazone</th>\n",
              "      <th>metformin-rosiglitazone</th>\n",
              "      <th>metformin-pioglitazone</th>\n",
              "      <th>change</th>\n",
              "    </tr>\n",
              "  </thead>\n",
              "  <tbody>\n",
              "    <tr>\n",
              "      <th>1</th>\n",
              "      <td>2</td>\n",
              "      <td>0</td>\n",
              "      <td>1</td>\n",
              "      <td>3</td>\n",
              "      <td>59</td>\n",
              "      <td>0</td>\n",
              "      <td>18</td>\n",
              "      <td>0</td>\n",
              "      <td>0</td>\n",
              "      <td>0</td>\n",
              "      <td>143</td>\n",
              "      <td>78</td>\n",
              "      <td>121</td>\n",
              "      <td>9</td>\n",
              "      <td>2</td>\n",
              "      <td>2</td>\n",
              "      <td>1</td>\n",
              "      <td>1</td>\n",
              "      <td>1</td>\n",
              "      <td>1</td>\n",
              "      <td>1</td>\n",
              "      <td>0</td>\n",
              "      <td>1</td>\n",
              "      <td>1</td>\n",
              "      <td>0</td>\n",
              "      <td>1</td>\n",
              "      <td>1</td>\n",
              "      <td>1</td>\n",
              "      <td>1</td>\n",
              "      <td>0</td>\n",
              "      <td>0</td>\n",
              "      <td>0</td>\n",
              "      <td>0</td>\n",
              "      <td>3</td>\n",
              "      <td>1</td>\n",
              "      <td>0</td>\n",
              "      <td>0</td>\n",
              "      <td>0</td>\n",
              "      <td>0</td>\n",
              "      <td>0</td>\n",
              "    </tr>\n",
              "    <tr>\n",
              "      <th>2</th>\n",
              "      <td>0</td>\n",
              "      <td>0</td>\n",
              "      <td>2</td>\n",
              "      <td>2</td>\n",
              "      <td>11</td>\n",
              "      <td>5</td>\n",
              "      <td>13</td>\n",
              "      <td>2</td>\n",
              "      <td>0</td>\n",
              "      <td>1</td>\n",
              "      <td>454</td>\n",
              "      <td>77</td>\n",
              "      <td>766</td>\n",
              "      <td>6</td>\n",
              "      <td>2</td>\n",
              "      <td>2</td>\n",
              "      <td>1</td>\n",
              "      <td>1</td>\n",
              "      <td>1</td>\n",
              "      <td>1</td>\n",
              "      <td>1</td>\n",
              "      <td>0</td>\n",
              "      <td>2</td>\n",
              "      <td>1</td>\n",
              "      <td>0</td>\n",
              "      <td>1</td>\n",
              "      <td>1</td>\n",
              "      <td>1</td>\n",
              "      <td>1</td>\n",
              "      <td>0</td>\n",
              "      <td>0</td>\n",
              "      <td>0</td>\n",
              "      <td>0</td>\n",
              "      <td>1</td>\n",
              "      <td>1</td>\n",
              "      <td>0</td>\n",
              "      <td>0</td>\n",
              "      <td>0</td>\n",
              "      <td>0</td>\n",
              "      <td>1</td>\n",
              "    </tr>\n",
              "    <tr>\n",
              "      <th>3</th>\n",
              "      <td>2</td>\n",
              "      <td>1</td>\n",
              "      <td>3</td>\n",
              "      <td>2</td>\n",
              "      <td>44</td>\n",
              "      <td>1</td>\n",
              "      <td>16</td>\n",
              "      <td>0</td>\n",
              "      <td>0</td>\n",
              "      <td>0</td>\n",
              "      <td>554</td>\n",
              "      <td>96</td>\n",
              "      <td>248</td>\n",
              "      <td>7</td>\n",
              "      <td>2</td>\n",
              "      <td>2</td>\n",
              "      <td>1</td>\n",
              "      <td>1</td>\n",
              "      <td>1</td>\n",
              "      <td>1</td>\n",
              "      <td>1</td>\n",
              "      <td>0</td>\n",
              "      <td>1</td>\n",
              "      <td>1</td>\n",
              "      <td>0</td>\n",
              "      <td>1</td>\n",
              "      <td>1</td>\n",
              "      <td>1</td>\n",
              "      <td>1</td>\n",
              "      <td>0</td>\n",
              "      <td>0</td>\n",
              "      <td>0</td>\n",
              "      <td>0</td>\n",
              "      <td>3</td>\n",
              "      <td>1</td>\n",
              "      <td>0</td>\n",
              "      <td>0</td>\n",
              "      <td>0</td>\n",
              "      <td>0</td>\n",
              "      <td>0</td>\n",
              "    </tr>\n",
              "    <tr>\n",
              "      <th>4</th>\n",
              "      <td>2</td>\n",
              "      <td>1</td>\n",
              "      <td>4</td>\n",
              "      <td>1</td>\n",
              "      <td>51</td>\n",
              "      <td>0</td>\n",
              "      <td>8</td>\n",
              "      <td>0</td>\n",
              "      <td>0</td>\n",
              "      <td>0</td>\n",
              "      <td>54</td>\n",
              "      <td>23</td>\n",
              "      <td>86</td>\n",
              "      <td>5</td>\n",
              "      <td>2</td>\n",
              "      <td>2</td>\n",
              "      <td>1</td>\n",
              "      <td>1</td>\n",
              "      <td>1</td>\n",
              "      <td>1</td>\n",
              "      <td>1</td>\n",
              "      <td>0</td>\n",
              "      <td>2</td>\n",
              "      <td>1</td>\n",
              "      <td>0</td>\n",
              "      <td>1</td>\n",
              "      <td>1</td>\n",
              "      <td>1</td>\n",
              "      <td>1</td>\n",
              "      <td>0</td>\n",
              "      <td>0</td>\n",
              "      <td>0</td>\n",
              "      <td>0</td>\n",
              "      <td>2</td>\n",
              "      <td>1</td>\n",
              "      <td>0</td>\n",
              "      <td>0</td>\n",
              "      <td>0</td>\n",
              "      <td>0</td>\n",
              "      <td>0</td>\n",
              "    </tr>\n",
              "    <tr>\n",
              "      <th>5</th>\n",
              "      <td>2</td>\n",
              "      <td>1</td>\n",
              "      <td>5</td>\n",
              "      <td>3</td>\n",
              "      <td>31</td>\n",
              "      <td>6</td>\n",
              "      <td>16</td>\n",
              "      <td>0</td>\n",
              "      <td>0</td>\n",
              "      <td>0</td>\n",
              "      <td>263</td>\n",
              "      <td>245</td>\n",
              "      <td>86</td>\n",
              "      <td>9</td>\n",
              "      <td>2</td>\n",
              "      <td>2</td>\n",
              "      <td>1</td>\n",
              "      <td>1</td>\n",
              "      <td>1</td>\n",
              "      <td>1</td>\n",
              "      <td>1</td>\n",
              "      <td>0</td>\n",
              "      <td>1</td>\n",
              "      <td>1</td>\n",
              "      <td>0</td>\n",
              "      <td>1</td>\n",
              "      <td>1</td>\n",
              "      <td>1</td>\n",
              "      <td>1</td>\n",
              "      <td>0</td>\n",
              "      <td>0</td>\n",
              "      <td>0</td>\n",
              "      <td>0</td>\n",
              "      <td>2</td>\n",
              "      <td>1</td>\n",
              "      <td>0</td>\n",
              "      <td>0</td>\n",
              "      <td>0</td>\n",
              "      <td>0</td>\n",
              "      <td>1</td>\n",
              "    </tr>\n",
              "  </tbody>\n",
              "</table>\n",
              "</div>"
            ],
            "text/plain": [
              "   race  gender  age  ...  metformin-rosiglitazone  metformin-pioglitazone  change\n",
              "1     2       0    1  ...                        0                       0       0\n",
              "2     0       0    2  ...                        0                       0       1\n",
              "3     2       1    3  ...                        0                       0       0\n",
              "4     2       1    4  ...                        0                       0       0\n",
              "5     2       1    5  ...                        0                       0       1\n",
              "\n",
              "[5 rows x 40 columns]"
            ]
          },
          "metadata": {
            "tags": []
          },
          "execution_count": 53
        }
      ]
    },
    {
      "cell_type": "code",
      "metadata": {
        "id": "Jj3YSEKKVTjc",
        "colab_type": "code",
        "colab": {}
      },
      "source": [
        "df['target']=target_code.astype(int)"
      ],
      "execution_count": 0,
      "outputs": []
    },
    {
      "cell_type": "code",
      "metadata": {
        "id": "rSXLSJKHVlMK",
        "colab_type": "code",
        "colab": {
          "base_uri": "https://localhost:8080/",
          "height": 756
        },
        "outputId": "f123da80-a6b8-476f-d779-7ff25861e2a9"
      },
      "source": [
        "corr_2=df.corr()\n",
        "corr_2['target'].sort_values(ascending=False)"
      ],
      "execution_count": 55,
      "outputs": [
        {
          "output_type": "execute_result",
          "data": {
            "text/plain": [
              "target                      1.000000\n",
              "insulin                     0.262240\n",
              "metformin                   0.249991\n",
              "num_medications             0.181243\n",
              "glipizide                   0.180006\n",
              "glyburide                   0.162204\n",
              "pioglitazone                0.143971\n",
              "rosiglitazone               0.134237\n",
              "glimepiride                 0.114559\n",
              "repaglinide                 0.059227\n",
              "time_in_hospital            0.053872\n",
              "glyburide-metformin         0.044261\n",
              "nateglinide                 0.043058\n",
              "acarbose                    0.027778\n",
              "num_lab_procedures          0.026786\n",
              "gender                      0.018427\n",
              "chlorpropamide              0.015122\n",
              "race                        0.012046\n",
              "tolazamide                  0.010917\n",
              "number_diagnoses            0.009235\n",
              "number_emergency            0.009144\n",
              "tolbutamide                 0.008914\n",
              "miglitol                    0.008346\n",
              "number_outpatient           0.006046\n",
              "glipizide-metformin         0.005890\n",
              "metformin-rosiglitazone     0.003042\n",
              "troglitazone                0.002863\n",
              "metformin-pioglitazone      0.002151\n",
              "num_procedures              0.001643\n",
              "acetohexamide               0.001404\n",
              "glimepiride-pioglitazone    0.001404\n",
              "diag_2                     -0.007511\n",
              "diag_3                     -0.009454\n",
              "number_inpatient           -0.011448\n",
              "age                        -0.023248\n",
              "diag_1                     -0.026178\n",
              "max_glu_serum              -0.036053\n",
              "A1Cresult                  -0.064995\n",
              "change                     -0.498587\n",
              "examide                          NaN\n",
              "citoglipton                      NaN\n",
              "Name: target, dtype: float64"
            ]
          },
          "metadata": {
            "tags": []
          },
          "execution_count": 55
        }
      ]
    },
    {
      "cell_type": "code",
      "metadata": {
        "id": "aSphH473g-IV",
        "colab_type": "code",
        "colab": {}
      },
      "source": [
        "indpnt_att = df.drop('target',axis=1,inplace=False)\n",
        "target_code = df['target']"
      ],
      "execution_count": 0,
      "outputs": []
    },
    {
      "cell_type": "markdown",
      "metadata": {
        "id": "WfkXXpI4ah47",
        "colab_type": "text"
      },
      "source": [
        "#Dimensionality Reduce"
      ]
    },
    {
      "cell_type": "markdown",
      "metadata": {
        "id": "uiWGajy0NTan",
        "colab_type": "text"
      },
      "source": [
        "For diabetesMed"
      ]
    },
    {
      "cell_type": "code",
      "metadata": {
        "id": "RbCklE2Meu0v",
        "colab_type": "code",
        "colab": {}
      },
      "source": [
        "from sklearn.pipeline import Pipeline,make_pipeline\n",
        "from sklearn.linear_model import LinearRegression\n",
        "%matplotlib inline\n",
        "sub_data_att = indpnt_att[0:10000]\n",
        "sub_data_target = target[0:10000]['diabetesMed']\n",
        "x_train,x_test,y_train,y_test = train_test_split(sub_data_att,sub_data_target,test_size=0.30)\n",
        "lst = list()\n",
        "for i in range(1,40):\n",
        "\n",
        "  svm_pipline = Pipeline([('pca',PCA(n_components=i)),\n",
        "                        ('std',StandardScaler()),\n",
        "                        ('svc',SVC(random_state=57)),\n",
        "                        ])\n",
        "\n",
        "\n",
        "  svm_pipline.fit(x_train,y_train)\n",
        "\n",
        "  svm_pipline_test = Pipeline([('pca',PCA(n_components=i)),\n",
        "                        ('std',StandardScaler()),\n",
        "                        ])\n",
        "\n",
        "  svm_pipline_test.fit(x_test,y_test)\n",
        "  lst.append(svm_pipline.score(x_test,y_test))\n",
        "\n"
      ],
      "execution_count": 0,
      "outputs": []
    },
    {
      "cell_type": "code",
      "metadata": {
        "id": "XrgyM6VdpkUy",
        "colab_type": "code",
        "colab": {
          "base_uri": "https://localhost:8080/",
          "height": 265
        },
        "outputId": "f7ec2246-71d5-48c7-e34d-44e951a4860c"
      },
      "source": [
        "plt.plot(lst,label='accuracy')\n",
        "plt.bar(lst.index(np.max(lst)),1,color='red',width=0.2,label='{}% {} best # of compenents'.format(np.max(lst)*100,lst.index(np.max(lst))))\n",
        "plt.legend()\n",
        "plt.show()"
      ],
      "execution_count": 84,
      "outputs": [
        {
          "output_type": "display_data",
          "data": {
            "image/png": "[encoded data removed]",
            "text/plain": [
              "<Figure size 432x288 with 1 Axes>"
            ]
          },
          "metadata": {
            "tags": []
          }
        }
      ]
    },
    {
      "cell_type": "markdown",
      "metadata": {
        "id": "PT-KdmUTOR5V",
        "colab_type": "text"
      },
      "source": [
        "For readmitted"
      ]
    },
    {
      "cell_type": "code",
      "metadata": {
        "id": "I0PyP7fANuKv",
        "colab_type": "code",
        "colab": {
          "base_uri": "https://localhost:8080/",
          "height": 265
        },
        "outputId": "9c67c8b4-dedf-436c-ad4a-8676d7a23dfc"
      },
      "source": [
        "sub_data_att = indpnt_att[0:10000]\n",
        "sub_data_target = target[0:10000]['readmitted']\n",
        "x_train,x_test,y_train,y_test = train_test_split(sub_data_att,sub_data_target,test_size=0.30)\n",
        "\n",
        "lst = list()\n",
        "for i in range(1,40):\n",
        "\n",
        "  svm_pipline = Pipeline([('pca',PCA(n_components=i)),\n",
        "                        ('std',StandardScaler()),\n",
        "                        ('svc',SVC(random_state=57)),\n",
        "                        ])\n",
        "\n",
        "\n",
        "  svm_pipline.fit(x_train,y_train)\n",
        "\n",
        "  svm_pipline_test = Pipeline([('pca',PCA(n_components=i)),\n",
        "                        ('std',StandardScaler()),\n",
        "                        ])\n",
        "\n",
        "  svm_pipline_test.fit(x_test,y_test)\n",
        "  lst.append(svm_pipline.score(x_test,y_test))\n",
        "\n",
        "\n",
        "plt.plot(lst,label='accuracy')\n",
        "plt.bar(lst.index(np.max(lst)),1,color='red',width=0.2,label='{}% {} best # of compenents'.format(np.max(lst)*100,lst.index(np.max(lst))))\n",
        "plt.legend()\n",
        "plt.show()\n"
      ],
      "execution_count": 85,
      "outputs": [
        {
          "output_type": "display_data",
          "data": {
            "image/png": "[encoded data removed]",
            "text/plain": [
              "<Figure size 432x288 with 1 Axes>"
            ]
          },
          "metadata": {
            "tags": []
          }
        }
      ]
    },
    {
      "cell_type": "markdown",
      "metadata": {
        "id": "qPcE9prROH1x",
        "colab_type": "text"
      },
      "source": [
        "#choson reduce n_componnets"
      ]
    },
    {
      "cell_type": "code",
      "metadata": {
        "id": "7BVkkMXhahDV",
        "colab_type": "code",
        "colab": {}
      },
      "source": [
        "pca_red=PCA(n_components=27,random_state=57)\n",
        "indpnt_att_red=pca_red.fit_transform(indpnt_att,target_code)"
      ],
      "execution_count": 0,
      "outputs": []
    },
    {
      "cell_type": "code",
      "metadata": {
        "id": "fDHzQxW4Hskj",
        "colab_type": "code",
        "colab": {}
      },
      "source": [
        ""
      ],
      "execution_count": 0,
      "outputs": []
    },
    {
      "cell_type": "markdown",
      "metadata": {
        "id": "uLkY4VGFabJP",
        "colab_type": "text"
      },
      "source": [
        "#Notmalization"
      ]
    },
    {
      "cell_type": "code",
      "metadata": {
        "id": "hieEJly400pq",
        "colab_type": "code",
        "colab": {}
      },
      "source": [
        "std_scale=StandardScaler()\n",
        "indpnt_att_red=std_scale.fit_transform(indpnt_att_red)"
      ],
      "execution_count": 0,
      "outputs": []
    },
    {
      "cell_type": "code",
      "metadata": {
        "id": "oBcordpL00R2",
        "colab_type": "code",
        "outputId": "d2b771d9-0215-4b6f-c035-8330ccaaee29",
        "colab": {
          "base_uri": "https://localhost:8080/",
          "height": 140
        }
      },
      "source": [
        "indpnt_att_red[0]"
      ],
      "execution_count": 88,
      "outputs": [
        {
          "output_type": "execute_result",
          "data": {
            "text/plain": [
              "array([-1.31895470e+00, -1.20616082e+00, -6.91879719e-01,  7.25841873e-01,\n",
              "        5.55911565e-02, -9.14346378e-01, -1.18621919e-01,  8.63818474e-01,\n",
              "        2.74593336e+00, -2.23485656e+00,  1.16212828e+00, -8.94920086e-01,\n",
              "        1.71744605e-04, -1.72776936e+00, -6.37483490e-01, -3.77510487e-01,\n",
              "       -1.17563774e+00,  7.56373711e-01, -6.26799574e-01, -8.28268960e-02,\n",
              "       -1.53594694e-01, -2.00495781e-01, -5.72438676e-01, -3.03207108e-01,\n",
              "       -7.13775608e-02, -6.12168550e-02, -1.63350937e-01])"
            ]
          },
          "metadata": {
            "tags": []
          },
          "execution_count": 88
        }
      ]
    },
    {
      "cell_type": "markdown",
      "metadata": {
        "id": "nttJyWcRgIOh",
        "colab_type": "text"
      },
      "source": [
        "#Create Train and Testing sets"
      ]
    },
    {
      "cell_type": "markdown",
      "metadata": {
        "id": "yPC-xxLqUWE3",
        "colab_type": "text"
      },
      "source": [
        "Split the data for the target column 'diabetesMes' then for 'readmitted'"
      ]
    },
    {
      "cell_type": "code",
      "metadata": {
        "id": "DXc0UOpAgOx6",
        "colab_type": "code",
        "colab": {}
      },
      "source": [
        "x_train_dia,x_test_dia,y_train_dia,y_test_dia = train_test_split(indpnt_att_red,target['diabetesMed'],test_size=0.30,random_state=57)\n",
        "x_train_rea,x_test_rea,y_train_rea,y_test_rea = train_test_split(indpnt_att_red,target['readmitted'],test_size=0.30,random_state=57)"
      ],
      "execution_count": 0,
      "outputs": []
    },
    {
      "cell_type": "code",
      "metadata": {
        "id": "IbEDP2eihnBe",
        "colab_type": "code",
        "outputId": "6c291d65-79ad-4fd9-d5f6-ca2e1a51ed34",
        "colab": {
          "base_uri": "https://localhost:8080/",
          "height": 34
        }
      },
      "source": [
        "x_train_dia.shape,y_train_dia.shape"
      ],
      "execution_count": 94,
      "outputs": [
        {
          "output_type": "execute_result",
          "data": {
            "text/plain": [
              "((70170, 27), (70170,))"
            ]
          },
          "metadata": {
            "tags": []
          },
          "execution_count": 94
        }
      ]
    },
    {
      "cell_type": "code",
      "metadata": {
        "id": "GpS_4QHfhrGn",
        "colab_type": "code",
        "outputId": "71756f28-2ec2-4305-f83a-a9095d305eca",
        "colab": {
          "base_uri": "https://localhost:8080/",
          "height": 34
        }
      },
      "source": [
        "x_test_rea.shape,y_test_rea.shape"
      ],
      "execution_count": 95,
      "outputs": [
        {
          "output_type": "execute_result",
          "data": {
            "text/plain": [
              "((30074, 27), (30074,))"
            ]
          },
          "metadata": {
            "tags": []
          },
          "execution_count": 95
        }
      ]
    },
    {
      "cell_type": "markdown",
      "metadata": {
        "id": "B0b1ofB5DVHT",
        "colab_type": "text"
      },
      "source": [
        "#Random Forest"
      ]
    },
    {
      "cell_type": "code",
      "metadata": {
        "id": "kNyUDlSxDY-A",
        "colab_type": "code",
        "outputId": "4d983c0d-38f0-4a11-d564-d109032ebe4f",
        "colab": {
          "base_uri": "https://localhost:8080/",
          "height": 158
        }
      },
      "source": [
        "rf_model = RandomForestClassifier(n_estimators=200,random_state=57)\n",
        "rf_model.fit(x_train_dia,y_train_dia)"
      ],
      "execution_count": 96,
      "outputs": [
        {
          "output_type": "execute_result",
          "data": {
            "text/plain": [
              "RandomForestClassifier(bootstrap=True, ccp_alpha=0.0, class_weight=None,\n",
              "                       criterion='gini', max_depth=None, max_features='auto',\n",
              "                       max_leaf_nodes=None, max_samples=None,\n",
              "                       min_impurity_decrease=0.0, min_impurity_split=None,\n",
              "                       min_samples_leaf=1, min_samples_split=2,\n",
              "                       min_weight_fraction_leaf=0.0, n_estimators=200,\n",
              "                       n_jobs=None, oob_score=False, random_state=57, verbose=0,\n",
              "                       warm_start=False)"
            ]
          },
          "metadata": {
            "tags": []
          },
          "execution_count": 96
        }
      ]
    },
    {
      "cell_type": "code",
      "metadata": {
        "id": "Z7a4j7PGDqAm",
        "colab_type": "code",
        "outputId": "bcd653c5-20b2-4ba5-cebb-16bd8a6a70be",
        "colab": {
          "base_uri": "https://localhost:8080/",
          "height": 34
        }
      },
      "source": [
        "rf_model.score(x_test_dia,y_test_dia)"
      ],
      "execution_count": 97,
      "outputs": [
        {
          "output_type": "execute_result",
          "data": {
            "text/plain": [
              "0.9980049211943872"
            ]
          },
          "metadata": {
            "tags": []
          },
          "execution_count": 97
        }
      ]
    },
    {
      "cell_type": "code",
      "metadata": {
        "id": "x6t2K5qrU03O",
        "colab_type": "code",
        "colab": {
          "base_uri": "https://localhost:8080/",
          "height": 158
        },
        "outputId": "a9a18c0b-b3bc-4b2e-9c1d-ccba596326df"
      },
      "source": [
        "rf_model = RandomForestClassifier(n_estimators=200,random_state=57)\n",
        "rf_model.fit(x_train_rea,y_train_rea)"
      ],
      "execution_count": 98,
      "outputs": [
        {
          "output_type": "execute_result",
          "data": {
            "text/plain": [
              "RandomForestClassifier(bootstrap=True, ccp_alpha=0.0, class_weight=None,\n",
              "                       criterion='gini', max_depth=None, max_features='auto',\n",
              "                       max_leaf_nodes=None, max_samples=None,\n",
              "                       min_impurity_decrease=0.0, min_impurity_split=None,\n",
              "                       min_samples_leaf=1, min_samples_split=2,\n",
              "                       min_weight_fraction_leaf=0.0, n_estimators=200,\n",
              "                       n_jobs=None, oob_score=False, random_state=57, verbose=0,\n",
              "                       warm_start=False)"
            ]
          },
          "metadata": {
            "tags": []
          },
          "execution_count": 98
        }
      ]
    },
    {
      "cell_type": "code",
      "metadata": {
        "id": "S-mxunF4U-HV",
        "colab_type": "code",
        "colab": {}
      },
      "source": [
        "rf_model.score(x_test_rea,y_test_rea)"
      ],
      "execution_count": 0,
      "outputs": []
    },
    {
      "cell_type": "code",
      "metadata": {
        "id": "iSOhRsLWDvAK",
        "colab_type": "code",
        "outputId": "cfdd9699-6036-4417-94b4-8bb5b26d7f67",
        "colab": {
          "base_uri": "https://localhost:8080/",
          "height": 52
        }
      },
      "source": [
        "#rf_cross_score = cross_val_score(rf_model,x_test,y_test,cv=6)\n",
        "#rf_cross_score  "
      ],
      "execution_count": 77,
      "outputs": [
        {
          "output_type": "execute_result",
          "data": {
            "text/plain": [
              "array([0.54199082, 0.55515659, 0.54968077, 0.54968077, 0.55766161,\n",
              "       0.5528731 ])"
            ]
          },
          "metadata": {
            "tags": []
          },
          "execution_count": 77
        }
      ]
    },
    {
      "cell_type": "code",
      "metadata": {
        "id": "sl5XQjXpD-NM",
        "colab_type": "code",
        "outputId": "76730aed-76c0-45aa-aa68-cf981eae46f5",
        "colab": {
          "base_uri": "https://localhost:8080/",
          "height": 34
        }
      },
      "source": [
        "#rf_cross_score.mean()"
      ],
      "execution_count": 78,
      "outputs": [
        {
          "output_type": "execute_result",
          "data": {
            "text/plain": [
              "0.5511739442864886"
            ]
          },
          "metadata": {
            "tags": []
          },
          "execution_count": 78
        }
      ]
    },
    {
      "cell_type": "markdown",
      "metadata": {
        "id": "SeXP1c7IhwED",
        "colab_type": "text"
      },
      "source": [
        "##SVM Model"
      ]
    },
    {
      "cell_type": "code",
      "metadata": {
        "id": "XjlJCavYhy2j",
        "colab_type": "code",
        "outputId": "73acd9c0-8369-4650-909d-9de1b6949bea",
        "colab": {
          "base_uri": "https://localhost:8080/",
          "height": 87
        }
      },
      "source": [
        "svc_model=SVC(random_state=57)\n",
        "svc_model.fit(x_train_dia,y_train_dia) "
      ],
      "execution_count": 99,
      "outputs": [
        {
          "output_type": "execute_result",
          "data": {
            "text/plain": [
              "SVC(C=1.0, break_ties=False, cache_size=200, class_weight=None, coef0=0.0,\n",
              "    decision_function_shape='ovr', degree=3, gamma='scale', kernel='rbf',\n",
              "    max_iter=-1, probability=False, random_state=57, shrinking=True, tol=0.001,\n",
              "    verbose=False)"
            ]
          },
          "metadata": {
            "tags": []
          },
          "execution_count": 99
        }
      ]
    },
    {
      "cell_type": "code",
      "metadata": {
        "id": "zWaCeuLZjIS7",
        "colab_type": "code",
        "outputId": "4c7f8ec5-3de7-463d-e5fc-d565aba01921",
        "colab": {
          "base_uri": "https://localhost:8080/",
          "height": 34
        }
      },
      "source": [
        "svc_model.score(x_test_dia,y_test_dia)"
      ],
      "execution_count": 100,
      "outputs": [
        {
          "output_type": "execute_result",
          "data": {
            "text/plain": [
              "0.9978719159406797"
            ]
          },
          "metadata": {
            "tags": []
          },
          "execution_count": 100
        }
      ]
    },
    {
      "cell_type": "code",
      "metadata": {
        "id": "Rn5lzLLfVyHT",
        "colab_type": "code",
        "colab": {
          "base_uri": "https://localhost:8080/",
          "height": 87
        },
        "outputId": "e9e6f3fd-1e15-4bc6-c6fa-1acdeb00335c"
      },
      "source": [
        "svc_model=SVC(random_state=57)\n",
        "svc_model.fit(x_train_rea,y_train_rea)"
      ],
      "execution_count": 101,
      "outputs": [
        {
          "output_type": "execute_result",
          "data": {
            "text/plain": [
              "SVC(C=1.0, break_ties=False, cache_size=200, class_weight=None, coef0=0.0,\n",
              "    decision_function_shape='ovr', degree=3, gamma='scale', kernel='rbf',\n",
              "    max_iter=-1, probability=False, random_state=57, shrinking=True, tol=0.001,\n",
              "    verbose=False)"
            ]
          },
          "metadata": {
            "tags": []
          },
          "execution_count": 101
        }
      ]
    },
    {
      "cell_type": "code",
      "metadata": {
        "id": "jDgUikqTV1xz",
        "colab_type": "code",
        "colab": {
          "base_uri": "https://localhost:8080/",
          "height": 34
        },
        "outputId": "036d8505-aef8-4ba6-b6f4-25ec7ebf377c"
      },
      "source": [
        "svc_model.score(x_test_rea,y_test_rea)"
      ],
      "execution_count": 102,
      "outputs": [
        {
          "output_type": "execute_result",
          "data": {
            "text/plain": [
              "0.5751479683447496"
            ]
          },
          "metadata": {
            "tags": []
          },
          "execution_count": 102
        }
      ]
    },
    {
      "cell_type": "code",
      "metadata": {
        "id": "tm71UCutkGsw",
        "colab_type": "code",
        "outputId": "83aebaed-7f10-41f0-f218-412874033704",
        "colab": {
          "base_uri": "https://localhost:8080/",
          "height": 52
        }
      },
      "source": [
        "#svc_cross_score=cross_val_score(svc_model,x_test,y_test,cv=6 )\n",
        "#svc_cross_score  "
      ],
      "execution_count": 0,
      "outputs": [
        {
          "output_type": "execute_result",
          "data": {
            "text/plain": [
              "array([0.56852184, 0.56612807, 0.5736233 , 0.56544294, 0.56803671,\n",
              "       0.57881085])"
            ]
          },
          "metadata": {
            "tags": []
          },
          "execution_count": 79
        }
      ]
    },
    {
      "cell_type": "code",
      "metadata": {
        "id": "FBPozq88q9gk",
        "colab_type": "code",
        "outputId": "dbb4644c-fd27-46ff-e859-c7b977a0964f",
        "colab": {
          "base_uri": "https://localhost:8080/",
          "height": 34
        }
      },
      "source": [
        "#svc_cross_score.mean()"
      ],
      "execution_count": 0,
      "outputs": [
        {
          "output_type": "execute_result",
          "data": {
            "text/plain": [
              "0.5700939528494868"
            ]
          },
          "metadata": {
            "tags": []
          },
          "execution_count": 80
        }
      ]
    },
    {
      "cell_type": "code",
      "metadata": {
        "id": "T2auWuCIB1EZ",
        "colab_type": "code",
        "outputId": "d28dfd03-c4b7-4f2e-d6f0-736c3af1fe60",
        "colab": {
          "base_uri": "https://localhost:8080/",
          "height": 122
        }
      },
      "source": [
        "#sgd_model = SGDClassifier(random_state=57)\n",
        "#sgd_model.fit(x_train,y_train)"
      ],
      "execution_count": 0,
      "outputs": [
        {
          "output_type": "execute_result",
          "data": {
            "text/plain": [
              "SGDClassifier(alpha=0.0001, average=False, class_weight=None,\n",
              "              early_stopping=False, epsilon=0.1, eta0=0.0, fit_intercept=True,\n",
              "              l1_ratio=0.15, learning_rate='optimal', loss='hinge',\n",
              "              max_iter=1000, n_iter_no_change=5, n_jobs=None, penalty='l2',\n",
              "              power_t=0.5, random_state=57, shuffle=True, tol=0.001,\n",
              "              validation_fraction=0.1, verbose=0, warm_start=False)"
            ]
          },
          "metadata": {
            "tags": []
          },
          "execution_count": 83
        }
      ]
    },
    {
      "cell_type": "code",
      "metadata": {
        "id": "WU0JGBfaCQJ9",
        "colab_type": "code",
        "outputId": "bcaae33a-7fab-4275-e127-b358136cc39a",
        "colab": {
          "base_uri": "https://localhost:8080/",
          "height": 34
        }
      },
      "source": [
        "#sgd_model.score(x_test,y_test)"
      ],
      "execution_count": 0,
      "outputs": [
        {
          "output_type": "execute_result",
          "data": {
            "text/plain": [
              "0.5511072687371151"
            ]
          },
          "metadata": {
            "tags": []
          },
          "execution_count": 84
        }
      ]
    },
    {
      "cell_type": "code",
      "metadata": {
        "id": "HqT2GjeICW9K",
        "colab_type": "code",
        "outputId": "75236325-95e6-4509-8f51-39eed01d0782",
        "colab": {
          "base_uri": "https://localhost:8080/",
          "height": 52
        }
      },
      "source": [
        "#sgd_cross_score = cross_val_score(sgd_model,x_test,y_test,cv=6)\n",
        "#sgd_cross_score "
      ],
      "execution_count": 0,
      "outputs": [
        {
          "output_type": "execute_result",
          "data": {
            "text/plain": [
              "array([0.54338719, 0.5443846 , 0.54449322, 0.54888268, 0.55267358,\n",
              "       0.5442937 ])"
            ]
          },
          "metadata": {
            "tags": []
          },
          "execution_count": 86
        }
      ]
    },
    {
      "cell_type": "code",
      "metadata": {
        "id": "O2PUzl15Cst1",
        "colab_type": "code",
        "outputId": "533e98da-1de7-4671-f39a-0eadcfb12a6b",
        "colab": {
          "base_uri": "https://localhost:8080/",
          "height": 34
        }
      },
      "source": [
        "#sgd_cross_score.mean()"
      ],
      "execution_count": 0,
      "outputs": [
        {
          "output_type": "execute_result",
          "data": {
            "text/plain": [
              "0.5463524949523365"
            ]
          },
          "metadata": {
            "tags": []
          },
          "execution_count": 87
        }
      ]
    }
  ]
}