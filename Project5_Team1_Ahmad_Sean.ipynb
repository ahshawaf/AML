{
  "nbformat": 4,
  "nbformat_minor": 0,
  "metadata": {
    "colab": {
      "name": "Project5_Team1_Ahmad_Sean.ipynb",
      "provenance": [],
      "collapsed_sections": [],
      "authorship_tag": "ABX9TyM47yYe9wkBCuIwZOxu/9n6",
      "include_colab_link": true
    },
    "kernelspec": {
      "name": "python3",
      "display_name": "Python 3"
    }
  },
  "cells": [
    {
      "cell_type": "markdown",
      "metadata": {
        "id": "view-in-github",
        "colab_type": "text"
      },
      "source": [
        "<a href=\"https://colab.research.google.com/github/ahshawaf/AML/blob/master/Project5_Team1_Ahmad_Sean.ipynb\" target=\"_parent\"><img src=\"https://colab.research.google.com/assets/colab-badge.svg\" alt=\"Open In Colab\"/></a>"
      ]
    },
    {
      "cell_type": "markdown",
      "metadata": {
        "id": "FPUP4dxRFnQ7",
        "colab_type": "text"
      },
      "source": [
        "#Setup"
      ]
    },
    {
      "cell_type": "code",
      "metadata": {
        "id": "8C0sCq1AFTNE",
        "colab_type": "code",
        "outputId": "6be8809f-b3ed-400d-d581-ec82ddc124d8",
        "colab": {
          "base_uri": "https://localhost:8080/",
          "height": 34
        }
      },
      "source": [
        "# Common Import\n",
        "import sklearn\n",
        "import pandas as pd\n",
        "import numpy as np\n",
        "from sklearn import metrics\n",
        "import seaborn as sns\n",
        "import time\n",
        "import random\n",
        "\n",
        "from sklearn.preprocessing import StandardScaler, MinMaxScaler\n",
        "from sklearn.decomposition import PCA\n",
        "from sklearn.pipeline import Pipeline, make_pipeline\n",
        "from sklearn.svm import SVC\n",
        "from sklearn.ensemble import RandomForestClassifier\n",
        "from sklearn.model_selection import train_test_split, cross_val_score, GridSearchCV\n",
        "from sklearn.model_selection import learning_curve, ShuffleSplit\n",
        "from sklearn.preprocessing import OneHotEncoder\n",
        "from sklearn.feature_selection import SelectKBest, chi2\n",
        "from sklearn.metrics import classification_report, mean_squared_error\n",
        "from math import sqrt\n",
        "\n",
        "# to make this notebook's output stable across runs\n",
        "np.random.seed(42)\n",
        "\n",
        "# To plot pretty figures\n",
        "%matplotlib inline\n",
        "import matplotlib as mpl\n",
        "import matplotlib.pyplot as plt\n",
        "\n",
        "# sklearn version > 0.20 is required \n",
        "sklearn.__version__\n",
        "# Update sklearn -> !pip install -U scikit-learn"
      ],
      "execution_count": 0,
      "outputs": [
        {
          "output_type": "execute_result",
          "data": {
            "text/plain": [
              "'0.22.2.post1'"
            ]
          },
          "metadata": {
            "tags": []
          },
          "execution_count": 517
        }
      ]
    },
    {
      "cell_type": "markdown",
      "metadata": {
        "id": "b3JqNfRpF4Ze",
        "colab_type": "text"
      },
      "source": [
        "#Data Scrubbing\n",
        "\n",
        "##Loading Data\n",
        "\n",
        "In this section, loading and viewing data are shown."
      ]
    },
    {
      "cell_type": "code",
      "metadata": {
        "id": "L7OGQw_wF0zL",
        "colab_type": "code",
        "outputId": "b30a877e-0a11-4693-b329-c49d12e24b94",
        "colab": {
          "base_uri": "https://localhost:8080/",
          "height": 316
        }
      },
      "source": [
        "df = pd.read_csv('https://raw.githubusercontent.com/ahshawaf/AML/master/diabetic_data.csv')\n",
        "df.head()"
      ],
      "execution_count": 0,
      "outputs": [
        {
          "output_type": "execute_result",
          "data": {
            "text/html": [
              "<div>\n",
              "<style scoped>\n",
              "    .dataframe tbody tr th:only-of-type {\n",
              "        vertical-align: middle;\n",
              "    }\n",
              "\n",
              "    .dataframe tbody tr th {\n",
              "        vertical-align: top;\n",
              "    }\n",
              "\n",
              "    .dataframe thead th {\n",
              "        text-align: right;\n",
              "    }\n",
              "</style>\n",
              "<table border=\"1\" class=\"dataframe\">\n",
              "  <thead>\n",
              "    <tr style=\"text-align: right;\">\n",
              "      <th></th>\n",
              "      <th>encounter_id</th>\n",
              "      <th>patient_nbr</th>\n",
              "      <th>race</th>\n",
              "      <th>gender</th>\n",
              "      <th>age</th>\n",
              "      <th>weight</th>\n",
              "      <th>admission_type_id</th>\n",
              "      <th>discharge_disposition_id</th>\n",
              "      <th>admission_source_id</th>\n",
              "      <th>time_in_hospital</th>\n",
              "      <th>payer_code</th>\n",
              "      <th>medical_specialty</th>\n",
              "      <th>num_lab_procedures</th>\n",
              "      <th>num_procedures</th>\n",
              "      <th>num_medications</th>\n",
              "      <th>number_outpatient</th>\n",
              "      <th>number_emergency</th>\n",
              "      <th>number_inpatient</th>\n",
              "      <th>diag_1</th>\n",
              "      <th>diag_2</th>\n",
              "      <th>diag_3</th>\n",
              "      <th>number_diagnoses</th>\n",
              "      <th>max_glu_serum</th>\n",
              "      <th>A1Cresult</th>\n",
              "      <th>metformin</th>\n",
              "      <th>repaglinide</th>\n",
              "      <th>nateglinide</th>\n",
              "      <th>chlorpropamide</th>\n",
              "      <th>glimepiride</th>\n",
              "      <th>acetohexamide</th>\n",
              "      <th>glipizide</th>\n",
              "      <th>glyburide</th>\n",
              "      <th>tolbutamide</th>\n",
              "      <th>pioglitazone</th>\n",
              "      <th>rosiglitazone</th>\n",
              "      <th>acarbose</th>\n",
              "      <th>miglitol</th>\n",
              "      <th>troglitazone</th>\n",
              "      <th>tolazamide</th>\n",
              "      <th>examide</th>\n",
              "      <th>citoglipton</th>\n",
              "      <th>insulin</th>\n",
              "      <th>glyburide-metformin</th>\n",
              "      <th>glipizide-metformin</th>\n",
              "      <th>glimepiride-pioglitazone</th>\n",
              "      <th>metformin-rosiglitazone</th>\n",
              "      <th>metformin-pioglitazone</th>\n",
              "      <th>change</th>\n",
              "      <th>diabetesMed</th>\n",
              "      <th>readmitted</th>\n",
              "    </tr>\n",
              "  </thead>\n",
              "  <tbody>\n",
              "    <tr>\n",
              "      <th>0</th>\n",
              "      <td>2278392</td>\n",
              "      <td>8222157</td>\n",
              "      <td>Caucasian</td>\n",
              "      <td>Female</td>\n",
              "      <td>[0-10)</td>\n",
              "      <td>?</td>\n",
              "      <td>6</td>\n",
              "      <td>25</td>\n",
              "      <td>1</td>\n",
              "      <td>1</td>\n",
              "      <td>?</td>\n",
              "      <td>Pediatrics-Endocrinology</td>\n",
              "      <td>41</td>\n",
              "      <td>0</td>\n",
              "      <td>1</td>\n",
              "      <td>0</td>\n",
              "      <td>0</td>\n",
              "      <td>0</td>\n",
              "      <td>250.83</td>\n",
              "      <td>?</td>\n",
              "      <td>?</td>\n",
              "      <td>1</td>\n",
              "      <td>None</td>\n",
              "      <td>None</td>\n",
              "      <td>No</td>\n",
              "      <td>No</td>\n",
              "      <td>No</td>\n",
              "      <td>No</td>\n",
              "      <td>No</td>\n",
              "      <td>No</td>\n",
              "      <td>No</td>\n",
              "      <td>No</td>\n",
              "      <td>No</td>\n",
              "      <td>No</td>\n",
              "      <td>No</td>\n",
              "      <td>No</td>\n",
              "      <td>No</td>\n",
              "      <td>No</td>\n",
              "      <td>No</td>\n",
              "      <td>No</td>\n",
              "      <td>No</td>\n",
              "      <td>No</td>\n",
              "      <td>No</td>\n",
              "      <td>No</td>\n",
              "      <td>No</td>\n",
              "      <td>No</td>\n",
              "      <td>No</td>\n",
              "      <td>No</td>\n",
              "      <td>No</td>\n",
              "      <td>NO</td>\n",
              "    </tr>\n",
              "    <tr>\n",
              "      <th>1</th>\n",
              "      <td>149190</td>\n",
              "      <td>55629189</td>\n",
              "      <td>Caucasian</td>\n",
              "      <td>Female</td>\n",
              "      <td>[10-20)</td>\n",
              "      <td>?</td>\n",
              "      <td>1</td>\n",
              "      <td>1</td>\n",
              "      <td>7</td>\n",
              "      <td>3</td>\n",
              "      <td>?</td>\n",
              "      <td>?</td>\n",
              "      <td>59</td>\n",
              "      <td>0</td>\n",
              "      <td>18</td>\n",
              "      <td>0</td>\n",
              "      <td>0</td>\n",
              "      <td>0</td>\n",
              "      <td>276</td>\n",
              "      <td>250.01</td>\n",
              "      <td>255</td>\n",
              "      <td>9</td>\n",
              "      <td>None</td>\n",
              "      <td>None</td>\n",
              "      <td>No</td>\n",
              "      <td>No</td>\n",
              "      <td>No</td>\n",
              "      <td>No</td>\n",
              "      <td>No</td>\n",
              "      <td>No</td>\n",
              "      <td>No</td>\n",
              "      <td>No</td>\n",
              "      <td>No</td>\n",
              "      <td>No</td>\n",
              "      <td>No</td>\n",
              "      <td>No</td>\n",
              "      <td>No</td>\n",
              "      <td>No</td>\n",
              "      <td>No</td>\n",
              "      <td>No</td>\n",
              "      <td>No</td>\n",
              "      <td>Up</td>\n",
              "      <td>No</td>\n",
              "      <td>No</td>\n",
              "      <td>No</td>\n",
              "      <td>No</td>\n",
              "      <td>No</td>\n",
              "      <td>Ch</td>\n",
              "      <td>Yes</td>\n",
              "      <td>&gt;30</td>\n",
              "    </tr>\n",
              "    <tr>\n",
              "      <th>2</th>\n",
              "      <td>64410</td>\n",
              "      <td>86047875</td>\n",
              "      <td>AfricanAmerican</td>\n",
              "      <td>Female</td>\n",
              "      <td>[20-30)</td>\n",
              "      <td>?</td>\n",
              "      <td>1</td>\n",
              "      <td>1</td>\n",
              "      <td>7</td>\n",
              "      <td>2</td>\n",
              "      <td>?</td>\n",
              "      <td>?</td>\n",
              "      <td>11</td>\n",
              "      <td>5</td>\n",
              "      <td>13</td>\n",
              "      <td>2</td>\n",
              "      <td>0</td>\n",
              "      <td>1</td>\n",
              "      <td>648</td>\n",
              "      <td>250</td>\n",
              "      <td>V27</td>\n",
              "      <td>6</td>\n",
              "      <td>None</td>\n",
              "      <td>None</td>\n",
              "      <td>No</td>\n",
              "      <td>No</td>\n",
              "      <td>No</td>\n",
              "      <td>No</td>\n",
              "      <td>No</td>\n",
              "      <td>No</td>\n",
              "      <td>Steady</td>\n",
              "      <td>No</td>\n",
              "      <td>No</td>\n",
              "      <td>No</td>\n",
              "      <td>No</td>\n",
              "      <td>No</td>\n",
              "      <td>No</td>\n",
              "      <td>No</td>\n",
              "      <td>No</td>\n",
              "      <td>No</td>\n",
              "      <td>No</td>\n",
              "      <td>No</td>\n",
              "      <td>No</td>\n",
              "      <td>No</td>\n",
              "      <td>No</td>\n",
              "      <td>No</td>\n",
              "      <td>No</td>\n",
              "      <td>No</td>\n",
              "      <td>Yes</td>\n",
              "      <td>NO</td>\n",
              "    </tr>\n",
              "    <tr>\n",
              "      <th>3</th>\n",
              "      <td>500364</td>\n",
              "      <td>82442376</td>\n",
              "      <td>Caucasian</td>\n",
              "      <td>Male</td>\n",
              "      <td>[30-40)</td>\n",
              "      <td>?</td>\n",
              "      <td>1</td>\n",
              "      <td>1</td>\n",
              "      <td>7</td>\n",
              "      <td>2</td>\n",
              "      <td>?</td>\n",
              "      <td>?</td>\n",
              "      <td>44</td>\n",
              "      <td>1</td>\n",
              "      <td>16</td>\n",
              "      <td>0</td>\n",
              "      <td>0</td>\n",
              "      <td>0</td>\n",
              "      <td>8</td>\n",
              "      <td>250.43</td>\n",
              "      <td>403</td>\n",
              "      <td>7</td>\n",
              "      <td>None</td>\n",
              "      <td>None</td>\n",
              "      <td>No</td>\n",
              "      <td>No</td>\n",
              "      <td>No</td>\n",
              "      <td>No</td>\n",
              "      <td>No</td>\n",
              "      <td>No</td>\n",
              "      <td>No</td>\n",
              "      <td>No</td>\n",
              "      <td>No</td>\n",
              "      <td>No</td>\n",
              "      <td>No</td>\n",
              "      <td>No</td>\n",
              "      <td>No</td>\n",
              "      <td>No</td>\n",
              "      <td>No</td>\n",
              "      <td>No</td>\n",
              "      <td>No</td>\n",
              "      <td>Up</td>\n",
              "      <td>No</td>\n",
              "      <td>No</td>\n",
              "      <td>No</td>\n",
              "      <td>No</td>\n",
              "      <td>No</td>\n",
              "      <td>Ch</td>\n",
              "      <td>Yes</td>\n",
              "      <td>NO</td>\n",
              "    </tr>\n",
              "    <tr>\n",
              "      <th>4</th>\n",
              "      <td>16680</td>\n",
              "      <td>42519267</td>\n",
              "      <td>Caucasian</td>\n",
              "      <td>Male</td>\n",
              "      <td>[40-50)</td>\n",
              "      <td>?</td>\n",
              "      <td>1</td>\n",
              "      <td>1</td>\n",
              "      <td>7</td>\n",
              "      <td>1</td>\n",
              "      <td>?</td>\n",
              "      <td>?</td>\n",
              "      <td>51</td>\n",
              "      <td>0</td>\n",
              "      <td>8</td>\n",
              "      <td>0</td>\n",
              "      <td>0</td>\n",
              "      <td>0</td>\n",
              "      <td>197</td>\n",
              "      <td>157</td>\n",
              "      <td>250</td>\n",
              "      <td>5</td>\n",
              "      <td>None</td>\n",
              "      <td>None</td>\n",
              "      <td>No</td>\n",
              "      <td>No</td>\n",
              "      <td>No</td>\n",
              "      <td>No</td>\n",
              "      <td>No</td>\n",
              "      <td>No</td>\n",
              "      <td>Steady</td>\n",
              "      <td>No</td>\n",
              "      <td>No</td>\n",
              "      <td>No</td>\n",
              "      <td>No</td>\n",
              "      <td>No</td>\n",
              "      <td>No</td>\n",
              "      <td>No</td>\n",
              "      <td>No</td>\n",
              "      <td>No</td>\n",
              "      <td>No</td>\n",
              "      <td>Steady</td>\n",
              "      <td>No</td>\n",
              "      <td>No</td>\n",
              "      <td>No</td>\n",
              "      <td>No</td>\n",
              "      <td>No</td>\n",
              "      <td>Ch</td>\n",
              "      <td>Yes</td>\n",
              "      <td>NO</td>\n",
              "    </tr>\n",
              "  </tbody>\n",
              "</table>\n",
              "</div>"
            ],
            "text/plain": [
              "   encounter_id  patient_nbr             race  ... change diabetesMed readmitted\n",
              "0       2278392      8222157        Caucasian  ...     No          No         NO\n",
              "1        149190     55629189        Caucasian  ...     Ch         Yes        >30\n",
              "2         64410     86047875  AfricanAmerican  ...     No         Yes         NO\n",
              "3        500364     82442376        Caucasian  ...     Ch         Yes         NO\n",
              "4         16680     42519267        Caucasian  ...     Ch         Yes         NO\n",
              "\n",
              "[5 rows x 50 columns]"
            ]
          },
          "metadata": {
            "tags": []
          },
          "execution_count": 447
        }
      ]
    },
    {
      "cell_type": "markdown",
      "metadata": {
        "id": "sq51cfXyGnVo",
        "colab_type": "text"
      },
      "source": [
        "##Exploring Data\n",
        "\n",
        "here, the data will be investigated to see if there is missing data and also to figure out any other issue in the data.\n",
        "\n",
        "First, see the size of the data set."
      ]
    },
    {
      "cell_type": "code",
      "metadata": {
        "id": "XbdGjJKZG5kZ",
        "colab_type": "code",
        "outputId": "860ffc68-30b2-46b7-9d28-9fdfae68cbb7",
        "colab": {
          "base_uri": "https://localhost:8080/",
          "height": 34
        }
      },
      "source": [
        "len(df)"
      ],
      "execution_count": 0,
      "outputs": [
        {
          "output_type": "execute_result",
          "data": {
            "text/plain": [
              "101766"
            ]
          },
          "metadata": {
            "tags": []
          },
          "execution_count": 448
        }
      ]
    },
    {
      "cell_type": "markdown",
      "metadata": {
        "id": "xa9sd-U-H4wv",
        "colab_type": "text"
      },
      "source": [
        "Then, display the dimensionality of the data"
      ]
    },
    {
      "cell_type": "code",
      "metadata": {
        "id": "cRho8e8zHa5a",
        "colab_type": "code",
        "outputId": "0a4ae5d9-224d-4979-e4d3-a580fd7985ef",
        "colab": {
          "base_uri": "https://localhost:8080/",
          "height": 34
        }
      },
      "source": [
        "df.shape"
      ],
      "execution_count": 0,
      "outputs": [
        {
          "output_type": "execute_result",
          "data": {
            "text/plain": [
              "(101766, 50)"
            ]
          },
          "metadata": {
            "tags": []
          },
          "execution_count": 449
        }
      ]
    },
    {
      "cell_type": "markdown",
      "metadata": {
        "id": "pVxCAaQRIK2U",
        "colab_type": "text"
      },
      "source": [
        "Now, info of the data is displayed."
      ]
    },
    {
      "cell_type": "code",
      "metadata": {
        "id": "7j7lVPncIG1m",
        "colab_type": "code",
        "outputId": "9f6b0ee4-605f-4070-87a7-7e5575991871",
        "colab": {
          "base_uri": "https://localhost:8080/",
          "height": 985
        }
      },
      "source": [
        "df.info()"
      ],
      "execution_count": 0,
      "outputs": [
        {
          "output_type": "stream",
          "text": [
            "<class 'pandas.core.frame.DataFrame'>\n",
            "RangeIndex: 101766 entries, 0 to 101765\n",
            "Data columns (total 50 columns):\n",
            "encounter_id                101766 non-null int64\n",
            "patient_nbr                 101766 non-null int64\n",
            "race                        101766 non-null object\n",
            "gender                      101766 non-null object\n",
            "age                         101766 non-null object\n",
            "weight                      101766 non-null object\n",
            "admission_type_id           101766 non-null int64\n",
            "discharge_disposition_id    101766 non-null int64\n",
            "admission_source_id         101766 non-null int64\n",
            "time_in_hospital            101766 non-null int64\n",
            "payer_code                  101766 non-null object\n",
            "medical_specialty           101766 non-null object\n",
            "num_lab_procedures          101766 non-null int64\n",
            "num_procedures              101766 non-null int64\n",
            "num_medications             101766 non-null int64\n",
            "number_outpatient           101766 non-null int64\n",
            "number_emergency            101766 non-null int64\n",
            "number_inpatient            101766 non-null int64\n",
            "diag_1                      101766 non-null object\n",
            "diag_2                      101766 non-null object\n",
            "diag_3                      101766 non-null object\n",
            "number_diagnoses            101766 non-null int64\n",
            "max_glu_serum               101766 non-null object\n",
            "A1Cresult                   101766 non-null object\n",
            "metformin                   101766 non-null object\n",
            "repaglinide                 101766 non-null object\n",
            "nateglinide                 101766 non-null object\n",
            "chlorpropamide              101766 non-null object\n",
            "glimepiride                 101766 non-null object\n",
            "acetohexamide               101766 non-null object\n",
            "glipizide                   101766 non-null object\n",
            "glyburide                   101766 non-null object\n",
            "tolbutamide                 101766 non-null object\n",
            "pioglitazone                101766 non-null object\n",
            "rosiglitazone               101766 non-null object\n",
            "acarbose                    101766 non-null object\n",
            "miglitol                    101766 non-null object\n",
            "troglitazone                101766 non-null object\n",
            "tolazamide                  101766 non-null object\n",
            "examide                     101766 non-null object\n",
            "citoglipton                 101766 non-null object\n",
            "insulin                     101766 non-null object\n",
            "glyburide-metformin         101766 non-null object\n",
            "glipizide-metformin         101766 non-null object\n",
            "glimepiride-pioglitazone    101766 non-null object\n",
            "metformin-rosiglitazone     101766 non-null object\n",
            "metformin-pioglitazone      101766 non-null object\n",
            "change                      101766 non-null object\n",
            "diabetesMed                 101766 non-null object\n",
            "readmitted                  101766 non-null object\n",
            "dtypes: int64(13), object(37)\n",
            "memory usage: 38.8+ MB\n"
          ],
          "name": "stdout"
        }
      ]
    },
    {
      "cell_type": "markdown",
      "metadata": {
        "id": "EiO94IyQL082",
        "colab_type": "text"
      },
      "source": [
        "Here is more information about data."
      ]
    },
    {
      "cell_type": "code",
      "metadata": {
        "id": "8YhUu17RMAna",
        "colab_type": "code",
        "outputId": "65a5c825-87dd-4f62-db8b-0f36d01c1077",
        "colab": {
          "base_uri": "https://localhost:8080/",
          "height": 304
        }
      },
      "source": [
        "df.describe()"
      ],
      "execution_count": 0,
      "outputs": [
        {
          "output_type": "execute_result",
          "data": {
            "text/html": [
              "<div>\n",
              "<style scoped>\n",
              "    .dataframe tbody tr th:only-of-type {\n",
              "        vertical-align: middle;\n",
              "    }\n",
              "\n",
              "    .dataframe tbody tr th {\n",
              "        vertical-align: top;\n",
              "    }\n",
              "\n",
              "    .dataframe thead th {\n",
              "        text-align: right;\n",
              "    }\n",
              "</style>\n",
              "<table border=\"1\" class=\"dataframe\">\n",
              "  <thead>\n",
              "    <tr style=\"text-align: right;\">\n",
              "      <th></th>\n",
              "      <th>encounter_id</th>\n",
              "      <th>patient_nbr</th>\n",
              "      <th>admission_type_id</th>\n",
              "      <th>discharge_disposition_id</th>\n",
              "      <th>admission_source_id</th>\n",
              "      <th>time_in_hospital</th>\n",
              "      <th>num_lab_procedures</th>\n",
              "      <th>num_procedures</th>\n",
              "      <th>num_medications</th>\n",
              "      <th>number_outpatient</th>\n",
              "      <th>number_emergency</th>\n",
              "      <th>number_inpatient</th>\n",
              "      <th>number_diagnoses</th>\n",
              "    </tr>\n",
              "  </thead>\n",
              "  <tbody>\n",
              "    <tr>\n",
              "      <th>count</th>\n",
              "      <td>1.017660e+05</td>\n",
              "      <td>1.017660e+05</td>\n",
              "      <td>101766.000000</td>\n",
              "      <td>101766.000000</td>\n",
              "      <td>101766.000000</td>\n",
              "      <td>101766.000000</td>\n",
              "      <td>101766.000000</td>\n",
              "      <td>101766.000000</td>\n",
              "      <td>101766.000000</td>\n",
              "      <td>101766.000000</td>\n",
              "      <td>101766.000000</td>\n",
              "      <td>101766.000000</td>\n",
              "      <td>101766.000000</td>\n",
              "    </tr>\n",
              "    <tr>\n",
              "      <th>mean</th>\n",
              "      <td>1.652016e+08</td>\n",
              "      <td>5.433040e+07</td>\n",
              "      <td>2.024006</td>\n",
              "      <td>3.715642</td>\n",
              "      <td>5.754437</td>\n",
              "      <td>4.395987</td>\n",
              "      <td>43.095641</td>\n",
              "      <td>1.339730</td>\n",
              "      <td>16.021844</td>\n",
              "      <td>0.369357</td>\n",
              "      <td>0.197836</td>\n",
              "      <td>0.635566</td>\n",
              "      <td>7.422607</td>\n",
              "    </tr>\n",
              "    <tr>\n",
              "      <th>std</th>\n",
              "      <td>1.026403e+08</td>\n",
              "      <td>3.869636e+07</td>\n",
              "      <td>1.445403</td>\n",
              "      <td>5.280166</td>\n",
              "      <td>4.064081</td>\n",
              "      <td>2.985108</td>\n",
              "      <td>19.674362</td>\n",
              "      <td>1.705807</td>\n",
              "      <td>8.127566</td>\n",
              "      <td>1.267265</td>\n",
              "      <td>0.930472</td>\n",
              "      <td>1.262863</td>\n",
              "      <td>1.933600</td>\n",
              "    </tr>\n",
              "    <tr>\n",
              "      <th>min</th>\n",
              "      <td>1.252200e+04</td>\n",
              "      <td>1.350000e+02</td>\n",
              "      <td>1.000000</td>\n",
              "      <td>1.000000</td>\n",
              "      <td>1.000000</td>\n",
              "      <td>1.000000</td>\n",
              "      <td>1.000000</td>\n",
              "      <td>0.000000</td>\n",
              "      <td>1.000000</td>\n",
              "      <td>0.000000</td>\n",
              "      <td>0.000000</td>\n",
              "      <td>0.000000</td>\n",
              "      <td>1.000000</td>\n",
              "    </tr>\n",
              "    <tr>\n",
              "      <th>25%</th>\n",
              "      <td>8.496119e+07</td>\n",
              "      <td>2.341322e+07</td>\n",
              "      <td>1.000000</td>\n",
              "      <td>1.000000</td>\n",
              "      <td>1.000000</td>\n",
              "      <td>2.000000</td>\n",
              "      <td>31.000000</td>\n",
              "      <td>0.000000</td>\n",
              "      <td>10.000000</td>\n",
              "      <td>0.000000</td>\n",
              "      <td>0.000000</td>\n",
              "      <td>0.000000</td>\n",
              "      <td>6.000000</td>\n",
              "    </tr>\n",
              "    <tr>\n",
              "      <th>50%</th>\n",
              "      <td>1.523890e+08</td>\n",
              "      <td>4.550514e+07</td>\n",
              "      <td>1.000000</td>\n",
              "      <td>1.000000</td>\n",
              "      <td>7.000000</td>\n",
              "      <td>4.000000</td>\n",
              "      <td>44.000000</td>\n",
              "      <td>1.000000</td>\n",
              "      <td>15.000000</td>\n",
              "      <td>0.000000</td>\n",
              "      <td>0.000000</td>\n",
              "      <td>0.000000</td>\n",
              "      <td>8.000000</td>\n",
              "    </tr>\n",
              "    <tr>\n",
              "      <th>75%</th>\n",
              "      <td>2.302709e+08</td>\n",
              "      <td>8.754595e+07</td>\n",
              "      <td>3.000000</td>\n",
              "      <td>4.000000</td>\n",
              "      <td>7.000000</td>\n",
              "      <td>6.000000</td>\n",
              "      <td>57.000000</td>\n",
              "      <td>2.000000</td>\n",
              "      <td>20.000000</td>\n",
              "      <td>0.000000</td>\n",
              "      <td>0.000000</td>\n",
              "      <td>1.000000</td>\n",
              "      <td>9.000000</td>\n",
              "    </tr>\n",
              "    <tr>\n",
              "      <th>max</th>\n",
              "      <td>4.438672e+08</td>\n",
              "      <td>1.895026e+08</td>\n",
              "      <td>8.000000</td>\n",
              "      <td>28.000000</td>\n",
              "      <td>25.000000</td>\n",
              "      <td>14.000000</td>\n",
              "      <td>132.000000</td>\n",
              "      <td>6.000000</td>\n",
              "      <td>81.000000</td>\n",
              "      <td>42.000000</td>\n",
              "      <td>76.000000</td>\n",
              "      <td>21.000000</td>\n",
              "      <td>16.000000</td>\n",
              "    </tr>\n",
              "  </tbody>\n",
              "</table>\n",
              "</div>"
            ],
            "text/plain": [
              "       encounter_id   patient_nbr  ...  number_inpatient  number_diagnoses\n",
              "count  1.017660e+05  1.017660e+05  ...     101766.000000     101766.000000\n",
              "mean   1.652016e+08  5.433040e+07  ...          0.635566          7.422607\n",
              "std    1.026403e+08  3.869636e+07  ...          1.262863          1.933600\n",
              "min    1.252200e+04  1.350000e+02  ...          0.000000          1.000000\n",
              "25%    8.496119e+07  2.341322e+07  ...          0.000000          6.000000\n",
              "50%    1.523890e+08  4.550514e+07  ...          0.000000          8.000000\n",
              "75%    2.302709e+08  8.754595e+07  ...          1.000000          9.000000\n",
              "max    4.438672e+08  1.895026e+08  ...         21.000000         16.000000\n",
              "\n",
              "[8 rows x 13 columns]"
            ]
          },
          "metadata": {
            "tags": []
          },
          "execution_count": 451
        }
      ]
    },
    {
      "cell_type": "markdown",
      "metadata": {
        "id": "rrGnUDJ9OokI",
        "colab_type": "text"
      },
      "source": [
        "Next, check the number of object types."
      ]
    },
    {
      "cell_type": "code",
      "metadata": {
        "id": "soicJgadMFPR",
        "colab_type": "code",
        "outputId": "542247c9-a893-4db5-fc60-56849b44037e",
        "colab": {
          "base_uri": "https://localhost:8080/",
          "height": 70
        }
      },
      "source": [
        "df.dtypes.value_counts()"
      ],
      "execution_count": 0,
      "outputs": [
        {
          "output_type": "execute_result",
          "data": {
            "text/plain": [
              "object    37\n",
              "int64     13\n",
              "dtype: int64"
            ]
          },
          "metadata": {
            "tags": []
          },
          "execution_count": 452
        }
      ]
    },
    {
      "cell_type": "markdown",
      "metadata": {
        "id": "GpjIVmCbNseJ",
        "colab_type": "text"
      },
      "source": [
        "Check is there is a null values in columns."
      ]
    },
    {
      "cell_type": "code",
      "metadata": {
        "id": "85CNCszpNtkW",
        "colab_type": "code",
        "outputId": "84d778b4-1231-463e-99b9-eccbf62238c2",
        "colab": {
          "base_uri": "https://localhost:8080/",
          "height": 914
        }
      },
      "source": [
        "df.isnull().sum()"
      ],
      "execution_count": 0,
      "outputs": [
        {
          "output_type": "execute_result",
          "data": {
            "text/plain": [
              "encounter_id                0\n",
              "patient_nbr                 0\n",
              "race                        0\n",
              "gender                      0\n",
              "age                         0\n",
              "weight                      0\n",
              "admission_type_id           0\n",
              "discharge_disposition_id    0\n",
              "admission_source_id         0\n",
              "time_in_hospital            0\n",
              "payer_code                  0\n",
              "medical_specialty           0\n",
              "num_lab_procedures          0\n",
              "num_procedures              0\n",
              "num_medications             0\n",
              "number_outpatient           0\n",
              "number_emergency            0\n",
              "number_inpatient            0\n",
              "diag_1                      0\n",
              "diag_2                      0\n",
              "diag_3                      0\n",
              "number_diagnoses            0\n",
              "max_glu_serum               0\n",
              "A1Cresult                   0\n",
              "metformin                   0\n",
              "repaglinide                 0\n",
              "nateglinide                 0\n",
              "chlorpropamide              0\n",
              "glimepiride                 0\n",
              "acetohexamide               0\n",
              "glipizide                   0\n",
              "glyburide                   0\n",
              "tolbutamide                 0\n",
              "pioglitazone                0\n",
              "rosiglitazone               0\n",
              "acarbose                    0\n",
              "miglitol                    0\n",
              "troglitazone                0\n",
              "tolazamide                  0\n",
              "examide                     0\n",
              "citoglipton                 0\n",
              "insulin                     0\n",
              "glyburide-metformin         0\n",
              "glipizide-metformin         0\n",
              "glimepiride-pioglitazone    0\n",
              "metformin-rosiglitazone     0\n",
              "metformin-pioglitazone      0\n",
              "change                      0\n",
              "diabetesMed                 0\n",
              "readmitted                  0\n",
              "dtype: int64"
            ]
          },
          "metadata": {
            "tags": []
          },
          "execution_count": 453
        }
      ]
    },
    {
      "cell_type": "markdown",
      "metadata": {
        "id": "q3sJ3LMRNxbb",
        "colab_type": "text"
      },
      "source": [
        "As from the above there is no null values.\n",
        "\n",
        "Check if there is 'NaN' value in the dataframe"
      ]
    },
    {
      "cell_type": "code",
      "metadata": {
        "id": "CQXYSrsmN_Fq",
        "colab_type": "code",
        "outputId": "911099e0-dba2-4e9c-8a88-5c6643470367",
        "colab": {
          "base_uri": "https://localhost:8080/",
          "height": 914
        }
      },
      "source": [
        "df.isna().sum()"
      ],
      "execution_count": 0,
      "outputs": [
        {
          "output_type": "execute_result",
          "data": {
            "text/plain": [
              "encounter_id                0\n",
              "patient_nbr                 0\n",
              "race                        0\n",
              "gender                      0\n",
              "age                         0\n",
              "weight                      0\n",
              "admission_type_id           0\n",
              "discharge_disposition_id    0\n",
              "admission_source_id         0\n",
              "time_in_hospital            0\n",
              "payer_code                  0\n",
              "medical_specialty           0\n",
              "num_lab_procedures          0\n",
              "num_procedures              0\n",
              "num_medications             0\n",
              "number_outpatient           0\n",
              "number_emergency            0\n",
              "number_inpatient            0\n",
              "diag_1                      0\n",
              "diag_2                      0\n",
              "diag_3                      0\n",
              "number_diagnoses            0\n",
              "max_glu_serum               0\n",
              "A1Cresult                   0\n",
              "metformin                   0\n",
              "repaglinide                 0\n",
              "nateglinide                 0\n",
              "chlorpropamide              0\n",
              "glimepiride                 0\n",
              "acetohexamide               0\n",
              "glipizide                   0\n",
              "glyburide                   0\n",
              "tolbutamide                 0\n",
              "pioglitazone                0\n",
              "rosiglitazone               0\n",
              "acarbose                    0\n",
              "miglitol                    0\n",
              "troglitazone                0\n",
              "tolazamide                  0\n",
              "examide                     0\n",
              "citoglipton                 0\n",
              "insulin                     0\n",
              "glyburide-metformin         0\n",
              "glipizide-metformin         0\n",
              "glimepiride-pioglitazone    0\n",
              "metformin-rosiglitazone     0\n",
              "metformin-pioglitazone      0\n",
              "change                      0\n",
              "diabetesMed                 0\n",
              "readmitted                  0\n",
              "dtype: int64"
            ]
          },
          "metadata": {
            "tags": []
          },
          "execution_count": 454
        }
      ]
    },
    {
      "cell_type": "markdown",
      "metadata": {
        "id": "wOYOKU44OBzy",
        "colab_type": "text"
      },
      "source": [
        "From the above, there is no 'NaN' value in dataframe.\n",
        "\n",
        "From the sample data above, the missing data were marked as '?'. Let see in the dataframe and count them."
      ]
    },
    {
      "cell_type": "code",
      "metadata": {
        "id": "j-15_52BOOV5",
        "colab_type": "code",
        "outputId": "21fd6e49-10ea-4204-e2e7-cecdeeab4451",
        "colab": {
          "base_uri": "https://localhost:8080/",
          "height": 914
        }
      },
      "source": [
        "missing_data=df.isin(['?']).sum()\n",
        "missing_data"
      ],
      "execution_count": 0,
      "outputs": [
        {
          "output_type": "execute_result",
          "data": {
            "text/plain": [
              "encounter_id                    0\n",
              "patient_nbr                     0\n",
              "race                         2273\n",
              "gender                          0\n",
              "age                             0\n",
              "weight                      98569\n",
              "admission_type_id               0\n",
              "discharge_disposition_id        0\n",
              "admission_source_id             0\n",
              "time_in_hospital                0\n",
              "payer_code                  40256\n",
              "medical_specialty           49949\n",
              "num_lab_procedures              0\n",
              "num_procedures                  0\n",
              "num_medications                 0\n",
              "number_outpatient               0\n",
              "number_emergency                0\n",
              "number_inpatient                0\n",
              "diag_1                         21\n",
              "diag_2                        358\n",
              "diag_3                       1423\n",
              "number_diagnoses                0\n",
              "max_glu_serum                   0\n",
              "A1Cresult                       0\n",
              "metformin                       0\n",
              "repaglinide                     0\n",
              "nateglinide                     0\n",
              "chlorpropamide                  0\n",
              "glimepiride                     0\n",
              "acetohexamide                   0\n",
              "glipizide                       0\n",
              "glyburide                       0\n",
              "tolbutamide                     0\n",
              "pioglitazone                    0\n",
              "rosiglitazone                   0\n",
              "acarbose                        0\n",
              "miglitol                        0\n",
              "troglitazone                    0\n",
              "tolazamide                      0\n",
              "examide                         0\n",
              "citoglipton                     0\n",
              "insulin                         0\n",
              "glyburide-metformin             0\n",
              "glipizide-metformin             0\n",
              "glimepiride-pioglitazone        0\n",
              "metformin-rosiglitazone         0\n",
              "metformin-pioglitazone          0\n",
              "change                          0\n",
              "diabetesMed                     0\n",
              "readmitted                      0\n",
              "dtype: int64"
            ]
          },
          "metadata": {
            "tags": []
          },
          "execution_count": 455
        }
      ]
    },
    {
      "cell_type": "markdown",
      "metadata": {
        "id": "-lj7wbShOR6T",
        "colab_type": "text"
      },
      "source": [
        "Calculate the percentage of the missing for the column that has that."
      ]
    },
    {
      "cell_type": "code",
      "metadata": {
        "id": "f-O_GwDwOS4C",
        "colab_type": "code",
        "colab": {}
      },
      "source": [
        "#Custom function to calculate the precentage of an attribute\n",
        "def cal_Percentage(attributeName,missing_data=missing_data,dataFrame=df):\n",
        "    print('{0}: {1:.2f} % missing data'.format(attributeName,missing_data[attributeName]/len(df)*100))"
      ],
      "execution_count": 0,
      "outputs": []
    },
    {
      "cell_type": "code",
      "metadata": {
        "id": "b_eZAd-OOXLI",
        "colab_type": "code",
        "outputId": "58531e67-68cb-480a-afe1-d122cb0a1d03",
        "colab": {
          "base_uri": "https://localhost:8080/",
          "height": 140
        }
      },
      "source": [
        "for att in missing_data.keys():\n",
        "  if missing_data[att] > 0:\n",
        "    cal_Percentage(att)"
      ],
      "execution_count": 0,
      "outputs": [
        {
          "output_type": "stream",
          "text": [
            "race: 2.23 % missing data\n",
            "weight: 96.86 % missing data\n",
            "payer_code: 39.56 % missing data\n",
            "medical_specialty: 49.08 % missing data\n",
            "diag_1: 0.02 % missing data\n",
            "diag_2: 0.35 % missing data\n",
            "diag_3: 1.40 % missing data\n"
          ],
          "name": "stdout"
        }
      ]
    },
    {
      "cell_type": "markdown",
      "metadata": {
        "id": "b41AQhe0ObMn",
        "colab_type": "text"
      },
      "source": [
        "From the above, it shows that the follwing attributes has missing data:\n",
        "1.   race 2%\n",
        "2.   weight 97%\n",
        "3.   payer_code 40% \n",
        "4.   medical_specialty 49%\n",
        "5.   diag_1 0.02%\n",
        "6.   diag_2 0.35%\n",
        "7.   diag_3 1.40%"
      ]
    },
    {
      "cell_type": "markdown",
      "metadata": {
        "id": "qPMmNyxcMQzA",
        "colab_type": "text"
      },
      "source": [
        "It is concluded that that there are a total of 50 columns. The breakdown is as follows:\n",
        "- 2 of these columns are target variable/labels,which are 'diabetesMed and 'readmitted' and both are text features.\n",
        "- 48 of these columns are features, and 35 are text features and 13 are numeric features."
      ]
    },
    {
      "cell_type": "markdown",
      "metadata": {
        "id": "WL1_MvsvM9XU",
        "colab_type": "text"
      },
      "source": [
        "##Features Engineering\n",
        "\n",
        "\n",
        "Let's see the correlation of each feature using heatmap."
      ]
    },
    {
      "cell_type": "code",
      "metadata": {
        "id": "g-Jw5j-rM8zA",
        "colab_type": "code",
        "outputId": "6d795f95-7641-42f7-8c0e-c281982eae69",
        "colab": {
          "base_uri": "https://localhost:8080/",
          "height": 400
        }
      },
      "source": [
        "corr = df.corr()\n",
        "sns.heatmap(corr,annot = True)"
      ],
      "execution_count": 0,
      "outputs": [
        {
          "output_type": "execute_result",
          "data": {
            "text/plain": [
              "<matplotlib.axes._subplots.AxesSubplot at 0x7fc860c237b8>"
            ]
          },
          "metadata": {
            "tags": []
          },
          "execution_count": 458
        },
        {
          "output_type": "display_data",
          "data": {
            "image/png": "[encoded data removed]",
            "text/plain": [
              "<Figure size 432x288 with 2 Axes>"
            ]
          },
          "metadata": {
            "tags": []
          }
        }
      ]
    },
    {
      "cell_type": "markdown",
      "metadata": {
        "id": "aw20pj86NVDh",
        "colab_type": "text"
      },
      "source": [
        "This can be seen that there aren't any high correlation greater than 0.9 between each feature. However, this doesn't mean that all features are needed to be used to create learning model, such as patient_id, physician_id, payer_id, etc. Therefore, FeatureSelector method shall kick in.\n",
        "\n",
        "Let's drop some columnus that has value as id and missing value greater than 70%"
      ]
    },
    {
      "cell_type": "code",
      "metadata": {
        "id": "HwtO9h_vNZFM",
        "colab_type": "code",
        "outputId": "55e6fe61-9e23-4070-ad4a-f33a884cb8f1",
        "colab": {
          "base_uri": "https://localhost:8080/",
          "height": 34
        }
      },
      "source": [
        "data = df.drop(['encounter_id','patient_nbr','weight','admission_type_id','discharge_disposition_id',\n",
        "                  'admission_source_id','payer_code','medical_specialty','diag_1','diag_2','diag_3'], axis=1)\n",
        "\n",
        "data.shape"
      ],
      "execution_count": 0,
      "outputs": [
        {
          "output_type": "execute_result",
          "data": {
            "text/plain": [
              "(101766, 39)"
            ]
          },
          "metadata": {
            "tags": []
          },
          "execution_count": 459
        }
      ]
    },
    {
      "cell_type": "markdown",
      "metadata": {
        "id": "iASmUPwTPDRy",
        "colab_type": "text"
      },
      "source": [
        "##Data Visualization"
      ]
    },
    {
      "cell_type": "markdown",
      "metadata": {
        "id": "eCbiqfkSPUm1",
        "colab_type": "text"
      },
      "source": [
        "Display data in histgram charts to see how is the data distributed."
      ]
    },
    {
      "cell_type": "code",
      "metadata": {
        "id": "207JRI4fPFEb",
        "colab_type": "code",
        "outputId": "c61c7a93-4d6a-47d7-9e88-cab734c43a00",
        "colab": {
          "base_uri": "https://localhost:8080/",
          "height": 1000
        }
      },
      "source": [
        "data.hist(figsize=(20,20))"
      ],
      "execution_count": 0,
      "outputs": [
        {
          "output_type": "stream",
          "text": [
            "/usr/local/lib/python3.6/dist-packages/pandas/plotting/_matplotlib/tools.py:307: MatplotlibDeprecationWarning: \n",
            "The rowNum attribute was deprecated in Matplotlib 3.2 and will be removed two minor releases later. Use ax.get_subplotspec().rowspan.start instead.\n",
            "  layout[ax.rowNum, ax.colNum] = ax.get_visible()\n",
            "/usr/local/lib/python3.6/dist-packages/pandas/plotting/_matplotlib/tools.py:307: MatplotlibDeprecationWarning: \n",
            "The colNum attribute was deprecated in Matplotlib 3.2 and will be removed two minor releases later. Use ax.get_subplotspec().colspan.start instead.\n",
            "  layout[ax.rowNum, ax.colNum] = ax.get_visible()\n",
            "/usr/local/lib/python3.6/dist-packages/pandas/plotting/_matplotlib/tools.py:313: MatplotlibDeprecationWarning: \n",
            "The rowNum attribute was deprecated in Matplotlib 3.2 and will be removed two minor releases later. Use ax.get_subplotspec().rowspan.start instead.\n",
            "  if not layout[ax.rowNum + 1, ax.colNum]:\n",
            "/usr/local/lib/python3.6/dist-packages/pandas/plotting/_matplotlib/tools.py:313: MatplotlibDeprecationWarning: \n",
            "The colNum attribute was deprecated in Matplotlib 3.2 and will be removed two minor releases later. Use ax.get_subplotspec().colspan.start instead.\n",
            "  if not layout[ax.rowNum + 1, ax.colNum]:\n"
          ],
          "name": "stderr"
        },
        {
          "output_type": "execute_result",
          "data": {
            "text/plain": [
              "array([[<matplotlib.axes._subplots.AxesSubplot object at 0x7fc86a5266d8>,\n",
              "        <matplotlib.axes._subplots.AxesSubplot object at 0x7fc85f8219e8>,\n",
              "        <matplotlib.axes._subplots.AxesSubplot object at 0x7fc85fb9bd68>],\n",
              "       [<matplotlib.axes._subplots.AxesSubplot object at 0x7fc8603cb128>,\n",
              "        <matplotlib.axes._subplots.AxesSubplot object at 0x7fc86093f4a8>,\n",
              "        <matplotlib.axes._subplots.AxesSubplot object at 0x7fc86062e828>],\n",
              "       [<matplotlib.axes._subplots.AxesSubplot object at 0x7fc85fd88ba8>,\n",
              "        <matplotlib.axes._subplots.AxesSubplot object at 0x7fc8602c4ef0>,\n",
              "        <matplotlib.axes._subplots.AxesSubplot object at 0x7fc8602c4f60>]],\n",
              "      dtype=object)"
            ]
          },
          "metadata": {
            "tags": []
          },
          "execution_count": 460
        },
        {
          "output_type": "display_data",
          "data": {
            "image/png": "[encoded data removed]",
            "text/plain": [
              "<Figure size 1440x1440 with 9 Axes>"
            ]
          },
          "metadata": {
            "tags": []
          }
        }
      ]
    },
    {
      "cell_type": "markdown",
      "metadata": {
        "id": "4UsLKRunl4jD",
        "colab_type": "text"
      },
      "source": [
        "##Group By Gender\n"
      ]
    },
    {
      "cell_type": "code",
      "metadata": {
        "id": "dZx8axq-x7g8",
        "colab_type": "code",
        "outputId": "dc89eb4f-4a57-455c-fcc2-dc3fdabc56b9",
        "colab": {
          "base_uri": "https://localhost:8080/",
          "height": 202
        }
      },
      "source": [
        "count_y_genered"
      ],
      "execution_count": 0,
      "outputs": [
        {
          "output_type": "execute_result",
          "data": {
            "text/html": [
              "<div>\n",
              "<style scoped>\n",
              "    .dataframe tbody tr th:only-of-type {\n",
              "        vertical-align: middle;\n",
              "    }\n",
              "\n",
              "    .dataframe tbody tr th {\n",
              "        vertical-align: top;\n",
              "    }\n",
              "\n",
              "    .dataframe thead th {\n",
              "        text-align: right;\n",
              "    }\n",
              "</style>\n",
              "<table border=\"1\" class=\"dataframe\">\n",
              "  <thead>\n",
              "    <tr style=\"text-align: right;\">\n",
              "      <th></th>\n",
              "      <th>race</th>\n",
              "      <th>age</th>\n",
              "      <th>time_in_hospital</th>\n",
              "      <th>num_lab_procedures</th>\n",
              "      <th>num_procedures</th>\n",
              "      <th>num_medications</th>\n",
              "      <th>number_diagnoses</th>\n",
              "      <th>max_glu_serum</th>\n",
              "      <th>A1Cresult</th>\n",
              "      <th>metformin</th>\n",
              "      <th>repaglinide</th>\n",
              "      <th>nateglinide</th>\n",
              "      <th>chlorpropamide</th>\n",
              "      <th>glimepiride</th>\n",
              "      <th>acetohexamide</th>\n",
              "      <th>glipizide</th>\n",
              "      <th>glyburide</th>\n",
              "      <th>tolbutamide</th>\n",
              "      <th>pioglitazone</th>\n",
              "      <th>rosiglitazone</th>\n",
              "      <th>acarbose</th>\n",
              "      <th>miglitol</th>\n",
              "      <th>troglitazone</th>\n",
              "      <th>tolazamide</th>\n",
              "      <th>examide</th>\n",
              "      <th>citoglipton</th>\n",
              "      <th>insulin</th>\n",
              "      <th>glyburide-metformin</th>\n",
              "      <th>glipizide-metformin</th>\n",
              "      <th>glimepiride-pioglitazone</th>\n",
              "      <th>metformin-rosiglitazone</th>\n",
              "      <th>metformin-pioglitazone</th>\n",
              "      <th>change</th>\n",
              "      <th>diabetesMed</th>\n",
              "      <th>readmitted</th>\n",
              "    </tr>\n",
              "    <tr>\n",
              "      <th>gender</th>\n",
              "      <th></th>\n",
              "      <th></th>\n",
              "      <th></th>\n",
              "      <th></th>\n",
              "      <th></th>\n",
              "      <th></th>\n",
              "      <th></th>\n",
              "      <th></th>\n",
              "      <th></th>\n",
              "      <th></th>\n",
              "      <th></th>\n",
              "      <th></th>\n",
              "      <th></th>\n",
              "      <th></th>\n",
              "      <th></th>\n",
              "      <th></th>\n",
              "      <th></th>\n",
              "      <th></th>\n",
              "      <th></th>\n",
              "      <th></th>\n",
              "      <th></th>\n",
              "      <th></th>\n",
              "      <th></th>\n",
              "      <th></th>\n",
              "      <th></th>\n",
              "      <th></th>\n",
              "      <th></th>\n",
              "      <th></th>\n",
              "      <th></th>\n",
              "      <th></th>\n",
              "      <th></th>\n",
              "      <th></th>\n",
              "      <th></th>\n",
              "      <th></th>\n",
              "      <th></th>\n",
              "    </tr>\n",
              "  </thead>\n",
              "  <tbody>\n",
              "    <tr>\n",
              "      <th>Female</th>\n",
              "      <td>54708</td>\n",
              "      <td>54708</td>\n",
              "      <td>54708</td>\n",
              "      <td>54708</td>\n",
              "      <td>54708</td>\n",
              "      <td>54708</td>\n",
              "      <td>54708</td>\n",
              "      <td>54708</td>\n",
              "      <td>54708</td>\n",
              "      <td>54708</td>\n",
              "      <td>54708</td>\n",
              "      <td>54708</td>\n",
              "      <td>54708</td>\n",
              "      <td>54708</td>\n",
              "      <td>54708</td>\n",
              "      <td>54708</td>\n",
              "      <td>54708</td>\n",
              "      <td>54708</td>\n",
              "      <td>54708</td>\n",
              "      <td>54708</td>\n",
              "      <td>54708</td>\n",
              "      <td>54708</td>\n",
              "      <td>54708</td>\n",
              "      <td>54708</td>\n",
              "      <td>54708</td>\n",
              "      <td>54708</td>\n",
              "      <td>54708</td>\n",
              "      <td>54708</td>\n",
              "      <td>54708</td>\n",
              "      <td>54708</td>\n",
              "      <td>54708</td>\n",
              "      <td>54708</td>\n",
              "      <td>54708</td>\n",
              "      <td>54708</td>\n",
              "      <td>54708</td>\n",
              "    </tr>\n",
              "    <tr>\n",
              "      <th>Male</th>\n",
              "      <td>47055</td>\n",
              "      <td>47055</td>\n",
              "      <td>47055</td>\n",
              "      <td>47055</td>\n",
              "      <td>47055</td>\n",
              "      <td>47055</td>\n",
              "      <td>47055</td>\n",
              "      <td>47055</td>\n",
              "      <td>47055</td>\n",
              "      <td>47055</td>\n",
              "      <td>47055</td>\n",
              "      <td>47055</td>\n",
              "      <td>47055</td>\n",
              "      <td>47055</td>\n",
              "      <td>47055</td>\n",
              "      <td>47055</td>\n",
              "      <td>47055</td>\n",
              "      <td>47055</td>\n",
              "      <td>47055</td>\n",
              "      <td>47055</td>\n",
              "      <td>47055</td>\n",
              "      <td>47055</td>\n",
              "      <td>47055</td>\n",
              "      <td>47055</td>\n",
              "      <td>47055</td>\n",
              "      <td>47055</td>\n",
              "      <td>47055</td>\n",
              "      <td>47055</td>\n",
              "      <td>47055</td>\n",
              "      <td>47055</td>\n",
              "      <td>47055</td>\n",
              "      <td>47055</td>\n",
              "      <td>47055</td>\n",
              "      <td>47055</td>\n",
              "      <td>47055</td>\n",
              "    </tr>\n",
              "    <tr>\n",
              "      <th>Unknown/Invalid</th>\n",
              "      <td>3</td>\n",
              "      <td>3</td>\n",
              "      <td>3</td>\n",
              "      <td>3</td>\n",
              "      <td>3</td>\n",
              "      <td>3</td>\n",
              "      <td>3</td>\n",
              "      <td>3</td>\n",
              "      <td>3</td>\n",
              "      <td>3</td>\n",
              "      <td>3</td>\n",
              "      <td>3</td>\n",
              "      <td>3</td>\n",
              "      <td>3</td>\n",
              "      <td>3</td>\n",
              "      <td>3</td>\n",
              "      <td>3</td>\n",
              "      <td>3</td>\n",
              "      <td>3</td>\n",
              "      <td>3</td>\n",
              "      <td>3</td>\n",
              "      <td>3</td>\n",
              "      <td>3</td>\n",
              "      <td>3</td>\n",
              "      <td>3</td>\n",
              "      <td>3</td>\n",
              "      <td>3</td>\n",
              "      <td>3</td>\n",
              "      <td>3</td>\n",
              "      <td>3</td>\n",
              "      <td>3</td>\n",
              "      <td>3</td>\n",
              "      <td>3</td>\n",
              "      <td>3</td>\n",
              "      <td>3</td>\n",
              "    </tr>\n",
              "  </tbody>\n",
              "</table>\n",
              "</div>"
            ],
            "text/plain": [
              "                  race    age  ...  diabetesMed  readmitted\n",
              "gender                         ...                         \n",
              "Female           54708  54708  ...        54708       54708\n",
              "Male             47055  47055  ...        47055       47055\n",
              "Unknown/Invalid      3      3  ...            3           3\n",
              "\n",
              "[3 rows x 35 columns]"
            ]
          },
          "metadata": {
            "tags": []
          },
          "execution_count": 461
        }
      ]
    },
    {
      "cell_type": "code",
      "metadata": {
        "id": "hoe8LJ-ZQ7be",
        "colab_type": "code",
        "colab": {}
      },
      "source": [
        "def groupByChart(attr,title):\n",
        "\n",
        "  count_y_genered=data.groupby(attr).count()\n",
        "  plt.figure(figsize=(20,10))\n",
        "  count = 0;\n",
        "\n",
        "  attr=count_y_genered.keys()\n",
        "  cats=count_y_genered[attr[0]].keys()\n",
        "  #To assign a color for each catagory\n",
        "  colors = dict()\n",
        "\n",
        "  for cat in cats:\n",
        "    random_number = random.randint(0,16777215)\n",
        "    hex_number = str(hex(random_number))\n",
        "    hex_number ='#'+ hex_number[2:]\n",
        "    colors[cat]=hex_number\n",
        "  #To assign a position for each catogory\n",
        "  positions = dict()\n",
        "  for key in attr:\n",
        "    for cat in cats:\n",
        "      positions[cat]=count_y_genered[key][cat]\n",
        "\n",
        "  barWidth = 0.9\n",
        "  for key in attr:\n",
        "    for cat in cats:\n",
        "      plt.bar(-0.20+count,count_y_genered[key][cat],color=colors[cat],width=barWidth)\n",
        "      count +=1\n",
        "\n",
        "  plt.legend(cats)\n",
        "  plt.xticks([(barWidth+r-0.85)*len(cats) for r in range(len(attr))],attr,rotation=90)\n",
        "  plt.title(title)\n",
        "  plt.show()"
      ],
      "execution_count": 0,
      "outputs": []
    },
    {
      "cell_type": "code",
      "metadata": {
        "id": "bDWSEtBVQNYo",
        "colab_type": "code",
        "outputId": "09475cc4-7ef0-4ccf-d06d-efa6e75f6273",
        "colab": {
          "base_uri": "https://localhost:8080/",
          "height": 719
        }
      },
      "source": [
        "groupByChart('gender','Group By Gender')"
      ],
      "execution_count": 0,
      "outputs": [
        {
          "output_type": "display_data",
          "data": {
            "image/png": "[encoded data removed]",
            "text/plain": [
              "<Figure size 1440x720 with 1 Axes>"
            ]
          },
          "metadata": {
            "tags": []
          }
        }
      ]
    },
    {
      "cell_type": "markdown",
      "metadata": {
        "id": "pf4Cifgfl-8T",
        "colab_type": "text"
      },
      "source": [
        "##Group By Age"
      ]
    },
    {
      "cell_type": "code",
      "metadata": {
        "id": "rvXIKiLEvqYl",
        "colab_type": "code",
        "outputId": "cd12e78d-b6bc-49c9-a4d5-5571212e89bb",
        "colab": {
          "base_uri": "https://localhost:8080/",
          "height": 578
        }
      },
      "source": [
        "data.groupby('age').count()"
      ],
      "execution_count": 0,
      "outputs": [
        {
          "output_type": "execute_result",
          "data": {
            "text/html": [
              "<div>\n",
              "<style scoped>\n",
              "    .dataframe tbody tr th:only-of-type {\n",
              "        vertical-align: middle;\n",
              "    }\n",
              "\n",
              "    .dataframe tbody tr th {\n",
              "        vertical-align: top;\n",
              "    }\n",
              "\n",
              "    .dataframe thead th {\n",
              "        text-align: right;\n",
              "    }\n",
              "</style>\n",
              "<table border=\"1\" class=\"dataframe\">\n",
              "  <thead>\n",
              "    <tr style=\"text-align: right;\">\n",
              "      <th></th>\n",
              "      <th>race</th>\n",
              "      <th>gender</th>\n",
              "      <th>time_in_hospital</th>\n",
              "      <th>num_lab_procedures</th>\n",
              "      <th>num_procedures</th>\n",
              "      <th>num_medications</th>\n",
              "      <th>number_outpatient</th>\n",
              "      <th>number_emergency</th>\n",
              "      <th>number_inpatient</th>\n",
              "      <th>number_diagnoses</th>\n",
              "      <th>max_glu_serum</th>\n",
              "      <th>A1Cresult</th>\n",
              "      <th>metformin</th>\n",
              "      <th>repaglinide</th>\n",
              "      <th>nateglinide</th>\n",
              "      <th>chlorpropamide</th>\n",
              "      <th>glimepiride</th>\n",
              "      <th>acetohexamide</th>\n",
              "      <th>glipizide</th>\n",
              "      <th>glyburide</th>\n",
              "      <th>tolbutamide</th>\n",
              "      <th>pioglitazone</th>\n",
              "      <th>rosiglitazone</th>\n",
              "      <th>acarbose</th>\n",
              "      <th>miglitol</th>\n",
              "      <th>troglitazone</th>\n",
              "      <th>tolazamide</th>\n",
              "      <th>examide</th>\n",
              "      <th>citoglipton</th>\n",
              "      <th>insulin</th>\n",
              "      <th>glyburide-metformin</th>\n",
              "      <th>glipizide-metformin</th>\n",
              "      <th>glimepiride-pioglitazone</th>\n",
              "      <th>metformin-rosiglitazone</th>\n",
              "      <th>metformin-pioglitazone</th>\n",
              "      <th>change</th>\n",
              "      <th>diabetesMed</th>\n",
              "      <th>readmitted</th>\n",
              "    </tr>\n",
              "    <tr>\n",
              "      <th>age</th>\n",
              "      <th></th>\n",
              "      <th></th>\n",
              "      <th></th>\n",
              "      <th></th>\n",
              "      <th></th>\n",
              "      <th></th>\n",
              "      <th></th>\n",
              "      <th></th>\n",
              "      <th></th>\n",
              "      <th></th>\n",
              "      <th></th>\n",
              "      <th></th>\n",
              "      <th></th>\n",
              "      <th></th>\n",
              "      <th></th>\n",
              "      <th></th>\n",
              "      <th></th>\n",
              "      <th></th>\n",
              "      <th></th>\n",
              "      <th></th>\n",
              "      <th></th>\n",
              "      <th></th>\n",
              "      <th></th>\n",
              "      <th></th>\n",
              "      <th></th>\n",
              "      <th></th>\n",
              "      <th></th>\n",
              "      <th></th>\n",
              "      <th></th>\n",
              "      <th></th>\n",
              "      <th></th>\n",
              "      <th></th>\n",
              "      <th></th>\n",
              "      <th></th>\n",
              "      <th></th>\n",
              "      <th></th>\n",
              "      <th></th>\n",
              "      <th></th>\n",
              "    </tr>\n",
              "  </thead>\n",
              "  <tbody>\n",
              "    <tr>\n",
              "      <th>[0-10)</th>\n",
              "      <td>161</td>\n",
              "      <td>161</td>\n",
              "      <td>161</td>\n",
              "      <td>161</td>\n",
              "      <td>161</td>\n",
              "      <td>161</td>\n",
              "      <td>161</td>\n",
              "      <td>161</td>\n",
              "      <td>161</td>\n",
              "      <td>161</td>\n",
              "      <td>161</td>\n",
              "      <td>161</td>\n",
              "      <td>161</td>\n",
              "      <td>161</td>\n",
              "      <td>161</td>\n",
              "      <td>161</td>\n",
              "      <td>161</td>\n",
              "      <td>161</td>\n",
              "      <td>161</td>\n",
              "      <td>161</td>\n",
              "      <td>161</td>\n",
              "      <td>161</td>\n",
              "      <td>161</td>\n",
              "      <td>161</td>\n",
              "      <td>161</td>\n",
              "      <td>161</td>\n",
              "      <td>161</td>\n",
              "      <td>161</td>\n",
              "      <td>161</td>\n",
              "      <td>161</td>\n",
              "      <td>161</td>\n",
              "      <td>161</td>\n",
              "      <td>161</td>\n",
              "      <td>161</td>\n",
              "      <td>161</td>\n",
              "      <td>161</td>\n",
              "      <td>161</td>\n",
              "      <td>161</td>\n",
              "    </tr>\n",
              "    <tr>\n",
              "      <th>[10-20)</th>\n",
              "      <td>691</td>\n",
              "      <td>691</td>\n",
              "      <td>691</td>\n",
              "      <td>691</td>\n",
              "      <td>691</td>\n",
              "      <td>691</td>\n",
              "      <td>691</td>\n",
              "      <td>691</td>\n",
              "      <td>691</td>\n",
              "      <td>691</td>\n",
              "      <td>691</td>\n",
              "      <td>691</td>\n",
              "      <td>691</td>\n",
              "      <td>691</td>\n",
              "      <td>691</td>\n",
              "      <td>691</td>\n",
              "      <td>691</td>\n",
              "      <td>691</td>\n",
              "      <td>691</td>\n",
              "      <td>691</td>\n",
              "      <td>691</td>\n",
              "      <td>691</td>\n",
              "      <td>691</td>\n",
              "      <td>691</td>\n",
              "      <td>691</td>\n",
              "      <td>691</td>\n",
              "      <td>691</td>\n",
              "      <td>691</td>\n",
              "      <td>691</td>\n",
              "      <td>691</td>\n",
              "      <td>691</td>\n",
              "      <td>691</td>\n",
              "      <td>691</td>\n",
              "      <td>691</td>\n",
              "      <td>691</td>\n",
              "      <td>691</td>\n",
              "      <td>691</td>\n",
              "      <td>691</td>\n",
              "    </tr>\n",
              "    <tr>\n",
              "      <th>[20-30)</th>\n",
              "      <td>1657</td>\n",
              "      <td>1657</td>\n",
              "      <td>1657</td>\n",
              "      <td>1657</td>\n",
              "      <td>1657</td>\n",
              "      <td>1657</td>\n",
              "      <td>1657</td>\n",
              "      <td>1657</td>\n",
              "      <td>1657</td>\n",
              "      <td>1657</td>\n",
              "      <td>1657</td>\n",
              "      <td>1657</td>\n",
              "      <td>1657</td>\n",
              "      <td>1657</td>\n",
              "      <td>1657</td>\n",
              "      <td>1657</td>\n",
              "      <td>1657</td>\n",
              "      <td>1657</td>\n",
              "      <td>1657</td>\n",
              "      <td>1657</td>\n",
              "      <td>1657</td>\n",
              "      <td>1657</td>\n",
              "      <td>1657</td>\n",
              "      <td>1657</td>\n",
              "      <td>1657</td>\n",
              "      <td>1657</td>\n",
              "      <td>1657</td>\n",
              "      <td>1657</td>\n",
              "      <td>1657</td>\n",
              "      <td>1657</td>\n",
              "      <td>1657</td>\n",
              "      <td>1657</td>\n",
              "      <td>1657</td>\n",
              "      <td>1657</td>\n",
              "      <td>1657</td>\n",
              "      <td>1657</td>\n",
              "      <td>1657</td>\n",
              "      <td>1657</td>\n",
              "    </tr>\n",
              "    <tr>\n",
              "      <th>[30-40)</th>\n",
              "      <td>3775</td>\n",
              "      <td>3775</td>\n",
              "      <td>3775</td>\n",
              "      <td>3775</td>\n",
              "      <td>3775</td>\n",
              "      <td>3775</td>\n",
              "      <td>3775</td>\n",
              "      <td>3775</td>\n",
              "      <td>3775</td>\n",
              "      <td>3775</td>\n",
              "      <td>3775</td>\n",
              "      <td>3775</td>\n",
              "      <td>3775</td>\n",
              "      <td>3775</td>\n",
              "      <td>3775</td>\n",
              "      <td>3775</td>\n",
              "      <td>3775</td>\n",
              "      <td>3775</td>\n",
              "      <td>3775</td>\n",
              "      <td>3775</td>\n",
              "      <td>3775</td>\n",
              "      <td>3775</td>\n",
              "      <td>3775</td>\n",
              "      <td>3775</td>\n",
              "      <td>3775</td>\n",
              "      <td>3775</td>\n",
              "      <td>3775</td>\n",
              "      <td>3775</td>\n",
              "      <td>3775</td>\n",
              "      <td>3775</td>\n",
              "      <td>3775</td>\n",
              "      <td>3775</td>\n",
              "      <td>3775</td>\n",
              "      <td>3775</td>\n",
              "      <td>3775</td>\n",
              "      <td>3775</td>\n",
              "      <td>3775</td>\n",
              "      <td>3775</td>\n",
              "    </tr>\n",
              "    <tr>\n",
              "      <th>[40-50)</th>\n",
              "      <td>9685</td>\n",
              "      <td>9685</td>\n",
              "      <td>9685</td>\n",
              "      <td>9685</td>\n",
              "      <td>9685</td>\n",
              "      <td>9685</td>\n",
              "      <td>9685</td>\n",
              "      <td>9685</td>\n",
              "      <td>9685</td>\n",
              "      <td>9685</td>\n",
              "      <td>9685</td>\n",
              "      <td>9685</td>\n",
              "      <td>9685</td>\n",
              "      <td>9685</td>\n",
              "      <td>9685</td>\n",
              "      <td>9685</td>\n",
              "      <td>9685</td>\n",
              "      <td>9685</td>\n",
              "      <td>9685</td>\n",
              "      <td>9685</td>\n",
              "      <td>9685</td>\n",
              "      <td>9685</td>\n",
              "      <td>9685</td>\n",
              "      <td>9685</td>\n",
              "      <td>9685</td>\n",
              "      <td>9685</td>\n",
              "      <td>9685</td>\n",
              "      <td>9685</td>\n",
              "      <td>9685</td>\n",
              "      <td>9685</td>\n",
              "      <td>9685</td>\n",
              "      <td>9685</td>\n",
              "      <td>9685</td>\n",
              "      <td>9685</td>\n",
              "      <td>9685</td>\n",
              "      <td>9685</td>\n",
              "      <td>9685</td>\n",
              "      <td>9685</td>\n",
              "    </tr>\n",
              "    <tr>\n",
              "      <th>[50-60)</th>\n",
              "      <td>17256</td>\n",
              "      <td>17256</td>\n",
              "      <td>17256</td>\n",
              "      <td>17256</td>\n",
              "      <td>17256</td>\n",
              "      <td>17256</td>\n",
              "      <td>17256</td>\n",
              "      <td>17256</td>\n",
              "      <td>17256</td>\n",
              "      <td>17256</td>\n",
              "      <td>17256</td>\n",
              "      <td>17256</td>\n",
              "      <td>17256</td>\n",
              "      <td>17256</td>\n",
              "      <td>17256</td>\n",
              "      <td>17256</td>\n",
              "      <td>17256</td>\n",
              "      <td>17256</td>\n",
              "      <td>17256</td>\n",
              "      <td>17256</td>\n",
              "      <td>17256</td>\n",
              "      <td>17256</td>\n",
              "      <td>17256</td>\n",
              "      <td>17256</td>\n",
              "      <td>17256</td>\n",
              "      <td>17256</td>\n",
              "      <td>17256</td>\n",
              "      <td>17256</td>\n",
              "      <td>17256</td>\n",
              "      <td>17256</td>\n",
              "      <td>17256</td>\n",
              "      <td>17256</td>\n",
              "      <td>17256</td>\n",
              "      <td>17256</td>\n",
              "      <td>17256</td>\n",
              "      <td>17256</td>\n",
              "      <td>17256</td>\n",
              "      <td>17256</td>\n",
              "    </tr>\n",
              "    <tr>\n",
              "      <th>[60-70)</th>\n",
              "      <td>22483</td>\n",
              "      <td>22483</td>\n",
              "      <td>22483</td>\n",
              "      <td>22483</td>\n",
              "      <td>22483</td>\n",
              "      <td>22483</td>\n",
              "      <td>22483</td>\n",
              "      <td>22483</td>\n",
              "      <td>22483</td>\n",
              "      <td>22483</td>\n",
              "      <td>22483</td>\n",
              "      <td>22483</td>\n",
              "      <td>22483</td>\n",
              "      <td>22483</td>\n",
              "      <td>22483</td>\n",
              "      <td>22483</td>\n",
              "      <td>22483</td>\n",
              "      <td>22483</td>\n",
              "      <td>22483</td>\n",
              "      <td>22483</td>\n",
              "      <td>22483</td>\n",
              "      <td>22483</td>\n",
              "      <td>22483</td>\n",
              "      <td>22483</td>\n",
              "      <td>22483</td>\n",
              "      <td>22483</td>\n",
              "      <td>22483</td>\n",
              "      <td>22483</td>\n",
              "      <td>22483</td>\n",
              "      <td>22483</td>\n",
              "      <td>22483</td>\n",
              "      <td>22483</td>\n",
              "      <td>22483</td>\n",
              "      <td>22483</td>\n",
              "      <td>22483</td>\n",
              "      <td>22483</td>\n",
              "      <td>22483</td>\n",
              "      <td>22483</td>\n",
              "    </tr>\n",
              "    <tr>\n",
              "      <th>[70-80)</th>\n",
              "      <td>26068</td>\n",
              "      <td>26068</td>\n",
              "      <td>26068</td>\n",
              "      <td>26068</td>\n",
              "      <td>26068</td>\n",
              "      <td>26068</td>\n",
              "      <td>26068</td>\n",
              "      <td>26068</td>\n",
              "      <td>26068</td>\n",
              "      <td>26068</td>\n",
              "      <td>26068</td>\n",
              "      <td>26068</td>\n",
              "      <td>26068</td>\n",
              "      <td>26068</td>\n",
              "      <td>26068</td>\n",
              "      <td>26068</td>\n",
              "      <td>26068</td>\n",
              "      <td>26068</td>\n",
              "      <td>26068</td>\n",
              "      <td>26068</td>\n",
              "      <td>26068</td>\n",
              "      <td>26068</td>\n",
              "      <td>26068</td>\n",
              "      <td>26068</td>\n",
              "      <td>26068</td>\n",
              "      <td>26068</td>\n",
              "      <td>26068</td>\n",
              "      <td>26068</td>\n",
              "      <td>26068</td>\n",
              "      <td>26068</td>\n",
              "      <td>26068</td>\n",
              "      <td>26068</td>\n",
              "      <td>26068</td>\n",
              "      <td>26068</td>\n",
              "      <td>26068</td>\n",
              "      <td>26068</td>\n",
              "      <td>26068</td>\n",
              "      <td>26068</td>\n",
              "    </tr>\n",
              "    <tr>\n",
              "      <th>[80-90)</th>\n",
              "      <td>17197</td>\n",
              "      <td>17197</td>\n",
              "      <td>17197</td>\n",
              "      <td>17197</td>\n",
              "      <td>17197</td>\n",
              "      <td>17197</td>\n",
              "      <td>17197</td>\n",
              "      <td>17197</td>\n",
              "      <td>17197</td>\n",
              "      <td>17197</td>\n",
              "      <td>17197</td>\n",
              "      <td>17197</td>\n",
              "      <td>17197</td>\n",
              "      <td>17197</td>\n",
              "      <td>17197</td>\n",
              "      <td>17197</td>\n",
              "      <td>17197</td>\n",
              "      <td>17197</td>\n",
              "      <td>17197</td>\n",
              "      <td>17197</td>\n",
              "      <td>17197</td>\n",
              "      <td>17197</td>\n",
              "      <td>17197</td>\n",
              "      <td>17197</td>\n",
              "      <td>17197</td>\n",
              "      <td>17197</td>\n",
              "      <td>17197</td>\n",
              "      <td>17197</td>\n",
              "      <td>17197</td>\n",
              "      <td>17197</td>\n",
              "      <td>17197</td>\n",
              "      <td>17197</td>\n",
              "      <td>17197</td>\n",
              "      <td>17197</td>\n",
              "      <td>17197</td>\n",
              "      <td>17197</td>\n",
              "      <td>17197</td>\n",
              "      <td>17197</td>\n",
              "    </tr>\n",
              "    <tr>\n",
              "      <th>[90-100)</th>\n",
              "      <td>2793</td>\n",
              "      <td>2793</td>\n",
              "      <td>2793</td>\n",
              "      <td>2793</td>\n",
              "      <td>2793</td>\n",
              "      <td>2793</td>\n",
              "      <td>2793</td>\n",
              "      <td>2793</td>\n",
              "      <td>2793</td>\n",
              "      <td>2793</td>\n",
              "      <td>2793</td>\n",
              "      <td>2793</td>\n",
              "      <td>2793</td>\n",
              "      <td>2793</td>\n",
              "      <td>2793</td>\n",
              "      <td>2793</td>\n",
              "      <td>2793</td>\n",
              "      <td>2793</td>\n",
              "      <td>2793</td>\n",
              "      <td>2793</td>\n",
              "      <td>2793</td>\n",
              "      <td>2793</td>\n",
              "      <td>2793</td>\n",
              "      <td>2793</td>\n",
              "      <td>2793</td>\n",
              "      <td>2793</td>\n",
              "      <td>2793</td>\n",
              "      <td>2793</td>\n",
              "      <td>2793</td>\n",
              "      <td>2793</td>\n",
              "      <td>2793</td>\n",
              "      <td>2793</td>\n",
              "      <td>2793</td>\n",
              "      <td>2793</td>\n",
              "      <td>2793</td>\n",
              "      <td>2793</td>\n",
              "      <td>2793</td>\n",
              "      <td>2793</td>\n",
              "    </tr>\n",
              "  </tbody>\n",
              "</table>\n",
              "</div>"
            ],
            "text/plain": [
              "           race  gender  time_in_hospital  ...  change  diabetesMed  readmitted\n",
              "age                                        ...                                 \n",
              "[0-10)      161     161               161  ...     161          161         161\n",
              "[10-20)     691     691               691  ...     691          691         691\n",
              "[20-30)    1657    1657              1657  ...    1657         1657        1657\n",
              "[30-40)    3775    3775              3775  ...    3775         3775        3775\n",
              "[40-50)    9685    9685              9685  ...    9685         9685        9685\n",
              "[50-60)   17256   17256             17256  ...   17256        17256       17256\n",
              "[60-70)   22483   22483             22483  ...   22483        22483       22483\n",
              "[70-80)   26068   26068             26068  ...   26068        26068       26068\n",
              "[80-90)   17197   17197             17197  ...   17197        17197       17197\n",
              "[90-100)   2793    2793              2793  ...    2793         2793        2793\n",
              "\n",
              "[10 rows x 38 columns]"
            ]
          },
          "metadata": {
            "tags": []
          },
          "execution_count": 465
        }
      ]
    },
    {
      "cell_type": "code",
      "metadata": {
        "id": "HJejpqtBl-iF",
        "colab_type": "code",
        "outputId": "729fdd17-1455-4b5a-951d-f7e2122a2756",
        "colab": {
          "base_uri": "https://localhost:8080/",
          "height": 719
        }
      },
      "source": [
        "groupByChart('age','Group by Age')"
      ],
      "execution_count": 0,
      "outputs": [
        {
          "output_type": "display_data",
          "data": {
            "image/png": "[encoded data removed]",
            "text/plain": [
              "<Figure size 1440x720 with 1 Axes>"
            ]
          },
          "metadata": {
            "tags": []
          }
        }
      ]
    },
    {
      "cell_type": "markdown",
      "metadata": {
        "id": "SjZvlYG5v9p4",
        "colab_type": "text"
      },
      "source": [
        "##Group By Race\n"
      ]
    },
    {
      "cell_type": "code",
      "metadata": {
        "id": "kwFIYSMzwusN",
        "colab_type": "code",
        "outputId": "247e5577-d032-4f1d-9aed-7bad06fd4d54",
        "colab": {
          "base_uri": "https://localhost:8080/",
          "height": 291
        }
      },
      "source": [
        "data.groupby('race').count()"
      ],
      "execution_count": 0,
      "outputs": [
        {
          "output_type": "execute_result",
          "data": {
            "text/html": [
              "<div>\n",
              "<style scoped>\n",
              "    .dataframe tbody tr th:only-of-type {\n",
              "        vertical-align: middle;\n",
              "    }\n",
              "\n",
              "    .dataframe tbody tr th {\n",
              "        vertical-align: top;\n",
              "    }\n",
              "\n",
              "    .dataframe thead th {\n",
              "        text-align: right;\n",
              "    }\n",
              "</style>\n",
              "<table border=\"1\" class=\"dataframe\">\n",
              "  <thead>\n",
              "    <tr style=\"text-align: right;\">\n",
              "      <th></th>\n",
              "      <th>gender</th>\n",
              "      <th>age</th>\n",
              "      <th>time_in_hospital</th>\n",
              "      <th>num_lab_procedures</th>\n",
              "      <th>num_procedures</th>\n",
              "      <th>num_medications</th>\n",
              "      <th>number_outpatient</th>\n",
              "      <th>number_emergency</th>\n",
              "      <th>number_inpatient</th>\n",
              "      <th>number_diagnoses</th>\n",
              "      <th>max_glu_serum</th>\n",
              "      <th>A1Cresult</th>\n",
              "      <th>metformin</th>\n",
              "      <th>repaglinide</th>\n",
              "      <th>nateglinide</th>\n",
              "      <th>chlorpropamide</th>\n",
              "      <th>glimepiride</th>\n",
              "      <th>acetohexamide</th>\n",
              "      <th>glipizide</th>\n",
              "      <th>glyburide</th>\n",
              "      <th>tolbutamide</th>\n",
              "      <th>pioglitazone</th>\n",
              "      <th>rosiglitazone</th>\n",
              "      <th>acarbose</th>\n",
              "      <th>miglitol</th>\n",
              "      <th>troglitazone</th>\n",
              "      <th>tolazamide</th>\n",
              "      <th>examide</th>\n",
              "      <th>citoglipton</th>\n",
              "      <th>insulin</th>\n",
              "      <th>glyburide-metformin</th>\n",
              "      <th>glipizide-metformin</th>\n",
              "      <th>glimepiride-pioglitazone</th>\n",
              "      <th>metformin-rosiglitazone</th>\n",
              "      <th>metformin-pioglitazone</th>\n",
              "      <th>change</th>\n",
              "      <th>diabetesMed</th>\n",
              "      <th>readmitted</th>\n",
              "    </tr>\n",
              "    <tr>\n",
              "      <th>race</th>\n",
              "      <th></th>\n",
              "      <th></th>\n",
              "      <th></th>\n",
              "      <th></th>\n",
              "      <th></th>\n",
              "      <th></th>\n",
              "      <th></th>\n",
              "      <th></th>\n",
              "      <th></th>\n",
              "      <th></th>\n",
              "      <th></th>\n",
              "      <th></th>\n",
              "      <th></th>\n",
              "      <th></th>\n",
              "      <th></th>\n",
              "      <th></th>\n",
              "      <th></th>\n",
              "      <th></th>\n",
              "      <th></th>\n",
              "      <th></th>\n",
              "      <th></th>\n",
              "      <th></th>\n",
              "      <th></th>\n",
              "      <th></th>\n",
              "      <th></th>\n",
              "      <th></th>\n",
              "      <th></th>\n",
              "      <th></th>\n",
              "      <th></th>\n",
              "      <th></th>\n",
              "      <th></th>\n",
              "      <th></th>\n",
              "      <th></th>\n",
              "      <th></th>\n",
              "      <th></th>\n",
              "      <th></th>\n",
              "      <th></th>\n",
              "      <th></th>\n",
              "    </tr>\n",
              "  </thead>\n",
              "  <tbody>\n",
              "    <tr>\n",
              "      <th>?</th>\n",
              "      <td>2273</td>\n",
              "      <td>2273</td>\n",
              "      <td>2273</td>\n",
              "      <td>2273</td>\n",
              "      <td>2273</td>\n",
              "      <td>2273</td>\n",
              "      <td>2273</td>\n",
              "      <td>2273</td>\n",
              "      <td>2273</td>\n",
              "      <td>2273</td>\n",
              "      <td>2273</td>\n",
              "      <td>2273</td>\n",
              "      <td>2273</td>\n",
              "      <td>2273</td>\n",
              "      <td>2273</td>\n",
              "      <td>2273</td>\n",
              "      <td>2273</td>\n",
              "      <td>2273</td>\n",
              "      <td>2273</td>\n",
              "      <td>2273</td>\n",
              "      <td>2273</td>\n",
              "      <td>2273</td>\n",
              "      <td>2273</td>\n",
              "      <td>2273</td>\n",
              "      <td>2273</td>\n",
              "      <td>2273</td>\n",
              "      <td>2273</td>\n",
              "      <td>2273</td>\n",
              "      <td>2273</td>\n",
              "      <td>2273</td>\n",
              "      <td>2273</td>\n",
              "      <td>2273</td>\n",
              "      <td>2273</td>\n",
              "      <td>2273</td>\n",
              "      <td>2273</td>\n",
              "      <td>2273</td>\n",
              "      <td>2273</td>\n",
              "      <td>2273</td>\n",
              "    </tr>\n",
              "    <tr>\n",
              "      <th>AfricanAmerican</th>\n",
              "      <td>19210</td>\n",
              "      <td>19210</td>\n",
              "      <td>19210</td>\n",
              "      <td>19210</td>\n",
              "      <td>19210</td>\n",
              "      <td>19210</td>\n",
              "      <td>19210</td>\n",
              "      <td>19210</td>\n",
              "      <td>19210</td>\n",
              "      <td>19210</td>\n",
              "      <td>19210</td>\n",
              "      <td>19210</td>\n",
              "      <td>19210</td>\n",
              "      <td>19210</td>\n",
              "      <td>19210</td>\n",
              "      <td>19210</td>\n",
              "      <td>19210</td>\n",
              "      <td>19210</td>\n",
              "      <td>19210</td>\n",
              "      <td>19210</td>\n",
              "      <td>19210</td>\n",
              "      <td>19210</td>\n",
              "      <td>19210</td>\n",
              "      <td>19210</td>\n",
              "      <td>19210</td>\n",
              "      <td>19210</td>\n",
              "      <td>19210</td>\n",
              "      <td>19210</td>\n",
              "      <td>19210</td>\n",
              "      <td>19210</td>\n",
              "      <td>19210</td>\n",
              "      <td>19210</td>\n",
              "      <td>19210</td>\n",
              "      <td>19210</td>\n",
              "      <td>19210</td>\n",
              "      <td>19210</td>\n",
              "      <td>19210</td>\n",
              "      <td>19210</td>\n",
              "    </tr>\n",
              "    <tr>\n",
              "      <th>Asian</th>\n",
              "      <td>641</td>\n",
              "      <td>641</td>\n",
              "      <td>641</td>\n",
              "      <td>641</td>\n",
              "      <td>641</td>\n",
              "      <td>641</td>\n",
              "      <td>641</td>\n",
              "      <td>641</td>\n",
              "      <td>641</td>\n",
              "      <td>641</td>\n",
              "      <td>641</td>\n",
              "      <td>641</td>\n",
              "      <td>641</td>\n",
              "      <td>641</td>\n",
              "      <td>641</td>\n",
              "      <td>641</td>\n",
              "      <td>641</td>\n",
              "      <td>641</td>\n",
              "      <td>641</td>\n",
              "      <td>641</td>\n",
              "      <td>641</td>\n",
              "      <td>641</td>\n",
              "      <td>641</td>\n",
              "      <td>641</td>\n",
              "      <td>641</td>\n",
              "      <td>641</td>\n",
              "      <td>641</td>\n",
              "      <td>641</td>\n",
              "      <td>641</td>\n",
              "      <td>641</td>\n",
              "      <td>641</td>\n",
              "      <td>641</td>\n",
              "      <td>641</td>\n",
              "      <td>641</td>\n",
              "      <td>641</td>\n",
              "      <td>641</td>\n",
              "      <td>641</td>\n",
              "      <td>641</td>\n",
              "    </tr>\n",
              "    <tr>\n",
              "      <th>Caucasian</th>\n",
              "      <td>76099</td>\n",
              "      <td>76099</td>\n",
              "      <td>76099</td>\n",
              "      <td>76099</td>\n",
              "      <td>76099</td>\n",
              "      <td>76099</td>\n",
              "      <td>76099</td>\n",
              "      <td>76099</td>\n",
              "      <td>76099</td>\n",
              "      <td>76099</td>\n",
              "      <td>76099</td>\n",
              "      <td>76099</td>\n",
              "      <td>76099</td>\n",
              "      <td>76099</td>\n",
              "      <td>76099</td>\n",
              "      <td>76099</td>\n",
              "      <td>76099</td>\n",
              "      <td>76099</td>\n",
              "      <td>76099</td>\n",
              "      <td>76099</td>\n",
              "      <td>76099</td>\n",
              "      <td>76099</td>\n",
              "      <td>76099</td>\n",
              "      <td>76099</td>\n",
              "      <td>76099</td>\n",
              "      <td>76099</td>\n",
              "      <td>76099</td>\n",
              "      <td>76099</td>\n",
              "      <td>76099</td>\n",
              "      <td>76099</td>\n",
              "      <td>76099</td>\n",
              "      <td>76099</td>\n",
              "      <td>76099</td>\n",
              "      <td>76099</td>\n",
              "      <td>76099</td>\n",
              "      <td>76099</td>\n",
              "      <td>76099</td>\n",
              "      <td>76099</td>\n",
              "    </tr>\n",
              "    <tr>\n",
              "      <th>Hispanic</th>\n",
              "      <td>2037</td>\n",
              "      <td>2037</td>\n",
              "      <td>2037</td>\n",
              "      <td>2037</td>\n",
              "      <td>2037</td>\n",
              "      <td>2037</td>\n",
              "      <td>2037</td>\n",
              "      <td>2037</td>\n",
              "      <td>2037</td>\n",
              "      <td>2037</td>\n",
              "      <td>2037</td>\n",
              "      <td>2037</td>\n",
              "      <td>2037</td>\n",
              "      <td>2037</td>\n",
              "      <td>2037</td>\n",
              "      <td>2037</td>\n",
              "      <td>2037</td>\n",
              "      <td>2037</td>\n",
              "      <td>2037</td>\n",
              "      <td>2037</td>\n",
              "      <td>2037</td>\n",
              "      <td>2037</td>\n",
              "      <td>2037</td>\n",
              "      <td>2037</td>\n",
              "      <td>2037</td>\n",
              "      <td>2037</td>\n",
              "      <td>2037</td>\n",
              "      <td>2037</td>\n",
              "      <td>2037</td>\n",
              "      <td>2037</td>\n",
              "      <td>2037</td>\n",
              "      <td>2037</td>\n",
              "      <td>2037</td>\n",
              "      <td>2037</td>\n",
              "      <td>2037</td>\n",
              "      <td>2037</td>\n",
              "      <td>2037</td>\n",
              "      <td>2037</td>\n",
              "    </tr>\n",
              "    <tr>\n",
              "      <th>Other</th>\n",
              "      <td>1506</td>\n",
              "      <td>1506</td>\n",
              "      <td>1506</td>\n",
              "      <td>1506</td>\n",
              "      <td>1506</td>\n",
              "      <td>1506</td>\n",
              "      <td>1506</td>\n",
              "      <td>1506</td>\n",
              "      <td>1506</td>\n",
              "      <td>1506</td>\n",
              "      <td>1506</td>\n",
              "      <td>1506</td>\n",
              "      <td>1506</td>\n",
              "      <td>1506</td>\n",
              "      <td>1506</td>\n",
              "      <td>1506</td>\n",
              "      <td>1506</td>\n",
              "      <td>1506</td>\n",
              "      <td>1506</td>\n",
              "      <td>1506</td>\n",
              "      <td>1506</td>\n",
              "      <td>1506</td>\n",
              "      <td>1506</td>\n",
              "      <td>1506</td>\n",
              "      <td>1506</td>\n",
              "      <td>1506</td>\n",
              "      <td>1506</td>\n",
              "      <td>1506</td>\n",
              "      <td>1506</td>\n",
              "      <td>1506</td>\n",
              "      <td>1506</td>\n",
              "      <td>1506</td>\n",
              "      <td>1506</td>\n",
              "      <td>1506</td>\n",
              "      <td>1506</td>\n",
              "      <td>1506</td>\n",
              "      <td>1506</td>\n",
              "      <td>1506</td>\n",
              "    </tr>\n",
              "  </tbody>\n",
              "</table>\n",
              "</div>"
            ],
            "text/plain": [
              "                 gender    age  ...  diabetesMed  readmitted\n",
              "race                            ...                         \n",
              "?                  2273   2273  ...         2273        2273\n",
              "AfricanAmerican   19210  19210  ...        19210       19210\n",
              "Asian               641    641  ...          641         641\n",
              "Caucasian         76099  76099  ...        76099       76099\n",
              "Hispanic           2037   2037  ...         2037        2037\n",
              "Other              1506   1506  ...         1506        1506\n",
              "\n",
              "[6 rows x 38 columns]"
            ]
          },
          "metadata": {
            "tags": []
          },
          "execution_count": 468
        }
      ]
    },
    {
      "cell_type": "code",
      "metadata": {
        "id": "ydaBenKRwFv1",
        "colab_type": "code",
        "outputId": "4eb9a121-b825-4f5a-81ca-b2bcd588cf0a",
        "colab": {
          "base_uri": "https://localhost:8080/",
          "height": 719
        }
      },
      "source": [
        "groupByChart('race','Group By Race')"
      ],
      "execution_count": 0,
      "outputs": [
        {
          "output_type": "display_data",
          "data": {
            "image/png": "[encoded data removed]",
            "text/plain": [
              "<Figure size 1440x720 with 1 Axes>"
            ]
          },
          "metadata": {
            "tags": []
          }
        }
      ]
    },
    {
      "cell_type": "markdown",
      "metadata": {
        "id": "hQK0Vx8iwXjv",
        "colab_type": "text"
      },
      "source": [
        "##Group By Diabetes Medication Prescribed"
      ]
    },
    {
      "cell_type": "code",
      "metadata": {
        "id": "UkiS9NWawzuY",
        "colab_type": "code",
        "outputId": "40e48288-8866-4494-be14-d50eefad4c99",
        "colab": {
          "base_uri": "https://localhost:8080/",
          "height": 173
        }
      },
      "source": [
        "data.groupby('diabetesMed').count()"
      ],
      "execution_count": 0,
      "outputs": [
        {
          "output_type": "execute_result",
          "data": {
            "text/html": [
              "<div>\n",
              "<style scoped>\n",
              "    .dataframe tbody tr th:only-of-type {\n",
              "        vertical-align: middle;\n",
              "    }\n",
              "\n",
              "    .dataframe tbody tr th {\n",
              "        vertical-align: top;\n",
              "    }\n",
              "\n",
              "    .dataframe thead th {\n",
              "        text-align: right;\n",
              "    }\n",
              "</style>\n",
              "<table border=\"1\" class=\"dataframe\">\n",
              "  <thead>\n",
              "    <tr style=\"text-align: right;\">\n",
              "      <th></th>\n",
              "      <th>race</th>\n",
              "      <th>gender</th>\n",
              "      <th>age</th>\n",
              "      <th>time_in_hospital</th>\n",
              "      <th>num_lab_procedures</th>\n",
              "      <th>num_procedures</th>\n",
              "      <th>num_medications</th>\n",
              "      <th>number_outpatient</th>\n",
              "      <th>number_emergency</th>\n",
              "      <th>number_inpatient</th>\n",
              "      <th>number_diagnoses</th>\n",
              "      <th>max_glu_serum</th>\n",
              "      <th>A1Cresult</th>\n",
              "      <th>metformin</th>\n",
              "      <th>repaglinide</th>\n",
              "      <th>nateglinide</th>\n",
              "      <th>chlorpropamide</th>\n",
              "      <th>glimepiride</th>\n",
              "      <th>acetohexamide</th>\n",
              "      <th>glipizide</th>\n",
              "      <th>glyburide</th>\n",
              "      <th>tolbutamide</th>\n",
              "      <th>pioglitazone</th>\n",
              "      <th>rosiglitazone</th>\n",
              "      <th>acarbose</th>\n",
              "      <th>miglitol</th>\n",
              "      <th>troglitazone</th>\n",
              "      <th>tolazamide</th>\n",
              "      <th>examide</th>\n",
              "      <th>citoglipton</th>\n",
              "      <th>insulin</th>\n",
              "      <th>glyburide-metformin</th>\n",
              "      <th>glipizide-metformin</th>\n",
              "      <th>glimepiride-pioglitazone</th>\n",
              "      <th>metformin-rosiglitazone</th>\n",
              "      <th>metformin-pioglitazone</th>\n",
              "      <th>change</th>\n",
              "      <th>readmitted</th>\n",
              "    </tr>\n",
              "    <tr>\n",
              "      <th>diabetesMed</th>\n",
              "      <th></th>\n",
              "      <th></th>\n",
              "      <th></th>\n",
              "      <th></th>\n",
              "      <th></th>\n",
              "      <th></th>\n",
              "      <th></th>\n",
              "      <th></th>\n",
              "      <th></th>\n",
              "      <th></th>\n",
              "      <th></th>\n",
              "      <th></th>\n",
              "      <th></th>\n",
              "      <th></th>\n",
              "      <th></th>\n",
              "      <th></th>\n",
              "      <th></th>\n",
              "      <th></th>\n",
              "      <th></th>\n",
              "      <th></th>\n",
              "      <th></th>\n",
              "      <th></th>\n",
              "      <th></th>\n",
              "      <th></th>\n",
              "      <th></th>\n",
              "      <th></th>\n",
              "      <th></th>\n",
              "      <th></th>\n",
              "      <th></th>\n",
              "      <th></th>\n",
              "      <th></th>\n",
              "      <th></th>\n",
              "      <th></th>\n",
              "      <th></th>\n",
              "      <th></th>\n",
              "      <th></th>\n",
              "      <th></th>\n",
              "      <th></th>\n",
              "    </tr>\n",
              "  </thead>\n",
              "  <tbody>\n",
              "    <tr>\n",
              "      <th>No</th>\n",
              "      <td>23403</td>\n",
              "      <td>23403</td>\n",
              "      <td>23403</td>\n",
              "      <td>23403</td>\n",
              "      <td>23403</td>\n",
              "      <td>23403</td>\n",
              "      <td>23403</td>\n",
              "      <td>23403</td>\n",
              "      <td>23403</td>\n",
              "      <td>23403</td>\n",
              "      <td>23403</td>\n",
              "      <td>23403</td>\n",
              "      <td>23403</td>\n",
              "      <td>23403</td>\n",
              "      <td>23403</td>\n",
              "      <td>23403</td>\n",
              "      <td>23403</td>\n",
              "      <td>23403</td>\n",
              "      <td>23403</td>\n",
              "      <td>23403</td>\n",
              "      <td>23403</td>\n",
              "      <td>23403</td>\n",
              "      <td>23403</td>\n",
              "      <td>23403</td>\n",
              "      <td>23403</td>\n",
              "      <td>23403</td>\n",
              "      <td>23403</td>\n",
              "      <td>23403</td>\n",
              "      <td>23403</td>\n",
              "      <td>23403</td>\n",
              "      <td>23403</td>\n",
              "      <td>23403</td>\n",
              "      <td>23403</td>\n",
              "      <td>23403</td>\n",
              "      <td>23403</td>\n",
              "      <td>23403</td>\n",
              "      <td>23403</td>\n",
              "      <td>23403</td>\n",
              "    </tr>\n",
              "    <tr>\n",
              "      <th>Yes</th>\n",
              "      <td>78363</td>\n",
              "      <td>78363</td>\n",
              "      <td>78363</td>\n",
              "      <td>78363</td>\n",
              "      <td>78363</td>\n",
              "      <td>78363</td>\n",
              "      <td>78363</td>\n",
              "      <td>78363</td>\n",
              "      <td>78363</td>\n",
              "      <td>78363</td>\n",
              "      <td>78363</td>\n",
              "      <td>78363</td>\n",
              "      <td>78363</td>\n",
              "      <td>78363</td>\n",
              "      <td>78363</td>\n",
              "      <td>78363</td>\n",
              "      <td>78363</td>\n",
              "      <td>78363</td>\n",
              "      <td>78363</td>\n",
              "      <td>78363</td>\n",
              "      <td>78363</td>\n",
              "      <td>78363</td>\n",
              "      <td>78363</td>\n",
              "      <td>78363</td>\n",
              "      <td>78363</td>\n",
              "      <td>78363</td>\n",
              "      <td>78363</td>\n",
              "      <td>78363</td>\n",
              "      <td>78363</td>\n",
              "      <td>78363</td>\n",
              "      <td>78363</td>\n",
              "      <td>78363</td>\n",
              "      <td>78363</td>\n",
              "      <td>78363</td>\n",
              "      <td>78363</td>\n",
              "      <td>78363</td>\n",
              "      <td>78363</td>\n",
              "      <td>78363</td>\n",
              "    </tr>\n",
              "  </tbody>\n",
              "</table>\n",
              "</div>"
            ],
            "text/plain": [
              "              race  gender    age  ...  metformin-pioglitazone  change  readmitted\n",
              "diabetesMed                        ...                                            \n",
              "No           23403   23403  23403  ...                   23403   23403       23403\n",
              "Yes          78363   78363  78363  ...                   78363   78363       78363\n",
              "\n",
              "[2 rows x 38 columns]"
            ]
          },
          "metadata": {
            "tags": []
          },
          "execution_count": 470
        }
      ]
    },
    {
      "cell_type": "code",
      "metadata": {
        "id": "kopa5jtkwfRD",
        "colab_type": "code",
        "outputId": "de8527ca-040d-4f0c-ce92-0ab55f1b4421",
        "colab": {
          "base_uri": "https://localhost:8080/",
          "height": 719
        }
      },
      "source": [
        "groupByChart('diabetesMed','Group By Diabetes Medication Prescribed')"
      ],
      "execution_count": 0,
      "outputs": [
        {
          "output_type": "display_data",
          "data": {
            "image/png": "[encoded data removed]",
            "text/plain": [
              "<Figure size 1440x720 with 1 Axes>"
            ]
          },
          "metadata": {
            "tags": []
          }
        }
      ]
    },
    {
      "cell_type": "markdown",
      "metadata": {
        "id": "OdJ_Jhqo4ZUY",
        "colab_type": "text"
      },
      "source": [
        "## Group by Readmitted"
      ]
    },
    {
      "cell_type": "code",
      "metadata": {
        "id": "ipNj4K374fCa",
        "colab_type": "code",
        "outputId": "fa7f1b9b-56a5-4a43-e51a-ece81bcefbf8",
        "colab": {
          "base_uri": "https://localhost:8080/",
          "height": 719
        }
      },
      "source": [
        "groupByChart('readmitted','Group By Readmitted')"
      ],
      "execution_count": 0,
      "outputs": [
        {
          "output_type": "display_data",
          "data": {
            "image/png": "[encoded data removed]",
            "text/plain": [
              "<Figure size 1440x720 with 1 Axes>"
            ]
          },
          "metadata": {
            "tags": []
          }
        }
      ]
    },
    {
      "cell_type": "markdown",
      "metadata": {
        "id": "CzXF-YofEACD",
        "colab_type": "text"
      },
      "source": [
        "#Normalization\n",
        "\n",
        "Normlizing the features that has numerical value"
      ]
    },
    {
      "cell_type": "code",
      "metadata": {
        "id": "i6mjsMqJEDGI",
        "colab_type": "code",
        "colab": {}
      },
      "source": [
        "scaler = MinMaxScaler(feature_range=[0, 3])\n",
        "data.iloc[:,3:11] = scaler.fit_transform(data.iloc[:,3:11])"
      ],
      "execution_count": 0,
      "outputs": []
    },
    {
      "cell_type": "code",
      "metadata": {
        "id": "hqnFsT90HVa8",
        "colab_type": "code",
        "outputId": "648c844f-6dcd-4220-fcc1-9700cff90146",
        "colab": {
          "base_uri": "https://localhost:8080/",
          "height": 316
        }
      },
      "source": [
        "data.head()"
      ],
      "execution_count": 0,
      "outputs": [
        {
          "output_type": "execute_result",
          "data": {
            "text/html": [
              "<div>\n",
              "<style scoped>\n",
              "    .dataframe tbody tr th:only-of-type {\n",
              "        vertical-align: middle;\n",
              "    }\n",
              "\n",
              "    .dataframe tbody tr th {\n",
              "        vertical-align: top;\n",
              "    }\n",
              "\n",
              "    .dataframe thead th {\n",
              "        text-align: right;\n",
              "    }\n",
              "</style>\n",
              "<table border=\"1\" class=\"dataframe\">\n",
              "  <thead>\n",
              "    <tr style=\"text-align: right;\">\n",
              "      <th></th>\n",
              "      <th>race</th>\n",
              "      <th>gender</th>\n",
              "      <th>age</th>\n",
              "      <th>time_in_hospital</th>\n",
              "      <th>num_lab_procedures</th>\n",
              "      <th>num_procedures</th>\n",
              "      <th>num_medications</th>\n",
              "      <th>number_outpatient</th>\n",
              "      <th>number_emergency</th>\n",
              "      <th>number_inpatient</th>\n",
              "      <th>number_diagnoses</th>\n",
              "      <th>max_glu_serum</th>\n",
              "      <th>A1Cresult</th>\n",
              "      <th>metformin</th>\n",
              "      <th>repaglinide</th>\n",
              "      <th>nateglinide</th>\n",
              "      <th>chlorpropamide</th>\n",
              "      <th>glimepiride</th>\n",
              "      <th>acetohexamide</th>\n",
              "      <th>glipizide</th>\n",
              "      <th>glyburide</th>\n",
              "      <th>tolbutamide</th>\n",
              "      <th>pioglitazone</th>\n",
              "      <th>rosiglitazone</th>\n",
              "      <th>acarbose</th>\n",
              "      <th>miglitol</th>\n",
              "      <th>troglitazone</th>\n",
              "      <th>tolazamide</th>\n",
              "      <th>examide</th>\n",
              "      <th>citoglipton</th>\n",
              "      <th>insulin</th>\n",
              "      <th>glyburide-metformin</th>\n",
              "      <th>glipizide-metformin</th>\n",
              "      <th>glimepiride-pioglitazone</th>\n",
              "      <th>metformin-rosiglitazone</th>\n",
              "      <th>metformin-pioglitazone</th>\n",
              "      <th>change</th>\n",
              "      <th>diabetesMed</th>\n",
              "      <th>readmitted</th>\n",
              "    </tr>\n",
              "  </thead>\n",
              "  <tbody>\n",
              "    <tr>\n",
              "      <th>0</th>\n",
              "      <td>Caucasian</td>\n",
              "      <td>Female</td>\n",
              "      <td>[0-10)</td>\n",
              "      <td>0.000000</td>\n",
              "      <td>0.916031</td>\n",
              "      <td>0.0</td>\n",
              "      <td>0.0000</td>\n",
              "      <td>0.000000</td>\n",
              "      <td>0.0</td>\n",
              "      <td>0.000000</td>\n",
              "      <td>0.0</td>\n",
              "      <td>None</td>\n",
              "      <td>None</td>\n",
              "      <td>No</td>\n",
              "      <td>No</td>\n",
              "      <td>No</td>\n",
              "      <td>No</td>\n",
              "      <td>No</td>\n",
              "      <td>No</td>\n",
              "      <td>No</td>\n",
              "      <td>No</td>\n",
              "      <td>No</td>\n",
              "      <td>No</td>\n",
              "      <td>No</td>\n",
              "      <td>No</td>\n",
              "      <td>No</td>\n",
              "      <td>No</td>\n",
              "      <td>No</td>\n",
              "      <td>No</td>\n",
              "      <td>No</td>\n",
              "      <td>No</td>\n",
              "      <td>No</td>\n",
              "      <td>No</td>\n",
              "      <td>No</td>\n",
              "      <td>No</td>\n",
              "      <td>No</td>\n",
              "      <td>No</td>\n",
              "      <td>No</td>\n",
              "      <td>NO</td>\n",
              "    </tr>\n",
              "    <tr>\n",
              "      <th>1</th>\n",
              "      <td>Caucasian</td>\n",
              "      <td>Female</td>\n",
              "      <td>[10-20)</td>\n",
              "      <td>0.461538</td>\n",
              "      <td>1.328244</td>\n",
              "      <td>0.0</td>\n",
              "      <td>0.6375</td>\n",
              "      <td>0.000000</td>\n",
              "      <td>0.0</td>\n",
              "      <td>0.000000</td>\n",
              "      <td>1.6</td>\n",
              "      <td>None</td>\n",
              "      <td>None</td>\n",
              "      <td>No</td>\n",
              "      <td>No</td>\n",
              "      <td>No</td>\n",
              "      <td>No</td>\n",
              "      <td>No</td>\n",
              "      <td>No</td>\n",
              "      <td>No</td>\n",
              "      <td>No</td>\n",
              "      <td>No</td>\n",
              "      <td>No</td>\n",
              "      <td>No</td>\n",
              "      <td>No</td>\n",
              "      <td>No</td>\n",
              "      <td>No</td>\n",
              "      <td>No</td>\n",
              "      <td>No</td>\n",
              "      <td>No</td>\n",
              "      <td>Up</td>\n",
              "      <td>No</td>\n",
              "      <td>No</td>\n",
              "      <td>No</td>\n",
              "      <td>No</td>\n",
              "      <td>No</td>\n",
              "      <td>Ch</td>\n",
              "      <td>Yes</td>\n",
              "      <td>&gt;30</td>\n",
              "    </tr>\n",
              "    <tr>\n",
              "      <th>2</th>\n",
              "      <td>AfricanAmerican</td>\n",
              "      <td>Female</td>\n",
              "      <td>[20-30)</td>\n",
              "      <td>0.230769</td>\n",
              "      <td>0.229008</td>\n",
              "      <td>2.5</td>\n",
              "      <td>0.4500</td>\n",
              "      <td>0.142857</td>\n",
              "      <td>0.0</td>\n",
              "      <td>0.142857</td>\n",
              "      <td>1.0</td>\n",
              "      <td>None</td>\n",
              "      <td>None</td>\n",
              "      <td>No</td>\n",
              "      <td>No</td>\n",
              "      <td>No</td>\n",
              "      <td>No</td>\n",
              "      <td>No</td>\n",
              "      <td>No</td>\n",
              "      <td>Steady</td>\n",
              "      <td>No</td>\n",
              "      <td>No</td>\n",
              "      <td>No</td>\n",
              "      <td>No</td>\n",
              "      <td>No</td>\n",
              "      <td>No</td>\n",
              "      <td>No</td>\n",
              "      <td>No</td>\n",
              "      <td>No</td>\n",
              "      <td>No</td>\n",
              "      <td>No</td>\n",
              "      <td>No</td>\n",
              "      <td>No</td>\n",
              "      <td>No</td>\n",
              "      <td>No</td>\n",
              "      <td>No</td>\n",
              "      <td>No</td>\n",
              "      <td>Yes</td>\n",
              "      <td>NO</td>\n",
              "    </tr>\n",
              "    <tr>\n",
              "      <th>3</th>\n",
              "      <td>Caucasian</td>\n",
              "      <td>Male</td>\n",
              "      <td>[30-40)</td>\n",
              "      <td>0.230769</td>\n",
              "      <td>0.984733</td>\n",
              "      <td>0.5</td>\n",
              "      <td>0.5625</td>\n",
              "      <td>0.000000</td>\n",
              "      <td>0.0</td>\n",
              "      <td>0.000000</td>\n",
              "      <td>1.2</td>\n",
              "      <td>None</td>\n",
              "      <td>None</td>\n",
              "      <td>No</td>\n",
              "      <td>No</td>\n",
              "      <td>No</td>\n",
              "      <td>No</td>\n",
              "      <td>No</td>\n",
              "      <td>No</td>\n",
              "      <td>No</td>\n",
              "      <td>No</td>\n",
              "      <td>No</td>\n",
              "      <td>No</td>\n",
              "      <td>No</td>\n",
              "      <td>No</td>\n",
              "      <td>No</td>\n",
              "      <td>No</td>\n",
              "      <td>No</td>\n",
              "      <td>No</td>\n",
              "      <td>No</td>\n",
              "      <td>Up</td>\n",
              "      <td>No</td>\n",
              "      <td>No</td>\n",
              "      <td>No</td>\n",
              "      <td>No</td>\n",
              "      <td>No</td>\n",
              "      <td>Ch</td>\n",
              "      <td>Yes</td>\n",
              "      <td>NO</td>\n",
              "    </tr>\n",
              "    <tr>\n",
              "      <th>4</th>\n",
              "      <td>Caucasian</td>\n",
              "      <td>Male</td>\n",
              "      <td>[40-50)</td>\n",
              "      <td>0.000000</td>\n",
              "      <td>1.145038</td>\n",
              "      <td>0.0</td>\n",
              "      <td>0.2625</td>\n",
              "      <td>0.000000</td>\n",
              "      <td>0.0</td>\n",
              "      <td>0.000000</td>\n",
              "      <td>0.8</td>\n",
              "      <td>None</td>\n",
              "      <td>None</td>\n",
              "      <td>No</td>\n",
              "      <td>No</td>\n",
              "      <td>No</td>\n",
              "      <td>No</td>\n",
              "      <td>No</td>\n",
              "      <td>No</td>\n",
              "      <td>Steady</td>\n",
              "      <td>No</td>\n",
              "      <td>No</td>\n",
              "      <td>No</td>\n",
              "      <td>No</td>\n",
              "      <td>No</td>\n",
              "      <td>No</td>\n",
              "      <td>No</td>\n",
              "      <td>No</td>\n",
              "      <td>No</td>\n",
              "      <td>No</td>\n",
              "      <td>Steady</td>\n",
              "      <td>No</td>\n",
              "      <td>No</td>\n",
              "      <td>No</td>\n",
              "      <td>No</td>\n",
              "      <td>No</td>\n",
              "      <td>Ch</td>\n",
              "      <td>Yes</td>\n",
              "      <td>NO</td>\n",
              "    </tr>\n",
              "  </tbody>\n",
              "</table>\n",
              "</div>"
            ],
            "text/plain": [
              "              race  gender      age  ...  change  diabetesMed  readmitted\n",
              "0        Caucasian  Female   [0-10)  ...      No           No          NO\n",
              "1        Caucasian  Female  [10-20)  ...      Ch          Yes         >30\n",
              "2  AfricanAmerican  Female  [20-30)  ...      No          Yes          NO\n",
              "3        Caucasian    Male  [30-40)  ...      Ch          Yes          NO\n",
              "4        Caucasian    Male  [40-50)  ...      Ch          Yes          NO\n",
              "\n",
              "[5 rows x 39 columns]"
            ]
          },
          "metadata": {
            "tags": []
          },
          "execution_count": 480
        }
      ]
    },
    {
      "cell_type": "markdown",
      "metadata": {
        "id": "L2i-egG-HYtx",
        "colab_type": "text"
      },
      "source": [
        "##Choose X features y labels"
      ]
    },
    {
      "cell_type": "code",
      "metadata": {
        "id": "X801cU_gHZYJ",
        "colab_type": "code",
        "colab": {}
      },
      "source": [
        "X_diabetesMed = data.iloc[:,0:37]\n",
        "#Including diabetesMed as a feature\n",
        "X_readmitted = data.iloc[:,0:38]\n",
        "#Only diabetesMed as label\n",
        "y_diabetesMed = data.iloc[:,-2]\n",
        "#Only readmitted as labe\n",
        "y_readmitted = data.iloc[:,-1]"
      ],
      "execution_count": 0,
      "outputs": []
    },
    {
      "cell_type": "code",
      "metadata": {
        "id": "_wQm6AiQHfDZ",
        "colab_type": "code",
        "outputId": "3a067ee9-3781-40ef-b2b1-7f61a99a8f9f",
        "colab": {
          "base_uri": "https://localhost:8080/",
          "height": 34
        }
      },
      "source": [
        "X_diabetesMed.shape, y_diabetesMed.shape, X_readmitted.shape, y_readmitted.shape"
      ],
      "execution_count": 0,
      "outputs": [
        {
          "output_type": "execute_result",
          "data": {
            "text/plain": [
              "((101766, 37), (101766,), (101766, 38), (101766,))"
            ]
          },
          "metadata": {
            "tags": []
          },
          "execution_count": 504
        }
      ]
    },
    {
      "cell_type": "code",
      "metadata": {
        "id": "U5SYsPbuHy9E",
        "colab_type": "code",
        "outputId": "fb5faab9-8160-444e-cda5-298991fe329e",
        "colab": {
          "base_uri": "https://localhost:8080/",
          "height": 316
        }
      },
      "source": [
        "X_diabetesMed.head()"
      ],
      "execution_count": 0,
      "outputs": [
        {
          "output_type": "execute_result",
          "data": {
            "text/html": [
              "<div>\n",
              "<style scoped>\n",
              "    .dataframe tbody tr th:only-of-type {\n",
              "        vertical-align: middle;\n",
              "    }\n",
              "\n",
              "    .dataframe tbody tr th {\n",
              "        vertical-align: top;\n",
              "    }\n",
              "\n",
              "    .dataframe thead th {\n",
              "        text-align: right;\n",
              "    }\n",
              "</style>\n",
              "<table border=\"1\" class=\"dataframe\">\n",
              "  <thead>\n",
              "    <tr style=\"text-align: right;\">\n",
              "      <th></th>\n",
              "      <th>race</th>\n",
              "      <th>gender</th>\n",
              "      <th>age</th>\n",
              "      <th>time_in_hospital</th>\n",
              "      <th>num_lab_procedures</th>\n",
              "      <th>num_procedures</th>\n",
              "      <th>num_medications</th>\n",
              "      <th>number_outpatient</th>\n",
              "      <th>number_emergency</th>\n",
              "      <th>number_inpatient</th>\n",
              "      <th>number_diagnoses</th>\n",
              "      <th>max_glu_serum</th>\n",
              "      <th>A1Cresult</th>\n",
              "      <th>metformin</th>\n",
              "      <th>repaglinide</th>\n",
              "      <th>nateglinide</th>\n",
              "      <th>chlorpropamide</th>\n",
              "      <th>glimepiride</th>\n",
              "      <th>acetohexamide</th>\n",
              "      <th>glipizide</th>\n",
              "      <th>glyburide</th>\n",
              "      <th>tolbutamide</th>\n",
              "      <th>pioglitazone</th>\n",
              "      <th>rosiglitazone</th>\n",
              "      <th>acarbose</th>\n",
              "      <th>miglitol</th>\n",
              "      <th>troglitazone</th>\n",
              "      <th>tolazamide</th>\n",
              "      <th>examide</th>\n",
              "      <th>citoglipton</th>\n",
              "      <th>insulin</th>\n",
              "      <th>glyburide-metformin</th>\n",
              "      <th>glipizide-metformin</th>\n",
              "      <th>glimepiride-pioglitazone</th>\n",
              "      <th>metformin-rosiglitazone</th>\n",
              "      <th>metformin-pioglitazone</th>\n",
              "      <th>change</th>\n",
              "    </tr>\n",
              "  </thead>\n",
              "  <tbody>\n",
              "    <tr>\n",
              "      <th>0</th>\n",
              "      <td>Caucasian</td>\n",
              "      <td>Female</td>\n",
              "      <td>[0-10)</td>\n",
              "      <td>0.000000</td>\n",
              "      <td>0.916031</td>\n",
              "      <td>0.0</td>\n",
              "      <td>0.0000</td>\n",
              "      <td>0.000000</td>\n",
              "      <td>0.0</td>\n",
              "      <td>0.000000</td>\n",
              "      <td>0.0</td>\n",
              "      <td>None</td>\n",
              "      <td>None</td>\n",
              "      <td>No</td>\n",
              "      <td>No</td>\n",
              "      <td>No</td>\n",
              "      <td>No</td>\n",
              "      <td>No</td>\n",
              "      <td>No</td>\n",
              "      <td>No</td>\n",
              "      <td>No</td>\n",
              "      <td>No</td>\n",
              "      <td>No</td>\n",
              "      <td>No</td>\n",
              "      <td>No</td>\n",
              "      <td>No</td>\n",
              "      <td>No</td>\n",
              "      <td>No</td>\n",
              "      <td>No</td>\n",
              "      <td>No</td>\n",
              "      <td>No</td>\n",
              "      <td>No</td>\n",
              "      <td>No</td>\n",
              "      <td>No</td>\n",
              "      <td>No</td>\n",
              "      <td>No</td>\n",
              "      <td>No</td>\n",
              "    </tr>\n",
              "    <tr>\n",
              "      <th>1</th>\n",
              "      <td>Caucasian</td>\n",
              "      <td>Female</td>\n",
              "      <td>[10-20)</td>\n",
              "      <td>0.461538</td>\n",
              "      <td>1.328244</td>\n",
              "      <td>0.0</td>\n",
              "      <td>0.6375</td>\n",
              "      <td>0.000000</td>\n",
              "      <td>0.0</td>\n",
              "      <td>0.000000</td>\n",
              "      <td>1.6</td>\n",
              "      <td>None</td>\n",
              "      <td>None</td>\n",
              "      <td>No</td>\n",
              "      <td>No</td>\n",
              "      <td>No</td>\n",
              "      <td>No</td>\n",
              "      <td>No</td>\n",
              "      <td>No</td>\n",
              "      <td>No</td>\n",
              "      <td>No</td>\n",
              "      <td>No</td>\n",
              "      <td>No</td>\n",
              "      <td>No</td>\n",
              "      <td>No</td>\n",
              "      <td>No</td>\n",
              "      <td>No</td>\n",
              "      <td>No</td>\n",
              "      <td>No</td>\n",
              "      <td>No</td>\n",
              "      <td>Up</td>\n",
              "      <td>No</td>\n",
              "      <td>No</td>\n",
              "      <td>No</td>\n",
              "      <td>No</td>\n",
              "      <td>No</td>\n",
              "      <td>Ch</td>\n",
              "    </tr>\n",
              "    <tr>\n",
              "      <th>2</th>\n",
              "      <td>AfricanAmerican</td>\n",
              "      <td>Female</td>\n",
              "      <td>[20-30)</td>\n",
              "      <td>0.230769</td>\n",
              "      <td>0.229008</td>\n",
              "      <td>2.5</td>\n",
              "      <td>0.4500</td>\n",
              "      <td>0.142857</td>\n",
              "      <td>0.0</td>\n",
              "      <td>0.142857</td>\n",
              "      <td>1.0</td>\n",
              "      <td>None</td>\n",
              "      <td>None</td>\n",
              "      <td>No</td>\n",
              "      <td>No</td>\n",
              "      <td>No</td>\n",
              "      <td>No</td>\n",
              "      <td>No</td>\n",
              "      <td>No</td>\n",
              "      <td>Steady</td>\n",
              "      <td>No</td>\n",
              "      <td>No</td>\n",
              "      <td>No</td>\n",
              "      <td>No</td>\n",
              "      <td>No</td>\n",
              "      <td>No</td>\n",
              "      <td>No</td>\n",
              "      <td>No</td>\n",
              "      <td>No</td>\n",
              "      <td>No</td>\n",
              "      <td>No</td>\n",
              "      <td>No</td>\n",
              "      <td>No</td>\n",
              "      <td>No</td>\n",
              "      <td>No</td>\n",
              "      <td>No</td>\n",
              "      <td>No</td>\n",
              "    </tr>\n",
              "    <tr>\n",
              "      <th>3</th>\n",
              "      <td>Caucasian</td>\n",
              "      <td>Male</td>\n",
              "      <td>[30-40)</td>\n",
              "      <td>0.230769</td>\n",
              "      <td>0.984733</td>\n",
              "      <td>0.5</td>\n",
              "      <td>0.5625</td>\n",
              "      <td>0.000000</td>\n",
              "      <td>0.0</td>\n",
              "      <td>0.000000</td>\n",
              "      <td>1.2</td>\n",
              "      <td>None</td>\n",
              "      <td>None</td>\n",
              "      <td>No</td>\n",
              "      <td>No</td>\n",
              "      <td>No</td>\n",
              "      <td>No</td>\n",
              "      <td>No</td>\n",
              "      <td>No</td>\n",
              "      <td>No</td>\n",
              "      <td>No</td>\n",
              "      <td>No</td>\n",
              "      <td>No</td>\n",
              "      <td>No</td>\n",
              "      <td>No</td>\n",
              "      <td>No</td>\n",
              "      <td>No</td>\n",
              "      <td>No</td>\n",
              "      <td>No</td>\n",
              "      <td>No</td>\n",
              "      <td>Up</td>\n",
              "      <td>No</td>\n",
              "      <td>No</td>\n",
              "      <td>No</td>\n",
              "      <td>No</td>\n",
              "      <td>No</td>\n",
              "      <td>Ch</td>\n",
              "    </tr>\n",
              "    <tr>\n",
              "      <th>4</th>\n",
              "      <td>Caucasian</td>\n",
              "      <td>Male</td>\n",
              "      <td>[40-50)</td>\n",
              "      <td>0.000000</td>\n",
              "      <td>1.145038</td>\n",
              "      <td>0.0</td>\n",
              "      <td>0.2625</td>\n",
              "      <td>0.000000</td>\n",
              "      <td>0.0</td>\n",
              "      <td>0.000000</td>\n",
              "      <td>0.8</td>\n",
              "      <td>None</td>\n",
              "      <td>None</td>\n",
              "      <td>No</td>\n",
              "      <td>No</td>\n",
              "      <td>No</td>\n",
              "      <td>No</td>\n",
              "      <td>No</td>\n",
              "      <td>No</td>\n",
              "      <td>Steady</td>\n",
              "      <td>No</td>\n",
              "      <td>No</td>\n",
              "      <td>No</td>\n",
              "      <td>No</td>\n",
              "      <td>No</td>\n",
              "      <td>No</td>\n",
              "      <td>No</td>\n",
              "      <td>No</td>\n",
              "      <td>No</td>\n",
              "      <td>No</td>\n",
              "      <td>Steady</td>\n",
              "      <td>No</td>\n",
              "      <td>No</td>\n",
              "      <td>No</td>\n",
              "      <td>No</td>\n",
              "      <td>No</td>\n",
              "      <td>Ch</td>\n",
              "    </tr>\n",
              "  </tbody>\n",
              "</table>\n",
              "</div>"
            ],
            "text/plain": [
              "              race  gender  ... metformin-pioglitazone  change\n",
              "0        Caucasian  Female  ...                     No      No\n",
              "1        Caucasian  Female  ...                     No      Ch\n",
              "2  AfricanAmerican  Female  ...                     No      No\n",
              "3        Caucasian    Male  ...                     No      Ch\n",
              "4        Caucasian    Male  ...                     No      Ch\n",
              "\n",
              "[5 rows x 37 columns]"
            ]
          },
          "metadata": {
            "tags": []
          },
          "execution_count": 505
        }
      ]
    },
    {
      "cell_type": "code",
      "metadata": {
        "id": "zjjwov1UH5Gl",
        "colab_type": "code",
        "outputId": "a3f9747b-775b-48d7-c11c-12b26d36c776",
        "colab": {
          "base_uri": "https://localhost:8080/",
          "height": 316
        }
      },
      "source": [
        "X_readmitted.head()"
      ],
      "execution_count": 0,
      "outputs": [
        {
          "output_type": "execute_result",
          "data": {
            "text/html": [
              "<div>\n",
              "<style scoped>\n",
              "    .dataframe tbody tr th:only-of-type {\n",
              "        vertical-align: middle;\n",
              "    }\n",
              "\n",
              "    .dataframe tbody tr th {\n",
              "        vertical-align: top;\n",
              "    }\n",
              "\n",
              "    .dataframe thead th {\n",
              "        text-align: right;\n",
              "    }\n",
              "</style>\n",
              "<table border=\"1\" class=\"dataframe\">\n",
              "  <thead>\n",
              "    <tr style=\"text-align: right;\">\n",
              "      <th></th>\n",
              "      <th>race</th>\n",
              "      <th>gender</th>\n",
              "      <th>age</th>\n",
              "      <th>time_in_hospital</th>\n",
              "      <th>num_lab_procedures</th>\n",
              "      <th>num_procedures</th>\n",
              "      <th>num_medications</th>\n",
              "      <th>number_outpatient</th>\n",
              "      <th>number_emergency</th>\n",
              "      <th>number_inpatient</th>\n",
              "      <th>number_diagnoses</th>\n",
              "      <th>max_glu_serum</th>\n",
              "      <th>A1Cresult</th>\n",
              "      <th>metformin</th>\n",
              "      <th>repaglinide</th>\n",
              "      <th>nateglinide</th>\n",
              "      <th>chlorpropamide</th>\n",
              "      <th>glimepiride</th>\n",
              "      <th>acetohexamide</th>\n",
              "      <th>glipizide</th>\n",
              "      <th>glyburide</th>\n",
              "      <th>tolbutamide</th>\n",
              "      <th>pioglitazone</th>\n",
              "      <th>rosiglitazone</th>\n",
              "      <th>acarbose</th>\n",
              "      <th>miglitol</th>\n",
              "      <th>troglitazone</th>\n",
              "      <th>tolazamide</th>\n",
              "      <th>examide</th>\n",
              "      <th>citoglipton</th>\n",
              "      <th>insulin</th>\n",
              "      <th>glyburide-metformin</th>\n",
              "      <th>glipizide-metformin</th>\n",
              "      <th>glimepiride-pioglitazone</th>\n",
              "      <th>metformin-rosiglitazone</th>\n",
              "      <th>metformin-pioglitazone</th>\n",
              "      <th>change</th>\n",
              "      <th>diabetesMed</th>\n",
              "    </tr>\n",
              "  </thead>\n",
              "  <tbody>\n",
              "    <tr>\n",
              "      <th>0</th>\n",
              "      <td>Caucasian</td>\n",
              "      <td>Female</td>\n",
              "      <td>[0-10)</td>\n",
              "      <td>0.000000</td>\n",
              "      <td>0.916031</td>\n",
              "      <td>0.0</td>\n",
              "      <td>0.0000</td>\n",
              "      <td>0.000000</td>\n",
              "      <td>0.0</td>\n",
              "      <td>0.000000</td>\n",
              "      <td>0.0</td>\n",
              "      <td>None</td>\n",
              "      <td>None</td>\n",
              "      <td>No</td>\n",
              "      <td>No</td>\n",
              "      <td>No</td>\n",
              "      <td>No</td>\n",
              "      <td>No</td>\n",
              "      <td>No</td>\n",
              "      <td>No</td>\n",
              "      <td>No</td>\n",
              "      <td>No</td>\n",
              "      <td>No</td>\n",
              "      <td>No</td>\n",
              "      <td>No</td>\n",
              "      <td>No</td>\n",
              "      <td>No</td>\n",
              "      <td>No</td>\n",
              "      <td>No</td>\n",
              "      <td>No</td>\n",
              "      <td>No</td>\n",
              "      <td>No</td>\n",
              "      <td>No</td>\n",
              "      <td>No</td>\n",
              "      <td>No</td>\n",
              "      <td>No</td>\n",
              "      <td>No</td>\n",
              "      <td>No</td>\n",
              "    </tr>\n",
              "    <tr>\n",
              "      <th>1</th>\n",
              "      <td>Caucasian</td>\n",
              "      <td>Female</td>\n",
              "      <td>[10-20)</td>\n",
              "      <td>0.461538</td>\n",
              "      <td>1.328244</td>\n",
              "      <td>0.0</td>\n",
              "      <td>0.6375</td>\n",
              "      <td>0.000000</td>\n",
              "      <td>0.0</td>\n",
              "      <td>0.000000</td>\n",
              "      <td>1.6</td>\n",
              "      <td>None</td>\n",
              "      <td>None</td>\n",
              "      <td>No</td>\n",
              "      <td>No</td>\n",
              "      <td>No</td>\n",
              "      <td>No</td>\n",
              "      <td>No</td>\n",
              "      <td>No</td>\n",
              "      <td>No</td>\n",
              "      <td>No</td>\n",
              "      <td>No</td>\n",
              "      <td>No</td>\n",
              "      <td>No</td>\n",
              "      <td>No</td>\n",
              "      <td>No</td>\n",
              "      <td>No</td>\n",
              "      <td>No</td>\n",
              "      <td>No</td>\n",
              "      <td>No</td>\n",
              "      <td>Up</td>\n",
              "      <td>No</td>\n",
              "      <td>No</td>\n",
              "      <td>No</td>\n",
              "      <td>No</td>\n",
              "      <td>No</td>\n",
              "      <td>Ch</td>\n",
              "      <td>Yes</td>\n",
              "    </tr>\n",
              "    <tr>\n",
              "      <th>2</th>\n",
              "      <td>AfricanAmerican</td>\n",
              "      <td>Female</td>\n",
              "      <td>[20-30)</td>\n",
              "      <td>0.230769</td>\n",
              "      <td>0.229008</td>\n",
              "      <td>2.5</td>\n",
              "      <td>0.4500</td>\n",
              "      <td>0.142857</td>\n",
              "      <td>0.0</td>\n",
              "      <td>0.142857</td>\n",
              "      <td>1.0</td>\n",
              "      <td>None</td>\n",
              "      <td>None</td>\n",
              "      <td>No</td>\n",
              "      <td>No</td>\n",
              "      <td>No</td>\n",
              "      <td>No</td>\n",
              "      <td>No</td>\n",
              "      <td>No</td>\n",
              "      <td>Steady</td>\n",
              "      <td>No</td>\n",
              "      <td>No</td>\n",
              "      <td>No</td>\n",
              "      <td>No</td>\n",
              "      <td>No</td>\n",
              "      <td>No</td>\n",
              "      <td>No</td>\n",
              "      <td>No</td>\n",
              "      <td>No</td>\n",
              "      <td>No</td>\n",
              "      <td>No</td>\n",
              "      <td>No</td>\n",
              "      <td>No</td>\n",
              "      <td>No</td>\n",
              "      <td>No</td>\n",
              "      <td>No</td>\n",
              "      <td>No</td>\n",
              "      <td>Yes</td>\n",
              "    </tr>\n",
              "    <tr>\n",
              "      <th>3</th>\n",
              "      <td>Caucasian</td>\n",
              "      <td>Male</td>\n",
              "      <td>[30-40)</td>\n",
              "      <td>0.230769</td>\n",
              "      <td>0.984733</td>\n",
              "      <td>0.5</td>\n",
              "      <td>0.5625</td>\n",
              "      <td>0.000000</td>\n",
              "      <td>0.0</td>\n",
              "      <td>0.000000</td>\n",
              "      <td>1.2</td>\n",
              "      <td>None</td>\n",
              "      <td>None</td>\n",
              "      <td>No</td>\n",
              "      <td>No</td>\n",
              "      <td>No</td>\n",
              "      <td>No</td>\n",
              "      <td>No</td>\n",
              "      <td>No</td>\n",
              "      <td>No</td>\n",
              "      <td>No</td>\n",
              "      <td>No</td>\n",
              "      <td>No</td>\n",
              "      <td>No</td>\n",
              "      <td>No</td>\n",
              "      <td>No</td>\n",
              "      <td>No</td>\n",
              "      <td>No</td>\n",
              "      <td>No</td>\n",
              "      <td>No</td>\n",
              "      <td>Up</td>\n",
              "      <td>No</td>\n",
              "      <td>No</td>\n",
              "      <td>No</td>\n",
              "      <td>No</td>\n",
              "      <td>No</td>\n",
              "      <td>Ch</td>\n",
              "      <td>Yes</td>\n",
              "    </tr>\n",
              "    <tr>\n",
              "      <th>4</th>\n",
              "      <td>Caucasian</td>\n",
              "      <td>Male</td>\n",
              "      <td>[40-50)</td>\n",
              "      <td>0.000000</td>\n",
              "      <td>1.145038</td>\n",
              "      <td>0.0</td>\n",
              "      <td>0.2625</td>\n",
              "      <td>0.000000</td>\n",
              "      <td>0.0</td>\n",
              "      <td>0.000000</td>\n",
              "      <td>0.8</td>\n",
              "      <td>None</td>\n",
              "      <td>None</td>\n",
              "      <td>No</td>\n",
              "      <td>No</td>\n",
              "      <td>No</td>\n",
              "      <td>No</td>\n",
              "      <td>No</td>\n",
              "      <td>No</td>\n",
              "      <td>Steady</td>\n",
              "      <td>No</td>\n",
              "      <td>No</td>\n",
              "      <td>No</td>\n",
              "      <td>No</td>\n",
              "      <td>No</td>\n",
              "      <td>No</td>\n",
              "      <td>No</td>\n",
              "      <td>No</td>\n",
              "      <td>No</td>\n",
              "      <td>No</td>\n",
              "      <td>Steady</td>\n",
              "      <td>No</td>\n",
              "      <td>No</td>\n",
              "      <td>No</td>\n",
              "      <td>No</td>\n",
              "      <td>No</td>\n",
              "      <td>Ch</td>\n",
              "      <td>Yes</td>\n",
              "    </tr>\n",
              "  </tbody>\n",
              "</table>\n",
              "</div>"
            ],
            "text/plain": [
              "              race  gender      age  ...  metformin-pioglitazone  change  diabetesMed\n",
              "0        Caucasian  Female   [0-10)  ...                      No      No           No\n",
              "1        Caucasian  Female  [10-20)  ...                      No      Ch          Yes\n",
              "2  AfricanAmerican  Female  [20-30)  ...                      No      No          Yes\n",
              "3        Caucasian    Male  [30-40)  ...                      No      Ch          Yes\n",
              "4        Caucasian    Male  [40-50)  ...                      No      Ch          Yes\n",
              "\n",
              "[5 rows x 38 columns]"
            ]
          },
          "metadata": {
            "tags": []
          },
          "execution_count": 506
        }
      ]
    },
    {
      "cell_type": "markdown",
      "metadata": {
        "id": "RZq7iM0wKEb1",
        "colab_type": "text"
      },
      "source": [
        "##Convert categorical value to numerical"
      ]
    },
    {
      "cell_type": "code",
      "metadata": {
        "id": "E_tsQvhYKHlq",
        "colab_type": "code",
        "colab": {}
      },
      "source": [
        "X_diabetesMed = pd.get_dummies(X_diabetesMed)\n",
        "X_readmitted = pd.get_dummies(X_readmitted)"
      ],
      "execution_count": 0,
      "outputs": []
    },
    {
      "cell_type": "code",
      "metadata": {
        "id": "T6EJbDcfKL5b",
        "colab_type": "code",
        "outputId": "82cd8360-e4ed-4b22-f18b-3aafb8b8bbe1",
        "colab": {
          "base_uri": "https://localhost:8080/",
          "height": 34
        }
      },
      "source": [
        "X_diabetesMed.shape, X_readmitted.shape"
      ],
      "execution_count": 0,
      "outputs": [
        {
          "output_type": "execute_result",
          "data": {
            "text/plain": [
              "((101766, 108), (101766, 110))"
            ]
          },
          "metadata": {
            "tags": []
          },
          "execution_count": 508
        }
      ]
    },
    {
      "cell_type": "markdown",
      "metadata": {
        "id": "7inalLs5KknK",
        "colab_type": "text"
      },
      "source": [
        "convert 'diabetesMed' label to numerical"
      ]
    },
    {
      "cell_type": "code",
      "metadata": {
        "id": "T3hJ8nLvKPk7",
        "colab_type": "code",
        "outputId": "29fc2e29-cb04-4684-e2ae-9651a3cbf38a",
        "colab": {
          "base_uri": "https://localhost:8080/",
          "height": 122
        }
      },
      "source": [
        "y_dia = y_diabetesMed.map(lambda x:int(1) if x=='Yes' else int(0))\n",
        "y_dia.head()"
      ],
      "execution_count": 0,
      "outputs": [
        {
          "output_type": "execute_result",
          "data": {
            "text/plain": [
              "0    0\n",
              "1    1\n",
              "2    1\n",
              "3    1\n",
              "4    1\n",
              "Name: diabetesMed, dtype: int64"
            ]
          },
          "metadata": {
            "tags": []
          },
          "execution_count": 510
        }
      ]
    },
    {
      "cell_type": "markdown",
      "metadata": {
        "id": "Mut8OTQvKmC3",
        "colab_type": "text"
      },
      "source": [
        "convert 'readmitted' label to numerical"
      ]
    },
    {
      "cell_type": "code",
      "metadata": {
        "id": "dj5_M6kDKe5S",
        "colab_type": "code",
        "outputId": "a77cb1b4-ffbd-4293-b418-8f18efa71c21",
        "colab": {
          "base_uri": "https://localhost:8080/",
          "height": 122
        }
      },
      "source": [
        "y_rea = y_readmitted.map(lambda x:int(0) if x=='No' else int(1) if x=='<30' else int(2))\n",
        "y_rea.head()"
      ],
      "execution_count": 0,
      "outputs": [
        {
          "output_type": "execute_result",
          "data": {
            "text/plain": [
              "0    2\n",
              "1    2\n",
              "2    2\n",
              "3    2\n",
              "4    2\n",
              "Name: readmitted, dtype: int64"
            ]
          },
          "metadata": {
            "tags": []
          },
          "execution_count": 514
        }
      ]
    },
    {
      "cell_type": "markdown",
      "metadata": {
        "id": "6IymORnBLf8q",
        "colab_type": "text"
      },
      "source": [
        "##Select the best 50 features from both diabetes and readmitted"
      ]
    },
    {
      "cell_type": "code",
      "metadata": {
        "id": "lj7TcHMuLh7P",
        "colab_type": "code",
        "colab": {}
      },
      "source": [
        "skb = SelectKBest(chi2, k=50)\n",
        "X_dia = skb.fit_transform(X_diabetesMed,y_dia)\n",
        "X_rea = skb.fit_transform(X_readmitted,y_rea)"
      ],
      "execution_count": 0,
      "outputs": []
    },
    {
      "cell_type": "code",
      "metadata": {
        "id": "JC_kopY7MSkC",
        "colab_type": "code",
        "colab": {}
      },
      "source": [
        "# For vizaulizing the important features\n",
        "X_dia_fit = skb.fit(X_diabetesMed, y_dia)\n",
        "X_rea_fit = skb.fit(X_readmitted, y_rea)"
      ],
      "execution_count": 0,
      "outputs": []
    },
    {
      "cell_type": "code",
      "metadata": {
        "id": "fOqvj6HjMXtl",
        "colab_type": "code",
        "outputId": "17d3867a-42d0-4faa-ec8d-e2a05d6c12a2",
        "colab": {
          "base_uri": "https://localhost:8080/",
          "height": 34
        }
      },
      "source": [
        "X_dia.shape, X_rea.shape"
      ],
      "execution_count": 0,
      "outputs": [
        {
          "output_type": "execute_result",
          "data": {
            "text/plain": [
              "((101766, 108), (101766, 110))"
            ]
          },
          "metadata": {
            "tags": []
          },
          "execution_count": 545
        }
      ]
    },
    {
      "cell_type": "markdown",
      "metadata": {
        "id": "Bz4YAbQGMbuP",
        "colab_type": "text"
      },
      "source": [
        "###Best 50 features for 'diabetesMed'"
      ]
    },
    {
      "cell_type": "code",
      "metadata": {
        "id": "JWbG3dc1Mpat",
        "colab_type": "code",
        "colab": {}
      },
      "source": [
        "X_dia_scores=pd.DataFrame(X_dia_fit.scores_)\n",
        "X_dia_columns = pd.DataFrame(X_diabetesMed.columns)\n",
        "dia_scores = pd.concat([X_dia_columns,X_dia_scores],axis=1)\n",
        "dia_scores.columns=['Features','Score']"
      ],
      "execution_count": 0,
      "outputs": []
    },
    {
      "cell_type": "markdown",
      "metadata": {
        "id": "SK4K_BlvNh-i",
        "colab_type": "text"
      },
      "source": [
        "See the 50 highest score of importance features"
      ]
    },
    {
      "cell_type": "code",
      "metadata": {
        "id": "6nwAJvGsNjy6",
        "colab_type": "code",
        "outputId": "8c0e8122-a03e-40dc-81a7-13c314792568",
        "colab": {
          "base_uri": "https://localhost:8080/",
          "height": 914
        }
      },
      "source": [
        "print(dia_scores.nlargest(50,'Score'))"
      ],
      "execution_count": 0,
      "outputs": [
        {
          "output_type": "stream",
          "text": [
            "                  Features       Score\n",
            "6         number_inpatient  994.937608\n",
            "0         time_in_hospital  120.382533\n",
            "90            insulin_Down   92.357920\n",
            "5         number_emergency   64.870867\n",
            "91              insulin_No   60.224382\n",
            "108                    NaN   57.655322\n",
            "22             age_[50-60)   38.833315\n",
            "37        metformin_Steady   38.724389\n",
            "93              insulin_Up   38.245607\n",
            "7         number_diagnoses   29.059329\n",
            "3          num_medications   24.786171\n",
            "106              change_Ch   20.833336\n",
            "18             age_[10-20)   20.107193\n",
            "8                   race_?   19.133618\n",
            "107              change_No   17.886877\n",
            "109                    NaN   17.218681\n",
            "2           num_procedures   16.521367\n",
            "19             age_[20-30)   15.882274\n",
            "25             age_[80-90)   14.795801\n",
            "17              age_[0-10)   14.034622\n",
            "32            A1Cresult_>8   13.767366\n",
            "28      max_glu_serum_>300   12.728291\n",
            "34          A1Cresult_Norm   11.333367\n",
            "4        number_outpatient   11.281901\n",
            "36            metformin_No   10.490585\n",
            "24             age_[70-80)    9.884529\n",
            "38            metformin_Up    9.129025\n",
            "57          glipizide_Down    9.121782\n",
            "1       num_lab_procedures    8.886317\n",
            "53      glimepiride_Steady    6.105413\n",
            "33          A1Cresult_None    5.928811\n",
            "41      repaglinide_Steady    5.530128\n",
            "42          repaglinide_Up    5.470567\n",
            "31            A1Cresult_>7    4.760324\n",
            "79           miglitol_Down    4.194625\n",
            "69     pioglitazone_Steady    3.837102\n",
            "13              race_Other    3.563999\n",
            "21             age_[40-50)    3.018603\n",
            "73    rosiglitazone_Steady    2.613250\n",
            "71      rosiglitazone_Down    2.570938\n",
            "27      max_glu_serum_>200    2.523502\n",
            "60            glipizide_Up    2.237179\n",
            "77         acarbose_Steady    2.145609\n",
            "61          glyburide_Down    2.141108\n",
            "67       pioglitazone_Down    1.995152\n",
            "49   chlorpropamide_Steady    1.859498\n",
            "63        glyburide_Steady    1.737578\n",
            "75           acarbose_Down    1.487704\n",
            "11          race_Caucasian    1.309967\n",
            "46          nateglinide_Up    1.183857\n"
          ],
          "name": "stdout"
        }
      ]
    },
    {
      "cell_type": "markdown",
      "metadata": {
        "id": "eoNimFa7OFv3",
        "colab_type": "text"
      },
      "source": [
        "###Best 50 features for 'readmitted'"
      ]
    },
    {
      "cell_type": "code",
      "metadata": {
        "id": "8CfnSopDOJzB",
        "colab_type": "code",
        "colab": {}
      },
      "source": [
        "X_rea_scores = pd.DataFrame(X_rea_fit.scores_)\n",
        "X_rea_columns = pd.DataFrame(X_readmitted.columns)\n",
        "rea_scores=pd.concat([X_rea_columns,X_rea_scores],axis=1)\n",
        "rea_scores.columns = ['Features','Score']"
      ],
      "execution_count": 0,
      "outputs": []
    },
    {
      "cell_type": "code",
      "metadata": {
        "id": "JhCQyza_Oqgy",
        "colab_type": "code",
        "outputId": "65bc8ede-fd59-4d9a-fd08-245bb3e870e4",
        "colab": {
          "base_uri": "https://localhost:8080/",
          "height": 914
        }
      },
      "source": [
        "print(rea_scores.nlargest(50,'Score'))"
      ],
      "execution_count": 0,
      "outputs": [
        {
          "output_type": "stream",
          "text": [
            "                  Features       Score\n",
            "6         number_inpatient  994.937608\n",
            "0         time_in_hospital  120.382533\n",
            "90            insulin_Down   92.357920\n",
            "5         number_emergency   64.870867\n",
            "91              insulin_No   60.224382\n",
            "108         diabetesMed_No   57.655322\n",
            "22             age_[50-60)   38.833315\n",
            "37        metformin_Steady   38.724389\n",
            "93              insulin_Up   38.245607\n",
            "7         number_diagnoses   29.059329\n",
            "3          num_medications   24.786171\n",
            "106              change_Ch   20.833336\n",
            "18             age_[10-20)   20.107193\n",
            "8                   race_?   19.133618\n",
            "107              change_No   17.886877\n",
            "109        diabetesMed_Yes   17.218681\n",
            "2           num_procedures   16.521367\n",
            "19             age_[20-30)   15.882274\n",
            "25             age_[80-90)   14.795801\n",
            "17              age_[0-10)   14.034622\n",
            "32            A1Cresult_>8   13.767366\n",
            "28      max_glu_serum_>300   12.728291\n",
            "34          A1Cresult_Norm   11.333367\n",
            "4        number_outpatient   11.281901\n",
            "36            metformin_No   10.490585\n",
            "24             age_[70-80)    9.884529\n",
            "38            metformin_Up    9.129025\n",
            "57          glipizide_Down    9.121782\n",
            "1       num_lab_procedures    8.886317\n",
            "53      glimepiride_Steady    6.105413\n",
            "33          A1Cresult_None    5.928811\n",
            "41      repaglinide_Steady    5.530128\n",
            "42          repaglinide_Up    5.470567\n",
            "31            A1Cresult_>7    4.760324\n",
            "79           miglitol_Down    4.194625\n",
            "69     pioglitazone_Steady    3.837102\n",
            "13              race_Other    3.563999\n",
            "21             age_[40-50)    3.018603\n",
            "73    rosiglitazone_Steady    2.613250\n",
            "71      rosiglitazone_Down    2.570938\n",
            "27      max_glu_serum_>200    2.523502\n",
            "60            glipizide_Up    2.237179\n",
            "77         acarbose_Steady    2.145609\n",
            "61          glyburide_Down    2.141108\n",
            "67       pioglitazone_Down    1.995152\n",
            "49   chlorpropamide_Steady    1.859498\n",
            "63        glyburide_Steady    1.737578\n",
            "75           acarbose_Down    1.487704\n",
            "11          race_Caucasian    1.309967\n",
            "46          nateglinide_Up    1.183857\n"
          ],
          "name": "stdout"
        }
      ]
    },
    {
      "cell_type": "markdown",
      "metadata": {
        "id": "EpqkE80wO4i_",
        "colab_type": "text"
      },
      "source": [
        "#Splitting The Data\n",
        "\n",
        "Here, Split the data for training and testing set in ration 70%-30%"
      ]
    },
    {
      "cell_type": "code",
      "metadata": {
        "id": "MGbCs0xvOyyd",
        "colab_type": "code",
        "colab": {}
      },
      "source": [
        "#For diabetesMed\n",
        "X_train_dia, X_test_dia, y_train_dia, y_test_dia = train_test_split(X_dia,y_dia, test_size=0.3, shuffle = True, random_state=42)"
      ],
      "execution_count": 0,
      "outputs": []
    },
    {
      "cell_type": "code",
      "metadata": {
        "id": "my3fOmHsP6Ml",
        "colab_type": "code",
        "colab": {}
      },
      "source": [
        "#For readmitted\n",
        "X_train_rea, X_test_rea, y_train_rea, y_test_rea = train_test_split(X_rea,y_rea, test_size=0.3, shuffle = True, random_state=42)"
      ],
      "execution_count": 0,
      "outputs": []
    },
    {
      "cell_type": "markdown",
      "metadata": {
        "id": "rXtXKQCaP9sd",
        "colab_type": "text"
      },
      "source": [
        "#Building The Models"
      ]
    },
    {
      "cell_type": "markdown",
      "metadata": {
        "id": "XYCcqa9rQC5J",
        "colab_type": "text"
      },
      "source": [
        "##RandomForest Model"
      ]
    },
    {
      "cell_type": "code",
      "metadata": {
        "id": "5NN38UvJQCa1",
        "colab_type": "code",
        "colab": {}
      },
      "source": [
        "rnd_clf = RandomForestClassifier(n_estimators=10)"
      ],
      "execution_count": 0,
      "outputs": []
    },
    {
      "cell_type": "markdown",
      "metadata": {
        "id": "0TjpYReVQIdC",
        "colab_type": "text"
      },
      "source": [
        "###for 'diabetMed'"
      ]
    },
    {
      "cell_type": "markdown",
      "metadata": {
        "id": "DtL3bzviQPPt",
        "colab_type": "text"
      },
      "source": [
        "Perform Cross Validation\n"
      ]
    },
    {
      "cell_type": "code",
      "metadata": {
        "id": "50MWjOXHQLtJ",
        "colab_type": "code",
        "outputId": "c370bf78-e28a-45c8-8af2-581e56daa5ea",
        "colab": {
          "base_uri": "https://localhost:8080/",
          "height": 34
        }
      },
      "source": [
        "cross_val_score(rnd_clf, X_train_dia, y_train_dia, cv=3, scoring='accuracy').mean()"
      ],
      "execution_count": 0,
      "outputs": [
        {
          "output_type": "execute_result",
          "data": {
            "text/plain": [
              "0.9992981090774866"
            ]
          },
          "metadata": {
            "tags": []
          },
          "execution_count": 553
        }
      ]
    },
    {
      "cell_type": "markdown",
      "metadata": {
        "id": "mIdig0QEQYhI",
        "colab_type": "text"
      },
      "source": [
        "Fit the model with training set"
      ]
    },
    {
      "cell_type": "code",
      "metadata": {
        "id": "WKge4cF5QW_u",
        "colab_type": "code",
        "colab": {}
      },
      "source": [
        "t0 = time.time()\n",
        "rnd_clf.fit(X_train_dia, y_train_dia)\n",
        "t1 = time.time()"
      ],
      "execution_count": 0,
      "outputs": []
    },
    {
      "cell_type": "code",
      "metadata": {
        "id": "cmhknMAnQeiN",
        "colab_type": "code",
        "outputId": "71a257e2-7ced-4ee9-c9d4-e20b708f2052",
        "colab": {
          "base_uri": "https://localhost:8080/",
          "height": 34
        }
      },
      "source": [
        "print(\"Training took {:.2f}s\".format(t1-t0))"
      ],
      "execution_count": 0,
      "outputs": [
        {
          "output_type": "stream",
          "text": [
            "Training took 0.41s\n"
          ],
          "name": "stdout"
        }
      ]
    },
    {
      "cell_type": "markdown",
      "metadata": {
        "id": "0t7tNiNoQc8v",
        "colab_type": "text"
      },
      "source": [
        "Test the model with testing set"
      ]
    },
    {
      "cell_type": "code",
      "metadata": {
        "id": "KFQb1VgKQk0g",
        "colab_type": "code",
        "outputId": "4f40a419-95d0-4b99-f3fd-d229bf2d9272",
        "colab": {
          "base_uri": "https://localhost:8080/",
          "height": 34
        }
      },
      "source": [
        "rnd_clf.score(X_test_dia, y_test_dia)"
      ],
      "execution_count": 0,
      "outputs": [
        {
          "output_type": "execute_result",
          "data": {
            "text/plain": [
              "0.9994431706518179"
            ]
          },
          "metadata": {
            "tags": []
          },
          "execution_count": 556
        }
      ]
    },
    {
      "cell_type": "markdown",
      "metadata": {
        "id": "2JPUfT70QoR6",
        "colab_type": "text"
      },
      "source": [
        "###for 'readmitted'"
      ]
    },
    {
      "cell_type": "markdown",
      "metadata": {
        "id": "Y4kUqvlwQrX-",
        "colab_type": "text"
      },
      "source": [
        "Perform Cross Validation"
      ]
    },
    {
      "cell_type": "code",
      "metadata": {
        "id": "EbOdMQkqQpdE",
        "colab_type": "code",
        "outputId": "79dc5fff-1016-42b2-b923-93127cec3d4f",
        "colab": {
          "base_uri": "https://localhost:8080/",
          "height": 34
        }
      },
      "source": [
        "cross_val_score(rnd_clf, X_train_rea, y_train_rea, cv=3, scoring='accuracy').mean()"
      ],
      "execution_count": 0,
      "outputs": [
        {
          "output_type": "execute_result",
          "data": {
            "text/plain": [
              "0.8773794209630594"
            ]
          },
          "metadata": {
            "tags": []
          },
          "execution_count": 557
        }
      ]
    },
    {
      "cell_type": "markdown",
      "metadata": {
        "id": "BQZu0R5oQxkK",
        "colab_type": "text"
      },
      "source": [
        "Fit the model with training set"
      ]
    },
    {
      "cell_type": "code",
      "metadata": {
        "id": "-Etga9BCQult",
        "colab_type": "code",
        "colab": {}
      },
      "source": [
        "t0 = time.time()\n",
        "rnd_clf.fit(X_train_rea, y_train_rea)\n",
        "t1 = time.time()"
      ],
      "execution_count": 0,
      "outputs": []
    },
    {
      "cell_type": "code",
      "metadata": {
        "id": "WS4JDilLQ4X4",
        "colab_type": "code",
        "outputId": "91801749-1d3c-4529-d6fd-0e2b2fbb68ff",
        "colab": {
          "base_uri": "https://localhost:8080/",
          "height": 34
        }
      },
      "source": [
        "print(\"Training took {:.2f}s\".format(t1-t0))"
      ],
      "execution_count": 0,
      "outputs": [
        {
          "output_type": "stream",
          "text": [
            "Training took 1.11s\n"
          ],
          "name": "stdout"
        }
      ]
    },
    {
      "cell_type": "markdown",
      "metadata": {
        "id": "2qfrKIgLQ3V3",
        "colab_type": "text"
      },
      "source": [
        "Test the model with testing set"
      ]
    },
    {
      "cell_type": "code",
      "metadata": {
        "id": "vT66D8O0Q8HF",
        "colab_type": "code",
        "colab": {}
      },
      "source": [
        "rnd_clf.score(X_test_rea, y_test_rea)"
      ],
      "execution_count": 0,
      "outputs": []
    },
    {
      "cell_type": "markdown",
      "metadata": {
        "id": "I5wbI65NQ_BS",
        "colab_type": "text"
      },
      "source": [
        "Predict y 'readmitted'"
      ]
    },
    {
      "cell_type": "code",
      "metadata": {
        "id": "8SPQ1b4IRFgw",
        "colab_type": "code",
        "colab": {}
      },
      "source": [
        "y_pred_rnd_rea = rnd_clf.predict(X_test_rea)"
      ],
      "execution_count": 0,
      "outputs": []
    },
    {
      "cell_type": "markdown",
      "metadata": {
        "id": "sPyfwnxxRIVE",
        "colab_type": "text"
      },
      "source": [
        "See Precision, Recall and F1 report"
      ]
    },
    {
      "cell_type": "code",
      "metadata": {
        "id": "6DCGw9bRRJYl",
        "colab_type": "code",
        "outputId": "b02d7fd5-1335-48b6-b3da-c0ef386ea3ea",
        "colab": {
          "base_uri": "https://localhost:8080/",
          "height": 175
        }
      },
      "source": [
        "print(classification_report(y_test_rea, y_pred_rnd_rea))"
      ],
      "execution_count": 0,
      "outputs": [
        {
          "output_type": "stream",
          "text": [
            "              precision    recall  f1-score   support\n",
            "\n",
            "           1       0.22      0.04      0.07      3425\n",
            "           2       0.89      0.98      0.93     27105\n",
            "\n",
            "    accuracy                           0.88     30530\n",
            "   macro avg       0.56      0.51      0.50     30530\n",
            "weighted avg       0.82      0.88      0.84     30530\n",
            "\n"
          ],
          "name": "stdout"
        }
      ]
    },
    {
      "cell_type": "markdown",
      "metadata": {
        "id": "01hr9Y-ZRRP3",
        "colab_type": "text"
      },
      "source": [
        "##SVM (nom-linear kernel) Mode"
      ]
    },
    {
      "cell_type": "code",
      "metadata": {
        "id": "xPaTzF2XRQWL",
        "colab_type": "code",
        "colab": {}
      },
      "source": [
        "svm_clf = svm_clf = SVC(gamma='auto', degree=2, kernel='poly') #Non-linear degree=2"
      ],
      "execution_count": 0,
      "outputs": []
    },
    {
      "cell_type": "markdown",
      "metadata": {
        "id": "w9X7BQcaRX-P",
        "colab_type": "text"
      },
      "source": [
        "###for 'diabetMed'"
      ]
    },
    {
      "cell_type": "markdown",
      "metadata": {
        "id": "UVrhjVzBRa6N",
        "colab_type": "text"
      },
      "source": [
        "Perform Cross Validation"
      ]
    },
    {
      "cell_type": "code",
      "metadata": {
        "id": "25tiiiFrRZNj",
        "colab_type": "code",
        "outputId": "079611f6-9b0b-4f71-dbdb-f4a2cc600731",
        "colab": {
          "base_uri": "https://localhost:8080/",
          "height": 34
        }
      },
      "source": [
        "cross_val_score(svm_clf, X_train_dia, y_train_dia, cv=3, scoring='accuracy').mean()"
      ],
      "execution_count": 0,
      "outputs": [
        {
          "output_type": "execute_result",
          "data": {
            "text/plain": [
              "0.9948200407235673"
            ]
          },
          "metadata": {
            "tags": []
          },
          "execution_count": 563
        }
      ]
    },
    {
      "cell_type": "markdown",
      "metadata": {
        "id": "8iRhv-GaRhbz",
        "colab_type": "text"
      },
      "source": [
        "Fit the model with training set"
      ]
    },
    {
      "cell_type": "code",
      "metadata": {
        "id": "yYZ3T0LCRf9P",
        "colab_type": "code",
        "colab": {}
      },
      "source": [
        "t0 = time.time()\n",
        "svm_clf.fit(X_train_dia, y_train_dia)\n",
        "t1 = time.time()"
      ],
      "execution_count": 0,
      "outputs": []
    },
    {
      "cell_type": "code",
      "metadata": {
        "id": "vLchsRS5Rnl2",
        "colab_type": "code",
        "outputId": "da052ff2-32ad-4e55-e932-6e7d8f0730d6",
        "colab": {
          "base_uri": "https://localhost:8080/",
          "height": 34
        }
      },
      "source": [
        "print(\"Training took {:.2f}s\".format(t1-t0))"
      ],
      "execution_count": 0,
      "outputs": [
        {
          "output_type": "stream",
          "text": [
            "Training took 115.06s\n"
          ],
          "name": "stdout"
        }
      ]
    },
    {
      "cell_type": "markdown",
      "metadata": {
        "id": "BOd60mC4Rkmy",
        "colab_type": "text"
      },
      "source": [
        "Test the model with testing set"
      ]
    },
    {
      "cell_type": "code",
      "metadata": {
        "id": "7XCP8LxrRk1R",
        "colab_type": "code",
        "outputId": "a914e18c-7992-4a43-aba4-823ce7fd50ef",
        "colab": {
          "base_uri": "https://localhost:8080/",
          "height": 34
        }
      },
      "source": [
        "svm_clf.score(X_test_dia, y_test_dia)"
      ],
      "execution_count": 0,
      "outputs": [
        {
          "output_type": "execute_result",
          "data": {
            "text/plain": [
              "0.9972813625941697"
            ]
          },
          "metadata": {
            "tags": []
          },
          "execution_count": 566
        }
      ]
    },
    {
      "cell_type": "markdown",
      "metadata": {
        "id": "bq3qHFPXRuwx",
        "colab_type": "text"
      },
      "source": [
        "###for 'readmitted'"
      ]
    },
    {
      "cell_type": "markdown",
      "metadata": {
        "id": "qBR9udf7RyVU",
        "colab_type": "text"
      },
      "source": [
        "Perform Cross Validation"
      ]
    },
    {
      "cell_type": "code",
      "metadata": {
        "id": "KRPJEnT8Rwgi",
        "colab_type": "code",
        "outputId": "893ebe6c-3297-4e2a-a43a-a877548bc511",
        "colab": {
          "base_uri": "https://localhost:8080/",
          "height": 34
        }
      },
      "source": [
        "cross_val_score(svm_clf, X_train_rea, y_train_rea, cv=3, scoring='accuracy').mean()"
      ],
      "execution_count": 0,
      "outputs": [
        {
          "output_type": "execute_result",
          "data": {
            "text/plain": [
              "0.8886518052231157"
            ]
          },
          "metadata": {
            "tags": []
          },
          "execution_count": 567
        }
      ]
    },
    {
      "cell_type": "markdown",
      "metadata": {
        "id": "8Iuy2pMVR415",
        "colab_type": "text"
      },
      "source": [
        "Fit the model with training set"
      ]
    },
    {
      "cell_type": "code",
      "metadata": {
        "id": "1buPqjRBR1Vn",
        "colab_type": "code",
        "colab": {}
      },
      "source": [
        "t0 = time.time()\n",
        "svm_clf.fit(X_train_rea, y_train_rea)\n",
        "t1 = time.time()"
      ],
      "execution_count": 0,
      "outputs": []
    },
    {
      "cell_type": "code",
      "metadata": {
        "id": "89GRagkkR608",
        "colab_type": "code",
        "outputId": "8f340c0f-5655-4714-b657-d144ae8b0f19",
        "colab": {
          "base_uri": "https://localhost:8080/",
          "height": 34
        }
      },
      "source": [
        "print(\"Training took {:.2f}s\".format(t1-t0))"
      ],
      "execution_count": 0,
      "outputs": [
        {
          "output_type": "stream",
          "text": [
            "Training took 115.06s\n"
          ],
          "name": "stdout"
        }
      ]
    },
    {
      "cell_type": "markdown",
      "metadata": {
        "id": "82aNgfBtSBih",
        "colab_type": "text"
      },
      "source": [
        "Test the model with testing set"
      ]
    },
    {
      "cell_type": "code",
      "metadata": {
        "id": "O-owIiQ_R-Rl",
        "colab_type": "code",
        "outputId": "7a6a4ea4-28ef-423c-bb77-da3064867b7e",
        "colab": {
          "base_uri": "https://localhost:8080/",
          "height": 34
        }
      },
      "source": [
        "svm_clf.score(X_test_rea, y_test_rea)"
      ],
      "execution_count": 0,
      "outputs": [
        {
          "output_type": "execute_result",
          "data": {
            "text/plain": [
              "0.8878152636750737"
            ]
          },
          "metadata": {
            "tags": []
          },
          "execution_count": 570
        }
      ]
    },
    {
      "cell_type": "markdown",
      "metadata": {
        "id": "geIHNXjhSGkf",
        "colab_type": "text"
      },
      "source": [
        "Predict y 'readmitted'"
      ]
    },
    {
      "cell_type": "code",
      "metadata": {
        "id": "fwRYWlgPSDRH",
        "colab_type": "code",
        "colab": {}
      },
      "source": [
        "y_pred_svm_rea = svm_clf.predict(X_test_rea)"
      ],
      "execution_count": 0,
      "outputs": []
    },
    {
      "cell_type": "markdown",
      "metadata": {
        "id": "Pfsya1BiSMVP",
        "colab_type": "text"
      },
      "source": [
        "See Precision, Recall and F1 report"
      ]
    },
    {
      "cell_type": "code",
      "metadata": {
        "id": "UPhmft_NSJcQ",
        "colab_type": "code",
        "colab": {}
      },
      "source": [
        "print(classification_report(y_test_rea, y_pred_svm_rea))"
      ],
      "execution_count": 0,
      "outputs": []
    },
    {
      "cell_type": "markdown",
      "metadata": {
        "id": "Affrz5eMSRKW",
        "colab_type": "text"
      },
      "source": [
        "Plot the learning curve for 'readmitted'"
      ]
    },
    {
      "cell_type": "code",
      "metadata": {
        "id": "Hyb3KF45SNVS",
        "colab_type": "code",
        "colab": {}
      },
      "source": [
        "def plot_learning_curve(estimator, title, X, y, axes=None, ylim=None, cv=None,\n",
        "                        n_jobs=None, train_sizes=np.linspace(.1, 1.0, 5)):\n",
        "  if axes is None:\n",
        "        _, axes = plt.subplots(2, 1, figsize=(20, 5))\n",
        "\n",
        "  axes.set_title(title)\n",
        "  if ylim is not None:\n",
        "        axes.set_ylim(*ylim)\n",
        "  axes.set_xlabel(\"Training examples\")\n",
        "  axes.set_ylabel(\"Score\")\n",
        "\n",
        "  train_sizes, train_scores, test_scores, fit_times, _ = \\\n",
        "        learning_curve(estimator, X, y, cv=cv, n_jobs=n_jobs,\n",
        "                       train_sizes=train_sizes,\n",
        "                       return_times=True)\n",
        "  train_scores_mean = np.mean(train_scores, axis=1)\n",
        "  train_scores_std = np.std(train_scores, axis=1)\n",
        "  test_scores_mean = np.mean(test_scores, axis=1)\n",
        "  test_scores_std = np.std(test_scores, axis=1)\n",
        "\n",
        "  # Plot learning curve\n",
        "  axes.grid()\n",
        "  axes.fill_between(train_sizes, train_scores_mean - train_scores_std,\n",
        "                         train_scores_mean + train_scores_std, alpha=0.1,\n",
        "                         color=\"r\")\n",
        "  axes.fill_between(train_sizes, test_scores_mean - test_scores_std,\n",
        "                         test_scores_mean + test_scores_std, alpha=0.1,\n",
        "                         color=\"g\")\n",
        "  axes.plot(train_sizes, train_scores_mean, 'o-', color=\"r\",\n",
        "                 label=\"Training score\")\n",
        "  axes.plot(train_sizes, test_scores_mean, 'o-', color=\"g\",\n",
        "                 label=\"Cross-validation score\")\n",
        "  axes.legend(loc=\"best\")\n",
        "  return plt"
      ],
      "execution_count": 0,
      "outputs": []
    },
    {
      "cell_type": "markdown",
      "metadata": {
        "id": "-lxqg5S6TFq2",
        "colab_type": "text"
      },
      "source": [
        "Here, to show the learning curve for both RandomForest and SVC. For SVC, displaying the curve takes long time so a subset of size 10,000 of the data will be used to fast generate the chart."
      ]
    },
    {
      "cell_type": "code",
      "metadata": {
        "id": "6tA1gR-iS3K-",
        "colab_type": "code",
        "outputId": "8659af43-d11b-4a05-b876-b7aa3a4a4be6",
        "colab": {
          "base_uri": "https://localhost:8080/",
          "height": 406
        }
      },
      "source": [
        "fig, axes = plt.subplots(1, 2, figsize=(10, 5))\n",
        "\n",
        "X, y = X_rea, y_rea\n",
        "\n",
        "title = \"Learning Curves (RandomForest)\"\n",
        "# Cross validation with 100 iterations to get smoother mean test and train\n",
        "# score curves, each time with 20% data randomly selected as a validation set.\n",
        "cv = ShuffleSplit(n_splits=3, test_size=0.3, random_state=42)\n",
        "\n",
        "estimator = RandomForestClassifier()\n",
        "plot_learning_curve(estimator, title, X, y, axes=axes[0], ylim=(0.7, 1.01),\n",
        "                    cv=cv, n_jobs=4)\n",
        "\n",
        "title = \"Learning Curves (SVM, Poly kernel, gamma=auto)\"\n",
        "# SVC is more expensive so we do a lower number of CV iterations:\n",
        "cv = ShuffleSplit(n_splits=3, test_size=0.3, random_state=42)\n",
        "estimator = SVC(gamma='auto')\n",
        "plot_learning_curve(estimator, title, X[:10000], y[:10000], axes=axes[1], ylim=(0.7, 1.01),\n",
        "                    cv=cv, n_jobs=4)\n",
        "\n",
        "plt.show()"
      ],
      "execution_count": 0,
      "outputs": [
        {
          "output_type": "stream",
          "text": [
            "/usr/local/lib/python3.6/dist-packages/joblib/externals/loky/process_executor.py:706: UserWarning: A worker stopped while some jobs were given to the executor. This can be caused by a too short worker timeout or by a memory leak.\n",
            "  \"timeout or by a memory leak.\", UserWarning\n"
          ],
          "name": "stderr"
        },
        {
          "output_type": "display_data",
          "data": {
            "image/png": "[encoded data removed]",
            "text/plain": [
              "<Figure size 720x360 with 2 Axes>"
            ]
          },
          "metadata": {
            "tags": []
          }
        }
      ]
    },
    {
      "cell_type": "markdown",
      "metadata": {
        "id": "jjIBuBOfTt-7",
        "colab_type": "text"
      },
      "source": [
        "\n",
        "Overall, all accuracies scores are not bad, and we can increase those accuracies by playing around with the n_estimators for RandomForest and degree for SVM non-linear classifier, but the trade off for this approach is time consuming. Therefore, tuning the model using GridSearch CV is recommended."
      ]
    },
    {
      "cell_type": "markdown",
      "metadata": {
        "id": "hTgi6oCwT4Ni",
        "colab_type": "text"
      },
      "source": [
        "#Tuning the RandomForest using GridSearchCV"
      ]
    },
    {
      "cell_type": "code",
      "metadata": {
        "id": "jZzMaNLFT3gN",
        "colab_type": "code",
        "colab": {}
      },
      "source": [
        "pipe = make_pipeline((RandomForestClassifier()))\n",
        "# Create dictionary with candidate learning algorithms and their hyperparameters\n",
        "grid_param = [\n",
        "                {\"randomforestclassifier\": [RandomForestClassifier()],\n",
        "                 \"randomforestclassifier__n_estimators\": [50,100,200,500],\n",
        "                 \"randomforestclassifier__max_depth\":[10,30,50,100,None],\n",
        "                 \"randomforestclassifier__min_samples_leaf\":[5,10,20,40,100],\n",
        "                 \"randomforestclassifier__max_leaf_nodes\": [5,10,20,50]}\n",
        "              ]"
      ],
      "execution_count": 0,
      "outputs": []
    },
    {
      "cell_type": "markdown",
      "metadata": {
        "id": "CftXjnstUKWp",
        "colab_type": "text"
      },
      "source": [
        "create a gridsearch of the pipeline, then fit the dataset to find best model"
      ]
    },
    {
      "cell_type": "code",
      "metadata": {
        "id": "Q3YkJxYbUHvg",
        "colab_type": "code",
        "colab": {}
      },
      "source": [
        "gs = GridSearchCV(pipe, grid_param, verbose=0,n_jobs=-1)"
      ],
      "execution_count": 0,
      "outputs": []
    },
    {
      "cell_type": "markdown",
      "metadata": {
        "id": "b6Rbv3NyW2a2",
        "colab_type": "text"
      },
      "source": [
        "##for 'readmitted"
      ]
    },
    {
      "cell_type": "markdown",
      "metadata": {
        "id": "IKAkmh9EW5Af",
        "colab_type": "text"
      },
      "source": [
        "Fit the model with training set"
      ]
    },
    {
      "cell_type": "code",
      "metadata": {
        "id": "QfczQXKyW6sV",
        "colab_type": "code",
        "colab": {}
      },
      "source": [
        "best_model_rea = gs.fit(X_train_rea, y_train_rea)"
      ],
      "execution_count": 0,
      "outputs": []
    },
    {
      "cell_type": "markdown",
      "metadata": {
        "id": "Z3Y9It6LW_Cn",
        "colab_type": "text"
      },
      "source": [
        "See the best learning model parameters"
      ]
    },
    {
      "cell_type": "code",
      "metadata": {
        "id": "8fmraWIeW_r-",
        "colab_type": "code",
        "colab": {}
      },
      "source": [
        "print(best_model_rea.best_estimator_)"
      ],
      "execution_count": 0,
      "outputs": []
    },
    {
      "cell_type": "markdown",
      "metadata": {
        "id": "ykyVbOFrb9jY",
        "colab_type": "text"
      },
      "source": [
        "Test the model with testing set"
      ]
    },
    {
      "cell_type": "code",
      "metadata": {
        "id": "-y_evoMPW-dI",
        "colab_type": "code",
        "colab": {}
      },
      "source": [
        "print((\"The accuracy is:\"), best_model_rea.score(X_test_rea, y_test_rea))"
      ],
      "execution_count": 0,
      "outputs": []
    },
    {
      "cell_type": "code",
      "metadata": {
        "id": "KSLnQoPCdxA4",
        "colab_type": "code",
        "colab": {}
      },
      "source": [
        " "
      ],
      "execution_count": 0,
      "outputs": []
    },
    {
      "cell_type": "markdown",
      "metadata": {
        "id": "WNStadDgcA0K",
        "colab_type": "text"
      },
      "source": [
        "#Summary and Conclusion"
      ]
    },
    {
      "cell_type": "markdown",
      "metadata": {
        "id": "wlKiU7n6cM60",
        "colab_type": "text"
      },
      "source": [
        "\n",
        "In this diabete patients dataset, many methods were used at the data cleansing section, especially at the feature engineering phase.\n",
        "\n",
        "After many experiments on training models above, the RandomForest model is considered the best model that produced the accuracies around 99% and 88% for 'diabetestMed' 'readmitted, respectively. SVM (non-linear) model also produced similar accuracies but took way longer different for the learning time. Of course, RandomForest is the winner for classifying diabetes patient ('diabetesMed'). Below is the details bar graphs of the experiment.\n",
        "\n",
        "![diabetesMed Chart](https://raw.githubusercontent.com/ahshawaf/AML/master/diabetesMed.jpeg)\n",
        "\n",
        "![readmitted Chart](https://raw.githubusercontent.com/ahshawaf/AML/master/readmitted.jpeg)\n",
        "\n",
        "So, which classifier is the best for patient who readmitted? Let's take a look at the average F1 score, RandomForest F1=0.5 > SVM F1=0.47, this mean RandomForest model predict better in term of both precision and recall. Now, how can we improve the models accuracies? Let's take a look at learning curve. It can be seen that, increasing sample set size will not help to improve the learning performance.\n",
        "\n",
        "Let's try with GridSearchCV, one of the best techniques to find the best model, also known as model tuning technique. In this assignemt, GridSearchCV was used to tune the classifier for readmitted patient, but by looking at GridSearch CV learning model with many different parameters setup, still the performance was not improved at all. The best parameters setup was shown at the line 134.\n",
        "\n",
        "Therefore, this can be seen that increasing number of features, n_estimators for RandomForest, degrees for SVM, will not improve both models accuracies; however, RandomForest is considered for best learning model for this dataset.\n",
        "\n",
        "Note: An important lesson learned from this data set was when applying PCA and scaling the data was not helpful and even made the model performance worse. This is because most of the data value are categorical (0,1,2 after convertion), therefore, the classifiers would learn better with this descrete value.\n",
        "\n",
        "Dataset Link: https://archive.ics.uci.edu/ml/datasets/Diabetes+130-US+hospitals+for+years+1999-2008"
      ]
    },
    {
      "cell_type": "markdown",
      "metadata": {
        "id": "3OJ-BOCycQRo",
        "colab_type": "text"
      },
      "source": [
        "#Refrences\n",
        "\n",
        "\n",
        "\n",
        "*   https://archive.ics.uci.edu/ml/datasets/Diabetes+130-US+hospitals+for+years+1999-2008\n",
        "\n",
        "*   https://sju.instructure.com/courses/20477/files/2050722?module_item_id=691863\n",
        "\n",
        "*   https://scikit-learn.org/stable/modules/generated/sklearn.feature_selection.SelectKBest.html\n",
        "\n",
        "*   https://scikit-learn.org/stable/modules/generated/sklearn.model_selection.GridSearchCV.html\n",
        "\n",
        "\n",
        "\n"
      ]
    }
  ]
}