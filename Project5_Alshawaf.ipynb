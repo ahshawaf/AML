{
  "nbformat": 4,
  "nbformat_minor": 0,
  "metadata": {
    "colab": {
      "name": "Project5_Alshawaf.ipynb",
      "provenance": [],
      "collapsed_sections": [],
      "machine_shape": "hm",
      "authorship_tag": "ABX9TyOa4zH40MhNGOKeV7jQKZy9",
      "include_colab_link": true
    },
    "kernelspec": {
      "name": "python3",
      "display_name": "Python 3"
    },
    "accelerator": "TPU"
  },
  "cells": [
    {
      "cell_type": "markdown",
      "metadata": {
        "id": "view-in-github",
        "colab_type": "text"
      },
      "source": [
        "<a href=\"https://colab.research.google.com/github/ahshawaf/AML/blob/master/Project5_Alshawaf.ipynb\" target=\"_parent\"><img src=\"https://colab.research.google.com/assets/colab-badge.svg\" alt=\"Open In Colab\"/></a>"
      ]
    },
    {
      "cell_type": "code",
      "metadata": {
        "id": "ijgG58RrU9en",
        "colab_type": "code",
        "colab": {}
      },
      "source": [
        "import pandas as pd\n",
        "import numpy as np\n",
        "from sklearn.model_selection import train_test_split\n",
        "from sklearn.model_selection import cross_val_predict, cross_val_score\n",
        "from sklearn.preprocessing import LabelEncoder,StandardScaler\n",
        "from sklearn.ensemble import RandomForestClassifier\n",
        "from sklearn.svm import SVC\n",
        "from sklearn.linear_model import SGDClassifier\n",
        "from sklearn.metrics import confusion_matrix\n",
        "from keras.utils import to_categorical\n"
      ],
      "execution_count": 0,
      "outputs": []
    },
    {
      "cell_type": "code",
      "metadata": {
        "id": "boCDz5g_Vad-",
        "colab_type": "code",
        "colab": {}
      },
      "source": [
        "df = pd.read_csv('diabetic_data.csv')"
      ],
      "execution_count": 0,
      "outputs": []
    },
    {
      "cell_type": "markdown",
      "metadata": {
        "id": "UBdaZBdxeyI7",
        "colab_type": "text"
      },
      "source": [
        "Get the size of the dataframe"
      ]
    },
    {
      "cell_type": "code",
      "metadata": {
        "id": "-8qZIT_OYIIz",
        "colab_type": "code",
        "outputId": "c73cf094-07b8-411c-9cde-be6aa0efc2cf",
        "colab": {
          "base_uri": "https://localhost:8080/",
          "height": 34
        }
      },
      "source": [
        "len(df)"
      ],
      "execution_count": 0,
      "outputs": [
        {
          "output_type": "execute_result",
          "data": {
            "text/plain": [
              "101766"
            ]
          },
          "metadata": {
            "tags": []
          },
          "execution_count": 4
        }
      ]
    },
    {
      "cell_type": "code",
      "metadata": {
        "id": "puZl2DGvYK3J",
        "colab_type": "code",
        "outputId": "2d319672-8c68-4dd7-bc05-659ab5c9f0b8",
        "colab": {
          "base_uri": "https://localhost:8080/",
          "height": 34
        }
      },
      "source": [
        "df.shape"
      ],
      "execution_count": 0,
      "outputs": [
        {
          "output_type": "execute_result",
          "data": {
            "text/plain": [
              "(101766, 50)"
            ]
          },
          "metadata": {
            "tags": []
          },
          "execution_count": 5
        }
      ]
    },
    {
      "cell_type": "code",
      "metadata": {
        "id": "XO6epQcqVjAW",
        "colab_type": "code",
        "outputId": "c2840fa0-db85-4e8c-daa2-e4ccbd904f1e",
        "colab": {
          "base_uri": "https://localhost:8080/",
          "height": 316
        }
      },
      "source": [
        "df.head()"
      ],
      "execution_count": 0,
      "outputs": [
        {
          "output_type": "execute_result",
          "data": {
            "text/html": [
              "<div>\n",
              "<style scoped>\n",
              "    .dataframe tbody tr th:only-of-type {\n",
              "        vertical-align: middle;\n",
              "    }\n",
              "\n",
              "    .dataframe tbody tr th {\n",
              "        vertical-align: top;\n",
              "    }\n",
              "\n",
              "    .dataframe thead th {\n",
              "        text-align: right;\n",
              "    }\n",
              "</style>\n",
              "<table border=\"1\" class=\"dataframe\">\n",
              "  <thead>\n",
              "    <tr style=\"text-align: right;\">\n",
              "      <th></th>\n",
              "      <th>encounter_id</th>\n",
              "      <th>patient_nbr</th>\n",
              "      <th>race</th>\n",
              "      <th>gender</th>\n",
              "      <th>age</th>\n",
              "      <th>weight</th>\n",
              "      <th>admission_type_id</th>\n",
              "      <th>discharge_disposition_id</th>\n",
              "      <th>admission_source_id</th>\n",
              "      <th>time_in_hospital</th>\n",
              "      <th>payer_code</th>\n",
              "      <th>medical_specialty</th>\n",
              "      <th>num_lab_procedures</th>\n",
              "      <th>num_procedures</th>\n",
              "      <th>num_medications</th>\n",
              "      <th>number_outpatient</th>\n",
              "      <th>number_emergency</th>\n",
              "      <th>number_inpatient</th>\n",
              "      <th>diag_1</th>\n",
              "      <th>diag_2</th>\n",
              "      <th>diag_3</th>\n",
              "      <th>number_diagnoses</th>\n",
              "      <th>max_glu_serum</th>\n",
              "      <th>A1Cresult</th>\n",
              "      <th>metformin</th>\n",
              "      <th>repaglinide</th>\n",
              "      <th>nateglinide</th>\n",
              "      <th>chlorpropamide</th>\n",
              "      <th>glimepiride</th>\n",
              "      <th>acetohexamide</th>\n",
              "      <th>glipizide</th>\n",
              "      <th>glyburide</th>\n",
              "      <th>tolbutamide</th>\n",
              "      <th>pioglitazone</th>\n",
              "      <th>rosiglitazone</th>\n",
              "      <th>acarbose</th>\n",
              "      <th>miglitol</th>\n",
              "      <th>troglitazone</th>\n",
              "      <th>tolazamide</th>\n",
              "      <th>examide</th>\n",
              "      <th>citoglipton</th>\n",
              "      <th>insulin</th>\n",
              "      <th>glyburide-metformin</th>\n",
              "      <th>glipizide-metformin</th>\n",
              "      <th>glimepiride-pioglitazone</th>\n",
              "      <th>metformin-rosiglitazone</th>\n",
              "      <th>metformin-pioglitazone</th>\n",
              "      <th>change</th>\n",
              "      <th>diabetesMed</th>\n",
              "      <th>readmitted</th>\n",
              "    </tr>\n",
              "  </thead>\n",
              "  <tbody>\n",
              "    <tr>\n",
              "      <th>0</th>\n",
              "      <td>2278392</td>\n",
              "      <td>8222157</td>\n",
              "      <td>Caucasian</td>\n",
              "      <td>Female</td>\n",
              "      <td>[0-10)</td>\n",
              "      <td>?</td>\n",
              "      <td>6</td>\n",
              "      <td>25</td>\n",
              "      <td>1</td>\n",
              "      <td>1</td>\n",
              "      <td>?</td>\n",
              "      <td>Pediatrics-Endocrinology</td>\n",
              "      <td>41</td>\n",
              "      <td>0</td>\n",
              "      <td>1</td>\n",
              "      <td>0</td>\n",
              "      <td>0</td>\n",
              "      <td>0</td>\n",
              "      <td>250.83</td>\n",
              "      <td>?</td>\n",
              "      <td>?</td>\n",
              "      <td>1</td>\n",
              "      <td>None</td>\n",
              "      <td>None</td>\n",
              "      <td>No</td>\n",
              "      <td>No</td>\n",
              "      <td>No</td>\n",
              "      <td>No</td>\n",
              "      <td>No</td>\n",
              "      <td>No</td>\n",
              "      <td>No</td>\n",
              "      <td>No</td>\n",
              "      <td>No</td>\n",
              "      <td>No</td>\n",
              "      <td>No</td>\n",
              "      <td>No</td>\n",
              "      <td>No</td>\n",
              "      <td>No</td>\n",
              "      <td>No</td>\n",
              "      <td>No</td>\n",
              "      <td>No</td>\n",
              "      <td>No</td>\n",
              "      <td>No</td>\n",
              "      <td>No</td>\n",
              "      <td>No</td>\n",
              "      <td>No</td>\n",
              "      <td>No</td>\n",
              "      <td>No</td>\n",
              "      <td>No</td>\n",
              "      <td>NO</td>\n",
              "    </tr>\n",
              "    <tr>\n",
              "      <th>1</th>\n",
              "      <td>149190</td>\n",
              "      <td>55629189</td>\n",
              "      <td>Caucasian</td>\n",
              "      <td>Female</td>\n",
              "      <td>[10-20)</td>\n",
              "      <td>?</td>\n",
              "      <td>1</td>\n",
              "      <td>1</td>\n",
              "      <td>7</td>\n",
              "      <td>3</td>\n",
              "      <td>?</td>\n",
              "      <td>?</td>\n",
              "      <td>59</td>\n",
              "      <td>0</td>\n",
              "      <td>18</td>\n",
              "      <td>0</td>\n",
              "      <td>0</td>\n",
              "      <td>0</td>\n",
              "      <td>276</td>\n",
              "      <td>250.01</td>\n",
              "      <td>255</td>\n",
              "      <td>9</td>\n",
              "      <td>None</td>\n",
              "      <td>None</td>\n",
              "      <td>No</td>\n",
              "      <td>No</td>\n",
              "      <td>No</td>\n",
              "      <td>No</td>\n",
              "      <td>No</td>\n",
              "      <td>No</td>\n",
              "      <td>No</td>\n",
              "      <td>No</td>\n",
              "      <td>No</td>\n",
              "      <td>No</td>\n",
              "      <td>No</td>\n",
              "      <td>No</td>\n",
              "      <td>No</td>\n",
              "      <td>No</td>\n",
              "      <td>No</td>\n",
              "      <td>No</td>\n",
              "      <td>No</td>\n",
              "      <td>Up</td>\n",
              "      <td>No</td>\n",
              "      <td>No</td>\n",
              "      <td>No</td>\n",
              "      <td>No</td>\n",
              "      <td>No</td>\n",
              "      <td>Ch</td>\n",
              "      <td>Yes</td>\n",
              "      <td>&gt;30</td>\n",
              "    </tr>\n",
              "    <tr>\n",
              "      <th>2</th>\n",
              "      <td>64410</td>\n",
              "      <td>86047875</td>\n",
              "      <td>AfricanAmerican</td>\n",
              "      <td>Female</td>\n",
              "      <td>[20-30)</td>\n",
              "      <td>?</td>\n",
              "      <td>1</td>\n",
              "      <td>1</td>\n",
              "      <td>7</td>\n",
              "      <td>2</td>\n",
              "      <td>?</td>\n",
              "      <td>?</td>\n",
              "      <td>11</td>\n",
              "      <td>5</td>\n",
              "      <td>13</td>\n",
              "      <td>2</td>\n",
              "      <td>0</td>\n",
              "      <td>1</td>\n",
              "      <td>648</td>\n",
              "      <td>250</td>\n",
              "      <td>V27</td>\n",
              "      <td>6</td>\n",
              "      <td>None</td>\n",
              "      <td>None</td>\n",
              "      <td>No</td>\n",
              "      <td>No</td>\n",
              "      <td>No</td>\n",
              "      <td>No</td>\n",
              "      <td>No</td>\n",
              "      <td>No</td>\n",
              "      <td>Steady</td>\n",
              "      <td>No</td>\n",
              "      <td>No</td>\n",
              "      <td>No</td>\n",
              "      <td>No</td>\n",
              "      <td>No</td>\n",
              "      <td>No</td>\n",
              "      <td>No</td>\n",
              "      <td>No</td>\n",
              "      <td>No</td>\n",
              "      <td>No</td>\n",
              "      <td>No</td>\n",
              "      <td>No</td>\n",
              "      <td>No</td>\n",
              "      <td>No</td>\n",
              "      <td>No</td>\n",
              "      <td>No</td>\n",
              "      <td>No</td>\n",
              "      <td>Yes</td>\n",
              "      <td>NO</td>\n",
              "    </tr>\n",
              "    <tr>\n",
              "      <th>3</th>\n",
              "      <td>500364</td>\n",
              "      <td>82442376</td>\n",
              "      <td>Caucasian</td>\n",
              "      <td>Male</td>\n",
              "      <td>[30-40)</td>\n",
              "      <td>?</td>\n",
              "      <td>1</td>\n",
              "      <td>1</td>\n",
              "      <td>7</td>\n",
              "      <td>2</td>\n",
              "      <td>?</td>\n",
              "      <td>?</td>\n",
              "      <td>44</td>\n",
              "      <td>1</td>\n",
              "      <td>16</td>\n",
              "      <td>0</td>\n",
              "      <td>0</td>\n",
              "      <td>0</td>\n",
              "      <td>8</td>\n",
              "      <td>250.43</td>\n",
              "      <td>403</td>\n",
              "      <td>7</td>\n",
              "      <td>None</td>\n",
              "      <td>None</td>\n",
              "      <td>No</td>\n",
              "      <td>No</td>\n",
              "      <td>No</td>\n",
              "      <td>No</td>\n",
              "      <td>No</td>\n",
              "      <td>No</td>\n",
              "      <td>No</td>\n",
              "      <td>No</td>\n",
              "      <td>No</td>\n",
              "      <td>No</td>\n",
              "      <td>No</td>\n",
              "      <td>No</td>\n",
              "      <td>No</td>\n",
              "      <td>No</td>\n",
              "      <td>No</td>\n",
              "      <td>No</td>\n",
              "      <td>No</td>\n",
              "      <td>Up</td>\n",
              "      <td>No</td>\n",
              "      <td>No</td>\n",
              "      <td>No</td>\n",
              "      <td>No</td>\n",
              "      <td>No</td>\n",
              "      <td>Ch</td>\n",
              "      <td>Yes</td>\n",
              "      <td>NO</td>\n",
              "    </tr>\n",
              "    <tr>\n",
              "      <th>4</th>\n",
              "      <td>16680</td>\n",
              "      <td>42519267</td>\n",
              "      <td>Caucasian</td>\n",
              "      <td>Male</td>\n",
              "      <td>[40-50)</td>\n",
              "      <td>?</td>\n",
              "      <td>1</td>\n",
              "      <td>1</td>\n",
              "      <td>7</td>\n",
              "      <td>1</td>\n",
              "      <td>?</td>\n",
              "      <td>?</td>\n",
              "      <td>51</td>\n",
              "      <td>0</td>\n",
              "      <td>8</td>\n",
              "      <td>0</td>\n",
              "      <td>0</td>\n",
              "      <td>0</td>\n",
              "      <td>197</td>\n",
              "      <td>157</td>\n",
              "      <td>250</td>\n",
              "      <td>5</td>\n",
              "      <td>None</td>\n",
              "      <td>None</td>\n",
              "      <td>No</td>\n",
              "      <td>No</td>\n",
              "      <td>No</td>\n",
              "      <td>No</td>\n",
              "      <td>No</td>\n",
              "      <td>No</td>\n",
              "      <td>Steady</td>\n",
              "      <td>No</td>\n",
              "      <td>No</td>\n",
              "      <td>No</td>\n",
              "      <td>No</td>\n",
              "      <td>No</td>\n",
              "      <td>No</td>\n",
              "      <td>No</td>\n",
              "      <td>No</td>\n",
              "      <td>No</td>\n",
              "      <td>No</td>\n",
              "      <td>Steady</td>\n",
              "      <td>No</td>\n",
              "      <td>No</td>\n",
              "      <td>No</td>\n",
              "      <td>No</td>\n",
              "      <td>No</td>\n",
              "      <td>Ch</td>\n",
              "      <td>Yes</td>\n",
              "      <td>NO</td>\n",
              "    </tr>\n",
              "  </tbody>\n",
              "</table>\n",
              "</div>"
            ],
            "text/plain": [
              "   encounter_id  patient_nbr             race  ... change diabetesMed readmitted\n",
              "0       2278392      8222157        Caucasian  ...     No          No         NO\n",
              "1        149190     55629189        Caucasian  ...     Ch         Yes        >30\n",
              "2         64410     86047875  AfricanAmerican  ...     No         Yes         NO\n",
              "3        500364     82442376        Caucasian  ...     Ch         Yes         NO\n",
              "4         16680     42519267        Caucasian  ...     Ch         Yes         NO\n",
              "\n",
              "[5 rows x 50 columns]"
            ]
          },
          "metadata": {
            "tags": []
          },
          "execution_count": 6
        }
      ]
    },
    {
      "cell_type": "code",
      "metadata": {
        "id": "NL7bTC3vVqY4",
        "colab_type": "code",
        "outputId": "8ecec245-72c4-4582-f26b-cc54bc3af546",
        "colab": {
          "base_uri": "https://localhost:8080/",
          "height": 304
        }
      },
      "source": [
        "df.describe()"
      ],
      "execution_count": 0,
      "outputs": [
        {
          "output_type": "execute_result",
          "data": {
            "text/html": [
              "<div>\n",
              "<style scoped>\n",
              "    .dataframe tbody tr th:only-of-type {\n",
              "        vertical-align: middle;\n",
              "    }\n",
              "\n",
              "    .dataframe tbody tr th {\n",
              "        vertical-align: top;\n",
              "    }\n",
              "\n",
              "    .dataframe thead th {\n",
              "        text-align: right;\n",
              "    }\n",
              "</style>\n",
              "<table border=\"1\" class=\"dataframe\">\n",
              "  <thead>\n",
              "    <tr style=\"text-align: right;\">\n",
              "      <th></th>\n",
              "      <th>encounter_id</th>\n",
              "      <th>patient_nbr</th>\n",
              "      <th>admission_type_id</th>\n",
              "      <th>discharge_disposition_id</th>\n",
              "      <th>admission_source_id</th>\n",
              "      <th>time_in_hospital</th>\n",
              "      <th>num_lab_procedures</th>\n",
              "      <th>num_procedures</th>\n",
              "      <th>num_medications</th>\n",
              "      <th>number_outpatient</th>\n",
              "      <th>number_emergency</th>\n",
              "      <th>number_inpatient</th>\n",
              "      <th>number_diagnoses</th>\n",
              "    </tr>\n",
              "  </thead>\n",
              "  <tbody>\n",
              "    <tr>\n",
              "      <th>count</th>\n",
              "      <td>1.017660e+05</td>\n",
              "      <td>1.017660e+05</td>\n",
              "      <td>101766.000000</td>\n",
              "      <td>101766.000000</td>\n",
              "      <td>101766.000000</td>\n",
              "      <td>101766.000000</td>\n",
              "      <td>101766.000000</td>\n",
              "      <td>101766.000000</td>\n",
              "      <td>101766.000000</td>\n",
              "      <td>101766.000000</td>\n",
              "      <td>101766.000000</td>\n",
              "      <td>101766.000000</td>\n",
              "      <td>101766.000000</td>\n",
              "    </tr>\n",
              "    <tr>\n",
              "      <th>mean</th>\n",
              "      <td>1.652016e+08</td>\n",
              "      <td>5.433040e+07</td>\n",
              "      <td>2.024006</td>\n",
              "      <td>3.715642</td>\n",
              "      <td>5.754437</td>\n",
              "      <td>4.395987</td>\n",
              "      <td>43.095641</td>\n",
              "      <td>1.339730</td>\n",
              "      <td>16.021844</td>\n",
              "      <td>0.369357</td>\n",
              "      <td>0.197836</td>\n",
              "      <td>0.635566</td>\n",
              "      <td>7.422607</td>\n",
              "    </tr>\n",
              "    <tr>\n",
              "      <th>std</th>\n",
              "      <td>1.026403e+08</td>\n",
              "      <td>3.869636e+07</td>\n",
              "      <td>1.445403</td>\n",
              "      <td>5.280166</td>\n",
              "      <td>4.064081</td>\n",
              "      <td>2.985108</td>\n",
              "      <td>19.674362</td>\n",
              "      <td>1.705807</td>\n",
              "      <td>8.127566</td>\n",
              "      <td>1.267265</td>\n",
              "      <td>0.930472</td>\n",
              "      <td>1.262863</td>\n",
              "      <td>1.933600</td>\n",
              "    </tr>\n",
              "    <tr>\n",
              "      <th>min</th>\n",
              "      <td>1.252200e+04</td>\n",
              "      <td>1.350000e+02</td>\n",
              "      <td>1.000000</td>\n",
              "      <td>1.000000</td>\n",
              "      <td>1.000000</td>\n",
              "      <td>1.000000</td>\n",
              "      <td>1.000000</td>\n",
              "      <td>0.000000</td>\n",
              "      <td>1.000000</td>\n",
              "      <td>0.000000</td>\n",
              "      <td>0.000000</td>\n",
              "      <td>0.000000</td>\n",
              "      <td>1.000000</td>\n",
              "    </tr>\n",
              "    <tr>\n",
              "      <th>25%</th>\n",
              "      <td>8.496119e+07</td>\n",
              "      <td>2.341322e+07</td>\n",
              "      <td>1.000000</td>\n",
              "      <td>1.000000</td>\n",
              "      <td>1.000000</td>\n",
              "      <td>2.000000</td>\n",
              "      <td>31.000000</td>\n",
              "      <td>0.000000</td>\n",
              "      <td>10.000000</td>\n",
              "      <td>0.000000</td>\n",
              "      <td>0.000000</td>\n",
              "      <td>0.000000</td>\n",
              "      <td>6.000000</td>\n",
              "    </tr>\n",
              "    <tr>\n",
              "      <th>50%</th>\n",
              "      <td>1.523890e+08</td>\n",
              "      <td>4.550514e+07</td>\n",
              "      <td>1.000000</td>\n",
              "      <td>1.000000</td>\n",
              "      <td>7.000000</td>\n",
              "      <td>4.000000</td>\n",
              "      <td>44.000000</td>\n",
              "      <td>1.000000</td>\n",
              "      <td>15.000000</td>\n",
              "      <td>0.000000</td>\n",
              "      <td>0.000000</td>\n",
              "      <td>0.000000</td>\n",
              "      <td>8.000000</td>\n",
              "    </tr>\n",
              "    <tr>\n",
              "      <th>75%</th>\n",
              "      <td>2.302709e+08</td>\n",
              "      <td>8.754595e+07</td>\n",
              "      <td>3.000000</td>\n",
              "      <td>4.000000</td>\n",
              "      <td>7.000000</td>\n",
              "      <td>6.000000</td>\n",
              "      <td>57.000000</td>\n",
              "      <td>2.000000</td>\n",
              "      <td>20.000000</td>\n",
              "      <td>0.000000</td>\n",
              "      <td>0.000000</td>\n",
              "      <td>1.000000</td>\n",
              "      <td>9.000000</td>\n",
              "    </tr>\n",
              "    <tr>\n",
              "      <th>max</th>\n",
              "      <td>4.438672e+08</td>\n",
              "      <td>1.895026e+08</td>\n",
              "      <td>8.000000</td>\n",
              "      <td>28.000000</td>\n",
              "      <td>25.000000</td>\n",
              "      <td>14.000000</td>\n",
              "      <td>132.000000</td>\n",
              "      <td>6.000000</td>\n",
              "      <td>81.000000</td>\n",
              "      <td>42.000000</td>\n",
              "      <td>76.000000</td>\n",
              "      <td>21.000000</td>\n",
              "      <td>16.000000</td>\n",
              "    </tr>\n",
              "  </tbody>\n",
              "</table>\n",
              "</div>"
            ],
            "text/plain": [
              "       encounter_id   patient_nbr  ...  number_inpatient  number_diagnoses\n",
              "count  1.017660e+05  1.017660e+05  ...     101766.000000     101766.000000\n",
              "mean   1.652016e+08  5.433040e+07  ...          0.635566          7.422607\n",
              "std    1.026403e+08  3.869636e+07  ...          1.262863          1.933600\n",
              "min    1.252200e+04  1.350000e+02  ...          0.000000          1.000000\n",
              "25%    8.496119e+07  2.341322e+07  ...          0.000000          6.000000\n",
              "50%    1.523890e+08  4.550514e+07  ...          0.000000          8.000000\n",
              "75%    2.302709e+08  8.754595e+07  ...          1.000000          9.000000\n",
              "max    4.438672e+08  1.895026e+08  ...         21.000000         16.000000\n",
              "\n",
              "[8 rows x 13 columns]"
            ]
          },
          "metadata": {
            "tags": []
          },
          "execution_count": 7
        }
      ]
    },
    {
      "cell_type": "markdown",
      "metadata": {
        "id": "0XKi1sBcZ98j",
        "colab_type": "text"
      },
      "source": [
        "Check is there is a null values in columns"
      ]
    },
    {
      "cell_type": "code",
      "metadata": {
        "id": "XxhTYn3PWehf",
        "colab_type": "code",
        "outputId": "67fa37f0-4e8c-41ef-cc08-0ebb0fdce089",
        "colab": {
          "base_uri": "https://localhost:8080/",
          "height": 914
        }
      },
      "source": [
        "df.isnull().sum()"
      ],
      "execution_count": 0,
      "outputs": [
        {
          "output_type": "execute_result",
          "data": {
            "text/plain": [
              "encounter_id                0\n",
              "patient_nbr                 0\n",
              "race                        0\n",
              "gender                      0\n",
              "age                         0\n",
              "weight                      0\n",
              "admission_type_id           0\n",
              "discharge_disposition_id    0\n",
              "admission_source_id         0\n",
              "time_in_hospital            0\n",
              "payer_code                  0\n",
              "medical_specialty           0\n",
              "num_lab_procedures          0\n",
              "num_procedures              0\n",
              "num_medications             0\n",
              "number_outpatient           0\n",
              "number_emergency            0\n",
              "number_inpatient            0\n",
              "diag_1                      0\n",
              "diag_2                      0\n",
              "diag_3                      0\n",
              "number_diagnoses            0\n",
              "max_glu_serum               0\n",
              "A1Cresult                   0\n",
              "metformin                   0\n",
              "repaglinide                 0\n",
              "nateglinide                 0\n",
              "chlorpropamide              0\n",
              "glimepiride                 0\n",
              "acetohexamide               0\n",
              "glipizide                   0\n",
              "glyburide                   0\n",
              "tolbutamide                 0\n",
              "pioglitazone                0\n",
              "rosiglitazone               0\n",
              "acarbose                    0\n",
              "miglitol                    0\n",
              "troglitazone                0\n",
              "tolazamide                  0\n",
              "examide                     0\n",
              "citoglipton                 0\n",
              "insulin                     0\n",
              "glyburide-metformin         0\n",
              "glipizide-metformin         0\n",
              "glimepiride-pioglitazone    0\n",
              "metformin-rosiglitazone     0\n",
              "metformin-pioglitazone      0\n",
              "change                      0\n",
              "diabetesMed                 0\n",
              "readmitted                  0\n",
              "dtype: int64"
            ]
          },
          "metadata": {
            "tags": []
          },
          "execution_count": 8
        }
      ]
    },
    {
      "cell_type": "markdown",
      "metadata": {
        "id": "4jJIZNpCaEPS",
        "colab_type": "text"
      },
      "source": [
        "As from the above there is no null values."
      ]
    },
    {
      "cell_type": "markdown",
      "metadata": {
        "id": "aS-pm2ltaJU0",
        "colab_type": "text"
      },
      "source": [
        "Check if there is na value in the dataframe"
      ]
    },
    {
      "cell_type": "code",
      "metadata": {
        "id": "TlXCUJpLYD9I",
        "colab_type": "code",
        "outputId": "d660f1cc-a6b6-486d-efc0-01ef94475a34",
        "colab": {
          "base_uri": "https://localhost:8080/",
          "height": 914
        }
      },
      "source": [
        "df.isna().sum()"
      ],
      "execution_count": 0,
      "outputs": [
        {
          "output_type": "execute_result",
          "data": {
            "text/plain": [
              "encounter_id                0\n",
              "patient_nbr                 0\n",
              "race                        0\n",
              "gender                      0\n",
              "age                         0\n",
              "weight                      0\n",
              "admission_type_id           0\n",
              "discharge_disposition_id    0\n",
              "admission_source_id         0\n",
              "time_in_hospital            0\n",
              "payer_code                  0\n",
              "medical_specialty           0\n",
              "num_lab_procedures          0\n",
              "num_procedures              0\n",
              "num_medications             0\n",
              "number_outpatient           0\n",
              "number_emergency            0\n",
              "number_inpatient            0\n",
              "diag_1                      0\n",
              "diag_2                      0\n",
              "diag_3                      0\n",
              "number_diagnoses            0\n",
              "max_glu_serum               0\n",
              "A1Cresult                   0\n",
              "metformin                   0\n",
              "repaglinide                 0\n",
              "nateglinide                 0\n",
              "chlorpropamide              0\n",
              "glimepiride                 0\n",
              "acetohexamide               0\n",
              "glipizide                   0\n",
              "glyburide                   0\n",
              "tolbutamide                 0\n",
              "pioglitazone                0\n",
              "rosiglitazone               0\n",
              "acarbose                    0\n",
              "miglitol                    0\n",
              "troglitazone                0\n",
              "tolazamide                  0\n",
              "examide                     0\n",
              "citoglipton                 0\n",
              "insulin                     0\n",
              "glyburide-metformin         0\n",
              "glipizide-metformin         0\n",
              "glimepiride-pioglitazone    0\n",
              "metformin-rosiglitazone     0\n",
              "metformin-pioglitazone      0\n",
              "change                      0\n",
              "diabetesMed                 0\n",
              "readmitted                  0\n",
              "dtype: int64"
            ]
          },
          "metadata": {
            "tags": []
          },
          "execution_count": 9
        }
      ]
    },
    {
      "cell_type": "markdown",
      "metadata": {
        "id": "KWUHsfPQaPeL",
        "colab_type": "text"
      },
      "source": [
        "From the above, there is no na value in dataframe"
      ]
    },
    {
      "cell_type": "markdown",
      "metadata": {
        "id": "Dief7bqiacEv",
        "colab_type": "text"
      },
      "source": [
        "From the sample data above, the missing data were marked as '?'. Let see in the dataframe and count them."
      ]
    },
    {
      "cell_type": "code",
      "metadata": {
        "id": "QcgLt1LsYd4P",
        "colab_type": "code",
        "outputId": "53ba44f1-633a-4ee0-a026-c41b4798f91f",
        "colab": {
          "base_uri": "https://localhost:8080/",
          "height": 914
        }
      },
      "source": [
        "missing_data=df.isin(['?']).sum()\n",
        "missing_data"
      ],
      "execution_count": 0,
      "outputs": [
        {
          "output_type": "execute_result",
          "data": {
            "text/plain": [
              "encounter_id                    0\n",
              "patient_nbr                     0\n",
              "race                         2273\n",
              "gender                          0\n",
              "age                             0\n",
              "weight                      98569\n",
              "admission_type_id               0\n",
              "discharge_disposition_id        0\n",
              "admission_source_id             0\n",
              "time_in_hospital                0\n",
              "payer_code                  40256\n",
              "medical_specialty           49949\n",
              "num_lab_procedures              0\n",
              "num_procedures                  0\n",
              "num_medications                 0\n",
              "number_outpatient               0\n",
              "number_emergency                0\n",
              "number_inpatient                0\n",
              "diag_1                         21\n",
              "diag_2                        358\n",
              "diag_3                       1423\n",
              "number_diagnoses                0\n",
              "max_glu_serum                   0\n",
              "A1Cresult                       0\n",
              "metformin                       0\n",
              "repaglinide                     0\n",
              "nateglinide                     0\n",
              "chlorpropamide                  0\n",
              "glimepiride                     0\n",
              "acetohexamide                   0\n",
              "glipizide                       0\n",
              "glyburide                       0\n",
              "tolbutamide                     0\n",
              "pioglitazone                    0\n",
              "rosiglitazone                   0\n",
              "acarbose                        0\n",
              "miglitol                        0\n",
              "troglitazone                    0\n",
              "tolazamide                      0\n",
              "examide                         0\n",
              "citoglipton                     0\n",
              "insulin                         0\n",
              "glyburide-metformin             0\n",
              "glipizide-metformin             0\n",
              "glimepiride-pioglitazone        0\n",
              "metformin-rosiglitazone         0\n",
              "metformin-pioglitazone          0\n",
              "change                          0\n",
              "diabetesMed                     0\n",
              "readmitted                      0\n",
              "dtype: int64"
            ]
          },
          "metadata": {
            "tags": []
          },
          "execution_count": 10
        }
      ]
    },
    {
      "cell_type": "markdown",
      "metadata": {
        "id": "QibKiGVqf1Wn",
        "colab_type": "text"
      },
      "source": [
        "Calculate the percentage of the missing for the column that has that."
      ]
    },
    {
      "cell_type": "code",
      "metadata": {
        "id": "NxjxxUrwbw-4",
        "colab_type": "code",
        "colab": {}
      },
      "source": [
        "def cal_Percentage(attributeName,missing_data=missing_data,dataFrame=df):\n",
        "    print('{0}: {1:.2f} % missing data'.format(attributeName,missing_data[attributeName]/len(df)*100))"
      ],
      "execution_count": 0,
      "outputs": []
    },
    {
      "cell_type": "code",
      "metadata": {
        "id": "4O6PocIObm3b",
        "colab_type": "code",
        "outputId": "7e653579-2625-4b21-9f13-2e90c16b46f7",
        "colab": {
          "base_uri": "https://localhost:8080/",
          "height": 140
        }
      },
      "source": [
        "for att in missing_data.keys():\n",
        "  if missing_data[att] > 0:\n",
        "    cal_Percentage(att)"
      ],
      "execution_count": 0,
      "outputs": [
        {
          "output_type": "stream",
          "text": [
            "race: 2.23 % missing data\n",
            "weight: 96.86 % missing data\n",
            "payer_code: 39.56 % missing data\n",
            "medical_specialty: 49.08 % missing data\n",
            "diag_1: 0.02 % missing data\n",
            "diag_2: 0.35 % missing data\n",
            "diag_3: 1.40 % missing data\n"
          ],
          "name": "stdout"
        }
      ]
    },
    {
      "cell_type": "markdown",
      "metadata": {
        "id": "LpW11zUPgHfR",
        "colab_type": "text"
      },
      "source": [
        "From the above, it shows that the follwing attributes has missing data:\n",
        "1.   race 2%\n",
        "2.   weight 97%\n",
        "3.   payer_code 40% \n",
        "4.   medical_specialty 49%\n",
        "5.   diag_1 0.02%\n",
        "6.   diag_2 0.35%\n",
        "7.   diag_3 1.40%\n",
        "\n"
      ]
    },
    {
      "cell_type": "markdown",
      "metadata": {
        "id": "hKgroCnmkdNT",
        "colab_type": "text"
      },
      "source": [
        "For the attribute 'race', let see the distinct value to see how to deal with the missing values"
      ]
    },
    {
      "cell_type": "code",
      "metadata": {
        "id": "sfzsLT26hoUv",
        "colab_type": "code",
        "outputId": "e6660ebd-5839-40eb-de22-b0c25fba84c2",
        "colab": {
          "base_uri": "https://localhost:8080/",
          "height": 140
        }
      },
      "source": [
        "race_values=df['race'].value_counts()\n",
        "race_values"
      ],
      "execution_count": 0,
      "outputs": [
        {
          "output_type": "execute_result",
          "data": {
            "text/plain": [
              "Caucasian          76099\n",
              "AfricanAmerican    19210\n",
              "?                   2273\n",
              "Hispanic            2037\n",
              "Other               1506\n",
              "Asian                641\n",
              "Name: race, dtype: int64"
            ]
          },
          "metadata": {
            "tags": []
          },
          "execution_count": 13
        }
      ]
    },
    {
      "cell_type": "markdown",
      "metadata": {
        "id": "zXurHvfakrZD",
        "colab_type": "text"
      },
      "source": [
        "It could be concluded that the missing values could be replaces with the value Other as it is not a race rethar than 'Caucasian', 'AfricanAmerican', 'Hispanic', and 'Asian'."
      ]
    },
    {
      "cell_type": "markdown",
      "metadata": {
        "id": "m7KYpvgzp72k",
        "colab_type": "text"
      },
      "source": [
        "Now, let replace the missing value '?' with the value 'Other'\n",
        "\n",
        "First, get the key value of the 'Other' and the missing value '?'"
      ]
    },
    {
      "cell_type": "code",
      "metadata": {
        "id": "WmfZ306ulhgQ",
        "colab_type": "code",
        "outputId": "6ec54d89-656a-405f-c4d5-4d46d081face",
        "colab": {
          "base_uri": "https://localhost:8080/",
          "height": 34
        }
      },
      "source": [
        "other_value=race_values.keys()[4]\n",
        "other_value"
      ],
      "execution_count": 0,
      "outputs": [
        {
          "output_type": "execute_result",
          "data": {
            "text/plain": [
              "'Other'"
            ]
          },
          "metadata": {
            "tags": []
          },
          "execution_count": 14
        }
      ]
    },
    {
      "cell_type": "code",
      "metadata": {
        "id": "PLa8bH4jmMuX",
        "colab_type": "code",
        "outputId": "0197bcbb-8746-42c4-e7a5-45e9047128cf",
        "colab": {
          "base_uri": "https://localhost:8080/",
          "height": 34
        }
      },
      "source": [
        "missing_value=race_values.keys()[2]\n",
        "missing_value"
      ],
      "execution_count": 0,
      "outputs": [
        {
          "output_type": "execute_result",
          "data": {
            "text/plain": [
              "'?'"
            ]
          },
          "metadata": {
            "tags": []
          },
          "execution_count": 15
        }
      ]
    },
    {
      "cell_type": "markdown",
      "metadata": {
        "id": "lCWmDk4IqMlD",
        "colab_type": "text"
      },
      "source": [
        "Replace the '?' with the value 'Other'"
      ]
    },
    {
      "cell_type": "code",
      "metadata": {
        "id": "WUSEVklElw8C",
        "colab_type": "code",
        "colab": {}
      },
      "source": [
        "race_replaced_missing_values = df['race'].replace(missing_value, \n",
        "                 other_value) "
      ],
      "execution_count": 0,
      "outputs": []
    },
    {
      "cell_type": "code",
      "metadata": {
        "id": "9DS0bYiKprIb",
        "colab_type": "code",
        "outputId": "a63020c1-1df1-49c3-c67a-e3b01550b1a7",
        "colab": {
          "base_uri": "https://localhost:8080/",
          "height": 228
        }
      },
      "source": [
        "race_replaced_missing_values"
      ],
      "execution_count": 0,
      "outputs": [
        {
          "output_type": "execute_result",
          "data": {
            "text/plain": [
              "0               Caucasian\n",
              "1               Caucasian\n",
              "2         AfricanAmerican\n",
              "3               Caucasian\n",
              "4               Caucasian\n",
              "               ...       \n",
              "101761    AfricanAmerican\n",
              "101762    AfricanAmerican\n",
              "101763          Caucasian\n",
              "101764          Caucasian\n",
              "101765          Caucasian\n",
              "Name: race, Length: 101766, dtype: object"
            ]
          },
          "metadata": {
            "tags": []
          },
          "execution_count": 17
        }
      ]
    },
    {
      "cell_type": "markdown",
      "metadata": {
        "id": "gbNr44KCqTrZ",
        "colab_type": "text"
      },
      "source": [
        "Check the output from the replace function"
      ]
    },
    {
      "cell_type": "code",
      "metadata": {
        "id": "vQkYKPPupj-J",
        "colab_type": "code",
        "outputId": "0ec6251c-7326-46ae-a98e-9a7bf869d6a7",
        "colab": {
          "base_uri": "https://localhost:8080/",
          "height": 122
        }
      },
      "source": [
        "race_replaced_missing_values.value_counts()"
      ],
      "execution_count": 0,
      "outputs": [
        {
          "output_type": "execute_result",
          "data": {
            "text/plain": [
              "Caucasian          76099\n",
              "AfricanAmerican    19210\n",
              "Other               3779\n",
              "Hispanic            2037\n",
              "Asian                641\n",
              "Name: race, dtype: int64"
            ]
          },
          "metadata": {
            "tags": []
          },
          "execution_count": 18
        }
      ]
    },
    {
      "cell_type": "markdown",
      "metadata": {
        "id": "EkY1Cubwqbp1",
        "colab_type": "text"
      },
      "source": [
        "Assign the output to the column 'race' which has replaced the '?' with 'Other'"
      ]
    },
    {
      "cell_type": "code",
      "metadata": {
        "id": "dP0FZ_7Kl_43",
        "colab_type": "code",
        "colab": {}
      },
      "source": [
        "df['race'] = race_replaced_missing_values"
      ],
      "execution_count": 0,
      "outputs": []
    },
    {
      "cell_type": "markdown",
      "metadata": {
        "id": "ZL-DD39QqrfS",
        "colab_type": "text"
      },
      "source": [
        "Check the distinct values of the column 'race'"
      ]
    },
    {
      "cell_type": "code",
      "metadata": {
        "id": "kfQiGcVnpyDg",
        "colab_type": "code",
        "outputId": "7b05aa83-4f7e-436d-a153-860f1f29208e",
        "colab": {
          "base_uri": "https://localhost:8080/",
          "height": 122
        }
      },
      "source": [
        "df['race'].value_counts()"
      ],
      "execution_count": 0,
      "outputs": [
        {
          "output_type": "execute_result",
          "data": {
            "text/plain": [
              "Caucasian          76099\n",
              "AfricanAmerican    19210\n",
              "Other               3779\n",
              "Hispanic            2037\n",
              "Asian                641\n",
              "Name: race, dtype: int64"
            ]
          },
          "metadata": {
            "tags": []
          },
          "execution_count": 20
        }
      ]
    },
    {
      "cell_type": "markdown",
      "metadata": {
        "id": "31brvcb9rRCY",
        "colab_type": "text"
      },
      "source": [
        "So, now the race column has no missing value"
      ]
    },
    {
      "cell_type": "code",
      "metadata": {
        "id": "4DGKQFcNqwJG",
        "colab_type": "code",
        "outputId": "78ca8a88-0f70-442f-8de8-4d668e3b724a",
        "colab": {
          "base_uri": "https://localhost:8080/",
          "height": 914
        }
      },
      "source": [
        "df.isin([missing_value]).sum()"
      ],
      "execution_count": 0,
      "outputs": [
        {
          "output_type": "execute_result",
          "data": {
            "text/plain": [
              "encounter_id                    0\n",
              "patient_nbr                     0\n",
              "race                            0\n",
              "gender                          0\n",
              "age                             0\n",
              "weight                      98569\n",
              "admission_type_id               0\n",
              "discharge_disposition_id        0\n",
              "admission_source_id             0\n",
              "time_in_hospital                0\n",
              "payer_code                  40256\n",
              "medical_specialty           49949\n",
              "num_lab_procedures              0\n",
              "num_procedures                  0\n",
              "num_medications                 0\n",
              "number_outpatient               0\n",
              "number_emergency                0\n",
              "number_inpatient                0\n",
              "diag_1                         21\n",
              "diag_2                        358\n",
              "diag_3                       1423\n",
              "number_diagnoses                0\n",
              "max_glu_serum                   0\n",
              "A1Cresult                       0\n",
              "metformin                       0\n",
              "repaglinide                     0\n",
              "nateglinide                     0\n",
              "chlorpropamide                  0\n",
              "glimepiride                     0\n",
              "acetohexamide                   0\n",
              "glipizide                       0\n",
              "glyburide                       0\n",
              "tolbutamide                     0\n",
              "pioglitazone                    0\n",
              "rosiglitazone                   0\n",
              "acarbose                        0\n",
              "miglitol                        0\n",
              "troglitazone                    0\n",
              "tolazamide                      0\n",
              "examide                         0\n",
              "citoglipton                     0\n",
              "insulin                         0\n",
              "glyburide-metformin             0\n",
              "glipizide-metformin             0\n",
              "glimepiride-pioglitazone        0\n",
              "metformin-rosiglitazone         0\n",
              "metformin-pioglitazone          0\n",
              "change                          0\n",
              "diabetesMed                     0\n",
              "readmitted                      0\n",
              "dtype: int64"
            ]
          },
          "metadata": {
            "tags": []
          },
          "execution_count": 21
        }
      ]
    },
    {
      "cell_type": "code",
      "metadata": {
        "id": "GbZXnPo3rgBh",
        "colab_type": "code",
        "outputId": "ca885af0-6284-4d7b-f615-46ea06655a11",
        "colab": {
          "base_uri": "https://localhost:8080/",
          "height": 228
        }
      },
      "source": [
        "df['medical_specialty'].value_counts()"
      ],
      "execution_count": 0,
      "outputs": [
        {
          "output_type": "execute_result",
          "data": {
            "text/plain": [
              "?                                   49949\n",
              "InternalMedicine                    14635\n",
              "Emergency/Trauma                     7565\n",
              "Family/GeneralPractice               7440\n",
              "Cardiology                           5352\n",
              "                                    ...  \n",
              "Psychiatry-Addictive                    1\n",
              "SportsMedicine                          1\n",
              "Neurophysiology                         1\n",
              "Dermatology                             1\n",
              "Surgery-PlasticwithinHeadandNeck        1\n",
              "Name: medical_specialty, Length: 73, dtype: int64"
            ]
          },
          "metadata": {
            "tags": []
          },
          "execution_count": 22
        }
      ]
    },
    {
      "cell_type": "markdown",
      "metadata": {
        "id": "w3WfGma6hlqX",
        "colab_type": "text"
      },
      "source": [
        "Now, for the columns \n",
        "- weight (which is in Weight in pounds)\n",
        "\n",
        "- payer_code (which is an Integer identifier corresponding to 23 distinct values, for example, Blue Cross/Blue Shield, Medicare, and self-pay)\n",
        "\n",
        "- medical_specialty (which is an Integer identifier of a specialty of the admitting physician, corresponding to 84 distinct values, for example, cardiology, internal medicine, family/general practice, and surgeon)\n",
        "\n",
        "are to be deleted as these data could not affecte the predection accuracy. Because the waight column most of the data is missing, 97% missing data. For the other two attributes, payer_code and medical_specialty, are just codes."
      ]
    },
    {
      "cell_type": "code",
      "metadata": {
        "id": "JHzbHSdXh_yX",
        "colab_type": "code",
        "colab": {}
      },
      "source": [
        "df.drop({'weight','payer_code','medical_specialty'}, axis=1, inplace=True)\n"
      ],
      "execution_count": 0,
      "outputs": []
    },
    {
      "cell_type": "markdown",
      "metadata": {
        "id": "XmG3rquEjbt2",
        "colab_type": "text"
      },
      "source": [
        "Check the result of drop function."
      ]
    },
    {
      "cell_type": "code",
      "metadata": {
        "id": "hmsYrTPgiqqH",
        "colab_type": "code",
        "outputId": "b8c00f97-6cf5-44b7-f019-738b9e708fcd",
        "colab": {
          "base_uri": "https://localhost:8080/",
          "height": 34
        }
      },
      "source": [
        "df.shape"
      ],
      "execution_count": 0,
      "outputs": [
        {
          "output_type": "execute_result",
          "data": {
            "text/plain": [
              "(101766, 47)"
            ]
          },
          "metadata": {
            "tags": []
          },
          "execution_count": 24
        }
      ]
    },
    {
      "cell_type": "code",
      "metadata": {
        "id": "KuvDs-M9jYDa",
        "colab_type": "code",
        "outputId": "86adf0fb-6607-40d9-8f1f-35054c347f13",
        "colab": {
          "base_uri": "https://localhost:8080/",
          "height": 316
        }
      },
      "source": [
        "df.head()"
      ],
      "execution_count": 0,
      "outputs": [
        {
          "output_type": "execute_result",
          "data": {
            "text/html": [
              "<div>\n",
              "<style scoped>\n",
              "    .dataframe tbody tr th:only-of-type {\n",
              "        vertical-align: middle;\n",
              "    }\n",
              "\n",
              "    .dataframe tbody tr th {\n",
              "        vertical-align: top;\n",
              "    }\n",
              "\n",
              "    .dataframe thead th {\n",
              "        text-align: right;\n",
              "    }\n",
              "</style>\n",
              "<table border=\"1\" class=\"dataframe\">\n",
              "  <thead>\n",
              "    <tr style=\"text-align: right;\">\n",
              "      <th></th>\n",
              "      <th>encounter_id</th>\n",
              "      <th>patient_nbr</th>\n",
              "      <th>race</th>\n",
              "      <th>gender</th>\n",
              "      <th>age</th>\n",
              "      <th>admission_type_id</th>\n",
              "      <th>discharge_disposition_id</th>\n",
              "      <th>admission_source_id</th>\n",
              "      <th>time_in_hospital</th>\n",
              "      <th>num_lab_procedures</th>\n",
              "      <th>num_procedures</th>\n",
              "      <th>num_medications</th>\n",
              "      <th>number_outpatient</th>\n",
              "      <th>number_emergency</th>\n",
              "      <th>number_inpatient</th>\n",
              "      <th>diag_1</th>\n",
              "      <th>diag_2</th>\n",
              "      <th>diag_3</th>\n",
              "      <th>number_diagnoses</th>\n",
              "      <th>max_glu_serum</th>\n",
              "      <th>A1Cresult</th>\n",
              "      <th>metformin</th>\n",
              "      <th>repaglinide</th>\n",
              "      <th>nateglinide</th>\n",
              "      <th>chlorpropamide</th>\n",
              "      <th>glimepiride</th>\n",
              "      <th>acetohexamide</th>\n",
              "      <th>glipizide</th>\n",
              "      <th>glyburide</th>\n",
              "      <th>tolbutamide</th>\n",
              "      <th>pioglitazone</th>\n",
              "      <th>rosiglitazone</th>\n",
              "      <th>acarbose</th>\n",
              "      <th>miglitol</th>\n",
              "      <th>troglitazone</th>\n",
              "      <th>tolazamide</th>\n",
              "      <th>examide</th>\n",
              "      <th>citoglipton</th>\n",
              "      <th>insulin</th>\n",
              "      <th>glyburide-metformin</th>\n",
              "      <th>glipizide-metformin</th>\n",
              "      <th>glimepiride-pioglitazone</th>\n",
              "      <th>metformin-rosiglitazone</th>\n",
              "      <th>metformin-pioglitazone</th>\n",
              "      <th>change</th>\n",
              "      <th>diabetesMed</th>\n",
              "      <th>readmitted</th>\n",
              "    </tr>\n",
              "  </thead>\n",
              "  <tbody>\n",
              "    <tr>\n",
              "      <th>0</th>\n",
              "      <td>2278392</td>\n",
              "      <td>8222157</td>\n",
              "      <td>Caucasian</td>\n",
              "      <td>Female</td>\n",
              "      <td>[0-10)</td>\n",
              "      <td>6</td>\n",
              "      <td>25</td>\n",
              "      <td>1</td>\n",
              "      <td>1</td>\n",
              "      <td>41</td>\n",
              "      <td>0</td>\n",
              "      <td>1</td>\n",
              "      <td>0</td>\n",
              "      <td>0</td>\n",
              "      <td>0</td>\n",
              "      <td>250.83</td>\n",
              "      <td>?</td>\n",
              "      <td>?</td>\n",
              "      <td>1</td>\n",
              "      <td>None</td>\n",
              "      <td>None</td>\n",
              "      <td>No</td>\n",
              "      <td>No</td>\n",
              "      <td>No</td>\n",
              "      <td>No</td>\n",
              "      <td>No</td>\n",
              "      <td>No</td>\n",
              "      <td>No</td>\n",
              "      <td>No</td>\n",
              "      <td>No</td>\n",
              "      <td>No</td>\n",
              "      <td>No</td>\n",
              "      <td>No</td>\n",
              "      <td>No</td>\n",
              "      <td>No</td>\n",
              "      <td>No</td>\n",
              "      <td>No</td>\n",
              "      <td>No</td>\n",
              "      <td>No</td>\n",
              "      <td>No</td>\n",
              "      <td>No</td>\n",
              "      <td>No</td>\n",
              "      <td>No</td>\n",
              "      <td>No</td>\n",
              "      <td>No</td>\n",
              "      <td>No</td>\n",
              "      <td>NO</td>\n",
              "    </tr>\n",
              "    <tr>\n",
              "      <th>1</th>\n",
              "      <td>149190</td>\n",
              "      <td>55629189</td>\n",
              "      <td>Caucasian</td>\n",
              "      <td>Female</td>\n",
              "      <td>[10-20)</td>\n",
              "      <td>1</td>\n",
              "      <td>1</td>\n",
              "      <td>7</td>\n",
              "      <td>3</td>\n",
              "      <td>59</td>\n",
              "      <td>0</td>\n",
              "      <td>18</td>\n",
              "      <td>0</td>\n",
              "      <td>0</td>\n",
              "      <td>0</td>\n",
              "      <td>276</td>\n",
              "      <td>250.01</td>\n",
              "      <td>255</td>\n",
              "      <td>9</td>\n",
              "      <td>None</td>\n",
              "      <td>None</td>\n",
              "      <td>No</td>\n",
              "      <td>No</td>\n",
              "      <td>No</td>\n",
              "      <td>No</td>\n",
              "      <td>No</td>\n",
              "      <td>No</td>\n",
              "      <td>No</td>\n",
              "      <td>No</td>\n",
              "      <td>No</td>\n",
              "      <td>No</td>\n",
              "      <td>No</td>\n",
              "      <td>No</td>\n",
              "      <td>No</td>\n",
              "      <td>No</td>\n",
              "      <td>No</td>\n",
              "      <td>No</td>\n",
              "      <td>No</td>\n",
              "      <td>Up</td>\n",
              "      <td>No</td>\n",
              "      <td>No</td>\n",
              "      <td>No</td>\n",
              "      <td>No</td>\n",
              "      <td>No</td>\n",
              "      <td>Ch</td>\n",
              "      <td>Yes</td>\n",
              "      <td>&gt;30</td>\n",
              "    </tr>\n",
              "    <tr>\n",
              "      <th>2</th>\n",
              "      <td>64410</td>\n",
              "      <td>86047875</td>\n",
              "      <td>AfricanAmerican</td>\n",
              "      <td>Female</td>\n",
              "      <td>[20-30)</td>\n",
              "      <td>1</td>\n",
              "      <td>1</td>\n",
              "      <td>7</td>\n",
              "      <td>2</td>\n",
              "      <td>11</td>\n",
              "      <td>5</td>\n",
              "      <td>13</td>\n",
              "      <td>2</td>\n",
              "      <td>0</td>\n",
              "      <td>1</td>\n",
              "      <td>648</td>\n",
              "      <td>250</td>\n",
              "      <td>V27</td>\n",
              "      <td>6</td>\n",
              "      <td>None</td>\n",
              "      <td>None</td>\n",
              "      <td>No</td>\n",
              "      <td>No</td>\n",
              "      <td>No</td>\n",
              "      <td>No</td>\n",
              "      <td>No</td>\n",
              "      <td>No</td>\n",
              "      <td>Steady</td>\n",
              "      <td>No</td>\n",
              "      <td>No</td>\n",
              "      <td>No</td>\n",
              "      <td>No</td>\n",
              "      <td>No</td>\n",
              "      <td>No</td>\n",
              "      <td>No</td>\n",
              "      <td>No</td>\n",
              "      <td>No</td>\n",
              "      <td>No</td>\n",
              "      <td>No</td>\n",
              "      <td>No</td>\n",
              "      <td>No</td>\n",
              "      <td>No</td>\n",
              "      <td>No</td>\n",
              "      <td>No</td>\n",
              "      <td>No</td>\n",
              "      <td>Yes</td>\n",
              "      <td>NO</td>\n",
              "    </tr>\n",
              "    <tr>\n",
              "      <th>3</th>\n",
              "      <td>500364</td>\n",
              "      <td>82442376</td>\n",
              "      <td>Caucasian</td>\n",
              "      <td>Male</td>\n",
              "      <td>[30-40)</td>\n",
              "      <td>1</td>\n",
              "      <td>1</td>\n",
              "      <td>7</td>\n",
              "      <td>2</td>\n",
              "      <td>44</td>\n",
              "      <td>1</td>\n",
              "      <td>16</td>\n",
              "      <td>0</td>\n",
              "      <td>0</td>\n",
              "      <td>0</td>\n",
              "      <td>8</td>\n",
              "      <td>250.43</td>\n",
              "      <td>403</td>\n",
              "      <td>7</td>\n",
              "      <td>None</td>\n",
              "      <td>None</td>\n",
              "      <td>No</td>\n",
              "      <td>No</td>\n",
              "      <td>No</td>\n",
              "      <td>No</td>\n",
              "      <td>No</td>\n",
              "      <td>No</td>\n",
              "      <td>No</td>\n",
              "      <td>No</td>\n",
              "      <td>No</td>\n",
              "      <td>No</td>\n",
              "      <td>No</td>\n",
              "      <td>No</td>\n",
              "      <td>No</td>\n",
              "      <td>No</td>\n",
              "      <td>No</td>\n",
              "      <td>No</td>\n",
              "      <td>No</td>\n",
              "      <td>Up</td>\n",
              "      <td>No</td>\n",
              "      <td>No</td>\n",
              "      <td>No</td>\n",
              "      <td>No</td>\n",
              "      <td>No</td>\n",
              "      <td>Ch</td>\n",
              "      <td>Yes</td>\n",
              "      <td>NO</td>\n",
              "    </tr>\n",
              "    <tr>\n",
              "      <th>4</th>\n",
              "      <td>16680</td>\n",
              "      <td>42519267</td>\n",
              "      <td>Caucasian</td>\n",
              "      <td>Male</td>\n",
              "      <td>[40-50)</td>\n",
              "      <td>1</td>\n",
              "      <td>1</td>\n",
              "      <td>7</td>\n",
              "      <td>1</td>\n",
              "      <td>51</td>\n",
              "      <td>0</td>\n",
              "      <td>8</td>\n",
              "      <td>0</td>\n",
              "      <td>0</td>\n",
              "      <td>0</td>\n",
              "      <td>197</td>\n",
              "      <td>157</td>\n",
              "      <td>250</td>\n",
              "      <td>5</td>\n",
              "      <td>None</td>\n",
              "      <td>None</td>\n",
              "      <td>No</td>\n",
              "      <td>No</td>\n",
              "      <td>No</td>\n",
              "      <td>No</td>\n",
              "      <td>No</td>\n",
              "      <td>No</td>\n",
              "      <td>Steady</td>\n",
              "      <td>No</td>\n",
              "      <td>No</td>\n",
              "      <td>No</td>\n",
              "      <td>No</td>\n",
              "      <td>No</td>\n",
              "      <td>No</td>\n",
              "      <td>No</td>\n",
              "      <td>No</td>\n",
              "      <td>No</td>\n",
              "      <td>No</td>\n",
              "      <td>Steady</td>\n",
              "      <td>No</td>\n",
              "      <td>No</td>\n",
              "      <td>No</td>\n",
              "      <td>No</td>\n",
              "      <td>No</td>\n",
              "      <td>Ch</td>\n",
              "      <td>Yes</td>\n",
              "      <td>NO</td>\n",
              "    </tr>\n",
              "  </tbody>\n",
              "</table>\n",
              "</div>"
            ],
            "text/plain": [
              "   encounter_id  patient_nbr             race  ... change diabetesMed  readmitted\n",
              "0       2278392      8222157        Caucasian  ...     No          No          NO\n",
              "1        149190     55629189        Caucasian  ...     Ch         Yes         >30\n",
              "2         64410     86047875  AfricanAmerican  ...     No         Yes          NO\n",
              "3        500364     82442376        Caucasian  ...     Ch         Yes          NO\n",
              "4         16680     42519267        Caucasian  ...     Ch         Yes          NO\n",
              "\n",
              "[5 rows x 47 columns]"
            ]
          },
          "metadata": {
            "tags": []
          },
          "execution_count": 25
        }
      ]
    },
    {
      "cell_type": "code",
      "metadata": {
        "id": "hKBA0adHjdhd",
        "colab_type": "code",
        "outputId": "d1d030af-2cd9-45de-bb4a-5b00cec20b60",
        "colab": {
          "base_uri": "https://localhost:8080/",
          "height": 862
        }
      },
      "source": [
        "df.isin([missing_value]).sum()"
      ],
      "execution_count": 0,
      "outputs": [
        {
          "output_type": "execute_result",
          "data": {
            "text/plain": [
              "encounter_id                   0\n",
              "patient_nbr                    0\n",
              "race                           0\n",
              "gender                         0\n",
              "age                            0\n",
              "admission_type_id              0\n",
              "discharge_disposition_id       0\n",
              "admission_source_id            0\n",
              "time_in_hospital               0\n",
              "num_lab_procedures             0\n",
              "num_procedures                 0\n",
              "num_medications                0\n",
              "number_outpatient              0\n",
              "number_emergency               0\n",
              "number_inpatient               0\n",
              "diag_1                        21\n",
              "diag_2                       358\n",
              "diag_3                      1423\n",
              "number_diagnoses               0\n",
              "max_glu_serum                  0\n",
              "A1Cresult                      0\n",
              "metformin                      0\n",
              "repaglinide                    0\n",
              "nateglinide                    0\n",
              "chlorpropamide                 0\n",
              "glimepiride                    0\n",
              "acetohexamide                  0\n",
              "glipizide                      0\n",
              "glyburide                      0\n",
              "tolbutamide                    0\n",
              "pioglitazone                   0\n",
              "rosiglitazone                  0\n",
              "acarbose                       0\n",
              "miglitol                       0\n",
              "troglitazone                   0\n",
              "tolazamide                     0\n",
              "examide                        0\n",
              "citoglipton                    0\n",
              "insulin                        0\n",
              "glyburide-metformin            0\n",
              "glipizide-metformin            0\n",
              "glimepiride-pioglitazone       0\n",
              "metformin-rosiglitazone        0\n",
              "metformin-pioglitazone         0\n",
              "change                         0\n",
              "diabetesMed                    0\n",
              "readmitted                     0\n",
              "dtype: int64"
            ]
          },
          "metadata": {
            "tags": []
          },
          "execution_count": 26
        }
      ]
    },
    {
      "cell_type": "markdown",
      "metadata": {
        "id": "4pgGJ1MgjwZF",
        "colab_type": "text"
      },
      "source": [
        "Now the df has only the follwing columns has missing data remaining:\n",
        "diag_1                        \n",
        "diag_2                        \n",
        "and diag_3"
      ]
    },
    {
      "cell_type": "code",
      "metadata": {
        "id": "BHIoRwXg1hGX",
        "colab_type": "code",
        "colab": {}
      },
      "source": [
        "df.replace(missing_value, np.nan,inplace=True)"
      ],
      "execution_count": 0,
      "outputs": []
    },
    {
      "cell_type": "markdown",
      "metadata": {
        "id": "86PvCHft5MSE",
        "colab_type": "text"
      },
      "source": [
        "Now check if the missing_value '?' is replaced with 'NaN'"
      ]
    },
    {
      "cell_type": "code",
      "metadata": {
        "id": "3Bo85G0U4-bh",
        "colab_type": "code",
        "outputId": "800785f4-a537-46f6-cf65-434a86e0f827",
        "colab": {
          "base_uri": "https://localhost:8080/",
          "height": 862
        }
      },
      "source": [
        "df.isin([missing_value]).sum()"
      ],
      "execution_count": 0,
      "outputs": [
        {
          "output_type": "execute_result",
          "data": {
            "text/plain": [
              "encounter_id                0\n",
              "patient_nbr                 0\n",
              "race                        0\n",
              "gender                      0\n",
              "age                         0\n",
              "admission_type_id           0\n",
              "discharge_disposition_id    0\n",
              "admission_source_id         0\n",
              "time_in_hospital            0\n",
              "num_lab_procedures          0\n",
              "num_procedures              0\n",
              "num_medications             0\n",
              "number_outpatient           0\n",
              "number_emergency            0\n",
              "number_inpatient            0\n",
              "diag_1                      0\n",
              "diag_2                      0\n",
              "diag_3                      0\n",
              "number_diagnoses            0\n",
              "max_glu_serum               0\n",
              "A1Cresult                   0\n",
              "metformin                   0\n",
              "repaglinide                 0\n",
              "nateglinide                 0\n",
              "chlorpropamide              0\n",
              "glimepiride                 0\n",
              "acetohexamide               0\n",
              "glipizide                   0\n",
              "glyburide                   0\n",
              "tolbutamide                 0\n",
              "pioglitazone                0\n",
              "rosiglitazone               0\n",
              "acarbose                    0\n",
              "miglitol                    0\n",
              "troglitazone                0\n",
              "tolazamide                  0\n",
              "examide                     0\n",
              "citoglipton                 0\n",
              "insulin                     0\n",
              "glyburide-metformin         0\n",
              "glipizide-metformin         0\n",
              "glimepiride-pioglitazone    0\n",
              "metformin-rosiglitazone     0\n",
              "metformin-pioglitazone      0\n",
              "change                      0\n",
              "diabetesMed                 0\n",
              "readmitted                  0\n",
              "dtype: int64"
            ]
          },
          "metadata": {
            "tags": []
          },
          "execution_count": 28
        }
      ]
    },
    {
      "cell_type": "code",
      "metadata": {
        "id": "MlYkG7IP5DJf",
        "colab_type": "code",
        "outputId": "6e74bca4-8e3d-4393-cbf5-fccef36c3eed",
        "colab": {
          "base_uri": "https://localhost:8080/",
          "height": 862
        }
      },
      "source": [
        "df.isna().sum()"
      ],
      "execution_count": 0,
      "outputs": [
        {
          "output_type": "execute_result",
          "data": {
            "text/plain": [
              "encounter_id                   0\n",
              "patient_nbr                    0\n",
              "race                           0\n",
              "gender                         0\n",
              "age                            0\n",
              "admission_type_id              0\n",
              "discharge_disposition_id       0\n",
              "admission_source_id            0\n",
              "time_in_hospital               0\n",
              "num_lab_procedures             0\n",
              "num_procedures                 0\n",
              "num_medications                0\n",
              "number_outpatient              0\n",
              "number_emergency               0\n",
              "number_inpatient               0\n",
              "diag_1                        21\n",
              "diag_2                       358\n",
              "diag_3                      1423\n",
              "number_diagnoses               0\n",
              "max_glu_serum                  0\n",
              "A1Cresult                      0\n",
              "metformin                      0\n",
              "repaglinide                    0\n",
              "nateglinide                    0\n",
              "chlorpropamide                 0\n",
              "glimepiride                    0\n",
              "acetohexamide                  0\n",
              "glipizide                      0\n",
              "glyburide                      0\n",
              "tolbutamide                    0\n",
              "pioglitazone                   0\n",
              "rosiglitazone                  0\n",
              "acarbose                       0\n",
              "miglitol                       0\n",
              "troglitazone                   0\n",
              "tolazamide                     0\n",
              "examide                        0\n",
              "citoglipton                    0\n",
              "insulin                        0\n",
              "glyburide-metformin            0\n",
              "glipizide-metformin            0\n",
              "glimepiride-pioglitazone       0\n",
              "metformin-rosiglitazone        0\n",
              "metformin-pioglitazone         0\n",
              "change                         0\n",
              "diabetesMed                    0\n",
              "readmitted                     0\n",
              "dtype: int64"
            ]
          },
          "metadata": {
            "tags": []
          },
          "execution_count": 29
        }
      ]
    },
    {
      "cell_type": "code",
      "metadata": {
        "id": "ay9jtpSn5jR7",
        "colab_type": "code",
        "outputId": "ad2a73ac-d92d-459b-f72d-f385d1dd0d37",
        "colab": {
          "base_uri": "https://localhost:8080/",
          "height": 316
        }
      },
      "source": [
        "df.head()"
      ],
      "execution_count": 0,
      "outputs": [
        {
          "output_type": "execute_result",
          "data": {
            "text/html": [
              "<div>\n",
              "<style scoped>\n",
              "    .dataframe tbody tr th:only-of-type {\n",
              "        vertical-align: middle;\n",
              "    }\n",
              "\n",
              "    .dataframe tbody tr th {\n",
              "        vertical-align: top;\n",
              "    }\n",
              "\n",
              "    .dataframe thead th {\n",
              "        text-align: right;\n",
              "    }\n",
              "</style>\n",
              "<table border=\"1\" class=\"dataframe\">\n",
              "  <thead>\n",
              "    <tr style=\"text-align: right;\">\n",
              "      <th></th>\n",
              "      <th>encounter_id</th>\n",
              "      <th>patient_nbr</th>\n",
              "      <th>race</th>\n",
              "      <th>gender</th>\n",
              "      <th>age</th>\n",
              "      <th>admission_type_id</th>\n",
              "      <th>discharge_disposition_id</th>\n",
              "      <th>admission_source_id</th>\n",
              "      <th>time_in_hospital</th>\n",
              "      <th>num_lab_procedures</th>\n",
              "      <th>num_procedures</th>\n",
              "      <th>num_medications</th>\n",
              "      <th>number_outpatient</th>\n",
              "      <th>number_emergency</th>\n",
              "      <th>number_inpatient</th>\n",
              "      <th>diag_1</th>\n",
              "      <th>diag_2</th>\n",
              "      <th>diag_3</th>\n",
              "      <th>number_diagnoses</th>\n",
              "      <th>max_glu_serum</th>\n",
              "      <th>A1Cresult</th>\n",
              "      <th>metformin</th>\n",
              "      <th>repaglinide</th>\n",
              "      <th>nateglinide</th>\n",
              "      <th>chlorpropamide</th>\n",
              "      <th>glimepiride</th>\n",
              "      <th>acetohexamide</th>\n",
              "      <th>glipizide</th>\n",
              "      <th>glyburide</th>\n",
              "      <th>tolbutamide</th>\n",
              "      <th>pioglitazone</th>\n",
              "      <th>rosiglitazone</th>\n",
              "      <th>acarbose</th>\n",
              "      <th>miglitol</th>\n",
              "      <th>troglitazone</th>\n",
              "      <th>tolazamide</th>\n",
              "      <th>examide</th>\n",
              "      <th>citoglipton</th>\n",
              "      <th>insulin</th>\n",
              "      <th>glyburide-metformin</th>\n",
              "      <th>glipizide-metformin</th>\n",
              "      <th>glimepiride-pioglitazone</th>\n",
              "      <th>metformin-rosiglitazone</th>\n",
              "      <th>metformin-pioglitazone</th>\n",
              "      <th>change</th>\n",
              "      <th>diabetesMed</th>\n",
              "      <th>readmitted</th>\n",
              "    </tr>\n",
              "  </thead>\n",
              "  <tbody>\n",
              "    <tr>\n",
              "      <th>0</th>\n",
              "      <td>2278392</td>\n",
              "      <td>8222157</td>\n",
              "      <td>Caucasian</td>\n",
              "      <td>Female</td>\n",
              "      <td>[0-10)</td>\n",
              "      <td>6</td>\n",
              "      <td>25</td>\n",
              "      <td>1</td>\n",
              "      <td>1</td>\n",
              "      <td>41</td>\n",
              "      <td>0</td>\n",
              "      <td>1</td>\n",
              "      <td>0</td>\n",
              "      <td>0</td>\n",
              "      <td>0</td>\n",
              "      <td>250.83</td>\n",
              "      <td>NaN</td>\n",
              "      <td>NaN</td>\n",
              "      <td>1</td>\n",
              "      <td>None</td>\n",
              "      <td>None</td>\n",
              "      <td>No</td>\n",
              "      <td>No</td>\n",
              "      <td>No</td>\n",
              "      <td>No</td>\n",
              "      <td>No</td>\n",
              "      <td>No</td>\n",
              "      <td>No</td>\n",
              "      <td>No</td>\n",
              "      <td>No</td>\n",
              "      <td>No</td>\n",
              "      <td>No</td>\n",
              "      <td>No</td>\n",
              "      <td>No</td>\n",
              "      <td>No</td>\n",
              "      <td>No</td>\n",
              "      <td>No</td>\n",
              "      <td>No</td>\n",
              "      <td>No</td>\n",
              "      <td>No</td>\n",
              "      <td>No</td>\n",
              "      <td>No</td>\n",
              "      <td>No</td>\n",
              "      <td>No</td>\n",
              "      <td>No</td>\n",
              "      <td>No</td>\n",
              "      <td>NO</td>\n",
              "    </tr>\n",
              "    <tr>\n",
              "      <th>1</th>\n",
              "      <td>149190</td>\n",
              "      <td>55629189</td>\n",
              "      <td>Caucasian</td>\n",
              "      <td>Female</td>\n",
              "      <td>[10-20)</td>\n",
              "      <td>1</td>\n",
              "      <td>1</td>\n",
              "      <td>7</td>\n",
              "      <td>3</td>\n",
              "      <td>59</td>\n",
              "      <td>0</td>\n",
              "      <td>18</td>\n",
              "      <td>0</td>\n",
              "      <td>0</td>\n",
              "      <td>0</td>\n",
              "      <td>276</td>\n",
              "      <td>250.01</td>\n",
              "      <td>255</td>\n",
              "      <td>9</td>\n",
              "      <td>None</td>\n",
              "      <td>None</td>\n",
              "      <td>No</td>\n",
              "      <td>No</td>\n",
              "      <td>No</td>\n",
              "      <td>No</td>\n",
              "      <td>No</td>\n",
              "      <td>No</td>\n",
              "      <td>No</td>\n",
              "      <td>No</td>\n",
              "      <td>No</td>\n",
              "      <td>No</td>\n",
              "      <td>No</td>\n",
              "      <td>No</td>\n",
              "      <td>No</td>\n",
              "      <td>No</td>\n",
              "      <td>No</td>\n",
              "      <td>No</td>\n",
              "      <td>No</td>\n",
              "      <td>Up</td>\n",
              "      <td>No</td>\n",
              "      <td>No</td>\n",
              "      <td>No</td>\n",
              "      <td>No</td>\n",
              "      <td>No</td>\n",
              "      <td>Ch</td>\n",
              "      <td>Yes</td>\n",
              "      <td>&gt;30</td>\n",
              "    </tr>\n",
              "    <tr>\n",
              "      <th>2</th>\n",
              "      <td>64410</td>\n",
              "      <td>86047875</td>\n",
              "      <td>AfricanAmerican</td>\n",
              "      <td>Female</td>\n",
              "      <td>[20-30)</td>\n",
              "      <td>1</td>\n",
              "      <td>1</td>\n",
              "      <td>7</td>\n",
              "      <td>2</td>\n",
              "      <td>11</td>\n",
              "      <td>5</td>\n",
              "      <td>13</td>\n",
              "      <td>2</td>\n",
              "      <td>0</td>\n",
              "      <td>1</td>\n",
              "      <td>648</td>\n",
              "      <td>250</td>\n",
              "      <td>V27</td>\n",
              "      <td>6</td>\n",
              "      <td>None</td>\n",
              "      <td>None</td>\n",
              "      <td>No</td>\n",
              "      <td>No</td>\n",
              "      <td>No</td>\n",
              "      <td>No</td>\n",
              "      <td>No</td>\n",
              "      <td>No</td>\n",
              "      <td>Steady</td>\n",
              "      <td>No</td>\n",
              "      <td>No</td>\n",
              "      <td>No</td>\n",
              "      <td>No</td>\n",
              "      <td>No</td>\n",
              "      <td>No</td>\n",
              "      <td>No</td>\n",
              "      <td>No</td>\n",
              "      <td>No</td>\n",
              "      <td>No</td>\n",
              "      <td>No</td>\n",
              "      <td>No</td>\n",
              "      <td>No</td>\n",
              "      <td>No</td>\n",
              "      <td>No</td>\n",
              "      <td>No</td>\n",
              "      <td>No</td>\n",
              "      <td>Yes</td>\n",
              "      <td>NO</td>\n",
              "    </tr>\n",
              "    <tr>\n",
              "      <th>3</th>\n",
              "      <td>500364</td>\n",
              "      <td>82442376</td>\n",
              "      <td>Caucasian</td>\n",
              "      <td>Male</td>\n",
              "      <td>[30-40)</td>\n",
              "      <td>1</td>\n",
              "      <td>1</td>\n",
              "      <td>7</td>\n",
              "      <td>2</td>\n",
              "      <td>44</td>\n",
              "      <td>1</td>\n",
              "      <td>16</td>\n",
              "      <td>0</td>\n",
              "      <td>0</td>\n",
              "      <td>0</td>\n",
              "      <td>8</td>\n",
              "      <td>250.43</td>\n",
              "      <td>403</td>\n",
              "      <td>7</td>\n",
              "      <td>None</td>\n",
              "      <td>None</td>\n",
              "      <td>No</td>\n",
              "      <td>No</td>\n",
              "      <td>No</td>\n",
              "      <td>No</td>\n",
              "      <td>No</td>\n",
              "      <td>No</td>\n",
              "      <td>No</td>\n",
              "      <td>No</td>\n",
              "      <td>No</td>\n",
              "      <td>No</td>\n",
              "      <td>No</td>\n",
              "      <td>No</td>\n",
              "      <td>No</td>\n",
              "      <td>No</td>\n",
              "      <td>No</td>\n",
              "      <td>No</td>\n",
              "      <td>No</td>\n",
              "      <td>Up</td>\n",
              "      <td>No</td>\n",
              "      <td>No</td>\n",
              "      <td>No</td>\n",
              "      <td>No</td>\n",
              "      <td>No</td>\n",
              "      <td>Ch</td>\n",
              "      <td>Yes</td>\n",
              "      <td>NO</td>\n",
              "    </tr>\n",
              "    <tr>\n",
              "      <th>4</th>\n",
              "      <td>16680</td>\n",
              "      <td>42519267</td>\n",
              "      <td>Caucasian</td>\n",
              "      <td>Male</td>\n",
              "      <td>[40-50)</td>\n",
              "      <td>1</td>\n",
              "      <td>1</td>\n",
              "      <td>7</td>\n",
              "      <td>1</td>\n",
              "      <td>51</td>\n",
              "      <td>0</td>\n",
              "      <td>8</td>\n",
              "      <td>0</td>\n",
              "      <td>0</td>\n",
              "      <td>0</td>\n",
              "      <td>197</td>\n",
              "      <td>157</td>\n",
              "      <td>250</td>\n",
              "      <td>5</td>\n",
              "      <td>None</td>\n",
              "      <td>None</td>\n",
              "      <td>No</td>\n",
              "      <td>No</td>\n",
              "      <td>No</td>\n",
              "      <td>No</td>\n",
              "      <td>No</td>\n",
              "      <td>No</td>\n",
              "      <td>Steady</td>\n",
              "      <td>No</td>\n",
              "      <td>No</td>\n",
              "      <td>No</td>\n",
              "      <td>No</td>\n",
              "      <td>No</td>\n",
              "      <td>No</td>\n",
              "      <td>No</td>\n",
              "      <td>No</td>\n",
              "      <td>No</td>\n",
              "      <td>No</td>\n",
              "      <td>Steady</td>\n",
              "      <td>No</td>\n",
              "      <td>No</td>\n",
              "      <td>No</td>\n",
              "      <td>No</td>\n",
              "      <td>No</td>\n",
              "      <td>Ch</td>\n",
              "      <td>Yes</td>\n",
              "      <td>NO</td>\n",
              "    </tr>\n",
              "  </tbody>\n",
              "</table>\n",
              "</div>"
            ],
            "text/plain": [
              "   encounter_id  patient_nbr             race  ... change diabetesMed  readmitted\n",
              "0       2278392      8222157        Caucasian  ...     No          No          NO\n",
              "1        149190     55629189        Caucasian  ...     Ch         Yes         >30\n",
              "2         64410     86047875  AfricanAmerican  ...     No         Yes          NO\n",
              "3        500364     82442376        Caucasian  ...     Ch         Yes          NO\n",
              "4         16680     42519267        Caucasian  ...     Ch         Yes          NO\n",
              "\n",
              "[5 rows x 47 columns]"
            ]
          },
          "metadata": {
            "tags": []
          },
          "execution_count": 30
        }
      ]
    },
    {
      "cell_type": "markdown",
      "metadata": {
        "id": "wSbVDxRz5eLX",
        "colab_type": "text"
      },
      "source": [
        "So, not the '?' is replced with 'NaN'"
      ]
    },
    {
      "cell_type": "markdown",
      "metadata": {
        "id": "PiQJKnL16Jw-",
        "colab_type": "text"
      },
      "source": [
        "Now, delete the rows that has 'NaN'. It is going to delete the rows that has either one 'NaN' value or more in the columns diag_1, diag_2,  and diag_3 as they are only the columns has 'NaN' value."
      ]
    },
    {
      "cell_type": "code",
      "metadata": {
        "id": "70UM2Lq55xKW",
        "colab_type": "code",
        "colab": {}
      },
      "source": [
        "df.dropna(axis=0,inplace=True)"
      ],
      "execution_count": 0,
      "outputs": []
    },
    {
      "cell_type": "markdown",
      "metadata": {
        "id": "2sVOMkjD7FWK",
        "colab_type": "text"
      },
      "source": [
        "Check the result after droping 'NaN'"
      ]
    },
    {
      "cell_type": "code",
      "metadata": {
        "id": "n2TZWjWx582a",
        "colab_type": "code",
        "outputId": "6eac69af-9480-4060-8757-e5b3f3799520",
        "colab": {
          "base_uri": "https://localhost:8080/",
          "height": 34
        }
      },
      "source": [
        "df.shape"
      ],
      "execution_count": 0,
      "outputs": [
        {
          "output_type": "execute_result",
          "data": {
            "text/plain": [
              "(100244, 47)"
            ]
          },
          "metadata": {
            "tags": []
          },
          "execution_count": 32
        }
      ]
    },
    {
      "cell_type": "code",
      "metadata": {
        "id": "hrMfve4f6B6T",
        "colab_type": "code",
        "outputId": "ccd0b37f-0b75-4eda-d9f0-5d905f4013f0",
        "colab": {
          "base_uri": "https://localhost:8080/",
          "height": 316
        }
      },
      "source": [
        "df.head()"
      ],
      "execution_count": 0,
      "outputs": [
        {
          "output_type": "execute_result",
          "data": {
            "text/html": [
              "<div>\n",
              "<style scoped>\n",
              "    .dataframe tbody tr th:only-of-type {\n",
              "        vertical-align: middle;\n",
              "    }\n",
              "\n",
              "    .dataframe tbody tr th {\n",
              "        vertical-align: top;\n",
              "    }\n",
              "\n",
              "    .dataframe thead th {\n",
              "        text-align: right;\n",
              "    }\n",
              "</style>\n",
              "<table border=\"1\" class=\"dataframe\">\n",
              "  <thead>\n",
              "    <tr style=\"text-align: right;\">\n",
              "      <th></th>\n",
              "      <th>encounter_id</th>\n",
              "      <th>patient_nbr</th>\n",
              "      <th>race</th>\n",
              "      <th>gender</th>\n",
              "      <th>age</th>\n",
              "      <th>admission_type_id</th>\n",
              "      <th>discharge_disposition_id</th>\n",
              "      <th>admission_source_id</th>\n",
              "      <th>time_in_hospital</th>\n",
              "      <th>num_lab_procedures</th>\n",
              "      <th>num_procedures</th>\n",
              "      <th>num_medications</th>\n",
              "      <th>number_outpatient</th>\n",
              "      <th>number_emergency</th>\n",
              "      <th>number_inpatient</th>\n",
              "      <th>diag_1</th>\n",
              "      <th>diag_2</th>\n",
              "      <th>diag_3</th>\n",
              "      <th>number_diagnoses</th>\n",
              "      <th>max_glu_serum</th>\n",
              "      <th>A1Cresult</th>\n",
              "      <th>metformin</th>\n",
              "      <th>repaglinide</th>\n",
              "      <th>nateglinide</th>\n",
              "      <th>chlorpropamide</th>\n",
              "      <th>glimepiride</th>\n",
              "      <th>acetohexamide</th>\n",
              "      <th>glipizide</th>\n",
              "      <th>glyburide</th>\n",
              "      <th>tolbutamide</th>\n",
              "      <th>pioglitazone</th>\n",
              "      <th>rosiglitazone</th>\n",
              "      <th>acarbose</th>\n",
              "      <th>miglitol</th>\n",
              "      <th>troglitazone</th>\n",
              "      <th>tolazamide</th>\n",
              "      <th>examide</th>\n",
              "      <th>citoglipton</th>\n",
              "      <th>insulin</th>\n",
              "      <th>glyburide-metformin</th>\n",
              "      <th>glipizide-metformin</th>\n",
              "      <th>glimepiride-pioglitazone</th>\n",
              "      <th>metformin-rosiglitazone</th>\n",
              "      <th>metformin-pioglitazone</th>\n",
              "      <th>change</th>\n",
              "      <th>diabetesMed</th>\n",
              "      <th>readmitted</th>\n",
              "    </tr>\n",
              "  </thead>\n",
              "  <tbody>\n",
              "    <tr>\n",
              "      <th>1</th>\n",
              "      <td>149190</td>\n",
              "      <td>55629189</td>\n",
              "      <td>Caucasian</td>\n",
              "      <td>Female</td>\n",
              "      <td>[10-20)</td>\n",
              "      <td>1</td>\n",
              "      <td>1</td>\n",
              "      <td>7</td>\n",
              "      <td>3</td>\n",
              "      <td>59</td>\n",
              "      <td>0</td>\n",
              "      <td>18</td>\n",
              "      <td>0</td>\n",
              "      <td>0</td>\n",
              "      <td>0</td>\n",
              "      <td>276</td>\n",
              "      <td>250.01</td>\n",
              "      <td>255</td>\n",
              "      <td>9</td>\n",
              "      <td>None</td>\n",
              "      <td>None</td>\n",
              "      <td>No</td>\n",
              "      <td>No</td>\n",
              "      <td>No</td>\n",
              "      <td>No</td>\n",
              "      <td>No</td>\n",
              "      <td>No</td>\n",
              "      <td>No</td>\n",
              "      <td>No</td>\n",
              "      <td>No</td>\n",
              "      <td>No</td>\n",
              "      <td>No</td>\n",
              "      <td>No</td>\n",
              "      <td>No</td>\n",
              "      <td>No</td>\n",
              "      <td>No</td>\n",
              "      <td>No</td>\n",
              "      <td>No</td>\n",
              "      <td>Up</td>\n",
              "      <td>No</td>\n",
              "      <td>No</td>\n",
              "      <td>No</td>\n",
              "      <td>No</td>\n",
              "      <td>No</td>\n",
              "      <td>Ch</td>\n",
              "      <td>Yes</td>\n",
              "      <td>&gt;30</td>\n",
              "    </tr>\n",
              "    <tr>\n",
              "      <th>2</th>\n",
              "      <td>64410</td>\n",
              "      <td>86047875</td>\n",
              "      <td>AfricanAmerican</td>\n",
              "      <td>Female</td>\n",
              "      <td>[20-30)</td>\n",
              "      <td>1</td>\n",
              "      <td>1</td>\n",
              "      <td>7</td>\n",
              "      <td>2</td>\n",
              "      <td>11</td>\n",
              "      <td>5</td>\n",
              "      <td>13</td>\n",
              "      <td>2</td>\n",
              "      <td>0</td>\n",
              "      <td>1</td>\n",
              "      <td>648</td>\n",
              "      <td>250</td>\n",
              "      <td>V27</td>\n",
              "      <td>6</td>\n",
              "      <td>None</td>\n",
              "      <td>None</td>\n",
              "      <td>No</td>\n",
              "      <td>No</td>\n",
              "      <td>No</td>\n",
              "      <td>No</td>\n",
              "      <td>No</td>\n",
              "      <td>No</td>\n",
              "      <td>Steady</td>\n",
              "      <td>No</td>\n",
              "      <td>No</td>\n",
              "      <td>No</td>\n",
              "      <td>No</td>\n",
              "      <td>No</td>\n",
              "      <td>No</td>\n",
              "      <td>No</td>\n",
              "      <td>No</td>\n",
              "      <td>No</td>\n",
              "      <td>No</td>\n",
              "      <td>No</td>\n",
              "      <td>No</td>\n",
              "      <td>No</td>\n",
              "      <td>No</td>\n",
              "      <td>No</td>\n",
              "      <td>No</td>\n",
              "      <td>No</td>\n",
              "      <td>Yes</td>\n",
              "      <td>NO</td>\n",
              "    </tr>\n",
              "    <tr>\n",
              "      <th>3</th>\n",
              "      <td>500364</td>\n",
              "      <td>82442376</td>\n",
              "      <td>Caucasian</td>\n",
              "      <td>Male</td>\n",
              "      <td>[30-40)</td>\n",
              "      <td>1</td>\n",
              "      <td>1</td>\n",
              "      <td>7</td>\n",
              "      <td>2</td>\n",
              "      <td>44</td>\n",
              "      <td>1</td>\n",
              "      <td>16</td>\n",
              "      <td>0</td>\n",
              "      <td>0</td>\n",
              "      <td>0</td>\n",
              "      <td>8</td>\n",
              "      <td>250.43</td>\n",
              "      <td>403</td>\n",
              "      <td>7</td>\n",
              "      <td>None</td>\n",
              "      <td>None</td>\n",
              "      <td>No</td>\n",
              "      <td>No</td>\n",
              "      <td>No</td>\n",
              "      <td>No</td>\n",
              "      <td>No</td>\n",
              "      <td>No</td>\n",
              "      <td>No</td>\n",
              "      <td>No</td>\n",
              "      <td>No</td>\n",
              "      <td>No</td>\n",
              "      <td>No</td>\n",
              "      <td>No</td>\n",
              "      <td>No</td>\n",
              "      <td>No</td>\n",
              "      <td>No</td>\n",
              "      <td>No</td>\n",
              "      <td>No</td>\n",
              "      <td>Up</td>\n",
              "      <td>No</td>\n",
              "      <td>No</td>\n",
              "      <td>No</td>\n",
              "      <td>No</td>\n",
              "      <td>No</td>\n",
              "      <td>Ch</td>\n",
              "      <td>Yes</td>\n",
              "      <td>NO</td>\n",
              "    </tr>\n",
              "    <tr>\n",
              "      <th>4</th>\n",
              "      <td>16680</td>\n",
              "      <td>42519267</td>\n",
              "      <td>Caucasian</td>\n",
              "      <td>Male</td>\n",
              "      <td>[40-50)</td>\n",
              "      <td>1</td>\n",
              "      <td>1</td>\n",
              "      <td>7</td>\n",
              "      <td>1</td>\n",
              "      <td>51</td>\n",
              "      <td>0</td>\n",
              "      <td>8</td>\n",
              "      <td>0</td>\n",
              "      <td>0</td>\n",
              "      <td>0</td>\n",
              "      <td>197</td>\n",
              "      <td>157</td>\n",
              "      <td>250</td>\n",
              "      <td>5</td>\n",
              "      <td>None</td>\n",
              "      <td>None</td>\n",
              "      <td>No</td>\n",
              "      <td>No</td>\n",
              "      <td>No</td>\n",
              "      <td>No</td>\n",
              "      <td>No</td>\n",
              "      <td>No</td>\n",
              "      <td>Steady</td>\n",
              "      <td>No</td>\n",
              "      <td>No</td>\n",
              "      <td>No</td>\n",
              "      <td>No</td>\n",
              "      <td>No</td>\n",
              "      <td>No</td>\n",
              "      <td>No</td>\n",
              "      <td>No</td>\n",
              "      <td>No</td>\n",
              "      <td>No</td>\n",
              "      <td>Steady</td>\n",
              "      <td>No</td>\n",
              "      <td>No</td>\n",
              "      <td>No</td>\n",
              "      <td>No</td>\n",
              "      <td>No</td>\n",
              "      <td>Ch</td>\n",
              "      <td>Yes</td>\n",
              "      <td>NO</td>\n",
              "    </tr>\n",
              "    <tr>\n",
              "      <th>5</th>\n",
              "      <td>35754</td>\n",
              "      <td>82637451</td>\n",
              "      <td>Caucasian</td>\n",
              "      <td>Male</td>\n",
              "      <td>[50-60)</td>\n",
              "      <td>2</td>\n",
              "      <td>1</td>\n",
              "      <td>2</td>\n",
              "      <td>3</td>\n",
              "      <td>31</td>\n",
              "      <td>6</td>\n",
              "      <td>16</td>\n",
              "      <td>0</td>\n",
              "      <td>0</td>\n",
              "      <td>0</td>\n",
              "      <td>414</td>\n",
              "      <td>411</td>\n",
              "      <td>250</td>\n",
              "      <td>9</td>\n",
              "      <td>None</td>\n",
              "      <td>None</td>\n",
              "      <td>No</td>\n",
              "      <td>No</td>\n",
              "      <td>No</td>\n",
              "      <td>No</td>\n",
              "      <td>No</td>\n",
              "      <td>No</td>\n",
              "      <td>No</td>\n",
              "      <td>No</td>\n",
              "      <td>No</td>\n",
              "      <td>No</td>\n",
              "      <td>No</td>\n",
              "      <td>No</td>\n",
              "      <td>No</td>\n",
              "      <td>No</td>\n",
              "      <td>No</td>\n",
              "      <td>No</td>\n",
              "      <td>No</td>\n",
              "      <td>Steady</td>\n",
              "      <td>No</td>\n",
              "      <td>No</td>\n",
              "      <td>No</td>\n",
              "      <td>No</td>\n",
              "      <td>No</td>\n",
              "      <td>No</td>\n",
              "      <td>Yes</td>\n",
              "      <td>&gt;30</td>\n",
              "    </tr>\n",
              "  </tbody>\n",
              "</table>\n",
              "</div>"
            ],
            "text/plain": [
              "   encounter_id  patient_nbr             race  ... change diabetesMed  readmitted\n",
              "1        149190     55629189        Caucasian  ...     Ch         Yes         >30\n",
              "2         64410     86047875  AfricanAmerican  ...     No         Yes          NO\n",
              "3        500364     82442376        Caucasian  ...     Ch         Yes          NO\n",
              "4         16680     42519267        Caucasian  ...     Ch         Yes          NO\n",
              "5         35754     82637451        Caucasian  ...     No         Yes         >30\n",
              "\n",
              "[5 rows x 47 columns]"
            ]
          },
          "metadata": {
            "tags": []
          },
          "execution_count": 33
        }
      ]
    },
    {
      "cell_type": "markdown",
      "metadata": {
        "id": "vRNE4Xnu6UkP",
        "colab_type": "text"
      },
      "source": [
        "Check if there is a missing data"
      ]
    },
    {
      "cell_type": "code",
      "metadata": {
        "id": "u4ZILIq26Qb1",
        "colab_type": "code",
        "outputId": "53225854-b92c-47d4-ede2-816a3ff36b61",
        "colab": {
          "base_uri": "https://localhost:8080/",
          "height": 862
        }
      },
      "source": [
        "df.isna().sum()"
      ],
      "execution_count": 0,
      "outputs": [
        {
          "output_type": "execute_result",
          "data": {
            "text/plain": [
              "encounter_id                0\n",
              "patient_nbr                 0\n",
              "race                        0\n",
              "gender                      0\n",
              "age                         0\n",
              "admission_type_id           0\n",
              "discharge_disposition_id    0\n",
              "admission_source_id         0\n",
              "time_in_hospital            0\n",
              "num_lab_procedures          0\n",
              "num_procedures              0\n",
              "num_medications             0\n",
              "number_outpatient           0\n",
              "number_emergency            0\n",
              "number_inpatient            0\n",
              "diag_1                      0\n",
              "diag_2                      0\n",
              "diag_3                      0\n",
              "number_diagnoses            0\n",
              "max_glu_serum               0\n",
              "A1Cresult                   0\n",
              "metformin                   0\n",
              "repaglinide                 0\n",
              "nateglinide                 0\n",
              "chlorpropamide              0\n",
              "glimepiride                 0\n",
              "acetohexamide               0\n",
              "glipizide                   0\n",
              "glyburide                   0\n",
              "tolbutamide                 0\n",
              "pioglitazone                0\n",
              "rosiglitazone               0\n",
              "acarbose                    0\n",
              "miglitol                    0\n",
              "troglitazone                0\n",
              "tolazamide                  0\n",
              "examide                     0\n",
              "citoglipton                 0\n",
              "insulin                     0\n",
              "glyburide-metformin         0\n",
              "glipizide-metformin         0\n",
              "glimepiride-pioglitazone    0\n",
              "metformin-rosiglitazone     0\n",
              "metformin-pioglitazone      0\n",
              "change                      0\n",
              "diabetesMed                 0\n",
              "readmitted                  0\n",
              "dtype: int64"
            ]
          },
          "metadata": {
            "tags": []
          },
          "execution_count": 34
        }
      ]
    },
    {
      "cell_type": "markdown",
      "metadata": {
        "id": "7-TDiWNL6egl",
        "colab_type": "text"
      },
      "source": [
        "So, there is no missing data."
      ]
    },
    {
      "cell_type": "markdown",
      "metadata": {
        "id": "GIrkWroe_HV2",
        "colab_type": "text"
      },
      "source": [
        "Now, the ids columns are going to be deleted as there are just ids and cannot affect the predection accuracy. Also, to reduce the data complexity."
      ]
    },
    {
      "cell_type": "code",
      "metadata": {
        "id": "JmqkkjtC6ddi",
        "colab_type": "code",
        "colab": {}
      },
      "source": [
        "df.drop({'encounter_id','patient_nbr','admission_type_id','discharge_disposition_id','admission_source_id'},axis=1,inplace=True)"
      ],
      "execution_count": 0,
      "outputs": []
    },
    {
      "cell_type": "code",
      "metadata": {
        "id": "RjjqvcBj_6mI",
        "colab_type": "code",
        "outputId": "29ba0685-5b72-48fa-9168-b9c3f957c856",
        "colab": {
          "base_uri": "https://localhost:8080/",
          "height": 34
        }
      },
      "source": [
        "df.shape"
      ],
      "execution_count": 0,
      "outputs": [
        {
          "output_type": "execute_result",
          "data": {
            "text/plain": [
              "(100244, 42)"
            ]
          },
          "metadata": {
            "tags": []
          },
          "execution_count": 36
        }
      ]
    },
    {
      "cell_type": "markdown",
      "metadata": {
        "id": "0Kx5OXu0__Vf",
        "colab_type": "text"
      },
      "source": [
        "the df not reduced from 47 columns to 42 after deleting the ids columns"
      ]
    },
    {
      "cell_type": "markdown",
      "metadata": {
        "id": "9G2OL9W_W3SN",
        "colab_type": "text"
      },
      "source": [
        "Now, lebel encode the data object columns only."
      ]
    },
    {
      "cell_type": "code",
      "metadata": {
        "id": "dQhyHTNOAnTG",
        "colab_type": "code",
        "outputId": "1b715103-91b1-4502-dc00-9f0cdd93c8a7",
        "colab": {
          "base_uri": "https://localhost:8080/",
          "height": 175
        }
      },
      "source": [
        "columns_obj=df.select_dtypes(object).columns\n",
        "columns_obj"
      ],
      "execution_count": 0,
      "outputs": [
        {
          "output_type": "execute_result",
          "data": {
            "text/plain": [
              "Index(['race', 'gender', 'age', 'diag_1', 'diag_2', 'diag_3', 'max_glu_serum',\n",
              "       'A1Cresult', 'metformin', 'repaglinide', 'nateglinide',\n",
              "       'chlorpropamide', 'glimepiride', 'acetohexamide', 'glipizide',\n",
              "       'glyburide', 'tolbutamide', 'pioglitazone', 'rosiglitazone', 'acarbose',\n",
              "       'miglitol', 'troglitazone', 'tolazamide', 'examide', 'citoglipton',\n",
              "       'insulin', 'glyburide-metformin', 'glipizide-metformin',\n",
              "       'glimepiride-pioglitazone', 'metformin-rosiglitazone',\n",
              "       'metformin-pioglitazone', 'change', 'diabetesMed', 'readmitted'],\n",
              "      dtype='object')"
            ]
          },
          "metadata": {
            "tags": []
          },
          "execution_count": 37
        }
      ]
    },
    {
      "cell_type": "code",
      "metadata": {
        "id": "YUZGItamGi_a",
        "colab_type": "code",
        "outputId": "4bd22134-83e0-466f-d69f-f4cf94546216",
        "colab": {
          "base_uri": "https://localhost:8080/",
          "height": 34
        }
      },
      "source": [
        "attr_their_cat = {}\n",
        "la = LabelEncoder()\n",
        "for column in columns_obj:\n",
        " df[column] = la.fit_transform(df[column])\n",
        " attr_their_cat[column] = la.classes_\n",
        "df.shape"
      ],
      "execution_count": 0,
      "outputs": [
        {
          "output_type": "execute_result",
          "data": {
            "text/plain": [
              "(100244, 42)"
            ]
          },
          "metadata": {
            "tags": []
          },
          "execution_count": 38
        }
      ]
    },
    {
      "cell_type": "code",
      "metadata": {
        "id": "15XSfv7RY0KE",
        "colab_type": "code",
        "outputId": "629f34ef-c014-43a4-a252-a9be70b403d0",
        "colab": {
          "base_uri": "https://localhost:8080/",
          "height": 1000
        }
      },
      "source": [
        "attr_their_cat"
      ],
      "execution_count": 0,
      "outputs": [
        {
          "output_type": "execute_result",
          "data": {
            "text/plain": [
              "{'A1Cresult': array(['>7', '>8', 'None', 'Norm'], dtype=object),\n",
              " 'acarbose': array(['Down', 'No', 'Steady', 'Up'], dtype=object),\n",
              " 'acetohexamide': array(['No', 'Steady'], dtype=object),\n",
              " 'age': array(['[0-10)', '[10-20)', '[20-30)', '[30-40)', '[40-50)', '[50-60)',\n",
              "        '[60-70)', '[70-80)', '[80-90)', '[90-100)'], dtype=object),\n",
              " 'change': array(['Ch', 'No'], dtype=object),\n",
              " 'chlorpropamide': array(['Down', 'No', 'Steady', 'Up'], dtype=object),\n",
              " 'citoglipton': array(['No'], dtype=object),\n",
              " 'diabetesMed': array(['No', 'Yes'], dtype=object),\n",
              " 'diag_1': array(['10', '11', '110', '112', '114', '115', '117', '131', '133', '135',\n",
              "        '136', '141', '142', '143', '145', '146', '147', '148', '149',\n",
              "        '150', '151', '152', '153', '154', '155', '156', '157', '158',\n",
              "        '160', '161', '162', '163', '164', '170', '171', '172', '173',\n",
              "        '174', '175', '179', '180', '182', '183', '184', '185', '187',\n",
              "        '188', '189', '191', '192', '193', '194', '195', '196', '197',\n",
              "        '198', '199', '200', '201', '202', '203', '204', '205', '207',\n",
              "        '208', '210', '211', '212', '214', '215', '216', '217', '218',\n",
              "        '219', '220', '223', '225', '226', '227', '228', '229', '23',\n",
              "        '230', '233', '235', '236', '237', '238', '239', '240', '241',\n",
              "        '242', '244', '245', '246', '250', '250.01', '250.02', '250.03',\n",
              "        '250.1', '250.11', '250.12', '250.13', '250.2', '250.21', '250.22',\n",
              "        '250.23', '250.3', '250.31', '250.32', '250.33', '250.4', '250.41',\n",
              "        '250.42', '250.43', '250.5', '250.51', '250.52', '250.53', '250.6',\n",
              "        '250.7', '250.8', '250.81', '250.82', '250.83', '250.9', '250.91',\n",
              "        '250.92', '250.93', '251', '252', '253', '255', '261', '262',\n",
              "        '263', '266', '27', '271', '272', '273', '274', '275', '276',\n",
              "        '277', '278', '279', '280', '281', '282', '283', '284', '285',\n",
              "        '286', '287', '288', '289', '290', '291', '292', '293', '294',\n",
              "        '295', '296', '297', '298', '299', '3', '300', '301', '303', '304',\n",
              "        '305', '306', '307', '308', '309', '31', '310', '311', '312',\n",
              "        '314', '318', '320', '322', '323', '324', '325', '327', '331',\n",
              "        '332', '333', '334', '335', '336', '337', '338', '34', '340',\n",
              "        '341', '342', '344', '345', '346', '347', '348', '349', '35',\n",
              "        '350', '351', '352', '353', '354', '355', '356', '357', '358',\n",
              "        '359', '36', '360', '361', '362', '363', '365', '366', '368',\n",
              "        '369', '370', '372', '373', '374', '375', '376', '377', '378',\n",
              "        '379', '38', '380', '381', '382', '383', '384', '385', '386',\n",
              "        '388', '389', '39', '391', '394', '395', '396', '397', '398',\n",
              "        '401', '402', '403', '404', '405', '41', '410', '411', '412',\n",
              "        '413', '414', '415', '416', '417', '42', '420', '421', '422',\n",
              "        '423', '424', '425', '426', '427', '428', '429', '430', '431',\n",
              "        '432', '433', '434', '435', '436', '437', '438', '440', '441',\n",
              "        '442', '443', '444', '445', '446', '447', '448', '451', '452',\n",
              "        '453', '454', '455', '456', '457', '458', '459', '461', '462',\n",
              "        '463', '464', '465', '466', '47', '470', '471', '473', '474',\n",
              "        '475', '477', '478', '48', '480', '481', '482', '483', '485',\n",
              "        '486', '487', '49', '490', '491', '492', '493', '494', '495',\n",
              "        '496', '5', '500', '501', '506', '507', '508', '510', '511', '512',\n",
              "        '513', '514', '515', '516', '518', '519', '52', '521', '522',\n",
              "        '523', '524', '526', '527', '528', '529', '53', '530', '531',\n",
              "        '532', '533', '534', '535', '536', '537', '54', '540', '541',\n",
              "        '542', '543', '550', '551', '552', '553', '555', '556', '557',\n",
              "        '558', '560', '562', '564', '565', '566', '567', '568', '569',\n",
              "        '57', '570', '571', '572', '573', '574', '575', '576', '577',\n",
              "        '578', '579', '58', '580', '581', '582', '583', '584', '585',\n",
              "        '586', '588', '590', '591', '592', '593', '594', '595', '596',\n",
              "        '598', '599', '600', '601', '602', '603', '604', '605', '607',\n",
              "        '608', '61', '610', '611', '614', '615', '616', '617', '618',\n",
              "        '619', '620', '621', '622', '623', '625', '626', '627', '632',\n",
              "        '633', '634', '637', '640', '641', '642', '643', '644', '645',\n",
              "        '646', '647', '648', '649', '652', '653', '654', '655', '656',\n",
              "        '657', '658', '659', '66', '660', '661', '663', '664', '665',\n",
              "        '669', '671', '674', '680', '681', '682', '683', '684', '685',\n",
              "        '686', '690', '691', '692', '693', '694', '695', '696', '698', '7',\n",
              "        '70', '700', '703', '704', '705', '706', '707', '708', '709',\n",
              "        '710', '711', '714', '715', '716', '717', '718', '719', '720',\n",
              "        '721', '722', '723', '724', '725', '726', '727', '728', '729',\n",
              "        '730', '731', '732', '733', '734', '735', '736', '737', '738',\n",
              "        '745', '746', '747', '75', '751', '753', '756', '759', '78', '780',\n",
              "        '781', '782', '783', '784', '785', '786', '787', '788', '789',\n",
              "        '79', '790', '791', '792', '793', '794', '795', '796', '797',\n",
              "        '799', '8', '800', '801', '802', '803', '804', '805', '806', '807',\n",
              "        '808', '810', '812', '813', '814', '815', '816', '817', '82',\n",
              "        '820', '821', '822', '823', '824', '825', '826', '827', '831',\n",
              "        '832', '833', '834', '835', '836', '837', '838', '839', '84',\n",
              "        '840', '842', '843', '844', '845', '846', '847', '848', '850',\n",
              "        '851', '852', '853', '854', '860', '861', '862', '863', '864',\n",
              "        '865', '866', '867', '868', '870', '871', '873', '875', '878',\n",
              "        '879', '88', '880', '881', '882', '883', '885', '886', '890',\n",
              "        '891', '892', '893', '895', '897', '9', '903', '904', '906', '911',\n",
              "        '913', '914', '915', '916', '917', '919', '920', '921', '922',\n",
              "        '923', '924', '928', '933', '934', '935', '936', '939', '94',\n",
              "        '941', '942', '944', '945', '952', '955', '957', '958', '959',\n",
              "        '962', '963', '964', '965', '966', '967', '968', '969', '97',\n",
              "        '970', '971', '972', '973', '974', '975', '976', '977', '98',\n",
              "        '980', '982', '983', '986', '987', '988', '989', '990', '991',\n",
              "        '992', '994', '995', '996', '997', '998', '999', 'E909', 'V07',\n",
              "        'V25', 'V26', 'V43', 'V45', 'V51', 'V53', 'V54', 'V55', 'V56',\n",
              "        'V57', 'V58', 'V60', 'V63', 'V66', 'V67', 'V71'], dtype=object),\n",
              " 'diag_2': array(['11', '110', '112', '114', '115', '117', '123', '130', '131',\n",
              "        '135', '136', '137', '138', '140', '141', '145', '150', '151',\n",
              "        '152', '153', '154', '155', '156', '157', '162', '163', '164',\n",
              "        '171', '172', '173', '174', '179', '180', '182', '183', '185',\n",
              "        '186', '188', '189', '191', '192', '193', '195', '196', '197',\n",
              "        '198', '199', '200', '201', '202', '203', '204', '205', '208',\n",
              "        '211', '212', '214', '215', '217', '218', '220', '223', '225',\n",
              "        '226', '227', '228', '232', '233', '235', '238', '239', '240',\n",
              "        '241', '242', '244', '245', '246', '250', '250.01', '250.02',\n",
              "        '250.03', '250.1', '250.11', '250.12', '250.13', '250.2', '250.21',\n",
              "        '250.22', '250.23', '250.3', '250.31', '250.32', '250.33', '250.4',\n",
              "        '250.41', '250.42', '250.43', '250.5', '250.51', '250.52',\n",
              "        '250.53', '250.6', '250.7', '250.8', '250.81', '250.82', '250.83',\n",
              "        '250.9', '250.91', '250.92', '250.93', '251', '252', '253', '255',\n",
              "        '256', '258', '259', '260', '261', '262', '263', '266', '268',\n",
              "        '269', '27', '270', '271', '272', '273', '274', '275', '276',\n",
              "        '277', '278', '279', '280', '281', '282', '283', '284', '285',\n",
              "        '286', '287', '288', '289', '290', '291', '292', '293', '294',\n",
              "        '295', '296', '297', '298', '299', '300', '301', '302', '303',\n",
              "        '304', '305', '306', '307', '308', '309', '31', '310', '311',\n",
              "        '312', '314', '316', '317', '318', '319', '320', '322', '323',\n",
              "        '324', '325', '327', '331', '332', '333', '335', '336', '337',\n",
              "        '338', '34', '340', '341', '342', '343', '344', '345', '346',\n",
              "        '347', '348', '349', '35', '350', '351', '352', '353', '354',\n",
              "        '355', '356', '357', '358', '359', '360', '362', '364', '365',\n",
              "        '366', '368', '369', '372', '373', '374', '376', '377', '378',\n",
              "        '379', '38', '380', '381', '382', '383', '386', '388', '389',\n",
              "        '394', '395', '396', '397', '398', '40', '401', '402', '403',\n",
              "        '404', '405', '41', '410', '411', '412', '413', '414', '415',\n",
              "        '416', '42', '420', '421', '422', '423', '424', '425', '426',\n",
              "        '427', '428', '429', '430', '431', '432', '433', '434', '435',\n",
              "        '436', '437', '438', '440', '441', '442', '443', '444', '446',\n",
              "        '447', '448', '451', '452', '453', '454', '455', '456', '457',\n",
              "        '458', '459', '46', '460', '461', '462', '463', '464', '465',\n",
              "        '466', '470', '472', '473', '474', '475', '477', '478', '480',\n",
              "        '481', '482', '483', '484', '485', '486', '487', '490', '491',\n",
              "        '492', '493', '494', '495', '496', '5', '500', '501', '506', '507',\n",
              "        '508', '510', '511', '512', '513', '514', '515', '516', '517',\n",
              "        '518', '519', '52', '520', '521', '522', '523', '524', '527',\n",
              "        '528', '529', '53', '530', '531', '532', '533', '534', '535',\n",
              "        '536', '537', '54', '540', '542', '543', '550', '552', '553',\n",
              "        '555', '556', '557', '558', '560', '562', '564', '565', '566',\n",
              "        '567', '568', '569', '570', '571', '572', '573', '574', '575',\n",
              "        '576', '577', '578', '579', '580', '581', '583', '584', '585',\n",
              "        '586', '588', '590', '591', '592', '593', '594', '595', '596',\n",
              "        '598', '599', '600', '601', '602', '603', '604', '607', '608',\n",
              "        '610', '611', '614', '615', '616', '617', '618', '619', '620',\n",
              "        '621', '622', '623', '625', '626', '627', '634', '641', '642',\n",
              "        '644', '645', '646', '647', '648', '649', '652', '654', '656',\n",
              "        '658', '659', '66', '661', '663', '664', '665', '670', '674',\n",
              "        '680', '681', '682', '683', '684', '685', '686', '691', '692',\n",
              "        '693', '694', '695', '696', '698', '7', '70', '701', '702', '703',\n",
              "        '705', '706', '707', '709', '710', '711', '712', '713', '714',\n",
              "        '715', '716', '717', '718', '719', '721', '722', '723', '724',\n",
              "        '725', '726', '727', '728', '729', '730', '731', '733', '734',\n",
              "        '736', '737', '738', '741', '742', '745', '746', '747', '748',\n",
              "        '75', '750', '751', '753', '754', '755', '756', '758', '759', '78',\n",
              "        '780', '781', '782', '783', '784', '785', '786', '787', '788',\n",
              "        '789', '79', '790', '791', '792', '793', '794', '795', '796',\n",
              "        '797', '799', '8', '800', '801', '802', '805', '806', '807', '808',\n",
              "        '810', '811', '812', '813', '814', '815', '816', '820', '821',\n",
              "        '822', '823', '824', '825', '826', '831', '832', '833', '836',\n",
              "        '837', '840', '842', '843', '844', '845', '846', '847', '850',\n",
              "        '851', '852', '853', '860', '861', '862', '863', '864', '865',\n",
              "        '866', '867', '868', '869', '870', '871', '872', '873', '879',\n",
              "        '88', '880', '881', '882', '883', '884', '891', '892', '893',\n",
              "        '894', '9', '905', '906', '907', '908', '909', '910', '911', '912',\n",
              "        '913', '915', '916', '917', '918', '919', '920', '921', '922',\n",
              "        '923', '924', '927', '933', '934', '94', '942', '944', '945',\n",
              "        '947', '948', '952', '953', '955', '958', '959', '96', '962',\n",
              "        '963', '965', '967', '968', '969', '972', '974', '975', '977',\n",
              "        '980', '987', '989', '99', '990', '991', '992', '994', '995',\n",
              "        '996', '997', '998', '999', 'E812', 'E813', 'E814', 'E816', 'E817',\n",
              "        'E818', 'E819', 'E821', 'E826', 'E829', 'E849', 'E850', 'E853',\n",
              "        'E854', 'E858', 'E868', 'E870', 'E878', 'E879', 'E880', 'E881',\n",
              "        'E882', 'E883', 'E884', 'E885', 'E887', 'E888', 'E890', 'E900',\n",
              "        'E905', 'E906', 'E915', 'E916', 'E917', 'E918', 'E919', 'E924',\n",
              "        'E927', 'E928', 'E929', 'E930', 'E931', 'E932', 'E933', 'E934',\n",
              "        'E935', 'E936', 'E937', 'E938', 'E939', 'E941', 'E942', 'E944',\n",
              "        'E945', 'E947', 'E950', 'E965', 'E968', 'E980', 'V02', 'V08',\n",
              "        'V09', 'V10', 'V11', 'V12', 'V13', 'V14', 'V15', 'V16', 'V17',\n",
              "        'V18', 'V23', 'V25', 'V42', 'V43', 'V44', 'V45', 'V46', 'V49',\n",
              "        'V50', 'V53', 'V54', 'V55', 'V57', 'V58', 'V60', 'V61', 'V62',\n",
              "        'V63', 'V64', 'V65', 'V66', 'V69', 'V70', 'V72', 'V85', 'V86'],\n",
              "       dtype=object),\n",
              " 'diag_3': array(['11', '110', '111', '112', '115', '117', '122', '123', '131',\n",
              "        '132', '135', '136', '138', '139', '14', '141', '146', '148',\n",
              "        '150', '151', '152', '153', '154', '155', '156', '157', '158',\n",
              "        '161', '162', '163', '164', '17', '170', '171', '172', '173',\n",
              "        '174', '175', '179', '180', '182', '183', '185', '186', '188',\n",
              "        '189', '191', '192', '193', '195', '196', '197', '198', '199',\n",
              "        '200', '201', '202', '203', '204', '205', '208', '211', '214',\n",
              "        '215', '216', '217', '218', '220', '223', '225', '226', '227',\n",
              "        '228', '230', '233', '235', '236', '238', '239', '240', '241',\n",
              "        '242', '243', '244', '245', '246', '250', '250.01', '250.02',\n",
              "        '250.03', '250.1', '250.11', '250.12', '250.13', '250.2', '250.21',\n",
              "        '250.22', '250.23', '250.3', '250.31', '250.4', '250.41', '250.42',\n",
              "        '250.43', '250.5', '250.51', '250.52', '250.53', '250.6', '250.7',\n",
              "        '250.8', '250.81', '250.82', '250.83', '250.9', '250.91', '250.92',\n",
              "        '250.93', '251', '252', '253', '255', '256', '258', '259', '260',\n",
              "        '261', '262', '263', '265', '266', '268', '27', '270', '271',\n",
              "        '272', '273', '274', '275', '276', '277', '278', '279', '280',\n",
              "        '281', '282', '283', '284', '285', '286', '287', '288', '289',\n",
              "        '290', '291', '292', '293', '294', '295', '296', '297', '298',\n",
              "        '299', '3', '300', '301', '303', '304', '305', '306', '307', '308',\n",
              "        '309', '310', '311', '312', '313', '314', '315', '317', '318',\n",
              "        '319', '323', '327', '331', '332', '333', '334', '335', '336',\n",
              "        '337', '338', '34', '340', '341', '342', '343', '344', '345',\n",
              "        '346', '347', '348', '349', '35', '350', '351', '353', '354',\n",
              "        '355', '356', '357', '358', '359', '360', '361', '362', '365',\n",
              "        '365.44', '366', '368', '369', '370', '372', '373', '374', '376',\n",
              "        '377', '378', '379', '38', '380', '381', '382', '383', '384',\n",
              "        '385', '386', '387', '388', '389', '391', '394', '395', '396',\n",
              "        '397', '398', '401', '402', '403', '404', '405', '41', '410',\n",
              "        '411', '412', '413', '414', '415', '416', '417', '42', '420',\n",
              "        '421', '423', '424', '425', '426', '427', '428', '429', '430',\n",
              "        '431', '432', '433', '434', '435', '436', '437', '438', '440',\n",
              "        '441', '442', '443', '444', '445', '446', '447', '448', '451',\n",
              "        '452', '453', '454', '455', '456', '457', '458', '459', '460',\n",
              "        '461', '462', '463', '464', '465', '466', '47', '470', '472',\n",
              "        '473', '475', '477', '478', '480', '481', '482', '483', '484',\n",
              "        '485', '486', '487', '49', '490', '491', '492', '493', '494',\n",
              "        '495', '496', '5', '500', '501', '506', '507', '508', '510', '511',\n",
              "        '512', '514', '515', '516', '517', '518', '519', '521', '522',\n",
              "        '523', '524', '525', '527', '528', '529', '53', '530', '531',\n",
              "        '532', '533', '534', '535', '536', '537', '538', '54', '540',\n",
              "        '542', '543', '550', '552', '553', '555', '556', '557', '558',\n",
              "        '560', '562', '564', '565', '566', '567', '568', '569', '57',\n",
              "        '570', '571', '572', '573', '574', '575', '576', '577', '578',\n",
              "        '579', '580', '581', '582', '583', '584', '585', '586', '588',\n",
              "        '590', '591', '592', '593', '594', '595', '596', '597', '598',\n",
              "        '599', '600', '601', '602', '603', '604', '605', '607', '608',\n",
              "        '610', '611', '614', '616', '617', '618', '619', '620', '621',\n",
              "        '622', '623', '624', '625', '626', '627', '641', '642', '643',\n",
              "        '644', '646', '647', '648', '649', '652', '653', '654', '655',\n",
              "        '656', '657', '658', '659', '66', '660', '661', '663', '664',\n",
              "        '665', '669', '670', '671', '674', '680', '681', '682', '684',\n",
              "        '685', '686', '690', '692', '693', '694', '695', '696', '697',\n",
              "        '698', '7', '70', '701', '702', '703', '704', '705', '706', '707',\n",
              "        '708', '709', '710', '711', '712', '713', '714', '715', '716',\n",
              "        '717', '718', '719', '720', '721', '722', '723', '724', '725',\n",
              "        '726', '727', '728', '729', '730', '731', '732', '733', '734',\n",
              "        '735', '736', '737', '738', '741', '742', '744', '745', '746',\n",
              "        '747', '75', '750', '751', '752', '753', '754', '755', '756',\n",
              "        '757', '758', '759', '78', '780', '781', '782', '783', '784',\n",
              "        '785', '786', '787', '788', '789', '79', '790', '791', '792',\n",
              "        '793', '794', '795', '796', '797', '799', '8', '800', '801', '802',\n",
              "        '805', '807', '808', '810', '811', '812', '813', '814', '815',\n",
              "        '816', '820', '821', '822', '823', '824', '825', '826', '831',\n",
              "        '834', '836', '837', '838', '840', '841', '842', '844', '845',\n",
              "        '847', '848', '850', '851', '852', '853', '854', '860', '861',\n",
              "        '862', '863', '864', '865', '866', '867', '868', '870', '871',\n",
              "        '872', '873', '875', '876', '877', '879', '88', '880', '881',\n",
              "        '882', '883', '884', '890', '891', '892', '893', '9', '905', '906',\n",
              "        '907', '908', '909', '910', '911', '912', '913', '915', '916',\n",
              "        '917', '918', '919', '920', '921', '922', '923', '924', '928',\n",
              "        '930', '933', '934', '935', '94', '942', '943', '944', '945',\n",
              "        '948', '951', '952', '953', '955', '956', '958', '959', '962',\n",
              "        '965', '966', '967', '969', '970', '971', '972', '980', '987',\n",
              "        '989', '991', '992', '995', '996', '997', '998', '999', 'E812',\n",
              "        'E813', 'E815', 'E816', 'E817', 'E818', 'E819', 'E822', 'E825',\n",
              "        'E826', 'E828', 'E849', 'E850', 'E852', 'E853', 'E854', 'E855',\n",
              "        'E858', 'E861', 'E864', 'E865', 'E870', 'E876', 'E878', 'E879',\n",
              "        'E880', 'E881', 'E882', 'E883', 'E884', 'E885', 'E886', 'E887',\n",
              "        'E888', 'E892', 'E894', 'E900', 'E901', 'E904', 'E905', 'E906',\n",
              "        'E912', 'E915', 'E916', 'E917', 'E919', 'E920', 'E922', 'E924',\n",
              "        'E927', 'E928', 'E929', 'E930', 'E931', 'E932', 'E933', 'E934',\n",
              "        'E935', 'E936', 'E937', 'E938', 'E939', 'E941', 'E942', 'E943',\n",
              "        'E944', 'E945', 'E946', 'E947', 'E949', 'E950', 'E955', 'E956',\n",
              "        'E965', 'E966', 'E980', 'E987', 'V01', 'V02', 'V03', 'V06', 'V07',\n",
              "        'V08', 'V09', 'V10', 'V11', 'V12', 'V13', 'V14', 'V15', 'V16',\n",
              "        'V17', 'V18', 'V22', 'V23', 'V25', 'V27', 'V42', 'V43', 'V44',\n",
              "        'V45', 'V46', 'V49', 'V53', 'V54', 'V55', 'V57', 'V58', 'V60',\n",
              "        'V61', 'V62', 'V63', 'V64', 'V65', 'V66', 'V70', 'V72', 'V85',\n",
              "        'V86'], dtype=object),\n",
              " 'examide': array(['No'], dtype=object),\n",
              " 'gender': array(['Female', 'Male', 'Unknown/Invalid'], dtype=object),\n",
              " 'glimepiride': array(['Down', 'No', 'Steady', 'Up'], dtype=object),\n",
              " 'glimepiride-pioglitazone': array(['No', 'Steady'], dtype=object),\n",
              " 'glipizide': array(['Down', 'No', 'Steady', 'Up'], dtype=object),\n",
              " 'glipizide-metformin': array(['No', 'Steady'], dtype=object),\n",
              " 'glyburide': array(['Down', 'No', 'Steady', 'Up'], dtype=object),\n",
              " 'glyburide-metformin': array(['Down', 'No', 'Steady', 'Up'], dtype=object),\n",
              " 'insulin': array(['Down', 'No', 'Steady', 'Up'], dtype=object),\n",
              " 'max_glu_serum': array(['>200', '>300', 'None', 'Norm'], dtype=object),\n",
              " 'metformin': array(['Down', 'No', 'Steady', 'Up'], dtype=object),\n",
              " 'metformin-pioglitazone': array(['No', 'Steady'], dtype=object),\n",
              " 'metformin-rosiglitazone': array(['No', 'Steady'], dtype=object),\n",
              " 'miglitol': array(['Down', 'No', 'Steady', 'Up'], dtype=object),\n",
              " 'nateglinide': array(['Down', 'No', 'Steady', 'Up'], dtype=object),\n",
              " 'pioglitazone': array(['Down', 'No', 'Steady', 'Up'], dtype=object),\n",
              " 'race': array(['AfricanAmerican', 'Asian', 'Caucasian', 'Hispanic', 'Other'],\n",
              "       dtype=object),\n",
              " 'readmitted': array(['<30', '>30', 'NO'], dtype=object),\n",
              " 'repaglinide': array(['Down', 'No', 'Steady', 'Up'], dtype=object),\n",
              " 'rosiglitazone': array(['Down', 'No', 'Steady', 'Up'], dtype=object),\n",
              " 'tolazamide': array(['No', 'Steady', 'Up'], dtype=object),\n",
              " 'tolbutamide': array(['No', 'Steady'], dtype=object),\n",
              " 'troglitazone': array(['No', 'Steady'], dtype=object)}"
            ]
          },
          "metadata": {
            "tags": []
          },
          "execution_count": 39
        }
      ]
    },
    {
      "cell_type": "code",
      "metadata": {
        "id": "nZ-BvqANUoRf",
        "colab_type": "code",
        "outputId": "fc61e509-9eeb-4b5f-bcf8-bb0448886c8e",
        "colab": {
          "base_uri": "https://localhost:8080/",
          "height": 232
        }
      },
      "source": [
        "df.head() "
      ],
      "execution_count": 0,
      "outputs": [
        {
          "output_type": "execute_result",
          "data": {
            "text/html": [
              "<div>\n",
              "<style scoped>\n",
              "    .dataframe tbody tr th:only-of-type {\n",
              "        vertical-align: middle;\n",
              "    }\n",
              "\n",
              "    .dataframe tbody tr th {\n",
              "        vertical-align: top;\n",
              "    }\n",
              "\n",
              "    .dataframe thead th {\n",
              "        text-align: right;\n",
              "    }\n",
              "</style>\n",
              "<table border=\"1\" class=\"dataframe\">\n",
              "  <thead>\n",
              "    <tr style=\"text-align: right;\">\n",
              "      <th></th>\n",
              "      <th>race</th>\n",
              "      <th>gender</th>\n",
              "      <th>age</th>\n",
              "      <th>time_in_hospital</th>\n",
              "      <th>num_lab_procedures</th>\n",
              "      <th>num_procedures</th>\n",
              "      <th>num_medications</th>\n",
              "      <th>number_outpatient</th>\n",
              "      <th>number_emergency</th>\n",
              "      <th>number_inpatient</th>\n",
              "      <th>diag_1</th>\n",
              "      <th>diag_2</th>\n",
              "      <th>diag_3</th>\n",
              "      <th>number_diagnoses</th>\n",
              "      <th>max_glu_serum</th>\n",
              "      <th>A1Cresult</th>\n",
              "      <th>metformin</th>\n",
              "      <th>repaglinide</th>\n",
              "      <th>nateglinide</th>\n",
              "      <th>chlorpropamide</th>\n",
              "      <th>glimepiride</th>\n",
              "      <th>acetohexamide</th>\n",
              "      <th>glipizide</th>\n",
              "      <th>glyburide</th>\n",
              "      <th>tolbutamide</th>\n",
              "      <th>pioglitazone</th>\n",
              "      <th>rosiglitazone</th>\n",
              "      <th>acarbose</th>\n",
              "      <th>miglitol</th>\n",
              "      <th>troglitazone</th>\n",
              "      <th>tolazamide</th>\n",
              "      <th>examide</th>\n",
              "      <th>citoglipton</th>\n",
              "      <th>insulin</th>\n",
              "      <th>glyburide-metformin</th>\n",
              "      <th>glipizide-metformin</th>\n",
              "      <th>glimepiride-pioglitazone</th>\n",
              "      <th>metformin-rosiglitazone</th>\n",
              "      <th>metformin-pioglitazone</th>\n",
              "      <th>change</th>\n",
              "      <th>diabetesMed</th>\n",
              "      <th>readmitted</th>\n",
              "    </tr>\n",
              "  </thead>\n",
              "  <tbody>\n",
              "    <tr>\n",
              "      <th>1</th>\n",
              "      <td>2</td>\n",
              "      <td>0</td>\n",
              "      <td>1</td>\n",
              "      <td>3</td>\n",
              "      <td>59</td>\n",
              "      <td>0</td>\n",
              "      <td>18</td>\n",
              "      <td>0</td>\n",
              "      <td>0</td>\n",
              "      <td>0</td>\n",
              "      <td>143</td>\n",
              "      <td>78</td>\n",
              "      <td>121</td>\n",
              "      <td>9</td>\n",
              "      <td>2</td>\n",
              "      <td>2</td>\n",
              "      <td>1</td>\n",
              "      <td>1</td>\n",
              "      <td>1</td>\n",
              "      <td>1</td>\n",
              "      <td>1</td>\n",
              "      <td>0</td>\n",
              "      <td>1</td>\n",
              "      <td>1</td>\n",
              "      <td>0</td>\n",
              "      <td>1</td>\n",
              "      <td>1</td>\n",
              "      <td>1</td>\n",
              "      <td>1</td>\n",
              "      <td>0</td>\n",
              "      <td>0</td>\n",
              "      <td>0</td>\n",
              "      <td>0</td>\n",
              "      <td>3</td>\n",
              "      <td>1</td>\n",
              "      <td>0</td>\n",
              "      <td>0</td>\n",
              "      <td>0</td>\n",
              "      <td>0</td>\n",
              "      <td>0</td>\n",
              "      <td>1</td>\n",
              "      <td>1</td>\n",
              "    </tr>\n",
              "    <tr>\n",
              "      <th>2</th>\n",
              "      <td>0</td>\n",
              "      <td>0</td>\n",
              "      <td>2</td>\n",
              "      <td>2</td>\n",
              "      <td>11</td>\n",
              "      <td>5</td>\n",
              "      <td>13</td>\n",
              "      <td>2</td>\n",
              "      <td>0</td>\n",
              "      <td>1</td>\n",
              "      <td>454</td>\n",
              "      <td>77</td>\n",
              "      <td>766</td>\n",
              "      <td>6</td>\n",
              "      <td>2</td>\n",
              "      <td>2</td>\n",
              "      <td>1</td>\n",
              "      <td>1</td>\n",
              "      <td>1</td>\n",
              "      <td>1</td>\n",
              "      <td>1</td>\n",
              "      <td>0</td>\n",
              "      <td>2</td>\n",
              "      <td>1</td>\n",
              "      <td>0</td>\n",
              "      <td>1</td>\n",
              "      <td>1</td>\n",
              "      <td>1</td>\n",
              "      <td>1</td>\n",
              "      <td>0</td>\n",
              "      <td>0</td>\n",
              "      <td>0</td>\n",
              "      <td>0</td>\n",
              "      <td>1</td>\n",
              "      <td>1</td>\n",
              "      <td>0</td>\n",
              "      <td>0</td>\n",
              "      <td>0</td>\n",
              "      <td>0</td>\n",
              "      <td>1</td>\n",
              "      <td>1</td>\n",
              "      <td>2</td>\n",
              "    </tr>\n",
              "    <tr>\n",
              "      <th>3</th>\n",
              "      <td>2</td>\n",
              "      <td>1</td>\n",
              "      <td>3</td>\n",
              "      <td>2</td>\n",
              "      <td>44</td>\n",
              "      <td>1</td>\n",
              "      <td>16</td>\n",
              "      <td>0</td>\n",
              "      <td>0</td>\n",
              "      <td>0</td>\n",
              "      <td>554</td>\n",
              "      <td>96</td>\n",
              "      <td>248</td>\n",
              "      <td>7</td>\n",
              "      <td>2</td>\n",
              "      <td>2</td>\n",
              "      <td>1</td>\n",
              "      <td>1</td>\n",
              "      <td>1</td>\n",
              "      <td>1</td>\n",
              "      <td>1</td>\n",
              "      <td>0</td>\n",
              "      <td>1</td>\n",
              "      <td>1</td>\n",
              "      <td>0</td>\n",
              "      <td>1</td>\n",
              "      <td>1</td>\n",
              "      <td>1</td>\n",
              "      <td>1</td>\n",
              "      <td>0</td>\n",
              "      <td>0</td>\n",
              "      <td>0</td>\n",
              "      <td>0</td>\n",
              "      <td>3</td>\n",
              "      <td>1</td>\n",
              "      <td>0</td>\n",
              "      <td>0</td>\n",
              "      <td>0</td>\n",
              "      <td>0</td>\n",
              "      <td>0</td>\n",
              "      <td>1</td>\n",
              "      <td>2</td>\n",
              "    </tr>\n",
              "    <tr>\n",
              "      <th>4</th>\n",
              "      <td>2</td>\n",
              "      <td>1</td>\n",
              "      <td>4</td>\n",
              "      <td>1</td>\n",
              "      <td>51</td>\n",
              "      <td>0</td>\n",
              "      <td>8</td>\n",
              "      <td>0</td>\n",
              "      <td>0</td>\n",
              "      <td>0</td>\n",
              "      <td>54</td>\n",
              "      <td>23</td>\n",
              "      <td>86</td>\n",
              "      <td>5</td>\n",
              "      <td>2</td>\n",
              "      <td>2</td>\n",
              "      <td>1</td>\n",
              "      <td>1</td>\n",
              "      <td>1</td>\n",
              "      <td>1</td>\n",
              "      <td>1</td>\n",
              "      <td>0</td>\n",
              "      <td>2</td>\n",
              "      <td>1</td>\n",
              "      <td>0</td>\n",
              "      <td>1</td>\n",
              "      <td>1</td>\n",
              "      <td>1</td>\n",
              "      <td>1</td>\n",
              "      <td>0</td>\n",
              "      <td>0</td>\n",
              "      <td>0</td>\n",
              "      <td>0</td>\n",
              "      <td>2</td>\n",
              "      <td>1</td>\n",
              "      <td>0</td>\n",
              "      <td>0</td>\n",
              "      <td>0</td>\n",
              "      <td>0</td>\n",
              "      <td>0</td>\n",
              "      <td>1</td>\n",
              "      <td>2</td>\n",
              "    </tr>\n",
              "    <tr>\n",
              "      <th>5</th>\n",
              "      <td>2</td>\n",
              "      <td>1</td>\n",
              "      <td>5</td>\n",
              "      <td>3</td>\n",
              "      <td>31</td>\n",
              "      <td>6</td>\n",
              "      <td>16</td>\n",
              "      <td>0</td>\n",
              "      <td>0</td>\n",
              "      <td>0</td>\n",
              "      <td>263</td>\n",
              "      <td>245</td>\n",
              "      <td>86</td>\n",
              "      <td>9</td>\n",
              "      <td>2</td>\n",
              "      <td>2</td>\n",
              "      <td>1</td>\n",
              "      <td>1</td>\n",
              "      <td>1</td>\n",
              "      <td>1</td>\n",
              "      <td>1</td>\n",
              "      <td>0</td>\n",
              "      <td>1</td>\n",
              "      <td>1</td>\n",
              "      <td>0</td>\n",
              "      <td>1</td>\n",
              "      <td>1</td>\n",
              "      <td>1</td>\n",
              "      <td>1</td>\n",
              "      <td>0</td>\n",
              "      <td>0</td>\n",
              "      <td>0</td>\n",
              "      <td>0</td>\n",
              "      <td>2</td>\n",
              "      <td>1</td>\n",
              "      <td>0</td>\n",
              "      <td>0</td>\n",
              "      <td>0</td>\n",
              "      <td>0</td>\n",
              "      <td>1</td>\n",
              "      <td>1</td>\n",
              "      <td>1</td>\n",
              "    </tr>\n",
              "  </tbody>\n",
              "</table>\n",
              "</div>"
            ],
            "text/plain": [
              "   race  gender  age  ...  change  diabetesMed  readmitted\n",
              "1     2       0    1  ...       0            1           1\n",
              "2     0       0    2  ...       1            1           2\n",
              "3     2       1    3  ...       0            1           2\n",
              "4     2       1    4  ...       0            1           2\n",
              "5     2       1    5  ...       1            1           1\n",
              "\n",
              "[5 rows x 42 columns]"
            ]
          },
          "metadata": {
            "tags": []
          },
          "execution_count": 40
        }
      ]
    },
    {
      "cell_type": "code",
      "metadata": {
        "id": "s2HzmXE8X7S1",
        "colab_type": "code",
        "outputId": "9fc6e1a8-b917-4b92-d19a-efc529f78d56",
        "colab": {
          "base_uri": "https://localhost:8080/",
          "height": 34
        }
      },
      "source": [
        "np.unique(df['diabetesMed'])"
      ],
      "execution_count": 0,
      "outputs": [
        {
          "output_type": "execute_result",
          "data": {
            "text/plain": [
              "array([0, 1])"
            ]
          },
          "metadata": {
            "tags": []
          },
          "execution_count": 41
        }
      ]
    },
    {
      "cell_type": "markdown",
      "metadata": {
        "id": "_Q6S0aIZdwgt",
        "colab_type": "text"
      },
      "source": [
        "Separate the dependent columns which are 'diabetesMed' and 'readmitted' from the other columns, which are the independents"
      ]
    },
    {
      "cell_type": "code",
      "metadata": {
        "id": "fnf1JUKKU6-K",
        "colab_type": "code",
        "colab": {}
      },
      "source": [
        "target=df.loc[:,'diabetesMed':'readmitted']\n",
        "target_columns=target.columns"
      ],
      "execution_count": 0,
      "outputs": []
    },
    {
      "cell_type": "markdown",
      "metadata": {
        "id": "zIeANrrOebt8",
        "colab_type": "text"
      },
      "source": [
        "Now, compine the columns value to create one column"
      ]
    },
    {
      "cell_type": "code",
      "metadata": {
        "id": "mccBTlYqaa3k",
        "colab_type": "code",
        "colab": {}
      },
      "source": [
        "target_code= target['diabetesMed'].map(str)+target['readmitted'].map(str)"
      ],
      "execution_count": 0,
      "outputs": []
    },
    {
      "cell_type": "code",
      "metadata": {
        "id": "FiDsWU8SXeX5",
        "colab_type": "code",
        "outputId": "004d87c7-6fba-4bc6-ff23-0f06902deb7f",
        "colab": {
          "base_uri": "https://localhost:8080/",
          "height": 228
        }
      },
      "source": [
        "target_columns,target_code"
      ],
      "execution_count": 0,
      "outputs": [
        {
          "output_type": "execute_result",
          "data": {
            "text/plain": [
              "(Index(['diabetesMed', 'readmitted'], dtype='object'), 1         11\n",
              " 2         12\n",
              " 3         12\n",
              " 4         12\n",
              " 5         11\n",
              "           ..\n",
              " 101761    11\n",
              " 101762    12\n",
              " 101763    12\n",
              " 101764    12\n",
              " 101765    02\n",
              " Length: 100244, dtype: object)"
            ]
          },
          "metadata": {
            "tags": []
          },
          "execution_count": 44
        }
      ]
    },
    {
      "cell_type": "markdown",
      "metadata": {
        "id": "9S-t5Sv0eqSz",
        "colab_type": "text"
      },
      "source": [
        "Now, the target is one column has the values of the independents columns values"
      ]
    },
    {
      "cell_type": "code",
      "metadata": {
        "id": "KNsGQOYHZprK",
        "colab_type": "code",
        "outputId": "9b3eb1d0-14e4-4aa0-df9b-3637787a115d",
        "colab": {
          "base_uri": "https://localhost:8080/",
          "height": 402
        }
      },
      "source": [
        "target"
      ],
      "execution_count": 0,
      "outputs": [
        {
          "output_type": "execute_result",
          "data": {
            "text/html": [
              "<div>\n",
              "<style scoped>\n",
              "    .dataframe tbody tr th:only-of-type {\n",
              "        vertical-align: middle;\n",
              "    }\n",
              "\n",
              "    .dataframe tbody tr th {\n",
              "        vertical-align: top;\n",
              "    }\n",
              "\n",
              "    .dataframe thead th {\n",
              "        text-align: right;\n",
              "    }\n",
              "</style>\n",
              "<table border=\"1\" class=\"dataframe\">\n",
              "  <thead>\n",
              "    <tr style=\"text-align: right;\">\n",
              "      <th></th>\n",
              "      <th>diabetesMed</th>\n",
              "      <th>readmitted</th>\n",
              "    </tr>\n",
              "  </thead>\n",
              "  <tbody>\n",
              "    <tr>\n",
              "      <th>1</th>\n",
              "      <td>1</td>\n",
              "      <td>1</td>\n",
              "    </tr>\n",
              "    <tr>\n",
              "      <th>2</th>\n",
              "      <td>1</td>\n",
              "      <td>2</td>\n",
              "    </tr>\n",
              "    <tr>\n",
              "      <th>3</th>\n",
              "      <td>1</td>\n",
              "      <td>2</td>\n",
              "    </tr>\n",
              "    <tr>\n",
              "      <th>4</th>\n",
              "      <td>1</td>\n",
              "      <td>2</td>\n",
              "    </tr>\n",
              "    <tr>\n",
              "      <th>5</th>\n",
              "      <td>1</td>\n",
              "      <td>1</td>\n",
              "    </tr>\n",
              "    <tr>\n",
              "      <th>...</th>\n",
              "      <td>...</td>\n",
              "      <td>...</td>\n",
              "    </tr>\n",
              "    <tr>\n",
              "      <th>101761</th>\n",
              "      <td>1</td>\n",
              "      <td>1</td>\n",
              "    </tr>\n",
              "    <tr>\n",
              "      <th>101762</th>\n",
              "      <td>1</td>\n",
              "      <td>2</td>\n",
              "    </tr>\n",
              "    <tr>\n",
              "      <th>101763</th>\n",
              "      <td>1</td>\n",
              "      <td>2</td>\n",
              "    </tr>\n",
              "    <tr>\n",
              "      <th>101764</th>\n",
              "      <td>1</td>\n",
              "      <td>2</td>\n",
              "    </tr>\n",
              "    <tr>\n",
              "      <th>101765</th>\n",
              "      <td>0</td>\n",
              "      <td>2</td>\n",
              "    </tr>\n",
              "  </tbody>\n",
              "</table>\n",
              "<p>100244 rows × 2 columns</p>\n",
              "</div>"
            ],
            "text/plain": [
              "        diabetesMed  readmitted\n",
              "1                 1           1\n",
              "2                 1           2\n",
              "3                 1           2\n",
              "4                 1           2\n",
              "5                 1           1\n",
              "...             ...         ...\n",
              "101761            1           1\n",
              "101762            1           2\n",
              "101763            1           2\n",
              "101764            1           2\n",
              "101765            0           2\n",
              "\n",
              "[100244 rows x 2 columns]"
            ]
          },
          "metadata": {
            "tags": []
          },
          "execution_count": 45
        }
      ]
    },
    {
      "cell_type": "markdown",
      "metadata": {
        "id": "XicISgnGe50i",
        "colab_type": "text"
      },
      "source": [
        "This costom function to translate the output code for exampe the output code is \n",
        " 01010 so it means 'diabetesMed_No   readmitted_NO"
      ]
    },
    {
      "cell_type": "code",
      "metadata": {
        "id": "oYso9OKLZ6uI",
        "colab_type": "code",
        "colab": {}
      },
      "source": [
        "def translate_output_code(code):\n",
        "  result = ''\n",
        "  result= '{0} {1} {2} {3}'.format(result,' ','Diabetes: ',attr_their_cat['diabetesMed'][int(code[0])])\n",
        "  result= '{0} {1} {2} {3}'.format(result,' ','Readmitted: ',attr_their_cat['readmitted'][int(code[1])])\n",
        "  return result.strip()\n"
      ],
      "execution_count": 0,
      "outputs": []
    },
    {
      "cell_type": "code",
      "metadata": {
        "id": "bv_ky1PFaZDA",
        "colab_type": "code",
        "outputId": "ef176479-9bd1-4ef3-e217-ac042f3b6088",
        "colab": {
          "base_uri": "https://localhost:8080/",
          "height": 34
        }
      },
      "source": [
        "np.unique(target_code)"
      ],
      "execution_count": 0,
      "outputs": [
        {
          "output_type": "execute_result",
          "data": {
            "text/plain": [
              "array(['00', '01', '02', '10', '11', '12'], dtype=object)"
            ]
          },
          "metadata": {
            "tags": []
          },
          "execution_count": 47
        }
      ]
    },
    {
      "cell_type": "code",
      "metadata": {
        "id": "GgKdJRGydIiy",
        "colab_type": "code",
        "outputId": "2de51207-39b7-4cee-c043-260815c1af24",
        "colab": {
          "base_uri": "https://localhost:8080/",
          "height": 34
        }
      },
      "source": [
        "translate_output_code('11')"
      ],
      "execution_count": 0,
      "outputs": [
        {
          "output_type": "execute_result",
          "data": {
            "text/plain": [
              "'Diabetes:  Yes   Readmitted:  >30'"
            ]
          },
          "metadata": {
            "tags": []
          },
          "execution_count": 48
        }
      ]
    },
    {
      "cell_type": "code",
      "metadata": {
        "id": "Rwh1gJmvgYYx",
        "colab_type": "code",
        "colab": {}
      },
      "source": [
        "df.drop(target_columns,axis=1,inplace=True)"
      ],
      "execution_count": 0,
      "outputs": []
    },
    {
      "cell_type": "code",
      "metadata": {
        "id": "SumJsbcog2qQ",
        "colab_type": "code",
        "outputId": "10ebb44c-a22f-405c-9869-bb7266271f37",
        "colab": {
          "base_uri": "https://localhost:8080/",
          "height": 232
        }
      },
      "source": [
        "df.head()"
      ],
      "execution_count": 0,
      "outputs": [
        {
          "output_type": "execute_result",
          "data": {
            "text/html": [
              "<div>\n",
              "<style scoped>\n",
              "    .dataframe tbody tr th:only-of-type {\n",
              "        vertical-align: middle;\n",
              "    }\n",
              "\n",
              "    .dataframe tbody tr th {\n",
              "        vertical-align: top;\n",
              "    }\n",
              "\n",
              "    .dataframe thead th {\n",
              "        text-align: right;\n",
              "    }\n",
              "</style>\n",
              "<table border=\"1\" class=\"dataframe\">\n",
              "  <thead>\n",
              "    <tr style=\"text-align: right;\">\n",
              "      <th></th>\n",
              "      <th>race</th>\n",
              "      <th>gender</th>\n",
              "      <th>age</th>\n",
              "      <th>time_in_hospital</th>\n",
              "      <th>num_lab_procedures</th>\n",
              "      <th>num_procedures</th>\n",
              "      <th>num_medications</th>\n",
              "      <th>number_outpatient</th>\n",
              "      <th>number_emergency</th>\n",
              "      <th>number_inpatient</th>\n",
              "      <th>diag_1</th>\n",
              "      <th>diag_2</th>\n",
              "      <th>diag_3</th>\n",
              "      <th>number_diagnoses</th>\n",
              "      <th>max_glu_serum</th>\n",
              "      <th>A1Cresult</th>\n",
              "      <th>metformin</th>\n",
              "      <th>repaglinide</th>\n",
              "      <th>nateglinide</th>\n",
              "      <th>chlorpropamide</th>\n",
              "      <th>glimepiride</th>\n",
              "      <th>acetohexamide</th>\n",
              "      <th>glipizide</th>\n",
              "      <th>glyburide</th>\n",
              "      <th>tolbutamide</th>\n",
              "      <th>pioglitazone</th>\n",
              "      <th>rosiglitazone</th>\n",
              "      <th>acarbose</th>\n",
              "      <th>miglitol</th>\n",
              "      <th>troglitazone</th>\n",
              "      <th>tolazamide</th>\n",
              "      <th>examide</th>\n",
              "      <th>citoglipton</th>\n",
              "      <th>insulin</th>\n",
              "      <th>glyburide-metformin</th>\n",
              "      <th>glipizide-metformin</th>\n",
              "      <th>glimepiride-pioglitazone</th>\n",
              "      <th>metformin-rosiglitazone</th>\n",
              "      <th>metformin-pioglitazone</th>\n",
              "      <th>change</th>\n",
              "    </tr>\n",
              "  </thead>\n",
              "  <tbody>\n",
              "    <tr>\n",
              "      <th>1</th>\n",
              "      <td>2</td>\n",
              "      <td>0</td>\n",
              "      <td>1</td>\n",
              "      <td>3</td>\n",
              "      <td>59</td>\n",
              "      <td>0</td>\n",
              "      <td>18</td>\n",
              "      <td>0</td>\n",
              "      <td>0</td>\n",
              "      <td>0</td>\n",
              "      <td>143</td>\n",
              "      <td>78</td>\n",
              "      <td>121</td>\n",
              "      <td>9</td>\n",
              "      <td>2</td>\n",
              "      <td>2</td>\n",
              "      <td>1</td>\n",
              "      <td>1</td>\n",
              "      <td>1</td>\n",
              "      <td>1</td>\n",
              "      <td>1</td>\n",
              "      <td>0</td>\n",
              "      <td>1</td>\n",
              "      <td>1</td>\n",
              "      <td>0</td>\n",
              "      <td>1</td>\n",
              "      <td>1</td>\n",
              "      <td>1</td>\n",
              "      <td>1</td>\n",
              "      <td>0</td>\n",
              "      <td>0</td>\n",
              "      <td>0</td>\n",
              "      <td>0</td>\n",
              "      <td>3</td>\n",
              "      <td>1</td>\n",
              "      <td>0</td>\n",
              "      <td>0</td>\n",
              "      <td>0</td>\n",
              "      <td>0</td>\n",
              "      <td>0</td>\n",
              "    </tr>\n",
              "    <tr>\n",
              "      <th>2</th>\n",
              "      <td>0</td>\n",
              "      <td>0</td>\n",
              "      <td>2</td>\n",
              "      <td>2</td>\n",
              "      <td>11</td>\n",
              "      <td>5</td>\n",
              "      <td>13</td>\n",
              "      <td>2</td>\n",
              "      <td>0</td>\n",
              "      <td>1</td>\n",
              "      <td>454</td>\n",
              "      <td>77</td>\n",
              "      <td>766</td>\n",
              "      <td>6</td>\n",
              "      <td>2</td>\n",
              "      <td>2</td>\n",
              "      <td>1</td>\n",
              "      <td>1</td>\n",
              "      <td>1</td>\n",
              "      <td>1</td>\n",
              "      <td>1</td>\n",
              "      <td>0</td>\n",
              "      <td>2</td>\n",
              "      <td>1</td>\n",
              "      <td>0</td>\n",
              "      <td>1</td>\n",
              "      <td>1</td>\n",
              "      <td>1</td>\n",
              "      <td>1</td>\n",
              "      <td>0</td>\n",
              "      <td>0</td>\n",
              "      <td>0</td>\n",
              "      <td>0</td>\n",
              "      <td>1</td>\n",
              "      <td>1</td>\n",
              "      <td>0</td>\n",
              "      <td>0</td>\n",
              "      <td>0</td>\n",
              "      <td>0</td>\n",
              "      <td>1</td>\n",
              "    </tr>\n",
              "    <tr>\n",
              "      <th>3</th>\n",
              "      <td>2</td>\n",
              "      <td>1</td>\n",
              "      <td>3</td>\n",
              "      <td>2</td>\n",
              "      <td>44</td>\n",
              "      <td>1</td>\n",
              "      <td>16</td>\n",
              "      <td>0</td>\n",
              "      <td>0</td>\n",
              "      <td>0</td>\n",
              "      <td>554</td>\n",
              "      <td>96</td>\n",
              "      <td>248</td>\n",
              "      <td>7</td>\n",
              "      <td>2</td>\n",
              "      <td>2</td>\n",
              "      <td>1</td>\n",
              "      <td>1</td>\n",
              "      <td>1</td>\n",
              "      <td>1</td>\n",
              "      <td>1</td>\n",
              "      <td>0</td>\n",
              "      <td>1</td>\n",
              "      <td>1</td>\n",
              "      <td>0</td>\n",
              "      <td>1</td>\n",
              "      <td>1</td>\n",
              "      <td>1</td>\n",
              "      <td>1</td>\n",
              "      <td>0</td>\n",
              "      <td>0</td>\n",
              "      <td>0</td>\n",
              "      <td>0</td>\n",
              "      <td>3</td>\n",
              "      <td>1</td>\n",
              "      <td>0</td>\n",
              "      <td>0</td>\n",
              "      <td>0</td>\n",
              "      <td>0</td>\n",
              "      <td>0</td>\n",
              "    </tr>\n",
              "    <tr>\n",
              "      <th>4</th>\n",
              "      <td>2</td>\n",
              "      <td>1</td>\n",
              "      <td>4</td>\n",
              "      <td>1</td>\n",
              "      <td>51</td>\n",
              "      <td>0</td>\n",
              "      <td>8</td>\n",
              "      <td>0</td>\n",
              "      <td>0</td>\n",
              "      <td>0</td>\n",
              "      <td>54</td>\n",
              "      <td>23</td>\n",
              "      <td>86</td>\n",
              "      <td>5</td>\n",
              "      <td>2</td>\n",
              "      <td>2</td>\n",
              "      <td>1</td>\n",
              "      <td>1</td>\n",
              "      <td>1</td>\n",
              "      <td>1</td>\n",
              "      <td>1</td>\n",
              "      <td>0</td>\n",
              "      <td>2</td>\n",
              "      <td>1</td>\n",
              "      <td>0</td>\n",
              "      <td>1</td>\n",
              "      <td>1</td>\n",
              "      <td>1</td>\n",
              "      <td>1</td>\n",
              "      <td>0</td>\n",
              "      <td>0</td>\n",
              "      <td>0</td>\n",
              "      <td>0</td>\n",
              "      <td>2</td>\n",
              "      <td>1</td>\n",
              "      <td>0</td>\n",
              "      <td>0</td>\n",
              "      <td>0</td>\n",
              "      <td>0</td>\n",
              "      <td>0</td>\n",
              "    </tr>\n",
              "    <tr>\n",
              "      <th>5</th>\n",
              "      <td>2</td>\n",
              "      <td>1</td>\n",
              "      <td>5</td>\n",
              "      <td>3</td>\n",
              "      <td>31</td>\n",
              "      <td>6</td>\n",
              "      <td>16</td>\n",
              "      <td>0</td>\n",
              "      <td>0</td>\n",
              "      <td>0</td>\n",
              "      <td>263</td>\n",
              "      <td>245</td>\n",
              "      <td>86</td>\n",
              "      <td>9</td>\n",
              "      <td>2</td>\n",
              "      <td>2</td>\n",
              "      <td>1</td>\n",
              "      <td>1</td>\n",
              "      <td>1</td>\n",
              "      <td>1</td>\n",
              "      <td>1</td>\n",
              "      <td>0</td>\n",
              "      <td>1</td>\n",
              "      <td>1</td>\n",
              "      <td>0</td>\n",
              "      <td>1</td>\n",
              "      <td>1</td>\n",
              "      <td>1</td>\n",
              "      <td>1</td>\n",
              "      <td>0</td>\n",
              "      <td>0</td>\n",
              "      <td>0</td>\n",
              "      <td>0</td>\n",
              "      <td>2</td>\n",
              "      <td>1</td>\n",
              "      <td>0</td>\n",
              "      <td>0</td>\n",
              "      <td>0</td>\n",
              "      <td>0</td>\n",
              "      <td>1</td>\n",
              "    </tr>\n",
              "  </tbody>\n",
              "</table>\n",
              "</div>"
            ],
            "text/plain": [
              "   race  gender  age  ...  metformin-rosiglitazone  metformin-pioglitazone  change\n",
              "1     2       0    1  ...                        0                       0       0\n",
              "2     0       0    2  ...                        0                       0       1\n",
              "3     2       1    3  ...                        0                       0       0\n",
              "4     2       1    4  ...                        0                       0       0\n",
              "5     2       1    5  ...                        0                       0       1\n",
              "\n",
              "[5 rows x 40 columns]"
            ]
          },
          "metadata": {
            "tags": []
          },
          "execution_count": 50
        }
      ]
    },
    {
      "cell_type": "code",
      "metadata": {
        "id": "aSphH473g-IV",
        "colab_type": "code",
        "colab": {}
      },
      "source": [
        "indpnt_att = df"
      ],
      "execution_count": 0,
      "outputs": []
    },
    {
      "cell_type": "code",
      "metadata": {
        "id": "hieEJly400pq",
        "colab_type": "code",
        "colab": {}
      },
      "source": [
        "std_scale=StandardScaler()\n",
        "indpnt_att=std_scale.fit_transform(indpnt_att)"
      ],
      "execution_count": 0,
      "outputs": []
    },
    {
      "cell_type": "code",
      "metadata": {
        "id": "oBcordpL00R2",
        "colab_type": "code",
        "outputId": "7365082f-e31a-43fa-d158-5d8cd4305862",
        "colab": {
          "base_uri": "https://localhost:8080/",
          "height": 193
        }
      },
      "source": [
        "indpnt_att[0]"
      ],
      "execution_count": 0,
      "outputs": [
        {
          "output_type": "execute_result",
          "data": {
            "text/plain": [
              "array([ 3.15833138e-01, -9.26796782e-01, -3.29017640e+00, -4.74808390e-01,\n",
              "        8.03716121e-01, -7.89217071e-01,  2.31898547e-01, -2.92418450e-01,\n",
              "       -2.13183339e-01, -5.06403636e-01, -1.21796503e+00, -1.30824753e+00,\n",
              "       -9.09073998e-01,  8.17053313e-01,  5.19254863e-02,  2.02672122e-01,\n",
              "       -4.49558647e-01, -1.14419770e-01, -7.99293645e-02, -2.75307419e-02,\n",
              "       -2.09726574e-01, -3.15844248e-03, -3.33598717e-01, -2.95840191e-01,\n",
              "       -1.51490205e-02, -2.65709860e-01, -2.48240426e-01, -5.33980212e-02,\n",
              "       -1.49329871e-02, -5.47063742e-03, -1.89802802e-02,  0.00000000e+00,\n",
              "        0.00000000e+00,  1.90257779e+00, -8.16634528e-02, -1.13886080e-02,\n",
              "       -3.15844248e-03, -4.46673447e-03, -3.15844248e-03, -1.07827097e+00])"
            ]
          },
          "metadata": {
            "tags": []
          },
          "execution_count": 72
        }
      ]
    },
    {
      "cell_type": "markdown",
      "metadata": {
        "id": "nttJyWcRgIOh",
        "colab_type": "text"
      },
      "source": [
        "#Create Train and Testing sets"
      ]
    },
    {
      "cell_type": "code",
      "metadata": {
        "id": "DXc0UOpAgOx6",
        "colab_type": "code",
        "colab": {}
      },
      "source": [
        "x_train,x_test,y_train,y_test = train_test_split(indpnt_att,target_code,test_size=0.30,random_state=57)"
      ],
      "execution_count": 0,
      "outputs": []
    },
    {
      "cell_type": "code",
      "metadata": {
        "id": "IbEDP2eihnBe",
        "colab_type": "code",
        "outputId": "ebd9e128-a4ab-462e-b8cd-00a8bb3563c0",
        "colab": {
          "base_uri": "https://localhost:8080/",
          "height": 34
        }
      },
      "source": [
        "x_train.shape,y_train.shape"
      ],
      "execution_count": 0,
      "outputs": [
        {
          "output_type": "execute_result",
          "data": {
            "text/plain": [
              "((70170, 40), (70170,))"
            ]
          },
          "metadata": {
            "tags": []
          },
          "execution_count": 74
        }
      ]
    },
    {
      "cell_type": "code",
      "metadata": {
        "id": "GpS_4QHfhrGn",
        "colab_type": "code",
        "outputId": "77a45389-8905-4e5e-bd2f-41dbee746fff",
        "colab": {
          "base_uri": "https://localhost:8080/",
          "height": 34
        }
      },
      "source": [
        "x_test.shape,y_test.shape"
      ],
      "execution_count": 0,
      "outputs": [
        {
          "output_type": "execute_result",
          "data": {
            "text/plain": [
              "((30074, 40), (30074,))"
            ]
          },
          "metadata": {
            "tags": []
          },
          "execution_count": 75
        }
      ]
    },
    {
      "cell_type": "markdown",
      "metadata": {
        "id": "B0b1ofB5DVHT",
        "colab_type": "text"
      },
      "source": [
        "#Random Forest"
      ]
    },
    {
      "cell_type": "code",
      "metadata": {
        "id": "kNyUDlSxDY-A",
        "colab_type": "code",
        "outputId": "de1cb641-e8ab-43d3-ec4a-7f8aacaf9791",
        "colab": {
          "base_uri": "https://localhost:8080/",
          "height": 158
        }
      },
      "source": [
        "rf_model = RandomForestClassifier(n_estimators=200,random_state=57)\n",
        "rf_model.fit(x_train,y_train)"
      ],
      "execution_count": 0,
      "outputs": [
        {
          "output_type": "execute_result",
          "data": {
            "text/plain": [
              "RandomForestClassifier(bootstrap=True, ccp_alpha=0.0, class_weight=None,\n",
              "                       criterion='gini', max_depth=None, max_features='auto',\n",
              "                       max_leaf_nodes=None, max_samples=None,\n",
              "                       min_impurity_decrease=0.0, min_impurity_split=None,\n",
              "                       min_samples_leaf=1, min_samples_split=2,\n",
              "                       min_weight_fraction_leaf=0.0, n_estimators=200,\n",
              "                       n_jobs=None, oob_score=False, random_state=57, verbose=0,\n",
              "                       warm_start=False)"
            ]
          },
          "metadata": {
            "tags": []
          },
          "execution_count": 98
        }
      ]
    },
    {
      "cell_type": "code",
      "metadata": {
        "id": "Z7a4j7PGDqAm",
        "colab_type": "code",
        "outputId": "3b0ffc70-96a2-48f9-dd6c-c04cb3121471",
        "colab": {
          "base_uri": "https://localhost:8080/",
          "height": 34
        }
      },
      "source": [
        "rf_model.score(x_test,y_test)"
      ],
      "execution_count": 0,
      "outputs": [
        {
          "output_type": "execute_result",
          "data": {
            "text/plain": [
              "0.5690962293010574"
            ]
          },
          "metadata": {
            "tags": []
          },
          "execution_count": 99
        }
      ]
    },
    {
      "cell_type": "code",
      "metadata": {
        "id": "iSOhRsLWDvAK",
        "colab_type": "code",
        "outputId": "345998d5-900c-492e-9e96-879b6616c7f2",
        "colab": {
          "base_uri": "https://localhost:8080/",
          "height": 52
        }
      },
      "source": [
        "rf_cross_score = cross_val_score(rf_model,x_test,y_test,cv=6)\n",
        "rf_cross_score  "
      ],
      "execution_count": 0,
      "outputs": [
        {
          "output_type": "execute_result",
          "data": {
            "text/plain": [
              "array([0.56313585, 0.57031718, 0.56384677, 0.56025539, 0.56703911,\n",
              "       0.56783719])"
            ]
          },
          "metadata": {
            "tags": []
          },
          "execution_count": 100
        }
      ]
    },
    {
      "cell_type": "code",
      "metadata": {
        "id": "sl5XQjXpD-NM",
        "colab_type": "code",
        "outputId": "1feb9a32-0804-4590-d4f6-0ff6f03ef6c7",
        "colab": {
          "base_uri": "https://localhost:8080/",
          "height": 34
        }
      },
      "source": [
        "rf_cross_score.mean()"
      ],
      "execution_count": 0,
      "outputs": [
        {
          "output_type": "execute_result",
          "data": {
            "text/plain": [
              "0.5552637364719248"
            ]
          },
          "metadata": {
            "tags": []
          },
          "execution_count": 94
        }
      ]
    },
    {
      "cell_type": "markdown",
      "metadata": {
        "id": "SeXP1c7IhwED",
        "colab_type": "text"
      },
      "source": [
        "##SVM Model"
      ]
    },
    {
      "cell_type": "code",
      "metadata": {
        "id": "XjlJCavYhy2j",
        "colab_type": "code",
        "outputId": "a069e220-e2bb-465a-89c2-b68ab1128712",
        "colab": {
          "base_uri": "https://localhost:8080/",
          "height": 87
        }
      },
      "source": [
        "svc_model=SVC(random_state=57)\n",
        "svc_model.fit(x_train,y_train) "
      ],
      "execution_count": 0,
      "outputs": [
        {
          "output_type": "execute_result",
          "data": {
            "text/plain": [
              "SVC(C=1.0, break_ties=False, cache_size=200, class_weight=None, coef0=0.0,\n",
              "    decision_function_shape='ovr', degree=3, gamma='scale', kernel='rbf',\n",
              "    max_iter=-1, probability=False, random_state=57, shrinking=True, tol=0.001,\n",
              "    verbose=False)"
            ]
          },
          "metadata": {
            "tags": []
          },
          "execution_count": 76
        }
      ]
    },
    {
      "cell_type": "code",
      "metadata": {
        "id": "zWaCeuLZjIS7",
        "colab_type": "code",
        "outputId": "a0ea3171-f84c-45aa-a277-dea9fc3d3c42",
        "colab": {
          "base_uri": "https://localhost:8080/",
          "height": 34
        }
      },
      "source": [
        "svc_model.score(x_test,y_test)"
      ],
      "execution_count": 0,
      "outputs": [
        {
          "output_type": "execute_result",
          "data": {
            "text/plain": [
              "0.5741504289419432"
            ]
          },
          "metadata": {
            "tags": []
          },
          "execution_count": 78
        }
      ]
    },
    {
      "cell_type": "code",
      "metadata": {
        "id": "tm71UCutkGsw",
        "colab_type": "code",
        "outputId": "83aebaed-7f10-41f0-f218-412874033704",
        "colab": {
          "base_uri": "https://localhost:8080/",
          "height": 52
        }
      },
      "source": [
        "svc_cross_score=cross_val_score(svc_model,x_test,y_test,cv=6 )\n",
        "svc_cross_score  "
      ],
      "execution_count": 0,
      "outputs": [
        {
          "output_type": "execute_result",
          "data": {
            "text/plain": [
              "array([0.56852184, 0.56612807, 0.5736233 , 0.56544294, 0.56803671,\n",
              "       0.57881085])"
            ]
          },
          "metadata": {
            "tags": []
          },
          "execution_count": 79
        }
      ]
    },
    {
      "cell_type": "code",
      "metadata": {
        "id": "FBPozq88q9gk",
        "colab_type": "code",
        "outputId": "dbb4644c-fd27-46ff-e859-c7b977a0964f",
        "colab": {
          "base_uri": "https://localhost:8080/",
          "height": 34
        }
      },
      "source": [
        "svc_cross_score.mean()"
      ],
      "execution_count": 0,
      "outputs": [
        {
          "output_type": "execute_result",
          "data": {
            "text/plain": [
              "0.5700939528494868"
            ]
          },
          "metadata": {
            "tags": []
          },
          "execution_count": 80
        }
      ]
    },
    {
      "cell_type": "code",
      "metadata": {
        "id": "T2auWuCIB1EZ",
        "colab_type": "code",
        "outputId": "d28dfd03-c4b7-4f2e-d6f0-736c3af1fe60",
        "colab": {
          "base_uri": "https://localhost:8080/",
          "height": 122
        }
      },
      "source": [
        "sgd_model = SGDClassifier(random_state=57)\n",
        "sgd_model.fit(x_train,y_train)"
      ],
      "execution_count": 0,
      "outputs": [
        {
          "output_type": "execute_result",
          "data": {
            "text/plain": [
              "SGDClassifier(alpha=0.0001, average=False, class_weight=None,\n",
              "              early_stopping=False, epsilon=0.1, eta0=0.0, fit_intercept=True,\n",
              "              l1_ratio=0.15, learning_rate='optimal', loss='hinge',\n",
              "              max_iter=1000, n_iter_no_change=5, n_jobs=None, penalty='l2',\n",
              "              power_t=0.5, random_state=57, shuffle=True, tol=0.001,\n",
              "              validation_fraction=0.1, verbose=0, warm_start=False)"
            ]
          },
          "metadata": {
            "tags": []
          },
          "execution_count": 83
        }
      ]
    },
    {
      "cell_type": "code",
      "metadata": {
        "id": "WU0JGBfaCQJ9",
        "colab_type": "code",
        "outputId": "bcaae33a-7fab-4275-e127-b358136cc39a",
        "colab": {
          "base_uri": "https://localhost:8080/",
          "height": 34
        }
      },
      "source": [
        "sgd_model.score(x_test,y_test)"
      ],
      "execution_count": 0,
      "outputs": [
        {
          "output_type": "execute_result",
          "data": {
            "text/plain": [
              "0.5511072687371151"
            ]
          },
          "metadata": {
            "tags": []
          },
          "execution_count": 84
        }
      ]
    },
    {
      "cell_type": "code",
      "metadata": {
        "id": "HqT2GjeICW9K",
        "colab_type": "code",
        "outputId": "75236325-95e6-4509-8f51-39eed01d0782",
        "colab": {
          "base_uri": "https://localhost:8080/",
          "height": 52
        }
      },
      "source": [
        "sgd_cross_score = cross_val_score(sgd_model,x_test,y_test,cv=6)\n",
        "sgd_cross_score "
      ],
      "execution_count": 0,
      "outputs": [
        {
          "output_type": "execute_result",
          "data": {
            "text/plain": [
              "array([0.54338719, 0.5443846 , 0.54449322, 0.54888268, 0.55267358,\n",
              "       0.5442937 ])"
            ]
          },
          "metadata": {
            "tags": []
          },
          "execution_count": 86
        }
      ]
    },
    {
      "cell_type": "code",
      "metadata": {
        "id": "O2PUzl15Cst1",
        "colab_type": "code",
        "outputId": "533e98da-1de7-4671-f39a-0eadcfb12a6b",
        "colab": {
          "base_uri": "https://localhost:8080/",
          "height": 34
        }
      },
      "source": [
        "sgd_cross_score.mean()"
      ],
      "execution_count": 0,
      "outputs": [
        {
          "output_type": "execute_result",
          "data": {
            "text/plain": [
              "0.5463524949523365"
            ]
          },
          "metadata": {
            "tags": []
          },
          "execution_count": 87
        }
      ]
    }
  ]
}