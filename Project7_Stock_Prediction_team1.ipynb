{
  "nbformat": 4,
  "nbformat_minor": 0,
  "metadata": {
    "colab": {
      "name": "Project7_Stock_Prediction_team1.ipynb",
      "provenance": [],
      "collapsed_sections": [],
      "toc_visible": true,
      "include_colab_link": true
    },
    "kernelspec": {
      "name": "python3",
      "display_name": "Python 3"
    }
  },
  "cells": [
    {
      "cell_type": "markdown",
      "metadata": {
        "id": "view-in-github",
        "colab_type": "text"
      },
      "source": [
        "<a href=\"https://colab.research.google.com/github/ahshawaf/AML/blob/project7/Project7_Stock_Prediction_team1.ipynb\" target=\"_parent\"><img src=\"https://colab.research.google.com/assets/colab-badge.svg\" alt=\"Open In Colab\"/></a>"
      ]
    },
    {
      "cell_type": "markdown",
      "metadata": {
        "id": "aJ0DfM6ZVu8y",
        "colab_type": "text"
      },
      "source": [
        "![alt text](https://dataanalyticsedge.com/wp-content/uploads/2019/11/stocks_BSE_Nifty_Sensex__markets_bse_nse_nifty-1_1280-770x433.jpg)\n",
        "\n",
        "Predicting how the stock market will perform is one of the most difficult things to do. There are so many factors involved in the prediction – physical factors vs. physhological, rational and irrational behaviour, etc. All these aspects combine to make share prices volatile and very difficult to predict with a high degree of accuracy.\n",
        "\n",
        "Can we use machine learning as a game changer in this domain? In this project, historical stock prices data of Apple and Amazon company, from 2006 to 2017, were used for experimentation, using machine learning techniques, such as RNN, LSTM, and GRU.\n"
      ]
    },
    {
      "cell_type": "markdown",
      "metadata": {
        "id": "oIxcpnqOs7NV",
        "colab_type": "text"
      },
      "source": [
        "#Setup"
      ]
    },
    {
      "cell_type": "code",
      "metadata": {
        "id": "b6Ee4UEssJV3",
        "colab_type": "code",
        "outputId": "e8d8a6db-fa80-45bc-f563-de13427d1c86",
        "colab": {
          "base_uri": "https://localhost:8080/",
          "height": 34
        }
      },
      "source": [
        "# Common Import\n",
        "import sklearn\n",
        "import pandas as pd\n",
        "import numpy as np\n",
        "\n",
        "# Algorithm libraries\n",
        "from keras.models import Sequential\n",
        "from keras.layers import Dense, Dropout, LSTM, GRU, Bidirectional\n",
        "from keras import optimizers\n",
        "from keras import losses\n",
        "\n",
        "from sklearn.preprocessing import MinMaxScaler\n",
        "from sklearn.metrics import mean_squared_error\n",
        "\n",
        "from datetime import date\n",
        "\n",
        "import math\n",
        "\n",
        "# Visaulization libraries\n",
        "import seaborn as sns\n",
        "%matplotlib inline\n",
        "import matplotlib.pyplot as plt\n",
        "plt.style.use(\"fivethirtyeight\")\n",
        "\n",
        "# Disable warnings\n",
        "import warnings\n",
        "warnings.filterwarnings('ignore')\n",
        "\n",
        "# sklearn version > 0.20 is required \n",
        "sklearn.__version__\n",
        "# Update sklearn -> !pip install -U scikit-learn"
      ],
      "execution_count": 585,
      "outputs": [
        {
          "output_type": "execute_result",
          "data": {
            "text/plain": [
              "'0.22.2.post1'"
            ]
          },
          "metadata": {
            "tags": []
          },
          "execution_count": 585
        }
      ]
    },
    {
      "cell_type": "markdown",
      "metadata": {
        "id": "Jd0nLQnlurxZ",
        "colab_type": "text"
      },
      "source": [
        "#Load Data"
      ]
    },
    {
      "cell_type": "code",
      "metadata": {
        "id": "4Be6vr26uqfm",
        "colab_type": "code",
        "colab": {}
      },
      "source": [
        "apple_stock = pd.read_csv('https://raw.githubusercontent.com/seansothey/CSC685/master/AAPL_2006-01-01_to_2018-01-01.csv',index_col='Date', parse_dates=[\"Date\"]) "
      ],
      "execution_count": 0,
      "outputs": []
    },
    {
      "cell_type": "code",
      "metadata": {
        "id": "d89wRAHRv2ZM",
        "colab_type": "code",
        "outputId": "4a0d56ed-3465-4d6f-b6d3-14ceec8b183c",
        "colab": {
          "base_uri": "https://localhost:8080/",
          "height": 431
        }
      },
      "source": [
        "apple_stock"
      ],
      "execution_count": 587,
      "outputs": [
        {
          "output_type": "execute_result",
          "data": {
            "text/html": [
              "<div>\n",
              "<style scoped>\n",
              "    .dataframe tbody tr th:only-of-type {\n",
              "        vertical-align: middle;\n",
              "    }\n",
              "\n",
              "    .dataframe tbody tr th {\n",
              "        vertical-align: top;\n",
              "    }\n",
              "\n",
              "    .dataframe thead th {\n",
              "        text-align: right;\n",
              "    }\n",
              "</style>\n",
              "<table border=\"1\" class=\"dataframe\">\n",
              "  <thead>\n",
              "    <tr style=\"text-align: right;\">\n",
              "      <th></th>\n",
              "      <th>Open</th>\n",
              "      <th>High</th>\n",
              "      <th>Low</th>\n",
              "      <th>Close</th>\n",
              "      <th>Volume</th>\n",
              "      <th>Name</th>\n",
              "    </tr>\n",
              "    <tr>\n",
              "      <th>Date</th>\n",
              "      <th></th>\n",
              "      <th></th>\n",
              "      <th></th>\n",
              "      <th></th>\n",
              "      <th></th>\n",
              "      <th></th>\n",
              "    </tr>\n",
              "  </thead>\n",
              "  <tbody>\n",
              "    <tr>\n",
              "      <th>2006-01-03</th>\n",
              "      <td>10.34</td>\n",
              "      <td>10.68</td>\n",
              "      <td>10.32</td>\n",
              "      <td>10.68</td>\n",
              "      <td>201853036</td>\n",
              "      <td>AAPL</td>\n",
              "    </tr>\n",
              "    <tr>\n",
              "      <th>2006-01-04</th>\n",
              "      <td>10.73</td>\n",
              "      <td>10.85</td>\n",
              "      <td>10.64</td>\n",
              "      <td>10.71</td>\n",
              "      <td>155225609</td>\n",
              "      <td>AAPL</td>\n",
              "    </tr>\n",
              "    <tr>\n",
              "      <th>2006-01-05</th>\n",
              "      <td>10.69</td>\n",
              "      <td>10.70</td>\n",
              "      <td>10.54</td>\n",
              "      <td>10.63</td>\n",
              "      <td>112396081</td>\n",
              "      <td>AAPL</td>\n",
              "    </tr>\n",
              "    <tr>\n",
              "      <th>2006-01-06</th>\n",
              "      <td>10.75</td>\n",
              "      <td>10.96</td>\n",
              "      <td>10.65</td>\n",
              "      <td>10.90</td>\n",
              "      <td>176139334</td>\n",
              "      <td>AAPL</td>\n",
              "    </tr>\n",
              "    <tr>\n",
              "      <th>2006-01-09</th>\n",
              "      <td>10.96</td>\n",
              "      <td>11.03</td>\n",
              "      <td>10.82</td>\n",
              "      <td>10.86</td>\n",
              "      <td>168861224</td>\n",
              "      <td>AAPL</td>\n",
              "    </tr>\n",
              "    <tr>\n",
              "      <th>...</th>\n",
              "      <td>...</td>\n",
              "      <td>...</td>\n",
              "      <td>...</td>\n",
              "      <td>...</td>\n",
              "      <td>...</td>\n",
              "      <td>...</td>\n",
              "    </tr>\n",
              "    <tr>\n",
              "      <th>2017-12-22</th>\n",
              "      <td>174.68</td>\n",
              "      <td>175.42</td>\n",
              "      <td>174.50</td>\n",
              "      <td>175.01</td>\n",
              "      <td>16349444</td>\n",
              "      <td>AAPL</td>\n",
              "    </tr>\n",
              "    <tr>\n",
              "      <th>2017-12-26</th>\n",
              "      <td>170.80</td>\n",
              "      <td>171.47</td>\n",
              "      <td>169.68</td>\n",
              "      <td>170.57</td>\n",
              "      <td>33185536</td>\n",
              "      <td>AAPL</td>\n",
              "    </tr>\n",
              "    <tr>\n",
              "      <th>2017-12-27</th>\n",
              "      <td>170.10</td>\n",
              "      <td>170.78</td>\n",
              "      <td>169.71</td>\n",
              "      <td>170.60</td>\n",
              "      <td>21498213</td>\n",
              "      <td>AAPL</td>\n",
              "    </tr>\n",
              "    <tr>\n",
              "      <th>2017-12-28</th>\n",
              "      <td>171.00</td>\n",
              "      <td>171.85</td>\n",
              "      <td>170.48</td>\n",
              "      <td>171.08</td>\n",
              "      <td>16480187</td>\n",
              "      <td>AAPL</td>\n",
              "    </tr>\n",
              "    <tr>\n",
              "      <th>2017-12-29</th>\n",
              "      <td>170.52</td>\n",
              "      <td>170.59</td>\n",
              "      <td>169.22</td>\n",
              "      <td>169.23</td>\n",
              "      <td>25999922</td>\n",
              "      <td>AAPL</td>\n",
              "    </tr>\n",
              "  </tbody>\n",
              "</table>\n",
              "<p>3019 rows × 6 columns</p>\n",
              "</div>"
            ],
            "text/plain": [
              "              Open    High     Low   Close     Volume  Name\n",
              "Date                                                       \n",
              "2006-01-03   10.34   10.68   10.32   10.68  201853036  AAPL\n",
              "2006-01-04   10.73   10.85   10.64   10.71  155225609  AAPL\n",
              "2006-01-05   10.69   10.70   10.54   10.63  112396081  AAPL\n",
              "2006-01-06   10.75   10.96   10.65   10.90  176139334  AAPL\n",
              "2006-01-09   10.96   11.03   10.82   10.86  168861224  AAPL\n",
              "...            ...     ...     ...     ...        ...   ...\n",
              "2017-12-22  174.68  175.42  174.50  175.01   16349444  AAPL\n",
              "2017-12-26  170.80  171.47  169.68  170.57   33185536  AAPL\n",
              "2017-12-27  170.10  170.78  169.71  170.60   21498213  AAPL\n",
              "2017-12-28  171.00  171.85  170.48  171.08   16480187  AAPL\n",
              "2017-12-29  170.52  170.59  169.22  169.23   25999922  AAPL\n",
              "\n",
              "[3019 rows x 6 columns]"
            ]
          },
          "metadata": {
            "tags": []
          },
          "execution_count": 587
        }
      ]
    },
    {
      "cell_type": "markdown",
      "metadata": {
        "id": "GmIEwhXF5qi2",
        "colab_type": "text"
      },
      "source": [
        "Check if there're missing data"
      ]
    },
    {
      "cell_type": "code",
      "metadata": {
        "id": "JuOOhchc5q7Y",
        "colab_type": "code",
        "outputId": "78525d85-349f-4b14-8838-79638e52d4a8",
        "colab": {
          "base_uri": "https://localhost:8080/",
          "height": 134
        }
      },
      "source": [
        "apple_stock.isna().sum()"
      ],
      "execution_count": 588,
      "outputs": [
        {
          "output_type": "execute_result",
          "data": {
            "text/plain": [
              "Open      0\n",
              "High      0\n",
              "Low       0\n",
              "Close     0\n",
              "Volume    0\n",
              "Name      0\n",
              "dtype: int64"
            ]
          },
          "metadata": {
            "tags": []
          },
          "execution_count": 588
        }
      ]
    },
    {
      "cell_type": "markdown",
      "metadata": {
        "id": "Bn06gruX6puc",
        "colab_type": "text"
      },
      "source": [
        "No missing values. GREAT !!!"
      ]
    },
    {
      "cell_type": "markdown",
      "metadata": {
        "id": "AczLNf8uvsc5",
        "colab_type": "text"
      },
      "source": [
        "The assignment promts to use 12 motnths record; therefore, let's use data in 2016 as a training set and 2017 as a test set, by using only price 'High' column"
      ]
    },
    {
      "cell_type": "code",
      "metadata": {
        "id": "h0Yb9zJkvpxP",
        "colab_type": "code",
        "colab": {}
      },
      "source": [
        "train_2016 = apple_stock['2016':'2016'].iloc[:,1:2].values\n",
        "test_2017 = apple_stock['2017':].iloc[:,1:2].values"
      ],
      "execution_count": 0,
      "outputs": []
    },
    {
      "cell_type": "code",
      "metadata": {
        "id": "lyfqTDmD8Rcl",
        "colab_type": "code",
        "outputId": "4d6aefc0-5817-402d-f3e0-3e3f9665736d",
        "colab": {
          "base_uri": "https://localhost:8080/",
          "height": 34
        }
      },
      "source": [
        "train_2016.shape, test_2017.shape"
      ],
      "execution_count": 590,
      "outputs": [
        {
          "output_type": "execute_result",
          "data": {
            "text/plain": [
              "((252, 1), (251, 1))"
            ]
          },
          "metadata": {
            "tags": []
          },
          "execution_count": 590
        }
      ]
    },
    {
      "cell_type": "markdown",
      "metadata": {
        "id": "xNB1reInyxMh",
        "colab_type": "text"
      },
      "source": [
        "###Visualization of \"High\" attribute"
      ]
    },
    {
      "cell_type": "code",
      "metadata": {
        "id": "occj27yo3q1r",
        "colab_type": "code",
        "outputId": "6ed99271-dcfc-4849-9c20-089d3f3557c5",
        "colab": {
          "base_uri": "https://localhost:8080/",
          "height": 412
        }
      },
      "source": [
        "apple_stock[\"High\"]['2016':'2016'].plot(figsize=(16,6), legend=True)\n",
        "apple_stock[\"High\"][\"2017\":].plot(figsize=(16,6), legend=True)\n",
        "plt.legend([\"Price 'High' 2016\", \"Price 'High' 2017\"])\n",
        "plt.title(\"Apple Stock\")\n",
        "plt.show()"
      ],
      "execution_count": 591,
      "outputs": [
        {
          "output_type": "display_data",
          "data": {
            "image/png": "[encoded data removed]",
            "text/plain": [
              "<Figure size 1152x432 with 1 Axes>"
            ]
          },
          "metadata": {
            "tags": []
          }
        }
      ]
    },
    {
      "cell_type": "markdown",
      "metadata": {
        "id": "W6Qi1G4u7DkA",
        "colab_type": "text"
      },
      "source": [
        "###Scale the training set"
      ]
    },
    {
      "cell_type": "code",
      "metadata": {
        "id": "--e8WIL263UQ",
        "colab_type": "code",
        "colab": {}
      },
      "source": [
        "sc = MinMaxScaler(feature_range=(0,1))\n",
        "sc.fit(train_2016)\n",
        "train_sc = sc.transform(train_2016)"
      ],
      "execution_count": 0,
      "outputs": []
    },
    {
      "cell_type": "markdown",
      "metadata": {
        "id": "7uuO76A39Fai",
        "colab_type": "text"
      },
      "source": [
        "###Create traininig set for LSTM with X=10 days for each output y"
      ]
    },
    {
      "cell_type": "code",
      "metadata": {
        "id": "5HfjvrxW63SF",
        "colab_type": "code",
        "colab": {}
      },
      "source": [
        "X_train = []\n",
        "y_train = []\n",
        "\n",
        "for i in range(10,train_2016.shape[0]):\n",
        "    X_train.append(train_sc[i-10:i, 0])\n",
        "    y_train.append(train_sc[i,0])\n",
        "\n",
        "X_train, y_train = np.array(X_train), np.array(y_train)"
      ],
      "execution_count": 0,
      "outputs": []
    },
    {
      "cell_type": "code",
      "metadata": {
        "id": "0biOwdNH63Ml",
        "colab_type": "code",
        "outputId": "d37ebee1-1ea6-4494-8bf5-2df45c954226",
        "colab": {
          "base_uri": "https://localhost:8080/",
          "height": 50
        }
      },
      "source": [
        "X_train[0] # 10 days data"
      ],
      "execution_count": 594,
      "outputs": [
        {
          "output_type": "execute_result",
          "data": {
            "text/plain": [
              "array([0.50703183, 0.52479645, 0.39600296, 0.31310141, 0.27535159,\n",
              "       0.27350111, 0.33382679, 0.35233161, 0.32605477, 0.22353812])"
            ]
          },
          "metadata": {
            "tags": []
          },
          "execution_count": 594
        }
      ]
    },
    {
      "cell_type": "code",
      "metadata": {
        "id": "xD0AkE2K-lwj",
        "colab_type": "code",
        "outputId": "a066c443-e2d1-45d8-f600-b02c65d776b6",
        "colab": {
          "base_uri": "https://localhost:8080/",
          "height": 34
        }
      },
      "source": [
        "y_train[0]"
      ],
      "execution_count": 595,
      "outputs": [
        {
          "output_type": "execute_result",
          "data": {
            "text/plain": [
              "0.2583271650629162"
            ]
          },
          "metadata": {
            "tags": []
          },
          "execution_count": 595
        }
      ]
    },
    {
      "cell_type": "code",
      "metadata": {
        "id": "UXFx2WXo-0zq",
        "colab_type": "code",
        "outputId": "a771775f-65c3-479a-a0e3-f857143e4e26",
        "colab": {
          "base_uri": "https://localhost:8080/",
          "height": 34
        }
      },
      "source": [
        "X_train.shape, y_train.shape"
      ],
      "execution_count": 596,
      "outputs": [
        {
          "output_type": "execute_result",
          "data": {
            "text/plain": [
              "((242, 10), (242,))"
            ]
          },
          "metadata": {
            "tags": []
          },
          "execution_count": 596
        }
      ]
    },
    {
      "cell_type": "code",
      "metadata": {
        "id": "08PHbiXS_NT8",
        "colab_type": "code",
        "colab": {}
      },
      "source": [
        "# Reshape X_train for efficient modelling\n",
        "\n",
        "X_train = np.reshape(X_train, (X_train.shape[0], X_train.shape[1], 1))"
      ],
      "execution_count": 0,
      "outputs": []
    },
    {
      "cell_type": "code",
      "metadata": {
        "id": "WpicnUQl_Nkp",
        "colab_type": "code",
        "outputId": "a5ce146e-5379-4a09-d254-3620362a341a",
        "colab": {
          "base_uri": "https://localhost:8080/",
          "height": 34
        }
      },
      "source": [
        "X_train.shape"
      ],
      "execution_count": 598,
      "outputs": [
        {
          "output_type": "execute_result",
          "data": {
            "text/plain": [
              "(242, 10, 1)"
            ]
          },
          "metadata": {
            "tags": []
          },
          "execution_count": 598
        }
      ]
    },
    {
      "cell_type": "markdown",
      "metadata": {
        "id": "Dfk5bxrYAAOT",
        "colab_type": "text"
      },
      "source": [
        "#LSTM's model"
      ]
    },
    {
      "cell_type": "code",
      "metadata": {
        "id": "gH4xZWQtAG9a",
        "colab_type": "code",
        "colab": {}
      },
      "source": [
        "regressor = Sequential()\n",
        "\n",
        "# add first layer with dropout\n",
        "regressor.add(LSTM(units=242, return_sequences=True,activation='relu', input_shape=(X_train.shape[1],1)))\n",
        "regressor.add(Dropout(0.2))\n",
        "\n",
        "# add second layer\n",
        "regressor.add(LSTM(units=100,activation='relu', return_sequences=True))\n",
        "regressor.add(Dropout(0.2))\n",
        "\n",
        "# add third layer\n",
        "regressor.add(LSTM(units=50,activation='relu'))\n",
        "regressor.add(Dropout(0.2))\n",
        "\n",
        "# add fourth layer\n",
        "#regressor.add(LSTM(units=50))\n",
        "#regressor.add(Dropout(0.2))\n",
        "\n",
        "# the output layer\n",
        "regressor.add(Dense(units=1))"
      ],
      "execution_count": 0,
      "outputs": []
    },
    {
      "cell_type": "markdown",
      "metadata": {
        "id": "yIlUhQW7AoXt",
        "colab_type": "text"
      },
      "source": [
        "###Compile LSTM RNN network"
      ]
    },
    {
      "cell_type": "code",
      "metadata": {
        "id": "xa_ZZQLPAy8i",
        "colab_type": "code",
        "colab": {}
      },
      "source": [
        "regressor.compile(optimizer=optimizers.SGD(lr=0.01, decay=1e-7, momentum=0.9, nesterov=False), loss='mean_squared_error')"
      ],
      "execution_count": 0,
      "outputs": []
    },
    {
      "cell_type": "code",
      "metadata": {
        "id": "EY6Gfo0CA24h",
        "colab_type": "code",
        "colab": {
          "base_uri": "https://localhost:8080/",
          "height": 386
        },
        "outputId": "7ed3c50e-016a-4c70-ce50-fbcb7880e83d"
      },
      "source": [
        "regressor.summary()"
      ],
      "execution_count": 601,
      "outputs": [
        {
          "output_type": "stream",
          "text": [
            "Model: \"sequential_29\"\n",
            "_________________________________________________________________\n",
            "Layer (type)                 Output Shape              Param #   \n",
            "=================================================================\n",
            "lstm_67 (LSTM)               (None, 10, 242)           236192    \n",
            "_________________________________________________________________\n",
            "dropout_93 (Dropout)         (None, 10, 242)           0         \n",
            "_________________________________________________________________\n",
            "lstm_68 (LSTM)               (None, 10, 100)           137200    \n",
            "_________________________________________________________________\n",
            "dropout_94 (Dropout)         (None, 10, 100)           0         \n",
            "_________________________________________________________________\n",
            "lstm_69 (LSTM)               (None, 50)                30200     \n",
            "_________________________________________________________________\n",
            "dropout_95 (Dropout)         (None, 50)                0         \n",
            "_________________________________________________________________\n",
            "dense_29 (Dense)             (None, 1)                 51        \n",
            "=================================================================\n",
            "Total params: 403,643\n",
            "Trainable params: 403,643\n",
            "Non-trainable params: 0\n",
            "_________________________________________________________________\n"
          ],
          "name": "stdout"
        }
      ]
    },
    {
      "cell_type": "markdown",
      "metadata": {
        "id": "yoR4JPBlA4ul",
        "colab_type": "text"
      },
      "source": [
        "###Fit the model with training set"
      ]
    },
    {
      "cell_type": "code",
      "metadata": {
        "id": "mfxlQlNpA2DZ",
        "colab_type": "code",
        "outputId": "e5f831fe-2af6-4e98-f9c4-ef209d76607c",
        "colab": {
          "base_uri": "https://localhost:8080/",
          "height": 1000
        }
      },
      "source": [
        "regressor.fit(X_train, y_train, epochs=400, batch_size=50, validation_split=0.30)"
      ],
      "execution_count": 602,
      "outputs": [
        {
          "output_type": "stream",
          "text": [
            "Train on 169 samples, validate on 73 samples\n",
            "Epoch 1/400\n",
            "169/169 [==============================] - 1s 7ms/step - loss: 0.1699 - val_loss: 0.5116\n",
            "Epoch 2/400\n",
            "169/169 [==============================] - 0s 2ms/step - loss: 0.0868 - val_loss: 0.2534\n",
            "Epoch 3/400\n",
            "169/169 [==============================] - 0s 2ms/step - loss: 0.0460 - val_loss: 0.1192\n",
            "Epoch 4/400\n",
            "169/169 [==============================] - 0s 2ms/step - loss: 0.0657 - val_loss: 0.0911\n",
            "Epoch 5/400\n",
            "169/169 [==============================] - 0s 2ms/step - loss: 0.0670 - val_loss: 0.1321\n",
            "Epoch 6/400\n",
            "169/169 [==============================] - 0s 2ms/step - loss: 0.0500 - val_loss: 0.2047\n",
            "Epoch 7/400\n",
            "169/169 [==============================] - 0s 2ms/step - loss: 0.0466 - val_loss: 0.2644\n",
            "Epoch 8/400\n",
            "169/169 [==============================] - 0s 2ms/step - loss: 0.0481 - val_loss: 0.2672\n",
            "Epoch 9/400\n",
            "169/169 [==============================] - 0s 2ms/step - loss: 0.0492 - val_loss: 0.2319\n",
            "Epoch 10/400\n",
            "169/169 [==============================] - 0s 2ms/step - loss: 0.0446 - val_loss: 0.1888\n",
            "Epoch 11/400\n",
            "169/169 [==============================] - 0s 2ms/step - loss: 0.0445 - val_loss: 0.1681\n",
            "Epoch 12/400\n",
            "169/169 [==============================] - 0s 2ms/step - loss: 0.0453 - val_loss: 0.1714\n",
            "Epoch 13/400\n",
            "169/169 [==============================] - 0s 2ms/step - loss: 0.0460 - val_loss: 0.1860\n",
            "Epoch 14/400\n",
            "169/169 [==============================] - 0s 2ms/step - loss: 0.0451 - val_loss: 0.2068\n",
            "Epoch 15/400\n",
            "169/169 [==============================] - 0s 2ms/step - loss: 0.0459 - val_loss: 0.2204\n",
            "Epoch 16/400\n",
            "169/169 [==============================] - 0s 2ms/step - loss: 0.0440 - val_loss: 0.2147\n",
            "Epoch 17/400\n",
            "169/169 [==============================] - 0s 2ms/step - loss: 0.0432 - val_loss: 0.2048\n",
            "Epoch 18/400\n",
            "169/169 [==============================] - 0s 2ms/step - loss: 0.0432 - val_loss: 0.1932\n",
            "Epoch 19/400\n",
            "169/169 [==============================] - 0s 2ms/step - loss: 0.0438 - val_loss: 0.1862\n",
            "Epoch 20/400\n",
            "169/169 [==============================] - 0s 2ms/step - loss: 0.0438 - val_loss: 0.1899\n",
            "Epoch 21/400\n",
            "169/169 [==============================] - 0s 2ms/step - loss: 0.0421 - val_loss: 0.1903\n",
            "Epoch 22/400\n",
            "169/169 [==============================] - 0s 2ms/step - loss: 0.0418 - val_loss: 0.1916\n",
            "Epoch 23/400\n",
            "169/169 [==============================] - 0s 2ms/step - loss: 0.0425 - val_loss: 0.1950\n",
            "Epoch 24/400\n",
            "169/169 [==============================] - 0s 2ms/step - loss: 0.0427 - val_loss: 0.1969\n",
            "Epoch 25/400\n",
            "169/169 [==============================] - 0s 2ms/step - loss: 0.0422 - val_loss: 0.1924\n",
            "Epoch 26/400\n",
            "169/169 [==============================] - 0s 2ms/step - loss: 0.0432 - val_loss: 0.1927\n",
            "Epoch 27/400\n",
            "169/169 [==============================] - 0s 2ms/step - loss: 0.0420 - val_loss: 0.1910\n",
            "Epoch 28/400\n",
            "169/169 [==============================] - 0s 2ms/step - loss: 0.0410 - val_loss: 0.1881\n",
            "Epoch 29/400\n",
            "169/169 [==============================] - 0s 2ms/step - loss: 0.0398 - val_loss: 0.1812\n",
            "Epoch 30/400\n",
            "169/169 [==============================] - 0s 2ms/step - loss: 0.0419 - val_loss: 0.1778\n",
            "Epoch 31/400\n",
            "169/169 [==============================] - 0s 2ms/step - loss: 0.0410 - val_loss: 0.1800\n",
            "Epoch 32/400\n",
            "169/169 [==============================] - 0s 2ms/step - loss: 0.0408 - val_loss: 0.1802\n",
            "Epoch 33/400\n",
            "169/169 [==============================] - 0s 2ms/step - loss: 0.0404 - val_loss: 0.1778\n",
            "Epoch 34/400\n",
            "169/169 [==============================] - 0s 2ms/step - loss: 0.0400 - val_loss: 0.1775\n",
            "Epoch 35/400\n",
            "169/169 [==============================] - 0s 2ms/step - loss: 0.0389 - val_loss: 0.1780\n",
            "Epoch 36/400\n",
            "169/169 [==============================] - 0s 2ms/step - loss: 0.0393 - val_loss: 0.1705\n",
            "Epoch 37/400\n",
            "169/169 [==============================] - 0s 2ms/step - loss: 0.0389 - val_loss: 0.1672\n",
            "Epoch 38/400\n",
            "169/169 [==============================] - 0s 2ms/step - loss: 0.0385 - val_loss: 0.1667\n",
            "Epoch 39/400\n",
            "169/169 [==============================] - 0s 2ms/step - loss: 0.0389 - val_loss: 0.1672\n",
            "Epoch 40/400\n",
            "169/169 [==============================] - 0s 2ms/step - loss: 0.0389 - val_loss: 0.1660\n",
            "Epoch 41/400\n",
            "169/169 [==============================] - 0s 2ms/step - loss: 0.0387 - val_loss: 0.1692\n",
            "Epoch 42/400\n",
            "169/169 [==============================] - 0s 2ms/step - loss: 0.0385 - val_loss: 0.1588\n",
            "Epoch 43/400\n",
            "169/169 [==============================] - 0s 2ms/step - loss: 0.0395 - val_loss: 0.1563\n",
            "Epoch 44/400\n",
            "169/169 [==============================] - 0s 2ms/step - loss: 0.0363 - val_loss: 0.1581\n",
            "Epoch 45/400\n",
            "169/169 [==============================] - 0s 2ms/step - loss: 0.0382 - val_loss: 0.1505\n",
            "Epoch 46/400\n",
            "169/169 [==============================] - 0s 2ms/step - loss: 0.0373 - val_loss: 0.1464\n",
            "Epoch 47/400\n",
            "169/169 [==============================] - 0s 2ms/step - loss: 0.0356 - val_loss: 0.1423\n",
            "Epoch 48/400\n",
            "169/169 [==============================] - 0s 2ms/step - loss: 0.0358 - val_loss: 0.1398\n",
            "Epoch 49/400\n",
            "169/169 [==============================] - 0s 2ms/step - loss: 0.0356 - val_loss: 0.1473\n",
            "Epoch 50/400\n",
            "169/169 [==============================] - 0s 2ms/step - loss: 0.0346 - val_loss: 0.1484\n",
            "Epoch 51/400\n",
            "169/169 [==============================] - 0s 2ms/step - loss: 0.0335 - val_loss: 0.1376\n",
            "Epoch 52/400\n",
            "169/169 [==============================] - 0s 2ms/step - loss: 0.0342 - val_loss: 0.1327\n",
            "Epoch 53/400\n",
            "169/169 [==============================] - 0s 2ms/step - loss: 0.0340 - val_loss: 0.1305\n",
            "Epoch 54/400\n",
            "169/169 [==============================] - 0s 2ms/step - loss: 0.0327 - val_loss: 0.1303\n",
            "Epoch 55/400\n",
            "169/169 [==============================] - 0s 2ms/step - loss: 0.0325 - val_loss: 0.1313\n",
            "Epoch 56/400\n",
            "169/169 [==============================] - 0s 2ms/step - loss: 0.0333 - val_loss: 0.1378\n",
            "Epoch 57/400\n",
            "169/169 [==============================] - 0s 2ms/step - loss: 0.0322 - val_loss: 0.1329\n",
            "Epoch 58/400\n",
            "169/169 [==============================] - 0s 2ms/step - loss: 0.0294 - val_loss: 0.1213\n",
            "Epoch 59/400\n",
            "169/169 [==============================] - 0s 2ms/step - loss: 0.0299 - val_loss: 0.1077\n",
            "Epoch 60/400\n",
            "169/169 [==============================] - 0s 2ms/step - loss: 0.0304 - val_loss: 0.1021\n",
            "Epoch 61/400\n",
            "169/169 [==============================] - 0s 2ms/step - loss: 0.0312 - val_loss: 0.1071\n",
            "Epoch 62/400\n",
            "169/169 [==============================] - 0s 2ms/step - loss: 0.0300 - val_loss: 0.1107\n",
            "Epoch 63/400\n",
            "169/169 [==============================] - 0s 2ms/step - loss: 0.0295 - val_loss: 0.1040\n",
            "Epoch 64/400\n",
            "169/169 [==============================] - 0s 2ms/step - loss: 0.0277 - val_loss: 0.0923\n",
            "Epoch 65/400\n",
            "169/169 [==============================] - 0s 2ms/step - loss: 0.0262 - val_loss: 0.0912\n",
            "Epoch 66/400\n",
            "169/169 [==============================] - 0s 2ms/step - loss: 0.0275 - val_loss: 0.0948\n",
            "Epoch 67/400\n",
            "169/169 [==============================] - 0s 2ms/step - loss: 0.0257 - val_loss: 0.0965\n",
            "Epoch 68/400\n",
            "169/169 [==============================] - 0s 2ms/step - loss: 0.0251 - val_loss: 0.0876\n",
            "Epoch 69/400\n",
            "169/169 [==============================] - 0s 2ms/step - loss: 0.0257 - val_loss: 0.0745\n",
            "Epoch 70/400\n",
            "169/169 [==============================] - 0s 2ms/step - loss: 0.0243 - val_loss: 0.0718\n",
            "Epoch 71/400\n",
            "169/169 [==============================] - 0s 2ms/step - loss: 0.0241 - val_loss: 0.0711\n",
            "Epoch 72/400\n",
            "169/169 [==============================] - 0s 2ms/step - loss: 0.0232 - val_loss: 0.0723\n",
            "Epoch 73/400\n",
            "169/169 [==============================] - 0s 2ms/step - loss: 0.0223 - val_loss: 0.0707\n",
            "Epoch 74/400\n",
            "169/169 [==============================] - 0s 2ms/step - loss: 0.0225 - val_loss: 0.0647\n",
            "Epoch 75/400\n",
            "169/169 [==============================] - 0s 2ms/step - loss: 0.0230 - val_loss: 0.0612\n",
            "Epoch 76/400\n",
            "169/169 [==============================] - 0s 2ms/step - loss: 0.0210 - val_loss: 0.0571\n",
            "Epoch 77/400\n",
            "169/169 [==============================] - 0s 2ms/step - loss: 0.0206 - val_loss: 0.0572\n",
            "Epoch 78/400\n",
            "169/169 [==============================] - 0s 2ms/step - loss: 0.0203 - val_loss: 0.0536\n",
            "Epoch 79/400\n",
            "169/169 [==============================] - 0s 2ms/step - loss: 0.0201 - val_loss: 0.0467\n",
            "Epoch 80/400\n",
            "169/169 [==============================] - 0s 2ms/step - loss: 0.0183 - val_loss: 0.0440\n",
            "Epoch 81/400\n",
            "169/169 [==============================] - 0s 2ms/step - loss: 0.0198 - val_loss: 0.0466\n",
            "Epoch 82/400\n",
            "169/169 [==============================] - 0s 2ms/step - loss: 0.0203 - val_loss: 0.0440\n",
            "Epoch 83/400\n",
            "169/169 [==============================] - 0s 2ms/step - loss: 0.0197 - val_loss: 0.0375\n",
            "Epoch 84/400\n",
            "169/169 [==============================] - 0s 2ms/step - loss: 0.0187 - val_loss: 0.0379\n",
            "Epoch 85/400\n",
            "169/169 [==============================] - 0s 2ms/step - loss: 0.0191 - val_loss: 0.0345\n",
            "Epoch 86/400\n",
            "169/169 [==============================] - 0s 2ms/step - loss: 0.0186 - val_loss: 0.0332\n",
            "Epoch 87/400\n",
            "169/169 [==============================] - 0s 2ms/step - loss: 0.0190 - val_loss: 0.0311\n",
            "Epoch 88/400\n",
            "169/169 [==============================] - 0s 2ms/step - loss: 0.0174 - val_loss: 0.0320\n",
            "Epoch 89/400\n",
            "169/169 [==============================] - 0s 2ms/step - loss: 0.0184 - val_loss: 0.0326\n",
            "Epoch 90/400\n",
            "169/169 [==============================] - 0s 2ms/step - loss: 0.0177 - val_loss: 0.0316\n",
            "Epoch 91/400\n",
            "169/169 [==============================] - 0s 2ms/step - loss: 0.0172 - val_loss: 0.0277\n",
            "Epoch 92/400\n",
            "169/169 [==============================] - 0s 2ms/step - loss: 0.0194 - val_loss: 0.0273\n",
            "Epoch 93/400\n",
            "169/169 [==============================] - 0s 2ms/step - loss: 0.0176 - val_loss: 0.0266\n",
            "Epoch 94/400\n",
            "169/169 [==============================] - 0s 2ms/step - loss: 0.0167 - val_loss: 0.0261\n",
            "Epoch 95/400\n",
            "169/169 [==============================] - 0s 2ms/step - loss: 0.0187 - val_loss: 0.0248\n",
            "Epoch 96/400\n",
            "169/169 [==============================] - 0s 2ms/step - loss: 0.0173 - val_loss: 0.0270\n",
            "Epoch 97/400\n",
            "169/169 [==============================] - 0s 2ms/step - loss: 0.0193 - val_loss: 0.0288\n",
            "Epoch 98/400\n",
            "169/169 [==============================] - 0s 2ms/step - loss: 0.0179 - val_loss: 0.0235\n",
            "Epoch 99/400\n",
            "169/169 [==============================] - 0s 2ms/step - loss: 0.0169 - val_loss: 0.0224\n",
            "Epoch 100/400\n",
            "169/169 [==============================] - 0s 2ms/step - loss: 0.0176 - val_loss: 0.0200\n",
            "Epoch 101/400\n",
            "169/169 [==============================] - 0s 2ms/step - loss: 0.0178 - val_loss: 0.0247\n",
            "Epoch 102/400\n",
            "169/169 [==============================] - 0s 2ms/step - loss: 0.0174 - val_loss: 0.0288\n",
            "Epoch 103/400\n",
            "169/169 [==============================] - 0s 2ms/step - loss: 0.0190 - val_loss: 0.0236\n",
            "Epoch 104/400\n",
            "169/169 [==============================] - 0s 2ms/step - loss: 0.0182 - val_loss: 0.0188\n",
            "Epoch 105/400\n",
            "169/169 [==============================] - 0s 2ms/step - loss: 0.0187 - val_loss: 0.0203\n",
            "Epoch 106/400\n",
            "169/169 [==============================] - 0s 2ms/step - loss: 0.0162 - val_loss: 0.0261\n",
            "Epoch 107/400\n",
            "169/169 [==============================] - 0s 2ms/step - loss: 0.0175 - val_loss: 0.0257\n",
            "Epoch 108/400\n",
            "169/169 [==============================] - 0s 2ms/step - loss: 0.0168 - val_loss: 0.0195\n",
            "Epoch 109/400\n",
            "169/169 [==============================] - 0s 2ms/step - loss: 0.0180 - val_loss: 0.0168\n",
            "Epoch 110/400\n",
            "169/169 [==============================] - 0s 2ms/step - loss: 0.0178 - val_loss: 0.0195\n",
            "Epoch 111/400\n",
            "169/169 [==============================] - 0s 2ms/step - loss: 0.0180 - val_loss: 0.0238\n",
            "Epoch 112/400\n",
            "169/169 [==============================] - 0s 2ms/step - loss: 0.0178 - val_loss: 0.0246\n",
            "Epoch 113/400\n",
            "169/169 [==============================] - 0s 2ms/step - loss: 0.0173 - val_loss: 0.0223\n",
            "Epoch 114/400\n",
            "169/169 [==============================] - 0s 2ms/step - loss: 0.0173 - val_loss: 0.0183\n",
            "Epoch 115/400\n",
            "169/169 [==============================] - 0s 2ms/step - loss: 0.0192 - val_loss: 0.0213\n",
            "Epoch 116/400\n",
            "169/169 [==============================] - 0s 2ms/step - loss: 0.0174 - val_loss: 0.0257\n",
            "Epoch 117/400\n",
            "169/169 [==============================] - 0s 2ms/step - loss: 0.0173 - val_loss: 0.0234\n",
            "Epoch 118/400\n",
            "169/169 [==============================] - 0s 2ms/step - loss: 0.0180 - val_loss: 0.0204\n",
            "Epoch 119/400\n",
            "169/169 [==============================] - 0s 2ms/step - loss: 0.0185 - val_loss: 0.0222\n",
            "Epoch 120/400\n",
            "169/169 [==============================] - 0s 2ms/step - loss: 0.0167 - val_loss: 0.0243\n",
            "Epoch 121/400\n",
            "169/169 [==============================] - 0s 2ms/step - loss: 0.0184 - val_loss: 0.0227\n",
            "Epoch 122/400\n",
            "169/169 [==============================] - 0s 2ms/step - loss: 0.0170 - val_loss: 0.0195\n",
            "Epoch 123/400\n",
            "169/169 [==============================] - 0s 2ms/step - loss: 0.0169 - val_loss: 0.0191\n",
            "Epoch 124/400\n",
            "169/169 [==============================] - 0s 2ms/step - loss: 0.0164 - val_loss: 0.0209\n",
            "Epoch 125/400\n",
            "169/169 [==============================] - 0s 2ms/step - loss: 0.0181 - val_loss: 0.0242\n",
            "Epoch 126/400\n",
            "169/169 [==============================] - 0s 2ms/step - loss: 0.0161 - val_loss: 0.0232\n",
            "Epoch 127/400\n",
            "169/169 [==============================] - 0s 2ms/step - loss: 0.0167 - val_loss: 0.0195\n",
            "Epoch 128/400\n",
            "169/169 [==============================] - 0s 2ms/step - loss: 0.0180 - val_loss: 0.0165\n",
            "Epoch 129/400\n",
            "169/169 [==============================] - 0s 2ms/step - loss: 0.0189 - val_loss: 0.0191\n",
            "Epoch 130/400\n",
            "169/169 [==============================] - 0s 2ms/step - loss: 0.0163 - val_loss: 0.0241\n",
            "Epoch 131/400\n",
            "169/169 [==============================] - 0s 2ms/step - loss: 0.0155 - val_loss: 0.0236\n",
            "Epoch 132/400\n",
            "169/169 [==============================] - 0s 2ms/step - loss: 0.0168 - val_loss: 0.0190\n",
            "Epoch 133/400\n",
            "169/169 [==============================] - 0s 2ms/step - loss: 0.0186 - val_loss: 0.0165\n",
            "Epoch 134/400\n",
            "169/169 [==============================] - 0s 2ms/step - loss: 0.0181 - val_loss: 0.0180\n",
            "Epoch 135/400\n",
            "169/169 [==============================] - 0s 2ms/step - loss: 0.0177 - val_loss: 0.0195\n",
            "Epoch 136/400\n",
            "169/169 [==============================] - 0s 2ms/step - loss: 0.0163 - val_loss: 0.0209\n",
            "Epoch 137/400\n",
            "169/169 [==============================] - 0s 2ms/step - loss: 0.0169 - val_loss: 0.0207\n",
            "Epoch 138/400\n",
            "169/169 [==============================] - 0s 2ms/step - loss: 0.0171 - val_loss: 0.0215\n",
            "Epoch 139/400\n",
            "169/169 [==============================] - 0s 2ms/step - loss: 0.0150 - val_loss: 0.0199\n",
            "Epoch 140/400\n",
            "169/169 [==============================] - 0s 2ms/step - loss: 0.0159 - val_loss: 0.0216\n",
            "Epoch 141/400\n",
            "169/169 [==============================] - 0s 2ms/step - loss: 0.0169 - val_loss: 0.0208\n",
            "Epoch 142/400\n",
            "169/169 [==============================] - 0s 2ms/step - loss: 0.0164 - val_loss: 0.0194\n",
            "Epoch 143/400\n",
            "169/169 [==============================] - 0s 2ms/step - loss: 0.0182 - val_loss: 0.0187\n",
            "Epoch 144/400\n",
            "169/169 [==============================] - 0s 2ms/step - loss: 0.0159 - val_loss: 0.0206\n",
            "Epoch 145/400\n",
            "169/169 [==============================] - 0s 2ms/step - loss: 0.0174 - val_loss: 0.0229\n",
            "Epoch 146/400\n",
            "169/169 [==============================] - 0s 2ms/step - loss: 0.0165 - val_loss: 0.0182\n",
            "Epoch 147/400\n",
            "169/169 [==============================] - 1s 3ms/step - loss: 0.0151 - val_loss: 0.0187\n",
            "Epoch 148/400\n",
            "169/169 [==============================] - 1s 3ms/step - loss: 0.0184 - val_loss: 0.0207\n",
            "Epoch 149/400\n",
            "169/169 [==============================] - 0s 3ms/step - loss: 0.0172 - val_loss: 0.0205\n",
            "Epoch 150/400\n",
            "169/169 [==============================] - 0s 3ms/step - loss: 0.0165 - val_loss: 0.0178\n",
            "Epoch 151/400\n",
            "169/169 [==============================] - 0s 3ms/step - loss: 0.0161 - val_loss: 0.0166\n",
            "Epoch 152/400\n",
            "169/169 [==============================] - 0s 3ms/step - loss: 0.0163 - val_loss: 0.0188\n",
            "Epoch 153/400\n",
            "169/169 [==============================] - 0s 3ms/step - loss: 0.0167 - val_loss: 0.0204\n",
            "Epoch 154/400\n",
            "169/169 [==============================] - 1s 3ms/step - loss: 0.0168 - val_loss: 0.0183\n",
            "Epoch 155/400\n",
            "169/169 [==============================] - 0s 3ms/step - loss: 0.0173 - val_loss: 0.0178\n",
            "Epoch 156/400\n",
            "169/169 [==============================] - 1s 3ms/step - loss: 0.0157 - val_loss: 0.0172\n",
            "Epoch 157/400\n",
            "169/169 [==============================] - 1s 3ms/step - loss: 0.0176 - val_loss: 0.0182\n",
            "Epoch 158/400\n",
            "169/169 [==============================] - 1s 3ms/step - loss: 0.0169 - val_loss: 0.0217\n",
            "Epoch 159/400\n",
            "169/169 [==============================] - 0s 3ms/step - loss: 0.0164 - val_loss: 0.0225\n",
            "Epoch 160/400\n",
            "169/169 [==============================] - 1s 3ms/step - loss: 0.0173 - val_loss: 0.0192\n",
            "Epoch 161/400\n",
            "169/169 [==============================] - 0s 3ms/step - loss: 0.0170 - val_loss: 0.0157\n",
            "Epoch 162/400\n",
            "169/169 [==============================] - 1s 3ms/step - loss: 0.0165 - val_loss: 0.0177\n",
            "Epoch 163/400\n",
            "169/169 [==============================] - 0s 3ms/step - loss: 0.0168 - val_loss: 0.0207\n",
            "Epoch 164/400\n",
            "169/169 [==============================] - 1s 3ms/step - loss: 0.0167 - val_loss: 0.0206\n",
            "Epoch 165/400\n",
            "169/169 [==============================] - 0s 2ms/step - loss: 0.0171 - val_loss: 0.0207\n",
            "Epoch 166/400\n",
            "169/169 [==============================] - 0s 2ms/step - loss: 0.0172 - val_loss: 0.0180\n",
            "Epoch 167/400\n",
            "169/169 [==============================] - 0s 2ms/step - loss: 0.0160 - val_loss: 0.0156\n",
            "Epoch 168/400\n",
            "169/169 [==============================] - 0s 2ms/step - loss: 0.0167 - val_loss: 0.0186\n",
            "Epoch 169/400\n",
            "169/169 [==============================] - 0s 2ms/step - loss: 0.0165 - val_loss: 0.0211\n",
            "Epoch 170/400\n",
            "169/169 [==============================] - 0s 2ms/step - loss: 0.0165 - val_loss: 0.0194\n",
            "Epoch 171/400\n",
            "169/169 [==============================] - 0s 2ms/step - loss: 0.0168 - val_loss: 0.0174\n",
            "Epoch 172/400\n",
            "169/169 [==============================] - 0s 2ms/step - loss: 0.0162 - val_loss: 0.0165\n",
            "Epoch 173/400\n",
            "169/169 [==============================] - 0s 2ms/step - loss: 0.0171 - val_loss: 0.0160\n",
            "Epoch 174/400\n",
            "169/169 [==============================] - 0s 2ms/step - loss: 0.0163 - val_loss: 0.0160\n",
            "Epoch 175/400\n",
            "169/169 [==============================] - 0s 2ms/step - loss: 0.0171 - val_loss: 0.0182\n",
            "Epoch 176/400\n",
            "169/169 [==============================] - 0s 2ms/step - loss: 0.0163 - val_loss: 0.0176\n",
            "Epoch 177/400\n",
            "169/169 [==============================] - 0s 2ms/step - loss: 0.0169 - val_loss: 0.0177\n",
            "Epoch 178/400\n",
            "169/169 [==============================] - 0s 2ms/step - loss: 0.0158 - val_loss: 0.0176\n",
            "Epoch 179/400\n",
            "169/169 [==============================] - 0s 2ms/step - loss: 0.0159 - val_loss: 0.0178\n",
            "Epoch 180/400\n",
            "169/169 [==============================] - 0s 2ms/step - loss: 0.0166 - val_loss: 0.0192\n",
            "Epoch 181/400\n",
            "169/169 [==============================] - 0s 2ms/step - loss: 0.0157 - val_loss: 0.0179\n",
            "Epoch 182/400\n",
            "169/169 [==============================] - 0s 2ms/step - loss: 0.0161 - val_loss: 0.0176\n",
            "Epoch 183/400\n",
            "169/169 [==============================] - 0s 2ms/step - loss: 0.0162 - val_loss: 0.0160\n",
            "Epoch 184/400\n",
            "169/169 [==============================] - 0s 2ms/step - loss: 0.0169 - val_loss: 0.0179\n",
            "Epoch 185/400\n",
            "169/169 [==============================] - 0s 2ms/step - loss: 0.0157 - val_loss: 0.0188\n",
            "Epoch 186/400\n",
            "169/169 [==============================] - 0s 2ms/step - loss: 0.0158 - val_loss: 0.0195\n",
            "Epoch 187/400\n",
            "169/169 [==============================] - 0s 2ms/step - loss: 0.0167 - val_loss: 0.0183\n",
            "Epoch 188/400\n",
            "169/169 [==============================] - 0s 2ms/step - loss: 0.0168 - val_loss: 0.0166\n",
            "Epoch 189/400\n",
            "169/169 [==============================] - 0s 2ms/step - loss: 0.0173 - val_loss: 0.0165\n",
            "Epoch 190/400\n",
            "169/169 [==============================] - 0s 2ms/step - loss: 0.0167 - val_loss: 0.0174\n",
            "Epoch 191/400\n",
            "169/169 [==============================] - 0s 2ms/step - loss: 0.0172 - val_loss: 0.0171\n",
            "Epoch 192/400\n",
            "169/169 [==============================] - 0s 2ms/step - loss: 0.0173 - val_loss: 0.0166\n",
            "Epoch 193/400\n",
            "169/169 [==============================] - 0s 2ms/step - loss: 0.0156 - val_loss: 0.0155\n",
            "Epoch 194/400\n",
            "169/169 [==============================] - 0s 2ms/step - loss: 0.0160 - val_loss: 0.0182\n",
            "Epoch 195/400\n",
            "169/169 [==============================] - 0s 2ms/step - loss: 0.0159 - val_loss: 0.0201\n",
            "Epoch 196/400\n",
            "169/169 [==============================] - 0s 2ms/step - loss: 0.0161 - val_loss: 0.0191\n",
            "Epoch 197/400\n",
            "169/169 [==============================] - 0s 2ms/step - loss: 0.0165 - val_loss: 0.0171\n",
            "Epoch 198/400\n",
            "169/169 [==============================] - 0s 2ms/step - loss: 0.0168 - val_loss: 0.0145\n",
            "Epoch 199/400\n",
            "169/169 [==============================] - 0s 2ms/step - loss: 0.0169 - val_loss: 0.0151\n",
            "Epoch 200/400\n",
            "169/169 [==============================] - 0s 2ms/step - loss: 0.0155 - val_loss: 0.0170\n",
            "Epoch 201/400\n",
            "169/169 [==============================] - 0s 2ms/step - loss: 0.0151 - val_loss: 0.0181\n",
            "Epoch 202/400\n",
            "169/169 [==============================] - 0s 2ms/step - loss: 0.0168 - val_loss: 0.0205\n",
            "Epoch 203/400\n",
            "169/169 [==============================] - 0s 2ms/step - loss: 0.0173 - val_loss: 0.0192\n",
            "Epoch 204/400\n",
            "169/169 [==============================] - 0s 2ms/step - loss: 0.0174 - val_loss: 0.0148\n",
            "Epoch 205/400\n",
            "169/169 [==============================] - 0s 2ms/step - loss: 0.0166 - val_loss: 0.0159\n",
            "Epoch 206/400\n",
            "169/169 [==============================] - 0s 2ms/step - loss: 0.0167 - val_loss: 0.0190\n",
            "Epoch 207/400\n",
            "169/169 [==============================] - 0s 2ms/step - loss: 0.0164 - val_loss: 0.0193\n",
            "Epoch 208/400\n",
            "169/169 [==============================] - 0s 2ms/step - loss: 0.0174 - val_loss: 0.0181\n",
            "Epoch 209/400\n",
            "169/169 [==============================] - 0s 2ms/step - loss: 0.0159 - val_loss: 0.0156\n",
            "Epoch 210/400\n",
            "169/169 [==============================] - 0s 2ms/step - loss: 0.0161 - val_loss: 0.0140\n",
            "Epoch 211/400\n",
            "169/169 [==============================] - 0s 2ms/step - loss: 0.0167 - val_loss: 0.0164\n",
            "Epoch 212/400\n",
            "169/169 [==============================] - 0s 2ms/step - loss: 0.0165 - val_loss: 0.0194\n",
            "Epoch 213/400\n",
            "169/169 [==============================] - 0s 2ms/step - loss: 0.0157 - val_loss: 0.0185\n",
            "Epoch 214/400\n",
            "169/169 [==============================] - 0s 2ms/step - loss: 0.0168 - val_loss: 0.0162\n",
            "Epoch 215/400\n",
            "169/169 [==============================] - 0s 2ms/step - loss: 0.0156 - val_loss: 0.0147\n",
            "Epoch 216/400\n",
            "169/169 [==============================] - 0s 2ms/step - loss: 0.0165 - val_loss: 0.0148\n",
            "Epoch 217/400\n",
            "169/169 [==============================] - 0s 2ms/step - loss: 0.0167 - val_loss: 0.0158\n",
            "Epoch 218/400\n",
            "169/169 [==============================] - 0s 2ms/step - loss: 0.0142 - val_loss: 0.0156\n",
            "Epoch 219/400\n",
            "169/169 [==============================] - 0s 2ms/step - loss: 0.0173 - val_loss: 0.0166\n",
            "Epoch 220/400\n",
            "169/169 [==============================] - 0s 2ms/step - loss: 0.0170 - val_loss: 0.0168\n",
            "Epoch 221/400\n",
            "169/169 [==============================] - 0s 2ms/step - loss: 0.0177 - val_loss: 0.0158\n",
            "Epoch 222/400\n",
            "169/169 [==============================] - 0s 2ms/step - loss: 0.0173 - val_loss: 0.0166\n",
            "Epoch 223/400\n",
            "169/169 [==============================] - 0s 2ms/step - loss: 0.0149 - val_loss: 0.0162\n",
            "Epoch 224/400\n",
            "169/169 [==============================] - 0s 2ms/step - loss: 0.0172 - val_loss: 0.0155\n",
            "Epoch 225/400\n",
            "169/169 [==============================] - 0s 2ms/step - loss: 0.0170 - val_loss: 0.0168\n",
            "Epoch 226/400\n",
            "169/169 [==============================] - 0s 2ms/step - loss: 0.0161 - val_loss: 0.0167\n",
            "Epoch 227/400\n",
            "169/169 [==============================] - 0s 2ms/step - loss: 0.0162 - val_loss: 0.0185\n",
            "Epoch 228/400\n",
            "169/169 [==============================] - 0s 2ms/step - loss: 0.0173 - val_loss: 0.0187\n",
            "Epoch 229/400\n",
            "169/169 [==============================] - 0s 2ms/step - loss: 0.0177 - val_loss: 0.0161\n",
            "Epoch 230/400\n",
            "169/169 [==============================] - 0s 2ms/step - loss: 0.0168 - val_loss: 0.0152\n",
            "Epoch 231/400\n",
            "169/169 [==============================] - 0s 2ms/step - loss: 0.0169 - val_loss: 0.0153\n",
            "Epoch 232/400\n",
            "169/169 [==============================] - 0s 2ms/step - loss: 0.0176 - val_loss: 0.0151\n",
            "Epoch 233/400\n",
            "169/169 [==============================] - 0s 2ms/step - loss: 0.0174 - val_loss: 0.0168\n",
            "Epoch 234/400\n",
            "169/169 [==============================] - 0s 2ms/step - loss: 0.0161 - val_loss: 0.0172\n",
            "Epoch 235/400\n",
            "169/169 [==============================] - 0s 2ms/step - loss: 0.0164 - val_loss: 0.0175\n",
            "Epoch 236/400\n",
            "169/169 [==============================] - 0s 2ms/step - loss: 0.0160 - val_loss: 0.0157\n",
            "Epoch 237/400\n",
            "169/169 [==============================] - 0s 2ms/step - loss: 0.0157 - val_loss: 0.0138\n",
            "Epoch 238/400\n",
            "169/169 [==============================] - 0s 2ms/step - loss: 0.0156 - val_loss: 0.0156\n",
            "Epoch 239/400\n",
            "169/169 [==============================] - 0s 2ms/step - loss: 0.0160 - val_loss: 0.0176\n",
            "Epoch 240/400\n",
            "169/169 [==============================] - 0s 2ms/step - loss: 0.0156 - val_loss: 0.0168\n",
            "Epoch 241/400\n",
            "169/169 [==============================] - 0s 2ms/step - loss: 0.0162 - val_loss: 0.0159\n",
            "Epoch 242/400\n",
            "169/169 [==============================] - 0s 2ms/step - loss: 0.0155 - val_loss: 0.0150\n",
            "Epoch 243/400\n",
            "169/169 [==============================] - 0s 2ms/step - loss: 0.0153 - val_loss: 0.0153\n",
            "Epoch 244/400\n",
            "169/169 [==============================] - 0s 2ms/step - loss: 0.0156 - val_loss: 0.0153\n",
            "Epoch 245/400\n",
            "169/169 [==============================] - 0s 2ms/step - loss: 0.0161 - val_loss: 0.0159\n",
            "Epoch 246/400\n",
            "169/169 [==============================] - 0s 2ms/step - loss: 0.0156 - val_loss: 0.0169\n",
            "Epoch 247/400\n",
            "169/169 [==============================] - 0s 2ms/step - loss: 0.0168 - val_loss: 0.0175\n",
            "Epoch 248/400\n",
            "169/169 [==============================] - 0s 2ms/step - loss: 0.0151 - val_loss: 0.0169\n",
            "Epoch 249/400\n",
            "169/169 [==============================] - 0s 2ms/step - loss: 0.0161 - val_loss: 0.0154\n",
            "Epoch 250/400\n",
            "169/169 [==============================] - 0s 2ms/step - loss: 0.0154 - val_loss: 0.0157\n",
            "Epoch 251/400\n",
            "169/169 [==============================] - 0s 2ms/step - loss: 0.0159 - val_loss: 0.0157\n",
            "Epoch 252/400\n",
            "169/169 [==============================] - 0s 2ms/step - loss: 0.0151 - val_loss: 0.0155\n",
            "Epoch 253/400\n",
            "169/169 [==============================] - 0s 2ms/step - loss: 0.0163 - val_loss: 0.0161\n",
            "Epoch 254/400\n",
            "169/169 [==============================] - 0s 2ms/step - loss: 0.0163 - val_loss: 0.0158\n",
            "Epoch 255/400\n",
            "169/169 [==============================] - 0s 2ms/step - loss: 0.0171 - val_loss: 0.0164\n",
            "Epoch 256/400\n",
            "169/169 [==============================] - 0s 2ms/step - loss: 0.0162 - val_loss: 0.0176\n",
            "Epoch 257/400\n",
            "169/169 [==============================] - 0s 2ms/step - loss: 0.0156 - val_loss: 0.0173\n",
            "Epoch 258/400\n",
            "169/169 [==============================] - 0s 2ms/step - loss: 0.0156 - val_loss: 0.0172\n",
            "Epoch 259/400\n",
            "169/169 [==============================] - 0s 2ms/step - loss: 0.0164 - val_loss: 0.0150\n",
            "Epoch 260/400\n",
            "169/169 [==============================] - 0s 2ms/step - loss: 0.0163 - val_loss: 0.0141\n",
            "Epoch 261/400\n",
            "169/169 [==============================] - 0s 2ms/step - loss: 0.0168 - val_loss: 0.0161\n",
            "Epoch 262/400\n",
            "169/169 [==============================] - 0s 2ms/step - loss: 0.0156 - val_loss: 0.0181\n",
            "Epoch 263/400\n",
            "169/169 [==============================] - 0s 2ms/step - loss: 0.0152 - val_loss: 0.0180\n",
            "Epoch 264/400\n",
            "169/169 [==============================] - 0s 2ms/step - loss: 0.0154 - val_loss: 0.0171\n",
            "Epoch 265/400\n",
            "169/169 [==============================] - 0s 2ms/step - loss: 0.0156 - val_loss: 0.0141\n",
            "Epoch 266/400\n",
            "169/169 [==============================] - 0s 2ms/step - loss: 0.0156 - val_loss: 0.0128\n",
            "Epoch 267/400\n",
            "169/169 [==============================] - 0s 2ms/step - loss: 0.0156 - val_loss: 0.0144\n",
            "Epoch 268/400\n",
            "169/169 [==============================] - 0s 2ms/step - loss: 0.0153 - val_loss: 0.0175\n",
            "Epoch 269/400\n",
            "169/169 [==============================] - 0s 2ms/step - loss: 0.0167 - val_loss: 0.0171\n",
            "Epoch 270/400\n",
            "169/169 [==============================] - 0s 2ms/step - loss: 0.0148 - val_loss: 0.0152\n",
            "Epoch 271/400\n",
            "169/169 [==============================] - 0s 2ms/step - loss: 0.0158 - val_loss: 0.0141\n",
            "Epoch 272/400\n",
            "169/169 [==============================] - 0s 2ms/step - loss: 0.0170 - val_loss: 0.0147\n",
            "Epoch 273/400\n",
            "169/169 [==============================] - 0s 2ms/step - loss: 0.0164 - val_loss: 0.0208\n",
            "Epoch 274/400\n",
            "169/169 [==============================] - 0s 2ms/step - loss: 0.0161 - val_loss: 0.0205\n",
            "Epoch 275/400\n",
            "169/169 [==============================] - 0s 2ms/step - loss: 0.0162 - val_loss: 0.0148\n",
            "Epoch 276/400\n",
            "169/169 [==============================] - 0s 2ms/step - loss: 0.0150 - val_loss: 0.0138\n",
            "Epoch 277/400\n",
            "169/169 [==============================] - 0s 2ms/step - loss: 0.0162 - val_loss: 0.0151\n",
            "Epoch 278/400\n",
            "169/169 [==============================] - 0s 2ms/step - loss: 0.0145 - val_loss: 0.0180\n",
            "Epoch 279/400\n",
            "169/169 [==============================] - 0s 2ms/step - loss: 0.0174 - val_loss: 0.0206\n",
            "Epoch 280/400\n",
            "169/169 [==============================] - 0s 2ms/step - loss: 0.0173 - val_loss: 0.0176\n",
            "Epoch 281/400\n",
            "169/169 [==============================] - 0s 2ms/step - loss: 0.0153 - val_loss: 0.0162\n",
            "Epoch 282/400\n",
            "169/169 [==============================] - 0s 2ms/step - loss: 0.0167 - val_loss: 0.0172\n",
            "Epoch 283/400\n",
            "169/169 [==============================] - 0s 2ms/step - loss: 0.0159 - val_loss: 0.0167\n",
            "Epoch 284/400\n",
            "169/169 [==============================] - 0s 2ms/step - loss: 0.0161 - val_loss: 0.0162\n",
            "Epoch 285/400\n",
            "169/169 [==============================] - 0s 2ms/step - loss: 0.0146 - val_loss: 0.0174\n",
            "Epoch 286/400\n",
            "169/169 [==============================] - 0s 2ms/step - loss: 0.0152 - val_loss: 0.0172\n",
            "Epoch 287/400\n",
            "169/169 [==============================] - 0s 2ms/step - loss: 0.0159 - val_loss: 0.0167\n",
            "Epoch 288/400\n",
            "169/169 [==============================] - 0s 2ms/step - loss: 0.0156 - val_loss: 0.0163\n",
            "Epoch 289/400\n",
            "169/169 [==============================] - 0s 2ms/step - loss: 0.0142 - val_loss: 0.0166\n",
            "Epoch 290/400\n",
            "169/169 [==============================] - 0s 2ms/step - loss: 0.0162 - val_loss: 0.0157\n",
            "Epoch 291/400\n",
            "169/169 [==============================] - 0s 2ms/step - loss: 0.0162 - val_loss: 0.0158\n",
            "Epoch 292/400\n",
            "169/169 [==============================] - 0s 2ms/step - loss: 0.0158 - val_loss: 0.0169\n",
            "Epoch 293/400\n",
            "169/169 [==============================] - 0s 2ms/step - loss: 0.0157 - val_loss: 0.0161\n",
            "Epoch 294/400\n",
            "169/169 [==============================] - 0s 2ms/step - loss: 0.0157 - val_loss: 0.0155\n",
            "Epoch 295/400\n",
            "169/169 [==============================] - 0s 2ms/step - loss: 0.0153 - val_loss: 0.0148\n",
            "Epoch 296/400\n",
            "169/169 [==============================] - 0s 2ms/step - loss: 0.0158 - val_loss: 0.0154\n",
            "Epoch 297/400\n",
            "169/169 [==============================] - 0s 2ms/step - loss: 0.0165 - val_loss: 0.0153\n",
            "Epoch 298/400\n",
            "169/169 [==============================] - 0s 2ms/step - loss: 0.0155 - val_loss: 0.0155\n",
            "Epoch 299/400\n",
            "169/169 [==============================] - 0s 2ms/step - loss: 0.0157 - val_loss: 0.0168\n",
            "Epoch 300/400\n",
            "169/169 [==============================] - 0s 2ms/step - loss: 0.0164 - val_loss: 0.0170\n",
            "Epoch 301/400\n",
            "169/169 [==============================] - 0s 2ms/step - loss: 0.0150 - val_loss: 0.0159\n",
            "Epoch 302/400\n",
            "169/169 [==============================] - 0s 2ms/step - loss: 0.0145 - val_loss: 0.0165\n",
            "Epoch 303/400\n",
            "169/169 [==============================] - 0s 2ms/step - loss: 0.0170 - val_loss: 0.0160\n",
            "Epoch 304/400\n",
            "169/169 [==============================] - 0s 2ms/step - loss: 0.0159 - val_loss: 0.0173\n",
            "Epoch 305/400\n",
            "169/169 [==============================] - 0s 2ms/step - loss: 0.0154 - val_loss: 0.0190\n",
            "Epoch 306/400\n",
            "169/169 [==============================] - 0s 2ms/step - loss: 0.0140 - val_loss: 0.0175\n",
            "Epoch 307/400\n",
            "169/169 [==============================] - 0s 2ms/step - loss: 0.0162 - val_loss: 0.0157\n",
            "Epoch 308/400\n",
            "169/169 [==============================] - 0s 2ms/step - loss: 0.0155 - val_loss: 0.0161\n",
            "Epoch 309/400\n",
            "169/169 [==============================] - 0s 2ms/step - loss: 0.0148 - val_loss: 0.0186\n",
            "Epoch 310/400\n",
            "169/169 [==============================] - 0s 2ms/step - loss: 0.0150 - val_loss: 0.0188\n",
            "Epoch 311/400\n",
            "169/169 [==============================] - 0s 2ms/step - loss: 0.0155 - val_loss: 0.0157\n",
            "Epoch 312/400\n",
            "169/169 [==============================] - 0s 2ms/step - loss: 0.0167 - val_loss: 0.0136\n",
            "Epoch 313/400\n",
            "169/169 [==============================] - 0s 2ms/step - loss: 0.0167 - val_loss: 0.0164\n",
            "Epoch 314/400\n",
            "169/169 [==============================] - 0s 2ms/step - loss: 0.0153 - val_loss: 0.0188\n",
            "Epoch 315/400\n",
            "169/169 [==============================] - 0s 2ms/step - loss: 0.0159 - val_loss: 0.0174\n",
            "Epoch 316/400\n",
            "169/169 [==============================] - 0s 2ms/step - loss: 0.0163 - val_loss: 0.0151\n",
            "Epoch 317/400\n",
            "169/169 [==============================] - 0s 2ms/step - loss: 0.0161 - val_loss: 0.0159\n",
            "Epoch 318/400\n",
            "169/169 [==============================] - 0s 2ms/step - loss: 0.0160 - val_loss: 0.0169\n",
            "Epoch 319/400\n",
            "169/169 [==============================] - 0s 2ms/step - loss: 0.0152 - val_loss: 0.0158\n",
            "Epoch 320/400\n",
            "169/169 [==============================] - 0s 2ms/step - loss: 0.0155 - val_loss: 0.0158\n",
            "Epoch 321/400\n",
            "169/169 [==============================] - 0s 2ms/step - loss: 0.0148 - val_loss: 0.0148\n",
            "Epoch 322/400\n",
            "169/169 [==============================] - 0s 2ms/step - loss: 0.0153 - val_loss: 0.0149\n",
            "Epoch 323/400\n",
            "169/169 [==============================] - 0s 2ms/step - loss: 0.0153 - val_loss: 0.0161\n",
            "Epoch 324/400\n",
            "169/169 [==============================] - 0s 2ms/step - loss: 0.0156 - val_loss: 0.0160\n",
            "Epoch 325/400\n",
            "169/169 [==============================] - 0s 2ms/step - loss: 0.0152 - val_loss: 0.0149\n",
            "Epoch 326/400\n",
            "169/169 [==============================] - 0s 2ms/step - loss: 0.0164 - val_loss: 0.0146\n",
            "Epoch 327/400\n",
            "169/169 [==============================] - 0s 2ms/step - loss: 0.0159 - val_loss: 0.0163\n",
            "Epoch 328/400\n",
            "169/169 [==============================] - 0s 2ms/step - loss: 0.0138 - val_loss: 0.0155\n",
            "Epoch 329/400\n",
            "169/169 [==============================] - 0s 2ms/step - loss: 0.0154 - val_loss: 0.0146\n",
            "Epoch 330/400\n",
            "169/169 [==============================] - 0s 2ms/step - loss: 0.0154 - val_loss: 0.0150\n",
            "Epoch 331/400\n",
            "169/169 [==============================] - 0s 2ms/step - loss: 0.0154 - val_loss: 0.0141\n",
            "Epoch 332/400\n",
            "169/169 [==============================] - 0s 2ms/step - loss: 0.0147 - val_loss: 0.0158\n",
            "Epoch 333/400\n",
            "169/169 [==============================] - 0s 2ms/step - loss: 0.0156 - val_loss: 0.0146\n",
            "Epoch 334/400\n",
            "169/169 [==============================] - 0s 2ms/step - loss: 0.0165 - val_loss: 0.0153\n",
            "Epoch 335/400\n",
            "169/169 [==============================] - 0s 2ms/step - loss: 0.0163 - val_loss: 0.0156\n",
            "Epoch 336/400\n",
            "169/169 [==============================] - 0s 2ms/step - loss: 0.0149 - val_loss: 0.0146\n",
            "Epoch 337/400\n",
            "169/169 [==============================] - 0s 2ms/step - loss: 0.0140 - val_loss: 0.0148\n",
            "Epoch 338/400\n",
            "169/169 [==============================] - 0s 2ms/step - loss: 0.0153 - val_loss: 0.0155\n",
            "Epoch 339/400\n",
            "169/169 [==============================] - 0s 2ms/step - loss: 0.0154 - val_loss: 0.0149\n",
            "Epoch 340/400\n",
            "169/169 [==============================] - 0s 2ms/step - loss: 0.0158 - val_loss: 0.0147\n",
            "Epoch 341/400\n",
            "169/169 [==============================] - 0s 2ms/step - loss: 0.0151 - val_loss: 0.0155\n",
            "Epoch 342/400\n",
            "169/169 [==============================] - 0s 2ms/step - loss: 0.0163 - val_loss: 0.0161\n",
            "Epoch 343/400\n",
            "169/169 [==============================] - 0s 2ms/step - loss: 0.0167 - val_loss: 0.0163\n",
            "Epoch 344/400\n",
            "169/169 [==============================] - 0s 2ms/step - loss: 0.0163 - val_loss: 0.0161\n",
            "Epoch 345/400\n",
            "169/169 [==============================] - 0s 2ms/step - loss: 0.0167 - val_loss: 0.0163\n",
            "Epoch 346/400\n",
            "169/169 [==============================] - 0s 2ms/step - loss: 0.0150 - val_loss: 0.0148\n",
            "Epoch 347/400\n",
            "169/169 [==============================] - 0s 2ms/step - loss: 0.0162 - val_loss: 0.0166\n",
            "Epoch 348/400\n",
            "169/169 [==============================] - 0s 2ms/step - loss: 0.0153 - val_loss: 0.0157\n",
            "Epoch 349/400\n",
            "169/169 [==============================] - 0s 2ms/step - loss: 0.0142 - val_loss: 0.0152\n",
            "Epoch 350/400\n",
            "169/169 [==============================] - 0s 2ms/step - loss: 0.0149 - val_loss: 0.0139\n",
            "Epoch 351/400\n",
            "169/169 [==============================] - 0s 2ms/step - loss: 0.0140 - val_loss: 0.0127\n",
            "Epoch 352/400\n",
            "169/169 [==============================] - 0s 2ms/step - loss: 0.0152 - val_loss: 0.0136\n",
            "Epoch 353/400\n",
            "169/169 [==============================] - 0s 2ms/step - loss: 0.0151 - val_loss: 0.0148\n",
            "Epoch 354/400\n",
            "169/169 [==============================] - 0s 2ms/step - loss: 0.0149 - val_loss: 0.0131\n",
            "Epoch 355/400\n",
            "169/169 [==============================] - 0s 2ms/step - loss: 0.0154 - val_loss: 0.0135\n",
            "Epoch 356/400\n",
            "169/169 [==============================] - 0s 2ms/step - loss: 0.0159 - val_loss: 0.0155\n",
            "Epoch 357/400\n",
            "169/169 [==============================] - 0s 2ms/step - loss: 0.0138 - val_loss: 0.0142\n",
            "Epoch 358/400\n",
            "169/169 [==============================] - 0s 2ms/step - loss: 0.0142 - val_loss: 0.0138\n",
            "Epoch 359/400\n",
            "169/169 [==============================] - 0s 2ms/step - loss: 0.0145 - val_loss: 0.0131\n",
            "Epoch 360/400\n",
            "169/169 [==============================] - 0s 2ms/step - loss: 0.0162 - val_loss: 0.0142\n",
            "Epoch 361/400\n",
            "169/169 [==============================] - 0s 2ms/step - loss: 0.0148 - val_loss: 0.0130\n",
            "Epoch 362/400\n",
            "169/169 [==============================] - 0s 2ms/step - loss: 0.0165 - val_loss: 0.0143\n",
            "Epoch 363/400\n",
            "169/169 [==============================] - 0s 2ms/step - loss: 0.0153 - val_loss: 0.0149\n",
            "Epoch 364/400\n",
            "169/169 [==============================] - 0s 2ms/step - loss: 0.0148 - val_loss: 0.0151\n",
            "Epoch 365/400\n",
            "169/169 [==============================] - 0s 2ms/step - loss: 0.0149 - val_loss: 0.0154\n",
            "Epoch 366/400\n",
            "169/169 [==============================] - 0s 2ms/step - loss: 0.0144 - val_loss: 0.0166\n",
            "Epoch 367/400\n",
            "169/169 [==============================] - 0s 2ms/step - loss: 0.0149 - val_loss: 0.0171\n",
            "Epoch 368/400\n",
            "169/169 [==============================] - 0s 2ms/step - loss: 0.0143 - val_loss: 0.0148\n",
            "Epoch 369/400\n",
            "169/169 [==============================] - 0s 2ms/step - loss: 0.0150 - val_loss: 0.0152\n",
            "Epoch 370/400\n",
            "169/169 [==============================] - 0s 2ms/step - loss: 0.0152 - val_loss: 0.0141\n",
            "Epoch 371/400\n",
            "169/169 [==============================] - 0s 2ms/step - loss: 0.0154 - val_loss: 0.0155\n",
            "Epoch 372/400\n",
            "169/169 [==============================] - 0s 2ms/step - loss: 0.0149 - val_loss: 0.0153\n",
            "Epoch 373/400\n",
            "169/169 [==============================] - 0s 2ms/step - loss: 0.0158 - val_loss: 0.0146\n",
            "Epoch 374/400\n",
            "169/169 [==============================] - 0s 2ms/step - loss: 0.0168 - val_loss: 0.0157\n",
            "Epoch 375/400\n",
            "169/169 [==============================] - 0s 2ms/step - loss: 0.0158 - val_loss: 0.0167\n",
            "Epoch 376/400\n",
            "169/169 [==============================] - 0s 2ms/step - loss: 0.0155 - val_loss: 0.0149\n",
            "Epoch 377/400\n",
            "169/169 [==============================] - 0s 2ms/step - loss: 0.0145 - val_loss: 0.0147\n",
            "Epoch 378/400\n",
            "169/169 [==============================] - 0s 2ms/step - loss: 0.0161 - val_loss: 0.0166\n",
            "Epoch 379/400\n",
            "169/169 [==============================] - 0s 2ms/step - loss: 0.0155 - val_loss: 0.0168\n",
            "Epoch 380/400\n",
            "169/169 [==============================] - 0s 2ms/step - loss: 0.0145 - val_loss: 0.0149\n",
            "Epoch 381/400\n",
            "169/169 [==============================] - 0s 2ms/step - loss: 0.0151 - val_loss: 0.0148\n",
            "Epoch 382/400\n",
            "169/169 [==============================] - 0s 2ms/step - loss: 0.0152 - val_loss: 0.0143\n",
            "Epoch 383/400\n",
            "169/169 [==============================] - 0s 2ms/step - loss: 0.0154 - val_loss: 0.0153\n",
            "Epoch 384/400\n",
            "169/169 [==============================] - 0s 2ms/step - loss: 0.0155 - val_loss: 0.0150\n",
            "Epoch 385/400\n",
            "169/169 [==============================] - 0s 2ms/step - loss: 0.0146 - val_loss: 0.0140\n",
            "Epoch 386/400\n",
            "169/169 [==============================] - 0s 2ms/step - loss: 0.0150 - val_loss: 0.0151\n",
            "Epoch 387/400\n",
            "169/169 [==============================] - 0s 2ms/step - loss: 0.0140 - val_loss: 0.0169\n",
            "Epoch 388/400\n",
            "169/169 [==============================] - 0s 2ms/step - loss: 0.0138 - val_loss: 0.0163\n",
            "Epoch 389/400\n",
            "169/169 [==============================] - 0s 2ms/step - loss: 0.0155 - val_loss: 0.0158\n",
            "Epoch 390/400\n",
            "169/169 [==============================] - 0s 2ms/step - loss: 0.0156 - val_loss: 0.0151\n",
            "Epoch 391/400\n",
            "169/169 [==============================] - 0s 2ms/step - loss: 0.0164 - val_loss: 0.0152\n",
            "Epoch 392/400\n",
            "169/169 [==============================] - 0s 2ms/step - loss: 0.0134 - val_loss: 0.0154\n",
            "Epoch 393/400\n",
            "169/169 [==============================] - 0s 2ms/step - loss: 0.0159 - val_loss: 0.0142\n",
            "Epoch 394/400\n",
            "169/169 [==============================] - 0s 2ms/step - loss: 0.0141 - val_loss: 0.0130\n",
            "Epoch 395/400\n",
            "169/169 [==============================] - 0s 2ms/step - loss: 0.0151 - val_loss: 0.0126\n",
            "Epoch 396/400\n",
            "169/169 [==============================] - 0s 2ms/step - loss: 0.0139 - val_loss: 0.0132\n",
            "Epoch 397/400\n",
            "169/169 [==============================] - 0s 2ms/step - loss: 0.0161 - val_loss: 0.0155\n",
            "Epoch 398/400\n",
            "169/169 [==============================] - 0s 2ms/step - loss: 0.0151 - val_loss: 0.0153\n",
            "Epoch 399/400\n",
            "169/169 [==============================] - 0s 2ms/step - loss: 0.0152 - val_loss: 0.0141\n",
            "Epoch 400/400\n",
            "169/169 [==============================] - 0s 2ms/step - loss: 0.0163 - val_loss: 0.0139\n"
          ],
          "name": "stdout"
        },
        {
          "output_type": "execute_result",
          "data": {
            "text/plain": [
              "<keras.callbacks.callbacks.History at 0x7f1915cd6940>"
            ]
          },
          "metadata": {
            "tags": []
          },
          "execution_count": 602
        }
      ]
    },
    {
      "cell_type": "code",
      "metadata": {
        "id": "FrfHxQDAD45s",
        "colab_type": "code",
        "outputId": "27ef4ef8-59cd-4400-d6aa-77ab5428771e",
        "colab": {
          "base_uri": "https://localhost:8080/",
          "height": 383
        }
      },
      "source": [
        "plt.figure(figsize=(10,5))\n",
        "plt.plot(regressor.history.history['loss'], label='Training', color='blue')\n",
        "plt.plot(regressor.history.history['val_loss'], label='Validation', color='red')\n",
        "plt.legend()\n",
        "plt.title(\"Training Loss Vs Validation Loss\")\n",
        "plt.xlabel('time')\n",
        "plt.ylabel('loss')\n",
        "plt.show()"
      ],
      "execution_count": 603,
      "outputs": [
        {
          "output_type": "display_data",
          "data": {
            "image/png": "[encoded data removed]",
            "text/plain": [
              "<Figure size 720x360 with 1 Axes>"
            ]
          },
          "metadata": {
            "tags": []
          }
        }
      ]
    },
    {
      "cell_type": "markdown",
      "metadata": {
        "id": "kx4Xy3TfB649",
        "colab_type": "text"
      },
      "source": [
        "###Preprocessing test set"
      ]
    },
    {
      "cell_type": "code",
      "metadata": {
        "id": "porgv8DoBFvP",
        "colab_type": "code",
        "outputId": "b21d71c5-9d92-4717-93c4-de3907851f28",
        "colab": {
          "base_uri": "https://localhost:8080/",
          "height": 67
        }
      },
      "source": [
        "data_concat = pd.concat((apple_stock['High']['2016':'2016'], apple_stock['High']['2017':]), axis=0)\n",
        "print(data_concat.shape)\n",
        "\n",
        "inputs = data_concat[len(data_concat)-len(test_2017)-10 : ].values\n",
        "print(inputs.shape)\n",
        "inputs = inputs.reshape(-1,1)\n",
        "inputs = sc.transform(inputs)\n",
        "print(inputs.shape)"
      ],
      "execution_count": 604,
      "outputs": [
        {
          "output_type": "stream",
          "text": [
            "(503,)\n",
            "(261,)\n",
            "(261, 1)\n"
          ],
          "name": "stdout"
        }
      ]
    },
    {
      "cell_type": "code",
      "metadata": {
        "id": "um--L2JgDnXh",
        "colab_type": "code",
        "colab": {}
      },
      "source": [
        "X_test = []\n",
        "for i in range(10,inputs.shape[0]):\n",
        "    X_test.append(inputs[i-10:i, 0])\n",
        "    \n",
        "X_test = np.array(X_test)\n",
        "X_test = np.reshape(X_test, (X_test.shape[0], X_test.shape[1], 1))"
      ],
      "execution_count": 0,
      "outputs": []
    },
    {
      "cell_type": "markdown",
      "metadata": {
        "id": "9e9VgbMdEL8Q",
        "colab_type": "text"
      },
      "source": [
        "###Predict stock price in 2017"
      ]
    },
    {
      "cell_type": "code",
      "metadata": {
        "id": "B_6AB2roEMQq",
        "colab_type": "code",
        "colab": {}
      },
      "source": [
        "pred_lstm = regressor.predict(X_test)\n",
        "pred_lstm = sc.inverse_transform(pred_lstm)"
      ],
      "execution_count": 0,
      "outputs": []
    },
    {
      "cell_type": "markdown",
      "metadata": {
        "id": "PC0-JwFoEsVF",
        "colab_type": "text"
      },
      "source": [
        "###Plot prediction"
      ]
    },
    {
      "cell_type": "code",
      "metadata": {
        "id": "QA3h74riEu2G",
        "colab_type": "code",
        "colab": {}
      },
      "source": [
        "def plot_predictions(test, predicted):\n",
        "    plt.plot(test, color=\"red\", label=\"Actual\")\n",
        "    plt.plot(predicted, color=\"blue\", label=\"Predicted\")\n",
        "    plt.title(\"Apple stock price prediction\")\n",
        "    plt.xlabel(\"time\")\n",
        "    plt.ylabel(\"Apple stock price\")\n",
        "    plt.legend()\n",
        "    plt.show()"
      ],
      "execution_count": 0,
      "outputs": []
    },
    {
      "cell_type": "code",
      "metadata": {
        "id": "FLendr9fE2Tz",
        "colab_type": "code",
        "outputId": "e1a48e43-05b2-4dc4-897f-cbe6ac29ecb6",
        "colab": {
          "base_uri": "https://localhost:8080/",
          "height": 325
        }
      },
      "source": [
        "plot_predictions(test_2017, pred_lstm)"
      ],
      "execution_count": 608,
      "outputs": [
        {
          "output_type": "display_data",
          "data": {
            "image/png": "[encoded data removed]",
            "text/plain": [
              "<Figure size 432x288 with 1 Axes>"
            ]
          },
          "metadata": {
            "tags": []
          }
        }
      ]
    },
    {
      "cell_type": "markdown",
      "metadata": {
        "id": "s5sCgNs5F7cl",
        "colab_type": "text"
      },
      "source": [
        "###RMSE of the model"
      ]
    },
    {
      "cell_type": "code",
      "metadata": {
        "id": "2KQ3DpU_GGWt",
        "colab_type": "code",
        "colab": {}
      },
      "source": [
        "def return_rmse(test, predicted):\n",
        "    rmse = math.sqrt(mean_squared_error(test, predicted))\n",
        "    return rmse"
      ],
      "execution_count": 0,
      "outputs": []
    },
    {
      "cell_type": "code",
      "metadata": {
        "id": "KpsSm-NJF74i",
        "colab_type": "code",
        "outputId": "38975ce4-4af7-424c-b1b4-aa6afac61acf",
        "colab": {
          "base_uri": "https://localhost:8080/",
          "height": 34
        }
      },
      "source": [
        "rmse_lstm_2017 = return_rmse(test_2017, pred_lstm)\n",
        "print(\"RMSE = {}.\".format(rmse_lstm_2017))"
      ],
      "execution_count": 610,
      "outputs": [
        {
          "output_type": "stream",
          "text": [
            "RMSE = 15.506087084067028.\n"
          ],
          "name": "stdout"
        }
      ]
    },
    {
      "cell_type": "markdown",
      "metadata": {
        "id": "ygI0zv9hJwaz",
        "colab_type": "text"
      },
      "source": [
        "#GRU's model"
      ]
    },
    {
      "cell_type": "code",
      "metadata": {
        "id": "pQSiivSlGUU3",
        "colab_type": "code",
        "colab": {}
      },
      "source": [
        "regressorGRU = Sequential()\n",
        "\n",
        "# First GRU layer with Dropout regularisation\n",
        "regressorGRU.add(GRU(units=50, return_sequences=True, input_shape=(X_train.shape[1],1), activation='relu'))\n",
        "regressorGRU.add(Dropout(0.2))\n",
        "\n",
        "# Second GRU layer\n",
        "regressorGRU.add(GRU(units=50, return_sequences=True, input_shape=(X_train.shape[1],1), activation='relu'))\n",
        "regressorGRU.add(Dropout(0.2))\n",
        "\n",
        "# Third GRU layer\n",
        "regressorGRU.add(GRU(units=50, input_shape=(X_train.shape[1],1), activation='relu'))\n",
        "regressorGRU.add(Dropout(0.2))\n",
        "\n",
        "# Fourth GRU layer\n",
        "#regressorGRU.add(GRU(units=50, activation='relu'))\n",
        "#regressorGRU.add(Dropout(0.2))\n",
        "\n",
        "# The output layer\n",
        "regressorGRU.add(Dense(units=1))"
      ],
      "execution_count": 0,
      "outputs": []
    },
    {
      "cell_type": "markdown",
      "metadata": {
        "id": "fT634bLzKZPM",
        "colab_type": "text"
      },
      "source": [
        "###Compile the model"
      ]
    },
    {
      "cell_type": "code",
      "metadata": {
        "id": "KeGhXBC4Kb2v",
        "colab_type": "code",
        "colab": {}
      },
      "source": [
        "regressorGRU.compile(optimizer=optimizers.SGD(lr=0.01, decay=1e-7, momentum=0.9, nesterov=False), loss='mean_squared_error')"
      ],
      "execution_count": 0,
      "outputs": []
    },
    {
      "cell_type": "markdown",
      "metadata": {
        "id": "2_TO9BK-KhP1",
        "colab_type": "text"
      },
      "source": [
        "###Fit the model with training set"
      ]
    },
    {
      "cell_type": "code",
      "metadata": {
        "id": "tmNWSUgSKok6",
        "colab_type": "code",
        "outputId": "2d2d093d-f734-4b4c-f349-27eccc5af2bb",
        "colab": {
          "base_uri": "https://localhost:8080/",
          "height": 1000
        }
      },
      "source": [
        "regressorGRU.fit(X_train, y_train, epochs=400, batch_size=150, validation_split=0.30)"
      ],
      "execution_count": 613,
      "outputs": [
        {
          "output_type": "stream",
          "text": [
            "Train on 169 samples, validate on 73 samples\n",
            "Epoch 1/400\n",
            "169/169 [==============================] - 1s 6ms/step - loss: 0.2096 - val_loss: 0.6997\n",
            "Epoch 2/400\n",
            "169/169 [==============================] - 0s 400us/step - loss: 0.1677 - val_loss: 0.5325\n",
            "Epoch 3/400\n",
            "169/169 [==============================] - 0s 402us/step - loss: 0.1122 - val_loss: 0.3762\n",
            "Epoch 4/400\n",
            "169/169 [==============================] - 0s 387us/step - loss: 0.0695 - val_loss: 0.2581\n",
            "Epoch 5/400\n",
            "169/169 [==============================] - 0s 388us/step - loss: 0.0478 - val_loss: 0.1790\n",
            "Epoch 6/400\n",
            "169/169 [==============================] - 0s 384us/step - loss: 0.0431 - val_loss: 0.1263\n",
            "Epoch 7/400\n",
            "169/169 [==============================] - 0s 443us/step - loss: 0.0518 - val_loss: 0.0978\n",
            "Epoch 8/400\n",
            "169/169 [==============================] - 0s 431us/step - loss: 0.0618 - val_loss: 0.0919\n",
            "Epoch 9/400\n",
            "169/169 [==============================] - 0s 428us/step - loss: 0.0634 - val_loss: 0.1024\n",
            "Epoch 10/400\n",
            "169/169 [==============================] - 0s 423us/step - loss: 0.0560 - val_loss: 0.1231\n",
            "Epoch 11/400\n",
            "169/169 [==============================] - 0s 415us/step - loss: 0.0511 - val_loss: 0.1497\n",
            "Epoch 12/400\n",
            "169/169 [==============================] - 0s 391us/step - loss: 0.0437 - val_loss: 0.1758\n",
            "Epoch 13/400\n",
            "169/169 [==============================] - 0s 388us/step - loss: 0.0423 - val_loss: 0.2003\n",
            "Epoch 14/400\n",
            "169/169 [==============================] - 0s 382us/step - loss: 0.0436 - val_loss: 0.2217\n",
            "Epoch 15/400\n",
            "169/169 [==============================] - 0s 418us/step - loss: 0.0423 - val_loss: 0.2355\n",
            "Epoch 16/400\n",
            "169/169 [==============================] - 0s 356us/step - loss: 0.0440 - val_loss: 0.2375\n",
            "Epoch 17/400\n",
            "169/169 [==============================] - 0s 384us/step - loss: 0.0454 - val_loss: 0.2274\n",
            "Epoch 18/400\n",
            "169/169 [==============================] - 0s 404us/step - loss: 0.0434 - val_loss: 0.2108\n",
            "Epoch 19/400\n",
            "169/169 [==============================] - 0s 391us/step - loss: 0.0418 - val_loss: 0.1937\n",
            "Epoch 20/400\n",
            "169/169 [==============================] - 0s 418us/step - loss: 0.0400 - val_loss: 0.1772\n",
            "Epoch 21/400\n",
            "169/169 [==============================] - 0s 406us/step - loss: 0.0398 - val_loss: 0.1636\n",
            "Epoch 22/400\n",
            "169/169 [==============================] - 0s 499us/step - loss: 0.0395 - val_loss: 0.1555\n",
            "Epoch 23/400\n",
            "169/169 [==============================] - 0s 404us/step - loss: 0.0389 - val_loss: 0.1528\n",
            "Epoch 24/400\n",
            "169/169 [==============================] - 0s 392us/step - loss: 0.0401 - val_loss: 0.1559\n",
            "Epoch 25/400\n",
            "169/169 [==============================] - 0s 385us/step - loss: 0.0383 - val_loss: 0.1602\n",
            "Epoch 26/400\n",
            "169/169 [==============================] - 0s 365us/step - loss: 0.0377 - val_loss: 0.1637\n",
            "Epoch 27/400\n",
            "169/169 [==============================] - 0s 395us/step - loss: 0.0400 - val_loss: 0.1674\n",
            "Epoch 28/400\n",
            "169/169 [==============================] - 0s 391us/step - loss: 0.0381 - val_loss: 0.1685\n",
            "Epoch 29/400\n",
            "169/169 [==============================] - 0s 372us/step - loss: 0.0387 - val_loss: 0.1677\n",
            "Epoch 30/400\n",
            "169/169 [==============================] - 0s 361us/step - loss: 0.0380 - val_loss: 0.1675\n",
            "Epoch 31/400\n",
            "169/169 [==============================] - 0s 396us/step - loss: 0.0362 - val_loss: 0.1664\n",
            "Epoch 32/400\n",
            "169/169 [==============================] - 0s 375us/step - loss: 0.0367 - val_loss: 0.1645\n",
            "Epoch 33/400\n",
            "169/169 [==============================] - 0s 363us/step - loss: 0.0383 - val_loss: 0.1614\n",
            "Epoch 34/400\n",
            "169/169 [==============================] - 0s 374us/step - loss: 0.0360 - val_loss: 0.1570\n",
            "Epoch 35/400\n",
            "169/169 [==============================] - 0s 429us/step - loss: 0.0360 - val_loss: 0.1541\n",
            "Epoch 36/400\n",
            "169/169 [==============================] - 0s 439us/step - loss: 0.0388 - val_loss: 0.1528\n",
            "Epoch 37/400\n",
            "169/169 [==============================] - 0s 484us/step - loss: 0.0364 - val_loss: 0.1526\n",
            "Epoch 38/400\n",
            "169/169 [==============================] - 0s 416us/step - loss: 0.0348 - val_loss: 0.1546\n",
            "Epoch 39/400\n",
            "169/169 [==============================] - 0s 430us/step - loss: 0.0363 - val_loss: 0.1554\n",
            "Epoch 40/400\n",
            "169/169 [==============================] - 0s 397us/step - loss: 0.0356 - val_loss: 0.1518\n",
            "Epoch 41/400\n",
            "169/169 [==============================] - 0s 400us/step - loss: 0.0341 - val_loss: 0.1494\n",
            "Epoch 42/400\n",
            "169/169 [==============================] - 0s 406us/step - loss: 0.0336 - val_loss: 0.1484\n",
            "Epoch 43/400\n",
            "169/169 [==============================] - 0s 384us/step - loss: 0.0324 - val_loss: 0.1467\n",
            "Epoch 44/400\n",
            "169/169 [==============================] - 0s 376us/step - loss: 0.0343 - val_loss: 0.1441\n",
            "Epoch 45/400\n",
            "169/169 [==============================] - 0s 380us/step - loss: 0.0336 - val_loss: 0.1415\n",
            "Epoch 46/400\n",
            "169/169 [==============================] - 0s 392us/step - loss: 0.0322 - val_loss: 0.1393\n",
            "Epoch 47/400\n",
            "169/169 [==============================] - 0s 381us/step - loss: 0.0336 - val_loss: 0.1375\n",
            "Epoch 48/400\n",
            "169/169 [==============================] - 0s 380us/step - loss: 0.0326 - val_loss: 0.1349\n",
            "Epoch 49/400\n",
            "169/169 [==============================] - 0s 381us/step - loss: 0.0321 - val_loss: 0.1307\n",
            "Epoch 50/400\n",
            "169/169 [==============================] - 0s 373us/step - loss: 0.0316 - val_loss: 0.1268\n",
            "Epoch 51/400\n",
            "169/169 [==============================] - 0s 369us/step - loss: 0.0313 - val_loss: 0.1233\n",
            "Epoch 52/400\n",
            "169/169 [==============================] - 0s 448us/step - loss: 0.0319 - val_loss: 0.1208\n",
            "Epoch 53/400\n",
            "169/169 [==============================] - 0s 422us/step - loss: 0.0290 - val_loss: 0.1210\n",
            "Epoch 54/400\n",
            "169/169 [==============================] - 0s 401us/step - loss: 0.0291 - val_loss: 0.1223\n",
            "Epoch 55/400\n",
            "169/169 [==============================] - 0s 413us/step - loss: 0.0300 - val_loss: 0.1207\n",
            "Epoch 56/400\n",
            "169/169 [==============================] - 0s 430us/step - loss: 0.0296 - val_loss: 0.1152\n",
            "Epoch 57/400\n",
            "169/169 [==============================] - 0s 407us/step - loss: 0.0299 - val_loss: 0.1102\n",
            "Epoch 58/400\n",
            "169/169 [==============================] - 0s 382us/step - loss: 0.0277 - val_loss: 0.1046\n",
            "Epoch 59/400\n",
            "169/169 [==============================] - 0s 419us/step - loss: 0.0275 - val_loss: 0.0975\n",
            "Epoch 60/400\n",
            "169/169 [==============================] - 0s 390us/step - loss: 0.0270 - val_loss: 0.0902\n",
            "Epoch 61/400\n",
            "169/169 [==============================] - 0s 392us/step - loss: 0.0273 - val_loss: 0.0842\n",
            "Epoch 62/400\n",
            "169/169 [==============================] - 0s 403us/step - loss: 0.0259 - val_loss: 0.0822\n",
            "Epoch 63/400\n",
            "169/169 [==============================] - 0s 365us/step - loss: 0.0262 - val_loss: 0.0842\n",
            "Epoch 64/400\n",
            "169/169 [==============================] - 0s 380us/step - loss: 0.0263 - val_loss: 0.0875\n",
            "Epoch 65/400\n",
            "169/169 [==============================] - 0s 391us/step - loss: 0.0249 - val_loss: 0.0890\n",
            "Epoch 66/400\n",
            "169/169 [==============================] - 0s 387us/step - loss: 0.0234 - val_loss: 0.0885\n",
            "Epoch 67/400\n",
            "169/169 [==============================] - 0s 430us/step - loss: 0.0269 - val_loss: 0.0850\n",
            "Epoch 68/400\n",
            "169/169 [==============================] - 0s 398us/step - loss: 0.0235 - val_loss: 0.0780\n",
            "Epoch 69/400\n",
            "169/169 [==============================] - 0s 389us/step - loss: 0.0235 - val_loss: 0.0689\n",
            "Epoch 70/400\n",
            "169/169 [==============================] - 0s 376us/step - loss: 0.0220 - val_loss: 0.0623\n",
            "Epoch 71/400\n",
            "169/169 [==============================] - 0s 395us/step - loss: 0.0231 - val_loss: 0.0608\n",
            "Epoch 72/400\n",
            "169/169 [==============================] - 0s 393us/step - loss: 0.0226 - val_loss: 0.0621\n",
            "Epoch 73/400\n",
            "169/169 [==============================] - 0s 402us/step - loss: 0.0203 - val_loss: 0.0635\n",
            "Epoch 74/400\n",
            "169/169 [==============================] - 0s 394us/step - loss: 0.0205 - val_loss: 0.0642\n",
            "Epoch 75/400\n",
            "169/169 [==============================] - 0s 416us/step - loss: 0.0200 - val_loss: 0.0640\n",
            "Epoch 76/400\n",
            "169/169 [==============================] - 0s 418us/step - loss: 0.0200 - val_loss: 0.0632\n",
            "Epoch 77/400\n",
            "169/169 [==============================] - 0s 398us/step - loss: 0.0195 - val_loss: 0.0618\n",
            "Epoch 78/400\n",
            "169/169 [==============================] - 0s 374us/step - loss: 0.0188 - val_loss: 0.0570\n",
            "Epoch 79/400\n",
            "169/169 [==============================] - 0s 500us/step - loss: 0.0173 - val_loss: 0.0500\n",
            "Epoch 80/400\n",
            "169/169 [==============================] - 0s 388us/step - loss: 0.0183 - val_loss: 0.0429\n",
            "Epoch 81/400\n",
            "169/169 [==============================] - 0s 429us/step - loss: 0.0186 - val_loss: 0.0369\n",
            "Epoch 82/400\n",
            "169/169 [==============================] - 0s 404us/step - loss: 0.0176 - val_loss: 0.0332\n",
            "Epoch 83/400\n",
            "169/169 [==============================] - 0s 386us/step - loss: 0.0177 - val_loss: 0.0321\n",
            "Epoch 84/400\n",
            "169/169 [==============================] - 0s 387us/step - loss: 0.0165 - val_loss: 0.0332\n",
            "Epoch 85/400\n",
            "169/169 [==============================] - 0s 396us/step - loss: 0.0172 - val_loss: 0.0349\n",
            "Epoch 86/400\n",
            "169/169 [==============================] - 0s 382us/step - loss: 0.0153 - val_loss: 0.0365\n",
            "Epoch 87/400\n",
            "169/169 [==============================] - 0s 394us/step - loss: 0.0170 - val_loss: 0.0375\n",
            "Epoch 88/400\n",
            "169/169 [==============================] - 0s 392us/step - loss: 0.0160 - val_loss: 0.0360\n",
            "Epoch 89/400\n",
            "169/169 [==============================] - 0s 384us/step - loss: 0.0149 - val_loss: 0.0332\n",
            "Epoch 90/400\n",
            "169/169 [==============================] - 0s 390us/step - loss: 0.0147 - val_loss: 0.0301\n",
            "Epoch 91/400\n",
            "169/169 [==============================] - 0s 402us/step - loss: 0.0170 - val_loss: 0.0276\n",
            "Epoch 92/400\n",
            "169/169 [==============================] - 0s 381us/step - loss: 0.0151 - val_loss: 0.0276\n",
            "Epoch 93/400\n",
            "169/169 [==============================] - 0s 407us/step - loss: 0.0149 - val_loss: 0.0274\n",
            "Epoch 94/400\n",
            "169/169 [==============================] - 0s 372us/step - loss: 0.0132 - val_loss: 0.0257\n",
            "Epoch 95/400\n",
            "169/169 [==============================] - 0s 384us/step - loss: 0.0148 - val_loss: 0.0228\n",
            "Epoch 96/400\n",
            "169/169 [==============================] - 0s 422us/step - loss: 0.0145 - val_loss: 0.0198\n",
            "Epoch 97/400\n",
            "169/169 [==============================] - 0s 368us/step - loss: 0.0141 - val_loss: 0.0173\n",
            "Epoch 98/400\n",
            "169/169 [==============================] - 0s 368us/step - loss: 0.0144 - val_loss: 0.0158\n",
            "Epoch 99/400\n",
            "169/169 [==============================] - 0s 390us/step - loss: 0.0158 - val_loss: 0.0153\n",
            "Epoch 100/400\n",
            "169/169 [==============================] - 0s 392us/step - loss: 0.0143 - val_loss: 0.0145\n",
            "Epoch 101/400\n",
            "169/169 [==============================] - 0s 398us/step - loss: 0.0138 - val_loss: 0.0133\n",
            "Epoch 102/400\n",
            "169/169 [==============================] - 0s 380us/step - loss: 0.0139 - val_loss: 0.0130\n",
            "Epoch 103/400\n",
            "169/169 [==============================] - 0s 390us/step - loss: 0.0133 - val_loss: 0.0128\n",
            "Epoch 104/400\n",
            "169/169 [==============================] - 0s 375us/step - loss: 0.0155 - val_loss: 0.0119\n",
            "Epoch 105/400\n",
            "169/169 [==============================] - 0s 401us/step - loss: 0.0140 - val_loss: 0.0110\n",
            "Epoch 106/400\n",
            "169/169 [==============================] - 0s 391us/step - loss: 0.0141 - val_loss: 0.0104\n",
            "Epoch 107/400\n",
            "169/169 [==============================] - 0s 389us/step - loss: 0.0123 - val_loss: 0.0102\n",
            "Epoch 108/400\n",
            "169/169 [==============================] - 0s 429us/step - loss: 0.0148 - val_loss: 0.0109\n",
            "Epoch 109/400\n",
            "169/169 [==============================] - 0s 369us/step - loss: 0.0133 - val_loss: 0.0115\n",
            "Epoch 110/400\n",
            "169/169 [==============================] - 0s 391us/step - loss: 0.0136 - val_loss: 0.0120\n",
            "Epoch 111/400\n",
            "169/169 [==============================] - 0s 394us/step - loss: 0.0135 - val_loss: 0.0123\n",
            "Epoch 112/400\n",
            "169/169 [==============================] - 0s 405us/step - loss: 0.0144 - val_loss: 0.0115\n",
            "Epoch 113/400\n",
            "169/169 [==============================] - 0s 396us/step - loss: 0.0137 - val_loss: 0.0105\n",
            "Epoch 114/400\n",
            "169/169 [==============================] - 0s 378us/step - loss: 0.0129 - val_loss: 0.0102\n",
            "Epoch 115/400\n",
            "169/169 [==============================] - 0s 389us/step - loss: 0.0122 - val_loss: 0.0100\n",
            "Epoch 116/400\n",
            "169/169 [==============================] - 0s 418us/step - loss: 0.0119 - val_loss: 0.0095\n",
            "Epoch 117/400\n",
            "169/169 [==============================] - 0s 410us/step - loss: 0.0116 - val_loss: 0.0082\n",
            "Epoch 118/400\n",
            "169/169 [==============================] - 0s 432us/step - loss: 0.0138 - val_loss: 0.0071\n",
            "Epoch 119/400\n",
            "169/169 [==============================] - 0s 418us/step - loss: 0.0116 - val_loss: 0.0065\n",
            "Epoch 120/400\n",
            "169/169 [==============================] - 0s 422us/step - loss: 0.0135 - val_loss: 0.0067\n",
            "Epoch 121/400\n",
            "169/169 [==============================] - 0s 436us/step - loss: 0.0138 - val_loss: 0.0074\n",
            "Epoch 122/400\n",
            "169/169 [==============================] - 0s 418us/step - loss: 0.0125 - val_loss: 0.0083\n",
            "Epoch 123/400\n",
            "169/169 [==============================] - 0s 398us/step - loss: 0.0133 - val_loss: 0.0097\n",
            "Epoch 124/400\n",
            "169/169 [==============================] - 0s 419us/step - loss: 0.0127 - val_loss: 0.0107\n",
            "Epoch 125/400\n",
            "169/169 [==============================] - 0s 417us/step - loss: 0.0162 - val_loss: 0.0105\n",
            "Epoch 126/400\n",
            "169/169 [==============================] - 0s 484us/step - loss: 0.0132 - val_loss: 0.0098\n",
            "Epoch 127/400\n",
            "169/169 [==============================] - 0s 495us/step - loss: 0.0145 - val_loss: 0.0086\n",
            "Epoch 128/400\n",
            "169/169 [==============================] - 0s 393us/step - loss: 0.0144 - val_loss: 0.0074\n",
            "Epoch 129/400\n",
            "169/169 [==============================] - 0s 385us/step - loss: 0.0124 - val_loss: 0.0069\n",
            "Epoch 130/400\n",
            "169/169 [==============================] - 0s 428us/step - loss: 0.0153 - val_loss: 0.0068\n",
            "Epoch 131/400\n",
            "169/169 [==============================] - 0s 430us/step - loss: 0.0124 - val_loss: 0.0071\n",
            "Epoch 132/400\n",
            "169/169 [==============================] - 0s 407us/step - loss: 0.0126 - val_loss: 0.0081\n",
            "Epoch 133/400\n",
            "169/169 [==============================] - 0s 414us/step - loss: 0.0125 - val_loss: 0.0093\n",
            "Epoch 134/400\n",
            "169/169 [==============================] - 0s 478us/step - loss: 0.0136 - val_loss: 0.0095\n",
            "Epoch 135/400\n",
            "169/169 [==============================] - 0s 414us/step - loss: 0.0129 - val_loss: 0.0092\n",
            "Epoch 136/400\n",
            "169/169 [==============================] - 0s 417us/step - loss: 0.0114 - val_loss: 0.0092\n",
            "Epoch 137/400\n",
            "169/169 [==============================] - 0s 422us/step - loss: 0.0126 - val_loss: 0.0089\n",
            "Epoch 138/400\n",
            "169/169 [==============================] - 0s 417us/step - loss: 0.0141 - val_loss: 0.0082\n",
            "Epoch 139/400\n",
            "169/169 [==============================] - 0s 425us/step - loss: 0.0134 - val_loss: 0.0073\n",
            "Epoch 140/400\n",
            "169/169 [==============================] - 0s 471us/step - loss: 0.0131 - val_loss: 0.0069\n",
            "Epoch 141/400\n",
            "169/169 [==============================] - 0s 420us/step - loss: 0.0140 - val_loss: 0.0068\n",
            "Epoch 142/400\n",
            "169/169 [==============================] - 0s 427us/step - loss: 0.0132 - val_loss: 0.0067\n",
            "Epoch 143/400\n",
            "169/169 [==============================] - 0s 431us/step - loss: 0.0124 - val_loss: 0.0068\n",
            "Epoch 144/400\n",
            "169/169 [==============================] - 0s 390us/step - loss: 0.0117 - val_loss: 0.0073\n",
            "Epoch 145/400\n",
            "169/169 [==============================] - 0s 426us/step - loss: 0.0116 - val_loss: 0.0082\n",
            "Epoch 146/400\n",
            "169/169 [==============================] - 0s 398us/step - loss: 0.0122 - val_loss: 0.0090\n",
            "Epoch 147/400\n",
            "169/169 [==============================] - 0s 377us/step - loss: 0.0128 - val_loss: 0.0094\n",
            "Epoch 148/400\n",
            "169/169 [==============================] - 0s 366us/step - loss: 0.0139 - val_loss: 0.0089\n",
            "Epoch 149/400\n",
            "169/169 [==============================] - 0s 371us/step - loss: 0.0125 - val_loss: 0.0082\n",
            "Epoch 150/400\n",
            "169/169 [==============================] - 0s 458us/step - loss: 0.0140 - val_loss: 0.0071\n",
            "Epoch 151/400\n",
            "169/169 [==============================] - 0s 403us/step - loss: 0.0120 - val_loss: 0.0065\n",
            "Epoch 152/400\n",
            "169/169 [==============================] - 0s 415us/step - loss: 0.0129 - val_loss: 0.0066\n",
            "Epoch 153/400\n",
            "169/169 [==============================] - 0s 429us/step - loss: 0.0121 - val_loss: 0.0072\n",
            "Epoch 154/400\n",
            "169/169 [==============================] - 0s 481us/step - loss: 0.0128 - val_loss: 0.0077\n",
            "Epoch 155/400\n",
            "169/169 [==============================] - 0s 397us/step - loss: 0.0115 - val_loss: 0.0076\n",
            "Epoch 156/400\n",
            "169/169 [==============================] - 0s 371us/step - loss: 0.0121 - val_loss: 0.0071\n",
            "Epoch 157/400\n",
            "169/169 [==============================] - 0s 412us/step - loss: 0.0118 - val_loss: 0.0067\n",
            "Epoch 158/400\n",
            "169/169 [==============================] - 0s 465us/step - loss: 0.0147 - val_loss: 0.0069\n",
            "Epoch 159/400\n",
            "169/169 [==============================] - 0s 411us/step - loss: 0.0119 - val_loss: 0.0072\n",
            "Epoch 160/400\n",
            "169/169 [==============================] - 0s 385us/step - loss: 0.0134 - val_loss: 0.0073\n",
            "Epoch 161/400\n",
            "169/169 [==============================] - 0s 452us/step - loss: 0.0120 - val_loss: 0.0069\n",
            "Epoch 162/400\n",
            "169/169 [==============================] - 0s 435us/step - loss: 0.0129 - val_loss: 0.0066\n",
            "Epoch 163/400\n",
            "169/169 [==============================] - 0s 401us/step - loss: 0.0109 - val_loss: 0.0067\n",
            "Epoch 164/400\n",
            "169/169 [==============================] - 0s 441us/step - loss: 0.0126 - val_loss: 0.0067\n",
            "Epoch 165/400\n",
            "169/169 [==============================] - 0s 446us/step - loss: 0.0122 - val_loss: 0.0066\n",
            "Epoch 166/400\n",
            "169/169 [==============================] - 0s 402us/step - loss: 0.0113 - val_loss: 0.0067\n",
            "Epoch 167/400\n",
            "169/169 [==============================] - 0s 420us/step - loss: 0.0117 - val_loss: 0.0067\n",
            "Epoch 168/400\n",
            "169/169 [==============================] - 0s 476us/step - loss: 0.0110 - val_loss: 0.0071\n",
            "Epoch 169/400\n",
            "169/169 [==============================] - 0s 415us/step - loss: 0.0116 - val_loss: 0.0078\n",
            "Epoch 170/400\n",
            "169/169 [==============================] - 0s 424us/step - loss: 0.0117 - val_loss: 0.0085\n",
            "Epoch 171/400\n",
            "169/169 [==============================] - 0s 411us/step - loss: 0.0119 - val_loss: 0.0085\n",
            "Epoch 172/400\n",
            "169/169 [==============================] - 0s 403us/step - loss: 0.0120 - val_loss: 0.0079\n",
            "Epoch 173/400\n",
            "169/169 [==============================] - 0s 392us/step - loss: 0.0138 - val_loss: 0.0076\n",
            "Epoch 174/400\n",
            "169/169 [==============================] - 0s 376us/step - loss: 0.0121 - val_loss: 0.0073\n",
            "Epoch 175/400\n",
            "169/169 [==============================] - 0s 382us/step - loss: 0.0130 - val_loss: 0.0065\n",
            "Epoch 176/400\n",
            "169/169 [==============================] - 0s 401us/step - loss: 0.0122 - val_loss: 0.0060\n",
            "Epoch 177/400\n",
            "169/169 [==============================] - 0s 381us/step - loss: 0.0123 - val_loss: 0.0060\n",
            "Epoch 178/400\n",
            "169/169 [==============================] - 0s 407us/step - loss: 0.0122 - val_loss: 0.0064\n",
            "Epoch 179/400\n",
            "169/169 [==============================] - 0s 397us/step - loss: 0.0133 - val_loss: 0.0072\n",
            "Epoch 180/400\n",
            "169/169 [==============================] - 0s 360us/step - loss: 0.0121 - val_loss: 0.0078\n",
            "Epoch 181/400\n",
            "169/169 [==============================] - 0s 373us/step - loss: 0.0124 - val_loss: 0.0079\n",
            "Epoch 182/400\n",
            "169/169 [==============================] - 0s 390us/step - loss: 0.0154 - val_loss: 0.0078\n",
            "Epoch 183/400\n",
            "169/169 [==============================] - 0s 428us/step - loss: 0.0124 - val_loss: 0.0076\n",
            "Epoch 184/400\n",
            "169/169 [==============================] - 0s 393us/step - loss: 0.0117 - val_loss: 0.0071\n",
            "Epoch 185/400\n",
            "169/169 [==============================] - 0s 370us/step - loss: 0.0125 - val_loss: 0.0066\n",
            "Epoch 186/400\n",
            "169/169 [==============================] - 0s 400us/step - loss: 0.0134 - val_loss: 0.0064\n",
            "Epoch 187/400\n",
            "169/169 [==============================] - 0s 380us/step - loss: 0.0126 - val_loss: 0.0059\n",
            "Epoch 188/400\n",
            "169/169 [==============================] - 0s 382us/step - loss: 0.0127 - val_loss: 0.0056\n",
            "Epoch 189/400\n",
            "169/169 [==============================] - 0s 395us/step - loss: 0.0135 - val_loss: 0.0056\n",
            "Epoch 190/400\n",
            "169/169 [==============================] - 0s 424us/step - loss: 0.0116 - val_loss: 0.0062\n",
            "Epoch 191/400\n",
            "169/169 [==============================] - 0s 409us/step - loss: 0.0116 - val_loss: 0.0070\n",
            "Epoch 192/400\n",
            "169/169 [==============================] - 0s 411us/step - loss: 0.0114 - val_loss: 0.0073\n",
            "Epoch 193/400\n",
            "169/169 [==============================] - 0s 443us/step - loss: 0.0123 - val_loss: 0.0074\n",
            "Epoch 194/400\n",
            "169/169 [==============================] - 0s 430us/step - loss: 0.0121 - val_loss: 0.0074\n",
            "Epoch 195/400\n",
            "169/169 [==============================] - 0s 404us/step - loss: 0.0132 - val_loss: 0.0075\n",
            "Epoch 196/400\n",
            "169/169 [==============================] - 0s 439us/step - loss: 0.0120 - val_loss: 0.0076\n",
            "Epoch 197/400\n",
            "169/169 [==============================] - 0s 391us/step - loss: 0.0127 - val_loss: 0.0079\n",
            "Epoch 198/400\n",
            "169/169 [==============================] - 0s 449us/step - loss: 0.0128 - val_loss: 0.0080\n",
            "Epoch 199/400\n",
            "169/169 [==============================] - 0s 426us/step - loss: 0.0127 - val_loss: 0.0078\n",
            "Epoch 200/400\n",
            "169/169 [==============================] - 0s 417us/step - loss: 0.0155 - val_loss: 0.0076\n",
            "Epoch 201/400\n",
            "169/169 [==============================] - 0s 379us/step - loss: 0.0128 - val_loss: 0.0075\n",
            "Epoch 202/400\n",
            "169/169 [==============================] - 0s 378us/step - loss: 0.0135 - val_loss: 0.0074\n",
            "Epoch 203/400\n",
            "169/169 [==============================] - 0s 387us/step - loss: 0.0130 - val_loss: 0.0072\n",
            "Epoch 204/400\n",
            "169/169 [==============================] - 0s 385us/step - loss: 0.0123 - val_loss: 0.0070\n",
            "Epoch 205/400\n",
            "169/169 [==============================] - 0s 377us/step - loss: 0.0123 - val_loss: 0.0071\n",
            "Epoch 206/400\n",
            "169/169 [==============================] - 0s 389us/step - loss: 0.0115 - val_loss: 0.0074\n",
            "Epoch 207/400\n",
            "169/169 [==============================] - 0s 411us/step - loss: 0.0132 - val_loss: 0.0074\n",
            "Epoch 208/400\n",
            "169/169 [==============================] - 0s 373us/step - loss: 0.0129 - val_loss: 0.0075\n",
            "Epoch 209/400\n",
            "169/169 [==============================] - 0s 373us/step - loss: 0.0155 - val_loss: 0.0078\n",
            "Epoch 210/400\n",
            "169/169 [==============================] - 0s 380us/step - loss: 0.0139 - val_loss: 0.0082\n",
            "Epoch 211/400\n",
            "169/169 [==============================] - 0s 415us/step - loss: 0.0121 - val_loss: 0.0081\n",
            "Epoch 212/400\n",
            "169/169 [==============================] - 0s 393us/step - loss: 0.0122 - val_loss: 0.0076\n",
            "Epoch 213/400\n",
            "169/169 [==============================] - 0s 431us/step - loss: 0.0123 - val_loss: 0.0077\n",
            "Epoch 214/400\n",
            "169/169 [==============================] - 0s 386us/step - loss: 0.0126 - val_loss: 0.0084\n",
            "Epoch 215/400\n",
            "169/169 [==============================] - 0s 396us/step - loss: 0.0114 - val_loss: 0.0089\n",
            "Epoch 216/400\n",
            "169/169 [==============================] - 0s 405us/step - loss: 0.0132 - val_loss: 0.0091\n",
            "Epoch 217/400\n",
            "169/169 [==============================] - 0s 414us/step - loss: 0.0120 - val_loss: 0.0088\n",
            "Epoch 218/400\n",
            "169/169 [==============================] - 0s 425us/step - loss: 0.0126 - val_loss: 0.0082\n",
            "Epoch 219/400\n",
            "169/169 [==============================] - 0s 418us/step - loss: 0.0117 - val_loss: 0.0074\n",
            "Epoch 220/400\n",
            "169/169 [==============================] - 0s 422us/step - loss: 0.0116 - val_loss: 0.0064\n",
            "Epoch 221/400\n",
            "169/169 [==============================] - 0s 430us/step - loss: 0.0139 - val_loss: 0.0060\n",
            "Epoch 222/400\n",
            "169/169 [==============================] - 0s 407us/step - loss: 0.0134 - val_loss: 0.0060\n",
            "Epoch 223/400\n",
            "169/169 [==============================] - 0s 430us/step - loss: 0.0118 - val_loss: 0.0062\n",
            "Epoch 224/400\n",
            "169/169 [==============================] - 0s 441us/step - loss: 0.0132 - val_loss: 0.0067\n",
            "Epoch 225/400\n",
            "169/169 [==============================] - 0s 411us/step - loss: 0.0125 - val_loss: 0.0075\n",
            "Epoch 226/400\n",
            "169/169 [==============================] - 0s 430us/step - loss: 0.0116 - val_loss: 0.0086\n",
            "Epoch 227/400\n",
            "169/169 [==============================] - 0s 588us/step - loss: 0.0130 - val_loss: 0.0095\n",
            "Epoch 228/400\n",
            "169/169 [==============================] - 0s 468us/step - loss: 0.0118 - val_loss: 0.0094\n",
            "Epoch 229/400\n",
            "169/169 [==============================] - 0s 413us/step - loss: 0.0126 - val_loss: 0.0085\n",
            "Epoch 230/400\n",
            "169/169 [==============================] - 0s 423us/step - loss: 0.0123 - val_loss: 0.0077\n",
            "Epoch 231/400\n",
            "169/169 [==============================] - 0s 436us/step - loss: 0.0145 - val_loss: 0.0072\n",
            "Epoch 232/400\n",
            "169/169 [==============================] - 0s 422us/step - loss: 0.0122 - val_loss: 0.0068\n",
            "Epoch 233/400\n",
            "169/169 [==============================] - 0s 412us/step - loss: 0.0133 - val_loss: 0.0064\n",
            "Epoch 234/400\n",
            "169/169 [==============================] - 0s 429us/step - loss: 0.0133 - val_loss: 0.0061\n",
            "Epoch 235/400\n",
            "169/169 [==============================] - 0s 433us/step - loss: 0.0114 - val_loss: 0.0062\n",
            "Epoch 236/400\n",
            "169/169 [==============================] - 0s 430us/step - loss: 0.0144 - val_loss: 0.0071\n",
            "Epoch 237/400\n",
            "169/169 [==============================] - 0s 415us/step - loss: 0.0147 - val_loss: 0.0082\n",
            "Epoch 238/400\n",
            "169/169 [==============================] - 0s 440us/step - loss: 0.0136 - val_loss: 0.0083\n",
            "Epoch 239/400\n",
            "169/169 [==============================] - 0s 435us/step - loss: 0.0145 - val_loss: 0.0079\n",
            "Epoch 240/400\n",
            "169/169 [==============================] - 0s 482us/step - loss: 0.0115 - val_loss: 0.0074\n",
            "Epoch 241/400\n",
            "169/169 [==============================] - 0s 404us/step - loss: 0.0134 - val_loss: 0.0076\n",
            "Epoch 242/400\n",
            "169/169 [==============================] - 0s 398us/step - loss: 0.0130 - val_loss: 0.0086\n",
            "Epoch 243/400\n",
            "169/169 [==============================] - 0s 438us/step - loss: 0.0124 - val_loss: 0.0094\n",
            "Epoch 244/400\n",
            "169/169 [==============================] - 0s 423us/step - loss: 0.0124 - val_loss: 0.0101\n",
            "Epoch 245/400\n",
            "169/169 [==============================] - 0s 426us/step - loss: 0.0135 - val_loss: 0.0102\n",
            "Epoch 246/400\n",
            "169/169 [==============================] - 0s 432us/step - loss: 0.0127 - val_loss: 0.0098\n",
            "Epoch 247/400\n",
            "169/169 [==============================] - 0s 451us/step - loss: 0.0114 - val_loss: 0.0095\n",
            "Epoch 248/400\n",
            "169/169 [==============================] - 0s 428us/step - loss: 0.0129 - val_loss: 0.0080\n",
            "Epoch 249/400\n",
            "169/169 [==============================] - 0s 440us/step - loss: 0.0125 - val_loss: 0.0069\n",
            "Epoch 250/400\n",
            "169/169 [==============================] - 0s 488us/step - loss: 0.0128 - val_loss: 0.0069\n",
            "Epoch 251/400\n",
            "169/169 [==============================] - 0s 434us/step - loss: 0.0133 - val_loss: 0.0072\n",
            "Epoch 252/400\n",
            "169/169 [==============================] - 0s 429us/step - loss: 0.0126 - val_loss: 0.0073\n",
            "Epoch 253/400\n",
            "169/169 [==============================] - 0s 444us/step - loss: 0.0120 - val_loss: 0.0077\n",
            "Epoch 254/400\n",
            "169/169 [==============================] - 0s 467us/step - loss: 0.0113 - val_loss: 0.0080\n",
            "Epoch 255/400\n",
            "169/169 [==============================] - 0s 433us/step - loss: 0.0128 - val_loss: 0.0080\n",
            "Epoch 256/400\n",
            "169/169 [==============================] - 0s 379us/step - loss: 0.0128 - val_loss: 0.0080\n",
            "Epoch 257/400\n",
            "169/169 [==============================] - 0s 393us/step - loss: 0.0131 - val_loss: 0.0082\n",
            "Epoch 258/400\n",
            "169/169 [==============================] - 0s 422us/step - loss: 0.0135 - val_loss: 0.0085\n",
            "Epoch 259/400\n",
            "169/169 [==============================] - 0s 384us/step - loss: 0.0106 - val_loss: 0.0088\n",
            "Epoch 260/400\n",
            "169/169 [==============================] - 0s 420us/step - loss: 0.0115 - val_loss: 0.0092\n",
            "Epoch 261/400\n",
            "169/169 [==============================] - 0s 430us/step - loss: 0.0124 - val_loss: 0.0091\n",
            "Epoch 262/400\n",
            "169/169 [==============================] - 0s 432us/step - loss: 0.0122 - val_loss: 0.0086\n",
            "Epoch 263/400\n",
            "169/169 [==============================] - 0s 439us/step - loss: 0.0122 - val_loss: 0.0079\n",
            "Epoch 264/400\n",
            "169/169 [==============================] - 0s 438us/step - loss: 0.0124 - val_loss: 0.0074\n",
            "Epoch 265/400\n",
            "169/169 [==============================] - 0s 440us/step - loss: 0.0121 - val_loss: 0.0076\n",
            "Epoch 266/400\n",
            "169/169 [==============================] - 0s 428us/step - loss: 0.0114 - val_loss: 0.0082\n",
            "Epoch 267/400\n",
            "169/169 [==============================] - 0s 411us/step - loss: 0.0122 - val_loss: 0.0087\n",
            "Epoch 268/400\n",
            "169/169 [==============================] - 0s 445us/step - loss: 0.0133 - val_loss: 0.0092\n",
            "Epoch 269/400\n",
            "169/169 [==============================] - 0s 408us/step - loss: 0.0132 - val_loss: 0.0092\n",
            "Epoch 270/400\n",
            "169/169 [==============================] - 0s 392us/step - loss: 0.0131 - val_loss: 0.0084\n",
            "Epoch 271/400\n",
            "169/169 [==============================] - 0s 399us/step - loss: 0.0126 - val_loss: 0.0073\n",
            "Epoch 272/400\n",
            "169/169 [==============================] - 0s 445us/step - loss: 0.0109 - val_loss: 0.0067\n",
            "Epoch 273/400\n",
            "169/169 [==============================] - 0s 396us/step - loss: 0.0116 - val_loss: 0.0071\n",
            "Epoch 274/400\n",
            "169/169 [==============================] - 0s 391us/step - loss: 0.0140 - val_loss: 0.0083\n",
            "Epoch 275/400\n",
            "169/169 [==============================] - 0s 393us/step - loss: 0.0120 - val_loss: 0.0094\n",
            "Epoch 276/400\n",
            "169/169 [==============================] - 0s 419us/step - loss: 0.0128 - val_loss: 0.0096\n",
            "Epoch 277/400\n",
            "169/169 [==============================] - 0s 389us/step - loss: 0.0118 - val_loss: 0.0093\n",
            "Epoch 278/400\n",
            "169/169 [==============================] - 0s 402us/step - loss: 0.0132 - val_loss: 0.0094\n",
            "Epoch 279/400\n",
            "169/169 [==============================] - 0s 373us/step - loss: 0.0130 - val_loss: 0.0091\n",
            "Epoch 280/400\n",
            "169/169 [==============================] - 0s 423us/step - loss: 0.0118 - val_loss: 0.0082\n",
            "Epoch 281/400\n",
            "169/169 [==============================] - 0s 398us/step - loss: 0.0125 - val_loss: 0.0076\n",
            "Epoch 282/400\n",
            "169/169 [==============================] - 0s 380us/step - loss: 0.0130 - val_loss: 0.0076\n",
            "Epoch 283/400\n",
            "169/169 [==============================] - 0s 453us/step - loss: 0.0129 - val_loss: 0.0077\n",
            "Epoch 284/400\n",
            "169/169 [==============================] - 0s 409us/step - loss: 0.0140 - val_loss: 0.0076\n",
            "Epoch 285/400\n",
            "169/169 [==============================] - 0s 377us/step - loss: 0.0119 - val_loss: 0.0073\n",
            "Epoch 286/400\n",
            "169/169 [==============================] - 0s 403us/step - loss: 0.0124 - val_loss: 0.0077\n",
            "Epoch 287/400\n",
            "169/169 [==============================] - 0s 365us/step - loss: 0.0125 - val_loss: 0.0087\n",
            "Epoch 288/400\n",
            "169/169 [==============================] - 0s 400us/step - loss: 0.0132 - val_loss: 0.0095\n",
            "Epoch 289/400\n",
            "169/169 [==============================] - 0s 371us/step - loss: 0.0137 - val_loss: 0.0100\n",
            "Epoch 290/400\n",
            "169/169 [==============================] - 0s 384us/step - loss: 0.0117 - val_loss: 0.0099\n",
            "Epoch 291/400\n",
            "169/169 [==============================] - 0s 401us/step - loss: 0.0127 - val_loss: 0.0092\n",
            "Epoch 292/400\n",
            "169/169 [==============================] - 0s 404us/step - loss: 0.0107 - val_loss: 0.0080\n",
            "Epoch 293/400\n",
            "169/169 [==============================] - 0s 391us/step - loss: 0.0125 - val_loss: 0.0070\n",
            "Epoch 294/400\n",
            "169/169 [==============================] - 0s 395us/step - loss: 0.0116 - val_loss: 0.0069\n",
            "Epoch 295/400\n",
            "169/169 [==============================] - 0s 373us/step - loss: 0.0120 - val_loss: 0.0075\n",
            "Epoch 296/400\n",
            "169/169 [==============================] - 0s 419us/step - loss: 0.0125 - val_loss: 0.0080\n",
            "Epoch 297/400\n",
            "169/169 [==============================] - 0s 447us/step - loss: 0.0116 - val_loss: 0.0082\n",
            "Epoch 298/400\n",
            "169/169 [==============================] - 0s 387us/step - loss: 0.0130 - val_loss: 0.0086\n",
            "Epoch 299/400\n",
            "169/169 [==============================] - 0s 388us/step - loss: 0.0125 - val_loss: 0.0092\n",
            "Epoch 300/400\n",
            "169/169 [==============================] - 0s 377us/step - loss: 0.0134 - val_loss: 0.0092\n",
            "Epoch 301/400\n",
            "169/169 [==============================] - 0s 405us/step - loss: 0.0145 - val_loss: 0.0089\n",
            "Epoch 302/400\n",
            "169/169 [==============================] - 0s 384us/step - loss: 0.0122 - val_loss: 0.0083\n",
            "Epoch 303/400\n",
            "169/169 [==============================] - 0s 377us/step - loss: 0.0122 - val_loss: 0.0074\n",
            "Epoch 304/400\n",
            "169/169 [==============================] - 0s 410us/step - loss: 0.0121 - val_loss: 0.0067\n",
            "Epoch 305/400\n",
            "169/169 [==============================] - 0s 420us/step - loss: 0.0130 - val_loss: 0.0066\n",
            "Epoch 306/400\n",
            "169/169 [==============================] - 0s 386us/step - loss: 0.0113 - val_loss: 0.0071\n",
            "Epoch 307/400\n",
            "169/169 [==============================] - 0s 394us/step - loss: 0.0113 - val_loss: 0.0079\n",
            "Epoch 308/400\n",
            "169/169 [==============================] - 0s 381us/step - loss: 0.0126 - val_loss: 0.0089\n",
            "Epoch 309/400\n",
            "169/169 [==============================] - 0s 380us/step - loss: 0.0115 - val_loss: 0.0097\n",
            "Epoch 310/400\n",
            "169/169 [==============================] - 0s 401us/step - loss: 0.0136 - val_loss: 0.0096\n",
            "Epoch 311/400\n",
            "169/169 [==============================] - 0s 380us/step - loss: 0.0125 - val_loss: 0.0089\n",
            "Epoch 312/400\n",
            "169/169 [==============================] - 0s 401us/step - loss: 0.0133 - val_loss: 0.0079\n",
            "Epoch 313/400\n",
            "169/169 [==============================] - 0s 433us/step - loss: 0.0122 - val_loss: 0.0068\n",
            "Epoch 314/400\n",
            "169/169 [==============================] - 0s 419us/step - loss: 0.0118 - val_loss: 0.0057\n",
            "Epoch 315/400\n",
            "169/169 [==============================] - 0s 452us/step - loss: 0.0110 - val_loss: 0.0052\n",
            "Epoch 316/400\n",
            "169/169 [==============================] - 0s 422us/step - loss: 0.0133 - val_loss: 0.0053\n",
            "Epoch 317/400\n",
            "169/169 [==============================] - 0s 410us/step - loss: 0.0118 - val_loss: 0.0063\n",
            "Epoch 318/400\n",
            "169/169 [==============================] - 0s 462us/step - loss: 0.0127 - val_loss: 0.0089\n",
            "Epoch 319/400\n",
            "169/169 [==============================] - 0s 428us/step - loss: 0.0109 - val_loss: 0.0117\n",
            "Epoch 320/400\n",
            "169/169 [==============================] - 0s 405us/step - loss: 0.0131 - val_loss: 0.0134\n",
            "Epoch 321/400\n",
            "169/169 [==============================] - 0s 392us/step - loss: 0.0138 - val_loss: 0.0132\n",
            "Epoch 322/400\n",
            "169/169 [==============================] - 0s 415us/step - loss: 0.0113 - val_loss: 0.0114\n",
            "Epoch 323/400\n",
            "169/169 [==============================] - 0s 386us/step - loss: 0.0143 - val_loss: 0.0097\n",
            "Epoch 324/400\n",
            "169/169 [==============================] - 0s 394us/step - loss: 0.0110 - val_loss: 0.0089\n",
            "Epoch 325/400\n",
            "169/169 [==============================] - 0s 416us/step - loss: 0.0136 - val_loss: 0.0082\n",
            "Epoch 326/400\n",
            "169/169 [==============================] - 0s 380us/step - loss: 0.0128 - val_loss: 0.0074\n",
            "Epoch 327/400\n",
            "169/169 [==============================] - 0s 448us/step - loss: 0.0117 - val_loss: 0.0064\n",
            "Epoch 328/400\n",
            "169/169 [==============================] - 0s 371us/step - loss: 0.0117 - val_loss: 0.0062\n",
            "Epoch 329/400\n",
            "169/169 [==============================] - 0s 401us/step - loss: 0.0129 - val_loss: 0.0067\n",
            "Epoch 330/400\n",
            "169/169 [==============================] - 0s 446us/step - loss: 0.0133 - val_loss: 0.0074\n",
            "Epoch 331/400\n",
            "169/169 [==============================] - 0s 397us/step - loss: 0.0116 - val_loss: 0.0077\n",
            "Epoch 332/400\n",
            "169/169 [==============================] - 0s 388us/step - loss: 0.0135 - val_loss: 0.0078\n",
            "Epoch 333/400\n",
            "169/169 [==============================] - 0s 371us/step - loss: 0.0134 - val_loss: 0.0079\n",
            "Epoch 334/400\n",
            "169/169 [==============================] - 0s 375us/step - loss: 0.0128 - val_loss: 0.0081\n",
            "Epoch 335/400\n",
            "169/169 [==============================] - 0s 374us/step - loss: 0.0122 - val_loss: 0.0081\n",
            "Epoch 336/400\n",
            "169/169 [==============================] - 0s 378us/step - loss: 0.0115 - val_loss: 0.0080\n",
            "Epoch 337/400\n",
            "169/169 [==============================] - 0s 406us/step - loss: 0.0116 - val_loss: 0.0082\n",
            "Epoch 338/400\n",
            "169/169 [==============================] - 0s 384us/step - loss: 0.0133 - val_loss: 0.0087\n",
            "Epoch 339/400\n",
            "169/169 [==============================] - 0s 381us/step - loss: 0.0106 - val_loss: 0.0092\n",
            "Epoch 340/400\n",
            "169/169 [==============================] - 0s 401us/step - loss: 0.0116 - val_loss: 0.0093\n",
            "Epoch 341/400\n",
            "169/169 [==============================] - 0s 388us/step - loss: 0.0118 - val_loss: 0.0098\n",
            "Epoch 342/400\n",
            "169/169 [==============================] - 0s 418us/step - loss: 0.0113 - val_loss: 0.0099\n",
            "Epoch 343/400\n",
            "169/169 [==============================] - 0s 424us/step - loss: 0.0122 - val_loss: 0.0095\n",
            "Epoch 344/400\n",
            "169/169 [==============================] - 0s 427us/step - loss: 0.0124 - val_loss: 0.0090\n",
            "Epoch 345/400\n",
            "169/169 [==============================] - 0s 388us/step - loss: 0.0124 - val_loss: 0.0088\n",
            "Epoch 346/400\n",
            "169/169 [==============================] - 0s 388us/step - loss: 0.0124 - val_loss: 0.0085\n",
            "Epoch 347/400\n",
            "169/169 [==============================] - 0s 416us/step - loss: 0.0121 - val_loss: 0.0079\n",
            "Epoch 348/400\n",
            "169/169 [==============================] - 0s 399us/step - loss: 0.0119 - val_loss: 0.0073\n",
            "Epoch 349/400\n",
            "169/169 [==============================] - 0s 395us/step - loss: 0.0130 - val_loss: 0.0071\n",
            "Epoch 350/400\n",
            "169/169 [==============================] - 0s 377us/step - loss: 0.0122 - val_loss: 0.0076\n",
            "Epoch 351/400\n",
            "169/169 [==============================] - 0s 393us/step - loss: 0.0124 - val_loss: 0.0083\n",
            "Epoch 352/400\n",
            "169/169 [==============================] - 0s 407us/step - loss: 0.0120 - val_loss: 0.0082\n",
            "Epoch 353/400\n",
            "169/169 [==============================] - 0s 382us/step - loss: 0.0111 - val_loss: 0.0078\n",
            "Epoch 354/400\n",
            "169/169 [==============================] - 0s 391us/step - loss: 0.0110 - val_loss: 0.0080\n",
            "Epoch 355/400\n",
            "169/169 [==============================] - 0s 430us/step - loss: 0.0127 - val_loss: 0.0080\n",
            "Epoch 356/400\n",
            "169/169 [==============================] - 0s 493us/step - loss: 0.0127 - val_loss: 0.0076\n",
            "Epoch 357/400\n",
            "169/169 [==============================] - 0s 379us/step - loss: 0.0118 - val_loss: 0.0070\n",
            "Epoch 358/400\n",
            "169/169 [==============================] - 0s 379us/step - loss: 0.0132 - val_loss: 0.0067\n",
            "Epoch 359/400\n",
            "169/169 [==============================] - 0s 393us/step - loss: 0.0134 - val_loss: 0.0070\n",
            "Epoch 360/400\n",
            "169/169 [==============================] - 0s 390us/step - loss: 0.0117 - val_loss: 0.0071\n",
            "Epoch 361/400\n",
            "169/169 [==============================] - 0s 365us/step - loss: 0.0128 - val_loss: 0.0071\n",
            "Epoch 362/400\n",
            "169/169 [==============================] - 0s 377us/step - loss: 0.0111 - val_loss: 0.0069\n",
            "Epoch 363/400\n",
            "169/169 [==============================] - 0s 394us/step - loss: 0.0102 - val_loss: 0.0073\n",
            "Epoch 364/400\n",
            "169/169 [==============================] - 0s 440us/step - loss: 0.0129 - val_loss: 0.0085\n",
            "Epoch 365/400\n",
            "169/169 [==============================] - 0s 443us/step - loss: 0.0104 - val_loss: 0.0099\n",
            "Epoch 366/400\n",
            "169/169 [==============================] - 0s 427us/step - loss: 0.0121 - val_loss: 0.0103\n",
            "Epoch 367/400\n",
            "169/169 [==============================] - 0s 425us/step - loss: 0.0117 - val_loss: 0.0095\n",
            "Epoch 368/400\n",
            "169/169 [==============================] - 0s 414us/step - loss: 0.0132 - val_loss: 0.0082\n",
            "Epoch 369/400\n",
            "169/169 [==============================] - 0s 440us/step - loss: 0.0122 - val_loss: 0.0075\n",
            "Epoch 370/400\n",
            "169/169 [==============================] - 0s 400us/step - loss: 0.0123 - val_loss: 0.0075\n",
            "Epoch 371/400\n",
            "169/169 [==============================] - 0s 436us/step - loss: 0.0120 - val_loss: 0.0078\n",
            "Epoch 372/400\n",
            "169/169 [==============================] - 0s 398us/step - loss: 0.0123 - val_loss: 0.0078\n",
            "Epoch 373/400\n",
            "169/169 [==============================] - 0s 473us/step - loss: 0.0122 - val_loss: 0.0077\n",
            "Epoch 374/400\n",
            "169/169 [==============================] - 0s 437us/step - loss: 0.0124 - val_loss: 0.0076\n",
            "Epoch 375/400\n",
            "169/169 [==============================] - 0s 381us/step - loss: 0.0122 - val_loss: 0.0077\n",
            "Epoch 376/400\n",
            "169/169 [==============================] - 0s 408us/step - loss: 0.0118 - val_loss: 0.0080\n",
            "Epoch 377/400\n",
            "169/169 [==============================] - 0s 396us/step - loss: 0.0118 - val_loss: 0.0080\n",
            "Epoch 378/400\n",
            "169/169 [==============================] - 0s 390us/step - loss: 0.0121 - val_loss: 0.0086\n",
            "Epoch 379/400\n",
            "169/169 [==============================] - 0s 392us/step - loss: 0.0111 - val_loss: 0.0099\n",
            "Epoch 380/400\n",
            "169/169 [==============================] - 0s 372us/step - loss: 0.0120 - val_loss: 0.0110\n",
            "Epoch 381/400\n",
            "169/169 [==============================] - 0s 392us/step - loss: 0.0121 - val_loss: 0.0113\n",
            "Epoch 382/400\n",
            "169/169 [==============================] - 0s 389us/step - loss: 0.0131 - val_loss: 0.0101\n",
            "Epoch 383/400\n",
            "169/169 [==============================] - 0s 400us/step - loss: 0.0111 - val_loss: 0.0084\n",
            "Epoch 384/400\n",
            "169/169 [==============================] - 0s 376us/step - loss: 0.0121 - val_loss: 0.0071\n",
            "Epoch 385/400\n",
            "169/169 [==============================] - 0s 425us/step - loss: 0.0123 - val_loss: 0.0068\n",
            "Epoch 386/400\n",
            "169/169 [==============================] - 0s 391us/step - loss: 0.0123 - val_loss: 0.0072\n",
            "Epoch 387/400\n",
            "169/169 [==============================] - 0s 385us/step - loss: 0.0127 - val_loss: 0.0075\n",
            "Epoch 388/400\n",
            "169/169 [==============================] - 0s 439us/step - loss: 0.0114 - val_loss: 0.0079\n",
            "Epoch 389/400\n",
            "169/169 [==============================] - 0s 395us/step - loss: 0.0114 - val_loss: 0.0084\n",
            "Epoch 390/400\n",
            "169/169 [==============================] - 0s 391us/step - loss: 0.0104 - val_loss: 0.0085\n",
            "Epoch 391/400\n",
            "169/169 [==============================] - 0s 378us/step - loss: 0.0115 - val_loss: 0.0082\n",
            "Epoch 392/400\n",
            "169/169 [==============================] - 0s 379us/step - loss: 0.0118 - val_loss: 0.0079\n",
            "Epoch 393/400\n",
            "169/169 [==============================] - 0s 390us/step - loss: 0.0104 - val_loss: 0.0082\n",
            "Epoch 394/400\n",
            "169/169 [==============================] - 0s 417us/step - loss: 0.0121 - val_loss: 0.0090\n",
            "Epoch 395/400\n",
            "169/169 [==============================] - 0s 411us/step - loss: 0.0119 - val_loss: 0.0099\n",
            "Epoch 396/400\n",
            "169/169 [==============================] - 0s 410us/step - loss: 0.0124 - val_loss: 0.0104\n",
            "Epoch 397/400\n",
            "169/169 [==============================] - 0s 395us/step - loss: 0.0133 - val_loss: 0.0105\n",
            "Epoch 398/400\n",
            "169/169 [==============================] - 0s 384us/step - loss: 0.0116 - val_loss: 0.0109\n",
            "Epoch 399/400\n",
            "169/169 [==============================] - 0s 386us/step - loss: 0.0121 - val_loss: 0.0110\n",
            "Epoch 400/400\n",
            "169/169 [==============================] - 0s 430us/step - loss: 0.0115 - val_loss: 0.0102\n"
          ],
          "name": "stdout"
        },
        {
          "output_type": "execute_result",
          "data": {
            "text/plain": [
              "<keras.callbacks.callbacks.History at 0x7f1916f6f898>"
            ]
          },
          "metadata": {
            "tags": []
          },
          "execution_count": 613
        }
      ]
    },
    {
      "cell_type": "code",
      "metadata": {
        "id": "11mKLvcFHijJ",
        "colab_type": "code",
        "outputId": "f934121d-bc8f-4e48-88c4-5c422747d83c",
        "colab": {
          "base_uri": "https://localhost:8080/",
          "height": 383
        }
      },
      "source": [
        "plt.figure(figsize=(10,5))\n",
        "plt.plot(regressorGRU.history.history['loss'], label='Training', color='blue')\n",
        "plt.plot(regressorGRU.history.history['val_loss'], label='Validation', color='red')\n",
        "plt.legend()\n",
        "plt.title(\"Training Loss Vs Validation Loss\")\n",
        "plt.xlabel('time')\n",
        "plt.ylabel('loss')\n",
        "plt.show()"
      ],
      "execution_count": 614,
      "outputs": [
        {
          "output_type": "display_data",
          "data": {
            "image/png": "[encoded data removed]",
            "text/plain": [
              "<Figure size 720x360 with 1 Axes>"
            ]
          },
          "metadata": {
            "tags": []
          }
        }
      ]
    },
    {
      "cell_type": "markdown",
      "metadata": {
        "id": "wHqrk3byKzEF",
        "colab_type": "text"
      },
      "source": [
        "###Predict the stock price"
      ]
    },
    {
      "cell_type": "code",
      "metadata": {
        "id": "nscCDs3LK2VG",
        "colab_type": "code",
        "colab": {}
      },
      "source": [
        "pred_gru = regressorGRU.predict(X_test)\n",
        "pred_gru = sc.inverse_transform(pred_gru)"
      ],
      "execution_count": 0,
      "outputs": []
    },
    {
      "cell_type": "markdown",
      "metadata": {
        "id": "m-kb4cNCLGr9",
        "colab_type": "text"
      },
      "source": [
        "###Plot the prediction"
      ]
    },
    {
      "cell_type": "code",
      "metadata": {
        "id": "zhqj5QfSLI4T",
        "colab_type": "code",
        "outputId": "e3d52ffb-07f9-43a5-8482-fce520324bd0",
        "colab": {
          "base_uri": "https://localhost:8080/",
          "height": 325
        }
      },
      "source": [
        "plot_predictions(test_2017, pred_gru)"
      ],
      "execution_count": 616,
      "outputs": [
        {
          "output_type": "display_data",
          "data": {
            "image/png": "[encoded data removed]",
            "text/plain": [
              "<Figure size 432x288 with 1 Axes>"
            ]
          },
          "metadata": {
            "tags": []
          }
        }
      ]
    },
    {
      "cell_type": "markdown",
      "metadata": {
        "id": "M6OIzrFvLdY7",
        "colab_type": "text"
      },
      "source": [
        "###RMSE of the model"
      ]
    },
    {
      "cell_type": "code",
      "metadata": {
        "id": "olfgsznTLdqf",
        "colab_type": "code",
        "outputId": "12c7ed04-c7b7-463a-e2f3-27faed25dbef",
        "colab": {
          "base_uri": "https://localhost:8080/",
          "height": 34
        }
      },
      "source": [
        "return_rmse(test_2017, pred_gru)\n",
        "rmse_gru_2017 = return_rmse(test_2017, pred_gru)\n",
        "print(\"RMSE = {}.\".format(rmse_gru_2017))"
      ],
      "execution_count": 617,
      "outputs": [
        {
          "output_type": "stream",
          "text": [
            "RMSE = 15.855623898728137.\n"
          ],
          "name": "stdout"
        }
      ]
    },
    {
      "cell_type": "markdown",
      "metadata": {
        "id": "xmpH_idAJTVp",
        "colab_type": "text"
      },
      "source": [
        "#Testing Models"
      ]
    },
    {
      "cell_type": "markdown",
      "metadata": {
        "id": "sfhuyvb1SyvL",
        "colab_type": "text"
      },
      "source": [
        "here the model will be tested with three different period as following:\n",
        "1. 2020-4-3 to 2020-5-1\n",
        "2. The next five monthes after 2018-1-1\n",
        "3. The next ten monthes after 2018-1-1\n",
        "\n",
        "\n"
      ]
    },
    {
      "cell_type": "code",
      "metadata": {
        "id": "Py-PmJ7RMI4k",
        "colab_type": "code",
        "colab": {}
      },
      "source": [
        "def preprossing_data_rnns(data):\n",
        "  data_x = []\n",
        "  data_y = []\n",
        "  for i in range(10,len(data)):\n",
        "    data_x.append(data[i-10:i, 0])\n",
        "    data_y.append(data[i,0])\n",
        "  data_x = sc.transform(data_x)\n",
        "  data_x, data_y = np.array(data_x), np.array(data_y)\n",
        "  data_x = np.reshape(data_x, (data_x.shape[0], data_x.shape[1], 1))\n",
        "  return data_x, data_y\n",
        "\n",
        "def predic_using_LSTM(data_x):\n",
        "  pred_lstm_new = regressor.predict(data_x)\n",
        "  pred_lstm_new = sc.inverse_transform(pred_lstm_new)\n",
        "  return pred_lstm_new\n",
        "\n",
        "def predic_using_gru(data_x):\n",
        "  pred_gru_new = regressorGRU.predict(data_x)\n",
        "  pred_gru_new = sc.inverse_transform(pred_gru_new)\n",
        "  return pred_gru_new\n"
      ],
      "execution_count": 0,
      "outputs": []
    },
    {
      "cell_type": "markdown",
      "metadata": {
        "id": "_2DglhNSfrsM",
        "colab_type": "text"
      },
      "source": [
        "##Get the pariod from 2020-4-3 to 2020-5-1 months after 2018-1-1"
      ]
    },
    {
      "cell_type": "code",
      "metadata": {
        "id": "J2E_7zlBJbxV",
        "colab_type": "code",
        "colab": {}
      },
      "source": [
        "apple_data_4_5 = pd.read_csv('https://raw.githubusercontent.com/ahshawaf/AML/project7/APPL_2020-03-04_to_2020-01-05.csv',index_col='Date', parse_dates=[\"Date\"]) "
      ],
      "execution_count": 0,
      "outputs": []
    },
    {
      "cell_type": "code",
      "metadata": {
        "id": "QR2ncqX7Q2IX",
        "colab_type": "code",
        "outputId": "9a3f2ded-04fa-441d-c078-6b3ecee62a21",
        "colab": {
          "base_uri": "https://localhost:8080/",
          "height": 225
        }
      },
      "source": [
        "apple_data_4_5.head()"
      ],
      "execution_count": 620,
      "outputs": [
        {
          "output_type": "execute_result",
          "data": {
            "text/html": [
              "<div>\n",
              "<style scoped>\n",
              "    .dataframe tbody tr th:only-of-type {\n",
              "        vertical-align: middle;\n",
              "    }\n",
              "\n",
              "    .dataframe tbody tr th {\n",
              "        vertical-align: top;\n",
              "    }\n",
              "\n",
              "    .dataframe thead th {\n",
              "        text-align: right;\n",
              "    }\n",
              "</style>\n",
              "<table border=\"1\" class=\"dataframe\">\n",
              "  <thead>\n",
              "    <tr style=\"text-align: right;\">\n",
              "      <th></th>\n",
              "      <th>Close/Last</th>\n",
              "      <th>Volume</th>\n",
              "      <th>Open</th>\n",
              "      <th>High</th>\n",
              "      <th>Low</th>\n",
              "    </tr>\n",
              "    <tr>\n",
              "      <th>Date</th>\n",
              "      <th></th>\n",
              "      <th></th>\n",
              "      <th></th>\n",
              "      <th></th>\n",
              "      <th></th>\n",
              "    </tr>\n",
              "  </thead>\n",
              "  <tbody>\n",
              "    <tr>\n",
              "      <th>2020-05-01</th>\n",
              "      <td>289.07</td>\n",
              "      <td>60154180.0</td>\n",
              "      <td>286.25</td>\n",
              "      <td>299.00</td>\n",
              "      <td>285.85</td>\n",
              "    </tr>\n",
              "    <tr>\n",
              "      <th>2020-04-30</th>\n",
              "      <td>293.80</td>\n",
              "      <td>45765970.0</td>\n",
              "      <td>289.96</td>\n",
              "      <td>294.53</td>\n",
              "      <td>288.35</td>\n",
              "    </tr>\n",
              "    <tr>\n",
              "      <th>2020-04-29</th>\n",
              "      <td>287.73</td>\n",
              "      <td>34320200.0</td>\n",
              "      <td>284.73</td>\n",
              "      <td>289.67</td>\n",
              "      <td>283.89</td>\n",
              "    </tr>\n",
              "    <tr>\n",
              "      <th>2020-04-28</th>\n",
              "      <td>278.58</td>\n",
              "      <td>28001190.0</td>\n",
              "      <td>285.08</td>\n",
              "      <td>285.83</td>\n",
              "      <td>278.20</td>\n",
              "    </tr>\n",
              "    <tr>\n",
              "      <th>2020-04-27</th>\n",
              "      <td>283.17</td>\n",
              "      <td>29271890.0</td>\n",
              "      <td>281.80</td>\n",
              "      <td>284.54</td>\n",
              "      <td>279.95</td>\n",
              "    </tr>\n",
              "  </tbody>\n",
              "</table>\n",
              "</div>"
            ],
            "text/plain": [
              "             Close/Last      Volume    Open    High     Low\n",
              "Date                                                       \n",
              "2020-05-01       289.07  60154180.0  286.25  299.00  285.85\n",
              "2020-04-30       293.80  45765970.0  289.96  294.53  288.35\n",
              "2020-04-29       287.73  34320200.0  284.73  289.67  283.89\n",
              "2020-04-28       278.58  28001190.0  285.08  285.83  278.20\n",
              "2020-04-27       283.17  29271890.0  281.80  284.54  279.95"
            ]
          },
          "metadata": {
            "tags": []
          },
          "execution_count": 620
        }
      ]
    },
    {
      "cell_type": "code",
      "metadata": {
        "id": "I25NJkV1ASkm",
        "colab_type": "code",
        "outputId": "46a8d9da-f293-4eb8-f195-2b36dabbac18",
        "colab": {
          "base_uri": "https://localhost:8080/",
          "height": 67
        }
      },
      "source": [
        "apple_data_4_5_high = apple_data_4_5.iloc[:,3].values\n",
        "apple_data_4_5_high"
      ],
      "execution_count": 621,
      "outputs": [
        {
          "output_type": "execute_result",
          "data": {
            "text/plain": [
              "array([299.  , 294.53, 289.67, 285.83, 284.54, 283.01, 281.75, 277.9 ,\n",
              "       277.25, 281.68, 286.95, 288.2 , 286.33, 288.25, 273.7 , 270.07,\n",
              "       267.37, 271.7 , 263.11, 245.7 ])"
            ]
          },
          "metadata": {
            "tags": []
          },
          "execution_count": 621
        }
      ]
    },
    {
      "cell_type": "code",
      "metadata": {
        "id": "PRggSA7zCxmB",
        "colab_type": "code",
        "outputId": "5c401afc-503a-479f-975c-c7f31660bd2f",
        "colab": {
          "base_uri": "https://localhost:8080/",
          "height": 34
        }
      },
      "source": [
        "apple_data_4_5_high.shape"
      ],
      "execution_count": 622,
      "outputs": [
        {
          "output_type": "execute_result",
          "data": {
            "text/plain": [
              "(20,)"
            ]
          },
          "metadata": {
            "tags": []
          },
          "execution_count": 622
        }
      ]
    },
    {
      "cell_type": "code",
      "metadata": {
        "id": "3itLf4izCzwk",
        "colab_type": "code",
        "outputId": "3ab90262-9291-49ed-948e-6622f389206b",
        "colab": {
          "base_uri": "https://localhost:8080/",
          "height": 34
        }
      },
      "source": [
        "apple_data_4_5_high=apple_data_4_5_high.reshape(-1,1)\n",
        "apple_data_4_5_high.shape"
      ],
      "execution_count": 623,
      "outputs": [
        {
          "output_type": "execute_result",
          "data": {
            "text/plain": [
              "(20, 1)"
            ]
          },
          "metadata": {
            "tags": []
          },
          "execution_count": 623
        }
      ]
    },
    {
      "cell_type": "code",
      "metadata": {
        "id": "YjPW6SvbNUyK",
        "colab_type": "code",
        "colab": {}
      },
      "source": [
        "apple_x_4_5,apple_y_4_5 = preprossing_data_rnns(np.array(apple_data_4_5_high))"
      ],
      "execution_count": 0,
      "outputs": []
    },
    {
      "cell_type": "markdown",
      "metadata": {
        "id": "-9lKKvbKaOde",
        "colab_type": "text"
      },
      "source": [
        "predict using LSTM"
      ]
    },
    {
      "cell_type": "code",
      "metadata": {
        "id": "KXYRPP65RTSD",
        "colab_type": "code",
        "colab": {}
      },
      "source": [
        "pred_lstm_apple_4_5 = predic_using_LSTM(apple_x_4_5)"
      ],
      "execution_count": 0,
      "outputs": []
    },
    {
      "cell_type": "code",
      "metadata": {
        "id": "t6sHie59SHj7",
        "colab_type": "code",
        "outputId": "e26cd0a5-d906-457b-9a12-b16ffdeb008d",
        "colab": {
          "base_uri": "https://localhost:8080/",
          "height": 185
        }
      },
      "source": [
        "pred_lstm_apple_4_5"
      ],
      "execution_count": 626,
      "outputs": [
        {
          "output_type": "execute_result",
          "data": {
            "text/plain": [
              "array([[224.43025],\n",
              "       [223.4691 ],\n",
              "       [223.02835],\n",
              "       [222.97372],\n",
              "       [223.20512],\n",
              "       [223.21605],\n",
              "       [222.86058],\n",
              "       [222.15154],\n",
              "       [221.40547],\n",
              "       [220.42514]], dtype=float32)"
            ]
          },
          "metadata": {
            "tags": []
          },
          "execution_count": 626
        }
      ]
    },
    {
      "cell_type": "code",
      "metadata": {
        "id": "3-VztDn-Rb8P",
        "colab_type": "code",
        "outputId": "1007fa76-a10b-4713-f8bc-79e8e78f2f3b",
        "colab": {
          "base_uri": "https://localhost:8080/",
          "height": 325
        }
      },
      "source": [
        "plot_predictions(apple_y_4_5,pred_lstm_apple_4_5)"
      ],
      "execution_count": 627,
      "outputs": [
        {
          "output_type": "display_data",
          "data": {
            "image/png": "[encoded data removed]",
            "text/plain": [
              "<Figure size 432x288 with 1 Axes>"
            ]
          },
          "metadata": {
            "tags": []
          }
        }
      ]
    },
    {
      "cell_type": "code",
      "metadata": {
        "id": "378OlMNZX8Jg",
        "colab_type": "code",
        "outputId": "716dcc7b-58d8-42c5-b8c0-5e27943e2512",
        "colab": {
          "base_uri": "https://localhost:8080/",
          "height": 34
        }
      },
      "source": [
        "rmse_lstm_4_5_2020=return_rmse(apple_y_4_5,pred_lstm_apple_4_5)\n",
        "print('RMSE = {}'.format(rmse_lstm_4_5_2020))"
      ],
      "execution_count": 628,
      "outputs": [
        {
          "output_type": "stream",
          "text": [
            "RMSE = 52.84519784188001\n"
          ],
          "name": "stdout"
        }
      ]
    },
    {
      "cell_type": "markdown",
      "metadata": {
        "id": "nsfS6x3yaKcO",
        "colab_type": "text"
      },
      "source": [
        "predict using GRU"
      ]
    },
    {
      "cell_type": "code",
      "metadata": {
        "id": "wcWjXeEzSNWP",
        "colab_type": "code",
        "colab": {}
      },
      "source": [
        "pred_gru_apple_4_5 = predic_using_gru(apple_x_4_5)"
      ],
      "execution_count": 0,
      "outputs": []
    },
    {
      "cell_type": "code",
      "metadata": {
        "id": "MP_Iet4gTPS8",
        "colab_type": "code",
        "outputId": "a2fce985-015d-4158-a51b-97cb93dc4a15",
        "colab": {
          "base_uri": "https://localhost:8080/",
          "height": 185
        }
      },
      "source": [
        "pred_gru_apple_4_5"
      ],
      "execution_count": 630,
      "outputs": [
        {
          "output_type": "execute_result",
          "data": {
            "text/plain": [
              "array([[211.59256],\n",
              "       [212.15236],\n",
              "       [213.00008],\n",
              "       [213.54005],\n",
              "       [214.1018 ],\n",
              "       [212.92886],\n",
              "       [211.10278],\n",
              "       [209.16714],\n",
              "       [208.06468],\n",
              "       [206.50139]], dtype=float32)"
            ]
          },
          "metadata": {
            "tags": []
          },
          "execution_count": 630
        }
      ]
    },
    {
      "cell_type": "code",
      "metadata": {
        "id": "mHBIXk4lSptK",
        "colab_type": "code",
        "outputId": "43c742f1-3ace-46f4-f3e7-2938b4ac34c1",
        "colab": {
          "base_uri": "https://localhost:8080/",
          "height": 325
        }
      },
      "source": [
        "plot_predictions(apple_y_4_5,pred_gru_apple_4_5)"
      ],
      "execution_count": 631,
      "outputs": [
        {
          "output_type": "display_data",
          "data": {
            "image/png": "[encoded data removed]",
            "text/plain": [
              "<Figure size 432x288 with 1 Axes>"
            ]
          },
          "metadata": {
            "tags": []
          }
        }
      ]
    },
    {
      "cell_type": "code",
      "metadata": {
        "id": "ribv4JtaXxGg",
        "colab_type": "code",
        "outputId": "cb976db9-80b5-4e83-a66f-c1dd30a29c59",
        "colab": {
          "base_uri": "https://localhost:8080/",
          "height": 34
        }
      },
      "source": [
        "rmse_gru_4_5_2020=return_rmse(apple_y_4_5,pred_gru_apple_4_5)\n",
        "print('RMSE = {}'.format(gru_lstm_4_5_2020))"
      ],
      "execution_count": 632,
      "outputs": [
        {
          "output_type": "stream",
          "text": [
            "RMSE = 63.75499697600162\n"
          ],
          "name": "stdout"
        }
      ]
    },
    {
      "cell_type": "markdown",
      "metadata": {
        "id": "NjzuP432QZIw",
        "colab_type": "text"
      },
      "source": [
        "##Get the next five months after 2018-1-1"
      ]
    },
    {
      "cell_type": "code",
      "metadata": {
        "id": "0SuHWzUI53No",
        "colab_type": "code",
        "colab": {}
      },
      "source": [
        "\n",
        "data_2 = pd.read_csv('https://raw.githubusercontent.com/ahshawaf/AML/project7/AAPL_2015-04-05_to_2020-01-05.csv',index_col='Date', parse_dates=[\"Date\"]) "
      ],
      "execution_count": 0,
      "outputs": []
    },
    {
      "cell_type": "code",
      "metadata": {
        "id": "b2uOo4_r6QRw",
        "colab_type": "code",
        "outputId": "74aa3fc9-8dce-4483-a1e8-bc80cf97f0a6",
        "colab": {
          "base_uri": "https://localhost:8080/",
          "height": 225
        }
      },
      "source": [
        "data_2.head()"
      ],
      "execution_count": 634,
      "outputs": [
        {
          "output_type": "execute_result",
          "data": {
            "text/html": [
              "<div>\n",
              "<style scoped>\n",
              "    .dataframe tbody tr th:only-of-type {\n",
              "        vertical-align: middle;\n",
              "    }\n",
              "\n",
              "    .dataframe tbody tr th {\n",
              "        vertical-align: top;\n",
              "    }\n",
              "\n",
              "    .dataframe thead th {\n",
              "        text-align: right;\n",
              "    }\n",
              "</style>\n",
              "<table border=\"1\" class=\"dataframe\">\n",
              "  <thead>\n",
              "    <tr style=\"text-align: right;\">\n",
              "      <th></th>\n",
              "      <th>Close/Last</th>\n",
              "      <th>Volume</th>\n",
              "      <th>Open</th>\n",
              "      <th>High</th>\n",
              "      <th>Low</th>\n",
              "    </tr>\n",
              "    <tr>\n",
              "      <th>Date</th>\n",
              "      <th></th>\n",
              "      <th></th>\n",
              "      <th></th>\n",
              "      <th></th>\n",
              "      <th></th>\n",
              "    </tr>\n",
              "  </thead>\n",
              "  <tbody>\n",
              "    <tr>\n",
              "      <th>2020-05-01</th>\n",
              "      <td>289.07</td>\n",
              "      <td>60154180.0</td>\n",
              "      <td>286.25</td>\n",
              "      <td>299.00</td>\n",
              "      <td>285.85</td>\n",
              "    </tr>\n",
              "    <tr>\n",
              "      <th>2020-04-30</th>\n",
              "      <td>293.80</td>\n",
              "      <td>45765970.0</td>\n",
              "      <td>289.96</td>\n",
              "      <td>294.53</td>\n",
              "      <td>288.35</td>\n",
              "    </tr>\n",
              "    <tr>\n",
              "      <th>2020-04-29</th>\n",
              "      <td>287.73</td>\n",
              "      <td>34320200.0</td>\n",
              "      <td>284.73</td>\n",
              "      <td>289.67</td>\n",
              "      <td>283.89</td>\n",
              "    </tr>\n",
              "    <tr>\n",
              "      <th>2020-04-28</th>\n",
              "      <td>278.58</td>\n",
              "      <td>28001190.0</td>\n",
              "      <td>285.08</td>\n",
              "      <td>285.83</td>\n",
              "      <td>278.20</td>\n",
              "    </tr>\n",
              "    <tr>\n",
              "      <th>2020-04-27</th>\n",
              "      <td>283.17</td>\n",
              "      <td>29271890.0</td>\n",
              "      <td>281.80</td>\n",
              "      <td>284.54</td>\n",
              "      <td>279.95</td>\n",
              "    </tr>\n",
              "  </tbody>\n",
              "</table>\n",
              "</div>"
            ],
            "text/plain": [
              "             Close/Last      Volume    Open    High     Low\n",
              "Date                                                       \n",
              "2020-05-01       289.07  60154180.0  286.25  299.00  285.85\n",
              "2020-04-30       293.80  45765970.0  289.96  294.53  288.35\n",
              "2020-04-29       287.73  34320200.0  284.73  289.67  283.89\n",
              "2020-04-28       278.58  28001190.0  285.08  285.83  278.20\n",
              "2020-04-27       283.17  29271890.0  281.80  284.54  279.95"
            ]
          },
          "metadata": {
            "tags": []
          },
          "execution_count": 634
        }
      ]
    },
    {
      "cell_type": "code",
      "metadata": {
        "id": "KU1aVnEPQ65Q",
        "colab_type": "code",
        "colab": {}
      },
      "source": [
        "#this is a custom function get the a specific data with a specific period. The 'from date' is included but the 'to date' is not\n",
        "def get_period_of_data(data,from_year,from_month,from_day,to_year,to_month,to_day):\n",
        "  from_date = pd.Timestamp(date(from_year,from_month,from_day))\n",
        "  to_date = pd.Timestamp(date(to_year,to_month,to_day))\n",
        "  result = data_2[(data.index >= from_date) &  (data.index < to_date)]\n",
        "  return result"
      ],
      "execution_count": 0,
      "outputs": []
    },
    {
      "cell_type": "markdown",
      "metadata": {
        "id": "uX9TuhsLTK5i",
        "colab_type": "text"
      },
      "source": [
        "##Predict for the next five months"
      ]
    },
    {
      "cell_type": "code",
      "metadata": {
        "id": "MvSfMpYwR0Mr",
        "colab_type": "code",
        "outputId": "3e145af0-d531-4e96-8364-2dc2ebb70692",
        "colab": {
          "base_uri": "https://localhost:8080/",
          "height": 431
        }
      },
      "source": [
        "apple_1_5=get_period_of_data(data_2,2018,1,1,2018,6,1)\n",
        "apple_1_5"
      ],
      "execution_count": 636,
      "outputs": [
        {
          "output_type": "execute_result",
          "data": {
            "text/html": [
              "<div>\n",
              "<style scoped>\n",
              "    .dataframe tbody tr th:only-of-type {\n",
              "        vertical-align: middle;\n",
              "    }\n",
              "\n",
              "    .dataframe tbody tr th {\n",
              "        vertical-align: top;\n",
              "    }\n",
              "\n",
              "    .dataframe thead th {\n",
              "        text-align: right;\n",
              "    }\n",
              "</style>\n",
              "<table border=\"1\" class=\"dataframe\">\n",
              "  <thead>\n",
              "    <tr style=\"text-align: right;\">\n",
              "      <th></th>\n",
              "      <th>Close/Last</th>\n",
              "      <th>Volume</th>\n",
              "      <th>Open</th>\n",
              "      <th>High</th>\n",
              "      <th>Low</th>\n",
              "    </tr>\n",
              "    <tr>\n",
              "      <th>Date</th>\n",
              "      <th></th>\n",
              "      <th></th>\n",
              "      <th></th>\n",
              "      <th></th>\n",
              "      <th></th>\n",
              "    </tr>\n",
              "  </thead>\n",
              "  <tbody>\n",
              "    <tr>\n",
              "      <th>2018-05-31</th>\n",
              "      <td>186.87</td>\n",
              "      <td>27468700.0</td>\n",
              "      <td>187.22</td>\n",
              "      <td>188.23</td>\n",
              "      <td>186.14</td>\n",
              "    </tr>\n",
              "    <tr>\n",
              "      <th>2018-05-30</th>\n",
              "      <td>187.50</td>\n",
              "      <td>18503410.0</td>\n",
              "      <td>187.72</td>\n",
              "      <td>188.00</td>\n",
              "      <td>186.78</td>\n",
              "    </tr>\n",
              "    <tr>\n",
              "      <th>2018-05-29</th>\n",
              "      <td>187.90</td>\n",
              "      <td>22409110.0</td>\n",
              "      <td>187.60</td>\n",
              "      <td>188.75</td>\n",
              "      <td>186.87</td>\n",
              "    </tr>\n",
              "    <tr>\n",
              "      <th>2018-05-25</th>\n",
              "      <td>188.58</td>\n",
              "      <td>17186760.0</td>\n",
              "      <td>188.23</td>\n",
              "      <td>189.65</td>\n",
              "      <td>187.65</td>\n",
              "    </tr>\n",
              "    <tr>\n",
              "      <th>2018-05-24</th>\n",
              "      <td>188.15</td>\n",
              "      <td>23129400.0</td>\n",
              "      <td>188.77</td>\n",
              "      <td>188.84</td>\n",
              "      <td>186.21</td>\n",
              "    </tr>\n",
              "    <tr>\n",
              "      <th>...</th>\n",
              "      <td>...</td>\n",
              "      <td>...</td>\n",
              "      <td>...</td>\n",
              "      <td>...</td>\n",
              "      <td>...</td>\n",
              "    </tr>\n",
              "    <tr>\n",
              "      <th>2018-01-08</th>\n",
              "      <td>174.35</td>\n",
              "      <td>20523870.0</td>\n",
              "      <td>174.35</td>\n",
              "      <td>175.61</td>\n",
              "      <td>173.93</td>\n",
              "    </tr>\n",
              "    <tr>\n",
              "      <th>2018-01-05</th>\n",
              "      <td>175.00</td>\n",
              "      <td>23589930.0</td>\n",
              "      <td>173.44</td>\n",
              "      <td>175.37</td>\n",
              "      <td>173.05</td>\n",
              "    </tr>\n",
              "    <tr>\n",
              "      <th>2018-01-04</th>\n",
              "      <td>173.03</td>\n",
              "      <td>22342650.0</td>\n",
              "      <td>172.54</td>\n",
              "      <td>173.47</td>\n",
              "      <td>172.08</td>\n",
              "    </tr>\n",
              "    <tr>\n",
              "      <th>2018-01-03</th>\n",
              "      <td>172.23</td>\n",
              "      <td>29461040.0</td>\n",
              "      <td>172.53</td>\n",
              "      <td>174.55</td>\n",
              "      <td>171.96</td>\n",
              "    </tr>\n",
              "    <tr>\n",
              "      <th>2018-01-02</th>\n",
              "      <td>172.26</td>\n",
              "      <td>25400540.0</td>\n",
              "      <td>170.16</td>\n",
              "      <td>172.30</td>\n",
              "      <td>169.26</td>\n",
              "    </tr>\n",
              "  </tbody>\n",
              "</table>\n",
              "<p>104 rows × 5 columns</p>\n",
              "</div>"
            ],
            "text/plain": [
              "             Close/Last      Volume    Open    High     Low\n",
              "Date                                                       \n",
              "2018-05-31       186.87  27468700.0  187.22  188.23  186.14\n",
              "2018-05-30       187.50  18503410.0  187.72  188.00  186.78\n",
              "2018-05-29       187.90  22409110.0  187.60  188.75  186.87\n",
              "2018-05-25       188.58  17186760.0  188.23  189.65  187.65\n",
              "2018-05-24       188.15  23129400.0  188.77  188.84  186.21\n",
              "...                 ...         ...     ...     ...     ...\n",
              "2018-01-08       174.35  20523870.0  174.35  175.61  173.93\n",
              "2018-01-05       175.00  23589930.0  173.44  175.37  173.05\n",
              "2018-01-04       173.03  22342650.0  172.54  173.47  172.08\n",
              "2018-01-03       172.23  29461040.0  172.53  174.55  171.96\n",
              "2018-01-02       172.26  25400540.0  170.16  172.30  169.26\n",
              "\n",
              "[104 rows x 5 columns]"
            ]
          },
          "metadata": {
            "tags": []
          },
          "execution_count": 636
        }
      ]
    },
    {
      "cell_type": "code",
      "metadata": {
        "id": "CAd-0dpMP3d-",
        "colab_type": "code",
        "colab": {}
      },
      "source": [
        "apple_1_5_high = apple_1_5.iloc[:,3].values"
      ],
      "execution_count": 0,
      "outputs": []
    },
    {
      "cell_type": "code",
      "metadata": {
        "id": "O8xlSFHcQBmR",
        "colab_type": "code",
        "outputId": "ae46fc24-f444-48c7-f7d8-a2ac084d31de",
        "colab": {
          "base_uri": "https://localhost:8080/",
          "height": 235
        }
      },
      "source": [
        "apple_1_5_high"
      ],
      "execution_count": 638,
      "outputs": [
        {
          "output_type": "execute_result",
          "data": {
            "text/plain": [
              "array([188.23, 188.  , 188.75, 189.65, 188.84, 188.5 , 188.88, 189.27,\n",
              "       187.81, 188.91, 188.46, 187.07, 189.53, 190.06, 190.37, 187.4 ,\n",
              "       186.22, 187.67, 184.25, 177.5 , 177.75, 169.2 , 167.26, 164.33,\n",
              "       165.73, 165.42, 166.33, 166.92, 171.22, 175.39, 178.82, 178.94,\n",
              "       176.19, 175.84, 175.  , 173.92, 174.  , 173.09, 172.48, 174.23,\n",
              "       172.01, 168.75, 168.94, 171.75, 170.02, 175.15, 173.1 , 169.92,\n",
              "       172.68, 175.09, 176.8 , 177.47, 179.12, 180.24, 180.52, 183.5 ,\n",
              "       182.39, 180.  , 177.12, 175.85, 178.25, 177.74, 176.3 , 179.78,\n",
              "       180.62, 180.48, 179.39, 175.65, 173.95, 174.12, 174.26, 174.82,\n",
              "       173.09, 167.54, 164.75, 163.89, 157.89, 161.  , 163.4 , 163.72,\n",
              "       163.88, 166.8 , 168.62, 168.44, 167.37, 170.16, 172.  , 174.95,\n",
              "       177.3 , 179.44, 177.78, 179.58, 180.1 , 179.25, 179.39, 177.36,\n",
              "       175.49, 174.3 , 175.06, 175.61, 175.37, 173.47, 174.55, 172.3 ])"
            ]
          },
          "metadata": {
            "tags": []
          },
          "execution_count": 638
        }
      ]
    },
    {
      "cell_type": "code",
      "metadata": {
        "id": "i24OfdedQKZ_",
        "colab_type": "code",
        "outputId": "25c140fd-9c6a-41e4-9cba-9f6f1a26bc7b",
        "colab": {
          "base_uri": "https://localhost:8080/",
          "height": 34
        }
      },
      "source": [
        "apple_1_5_high = apple_1_5_high.reshape(-1,1)\n",
        "apple_1_5_high.shape"
      ],
      "execution_count": 639,
      "outputs": [
        {
          "output_type": "execute_result",
          "data": {
            "text/plain": [
              "(104, 1)"
            ]
          },
          "metadata": {
            "tags": []
          },
          "execution_count": 639
        }
      ]
    },
    {
      "cell_type": "code",
      "metadata": {
        "id": "QKAZnGCoTQqC",
        "colab_type": "code",
        "colab": {}
      },
      "source": [
        "apple_1_5_x,apple_1_5_y = preprossing_data_rnns(np.array(apple_1_5_high))"
      ],
      "execution_count": 0,
      "outputs": []
    },
    {
      "cell_type": "markdown",
      "metadata": {
        "id": "O5AbUIOvVHS4",
        "colab_type": "text"
      },
      "source": [
        "predict using LSTM"
      ]
    },
    {
      "cell_type": "code",
      "metadata": {
        "id": "7ebZNeXLVGau",
        "colab_type": "code",
        "outputId": "6ce548d9-245b-45bb-cad1-75292b17ddd3",
        "colab": {
          "base_uri": "https://localhost:8080/",
          "height": 325
        }
      },
      "source": [
        "apple_1_5_pred= predic_using_LSTM(apple_1_5_x)\n",
        "plot_predictions(apple_1_5_y,apple_1_5_pred)"
      ],
      "execution_count": 641,
      "outputs": [
        {
          "output_type": "display_data",
          "data": {
            "image/png": "[encoded data removed]",
            "text/plain": [
              "<Figure size 432x288 with 1 Axes>"
            ]
          },
          "metadata": {
            "tags": []
          }
        }
      ]
    },
    {
      "cell_type": "code",
      "metadata": {
        "id": "dVxyrapwXcXe",
        "colab_type": "code",
        "outputId": "03825802-c728-4166-cafc-a1f1444ed05e",
        "colab": {
          "base_uri": "https://localhost:8080/",
          "height": 34
        }
      },
      "source": [
        "rmse_lstm_1_5_2018=return_rmse(apple_1_5_y,apple_1_5_pred)\n",
        "print(\"RMSE = {}\".format(rmse_lstm_1_5_2018))"
      ],
      "execution_count": 642,
      "outputs": [
        {
          "output_type": "stream",
          "text": [
            "RMSE = 21.574477080286737\n"
          ],
          "name": "stdout"
        }
      ]
    },
    {
      "cell_type": "markdown",
      "metadata": {
        "id": "8NyJSOZnVLCC",
        "colab_type": "text"
      },
      "source": [
        "predict using gru"
      ]
    },
    {
      "cell_type": "code",
      "metadata": {
        "id": "IpvIRRv_VQpz",
        "colab_type": "code",
        "outputId": "57e659cd-cf2c-45ca-fc7b-e7092b3335d8",
        "colab": {
          "base_uri": "https://localhost:8080/",
          "height": 325
        }
      },
      "source": [
        "apple_1_5_pred= predic_using_gru(apple_1_5_x)\n",
        "plot_predictions(apple_1_5_y,apple_1_5_pred)"
      ],
      "execution_count": 643,
      "outputs": [
        {
          "output_type": "display_data",
          "data": {
            "image/png": "[encoded data removed]",
            "text/plain": [
              "<Figure size 432x288 with 1 Axes>"
            ]
          },
          "metadata": {
            "tags": []
          }
        }
      ]
    },
    {
      "cell_type": "code",
      "metadata": {
        "id": "FZpzRugrXlTb",
        "colab_type": "code",
        "outputId": "cb34a43e-19bd-4f65-a1b5-eb12c9db20fc",
        "colab": {
          "base_uri": "https://localhost:8080/",
          "height": 34
        }
      },
      "source": [
        "rmse_gru_1_5_2018=return_rmse(apple_1_5_y,apple_1_5_pred)\n",
        "print(\"RMSE = {}\".format(rmse_gru_1_5_2018))"
      ],
      "execution_count": 644,
      "outputs": [
        {
          "output_type": "stream",
          "text": [
            "RMSE = 23.47486074139645\n"
          ],
          "name": "stdout"
        }
      ]
    },
    {
      "cell_type": "markdown",
      "metadata": {
        "id": "5VwjEhx8Qj0L",
        "colab_type": "text"
      },
      "source": [
        "##Get the next ten months after 2018-1-1"
      ]
    },
    {
      "cell_type": "code",
      "metadata": {
        "id": "QicnbPl5SddL",
        "colab_type": "code",
        "outputId": "5a6e326f-79a3-4e4a-a63a-bfb052b6688d",
        "colab": {
          "base_uri": "https://localhost:8080/",
          "height": 431
        }
      },
      "source": [
        "apple_1_11=get_period_of_data(data_2,2018,1,1,2018,11,1)\n",
        "apple_1_11"
      ],
      "execution_count": 645,
      "outputs": [
        {
          "output_type": "execute_result",
          "data": {
            "text/html": [
              "<div>\n",
              "<style scoped>\n",
              "    .dataframe tbody tr th:only-of-type {\n",
              "        vertical-align: middle;\n",
              "    }\n",
              "\n",
              "    .dataframe tbody tr th {\n",
              "        vertical-align: top;\n",
              "    }\n",
              "\n",
              "    .dataframe thead th {\n",
              "        text-align: right;\n",
              "    }\n",
              "</style>\n",
              "<table border=\"1\" class=\"dataframe\">\n",
              "  <thead>\n",
              "    <tr style=\"text-align: right;\">\n",
              "      <th></th>\n",
              "      <th>Close/Last</th>\n",
              "      <th>Volume</th>\n",
              "      <th>Open</th>\n",
              "      <th>High</th>\n",
              "      <th>Low</th>\n",
              "    </tr>\n",
              "    <tr>\n",
              "      <th>Date</th>\n",
              "      <th></th>\n",
              "      <th></th>\n",
              "      <th></th>\n",
              "      <th></th>\n",
              "      <th></th>\n",
              "    </tr>\n",
              "  </thead>\n",
              "  <tbody>\n",
              "    <tr>\n",
              "      <th>2018-10-31</th>\n",
              "      <td>218.86</td>\n",
              "      <td>38016810.0</td>\n",
              "      <td>216.88</td>\n",
              "      <td>220.45</td>\n",
              "      <td>216.62</td>\n",
              "    </tr>\n",
              "    <tr>\n",
              "      <th>2018-10-30</th>\n",
              "      <td>213.30</td>\n",
              "      <td>36487930.0</td>\n",
              "      <td>211.15</td>\n",
              "      <td>215.18</td>\n",
              "      <td>209.27</td>\n",
              "    </tr>\n",
              "    <tr>\n",
              "      <th>2018-10-29</th>\n",
              "      <td>212.24</td>\n",
              "      <td>45713690.0</td>\n",
              "      <td>219.19</td>\n",
              "      <td>219.69</td>\n",
              "      <td>206.09</td>\n",
              "    </tr>\n",
              "    <tr>\n",
              "      <th>2018-10-26</th>\n",
              "      <td>216.30</td>\n",
              "      <td>47191700.0</td>\n",
              "      <td>215.90</td>\n",
              "      <td>220.19</td>\n",
              "      <td>212.67</td>\n",
              "    </tr>\n",
              "    <tr>\n",
              "      <th>2018-10-25</th>\n",
              "      <td>219.80</td>\n",
              "      <td>29027340.0</td>\n",
              "      <td>217.71</td>\n",
              "      <td>221.38</td>\n",
              "      <td>216.75</td>\n",
              "    </tr>\n",
              "    <tr>\n",
              "      <th>...</th>\n",
              "      <td>...</td>\n",
              "      <td>...</td>\n",
              "      <td>...</td>\n",
              "      <td>...</td>\n",
              "      <td>...</td>\n",
              "    </tr>\n",
              "    <tr>\n",
              "      <th>2018-01-08</th>\n",
              "      <td>174.35</td>\n",
              "      <td>20523870.0</td>\n",
              "      <td>174.35</td>\n",
              "      <td>175.61</td>\n",
              "      <td>173.93</td>\n",
              "    </tr>\n",
              "    <tr>\n",
              "      <th>2018-01-05</th>\n",
              "      <td>175.00</td>\n",
              "      <td>23589930.0</td>\n",
              "      <td>173.44</td>\n",
              "      <td>175.37</td>\n",
              "      <td>173.05</td>\n",
              "    </tr>\n",
              "    <tr>\n",
              "      <th>2018-01-04</th>\n",
              "      <td>173.03</td>\n",
              "      <td>22342650.0</td>\n",
              "      <td>172.54</td>\n",
              "      <td>173.47</td>\n",
              "      <td>172.08</td>\n",
              "    </tr>\n",
              "    <tr>\n",
              "      <th>2018-01-03</th>\n",
              "      <td>172.23</td>\n",
              "      <td>29461040.0</td>\n",
              "      <td>172.53</td>\n",
              "      <td>174.55</td>\n",
              "      <td>171.96</td>\n",
              "    </tr>\n",
              "    <tr>\n",
              "      <th>2018-01-02</th>\n",
              "      <td>172.26</td>\n",
              "      <td>25400540.0</td>\n",
              "      <td>170.16</td>\n",
              "      <td>172.30</td>\n",
              "      <td>169.26</td>\n",
              "    </tr>\n",
              "  </tbody>\n",
              "</table>\n",
              "<p>211 rows × 5 columns</p>\n",
              "</div>"
            ],
            "text/plain": [
              "             Close/Last      Volume    Open    High     Low\n",
              "Date                                                       \n",
              "2018-10-31       218.86  38016810.0  216.88  220.45  216.62\n",
              "2018-10-30       213.30  36487930.0  211.15  215.18  209.27\n",
              "2018-10-29       212.24  45713690.0  219.19  219.69  206.09\n",
              "2018-10-26       216.30  47191700.0  215.90  220.19  212.67\n",
              "2018-10-25       219.80  29027340.0  217.71  221.38  216.75\n",
              "...                 ...         ...     ...     ...     ...\n",
              "2018-01-08       174.35  20523870.0  174.35  175.61  173.93\n",
              "2018-01-05       175.00  23589930.0  173.44  175.37  173.05\n",
              "2018-01-04       173.03  22342650.0  172.54  173.47  172.08\n",
              "2018-01-03       172.23  29461040.0  172.53  174.55  171.96\n",
              "2018-01-02       172.26  25400540.0  170.16  172.30  169.26\n",
              "\n",
              "[211 rows x 5 columns]"
            ]
          },
          "metadata": {
            "tags": []
          },
          "execution_count": 645
        }
      ]
    },
    {
      "cell_type": "code",
      "metadata": {
        "id": "Ysa1owNBWK2P",
        "colab_type": "code",
        "outputId": "62b7e5e6-95f4-4592-876f-ea31f6f70fcc",
        "colab": {
          "base_uri": "https://localhost:8080/",
          "height": 34
        }
      },
      "source": [
        "apple_1_11_high = apple_1_11.iloc[:,3].values\n",
        "apple_1_11_high.shape"
      ],
      "execution_count": 646,
      "outputs": [
        {
          "output_type": "execute_result",
          "data": {
            "text/plain": [
              "(211,)"
            ]
          },
          "metadata": {
            "tags": []
          },
          "execution_count": 646
        }
      ]
    },
    {
      "cell_type": "code",
      "metadata": {
        "id": "fZWtg-cgV-GX",
        "colab_type": "code",
        "outputId": "b53a3c46-7ff7-44bd-8280-198d044eba6e",
        "colab": {
          "base_uri": "https://localhost:8080/",
          "height": 34
        }
      },
      "source": [
        "apple_1_11_high = apple_1_11_high.reshape(-1,1)\n",
        "apple_1_11_high.shape"
      ],
      "execution_count": 647,
      "outputs": [
        {
          "output_type": "execute_result",
          "data": {
            "text/plain": [
              "(211, 1)"
            ]
          },
          "metadata": {
            "tags": []
          },
          "execution_count": 647
        }
      ]
    },
    {
      "cell_type": "code",
      "metadata": {
        "id": "qzOo2BDiVzfo",
        "colab_type": "code",
        "colab": {}
      },
      "source": [
        "apple_1_11_x,apple_1_11_y = preprossing_data_rnns(np.array(apple_1_11_high))"
      ],
      "execution_count": 0,
      "outputs": []
    },
    {
      "cell_type": "markdown",
      "metadata": {
        "id": "hAhlsusaWfy_",
        "colab_type": "text"
      },
      "source": [
        "predict using LSTM"
      ]
    },
    {
      "cell_type": "code",
      "metadata": {
        "id": "gmSHOSpkWe5x",
        "colab_type": "code",
        "outputId": "2bf29a9c-bcb5-4058-af18-836888e937c9",
        "colab": {
          "base_uri": "https://localhost:8080/",
          "height": 325
        }
      },
      "source": [
        "apple_1_11_pred= predic_using_LSTM(apple_1_11_x)\n",
        "plot_predictions(apple_1_11_y,apple_1_11_pred)"
      ],
      "execution_count": 649,
      "outputs": [
        {
          "output_type": "display_data",
          "data": {
            "image/png": "[encoded data removed]",
            "text/plain": [
              "<Figure size 432x288 with 1 Axes>"
            ]
          },
          "metadata": {
            "tags": []
          }
        }
      ]
    },
    {
      "cell_type": "code",
      "metadata": {
        "id": "ps2IGXEZXnfW",
        "colab_type": "code",
        "outputId": "5f7fe6cc-12e1-4411-bd54-959de8b8b053",
        "colab": {
          "base_uri": "https://localhost:8080/",
          "height": 34
        }
      },
      "source": [
        "rmse_lstm_1_11_2018=return_rmse(apple_1_11_y,apple_1_11_pred)\n",
        "print(\"RMSE = {}\".format(rmse_lstm_1_11_2018))"
      ],
      "execution_count": 650,
      "outputs": [
        {
          "output_type": "stream",
          "text": [
            "RMSE = 27.240204354660204\n"
          ],
          "name": "stdout"
        }
      ]
    },
    {
      "cell_type": "markdown",
      "metadata": {
        "id": "TM8337QFWu8r",
        "colab_type": "text"
      },
      "source": [
        "predict using GRU"
      ]
    },
    {
      "cell_type": "code",
      "metadata": {
        "id": "EaoDpCmNWt5K",
        "colab_type": "code",
        "outputId": "7331ad37-9e28-49f0-b810-9cff90ea28fe",
        "colab": {
          "base_uri": "https://localhost:8080/",
          "height": 325
        }
      },
      "source": [
        "apple_1_11_pred= predic_using_gru(apple_1_11_x)\n",
        "plot_predictions(apple_1_11_y,apple_1_11_pred)"
      ],
      "execution_count": 651,
      "outputs": [
        {
          "output_type": "display_data",
          "data": {
            "image/png": "[encoded data removed]",
            "text/plain": [
              "<Figure size 432x288 with 1 Axes>"
            ]
          },
          "metadata": {
            "tags": []
          }
        }
      ]
    },
    {
      "cell_type": "code",
      "metadata": {
        "id": "QjE8xzkRW9Ay",
        "colab_type": "code",
        "outputId": "0858d18f-14cd-4fb4-b91e-fc1fcd68ea48",
        "colab": {
          "base_uri": "https://localhost:8080/",
          "height": 34
        }
      },
      "source": [
        "rmse_gru_1_11_2018=return_rmse(apple_1_11_y,apple_1_11_pred)\n",
        "print(\"RMSE = {}\".format(rmse_gru_1_11_2018))"
      ],
      "execution_count": 652,
      "outputs": [
        {
          "output_type": "stream",
          "text": [
            "RMSE = 30.969655795355667\n"
          ],
          "name": "stdout"
        }
      ]
    },
    {
      "cell_type": "markdown",
      "metadata": {
        "id": "JSnY-DhcdrYN",
        "colab_type": "text"
      },
      "source": [
        "#Comparing RMSE results"
      ]
    },
    {
      "cell_type": "markdown",
      "metadata": {
        "id": "4_9QngkBdy31",
        "colab_type": "text"
      },
      "source": [
        "In this section the RMSE results will be compared with all periods for LSTM and GRU\n",
        "1. data of 2017\n",
        "2. 2020-4-3 to 2020-5-1\n",
        "3. The next five monthes after 2018-1-1\n",
        "4. The next ten monthes after 2018-1-1"
      ]
    },
    {
      "cell_type": "code",
      "metadata": {
        "id": "-MYF_TodjNkH",
        "colab_type": "code",
        "colab": {
          "base_uri": "https://localhost:8080/",
          "height": 151
        },
        "outputId": "502949a3-e310-4f82-f724-bf181ea04e19"
      },
      "source": [
        "#This list to be used for adding the text with the value for each corresponding bar\n",
        "rmse_values = [rmse_lstm_2017,rmse_gru_2017,rmse_lstm_4_5_2020,rmse_gru_4_5_2020,rmse_lstm_1_5_2018,rmse_gru_1_5_2018,rmse_lstm_1_11_2018,rmse_gru_1_11_2018]\n",
        "rmse_values"
      ],
      "execution_count": 653,
      "outputs": [
        {
          "output_type": "execute_result",
          "data": {
            "text/plain": [
              "[15.506087084067028,\n",
              " 15.855623898728137,\n",
              " 52.84519784188001,\n",
              " 63.93807250473689,\n",
              " 21.574477080286737,\n",
              " 23.47486074139645,\n",
              " 27.240204354660204,\n",
              " 30.969655795355667]"
            ]
          },
          "metadata": {
            "tags": []
          },
          "execution_count": 653
        }
      ]
    },
    {
      "cell_type": "markdown",
      "metadata": {
        "id": "am3RHAMMmExl",
        "colab_type": "text"
      },
      "source": [
        "Now, the chart will be drawn"
      ]
    },
    {
      "cell_type": "code",
      "metadata": {
        "id": "VrxXGY09dqSO",
        "colab_type": "code",
        "colab": {
          "base_uri": "https://localhost:8080/",
          "height": 578
        },
        "outputId": "4743c68f-b131-45f6-926f-a3ab2f8f5b42"
      },
      "source": [
        "plt.figure(figsize=(10,5))\n",
        "plt.bar('2017-LSTM', rmse_lstm_2017,color='blue')\n",
        "plt.bar('2017-GRU', rmse_gru_2017,color='green' )\n",
        "\n",
        "plt.bar('4/3/202-5/1/2020-LSTM', rmse_lstm_4_5_2020,color='blue')\n",
        "plt.bar('4/3/202-5/1/2020-GRU', rmse_gru_4_5_2020,color='green')\n",
        "\n",
        "plt.bar('5 monthes after 1/1/2018-LSTM', rmse_lstm_1_5_2018,color='blue')\n",
        "plt.bar('5 monthes after 1/1/2018-GRU', rmse_gru_1_5_2018,color='green')\n",
        "\n",
        "plt.bar('10 monthes after 1/1/2018-LSTM', rmse_lstm_1_11_2018,color='blue')\n",
        "plt.bar('10 monthes after 1/1/2018-GRU', rmse_gru_1_11_2018,color='green')\n",
        "\n",
        "plt.xticks(rotation=90)\n",
        "plt.title(\"RMSE of LSTM and GRU for All Periods\")\n",
        "plt.legend(['LSTM','GRU'])\n",
        "\n",
        "x_postion = -0.3\n",
        "for float in rmse_values:\n",
        "  plt.text(x_postion,float-5,'{:.2f}'.format(float), color='white', weight='bold')\n",
        "  x_postion = x_postion + 1"
      ],
      "execution_count": 654,
      "outputs": [
        {
          "output_type": "display_data",
          "data": {
            "image/png": "[encoded data removed]",
            "text/plain": [
              "<Figure size 720x360 with 1 Axes>"
            ]
          },
          "metadata": {
            "tags": []
          }
        }
      ]
    },
    {
      "cell_type": "markdown",
      "metadata": {
        "id": "WAFLSGISmLoF",
        "colab_type": "text"
      },
      "source": [
        "From the above, the chart shows that LSTM has less RMSE value than GRU for all periods"
      ]
    },
    {
      "cell_type": "markdown",
      "metadata": {
        "id": "F5kFDB6SLRNx",
        "colab_type": "text"
      },
      "source": [
        "#Refrences"
      ]
    },
    {
      "cell_type": "markdown",
      "metadata": {
        "id": "9z7J4BfILVFO",
        "colab_type": "text"
      },
      "source": [
        "- https://www.kaggle.com/dpamgautam/stock-price-prediction-lstm-gru-rnn/notebook\n",
        "\n",
        "- http://queirozf.com/entries/pandas-dataframe-examples-manipulating-date-and-time\n",
        "\n",
        "- https://www.nasdaq.com/market-activity/stocks/aapl/historical\n",
        "\n",
        "\n"
      ]
    }
  ]
}